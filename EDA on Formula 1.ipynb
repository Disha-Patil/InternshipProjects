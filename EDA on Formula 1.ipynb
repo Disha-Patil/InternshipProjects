{
 "cells": [
  {
   "cell_type": "code",
   "execution_count": 2,
   "id": "65a02d12",
   "metadata": {},
   "outputs": [],
   "source": [
    "import pandas as pd\n",
    "import numpy as np\n",
    "import seaborn as sns"
   ]
  },
  {
   "cell_type": "code",
   "execution_count": 4,
   "id": "3d859d5a",
   "metadata": {},
   "outputs": [],
   "source": [
    "df =pd.read_csv(\"circuits.csv\")"
   ]
  },
  {
   "cell_type": "code",
   "execution_count": 5,
   "id": "2b731748",
   "metadata": {},
   "outputs": [
    {
     "data": {
      "text/html": [
       "<div>\n",
       "<style scoped>\n",
       "    .dataframe tbody tr th:only-of-type {\n",
       "        vertical-align: middle;\n",
       "    }\n",
       "\n",
       "    .dataframe tbody tr th {\n",
       "        vertical-align: top;\n",
       "    }\n",
       "\n",
       "    .dataframe thead th {\n",
       "        text-align: right;\n",
       "    }\n",
       "</style>\n",
       "<table border=\"1\" class=\"dataframe\">\n",
       "  <thead>\n",
       "    <tr style=\"text-align: right;\">\n",
       "      <th></th>\n",
       "      <th>circuit_reference</th>\n",
       "      <th>circuit_name</th>\n",
       "      <th>circuit_location</th>\n",
       "      <th>circuit_country</th>\n",
       "      <th>circuit_lat</th>\n",
       "      <th>circuit_lng</th>\n",
       "      <th>circuit_alt</th>\n",
       "      <th>circuit_url</th>\n",
       "      <th>raceId</th>\n",
       "      <th>year</th>\n",
       "      <th>race_round</th>\n",
       "      <th>race_name</th>\n",
       "      <th>race_date</th>\n",
       "      <th>race_time</th>\n",
       "      <th>race_url</th>\n",
       "      <th>season_url</th>\n",
       "    </tr>\n",
       "  </thead>\n",
       "  <tbody>\n",
       "    <tr>\n",
       "      <th>0</th>\n",
       "      <td>albert_park</td>\n",
       "      <td>Albert Park Grand Prix Circuit</td>\n",
       "      <td>Melbourne</td>\n",
       "      <td>Australia</td>\n",
       "      <td>-37.8497</td>\n",
       "      <td>144.968</td>\n",
       "      <td>10</td>\n",
       "      <td>http://en.wikipedia.org/wiki/Melbourne_Grand_P...</td>\n",
       "      <td>1</td>\n",
       "      <td>2009</td>\n",
       "      <td>1</td>\n",
       "      <td>Australian Grand Prix</td>\n",
       "      <td>2009-03-29</td>\n",
       "      <td>06:00:00</td>\n",
       "      <td>http://en.wikipedia.org/wiki/2009_Australian_G...</td>\n",
       "      <td>http://en.wikipedia.org/wiki/2009_Formula_One_...</td>\n",
       "    </tr>\n",
       "    <tr>\n",
       "      <th>1</th>\n",
       "      <td>albert_park</td>\n",
       "      <td>Albert Park Grand Prix Circuit</td>\n",
       "      <td>Melbourne</td>\n",
       "      <td>Australia</td>\n",
       "      <td>-37.8497</td>\n",
       "      <td>144.968</td>\n",
       "      <td>10</td>\n",
       "      <td>http://en.wikipedia.org/wiki/Melbourne_Grand_P...</td>\n",
       "      <td>18</td>\n",
       "      <td>2008</td>\n",
       "      <td>1</td>\n",
       "      <td>Australian Grand Prix</td>\n",
       "      <td>2008-03-16</td>\n",
       "      <td>04:30:00</td>\n",
       "      <td>http://en.wikipedia.org/wiki/2008_Australian_G...</td>\n",
       "      <td>http://en.wikipedia.org/wiki/2008_Formula_One_...</td>\n",
       "    </tr>\n",
       "    <tr>\n",
       "      <th>2</th>\n",
       "      <td>albert_park</td>\n",
       "      <td>Albert Park Grand Prix Circuit</td>\n",
       "      <td>Melbourne</td>\n",
       "      <td>Australia</td>\n",
       "      <td>-37.8497</td>\n",
       "      <td>144.968</td>\n",
       "      <td>10</td>\n",
       "      <td>http://en.wikipedia.org/wiki/Melbourne_Grand_P...</td>\n",
       "      <td>36</td>\n",
       "      <td>2007</td>\n",
       "      <td>1</td>\n",
       "      <td>Australian Grand Prix</td>\n",
       "      <td>2007-03-18</td>\n",
       "      <td>03:00:00</td>\n",
       "      <td>http://en.wikipedia.org/wiki/2007_Australian_G...</td>\n",
       "      <td>http://en.wikipedia.org/wiki/2007_Formula_One_...</td>\n",
       "    </tr>\n",
       "    <tr>\n",
       "      <th>3</th>\n",
       "      <td>albert_park</td>\n",
       "      <td>Albert Park Grand Prix Circuit</td>\n",
       "      <td>Melbourne</td>\n",
       "      <td>Australia</td>\n",
       "      <td>-37.8497</td>\n",
       "      <td>144.968</td>\n",
       "      <td>10</td>\n",
       "      <td>http://en.wikipedia.org/wiki/Melbourne_Grand_P...</td>\n",
       "      <td>55</td>\n",
       "      <td>2006</td>\n",
       "      <td>3</td>\n",
       "      <td>Australian Grand Prix</td>\n",
       "      <td>2006-04-02</td>\n",
       "      <td>14:00:00</td>\n",
       "      <td>http://en.wikipedia.org/wiki/2006_Australian_G...</td>\n",
       "      <td>http://en.wikipedia.org/wiki/2006_Formula_One_...</td>\n",
       "    </tr>\n",
       "    <tr>\n",
       "      <th>4</th>\n",
       "      <td>albert_park</td>\n",
       "      <td>Albert Park Grand Prix Circuit</td>\n",
       "      <td>Melbourne</td>\n",
       "      <td>Australia</td>\n",
       "      <td>-37.8497</td>\n",
       "      <td>144.968</td>\n",
       "      <td>10</td>\n",
       "      <td>http://en.wikipedia.org/wiki/Melbourne_Grand_P...</td>\n",
       "      <td>71</td>\n",
       "      <td>2005</td>\n",
       "      <td>1</td>\n",
       "      <td>Australian Grand Prix</td>\n",
       "      <td>2005-03-06</td>\n",
       "      <td>14:00:00</td>\n",
       "      <td>http://en.wikipedia.org/wiki/2005_Australian_G...</td>\n",
       "      <td>http://en.wikipedia.org/wiki/2005_Formula_One_...</td>\n",
       "    </tr>\n",
       "  </tbody>\n",
       "</table>\n",
       "</div>"
      ],
      "text/plain": [
       "  circuit_reference                    circuit_name circuit_location  \\\n",
       "0       albert_park  Albert Park Grand Prix Circuit        Melbourne   \n",
       "1       albert_park  Albert Park Grand Prix Circuit        Melbourne   \n",
       "2       albert_park  Albert Park Grand Prix Circuit        Melbourne   \n",
       "3       albert_park  Albert Park Grand Prix Circuit        Melbourne   \n",
       "4       albert_park  Albert Park Grand Prix Circuit        Melbourne   \n",
       "\n",
       "  circuit_country  circuit_lat  circuit_lng circuit_alt  \\\n",
       "0       Australia     -37.8497      144.968          10   \n",
       "1       Australia     -37.8497      144.968          10   \n",
       "2       Australia     -37.8497      144.968          10   \n",
       "3       Australia     -37.8497      144.968          10   \n",
       "4       Australia     -37.8497      144.968          10   \n",
       "\n",
       "                                         circuit_url  raceId  year  \\\n",
       "0  http://en.wikipedia.org/wiki/Melbourne_Grand_P...       1  2009   \n",
       "1  http://en.wikipedia.org/wiki/Melbourne_Grand_P...      18  2008   \n",
       "2  http://en.wikipedia.org/wiki/Melbourne_Grand_P...      36  2007   \n",
       "3  http://en.wikipedia.org/wiki/Melbourne_Grand_P...      55  2006   \n",
       "4  http://en.wikipedia.org/wiki/Melbourne_Grand_P...      71  2005   \n",
       "\n",
       "   race_round              race_name   race_date race_time  \\\n",
       "0           1  Australian Grand Prix  2009-03-29  06:00:00   \n",
       "1           1  Australian Grand Prix  2008-03-16  04:30:00   \n",
       "2           1  Australian Grand Prix  2007-03-18  03:00:00   \n",
       "3           3  Australian Grand Prix  2006-04-02  14:00:00   \n",
       "4           1  Australian Grand Prix  2005-03-06  14:00:00   \n",
       "\n",
       "                                            race_url  \\\n",
       "0  http://en.wikipedia.org/wiki/2009_Australian_G...   \n",
       "1  http://en.wikipedia.org/wiki/2008_Australian_G...   \n",
       "2  http://en.wikipedia.org/wiki/2007_Australian_G...   \n",
       "3  http://en.wikipedia.org/wiki/2006_Australian_G...   \n",
       "4  http://en.wikipedia.org/wiki/2005_Australian_G...   \n",
       "\n",
       "                                          season_url  \n",
       "0  http://en.wikipedia.org/wiki/2009_Formula_One_...  \n",
       "1  http://en.wikipedia.org/wiki/2008_Formula_One_...  \n",
       "2  http://en.wikipedia.org/wiki/2007_Formula_One_...  \n",
       "3  http://en.wikipedia.org/wiki/2006_Formula_One_...  \n",
       "4  http://en.wikipedia.org/wiki/2005_Formula_One_...  "
      ]
     },
     "execution_count": 5,
     "metadata": {},
     "output_type": "execute_result"
    }
   ],
   "source": [
    "df.head()"
   ]
  },
  {
   "cell_type": "code",
   "execution_count": 6,
   "id": "05a051c4",
   "metadata": {},
   "outputs": [
    {
     "name": "stdout",
     "output_type": "stream",
     "text": [
      "<class 'pandas.core.frame.DataFrame'>\n",
      "RangeIndex: 1079 entries, 0 to 1078\n",
      "Data columns (total 16 columns):\n",
      " #   Column             Non-Null Count  Dtype  \n",
      "---  ------             --------------  -----  \n",
      " 0   circuit_reference  1079 non-null   object \n",
      " 1   circuit_name       1079 non-null   object \n",
      " 2   circuit_location   1079 non-null   object \n",
      " 3   circuit_country    1079 non-null   object \n",
      " 4   circuit_lat        1079 non-null   float64\n",
      " 5   circuit_lng        1079 non-null   float64\n",
      " 6   circuit_alt        1079 non-null   object \n",
      " 7   circuit_url        1079 non-null   object \n",
      " 8   raceId             1079 non-null   int64  \n",
      " 9   year               1079 non-null   int64  \n",
      " 10  race_round         1079 non-null   int64  \n",
      " 11  race_name          1079 non-null   object \n",
      " 12  race_date          1079 non-null   object \n",
      " 13  race_time          1079 non-null   object \n",
      " 14  race_url           1079 non-null   object \n",
      " 15  season_url         1079 non-null   object \n",
      "dtypes: float64(2), int64(3), object(11)\n",
      "memory usage: 135.0+ KB\n"
     ]
    },
    {
     "data": {
      "text/html": [
       "<div>\n",
       "<style scoped>\n",
       "    .dataframe tbody tr th:only-of-type {\n",
       "        vertical-align: middle;\n",
       "    }\n",
       "\n",
       "    .dataframe tbody tr th {\n",
       "        vertical-align: top;\n",
       "    }\n",
       "\n",
       "    .dataframe thead th {\n",
       "        text-align: right;\n",
       "    }\n",
       "</style>\n",
       "<table border=\"1\" class=\"dataframe\">\n",
       "  <thead>\n",
       "    <tr style=\"text-align: right;\">\n",
       "      <th></th>\n",
       "      <th>circuit_lat</th>\n",
       "      <th>circuit_lng</th>\n",
       "      <th>raceId</th>\n",
       "      <th>year</th>\n",
       "      <th>race_round</th>\n",
       "    </tr>\n",
       "  </thead>\n",
       "  <tbody>\n",
       "    <tr>\n",
       "      <th>count</th>\n",
       "      <td>1079.000000</td>\n",
       "      <td>1079.000000</td>\n",
       "      <td>1079.000000</td>\n",
       "      <td>1079.000000</td>\n",
       "      <td>1079.000000</td>\n",
       "    </tr>\n",
       "    <tr>\n",
       "      <th>mean</th>\n",
       "      <td>33.842768</td>\n",
       "      <td>7.191151</td>\n",
       "      <td>542.020389</td>\n",
       "      <td>1991.389249</td>\n",
       "      <td>8.432808</td>\n",
       "    </tr>\n",
       "    <tr>\n",
       "      <th>std</th>\n",
       "      <td>25.459793</td>\n",
       "      <td>57.215152</td>\n",
       "      <td>314.621154</td>\n",
       "      <td>20.009147</td>\n",
       "      <td>5.033365</td>\n",
       "    </tr>\n",
       "    <tr>\n",
       "      <th>min</th>\n",
       "      <td>-37.849700</td>\n",
       "      <td>-118.189000</td>\n",
       "      <td>1.000000</td>\n",
       "      <td>1950.000000</td>\n",
       "      <td>1.000000</td>\n",
       "    </tr>\n",
       "    <tr>\n",
       "      <th>25%</th>\n",
       "      <td>34.843100</td>\n",
       "      <td>-1.016940</td>\n",
       "      <td>270.500000</td>\n",
       "      <td>1976.000000</td>\n",
       "      <td>4.000000</td>\n",
       "    </tr>\n",
       "    <tr>\n",
       "      <th>50%</th>\n",
       "      <td>43.734700</td>\n",
       "      <td>6.947500</td>\n",
       "      <td>540.000000</td>\n",
       "      <td>1993.000000</td>\n",
       "      <td>8.000000</td>\n",
       "    </tr>\n",
       "    <tr>\n",
       "      <th>75%</th>\n",
       "      <td>49.254200</td>\n",
       "      <td>14.764700</td>\n",
       "      <td>809.500000</td>\n",
       "      <td>2009.000000</td>\n",
       "      <td>12.000000</td>\n",
       "    </tr>\n",
       "    <tr>\n",
       "      <th>max</th>\n",
       "      <td>57.265300</td>\n",
       "      <td>144.968000</td>\n",
       "      <td>1096.000000</td>\n",
       "      <td>2022.000000</td>\n",
       "      <td>22.000000</td>\n",
       "    </tr>\n",
       "  </tbody>\n",
       "</table>\n",
       "</div>"
      ],
      "text/plain": [
       "       circuit_lat  circuit_lng       raceId         year   race_round\n",
       "count  1079.000000  1079.000000  1079.000000  1079.000000  1079.000000\n",
       "mean     33.842768     7.191151   542.020389  1991.389249     8.432808\n",
       "std      25.459793    57.215152   314.621154    20.009147     5.033365\n",
       "min     -37.849700  -118.189000     1.000000  1950.000000     1.000000\n",
       "25%      34.843100    -1.016940   270.500000  1976.000000     4.000000\n",
       "50%      43.734700     6.947500   540.000000  1993.000000     8.000000\n",
       "75%      49.254200    14.764700   809.500000  2009.000000    12.000000\n",
       "max      57.265300   144.968000  1096.000000  2022.000000    22.000000"
      ]
     },
     "execution_count": 6,
     "metadata": {},
     "output_type": "execute_result"
    }
   ],
   "source": [
    "df.info()\n",
    "df.describe()"
   ]
  },
  {
   "cell_type": "code",
   "execution_count": 9,
   "id": "a04e8027",
   "metadata": {},
   "outputs": [
    {
     "data": {
      "text/plain": [
       "0"
      ]
     },
     "execution_count": 9,
     "metadata": {},
     "output_type": "execute_result"
    }
   ],
   "source": [
    "df.duplicated().sum()"
   ]
  },
  {
   "cell_type": "code",
   "execution_count": 10,
   "id": "7625ede5",
   "metadata": {},
   "outputs": [
    {
     "data": {
      "text/plain": [
       "array([2009, 2008, 2007, 2006, 2005, 2004, 2003, 2002, 2001, 2000, 1999,\n",
       "       1998, 1997, 1996, 2010, 2011, 2012, 2013, 2014, 2015, 2016, 2017,\n",
       "       2018, 2019, 2022, 2020, 2021, 1995, 1994, 1993, 1992, 1991, 1990,\n",
       "       1989, 1988, 1987, 1986, 1985, 1984, 1983, 1982, 1981, 1980, 1979,\n",
       "       1978, 1977, 1976, 1975, 1974, 1973, 1972, 1971, 1970, 1969, 1968,\n",
       "       1967, 1966, 1965, 1964, 1963, 1962, 1961, 1960, 1959, 1958, 1957,\n",
       "       1956, 1955, 1950, 1954, 1953, 1952, 1951], dtype=int64)"
      ]
     },
     "execution_count": 10,
     "metadata": {},
     "output_type": "execute_result"
    }
   ],
   "source": [
    "df['raceId'].unique()\n",
    "df['year'].unique()\n"
   ]
  },
  {
   "cell_type": "code",
   "execution_count": 11,
   "id": "acf4e5bd",
   "metadata": {},
   "outputs": [
    {
     "name": "stderr",
     "output_type": "stream",
     "text": [
      "C:\\Users\\VARUN\\AppData\\Local\\Programs\\Python\\Python310\\lib\\site-packages\\seaborn\\_decorators.py:36: FutureWarning: Pass the following variable as a keyword arg: x. From version 0.12, the only valid positional argument will be `data`, and passing other arguments without an explicit keyword will result in an error or misinterpretation.\n",
      "  warnings.warn(\n"
     ]
    },
    {
     "ename": "AttributeError",
     "evalue": "'AxesSubplot' object has no attribute 'unique'",
     "output_type": "error",
     "traceback": [
      "\u001b[1;31m---------------------------------------------------------------------------\u001b[0m",
      "\u001b[1;31mAttributeError\u001b[0m                            Traceback (most recent call last)",
      "Input \u001b[1;32mIn [11]\u001b[0m, in \u001b[0;36m<cell line: 1>\u001b[1;34m()\u001b[0m\n\u001b[1;32m----> 1\u001b[0m \u001b[43msns\u001b[49m\u001b[38;5;241;43m.\u001b[39;49m\u001b[43mcountplot\u001b[49m\u001b[43m(\u001b[49m\u001b[43mdf\u001b[49m\u001b[43m[\u001b[49m\u001b[38;5;124;43m'\u001b[39;49m\u001b[38;5;124;43myear\u001b[39;49m\u001b[38;5;124;43m'\u001b[39;49m\u001b[43m]\u001b[49m\u001b[43m)\u001b[49m\u001b[38;5;241;43m.\u001b[39;49m\u001b[43munique\u001b[49m()\n",
      "\u001b[1;31mAttributeError\u001b[0m: 'AxesSubplot' object has no attribute 'unique'"
     ]
    },
    {
     "data": {
      "image/png": "[encoded data removed]",
      "text/plain": [
       "<Figure size 432x288 with 1 Axes>"
      ]
     },
     "metadata": {
      "needs_background": "light"
     },
     "output_type": "display_data"
    }
   ],
   "source": [
    "sns.countplot(df['year']).unique()"
   ]
  },
  {
   "cell_type": "code",
   "execution_count": 12,
   "id": "8a94a164",
   "metadata": {},
   "outputs": [
    {
     "data": {
      "text/plain": [
       "circuit_reference    0\n",
       "circuit_name         0\n",
       "circuit_location     0\n",
       "circuit_country      0\n",
       "circuit_lat          0\n",
       "circuit_lng          0\n",
       "circuit_alt          0\n",
       "circuit_url          0\n",
       "raceId               0\n",
       "year                 0\n",
       "race_round           0\n",
       "race_name            0\n",
       "race_date            0\n",
       "race_time            0\n",
       "race_url             0\n",
       "season_url           0\n",
       "dtype: int64"
      ]
     },
     "execution_count": 12,
     "metadata": {},
     "output_type": "execute_result"
    }
   ],
   "source": [
    "df.isnull().sum()"
   ]
  },
  {
   "cell_type": "code",
   "execution_count": 13,
   "id": "4693c446",
   "metadata": {},
   "outputs": [
    {
     "data": {
      "text/plain": [
       "circuit_reference     object\n",
       "circuit_name          object\n",
       "circuit_location      object\n",
       "circuit_country       object\n",
       "circuit_lat          float64\n",
       "circuit_lng          float64\n",
       "circuit_alt           object\n",
       "circuit_url           object\n",
       "raceId                 int64\n",
       "year                   int64\n",
       "race_round             int64\n",
       "race_name             object\n",
       "race_date             object\n",
       "race_time             object\n",
       "race_url              object\n",
       "season_url            object\n",
       "dtype: object"
      ]
     },
     "execution_count": 13,
     "metadata": {},
     "output_type": "execute_result"
    }
   ],
   "source": [
    "df.dtypes"
   ]
  },
  {
   "cell_type": "code",
   "execution_count": 16,
   "id": "9862755c",
   "metadata": {},
   "outputs": [
    {
     "data": {
      "text/html": [
       "<div>\n",
       "<style scoped>\n",
       "    .dataframe tbody tr th:only-of-type {\n",
       "        vertical-align: middle;\n",
       "    }\n",
       "\n",
       "    .dataframe tbody tr th {\n",
       "        vertical-align: top;\n",
       "    }\n",
       "\n",
       "    .dataframe thead th {\n",
       "        text-align: right;\n",
       "    }\n",
       "</style>\n",
       "<table border=\"1\" class=\"dataframe\">\n",
       "  <thead>\n",
       "    <tr style=\"text-align: right;\">\n",
       "      <th></th>\n",
       "      <th>circuit_reference</th>\n",
       "      <th>circuit_name</th>\n",
       "      <th>circuit_location</th>\n",
       "      <th>circuit_country</th>\n",
       "      <th>circuit_lat</th>\n",
       "      <th>circuit_lng</th>\n",
       "      <th>circuit_alt</th>\n",
       "      <th>circuit_url</th>\n",
       "      <th>raceId</th>\n",
       "      <th>year</th>\n",
       "      <th>race_round</th>\n",
       "      <th>race_name</th>\n",
       "      <th>race_date</th>\n",
       "      <th>race_time</th>\n",
       "      <th>race_url</th>\n",
       "      <th>season_url</th>\n",
       "    </tr>\n",
       "  </thead>\n",
       "  <tbody>\n",
       "  </tbody>\n",
       "</table>\n",
       "</div>"
      ],
      "text/plain": [
       "Empty DataFrame\n",
       "Columns: [circuit_reference, circuit_name, circuit_location, circuit_country, circuit_lat, circuit_lng, circuit_alt, circuit_url, raceId, year, race_round, race_name, race_date, race_time, race_url, season_url]\n",
       "Index: []"
      ]
     },
     "execution_count": 16,
     "metadata": {},
     "output_type": "execute_result"
    }
   ],
   "source": [
    "df[df['race_time']==10].head()"
   ]
  },
  {
   "cell_type": "code",
   "execution_count": 18,
   "id": "b117812b",
   "metadata": {},
   "outputs": [
    {
     "data": {
      "text/plain": [
       "<AxesSubplot:>"
      ]
     },
     "execution_count": 18,
     "metadata": {},
     "output_type": "execute_result"
    },
    {
     "data": {
      "image/png": "[encoded data removed]",
      "text/plain": [
       "<Figure size 432x288 with 1 Axes>"
      ]
     },
     "metadata": {
      "needs_background": "light"
     },
     "output_type": "display_data"
    }
   ],
   "source": [
    "df[['year']].boxplot()"
   ]
  },
  {
   "cell_type": "code",
   "execution_count": 19,
   "id": "a573b7dd",
   "metadata": {},
   "outputs": [
    {
     "data": {
      "text/html": [
       "<div>\n",
       "<style scoped>\n",
       "    .dataframe tbody tr th:only-of-type {\n",
       "        vertical-align: middle;\n",
       "    }\n",
       "\n",
       "    .dataframe tbody tr th {\n",
       "        vertical-align: top;\n",
       "    }\n",
       "\n",
       "    .dataframe thead th {\n",
       "        text-align: right;\n",
       "    }\n",
       "</style>\n",
       "<table border=\"1\" class=\"dataframe\">\n",
       "  <thead>\n",
       "    <tr style=\"text-align: right;\">\n",
       "      <th></th>\n",
       "      <th>circuit_lat</th>\n",
       "      <th>circuit_lng</th>\n",
       "      <th>raceId</th>\n",
       "      <th>year</th>\n",
       "      <th>race_round</th>\n",
       "    </tr>\n",
       "  </thead>\n",
       "  <tbody>\n",
       "    <tr>\n",
       "      <th>circuit_lat</th>\n",
       "      <td>1.000000</td>\n",
       "      <td>-0.182308</td>\n",
       "      <td>0.031776</td>\n",
       "      <td>-0.116777</td>\n",
       "      <td>0.146364</td>\n",
       "    </tr>\n",
       "    <tr>\n",
       "      <th>circuit_lng</th>\n",
       "      <td>-0.182308</td>\n",
       "      <td>1.000000</td>\n",
       "      <td>-0.036129</td>\n",
       "      <td>0.275300</td>\n",
       "      <td>0.084557</td>\n",
       "    </tr>\n",
       "    <tr>\n",
       "      <th>raceId</th>\n",
       "      <td>0.031776</td>\n",
       "      <td>-0.036129</td>\n",
       "      <td>1.000000</td>\n",
       "      <td>0.012420</td>\n",
       "      <td>0.020474</td>\n",
       "    </tr>\n",
       "    <tr>\n",
       "      <th>year</th>\n",
       "      <td>-0.116777</td>\n",
       "      <td>0.275300</td>\n",
       "      <td>0.012420</td>\n",
       "      <td>1.000000</td>\n",
       "      <td>0.338368</td>\n",
       "    </tr>\n",
       "    <tr>\n",
       "      <th>race_round</th>\n",
       "      <td>0.146364</td>\n",
       "      <td>0.084557</td>\n",
       "      <td>0.020474</td>\n",
       "      <td>0.338368</td>\n",
       "      <td>1.000000</td>\n",
       "    </tr>\n",
       "  </tbody>\n",
       "</table>\n",
       "</div>"
      ],
      "text/plain": [
       "             circuit_lat  circuit_lng    raceId      year  race_round\n",
       "circuit_lat     1.000000    -0.182308  0.031776 -0.116777    0.146364\n",
       "circuit_lng    -0.182308     1.000000 -0.036129  0.275300    0.084557\n",
       "raceId          0.031776    -0.036129  1.000000  0.012420    0.020474\n",
       "year           -0.116777     0.275300  0.012420  1.000000    0.338368\n",
       "race_round      0.146364     0.084557  0.020474  0.338368    1.000000"
      ]
     },
     "execution_count": 19,
     "metadata": {},
     "output_type": "execute_result"
    }
   ],
   "source": [
    "df.corr()"
   ]
  },
  {
   "cell_type": "code",
   "execution_count": 20,
   "id": "5a18a81c",
   "metadata": {},
   "outputs": [
    {
     "data": {
      "text/plain": [
       "<AxesSubplot:>"
      ]
     },
     "execution_count": 20,
     "metadata": {},
     "output_type": "execute_result"
    },
    {
     "data": {
      "image/png": "[encoded data removed]",
      "text/plain": [
       "<Figure size 432x288 with 2 Axes>"
      ]
     },
     "metadata": {
      "needs_background": "light"
     },
     "output_type": "display_data"
    }
   ],
   "source": [
    "sns.heatmap(df.corr())"
   ]
  }
 ],
 "metadata": {
  "kernelspec": {
   "display_name": "Python 3 (ipykernel)",
   "language": "python",
   "name": "python3"
  },
  "language_info": {
   "codemirror_mode": {
    "name": "ipython",
    "version": 3
   },
   "file_extension": ".py",
   "mimetype": "text/x-python",
   "name": "python",
   "nbconvert_exporter": "python",
   "pygments_lexer": "ipython3",
   "version": "3.10.5"
  }
 },
 "nbformat": 4,
 "nbformat_minor": 5
}
