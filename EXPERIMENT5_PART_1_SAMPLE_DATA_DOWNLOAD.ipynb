{
 "cells": [
  {
   "cell_type": "markdown",
   "metadata": {
    "id": "6GkxfuQ8ob0R"
   },
   "source": [
    "# About the Data\n",
    "\n",
    "* The data was taken from \n",
    "the csv file complaints.csv\n",
    "\n",
    "\n",
    "* The complaints are for the products:<br>\n",
    "\n",
    "  1. 'Bank account or service'\n",
    "  2. 'Checking or savings account'\n",
    "  3. 'Consumer Loan'\n",
    "  4. 'Credit card or prepaid card'\n",
    "  5. 'Credit reporting, credit repair services, or other personal consumer reports' \n",
    "  6. 'Debt collection'\n",
    "  7. Money transfer/s, virtual currency, or money service'\n",
    "  8. 'Mortgage'\n",
    "  9. 'Payday loan, title loan, or personal loan'\n",
    "  10. 'Student loan'\n",
    "  11. 'Vehicle loan or lease'\n",
    "\n",
    "\n",
    "* The data cleaning was done using pandas\n",
    "\n",
    "* Sample Data was created \n"
   ]
  },
  {
   "cell_type": "markdown",
   "metadata": {
    "id": "HltVocsVxIVZ"
   },
   "source": [
    "## Next Steps\n",
    "\n",
    "* Use Spacy library to preprocess data.\n",
    "\n",
    "* Fine-tune DistilBERT on the sample data "
   ]
  },
  {
   "cell_type": "markdown",
   "metadata": {
    "id": "M8MJt_UDu36B"
   },
   "source": [
    "##Google Drive access"
   ]
  },
  {
   "cell_type": "code",
   "execution_count": null,
   "metadata": {
    "colab": {
     "base_uri": "https://localhost:8080/"
    },
    "id": "YpebIE41u3Mh",
    "outputId": "9e00ffaf-a247-44e7-de9d-8edebd3ef300"
   },
   "outputs": [
    {
     "name": "stdout",
     "output_type": "stream",
     "text": [
      "Drive already mounted at /content/drive; to attempt to forcibly remount, call drive.mount(\"/content/drive\", force_remount=True).\n"
     ]
    }
   ],
   "source": [
    "from google.colab import drive\n",
    "drive.mount('/content/drive')"
   ]
  },
  {
   "cell_type": "code",
   "execution_count": null,
   "metadata": {
    "id": "f3hBz6OXw3gQ"
   },
   "outputs": [],
   "source": [
    "# write the appropriate paths to retrieve the data and store results \n",
    "data_path = '/content/drive/MyDrive/complaints.csv'"
   ]
  },
  {
   "cell_type": "markdown",
   "metadata": {
    "id": "dwnUTHc_WWf9"
   },
   "source": [
    "# Loading the dataset"
   ]
  },
  {
   "cell_type": "code",
   "execution_count": null,
   "metadata": {
    "colab": {
     "base_uri": "https://localhost:8080/",
     "height": 298
    },
    "id": "hSr1m-4emA8l",
    "outputId": "9bf63753-abc9-42f4-d347-80bea2bed8cb"
   },
   "outputs": [
    {
     "name": "stderr",
     "output_type": "stream",
     "text": [
      "/usr/local/lib/python3.7/dist-packages/pandas/core/frame.py:5047: SettingWithCopyWarning: \n",
      "A value is trying to be set on a copy of a slice from a DataFrame\n",
      "\n",
      "See the caveats in the documentation: https://pandas.pydata.org/pandas-docs/stable/user_guide/indexing.html#returning-a-view-versus-a-copy\n",
      "  errors=errors,\n"
     ]
    },
    {
     "data": {
      "text/html": [
       "\n",
       "  <div id=\"df-60899f77-706c-4190-8b36-d3b40dcadca6\">\n",
       "    <div class=\"colab-df-container\">\n",
       "      <div>\n",
       "<style scoped>\n",
       "    .dataframe tbody tr th:only-of-type {\n",
       "        vertical-align: middle;\n",
       "    }\n",
       "\n",
       "    .dataframe tbody tr th {\n",
       "        vertical-align: top;\n",
       "    }\n",
       "\n",
       "    .dataframe thead th {\n",
       "        text-align: right;\n",
       "    }\n",
       "</style>\n",
       "<table border=\"1\" class=\"dataframe\">\n",
       "  <thead>\n",
       "    <tr style=\"text-align: right;\">\n",
       "      <th></th>\n",
       "      <th>consumer_complaint_narrative</th>\n",
       "      <th>product</th>\n",
       "      <th>State</th>\n",
       "    </tr>\n",
       "  </thead>\n",
       "  <tbody>\n",
       "    <tr>\n",
       "      <th>0</th>\n",
       "      <td>transworld systems inc. \n",
       "is trying to collect ...</td>\n",
       "      <td>Debt collection</td>\n",
       "      <td>FL</td>\n",
       "    </tr>\n",
       "    <tr>\n",
       "      <th>1</th>\n",
       "      <td>Over the past 2 weeks, I have been receiving e...</td>\n",
       "      <td>Debt collection</td>\n",
       "      <td>NC</td>\n",
       "    </tr>\n",
       "    <tr>\n",
       "      <th>2</th>\n",
       "      <td>Pioneer has committed several federal violatio...</td>\n",
       "      <td>Debt collection</td>\n",
       "      <td>CA</td>\n",
       "    </tr>\n",
       "    <tr>\n",
       "      <th>3</th>\n",
       "      <td>I started the process to refinance my current ...</td>\n",
       "      <td>Mortgage</td>\n",
       "      <td>NC</td>\n",
       "    </tr>\n",
       "    <tr>\n",
       "      <th>4</th>\n",
       "      <td>Previously, on XX/XX/XXXX, XX/XX/XXXX, and XX/...</td>\n",
       "      <td>Credit reporting, credit repair services, or o...</td>\n",
       "      <td>CA</td>\n",
       "    </tr>\n",
       "  </tbody>\n",
       "</table>\n",
       "</div>\n",
       "      <button class=\"colab-df-convert\" onclick=\"convertToInteractive('df-60899f77-706c-4190-8b36-d3b40dcadca6')\"\n",
       "              title=\"Convert this dataframe to an interactive table.\"\n",
       "              style=\"display:none;\">\n",
       "        \n",
       "  <svg xmlns=\"http://www.w3.org/2000/svg\" height=\"24px\"viewBox=\"0 0 24 24\"\n",
       "       width=\"24px\">\n",
       "    <path d=\"M0 0h24v24H0V0z\" fill=\"none\"/>\n",
       "    <path d=\"M18.56 5.44l.94 2.06.94-2.06 2.06-.94-2.06-.94-.94-2.06-.94 2.06-2.06.94zm-11 1L8.5 8.5l.94-2.06 2.06-.94-2.06-.94L8.5 2.5l-.94 2.06-2.06.94zm10 10l.94 2.06.94-2.06 2.06-.94-2.06-.94-.94-2.06-.94 2.06-2.06.94z\"/><path d=\"M17.41 7.96l-1.37-1.37c-.4-.4-.92-.59-1.43-.59-.52 0-1.04.2-1.43.59L10.3 9.45l-7.72 7.72c-.78.78-.78 2.05 0 2.83L4 21.41c.39.39.9.59 1.41.59.51 0 1.02-.2 1.41-.59l7.78-7.78 2.81-2.81c.8-.78.8-2.07 0-2.86zM5.41 20L4 18.59l7.72-7.72 1.47 1.35L5.41 20z\"/>\n",
       "  </svg>\n",
       "      </button>\n",
       "      \n",
       "  <style>\n",
       "    .colab-df-container {\n",
       "      display:flex;\n",
       "      flex-wrap:wrap;\n",
       "      gap: 12px;\n",
       "    }\n",
       "\n",
       "    .colab-df-convert {\n",
       "      background-color: #E8F0FE;\n",
       "      border: none;\n",
       "      border-radius: 50%;\n",
       "      cursor: pointer;\n",
       "      display: none;\n",
       "      fill: #1967D2;\n",
       "      height: 32px;\n",
       "      padding: 0 0 0 0;\n",
       "      width: 32px;\n",
       "    }\n",
       "\n",
       "    .colab-df-convert:hover {\n",
       "      background-color: #E2EBFA;\n",
       "      box-shadow: 0px 1px 2px rgba(60, 64, 67, 0.3), 0px 1px 3px 1px rgba(60, 64, 67, 0.15);\n",
       "      fill: #174EA6;\n",
       "    }\n",
       "\n",
       "    [theme=dark] .colab-df-convert {\n",
       "      background-color: #3B4455;\n",
       "      fill: #D2E3FC;\n",
       "    }\n",
       "\n",
       "    [theme=dark] .colab-df-convert:hover {\n",
       "      background-color: #434B5C;\n",
       "      box-shadow: 0px 1px 3px 1px rgba(0, 0, 0, 0.15);\n",
       "      filter: drop-shadow(0px 1px 2px rgba(0, 0, 0, 0.3));\n",
       "      fill: #FFFFFF;\n",
       "    }\n",
       "  </style>\n",
       "\n",
       "      <script>\n",
       "        const buttonEl =\n",
       "          document.querySelector('#df-60899f77-706c-4190-8b36-d3b40dcadca6 button.colab-df-convert');\n",
       "        buttonEl.style.display =\n",
       "          google.colab.kernel.accessAllowed ? 'block' : 'none';\n",
       "\n",
       "        async function convertToInteractive(key) {\n",
       "          const element = document.querySelector('#df-60899f77-706c-4190-8b36-d3b40dcadca6');\n",
       "          const dataTable =\n",
       "            await google.colab.kernel.invokeFunction('convertToInteractive',\n",
       "                                                     [key], {});\n",
       "          if (!dataTable) return;\n",
       "\n",
       "          const docLinkHtml = 'Like what you see? Visit the ' +\n",
       "            '<a target=\"_blank\" href=https://colab.research.google.com/notebooks/data_table.ipynb>data table notebook</a>'\n",
       "            + ' to learn more about interactive tables.';\n",
       "          element.innerHTML = '';\n",
       "          dataTable['output_type'] = 'display_data';\n",
       "          await google.colab.output.renderOutput(dataTable, element);\n",
       "          const docLink = document.createElement('div');\n",
       "          docLink.innerHTML = docLinkHtml;\n",
       "          element.appendChild(docLink);\n",
       "        }\n",
       "      </script>\n",
       "    </div>\n",
       "  </div>\n",
       "  "
      ],
      "text/plain": [
       "                        consumer_complaint_narrative  \\\n",
       "0  transworld systems inc. \n",
       "is trying to collect ...   \n",
       "1  Over the past 2 weeks, I have been receiving e...   \n",
       "2  Pioneer has committed several federal violatio...   \n",
       "3  I started the process to refinance my current ...   \n",
       "4  Previously, on XX/XX/XXXX, XX/XX/XXXX, and XX/...   \n",
       "\n",
       "                                             product State  \n",
       "0                                    Debt collection    FL  \n",
       "1                                    Debt collection    NC  \n",
       "2                                    Debt collection    CA  \n",
       "3                                           Mortgage    NC  \n",
       "4  Credit reporting, credit repair services, or o...    CA  "
      ]
     },
     "execution_count": 3,
     "metadata": {},
     "output_type": "execute_result"
    }
   ],
   "source": [
    "#Load the data\n",
    "import pandas as pd\n",
    "\n",
    "df1 = pd.read_csv(data_path, dtype={\"Consumer complaint narrative\": \"string\", \"Consumer consent provided?\": \"string\", \"Timely response?\":\"string\"})\n",
    "df1 = df1[['Consumer complaint narrative','Product', 'State']]\n",
    "df1 = df1[df1['State'] != 'ND']\n",
    "df1.rename(columns = {'Product':'product', 'Consumer complaint narrative':'consumer_complaint_narrative'}, inplace = True)\n",
    "df1 = df1[df1.consumer_complaint_narrative.notnull()]\n",
    "df2 = df1.copy()#changed\n",
    "df2.reset_index(inplace = True, drop = True)\n",
    "#reduce categories\n",
    "df2.loc[df2['product'] == 'Credit reporting', 'product'] = 'Credit reporting, credit repair services, or other personal consumer reports'\n",
    "df2.loc[df2['product'] == 'Credit card', 'product'] = 'Credit card or prepaid card'\n",
    "df2.loc[df2['product'] == 'Prepaid card', 'product'] = 'Credit card or prepaid card'# new category\n",
    "\n",
    "df2.loc[df2['product'] == 'Payday loan', 'product'] = 'Payday loan, title loan, or personal loan'\n",
    "df2.loc[df2['product'] == 'Virtual currency', 'product'] = 'Money transfer/s, virtual currency, or money service'\n",
    "df2.loc[df2['product'] == 'Money transfers', 'product'] = 'Money transfer/s, virtual currency, or money service'# new category\n",
    "df2.loc[df2['product'] == 'Money transfer, virtual currency, or money service', 'product'] = 'Money transfer/s, virtual currency, or money service'\n",
    "df2 = df2[df2['product'] != 'Other financial service']\n",
    "\n",
    "df2.reset_index(inplace = True, drop = True)\n",
    "df2.head()\n"
   ]
  },
  {
   "cell_type": "code",
   "execution_count": null,
   "metadata": {
    "colab": {
     "base_uri": "https://localhost:8080/"
    },
    "id": "nqUZ0i-MikxE",
    "outputId": "2a0024e2-532f-4eff-819e-2f0e17aacdde"
   },
   "outputs": [
    {
     "data": {
      "text/plain": [
       "Credit reporting, credit repair services, or other personal consumer reports    265093\n",
       "Debt collection                                                                 130316\n",
       "Mortgage                                                                         72886\n",
       "Credit card or prepaid card                                                      67978\n",
       "Checking or savings account                                                      27705\n",
       "Student loan                                                                     27390\n",
       "Bank account or service                                                          14867\n",
       "Money transfer/s, virtual currency, or money service                             13714\n",
       "Vehicle loan or lease                                                            11651\n",
       "Payday loan, title loan, or personal loan                                        10365\n",
       "Consumer Loan                                                                     9463\n",
       "Name: product, dtype: int64"
      ]
     },
     "execution_count": 4,
     "metadata": {},
     "output_type": "execute_result"
    }
   ],
   "source": [
    "#Print the products counts\n",
    "df2['product'].value_counts()"
   ]
  },
  {
   "cell_type": "code",
   "execution_count": null,
   "metadata": {
    "colab": {
     "base_uri": "https://localhost:8080/"
    },
    "id": "qWQjULaNQCcg",
    "outputId": "39c891c9-68c8-4720-df41-c910da6b562d"
   },
   "outputs": [
    {
     "name": "stdout",
     "output_type": "stream",
     "text": [
      "<class 'pandas.core.frame.DataFrame'>\n",
      "RangeIndex: 651428 entries, 0 to 651427\n",
      "Data columns (total 3 columns):\n",
      " #   Column                        Non-Null Count   Dtype \n",
      "---  ------                        --------------   ----- \n",
      " 0   consumer_complaint_narrative  651428 non-null  string\n",
      " 1   product                       651428 non-null  object\n",
      " 2   State                         647916 non-null  object\n",
      "dtypes: object(2), string(1)\n",
      "memory usage: 14.9+ MB\n"
     ]
    }
   ],
   "source": [
    "df2.info()"
   ]
  },
  {
   "cell_type": "code",
   "execution_count": null,
   "metadata": {
    "colab": {
     "base_uri": "https://localhost:8080/"
    },
    "id": "AYAyHYAE4uTR",
    "outputId": "cb84aadf-59be-43fa-eaca-57c2a15bae99"
   },
   "outputs": [
    {
     "name": "stdout",
     "output_type": "stream",
     "text": [
      "<class 'pandas.core.frame.DataFrame'>\n",
      "RangeIndex: 651428 entries, 0 to 651427\n",
      "Data columns (total 8 columns):\n",
      " #   Column                        Non-Null Count   Dtype \n",
      "---  ------                        --------------   ----- \n",
      " 0   consumer_complaint_narrative  651428 non-null  string\n",
      " 1   product                       651428 non-null  object\n",
      " 2   State                         647916 non-null  object\n",
      " 3   split_words_whitespaces       651428 non-null  object\n",
      " 4   number_of_words               651428 non-null  int64 \n",
      " 5   number_of_charachters         651428 non-null  int64 \n",
      " 6   charachters_by_words          651428 non-null  int64 \n",
      " 7   number_of_unique_words        651428 non-null  int64 \n",
      "dtypes: int64(4), object(3), string(1)\n",
      "memory usage: 39.8+ MB\n"
     ]
    }
   ],
   "source": [
    "#Split 'consumer_complaint_narrative' into substrings whenever whitespace occur\n",
    "df2['split_words_whitespaces'] = df2['consumer_complaint_narrative'].apply(lambda x: x.split())\n",
    "#Count the number of substrings in 'split_words_whitespaces'\n",
    "df2['number_of_words'] = df2['split_words_whitespaces'].apply(lambda x: len(x))\n",
    "#Count the number of charachters in  'consumer_complaint_narrative'\n",
    "df2['number_of_charachters'] = df2['consumer_complaint_narrative'].apply(lambda x: len(x))\n",
    "#Calculate the ratio of number of charachters by number of words\n",
    "df2['charachters_by_words'] = df2['number_of_charachters'] // df2['number_of_words']\n",
    "#Count the number of unique strings in 'split_words_whitespaces'\n",
    "df2['number_of_unique_words'] = df2['split_words_whitespaces'].apply(lambda x : len(set(x)))\n",
    "df2.info()"
   ]
  },
  {
   "cell_type": "code",
   "execution_count": null,
   "metadata": {
    "colab": {
     "base_uri": "https://localhost:8080/"
    },
    "id": "ee53Crf-P1tj",
    "outputId": "4b8104ea-88f6-4687-b877-df368d320c8c"
   },
   "outputs": [
    {
     "name": "stdout",
     "output_type": "stream",
     "text": [
      "<class 'pandas.core.frame.DataFrame'>\n",
      "Int64Index: 596434 entries, 544725 to 409531\n",
      "Data columns (total 8 columns):\n",
      " #   Column                        Non-Null Count   Dtype \n",
      "---  ------                        --------------   ----- \n",
      " 0   consumer_complaint_narrative  596434 non-null  string\n",
      " 1   product                       596434 non-null  object\n",
      " 2   State                         593195 non-null  object\n",
      " 3   split_words_whitespaces       596434 non-null  object\n",
      " 4   number_of_words               596434 non-null  int64 \n",
      " 5   number_of_charachters         596434 non-null  int64 \n",
      " 6   charachters_by_words          596434 non-null  int64 \n",
      " 7   number_of_unique_words        596434 non-null  int64 \n",
      "dtypes: int64(4), object(3), string(1)\n",
      "memory usage: 41.0+ MB\n"
     ]
    }
   ],
   "source": [
    "#Drop duplicate 'consumer_complaint_narrative'\n",
    "# drop the duplicate entries which are not maximum length\n",
    "df3  = df2.loc[df2['number_of_words'].groupby(df2['consumer_complaint_narrative']).idxmax()].sort_values('product')\n",
    "df3.info()"
   ]
  },
  {
   "cell_type": "code",
   "execution_count": null,
   "metadata": {
    "colab": {
     "base_uri": "https://localhost:8080/"
    },
    "id": "uoZYA1WJ7bPf",
    "outputId": "46846106-780d-4715-ebe6-f40ec0aae454"
   },
   "outputs": [
    {
     "name": "stdout",
     "output_type": "stream",
     "text": [
      "<class 'pandas.core.frame.DataFrame'>\n",
      "Int64Index: 537683 entries, 544725 to 409531\n",
      "Data columns (total 7 columns):\n",
      " #   Column                        Non-Null Count   Dtype \n",
      "---  ------                        --------------   ----- \n",
      " 0   consumer_complaint_narrative  537683 non-null  string\n",
      " 1   product                       537683 non-null  object\n",
      " 2   split_words_whitespaces       537683 non-null  object\n",
      " 3   number_of_words               537683 non-null  int64 \n",
      " 4   number_of_charachters         537683 non-null  int64 \n",
      " 5   charachters_by_words          537683 non-null  int64 \n",
      " 6   number_of_unique_words        537683 non-null  int64 \n",
      "dtypes: int64(4), object(2), string(1)\n",
      "memory usage: 32.8+ MB\n"
     ]
    }
   ],
   "source": [
    "#Retain certain records only\n",
    "df4 = df3.query('(number_of_charachters > 60)&(number_of_unique_words > 30)').drop(columns=['State'])\n",
    "df4.info()"
   ]
  },
  {
   "cell_type": "code",
   "execution_count": null,
   "metadata": {
    "id": "zXino1f3SrjB"
   },
   "outputs": [],
   "source": [
    "del df1, df2,df3"
   ]
  },
  {
   "cell_type": "markdown",
   "metadata": {
    "id": "9yD-IERnQ-01"
   },
   "source": [
    "Data Cleaning as done in https://www.kaggle.com/code/datafan07/disaster-tweets-nlp-eda-bert-with-transformers "
   ]
  },
  {
   "cell_type": "code",
   "execution_count": null,
   "metadata": {
    "colab": {
     "base_uri": "https://localhost:8080/"
    },
    "id": "tkgcUPRNRjBt",
    "outputId": "afc9e4b1-00f6-4fdf-ee91-3f54f8677e2d"
   },
   "outputs": [
    {
     "name": "stdout",
     "output_type": "stream",
     "text": [
      "[nltk_data] Downloading package stopwords to /root/nltk_data...\n",
      "[nltk_data]   Package stopwords is already up-to-date!\n",
      "[nltk_data] Downloading package punkt to /root/nltk_data...\n",
      "[nltk_data]   Package punkt is already up-to-date!\n",
      "[nltk_data] Downloading package averaged_perceptron_tagger to\n",
      "[nltk_data]     /root/nltk_data...\n",
      "[nltk_data]   Package averaged_perceptron_tagger is already up-to-\n",
      "[nltk_data]       date!\n",
      "[nltk_data] Downloading package wordnet to /root/nltk_data...\n",
      "[nltk_data]   Package wordnet is already up-to-date!\n"
     ]
    }
   ],
   "source": [
    "# Core packages for text processing.\n",
    "\n",
    "import string\n",
    "import re\n",
    "\n",
    "# Libraries for text preprocessing.\n",
    "\n",
    "import nltk\n",
    "nltk.download('stopwords')\n",
    "nltk.download('punkt')\n",
    "nltk.download('averaged_perceptron_tagger')\n",
    "nltk.download('wordnet')\n",
    "from nltk.corpus import stopwords, wordnet\n",
    "from nltk.stem import WordNetLemmatizer\n",
    "from nltk.tokenize import word_tokenize\n",
    "from nltk.probability import FreqDist"
   ]
  },
  {
   "cell_type": "code",
   "execution_count": null,
   "metadata": {
    "id": "8qaWtDfuQ64z"
   },
   "outputs": [],
   "source": [
    "# Some basic helper functions to clean text by removing urls, emojis, html tags and punctuations.\n",
    "\n",
    "def remove_URL(text):\n",
    "    url = re.compile(r'https?://\\S+|www\\.\\S+')\n",
    "    return url.sub(r'', text)\n",
    "\n",
    "\n",
    "def remove_emoji(text):\n",
    "    emoji_pattern = re.compile(\n",
    "        '['\n",
    "        u'\\U0001F600-\\U0001F64F'  # emoticons\n",
    "        u'\\U0001F300-\\U0001F5FF'  # symbols & pictographs\n",
    "        u'\\U0001F680-\\U0001F6FF'  # transport & map symbols\n",
    "        u'\\U0001F1E0-\\U0001F1FF'  # flags (iOS)\n",
    "        u'\\U00002702-\\U000027B0'\n",
    "        u'\\U000024C2-\\U0001F251'\n",
    "        ']+',\n",
    "        flags=re.UNICODE)\n",
    "    return emoji_pattern.sub(r'', text)\n",
    "\n",
    "\n",
    "def remove_html(text):\n",
    "    html = re.compile(r'<.*?>|&([a-z0-9]+|#[0-9]{1,6}|#x[0-9a-f]{1,6});')\n",
    "    return re.sub(html, '', text)\n",
    "\n",
    "\n",
    "def remove_punct(text):\n",
    "    table = str.maketrans('', '', string.punctuation)\n",
    "    return text.translate(table)\n",
    "\n",
    "# Applying helper functions\n",
    "\n",
    "df4['text_clean'] = df4['consumer_complaint_narrative'].apply(lambda x: remove_URL(x))\n",
    "df4['text_clean'] = df4['text_clean'].apply(lambda x: remove_emoji(x))\n",
    "df4['text_clean'] = df4['text_clean'].apply(lambda x: remove_html(x))\n",
    "df4['text_clean'] = df4['text_clean'].apply(lambda x: remove_punct(x))"
   ]
  },
  {
   "cell_type": "code",
   "execution_count": null,
   "metadata": {
    "colab": {
     "base_uri": "https://localhost:8080/"
    },
    "id": "RAezxH6RQ7Iu",
    "outputId": "d5b16ddc-b894-4a05-ab47-b82c6f3fa499"
   },
   "outputs": [
    {
     "data": {
      "text/plain": [
       "544725    I am a Bank of America costumer and I have had...\n",
       "428654    I have on XXXX occasions disputed charges from...\n",
       "418808    I had someone use my debt card in another Stat...\n",
       "558646    On  XXXX  XXXX   XXXX   I received an ema il f...\n",
       "497335    Please be advised that Navy Credit Union bak w...\n",
       "Name: text_clean, dtype: object"
      ]
     },
     "execution_count": 14,
     "metadata": {},
     "output_type": "execute_result"
    }
   ],
   "source": [
    "df4['text_clean'].head()"
   ]
  },
  {
   "cell_type": "code",
   "execution_count": null,
   "metadata": {
    "id": "R7TntclzQ7Mp"
   },
   "outputs": [],
   "source": [
    "# Tokenizing 'text_clean'.\n",
    "\n",
    "df4['tokenized'] = df4['text_clean'].apply(word_tokenize)\n",
    "df4.head()"
   ]
  },
  {
   "cell_type": "code",
   "execution_count": null,
   "metadata": {
    "id": "64-XMtxSQ7Uy"
   },
   "outputs": [],
   "source": [
    "# Lower casing clean text.\n",
    "\n",
    "df4['lower'] = df4['tokenized'].apply(\n",
    "    lambda x: [word.lower() for word in x])\n",
    "\n",
    "df4.head()"
   ]
  },
  {
   "cell_type": "code",
   "execution_count": null,
   "metadata": {
    "id": "nMK2MQofQ7Y7"
   },
   "outputs": [],
   "source": [
    "# Removing stopwords.\n",
    "stop = set(stopwords.words('english'))\n",
    "df4['stopwords_removed'] = df4['lower'].apply(\n",
    "    lambda x: [word for word in x if word not in stop])\n",
    "\n",
    "df4.head()"
   ]
  },
  {
   "cell_type": "code",
   "execution_count": null,
   "metadata": {
    "id": "eWsYWBiUQ7ck"
   },
   "outputs": [],
   "source": [
    "# Applying part of speech tags.\n",
    "df4['pos_tags'] = df4['stopwords_removed'].apply(nltk.tag.pos_tag)\n",
    "\n",
    "df4.head()"
   ]
  },
  {
   "cell_type": "code",
   "execution_count": null,
   "metadata": {
    "id": "B1hHttJ48p1W"
   },
   "outputs": [],
   "source": [
    "#Define the strings to mask\n",
    "mask_words_list =['XX/XX/XXXX','XX-XX-XXXX', #DATE mm/dd/yyyy mm-dd-yyyy\n",
    "                  'XXXX XXXX XXXX XXXX XXXX','XXXX-XXXX-XXXX-XXXX',#CREDIT or PREPAID CARD NUMBER\n",
    "                  'XXXX XXXX XXXX XXXX','XXXX XXXX XXXX','XXXX-XXXX-XXXX','XXXX-XXXX','XXXX XXXX',\n",
    "                  'XXX-XX-XXXX','XXX-XXX','XX-XXXX',\n",
    "                  'XXXXXXXXXXXXXXXXXX','XXXXXXXXXXXXXXXXX', 'XXXXXXXXXXXXXXXX', 'XXXXXXXXXXXXXXX', 'XXXXXXXXXXXXXX',# BANK ACCOUNT NUMBER\n",
    "                  'XXXXXXXXXXXXX', 'XXXXXXXXXXXX', 'XXXXXXXXXXX',                                                   # RANGES FROM 12 TO 18 DIGITS\n",
    "                  'XXXXXXXXXX','XXXXXXXXX'          #ROUTING NUMBER IS 9 DIGIT\n",
    "                  'XXXX','XXX','XX']"
   ]
  },
  {
   "cell_type": "code",
   "execution_count": null,
   "metadata": {
    "colab": {
     "base_uri": "https://localhost:8080/"
    },
    "id": "k2K97MChALSu",
    "outputId": "1c4bf9ce-a7a2-4aeb-b91c-26b6c118f1ec"
   },
   "outputs": [
    {
     "name": "stderr",
     "output_type": "stream",
     "text": [
      "100%|██████████| 574800/574800 [04:45<00:00, 2011.84it/s]\n"
     ]
    },
    {
     "name": "stdout",
     "output_type": "stream",
     "text": [
      "\n",
      "\n",
      "Getting Potential Mask Words Completed\n"
     ]
    }
   ],
   "source": [
    "#Get Potential mask words\n",
    "def get_potential_maskwords(example,mask_words_list):\n",
    "  mask_list = [string for string in example if any(substring in string for substring in mask_words_list)]\n",
    "  return mask_list\n",
    "\n",
    "from tqdm import tqdm, tqdm_notebook\n",
    "\n",
    "# instantiate\n",
    "tqdm.pandas()\n",
    "\n",
    "df3['potenial_mask_words']= df3['split_words_whitespaces'].progress_apply(lambda x : get_potential_maskwords(x,mask_words_list))\n",
    "print(\"\\n\\nGetting Potential Mask Words Completed\")"
   ]
  },
  {
   "cell_type": "code",
   "execution_count": null,
   "metadata": {
    "id": "v4H-0uWL-bf-"
   },
   "outputs": [],
   "source": [
    "#Calculate number of potential mask words\n",
    "df3['number_of_potenial_mask_words'] = df3['potenial_mask_words'].apply(lambda x: len(x))\n",
    "#Calculate the ratio of number of potential mask words by total words\n",
    "df3['potenial_mask_words_BY_words'] = df3['number_of_potenial_mask_words']/df3['number_of_words']"
   ]
  },
  {
   "cell_type": "code",
   "execution_count": null,
   "metadata": {
    "colab": {
     "base_uri": "https://localhost:8080/"
    },
    "id": "Xzf97YHtA8ET",
    "outputId": "89fd0ae0-9da1-4c1f-c4e8-3652c21b887e"
   },
   "outputs": [
    {
     "name": "stdout",
     "output_type": "stream",
     "text": [
      "<class 'pandas.core.frame.DataFrame'>\n",
      "Int64Index: 573302 entries, 1 to 651427\n",
      "Data columns (total 10 columns):\n",
      " #   Column                         Non-Null Count   Dtype  \n",
      "---  ------                         --------------   -----  \n",
      " 0   consumer_complaint_narrative   573302 non-null  string \n",
      " 1   product                        573302 non-null  object \n",
      " 2   split_words_whitespaces        573302 non-null  object \n",
      " 3   number_of_words                573302 non-null  int64  \n",
      " 4   number_of_charachters          573302 non-null  int64  \n",
      " 5   charachters_by_words           573302 non-null  int64  \n",
      " 6   number_of_unique_words         573302 non-null  int64  \n",
      " 7   potenial_mask_words            573302 non-null  object \n",
      " 8   number_of_potenial_mask_words  573302 non-null  int64  \n",
      " 9   potenial_mask_words_BY_words   573302 non-null  float64\n",
      "dtypes: float64(1), int64(5), object(3), string(1)\n",
      "memory usage: 48.1+ MB\n"
     ]
    }
   ],
   "source": [
    "#Retain certain records only\n",
    "df4 = df3.query('potenial_mask_words_BY_words < = 0.5')\n",
    "df4.info()"
   ]
  },
  {
   "cell_type": "code",
   "execution_count": null,
   "metadata": {
    "id": "RuXRaPjP1eHk"
   },
   "outputs": [],
   "source": [
    "#Calculate the product frequency ratio to sample data accordingly\n",
    "df4_product_freqdict = (df4['product'].value_counts().sort_index()/df4['product'].count()).to_dict()"
   ]
  },
  {
   "cell_type": "code",
   "execution_count": null,
   "metadata": {
    "colab": {
     "base_uri": "https://localhost:8080/"
    },
    "id": "BLdBfdhM1zRL",
    "outputId": "134e12f3-be3f-4d89-9805-f6110b48b7fa"
   },
   "outputs": [
    {
     "name": "stdout",
     "output_type": "stream",
     "text": [
      "<class 'pandas.core.frame.DataFrame'>\n",
      "Int64Index: 528494 entries, 525589 to 390410\n",
      "Data columns (total 10 columns):\n",
      " #   Column                         Non-Null Count   Dtype  \n",
      "---  ------                         --------------   -----  \n",
      " 0   consumer_complaint_narrative   528494 non-null  string \n",
      " 1   product                        528494 non-null  object \n",
      " 2   split_words_whitespaces        528494 non-null  object \n",
      " 3   number_of_words                528494 non-null  int64  \n",
      " 4   number_of_charachters          528494 non-null  int64  \n",
      " 5   charachters_by_words           528494 non-null  int64  \n",
      " 6   number_of_unique_words         528494 non-null  int64  \n",
      " 7   potenial_mask_words            528494 non-null  object \n",
      " 8   number_of_potenial_mask_words  528494 non-null  int64  \n",
      " 9   potenial_mask_words_BY_words   528494 non-null  float64\n",
      "dtypes: float64(1), int64(5), object(3), string(1)\n",
      "memory usage: 44.4+ MB\n"
     ]
    }
   ],
   "source": [
    "#Define the word threshold and retain data within the threshold\n",
    "word_threshold = 500\n",
    "df4_within_threshold= df4[ df4['number_of_words'].le(word_threshold)].sort_values('product')\n",
    "df4_within_threshold.info()"
   ]
  },
  {
   "cell_type": "code",
   "execution_count": null,
   "metadata": {
    "colab": {
     "base_uri": "https://localhost:8080/"
    },
    "id": "BHEyzOqM5gTq",
    "outputId": "2f41b15c-a8b6-4566-acc5-c68d4815915b"
   },
   "outputs": [
    {
     "name": "stdout",
     "output_type": "stream",
     "text": [
      "<class 'pandas.core.frame.DataFrame'>\n",
      "Int64Index: 79993 entries, 497258 to 64824\n",
      "Data columns (total 10 columns):\n",
      " #   Column                         Non-Null Count  Dtype  \n",
      "---  ------                         --------------  -----  \n",
      " 0   consumer_complaint_narrative   79993 non-null  string \n",
      " 1   product                        79993 non-null  object \n",
      " 2   split_words_whitespaces        79993 non-null  object \n",
      " 3   number_of_words                79993 non-null  int64  \n",
      " 4   number_of_charachters          79993 non-null  int64  \n",
      " 5   charachters_by_words           79993 non-null  int64  \n",
      " 6   number_of_unique_words         79993 non-null  int64  \n",
      " 7   potenial_mask_words            79993 non-null  object \n",
      " 8   number_of_potenial_mask_words  79993 non-null  int64  \n",
      " 9   potenial_mask_words_BY_words   79993 non-null  float64\n",
      "dtypes: float64(1), int64(5), object(3), string(1)\n",
      "memory usage: 6.7+ MB\n"
     ]
    }
   ],
   "source": [
    "#Get Sample of the data frame\n",
    "df4_within_threshold_group=df4_within_threshold.groupby('product', group_keys=False)\n",
    "sample_size= 80000\n",
    "df4_within_threshold_sample = pd.concat(dff.sample(n=int(df4_product_freqdict.get(i)* sample_size)) for i,dff in df4_within_threshold_group)\n",
    "df4_within_threshold_sample.info()"
   ]
  },
  {
   "cell_type": "code",
   "execution_count": null,
   "metadata": {
    "colab": {
     "base_uri": "https://localhost:8080/"
    },
    "id": "yFxDVnjA__8T",
    "outputId": "476cd2c0-c4ab-4a2c-eef6-3c6199485453"
   },
   "outputs": [
    {
     "name": "stdout",
     "output_type": "stream",
     "text": [
      "<class 'pandas.core.frame.DataFrame'>\n",
      "RangeIndex: 79993 entries, 0 to 79992\n",
      "Data columns (total 10 columns):\n",
      " #   Column                         Non-Null Count  Dtype  \n",
      "---  ------                         --------------  -----  \n",
      " 0   consumer_complaint_narrative   79993 non-null  string \n",
      " 1   product                        79993 non-null  object \n",
      " 2   split_words_whitespaces        79993 non-null  object \n",
      " 3   number_of_words                79993 non-null  int64  \n",
      " 4   number_of_charachters          79993 non-null  int64  \n",
      " 5   charachters_by_words           79993 non-null  int64  \n",
      " 6   number_of_unique_words         79993 non-null  int64  \n",
      " 7   potenial_mask_words            79993 non-null  object \n",
      " 8   number_of_potenial_mask_words  79993 non-null  int64  \n",
      " 9   potenial_mask_words_BY_words   79993 non-null  float64\n",
      "dtypes: float64(1), int64(5), object(3), string(1)\n",
      "memory usage: 6.1+ MB\n"
     ]
    }
   ],
   "source": [
    "#Reset the indices in the df4_within_threshold_sample data\n",
    "sample_df = df4_within_threshold_sample.reset_index(drop=True) \n",
    "sample_df.info()"
   ]
  },
  {
   "cell_type": "markdown",
   "metadata": {
    "id": "LFcr-ozDmteM"
   },
   "source": [
    "## Download the Sample Data"
   ]
  },
  {
   "cell_type": "code",
   "execution_count": null,
   "metadata": {
    "colab": {
     "base_uri": "https://localhost:8080/"
    },
    "id": "PBZrl1QRmvlT",
    "outputId": "d43a535b-759c-446b-811f-751f720d4a28"
   },
   "outputs": [
    {
     "name": "stdout",
     "output_type": "stream",
     "text": [
      "\n",
      "\n",
      "Download Completed\n"
     ]
    }
   ],
   "source": [
    "#Download the sample data\n",
    "sample_df.to_csv(\"SAMPLE_25_APRIL_2022_Experiment3.csv\", encoding='utf-8', index=False)\n",
    "print(\"\\n\\nDownload Completed\")"
   ]
  },
  {
   "cell_type": "code",
   "execution_count": null,
   "metadata": {
    "colab": {
     "base_uri": "https://localhost:8080/",
     "height": 36
    },
    "id": "mXd8iNzBsU3n",
    "outputId": "77a0d345-39f1-44ed-db6a-f1baeea7097a"
   },
   "outputs": [
    {
     "data": {
      "application/vnd.google.colaboratory.intrinsic+json": {
       "type": "string"
      },
      "text/plain": [
       "'/content/drive/MyDrive/Complaints_csv/Experiment3/SAMPLE_25_APRIL_2022_Experiment3.csv'"
      ]
     },
     "execution_count": 20,
     "metadata": {},
     "output_type": "execute_result"
    }
   ],
   "source": [
    "import shutil\n",
    "destination_path = '/content/drive/MyDrive/Complaints_csv/Experiment3/SAMPLE_25_APRIL_2022_Experiment3.csv'\n",
    "shutil.copy(\"SAMPLE_25_APRIL_2022_Experiment3.csv\", destination_path )\n",
    "print(\"\\nTransfer Complete\")"
   ]
  }
 ],
 "metadata": {
  "colab": {
   "collapsed_sections": [
    "HltVocsVxIVZ"
   ],
   "name": "EXPERIMENT5_April_26_2022 _PART_1_SAMPLE_DATA_DOWNLOAD.ipynb",
   "provenance": []
  },
  "kernelspec": {
   "display_name": "Python 3 (ipykernel)",
   "language": "python",
   "name": "python3"
  },
  "language_info": {
   "codemirror_mode": {
    "name": "ipython",
    "version": 3
   },
   "file_extension": ".py",
   "mimetype": "text/x-python",
   "name": "python",
   "nbconvert_exporter": "python",
   "pygments_lexer": "ipython3",
   "version": "3.9.7"
  }
 },
 "nbformat": 4,
 "nbformat_minor": 1
}
