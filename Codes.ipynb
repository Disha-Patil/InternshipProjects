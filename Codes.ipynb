{
 "cells": [
  {
   "cell_type": "code",
   "execution_count": null,
   "id": "f50f814d",
   "metadata": {},
   "outputs": [],
   "source": [
    "# Import the required libraries\n",
    "import pandas as pd\n",
    "# Read csv file\n",
    "df=pd.read_csv(\"C:\\Users\\Shashwat Modi\\Desktop\\ClaimPredictionChallenge\\train_set\\train_set.csv\")\n",
    "print(df.head())"
   ]
  },
  {
   "cell_type": "code",
   "execution_count": null,
   "id": "a45dc62d",
   "metadata": {},
   "outputs": [
    {
     "name": "stdout",
     "output_type": "stream",
     "text": [
      "Please enter the input file path:C:\\Users\\Shashwat Modi\\Desktop\\ClaimPredictionChallenge\\train_set\\train_set.csv\n"
     ]
    }
   ],
   "source": [
    "# Import the required libraries\n",
    "import pandas as pd\n",
    "#Enter the input file here\n",
    "file=input(\"Please enter the input file path:\")\n",
    "# \"C:\\Users\\Shashwat Modi\\Desktop\\ClaimPredictionChallenge\\train_set\\train_set.csv\"\n",
    "df=pd.read_csv(file)\n",
    "#deleting the column 'id' from the dataframe as it is a unique and does not have any effect on the algorithm\n",
    "del df['id']\n",
    "print(df.head())"
   ]
  },
  {
   "cell_type": "code",
   "execution_count": null,
   "id": "dd42d3fd",
   "metadata": {},
   "outputs": [],
   "source": []
  }
 ],
 "metadata": {
  "kernelspec": {
   "display_name": "Python 3 (ipykernel)",
   "language": "python",
   "name": "python3"
  },
  "language_info": {
   "codemirror_mode": {
    "name": "ipython",
    "version": 3
   },
   "file_extension": ".py",
   "mimetype": "text/x-python",
   "name": "python",
   "nbconvert_exporter": "python",
   "pygments_lexer": "ipython3",
   "version": "3.9.13"
  }
 },
 "nbformat": 4,
 "nbformat_minor": 5
}
