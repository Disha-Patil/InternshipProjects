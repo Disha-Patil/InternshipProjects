{
 "cells": [
  {
   "cell_type": "markdown",
   "metadata": {
    "id": "6GkxfuQ8ob0R"
   },
   "source": [
    "# About the Data\n",
    "\n",
    "* The data was taken from \n",
    "the csv file complaints.csv\n",
    "\n",
    "\n",
    "* The complaints are for the products:<br>\n",
    "\n",
    "  1. 'Bank account or service'\n",
    "  2. 'Checking or savings account'\n",
    "  3. 'Consumer Loan'\n",
    "  4. 'Credit card or prepaid card'\n",
    "  5. 'Credit reporting, credit repair services, or other personal consumer reports' \n",
    "  6. 'Debt collection'\n",
    "  7. Money transfer/s, virtual currency, or money service'\n",
    "  8. 'Mortgage'\n",
    "  9. 'Payday loan, title loan, or personal loan'\n",
    "  10. 'Student loan'\n",
    "  11. 'Vehicle loan or lease'\n",
    "\n",
    "\n",
    "* The data cleaning and stopwords removal was done using the spacy library\n",
    "\n",
    "* The sample data has at most 10 percent 'MASK' words. \n",
    "\n"
   ]
  },
  {
   "cell_type": "markdown",
   "metadata": {
    "id": "jhdSQHY_WYk8"
   },
   "source": [
    "# Fine Tuning DistilBERT model for text classification\n",
    "\n",
    "* The model was trained on 3 epochs and the learning rate was set at 2e-5 and batch size 16\n",
    "\n",
    "* Total training time taken across all epochs [Validation and model saving time included]:  1:27:45 (h:mm:ss)\n",
    "\n",
    "* Data Split:<br>\n",
    "      -Training data: 18445 (72 percent)\n",
    "      -Validation data: 4612 (18 percent)\n",
    "      -Test Data : 2562 (10 percent)\n",
    "\n",
    "* Macro-averaged f1-score<br>\n",
    "      -Training data: 0.66\n",
    "      -Validation data: 0.64\n",
    "\n",
    "  \n",
    "* Fine-tuning was done on the sample data of size 25619 entries\n",
    "   \n"
   ]
  },
  {
   "cell_type": "markdown",
   "metadata": {
    "id": "HltVocsVxIVZ"
   },
   "source": [
    "## Next Steps\n",
    "\n",
    "* Calculate Metrics on the test Data Set \n",
    "\n",
    "* Use Sample Data that has fewer 'MASK' words percentage. DistilBERT performs Masked language modeling and  when taking a sentence, the model randomly masks 15% of the words in the input and predicts the masked words. Since the Sample data has at most 10 percent 'MASK' words there is a possibility that the model might be predicting 25 percent masked words. More masking would provide insufficient context to learn good representations. \n",
    "\n",
    "* Fine-tune DistilBERT on a dataset of size 50,000\n",
    "\n",
    "\n"
   ]
  },
  {
   "cell_type": "markdown",
   "metadata": {
    "id": "M8MJt_UDu36B"
   },
   "source": [
    "##Google Drive access"
   ]
  },
  {
   "cell_type": "code",
   "execution_count": 1,
   "metadata": {
    "colab": {
     "base_uri": "https://localhost:8080/"
    },
    "id": "YpebIE41u3Mh",
    "outputId": "490c1843-9a09-461c-a358-c511b537f89b"
   },
   "outputs": [
    {
     "name": "stdout",
     "output_type": "stream",
     "text": [
      "Drive already mounted at /content/drive; to attempt to forcibly remount, call drive.mount(\"/content/drive\", force_remount=True).\n"
     ]
    }
   ],
   "source": [
    "from google.colab import drive\n",
    "drive.mount('/content/drive')"
   ]
  },
  {
   "cell_type": "code",
   "execution_count": 2,
   "metadata": {
    "id": "f3hBz6OXw3gQ"
   },
   "outputs": [],
   "source": [
    "# write the appropriate paths to retrieve the data and store results \n",
    "sample_data_path_clean = '/content/drive/MyDrive/SAMPLE_DOC_10_PER_MASK.csv'\n",
    "checkpoint_path = \"/content/checkpoint/current_checkpoint.pt\"\n",
    "best_model_path = \"/content/best_model/best_model.pt\"\n",
    "used_test_data_path = \"/content/best_model/Test_data_DistilBERT.csv\"\n",
    "encoded_test_data_path = \"/content/best_model/ENCODED_Test_data_DistilBERT.csv\"\n",
    "label2id_df_path = \"/content/best_model/label2id_df.csv\""
   ]
  },
  {
   "cell_type": "markdown",
   "metadata": {
    "id": "hhdVBYIGW2mH"
   },
   "source": [
    "## Set-up environment\n",
    "\n",
    "Install the libraries HuggingFace Transformers and Datasets"
   ]
  },
  {
   "cell_type": "code",
   "execution_count": 3,
   "metadata": {
    "id": "bs0-RE3D76PZ"
   },
   "outputs": [],
   "source": [
    "#Install HuggingFace tranformer and datasets libraries  \n",
    "!pip install -q transformers datasets "
   ]
  },
  {
   "cell_type": "markdown",
   "metadata": {
    "id": "QEvbhhYFfKSX"
   },
   "source": [
    "##Import the Libraries"
   ]
  },
  {
   "cell_type": "code",
   "execution_count": 4,
   "metadata": {
    "id": "yEcekYqCfJWF"
   },
   "outputs": [],
   "source": [
    "import torch\n",
    "import collections "
   ]
  },
  {
   "cell_type": "code",
   "execution_count": 5,
   "metadata": {
    "colab": {
     "base_uri": "https://localhost:8080/"
    },
    "id": "bUvk9uQCAspf",
    "outputId": "538410e0-9b1e-4052-8562-864c75110309"
   },
   "outputs": [
    {
     "name": "stdout",
     "output_type": "stream",
     "text": [
      "cuda:0 is available\n"
     ]
    }
   ],
   "source": [
    "#Check if GPU is available\n",
    "\n",
    "device = \"cuda:0\" if torch.cuda.is_available() else \"cpu\"\n",
    "print(device, \"is available\")"
   ]
  },
  {
   "cell_type": "markdown",
   "metadata": {
    "id": "dwnUTHc_WWf9"
   },
   "source": [
    "# Loading the dataset"
   ]
  },
  {
   "cell_type": "code",
   "execution_count": 6,
   "metadata": {
    "colab": {
     "base_uri": "https://localhost:8080/",
     "height": 670
    },
    "id": "hSr1m-4emA8l",
    "outputId": "d321dde6-9c71-4848-a4b7-403ef533c7aa"
   },
   "outputs": [
    {
     "data": {
      "text/html": [
       "\n",
       "  <div id=\"df-6174ae7c-0a89-4158-8792-09c23134b994\">\n",
       "    <div class=\"colab-df-container\">\n",
       "      <div>\n",
       "<style scoped>\n",
       "    .dataframe tbody tr th:only-of-type {\n",
       "        vertical-align: middle;\n",
       "    }\n",
       "\n",
       "    .dataframe tbody tr th {\n",
       "        vertical-align: top;\n",
       "    }\n",
       "\n",
       "    .dataframe thead th {\n",
       "        text-align: right;\n",
       "    }\n",
       "</style>\n",
       "<table border=\"1\" class=\"dataframe\">\n",
       "  <thead>\n",
       "    <tr style=\"text-align: right;\">\n",
       "      <th></th>\n",
       "      <th>consumer_complaint_narrative</th>\n",
       "      <th>product</th>\n",
       "      <th>split_words_whitespaces</th>\n",
       "      <th>number_of_words</th>\n",
       "      <th>number_of_charachters</th>\n",
       "      <th>charachters_by_words</th>\n",
       "      <th>number_of_unique_words</th>\n",
       "      <th>potenial_mask_words</th>\n",
       "      <th>number_of_potenial_mask_words</th>\n",
       "      <th>potenial_mask_words_BY_words</th>\n",
       "      <th>spacy_doc</th>\n",
       "      <th>Masked_text</th>\n",
       "      <th>Change_text</th>\n",
       "      <th>number_of_&lt;MASK&gt;</th>\n",
       "      <th>&lt;MASK&gt;_BY_WORDS</th>\n",
       "    </tr>\n",
       "  </thead>\n",
       "  <tbody>\n",
       "    <tr>\n",
       "      <th>0</th>\n",
       "      <td>Have two issues with my wellsfargo accounts : ...</td>\n",
       "      <td>Bank account or service</td>\n",
       "      <td>['issues', 'wellsfargo', 'accounts', '1.', 'ba...</td>\n",
       "      <td>105</td>\n",
       "      <td>763</td>\n",
       "      <td>7</td>\n",
       "      <td>66</td>\n",
       "      <td>['XXXX', 'XXXX', 'XXXX', 'XXXX', 'XXXX.', 'XXXX']</td>\n",
       "      <td>6</td>\n",
       "      <td>0.025424</td>\n",
       "      <td>Have two issues with my wellsfargo accounts : ...</td>\n",
       "      <td>Have two issues with my wellsfargo accounts : ...</td>\n",
       "      <td>issues wellsfargo accounts 1. bank continue c...</td>\n",
       "      <td>6</td>\n",
       "      <td>0.057143</td>\n",
       "    </tr>\n",
       "    <tr>\n",
       "      <th>1</th>\n",
       "      <td>On or about XXXX XXXX, 2016, I logged into my ...</td>\n",
       "      <td>Bank account or service</td>\n",
       "      <td>['&lt;MASK&gt;', '2016', 'logged', 'Flagstar', 'Bank...</td>\n",
       "      <td>140</td>\n",
       "      <td>1049</td>\n",
       "      <td>7</td>\n",
       "      <td>80</td>\n",
       "      <td>['XXXX', 'XXXX,', 'XXXX', 'XXXX,', 'XXXX', 'XX...</td>\n",
       "      <td>8</td>\n",
       "      <td>0.026316</td>\n",
       "      <td>On or about XXXX XXXX, 2016, I logged into my ...</td>\n",
       "      <td>On or about  &lt;MASK&gt; , 2016, I logged into my F...</td>\n",
       "      <td>&lt;MASK&gt; 2016 logged Flagstar Bank checking acc...</td>\n",
       "      <td>4</td>\n",
       "      <td>0.028571</td>\n",
       "    </tr>\n",
       "    <tr>\n",
       "      <th>2</th>\n",
       "      <td>I have notice some charges to my checking acco...</td>\n",
       "      <td>Bank account or service</td>\n",
       "      <td>['notice', 'charges', 'checking', 'account.', ...</td>\n",
       "      <td>133</td>\n",
       "      <td>950</td>\n",
       "      <td>7</td>\n",
       "      <td>86</td>\n",
       "      <td>['XXXX', 'XXXX,', 'XXXX', 'XXXX.', 'XXXX', 'XX...</td>\n",
       "      <td>12</td>\n",
       "      <td>0.037618</td>\n",
       "      <td>I have notice some charges to my checking acco...</td>\n",
       "      <td>I have notice some charges to my checking acco...</td>\n",
       "      <td>notice charges checking account. merchant cha...</td>\n",
       "      <td>9</td>\n",
       "      <td>0.067669</td>\n",
       "    </tr>\n",
       "    <tr>\n",
       "      <th>3</th>\n",
       "      <td>\" PayPal Credit '' gave me a credit line of {$...</td>\n",
       "      <td>Bank account or service</td>\n",
       "      <td>['PayPal', 'Credit', 'gave', 'credit', 'line',...</td>\n",
       "      <td>116</td>\n",
       "      <td>840</td>\n",
       "      <td>7</td>\n",
       "      <td>91</td>\n",
       "      <td>['XXXX']</td>\n",
       "      <td>1</td>\n",
       "      <td>0.003846</td>\n",
       "      <td>\" PayPal Credit '' gave me a credit line of {$...</td>\n",
       "      <td>\" PayPal Credit '' gave me a credit line of {$...</td>\n",
       "      <td>PayPal Credit gave credit line $ 1200.00 onli...</td>\n",
       "      <td>1</td>\n",
       "      <td>0.008621</td>\n",
       "    </tr>\n",
       "    <tr>\n",
       "      <th>4</th>\n",
       "      <td>I opened a checking account with Simple Bank (...</td>\n",
       "      <td>Bank account or service</td>\n",
       "      <td>['opened', 'checking', 'account', 'Simple', 'B...</td>\n",
       "      <td>196</td>\n",
       "      <td>1417</td>\n",
       "      <td>7</td>\n",
       "      <td>122</td>\n",
       "      <td>['XXXX', 'XXXX,', 'XXXX', 'XXXX,', 'XXXX/XXXX/...</td>\n",
       "      <td>20</td>\n",
       "      <td>0.042194</td>\n",
       "      <td>I opened a checking account with Simple Bank (...</td>\n",
       "      <td>I opened a checking account with Simple Bank (...</td>\n",
       "      <td>opened checking account Simple Bank BBVA Comp...</td>\n",
       "      <td>13</td>\n",
       "      <td>0.066327</td>\n",
       "    </tr>\n",
       "  </tbody>\n",
       "</table>\n",
       "</div>\n",
       "      <button class=\"colab-df-convert\" onclick=\"convertToInteractive('df-6174ae7c-0a89-4158-8792-09c23134b994')\"\n",
       "              title=\"Convert this dataframe to an interactive table.\"\n",
       "              style=\"display:none;\">\n",
       "        \n",
       "  <svg xmlns=\"http://www.w3.org/2000/svg\" height=\"24px\"viewBox=\"0 0 24 24\"\n",
       "       width=\"24px\">\n",
       "    <path d=\"M0 0h24v24H0V0z\" fill=\"none\"/>\n",
       "    <path d=\"M18.56 5.44l.94 2.06.94-2.06 2.06-.94-2.06-.94-.94-2.06-.94 2.06-2.06.94zm-11 1L8.5 8.5l.94-2.06 2.06-.94-2.06-.94L8.5 2.5l-.94 2.06-2.06.94zm10 10l.94 2.06.94-2.06 2.06-.94-2.06-.94-.94-2.06-.94 2.06-2.06.94z\"/><path d=\"M17.41 7.96l-1.37-1.37c-.4-.4-.92-.59-1.43-.59-.52 0-1.04.2-1.43.59L10.3 9.45l-7.72 7.72c-.78.78-.78 2.05 0 2.83L4 21.41c.39.39.9.59 1.41.59.51 0 1.02-.2 1.41-.59l7.78-7.78 2.81-2.81c.8-.78.8-2.07 0-2.86zM5.41 20L4 18.59l7.72-7.72 1.47 1.35L5.41 20z\"/>\n",
       "  </svg>\n",
       "      </button>\n",
       "      \n",
       "  <style>\n",
       "    .colab-df-container {\n",
       "      display:flex;\n",
       "      flex-wrap:wrap;\n",
       "      gap: 12px;\n",
       "    }\n",
       "\n",
       "    .colab-df-convert {\n",
       "      background-color: #E8F0FE;\n",
       "      border: none;\n",
       "      border-radius: 50%;\n",
       "      cursor: pointer;\n",
       "      display: none;\n",
       "      fill: #1967D2;\n",
       "      height: 32px;\n",
       "      padding: 0 0 0 0;\n",
       "      width: 32px;\n",
       "    }\n",
       "\n",
       "    .colab-df-convert:hover {\n",
       "      background-color: #E2EBFA;\n",
       "      box-shadow: 0px 1px 2px rgba(60, 64, 67, 0.3), 0px 1px 3px 1px rgba(60, 64, 67, 0.15);\n",
       "      fill: #174EA6;\n",
       "    }\n",
       "\n",
       "    [theme=dark] .colab-df-convert {\n",
       "      background-color: #3B4455;\n",
       "      fill: #D2E3FC;\n",
       "    }\n",
       "\n",
       "    [theme=dark] .colab-df-convert:hover {\n",
       "      background-color: #434B5C;\n",
       "      box-shadow: 0px 1px 3px 1px rgba(0, 0, 0, 0.15);\n",
       "      filter: drop-shadow(0px 1px 2px rgba(0, 0, 0, 0.3));\n",
       "      fill: #FFFFFF;\n",
       "    }\n",
       "  </style>\n",
       "\n",
       "      <script>\n",
       "        const buttonEl =\n",
       "          document.querySelector('#df-6174ae7c-0a89-4158-8792-09c23134b994 button.colab-df-convert');\n",
       "        buttonEl.style.display =\n",
       "          google.colab.kernel.accessAllowed ? 'block' : 'none';\n",
       "\n",
       "        async function convertToInteractive(key) {\n",
       "          const element = document.querySelector('#df-6174ae7c-0a89-4158-8792-09c23134b994');\n",
       "          const dataTable =\n",
       "            await google.colab.kernel.invokeFunction('convertToInteractive',\n",
       "                                                     [key], {});\n",
       "          if (!dataTable) return;\n",
       "\n",
       "          const docLinkHtml = 'Like what you see? Visit the ' +\n",
       "            '<a target=\"_blank\" href=https://colab.research.google.com/notebooks/data_table.ipynb>data table notebook</a>'\n",
       "            + ' to learn more about interactive tables.';\n",
       "          element.innerHTML = '';\n",
       "          dataTable['output_type'] = 'display_data';\n",
       "          await google.colab.output.renderOutput(dataTable, element);\n",
       "          const docLink = document.createElement('div');\n",
       "          docLink.innerHTML = docLinkHtml;\n",
       "          element.appendChild(docLink);\n",
       "        }\n",
       "      </script>\n",
       "    </div>\n",
       "  </div>\n",
       "  "
      ],
      "text/plain": [
       "                        consumer_complaint_narrative                  product  \\\n",
       "0  Have two issues with my wellsfargo accounts : ...  Bank account or service   \n",
       "1  On or about XXXX XXXX, 2016, I logged into my ...  Bank account or service   \n",
       "2  I have notice some charges to my checking acco...  Bank account or service   \n",
       "3  \" PayPal Credit '' gave me a credit line of {$...  Bank account or service   \n",
       "4  I opened a checking account with Simple Bank (...  Bank account or service   \n",
       "\n",
       "                             split_words_whitespaces  number_of_words  \\\n",
       "0  ['issues', 'wellsfargo', 'accounts', '1.', 'ba...              105   \n",
       "1  ['<MASK>', '2016', 'logged', 'Flagstar', 'Bank...              140   \n",
       "2  ['notice', 'charges', 'checking', 'account.', ...              133   \n",
       "3  ['PayPal', 'Credit', 'gave', 'credit', 'line',...              116   \n",
       "4  ['opened', 'checking', 'account', 'Simple', 'B...              196   \n",
       "\n",
       "   number_of_charachters  charachters_by_words  number_of_unique_words  \\\n",
       "0                    763                     7                      66   \n",
       "1                   1049                     7                      80   \n",
       "2                    950                     7                      86   \n",
       "3                    840                     7                      91   \n",
       "4                   1417                     7                     122   \n",
       "\n",
       "                                 potenial_mask_words  \\\n",
       "0  ['XXXX', 'XXXX', 'XXXX', 'XXXX', 'XXXX.', 'XXXX']   \n",
       "1  ['XXXX', 'XXXX,', 'XXXX', 'XXXX,', 'XXXX', 'XX...   \n",
       "2  ['XXXX', 'XXXX,', 'XXXX', 'XXXX.', 'XXXX', 'XX...   \n",
       "3                                           ['XXXX']   \n",
       "4  ['XXXX', 'XXXX,', 'XXXX', 'XXXX,', 'XXXX/XXXX/...   \n",
       "\n",
       "   number_of_potenial_mask_words  potenial_mask_words_BY_words  \\\n",
       "0                              6                      0.025424   \n",
       "1                              8                      0.026316   \n",
       "2                             12                      0.037618   \n",
       "3                              1                      0.003846   \n",
       "4                             20                      0.042194   \n",
       "\n",
       "                                           spacy_doc  \\\n",
       "0  Have two issues with my wellsfargo accounts : ...   \n",
       "1  On or about XXXX XXXX, 2016, I logged into my ...   \n",
       "2  I have notice some charges to my checking acco...   \n",
       "3  \" PayPal Credit '' gave me a credit line of {$...   \n",
       "4  I opened a checking account with Simple Bank (...   \n",
       "\n",
       "                                         Masked_text  \\\n",
       "0  Have two issues with my wellsfargo accounts : ...   \n",
       "1  On or about  <MASK> , 2016, I logged into my F...   \n",
       "2  I have notice some charges to my checking acco...   \n",
       "3  \" PayPal Credit '' gave me a credit line of {$...   \n",
       "4  I opened a checking account with Simple Bank (...   \n",
       "\n",
       "                                         Change_text  number_of_<MASK>  \\\n",
       "0   issues wellsfargo accounts 1. bank continue c...                 6   \n",
       "1   <MASK> 2016 logged Flagstar Bank checking acc...                 4   \n",
       "2   notice charges checking account. merchant cha...                 9   \n",
       "3   PayPal Credit gave credit line $ 1200.00 onli...                 1   \n",
       "4   opened checking account Simple Bank BBVA Comp...                13   \n",
       "\n",
       "   <MASK>_BY_WORDS  \n",
       "0         0.057143  \n",
       "1         0.028571  \n",
       "2         0.067669  \n",
       "3         0.008621  \n",
       "4         0.066327  "
      ]
     },
     "execution_count": 6,
     "metadata": {},
     "output_type": "execute_result"
    }
   ],
   "source": [
    "#Load the data\n",
    "import pandas as pd\n",
    "\n",
    "sample_df = pd.read_csv(sample_data_path_clean, dtype={\"Consumer complaint narrative\": \"string\", \"Consumer consent provided?\": \"string\", \"Timely response?\":\"string\"})\n",
    "sample_df.head()\n"
   ]
  },
  {
   "cell_type": "code",
   "execution_count": 7,
   "metadata": {
    "colab": {
     "base_uri": "https://localhost:8080/"
    },
    "id": "2LH6N19EqhuW",
    "outputId": "4034b838-69fd-466f-be80-4aacb030bd97"
   },
   "outputs": [
    {
     "name": "stdout",
     "output_type": "stream",
     "text": [
      "<class 'pandas.core.frame.DataFrame'>\n",
      "RangeIndex: 26826 entries, 0 to 26825\n",
      "Data columns (total 15 columns):\n",
      " #   Column                         Non-Null Count  Dtype  \n",
      "---  ------                         --------------  -----  \n",
      " 0   consumer_complaint_narrative   26826 non-null  object \n",
      " 1   Topic                          26826 non-null  object \n",
      " 2   split_words_whitespaces        26826 non-null  object \n",
      " 3   number_of_words                26826 non-null  int64  \n",
      " 4   number_of_charachters          26826 non-null  int64  \n",
      " 5   charachters_by_words           26826 non-null  int64  \n",
      " 6   number_of_unique_words         26826 non-null  int64  \n",
      " 7   potenial_mask_words            26826 non-null  object \n",
      " 8   number_of_potenial_mask_words  26826 non-null  int64  \n",
      " 9   potenial_mask_words_BY_words   26826 non-null  float64\n",
      " 10  spacy_doc                      26826 non-null  object \n",
      " 11  Masked_text                    26826 non-null  object \n",
      " 12  Text                           26826 non-null  object \n",
      " 13  number_of_<MASK>               26826 non-null  int64  \n",
      " 14  <MASK>_BY_WORDS                26826 non-null  float64\n",
      "dtypes: float64(2), int64(6), object(7)\n",
      "memory usage: 3.1+ MB\n"
     ]
    }
   ],
   "source": [
    "data = sample_df.copy()\n",
    "data.rename(columns = {'Change_text':'Text', 'product':'Topic'}, inplace = True)\n",
    "data.info()"
   ]
  },
  {
   "cell_type": "code",
   "execution_count": 8,
   "metadata": {
    "colab": {
     "base_uri": "https://localhost:8080/"
    },
    "id": "yH0QhmSTPMj0",
    "outputId": "c2849b2c-58bd-468b-dc86-54dca4059caf"
   },
   "outputs": [
    {
     "data": {
      "text/plain": [
       "Credit reporting, credit repair services, or other personal consumer reports    8918\n",
       "Debt collection                                                                 5319\n",
       "Credit card or prepaid card                                                     3459\n",
       "Mortgage                                                                        3362\n",
       "Student loan                                                                    1502\n",
       "Checking or savings account                                                     1324\n",
       "Bank account or service                                                          898\n",
       "Money transfer/s, virtual currency, or money service                             546\n",
       "Consumer Loan                                                                    508\n",
       "Payday loan, title loan, or personal loan                                        500\n",
       "Vehicle loan or lease                                                            490\n",
       "Name: Topic, dtype: int64"
      ]
     },
     "execution_count": 8,
     "metadata": {},
     "output_type": "execute_result"
    }
   ],
   "source": [
    "data['Topic'].value_counts()"
   ]
  },
  {
   "cell_type": "code",
   "execution_count": 9,
   "metadata": {
    "colab": {
     "base_uri": "https://localhost:8080/"
    },
    "id": "1IgsXbNJPq9s",
    "outputId": "0e5f3bf5-fe99-4b71-9a90-6f0366d90104"
   },
   "outputs": [
    {
     "name": "stdout",
     "output_type": "stream",
     "text": [
      "<class 'pandas.core.frame.DataFrame'>\n",
      "RangeIndex: 25619 entries, 0 to 25618\n",
      "Data columns (total 15 columns):\n",
      " #   Column                         Non-Null Count  Dtype  \n",
      "---  ------                         --------------  -----  \n",
      " 0   consumer_complaint_narrative   25619 non-null  object \n",
      " 1   Topic                          25619 non-null  object \n",
      " 2   split_words_whitespaces        25619 non-null  object \n",
      " 3   number_of_words                25619 non-null  int64  \n",
      " 4   number_of_charachters          25619 non-null  int64  \n",
      " 5   charachters_by_words           25619 non-null  int64  \n",
      " 6   number_of_unique_words         25619 non-null  int64  \n",
      " 7   potenial_mask_words            25619 non-null  object \n",
      " 8   number_of_potenial_mask_words  25619 non-null  int64  \n",
      " 9   potenial_mask_words_BY_words   25619 non-null  float64\n",
      " 10  spacy_doc                      25619 non-null  object \n",
      " 11  Masked_text                    25619 non-null  object \n",
      " 12  Text                           25619 non-null  object \n",
      " 13  number_of_<MASK>               25619 non-null  int64  \n",
      " 14  <MASK>_BY_WORDS                25619 non-null  float64\n",
      "dtypes: float64(2), int64(6), object(7)\n",
      "memory usage: 2.9+ MB\n"
     ]
    }
   ],
   "source": [
    "#Drop duplicate 'Text'\n",
    "data = data.drop_duplicates(subset=['Text']).reset_index(drop= True)\n",
    "data.info()"
   ]
  },
  {
   "cell_type": "code",
   "execution_count": 10,
   "metadata": {
    "colab": {
     "base_uri": "https://localhost:8080/"
    },
    "id": "BLMjatJgoRM8",
    "outputId": "6a357d64-06b0-4d7d-b503-e4044cf0e4f1"
   },
   "outputs": [
    {
     "name": "stdout",
     "output_type": "stream",
     "text": [
      "<class 'pandas.core.frame.DataFrame'>\n",
      "RangeIndex: 25619 entries, 0 to 25618\n",
      "Data columns (total 2 columns):\n",
      " #   Column  Non-Null Count  Dtype \n",
      "---  ------  --------------  ----- \n",
      " 0   Text    25619 non-null  object\n",
      " 1   Topic   25619 non-null  object\n",
      "dtypes: object(2)\n",
      "memory usage: 400.4+ KB\n"
     ]
    }
   ],
   "source": [
    "data = data.loc[:,['Text','Topic']]\n",
    "data.info()"
   ]
  },
  {
   "cell_type": "code",
   "execution_count": 57,
   "metadata": {
    "colab": {
     "base_uri": "https://localhost:8080/",
     "height": 206
    },
    "id": "iWEJYGBIG1lf",
    "outputId": "c4ef773d-01d0-4d58-efca-16542896ab63"
   },
   "outputs": [
    {
     "data": {
      "text/html": [
       "\n",
       "  <div id=\"df-396e10e5-016a-48ff-98a0-6f3046fa0bc1\">\n",
       "    <div class=\"colab-df-container\">\n",
       "      <div>\n",
       "<style scoped>\n",
       "    .dataframe tbody tr th:only-of-type {\n",
       "        vertical-align: middle;\n",
       "    }\n",
       "\n",
       "    .dataframe tbody tr th {\n",
       "        vertical-align: top;\n",
       "    }\n",
       "\n",
       "    .dataframe thead th {\n",
       "        text-align: right;\n",
       "    }\n",
       "</style>\n",
       "<table border=\"1\" class=\"dataframe\">\n",
       "  <thead>\n",
       "    <tr style=\"text-align: right;\">\n",
       "      <th></th>\n",
       "      <th>Text</th>\n",
       "      <th>Topic</th>\n",
       "    </tr>\n",
       "  </thead>\n",
       "  <tbody>\n",
       "    <tr>\n",
       "      <th>25614</th>\n",
       "      <td>reviewing current credit report bureau came a...</td>\n",
       "      <td>Vehicle loan or lease</td>\n",
       "    </tr>\n",
       "    <tr>\n",
       "      <th>25615</th>\n",
       "      <td>turned leased vehicle told owed. Shortly bega...</td>\n",
       "      <td>Vehicle loan or lease</td>\n",
       "    </tr>\n",
       "    <tr>\n",
       "      <th>25616</th>\n",
       "      <td>particular account situation lately filing cr...</td>\n",
       "      <td>Vehicle loan or lease</td>\n",
       "    </tr>\n",
       "    <tr>\n",
       "      <th>25617</th>\n",
       "      <td>&lt;MASK&gt; &lt;MASK&gt; &lt;MASK&gt; purchased vehicle financ...</td>\n",
       "      <td>Vehicle loan or lease</td>\n",
       "    </tr>\n",
       "    <tr>\n",
       "      <th>25618</th>\n",
       "      <td>Exeter allow payments loan. want repossess con...</td>\n",
       "      <td>Vehicle loan or lease</td>\n",
       "    </tr>\n",
       "  </tbody>\n",
       "</table>\n",
       "</div>\n",
       "      <button class=\"colab-df-convert\" onclick=\"convertToInteractive('df-396e10e5-016a-48ff-98a0-6f3046fa0bc1')\"\n",
       "              title=\"Convert this dataframe to an interactive table.\"\n",
       "              style=\"display:none;\">\n",
       "        \n",
       "  <svg xmlns=\"http://www.w3.org/2000/svg\" height=\"24px\"viewBox=\"0 0 24 24\"\n",
       "       width=\"24px\">\n",
       "    <path d=\"M0 0h24v24H0V0z\" fill=\"none\"/>\n",
       "    <path d=\"M18.56 5.44l.94 2.06.94-2.06 2.06-.94-2.06-.94-.94-2.06-.94 2.06-2.06.94zm-11 1L8.5 8.5l.94-2.06 2.06-.94-2.06-.94L8.5 2.5l-.94 2.06-2.06.94zm10 10l.94 2.06.94-2.06 2.06-.94-2.06-.94-.94-2.06-.94 2.06-2.06.94z\"/><path d=\"M17.41 7.96l-1.37-1.37c-.4-.4-.92-.59-1.43-.59-.52 0-1.04.2-1.43.59L10.3 9.45l-7.72 7.72c-.78.78-.78 2.05 0 2.83L4 21.41c.39.39.9.59 1.41.59.51 0 1.02-.2 1.41-.59l7.78-7.78 2.81-2.81c.8-.78.8-2.07 0-2.86zM5.41 20L4 18.59l7.72-7.72 1.47 1.35L5.41 20z\"/>\n",
       "  </svg>\n",
       "      </button>\n",
       "      \n",
       "  <style>\n",
       "    .colab-df-container {\n",
       "      display:flex;\n",
       "      flex-wrap:wrap;\n",
       "      gap: 12px;\n",
       "    }\n",
       "\n",
       "    .colab-df-convert {\n",
       "      background-color: #E8F0FE;\n",
       "      border: none;\n",
       "      border-radius: 50%;\n",
       "      cursor: pointer;\n",
       "      display: none;\n",
       "      fill: #1967D2;\n",
       "      height: 32px;\n",
       "      padding: 0 0 0 0;\n",
       "      width: 32px;\n",
       "    }\n",
       "\n",
       "    .colab-df-convert:hover {\n",
       "      background-color: #E2EBFA;\n",
       "      box-shadow: 0px 1px 2px rgba(60, 64, 67, 0.3), 0px 1px 3px 1px rgba(60, 64, 67, 0.15);\n",
       "      fill: #174EA6;\n",
       "    }\n",
       "\n",
       "    [theme=dark] .colab-df-convert {\n",
       "      background-color: #3B4455;\n",
       "      fill: #D2E3FC;\n",
       "    }\n",
       "\n",
       "    [theme=dark] .colab-df-convert:hover {\n",
       "      background-color: #434B5C;\n",
       "      box-shadow: 0px 1px 3px 1px rgba(0, 0, 0, 0.15);\n",
       "      filter: drop-shadow(0px 1px 2px rgba(0, 0, 0, 0.3));\n",
       "      fill: #FFFFFF;\n",
       "    }\n",
       "  </style>\n",
       "\n",
       "      <script>\n",
       "        const buttonEl =\n",
       "          document.querySelector('#df-396e10e5-016a-48ff-98a0-6f3046fa0bc1 button.colab-df-convert');\n",
       "        buttonEl.style.display =\n",
       "          google.colab.kernel.accessAllowed ? 'block' : 'none';\n",
       "\n",
       "        async function convertToInteractive(key) {\n",
       "          const element = document.querySelector('#df-396e10e5-016a-48ff-98a0-6f3046fa0bc1');\n",
       "          const dataTable =\n",
       "            await google.colab.kernel.invokeFunction('convertToInteractive',\n",
       "                                                     [key], {});\n",
       "          if (!dataTable) return;\n",
       "\n",
       "          const docLinkHtml = 'Like what you see? Visit the ' +\n",
       "            '<a target=\"_blank\" href=https://colab.research.google.com/notebooks/data_table.ipynb>data table notebook</a>'\n",
       "            + ' to learn more about interactive tables.';\n",
       "          element.innerHTML = '';\n",
       "          dataTable['output_type'] = 'display_data';\n",
       "          await google.colab.output.renderOutput(dataTable, element);\n",
       "          const docLink = document.createElement('div');\n",
       "          docLink.innerHTML = docLinkHtml;\n",
       "          element.appendChild(docLink);\n",
       "        }\n",
       "      </script>\n",
       "    </div>\n",
       "  </div>\n",
       "  "
      ],
      "text/plain": [
       "                                                    Text  \\\n",
       "25614   reviewing current credit report bureau came a...   \n",
       "25615   turned leased vehicle told owed. Shortly bega...   \n",
       "25616   particular account situation lately filing cr...   \n",
       "25617   <MASK> <MASK> <MASK> purchased vehicle financ...   \n",
       "25618  Exeter allow payments loan. want repossess con...   \n",
       "\n",
       "                       Topic  \n",
       "25614  Vehicle loan or lease  \n",
       "25615  Vehicle loan or lease  \n",
       "25616  Vehicle loan or lease  \n",
       "25617  Vehicle loan or lease  \n",
       "25618  Vehicle loan or lease  "
      ]
     },
     "execution_count": 57,
     "metadata": {},
     "output_type": "execute_result"
    }
   ],
   "source": [
    "data.tail()"
   ]
  },
  {
   "cell_type": "code",
   "execution_count": 11,
   "metadata": {
    "colab": {
     "base_uri": "https://localhost:8080/"
    },
    "id": "cHkxjJUqsjlV",
    "outputId": "e635c6e0-5ec4-4465-daea-aa8d17bef1c0"
   },
   "outputs": [
    {
     "data": {
      "text/plain": [
       "Dataset({\n",
       "    features: ['Text', 'Topic'],\n",
       "    num_rows: 25619\n",
       "})"
      ]
     },
     "execution_count": 11,
     "metadata": {},
     "output_type": "execute_result"
    }
   ],
   "source": [
    "#Convert the Data into HuggingFace Dataset\n",
    "from datasets import Dataset\n",
    "dataset = Dataset.from_pandas(data)\n",
    "dataset"
   ]
  },
  {
   "cell_type": "markdown",
   "metadata": {
    "id": "4KoNgkasXvkF"
   },
   "source": [
    "The dataset has to be split into training, validation and test set. Let's check the first example of the dataset:\n",
    "\n"
   ]
  },
  {
   "cell_type": "code",
   "execution_count": 12,
   "metadata": {
    "colab": {
     "base_uri": "https://localhost:8080/"
    },
    "id": "9mdy4kv_Xq7_",
    "outputId": "23ad56d9-6d6e-4799-876d-8a1f44d34606"
   },
   "outputs": [
    {
     "data": {
      "text/plain": [
       "{'Text': ' issues wellsfargo accounts 1. bank continue charge overdraft fees online transfers balance <MASK> charged <MASK> fees the last 4 weeks.  2. bank <MASK> double paid employees payroll process direct deposits voided payroll. retrieve funds employees double paid inert debited business account drew account <MASK> records called directed pay employees manually voided payroll. bank refuses accountability.  3. payroll issue bank started taking money rent account cover payroll overdraft created. removed money rent account bounced rent checks business cause rent account overdrawn <MASK>. bank taking accountability feels like want business accounts. bank business financial jeopardy. charged business accounts close <MASK> incorrect overdraft fees the last 8 weeks.',\n",
       " 'Topic': 'Bank account or service'}"
      ]
     },
     "execution_count": 12,
     "metadata": {},
     "output_type": "execute_result"
    }
   ],
   "source": [
    "example = dataset[0]\n",
    "example"
   ]
  },
  {
   "cell_type": "markdown",
   "metadata": {
    "id": "4NxoB_pEeoqC"
   },
   "source": [
    "The dataset consists of text, with one or more topic labels. Let's check the frequency count of the labels "
   ]
  },
  {
   "cell_type": "code",
   "execution_count": 13,
   "metadata": {
    "id": "6vt39IT-PIrJ"
   },
   "outputs": [],
   "source": [
    "#Define the function to check the frequency count of elements in the list\n",
    "def frequency_count(mylist):\n",
    "  frequency = collections.Counter(mylist)\n",
    "  [print(key,':',value) for key, value in frequency.items()]"
   ]
  },
  {
   "cell_type": "code",
   "execution_count": 14,
   "metadata": {
    "colab": {
     "base_uri": "https://localhost:8080/"
    },
    "id": "xexP8nBkUxFH",
    "outputId": "c6b89388-225b-4732-867a-fadc2c7ffeef"
   },
   "outputs": [
    {
     "name": "stdout",
     "output_type": "stream",
     "text": [
      "The Frequency of Topics in the Dataset : \n",
      "\n",
      "Bank account or service : 897\n",
      "Checking or savings account : 1324\n",
      "Consumer Loan : 507\n",
      "Credit card or prepaid card : 3424\n",
      "Credit reporting, credit repair services, or other personal consumer reports : 7928\n",
      "Debt collection : 5171\n",
      "Money transfer/s, virtual currency, or money service : 545\n",
      "Mortgage : 3356\n",
      "Payday loan, title loan, or personal loan : 497\n",
      "Student loan : 1494\n",
      "Vehicle loan or lease : 476\n"
     ]
    }
   ],
   "source": [
    "print(\"The Frequency of Topics in the Dataset : \\n\")\n",
    "frequency_count(dataset['Topic'])"
   ]
  },
  {
   "cell_type": "markdown",
   "metadata": {
    "id": "O2vMBpfuVQxk"
   },
   "source": [
    "Let's sort the dataset by Topic name"
   ]
  },
  {
   "cell_type": "code",
   "execution_count": 15,
   "metadata": {
    "id": "hijMDEeKVU8-"
   },
   "outputs": [],
   "source": [
    "dataset= dataset.sort('Topic')"
   ]
  },
  {
   "cell_type": "code",
   "execution_count": 16,
   "metadata": {
    "colab": {
     "base_uri": "https://localhost:8080/"
    },
    "id": "RZQbBWHxVZ2V",
    "outputId": "d1b936cf-920b-433a-f959-3b2dfadb0320"
   },
   "outputs": [
    {
     "name": "stdout",
     "output_type": "stream",
     "text": [
      "The Frequency of Topics in the Dataset : \n",
      "\n",
      "Bank account or service : 897\n",
      "Checking or savings account : 1324\n",
      "Consumer Loan : 507\n",
      "Credit card or prepaid card : 3424\n",
      "Credit reporting, credit repair services, or other personal consumer reports : 7928\n",
      "Debt collection : 5171\n",
      "Money transfer/s, virtual currency, or money service : 545\n",
      "Mortgage : 3356\n",
      "Payday loan, title loan, or personal loan : 497\n",
      "Student loan : 1494\n",
      "Vehicle loan or lease : 476\n"
     ]
    }
   ],
   "source": [
    "print(\"The Frequency of Topics in the Dataset : \\n\")\n",
    "frequency_count(dataset['Topic'])"
   ]
  },
  {
   "cell_type": "markdown",
   "metadata": {
    "id": "MUfKp87VVHI_"
   },
   "source": [
    "Let's look at the features of the dataset"
   ]
  },
  {
   "cell_type": "code",
   "execution_count": 17,
   "metadata": {
    "colab": {
     "base_uri": "https://localhost:8080/"
    },
    "id": "OWINgHQnVJ5f",
    "outputId": "a135da28-3385-4ec1-eb90-c350d76132d5"
   },
   "outputs": [
    {
     "data": {
      "text/plain": [
       "{'Text': Value(dtype='string', id=None),\n",
       " 'Topic': Value(dtype='string', id=None)}"
      ]
     },
     "execution_count": 17,
     "metadata": {},
     "output_type": "execute_result"
    }
   ],
   "source": [
    "dataset.features"
   ]
  },
  {
   "cell_type": "markdown",
   "metadata": {
    "id": "DhDaRWplVTuC"
   },
   "source": [
    "Let's rename the columns Text to sentence and Topic to label"
   ]
  },
  {
   "cell_type": "code",
   "execution_count": 18,
   "metadata": {
    "colab": {
     "base_uri": "https://localhost:8080/"
    },
    "id": "kgGN5gc4VUyb",
    "outputId": "c1c6f1ad-7560-40cd-9f3d-940d0f655cba"
   },
   "outputs": [
    {
     "data": {
      "text/plain": [
       "Dataset({\n",
       "    features: ['sentence', 'label'],\n",
       "    num_rows: 25619\n",
       "})"
      ]
     },
     "execution_count": 18,
     "metadata": {},
     "output_type": "execute_result"
    }
   ],
   "source": [
    "dataset = dataset.rename_column(\"Text\", \"sentence\")\n",
    "dataset = dataset.rename_column(\"Topic\", \"label\")\n",
    "dataset"
   ]
  },
  {
   "cell_type": "markdown",
   "metadata": {
    "id": "p9kyy8v_tjkY"
   },
   "source": [
    "Let's create a list that contains the labels, as well as 2 dictionaries that map labels to integers and back."
   ]
  },
  {
   "cell_type": "code",
   "execution_count": 19,
   "metadata": {
    "colab": {
     "base_uri": "https://localhost:8080/"
    },
    "id": "ugIFhNg3trOP",
    "outputId": "8c3b190c-8fe4-41d1-c7d5-d7aaee332958"
   },
   "outputs": [
    {
     "data": {
      "text/plain": [
       "['Bank account or service',\n",
       " 'Checking or savings account',\n",
       " 'Consumer Loan',\n",
       " 'Credit card or prepaid card',\n",
       " 'Credit reporting, credit repair services, or other personal consumer reports',\n",
       " 'Debt collection',\n",
       " 'Money transfer/s, virtual currency, or money service',\n",
       " 'Mortgage',\n",
       " 'Payday loan, title loan, or personal loan',\n",
       " 'Student loan',\n",
       " 'Vehicle loan or lease']"
      ]
     },
     "execution_count": 19,
     "metadata": {},
     "output_type": "execute_result"
    }
   ],
   "source": [
    "labels = sorted(list(set(dataset['label'])))\n",
    "id2label = {idx:label for idx, label in enumerate(labels)}\n",
    "label2id = {label:idx for idx, label in enumerate(labels)}\n",
    "labels"
   ]
  },
  {
   "cell_type": "markdown",
   "metadata": {
    "id": "VsvsAIRAMMVj"
   },
   "source": [
    "The dataset consists of 11 topics."
   ]
  },
  {
   "cell_type": "markdown",
   "metadata": {
    "id": "UKukAGDvp7cP"
   },
   "source": [
    "## Splitting the Data into Train, Validation and Test set\n",
    "\n",
    "\n",
    "\n",
    "\n"
   ]
  },
  {
   "cell_type": "code",
   "execution_count": 20,
   "metadata": {
    "id": "ol_9v8qaqT7H"
   },
   "outputs": [],
   "source": [
    "fix_seed =42\n",
    "from sklearn.model_selection import train_test_split"
   ]
  },
  {
   "cell_type": "code",
   "execution_count": 21,
   "metadata": {
    "id": "pMKJRWshPTVE"
   },
   "outputs": [],
   "source": [
    "#split data into train_val and test set \n",
    "X= dataset['sentence']\n",
    "y= dataset['label']\n",
    "X_train_val, X_test, y_train_val, y_test = train_test_split(X, y, test_size=0.1,stratify=y ,random_state=fix_seed)"
   ]
  },
  {
   "cell_type": "code",
   "execution_count": 22,
   "metadata": {
    "id": "c0FTvgIqPTlq"
   },
   "outputs": [],
   "source": [
    "#split data into train and validation set \n",
    "X_train, X_val,y_train, y_val = train_test_split(X_train_val, y_train_val,stratify=y_train_val, test_size=0.2, random_state=fix_seed)"
   ]
  },
  {
   "cell_type": "code",
   "execution_count": 23,
   "metadata": {
    "colab": {
     "base_uri": "https://localhost:8080/"
    },
    "id": "uqeaiHLFp3d1",
    "outputId": "a8458a42-ffe3-4f2d-e5cd-6819bd48b04a"
   },
   "outputs": [
    {
     "data": {
      "text/plain": [
       "Dataset({\n",
       "    features: ['sentence', 'label'],\n",
       "    num_rows: 18445\n",
       "})"
      ]
     },
     "execution_count": 23,
     "metadata": {},
     "output_type": "execute_result"
    }
   ],
   "source": [
    "dict_train = {\"sentence\": X_train,\"label\":y_train}\n",
    "train_data = Dataset.from_dict(dict_train)\n",
    "train_data"
   ]
  },
  {
   "cell_type": "code",
   "execution_count": 24,
   "metadata": {
    "colab": {
     "base_uri": "https://localhost:8080/"
    },
    "id": "UikJEfdoUS7w",
    "outputId": "768d8a61-bbf8-4f26-f134-f9dfb515ab0c"
   },
   "outputs": [
    {
     "data": {
      "text/plain": [
       "Dataset({\n",
       "    features: ['sentence', 'label'],\n",
       "    num_rows: 4612\n",
       "})"
      ]
     },
     "execution_count": 24,
     "metadata": {},
     "output_type": "execute_result"
    }
   ],
   "source": [
    "dict_val = {\"sentence\": X_val,\"label\":y_val}\n",
    "val_data = Dataset.from_dict(dict_val)\n",
    "val_data"
   ]
  },
  {
   "cell_type": "code",
   "execution_count": 25,
   "metadata": {
    "colab": {
     "base_uri": "https://localhost:8080/"
    },
    "id": "GIERzmqJUTEQ",
    "outputId": "a1ae0719-eee3-4054-fc32-6d81935abab1"
   },
   "outputs": [
    {
     "data": {
      "text/plain": [
       "Dataset({\n",
       "    features: ['sentence', 'label'],\n",
       "    num_rows: 2562\n",
       "})"
      ]
     },
     "execution_count": 25,
     "metadata": {},
     "output_type": "execute_result"
    }
   ],
   "source": [
    "dict_test = {\"sentence\": X_test,\"label\":y_test}\n",
    "test_data = Dataset.from_dict(dict_test)\n",
    "test_data"
   ]
  },
  {
   "cell_type": "markdown",
   "metadata": {
    "id": "tGbsKDXm4QsW"
   },
   "source": [
    "Let's Check the Frequency Count of Train, Validation and Test label data"
   ]
  },
  {
   "cell_type": "code",
   "execution_count": 26,
   "metadata": {
    "colab": {
     "base_uri": "https://localhost:8080/"
    },
    "id": "78X1pl5yVyU2",
    "outputId": "df928bef-2b2b-4b43-8164-b66793285e8f"
   },
   "outputs": [
    {
     "name": "stdout",
     "output_type": "stream",
     "text": [
      "Bank account or service : 646\n",
      "Credit reporting, credit repair services, or other personal consumer reports : 5708\n",
      "Student loan : 1076\n",
      "Mortgage : 2416\n",
      "Consumer Loan : 365\n",
      "Payday loan, title loan, or personal loan : 358\n",
      "Credit card or prepaid card : 2465\n",
      "Debt collection : 3723\n",
      "Checking or savings account : 953\n",
      "Money transfer/s, virtual currency, or money service : 393\n",
      "Vehicle loan or lease : 342\n"
     ]
    }
   ],
   "source": [
    "frequency_count(y_train)"
   ]
  },
  {
   "cell_type": "code",
   "execution_count": 27,
   "metadata": {
    "colab": {
     "base_uri": "https://localhost:8080/"
    },
    "id": "_BdUm8uv4CuD",
    "outputId": "24b07c11-b894-45d2-d3b6-c82ceb192cc9"
   },
   "outputs": [
    {
     "name": "stdout",
     "output_type": "stream",
     "text": [
      "Mortgage : 604\n",
      "Consumer Loan : 91\n",
      "Credit reporting, credit repair services, or other personal consumer reports : 1427\n",
      "Credit card or prepaid card : 617\n",
      "Bank account or service : 161\n",
      "Debt collection : 931\n",
      "Checking or savings account : 239\n",
      "Money transfer/s, virtual currency, or money service : 98\n",
      "Student loan : 269\n",
      "Vehicle loan or lease : 86\n",
      "Payday loan, title loan, or personal loan : 89\n"
     ]
    }
   ],
   "source": [
    "frequency_count(y_val)"
   ]
  },
  {
   "cell_type": "code",
   "execution_count": 28,
   "metadata": {
    "colab": {
     "base_uri": "https://localhost:8080/"
    },
    "id": "zKNP7tWXV2_R",
    "outputId": "f0a801a2-614a-4339-c038-45d38947f4ac"
   },
   "outputs": [
    {
     "name": "stdout",
     "output_type": "stream",
     "text": [
      "Credit reporting, credit repair services, or other personal consumer reports : 793\n",
      "Debt collection : 517\n",
      "Mortgage : 336\n",
      "Credit card or prepaid card : 342\n",
      "Vehicle loan or lease : 48\n",
      "Money transfer/s, virtual currency, or money service : 54\n",
      "Bank account or service : 90\n",
      "Checking or savings account : 132\n",
      "Payday loan, title loan, or personal loan : 50\n",
      "Student loan : 149\n",
      "Consumer Loan : 51\n"
     ]
    }
   ],
   "source": [
    "frequency_count(y_test)"
   ]
  },
  {
   "cell_type": "code",
   "execution_count": 29,
   "metadata": {
    "colab": {
     "base_uri": "https://localhost:8080/"
    },
    "id": "xNZXfECRrzta",
    "outputId": "36d608cc-fe39-49b5-c44a-f210638c19c5"
   },
   "outputs": [
    {
     "data": {
      "text/plain": [
       "DatasetDict({\n",
       "    train: Dataset({\n",
       "        features: ['sentence', 'label'],\n",
       "        num_rows: 18445\n",
       "    })\n",
       "    validation: Dataset({\n",
       "        features: ['sentence', 'label'],\n",
       "        num_rows: 4612\n",
       "    })\n",
       "    test: Dataset({\n",
       "        features: ['sentence', 'label'],\n",
       "        num_rows: 2562\n",
       "    })\n",
       "})"
      ]
     },
     "execution_count": 29,
     "metadata": {},
     "output_type": "execute_result"
    }
   ],
   "source": [
    "from datasets.dataset_dict import DatasetDict\n",
    "dataset_clean = DatasetDict({\n",
    "    'train': train_data,\n",
    "    'validation': val_data,\n",
    "    'test': test_data\n",
    "})\n",
    "dataset_clean"
   ]
  },
  {
   "cell_type": "markdown",
   "metadata": {
    "id": "vN3TNouDhh0r"
   },
   "source": [
    "## Preprocess data\n",
    "\n",
    "\n",
    "Since the model don't expect text as direct input, but rather `input_ids`, etc., we tokenize the text using the tokenizer. Here I'm using the `AutoTokenizer` API, which will automatically load the appropriate tokenizer based on the checkpoint on the hub."
   ]
  },
  {
   "cell_type": "code",
   "execution_count": 30,
   "metadata": {
    "id": "ImOVtxX5jafN"
   },
   "outputs": [],
   "source": [
    "from transformers import AutoTokenizer\n",
    "\n",
    "tokenizer = AutoTokenizer.from_pretrained('distilbert-base-cased',num_labels=len(labels))"
   ]
  },
  {
   "cell_type": "code",
   "execution_count": 31,
   "metadata": {
    "id": "ceirRXfx2J8-"
   },
   "outputs": [],
   "source": [
    "import numpy as np\n",
    "def preprocess_data(examples):\n",
    "  # take a batch of texts\n",
    "  text = examples[\"sentence\"]\n",
    "  # encode them\n",
    "  encoding = tokenizer(text, padding=\"max_length\", truncation=True)\n",
    "  # add labels\n",
    "  encoding[\"labels\"] = [label2id[i] for i in examples[\"label\"]]\n",
    "  return encoding"
   ]
  },
  {
   "cell_type": "code",
   "execution_count": 32,
   "metadata": {
    "colab": {
     "base_uri": "https://localhost:8080/",
     "height": 113,
     "referenced_widgets": [
      "a79accafe2c247249889389a933aca37",
      "e27c33bbb03d44818938bcb4247e843c",
      "e6f455a212374b1ea836085dbefee41b",
      "f21ee482a845454c910594f8e6812aab",
      "116e4e4633ee468aaabdbf488968d8d7",
      "73d97d5c7ced4cfa9cad740bc3463298",
      "98add53e46b34fbab567f708b65ffce5",
      "f15c3ba3d2064891a966c630d9223b8e",
      "878e14ede1f147ee994be5896fa8166b",
      "d8e1f2fb62bc49be9018d09c326629b4",
      "b7eba397082b450281cf2343b4d6c9fd",
      "49128b678dfc4b97994ba2245c3ad8d8",
      "83ebc4d895664c188583bc2bef319dd9",
      "29065c9397a8470faf754a83eb9f0630",
      "ee6427665e864a38863987f08988b7c1",
      "372aacd334f64c3397e937b427ecc650",
      "686efd889df248e9b06f1e5f7b80bbd8",
      "bdb693dc8c054c818388de9f3da6c051",
      "2cb8571d3f944a9eb91c8b882b9e4530",
      "c31bd3056b2d44448b53ecfde463c393",
      "b77d3d2a7a0549d8908f6cb5188f16f3",
      "1e074825415d4295b0f660ccf6134bdf",
      "1e131d07b06c4975b21e5e1536b4a47f",
      "cd30348d2d9b4a67a2d843c65a64f99c",
      "57794c793f834e8ea9fbd5c1369d3a59",
      "98b28f05c47b4ca7b449456f6fde803b",
      "405e13c3262f46a4ac8e8a80bd3d2994",
      "5d37a924213140dda00c11bd0e9d9dcf",
      "32a08a5e0c5f4e5a80451201cee7ad92",
      "f719ce848451456a9db15c7280cdb29a",
      "2f6de0585b4c46ff95da4d2dd959f442",
      "e94d54bf30124380bd3cb81e5346fcac",
      "0928cf381e2d44a19c9bd9d2e1937458"
     ]
    },
    "id": "h_UqiFYw4A7K",
    "outputId": "37aad9b4-ac40-49e5-8d00-8e83d0b826f6"
   },
   "outputs": [
    {
     "data": {
      "application/vnd.jupyter.widget-view+json": {
       "model_id": "a79accafe2c247249889389a933aca37",
       "version_major": 2,
       "version_minor": 0
      },
      "text/plain": [
       "  0%|          | 0/19 [00:00<?, ?ba/s]"
      ]
     },
     "metadata": {},
     "output_type": "display_data"
    },
    {
     "data": {
      "application/vnd.jupyter.widget-view+json": {
       "model_id": "49128b678dfc4b97994ba2245c3ad8d8",
       "version_major": 2,
       "version_minor": 0
      },
      "text/plain": [
       "  0%|          | 0/5 [00:00<?, ?ba/s]"
      ]
     },
     "metadata": {},
     "output_type": "display_data"
    },
    {
     "data": {
      "application/vnd.jupyter.widget-view+json": {
       "model_id": "1e131d07b06c4975b21e5e1536b4a47f",
       "version_major": 2,
       "version_minor": 0
      },
      "text/plain": [
       "  0%|          | 0/3 [00:00<?, ?ba/s]"
      ]
     },
     "metadata": {},
     "output_type": "display_data"
    }
   ],
   "source": [
    "encoded_dataset = dataset_clean.map(preprocess_data, batched=True, remove_columns=dataset.column_names)"
   ]
  },
  {
   "cell_type": "code",
   "execution_count": 33,
   "metadata": {
    "colab": {
     "base_uri": "https://localhost:8080/"
    },
    "id": "I0hzVIE4ieS6",
    "outputId": "48a7ff58-88ef-4ebe-ea51-0291a2759c95"
   },
   "outputs": [
    {
     "name": "stdout",
     "output_type": "stream",
     "text": [
      "dict_keys(['input_ids', 'attention_mask', 'labels'])\n"
     ]
    }
   ],
   "source": [
    "example = encoded_dataset['train'][0]\n",
    "print(example.keys())"
   ]
  },
  {
   "cell_type": "code",
   "execution_count": 34,
   "metadata": {
    "colab": {
     "base_uri": "https://localhost:8080/",
     "height": 165
    },
    "id": "fDjhGfaGoOMi",
    "outputId": "c23c9f03-e8b9-422d-e076-ec18f4a25478"
   },
   "outputs": [
    {
     "data": {
      "application/vnd.google.colaboratory.intrinsic+json": {
       "type": "string"
      },
      "text/plain": [
       "'[CLS] hotel held funds debit card removed hold Tuesday < MASK >. bank showed hold account < MASK > provide easy way remove hold account. way remove conference hotel. called bank app contact method provided option party available. told rep said party assist. gave way resolve issue. second time USAA burden resolving errors. [SEP] [PAD] [PAD] [PAD] [PAD] [PAD] [PAD] [PAD] [PAD] [PAD] [PAD] [PAD] [PAD] [PAD] [PAD] [PAD] [PAD] [PAD] [PAD] [PAD] [PAD] [PAD] [PAD] [PAD] [PAD] [PAD] [PAD] [PAD] [PAD] [PAD] [PAD] [PAD] [PAD] [PAD] [PAD] [PAD] [PAD] [PAD] [PAD] [PAD] [PAD] [PAD] [PAD] [PAD] [PAD] [PAD] [PAD] [PAD] [PAD] [PAD] [PAD] [PAD] [PAD] [PAD] [PAD] [PAD] [PAD] [PAD] [PAD] [PAD] [PAD] [PAD] [PAD] [PAD] [PAD] [PAD] [PAD] [PAD] [PAD] [PAD] [PAD] [PAD] [PAD] [PAD] [PAD] [PAD] [PAD] [PAD] [PAD] [PAD] [PAD] [PAD] [PAD] [PAD] [PAD] [PAD] [PAD] [PAD] [PAD] [PAD] [PAD] [PAD] [PAD] [PAD] [PAD] [PAD] [PAD] [PAD] [PAD] [PAD] [PAD] [PAD] [PAD] [PAD] [PAD] [PAD] [PAD] [PAD] [PAD] [PAD] [PAD] [PAD] [PAD] [PAD] [PAD] [PAD] [PAD] [PAD] [PAD] [PAD] [PAD] [PAD] [PAD] [PAD] [PAD] [PAD] [PAD] [PAD] [PAD] [PAD] [PAD] [PAD] [PAD] [PAD] [PAD] [PAD] [PAD] [PAD] [PAD] [PAD] [PAD] [PAD] [PAD] [PAD] [PAD] [PAD] [PAD] [PAD] [PAD] [PAD] [PAD] [PAD] [PAD] [PAD] [PAD] [PAD] [PAD] [PAD] [PAD] [PAD] [PAD] [PAD] [PAD] [PAD] [PAD] [PAD] [PAD] [PAD] [PAD] [PAD] [PAD] [PAD] [PAD] [PAD] [PAD] [PAD] [PAD] [PAD] [PAD] [PAD] [PAD] [PAD] [PAD] [PAD] [PAD] [PAD] [PAD] [PAD] [PAD] [PAD] [PAD] [PAD] [PAD] [PAD] [PAD] [PAD] [PAD] [PAD] [PAD] [PAD] [PAD] [PAD] [PAD] [PAD] [PAD] [PAD] [PAD] [PAD] [PAD] [PAD] [PAD] [PAD] [PAD] [PAD] [PAD] [PAD] [PAD] [PAD] [PAD] [PAD] [PAD] [PAD] [PAD] [PAD] [PAD] [PAD] [PAD] [PAD] [PAD] [PAD] [PAD] [PAD] [PAD] [PAD] [PAD] [PAD] [PAD] [PAD] [PAD] [PAD] [PAD] [PAD] [PAD] [PAD] [PAD] [PAD] [PAD] [PAD] [PAD] [PAD] [PAD] [PAD] [PAD] [PAD] [PAD] [PAD] [PAD] [PAD] [PAD] [PAD] [PAD] [PAD] [PAD] [PAD] [PAD] [PAD] [PAD] [PAD] [PAD] [PAD] [PAD] [PAD] [PAD] [PAD] [PAD] [PAD] [PAD] [PAD] [PAD] [PAD] [PAD] [PAD] [PAD] [PAD] [PAD] [PAD] [PAD] [PAD] [PAD] [PAD] [PAD] [PAD] [PAD] [PAD] [PAD] [PAD] [PAD] [PAD] [PAD] [PAD] [PAD] [PAD] [PAD] [PAD] [PAD] [PAD] [PAD] [PAD] [PAD] [PAD] [PAD] [PAD] [PAD] [PAD] [PAD] [PAD] [PAD] [PAD] [PAD] [PAD] [PAD] [PAD] [PAD] [PAD] [PAD] [PAD] [PAD] [PAD] [PAD] [PAD] [PAD] [PAD] [PAD] [PAD] [PAD] [PAD] [PAD] [PAD] [PAD] [PAD] [PAD] [PAD] [PAD] [PAD] [PAD] [PAD] [PAD] [PAD] [PAD] [PAD] [PAD] [PAD] [PAD] [PAD] [PAD] [PAD] [PAD] [PAD] [PAD] [PAD] [PAD] [PAD] [PAD] [PAD] [PAD] [PAD] [PAD] [PAD] [PAD] [PAD] [PAD] [PAD] [PAD] [PAD] [PAD] [PAD] [PAD] [PAD] [PAD] [PAD] [PAD] [PAD] [PAD] [PAD] [PAD] [PAD] [PAD] [PAD] [PAD] [PAD] [PAD] [PAD] [PAD] [PAD] [PAD] [PAD] [PAD] [PAD] [PAD] [PAD] [PAD] [PAD] [PAD] [PAD] [PAD] [PAD] [PAD] [PAD] [PAD] [PAD] [PAD] [PAD] [PAD] [PAD] [PAD] [PAD] [PAD] [PAD] [PAD] [PAD] [PAD] [PAD] [PAD] [PAD] [PAD] [PAD] [PAD] [PAD] [PAD] [PAD] [PAD] [PAD] [PAD] [PAD] [PAD] [PAD] [PAD] [PAD] [PAD] [PAD] [PAD] [PAD] [PAD]'"
      ]
     },
     "execution_count": 34,
     "metadata": {},
     "output_type": "execute_result"
    }
   ],
   "source": [
    "tokenizer.decode(example['input_ids'])"
   ]
  },
  {
   "cell_type": "code",
   "execution_count": 35,
   "metadata": {
    "colab": {
     "base_uri": "https://localhost:8080/"
    },
    "id": "ty4hTXCfoORS",
    "outputId": "6be14de8-8d86-486d-8f0a-ebc792c86b99"
   },
   "outputs": [
    {
     "data": {
      "text/plain": [
       "0"
      ]
     },
     "execution_count": 35,
     "metadata": {},
     "output_type": "execute_result"
    }
   ],
   "source": [
    "example['labels']"
   ]
  },
  {
   "cell_type": "code",
   "execution_count": 36,
   "metadata": {
    "colab": {
     "base_uri": "https://localhost:8080/"
    },
    "id": "Z3DTGXxKpgrh",
    "outputId": "6e8710a7-819a-48cf-a1e6-5ceff184cbe5"
   },
   "outputs": [
    {
     "data": {
      "text/plain": [
       "DatasetDict({\n",
       "    train: Dataset({\n",
       "        features: ['input_ids', 'attention_mask', 'labels'],\n",
       "        num_rows: 18445\n",
       "    })\n",
       "    validation: Dataset({\n",
       "        features: ['input_ids', 'attention_mask', 'labels'],\n",
       "        num_rows: 4612\n",
       "    })\n",
       "    test: Dataset({\n",
       "        features: ['input_ids', 'attention_mask', 'labels'],\n",
       "        num_rows: 2562\n",
       "    })\n",
       "})"
      ]
     },
     "execution_count": 36,
     "metadata": {},
     "output_type": "execute_result"
    }
   ],
   "source": [
    "encoded_dataset"
   ]
  },
  {
   "cell_type": "code",
   "execution_count": 37,
   "metadata": {
    "id": "zouV0Nr9oOWN"
   },
   "outputs": [],
   "source": [
    "encoded_dataset.set_format(\"torch\")"
   ]
  },
  {
   "cell_type": "markdown",
   "metadata": {
    "id": "9n8yGtvdsckK"
   },
   "source": [
    "## Define model\n",
    "\n",
    "Here we define a model that includes a pre-trained base (i.e. the weights from the distilbert-base-cased) are loaded, with a random initialized classification head (linear layer) on top. One should fine-tune this head, together with the pre-trained base on a labeled dataset."
   ]
  },
  {
   "cell_type": "code",
   "execution_count": 38,
   "metadata": {
    "colab": {
     "base_uri": "https://localhost:8080/"
    },
    "id": "PA49REZ2srhp",
    "outputId": "95a9da2c-72df-4f7c-9cfc-4dbc6b9218f1"
   },
   "outputs": [
    {
     "name": "stderr",
     "output_type": "stream",
     "text": [
      "Some weights of the model checkpoint at distilbert-base-cased were not used when initializing DistilBertForSequenceClassification: ['vocab_layer_norm.bias', 'vocab_projector.weight', 'vocab_transform.weight', 'vocab_projector.bias', 'vocab_layer_norm.weight', 'vocab_transform.bias']\n",
      "- This IS expected if you are initializing DistilBertForSequenceClassification from the checkpoint of a model trained on another task or with another architecture (e.g. initializing a BertForSequenceClassification model from a BertForPreTraining model).\n",
      "- This IS NOT expected if you are initializing DistilBertForSequenceClassification from the checkpoint of a model that you expect to be exactly identical (initializing a BertForSequenceClassification model from a BertForSequenceClassification model).\n",
      "Some weights of DistilBertForSequenceClassification were not initialized from the model checkpoint at distilbert-base-cased and are newly initialized: ['pre_classifier.bias', 'classifier.weight', 'classifier.bias', 'pre_classifier.weight']\n",
      "You should probably TRAIN this model on a down-stream task to be able to use it for predictions and inference.\n"
     ]
    }
   ],
   "source": [
    "from transformers import AutoModelForSequenceClassification\n",
    "\n",
    "model = AutoModelForSequenceClassification.from_pretrained(\"distilbert-base-cased\",\n",
    "                                                           num_labels=len(labels),\n",
    "                                                           id2label=id2label,\n",
    "                                                           label2id=label2id)"
   ]
  },
  {
   "cell_type": "markdown",
   "metadata": {
    "id": "MvkxV0__tFmP"
   },
   "source": [
    "## Train the model!\n",
    "\n",
    "We are going to train the model using native Pytorch. This requires us to define 2 things: \n",
    "\n",
    "* `DataLoader`:Create a DataLoader for your training, validation and test datasets so you can iterate over batches of data.\n",
    "* `Optimizer`\n",
    "* `Learning rate scheduler`\n",
    "\n"
   ]
  },
  {
   "cell_type": "code",
   "execution_count": 39,
   "metadata": {
    "id": "NWt_8vCltFII"
   },
   "outputs": [],
   "source": [
    "fixed_batch_size = 16\n",
    "fixed_learning_rate = 2e-5\n",
    "num_epochs = 3"
   ]
  },
  {
   "cell_type": "code",
   "execution_count": 40,
   "metadata": {
    "id": "fyRYkf1oppyk"
   },
   "outputs": [],
   "source": [
    "#DataLoader\n",
    "from torch.utils.data import DataLoader\n",
    "\n",
    "train_dataloader = DataLoader(encoded_dataset[\"train\"], batch_size = fixed_batch_size)\n",
    "eval_dataloader = DataLoader(encoded_dataset[\"validation\"], batch_size = fixed_batch_size)"
   ]
  },
  {
   "cell_type": "code",
   "execution_count": 41,
   "metadata": {
    "id": "J7EIa4d2sao5"
   },
   "outputs": [],
   "source": [
    "#Optimizer\n",
    "from torch.optim import AdamW\n",
    "optimizer = AdamW(model.parameters(),lr = fixed_learning_rate)"
   ]
  },
  {
   "cell_type": "code",
   "execution_count": 42,
   "metadata": {
    "id": "rW_hl8-ps0JJ"
   },
   "outputs": [],
   "source": [
    "#Learning rate scheduler \n",
    "\n",
    "from transformers import get_scheduler\n",
    "\n",
    "num_training_steps = num_epochs * len(train_dataloader)\n",
    "\n",
    "lr_scheduler = get_scheduler(\n",
    "    name=\"linear\", optimizer=optimizer, num_warmup_steps=0, num_training_steps=num_training_steps\n",
    ")"
   ]
  },
  {
   "cell_type": "markdown",
   "metadata": {
    "id": "M3WoGSMOuEqA"
   },
   "source": [
    "We are also going to compute accuracy, precision, recall, F-measure while training. For this, we need to define the multi_class_metric function."
   ]
  },
  {
   "cell_type": "code",
   "execution_count": 43,
   "metadata": {
    "id": "PNjiVr3wgMrF"
   },
   "outputs": [],
   "source": [
    "# Function to calculate the accuracy, precision, recall, F-measure  of our predictions vs labels\n",
    "from sklearn.metrics import precision_recall_fscore_support\n",
    "\n",
    "def multi_class_metric(labels,preds):\n",
    "    pred_flat = preds.flatten()\n",
    "    labels_flat = labels.flatten()\n",
    "    accuracy = np.sum(pred_flat == labels_flat) / len(labels_flat)\n",
    "    precision_macro, recall_macro, f1_macro_average,_ = precision_recall_fscore_support(labels,preds,average='macro',zero_division = 0)\n",
    "    # return as dictionary\n",
    "    metrics = {\n",
    "               'f1': f1_macro_average,\n",
    "               'accuracy': accuracy,\n",
    "               'precision': precision_macro,\n",
    "               'recall': recall_macro\n",
    "               }\n",
    "    return metrics"
   ]
  },
  {
   "cell_type": "code",
   "execution_count": 44,
   "metadata": {
    "colab": {
     "base_uri": "https://localhost:8080/"
    },
    "id": "TJ0sp06fDAX0",
    "outputId": "bc9a4602-7c83-4014-ba42-7b5a2d62a981"
   },
   "outputs": [
    {
     "data": {
      "text/plain": [
       "DistilBertForSequenceClassification(\n",
       "  (distilbert): DistilBertModel(\n",
       "    (embeddings): Embeddings(\n",
       "      (word_embeddings): Embedding(28996, 768, padding_idx=0)\n",
       "      (position_embeddings): Embedding(512, 768)\n",
       "      (LayerNorm): LayerNorm((768,), eps=1e-12, elementwise_affine=True)\n",
       "      (dropout): Dropout(p=0.1, inplace=False)\n",
       "    )\n",
       "    (transformer): Transformer(\n",
       "      (layer): ModuleList(\n",
       "        (0): TransformerBlock(\n",
       "          (attention): MultiHeadSelfAttention(\n",
       "            (dropout): Dropout(p=0.1, inplace=False)\n",
       "            (q_lin): Linear(in_features=768, out_features=768, bias=True)\n",
       "            (k_lin): Linear(in_features=768, out_features=768, bias=True)\n",
       "            (v_lin): Linear(in_features=768, out_features=768, bias=True)\n",
       "            (out_lin): Linear(in_features=768, out_features=768, bias=True)\n",
       "          )\n",
       "          (sa_layer_norm): LayerNorm((768,), eps=1e-12, elementwise_affine=True)\n",
       "          (ffn): FFN(\n",
       "            (dropout): Dropout(p=0.1, inplace=False)\n",
       "            (lin1): Linear(in_features=768, out_features=3072, bias=True)\n",
       "            (lin2): Linear(in_features=3072, out_features=768, bias=True)\n",
       "            (activation): GELUActivation()\n",
       "          )\n",
       "          (output_layer_norm): LayerNorm((768,), eps=1e-12, elementwise_affine=True)\n",
       "        )\n",
       "        (1): TransformerBlock(\n",
       "          (attention): MultiHeadSelfAttention(\n",
       "            (dropout): Dropout(p=0.1, inplace=False)\n",
       "            (q_lin): Linear(in_features=768, out_features=768, bias=True)\n",
       "            (k_lin): Linear(in_features=768, out_features=768, bias=True)\n",
       "            (v_lin): Linear(in_features=768, out_features=768, bias=True)\n",
       "            (out_lin): Linear(in_features=768, out_features=768, bias=True)\n",
       "          )\n",
       "          (sa_layer_norm): LayerNorm((768,), eps=1e-12, elementwise_affine=True)\n",
       "          (ffn): FFN(\n",
       "            (dropout): Dropout(p=0.1, inplace=False)\n",
       "            (lin1): Linear(in_features=768, out_features=3072, bias=True)\n",
       "            (lin2): Linear(in_features=3072, out_features=768, bias=True)\n",
       "            (activation): GELUActivation()\n",
       "          )\n",
       "          (output_layer_norm): LayerNorm((768,), eps=1e-12, elementwise_affine=True)\n",
       "        )\n",
       "        (2): TransformerBlock(\n",
       "          (attention): MultiHeadSelfAttention(\n",
       "            (dropout): Dropout(p=0.1, inplace=False)\n",
       "            (q_lin): Linear(in_features=768, out_features=768, bias=True)\n",
       "            (k_lin): Linear(in_features=768, out_features=768, bias=True)\n",
       "            (v_lin): Linear(in_features=768, out_features=768, bias=True)\n",
       "            (out_lin): Linear(in_features=768, out_features=768, bias=True)\n",
       "          )\n",
       "          (sa_layer_norm): LayerNorm((768,), eps=1e-12, elementwise_affine=True)\n",
       "          (ffn): FFN(\n",
       "            (dropout): Dropout(p=0.1, inplace=False)\n",
       "            (lin1): Linear(in_features=768, out_features=3072, bias=True)\n",
       "            (lin2): Linear(in_features=3072, out_features=768, bias=True)\n",
       "            (activation): GELUActivation()\n",
       "          )\n",
       "          (output_layer_norm): LayerNorm((768,), eps=1e-12, elementwise_affine=True)\n",
       "        )\n",
       "        (3): TransformerBlock(\n",
       "          (attention): MultiHeadSelfAttention(\n",
       "            (dropout): Dropout(p=0.1, inplace=False)\n",
       "            (q_lin): Linear(in_features=768, out_features=768, bias=True)\n",
       "            (k_lin): Linear(in_features=768, out_features=768, bias=True)\n",
       "            (v_lin): Linear(in_features=768, out_features=768, bias=True)\n",
       "            (out_lin): Linear(in_features=768, out_features=768, bias=True)\n",
       "          )\n",
       "          (sa_layer_norm): LayerNorm((768,), eps=1e-12, elementwise_affine=True)\n",
       "          (ffn): FFN(\n",
       "            (dropout): Dropout(p=0.1, inplace=False)\n",
       "            (lin1): Linear(in_features=768, out_features=3072, bias=True)\n",
       "            (lin2): Linear(in_features=3072, out_features=768, bias=True)\n",
       "            (activation): GELUActivation()\n",
       "          )\n",
       "          (output_layer_norm): LayerNorm((768,), eps=1e-12, elementwise_affine=True)\n",
       "        )\n",
       "        (4): TransformerBlock(\n",
       "          (attention): MultiHeadSelfAttention(\n",
       "            (dropout): Dropout(p=0.1, inplace=False)\n",
       "            (q_lin): Linear(in_features=768, out_features=768, bias=True)\n",
       "            (k_lin): Linear(in_features=768, out_features=768, bias=True)\n",
       "            (v_lin): Linear(in_features=768, out_features=768, bias=True)\n",
       "            (out_lin): Linear(in_features=768, out_features=768, bias=True)\n",
       "          )\n",
       "          (sa_layer_norm): LayerNorm((768,), eps=1e-12, elementwise_affine=True)\n",
       "          (ffn): FFN(\n",
       "            (dropout): Dropout(p=0.1, inplace=False)\n",
       "            (lin1): Linear(in_features=768, out_features=3072, bias=True)\n",
       "            (lin2): Linear(in_features=3072, out_features=768, bias=True)\n",
       "            (activation): GELUActivation()\n",
       "          )\n",
       "          (output_layer_norm): LayerNorm((768,), eps=1e-12, elementwise_affine=True)\n",
       "        )\n",
       "        (5): TransformerBlock(\n",
       "          (attention): MultiHeadSelfAttention(\n",
       "            (dropout): Dropout(p=0.1, inplace=False)\n",
       "            (q_lin): Linear(in_features=768, out_features=768, bias=True)\n",
       "            (k_lin): Linear(in_features=768, out_features=768, bias=True)\n",
       "            (v_lin): Linear(in_features=768, out_features=768, bias=True)\n",
       "            (out_lin): Linear(in_features=768, out_features=768, bias=True)\n",
       "          )\n",
       "          (sa_layer_norm): LayerNorm((768,), eps=1e-12, elementwise_affine=True)\n",
       "          (ffn): FFN(\n",
       "            (dropout): Dropout(p=0.1, inplace=False)\n",
       "            (lin1): Linear(in_features=768, out_features=3072, bias=True)\n",
       "            (lin2): Linear(in_features=3072, out_features=768, bias=True)\n",
       "            (activation): GELUActivation()\n",
       "          )\n",
       "          (output_layer_norm): LayerNorm((768,), eps=1e-12, elementwise_affine=True)\n",
       "        )\n",
       "      )\n",
       "    )\n",
       "  )\n",
       "  (pre_classifier): Linear(in_features=768, out_features=768, bias=True)\n",
       "  (classifier): Linear(in_features=768, out_features=11, bias=True)\n",
       "  (dropout): Dropout(p=0.2, inplace=False)\n",
       ")"
      ]
     },
     "execution_count": 44,
     "metadata": {},
     "output_type": "execute_result"
    }
   ],
   "source": [
    "model.to(device)"
   ]
  },
  {
   "cell_type": "markdown",
   "metadata": {
    "id": "BFvKwsQxY8j5"
   },
   "source": [
    "Create a function for formatting elapsed times as hh:mm:ss"
   ]
  },
  {
   "cell_type": "code",
   "execution_count": 45,
   "metadata": {
    "id": "MJl3_XGYmH_3"
   },
   "outputs": [],
   "source": [
    "import time\n",
    "import datetime\n",
    "\n",
    "def format_time(elapsed):\n",
    "    '''\n",
    "    Takes a time in seconds and returns a string hh:mm:ss\n",
    "    '''\n",
    "    # Round to the nearest second.\n",
    "    elapsed_rounded = int(round((elapsed)))\n",
    "    \n",
    "    # Format as hh:mm:ss\n",
    "    return str(datetime.timedelta(seconds=elapsed_rounded))\n"
   ]
  },
  {
   "cell_type": "markdown",
   "metadata": {
    "id": "ChQzme1oXkPk"
   },
   "source": [
    "Create two directories to store **checkpoint** and **best model**"
   ]
  },
  {
   "cell_type": "code",
   "execution_count": null,
   "metadata": {
    "id": "bcJJWtI0XCAn"
   },
   "outputs": [],
   "source": [
    "%mkdir checkpoint best_model"
   ]
  },
  {
   "cell_type": "markdown",
   "metadata": {
    "id": "NIMRwdAiXa8h"
   },
   "source": [
    "Saving function\n",
    "**save_ckp** is created to save checkpoint, the latest one and the best one. This creates flexibility: either you are interested in the state of the latest checkpoint or the best checkpoint."
   ]
  },
  {
   "cell_type": "code",
   "execution_count": 47,
   "metadata": {
    "id": "KKL5-NO9XQ9S"
   },
   "outputs": [],
   "source": [
    "\n",
    "import shutil\n",
    "def save_ckp(state, is_best, checkpoint_path, best_model_path):\n",
    "    \"\"\"\n",
    "    state: checkpoint we want to save\n",
    "    is_best: is this the best checkpoint; min validation loss\n",
    "    checkpoint_path: path to save checkpoint\n",
    "    best_model_path: path to save best model\n",
    "    \"\"\"\n",
    "    f_path = checkpoint_path\n",
    "    # save checkpoint data to the path given, checkpoint_path\n",
    "    torch.save(state, f_path)\n",
    "    # if it is a best model, min validation loss\n",
    "    if is_best:\n",
    "        best_fpath = best_model_path\n",
    "        # copy that checkpoint file to best path given, best_model_path\n",
    "        shutil.copyfile(f_path, best_fpath)"
   ]
  },
  {
   "cell_type": "markdown",
   "metadata": {
    "id": "lidMA6MA0UJf"
   },
   "source": [
    "Loading Function.\n",
    "\n",
    "**load_chkp** is created for loading model. \n",
    "\n",
    "It takes:\n",
    "*   location of the saved checkpoint\n",
    "*   model instance that you want to load the state to\n",
    "*   the optimizer"
   ]
  },
  {
   "cell_type": "code",
   "execution_count": 48,
   "metadata": {
    "id": "dIhiLbox0Y7V"
   },
   "outputs": [],
   "source": [
    "def load_ckp(checkpoint_fpath, model, optimizer):\n",
    "    \"\"\"\n",
    "    checkpoint_path: path to save checkpoint\n",
    "    model: model that we want to load checkpoint parameters into       \n",
    "    optimizer: optimizer we defined in previous training\n",
    "    \"\"\"\n",
    "    # load check point\n",
    "    checkpoint = torch.load(checkpoint_fpath)\n",
    "    # initialize state_dict from checkpoint to model\n",
    "    model.load_state_dict(checkpoint['state_dict'])\n",
    "    # initialize optimizer from checkpoint to optimizer\n",
    "    optimizer.load_state_dict(checkpoint['optimizer'])\n",
    "    # initialize valid_loss_min from checkpoint to valid_loss_min\n",
    "    valid_loss_min = checkpoint['valid_loss_min']\n",
    "    # return model, optimizer, epoch value, min validation loss \n",
    "    return model, optimizer, checkpoint['epoch'], valid_loss_min\n"
   ]
  },
  {
   "cell_type": "markdown",
   "metadata": {
    "id": "2jq2NwPW2u2-"
   },
   "source": [
    "Start Training "
   ]
  },
  {
   "cell_type": "code",
   "execution_count": 49,
   "metadata": {
    "colab": {
     "base_uri": "https://localhost:8080/",
     "height": 1000,
     "referenced_widgets": [
      "79e9ee3a5eeb4f9eab873056a797fb8a",
      "a9955f922bc340adb1fedeafaf4a2379",
      "7b1bb0ea4f024c0c8b2fc3c5901f13c2",
      "d70fd55ccba14b2fbbc239da1e411cc3",
      "5f1975e3f791400db32662f9868c8a8b",
      "32515fc9fe2644bb96306df3ab0f7ee2",
      "1328ab5af2db44e595a98d86534aacd3",
      "3195b3b922154ca6bea4dc4696dc761f",
      "363083ad893f4a03a915ebafe5c8dd39",
      "e64539fae56c485cb160c271d7e1eb7e",
      "e461a64c77534f13b2e72debf9bdec12"
     ]
    },
    "id": "OnGI2PHjyFtK",
    "outputId": "6ae2542a-d3c1-4406-dde3-532774f21fa3"
   },
   "outputs": [
    {
     "data": {
      "application/vnd.jupyter.widget-view+json": {
       "model_id": "79e9ee3a5eeb4f9eab873056a797fb8a",
       "version_major": 2,
       "version_minor": 0
      },
      "text/plain": [
       "  0%|          | 0/3 [00:00<?, ?it/s]"
      ]
     },
     "metadata": {},
     "output_type": "display_data"
    },
    {
     "name": "stdout",
     "output_type": "stream",
     "text": [
      "\n",
      "======== Epoch 1 / 3 ========\n",
      "Training...\n",
      " Training f1-score: 0.53\n",
      " Training Accuracy: 0.70\n",
      " Training Precision: 0.57\n",
      " Training Recall: 0.54\n",
      "  Average training loss: 0.94\n",
      "  Training epoch took: 0:26:33\n",
      "\n",
      "Running Validation...\n",
      " Validation f1-score: 0.62\n",
      " Validation Accuracy: 0.77\n",
      " Validation Precision: 0.65\n",
      " Validation Recall: 0.63\n",
      "  Validation Loss: 1.38\n",
      "  Validation took: 0:02:28\n",
      "Validation loss decreased (inf --> 1.377677).  Saving model ...\n",
      "\n",
      "======== Epoch 2 / 3 ========\n",
      "Training...\n",
      " Training f1-score: 0.66\n",
      " Training Accuracy: 0.80\n",
      " Training Precision: 0.68\n",
      " Training Recall: 0.66\n",
      "  Average training loss: 0.61\n",
      "  Training epoch took: 0:26:38\n",
      "\n",
      "Running Validation...\n",
      " Validation f1-score: 0.64\n",
      " Validation Accuracy: 0.79\n",
      " Validation Precision: 0.67\n",
      " Validation Recall: 0.65\n",
      "  Validation Loss: 1.29\n",
      "  Validation took: 0:02:28\n",
      "Validation loss decreased (1.377677 --> 1.291123).  Saving model ...\n",
      "\n",
      "======== Epoch 3 / 3 ========\n",
      "Training...\n",
      " Training f1-score: 0.71\n",
      " Training Accuracy: 0.84\n",
      " Training Precision: 0.73\n",
      " Training Recall: 0.71\n",
      "  Average training loss: 0.49\n",
      "  Training epoch took: 0:26:48\n",
      "\n",
      "Running Validation...\n",
      " Validation f1-score: 0.65\n",
      " Validation Accuracy: 0.79\n",
      " Validation Precision: 0.67\n",
      " Validation Recall: 0.66\n",
      "  Validation Loss: 1.30\n",
      "  Validation took: 0:02:30\n",
      "\n",
      "Training complete!\n",
      "\n",
      "Total time taken on the training data across all epochs: 1:19:58 (h:mm:ss)\n",
      "Average time take per epoch on training data: 0:26:39 (h:mm:ss)\n",
      "\n",
      "Total time taken on the validation data across all epochs: 0:07:26 (h:mm:ss)\n",
      "Average time take per epoch on validation data: 0:02:29 (h:mm:ss)\n",
      "\n",
      "Total training time taken across all epochs [Validation and model saving time included]: 1:27:45 (h:mm:ss)\n",
      "Average time take per epoch [Validation and model saving time included]: 0:29:15 (h:mm:ss)\n"
     ]
    }
   ],
   "source": [
    "import random\n",
    "from tqdm.auto import tqdm\n",
    "\n",
    "\n",
    "# This training code is based on the `run_glue.py` script here:\n",
    "# https://github.com/huggingface/transformers/blob/5bfcd0485ece086ebcbed2d008813037968a9e58/examples/run_glue.py#L128\n",
    "\n",
    "\n",
    "random.seed(fix_seed)\n",
    "np.random.seed(fix_seed)\n",
    "torch.manual_seed(fix_seed)\n",
    "torch.cuda.manual_seed_all(fix_seed)\n",
    "\n",
    "\n",
    "\n",
    "# We'll store a number of quantities such as training and validation loss, \n",
    "# validation accuracy, and timings.\n",
    "training_stats = []\n",
    "\n",
    "# Measure the total training time for the whole run.\n",
    "total_t0 = time.time()\n",
    "\n",
    "progress_bar = tqdm(range(num_epochs))\n",
    "\n",
    "\n",
    "valid_loss_min_input = np.Inf\n",
    "# initialize tracker for minimum validation loss\n",
    "valid_loss_min = valid_loss_min_input \n",
    "checkpoint_path = \"/content/checkpoint/current_checkpoint.pt\"\n",
    "best_model_path = \"/content/best_model/best_model.pt\"\n",
    "\n",
    "#Reset time taken for Training Data and Validation Data across all epochs\n",
    "training_time_only = 0\n",
    "validation_time_only = 0\n",
    "\n",
    "# For each epoch...\n",
    "for epoch_i in range(0, num_epochs):\n",
    "    \n",
    "    # ========================================\n",
    "    #               Training\n",
    "    # ========================================\n",
    "    \n",
    "    # Perform one full pass over the training set.\n",
    "\n",
    "    print(\"\")\n",
    "    print('======== Epoch {:} / {:} ========'.format(epoch_i + 1, num_epochs))\n",
    "    print('Training...')\n",
    "\n",
    "    \n",
    "\n",
    "    # Reset the total loss and other metrics for this epoch.\n",
    "    total_train_loss = 0\n",
    "    total_train_f1 = 0\n",
    "    total_train_accuracy = 0\n",
    "    total_train_precision = 0\n",
    "    total_train_recall = 0\n",
    "\n",
    "    # Reset the time taken on Training data and Validation data across this epoch\n",
    "    training_time_epoch = 0\n",
    "    validation_time_epoch = 0\n",
    "\n",
    "    # Measure how long the training epoch takes.\n",
    "    train_t0 = time.time()\n",
    "\n",
    "    # Put the model into training mode.\n",
    "    \n",
    "    model.train()\n",
    "    for batch in train_dataloader:\n",
    "      train_batch = {k: v.to(device) for k, v in batch.items()}\n",
    "      train_outputs = model(**train_batch)\n",
    "      train_loss = train_outputs.loss\n",
    "      train_logits = train_outputs.logits\n",
    "      train_predictions = torch.argmax(train_logits, dim=-1)\n",
    "      total_train_loss += train_loss.item()\n",
    "      train_metrics= multi_class_metric(train_predictions.detach().cpu().numpy(), train_batch[\"labels\"].to('cpu').numpy())\n",
    "      train_f1 = train_metrics['f1']\n",
    "      train_accuracy = train_metrics['accuracy']\n",
    "      train_precision =train_metrics['precision']\n",
    "      train_recall = train_metrics['recall']\n",
    "      \n",
    "      total_train_f1 += train_f1\n",
    "      total_train_accuracy += train_accuracy\n",
    "      total_train_precision += train_precision\n",
    "      total_train_recall += train_recall\n",
    "      train_loss.backward()\n",
    "\n",
    "      # Clip the norm of the gradients to 1.0.\n",
    "      #This is to help prevent the \"exploding gradients\" problem.\n",
    "      torch.nn.utils.clip_grad_norm_(model.parameters(), 1.0) \n",
    "\n",
    "      # Update parameters and take a step using the computed gradient.\n",
    "      # The optimizer dictates the \"update rule\"--how the parameters are\n",
    "      # modified based on their gradients, the learning rate, etc.\n",
    "      optimizer.step()\n",
    "      lr_scheduler.step()\n",
    "      optimizer.zero_grad() \n",
    "    \n",
    "    # Measure how long the Training run took.\n",
    "    training_time_epoch = time.time() - train_t0   \n",
    "      \n",
    "    # Calculate the average loss over all of the batches.\n",
    "    avg_train_loss = total_train_loss / len(train_dataloader)  \n",
    "\n",
    "    # Report the final f1-score for this training run.   \n",
    "    avg_train_f1 = total_train_f1 / len(train_dataloader)\n",
    "\n",
    "    # Report the final accuracy for this training run.   \n",
    "    avg_train_accuracy = total_train_accuracy / len(train_dataloader)\n",
    "\n",
    "    # Report the final precision for this training run.   \n",
    "    avg_train_precision = total_train_precision / len(train_dataloader)\n",
    "\n",
    "    # Report the final recall for this training run.   \n",
    "    avg_train_recall = total_train_recall / len(train_dataloader)\n",
    "\n",
    "              \n",
    "    #Accumulate the total time on trainind data across all epochs  \n",
    "    training_time_only +=  training_time_epoch   \n",
    "\n",
    "    print(\" Training f1-score: {0:.2f}\".format(avg_train_f1)) \n",
    "    print(\" Training Accuracy: {0:.2f}\".format(avg_train_accuracy)) \n",
    "    print(\" Training Precision: {0:.2f}\".format(avg_train_precision)) \n",
    "    print(\" Training Recall: {0:.2f}\".format(avg_train_recall))  \n",
    "    print(\"  Average training loss: {0:.2f}\".format(avg_train_loss))\n",
    "    print(\"  Training epoch took: {:}\".format(format_time(training_time_epoch)))\n",
    "    # ========================================\n",
    "    #               Validation\n",
    "    # ========================================\n",
    "    # After the completion of each training epoch, measure our performance on\n",
    "    # our validation set.\n",
    "\n",
    "    print(\"\")\n",
    "    print(\"Running Validation...\")\n",
    "\n",
    "    val_t0 = time.time()\n",
    "    # Put the model in evaluation mode--the dropout layers behave differently\n",
    "    # during evaluation.\n",
    "    model.eval()\n",
    "\n",
    "    # Tracking variables \n",
    "    total_eval_f1 = 0\n",
    "    total_eval_accuracy = 0\n",
    "    total_eval_precision = 0\n",
    "    total_eval_recall = 0\n",
    "    total_eval_loss = 0\n",
    "\n",
    "\n",
    "    # Evaluate data for one epoch\n",
    "    for batch in eval_dataloader:\n",
    "      val_batch = {k: v.to(device) for k, v in batch.items()}\n",
    "     \n",
    "      # Tell pytorch not to bother with constructing the compute graph during\n",
    "      # the forward pass, since this is only needed for backprop (training).\n",
    "      with torch.no_grad():\n",
    "        val_outputs = model(**val_batch)\n",
    "        \n",
    "      val_loss = val_outputs.loss\n",
    "      val_logits = val_outputs.logits\n",
    "      val_predictions = torch.argmax(val_logits, dim=-1)\n",
    "     \n",
    "      total_eval_loss += val_loss.item()\n",
    "\n",
    "      val_metrics = multi_class_metric(val_predictions.detach().cpu().numpy(), val_batch[\"labels\"].to('cpu').numpy())\n",
    "      val_f1 = val_metrics['f1']\n",
    "      val_accuracy = val_metrics['accuracy']\n",
    "      val_precision =val_metrics['precision']\n",
    "      val_recall = val_metrics['recall']\n",
    "\n",
    "      total_eval_f1 += val_f1\n",
    "      total_eval_accuracy += val_accuracy\n",
    "      total_eval_precision += val_precision\n",
    "      total_eval_recall += val_recall\n",
    "\n",
    "      # Accumulate the validation loss.\n",
    "      total_eval_loss += val_loss.item()\n",
    "        \n",
    "    # Measure how long the validation run took.\n",
    "    validation_time_epoch = time.time() - val_t0\n",
    "\n",
    "    # Report the final metrics for this validation run.   \n",
    "    avg_val_f1 = total_eval_f1 / len(eval_dataloader)\n",
    "    avg_val_accuracy = total_eval_accuracy / len(eval_dataloader)\n",
    "    avg_val_precision = total_eval_precision / len(eval_dataloader)\n",
    "    avg_val_recall = total_eval_recall / len(eval_dataloader)\n",
    "\n",
    "\n",
    "    print(\" Validation f1-score: {0:.2f}\".format(avg_val_f1)) \n",
    "    print(\" Validation Accuracy: {0:.2f}\".format(avg_val_accuracy))\n",
    "    print(\" Validation Precision: {0:.2f}\".format(avg_val_precision)) \n",
    "    print(\" Validation Recall: {0:.2f}\".format(avg_val_recall)) \n",
    "    \n",
    "\n",
    "    # Calculate the average loss over all of the batches.\n",
    "    avg_val_loss = total_eval_loss / len(eval_dataloader)\n",
    "    \n",
    "    \n",
    "    #Accumulate the the total validation time across all epochs \n",
    "    validation_time_only += validation_time_epoch\n",
    "    \n",
    "    print(\"  Validation Loss: {0:.2f}\".format(avg_val_loss))\n",
    "    print(\"  Validation took: {:}\".format(format_time(validation_time_epoch)))\n",
    "\n",
    "    # Record all statistics from this epoch.\n",
    "    training_stats.append(\n",
    "        {\n",
    "            'epoch': epoch_i + 1,\n",
    "            'Training Loss': avg_train_loss,\n",
    "            'Valid. Loss': avg_val_loss,\n",
    "            'Training f1': avg_train_f1,\n",
    "            'Valid. f1': avg_val_f1,\n",
    "            'Training Accur.': avg_train_accuracy,\n",
    "            'Valid. Accur.': avg_val_accuracy,\n",
    "            'Training Precision': avg_train_precision,\n",
    "            'Valid. Precision': avg_val_precision,\n",
    "            'Training Recall': avg_train_recall,\n",
    "            'Valid. Recall': avg_val_recall,\n",
    "            'Training Time': training_time_epoch,\n",
    "            'Validation Time': validation_time_epoch\n",
    "        }\n",
    "    )\n",
    "    # create checkpoint variable and add important data\n",
    "    checkpoint = {\n",
    "        'epoch': epoch_i + 1,\n",
    "        'valid_loss_min': avg_val_loss,\n",
    "        'state_dict': model.state_dict(),\n",
    "        'optimizer': optimizer.state_dict(),\n",
    "    }\n",
    "        \n",
    "    # save checkpoint\n",
    "    save_ckp(checkpoint, False, checkpoint_path, best_model_path)\n",
    "    ## save the model if validation loss has decreased\n",
    "    if avg_val_loss <= valid_loss_min:\n",
    "        print('Validation loss decreased ({:.6f} --> {:.6f}).  Saving model ...'.format(valid_loss_min,avg_val_loss))\n",
    "        # save checkpoint as best model\n",
    "        save_ckp(checkpoint, True, checkpoint_path, best_model_path)\n",
    "        valid_loss_min = avg_val_loss\n",
    "    progress_bar.update(1)\n",
    "print(\"\")\n",
    "print(\"Training complete!\")\n",
    "total_training_time = time.time() - total_t0\n",
    "\n",
    "# Total Training time (without validation and model saving time)\n",
    "print(\"\\nTotal time taken on the training data across all epochs: {:} (h:mm:ss)\".format(format_time(training_time_only)))\n",
    "print(\"Average time take per epoch on training data: {:} (h:mm:ss)\".format(format_time(training_time_only/num_epochs)))\n",
    "\n",
    "# Total Validation time (without training and model saving time)\n",
    "print(\"\\nTotal time taken on the validation data across all epochs: {:} (h:mm:ss)\".format(format_time(validation_time_only)))\n",
    "print(\"Average time take per epoch on validation data: {:} (h:mm:ss)\".format(format_time(validation_time_only/num_epochs)))\n",
    "\n",
    "#Total time taken for training, Validation and model saving\n",
    "print(\"\\nTotal training time taken across all epochs [Validation and model saving time included]: {:} (h:mm:ss)\".format(format_time(total_training_time)))\n",
    "print(\"Average time take per epoch [Validation and model saving time included]: {:} (h:mm:ss)\".format(format_time(total_training_time/num_epochs)))\n",
    "\n",
    "\n"
   ]
  },
  {
   "cell_type": "markdown",
   "metadata": {
    "id": "KHusGHxBiSSz"
   },
   "source": [
    "**The best model is saved at epoch 2. The training accuracy is 80, The validation accuracy is 79**"
   ]
  },
  {
   "cell_type": "code",
   "execution_count": 50,
   "metadata": {
    "colab": {
     "base_uri": "https://localhost:8080/",
     "height": 192
    },
    "id": "CgOm-DMdx-7Z",
    "outputId": "99d33840-3a76-4d7f-c638-01fa276bea4e"
   },
   "outputs": [
    {
     "data": {
      "text/html": [
       "<style type=\"text/css\">\n",
       "#T_5daf5_ th {\n",
       "  max-width: 70px;\n",
       "}\n",
       "</style>\n",
       "<table id=\"T_5daf5_\" class=\"dataframe\">\n",
       "  <thead>\n",
       "    <tr>\n",
       "      <th class=\"blank level0\" >&nbsp;</th>\n",
       "      <th class=\"col_heading level0 col0\" >Training Loss</th>\n",
       "      <th class=\"col_heading level0 col1\" >Valid. Loss</th>\n",
       "      <th class=\"col_heading level0 col2\" >Training f1</th>\n",
       "      <th class=\"col_heading level0 col3\" >Valid. f1</th>\n",
       "      <th class=\"col_heading level0 col4\" >Training Accur.</th>\n",
       "      <th class=\"col_heading level0 col5\" >Valid. Accur.</th>\n",
       "      <th class=\"col_heading level0 col6\" >Training Precision</th>\n",
       "      <th class=\"col_heading level0 col7\" >Valid. Precision</th>\n",
       "      <th class=\"col_heading level0 col8\" >Training Recall</th>\n",
       "      <th class=\"col_heading level0 col9\" >Valid. Recall</th>\n",
       "      <th class=\"col_heading level0 col10\" >Training Time</th>\n",
       "      <th class=\"col_heading level0 col11\" >Validation Time</th>\n",
       "    </tr>\n",
       "    <tr>\n",
       "      <th class=\"index_name level0\" >epoch</th>\n",
       "      <th class=\"blank col0\" >&nbsp;</th>\n",
       "      <th class=\"blank col1\" >&nbsp;</th>\n",
       "      <th class=\"blank col2\" >&nbsp;</th>\n",
       "      <th class=\"blank col3\" >&nbsp;</th>\n",
       "      <th class=\"blank col4\" >&nbsp;</th>\n",
       "      <th class=\"blank col5\" >&nbsp;</th>\n",
       "      <th class=\"blank col6\" >&nbsp;</th>\n",
       "      <th class=\"blank col7\" >&nbsp;</th>\n",
       "      <th class=\"blank col8\" >&nbsp;</th>\n",
       "      <th class=\"blank col9\" >&nbsp;</th>\n",
       "      <th class=\"blank col10\" >&nbsp;</th>\n",
       "      <th class=\"blank col11\" >&nbsp;</th>\n",
       "    </tr>\n",
       "  </thead>\n",
       "  <tbody>\n",
       "    <tr>\n",
       "      <th id=\"T_5daf5_level0_row0\" class=\"row_heading level0 row0\" >1</th>\n",
       "      <td id=\"T_5daf5_row0_col0\" class=\"data row0 col0\" >0.94</td>\n",
       "      <td id=\"T_5daf5_row0_col1\" class=\"data row0 col1\" >1.38</td>\n",
       "      <td id=\"T_5daf5_row0_col2\" class=\"data row0 col2\" >0.53</td>\n",
       "      <td id=\"T_5daf5_row0_col3\" class=\"data row0 col3\" >0.62</td>\n",
       "      <td id=\"T_5daf5_row0_col4\" class=\"data row0 col4\" >0.70</td>\n",
       "      <td id=\"T_5daf5_row0_col5\" class=\"data row0 col5\" >0.77</td>\n",
       "      <td id=\"T_5daf5_row0_col6\" class=\"data row0 col6\" >0.57</td>\n",
       "      <td id=\"T_5daf5_row0_col7\" class=\"data row0 col7\" >0.65</td>\n",
       "      <td id=\"T_5daf5_row0_col8\" class=\"data row0 col8\" >0.54</td>\n",
       "      <td id=\"T_5daf5_row0_col9\" class=\"data row0 col9\" >0.63</td>\n",
       "      <td id=\"T_5daf5_row0_col10\" class=\"data row0 col10\" >1592.99</td>\n",
       "      <td id=\"T_5daf5_row0_col11\" class=\"data row0 col11\" >147.85</td>\n",
       "    </tr>\n",
       "    <tr>\n",
       "      <th id=\"T_5daf5_level0_row1\" class=\"row_heading level0 row1\" >2</th>\n",
       "      <td id=\"T_5daf5_row1_col0\" class=\"data row1 col0\" >0.61</td>\n",
       "      <td id=\"T_5daf5_row1_col1\" class=\"data row1 col1\" >1.29</td>\n",
       "      <td id=\"T_5daf5_row1_col2\" class=\"data row1 col2\" >0.66</td>\n",
       "      <td id=\"T_5daf5_row1_col3\" class=\"data row1 col3\" >0.64</td>\n",
       "      <td id=\"T_5daf5_row1_col4\" class=\"data row1 col4\" >0.80</td>\n",
       "      <td id=\"T_5daf5_row1_col5\" class=\"data row1 col5\" >0.79</td>\n",
       "      <td id=\"T_5daf5_row1_col6\" class=\"data row1 col6\" >0.68</td>\n",
       "      <td id=\"T_5daf5_row1_col7\" class=\"data row1 col7\" >0.67</td>\n",
       "      <td id=\"T_5daf5_row1_col8\" class=\"data row1 col8\" >0.66</td>\n",
       "      <td id=\"T_5daf5_row1_col9\" class=\"data row1 col9\" >0.65</td>\n",
       "      <td id=\"T_5daf5_row1_col10\" class=\"data row1 col10\" >1597.57</td>\n",
       "      <td id=\"T_5daf5_row1_col11\" class=\"data row1 col11\" >148.33</td>\n",
       "    </tr>\n",
       "    <tr>\n",
       "      <th id=\"T_5daf5_level0_row2\" class=\"row_heading level0 row2\" >3</th>\n",
       "      <td id=\"T_5daf5_row2_col0\" class=\"data row2 col0\" >0.49</td>\n",
       "      <td id=\"T_5daf5_row2_col1\" class=\"data row2 col1\" >1.30</td>\n",
       "      <td id=\"T_5daf5_row2_col2\" class=\"data row2 col2\" >0.71</td>\n",
       "      <td id=\"T_5daf5_row2_col3\" class=\"data row2 col3\" >0.65</td>\n",
       "      <td id=\"T_5daf5_row2_col4\" class=\"data row2 col4\" >0.84</td>\n",
       "      <td id=\"T_5daf5_row2_col5\" class=\"data row2 col5\" >0.79</td>\n",
       "      <td id=\"T_5daf5_row2_col6\" class=\"data row2 col6\" >0.73</td>\n",
       "      <td id=\"T_5daf5_row2_col7\" class=\"data row2 col7\" >0.67</td>\n",
       "      <td id=\"T_5daf5_row2_col8\" class=\"data row2 col8\" >0.71</td>\n",
       "      <td id=\"T_5daf5_row2_col9\" class=\"data row2 col9\" >0.66</td>\n",
       "      <td id=\"T_5daf5_row2_col10\" class=\"data row2 col10\" >1607.91</td>\n",
       "      <td id=\"T_5daf5_row2_col11\" class=\"data row2 col11\" >150.04</td>\n",
       "    </tr>\n",
       "  </tbody>\n",
       "</table>\n"
      ],
      "text/plain": [
       "<pandas.io.formats.style.Styler at 0x7f4130394990>"
      ]
     },
     "execution_count": 50,
     "metadata": {},
     "output_type": "execute_result"
    }
   ],
   "source": [
    "# Display floats with two decimal places.\n",
    "pd.set_option('precision', 2)\n",
    "\n",
    "# Create a DataFrame from our training statistics.\n",
    "df_stats = pd.DataFrame(data=training_stats)\n",
    "\n",
    "# Use the 'epoch' as the row index.\n",
    "df_stats = df_stats.set_index('epoch')\n",
    "\n",
    "# Display the table.\n",
    "df_stats.style.set_table_styles([dict(selector=\"th\",props=[('max-width', '70px')])])"
   ]
  },
  {
   "cell_type": "markdown",
   "metadata": {
    "id": "Yvqs8ZqivUdr"
   },
   "source": [
    "Validation Loss is a more precise measure than accuracy. If we are predicting the correct answer, but with less confidence, then validation loss will catch this, while accuracy will not."
   ]
  },
  {
   "cell_type": "code",
   "execution_count": 51,
   "metadata": {
    "colab": {
     "base_uri": "https://localhost:8080/",
     "height": 427
    },
    "id": "GBPWXFxX7414",
    "outputId": "350e4f95-5b15-4a93-f105-f8f76adf7d2d"
   },
   "outputs": [
    {
     "data": {
      "image/png": "[encoded data removed]",
      "text/plain": [
       "<Figure size 864x432 with 1 Axes>"
      ]
     },
     "metadata": {},
     "output_type": "display_data"
    }
   ],
   "source": [
    "import matplotlib.pyplot as plt\n",
    "% matplotlib inline\n",
    "\n",
    "import seaborn as sns\n",
    "\n",
    "# Use plot styling from seaborn.\n",
    "sns.set(style='darkgrid')\n",
    "\n",
    "# Increase the plot size and font size.\n",
    "sns.set(font_scale=1.5)\n",
    "plt.rcParams[\"figure.figsize\"] = (12,6)\n",
    "\n",
    "# Plot the learning curve.\n",
    "plt.plot(df_stats['Training Loss'], 'b-o', label=\"Training\")\n",
    "plt.plot(df_stats['Valid. Loss'], 'g-o', label=\"Validation\")\n",
    "\n",
    "# Label the plot.\n",
    "plt.title(\"Training & Validation Loss\")\n",
    "plt.xlabel(\"Epoch\")\n",
    "plt.ylabel(\"Loss\")\n",
    "plt.legend()\n",
    "plt.show()"
   ]
  },
  {
   "cell_type": "markdown",
   "metadata": {
    "id": "LFcr-ozDmteM"
   },
   "source": [
    "## Download the Data"
   ]
  },
  {
   "cell_type": "code",
   "execution_count": 52,
   "metadata": {
    "id": "PBZrl1QRmvlT"
   },
   "outputs": [],
   "source": [
    "#Download Test Data\n",
    "used_test_df =pd.DataFrame(test_data)\n",
    "used_test_df.to_csv(used_test_data_path, encoding='utf-8', index=False)"
   ]
  },
  {
   "cell_type": "code",
   "execution_count": 53,
   "metadata": {
    "id": "sKMt-zkoBNnQ"
   },
   "outputs": [],
   "source": [
    "#Download Encoded Data\n",
    "encoded_test = pd.DataFrame(encoded_dataset['test'])\n",
    "encoded_test.to_csv(encoded_test_data_path , encoding='utf-8', index=False)"
   ]
  },
  {
   "cell_type": "code",
   "execution_count": 55,
   "metadata": {
    "id": "fi7vxB8ZEhk0"
   },
   "outputs": [],
   "source": [
    "#Download label2id_df\n",
    "label2id_df = pd.DataFrame([label2id] )\n",
    "label2id_df.to_csv(label2id_df_path  , encoding='utf-8', index=False) "
   ]
  }
 ],
 "metadata": {
  "accelerator": "GPU",
  "colab": {
   "collapsed_sections": [
    "6GkxfuQ8ob0R"
   ],
   "name": "Experiment1:  April 22 2022 PART 3 _DistilBERT_3_epochs.ipynb",
   "provenance": []
  },
  "kernelspec": {
   "display_name": "Python 3 (ipykernel)",
   "language": "python",
   "name": "python3"
  },
  "language_info": {
   "codemirror_mode": {
    "name": "ipython",
    "version": 3
   },
   "file_extension": ".py",
   "mimetype": "text/x-python",
   "name": "python",
   "nbconvert_exporter": "python",
   "pygments_lexer": "ipython3",
   "version": "3.9.7"
  },
  "widgets": {
   "application/vnd.jupyter.widget-state+json": {
    "0928cf381e2d44a19c9bd9d2e1937458": {
     "model_module": "@jupyter-widgets/controls",
     "model_module_version": "1.5.0",
     "model_name": "DescriptionStyleModel",
     "state": {
      "_model_module": "@jupyter-widgets/controls",
      "_model_module_version": "1.5.0",
      "_model_name": "DescriptionStyleModel",
      "_view_count": null,
      "_view_module": "@jupyter-widgets/base",
      "_view_module_version": "1.2.0",
      "_view_name": "StyleView",
      "description_width": ""
     }
    },
    "116e4e4633ee468aaabdbf488968d8d7": {
     "model_module": "@jupyter-widgets/base",
     "model_module_version": "1.2.0",
     "model_name": "LayoutModel",
     "state": {
      "_model_module": "@jupyter-widgets/base",
      "_model_module_version": "1.2.0",
      "_model_name": "LayoutModel",
      "_view_count": null,
      "_view_module": "@jupyter-widgets/base",
      "_view_module_version": "1.2.0",
      "_view_name": "LayoutView",
      "align_content": null,
      "align_items": null,
      "align_self": null,
      "border": null,
      "bottom": null,
      "display": null,
      "flex": null,
      "flex_flow": null,
      "grid_area": null,
      "grid_auto_columns": null,
      "grid_auto_flow": null,
      "grid_auto_rows": null,
      "grid_column": null,
      "grid_gap": null,
      "grid_row": null,
      "grid_template_areas": null,
      "grid_template_columns": null,
      "grid_template_rows": null,
      "height": null,
      "justify_content": null,
      "justify_items": null,
      "left": null,
      "margin": null,
      "max_height": null,
      "max_width": null,
      "min_height": null,
      "min_width": null,
      "object_fit": null,
      "object_position": null,
      "order": null,
      "overflow": null,
      "overflow_x": null,
      "overflow_y": null,
      "padding": null,
      "right": null,
      "top": null,
      "visibility": null,
      "width": null
     }
    },
    "1328ab5af2db44e595a98d86534aacd3": {
     "model_module": "@jupyter-widgets/controls",
     "model_module_version": "1.5.0",
     "model_name": "DescriptionStyleModel",
     "state": {
      "_model_module": "@jupyter-widgets/controls",
      "_model_module_version": "1.5.0",
      "_model_name": "DescriptionStyleModel",
      "_view_count": null,
      "_view_module": "@jupyter-widgets/base",
      "_view_module_version": "1.2.0",
      "_view_name": "StyleView",
      "description_width": ""
     }
    },
    "1e074825415d4295b0f660ccf6134bdf": {
     "model_module": "@jupyter-widgets/controls",
     "model_module_version": "1.5.0",
     "model_name": "DescriptionStyleModel",
     "state": {
      "_model_module": "@jupyter-widgets/controls",
      "_model_module_version": "1.5.0",
      "_model_name": "DescriptionStyleModel",
      "_view_count": null,
      "_view_module": "@jupyter-widgets/base",
      "_view_module_version": "1.2.0",
      "_view_name": "StyleView",
      "description_width": ""
     }
    },
    "1e131d07b06c4975b21e5e1536b4a47f": {
     "model_module": "@jupyter-widgets/controls",
     "model_module_version": "1.5.0",
     "model_name": "HBoxModel",
     "state": {
      "_dom_classes": [],
      "_model_module": "@jupyter-widgets/controls",
      "_model_module_version": "1.5.0",
      "_model_name": "HBoxModel",
      "_view_count": null,
      "_view_module": "@jupyter-widgets/controls",
      "_view_module_version": "1.5.0",
      "_view_name": "HBoxView",
      "box_style": "",
      "children": [
       "IPY_MODEL_cd30348d2d9b4a67a2d843c65a64f99c",
       "IPY_MODEL_57794c793f834e8ea9fbd5c1369d3a59",
       "IPY_MODEL_98b28f05c47b4ca7b449456f6fde803b"
      ],
      "layout": "IPY_MODEL_405e13c3262f46a4ac8e8a80bd3d2994"
     }
    },
    "29065c9397a8470faf754a83eb9f0630": {
     "model_module": "@jupyter-widgets/controls",
     "model_module_version": "1.5.0",
     "model_name": "FloatProgressModel",
     "state": {
      "_dom_classes": [],
      "_model_module": "@jupyter-widgets/controls",
      "_model_module_version": "1.5.0",
      "_model_name": "FloatProgressModel",
      "_view_count": null,
      "_view_module": "@jupyter-widgets/controls",
      "_view_module_version": "1.5.0",
      "_view_name": "ProgressView",
      "bar_style": "success",
      "description": "",
      "description_tooltip": null,
      "layout": "IPY_MODEL_2cb8571d3f944a9eb91c8b882b9e4530",
      "max": 5,
      "min": 0,
      "orientation": "horizontal",
      "style": "IPY_MODEL_c31bd3056b2d44448b53ecfde463c393",
      "value": 5
     }
    },
    "2cb8571d3f944a9eb91c8b882b9e4530": {
     "model_module": "@jupyter-widgets/base",
     "model_module_version": "1.2.0",
     "model_name": "LayoutModel",
     "state": {
      "_model_module": "@jupyter-widgets/base",
      "_model_module_version": "1.2.0",
      "_model_name": "LayoutModel",
      "_view_count": null,
      "_view_module": "@jupyter-widgets/base",
      "_view_module_version": "1.2.0",
      "_view_name": "LayoutView",
      "align_content": null,
      "align_items": null,
      "align_self": null,
      "border": null,
      "bottom": null,
      "display": null,
      "flex": null,
      "flex_flow": null,
      "grid_area": null,
      "grid_auto_columns": null,
      "grid_auto_flow": null,
      "grid_auto_rows": null,
      "grid_column": null,
      "grid_gap": null,
      "grid_row": null,
      "grid_template_areas": null,
      "grid_template_columns": null,
      "grid_template_rows": null,
      "height": null,
      "justify_content": null,
      "justify_items": null,
      "left": null,
      "margin": null,
      "max_height": null,
      "max_width": null,
      "min_height": null,
      "min_width": null,
      "object_fit": null,
      "object_position": null,
      "order": null,
      "overflow": null,
      "overflow_x": null,
      "overflow_y": null,
      "padding": null,
      "right": null,
      "top": null,
      "visibility": null,
      "width": null
     }
    },
    "2f6de0585b4c46ff95da4d2dd959f442": {
     "model_module": "@jupyter-widgets/controls",
     "model_module_version": "1.5.0",
     "model_name": "ProgressStyleModel",
     "state": {
      "_model_module": "@jupyter-widgets/controls",
      "_model_module_version": "1.5.0",
      "_model_name": "ProgressStyleModel",
      "_view_count": null,
      "_view_module": "@jupyter-widgets/base",
      "_view_module_version": "1.2.0",
      "_view_name": "StyleView",
      "bar_color": null,
      "description_width": ""
     }
    },
    "3195b3b922154ca6bea4dc4696dc761f": {
     "model_module": "@jupyter-widgets/base",
     "model_module_version": "1.2.0",
     "model_name": "LayoutModel",
     "state": {
      "_model_module": "@jupyter-widgets/base",
      "_model_module_version": "1.2.0",
      "_model_name": "LayoutModel",
      "_view_count": null,
      "_view_module": "@jupyter-widgets/base",
      "_view_module_version": "1.2.0",
      "_view_name": "LayoutView",
      "align_content": null,
      "align_items": null,
      "align_self": null,
      "border": null,
      "bottom": null,
      "display": null,
      "flex": null,
      "flex_flow": null,
      "grid_area": null,
      "grid_auto_columns": null,
      "grid_auto_flow": null,
      "grid_auto_rows": null,
      "grid_column": null,
      "grid_gap": null,
      "grid_row": null,
      "grid_template_areas": null,
      "grid_template_columns": null,
      "grid_template_rows": null,
      "height": null,
      "justify_content": null,
      "justify_items": null,
      "left": null,
      "margin": null,
      "max_height": null,
      "max_width": null,
      "min_height": null,
      "min_width": null,
      "object_fit": null,
      "object_position": null,
      "order": null,
      "overflow": null,
      "overflow_x": null,
      "overflow_y": null,
      "padding": null,
      "right": null,
      "top": null,
      "visibility": null,
      "width": null
     }
    },
    "32515fc9fe2644bb96306df3ab0f7ee2": {
     "model_module": "@jupyter-widgets/base",
     "model_module_version": "1.2.0",
     "model_name": "LayoutModel",
     "state": {
      "_model_module": "@jupyter-widgets/base",
      "_model_module_version": "1.2.0",
      "_model_name": "LayoutModel",
      "_view_count": null,
      "_view_module": "@jupyter-widgets/base",
      "_view_module_version": "1.2.0",
      "_view_name": "LayoutView",
      "align_content": null,
      "align_items": null,
      "align_self": null,
      "border": null,
      "bottom": null,
      "display": null,
      "flex": null,
      "flex_flow": null,
      "grid_area": null,
      "grid_auto_columns": null,
      "grid_auto_flow": null,
      "grid_auto_rows": null,
      "grid_column": null,
      "grid_gap": null,
      "grid_row": null,
      "grid_template_areas": null,
      "grid_template_columns": null,
      "grid_template_rows": null,
      "height": null,
      "justify_content": null,
      "justify_items": null,
      "left": null,
      "margin": null,
      "max_height": null,
      "max_width": null,
      "min_height": null,
      "min_width": null,
      "object_fit": null,
      "object_position": null,
      "order": null,
      "overflow": null,
      "overflow_x": null,
      "overflow_y": null,
      "padding": null,
      "right": null,
      "top": null,
      "visibility": null,
      "width": null
     }
    },
    "32a08a5e0c5f4e5a80451201cee7ad92": {
     "model_module": "@jupyter-widgets/controls",
     "model_module_version": "1.5.0",
     "model_name": "DescriptionStyleModel",
     "state": {
      "_model_module": "@jupyter-widgets/controls",
      "_model_module_version": "1.5.0",
      "_model_name": "DescriptionStyleModel",
      "_view_count": null,
      "_view_module": "@jupyter-widgets/base",
      "_view_module_version": "1.2.0",
      "_view_name": "StyleView",
      "description_width": ""
     }
    },
    "363083ad893f4a03a915ebafe5c8dd39": {
     "model_module": "@jupyter-widgets/controls",
     "model_module_version": "1.5.0",
     "model_name": "ProgressStyleModel",
     "state": {
      "_model_module": "@jupyter-widgets/controls",
      "_model_module_version": "1.5.0",
      "_model_name": "ProgressStyleModel",
      "_view_count": null,
      "_view_module": "@jupyter-widgets/base",
      "_view_module_version": "1.2.0",
      "_view_name": "StyleView",
      "bar_color": null,
      "description_width": ""
     }
    },
    "372aacd334f64c3397e937b427ecc650": {
     "model_module": "@jupyter-widgets/base",
     "model_module_version": "1.2.0",
     "model_name": "LayoutModel",
     "state": {
      "_model_module": "@jupyter-widgets/base",
      "_model_module_version": "1.2.0",
      "_model_name": "LayoutModel",
      "_view_count": null,
      "_view_module": "@jupyter-widgets/base",
      "_view_module_version": "1.2.0",
      "_view_name": "LayoutView",
      "align_content": null,
      "align_items": null,
      "align_self": null,
      "border": null,
      "bottom": null,
      "display": null,
      "flex": null,
      "flex_flow": null,
      "grid_area": null,
      "grid_auto_columns": null,
      "grid_auto_flow": null,
      "grid_auto_rows": null,
      "grid_column": null,
      "grid_gap": null,
      "grid_row": null,
      "grid_template_areas": null,
      "grid_template_columns": null,
      "grid_template_rows": null,
      "height": null,
      "justify_content": null,
      "justify_items": null,
      "left": null,
      "margin": null,
      "max_height": null,
      "max_width": null,
      "min_height": null,
      "min_width": null,
      "object_fit": null,
      "object_position": null,
      "order": null,
      "overflow": null,
      "overflow_x": null,
      "overflow_y": null,
      "padding": null,
      "right": null,
      "top": null,
      "visibility": null,
      "width": null
     }
    },
    "405e13c3262f46a4ac8e8a80bd3d2994": {
     "model_module": "@jupyter-widgets/base",
     "model_module_version": "1.2.0",
     "model_name": "LayoutModel",
     "state": {
      "_model_module": "@jupyter-widgets/base",
      "_model_module_version": "1.2.0",
      "_model_name": "LayoutModel",
      "_view_count": null,
      "_view_module": "@jupyter-widgets/base",
      "_view_module_version": "1.2.0",
      "_view_name": "LayoutView",
      "align_content": null,
      "align_items": null,
      "align_self": null,
      "border": null,
      "bottom": null,
      "display": null,
      "flex": null,
      "flex_flow": null,
      "grid_area": null,
      "grid_auto_columns": null,
      "grid_auto_flow": null,
      "grid_auto_rows": null,
      "grid_column": null,
      "grid_gap": null,
      "grid_row": null,
      "grid_template_areas": null,
      "grid_template_columns": null,
      "grid_template_rows": null,
      "height": null,
      "justify_content": null,
      "justify_items": null,
      "left": null,
      "margin": null,
      "max_height": null,
      "max_width": null,
      "min_height": null,
      "min_width": null,
      "object_fit": null,
      "object_position": null,
      "order": null,
      "overflow": null,
      "overflow_x": null,
      "overflow_y": null,
      "padding": null,
      "right": null,
      "top": null,
      "visibility": null,
      "width": null
     }
    },
    "49128b678dfc4b97994ba2245c3ad8d8": {
     "model_module": "@jupyter-widgets/controls",
     "model_module_version": "1.5.0",
     "model_name": "HBoxModel",
     "state": {
      "_dom_classes": [],
      "_model_module": "@jupyter-widgets/controls",
      "_model_module_version": "1.5.0",
      "_model_name": "HBoxModel",
      "_view_count": null,
      "_view_module": "@jupyter-widgets/controls",
      "_view_module_version": "1.5.0",
      "_view_name": "HBoxView",
      "box_style": "",
      "children": [
       "IPY_MODEL_83ebc4d895664c188583bc2bef319dd9",
       "IPY_MODEL_29065c9397a8470faf754a83eb9f0630",
       "IPY_MODEL_ee6427665e864a38863987f08988b7c1"
      ],
      "layout": "IPY_MODEL_372aacd334f64c3397e937b427ecc650"
     }
    },
    "57794c793f834e8ea9fbd5c1369d3a59": {
     "model_module": "@jupyter-widgets/controls",
     "model_module_version": "1.5.0",
     "model_name": "FloatProgressModel",
     "state": {
      "_dom_classes": [],
      "_model_module": "@jupyter-widgets/controls",
      "_model_module_version": "1.5.0",
      "_model_name": "FloatProgressModel",
      "_view_count": null,
      "_view_module": "@jupyter-widgets/controls",
      "_view_module_version": "1.5.0",
      "_view_name": "ProgressView",
      "bar_style": "success",
      "description": "",
      "description_tooltip": null,
      "layout": "IPY_MODEL_f719ce848451456a9db15c7280cdb29a",
      "max": 3,
      "min": 0,
      "orientation": "horizontal",
      "style": "IPY_MODEL_2f6de0585b4c46ff95da4d2dd959f442",
      "value": 3
     }
    },
    "5d37a924213140dda00c11bd0e9d9dcf": {
     "model_module": "@jupyter-widgets/base",
     "model_module_version": "1.2.0",
     "model_name": "LayoutModel",
     "state": {
      "_model_module": "@jupyter-widgets/base",
      "_model_module_version": "1.2.0",
      "_model_name": "LayoutModel",
      "_view_count": null,
      "_view_module": "@jupyter-widgets/base",
      "_view_module_version": "1.2.0",
      "_view_name": "LayoutView",
      "align_content": null,
      "align_items": null,
      "align_self": null,
      "border": null,
      "bottom": null,
      "display": null,
      "flex": null,
      "flex_flow": null,
      "grid_area": null,
      "grid_auto_columns": null,
      "grid_auto_flow": null,
      "grid_auto_rows": null,
      "grid_column": null,
      "grid_gap": null,
      "grid_row": null,
      "grid_template_areas": null,
      "grid_template_columns": null,
      "grid_template_rows": null,
      "height": null,
      "justify_content": null,
      "justify_items": null,
      "left": null,
      "margin": null,
      "max_height": null,
      "max_width": null,
      "min_height": null,
      "min_width": null,
      "object_fit": null,
      "object_position": null,
      "order": null,
      "overflow": null,
      "overflow_x": null,
      "overflow_y": null,
      "padding": null,
      "right": null,
      "top": null,
      "visibility": null,
      "width": null
     }
    },
    "5f1975e3f791400db32662f9868c8a8b": {
     "model_module": "@jupyter-widgets/base",
     "model_module_version": "1.2.0",
     "model_name": "LayoutModel",
     "state": {
      "_model_module": "@jupyter-widgets/base",
      "_model_module_version": "1.2.0",
      "_model_name": "LayoutModel",
      "_view_count": null,
      "_view_module": "@jupyter-widgets/base",
      "_view_module_version": "1.2.0",
      "_view_name": "LayoutView",
      "align_content": null,
      "align_items": null,
      "align_self": null,
      "border": null,
      "bottom": null,
      "display": null,
      "flex": null,
      "flex_flow": null,
      "grid_area": null,
      "grid_auto_columns": null,
      "grid_auto_flow": null,
      "grid_auto_rows": null,
      "grid_column": null,
      "grid_gap": null,
      "grid_row": null,
      "grid_template_areas": null,
      "grid_template_columns": null,
      "grid_template_rows": null,
      "height": null,
      "justify_content": null,
      "justify_items": null,
      "left": null,
      "margin": null,
      "max_height": null,
      "max_width": null,
      "min_height": null,
      "min_width": null,
      "object_fit": null,
      "object_position": null,
      "order": null,
      "overflow": null,
      "overflow_x": null,
      "overflow_y": null,
      "padding": null,
      "right": null,
      "top": null,
      "visibility": null,
      "width": null
     }
    },
    "686efd889df248e9b06f1e5f7b80bbd8": {
     "model_module": "@jupyter-widgets/base",
     "model_module_version": "1.2.0",
     "model_name": "LayoutModel",
     "state": {
      "_model_module": "@jupyter-widgets/base",
      "_model_module_version": "1.2.0",
      "_model_name": "LayoutModel",
      "_view_count": null,
      "_view_module": "@jupyter-widgets/base",
      "_view_module_version": "1.2.0",
      "_view_name": "LayoutView",
      "align_content": null,
      "align_items": null,
      "align_self": null,
      "border": null,
      "bottom": null,
      "display": null,
      "flex": null,
      "flex_flow": null,
      "grid_area": null,
      "grid_auto_columns": null,
      "grid_auto_flow": null,
      "grid_auto_rows": null,
      "grid_column": null,
      "grid_gap": null,
      "grid_row": null,
      "grid_template_areas": null,
      "grid_template_columns": null,
      "grid_template_rows": null,
      "height": null,
      "justify_content": null,
      "justify_items": null,
      "left": null,
      "margin": null,
      "max_height": null,
      "max_width": null,
      "min_height": null,
      "min_width": null,
      "object_fit": null,
      "object_position": null,
      "order": null,
      "overflow": null,
      "overflow_x": null,
      "overflow_y": null,
      "padding": null,
      "right": null,
      "top": null,
      "visibility": null,
      "width": null
     }
    },
    "73d97d5c7ced4cfa9cad740bc3463298": {
     "model_module": "@jupyter-widgets/base",
     "model_module_version": "1.2.0",
     "model_name": "LayoutModel",
     "state": {
      "_model_module": "@jupyter-widgets/base",
      "_model_module_version": "1.2.0",
      "_model_name": "LayoutModel",
      "_view_count": null,
      "_view_module": "@jupyter-widgets/base",
      "_view_module_version": "1.2.0",
      "_view_name": "LayoutView",
      "align_content": null,
      "align_items": null,
      "align_self": null,
      "border": null,
      "bottom": null,
      "display": null,
      "flex": null,
      "flex_flow": null,
      "grid_area": null,
      "grid_auto_columns": null,
      "grid_auto_flow": null,
      "grid_auto_rows": null,
      "grid_column": null,
      "grid_gap": null,
      "grid_row": null,
      "grid_template_areas": null,
      "grid_template_columns": null,
      "grid_template_rows": null,
      "height": null,
      "justify_content": null,
      "justify_items": null,
      "left": null,
      "margin": null,
      "max_height": null,
      "max_width": null,
      "min_height": null,
      "min_width": null,
      "object_fit": null,
      "object_position": null,
      "order": null,
      "overflow": null,
      "overflow_x": null,
      "overflow_y": null,
      "padding": null,
      "right": null,
      "top": null,
      "visibility": null,
      "width": null
     }
    },
    "79e9ee3a5eeb4f9eab873056a797fb8a": {
     "model_module": "@jupyter-widgets/controls",
     "model_module_version": "1.5.0",
     "model_name": "HBoxModel",
     "state": {
      "_dom_classes": [],
      "_model_module": "@jupyter-widgets/controls",
      "_model_module_version": "1.5.0",
      "_model_name": "HBoxModel",
      "_view_count": null,
      "_view_module": "@jupyter-widgets/controls",
      "_view_module_version": "1.5.0",
      "_view_name": "HBoxView",
      "box_style": "",
      "children": [
       "IPY_MODEL_a9955f922bc340adb1fedeafaf4a2379",
       "IPY_MODEL_7b1bb0ea4f024c0c8b2fc3c5901f13c2",
       "IPY_MODEL_d70fd55ccba14b2fbbc239da1e411cc3"
      ],
      "layout": "IPY_MODEL_5f1975e3f791400db32662f9868c8a8b"
     }
    },
    "7b1bb0ea4f024c0c8b2fc3c5901f13c2": {
     "model_module": "@jupyter-widgets/controls",
     "model_module_version": "1.5.0",
     "model_name": "FloatProgressModel",
     "state": {
      "_dom_classes": [],
      "_model_module": "@jupyter-widgets/controls",
      "_model_module_version": "1.5.0",
      "_model_name": "FloatProgressModel",
      "_view_count": null,
      "_view_module": "@jupyter-widgets/controls",
      "_view_module_version": "1.5.0",
      "_view_name": "ProgressView",
      "bar_style": "",
      "description": "",
      "description_tooltip": null,
      "layout": "IPY_MODEL_3195b3b922154ca6bea4dc4696dc761f",
      "max": 3,
      "min": 0,
      "orientation": "horizontal",
      "style": "IPY_MODEL_363083ad893f4a03a915ebafe5c8dd39",
      "value": 3
     }
    },
    "83ebc4d895664c188583bc2bef319dd9": {
     "model_module": "@jupyter-widgets/controls",
     "model_module_version": "1.5.0",
     "model_name": "HTMLModel",
     "state": {
      "_dom_classes": [],
      "_model_module": "@jupyter-widgets/controls",
      "_model_module_version": "1.5.0",
      "_model_name": "HTMLModel",
      "_view_count": null,
      "_view_module": "@jupyter-widgets/controls",
      "_view_module_version": "1.5.0",
      "_view_name": "HTMLView",
      "description": "",
      "description_tooltip": null,
      "layout": "IPY_MODEL_686efd889df248e9b06f1e5f7b80bbd8",
      "placeholder": "​",
      "style": "IPY_MODEL_bdb693dc8c054c818388de9f3da6c051",
      "value": "100%"
     }
    },
    "878e14ede1f147ee994be5896fa8166b": {
     "model_module": "@jupyter-widgets/controls",
     "model_module_version": "1.5.0",
     "model_name": "ProgressStyleModel",
     "state": {
      "_model_module": "@jupyter-widgets/controls",
      "_model_module_version": "1.5.0",
      "_model_name": "ProgressStyleModel",
      "_view_count": null,
      "_view_module": "@jupyter-widgets/base",
      "_view_module_version": "1.2.0",
      "_view_name": "StyleView",
      "bar_color": null,
      "description_width": ""
     }
    },
    "98add53e46b34fbab567f708b65ffce5": {
     "model_module": "@jupyter-widgets/controls",
     "model_module_version": "1.5.0",
     "model_name": "DescriptionStyleModel",
     "state": {
      "_model_module": "@jupyter-widgets/controls",
      "_model_module_version": "1.5.0",
      "_model_name": "DescriptionStyleModel",
      "_view_count": null,
      "_view_module": "@jupyter-widgets/base",
      "_view_module_version": "1.2.0",
      "_view_name": "StyleView",
      "description_width": ""
     }
    },
    "98b28f05c47b4ca7b449456f6fde803b": {
     "model_module": "@jupyter-widgets/controls",
     "model_module_version": "1.5.0",
     "model_name": "HTMLModel",
     "state": {
      "_dom_classes": [],
      "_model_module": "@jupyter-widgets/controls",
      "_model_module_version": "1.5.0",
      "_model_name": "HTMLModel",
      "_view_count": null,
      "_view_module": "@jupyter-widgets/controls",
      "_view_module_version": "1.5.0",
      "_view_name": "HTMLView",
      "description": "",
      "description_tooltip": null,
      "layout": "IPY_MODEL_e94d54bf30124380bd3cb81e5346fcac",
      "placeholder": "​",
      "style": "IPY_MODEL_0928cf381e2d44a19c9bd9d2e1937458",
      "value": " 3/3 [00:02&lt;00:00,  1.51ba/s]"
     }
    },
    "a79accafe2c247249889389a933aca37": {
     "model_module": "@jupyter-widgets/controls",
     "model_module_version": "1.5.0",
     "model_name": "HBoxModel",
     "state": {
      "_dom_classes": [],
      "_model_module": "@jupyter-widgets/controls",
      "_model_module_version": "1.5.0",
      "_model_name": "HBoxModel",
      "_view_count": null,
      "_view_module": "@jupyter-widgets/controls",
      "_view_module_version": "1.5.0",
      "_view_name": "HBoxView",
      "box_style": "",
      "children": [
       "IPY_MODEL_e27c33bbb03d44818938bcb4247e843c",
       "IPY_MODEL_e6f455a212374b1ea836085dbefee41b",
       "IPY_MODEL_f21ee482a845454c910594f8e6812aab"
      ],
      "layout": "IPY_MODEL_116e4e4633ee468aaabdbf488968d8d7"
     }
    },
    "a9955f922bc340adb1fedeafaf4a2379": {
     "model_module": "@jupyter-widgets/controls",
     "model_module_version": "1.5.0",
     "model_name": "HTMLModel",
     "state": {
      "_dom_classes": [],
      "_model_module": "@jupyter-widgets/controls",
      "_model_module_version": "1.5.0",
      "_model_name": "HTMLModel",
      "_view_count": null,
      "_view_module": "@jupyter-widgets/controls",
      "_view_module_version": "1.5.0",
      "_view_name": "HTMLView",
      "description": "",
      "description_tooltip": null,
      "layout": "IPY_MODEL_32515fc9fe2644bb96306df3ab0f7ee2",
      "placeholder": "​",
      "style": "IPY_MODEL_1328ab5af2db44e595a98d86534aacd3",
      "value": "100%"
     }
    },
    "b77d3d2a7a0549d8908f6cb5188f16f3": {
     "model_module": "@jupyter-widgets/base",
     "model_module_version": "1.2.0",
     "model_name": "LayoutModel",
     "state": {
      "_model_module": "@jupyter-widgets/base",
      "_model_module_version": "1.2.0",
      "_model_name": "LayoutModel",
      "_view_count": null,
      "_view_module": "@jupyter-widgets/base",
      "_view_module_version": "1.2.0",
      "_view_name": "LayoutView",
      "align_content": null,
      "align_items": null,
      "align_self": null,
      "border": null,
      "bottom": null,
      "display": null,
      "flex": null,
      "flex_flow": null,
      "grid_area": null,
      "grid_auto_columns": null,
      "grid_auto_flow": null,
      "grid_auto_rows": null,
      "grid_column": null,
      "grid_gap": null,
      "grid_row": null,
      "grid_template_areas": null,
      "grid_template_columns": null,
      "grid_template_rows": null,
      "height": null,
      "justify_content": null,
      "justify_items": null,
      "left": null,
      "margin": null,
      "max_height": null,
      "max_width": null,
      "min_height": null,
      "min_width": null,
      "object_fit": null,
      "object_position": null,
      "order": null,
      "overflow": null,
      "overflow_x": null,
      "overflow_y": null,
      "padding": null,
      "right": null,
      "top": null,
      "visibility": null,
      "width": null
     }
    },
    "b7eba397082b450281cf2343b4d6c9fd": {
     "model_module": "@jupyter-widgets/controls",
     "model_module_version": "1.5.0",
     "model_name": "DescriptionStyleModel",
     "state": {
      "_model_module": "@jupyter-widgets/controls",
      "_model_module_version": "1.5.0",
      "_model_name": "DescriptionStyleModel",
      "_view_count": null,
      "_view_module": "@jupyter-widgets/base",
      "_view_module_version": "1.2.0",
      "_view_name": "StyleView",
      "description_width": ""
     }
    },
    "bdb693dc8c054c818388de9f3da6c051": {
     "model_module": "@jupyter-widgets/controls",
     "model_module_version": "1.5.0",
     "model_name": "DescriptionStyleModel",
     "state": {
      "_model_module": "@jupyter-widgets/controls",
      "_model_module_version": "1.5.0",
      "_model_name": "DescriptionStyleModel",
      "_view_count": null,
      "_view_module": "@jupyter-widgets/base",
      "_view_module_version": "1.2.0",
      "_view_name": "StyleView",
      "description_width": ""
     }
    },
    "c31bd3056b2d44448b53ecfde463c393": {
     "model_module": "@jupyter-widgets/controls",
     "model_module_version": "1.5.0",
     "model_name": "ProgressStyleModel",
     "state": {
      "_model_module": "@jupyter-widgets/controls",
      "_model_module_version": "1.5.0",
      "_model_name": "ProgressStyleModel",
      "_view_count": null,
      "_view_module": "@jupyter-widgets/base",
      "_view_module_version": "1.2.0",
      "_view_name": "StyleView",
      "bar_color": null,
      "description_width": ""
     }
    },
    "cd30348d2d9b4a67a2d843c65a64f99c": {
     "model_module": "@jupyter-widgets/controls",
     "model_module_version": "1.5.0",
     "model_name": "HTMLModel",
     "state": {
      "_dom_classes": [],
      "_model_module": "@jupyter-widgets/controls",
      "_model_module_version": "1.5.0",
      "_model_name": "HTMLModel",
      "_view_count": null,
      "_view_module": "@jupyter-widgets/controls",
      "_view_module_version": "1.5.0",
      "_view_name": "HTMLView",
      "description": "",
      "description_tooltip": null,
      "layout": "IPY_MODEL_5d37a924213140dda00c11bd0e9d9dcf",
      "placeholder": "​",
      "style": "IPY_MODEL_32a08a5e0c5f4e5a80451201cee7ad92",
      "value": "100%"
     }
    },
    "d70fd55ccba14b2fbbc239da1e411cc3": {
     "model_module": "@jupyter-widgets/controls",
     "model_module_version": "1.5.0",
     "model_name": "HTMLModel",
     "state": {
      "_dom_classes": [],
      "_model_module": "@jupyter-widgets/controls",
      "_model_module_version": "1.5.0",
      "_model_name": "HTMLModel",
      "_view_count": null,
      "_view_module": "@jupyter-widgets/controls",
      "_view_module_version": "1.5.0",
      "_view_name": "HTMLView",
      "description": "",
      "description_tooltip": null,
      "layout": "IPY_MODEL_e64539fae56c485cb160c271d7e1eb7e",
      "placeholder": "​",
      "style": "IPY_MODEL_e461a64c77534f13b2e72debf9bdec12",
      "value": " 3/3 [1:27:45&lt;00:00, 1756.32s/it]"
     }
    },
    "d8e1f2fb62bc49be9018d09c326629b4": {
     "model_module": "@jupyter-widgets/base",
     "model_module_version": "1.2.0",
     "model_name": "LayoutModel",
     "state": {
      "_model_module": "@jupyter-widgets/base",
      "_model_module_version": "1.2.0",
      "_model_name": "LayoutModel",
      "_view_count": null,
      "_view_module": "@jupyter-widgets/base",
      "_view_module_version": "1.2.0",
      "_view_name": "LayoutView",
      "align_content": null,
      "align_items": null,
      "align_self": null,
      "border": null,
      "bottom": null,
      "display": null,
      "flex": null,
      "flex_flow": null,
      "grid_area": null,
      "grid_auto_columns": null,
      "grid_auto_flow": null,
      "grid_auto_rows": null,
      "grid_column": null,
      "grid_gap": null,
      "grid_row": null,
      "grid_template_areas": null,
      "grid_template_columns": null,
      "grid_template_rows": null,
      "height": null,
      "justify_content": null,
      "justify_items": null,
      "left": null,
      "margin": null,
      "max_height": null,
      "max_width": null,
      "min_height": null,
      "min_width": null,
      "object_fit": null,
      "object_position": null,
      "order": null,
      "overflow": null,
      "overflow_x": null,
      "overflow_y": null,
      "padding": null,
      "right": null,
      "top": null,
      "visibility": null,
      "width": null
     }
    },
    "e27c33bbb03d44818938bcb4247e843c": {
     "model_module": "@jupyter-widgets/controls",
     "model_module_version": "1.5.0",
     "model_name": "HTMLModel",
     "state": {
      "_dom_classes": [],
      "_model_module": "@jupyter-widgets/controls",
      "_model_module_version": "1.5.0",
      "_model_name": "HTMLModel",
      "_view_count": null,
      "_view_module": "@jupyter-widgets/controls",
      "_view_module_version": "1.5.0",
      "_view_name": "HTMLView",
      "description": "",
      "description_tooltip": null,
      "layout": "IPY_MODEL_73d97d5c7ced4cfa9cad740bc3463298",
      "placeholder": "​",
      "style": "IPY_MODEL_98add53e46b34fbab567f708b65ffce5",
      "value": "100%"
     }
    },
    "e461a64c77534f13b2e72debf9bdec12": {
     "model_module": "@jupyter-widgets/controls",
     "model_module_version": "1.5.0",
     "model_name": "DescriptionStyleModel",
     "state": {
      "_model_module": "@jupyter-widgets/controls",
      "_model_module_version": "1.5.0",
      "_model_name": "DescriptionStyleModel",
      "_view_count": null,
      "_view_module": "@jupyter-widgets/base",
      "_view_module_version": "1.2.0",
      "_view_name": "StyleView",
      "description_width": ""
     }
    },
    "e64539fae56c485cb160c271d7e1eb7e": {
     "model_module": "@jupyter-widgets/base",
     "model_module_version": "1.2.0",
     "model_name": "LayoutModel",
     "state": {
      "_model_module": "@jupyter-widgets/base",
      "_model_module_version": "1.2.0",
      "_model_name": "LayoutModel",
      "_view_count": null,
      "_view_module": "@jupyter-widgets/base",
      "_view_module_version": "1.2.0",
      "_view_name": "LayoutView",
      "align_content": null,
      "align_items": null,
      "align_self": null,
      "border": null,
      "bottom": null,
      "display": null,
      "flex": null,
      "flex_flow": null,
      "grid_area": null,
      "grid_auto_columns": null,
      "grid_auto_flow": null,
      "grid_auto_rows": null,
      "grid_column": null,
      "grid_gap": null,
      "grid_row": null,
      "grid_template_areas": null,
      "grid_template_columns": null,
      "grid_template_rows": null,
      "height": null,
      "justify_content": null,
      "justify_items": null,
      "left": null,
      "margin": null,
      "max_height": null,
      "max_width": null,
      "min_height": null,
      "min_width": null,
      "object_fit": null,
      "object_position": null,
      "order": null,
      "overflow": null,
      "overflow_x": null,
      "overflow_y": null,
      "padding": null,
      "right": null,
      "top": null,
      "visibility": null,
      "width": null
     }
    },
    "e6f455a212374b1ea836085dbefee41b": {
     "model_module": "@jupyter-widgets/controls",
     "model_module_version": "1.5.0",
     "model_name": "FloatProgressModel",
     "state": {
      "_dom_classes": [],
      "_model_module": "@jupyter-widgets/controls",
      "_model_module_version": "1.5.0",
      "_model_name": "FloatProgressModel",
      "_view_count": null,
      "_view_module": "@jupyter-widgets/controls",
      "_view_module_version": "1.5.0",
      "_view_name": "ProgressView",
      "bar_style": "success",
      "description": "",
      "description_tooltip": null,
      "layout": "IPY_MODEL_f15c3ba3d2064891a966c630d9223b8e",
      "max": 19,
      "min": 0,
      "orientation": "horizontal",
      "style": "IPY_MODEL_878e14ede1f147ee994be5896fa8166b",
      "value": 19
     }
    },
    "e94d54bf30124380bd3cb81e5346fcac": {
     "model_module": "@jupyter-widgets/base",
     "model_module_version": "1.2.0",
     "model_name": "LayoutModel",
     "state": {
      "_model_module": "@jupyter-widgets/base",
      "_model_module_version": "1.2.0",
      "_model_name": "LayoutModel",
      "_view_count": null,
      "_view_module": "@jupyter-widgets/base",
      "_view_module_version": "1.2.0",
      "_view_name": "LayoutView",
      "align_content": null,
      "align_items": null,
      "align_self": null,
      "border": null,
      "bottom": null,
      "display": null,
      "flex": null,
      "flex_flow": null,
      "grid_area": null,
      "grid_auto_columns": null,
      "grid_auto_flow": null,
      "grid_auto_rows": null,
      "grid_column": null,
      "grid_gap": null,
      "grid_row": null,
      "grid_template_areas": null,
      "grid_template_columns": null,
      "grid_template_rows": null,
      "height": null,
      "justify_content": null,
      "justify_items": null,
      "left": null,
      "margin": null,
      "max_height": null,
      "max_width": null,
      "min_height": null,
      "min_width": null,
      "object_fit": null,
      "object_position": null,
      "order": null,
      "overflow": null,
      "overflow_x": null,
      "overflow_y": null,
      "padding": null,
      "right": null,
      "top": null,
      "visibility": null,
      "width": null
     }
    },
    "ee6427665e864a38863987f08988b7c1": {
     "model_module": "@jupyter-widgets/controls",
     "model_module_version": "1.5.0",
     "model_name": "HTMLModel",
     "state": {
      "_dom_classes": [],
      "_model_module": "@jupyter-widgets/controls",
      "_model_module_version": "1.5.0",
      "_model_name": "HTMLModel",
      "_view_count": null,
      "_view_module": "@jupyter-widgets/controls",
      "_view_module_version": "1.5.0",
      "_view_name": "HTMLView",
      "description": "",
      "description_tooltip": null,
      "layout": "IPY_MODEL_b77d3d2a7a0549d8908f6cb5188f16f3",
      "placeholder": "​",
      "style": "IPY_MODEL_1e074825415d4295b0f660ccf6134bdf",
      "value": " 5/5 [00:03&lt;00:00,  1.36ba/s]"
     }
    },
    "f15c3ba3d2064891a966c630d9223b8e": {
     "model_module": "@jupyter-widgets/base",
     "model_module_version": "1.2.0",
     "model_name": "LayoutModel",
     "state": {
      "_model_module": "@jupyter-widgets/base",
      "_model_module_version": "1.2.0",
      "_model_name": "LayoutModel",
      "_view_count": null,
      "_view_module": "@jupyter-widgets/base",
      "_view_module_version": "1.2.0",
      "_view_name": "LayoutView",
      "align_content": null,
      "align_items": null,
      "align_self": null,
      "border": null,
      "bottom": null,
      "display": null,
      "flex": null,
      "flex_flow": null,
      "grid_area": null,
      "grid_auto_columns": null,
      "grid_auto_flow": null,
      "grid_auto_rows": null,
      "grid_column": null,
      "grid_gap": null,
      "grid_row": null,
      "grid_template_areas": null,
      "grid_template_columns": null,
      "grid_template_rows": null,
      "height": null,
      "justify_content": null,
      "justify_items": null,
      "left": null,
      "margin": null,
      "max_height": null,
      "max_width": null,
      "min_height": null,
      "min_width": null,
      "object_fit": null,
      "object_position": null,
      "order": null,
      "overflow": null,
      "overflow_x": null,
      "overflow_y": null,
      "padding": null,
      "right": null,
      "top": null,
      "visibility": null,
      "width": null
     }
    },
    "f21ee482a845454c910594f8e6812aab": {
     "model_module": "@jupyter-widgets/controls",
     "model_module_version": "1.5.0",
     "model_name": "HTMLModel",
     "state": {
      "_dom_classes": [],
      "_model_module": "@jupyter-widgets/controls",
      "_model_module_version": "1.5.0",
      "_model_name": "HTMLModel",
      "_view_count": null,
      "_view_module": "@jupyter-widgets/controls",
      "_view_module_version": "1.5.0",
      "_view_name": "HTMLView",
      "description": "",
      "description_tooltip": null,
      "layout": "IPY_MODEL_d8e1f2fb62bc49be9018d09c326629b4",
      "placeholder": "​",
      "style": "IPY_MODEL_b7eba397082b450281cf2343b4d6c9fd",
      "value": " 19/19 [00:07&lt;00:00,  2.92ba/s]"
     }
    },
    "f719ce848451456a9db15c7280cdb29a": {
     "model_module": "@jupyter-widgets/base",
     "model_module_version": "1.2.0",
     "model_name": "LayoutModel",
     "state": {
      "_model_module": "@jupyter-widgets/base",
      "_model_module_version": "1.2.0",
      "_model_name": "LayoutModel",
      "_view_count": null,
      "_view_module": "@jupyter-widgets/base",
      "_view_module_version": "1.2.0",
      "_view_name": "LayoutView",
      "align_content": null,
      "align_items": null,
      "align_self": null,
      "border": null,
      "bottom": null,
      "display": null,
      "flex": null,
      "flex_flow": null,
      "grid_area": null,
      "grid_auto_columns": null,
      "grid_auto_flow": null,
      "grid_auto_rows": null,
      "grid_column": null,
      "grid_gap": null,
      "grid_row": null,
      "grid_template_areas": null,
      "grid_template_columns": null,
      "grid_template_rows": null,
      "height": null,
      "justify_content": null,
      "justify_items": null,
      "left": null,
      "margin": null,
      "max_height": null,
      "max_width": null,
      "min_height": null,
      "min_width": null,
      "object_fit": null,
      "object_position": null,
      "order": null,
      "overflow": null,
      "overflow_x": null,
      "overflow_y": null,
      "padding": null,
      "right": null,
      "top": null,
      "visibility": null,
      "width": null
     }
    }
   }
  }
 },
 "nbformat": 4,
 "nbformat_minor": 1
}
