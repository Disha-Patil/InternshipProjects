{
 "cells": [
  {
   "cell_type": "code",
   "execution_count": 1,
   "id": "7b8003c9",
   "metadata": {},
   "outputs": [],
   "source": [
    "import numpy as np \n",
    "import pandas as pd \n",
    "import re\n",
    "import nltk\n",
    "import sklearn"
   ]
  },
  {
   "cell_type": "code",
   "execution_count": 2,
   "id": "5fe17b29",
   "metadata": {},
   "outputs": [
    {
     "data": {
      "text/html": [
       "<div>\n",
       "<style scoped>\n",
       "    .dataframe tbody tr th:only-of-type {\n",
       "        vertical-align: middle;\n",
       "    }\n",
       "\n",
       "    .dataframe tbody tr th {\n",
       "        vertical-align: top;\n",
       "    }\n",
       "\n",
       "    .dataframe thead th {\n",
       "        text-align: right;\n",
       "    }\n",
       "</style>\n",
       "<table border=\"1\" class=\"dataframe\">\n",
       "  <thead>\n",
       "    <tr style=\"text-align: right;\">\n",
       "      <th></th>\n",
       "      <th>text</th>\n",
       "      <th>Sentiment</th>\n",
       "      <th>Category</th>\n",
       "      <th>Location</th>\n",
       "    </tr>\n",
       "  </thead>\n",
       "  <tbody>\n",
       "    <tr>\n",
       "      <th>0</th>\n",
       "      <td>The SMS reminders from CreditCardCo are so va...</td>\n",
       "      <td>Negative</td>\n",
       "      <td>Reminder System</td>\n",
       "      <td>Belfast</td>\n",
       "    </tr>\n",
       "    <tr>\n",
       "      <th>1</th>\n",
       "      <td>The credit card rewards program from CreditCa...</td>\n",
       "      <td>Negative</td>\n",
       "      <td>Reward Programme</td>\n",
       "      <td>Belfast</td>\n",
       "    </tr>\n",
       "    <tr>\n",
       "      <th>2</th>\n",
       "      <td>The text message from CreditCardCo notifying ...</td>\n",
       "      <td>Negative</td>\n",
       "      <td>Miscellaneous</td>\n",
       "      <td>Belfast</td>\n",
       "    </tr>\n",
       "    <tr>\n",
       "      <th>3</th>\n",
       "      <td>Hey CreditCardCo, integrating payment reminde...</td>\n",
       "      <td>Neutral</td>\n",
       "      <td>Reminder System</td>\n",
       "      <td>Birmingham</td>\n",
       "    </tr>\n",
       "    <tr>\n",
       "      <th>4</th>\n",
       "      <td>Just discovered that CreditCardCo's so-called...</td>\n",
       "      <td>Negative</td>\n",
       "      <td>MisSelling</td>\n",
       "      <td>Birmingham</td>\n",
       "    </tr>\n",
       "  </tbody>\n",
       "</table>\n",
       "</div>"
      ],
      "text/plain": [
       "                                                text Sentiment  \\\n",
       "0   The SMS reminders from CreditCardCo are so va...  Negative   \n",
       "1   The credit card rewards program from CreditCa...  Negative   \n",
       "2   The text message from CreditCardCo notifying ...  Negative   \n",
       "3   Hey CreditCardCo, integrating payment reminde...   Neutral   \n",
       "4   Just discovered that CreditCardCo's so-called...  Negative   \n",
       "\n",
       "           Category    Location  \n",
       "0   Reminder System     Belfast  \n",
       "1  Reward Programme     Belfast  \n",
       "2     Miscellaneous     Belfast  \n",
       "3   Reminder System  Birmingham  \n",
       "4        MisSelling  Birmingham  "
      ]
     },
     "execution_count": 2,
     "metadata": {},
     "output_type": "execute_result"
    }
   ],
   "source": [
    "df = pd.read_excel('data/FilteredData_new.xlsx')\n",
    "df.head()"
   ]
  },
  {
   "cell_type": "code",
   "execution_count": 3,
   "id": "38dc4d96",
   "metadata": {},
   "outputs": [
    {
     "data": {
      "text/plain": [
       "(353, 4)"
      ]
     },
     "execution_count": 3,
     "metadata": {},
     "output_type": "execute_result"
    }
   ],
   "source": [
    "df.shape"
   ]
  },
  {
   "cell_type": "markdown",
   "id": "1b4b9b32",
   "metadata": {},
   "source": [
    "# Removal of some Rows with 'channel of communication', 'Transportation','Mescilanious'"
   ]
  },
  {
   "cell_type": "code",
   "execution_count": 4,
   "id": "fda0d222",
   "metadata": {},
   "outputs": [],
   "source": [
    "newdf = df.drop(df[(df['Category'] == 'Miscellaneous') | (df['Category'] == 'Channel of Communication') | (df['Category'] == 'Transparency of communication')].index, inplace=False)"
   ]
  },
  {
   "cell_type": "code",
   "execution_count": 5,
   "id": "e2b578f6",
   "metadata": {},
   "outputs": [
    {
     "data": {
      "text/plain": [
       "(270, 4)"
      ]
     },
     "execution_count": 5,
     "metadata": {},
     "output_type": "execute_result"
    }
   ],
   "source": [
    "newdf.shape"
   ]
  },
  {
   "cell_type": "code",
   "execution_count": 6,
   "id": "166d2eb7",
   "metadata": {},
   "outputs": [],
   "source": [
    "clean= newdf['text']"
   ]
  },
  {
   "cell_type": "code",
   "execution_count": 7,
   "id": "30d7a6e7",
   "metadata": {},
   "outputs": [
    {
     "name": "stdout",
     "output_type": "stream",
     "text": [
      "<class 'pandas.core.series.Series'>\n"
     ]
    }
   ],
   "source": [
    "print(type(clean))"
   ]
  },
  {
   "cell_type": "markdown",
   "id": "8f2c7921",
   "metadata": {},
   "source": [
    "# Remove Emails."
   ]
  },
  {
   "cell_type": "code",
   "execution_count": 8,
   "id": "2ac59b19",
   "metadata": {},
   "outputs": [
    {
     "data": {
      "text/plain": [
       "[' The SMS reminders from CreditCardCo are so vague and cryptic. How am I supposed to remember the due date without clear information#ConfusingMessages',\n",
       " \" The credit card rewards program from CreditCardCo is so convoluted that I can't even figure out how to redeem my points. #RewardFrustration\",\n",
       " ' Hey CreditCardCo, integrating payment reminder ales with viual assistant platforms like Siri or Google Assistant would make it convenient for customers to stay informed. #PaymentReminders',\n",
       " \" Just discovered that CreditCardCo's so-called 'exclusive offer' for retired pensioners was nothing more than a trap. The hidden fees and high costs are pushing me into financial hardship. #DeceptiveSales #MisSelling\",\n",
       " ' The notification from CreditCardCo about changes to my credit limit arrived after I had already made a large purchase. Poor timing and lack of consideration! #UntimelyCommunication']"
      ]
     },
     "execution_count": 8,
     "metadata": {},
     "output_type": "execute_result"
    }
   ],
   "source": [
    "# Remove Emails\n",
    "clean = [re.sub('\\S*@\\S*\\s?', '', sent) for sent in clean]\n",
    "clean[:5]"
   ]
  },
  {
   "cell_type": "code",
   "execution_count": 9,
   "id": "5680bbfd",
   "metadata": {},
   "outputs": [],
   "source": [
    "# Remove new line characters\n",
    "clean = [re.sub('\\s+', ' ', sent) for sent in clean]"
   ]
  },
  {
   "cell_type": "code",
   "execution_count": 10,
   "id": "3c82d983",
   "metadata": {
    "scrolled": true
   },
   "outputs": [
    {
     "data": {
      "text/plain": [
       "[' The SMS reminders from CreditCardCo are so vague and cryptic. How am I supposed to remember the due date without clear information#ConfusingMessages',\n",
       " \" The credit card rewards program from CreditCardCo is so convoluted that I can't even figure out how to redeem my points. #RewardFrustration\",\n",
       " ' Hey CreditCardCo, integrating payment reminder ales with viual assistant platforms like Siri or Google Assistant would make it convenient for customers to stay informed. #PaymentReminders',\n",
       " \" Just discovered that CreditCardCo's so-called 'exclusive offer' for retired pensioners was nothing more than a trap. The hidden fees and high costs are pushing me into financial hardship. #DeceptiveSales #MisSelling\",\n",
       " ' The notification from CreditCardCo about changes to my credit limit arrived after I had already made a large purchase. Poor timing and lack of consideration! #UntimelyCommunication']"
      ]
     },
     "execution_count": 10,
     "metadata": {},
     "output_type": "execute_result"
    }
   ],
   "source": [
    "clean[:5]"
   ]
  },
  {
   "cell_type": "code",
   "execution_count": 11,
   "id": "f2e1917e",
   "metadata": {},
   "outputs": [],
   "source": [
    "mydata = pd.Series(clean)"
   ]
  },
  {
   "cell_type": "code",
   "execution_count": 12,
   "id": "6f1d0db1",
   "metadata": {},
   "outputs": [
    {
     "data": {
      "text/plain": [
       "0       The SMS reminders from CreditCardCo are so va...\n",
       "1       The credit card rewards program from CreditCa...\n",
       "2       Hey CreditCardCo, integrating payment reminde...\n",
       "3       Just discovered that CreditCardCo's so-called...\n",
       "4       The notification from CreditCardCo about chan...\n",
       "                             ...                        \n",
       "265    BarclaysUKHelp Hi dropped you a few direct mes...\n",
       "266    BarclaysUK just written to my wife to say they...\n",
       "267    BarclaysUKHelp Your staff has cancelled my eld...\n",
       "268    JenniButtonUSA SarahLiz2006 adamundefined I’m ...\n",
       "269    Hello there Thanks for your post! I'm very sor...\n",
       "Length: 270, dtype: object"
      ]
     },
     "execution_count": 12,
     "metadata": {},
     "output_type": "execute_result"
    }
   ],
   "source": [
    "mydata"
   ]
  },
  {
   "cell_type": "code",
   "execution_count": 13,
   "id": "7fc26e6c",
   "metadata": {},
   "outputs": [],
   "source": [
    "mydata = mydata.apply(lambda x: re.sub(r'[^a-zA-Z]+', ' ', x).lower())"
   ]
  },
  {
   "cell_type": "code",
   "execution_count": 14,
   "id": "2e72e0b5",
   "metadata": {},
   "outputs": [
    {
     "data": {
      "text/plain": [
       "' hey creditcardco integrating payment reminder ales with viual assistant platforms like siri or google assistant would make it convenient for customers to stay informed paymentreminders'"
      ]
     },
     "execution_count": 14,
     "metadata": {},
     "output_type": "execute_result"
    }
   ],
   "source": [
    "mydata[2]"
   ]
  },
  {
   "cell_type": "code",
   "execution_count": 15,
   "id": "950561a5",
   "metadata": {},
   "outputs": [
    {
     "data": {
      "text/plain": [
       "181"
      ]
     },
     "execution_count": 15,
     "metadata": {},
     "output_type": "execute_result"
    }
   ],
   "source": [
    "# now lets deal with stopwords \n",
    "# using nltk stopwords \n",
    "from nltk.corpus import stopwords\n",
    "stop_words = stopwords.words('english')\n",
    "stop_words.extend(['from','re'])\n",
    "len(stop_words)"
   ]
  },
  {
   "cell_type": "code",
   "execution_count": 16,
   "id": "eed37861",
   "metadata": {},
   "outputs": [],
   "source": [
    "from nltk import word_tokenize "
   ]
  },
  {
   "cell_type": "code",
   "execution_count": 17,
   "id": "020f42d5",
   "metadata": {},
   "outputs": [],
   "source": [
    "mydata = mydata.apply(lambda x:' '.join([word for word in word_tokenize(x) if word not in stop_words and len(word)> 2]))"
   ]
  },
  {
   "cell_type": "code",
   "execution_count": 18,
   "id": "4ff3608d",
   "metadata": {},
   "outputs": [
    {
     "data": {
      "text/plain": [
       "'jennibuttonusa sarahliz adamundefined cracking birthday thread credit cards anyone know kept chase southwest card whole time ramsey two chase cards barclays american almost covered flights italy summer'"
      ]
     },
     "execution_count": 18,
     "metadata": {},
     "output_type": "execute_result"
    }
   ],
   "source": [
    "mydata[268]"
   ]
  },
  {
   "cell_type": "code",
   "execution_count": 19,
   "id": "7401a4e2",
   "metadata": {},
   "outputs": [
    {
     "name": "stdout",
     "output_type": "stream",
     "text": [
      "<class 'pandas.core.series.Series'>\n"
     ]
    }
   ],
   "source": [
    "print(type(mydata))"
   ]
  },
  {
   "cell_type": "code",
   "execution_count": 20,
   "id": "30379e8b",
   "metadata": {},
   "outputs": [],
   "source": [
    "newdf = newdf.reset_index(drop=True)"
   ]
  },
  {
   "cell_type": "code",
   "execution_count": 21,
   "id": "aac01e1e",
   "metadata": {},
   "outputs": [
    {
     "name": "stdout",
     "output_type": "stream",
     "text": [
      "270\n"
     ]
    }
   ],
   "source": [
    "print(len(mydata))"
   ]
  },
  {
   "cell_type": "code",
   "execution_count": 22,
   "id": "a944871a",
   "metadata": {},
   "outputs": [],
   "source": [
    "newdf['clean_text'] = mydata"
   ]
  },
  {
   "cell_type": "code",
   "execution_count": 23,
   "id": "fc9e329d",
   "metadata": {},
   "outputs": [
    {
     "data": {
      "text/html": [
       "<div>\n",
       "<style scoped>\n",
       "    .dataframe tbody tr th:only-of-type {\n",
       "        vertical-align: middle;\n",
       "    }\n",
       "\n",
       "    .dataframe tbody tr th {\n",
       "        vertical-align: top;\n",
       "    }\n",
       "\n",
       "    .dataframe thead th {\n",
       "        text-align: right;\n",
       "    }\n",
       "</style>\n",
       "<table border=\"1\" class=\"dataframe\">\n",
       "  <thead>\n",
       "    <tr style=\"text-align: right;\">\n",
       "      <th></th>\n",
       "      <th>text</th>\n",
       "      <th>Sentiment</th>\n",
       "      <th>Category</th>\n",
       "      <th>Location</th>\n",
       "      <th>clean_text</th>\n",
       "    </tr>\n",
       "  </thead>\n",
       "  <tbody>\n",
       "    <tr>\n",
       "      <th>0</th>\n",
       "      <td>The SMS reminders from CreditCardCo are so va...</td>\n",
       "      <td>Negative</td>\n",
       "      <td>Reminder System</td>\n",
       "      <td>Belfast</td>\n",
       "      <td>sms reminders creditcardco vague cryptic suppo...</td>\n",
       "    </tr>\n",
       "    <tr>\n",
       "      <th>1</th>\n",
       "      <td>The credit card rewards program from CreditCa...</td>\n",
       "      <td>Negative</td>\n",
       "      <td>Reward Programme</td>\n",
       "      <td>Belfast</td>\n",
       "      <td>credit card rewards program creditcardco convo...</td>\n",
       "    </tr>\n",
       "    <tr>\n",
       "      <th>2</th>\n",
       "      <td>Hey CreditCardCo, integrating payment reminde...</td>\n",
       "      <td>Neutral</td>\n",
       "      <td>Reminder System</td>\n",
       "      <td>Birmingham</td>\n",
       "      <td>hey creditcardco integrating payment reminder ...</td>\n",
       "    </tr>\n",
       "    <tr>\n",
       "      <th>3</th>\n",
       "      <td>Just discovered that CreditCardCo's so-called...</td>\n",
       "      <td>Negative</td>\n",
       "      <td>MisSelling</td>\n",
       "      <td>Birmingham</td>\n",
       "      <td>discovered creditcardco called exclusive offer...</td>\n",
       "    </tr>\n",
       "    <tr>\n",
       "      <th>4</th>\n",
       "      <td>The notification from CreditCardCo about chan...</td>\n",
       "      <td>Negative</td>\n",
       "      <td>Reminder System</td>\n",
       "      <td>Kingston upon Hull</td>\n",
       "      <td>notification creditcardco changes credit limit...</td>\n",
       "    </tr>\n",
       "  </tbody>\n",
       "</table>\n",
       "</div>"
      ],
      "text/plain": [
       "                                                text Sentiment  \\\n",
       "0   The SMS reminders from CreditCardCo are so va...  Negative   \n",
       "1   The credit card rewards program from CreditCa...  Negative   \n",
       "2   Hey CreditCardCo, integrating payment reminde...   Neutral   \n",
       "3   Just discovered that CreditCardCo's so-called...  Negative   \n",
       "4   The notification from CreditCardCo about chan...  Negative   \n",
       "\n",
       "           Category            Location  \\\n",
       "0   Reminder System             Belfast   \n",
       "1  Reward Programme             Belfast   \n",
       "2   Reminder System          Birmingham   \n",
       "3        MisSelling          Birmingham   \n",
       "4   Reminder System  Kingston upon Hull   \n",
       "\n",
       "                                          clean_text  \n",
       "0  sms reminders creditcardco vague cryptic suppo...  \n",
       "1  credit card rewards program creditcardco convo...  \n",
       "2  hey creditcardco integrating payment reminder ...  \n",
       "3  discovered creditcardco called exclusive offer...  \n",
       "4  notification creditcardco changes credit limit...  "
      ]
     },
     "execution_count": 23,
     "metadata": {},
     "output_type": "execute_result"
    }
   ],
   "source": [
    "newdf.head(5)"
   ]
  },
  {
   "cell_type": "code",
   "execution_count": 24,
   "id": "78c5850d",
   "metadata": {},
   "outputs": [
    {
     "name": "stdout",
     "output_type": "stream",
     "text": [
      "<class 'pandas.core.frame.DataFrame'>\n",
      "RangeIndex: 270 entries, 0 to 269\n",
      "Data columns (total 5 columns):\n",
      " #   Column      Non-Null Count  Dtype \n",
      "---  ------      --------------  ----- \n",
      " 0   text        270 non-null    object\n",
      " 1   Sentiment   270 non-null    object\n",
      " 2   Category    270 non-null    object\n",
      " 3   Location    208 non-null    object\n",
      " 4   clean_text  270 non-null    object\n",
      "dtypes: object(5)\n",
      "memory usage: 10.7+ KB\n"
     ]
    }
   ],
   "source": [
    "newdf.info()"
   ]
  },
  {
   "cell_type": "code",
   "execution_count": 25,
   "id": "f1977e46",
   "metadata": {},
   "outputs": [
    {
     "data": {
      "text/plain": [
       "[('creditcardco', 195),\n",
       " ('pricing', 63),\n",
       " ('card', 60),\n",
       " ('suppo', 50),\n",
       " ('credit', 42),\n",
       " ('customers', 41),\n",
       " ('customer', 39),\n",
       " ('thank', 36),\n",
       " ('reward', 34),\n",
       " ('feedback', 34),\n",
       " ('program', 29),\n",
       " ('product', 29),\n",
       " ('rewards', 28),\n",
       " ('time', 28),\n",
       " ('hey', 25),\n",
       " ('reminders', 24),\n",
       " ('reminder', 24),\n",
       " ('due', 21),\n",
       " ('payment', 21),\n",
       " ('like', 21)]"
      ]
     },
     "execution_count": 25,
     "metadata": {},
     "output_type": "execute_result"
    }
   ],
   "source": [
    "words_list = []\n",
    "for sentence in mydata:\n",
    "    words_list.extend(nltk.word_tokenize(sentence))\n",
    "freq_dist = nltk.FreqDist(words_list)\n",
    "freq_dist.most_common(20)\n",
    "# freq_dist.keys()"
   ]
  },
  {
   "cell_type": "code",
   "execution_count": 26,
   "id": "a0b1fcf6",
   "metadata": {},
   "outputs": [
    {
     "data": {
      "text/plain": [
       "(array([ 0,  1,  2,  3,  4,  5,  6,  7,  8,  9, 10, 11, 12, 13, 14, 15, 16,\n",
       "        17, 18, 19, 20, 21, 22, 23, 24, 25, 26, 27, 28, 29]),\n",
       " [Text(0, 0, 'creditcardco'),\n",
       "  Text(1, 0, 'pricing'),\n",
       "  Text(2, 0, 'card'),\n",
       "  Text(3, 0, 'suppo'),\n",
       "  Text(4, 0, 'credit'),\n",
       "  Text(5, 0, 'customers'),\n",
       "  Text(6, 0, 'customer'),\n",
       "  Text(7, 0, 'thank'),\n",
       "  Text(8, 0, 'reward'),\n",
       "  Text(9, 0, 'feedback'),\n",
       "  Text(10, 0, 'program'),\n",
       "  Text(11, 0, 'product'),\n",
       "  Text(12, 0, 'rewards'),\n",
       "  Text(13, 0, 'time'),\n",
       "  Text(14, 0, 'hey'),\n",
       "  Text(15, 0, 'reminders'),\n",
       "  Text(16, 0, 'reminder'),\n",
       "  Text(17, 0, 'due'),\n",
       "  Text(18, 0, 'payment'),\n",
       "  Text(19, 0, 'like'),\n",
       "  Text(20, 0, 'fees'),\n",
       "  Text(21, 0, 'structure'),\n",
       "  Text(22, 0, 'high'),\n",
       "  Text(23, 0, 'misselling'),\n",
       "  Text(24, 0, 'issue'),\n",
       "  Text(25, 0, 'points'),\n",
       "  Text(26, 0, 'better'),\n",
       "  Text(27, 0, 'team'),\n",
       "  Text(28, 0, 'needs'),\n",
       "  Text(29, 0, 'apologize')])"
      ]
     },
     "execution_count": 26,
     "metadata": {},
     "output_type": "execute_result"
    },
    {
     "data": {
      "image/png": "[encoded data removed]",
      "text/plain": [
       "<Figure size 1000x600 with 1 Axes>"
      ]
     },
     "metadata": {
      "image/png": {
       "height": 619,
       "width": 854
      }
     },
     "output_type": "display_data"
    }
   ],
   "source": [
    "# creating a temporary dataframe and plotting the graph\n",
    "%config InlineBackend.figure_format = 'retina'\n",
    "import matplotlib.pyplot as plt\n",
    "import seaborn as sns\n",
    "sns.set()\n",
    "temp = pd.DataFrame(freq_dist.most_common(30),  columns=['word', 'count'])\n",
    "fig, ax = plt.subplots(figsize=(10, 6))\n",
    "sns.barplot(x='word', y='count', \n",
    "            data=temp, ax=ax)\n",
    "plt.title(\"Top words\")\n",
    "plt.xticks(rotation='vertical')"
   ]
  },
  {
   "cell_type": "markdown",
   "id": "170895b8",
   "metadata": {},
   "source": [
    "# Method 02 (Clustering based ) "
   ]
  },
  {
   "cell_type": "code",
   "execution_count": null,
   "id": "4154a632",
   "metadata": {},
   "outputs": [],
   "source": [
    "pip install sentence-transformers"
   ]
  },
  {
   "cell_type": "code",
   "execution_count": 27,
   "id": "10678726",
   "metadata": {},
   "outputs": [
    {
     "name": "stderr",
     "output_type": "stream",
     "text": [
      "C:\\Users\\Satyam Dubey\\Desktop\\Random Test 02\\boyzz\\Lib\\site-packages\\tqdm\\auto.py:21: TqdmWarning: IProgress not found. Please update jupyter and ipywidgets. See https://ipywidgets.readthedocs.io/en/stable/user_install.html\n",
      "  from .autonotebook import tqdm as notebook_tqdm\n"
     ]
    }
   ],
   "source": [
    "from sentence_transformers import SentenceTransformer"
   ]
  },
  {
   "cell_type": "code",
   "execution_count": 28,
   "id": "c2abda8a",
   "metadata": {},
   "outputs": [],
   "source": [
    "from sklearn.cluster import KMeans\n",
    "import numpy as np\n",
    "\n",
    "embedder = SentenceTransformer('all-MiniLM-L6-v2')"
   ]
  },
  {
   "cell_type": "code",
   "execution_count": 29,
   "id": "acfd77dd",
   "metadata": {},
   "outputs": [],
   "source": [
    "corpus_embeddings = embedder.encode(mydata)\n",
    "\n",
    "# Normalize the embeddings to unit length\n",
    "corpus_embeddings = corpus_embeddings /  np.linalg.norm(corpus_embeddings, axis=1, keepdims=True)"
   ]
  },
  {
   "cell_type": "code",
   "execution_count": 30,
   "id": "cc549d72",
   "metadata": {},
   "outputs": [
    {
     "data": {
      "text/plain": [
       "array([-3.69422734e-02,  1.06706200e-02,  5.18840440e-02,  5.79751320e-02,\n",
       "        3.24575640e-02,  8.14985037e-02,  8.48023519e-02,  2.20909547e-02,\n",
       "       -1.37680862e-03, -5.05151339e-02,  2.92473938e-02, -8.97647738e-02,\n",
       "        2.00377386e-02, -1.64655782e-02, -1.71629097e-02, -5.69001660e-02,\n",
       "       -1.10098533e-02, -1.04673125e-01, -1.13345040e-02,  7.19406009e-02,\n",
       "        5.44253625e-02,  2.12044846e-02,  1.92961469e-02,  1.04958102e-01,\n",
       "        1.23602357e-02,  3.20754163e-02, -2.58421507e-02,  2.06408054e-02,\n",
       "       -1.27295256e-02,  3.15183438e-02,  5.25335371e-02,  1.54412359e-01,\n",
       "        7.46893659e-02,  2.33230572e-02,  2.93050800e-02,  4.11393791e-02,\n",
       "       -2.34964695e-02,  4.65873070e-02, -1.27802156e-02, -7.59035395e-03,\n",
       "       -8.27020332e-02, -5.14537320e-02,  3.97963822e-02,  1.41116425e-05,\n",
       "        1.15888203e-02, -3.10109966e-02, -4.23286064e-03,  3.33945490e-02,\n",
       "       -7.02615529e-02,  7.12804124e-02, -8.12964235e-03, -1.03674762e-01,\n",
       "       -7.83603340e-02, -5.69815077e-02, -1.29306978e-02,  1.08895592e-01,\n",
       "       -2.31153555e-02,  3.51264551e-02,  6.81371912e-02, -4.13216744e-03,\n",
       "        2.53838599e-02, -6.31120726e-02, -3.08687631e-02, -4.76204231e-03,\n",
       "       -2.79282462e-02, -2.80255079e-02, -2.28359811e-02,  2.78960727e-02,\n",
       "        2.61973944e-02, -1.02485092e-02,  2.02425290e-02, -3.54179610e-05,\n",
       "       -1.69331823e-02,  5.17335944e-02, -2.05413122e-02,  1.38037056e-01,\n",
       "       -3.01442780e-02, -2.39188261e-02, -5.60819767e-02, -1.56009980e-02,\n",
       "       -1.16531275e-01,  1.09728593e-02,  1.94543619e-02, -4.78711873e-02,\n",
       "        5.40067069e-02, -1.89545564e-02,  5.67555279e-02,  5.47217727e-02,\n",
       "       -4.28985758e-03, -7.03214332e-02,  1.06036656e-01, -8.79827365e-02,\n",
       "        6.44849539e-02, -3.88630200e-03, -4.77275439e-02,  2.69486196e-02,\n",
       "       -7.92717040e-02,  1.18088368e-02, -4.85282168e-02,  3.87564376e-02,\n",
       "        8.54654908e-02,  1.56468660e-01, -8.20239857e-02,  1.73435006e-02,\n",
       "        3.93612571e-02,  1.82069596e-02,  3.90140601e-02,  9.57348384e-03,\n",
       "        3.76501381e-02, -5.74070849e-02,  1.48410294e-02, -1.54542387e-03,\n",
       "        3.58995199e-02, -2.38061082e-02, -6.40572086e-02, -2.70823110e-02,\n",
       "        2.49296427e-02, -5.44893555e-03,  7.14476109e-02,  9.02755111e-02,\n",
       "       -2.54216157e-02,  2.69586523e-03, -6.05795421e-02, -2.74269022e-02,\n",
       "       -8.20672587e-02,  3.39077041e-02,  5.86745366e-02,  4.67194022e-33,\n",
       "       -2.04936564e-02,  2.28469502e-02, -2.72410102e-02,  4.23707329e-02,\n",
       "        4.65760976e-02, -4.10514846e-02, -3.75712477e-02, -2.25280579e-02,\n",
       "       -1.28594339e-02, -1.42581314e-02,  1.04978783e-02, -3.15136239e-02,\n",
       "       -7.56352162e-03, -2.76321862e-02, -8.83307680e-02,  6.31895568e-03,\n",
       "       -1.06687471e-01,  5.72908819e-02,  1.19517833e-01,  3.29589397e-02,\n",
       "       -5.47424098e-03,  3.83632432e-04,  7.73188993e-02, -9.75670591e-02,\n",
       "        6.72062337e-02,  1.37321232e-02,  2.54861009e-03,  3.59819457e-02,\n",
       "        1.01308182e-01, -1.36445975e-02,  4.12667394e-02,  2.66239028e-02,\n",
       "        5.77671044e-02,  7.46034235e-02,  3.37451845e-02,  1.00731276e-01,\n",
       "        3.21444795e-02, -6.64086640e-02, -7.14385603e-03, -4.49779890e-02,\n",
       "        3.43584344e-02, -1.19401952e-02, -1.08183824e-01, -1.00721397e-01,\n",
       "        2.49828445e-04, -1.08639099e-01,  5.20048570e-03, -1.00024231e-02,\n",
       "        8.00747275e-02,  7.12950751e-02, -5.60132861e-02,  2.56271381e-02,\n",
       "       -3.72054353e-02, -5.64189255e-02, -2.08271090e-02, -5.17926589e-02,\n",
       "        1.40348813e-02, -4.01841551e-02, -1.15921907e-02, -7.62264729e-02,\n",
       "        5.31763397e-02, -9.79407653e-02, -2.53164880e-02, -3.65210846e-02,\n",
       "       -4.12677526e-02, -3.90776061e-02, -3.17121446e-02,  5.63922850e-03,\n",
       "       -2.13040374e-02,  4.51354496e-02, -1.60636865e-02,  4.96351160e-02,\n",
       "        3.17045338e-02,  6.51213601e-02, -2.59406865e-02,  3.71601358e-02,\n",
       "        2.25247983e-02, -2.24917457e-02,  1.22087738e-02,  1.04655116e-03,\n",
       "        5.09575158e-02,  5.42895519e-04,  6.80357963e-02,  5.08024096e-02,\n",
       "       -5.03411517e-02,  4.88616191e-02,  7.94105828e-02, -5.82079962e-02,\n",
       "       -5.01524247e-02,  8.50643143e-02, -7.52526894e-02,  3.15207755e-03,\n",
       "       -1.35398926e-02,  5.36028706e-02,  5.90101890e-02, -4.91107544e-33,\n",
       "        2.34813616e-02,  1.64466761e-02, -1.74764208e-02, -1.46077443e-02,\n",
       "        7.32991621e-02, -3.46861109e-02, -4.92876098e-02,  9.08482894e-02,\n",
       "        2.02286839e-02, -3.30039710e-02,  1.15862386e-02,  7.89783988e-03,\n",
       "       -3.15736383e-02,  2.52764113e-02, -5.02613373e-03, -1.61118787e-02,\n",
       "        9.62378085e-02, -4.48719859e-02, -6.70228302e-02,  1.25292325e-02,\n",
       "       -3.90238576e-02,  4.20867130e-02, -5.49383536e-02,  5.71593060e-04,\n",
       "        2.39077080e-02,  4.37712297e-02, -2.48607844e-02, -3.19435447e-02,\n",
       "       -2.78235860e-02, -5.87143227e-02, -5.73306791e-02, -7.55486563e-02,\n",
       "        2.78098043e-02,  1.30965058e-02,  1.22760879e-02, -6.04095720e-02,\n",
       "        2.19784454e-02,  2.92623788e-02, -2.14885920e-03,  4.26076725e-02,\n",
       "        4.30229567e-02,  6.82965592e-02, -9.82528403e-02, -4.25458029e-02,\n",
       "       -2.84479577e-02, -2.28498131e-02,  4.85332832e-02, -1.62058715e-02,\n",
       "        7.72852227e-02,  1.26076024e-02, -2.07611341e-02, -8.99644867e-02,\n",
       "       -2.31309352e-03,  3.27010676e-02, -3.93941961e-02, -6.15182891e-03,\n",
       "       -7.84414634e-03, -1.87732745e-02, -6.90050377e-03, -1.16203763e-01,\n",
       "       -8.30438286e-02, -4.01931629e-03, -2.01963331e-03, -1.14350803e-01,\n",
       "        6.12392761e-02, -1.60589209e-03,  2.01756344e-03, -5.30068064e-03,\n",
       "        4.22790647e-03, -2.67564639e-04,  4.87303883e-02, -3.88515890e-02,\n",
       "       -1.02316253e-01, -5.10426462e-02,  8.01684801e-03, -3.69592309e-02,\n",
       "       -2.92032361e-02, -1.35309575e-02, -1.07135579e-01, -1.15470514e-01,\n",
       "        4.27626781e-02,  3.99790034e-02, -5.12958057e-02,  1.06653742e-01,\n",
       "       -1.88767910e-02, -3.64137106e-02, -7.89997820e-03,  2.71996800e-02,\n",
       "        1.21369306e-02, -1.66369677e-02, -5.67618236e-02,  3.85695300e-03,\n",
       "        9.99243185e-03,  9.38847288e-02, -1.98267922e-02, -2.30600250e-08,\n",
       "       -4.33266256e-03,  7.34701287e-03, -4.67680283e-02, -1.98802706e-02,\n",
       "        7.98211843e-02, -9.24712420e-02, -8.97426996e-03, -5.10998582e-03,\n",
       "        2.31531803e-02, -5.84351048e-02,  6.34895042e-02,  2.87562702e-03,\n",
       "       -4.80427034e-02, -7.83460885e-02,  2.08475422e-02, -1.22677237e-02,\n",
       "       -8.62972215e-02,  2.61583850e-02, -3.66952294e-03,  8.05890188e-03,\n",
       "        4.46825251e-02,  1.48218451e-02,  5.43991141e-02, -1.06200604e-02,\n",
       "       -4.86534238e-02,  6.81265304e-03,  3.28195803e-02,  1.63867190e-01,\n",
       "       -8.02768511e-04, -3.36505868e-03,  7.84695521e-03,  3.10643809e-04,\n",
       "        5.52422777e-02, -1.16243072e-01, -5.22209257e-02,  2.12255530e-02,\n",
       "        4.04141359e-02, -7.83984140e-02,  9.18628182e-03,  3.71358842e-02,\n",
       "        1.59417614e-02, -4.03231233e-02, -3.85486186e-02, -7.99543282e-04,\n",
       "        3.02160718e-03, -8.26241300e-02,  6.11293712e-04, -3.72118987e-02,\n",
       "       -2.28171013e-02, -2.01563146e-02, -7.04592094e-02,  8.09253007e-02,\n",
       "        5.06730229e-02,  5.25601581e-02,  2.48898380e-02, -6.71735033e-02,\n",
       "        7.54978061e-02, -5.45633072e-03, -7.79494690e-03, -1.56360138e-02,\n",
       "        6.77286237e-02,  7.36015216e-02, -4.40462260e-03, -7.80597795e-03],\n",
       "      dtype=float32)"
      ]
     },
     "execution_count": 30,
     "metadata": {},
     "output_type": "execute_result"
    }
   ],
   "source": [
    "corpus_embeddings[0]"
   ]
  },
  {
   "cell_type": "code",
   "execution_count": 31,
   "id": "0bd4eefc",
   "metadata": {},
   "outputs": [
    {
     "name": "stdout",
     "output_type": "stream",
     "text": [
      "<class 'numpy.ndarray'>\n"
     ]
    }
   ],
   "source": [
    "print(type(corpus_embeddings))"
   ]
  },
  {
   "cell_type": "code",
   "execution_count": 32,
   "id": "3d2c4ec6",
   "metadata": {},
   "outputs": [
    {
     "name": "stdout",
     "output_type": "stream",
     "text": [
      "[[-0.03694227  0.01067062  0.05188404 ...  0.07360152 -0.00440462\n",
      "  -0.00780598]\n",
      " [-0.08870614 -0.00427546 -0.05589168 ... -0.03171749 -0.07525445\n",
      "  -0.02460718]\n",
      " [-0.13707095 -0.01021916 -0.00063998 ... -0.00674703  0.03970706\n",
      "  -0.05515781]\n",
      " ...\n",
      " [-0.03753234  0.02133584  0.03630577 ... -0.06755352  0.01280132\n",
      "  -0.01826418]\n",
      " [-0.07758166  0.01476265  0.00243822 ... -0.03218005 -0.0628593\n",
      "   0.00470306]\n",
      " [-0.02226907  0.07610485  0.06376161 ... -0.00734625 -0.00193786\n",
      "   0.03080855]]\n"
     ]
    }
   ],
   "source": [
    "print(corpus_embeddings)"
   ]
  },
  {
   "cell_type": "code",
   "execution_count": 33,
   "id": "64af6b46",
   "metadata": {},
   "outputs": [
    {
     "name": "stderr",
     "output_type": "stream",
     "text": [
      "C:\\Users\\Satyam Dubey\\Desktop\\Random Test 02\\boyzz\\Lib\\site-packages\\sklearn\\cluster\\_kmeans.py:1412: FutureWarning: The default value of `n_init` will change from 10 to 'auto' in 1.4. Set the value of `n_init` explicitly to suppress the warning\n",
      "  super()._check_params_vs_input(X, default_n_init=10)\n"
     ]
    },
    {
     "name": "stdout",
     "output_type": "stream",
     "text": [
      "[1 2 1 0 3 0 0 2 2 0 2 1 2 3 0 4 0 4 4 4 4 4 4 1 3 1 3 3 1 2 1 1 1 1 1 3 1\n",
      " 3 2 2 3 2 3 2 0 0 0 2 3 1 2 2 2 1 3 3 0 3 0 0 0 0 0 0 0 0 0 0 0 0 0 0 0 0\n",
      " 0 0 4 0 4 4 0 4 4 4 2 1 2 2 1 2 1 0 2 1 1 2 1 1 0 3 2 1 1 2 0 0 0 2 2 1 2\n",
      " 1 2 0 3 2 1 2 2 2 2 1 2 2 1 2 2 1 2 3 2 3 3 3 3 0 0 0 0 0 0 0 0 3 3 3 3 3\n",
      " 3 0 3 3 3 3 3 3 3 3 3 3 3 3 3 3 3 3 3 3 3 3 3 3 3 3 3 3 3 3 3 4 4 4 4 4 4\n",
      " 4 4 4 4 4 4 0 1 1 0 1 2 1 1 0 0 1 1 1 3 2 1 0 0 2 2 2 1 0 1 1 2 3 2 1 1 2\n",
      " 2 2 2 3 3 2 1 2 2 2 1 1 3 3 3 3 3 3 3 3 3 3 3 3 3 3 3 3 2 3 3 3 3 3 2 2 3\n",
      " 3 3 3 3 2 3 3 3 3 2 3]\n"
     ]
    }
   ],
   "source": [
    "clustering_model = KMeans(n_clusters=5)\n",
    "clustering_model.fit(corpus_embeddings)\n",
    "cluster_assignment = clustering_model.labels_\n",
    "print(cluster_assignment)"
   ]
  },
  {
   "cell_type": "code",
   "execution_count": 34,
   "id": "4e3a13d6",
   "metadata": {},
   "outputs": [],
   "source": [
    "clustered_sentences = {}\n",
    "for sentence_id, cluster_id in enumerate(cluster_assignment):\n",
    "    if cluster_id not in clustered_sentences:\n",
    "        clustered_sentences[cluster_id] = []\n",
    "\n",
    "    clustered_sentences[cluster_id].append(mydata[sentence_id])\n",
    "    \n",
    "    \n",
    "# clustered_sentences                              <- uncomment to check how it forms object but it's  not very understandable"
   ]
  },
  {
   "cell_type": "code",
   "execution_count": 35,
   "id": "ce05e199",
   "metadata": {},
   "outputs": [],
   "source": [
    "# Create a list to hold sentences and their labels\n",
    "data_clustered = []\n",
    "\n",
    "# Iterate through each cluster and its corresponding sentences\n",
    "for cluster_id, sentences in clustered_sentences.items():\n",
    "    for sentence in sentences:\n",
    "        data_clustered.append({'Text': sentence, 'Label': cluster_id})\n",
    "\n",
    "# Convert the data list into a DataFrame\n",
    "final_cluster = pd.DataFrame(data_clustered)\n",
    "\n",
    "# Save the DataFrame to a CSV file\n",
    "final_cluster.to_csv('clustered_sentences.csv', index=False)"
   ]
  },
  {
   "cell_type": "markdown",
   "id": "2bb1ca0f",
   "metadata": {},
   "source": [
    "**Here I am trying to map the current cluster output to the actual dataframe**\n"
   ]
  },
  {
   "cell_type": "code",
   "execution_count": 36,
   "id": "c328e2f8",
   "metadata": {},
   "outputs": [
    {
     "data": {
      "text/html": [
       "<div>\n",
       "<style scoped>\n",
       "    .dataframe tbody tr th:only-of-type {\n",
       "        vertical-align: middle;\n",
       "    }\n",
       "\n",
       "    .dataframe tbody tr th {\n",
       "        vertical-align: top;\n",
       "    }\n",
       "\n",
       "    .dataframe thead th {\n",
       "        text-align: right;\n",
       "    }\n",
       "</style>\n",
       "<table border=\"1\" class=\"dataframe\">\n",
       "  <thead>\n",
       "    <tr style=\"text-align: right;\">\n",
       "      <th></th>\n",
       "      <th>text</th>\n",
       "      <th>Sentiment</th>\n",
       "      <th>Category</th>\n",
       "      <th>Location</th>\n",
       "      <th>clean_text</th>\n",
       "      <th>cluster</th>\n",
       "    </tr>\n",
       "  </thead>\n",
       "  <tbody>\n",
       "    <tr>\n",
       "      <th>0</th>\n",
       "      <td>The SMS reminders from CreditCardCo are so va...</td>\n",
       "      <td>Negative</td>\n",
       "      <td>Reminder System</td>\n",
       "      <td>Belfast</td>\n",
       "      <td>sms reminders creditcardco vague cryptic suppo...</td>\n",
       "      <td>1</td>\n",
       "    </tr>\n",
       "    <tr>\n",
       "      <th>1</th>\n",
       "      <td>The credit card rewards program from CreditCa...</td>\n",
       "      <td>Negative</td>\n",
       "      <td>Reward Programme</td>\n",
       "      <td>Belfast</td>\n",
       "      <td>credit card rewards program creditcardco convo...</td>\n",
       "      <td>2</td>\n",
       "    </tr>\n",
       "    <tr>\n",
       "      <th>2</th>\n",
       "      <td>Hey CreditCardCo, integrating payment reminde...</td>\n",
       "      <td>Neutral</td>\n",
       "      <td>Reminder System</td>\n",
       "      <td>Birmingham</td>\n",
       "      <td>hey creditcardco integrating payment reminder ...</td>\n",
       "      <td>1</td>\n",
       "    </tr>\n",
       "    <tr>\n",
       "      <th>3</th>\n",
       "      <td>Just discovered that CreditCardCo's so-called...</td>\n",
       "      <td>Negative</td>\n",
       "      <td>MisSelling</td>\n",
       "      <td>Birmingham</td>\n",
       "      <td>discovered creditcardco called exclusive offer...</td>\n",
       "      <td>0</td>\n",
       "    </tr>\n",
       "    <tr>\n",
       "      <th>4</th>\n",
       "      <td>The notification from CreditCardCo about chan...</td>\n",
       "      <td>Negative</td>\n",
       "      <td>Reminder System</td>\n",
       "      <td>Kingston upon Hull</td>\n",
       "      <td>notification creditcardco changes credit limit...</td>\n",
       "      <td>3</td>\n",
       "    </tr>\n",
       "    <tr>\n",
       "      <th>5</th>\n",
       "      <td>Feeling betrayed by CreditCardCo. They market...</td>\n",
       "      <td>Negative</td>\n",
       "      <td>MisSelling</td>\n",
       "      <td>Manchester</td>\n",
       "      <td>feeling betrayed creditcardco marketed product...</td>\n",
       "      <td>0</td>\n",
       "    </tr>\n",
       "    <tr>\n",
       "      <th>6</th>\n",
       "      <td>I trusted CreditCardCo to have products suita...</td>\n",
       "      <td>Negative</td>\n",
       "      <td>MisSelling</td>\n",
       "      <td>Manchester</td>\n",
       "      <td>trusted creditcardco products suitable retired...</td>\n",
       "      <td>0</td>\n",
       "    </tr>\n",
       "    <tr>\n",
       "      <th>7</th>\n",
       "      <td>I've been a loyal customer, but CreditCardCo'...</td>\n",
       "      <td>Negative</td>\n",
       "      <td>Reward Programme</td>\n",
       "      <td>Manchester</td>\n",
       "      <td>loyal customer creditcardco reward program fee...</td>\n",
       "      <td>2</td>\n",
       "    </tr>\n",
       "    <tr>\n",
       "      <th>8</th>\n",
       "      <td>CreditCardCo, your reward program needs a maj...</td>\n",
       "      <td>Negative</td>\n",
       "      <td>Reward Programme</td>\n",
       "      <td>Manchester</td>\n",
       "      <td>creditcardco reward program needs major overha...</td>\n",
       "      <td>2</td>\n",
       "    </tr>\n",
       "    <tr>\n",
       "      <th>9</th>\n",
       "      <td>Feeling betrayed by CreditCardCo. They market...</td>\n",
       "      <td>Negative</td>\n",
       "      <td>MisSelling</td>\n",
       "      <td>Manchester</td>\n",
       "      <td>feeling betrayed creditcardco marketed product...</td>\n",
       "      <td>0</td>\n",
       "    </tr>\n",
       "    <tr>\n",
       "      <th>10</th>\n",
       "      <td>Feeling frustrated with CreditCardCo's reward ...</td>\n",
       "      <td>Negative</td>\n",
       "      <td>Reward Programme</td>\n",
       "      <td>Manchester</td>\n",
       "      <td>feeling frustrated creditcardco reward program...</td>\n",
       "      <td>2</td>\n",
       "    </tr>\n",
       "    <tr>\n",
       "      <th>11</th>\n",
       "      <td>The due date reminders from CreditCardCo are e...</td>\n",
       "      <td>Negative</td>\n",
       "      <td>Reminder System</td>\n",
       "      <td>Manchester</td>\n",
       "      <td>due date reminders creditcardco easily overloo...</td>\n",
       "      <td>1</td>\n",
       "    </tr>\n",
       "    <tr>\n",
       "      <th>12</th>\n",
       "      <td>Choosing the right credit card requires carefu...</td>\n",
       "      <td>Neutral</td>\n",
       "      <td>Reward Programme</td>\n",
       "      <td>Manchester</td>\n",
       "      <td>choosing right credit card requires careful co...</td>\n",
       "      <td>2</td>\n",
       "    </tr>\n",
       "    <tr>\n",
       "      <th>13</th>\n",
       "      <td>Why does CreditCardCo always send impoant upda...</td>\n",
       "      <td>Negative</td>\n",
       "      <td>Reminder System</td>\n",
       "      <td>Manchester</td>\n",
       "      <td>creditcardco always send impoant updates weeke...</td>\n",
       "      <td>3</td>\n",
       "    </tr>\n",
       "    <tr>\n",
       "      <th>14</th>\n",
       "      <td>Feeling scammed by CreditCardCo. They convinc...</td>\n",
       "      <td>Negative</td>\n",
       "      <td>MisSelling</td>\n",
       "      <td>Nottingham</td>\n",
       "      <td>feeling scammed creditcardco convinced purchas...</td>\n",
       "      <td>0</td>\n",
       "    </tr>\n",
       "    <tr>\n",
       "      <th>15</th>\n",
       "      <td>2. We apologize for any inconvenience caused b...</td>\n",
       "      <td>Positive</td>\n",
       "      <td>Inappropriate pricing</td>\n",
       "      <td>Birmingham</td>\n",
       "      <td>apologize inconvenience caused pricing structu...</td>\n",
       "      <td>4</td>\n",
       "    </tr>\n",
       "    <tr>\n",
       "      <th>16</th>\n",
       "      <td>7. Why does CreditCardCo have such high defaul...</td>\n",
       "      <td>Negative</td>\n",
       "      <td>Inappropriate pricing</td>\n",
       "      <td>Birmingham</td>\n",
       "      <td>creditcardco high default interest rates like ...</td>\n",
       "      <td>0</td>\n",
       "    </tr>\n",
       "    <tr>\n",
       "      <th>17</th>\n",
       "      <td>3. Thank you for bringing the issue of altered...</td>\n",
       "      <td>Positive</td>\n",
       "      <td>Inappropriate pricing</td>\n",
       "      <td>Edinburgh</td>\n",
       "      <td>thank bringing issue altered product pricing a...</td>\n",
       "      <td>4</td>\n",
       "    </tr>\n",
       "    <tr>\n",
       "      <th>18</th>\n",
       "      <td>7. We apologize for any inconvenience caused b...</td>\n",
       "      <td>Positive</td>\n",
       "      <td>Inappropriate pricing</td>\n",
       "      <td>Southampton</td>\n",
       "      <td>apologize inconvenience caused pricing structu...</td>\n",
       "      <td>4</td>\n",
       "    </tr>\n",
       "    <tr>\n",
       "      <th>19</th>\n",
       "      <td>3. Thank you for bringing the issue of product...</td>\n",
       "      <td>Positive</td>\n",
       "      <td>Inappropriate pricing</td>\n",
       "      <td>Birmingham</td>\n",
       "      <td>thank bringing issue product pricing attention...</td>\n",
       "      <td>4</td>\n",
       "    </tr>\n",
       "  </tbody>\n",
       "</table>\n",
       "</div>"
      ],
      "text/plain": [
       "                                                 text Sentiment  \\\n",
       "0    The SMS reminders from CreditCardCo are so va...  Negative   \n",
       "1    The credit card rewards program from CreditCa...  Negative   \n",
       "2    Hey CreditCardCo, integrating payment reminde...   Neutral   \n",
       "3    Just discovered that CreditCardCo's so-called...  Negative   \n",
       "4    The notification from CreditCardCo about chan...  Negative   \n",
       "5    Feeling betrayed by CreditCardCo. They market...  Negative   \n",
       "6    I trusted CreditCardCo to have products suita...  Negative   \n",
       "7    I've been a loyal customer, but CreditCardCo'...  Negative   \n",
       "8    CreditCardCo, your reward program needs a maj...  Negative   \n",
       "9    Feeling betrayed by CreditCardCo. They market...  Negative   \n",
       "10  Feeling frustrated with CreditCardCo's reward ...  Negative   \n",
       "11  The due date reminders from CreditCardCo are e...  Negative   \n",
       "12  Choosing the right credit card requires carefu...   Neutral   \n",
       "13  Why does CreditCardCo always send impoant upda...  Negative   \n",
       "14   Feeling scammed by CreditCardCo. They convinc...  Negative   \n",
       "15  2. We apologize for any inconvenience caused b...  Positive   \n",
       "16  7. Why does CreditCardCo have such high defaul...  Negative   \n",
       "17  3. Thank you for bringing the issue of altered...  Positive   \n",
       "18  7. We apologize for any inconvenience caused b...  Positive   \n",
       "19  3. Thank you for bringing the issue of product...  Positive   \n",
       "\n",
       "                 Category            Location  \\\n",
       "0         Reminder System             Belfast   \n",
       "1        Reward Programme             Belfast   \n",
       "2         Reminder System          Birmingham   \n",
       "3              MisSelling          Birmingham   \n",
       "4         Reminder System  Kingston upon Hull   \n",
       "5              MisSelling          Manchester   \n",
       "6              MisSelling          Manchester   \n",
       "7        Reward Programme          Manchester   \n",
       "8        Reward Programme          Manchester   \n",
       "9              MisSelling          Manchester   \n",
       "10       Reward Programme          Manchester   \n",
       "11        Reminder System          Manchester   \n",
       "12       Reward Programme          Manchester   \n",
       "13        Reminder System          Manchester   \n",
       "14             MisSelling          Nottingham   \n",
       "15  Inappropriate pricing          Birmingham   \n",
       "16  Inappropriate pricing          Birmingham   \n",
       "17  Inappropriate pricing           Edinburgh   \n",
       "18  Inappropriate pricing         Southampton   \n",
       "19  Inappropriate pricing          Birmingham   \n",
       "\n",
       "                                           clean_text  cluster  \n",
       "0   sms reminders creditcardco vague cryptic suppo...        1  \n",
       "1   credit card rewards program creditcardco convo...        2  \n",
       "2   hey creditcardco integrating payment reminder ...        1  \n",
       "3   discovered creditcardco called exclusive offer...        0  \n",
       "4   notification creditcardco changes credit limit...        3  \n",
       "5   feeling betrayed creditcardco marketed product...        0  \n",
       "6   trusted creditcardco products suitable retired...        0  \n",
       "7   loyal customer creditcardco reward program fee...        2  \n",
       "8   creditcardco reward program needs major overha...        2  \n",
       "9   feeling betrayed creditcardco marketed product...        0  \n",
       "10  feeling frustrated creditcardco reward program...        2  \n",
       "11  due date reminders creditcardco easily overloo...        1  \n",
       "12  choosing right credit card requires careful co...        2  \n",
       "13  creditcardco always send impoant updates weeke...        3  \n",
       "14  feeling scammed creditcardco convinced purchas...        0  \n",
       "15  apologize inconvenience caused pricing structu...        4  \n",
       "16  creditcardco high default interest rates like ...        0  \n",
       "17  thank bringing issue altered product pricing a...        4  \n",
       "18  apologize inconvenience caused pricing structu...        4  \n",
       "19  thank bringing issue product pricing attention...        4  "
      ]
     },
     "execution_count": 36,
     "metadata": {},
     "output_type": "execute_result"
    }
   ],
   "source": [
    "# Convert the array to a DataFrame\n",
    "# df_res = pd.DataFrame(cluster_assignment, columns=['Values'])\n",
    "\n",
    "newdf['cluster'] = cluster_assignment\n",
    "\n",
    "# Display the DataFrame\n",
    "newdf.head(20)\n"
   ]
  },
  {
   "cell_type": "code",
   "execution_count": 37,
   "id": "537fc356",
   "metadata": {},
   "outputs": [
    {
     "name": "stdout",
     "output_type": "stream",
     "text": [
      "<class 'pandas.core.frame.DataFrame'>\n",
      "RangeIndex: 270 entries, 0 to 269\n",
      "Data columns (total 6 columns):\n",
      " #   Column      Non-Null Count  Dtype \n",
      "---  ------      --------------  ----- \n",
      " 0   text        270 non-null    object\n",
      " 1   Sentiment   270 non-null    object\n",
      " 2   Category    270 non-null    object\n",
      " 3   Location    208 non-null    object\n",
      " 4   clean_text  270 non-null    object\n",
      " 5   cluster     270 non-null    int32 \n",
      "dtypes: int32(1), object(5)\n",
      "memory usage: 11.7+ KB\n"
     ]
    }
   ],
   "source": [
    "newdf.info()"
   ]
  },
  {
   "cell_type": "code",
   "execution_count": 38,
   "id": "3e87d044",
   "metadata": {},
   "outputs": [],
   "source": [
    "direction_mapping = {1: 'reminder system', 2: 'reward programme', 4: 'product pricing', 3:'customer service', 0:'misselling'}"
   ]
  },
  {
   "cell_type": "code",
   "execution_count": 39,
   "id": "f251971b",
   "metadata": {},
   "outputs": [],
   "source": [
    "# df_res['Values'].replace(direction_mapping, inplace=True)\n",
    "newdf['final_output'] = newdf['cluster'].map(direction_mapping)"
   ]
  },
  {
   "cell_type": "code",
   "execution_count": 40,
   "id": "92c1eb7b",
   "metadata": {},
   "outputs": [
    {
     "data": {
      "text/html": [
       "<div>\n",
       "<style scoped>\n",
       "    .dataframe tbody tr th:only-of-type {\n",
       "        vertical-align: middle;\n",
       "    }\n",
       "\n",
       "    .dataframe tbody tr th {\n",
       "        vertical-align: top;\n",
       "    }\n",
       "\n",
       "    .dataframe thead th {\n",
       "        text-align: right;\n",
       "    }\n",
       "</style>\n",
       "<table border=\"1\" class=\"dataframe\">\n",
       "  <thead>\n",
       "    <tr style=\"text-align: right;\">\n",
       "      <th></th>\n",
       "      <th>text</th>\n",
       "      <th>Sentiment</th>\n",
       "      <th>Category</th>\n",
       "      <th>Location</th>\n",
       "      <th>clean_text</th>\n",
       "      <th>cluster</th>\n",
       "      <th>final_output</th>\n",
       "    </tr>\n",
       "  </thead>\n",
       "  <tbody>\n",
       "    <tr>\n",
       "      <th>0</th>\n",
       "      <td>The SMS reminders from CreditCardCo are so va...</td>\n",
       "      <td>Negative</td>\n",
       "      <td>Reminder System</td>\n",
       "      <td>Belfast</td>\n",
       "      <td>sms reminders creditcardco vague cryptic suppo...</td>\n",
       "      <td>1</td>\n",
       "      <td>reminder system</td>\n",
       "    </tr>\n",
       "    <tr>\n",
       "      <th>1</th>\n",
       "      <td>The credit card rewards program from CreditCa...</td>\n",
       "      <td>Negative</td>\n",
       "      <td>Reward Programme</td>\n",
       "      <td>Belfast</td>\n",
       "      <td>credit card rewards program creditcardco convo...</td>\n",
       "      <td>2</td>\n",
       "      <td>reward programme</td>\n",
       "    </tr>\n",
       "    <tr>\n",
       "      <th>2</th>\n",
       "      <td>Hey CreditCardCo, integrating payment reminde...</td>\n",
       "      <td>Neutral</td>\n",
       "      <td>Reminder System</td>\n",
       "      <td>Birmingham</td>\n",
       "      <td>hey creditcardco integrating payment reminder ...</td>\n",
       "      <td>1</td>\n",
       "      <td>reminder system</td>\n",
       "    </tr>\n",
       "    <tr>\n",
       "      <th>3</th>\n",
       "      <td>Just discovered that CreditCardCo's so-called...</td>\n",
       "      <td>Negative</td>\n",
       "      <td>MisSelling</td>\n",
       "      <td>Birmingham</td>\n",
       "      <td>discovered creditcardco called exclusive offer...</td>\n",
       "      <td>0</td>\n",
       "      <td>misselling</td>\n",
       "    </tr>\n",
       "    <tr>\n",
       "      <th>4</th>\n",
       "      <td>The notification from CreditCardCo about chan...</td>\n",
       "      <td>Negative</td>\n",
       "      <td>Reminder System</td>\n",
       "      <td>Kingston upon Hull</td>\n",
       "      <td>notification creditcardco changes credit limit...</td>\n",
       "      <td>3</td>\n",
       "      <td>customer service</td>\n",
       "    </tr>\n",
       "    <tr>\n",
       "      <th>5</th>\n",
       "      <td>Feeling betrayed by CreditCardCo. They market...</td>\n",
       "      <td>Negative</td>\n",
       "      <td>MisSelling</td>\n",
       "      <td>Manchester</td>\n",
       "      <td>feeling betrayed creditcardco marketed product...</td>\n",
       "      <td>0</td>\n",
       "      <td>misselling</td>\n",
       "    </tr>\n",
       "    <tr>\n",
       "      <th>6</th>\n",
       "      <td>I trusted CreditCardCo to have products suita...</td>\n",
       "      <td>Negative</td>\n",
       "      <td>MisSelling</td>\n",
       "      <td>Manchester</td>\n",
       "      <td>trusted creditcardco products suitable retired...</td>\n",
       "      <td>0</td>\n",
       "      <td>misselling</td>\n",
       "    </tr>\n",
       "    <tr>\n",
       "      <th>7</th>\n",
       "      <td>I've been a loyal customer, but CreditCardCo'...</td>\n",
       "      <td>Negative</td>\n",
       "      <td>Reward Programme</td>\n",
       "      <td>Manchester</td>\n",
       "      <td>loyal customer creditcardco reward program fee...</td>\n",
       "      <td>2</td>\n",
       "      <td>reward programme</td>\n",
       "    </tr>\n",
       "    <tr>\n",
       "      <th>8</th>\n",
       "      <td>CreditCardCo, your reward program needs a maj...</td>\n",
       "      <td>Negative</td>\n",
       "      <td>Reward Programme</td>\n",
       "      <td>Manchester</td>\n",
       "      <td>creditcardco reward program needs major overha...</td>\n",
       "      <td>2</td>\n",
       "      <td>reward programme</td>\n",
       "    </tr>\n",
       "    <tr>\n",
       "      <th>9</th>\n",
       "      <td>Feeling betrayed by CreditCardCo. They market...</td>\n",
       "      <td>Negative</td>\n",
       "      <td>MisSelling</td>\n",
       "      <td>Manchester</td>\n",
       "      <td>feeling betrayed creditcardco marketed product...</td>\n",
       "      <td>0</td>\n",
       "      <td>misselling</td>\n",
       "    </tr>\n",
       "  </tbody>\n",
       "</table>\n",
       "</div>"
      ],
      "text/plain": [
       "                                                text Sentiment  \\\n",
       "0   The SMS reminders from CreditCardCo are so va...  Negative   \n",
       "1   The credit card rewards program from CreditCa...  Negative   \n",
       "2   Hey CreditCardCo, integrating payment reminde...   Neutral   \n",
       "3   Just discovered that CreditCardCo's so-called...  Negative   \n",
       "4   The notification from CreditCardCo about chan...  Negative   \n",
       "5   Feeling betrayed by CreditCardCo. They market...  Negative   \n",
       "6   I trusted CreditCardCo to have products suita...  Negative   \n",
       "7   I've been a loyal customer, but CreditCardCo'...  Negative   \n",
       "8   CreditCardCo, your reward program needs a maj...  Negative   \n",
       "9   Feeling betrayed by CreditCardCo. They market...  Negative   \n",
       "\n",
       "           Category            Location  \\\n",
       "0   Reminder System             Belfast   \n",
       "1  Reward Programme             Belfast   \n",
       "2   Reminder System          Birmingham   \n",
       "3        MisSelling          Birmingham   \n",
       "4   Reminder System  Kingston upon Hull   \n",
       "5        MisSelling          Manchester   \n",
       "6        MisSelling          Manchester   \n",
       "7  Reward Programme          Manchester   \n",
       "8  Reward Programme          Manchester   \n",
       "9        MisSelling          Manchester   \n",
       "\n",
       "                                          clean_text  cluster  \\\n",
       "0  sms reminders creditcardco vague cryptic suppo...        1   \n",
       "1  credit card rewards program creditcardco convo...        2   \n",
       "2  hey creditcardco integrating payment reminder ...        1   \n",
       "3  discovered creditcardco called exclusive offer...        0   \n",
       "4  notification creditcardco changes credit limit...        3   \n",
       "5  feeling betrayed creditcardco marketed product...        0   \n",
       "6  trusted creditcardco products suitable retired...        0   \n",
       "7  loyal customer creditcardco reward program fee...        2   \n",
       "8  creditcardco reward program needs major overha...        2   \n",
       "9  feeling betrayed creditcardco marketed product...        0   \n",
       "\n",
       "       final_output  \n",
       "0   reminder system  \n",
       "1  reward programme  \n",
       "2   reminder system  \n",
       "3        misselling  \n",
       "4  customer service  \n",
       "5        misselling  \n",
       "6        misselling  \n",
       "7  reward programme  \n",
       "8  reward programme  \n",
       "9        misselling  "
      ]
     },
     "execution_count": 40,
     "metadata": {},
     "output_type": "execute_result"
    }
   ],
   "source": [
    "newdf.head(10)"
   ]
  },
  {
   "cell_type": "code",
   "execution_count": 41,
   "id": "260aa96a",
   "metadata": {},
   "outputs": [],
   "source": [
    "replacement_mapping = {'Reminder System': 'reminder system', 'Reward Programme': 'reward programme', 'Inappropriate pricing': 'product pricing', 'Ineffectual Customer Service':'customer service', 'MisSelling':'misselling'}"
   ]
  },
  {
   "cell_type": "code",
   "execution_count": 42,
   "id": "bd6ffa67",
   "metadata": {},
   "outputs": [],
   "source": [
    "newdf['Category'].replace(replacement_mapping, inplace=True)"
   ]
  },
  {
   "cell_type": "code",
   "execution_count": 43,
   "id": "753a83f2",
   "metadata": {},
   "outputs": [
    {
     "data": {
      "text/html": [
       "<div>\n",
       "<style scoped>\n",
       "    .dataframe tbody tr th:only-of-type {\n",
       "        vertical-align: middle;\n",
       "    }\n",
       "\n",
       "    .dataframe tbody tr th {\n",
       "        vertical-align: top;\n",
       "    }\n",
       "\n",
       "    .dataframe thead th {\n",
       "        text-align: right;\n",
       "    }\n",
       "</style>\n",
       "<table border=\"1\" class=\"dataframe\">\n",
       "  <thead>\n",
       "    <tr style=\"text-align: right;\">\n",
       "      <th></th>\n",
       "      <th>text</th>\n",
       "      <th>Sentiment</th>\n",
       "      <th>Category</th>\n",
       "      <th>Location</th>\n",
       "      <th>clean_text</th>\n",
       "      <th>cluster</th>\n",
       "      <th>final_output</th>\n",
       "    </tr>\n",
       "  </thead>\n",
       "  <tbody>\n",
       "    <tr>\n",
       "      <th>0</th>\n",
       "      <td>The SMS reminders from CreditCardCo are so va...</td>\n",
       "      <td>Negative</td>\n",
       "      <td>reminder system</td>\n",
       "      <td>Belfast</td>\n",
       "      <td>sms reminders creditcardco vague cryptic suppo...</td>\n",
       "      <td>1</td>\n",
       "      <td>reminder system</td>\n",
       "    </tr>\n",
       "    <tr>\n",
       "      <th>1</th>\n",
       "      <td>The credit card rewards program from CreditCa...</td>\n",
       "      <td>Negative</td>\n",
       "      <td>reward programme</td>\n",
       "      <td>Belfast</td>\n",
       "      <td>credit card rewards program creditcardco convo...</td>\n",
       "      <td>2</td>\n",
       "      <td>reward programme</td>\n",
       "    </tr>\n",
       "    <tr>\n",
       "      <th>2</th>\n",
       "      <td>Hey CreditCardCo, integrating payment reminde...</td>\n",
       "      <td>Neutral</td>\n",
       "      <td>reminder system</td>\n",
       "      <td>Birmingham</td>\n",
       "      <td>hey creditcardco integrating payment reminder ...</td>\n",
       "      <td>1</td>\n",
       "      <td>reminder system</td>\n",
       "    </tr>\n",
       "    <tr>\n",
       "      <th>3</th>\n",
       "      <td>Just discovered that CreditCardCo's so-called...</td>\n",
       "      <td>Negative</td>\n",
       "      <td>misselling</td>\n",
       "      <td>Birmingham</td>\n",
       "      <td>discovered creditcardco called exclusive offer...</td>\n",
       "      <td>0</td>\n",
       "      <td>misselling</td>\n",
       "    </tr>\n",
       "    <tr>\n",
       "      <th>4</th>\n",
       "      <td>The notification from CreditCardCo about chan...</td>\n",
       "      <td>Negative</td>\n",
       "      <td>reminder system</td>\n",
       "      <td>Kingston upon Hull</td>\n",
       "      <td>notification creditcardco changes credit limit...</td>\n",
       "      <td>3</td>\n",
       "      <td>customer service</td>\n",
       "    </tr>\n",
       "    <tr>\n",
       "      <th>5</th>\n",
       "      <td>Feeling betrayed by CreditCardCo. They market...</td>\n",
       "      <td>Negative</td>\n",
       "      <td>misselling</td>\n",
       "      <td>Manchester</td>\n",
       "      <td>feeling betrayed creditcardco marketed product...</td>\n",
       "      <td>0</td>\n",
       "      <td>misselling</td>\n",
       "    </tr>\n",
       "  </tbody>\n",
       "</table>\n",
       "</div>"
      ],
      "text/plain": [
       "                                                text Sentiment  \\\n",
       "0   The SMS reminders from CreditCardCo are so va...  Negative   \n",
       "1   The credit card rewards program from CreditCa...  Negative   \n",
       "2   Hey CreditCardCo, integrating payment reminde...   Neutral   \n",
       "3   Just discovered that CreditCardCo's so-called...  Negative   \n",
       "4   The notification from CreditCardCo about chan...  Negative   \n",
       "5   Feeling betrayed by CreditCardCo. They market...  Negative   \n",
       "\n",
       "           Category            Location  \\\n",
       "0   reminder system             Belfast   \n",
       "1  reward programme             Belfast   \n",
       "2   reminder system          Birmingham   \n",
       "3        misselling          Birmingham   \n",
       "4   reminder system  Kingston upon Hull   \n",
       "5        misselling          Manchester   \n",
       "\n",
       "                                          clean_text  cluster  \\\n",
       "0  sms reminders creditcardco vague cryptic suppo...        1   \n",
       "1  credit card rewards program creditcardco convo...        2   \n",
       "2  hey creditcardco integrating payment reminder ...        1   \n",
       "3  discovered creditcardco called exclusive offer...        0   \n",
       "4  notification creditcardco changes credit limit...        3   \n",
       "5  feeling betrayed creditcardco marketed product...        0   \n",
       "\n",
       "       final_output  \n",
       "0   reminder system  \n",
       "1  reward programme  \n",
       "2   reminder system  \n",
       "3        misselling  \n",
       "4  customer service  \n",
       "5        misselling  "
      ]
     },
     "execution_count": 43,
     "metadata": {},
     "output_type": "execute_result"
    }
   ],
   "source": [
    "newdf.head(6)"
   ]
  },
  {
   "cell_type": "code",
   "execution_count": 44,
   "id": "249a017c",
   "metadata": {},
   "outputs": [],
   "source": [
    "file_name = 'Output/clustering_results.xlsx'\n",
    "newdf.to_excel(file_name, index=False)"
   ]
  },
  {
   "cell_type": "code",
   "execution_count": 45,
   "id": "fc295f2d",
   "metadata": {},
   "outputs": [],
   "source": [
    "rows = newdf.shape[0]"
   ]
  },
  {
   "cell_type": "code",
   "execution_count": 46,
   "id": "2a8776fc",
   "metadata": {},
   "outputs": [
    {
     "name": "stdout",
     "output_type": "stream",
     "text": [
      "270\n",
      "<class 'int'>\n"
     ]
    }
   ],
   "source": [
    "print(rows)\n",
    "print(type(rows))"
   ]
  },
  {
   "cell_type": "code",
   "execution_count": 47,
   "id": "7dbcc774",
   "metadata": {},
   "outputs": [],
   "source": [
    "match = 0\n",
    "for i in range (rows):\n",
    "    if newdf['Category'][i] == newdf['final_output'][i]:\n",
    "        match+=1\n",
    "mismatch=rows-match"
   ]
  },
  {
   "cell_type": "code",
   "execution_count": 48,
   "id": "105dbb88",
   "metadata": {},
   "outputs": [
    {
     "name": "stdout",
     "output_type": "stream",
     "text": [
      "209\n",
      "61\n"
     ]
    }
   ],
   "source": [
    "print(match)\n",
    "print(mismatch)"
   ]
  },
  {
   "cell_type": "code",
   "execution_count": 49,
   "id": "84932135",
   "metadata": {},
   "outputs": [
    {
     "data": {
      "image/png": "[encoded data removed]",
      "text/plain": [
       "<Figure size 1000x700 with 1 Axes>"
      ]
     },
     "metadata": {
      "image/png": {
       "height": 559,
       "width": 559
      }
     },
     "output_type": "display_data"
    }
   ],
   "source": [
    "\n",
    "# Import libraries\n",
    "from matplotlib import pyplot as plt\n",
    "import numpy as np\n",
    " \n",
    " \n",
    "# Creating dataset\n",
    "prediction_class = ['TRUE', 'FALSE']\n",
    " \n",
    "data = [match,mismatch]\n",
    " \n",
    "# Creating plot\n",
    "fig = plt.figure(figsize =(10, 7))\n",
    "plt.pie(data, labels = prediction_class)\n",
    " \n",
    "# show plot\n",
    "plt.show()"
   ]
  },
  {
   "cell_type": "code",
   "execution_count": 50,
   "id": "e2ba2bb5",
   "metadata": {},
   "outputs": [
    {
     "name": "stdout",
     "output_type": "stream",
     "text": [
      "77.4074074074074\n"
     ]
    }
   ],
   "source": [
    "accuracy = (match*100)/rows\n",
    "print(accuracy)"
   ]
  },
  {
   "cell_type": "markdown",
   "id": "464f5900",
   "metadata": {},
   "source": [
    "# Accuracy = 78.14814814814815               ( since it's clustering output keeps changing last time I got this value ☺️"
   ]
  },
  {
   "cell_type": "code",
   "execution_count": null,
   "id": "37b4db34",
   "metadata": {},
   "outputs": [],
   "source": []
  },
  {
   "cell_type": "markdown",
   "id": "41f78507",
   "metadata": {},
   "source": [
    "# Note: My accuracy could have gone even high but since some of the labels in you own data were misclassified so my accuracy or else it was easily 85%+"
   ]
  }
 ],
 "metadata": {
  "kernelspec": {
   "display_name": "boyzz",
   "language": "python",
   "name": "boyzz"
  },
  "language_info": {
   "codemirror_mode": {
    "name": "ipython",
    "version": 3
   },
   "file_extension": ".py",
   "mimetype": "text/x-python",
   "name": "python",
   "nbconvert_exporter": "python",
   "pygments_lexer": "ipython3",
   "version": "3.11.4"
  }
 },
 "nbformat": 4,
 "nbformat_minor": 5
}
