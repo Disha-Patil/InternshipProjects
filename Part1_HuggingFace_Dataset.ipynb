{
  "cells": [
    {
      "cell_type": "markdown",
      "metadata": {
        "id": "6GkxfuQ8ob0R"
      },
      "source": [
        "#About the Data\n",
        "\n",
        "* The data was taken from \n",
        "https://m.rbi.org.in//scripts/PublicationReportDetails.aspx?ID=242\n",
        "\n",
        "* Each rule is considered as a record under the the headings:<br>\n",
        "\n",
        "  1. Enhancing Bank Transparency\n",
        "  2. Best Practices for Credit Risk Disclosure\n",
        "  3. Supervision of Financial Conglomerates \n",
        "  4. Risk Concentrations Principles\n",
        "  5. Intra-Group Transactions and Exposures Principles\n",
        "  6. Principles for the Supervision of Banks’ Foreign Establishments (The Basel Concordat)\n",
        "  7. Information Flows Between Banking Supervisory Authorities\n",
        "  8. Minimum Standards for the Supervision of \n",
        "International Banking Groups and their Cross-Border Establishments\n",
        "  9. The Supervision of Cross-Border Banking \n",
        "  \n",
        "* Rules are seperated by their rule number.\n"
      ]
    },
    {
      "cell_type": "markdown",
      "source": [
        "# Text Preprocessing\n",
        "\n",
        "* The line break ‘\\n’ is removed from the text, if there exist any.\n",
        "\n",
        "* Round and square parantheses are removed, if there exist any.\n",
        "\n",
        "* Text contatined within round paranthesis are removed, if there exist any.\n",
        "\n",
        "* Text contatined within square paranthesis are removed, if \n",
        "there exist any.\n",
        "\n",
        "* The stop words are removed manully if they are not the beginning and end word in a sentence. The stop words are \n",
        "'a','are','shall','those','the','which','has','been','of','by','to','at','is','an','in','for','be','it' and 'such'.\n",
        "\n",
        "* No summarization was done."
      ],
      "metadata": {
        "id": "J4warHrgNKP1"
      }
    },
    {
      "cell_type": "markdown",
      "metadata": {
        "id": "HltVocsVxIVZ"
      },
      "source": [
        "## Next Steps\n",
        "\n",
        "* Fine-tuning DistilBERT model for text classification\n",
        "\n",
        "\n",
        "\n"
      ]
    },
    {
      "cell_type": "markdown",
      "metadata": {
        "id": "M8MJt_UDu36B"
      },
      "source": [
        "##Google Drive access"
      ]
    },
    {
      "cell_type": "code",
      "execution_count": null,
      "metadata": {
        "colab": {
          "base_uri": "https://localhost:8080/"
        },
        "id": "YpebIE41u3Mh",
        "outputId": "118afe37-3aef-4a60-a0fd-4c27473d5706"
      },
      "outputs": [
        {
          "output_type": "stream",
          "name": "stdout",
          "text": [
            "Mounted at /content/drive\n"
          ]
        }
      ],
      "source": [
        "from google.colab import drive\n",
        "drive.mount('/content/drive')"
      ]
    },
    {
      "cell_type": "code",
      "execution_count": null,
      "metadata": {
        "id": "f3hBz6OXw3gQ"
      },
      "outputs": [],
      "source": [
        "# Write the appropriate paths to retrieve the data and store results \n",
        "data_path  = '/content/drive/MyDrive/Full_Code/RBI/Dataset/RBI_Regulations.csv'\n",
        "saved_path = '/content/drive/MyDrive/Full_Code/RBI/Stopwords_Removed/'"
      ]
    },
    {
      "cell_type": "markdown",
      "metadata": {
        "id": "hhdVBYIGW2mH"
      },
      "source": [
        "## Set-up environment\n",
        "\n",
        "Install the libraries folium version 0.2.1 and HuggingFace Datasets"
      ]
    },
    {
      "cell_type": "code",
      "execution_count": null,
      "metadata": {
        "id": "bs0-RE3D76PZ",
        "colab": {
          "base_uri": "https://localhost:8080/"
        },
        "outputId": "09b0855e-bba7-4d7a-a936-68754daf88af"
      },
      "outputs": [
        {
          "output_type": "stream",
          "name": "stdout",
          "text": [
            "\u001b[K     |████████████████████████████████| 69 kB 3.4 MB/s \n",
            "\u001b[K     |████████████████████████████████| 346 kB 11.0 MB/s \n",
            "\u001b[K     |████████████████████████████████| 212 kB 58.2 MB/s \n",
            "\u001b[K     |████████████████████████████████| 1.1 MB 44.1 MB/s \n",
            "\u001b[K     |████████████████████████████████| 84 kB 2.8 MB/s \n",
            "\u001b[K     |████████████████████████████████| 140 kB 58.9 MB/s \n",
            "\u001b[K     |████████████████████████████████| 127 kB 52.5 MB/s \n",
            "\u001b[K     |████████████████████████████████| 144 kB 44.5 MB/s \n",
            "\u001b[K     |████████████████████████████████| 94 kB 3.0 MB/s \n",
            "\u001b[K     |████████████████████████████████| 271 kB 48.3 MB/s \n",
            "\u001b[?25h  Building wheel for folium (setup.py) ... \u001b[?25l\u001b[?25hdone\n"
          ]
        }
      ],
      "source": [
        "#Install the package folium version 0.2.1 and HuggingFace datasets library\n",
        "!pip install -q folium==0.2.1 datasets "
      ]
    },
    {
      "cell_type": "code",
      "execution_count": null,
      "metadata": {
        "colab": {
          "base_uri": "https://localhost:8080/"
        },
        "id": "bUvk9uQCAspf",
        "outputId": "f02a880f-823d-4c46-f58c-effaeb851ac5"
      },
      "outputs": [
        {
          "output_type": "stream",
          "name": "stdout",
          "text": [
            "cpu is available\n"
          ]
        }
      ],
      "source": [
        "import torch\n",
        "#Check if GPU is available\n",
        "device = \"cuda:0\" if torch.cuda.is_available() else \"cpu\"\n",
        "print(device, \"is available\")"
      ]
    },
    {
      "cell_type": "markdown",
      "source": [
        "##Memory Allocated"
      ],
      "metadata": {
        "id": "rXXUT_pKzvEy"
      }
    },
    {
      "cell_type": "code",
      "source": [
        "!free -h --si | awk  '/Mem:/{print $2}'"
      ],
      "metadata": {
        "colab": {
          "base_uri": "https://localhost:8080/"
        },
        "id": "WTu9Y9K2QYVX",
        "outputId": "c4a3ccd6-c944-4439-c0ea-b46d1ccd7d1e"
      },
      "execution_count": null,
      "outputs": [
        {
          "output_type": "stream",
          "name": "stdout",
          "text": [
            "13G\n"
          ]
        }
      ]
    },
    {
      "cell_type": "markdown",
      "metadata": {
        "id": "dwnUTHc_WWf9"
      },
      "source": [
        "# Loading the dataset"
      ]
    },
    {
      "cell_type": "code",
      "execution_count": null,
      "metadata": {
        "colab": {
          "base_uri": "https://localhost:8080/",
          "height": 354
        },
        "id": "hSr1m-4emA8l",
        "outputId": "f820f9ae-4a9f-4ddf-b7a6-e776f683f16c"
      },
      "outputs": [
        {
          "output_type": "execute_result",
          "data": {
            "text/plain": [
              "  Principle number                                          Principle  \\\n",
              "0              1.1  The Basel Committee recommends that banks, in ...   \n",
              "1              1.2  The scope and content of information provided ...   \n",
              "2              1.3  In countries with less developed financial mar...   \n",
              "3            2.1.1  Information about the performance of a bank, i...   \n",
              "4            2.1.2  To assess the financial performance of a bank,...   \n",
              "\n",
              "                                     Indian Position  \\\n",
              "0  Banks’ financial reporting broadly encompasses...   \n",
              "1  Irrespective of the size and nature of a bank’...   \n",
              "2  This principle is acceptable. The level of com...   \n",
              "3  RBI is committed to enhance and improve the le...   \n",
              "4  The income statement usually includes items fo...   \n",
              "\n",
              "                                             Remarks  \\\n",
              "0  All these six broad categories of information ...   \n",
              "1                                                NaN   \n",
              "2                                                NaN   \n",
              "3  However, we would have to go beyond these disc...   \n",
              "4                                                NaN   \n",
              "\n",
              "                                         Sub-heading  \\\n",
              "0                                  1.0 General Level   \n",
              "1                                  1.0 General Level   \n",
              "2                                  1.0 General Level   \n",
              "3  2.0 Details in disclosure 2.1 Financial Perfor...   \n",
              "4  2.0 Details in disclosure 2.1 Financial Perfor...   \n",
              "\n",
              "                         Topic  \n",
              "0  Enhancing Bank Transparency  \n",
              "1  Enhancing Bank Transparency  \n",
              "2  Enhancing Bank Transparency  \n",
              "3  Enhancing Bank Transparency  \n",
              "4  Enhancing Bank Transparency  "
            ],
            "text/html": [
              "\n",
              "  <div id=\"df-6099e757-a352-4353-bcac-c4bb8c30c837\">\n",
              "    <div class=\"colab-df-container\">\n",
              "      <div>\n",
              "<style scoped>\n",
              "    .dataframe tbody tr th:only-of-type {\n",
              "        vertical-align: middle;\n",
              "    }\n",
              "\n",
              "    .dataframe tbody tr th {\n",
              "        vertical-align: top;\n",
              "    }\n",
              "\n",
              "    .dataframe thead th {\n",
              "        text-align: right;\n",
              "    }\n",
              "</style>\n",
              "<table border=\"1\" class=\"dataframe\">\n",
              "  <thead>\n",
              "    <tr style=\"text-align: right;\">\n",
              "      <th></th>\n",
              "      <th>Principle number</th>\n",
              "      <th>Principle</th>\n",
              "      <th>Indian Position</th>\n",
              "      <th>Remarks</th>\n",
              "      <th>Sub-heading</th>\n",
              "      <th>Topic</th>\n",
              "    </tr>\n",
              "  </thead>\n",
              "  <tbody>\n",
              "    <tr>\n",
              "      <th>0</th>\n",
              "      <td>1.1</td>\n",
              "      <td>The Basel Committee recommends that banks, in ...</td>\n",
              "      <td>Banks’ financial reporting broadly encompasses...</td>\n",
              "      <td>All these six broad categories of information ...</td>\n",
              "      <td>1.0 General Level</td>\n",
              "      <td>Enhancing Bank Transparency</td>\n",
              "    </tr>\n",
              "    <tr>\n",
              "      <th>1</th>\n",
              "      <td>1.2</td>\n",
              "      <td>The scope and content of information provided ...</td>\n",
              "      <td>Irrespective of the size and nature of a bank’...</td>\n",
              "      <td>NaN</td>\n",
              "      <td>1.0 General Level</td>\n",
              "      <td>Enhancing Bank Transparency</td>\n",
              "    </tr>\n",
              "    <tr>\n",
              "      <th>2</th>\n",
              "      <td>1.3</td>\n",
              "      <td>In countries with less developed financial mar...</td>\n",
              "      <td>This principle is acceptable. The level of com...</td>\n",
              "      <td>NaN</td>\n",
              "      <td>1.0 General Level</td>\n",
              "      <td>Enhancing Bank Transparency</td>\n",
              "    </tr>\n",
              "    <tr>\n",
              "      <th>3</th>\n",
              "      <td>2.1.1</td>\n",
              "      <td>Information about the performance of a bank, i...</td>\n",
              "      <td>RBI is committed to enhance and improve the le...</td>\n",
              "      <td>However, we would have to go beyond these disc...</td>\n",
              "      <td>2.0 Details in disclosure 2.1 Financial Perfor...</td>\n",
              "      <td>Enhancing Bank Transparency</td>\n",
              "    </tr>\n",
              "    <tr>\n",
              "      <th>4</th>\n",
              "      <td>2.1.2</td>\n",
              "      <td>To assess the financial performance of a bank,...</td>\n",
              "      <td>The income statement usually includes items fo...</td>\n",
              "      <td>NaN</td>\n",
              "      <td>2.0 Details in disclosure 2.1 Financial Perfor...</td>\n",
              "      <td>Enhancing Bank Transparency</td>\n",
              "    </tr>\n",
              "  </tbody>\n",
              "</table>\n",
              "</div>\n",
              "      <button class=\"colab-df-convert\" onclick=\"convertToInteractive('df-6099e757-a352-4353-bcac-c4bb8c30c837')\"\n",
              "              title=\"Convert this dataframe to an interactive table.\"\n",
              "              style=\"display:none;\">\n",
              "        \n",
              "  <svg xmlns=\"http://www.w3.org/2000/svg\" height=\"24px\"viewBox=\"0 0 24 24\"\n",
              "       width=\"24px\">\n",
              "    <path d=\"M0 0h24v24H0V0z\" fill=\"none\"/>\n",
              "    <path d=\"M18.56 5.44l.94 2.06.94-2.06 2.06-.94-2.06-.94-.94-2.06-.94 2.06-2.06.94zm-11 1L8.5 8.5l.94-2.06 2.06-.94-2.06-.94L8.5 2.5l-.94 2.06-2.06.94zm10 10l.94 2.06.94-2.06 2.06-.94-2.06-.94-.94-2.06-.94 2.06-2.06.94z\"/><path d=\"M17.41 7.96l-1.37-1.37c-.4-.4-.92-.59-1.43-.59-.52 0-1.04.2-1.43.59L10.3 9.45l-7.72 7.72c-.78.78-.78 2.05 0 2.83L4 21.41c.39.39.9.59 1.41.59.51 0 1.02-.2 1.41-.59l7.78-7.78 2.81-2.81c.8-.78.8-2.07 0-2.86zM5.41 20L4 18.59l7.72-7.72 1.47 1.35L5.41 20z\"/>\n",
              "  </svg>\n",
              "      </button>\n",
              "      \n",
              "  <style>\n",
              "    .colab-df-container {\n",
              "      display:flex;\n",
              "      flex-wrap:wrap;\n",
              "      gap: 12px;\n",
              "    }\n",
              "\n",
              "    .colab-df-convert {\n",
              "      background-color: #E8F0FE;\n",
              "      border: none;\n",
              "      border-radius: 50%;\n",
              "      cursor: pointer;\n",
              "      display: none;\n",
              "      fill: #1967D2;\n",
              "      height: 32px;\n",
              "      padding: 0 0 0 0;\n",
              "      width: 32px;\n",
              "    }\n",
              "\n",
              "    .colab-df-convert:hover {\n",
              "      background-color: #E2EBFA;\n",
              "      box-shadow: 0px 1px 2px rgba(60, 64, 67, 0.3), 0px 1px 3px 1px rgba(60, 64, 67, 0.15);\n",
              "      fill: #174EA6;\n",
              "    }\n",
              "\n",
              "    [theme=dark] .colab-df-convert {\n",
              "      background-color: #3B4455;\n",
              "      fill: #D2E3FC;\n",
              "    }\n",
              "\n",
              "    [theme=dark] .colab-df-convert:hover {\n",
              "      background-color: #434B5C;\n",
              "      box-shadow: 0px 1px 3px 1px rgba(0, 0, 0, 0.15);\n",
              "      filter: drop-shadow(0px 1px 2px rgba(0, 0, 0, 0.3));\n",
              "      fill: #FFFFFF;\n",
              "    }\n",
              "  </style>\n",
              "\n",
              "      <script>\n",
              "        const buttonEl =\n",
              "          document.querySelector('#df-6099e757-a352-4353-bcac-c4bb8c30c837 button.colab-df-convert');\n",
              "        buttonEl.style.display =\n",
              "          google.colab.kernel.accessAllowed ? 'block' : 'none';\n",
              "\n",
              "        async function convertToInteractive(key) {\n",
              "          const element = document.querySelector('#df-6099e757-a352-4353-bcac-c4bb8c30c837');\n",
              "          const dataTable =\n",
              "            await google.colab.kernel.invokeFunction('convertToInteractive',\n",
              "                                                     [key], {});\n",
              "          if (!dataTable) return;\n",
              "\n",
              "          const docLinkHtml = 'Like what you see? Visit the ' +\n",
              "            '<a target=\"_blank\" href=https://colab.research.google.com/notebooks/data_table.ipynb>data table notebook</a>'\n",
              "            + ' to learn more about interactive tables.';\n",
              "          element.innerHTML = '';\n",
              "          dataTable['output_type'] = 'display_data';\n",
              "          await google.colab.output.renderOutput(dataTable, element);\n",
              "          const docLink = document.createElement('div');\n",
              "          docLink.innerHTML = docLinkHtml;\n",
              "          element.appendChild(docLink);\n",
              "        }\n",
              "      </script>\n",
              "    </div>\n",
              "  </div>\n",
              "  "
            ]
          },
          "metadata": {},
          "execution_count": 6
        }
      ],
      "source": [
        "#Load the data\n",
        "import pandas as pd\n",
        "\n",
        "df = pd.read_csv(data_path)\n",
        "#Display the first five rows in df\n",
        "df.head()\n"
      ]
    },
    {
      "cell_type": "code",
      "source": [
        "#Display information about the dataframe df\n",
        "df.info()"
      ],
      "metadata": {
        "colab": {
          "base_uri": "https://localhost:8080/"
        },
        "id": "DH2ItFLoD1nT",
        "outputId": "f1acfa41-6c84-45b1-ceea-1f9f9487abfa"
      },
      "execution_count": null,
      "outputs": [
        {
          "output_type": "stream",
          "name": "stdout",
          "text": [
            "<class 'pandas.core.frame.DataFrame'>\n",
            "RangeIndex: 206 entries, 0 to 205\n",
            "Data columns (total 6 columns):\n",
            " #   Column            Non-Null Count  Dtype \n",
            "---  ------            --------------  ----- \n",
            " 0   Principle number  196 non-null    object\n",
            " 1   Principle         206 non-null    object\n",
            " 2   Indian Position   199 non-null    object\n",
            " 3   Remarks           85 non-null     object\n",
            " 4   Sub-heading       148 non-null    object\n",
            " 5   Topic             206 non-null    object\n",
            "dtypes: object(6)\n",
            "memory usage: 9.8+ KB\n"
          ]
        }
      ]
    },
    {
      "cell_type": "code",
      "source": [
        "#Convert the data type of 'Principle' and 'Indian Position' to string\n",
        "df['Principle'] = df['Principle'].astype(str)\n",
        "df['Indian Position'] = df['Indian Position'].astype(str)\n",
        "#Display information about the dataframe df\n",
        "df.info()"
      ],
      "metadata": {
        "colab": {
          "base_uri": "https://localhost:8080/"
        },
        "id": "RtXZiLleEBjl",
        "outputId": "222a50dc-748d-44de-ff42-5e75ca0dfb89"
      },
      "execution_count": null,
      "outputs": [
        {
          "output_type": "stream",
          "name": "stdout",
          "text": [
            "<class 'pandas.core.frame.DataFrame'>\n",
            "RangeIndex: 206 entries, 0 to 205\n",
            "Data columns (total 6 columns):\n",
            " #   Column            Non-Null Count  Dtype \n",
            "---  ------            --------------  ----- \n",
            " 0   Principle number  196 non-null    object\n",
            " 1   Principle         206 non-null    object\n",
            " 2   Indian Position   206 non-null    object\n",
            " 3   Remarks           85 non-null     object\n",
            " 4   Sub-heading       148 non-null    object\n",
            " 5   Topic             206 non-null    object\n",
            "dtypes: object(6)\n",
            "memory usage: 9.8+ KB\n"
          ]
        }
      ]
    },
    {
      "cell_type": "code",
      "source": [
        "#Define a function to calculate the number of words in a text\n",
        "def count_words(example):\n",
        "  number_of_words = len(example.split()) \n",
        "  return number_of_words \n",
        "\n",
        "\n",
        "#Calculate the number of words for each 'Principle' row in the dataframe df\n",
        "df['number_of_words_Principle'] = df['Principle'].map(lambda row: count_words(row))\n",
        "#Display Descriptive statistics about the 'number_of_words_Principle' column in the dataframe df\n",
        "df['number_of_words_Principle'].describe(include='all') "
      ],
      "metadata": {
        "colab": {
          "base_uri": "https://localhost:8080/"
        },
        "id": "witJRxB0EXXR",
        "outputId": "223d286a-5cc3-41be-d930-f3e308bfb72c"
      },
      "execution_count": null,
      "outputs": [
        {
          "output_type": "execute_result",
          "data": {
            "text/plain": [
              "count    206.000000\n",
              "mean      49.150485\n",
              "std       31.353090\n",
              "min        7.000000\n",
              "25%       26.000000\n",
              "50%       39.500000\n",
              "75%       66.750000\n",
              "max      174.000000\n",
              "Name: number_of_words_Principle, dtype: float64"
            ]
          },
          "metadata": {},
          "execution_count": 9
        }
      ]
    },
    {
      "cell_type": "code",
      "source": [
        "#Calculate the number of words for each 'Indian Position' row in the dataframe df\n",
        "df['number_of_words_Indian_Position'] = df['Indian Position'].apply(lambda x: len(x.split()))\n",
        "#Display Descriptive statistics about the 'number_of_words_Indian_Position' column in the dataframe df\n",
        "df['number_of_words_Indian_Position'].describe(include='all') "
      ],
      "metadata": {
        "colab": {
          "base_uri": "https://localhost:8080/"
        },
        "id": "KFHl2zFBHEDb",
        "outputId": "5389f481-bf22-420d-8460-b5f60b95fb40"
      },
      "execution_count": null,
      "outputs": [
        {
          "output_type": "execute_result",
          "data": {
            "text/plain": [
              "count    206.000000\n",
              "mean      29.368932\n",
              "std       26.923556\n",
              "min        1.000000\n",
              "25%        8.000000\n",
              "50%       24.000000\n",
              "75%       41.000000\n",
              "max      175.000000\n",
              "Name: number_of_words_Indian_Position, dtype: float64"
            ]
          },
          "metadata": {},
          "execution_count": 10
        }
      ]
    },
    {
      "cell_type": "code",
      "source": [
        "#Define a function remove_pattern to remove the newline character, parenthesis and the text present within parenthesis from the text\n",
        "import re\n",
        "def remove_pattern(example):\n",
        "  patterns = '\\(.*?\\)|\\[.*?\\]|\\n|\\s\\(.*?\\)|\\s\\[.*?\\]|\\(.*?\\)\\s|\\[.*?\\]\\s|\\s\\(.*?\\)\\s|\\s\\[.*?\\]\\s'\n",
        "  pattern_removed_text = re.sub(patterns,'',example)\n",
        "  return pattern_removed_text\n",
        "\n",
        "#Remove the newline character, parenthesis and the text present within parenthesis in 'Principle' in the dataframe df\n",
        "df['Pattern_Removed_Principle'] = df['Principle'].map(lambda row : remove_pattern(row))\n",
        "\n",
        "#Remove the newline character, parenthesis and the text present within parenthesis in 'Indian Position' in the dataframe df\n",
        "df['Pattern_Removed_Indian_Position'] = df['Indian Position'].map(lambda row : remove_pattern(row))\n",
        "\n"
      ],
      "metadata": {
        "id": "biu1-HheH_l4"
      },
      "execution_count": null,
      "outputs": []
    },
    {
      "cell_type": "code",
      "source": [
        "# Remove the stopwords from the text by manually specifying the list of stop words:\n",
        "\n",
        "def remove_stop_words(example,words):\n",
        "  for word in words:\n",
        "    example = re.sub(' '+ word + ' ',' ',example)\n",
        "  extra_space_removed = re.sub(' +',' ',example)\n",
        "  return  extra_space_removed \n",
        "\n",
        "#'that','if','no', 'not', 'as','but','on' are retained\n",
        "stop_words = ['a','are','shall','those','the','which','has','been','of','by','to','at','is','an','in','for','be','it','such']\n",
        "\n",
        "#Remove the words in stop_words from 'Pattern_Removed_Principle' in the dataframe df\n",
        "df['Stopwords_Removed_Principle'] = df['Pattern_Removed_Principle'].map(lambda row: remove_stop_words(row,stop_words))\n",
        "#Remove the words in stop_words from 'Pattern_Removed_Indian_Position' in the dataframe df\n",
        "df['Stopwords_Removed_Indian_Position'] = df['Pattern_Removed_Indian_Position'].map(lambda row: remove_stop_words(row,stop_words))\n",
        "\n",
        "\n",
        "#Calculate the number of words in each 'Stopwords_Removed_Principle' row in the df\n",
        "df['number_of_words_stopwords_removed_Principle'] = df['Stopwords_Removed_Principle'].map(lambda x: len(x.split()))\n",
        "\n",
        "#Calculate the number of words in each 'Stopwords_Removed_Indian_Position' row in the df\n",
        "df['number_of_words_stopwords_removed_Indian_Position'] = df['Stopwords_Removed_Indian_Position'].map(lambda x: len(x.split()))\n",
        "\n"
      ],
      "metadata": {
        "id": "xaAx8-mFPjgC"
      },
      "execution_count": null,
      "outputs": []
    },
    {
      "cell_type": "code",
      "source": [
        "#Display Descriptive statistics about the 'number_of_words_stopwords_removed_Principle' column in the dataframe df\n",
        "df['number_of_words_stopwords_removed_Principle'].describe(include='all') "
      ],
      "metadata": {
        "colab": {
          "base_uri": "https://localhost:8080/"
        },
        "id": "fsx3minbH_st",
        "outputId": "6dc6796f-d2fd-468d-f6ec-0f47215a3c5b"
      },
      "execution_count": null,
      "outputs": [
        {
          "output_type": "execute_result",
          "data": {
            "text/plain": [
              "count    206.000000\n",
              "mean      36.509709\n",
              "std       22.674309\n",
              "min        6.000000\n",
              "25%       20.000000\n",
              "50%       29.000000\n",
              "75%       47.750000\n",
              "max      118.000000\n",
              "Name: number_of_words_stopwords_removed_Principle, dtype: float64"
            ]
          },
          "metadata": {},
          "execution_count": 13
        }
      ]
    },
    {
      "cell_type": "code",
      "source": [
        "#Display Descriptive statistics about the 'number_of_words_stopwords_removed_Indian_Position' column in the dataframe df\n",
        "df['number_of_words_stopwords_removed_Indian_Position'].describe(include='all') "
      ],
      "metadata": {
        "colab": {
          "base_uri": "https://localhost:8080/"
        },
        "id": "YN9Y53XdTfn-",
        "outputId": "7f249704-0687-4c49-9f25-10b2b0a5bf33"
      },
      "execution_count": null,
      "outputs": [
        {
          "output_type": "execute_result",
          "data": {
            "text/plain": [
              "count    206.000000\n",
              "mean      21.495146\n",
              "std       19.673121\n",
              "min        1.000000\n",
              "25%        6.000000\n",
              "50%       17.500000\n",
              "75%       29.750000\n",
              "max      116.000000\n",
              "Name: number_of_words_stopwords_removed_Indian_Position, dtype: float64"
            ]
          },
          "metadata": {},
          "execution_count": 14
        }
      ]
    },
    {
      "cell_type": "code",
      "source": [
        "#Download the dataframe df for future reference\n",
        "df.to_csv(saved_path + \"RBI_data_stopwords_removed.csv\", encoding='utf-8', index=False)\n",
        "print(\"\\n Saved: RBI_data_stopwords_removed.csv\")"
      ],
      "metadata": {
        "id": "q2vM2qEFTlDS",
        "colab": {
          "base_uri": "https://localhost:8080/"
        },
        "outputId": "79229f8a-243f-4978-ae2b-f9154f8296df"
      },
      "execution_count": null,
      "outputs": [
        {
          "output_type": "stream",
          "name": "stdout",
          "text": [
            "\n",
            " Saved: RBI_data_stopwords_removed.csv\n"
          ]
        }
      ]
    },
    {
      "cell_type": "code",
      "source": [
        "#Filter entries for which the word count in 'number_of_words_stopwords_removed_Principle' and 'number_of_words_stopwords_removed_Indian_Position' is atleast 7 in the dataframe df\n",
        "df1 = df.query('(number_of_words_stopwords_removed_Principle >= 7) & (number_of_words_stopwords_removed_Indian_Position >= 7)')\n",
        "df1.info()"
      ],
      "metadata": {
        "colab": {
          "base_uri": "https://localhost:8080/"
        },
        "id": "vFCLL16CUB_8",
        "outputId": "b9034fb7-23ef-463c-ae43-ef923d9a2838"
      },
      "execution_count": null,
      "outputs": [
        {
          "output_type": "stream",
          "name": "stdout",
          "text": [
            "<class 'pandas.core.frame.DataFrame'>\n",
            "Int64Index: 151 entries, 0 to 205\n",
            "Data columns (total 14 columns):\n",
            " #   Column                                             Non-Null Count  Dtype \n",
            "---  ------                                             --------------  ----- \n",
            " 0   Principle number                                   143 non-null    object\n",
            " 1   Principle                                          151 non-null    object\n",
            " 2   Indian Position                                    151 non-null    object\n",
            " 3   Remarks                                            69 non-null     object\n",
            " 4   Sub-heading                                        113 non-null    object\n",
            " 5   Topic                                              151 non-null    object\n",
            " 6   number_of_words_Principle                          151 non-null    int64 \n",
            " 7   number_of_words_Indian_Position                    151 non-null    int64 \n",
            " 8   Pattern_Removed_Principle                          151 non-null    object\n",
            " 9   Pattern_Removed_Indian_Position                    151 non-null    object\n",
            " 10  Stopwords_Removed_Principle                        151 non-null    object\n",
            " 11  Stopwords_Removed_Indian_Position                  151 non-null    object\n",
            " 12  number_of_words_stopwords_removed_Principle        151 non-null    int64 \n",
            " 13  number_of_words_stopwords_removed_Indian_Position  151 non-null    int64 \n",
            "dtypes: int64(4), object(10)\n",
            "memory usage: 17.7+ KB\n"
          ]
        }
      ]
    },
    {
      "cell_type": "code",
      "source": [
        "#Drop Duplicate entries in 'Stopwords_Removed_Principle' if there exist any in the dataframe df1\n",
        "df2 = df1.drop_duplicates(subset=['Stopwords_Removed_Principle'])\n",
        "df2.info()"
      ],
      "metadata": {
        "colab": {
          "base_uri": "https://localhost:8080/"
        },
        "id": "3yXLY3twVODw",
        "outputId": "054aa8e5-b977-431e-fa6a-9728b5b24e37"
      },
      "execution_count": null,
      "outputs": [
        {
          "output_type": "stream",
          "name": "stdout",
          "text": [
            "<class 'pandas.core.frame.DataFrame'>\n",
            "Int64Index: 151 entries, 0 to 205\n",
            "Data columns (total 14 columns):\n",
            " #   Column                                             Non-Null Count  Dtype \n",
            "---  ------                                             --------------  ----- \n",
            " 0   Principle number                                   143 non-null    object\n",
            " 1   Principle                                          151 non-null    object\n",
            " 2   Indian Position                                    151 non-null    object\n",
            " 3   Remarks                                            69 non-null     object\n",
            " 4   Sub-heading                                        113 non-null    object\n",
            " 5   Topic                                              151 non-null    object\n",
            " 6   number_of_words_Principle                          151 non-null    int64 \n",
            " 7   number_of_words_Indian_Position                    151 non-null    int64 \n",
            " 8   Pattern_Removed_Principle                          151 non-null    object\n",
            " 9   Pattern_Removed_Indian_Position                    151 non-null    object\n",
            " 10  Stopwords_Removed_Principle                        151 non-null    object\n",
            " 11  Stopwords_Removed_Indian_Position                  151 non-null    object\n",
            " 12  number_of_words_stopwords_removed_Principle        151 non-null    int64 \n",
            " 13  number_of_words_stopwords_removed_Indian_Position  151 non-null    int64 \n",
            "dtypes: int64(4), object(10)\n",
            "memory usage: 17.7+ KB\n"
          ]
        }
      ]
    },
    {
      "cell_type": "code",
      "source": [
        "#Drop Duplicate entries in 'Stopwords_Removed_Indian_Position' if there exist any in the dataframe df2\n",
        "unique_df = df2.drop_duplicates(subset=['Stopwords_Removed_Indian_Position'])\n",
        "unique_df.info()"
      ],
      "metadata": {
        "colab": {
          "base_uri": "https://localhost:8080/"
        },
        "id": "7XxRDm-4IBQq",
        "outputId": "709bbb43-1c51-46f5-a61d-1019c908e935"
      },
      "execution_count": null,
      "outputs": [
        {
          "output_type": "stream",
          "name": "stdout",
          "text": [
            "<class 'pandas.core.frame.DataFrame'>\n",
            "Int64Index: 149 entries, 0 to 205\n",
            "Data columns (total 14 columns):\n",
            " #   Column                                             Non-Null Count  Dtype \n",
            "---  ------                                             --------------  ----- \n",
            " 0   Principle number                                   141 non-null    object\n",
            " 1   Principle                                          149 non-null    object\n",
            " 2   Indian Position                                    149 non-null    object\n",
            " 3   Remarks                                            69 non-null     object\n",
            " 4   Sub-heading                                        112 non-null    object\n",
            " 5   Topic                                              149 non-null    object\n",
            " 6   number_of_words_Principle                          149 non-null    int64 \n",
            " 7   number_of_words_Indian_Position                    149 non-null    int64 \n",
            " 8   Pattern_Removed_Principle                          149 non-null    object\n",
            " 9   Pattern_Removed_Indian_Position                    149 non-null    object\n",
            " 10  Stopwords_Removed_Principle                        149 non-null    object\n",
            " 11  Stopwords_Removed_Indian_Position                  149 non-null    object\n",
            " 12  number_of_words_stopwords_removed_Principle        149 non-null    int64 \n",
            " 13  number_of_words_stopwords_removed_Indian_Position  149 non-null    int64 \n",
            "dtypes: int64(4), object(10)\n",
            "memory usage: 17.5+ KB\n"
          ]
        }
      ]
    },
    {
      "cell_type": "code",
      "source": [
        "#Create dataframe data with the columns 'Stopwords_Removed_Principle','Stopwords_Removed_Indian_Position'and 'Topic' from unique_df\n",
        "data = unique_df[['Stopwords_Removed_Principle','Stopwords_Removed_Indian_Position','Topic']].copy()\n",
        "data.info()"
      ],
      "metadata": {
        "colab": {
          "base_uri": "https://localhost:8080/"
        },
        "id": "yW25cqqgWve6",
        "outputId": "08d67d8a-077c-470b-9c7a-51208043853e"
      },
      "execution_count": null,
      "outputs": [
        {
          "output_type": "stream",
          "name": "stdout",
          "text": [
            "<class 'pandas.core.frame.DataFrame'>\n",
            "Int64Index: 149 entries, 0 to 205\n",
            "Data columns (total 3 columns):\n",
            " #   Column                             Non-Null Count  Dtype \n",
            "---  ------                             --------------  ----- \n",
            " 0   Stopwords_Removed_Principle        149 non-null    object\n",
            " 1   Stopwords_Removed_Indian_Position  149 non-null    object\n",
            " 2   Topic                              149 non-null    object\n",
            "dtypes: object(3)\n",
            "memory usage: 4.7+ KB\n"
          ]
        }
      ]
    },
    {
      "cell_type": "code",
      "source": [
        "#Reset the index in data\n",
        "data = data.reset_index(drop=True)\n",
        "data.info()"
      ],
      "metadata": {
        "colab": {
          "base_uri": "https://localhost:8080/"
        },
        "id": "L7w6pNdqggxp",
        "outputId": "4bf611a8-801f-45a7-e90c-7ff2a9bbcf31"
      },
      "execution_count": null,
      "outputs": [
        {
          "output_type": "stream",
          "name": "stdout",
          "text": [
            "<class 'pandas.core.frame.DataFrame'>\n",
            "RangeIndex: 149 entries, 0 to 148\n",
            "Data columns (total 3 columns):\n",
            " #   Column                             Non-Null Count  Dtype \n",
            "---  ------                             --------------  ----- \n",
            " 0   Stopwords_Removed_Principle        149 non-null    object\n",
            " 1   Stopwords_Removed_Indian_Position  149 non-null    object\n",
            " 2   Topic                              149 non-null    object\n",
            "dtypes: object(3)\n",
            "memory usage: 3.6+ KB\n"
          ]
        }
      ]
    },
    {
      "cell_type": "code",
      "execution_count": null,
      "metadata": {
        "colab": {
          "base_uri": "https://localhost:8080/"
        },
        "id": "cHkxjJUqsjlV",
        "outputId": "e54ec267-1bb5-4a33-cac7-ab4b20321e2a"
      },
      "outputs": [
        {
          "output_type": "execute_result",
          "data": {
            "text/plain": [
              "Dataset({\n",
              "    features: ['Stopwords_Removed_Principle', 'Stopwords_Removed_Indian_Position', 'Topic'],\n",
              "    num_rows: 149\n",
              "})"
            ]
          },
          "metadata": {},
          "execution_count": 21
        }
      ],
      "source": [
        "#Convert the Data into HuggingFace Dataset\n",
        "from datasets import Dataset\n",
        "dataset = Dataset.from_pandas(data)\n",
        "dataset\n"
      ]
    },
    {
      "cell_type": "markdown",
      "metadata": {
        "id": "MUfKp87VVHI_"
      },
      "source": [
        "Let's look at the features of the dataset"
      ]
    },
    {
      "cell_type": "code",
      "execution_count": null,
      "metadata": {
        "colab": {
          "base_uri": "https://localhost:8080/"
        },
        "id": "OWINgHQnVJ5f",
        "outputId": "b3deb6e3-10f3-4c5b-c9be-bf284c38b908"
      },
      "outputs": [
        {
          "output_type": "execute_result",
          "data": {
            "text/plain": [
              "{'Stopwords_Removed_Indian_Position': Value(dtype='string', id=None),\n",
              " 'Stopwords_Removed_Principle': Value(dtype='string', id=None),\n",
              " 'Topic': Value(dtype='string', id=None)}"
            ]
          },
          "metadata": {},
          "execution_count": 22
        }
      ],
      "source": [
        "dataset.features"
      ]
    },
    {
      "cell_type": "markdown",
      "metadata": {
        "id": "4KoNgkasXvkF"
      },
      "source": [
        "The dataset has to be split into training, validation and test set. Let's check the first example of the dataset:\n",
        "\n"
      ]
    },
    {
      "cell_type": "code",
      "execution_count": null,
      "metadata": {
        "colab": {
          "base_uri": "https://localhost:8080/"
        },
        "id": "9mdy4kv_Xq7_",
        "outputId": "2e87ad07-bc15-4d69-912c-f327fff48e0c"
      },
      "outputs": [
        {
          "output_type": "execute_result",
          "data": {
            "text/plain": [
              "{'Stopwords_Removed_Indian_Position': 'Banks’ financial reporting broadly encompasses financial performance and financial position and accounting policies. As regards information on basic business management and corporate governance, wide range practices prevalent from elaborate disclosures very little information.',\n",
              " 'Stopwords_Removed_Principle': 'The Basel Committee recommends that banks, regular financial reporting and other public disclosures, provide timely information, facilitates market participants’ assessment banks. It identified following six broad categories information, each should addressed clear terms and appropriate detail help achieve satisfactory level bank transparency:financial performance;financial position;risk management strategies and practices;risk exposures;accounting policies; andbasic business, management and corporate governance information.',\n",
              " 'Topic': 'Enhancing Bank Transparency'}"
            ]
          },
          "metadata": {},
          "execution_count": 23
        }
      ],
      "source": [
        "example = dataset[0]\n",
        "example"
      ]
    },
    {
      "cell_type": "markdown",
      "source": [
        "Let's sort the dataset by Topic name"
      ],
      "metadata": {
        "id": "xfz7PZD4Xf69"
      }
    },
    {
      "cell_type": "code",
      "source": [
        "dataset= dataset.sort('Topic')"
      ],
      "metadata": {
        "id": "jC7UEj9nXgqd"
      },
      "execution_count": null,
      "outputs": []
    },
    {
      "cell_type": "markdown",
      "source": [
        "Let's rename the column Topic to label"
      ],
      "metadata": {
        "id": "AFDsOaacYFvh"
      }
    },
    {
      "cell_type": "code",
      "source": [
        "dataset = dataset.rename_column(\"Topic\", \"label\")\n",
        "dataset"
      ],
      "metadata": {
        "colab": {
          "base_uri": "https://localhost:8080/"
        },
        "id": "KvTcsUTgYCbA",
        "outputId": "dfefef78-2b69-49c9-c5e7-f4d2ef2bf4e7"
      },
      "execution_count": null,
      "outputs": [
        {
          "output_type": "execute_result",
          "data": {
            "text/plain": [
              "Dataset({\n",
              "    features: ['Stopwords_Removed_Principle', 'Stopwords_Removed_Indian_Position', 'label'],\n",
              "    num_rows: 149\n",
              "})"
            ]
          },
          "metadata": {},
          "execution_count": 25
        }
      ]
    },
    {
      "cell_type": "markdown",
      "metadata": {
        "id": "p9kyy8v_tjkY"
      },
      "source": [
        "Let's create a list that contains the labels."
      ]
    },
    {
      "cell_type": "code",
      "execution_count": null,
      "metadata": {
        "colab": {
          "base_uri": "https://localhost:8080/"
        },
        "id": "ugIFhNg3trOP",
        "outputId": "15385b23-a8d1-48c0-c70a-56be43eeb1df"
      },
      "outputs": [
        {
          "output_type": "execute_result",
          "data": {
            "text/plain": [
              "9"
            ]
          },
          "metadata": {},
          "execution_count": 26
        }
      ],
      "source": [
        "labels = list(sorted(set(dataset['label'])))\n",
        "len(labels)"
      ]
    },
    {
      "cell_type": "markdown",
      "metadata": {
        "id": "VsvsAIRAMMVj"
      },
      "source": [
        "The dataset consists of 9 labels."
      ]
    },
    {
      "cell_type": "markdown",
      "metadata": {
        "id": "UKukAGDvp7cP"
      },
      "source": [
        "## Splitting the Data into Train, Validation and Test set\n",
        "\n",
        "\n",
        "\n",
        "\n"
      ]
    },
    {
      "cell_type": "code",
      "execution_count": null,
      "metadata": {
        "id": "ol_9v8qaqT7H"
      },
      "outputs": [],
      "source": [
        "fix_seed = 42\n",
        "from sklearn.model_selection import train_test_split"
      ]
    },
    {
      "cell_type": "code",
      "source": [
        "#Split data into val and test set \n",
        "X_val_test = dataset['Stopwords_Removed_Indian_Position']\n",
        "y_val_test = dataset['label']\n",
        "X_val, X_test, y_val, y_test = train_test_split(X_val_test, y_val_test, test_size = 0.5, stratify = y_val_test, random_state = fix_seed)"
      ],
      "metadata": {
        "id": "2pl3I6wRZNcq"
      },
      "execution_count": null,
      "outputs": []
    },
    {
      "cell_type": "code",
      "execution_count": null,
      "metadata": {
        "id": "pMKJRWshPTVE",
        "colab": {
          "base_uri": "https://localhost:8080/"
        },
        "outputId": "790face2-fe73-48d1-abf9-838db3807e9c"
      },
      "outputs": [
        {
          "output_type": "execute_result",
          "data": {
            "text/plain": [
              "Dataset({\n",
              "    features: ['sentence', 'label'],\n",
              "    num_rows: 149\n",
              "})"
            ]
          },
          "metadata": {},
          "execution_count": 29
        }
      ],
      "source": [
        "# Create the HuggingFace Dataset train_data\n",
        "dict_train = {\"sentence\": dataset['Stopwords_Removed_Principle'],\"label\": dataset['label']}\n",
        "train_data = Dataset.from_dict(dict_train)\n",
        "train_data"
      ]
    },
    {
      "cell_type": "code",
      "execution_count": null,
      "metadata": {
        "id": "c0FTvgIqPTlq",
        "colab": {
          "base_uri": "https://localhost:8080/"
        },
        "outputId": "3ddbba8c-9263-490a-d010-418f2051306d"
      },
      "outputs": [
        {
          "output_type": "execute_result",
          "data": {
            "text/plain": [
              "Dataset({\n",
              "    features: ['sentence', 'label'],\n",
              "    num_rows: 74\n",
              "})"
            ]
          },
          "metadata": {},
          "execution_count": 30
        }
      ],
      "source": [
        "#Create the HuggingFace Dataset val_data\n",
        "dict_val = {\"sentence\": X_val,\"label\":y_val}\n",
        "val_data = Dataset.from_dict(dict_val)\n",
        "val_data"
      ]
    },
    {
      "cell_type": "code",
      "source": [
        "#Create the HuggingFace Dataset test_data\n",
        "dict_test = {\"sentence\": X_test,\"label\":y_test}\n",
        "test_data = Dataset.from_dict(dict_test)\n",
        "test_data"
      ],
      "metadata": {
        "colab": {
          "base_uri": "https://localhost:8080/"
        },
        "id": "WLwpO7nrZsyJ",
        "outputId": "516f2985-e9aa-4d36-a0b4-f2626c9743b7"
      },
      "execution_count": null,
      "outputs": [
        {
          "output_type": "execute_result",
          "data": {
            "text/plain": [
              "Dataset({\n",
              "    features: ['sentence', 'label'],\n",
              "    num_rows: 75\n",
              "})"
            ]
          },
          "metadata": {},
          "execution_count": 31
        }
      ]
    },
    {
      "cell_type": "markdown",
      "metadata": {
        "id": "tGbsKDXm4QsW"
      },
      "source": [
        "Let's Check the Frequency Count of Train, Validation and Test label data"
      ]
    },
    {
      "cell_type": "code",
      "source": [
        "\n",
        "import collections \n",
        "#Define the function to check the frequency count of elements in the list\n",
        "def frequency_count(mylist):\n",
        "  frequency = collections.Counter(mylist)\n",
        "  [print(key,':',value) for key, value in frequency.items()]"
      ],
      "metadata": {
        "id": "FTO-YsuIhpUI"
      },
      "execution_count": null,
      "outputs": []
    },
    {
      "cell_type": "code",
      "execution_count": null,
      "metadata": {
        "colab": {
          "base_uri": "https://localhost:8080/"
        },
        "id": "78X1pl5yVyU2",
        "outputId": "6c93fdba-0dfa-4c30-9ac5-7e0e3d9a0060"
      },
      "outputs": [
        {
          "output_type": "stream",
          "name": "stdout",
          "text": [
            "The Frequency of label in train_data : \n",
            "\n",
            "Best Practices for Credit Risk Disclosure : 10\n",
            "Enhancing Bank Transparency : 45\n",
            "Information Flows Between Banking Supervisory Authorities : 16\n",
            "Intra-Group Transactions and Exposures Principles : 13\n",
            "Minimum Standards for the Supervision of International Banking Groups and their Cross-Border Establishments : 3\n",
            "Principles for the Supervision of Banks’ Foreign Establishments (The Basel Concordat) : 10\n",
            "Risk Concentrations Principles : 11\n",
            "Supervision of Financial Conglomerates : 20\n",
            "The Supervision of Cross-Border Banking : 21\n"
          ]
        }
      ],
      "source": [
        "#Print the frequency count of label in train_data\n",
        "print(\"The Frequency of label in train_data : \\n\")\n",
        "frequency_count(train_data['label'])"
      ]
    },
    {
      "cell_type": "code",
      "execution_count": null,
      "metadata": {
        "colab": {
          "base_uri": "https://localhost:8080/"
        },
        "id": "_BdUm8uv4CuD",
        "outputId": "c37d9ecf-9775-4a90-f561-39d77ad30d30"
      },
      "outputs": [
        {
          "output_type": "stream",
          "name": "stdout",
          "text": [
            "The Frequency of label in val_data : \n",
            "\n",
            "Enhancing Bank Transparency : 22\n",
            "The Supervision of Cross-Border Banking : 10\n",
            "Principles for the Supervision of Banks’ Foreign Establishments (The Basel Concordat) : 5\n",
            "Intra-Group Transactions and Exposures Principles : 6\n",
            "Risk Concentrations Principles : 6\n",
            "Best Practices for Credit Risk Disclosure : 5\n",
            "Supervision of Financial Conglomerates : 10\n",
            "Information Flows Between Banking Supervisory Authorities : 8\n",
            "Minimum Standards for the Supervision of International Banking Groups and their Cross-Border Establishments : 2\n"
          ]
        }
      ],
      "source": [
        "#Print the frequency count of label in val_data\n",
        "print(\"The Frequency of label in val_data : \\n\")\n",
        "frequency_count(val_data['label'])"
      ]
    },
    {
      "cell_type": "code",
      "execution_count": null,
      "metadata": {
        "colab": {
          "base_uri": "https://localhost:8080/"
        },
        "id": "zKNP7tWXV2_R",
        "outputId": "7d0dbd40-2c51-48f3-9983-ef1a5ed15746"
      },
      "outputs": [
        {
          "output_type": "stream",
          "name": "stdout",
          "text": [
            "The Frequency of label in test_data : \n",
            "\n",
            "Information Flows Between Banking Supervisory Authorities : 8\n",
            "Enhancing Bank Transparency : 23\n",
            "Principles for the Supervision of Banks’ Foreign Establishments (The Basel Concordat) : 5\n",
            "Supervision of Financial Conglomerates : 10\n",
            "Best Practices for Credit Risk Disclosure : 5\n",
            "The Supervision of Cross-Border Banking : 11\n",
            "Intra-Group Transactions and Exposures Principles : 7\n",
            "Risk Concentrations Principles : 5\n",
            "Minimum Standards for the Supervision of International Banking Groups and their Cross-Border Establishments : 1\n"
          ]
        }
      ],
      "source": [
        "#Print the frequency count of label in test_data\n",
        "print(\"The Frequency of label in test_data : \\n\")\n",
        "frequency_count(test_data['label'])"
      ]
    },
    {
      "cell_type": "code",
      "execution_count": null,
      "metadata": {
        "colab": {
          "base_uri": "https://localhost:8080/"
        },
        "id": "xNZXfECRrzta",
        "outputId": "6a0f7036-44f8-47ad-a254-efe4aebf5392"
      },
      "outputs": [
        {
          "output_type": "execute_result",
          "data": {
            "text/plain": [
              "DatasetDict({\n",
              "    train: Dataset({\n",
              "        features: ['sentence', 'label'],\n",
              "        num_rows: 149\n",
              "    })\n",
              "    validation: Dataset({\n",
              "        features: ['sentence', 'label'],\n",
              "        num_rows: 74\n",
              "    })\n",
              "    test: Dataset({\n",
              "        features: ['sentence', 'label'],\n",
              "        num_rows: 75\n",
              "    })\n",
              "})"
            ]
          },
          "metadata": {},
          "execution_count": 37
        }
      ],
      "source": [
        "\n",
        "#Create dataset_clean to store the train_data, val_data and test_data\n",
        "from datasets.dataset_dict import DatasetDict\n",
        "dataset_clean = DatasetDict({\n",
        "    'train': train_data,\n",
        "    'validation': val_data,\n",
        "    'test': test_data\n",
        "})\n",
        "dataset_clean"
      ]
    },
    {
      "cell_type": "markdown",
      "metadata": {
        "id": "LFcr-ozDmteM"
      },
      "source": [
        "## Save the Data"
      ]
    },
    {
      "cell_type": "code",
      "execution_count": null,
      "metadata": {
        "colab": {
          "base_uri": "https://localhost:8080/"
        },
        "id": "PBZrl1QRmvlT",
        "outputId": "246ffc1d-8171-4110-de09-8b99cf967b36"
      },
      "outputs": [
        {
          "output_type": "stream",
          "name": "stdout",
          "text": [
            "\n",
            "Saved dataset_clean\n"
          ]
        }
      ],
      "source": [
        "#Save the HuggingFace Dataset dataset_clean in drive\n",
        "dataset_clean.save_to_disk(saved_path  + \"dataset_clean\")\n",
        "print(\"\\nSaved dataset_clean\")"
      ]
    },
    {
      "cell_type": "code",
      "source": [
        ""
      ],
      "metadata": {
        "id": "TnUJLgUTYXPy"
      },
      "execution_count": null,
      "outputs": []
    }
  ],
  "metadata": {
    "colab": {
      "collapsed_sections": [],
      "name": "Part1_HuggingFace_Dataset.ipynb",
      "provenance": []
    },
    "kernelspec": {
      "display_name": "Python 3",
      "name": "python3"
    },
    "language_info": {
      "name": "python"
    }
  },
  "nbformat": 4,
  "nbformat_minor": 0
}