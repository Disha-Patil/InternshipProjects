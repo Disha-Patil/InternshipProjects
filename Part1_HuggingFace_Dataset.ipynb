{
  "cells": [
    {
      "cell_type": "markdown",
      "metadata": {
        "id": "6GkxfuQ8ob0R"
      },
      "source": [
        "#About the Data\n",
        "\n",
        "* The data was taken from https://www.finra.org/rules-guidance/key-topics \n",
        "\n",
        "* The Data consist of three columns: Rule, Text and Topic.\n",
        "  - Rule: FINRA Rule number. \n",
        "  - Text: List of rules.\n",
        "  - Topic: Category to which the rule belongs.\n",
        "\n",
        "* Each rule under the Key Topics: <br>\n",
        "\n",
        "  1. Anti-Money Laundering\n",
        "  2. Broker-Dealer Recruitment Disclosures: Complying with FINRA Rule 2273\n",
        "  3. Business Continuity Planning\n",
        "  4. Electronic Blue Sheets \n",
        "  5. Senior Investors\n",
        "  6. Subordination Agreements \n",
        "\n",
        "are taken as a text.\n",
        "\n",
        "* The rules are summarized with no duplicate text and the character count is not more than 512.\n",
        "* Blank text is not considered.\n",
        "* Prefixes in the beginning of the rules are removed.\n",
        "* The word ‘and’ to indicate the last rule is removed.\n",
        "* All sentences are considered.\n"
      ]
    },
    {
      "cell_type": "markdown",
      "source": [
        "# Text Preprocessing\n",
        "\n",
        "* Duplicate ‘Text’ if any are removed.\n",
        "\n",
        "\n"
      ],
      "metadata": {
        "id": "J4warHrgNKP1"
      }
    },
    {
      "cell_type": "markdown",
      "metadata": {
        "id": "HltVocsVxIVZ"
      },
      "source": [
        "## Next Steps\n",
        "\n",
        "* Fine-tuning DistilBERT model for text classification\n",
        "\n",
        "\n",
        "\n"
      ]
    },
    {
      "cell_type": "markdown",
      "metadata": {
        "id": "M8MJt_UDu36B"
      },
      "source": [
        "##Google Drive access"
      ]
    },
    {
      "cell_type": "code",
      "execution_count": null,
      "metadata": {
        "id": "YpebIE41u3Mh",
        "colab": {
          "base_uri": "https://localhost:8080/"
        },
        "outputId": "9bb66936-b819-419e-9c03-6088cf81a131"
      },
      "outputs": [
        {
          "output_type": "stream",
          "name": "stdout",
          "text": [
            "Mounted at /content/drive\n"
          ]
        }
      ],
      "source": [
        "from google.colab import drive\n",
        "drive.mount('/content/drive')"
      ]
    },
    {
      "cell_type": "code",
      "execution_count": null,
      "metadata": {
        "id": "f3hBz6OXw3gQ"
      },
      "outputs": [],
      "source": [
        "# Write the appropriate paths to retrieve the data and store results \n",
        "data_path  = '/content/drive/MyDrive/Full_Code/FINRA/Strategy2/Six_Labels/Dataset/Text_file_Strategy2_six_classes.csv'\n",
        "saved_path = '/content/drive/MyDrive/Full_Code/FINRA/Strategy2/Six_Labels/'"
      ]
    },
    {
      "cell_type": "markdown",
      "metadata": {
        "id": "hhdVBYIGW2mH"
      },
      "source": [
        "## Set-up environment\n",
        "\n",
        "Install the libraries folium version 0.2.1 and HuggingFace Datasets"
      ]
    },
    {
      "cell_type": "code",
      "execution_count": null,
      "metadata": {
        "id": "bs0-RE3D76PZ",
        "colab": {
          "base_uri": "https://localhost:8080/"
        },
        "outputId": "dd5b3291-a1a4-4866-e1dd-3d243f1cc468"
      },
      "outputs": [
        {
          "output_type": "stream",
          "name": "stdout",
          "text": [
            "\u001b[K     |████████████████████████████████| 69 kB 2.6 MB/s \n",
            "\u001b[K     |████████████████████████████████| 346 kB 8.9 MB/s \n",
            "\u001b[K     |████████████████████████████████| 1.1 MB 52.2 MB/s \n",
            "\u001b[K     |████████████████████████████████| 212 kB 57.5 MB/s \n",
            "\u001b[K     |████████████████████████████████| 86 kB 4.6 MB/s \n",
            "\u001b[K     |████████████████████████████████| 140 kB 39.8 MB/s \n",
            "\u001b[K     |████████████████████████████████| 86 kB 5.3 MB/s \n",
            "\u001b[K     |████████████████████████████████| 596 kB 52.6 MB/s \n",
            "\u001b[K     |████████████████████████████████| 127 kB 51.9 MB/s \n",
            "\u001b[K     |████████████████████████████████| 271 kB 57.7 MB/s \n",
            "\u001b[K     |████████████████████████████████| 94 kB 3.0 MB/s \n",
            "\u001b[K     |████████████████████████████████| 144 kB 52.8 MB/s \n",
            "\u001b[?25h  Building wheel for folium (setup.py) ... \u001b[?25l\u001b[?25hdone\n"
          ]
        }
      ],
      "source": [
        "#Install the package folium version 0.2.1 and HuggingFace datasets library\n",
        "!pip install -q folium==0.2.1 datasets "
      ]
    },
    {
      "cell_type": "code",
      "execution_count": null,
      "metadata": {
        "id": "bUvk9uQCAspf",
        "colab": {
          "base_uri": "https://localhost:8080/"
        },
        "outputId": "ea85db39-5e7d-4b53-cfea-ff3d649a3694"
      },
      "outputs": [
        {
          "output_type": "stream",
          "name": "stdout",
          "text": [
            "cpu is available\n"
          ]
        }
      ],
      "source": [
        "import torch\n",
        "#Check if GPU is available\n",
        "device = \"cuda:0\" if torch.cuda.is_available() else \"cpu\"\n",
        "print(device, \"is available\")"
      ]
    },
    {
      "cell_type": "markdown",
      "source": [
        "##Memory Allocated"
      ],
      "metadata": {
        "id": "rXXUT_pKzvEy"
      }
    },
    {
      "cell_type": "code",
      "source": [
        "!free -h --si | awk  '/Mem:/{print $2}'"
      ],
      "metadata": {
        "id": "WTu9Y9K2QYVX",
        "colab": {
          "base_uri": "https://localhost:8080/"
        },
        "outputId": "bf1aa0fe-d15f-411a-da1b-665e8b18cb28"
      },
      "execution_count": null,
      "outputs": [
        {
          "output_type": "stream",
          "name": "stdout",
          "text": [
            "13G\n"
          ]
        }
      ]
    },
    {
      "cell_type": "markdown",
      "metadata": {
        "id": "dwnUTHc_WWf9"
      },
      "source": [
        "# Loading the dataset"
      ]
    },
    {
      "cell_type": "code",
      "execution_count": null,
      "metadata": {
        "id": "hSr1m-4emA8l",
        "colab": {
          "base_uri": "https://localhost:8080/",
          "height": 206
        },
        "outputId": "06c89c52-bb03-4283-ec5a-ea2cd4559548"
      },
      "outputs": [
        {
          "output_type": "execute_result",
          "data": {
            "text/plain": [
              "   Rule                                               Text  \\\n",
              "0  3310  Each member shall develop and implement a writ...   \n",
              "1  3310  The anti-money laundering programs required by...   \n",
              "2  3310  Provide for annual (on a calendar-year basis) ...   \n",
              "3  3310  The anti-money laundering programs required by...   \n",
              "4  3310  The anti-money laundering programs required by...   \n",
              "\n",
              "                   Topic  \n",
              "0  Anti-Money Laundering  \n",
              "1  Anti-Money Laundering  \n",
              "2  Anti-Money Laundering  \n",
              "3  Anti-Money Laundering  \n",
              "4  Anti-Money Laundering  "
            ],
            "text/html": [
              "\n",
              "  <div id=\"df-8f7e1571-33bb-4d32-9b8a-310d3d2ae6a2\">\n",
              "    <div class=\"colab-df-container\">\n",
              "      <div>\n",
              "<style scoped>\n",
              "    .dataframe tbody tr th:only-of-type {\n",
              "        vertical-align: middle;\n",
              "    }\n",
              "\n",
              "    .dataframe tbody tr th {\n",
              "        vertical-align: top;\n",
              "    }\n",
              "\n",
              "    .dataframe thead th {\n",
              "        text-align: right;\n",
              "    }\n",
              "</style>\n",
              "<table border=\"1\" class=\"dataframe\">\n",
              "  <thead>\n",
              "    <tr style=\"text-align: right;\">\n",
              "      <th></th>\n",
              "      <th>Rule</th>\n",
              "      <th>Text</th>\n",
              "      <th>Topic</th>\n",
              "    </tr>\n",
              "  </thead>\n",
              "  <tbody>\n",
              "    <tr>\n",
              "      <th>0</th>\n",
              "      <td>3310</td>\n",
              "      <td>Each member shall develop and implement a writ...</td>\n",
              "      <td>Anti-Money Laundering</td>\n",
              "    </tr>\n",
              "    <tr>\n",
              "      <th>1</th>\n",
              "      <td>3310</td>\n",
              "      <td>The anti-money laundering programs required by...</td>\n",
              "      <td>Anti-Money Laundering</td>\n",
              "    </tr>\n",
              "    <tr>\n",
              "      <th>2</th>\n",
              "      <td>3310</td>\n",
              "      <td>Provide for annual (on a calendar-year basis) ...</td>\n",
              "      <td>Anti-Money Laundering</td>\n",
              "    </tr>\n",
              "    <tr>\n",
              "      <th>3</th>\n",
              "      <td>3310</td>\n",
              "      <td>The anti-money laundering programs required by...</td>\n",
              "      <td>Anti-Money Laundering</td>\n",
              "    </tr>\n",
              "    <tr>\n",
              "      <th>4</th>\n",
              "      <td>3310</td>\n",
              "      <td>The anti-money laundering programs required by...</td>\n",
              "      <td>Anti-Money Laundering</td>\n",
              "    </tr>\n",
              "  </tbody>\n",
              "</table>\n",
              "</div>\n",
              "      <button class=\"colab-df-convert\" onclick=\"convertToInteractive('df-8f7e1571-33bb-4d32-9b8a-310d3d2ae6a2')\"\n",
              "              title=\"Convert this dataframe to an interactive table.\"\n",
              "              style=\"display:none;\">\n",
              "        \n",
              "  <svg xmlns=\"http://www.w3.org/2000/svg\" height=\"24px\"viewBox=\"0 0 24 24\"\n",
              "       width=\"24px\">\n",
              "    <path d=\"M0 0h24v24H0V0z\" fill=\"none\"/>\n",
              "    <path d=\"M18.56 5.44l.94 2.06.94-2.06 2.06-.94-2.06-.94-.94-2.06-.94 2.06-2.06.94zm-11 1L8.5 8.5l.94-2.06 2.06-.94-2.06-.94L8.5 2.5l-.94 2.06-2.06.94zm10 10l.94 2.06.94-2.06 2.06-.94-2.06-.94-.94-2.06-.94 2.06-2.06.94z\"/><path d=\"M17.41 7.96l-1.37-1.37c-.4-.4-.92-.59-1.43-.59-.52 0-1.04.2-1.43.59L10.3 9.45l-7.72 7.72c-.78.78-.78 2.05 0 2.83L4 21.41c.39.39.9.59 1.41.59.51 0 1.02-.2 1.41-.59l7.78-7.78 2.81-2.81c.8-.78.8-2.07 0-2.86zM5.41 20L4 18.59l7.72-7.72 1.47 1.35L5.41 20z\"/>\n",
              "  </svg>\n",
              "      </button>\n",
              "      \n",
              "  <style>\n",
              "    .colab-df-container {\n",
              "      display:flex;\n",
              "      flex-wrap:wrap;\n",
              "      gap: 12px;\n",
              "    }\n",
              "\n",
              "    .colab-df-convert {\n",
              "      background-color: #E8F0FE;\n",
              "      border: none;\n",
              "      border-radius: 50%;\n",
              "      cursor: pointer;\n",
              "      display: none;\n",
              "      fill: #1967D2;\n",
              "      height: 32px;\n",
              "      padding: 0 0 0 0;\n",
              "      width: 32px;\n",
              "    }\n",
              "\n",
              "    .colab-df-convert:hover {\n",
              "      background-color: #E2EBFA;\n",
              "      box-shadow: 0px 1px 2px rgba(60, 64, 67, 0.3), 0px 1px 3px 1px rgba(60, 64, 67, 0.15);\n",
              "      fill: #174EA6;\n",
              "    }\n",
              "\n",
              "    [theme=dark] .colab-df-convert {\n",
              "      background-color: #3B4455;\n",
              "      fill: #D2E3FC;\n",
              "    }\n",
              "\n",
              "    [theme=dark] .colab-df-convert:hover {\n",
              "      background-color: #434B5C;\n",
              "      box-shadow: 0px 1px 3px 1px rgba(0, 0, 0, 0.15);\n",
              "      filter: drop-shadow(0px 1px 2px rgba(0, 0, 0, 0.3));\n",
              "      fill: #FFFFFF;\n",
              "    }\n",
              "  </style>\n",
              "\n",
              "      <script>\n",
              "        const buttonEl =\n",
              "          document.querySelector('#df-8f7e1571-33bb-4d32-9b8a-310d3d2ae6a2 button.colab-df-convert');\n",
              "        buttonEl.style.display =\n",
              "          google.colab.kernel.accessAllowed ? 'block' : 'none';\n",
              "\n",
              "        async function convertToInteractive(key) {\n",
              "          const element = document.querySelector('#df-8f7e1571-33bb-4d32-9b8a-310d3d2ae6a2');\n",
              "          const dataTable =\n",
              "            await google.colab.kernel.invokeFunction('convertToInteractive',\n",
              "                                                     [key], {});\n",
              "          if (!dataTable) return;\n",
              "\n",
              "          const docLinkHtml = 'Like what you see? Visit the ' +\n",
              "            '<a target=\"_blank\" href=https://colab.research.google.com/notebooks/data_table.ipynb>data table notebook</a>'\n",
              "            + ' to learn more about interactive tables.';\n",
              "          element.innerHTML = '';\n",
              "          dataTable['output_type'] = 'display_data';\n",
              "          await google.colab.output.renderOutput(dataTable, element);\n",
              "          const docLink = document.createElement('div');\n",
              "          docLink.innerHTML = docLinkHtml;\n",
              "          element.appendChild(docLink);\n",
              "        }\n",
              "      </script>\n",
              "    </div>\n",
              "  </div>\n",
              "  "
            ]
          },
          "metadata": {},
          "execution_count": 6
        }
      ],
      "source": [
        "#Load the data\n",
        "import pandas as pd\n",
        "\n",
        "df = pd.read_csv(data_path)\n",
        "#Display the first five rows in df\n",
        "df.head()\n"
      ]
    },
    {
      "cell_type": "code",
      "source": [
        "#Display information about the dataframe df\n",
        "df.info()"
      ],
      "metadata": {
        "id": "DH2ItFLoD1nT",
        "colab": {
          "base_uri": "https://localhost:8080/"
        },
        "outputId": "30eb477f-6f33-4553-f761-ba5095fc55f0"
      },
      "execution_count": null,
      "outputs": [
        {
          "output_type": "stream",
          "name": "stdout",
          "text": [
            "<class 'pandas.core.frame.DataFrame'>\n",
            "RangeIndex: 91 entries, 0 to 90\n",
            "Data columns (total 3 columns):\n",
            " #   Column  Non-Null Count  Dtype \n",
            "---  ------  --------------  ----- \n",
            " 0   Rule    91 non-null     int64 \n",
            " 1   Text    91 non-null     object\n",
            " 2   Topic   91 non-null     object\n",
            "dtypes: int64(1), object(2)\n",
            "memory usage: 2.3+ KB\n"
          ]
        }
      ]
    },
    {
      "cell_type": "code",
      "source": [
        "#Convert the data type of 'Text' to string\n",
        "df['Text'] = df['Text'].astype(str)\n",
        "#Display information about the dataframe df\n",
        "df.info()"
      ],
      "metadata": {
        "id": "RtXZiLleEBjl",
        "colab": {
          "base_uri": "https://localhost:8080/"
        },
        "outputId": "caebd9b7-ab94-4444-b7de-46c7054a352b"
      },
      "execution_count": null,
      "outputs": [
        {
          "output_type": "stream",
          "name": "stdout",
          "text": [
            "<class 'pandas.core.frame.DataFrame'>\n",
            "RangeIndex: 91 entries, 0 to 90\n",
            "Data columns (total 3 columns):\n",
            " #   Column  Non-Null Count  Dtype \n",
            "---  ------  --------------  ----- \n",
            " 0   Rule    91 non-null     int64 \n",
            " 1   Text    91 non-null     object\n",
            " 2   Topic   91 non-null     object\n",
            "dtypes: int64(1), object(2)\n",
            "memory usage: 2.3+ KB\n"
          ]
        }
      ]
    },
    {
      "cell_type": "code",
      "source": [
        "#Define a function to calculate the number of words in a text\n",
        "def count_words(example):\n",
        "  number_of_words = len(example.split()) \n",
        "  return number_of_words \n",
        "\n",
        "\n",
        "#Calculate the number of words for each 'Text' row in the dataframe df\n",
        "df['number_of_words_Text'] = df['Text'].map(lambda row: count_words(row))\n",
        "#Display Descriptive statistics about the 'number_of_words_Text' column in the dataframe df\n",
        "df['number_of_words_Text'].describe(include='all') "
      ],
      "metadata": {
        "id": "witJRxB0EXXR",
        "colab": {
          "base_uri": "https://localhost:8080/"
        },
        "outputId": "77b8468b-5f63-4de1-f697-6fe97e90466b"
      },
      "execution_count": null,
      "outputs": [
        {
          "output_type": "execute_result",
          "data": {
            "text/plain": [
              "count    91.000000\n",
              "mean     59.901099\n",
              "std      15.566385\n",
              "min      15.000000\n",
              "25%      51.500000\n",
              "50%      63.000000\n",
              "75%      73.000000\n",
              "max      84.000000\n",
              "Name: number_of_words_Text, dtype: float64"
            ]
          },
          "metadata": {},
          "execution_count": 9
        }
      ]
    },
    {
      "cell_type": "code",
      "source": [
        "#Drop Duplicate entries in 'Text' if there exist any in the dataframe df\n",
        "unique_df  = df.drop_duplicates(subset=['Text'])\n",
        "unique_df.info()"
      ],
      "metadata": {
        "id": "3yXLY3twVODw",
        "colab": {
          "base_uri": "https://localhost:8080/"
        },
        "outputId": "f38cee01-48a6-4aaf-a8cb-358c21b940c9"
      },
      "execution_count": null,
      "outputs": [
        {
          "output_type": "stream",
          "name": "stdout",
          "text": [
            "<class 'pandas.core.frame.DataFrame'>\n",
            "Int64Index: 91 entries, 0 to 90\n",
            "Data columns (total 4 columns):\n",
            " #   Column                Non-Null Count  Dtype \n",
            "---  ------                --------------  ----- \n",
            " 0   Rule                  91 non-null     int64 \n",
            " 1   Text                  91 non-null     object\n",
            " 2   Topic                 91 non-null     object\n",
            " 3   number_of_words_Text  91 non-null     int64 \n",
            "dtypes: int64(2), object(2)\n",
            "memory usage: 3.6+ KB\n"
          ]
        }
      ]
    },
    {
      "cell_type": "code",
      "source": [
        "#Create dataframe data with the columns 'Text' and 'Topic' from unique_df\n",
        "data = unique_df[['Text','Topic']].copy()\n",
        "data.info()"
      ],
      "metadata": {
        "id": "yW25cqqgWve6",
        "colab": {
          "base_uri": "https://localhost:8080/"
        },
        "outputId": "ac62e8af-f687-4fe7-d114-cf4a9fe2680a"
      },
      "execution_count": null,
      "outputs": [
        {
          "output_type": "stream",
          "name": "stdout",
          "text": [
            "<class 'pandas.core.frame.DataFrame'>\n",
            "Int64Index: 91 entries, 0 to 90\n",
            "Data columns (total 2 columns):\n",
            " #   Column  Non-Null Count  Dtype \n",
            "---  ------  --------------  ----- \n",
            " 0   Text    91 non-null     object\n",
            " 1   Topic   91 non-null     object\n",
            "dtypes: object(2)\n",
            "memory usage: 2.1+ KB\n"
          ]
        }
      ]
    },
    {
      "cell_type": "code",
      "source": [
        "#Reset the index in data\n",
        "data = data.reset_index(drop=True)\n",
        "data.info()"
      ],
      "metadata": {
        "id": "L7w6pNdqggxp",
        "colab": {
          "base_uri": "https://localhost:8080/"
        },
        "outputId": "512a951f-b771-43c9-ab05-ce287f9383f2"
      },
      "execution_count": null,
      "outputs": [
        {
          "output_type": "stream",
          "name": "stdout",
          "text": [
            "<class 'pandas.core.frame.DataFrame'>\n",
            "RangeIndex: 91 entries, 0 to 90\n",
            "Data columns (total 2 columns):\n",
            " #   Column  Non-Null Count  Dtype \n",
            "---  ------  --------------  ----- \n",
            " 0   Text    91 non-null     object\n",
            " 1   Topic   91 non-null     object\n",
            "dtypes: object(2)\n",
            "memory usage: 1.5+ KB\n"
          ]
        }
      ]
    },
    {
      "cell_type": "code",
      "execution_count": null,
      "metadata": {
        "id": "cHkxjJUqsjlV",
        "colab": {
          "base_uri": "https://localhost:8080/"
        },
        "outputId": "6cfde7cf-ddb1-4b95-a732-fd88c08607d7"
      },
      "outputs": [
        {
          "output_type": "execute_result",
          "data": {
            "text/plain": [
              "Dataset({\n",
              "    features: ['Text', 'Topic'],\n",
              "    num_rows: 91\n",
              "})"
            ]
          },
          "metadata": {},
          "execution_count": 13
        }
      ],
      "source": [
        "#Convert the Data into HuggingFace Dataset\n",
        "from datasets import Dataset\n",
        "dataset = Dataset.from_pandas(data)\n",
        "dataset\n"
      ]
    },
    {
      "cell_type": "markdown",
      "metadata": {
        "id": "MUfKp87VVHI_"
      },
      "source": [
        "Let's look at the features of the dataset"
      ]
    },
    {
      "cell_type": "code",
      "execution_count": null,
      "metadata": {
        "id": "OWINgHQnVJ5f",
        "colab": {
          "base_uri": "https://localhost:8080/"
        },
        "outputId": "82b119c3-9742-4c77-a010-da66cd1486c6"
      },
      "outputs": [
        {
          "output_type": "execute_result",
          "data": {
            "text/plain": [
              "{'Text': Value(dtype='string', id=None),\n",
              " 'Topic': Value(dtype='string', id=None)}"
            ]
          },
          "metadata": {},
          "execution_count": 14
        }
      ],
      "source": [
        "dataset.features"
      ]
    },
    {
      "cell_type": "markdown",
      "metadata": {
        "id": "4KoNgkasXvkF"
      },
      "source": [
        "The dataset has to be split into training, validation and test set. Let's check the first example of the dataset:\n",
        "\n"
      ]
    },
    {
      "cell_type": "code",
      "execution_count": null,
      "metadata": {
        "id": "9mdy4kv_Xq7_",
        "colab": {
          "base_uri": "https://localhost:8080/"
        },
        "outputId": "cec238fe-3f79-4df9-9a01-f8842111a4cc"
      },
      "outputs": [
        {
          "output_type": "execute_result",
          "data": {
            "text/plain": [
              "{'Text': \"Each member shall develop and implement a written anti-money laundering program reasonably designed to achieve and monitor the member's compliance with the requirements of the Bank Secrecy Act (31 U.S.C. 5311, et seq.), and the implementing regulations promulgated thereunder by the Department of the Treasury. Each member's anti-money laundering program must be approved, in writing, by a member of senior management.\",\n",
              " 'Topic': 'Anti-Money Laundering'}"
            ]
          },
          "metadata": {},
          "execution_count": 15
        }
      ],
      "source": [
        "example = dataset[0]\n",
        "example"
      ]
    },
    {
      "cell_type": "markdown",
      "source": [
        "Let's sort the dataset by Topic name"
      ],
      "metadata": {
        "id": "xfz7PZD4Xf69"
      }
    },
    {
      "cell_type": "code",
      "source": [
        "dataset= dataset.sort('Topic')"
      ],
      "metadata": {
        "id": "jC7UEj9nXgqd"
      },
      "execution_count": null,
      "outputs": []
    },
    {
      "cell_type": "markdown",
      "source": [
        "Let's rename the column Topic to label"
      ],
      "metadata": {
        "id": "AFDsOaacYFvh"
      }
    },
    {
      "cell_type": "code",
      "source": [
        "dataset = dataset.rename_column(\"Topic\", \"label\")\n",
        "dataset"
      ],
      "metadata": {
        "id": "KvTcsUTgYCbA",
        "colab": {
          "base_uri": "https://localhost:8080/"
        },
        "outputId": "db670996-2ce2-4112-d594-3afc78e8e080"
      },
      "execution_count": null,
      "outputs": [
        {
          "output_type": "execute_result",
          "data": {
            "text/plain": [
              "Dataset({\n",
              "    features: ['Text', 'label'],\n",
              "    num_rows: 91\n",
              "})"
            ]
          },
          "metadata": {},
          "execution_count": 17
        }
      ]
    },
    {
      "cell_type": "code",
      "source": [
        "import collections \n",
        "#Define the function to check the frequency count of elements in the list\n",
        "def frequency_count(mylist):\n",
        "  frequency = collections.Counter(mylist)\n",
        "  [print(key,':',value) for key, value in frequency.items()]"
      ],
      "metadata": {
        "id": "dfNfkP6bkWM9"
      },
      "execution_count": null,
      "outputs": []
    },
    {
      "cell_type": "code",
      "source": [
        "print(\"The Frequency of label in the Dataset : \\n\")\n",
        "frequency_count(dataset['label'])"
      ],
      "metadata": {
        "id": "f-JIKfcWkXiU",
        "colab": {
          "base_uri": "https://localhost:8080/"
        },
        "outputId": "902a8470-8a91-4447-90ee-46f3e85e2dce"
      },
      "execution_count": null,
      "outputs": [
        {
          "output_type": "stream",
          "name": "stdout",
          "text": [
            "The Frequency of label in the Dataset : \n",
            "\n",
            "Anti-Money Laundering : 10\n",
            "Broker-Dealer Recruitment Disclosures: Complying with FINRA Rule 2273 : 6\n",
            "Business Continuity Planning : 11\n",
            "Electronic Blue Sheets : 25\n",
            "Senior Investors : 29\n",
            "Subordination Agreements : 10\n"
          ]
        }
      ]
    },
    {
      "cell_type": "markdown",
      "metadata": {
        "id": "VsvsAIRAMMVj"
      },
      "source": [
        "The dataset consists of 6 labels."
      ]
    },
    {
      "cell_type": "markdown",
      "metadata": {
        "id": "p9kyy8v_tjkY"
      },
      "source": [
        "Let's create a list that contains the labels, as well as 2 dictionaries that map labels to integers and back."
      ]
    },
    {
      "cell_type": "code",
      "execution_count": null,
      "metadata": {
        "id": "ugIFhNg3trOP",
        "colab": {
          "base_uri": "https://localhost:8080/"
        },
        "outputId": "1c90bf3d-d837-4083-8d1c-49176c255601"
      },
      "outputs": [
        {
          "output_type": "execute_result",
          "data": {
            "text/plain": [
              "['Anti-Money Laundering',\n",
              " 'Broker-Dealer Recruitment Disclosures: Complying with FINRA Rule 2273',\n",
              " 'Business Continuity Planning',\n",
              " 'Electronic Blue Sheets',\n",
              " 'Senior Investors',\n",
              " 'Subordination Agreements']"
            ]
          },
          "metadata": {},
          "execution_count": 20
        }
      ],
      "source": [
        "labels = sorted(list(set(dataset['label'])))\n",
        "id2label = {idx:label for idx, label in enumerate(labels)}\n",
        "label2id = {label:idx for idx, label in enumerate(labels)}\n",
        "labels"
      ]
    },
    {
      "cell_type": "markdown",
      "metadata": {
        "id": "UKukAGDvp7cP"
      },
      "source": [
        "## Splitting the Data into Train, Validation and Test set\n",
        "\n",
        "\n",
        "\n",
        "\n"
      ]
    },
    {
      "cell_type": "code",
      "execution_count": null,
      "metadata": {
        "id": "ol_9v8qaqT7H"
      },
      "outputs": [],
      "source": [
        "fix_seed = 42\n",
        "from sklearn.model_selection import train_test_split\n",
        "\n",
        "# Split data into train and val_test set \n",
        "X= dataset['Text']\n",
        "y= dataset['label']\n",
        "X_train, X_val_test, y_train, y_val_test = train_test_split(X, y, test_size=0.39,stratify=y ,random_state=fix_seed)\n",
        "\n",
        "# Split data into val and test set \n",
        "X_val, X_test, y_val, y_test = train_test_split(X_val_test, y_val_test, test_size=0.50, stratify = y_val_test ,random_state=fix_seed)"
      ]
    },
    {
      "cell_type": "code",
      "execution_count": null,
      "metadata": {
        "id": "pMKJRWshPTVE",
        "colab": {
          "base_uri": "https://localhost:8080/"
        },
        "outputId": "e8415f21-1c35-456a-e150-5b55f40ca1fa"
      },
      "outputs": [
        {
          "output_type": "execute_result",
          "data": {
            "text/plain": [
              "Dataset({\n",
              "    features: ['sentence', 'label'],\n",
              "    num_rows: 55\n",
              "})"
            ]
          },
          "metadata": {},
          "execution_count": 22
        }
      ],
      "source": [
        "# Create the HuggingFace Dataset train_data\n",
        "dict_train = {\"sentence\": X_train,\"label\": y_train}\n",
        "train_data = Dataset.from_dict(dict_train)\n",
        "train_data"
      ]
    },
    {
      "cell_type": "code",
      "execution_count": null,
      "metadata": {
        "id": "c0FTvgIqPTlq",
        "colab": {
          "base_uri": "https://localhost:8080/"
        },
        "outputId": "992046fb-f9c4-45ee-fd6c-799d612a7980"
      },
      "outputs": [
        {
          "output_type": "execute_result",
          "data": {
            "text/plain": [
              "Dataset({\n",
              "    features: ['sentence', 'label'],\n",
              "    num_rows: 18\n",
              "})"
            ]
          },
          "metadata": {},
          "execution_count": 23
        }
      ],
      "source": [
        "#Create the HuggingFace Dataset val_data\n",
        "dict_val = {\"sentence\": X_val,\"label\":y_val}\n",
        "val_data = Dataset.from_dict(dict_val)\n",
        "val_data"
      ]
    },
    {
      "cell_type": "code",
      "source": [
        "#Create the HuggingFace Dataset test_data\n",
        "dict_test = {\"sentence\": X_test,\"label\":y_test}\n",
        "test_data = Dataset.from_dict(dict_test)\n",
        "test_data"
      ],
      "metadata": {
        "id": "WLwpO7nrZsyJ",
        "colab": {
          "base_uri": "https://localhost:8080/"
        },
        "outputId": "fa7b96b8-52b9-443c-b74a-2731a22512cb"
      },
      "execution_count": null,
      "outputs": [
        {
          "output_type": "execute_result",
          "data": {
            "text/plain": [
              "Dataset({\n",
              "    features: ['sentence', 'label'],\n",
              "    num_rows: 18\n",
              "})"
            ]
          },
          "metadata": {},
          "execution_count": 24
        }
      ]
    },
    {
      "cell_type": "markdown",
      "metadata": {
        "id": "tGbsKDXm4QsW"
      },
      "source": [
        "Let's Check the Frequency Count of Train, Validation and Test label data"
      ]
    },
    {
      "cell_type": "code",
      "execution_count": null,
      "metadata": {
        "id": "78X1pl5yVyU2",
        "colab": {
          "base_uri": "https://localhost:8080/"
        },
        "outputId": "e7f212d2-08dd-4215-8027-5510a3256ed9"
      },
      "outputs": [
        {
          "output_type": "stream",
          "name": "stdout",
          "text": [
            "The Frequency of label in train_data : \n",
            "\n",
            "Business Continuity Planning : 7\n",
            "Electronic Blue Sheets : 15\n",
            "Anti-Money Laundering : 6\n",
            "Subordination Agreements : 6\n",
            "Senior Investors : 17\n",
            "Broker-Dealer Recruitment Disclosures: Complying with FINRA Rule 2273 : 4\n"
          ]
        }
      ],
      "source": [
        "#Print the frequency count of label in train_data\n",
        "print(\"The Frequency of label in train_data : \\n\")\n",
        "frequency_count(train_data['label'])"
      ]
    },
    {
      "cell_type": "code",
      "execution_count": null,
      "metadata": {
        "id": "_BdUm8uv4CuD",
        "colab": {
          "base_uri": "https://localhost:8080/"
        },
        "outputId": "9ae31d9f-78f6-4900-a245-771f3176e783"
      },
      "outputs": [
        {
          "output_type": "stream",
          "name": "stdout",
          "text": [
            "The Frequency of label in val_data : \n",
            "\n",
            "Subordination Agreements : 2\n",
            "Anti-Money Laundering : 2\n",
            "Electronic Blue Sheets : 5\n",
            "Senior Investors : 6\n",
            "Business Continuity Planning : 2\n",
            "Broker-Dealer Recruitment Disclosures: Complying with FINRA Rule 2273 : 1\n"
          ]
        }
      ],
      "source": [
        "#Print the frequency count of label in val_data\n",
        "print(\"The Frequency of label in val_data : \\n\")\n",
        "frequency_count(val_data['label'])"
      ]
    },
    {
      "cell_type": "code",
      "execution_count": null,
      "metadata": {
        "id": "zKNP7tWXV2_R",
        "colab": {
          "base_uri": "https://localhost:8080/"
        },
        "outputId": "b0db94ef-0e24-4067-a575-7290bb4fa03e"
      },
      "outputs": [
        {
          "output_type": "stream",
          "name": "stdout",
          "text": [
            "The Frequency of label in test_data : \n",
            "\n",
            "Subordination Agreements : 2\n",
            "Electronic Blue Sheets : 5\n",
            "Senior Investors : 6\n",
            "Anti-Money Laundering : 2\n",
            "Broker-Dealer Recruitment Disclosures: Complying with FINRA Rule 2273 : 1\n",
            "Business Continuity Planning : 2\n"
          ]
        }
      ],
      "source": [
        "#Print the frequency count of label in test_data\n",
        "print(\"The Frequency of label in test_data : \\n\")\n",
        "frequency_count(test_data['label'])"
      ]
    },
    {
      "cell_type": "code",
      "execution_count": null,
      "metadata": {
        "id": "xNZXfECRrzta",
        "colab": {
          "base_uri": "https://localhost:8080/"
        },
        "outputId": "2bfdd4be-00b3-4830-826f-b904f917fabe"
      },
      "outputs": [
        {
          "output_type": "execute_result",
          "data": {
            "text/plain": [
              "DatasetDict({\n",
              "    train: Dataset({\n",
              "        features: ['sentence', 'label'],\n",
              "        num_rows: 55\n",
              "    })\n",
              "    validation: Dataset({\n",
              "        features: ['sentence', 'label'],\n",
              "        num_rows: 18\n",
              "    })\n",
              "    test: Dataset({\n",
              "        features: ['sentence', 'label'],\n",
              "        num_rows: 18\n",
              "    })\n",
              "})"
            ]
          },
          "metadata": {},
          "execution_count": 28
        }
      ],
      "source": [
        "#Create dataset_clean to store the train_data, val_data and test_data\n",
        "from datasets.dataset_dict import DatasetDict\n",
        "dataset_clean = DatasetDict({\n",
        "    'train': train_data,\n",
        "    'validation': val_data,\n",
        "    'test': test_data\n",
        "})\n",
        "dataset_clean"
      ]
    },
    {
      "cell_type": "markdown",
      "metadata": {
        "id": "LFcr-ozDmteM"
      },
      "source": [
        "## Save the Data"
      ]
    },
    {
      "cell_type": "code",
      "execution_count": null,
      "metadata": {
        "id": "PBZrl1QRmvlT",
        "colab": {
          "base_uri": "https://localhost:8080/"
        },
        "outputId": "329bfe40-1ae9-4d49-f56b-51ab592c8fa7"
      },
      "outputs": [
        {
          "output_type": "stream",
          "name": "stdout",
          "text": [
            "\n",
            "Saved dataset_clean\n"
          ]
        }
      ],
      "source": [
        "#Save the HuggingFace Dataset dataset_clean in drive\n",
        "dataset_clean.save_to_disk(saved_path  + \"dataset_clean\")\n",
        "print(\"\\nSaved dataset_clean\")"
      ]
    }
  ],
  "metadata": {
    "colab": {
      "collapsed_sections": [],
      "name": "Part1_HuggingFace_Dataset.ipynb",
      "provenance": []
    },
    "kernelspec": {
      "display_name": "Python 3",
      "name": "python3"
    },
    "language_info": {
      "name": "python"
    }
  },
  "nbformat": 4,
  "nbformat_minor": 0
}