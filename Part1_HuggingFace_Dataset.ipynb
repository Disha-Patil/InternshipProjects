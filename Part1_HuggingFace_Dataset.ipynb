{
  "cells": [
    {
      "cell_type": "markdown",
      "metadata": {
        "id": "6GkxfuQ8ob0R"
      },
      "source": [
        "#About the Data\n",
        "\n",
        "* The data was taken from \n",
        "https://www.eba.europa.eu/sites/default/documents/files/documents/10180/2321183/b67323ac-27fa-482d-926e-ae7ba3e90cb8/Annex%20III%20%28Annex%205%20%28FINREP%29%29.pdf?msclkid=fc3c7b21b0af11ec8242e40ef60465b7\n",
        "\n",
        "* The Data consist of four columns: Rule_number, Text, Topic and Character_count.<br>\n",
        "  - Rule_number: FINREP Rule number.\n",
        "  - Text: List of rules.\n",
        "  - Topic: Category to which the rule belongs.\n",
        " -  Character_count: The number of characters in 'Text'.\n",
        "\n",
        "* Each rule under the the headings:<br>\n",
        "\n",
        "  1. Equity\n",
        "  2. Statement of profit or loss \n",
        "  3. Statement of comprehensive income \n",
        "  4. Breakdown of financial assets by instrument and by counterparty sector \n",
        "  5. Breakdown of non-trading loans and advances by product \n",
        "  6. Breakdown of non-trading loans and advances to non-financial corporations by NACE codes\n",
        "  7. Financial assets subject to impairment that are past due \n",
        "  8. Breakdown of financial liabilities\n",
        "  9. Loan commitments, financial guarantees and other commitments \n",
        "  10. Derivatives and hedge accounting\n",
        "  11. Movements in allowances and provisions for credit losses\n",
        "  12. Collateral and guarantees received \n",
        "\n",
        "are taken as a text (page 16 - 46)\n",
        "\n",
        "* Rules are seperated by their rule number. For instance, 'Rule no. 175' and 'Rule no. 175i' are taken as seperate text.\n",
        "\n",
        "\n",
        "\n"
      ]
    },
    {
      "cell_type": "markdown",
      "source": [
        "# Text Preprocessing\n",
        "\n",
        "* The line break ‘\\n’ is removed from the text.\n",
        "\n",
        "* Round and square parantheses are removed.\n",
        "\n",
        "* Text contatined within round paranthesis are removed.\n",
        "\n",
        "* Text contatined within square paranthesis are removed.\n",
        "\n",
        "* No summarization was done.\n"
      ],
      "metadata": {
        "id": "J4warHrgNKP1"
      }
    },
    {
      "cell_type": "markdown",
      "metadata": {
        "id": "HltVocsVxIVZ"
      },
      "source": [
        "## Next Steps\n",
        "\n",
        "* Fine-tuning DistilBERT model for text classification\n",
        "\n",
        "\n",
        "\n"
      ]
    },
    {
      "cell_type": "markdown",
      "metadata": {
        "id": "M8MJt_UDu36B"
      },
      "source": [
        "##Google Drive access"
      ]
    },
    {
      "cell_type": "code",
      "execution_count": null,
      "metadata": {
        "colab": {
          "base_uri": "https://localhost:8080/"
        },
        "id": "YpebIE41u3Mh",
        "outputId": "39273440-b048-4ac3-e456-d37006b935e3"
      },
      "outputs": [
        {
          "output_type": "stream",
          "name": "stdout",
          "text": [
            "Mounted at /content/drive\n"
          ]
        }
      ],
      "source": [
        "from google.colab import drive\n",
        "drive.mount('/content/drive')"
      ]
    },
    {
      "cell_type": "code",
      "execution_count": null,
      "metadata": {
        "id": "f3hBz6OXw3gQ"
      },
      "outputs": [],
      "source": [
        "# Write the appropriate paths to retrieve the data and store results \n",
        "data_path  = '/content/drive/MyDrive/Full_Code/FINREP/Dataset/FINREP_Regulations.csv'\n",
        "saved_path = '/content/drive/MyDrive/Full_Code/FINREP/Parentheses_Removed/'"
      ]
    },
    {
      "cell_type": "markdown",
      "metadata": {
        "id": "hhdVBYIGW2mH"
      },
      "source": [
        "## Set-up environment\n",
        "\n",
        "Install the libraries folium version 0.2.1 and HuggingFace Datasets"
      ]
    },
    {
      "cell_type": "code",
      "execution_count": null,
      "metadata": {
        "id": "bs0-RE3D76PZ",
        "colab": {
          "base_uri": "https://localhost:8080/"
        },
        "outputId": "2cca664f-329a-4da0-9f22-a4803a57e193"
      },
      "outputs": [
        {
          "output_type": "stream",
          "name": "stdout",
          "text": [
            "\u001b[K     |████████████████████████████████| 69 kB 4.5 MB/s \n",
            "\u001b[K     |████████████████████████████████| 346 kB 23.8 MB/s \n",
            "\u001b[K     |████████████████████████████████| 84 kB 2.8 MB/s \n",
            "\u001b[K     |████████████████████████████████| 140 kB 64.0 MB/s \n",
            "\u001b[K     |████████████████████████████████| 86 kB 5.0 MB/s \n",
            "\u001b[K     |████████████████████████████████| 1.1 MB 64.7 MB/s \n",
            "\u001b[K     |████████████████████████████████| 212 kB 66.8 MB/s \n",
            "\u001b[K     |████████████████████████████████| 127 kB 60.4 MB/s \n",
            "\u001b[K     |████████████████████████████████| 94 kB 3.3 MB/s \n",
            "\u001b[K     |████████████████████████████████| 144 kB 70.4 MB/s \n",
            "\u001b[K     |████████████████████████████████| 271 kB 63.6 MB/s \n",
            "\u001b[?25h  Building wheel for folium (setup.py) ... \u001b[?25l\u001b[?25hdone\n"
          ]
        }
      ],
      "source": [
        "#Install the package folium version 0.2.1 and HuggingFace datasets library\n",
        "!pip install -q folium==0.2.1 datasets "
      ]
    },
    {
      "cell_type": "code",
      "execution_count": null,
      "metadata": {
        "colab": {
          "base_uri": "https://localhost:8080/"
        },
        "id": "bUvk9uQCAspf",
        "outputId": "21940faa-f0fe-454b-89f8-f46042629095"
      },
      "outputs": [
        {
          "output_type": "stream",
          "name": "stdout",
          "text": [
            "cpu is available\n"
          ]
        }
      ],
      "source": [
        "import torch\n",
        "#Check if GPU is available\n",
        "device = \"cuda:0\" if torch.cuda.is_available() else \"cpu\"\n",
        "print(device, \"is available\")"
      ]
    },
    {
      "cell_type": "markdown",
      "source": [
        "##Memory Allocated"
      ],
      "metadata": {
        "id": "rXXUT_pKzvEy"
      }
    },
    {
      "cell_type": "code",
      "source": [
        "!free -h --si | awk  '/Mem:/{print $2}'"
      ],
      "metadata": {
        "colab": {
          "base_uri": "https://localhost:8080/"
        },
        "id": "WTu9Y9K2QYVX",
        "outputId": "51847fd8-aafb-4ca3-f004-78b351058039"
      },
      "execution_count": null,
      "outputs": [
        {
          "output_type": "stream",
          "name": "stdout",
          "text": [
            "13G\n"
          ]
        }
      ]
    },
    {
      "cell_type": "markdown",
      "metadata": {
        "id": "dwnUTHc_WWf9"
      },
      "source": [
        "# Loading the dataset"
      ]
    },
    {
      "cell_type": "code",
      "execution_count": null,
      "metadata": {
        "colab": {
          "base_uri": "https://localhost:8080/",
          "height": 206
        },
        "id": "hSr1m-4emA8l",
        "outputId": "9c2897cf-d2f2-493d-8d7c-6a2a20ef3f91"
      },
      "outputs": [
        {
          "output_type": "execute_result",
          "data": {
            "text/plain": [
              "  Rule_number                                               Text   Topic  \\\n",
              "0        16.0  Under IFRS equity instruments that are financi...  Equity   \n",
              "1        17.0  Under the relevant national GAAP based on BAD,...  Equity   \n",
              "2        18.0  ‘Equity component of compound financial instru...  Equity   \n",
              "3        19.0  ‘Other equity instruments issued’ shall includ...  Equity   \n",
              "4        20.0  ‘Other equity’ shall comprise all equity instr...  Equity   \n",
              "\n",
              "   Character_count  \n",
              "0              117  \n",
              "1              683  \n",
              "2              416  \n",
              "3              176  \n",
              "4              173  "
            ],
            "text/html": [
              "\n",
              "  <div id=\"df-4cd627aa-f9d4-443b-9723-f05b7fa400c8\">\n",
              "    <div class=\"colab-df-container\">\n",
              "      <div>\n",
              "<style scoped>\n",
              "    .dataframe tbody tr th:only-of-type {\n",
              "        vertical-align: middle;\n",
              "    }\n",
              "\n",
              "    .dataframe tbody tr th {\n",
              "        vertical-align: top;\n",
              "    }\n",
              "\n",
              "    .dataframe thead th {\n",
              "        text-align: right;\n",
              "    }\n",
              "</style>\n",
              "<table border=\"1\" class=\"dataframe\">\n",
              "  <thead>\n",
              "    <tr style=\"text-align: right;\">\n",
              "      <th></th>\n",
              "      <th>Rule_number</th>\n",
              "      <th>Text</th>\n",
              "      <th>Topic</th>\n",
              "      <th>Character_count</th>\n",
              "    </tr>\n",
              "  </thead>\n",
              "  <tbody>\n",
              "    <tr>\n",
              "      <th>0</th>\n",
              "      <td>16.0</td>\n",
              "      <td>Under IFRS equity instruments that are financi...</td>\n",
              "      <td>Equity</td>\n",
              "      <td>117</td>\n",
              "    </tr>\n",
              "    <tr>\n",
              "      <th>1</th>\n",
              "      <td>17.0</td>\n",
              "      <td>Under the relevant national GAAP based on BAD,...</td>\n",
              "      <td>Equity</td>\n",
              "      <td>683</td>\n",
              "    </tr>\n",
              "    <tr>\n",
              "      <th>2</th>\n",
              "      <td>18.0</td>\n",
              "      <td>‘Equity component of compound financial instru...</td>\n",
              "      <td>Equity</td>\n",
              "      <td>416</td>\n",
              "    </tr>\n",
              "    <tr>\n",
              "      <th>3</th>\n",
              "      <td>19.0</td>\n",
              "      <td>‘Other equity instruments issued’ shall includ...</td>\n",
              "      <td>Equity</td>\n",
              "      <td>176</td>\n",
              "    </tr>\n",
              "    <tr>\n",
              "      <th>4</th>\n",
              "      <td>20.0</td>\n",
              "      <td>‘Other equity’ shall comprise all equity instr...</td>\n",
              "      <td>Equity</td>\n",
              "      <td>173</td>\n",
              "    </tr>\n",
              "  </tbody>\n",
              "</table>\n",
              "</div>\n",
              "      <button class=\"colab-df-convert\" onclick=\"convertToInteractive('df-4cd627aa-f9d4-443b-9723-f05b7fa400c8')\"\n",
              "              title=\"Convert this dataframe to an interactive table.\"\n",
              "              style=\"display:none;\">\n",
              "        \n",
              "  <svg xmlns=\"http://www.w3.org/2000/svg\" height=\"24px\"viewBox=\"0 0 24 24\"\n",
              "       width=\"24px\">\n",
              "    <path d=\"M0 0h24v24H0V0z\" fill=\"none\"/>\n",
              "    <path d=\"M18.56 5.44l.94 2.06.94-2.06 2.06-.94-2.06-.94-.94-2.06-.94 2.06-2.06.94zm-11 1L8.5 8.5l.94-2.06 2.06-.94-2.06-.94L8.5 2.5l-.94 2.06-2.06.94zm10 10l.94 2.06.94-2.06 2.06-.94-2.06-.94-.94-2.06-.94 2.06-2.06.94z\"/><path d=\"M17.41 7.96l-1.37-1.37c-.4-.4-.92-.59-1.43-.59-.52 0-1.04.2-1.43.59L10.3 9.45l-7.72 7.72c-.78.78-.78 2.05 0 2.83L4 21.41c.39.39.9.59 1.41.59.51 0 1.02-.2 1.41-.59l7.78-7.78 2.81-2.81c.8-.78.8-2.07 0-2.86zM5.41 20L4 18.59l7.72-7.72 1.47 1.35L5.41 20z\"/>\n",
              "  </svg>\n",
              "      </button>\n",
              "      \n",
              "  <style>\n",
              "    .colab-df-container {\n",
              "      display:flex;\n",
              "      flex-wrap:wrap;\n",
              "      gap: 12px;\n",
              "    }\n",
              "\n",
              "    .colab-df-convert {\n",
              "      background-color: #E8F0FE;\n",
              "      border: none;\n",
              "      border-radius: 50%;\n",
              "      cursor: pointer;\n",
              "      display: none;\n",
              "      fill: #1967D2;\n",
              "      height: 32px;\n",
              "      padding: 0 0 0 0;\n",
              "      width: 32px;\n",
              "    }\n",
              "\n",
              "    .colab-df-convert:hover {\n",
              "      background-color: #E2EBFA;\n",
              "      box-shadow: 0px 1px 2px rgba(60, 64, 67, 0.3), 0px 1px 3px 1px rgba(60, 64, 67, 0.15);\n",
              "      fill: #174EA6;\n",
              "    }\n",
              "\n",
              "    [theme=dark] .colab-df-convert {\n",
              "      background-color: #3B4455;\n",
              "      fill: #D2E3FC;\n",
              "    }\n",
              "\n",
              "    [theme=dark] .colab-df-convert:hover {\n",
              "      background-color: #434B5C;\n",
              "      box-shadow: 0px 1px 3px 1px rgba(0, 0, 0, 0.15);\n",
              "      filter: drop-shadow(0px 1px 2px rgba(0, 0, 0, 0.3));\n",
              "      fill: #FFFFFF;\n",
              "    }\n",
              "  </style>\n",
              "\n",
              "      <script>\n",
              "        const buttonEl =\n",
              "          document.querySelector('#df-4cd627aa-f9d4-443b-9723-f05b7fa400c8 button.colab-df-convert');\n",
              "        buttonEl.style.display =\n",
              "          google.colab.kernel.accessAllowed ? 'block' : 'none';\n",
              "\n",
              "        async function convertToInteractive(key) {\n",
              "          const element = document.querySelector('#df-4cd627aa-f9d4-443b-9723-f05b7fa400c8');\n",
              "          const dataTable =\n",
              "            await google.colab.kernel.invokeFunction('convertToInteractive',\n",
              "                                                     [key], {});\n",
              "          if (!dataTable) return;\n",
              "\n",
              "          const docLinkHtml = 'Like what you see? Visit the ' +\n",
              "            '<a target=\"_blank\" href=https://colab.research.google.com/notebooks/data_table.ipynb>data table notebook</a>'\n",
              "            + ' to learn more about interactive tables.';\n",
              "          element.innerHTML = '';\n",
              "          dataTable['output_type'] = 'display_data';\n",
              "          await google.colab.output.renderOutput(dataTable, element);\n",
              "          const docLink = document.createElement('div');\n",
              "          docLink.innerHTML = docLinkHtml;\n",
              "          element.appendChild(docLink);\n",
              "        }\n",
              "      </script>\n",
              "    </div>\n",
              "  </div>\n",
              "  "
            ]
          },
          "metadata": {},
          "execution_count": 6
        }
      ],
      "source": [
        "#Load the data\n",
        "import pandas as pd\n",
        "\n",
        "df = pd.read_csv(data_path)\n",
        "#Display the first five rows in df\n",
        "df.head()\n"
      ]
    },
    {
      "cell_type": "code",
      "source": [
        "#Display information about the dataframe df\n",
        "df.info()"
      ],
      "metadata": {
        "colab": {
          "base_uri": "https://localhost:8080/"
        },
        "id": "DH2ItFLoD1nT",
        "outputId": "177430a4-8384-404f-a02d-1efa14ff3f4f"
      },
      "execution_count": null,
      "outputs": [
        {
          "output_type": "stream",
          "name": "stdout",
          "text": [
            "<class 'pandas.core.frame.DataFrame'>\n",
            "RangeIndex: 165 entries, 0 to 164\n",
            "Data columns (total 4 columns):\n",
            " #   Column           Non-Null Count  Dtype \n",
            "---  ------           --------------  ----- \n",
            " 0   Rule_number      165 non-null    object\n",
            " 1   Text             165 non-null    object\n",
            " 2   Topic            165 non-null    object\n",
            " 3   Character_count  165 non-null    int64 \n",
            "dtypes: int64(1), object(3)\n",
            "memory usage: 5.3+ KB\n"
          ]
        }
      ]
    },
    {
      "cell_type": "code",
      "source": [
        "#Convert the data type of 'Text' to string\n",
        "df['Text'] = df['Text'].astype(str)\n",
        "#Display information about the dataframe df\n",
        "df.info()"
      ],
      "metadata": {
        "colab": {
          "base_uri": "https://localhost:8080/"
        },
        "id": "RtXZiLleEBjl",
        "outputId": "1023beda-e355-4230-f20e-3144e1944b94"
      },
      "execution_count": null,
      "outputs": [
        {
          "output_type": "stream",
          "name": "stdout",
          "text": [
            "<class 'pandas.core.frame.DataFrame'>\n",
            "RangeIndex: 165 entries, 0 to 164\n",
            "Data columns (total 4 columns):\n",
            " #   Column           Non-Null Count  Dtype \n",
            "---  ------           --------------  ----- \n",
            " 0   Rule_number      165 non-null    object\n",
            " 1   Text             165 non-null    object\n",
            " 2   Topic            165 non-null    object\n",
            " 3   Character_count  165 non-null    int64 \n",
            "dtypes: int64(1), object(3)\n",
            "memory usage: 5.3+ KB\n"
          ]
        }
      ]
    },
    {
      "cell_type": "code",
      "source": [
        "#Define a function to calculate the number of words in a text\n",
        "def count_words(example):\n",
        "  number_of_words = len(example.split()) \n",
        "  return number_of_words \n",
        "\n",
        "\n",
        "#Calculate the number of words for each 'Text' row in the dataframe df\n",
        "df['number_of_words_Text'] = df['Text'].map(lambda row: count_words(row))\n",
        "#Display Descriptive statistics about the 'number_of_words_Text' column in the dataframe df\n",
        "df['number_of_words_Text'].describe(include='all') "
      ],
      "metadata": {
        "colab": {
          "base_uri": "https://localhost:8080/"
        },
        "id": "witJRxB0EXXR",
        "outputId": "4a2ebd9e-4028-4e82-a829-7a7467abcf03"
      },
      "execution_count": null,
      "outputs": [
        {
          "output_type": "execute_result",
          "data": {
            "text/plain": [
              "count    165.000000\n",
              "mean      77.800000\n",
              "std       61.292004\n",
              "min        9.000000\n",
              "25%       41.000000\n",
              "50%       62.000000\n",
              "75%       97.000000\n",
              "max      501.000000\n",
              "Name: number_of_words_Text, dtype: float64"
            ]
          },
          "metadata": {},
          "execution_count": 9
        }
      ]
    },
    {
      "cell_type": "code",
      "source": [
        "#Define a function remove_pattern to remove the newline character, parenthesis and the text present within parenthesis from the text\n",
        "import re\n",
        "def remove_pattern(example):\n",
        "  patterns = '\\(.*?\\)|\\[.*?\\]|\\n|\\s\\(.*?\\)|\\s\\[.*?\\]|\\(.*?\\)\\s|\\[.*?\\]\\s|\\s\\(.*?\\)\\s|\\s\\[.*?\\]\\s'\n",
        "  pattern_removed_text = re.sub(patterns,'',example)\n",
        "  return pattern_removed_text\n",
        "\n",
        "#Remove the newline character, parenthesis and the text present within parenthesis in 'Text' in the dataframe df\n",
        "df['Pattern_Removed_Text'] = df['Text'].map(lambda row : remove_pattern(row))\n",
        "\n",
        "#Calculate the number of words in each 'Pattern_Removed_Text' row in the df\n",
        "df['number_of_words_pattern_removed_Text'] = df['Pattern_Removed_Text'].map(lambda x: len(x.split()))\n"
      ],
      "metadata": {
        "id": "biu1-HheH_l4"
      },
      "execution_count": null,
      "outputs": []
    },
    {
      "cell_type": "code",
      "source": [
        "\n",
        "#Calculate the number of words in each 'Pattern_Removed_Text' row in the df\n",
        "df['number_of_words_pattern_removed_Text'] = df['Pattern_Removed_Text'].map(lambda x: len(x.split()))\n"
      ],
      "metadata": {
        "id": "xaAx8-mFPjgC"
      },
      "execution_count": null,
      "outputs": []
    },
    {
      "cell_type": "code",
      "source": [
        "#Display Descriptive statistics about the 'number_of_words_pattern_removed_Text' column in the dataframe df\n",
        "df['number_of_words_pattern_removed_Text'].describe(include='all') "
      ],
      "metadata": {
        "colab": {
          "base_uri": "https://localhost:8080/"
        },
        "id": "fsx3minbH_st",
        "outputId": "4eee8d0f-322c-4226-c044-1a70b7476f3c"
      },
      "execution_count": null,
      "outputs": [
        {
          "output_type": "execute_result",
          "data": {
            "text/plain": [
              "count    165.000000\n",
              "mean      75.084848\n",
              "std       57.031699\n",
              "min        9.000000\n",
              "25%       40.000000\n",
              "50%       59.000000\n",
              "75%       97.000000\n",
              "max      479.000000\n",
              "Name: number_of_words_pattern_removed_Text, dtype: float64"
            ]
          },
          "metadata": {},
          "execution_count": 12
        }
      ]
    },
    {
      "cell_type": "code",
      "source": [
        "#Download the dataframe df for future reference\n",
        "df.to_csv(saved_path + \"FINREP_data_pattern_removed.csv\", encoding='utf-8', index=False)\n",
        "print(\"\\n Saved: FINREP_data_pattern_removed.csv\")"
      ],
      "metadata": {
        "id": "q2vM2qEFTlDS",
        "colab": {
          "base_uri": "https://localhost:8080/"
        },
        "outputId": "0e3e17d9-1faf-4f04-e88b-8a6222c0b8ec"
      },
      "execution_count": null,
      "outputs": [
        {
          "output_type": "stream",
          "name": "stdout",
          "text": [
            "\n",
            " Saved: FINREP_data_pattern_removed.csv\n"
          ]
        }
      ]
    },
    {
      "cell_type": "code",
      "source": [
        "#Filter entries for which the word count in 'number_of_words_pattern_removed_Text' is atleast 7 in the dataframe df\n",
        "df1 = df.query('number_of_words_pattern_removed_Text >= 7')\n",
        "df1.info()"
      ],
      "metadata": {
        "colab": {
          "base_uri": "https://localhost:8080/"
        },
        "id": "vFCLL16CUB_8",
        "outputId": "488f2755-cc64-4a55-adbc-9b4456f8c1b1"
      },
      "execution_count": null,
      "outputs": [
        {
          "output_type": "stream",
          "name": "stdout",
          "text": [
            "<class 'pandas.core.frame.DataFrame'>\n",
            "Int64Index: 165 entries, 0 to 164\n",
            "Data columns (total 7 columns):\n",
            " #   Column                                Non-Null Count  Dtype \n",
            "---  ------                                --------------  ----- \n",
            " 0   Rule_number                           165 non-null    object\n",
            " 1   Text                                  165 non-null    object\n",
            " 2   Topic                                 165 non-null    object\n",
            " 3   Character_count                       165 non-null    int64 \n",
            " 4   number_of_words_Text                  165 non-null    int64 \n",
            " 5   Pattern_Removed_Text                  165 non-null    object\n",
            " 6   number_of_words_pattern_removed_Text  165 non-null    int64 \n",
            "dtypes: int64(3), object(4)\n",
            "memory usage: 10.3+ KB\n"
          ]
        }
      ]
    },
    {
      "cell_type": "code",
      "source": [
        "#Drop Duplicate entries in 'Pattern_Removed_Text' if there exist any in the dataframe df1\n",
        "unique_df  = df1.drop_duplicates(subset=['Pattern_Removed_Text'])\n",
        "unique_df.info()"
      ],
      "metadata": {
        "colab": {
          "base_uri": "https://localhost:8080/"
        },
        "id": "3yXLY3twVODw",
        "outputId": "fbf91770-d6e3-4d4c-c629-593108e25e95"
      },
      "execution_count": null,
      "outputs": [
        {
          "output_type": "stream",
          "name": "stdout",
          "text": [
            "<class 'pandas.core.frame.DataFrame'>\n",
            "Int64Index: 165 entries, 0 to 164\n",
            "Data columns (total 7 columns):\n",
            " #   Column                                Non-Null Count  Dtype \n",
            "---  ------                                --------------  ----- \n",
            " 0   Rule_number                           165 non-null    object\n",
            " 1   Text                                  165 non-null    object\n",
            " 2   Topic                                 165 non-null    object\n",
            " 3   Character_count                       165 non-null    int64 \n",
            " 4   number_of_words_Text                  165 non-null    int64 \n",
            " 5   Pattern_Removed_Text                  165 non-null    object\n",
            " 6   number_of_words_pattern_removed_Text  165 non-null    int64 \n",
            "dtypes: int64(3), object(4)\n",
            "memory usage: 10.3+ KB\n"
          ]
        }
      ]
    },
    {
      "cell_type": "code",
      "source": [
        "#Create dataframe data with the columns 'Pattern_Removed_Text' and 'Topic' from unique_df\n",
        "data = unique_df[['Pattern_Removed_Text','Topic']].copy()\n",
        "data.info()"
      ],
      "metadata": {
        "colab": {
          "base_uri": "https://localhost:8080/"
        },
        "id": "yW25cqqgWve6",
        "outputId": "ce38a114-b19e-4cf4-f76f-379bc7a5fdf2"
      },
      "execution_count": null,
      "outputs": [
        {
          "output_type": "stream",
          "name": "stdout",
          "text": [
            "<class 'pandas.core.frame.DataFrame'>\n",
            "Int64Index: 165 entries, 0 to 164\n",
            "Data columns (total 2 columns):\n",
            " #   Column                Non-Null Count  Dtype \n",
            "---  ------                --------------  ----- \n",
            " 0   Pattern_Removed_Text  165 non-null    object\n",
            " 1   Topic                 165 non-null    object\n",
            "dtypes: object(2)\n",
            "memory usage: 3.9+ KB\n"
          ]
        }
      ]
    },
    {
      "cell_type": "code",
      "source": [
        "#Reset the index in data\n",
        "data = data.reset_index(drop=True)\n",
        "data.info()"
      ],
      "metadata": {
        "colab": {
          "base_uri": "https://localhost:8080/"
        },
        "id": "L7w6pNdqggxp",
        "outputId": "8ce3ee64-355f-4b44-9497-e6b740cb878a"
      },
      "execution_count": null,
      "outputs": [
        {
          "output_type": "stream",
          "name": "stdout",
          "text": [
            "<class 'pandas.core.frame.DataFrame'>\n",
            "RangeIndex: 165 entries, 0 to 164\n",
            "Data columns (total 2 columns):\n",
            " #   Column                Non-Null Count  Dtype \n",
            "---  ------                --------------  ----- \n",
            " 0   Pattern_Removed_Text  165 non-null    object\n",
            " 1   Topic                 165 non-null    object\n",
            "dtypes: object(2)\n",
            "memory usage: 2.7+ KB\n"
          ]
        }
      ]
    },
    {
      "cell_type": "code",
      "execution_count": null,
      "metadata": {
        "colab": {
          "base_uri": "https://localhost:8080/"
        },
        "id": "cHkxjJUqsjlV",
        "outputId": "c79e7c4d-5bb6-4651-af23-34225fc2a46f"
      },
      "outputs": [
        {
          "output_type": "execute_result",
          "data": {
            "text/plain": [
              "Dataset({\n",
              "    features: ['Pattern_Removed_Text', 'Topic'],\n",
              "    num_rows: 165\n",
              "})"
            ]
          },
          "metadata": {},
          "execution_count": 18
        }
      ],
      "source": [
        "#Convert the Data into HuggingFace Dataset\n",
        "from datasets import Dataset\n",
        "dataset = Dataset.from_pandas(data)\n",
        "dataset\n"
      ]
    },
    {
      "cell_type": "markdown",
      "metadata": {
        "id": "MUfKp87VVHI_"
      },
      "source": [
        "Let's look at the features of the dataset"
      ]
    },
    {
      "cell_type": "code",
      "execution_count": null,
      "metadata": {
        "colab": {
          "base_uri": "https://localhost:8080/"
        },
        "id": "OWINgHQnVJ5f",
        "outputId": "15fef90a-73e4-4ab1-f559-bb7adf60d042"
      },
      "outputs": [
        {
          "output_type": "execute_result",
          "data": {
            "text/plain": [
              "{'Pattern_Removed_Text': Value(dtype='string', id=None),\n",
              " 'Topic': Value(dtype='string', id=None)}"
            ]
          },
          "metadata": {},
          "execution_count": 19
        }
      ],
      "source": [
        "dataset.features"
      ]
    },
    {
      "cell_type": "markdown",
      "metadata": {
        "id": "4KoNgkasXvkF"
      },
      "source": [
        "The dataset has to be split into training, validation and test set. Let's check the first example of the dataset:\n",
        "\n"
      ]
    },
    {
      "cell_type": "code",
      "execution_count": null,
      "metadata": {
        "colab": {
          "base_uri": "https://localhost:8080/"
        },
        "id": "9mdy4kv_Xq7_",
        "outputId": "0b446e76-73e9-4acc-dbd9-46bc49209fc3"
      },
      "outputs": [
        {
          "output_type": "execute_result",
          "data": {
            "text/plain": [
              "{'Pattern_Removed_Text': 'Under IFRS equity instruments that are financial instruments shall include those contracts under the scope of IAS 32.',\n",
              " 'Topic': 'Equity'}"
            ]
          },
          "metadata": {},
          "execution_count": 20
        }
      ],
      "source": [
        "example = dataset[0]\n",
        "example"
      ]
    },
    {
      "cell_type": "markdown",
      "source": [
        "Let's sort the dataset by Topic name"
      ],
      "metadata": {
        "id": "xfz7PZD4Xf69"
      }
    },
    {
      "cell_type": "code",
      "source": [
        "dataset= dataset.sort('Topic')"
      ],
      "metadata": {
        "id": "jC7UEj9nXgqd"
      },
      "execution_count": null,
      "outputs": []
    },
    {
      "cell_type": "markdown",
      "source": [
        "Let's rename the column Topic to label"
      ],
      "metadata": {
        "id": "AFDsOaacYFvh"
      }
    },
    {
      "cell_type": "code",
      "source": [
        "dataset = dataset.rename_column(\"Topic\", \"label\")\n",
        "dataset"
      ],
      "metadata": {
        "colab": {
          "base_uri": "https://localhost:8080/"
        },
        "id": "KvTcsUTgYCbA",
        "outputId": "356e1a37-ed04-4ff5-e1d1-eb9b2bf98202"
      },
      "execution_count": null,
      "outputs": [
        {
          "output_type": "execute_result",
          "data": {
            "text/plain": [
              "Dataset({\n",
              "    features: ['Pattern_Removed_Text', 'label'],\n",
              "    num_rows: 165\n",
              "})"
            ]
          },
          "metadata": {},
          "execution_count": 22
        }
      ]
    },
    {
      "cell_type": "code",
      "source": [
        "import collections \n",
        "#Define the function to check the frequency count of elements in the list\n",
        "def frequency_count(mylist):\n",
        "  frequency = collections.Counter(mylist)\n",
        "  [print(key,':',value) for key, value in frequency.items()]"
      ],
      "metadata": {
        "id": "dfNfkP6bkWM9"
      },
      "execution_count": null,
      "outputs": []
    },
    {
      "cell_type": "code",
      "source": [
        "print(\"The Frequency of label in the Dataset : \\n\")\n",
        "frequency_count(dataset['label'])"
      ],
      "metadata": {
        "colab": {
          "base_uri": "https://localhost:8080/"
        },
        "id": "f-JIKfcWkXiU",
        "outputId": "93e6db65-aa5c-4ffa-8629-5fdccdad3376"
      },
      "execution_count": null,
      "outputs": [
        {
          "output_type": "stream",
          "name": "stdout",
          "text": [
            "The Frequency of label in the Dataset : \n",
            "\n",
            "BREAKDOWN OF FINANCIAL ASSETS BY INSTRUMENT AND BY COUNTERPARTY SECTOR : 16\n",
            "BREAKDOWN OF FINANCIAL LIABILITIES : 5\n",
            "BREAKDOWN OF NON-TRADING LOANS AND ADVANCES BY PRODUCT : 7\n",
            "BREAKDOWN OF NON-TRADING LOANS AND ADVANCES TO NON-FINANCIAL CORPORATIONS BY NACE CODES : 4\n",
            "COLLATERAL AND GUARANTEES RECEIVED : 8\n",
            "DERIVATIVES AND HEDGE ACCOUNTING : 33\n",
            "Equity : 15\n",
            "FINANCIAL ASSETS SUBJECT TO IMPAIRMENT THAT ARE PAST DUE : 3\n",
            "LOAN COMMITMENTS, FINANCIAL GUARANTEES AND OTHER COMMITMENTS : 18\n",
            "MOVEMENTS IN ALLOWANCES AND PROVISIONS FOR CREDIT LOSSES : 19\n",
            "STATEMENT OF COMPREHENSIVE INCOME : 10\n",
            "STATEMENT OF PROFIT OR LOSS : 27\n"
          ]
        }
      ]
    },
    {
      "cell_type": "markdown",
      "metadata": {
        "id": "VsvsAIRAMMVj"
      },
      "source": [
        "The dataset consists of 12 labels."
      ]
    },
    {
      "cell_type": "markdown",
      "metadata": {
        "id": "p9kyy8v_tjkY"
      },
      "source": [
        "Let's create a list that contains the labels, as well as 2 dictionaries that map labels to integers and back."
      ]
    },
    {
      "cell_type": "code",
      "execution_count": null,
      "metadata": {
        "colab": {
          "base_uri": "https://localhost:8080/"
        },
        "id": "ugIFhNg3trOP",
        "outputId": "732e60e5-2ba4-488e-f868-709c2b5a135d"
      },
      "outputs": [
        {
          "output_type": "execute_result",
          "data": {
            "text/plain": [
              "['BREAKDOWN OF FINANCIAL ASSETS BY INSTRUMENT AND BY COUNTERPARTY SECTOR',\n",
              " 'BREAKDOWN OF FINANCIAL LIABILITIES',\n",
              " 'BREAKDOWN OF NON-TRADING LOANS AND ADVANCES BY PRODUCT',\n",
              " 'BREAKDOWN OF NON-TRADING LOANS AND ADVANCES TO NON-FINANCIAL CORPORATIONS BY NACE CODES',\n",
              " 'COLLATERAL AND GUARANTEES RECEIVED',\n",
              " 'DERIVATIVES AND HEDGE ACCOUNTING',\n",
              " 'Equity',\n",
              " 'FINANCIAL ASSETS SUBJECT TO IMPAIRMENT THAT ARE PAST DUE',\n",
              " 'LOAN COMMITMENTS, FINANCIAL GUARANTEES AND OTHER COMMITMENTS',\n",
              " 'MOVEMENTS IN ALLOWANCES AND PROVISIONS FOR CREDIT LOSSES',\n",
              " 'STATEMENT OF COMPREHENSIVE INCOME',\n",
              " 'STATEMENT OF PROFIT OR LOSS']"
            ]
          },
          "metadata": {},
          "execution_count": 25
        }
      ],
      "source": [
        "labels = sorted(list(set(dataset['label'])))\n",
        "id2label = {idx:label for idx, label in enumerate(labels)}\n",
        "label2id = {label:idx for idx, label in enumerate(labels)}\n",
        "labels"
      ]
    },
    {
      "cell_type": "markdown",
      "metadata": {
        "id": "UKukAGDvp7cP"
      },
      "source": [
        "## Splitting the Data into Train, Validation and Test set\n",
        "\n",
        "\n",
        "\n",
        "\n"
      ]
    },
    {
      "cell_type": "code",
      "execution_count": null,
      "metadata": {
        "id": "ol_9v8qaqT7H"
      },
      "outputs": [],
      "source": [
        "fix_seed = 42\n",
        "from sklearn.model_selection import train_test_split\n",
        "\n",
        "# Split data into train and val_test set \n",
        "X= dataset['Pattern_Removed_Text']\n",
        "y= dataset['label']\n",
        "X_train, X_val_test, y_train, y_val_test = train_test_split(X, y, test_size=0.48,stratify=y ,random_state=fix_seed)\n",
        "\n",
        "# Split data into val and test set \n",
        "X_val, X_test, y_val, y_test = train_test_split(X_val_test, y_val_test, test_size=0.5, stratify = y_val_test ,random_state=fix_seed)"
      ]
    },
    {
      "cell_type": "code",
      "execution_count": null,
      "metadata": {
        "id": "pMKJRWshPTVE",
        "colab": {
          "base_uri": "https://localhost:8080/"
        },
        "outputId": "1a9419e3-4ae3-40a0-dffe-90601ae89a38"
      },
      "outputs": [
        {
          "output_type": "execute_result",
          "data": {
            "text/plain": [
              "Dataset({\n",
              "    features: ['sentence', 'label'],\n",
              "    num_rows: 85\n",
              "})"
            ]
          },
          "metadata": {},
          "execution_count": 27
        }
      ],
      "source": [
        "# Create the HuggingFace Dataset train_data\n",
        "dict_train = {\"sentence\": X_train,\"label\": y_train}\n",
        "train_data = Dataset.from_dict(dict_train)\n",
        "train_data"
      ]
    },
    {
      "cell_type": "code",
      "execution_count": null,
      "metadata": {
        "id": "c0FTvgIqPTlq",
        "colab": {
          "base_uri": "https://localhost:8080/"
        },
        "outputId": "79be1b22-8a47-40ad-83ff-6468fca1031f"
      },
      "outputs": [
        {
          "output_type": "execute_result",
          "data": {
            "text/plain": [
              "Dataset({\n",
              "    features: ['sentence', 'label'],\n",
              "    num_rows: 40\n",
              "})"
            ]
          },
          "metadata": {},
          "execution_count": 28
        }
      ],
      "source": [
        "#Create the HuggingFace Dataset val_data\n",
        "dict_val = {\"sentence\": X_val,\"label\":y_val}\n",
        "val_data = Dataset.from_dict(dict_val)\n",
        "val_data"
      ]
    },
    {
      "cell_type": "code",
      "source": [
        "#Create the HuggingFace Dataset test_data\n",
        "dict_test = {\"sentence\": X_test,\"label\":y_test}\n",
        "test_data = Dataset.from_dict(dict_test)\n",
        "test_data"
      ],
      "metadata": {
        "colab": {
          "base_uri": "https://localhost:8080/"
        },
        "id": "WLwpO7nrZsyJ",
        "outputId": "d215226c-02ff-4e05-c319-ce5c641f4a1a"
      },
      "execution_count": null,
      "outputs": [
        {
          "output_type": "execute_result",
          "data": {
            "text/plain": [
              "Dataset({\n",
              "    features: ['sentence', 'label'],\n",
              "    num_rows: 40\n",
              "})"
            ]
          },
          "metadata": {},
          "execution_count": 29
        }
      ]
    },
    {
      "cell_type": "markdown",
      "metadata": {
        "id": "tGbsKDXm4QsW"
      },
      "source": [
        "Let's Check the Frequency Count of Train, Validation and Test label data"
      ]
    },
    {
      "cell_type": "code",
      "execution_count": null,
      "metadata": {
        "colab": {
          "base_uri": "https://localhost:8080/"
        },
        "id": "78X1pl5yVyU2",
        "outputId": "af36cd01-1bf7-4867-c397-9e5e62278415"
      },
      "outputs": [
        {
          "output_type": "stream",
          "name": "stdout",
          "text": [
            "The Frequency of label in train_data : \n",
            "\n",
            "COLLATERAL AND GUARANTEES RECEIVED : 4\n",
            "MOVEMENTS IN ALLOWANCES AND PROVISIONS FOR CREDIT LOSSES : 10\n",
            "BREAKDOWN OF FINANCIAL LIABILITIES : 3\n",
            "BREAKDOWN OF FINANCIAL ASSETS BY INSTRUMENT AND BY COUNTERPARTY SECTOR : 8\n",
            "LOAN COMMITMENTS, FINANCIAL GUARANTEES AND OTHER COMMITMENTS : 9\n",
            "STATEMENT OF PROFIT OR LOSS : 14\n",
            "BREAKDOWN OF NON-TRADING LOANS AND ADVANCES BY PRODUCT : 4\n",
            "DERIVATIVES AND HEDGE ACCOUNTING : 17\n",
            "BREAKDOWN OF NON-TRADING LOANS AND ADVANCES TO NON-FINANCIAL CORPORATIONS BY NACE CODES : 2\n",
            "STATEMENT OF COMPREHENSIVE INCOME : 5\n",
            "Equity : 8\n",
            "FINANCIAL ASSETS SUBJECT TO IMPAIRMENT THAT ARE PAST DUE : 1\n"
          ]
        }
      ],
      "source": [
        "#Print the frequency count of label in train_data\n",
        "print(\"The Frequency of label in train_data : \\n\")\n",
        "frequency_count(train_data['label'])"
      ]
    },
    {
      "cell_type": "code",
      "execution_count": null,
      "metadata": {
        "colab": {
          "base_uri": "https://localhost:8080/"
        },
        "id": "_BdUm8uv4CuD",
        "outputId": "920bc847-5c79-4d01-e6cb-2e8d14cbc4f5"
      },
      "outputs": [
        {
          "output_type": "stream",
          "name": "stdout",
          "text": [
            "The Frequency of label in val_data : \n",
            "\n",
            "BREAKDOWN OF FINANCIAL ASSETS BY INSTRUMENT AND BY COUNTERPARTY SECTOR : 4\n",
            "STATEMENT OF PROFIT OR LOSS : 7\n",
            "BREAKDOWN OF FINANCIAL LIABILITIES : 1\n",
            "LOAN COMMITMENTS, FINANCIAL GUARANTEES AND OTHER COMMITMENTS : 4\n",
            "DERIVATIVES AND HEDGE ACCOUNTING : 8\n",
            "MOVEMENTS IN ALLOWANCES AND PROVISIONS FOR CREDIT LOSSES : 4\n",
            "BREAKDOWN OF NON-TRADING LOANS AND ADVANCES BY PRODUCT : 2\n",
            "Equity : 4\n",
            "COLLATERAL AND GUARANTEES RECEIVED : 2\n",
            "STATEMENT OF COMPREHENSIVE INCOME : 2\n",
            "FINANCIAL ASSETS SUBJECT TO IMPAIRMENT THAT ARE PAST DUE : 1\n",
            "BREAKDOWN OF NON-TRADING LOANS AND ADVANCES TO NON-FINANCIAL CORPORATIONS BY NACE CODES : 1\n"
          ]
        }
      ],
      "source": [
        "#Print the frequency count of label in val_data\n",
        "print(\"The Frequency of label in val_data : \\n\")\n",
        "frequency_count(val_data['label'])"
      ]
    },
    {
      "cell_type": "code",
      "execution_count": null,
      "metadata": {
        "colab": {
          "base_uri": "https://localhost:8080/"
        },
        "id": "zKNP7tWXV2_R",
        "outputId": "06a0a99f-dd92-4eaa-fe37-ffe639e0a73d"
      },
      "outputs": [
        {
          "output_type": "stream",
          "name": "stdout",
          "text": [
            "The Frequency of label in test_data : \n",
            "\n",
            "Equity : 3\n",
            "BREAKDOWN OF FINANCIAL ASSETS BY INSTRUMENT AND BY COUNTERPARTY SECTOR : 4\n",
            "BREAKDOWN OF NON-TRADING LOANS AND ADVANCES BY PRODUCT : 1\n",
            "STATEMENT OF COMPREHENSIVE INCOME : 3\n",
            "LOAN COMMITMENTS, FINANCIAL GUARANTEES AND OTHER COMMITMENTS : 5\n",
            "DERIVATIVES AND HEDGE ACCOUNTING : 8\n",
            "STATEMENT OF PROFIT OR LOSS : 6\n",
            "MOVEMENTS IN ALLOWANCES AND PROVISIONS FOR CREDIT LOSSES : 5\n",
            "FINANCIAL ASSETS SUBJECT TO IMPAIRMENT THAT ARE PAST DUE : 1\n",
            "COLLATERAL AND GUARANTEES RECEIVED : 2\n",
            "BREAKDOWN OF NON-TRADING LOANS AND ADVANCES TO NON-FINANCIAL CORPORATIONS BY NACE CODES : 1\n",
            "BREAKDOWN OF FINANCIAL LIABILITIES : 1\n"
          ]
        }
      ],
      "source": [
        "#Print the frequency count of label in test_data\n",
        "print(\"The Frequency of label in test_data : \\n\")\n",
        "frequency_count(test_data['label'])"
      ]
    },
    {
      "cell_type": "code",
      "execution_count": null,
      "metadata": {
        "colab": {
          "base_uri": "https://localhost:8080/"
        },
        "id": "xNZXfECRrzta",
        "outputId": "5bd4e939-66a9-4d1f-b77f-11111f87279c"
      },
      "outputs": [
        {
          "output_type": "execute_result",
          "data": {
            "text/plain": [
              "DatasetDict({\n",
              "    train: Dataset({\n",
              "        features: ['sentence', 'label'],\n",
              "        num_rows: 85\n",
              "    })\n",
              "    validation: Dataset({\n",
              "        features: ['sentence', 'label'],\n",
              "        num_rows: 40\n",
              "    })\n",
              "    test: Dataset({\n",
              "        features: ['sentence', 'label'],\n",
              "        num_rows: 40\n",
              "    })\n",
              "})"
            ]
          },
          "metadata": {},
          "execution_count": 33
        }
      ],
      "source": [
        "#Create dataset_clean to store the train_data, val_data and test_data\n",
        "from datasets.dataset_dict import DatasetDict\n",
        "dataset_clean = DatasetDict({\n",
        "    'train': train_data,\n",
        "    'validation': val_data,\n",
        "    'test': test_data\n",
        "})\n",
        "dataset_clean"
      ]
    },
    {
      "cell_type": "markdown",
      "metadata": {
        "id": "LFcr-ozDmteM"
      },
      "source": [
        "## Save the Data"
      ]
    },
    {
      "cell_type": "code",
      "execution_count": null,
      "metadata": {
        "colab": {
          "base_uri": "https://localhost:8080/"
        },
        "id": "PBZrl1QRmvlT",
        "outputId": "92cccbbb-94f9-4368-aef7-9cdc175f6a47"
      },
      "outputs": [
        {
          "output_type": "stream",
          "name": "stdout",
          "text": [
            "\n",
            "Saved dataset_clean\n"
          ]
        }
      ],
      "source": [
        "#Save the HuggingFace Dataset dataset_clean in drive\n",
        "dataset_clean.save_to_disk(saved_path  + \"dataset_clean\")\n",
        "print(\"\\nSaved dataset_clean\")"
      ]
    }
  ],
  "metadata": {
    "colab": {
      "collapsed_sections": [],
      "name": "Part1_HuggingFace_Dataset.ipynb",
      "provenance": []
    },
    "kernelspec": {
      "display_name": "Python 3",
      "name": "python3"
    },
    "language_info": {
      "name": "python"
    }
  },
  "nbformat": 4,
  "nbformat_minor": 0
}
