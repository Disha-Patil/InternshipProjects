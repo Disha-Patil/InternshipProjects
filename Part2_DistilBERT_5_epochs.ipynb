{
  "cells": [
    {
      "cell_type": "markdown",
      "metadata": {
        "id": "6GkxfuQ8ob0R"
      },
      "source": [
        "#About the Data\n",
        "\n",
        "* The data was taken from \n",
        "https://www.eba.europa.eu/sites/default/documents/files/documents/10180/2321183/b67323ac-27fa-482d-926e-ae7ba3e90cb8/Annex%20III%20%28Annex%205%20%28FINREP%29%29.pdf?msclkid=fc3c7b21b0af11ec8242e40ef60465b7\n",
        "\n",
        "* The Data consist of four columns: Rule_number, Text, Topic and Character_count.<br>\n",
        "  - Rule_number: FINREP Rule number.\n",
        "  - Text: List of rules.\n",
        "  - Topic: Category to which the rule belongs.\n",
        " -  Character_count: The number of characters in 'Text'.\n",
        "\n",
        "* Each rule under the the headings:<br>\n",
        "\n",
        "  1. Equity\n",
        "  2. Statement of profit or loss \n",
        "  3. Statement of comprehensive income \n",
        "  4. Breakdown of financial assets by instrument and by counterparty sector \n",
        "  5. Breakdown of non-trading loans and advances by product \n",
        "  6. Breakdown of non-trading loans and advances to non-financial corporations by NACE codes\n",
        "  7. Financial assets subject to impairment that are past due \n",
        "  8. Breakdown of financial liabilities\n",
        "  9. Loan commitments, financial guarantees and other commitments \n",
        "  10. Derivatives and hedge accounting\n",
        "  11. Movements in allowances and provisions for credit losses\n",
        "  12. Collateral and guarantees received \n",
        "\n",
        "are taken as a text (page 16 - 46)\n",
        "\n",
        "* Rules are seperated by their rule number. For instance, 'Rule no. 175' and 'Rule no. 175i' are taken as seperate text.\n",
        "\n",
        "\n",
        "\n"
      ]
    },
    {
      "cell_type": "markdown",
      "source": [
        "# Text Preprocessing\n",
        "\n",
        "* The line break ‘\\n’ is removed from the text.\n",
        "\n",
        "* Round and square parantheses are removed.\n",
        "\n",
        "* Text contatined within round paranthesis are removed.\n",
        "\n",
        "* Text contatined within square paranthesis are removed.\n",
        "\n",
        "* No summarization was done.\n"
      ],
      "metadata": {
        "id": "J4warHrgNKP1"
      }
    },
    {
      "cell_type": "markdown",
      "metadata": {
        "id": "jhdSQHY_WYk8"
      },
      "source": [
        "#Fine Tuning DistilBERT model for text classification\n",
        "\n",
        "* The model was trained on 5 epochs and the learning rate was set at 2e-5 and batch size 8\n",
        "\n",
        "* Total training time taken across all epochs [Validation and model saving time included]: 0:01:07 (h:mm:ss)\n",
        "\n",
        "* Data Split:<br>\n",
        "      -Training data: 85 (About 51.51 percent)\n",
        "      -Validation data: 40 (About 24.24 percent)\n",
        "      -Test Data : 40 (About 24.24 percent)\n",
        "\n",
        "* Macro-averaged f1-score<br>\n",
        "      -Training data: 0.15  \n",
        "      -Validation data: 0.18\n",
        "\n"
      ]
    },
    {
      "cell_type": "markdown",
      "metadata": {
        "id": "HltVocsVxIVZ"
      },
      "source": [
        "## Next Steps\n",
        "\n",
        "* Calculate Metrics on the test Data Set \n",
        "\n",
        "\n",
        "\n"
      ]
    },
    {
      "cell_type": "markdown",
      "metadata": {
        "id": "M8MJt_UDu36B"
      },
      "source": [
        "##Google Drive access"
      ]
    },
    {
      "cell_type": "code",
      "execution_count": null,
      "metadata": {
        "colab": {
          "base_uri": "https://localhost:8080/"
        },
        "id": "YpebIE41u3Mh",
        "outputId": "482caeb8-c967-4ad5-921d-560b0cb36247"
      },
      "outputs": [
        {
          "output_type": "stream",
          "name": "stdout",
          "text": [
            "Mounted at /content/drive\n"
          ]
        }
      ],
      "source": [
        "from google.colab import drive\n",
        "drive.mount('/content/drive')"
      ]
    },
    {
      "cell_type": "code",
      "execution_count": null,
      "metadata": {
        "id": "f3hBz6OXw3gQ"
      },
      "outputs": [],
      "source": [
        "# Write the appropriate paths to retrieve the data and store results \n",
        "dataset_clean_path = '/content/drive/MyDrive/Full_Code/FINREP/Parentheses_Removed/dataset_clean'\n",
        "saved_path = '/content/drive/MyDrive/Full_Code/FINREP/Parentheses_Removed/Epochs_5/'\n",
        "used_test_data_path = saved_path + 'Test_data_DistilBERT.csv'\n",
        "encoded_test_data_path = saved_path + 'ENCODED_Test_data_DistilBERT.csv'\n",
        "label2id_df_path = saved_path + 'label2id_df.csv'"
      ]
    },
    {
      "cell_type": "markdown",
      "metadata": {
        "id": "hhdVBYIGW2mH"
      },
      "source": [
        "## Set-up environment\n",
        "\n",
        "Install the libraries folium version 0.2.1, HuggingFace Transformers and Datasets"
      ]
    },
    {
      "cell_type": "code",
      "execution_count": null,
      "metadata": {
        "id": "bs0-RE3D76PZ",
        "colab": {
          "base_uri": "https://localhost:8080/"
        },
        "outputId": "fe61dc0d-6e17-4c72-a7f8-2d58001f739a"
      },
      "outputs": [
        {
          "output_type": "stream",
          "name": "stdout",
          "text": [
            "\u001b[K     |████████████████████████████████| 69 kB 4.7 MB/s \n",
            "\u001b[K     |████████████████████████████████| 4.2 MB 16.2 MB/s \n",
            "\u001b[K     |████████████████████████████████| 346 kB 71.8 MB/s \n",
            "\u001b[K     |████████████████████████████████| 6.6 MB 57.3 MB/s \n",
            "\u001b[K     |████████████████████████████████| 596 kB 74.8 MB/s \n",
            "\u001b[K     |████████████████████████████████| 86 kB 5.8 MB/s \n",
            "\u001b[K     |████████████████████████████████| 212 kB 74.5 MB/s \n",
            "\u001b[K     |████████████████████████████████| 140 kB 74.8 MB/s \n",
            "\u001b[K     |████████████████████████████████| 86 kB 7.8 MB/s \n",
            "\u001b[K     |████████████████████████████████| 1.1 MB 60.3 MB/s \n",
            "\u001b[K     |████████████████████████████████| 127 kB 77.5 MB/s \n",
            "\u001b[K     |████████████████████████████████| 94 kB 3.9 MB/s \n",
            "\u001b[K     |████████████████████████████████| 271 kB 78.0 MB/s \n",
            "\u001b[K     |████████████████████████████████| 144 kB 69.5 MB/s \n",
            "\u001b[?25h  Building wheel for folium (setup.py) ... \u001b[?25l\u001b[?25hdone\n"
          ]
        }
      ],
      "source": [
        "#Install the package folium version 0.2.1 and HuggingFace tranformer and datasets libraries  \n",
        "!pip install -q folium==0.2.1 transformers datasets "
      ]
    },
    {
      "cell_type": "code",
      "execution_count": null,
      "metadata": {
        "colab": {
          "base_uri": "https://localhost:8080/"
        },
        "id": "bUvk9uQCAspf",
        "outputId": "7ba240b5-a2c5-4a4f-e7de-1fe48eb24c54"
      },
      "outputs": [
        {
          "output_type": "stream",
          "name": "stdout",
          "text": [
            "cuda:0 is available\n"
          ]
        }
      ],
      "source": [
        "import torch\n",
        "#Check if GPU is available\n",
        "device = \"cuda:0\" if torch.cuda.is_available() else \"cpu\"\n",
        "print(device, \"is available\")"
      ]
    },
    {
      "cell_type": "markdown",
      "source": [
        "##Memory Allocated"
      ],
      "metadata": {
        "id": "rXXUT_pKzvEy"
      }
    },
    {
      "cell_type": "code",
      "source": [
        "!nvidia-smi -q"
      ],
      "metadata": {
        "colab": {
          "base_uri": "https://localhost:8080/"
        },
        "id": "35aOat3LQQNf",
        "outputId": "6ae12bbd-dd51-4085-bfcd-cccbb086ae42"
      },
      "execution_count": null,
      "outputs": [
        {
          "output_type": "stream",
          "name": "stdout",
          "text": [
            "\n",
            "==============NVSMI LOG==============\n",
            "\n",
            "Timestamp                                 : Thu May 26 12:26:12 2022\n",
            "Driver Version                            : 460.32.03\n",
            "CUDA Version                              : 11.2\n",
            "\n",
            "Attached GPUs                             : 1\n",
            "GPU 00000000:00:04.0\n",
            "    Product Name                          : Tesla P100-PCIE-16GB\n",
            "    Product Brand                         : Tesla\n",
            "    Display Mode                          : Enabled\n",
            "    Display Active                        : Disabled\n",
            "    Persistence Mode                      : Disabled\n",
            "    MIG Mode\n",
            "        Current                           : N/A\n",
            "        Pending                           : N/A\n",
            "    Accounting Mode                       : Disabled\n",
            "    Accounting Mode Buffer Size           : 4000\n",
            "    Driver Model\n",
            "        Current                           : N/A\n",
            "        Pending                           : N/A\n",
            "    Serial Number                         : 0320318123112\n",
            "    GPU UUID                              : GPU-f32ed0f5-7dff-4697-cd95-56ce1d6d2e8c\n",
            "    Minor Number                          : 0\n",
            "    VBIOS Version                         : 86.00.52.00.02\n",
            "    MultiGPU Board                        : No\n",
            "    Board ID                              : 0x4\n",
            "    GPU Part Number                       : 900-2H400-6300-031\n",
            "    Inforom Version\n",
            "        Image Version                     : H400.0201.00.08\n",
            "        OEM Object                        : 1.1\n",
            "        ECC Object                        : 4.1\n",
            "        Power Management Object           : N/A\n",
            "    GPU Operation Mode\n",
            "        Current                           : N/A\n",
            "        Pending                           : N/A\n",
            "    GPU Virtualization Mode\n",
            "        Virtualization Mode               : Pass-Through\n",
            "        Host VGPU Mode                    : N/A\n",
            "    IBMNPU\n",
            "        Relaxed Ordering Mode             : N/A\n",
            "    PCI\n",
            "        Bus                               : 0x00\n",
            "        Device                            : 0x04\n",
            "        Domain                            : 0x0000\n",
            "        Device Id                         : 0x15F810DE\n",
            "        Bus Id                            : 00000000:00:04.0\n",
            "        Sub System Id                     : 0x118F10DE\n",
            "        GPU Link Info\n",
            "            PCIe Generation\n",
            "                Max                       : 3\n",
            "                Current                   : 3\n",
            "            Link Width\n",
            "                Max                       : 16x\n",
            "                Current                   : 16x\n",
            "        Bridge Chip\n",
            "            Type                          : N/A\n",
            "            Firmware                      : N/A\n",
            "        Replays Since Reset               : 0\n",
            "        Replay Number Rollovers           : 0\n",
            "        Tx Throughput                     : 0 KB/s\n",
            "        Rx Throughput                     : 0 KB/s\n",
            "    Fan Speed                             : N/A\n",
            "    Performance State                     : P0\n",
            "    Clocks Throttle Reasons\n",
            "        Idle                              : Active\n",
            "        Applications Clocks Setting       : Not Active\n",
            "        SW Power Cap                      : Not Active\n",
            "        HW Slowdown                       : Not Active\n",
            "            HW Thermal Slowdown           : Not Active\n",
            "            HW Power Brake Slowdown       : Not Active\n",
            "        Sync Boost                        : Not Active\n",
            "        SW Thermal Slowdown               : Not Active\n",
            "        Display Clock Setting             : Not Active\n",
            "    FB Memory Usage\n",
            "        Total                             : 16280 MiB\n",
            "        Used                              : 2 MiB\n",
            "        Free                              : 16278 MiB\n",
            "    BAR1 Memory Usage\n",
            "        Total                             : 16384 MiB\n",
            "        Used                              : 2 MiB\n",
            "        Free                              : 16382 MiB\n",
            "    Compute Mode                          : Default\n",
            "    Utilization\n",
            "        Gpu                               : 0 %\n",
            "        Memory                            : 0 %\n",
            "        Encoder                           : 0 %\n",
            "        Decoder                           : 0 %\n",
            "    Encoder Stats\n",
            "        Active Sessions                   : 0\n",
            "        Average FPS                       : 0\n",
            "        Average Latency                   : 0\n",
            "    FBC Stats\n",
            "        Active Sessions                   : 0\n",
            "        Average FPS                       : 0\n",
            "        Average Latency                   : 0\n",
            "    Ecc Mode\n",
            "        Current                           : Enabled\n",
            "        Pending                           : Enabled\n",
            "    ECC Errors\n",
            "        Volatile\n",
            "            Single Bit            \n",
            "                Device Memory             : 0\n",
            "                Register File             : 0\n",
            "                L1 Cache                  : N/A\n",
            "                L2 Cache                  : 0\n",
            "                Texture Memory            : 0\n",
            "                Texture Shared            : 0\n",
            "                CBU                       : N/A\n",
            "                Total                     : 0\n",
            "            Double Bit            \n",
            "                Device Memory             : 0\n",
            "                Register File             : 0\n",
            "                L1 Cache                  : N/A\n",
            "                L2 Cache                  : 0\n",
            "                Texture Memory            : 0\n",
            "                Texture Shared            : 0\n",
            "                CBU                       : N/A\n",
            "                Total                     : 0\n",
            "        Aggregate\n",
            "            Single Bit            \n",
            "                Device Memory             : 0\n",
            "                Register File             : 0\n",
            "                L1 Cache                  : N/A\n",
            "                L2 Cache                  : 0\n",
            "                Texture Memory            : 0\n",
            "                Texture Shared            : 0\n",
            "                CBU                       : N/A\n",
            "                Total                     : 0\n",
            "            Double Bit            \n",
            "                Device Memory             : 0\n",
            "                Register File             : 0\n",
            "                L1 Cache                  : N/A\n",
            "                L2 Cache                  : 0\n",
            "                Texture Memory            : 0\n",
            "                Texture Shared            : 0\n",
            "                CBU                       : N/A\n",
            "                Total                     : 0\n",
            "    Retired Pages\n",
            "        Single Bit ECC                    : 0\n",
            "        Double Bit ECC                    : 0\n",
            "        Pending Page Blacklist            : No\n",
            "    Remapped Rows                         : N/A\n",
            "    Temperature\n",
            "        GPU Current Temp                  : 34 C\n",
            "        GPU Shutdown Temp                 : 85 C\n",
            "        GPU Slowdown Temp                 : 82 C\n",
            "        GPU Max Operating Temp            : N/A\n",
            "        GPU Target Temperature            : N/A\n",
            "        Memory Current Temp               : N/A\n",
            "        Memory Max Operating Temp         : N/A\n",
            "    Power Readings\n",
            "        Power Management                  : Supported\n",
            "        Power Draw                        : 27.78 W\n",
            "        Power Limit                       : 250.00 W\n",
            "        Default Power Limit               : 250.00 W\n",
            "        Enforced Power Limit              : 250.00 W\n",
            "        Min Power Limit                   : 125.00 W\n",
            "        Max Power Limit                   : 250.00 W\n",
            "    Clocks\n",
            "        Graphics                          : 405 MHz\n",
            "        SM                                : 405 MHz\n",
            "        Memory                            : 715 MHz\n",
            "        Video                             : 835 MHz\n",
            "    Applications Clocks\n",
            "        Graphics                          : 1189 MHz\n",
            "        Memory                            : 715 MHz\n",
            "    Default Applications Clocks\n",
            "        Graphics                          : 1189 MHz\n",
            "        Memory                            : 715 MHz\n",
            "    Max Clocks\n",
            "        Graphics                          : 1328 MHz\n",
            "        SM                                : 1328 MHz\n",
            "        Memory                            : 715 MHz\n",
            "        Video                             : 1328 MHz\n",
            "    Max Customer Boost Clocks\n",
            "        Graphics                          : 1328 MHz\n",
            "    Clock Policy\n",
            "        Auto Boost                        : N/A\n",
            "        Auto Boost Default                : N/A\n",
            "    Processes                             : None\n",
            "\n"
          ]
        }
      ]
    },
    {
      "cell_type": "code",
      "source": [
        "!nvidia-smi"
      ],
      "metadata": {
        "colab": {
          "base_uri": "https://localhost:8080/"
        },
        "id": "ZxtauL1_QKJk",
        "outputId": "b82761dc-8639-4aaa-902e-9c38622f0910"
      },
      "execution_count": null,
      "outputs": [
        {
          "output_type": "stream",
          "name": "stdout",
          "text": [
            "Thu May 26 12:26:12 2022       \n",
            "+-----------------------------------------------------------------------------+\n",
            "| NVIDIA-SMI 460.32.03    Driver Version: 460.32.03    CUDA Version: 11.2     |\n",
            "|-------------------------------+----------------------+----------------------+\n",
            "| GPU  Name        Persistence-M| Bus-Id        Disp.A | Volatile Uncorr. ECC |\n",
            "| Fan  Temp  Perf  Pwr:Usage/Cap|         Memory-Usage | GPU-Util  Compute M. |\n",
            "|                               |                      |               MIG M. |\n",
            "|===============================+======================+======================|\n",
            "|   0  Tesla P100-PCIE...  Off  | 00000000:00:04.0 Off |                    0 |\n",
            "| N/A   34C    P0    27W / 250W |      2MiB / 16280MiB |      0%      Default |\n",
            "|                               |                      |                  N/A |\n",
            "+-------------------------------+----------------------+----------------------+\n",
            "                                                                               \n",
            "+-----------------------------------------------------------------------------+\n",
            "| Processes:                                                                  |\n",
            "|  GPU   GI   CI        PID   Type   Process name                  GPU Memory |\n",
            "|        ID   ID                                                   Usage      |\n",
            "|=============================================================================|\n",
            "|  No running processes found                                                 |\n",
            "+-----------------------------------------------------------------------------+\n"
          ]
        }
      ]
    },
    {
      "cell_type": "code",
      "source": [
        "!lscpu |grep 'Model name'"
      ],
      "metadata": {
        "colab": {
          "base_uri": "https://localhost:8080/"
        },
        "id": "U0wXTbVVQTzS",
        "outputId": "08cffa5f-eff0-4d82-bad3-7909e1174682"
      },
      "execution_count": null,
      "outputs": [
        {
          "output_type": "stream",
          "name": "stdout",
          "text": [
            "Model name:          Intel(R) Xeon(R) CPU @ 2.20GHz\n"
          ]
        }
      ]
    },
    {
      "cell_type": "code",
      "source": [
        "!free -h --si | awk  '/Mem:/{print $2}'"
      ],
      "metadata": {
        "colab": {
          "base_uri": "https://localhost:8080/"
        },
        "id": "WTu9Y9K2QYVX",
        "outputId": "3a5ac271-b94a-45d7-ec98-cdb0b2264886"
      },
      "execution_count": null,
      "outputs": [
        {
          "output_type": "stream",
          "name": "stdout",
          "text": [
            "13G\n"
          ]
        }
      ]
    },
    {
      "cell_type": "markdown",
      "metadata": {
        "id": "dwnUTHc_WWf9"
      },
      "source": [
        "# Loading the dataset"
      ]
    },
    {
      "cell_type": "code",
      "execution_count": null,
      "metadata": {
        "colab": {
          "base_uri": "https://localhost:8080/"
        },
        "id": "hSr1m-4emA8l",
        "outputId": "c4a11ee6-36fe-472d-c949-9c7d99634016"
      },
      "outputs": [
        {
          "output_type": "execute_result",
          "data": {
            "text/plain": [
              "DatasetDict({\n",
              "    train: Dataset({\n",
              "        features: ['sentence', 'label'],\n",
              "        num_rows: 85\n",
              "    })\n",
              "    validation: Dataset({\n",
              "        features: ['sentence', 'label'],\n",
              "        num_rows: 40\n",
              "    })\n",
              "    test: Dataset({\n",
              "        features: ['sentence', 'label'],\n",
              "        num_rows: 40\n",
              "    })\n",
              "})"
            ]
          },
          "metadata": {},
          "execution_count": 9
        }
      ],
      "source": [
        "#Load the data dataset_clean\n",
        "from datasets import load_from_disk\n",
        "dataset_clean = load_from_disk(dataset_clean_path)\n",
        "dataset_clean"
      ]
    },
    {
      "cell_type": "markdown",
      "metadata": {
        "id": "p9kyy8v_tjkY"
      },
      "source": [
        "Let's create a list that contains the labels, as well as 2 dictionaries that map labels to integers and back."
      ]
    },
    {
      "cell_type": "code",
      "execution_count": null,
      "metadata": {
        "colab": {
          "base_uri": "https://localhost:8080/"
        },
        "id": "ugIFhNg3trOP",
        "outputId": "7bb645a6-0f5d-4edb-ad13-eee9c2d740a0"
      },
      "outputs": [
        {
          "output_type": "execute_result",
          "data": {
            "text/plain": [
              "['BREAKDOWN OF FINANCIAL ASSETS BY INSTRUMENT AND BY COUNTERPARTY SECTOR',\n",
              " 'BREAKDOWN OF FINANCIAL LIABILITIES',\n",
              " 'BREAKDOWN OF NON-TRADING LOANS AND ADVANCES BY PRODUCT',\n",
              " 'BREAKDOWN OF NON-TRADING LOANS AND ADVANCES TO NON-FINANCIAL CORPORATIONS BY NACE CODES',\n",
              " 'COLLATERAL AND GUARANTEES RECEIVED',\n",
              " 'DERIVATIVES AND HEDGE ACCOUNTING',\n",
              " 'Equity',\n",
              " 'FINANCIAL ASSETS SUBJECT TO IMPAIRMENT THAT ARE PAST DUE',\n",
              " 'LOAN COMMITMENTS, FINANCIAL GUARANTEES AND OTHER COMMITMENTS',\n",
              " 'MOVEMENTS IN ALLOWANCES AND PROVISIONS FOR CREDIT LOSSES',\n",
              " 'STATEMENT OF COMPREHENSIVE INCOME',\n",
              " 'STATEMENT OF PROFIT OR LOSS']"
            ]
          },
          "metadata": {},
          "execution_count": 10
        }
      ],
      "source": [
        "labels = list(sorted(set(dataset_clean['train']['label'])))\n",
        "id2label = {idx:label for idx, label in enumerate(labels)}\n",
        "label2id = {label:idx for idx, label in enumerate(labels)}\n",
        "labels"
      ]
    },
    {
      "cell_type": "markdown",
      "source": [
        "The dataset consists of 12 labels."
      ],
      "metadata": {
        "id": "AnlaGA8JDgIv"
      }
    },
    {
      "cell_type": "markdown",
      "metadata": {
        "id": "vN3TNouDhh0r"
      },
      "source": [
        "## Preprocess data\n",
        "\n",
        "\n",
        "Since the model don't expect text as direct input, but rather `input_ids`, etc., we tokenize the text using the tokenizer. Here I'm using the `AutoTokenizer` API, which will automatically load the appropriate tokenizer based on the checkpoint on the hub."
      ]
    },
    {
      "cell_type": "code",
      "execution_count": null,
      "metadata": {
        "id": "ImOVtxX5jafN",
        "colab": {
          "base_uri": "https://localhost:8080/",
          "height": 145,
          "referenced_widgets": [
            "42420b4a2573403295fb1e34098f58dd",
            "d8571c3bba154fd98c2824ba09c1fae2",
            "1dc419d9d98e41939dd64f42635e78d0",
            "7e3632d159664f5082cd99e4780d5674",
            "d8087fcf66c2410aa93975db54376e18",
            "e0a7529b8a1f48a389960d857daacf4b",
            "754be7108d5b49de9882b41c1e8bf361",
            "3d2d284da98a4f17a1869aeacb91a2d3",
            "18882ea9f73c4b608a8b738d0d601721",
            "27a3ad360b26469ca246be89f13dd804",
            "4a069c2c90254fc9a1526ef09b4d787b",
            "40a5995a4d9442ad820fdc9ccd7bcebd",
            "3bc6085d32174671af9082f057634e67",
            "fdf0294337b140f0983f5f0554445aa3",
            "42184b61d6c846419b8e98f9bff58da2",
            "266bb1eaf47343bcbcddc88f02174fe9",
            "d9ce9511a1db4cb7a0c2464659eff7c2",
            "532f53be06aa4d778bb027c1c78bc798",
            "915ce2860cd54261a166bf0204dbc601",
            "248cec4254c047e6908b22df6d224f29",
            "a7506be5805440aa95316b8f94fcf779",
            "23c0a447bbe64a87914ca8a78b7d05e1",
            "09282e8a47de4ed78e11ee89257a3cb0",
            "41df564ad0ed40fcb5e3093482b7939c",
            "e4cda7478ea54306bfcae8ac46544ed6",
            "6e3fd68d180346208d0ece323618b21d",
            "8dba43ddf8c84cf9b295b33c04cc800a",
            "e569d465d769443ca5b44d7dc8da567d",
            "4ca9937239924d02847d52c02a8df448",
            "a64957343e9d4764998c208c2e23b8cf",
            "aa99f93c1eb94dc3a7a01856f1c61103",
            "b34039198a074c199db79a120d7e9217",
            "9345e0abc313426692c5f0ef9a388e6d",
            "91a817538725409484cf2fb038b99c35",
            "41782def299c465a8574b8fae618ec1a",
            "593958bffd6a4a0688cca69423559ecf",
            "8c0e88c073954b11b66efec6af42683c",
            "26224996504d4bc98aa23186de2f34df",
            "f3f6c7665f0f4154883f3a56ca2a6035",
            "838728cff6d54f50ad5278cc2319d88f",
            "3f89a10f898b4d45b61afa4fc900ae1d",
            "5071758faecd40de90dfa31ecd80bf11",
            "d98c67c96ab941b6b666d365a299bb1d",
            "b857429f8a97445c832c16aecb27e27d"
          ]
        },
        "outputId": "257d0ee7-082a-477c-a32f-a20762dc17ff"
      },
      "outputs": [
        {
          "output_type": "display_data",
          "data": {
            "text/plain": [
              "Downloading:   0%|          | 0.00/29.0 [00:00<?, ?B/s]"
            ],
            "application/vnd.jupyter.widget-view+json": {
              "version_major": 2,
              "version_minor": 0,
              "model_id": "42420b4a2573403295fb1e34098f58dd"
            }
          },
          "metadata": {}
        },
        {
          "output_type": "display_data",
          "data": {
            "text/plain": [
              "Downloading:   0%|          | 0.00/411 [00:00<?, ?B/s]"
            ],
            "application/vnd.jupyter.widget-view+json": {
              "version_major": 2,
              "version_minor": 0,
              "model_id": "40a5995a4d9442ad820fdc9ccd7bcebd"
            }
          },
          "metadata": {}
        },
        {
          "output_type": "display_data",
          "data": {
            "text/plain": [
              "Downloading:   0%|          | 0.00/208k [00:00<?, ?B/s]"
            ],
            "application/vnd.jupyter.widget-view+json": {
              "version_major": 2,
              "version_minor": 0,
              "model_id": "09282e8a47de4ed78e11ee89257a3cb0"
            }
          },
          "metadata": {}
        },
        {
          "output_type": "display_data",
          "data": {
            "text/plain": [
              "Downloading:   0%|          | 0.00/426k [00:00<?, ?B/s]"
            ],
            "application/vnd.jupyter.widget-view+json": {
              "version_major": 2,
              "version_minor": 0,
              "model_id": "91a817538725409484cf2fb038b99c35"
            }
          },
          "metadata": {}
        }
      ],
      "source": [
        "from transformers import AutoTokenizer\n",
        "tokenizer = AutoTokenizer.from_pretrained('distilbert-base-cased',num_labels=len(labels))"
      ]
    },
    {
      "cell_type": "code",
      "execution_count": null,
      "metadata": {
        "id": "ceirRXfx2J8-"
      },
      "outputs": [],
      "source": [
        "import numpy as np\n",
        "def preprocess_data(examples):\n",
        "  # take a batch of texts\n",
        "  text = examples[\"sentence\"]\n",
        "  # encode them\n",
        "  encoding = tokenizer(text, padding=\"max_length\", truncation=True)\n",
        "  # add labels\n",
        "  encoding[\"labels\"] = [label2id[i] for i in examples[\"label\"]]\n",
        "  return encoding"
      ]
    },
    {
      "cell_type": "code",
      "execution_count": null,
      "metadata": {
        "colab": {
          "base_uri": "https://localhost:8080/"
        },
        "id": "h_UqiFYw4A7K",
        "outputId": "aa9e1557-a26d-4059-e238-8b616f9be72a"
      },
      "outputs": [
        {
          "output_type": "stream",
          "name": "stderr",
          "text": [
            "Loading cached processed dataset at /content/drive/MyDrive/Full_Code/FINREP/Parentheses_Removed/dataset_clean/train/cache-0f63744338e67715.arrow\n",
            "Loading cached processed dataset at /content/drive/MyDrive/Full_Code/FINREP/Parentheses_Removed/dataset_clean/validation/cache-92bee6fd7d8ccbef.arrow\n",
            "Loading cached processed dataset at /content/drive/MyDrive/Full_Code/FINREP/Parentheses_Removed/dataset_clean/test/cache-64a57a015ee8e89e.arrow\n"
          ]
        }
      ],
      "source": [
        "encoded_dataset = dataset_clean.map(preprocess_data, batched=True, remove_columns = ['sentence', 'label'])"
      ]
    },
    {
      "cell_type": "code",
      "execution_count": null,
      "metadata": {
        "colab": {
          "base_uri": "https://localhost:8080/"
        },
        "id": "I0hzVIE4ieS6",
        "outputId": "ed45eb90-e00b-40a0-d841-f4f09bcbf413"
      },
      "outputs": [
        {
          "output_type": "stream",
          "name": "stdout",
          "text": [
            "dict_keys(['input_ids', 'attention_mask', 'labels'])\n"
          ]
        }
      ],
      "source": [
        "example = encoded_dataset['train'][0]\n",
        "print(example.keys())"
      ]
    },
    {
      "cell_type": "code",
      "execution_count": null,
      "metadata": {
        "colab": {
          "base_uri": "https://localhost:8080/",
          "height": 165
        },
        "id": "fDjhGfaGoOMi",
        "outputId": "3253b931-f11f-4540-e0cb-48b954b042a5"
      },
      "outputs": [
        {
          "output_type": "execute_result",
          "data": {
            "text/plain": [
              "'[CLS] ‘ Accumulated negative changes ’ shall be the difference, at the level of the individual collateral item, between the value at initial recognition of the collateral and the carrying amount at the reporting reference date, where this difference is negative. [SEP] [PAD] [PAD] [PAD] [PAD] [PAD] [PAD] [PAD] [PAD] [PAD] [PAD] [PAD] [PAD] [PAD] [PAD] [PAD] [PAD] [PAD] [PAD] [PAD] [PAD] [PAD] [PAD] [PAD] [PAD] [PAD] [PAD] [PAD] [PAD] [PAD] [PAD] [PAD] [PAD] [PAD] [PAD] [PAD] [PAD] [PAD] [PAD] [PAD] [PAD] [PAD] [PAD] [PAD] [PAD] [PAD] [PAD] [PAD] [PAD] [PAD] [PAD] [PAD] [PAD] [PAD] [PAD] [PAD] [PAD] [PAD] [PAD] [PAD] [PAD] [PAD] [PAD] [PAD] [PAD] [PAD] [PAD] [PAD] [PAD] [PAD] [PAD] [PAD] [PAD] [PAD] [PAD] [PAD] [PAD] [PAD] [PAD] [PAD] [PAD] [PAD] [PAD] [PAD] [PAD] [PAD] [PAD] [PAD] [PAD] [PAD] [PAD] [PAD] [PAD] [PAD] [PAD] [PAD] [PAD] [PAD] [PAD] [PAD] [PAD] [PAD] [PAD] [PAD] [PAD] [PAD] [PAD] [PAD] [PAD] [PAD] [PAD] [PAD] [PAD] [PAD] [PAD] [PAD] [PAD] [PAD] [PAD] [PAD] [PAD] [PAD] [PAD] [PAD] [PAD] [PAD] [PAD] [PAD] [PAD] [PAD] [PAD] [PAD] [PAD] [PAD] [PAD] [PAD] [PAD] [PAD] [PAD] [PAD] [PAD] [PAD] [PAD] [PAD] [PAD] [PAD] [PAD] [PAD] [PAD] [PAD] [PAD] [PAD] [PAD] [PAD] [PAD] [PAD] [PAD] [PAD] [PAD] [PAD] [PAD] [PAD] [PAD] [PAD] [PAD] [PAD] [PAD] [PAD] [PAD] [PAD] [PAD] [PAD] [PAD] [PAD] [PAD] [PAD] [PAD] [PAD] [PAD] [PAD] [PAD] [PAD] [PAD] [PAD] [PAD] [PAD] [PAD] [PAD] [PAD] [PAD] [PAD] [PAD] [PAD] [PAD] [PAD] [PAD] [PAD] [PAD] [PAD] [PAD] [PAD] [PAD] [PAD] [PAD] [PAD] [PAD] [PAD] [PAD] [PAD] [PAD] [PAD] [PAD] [PAD] [PAD] [PAD] [PAD] [PAD] [PAD] [PAD] [PAD] [PAD] [PAD] [PAD] [PAD] [PAD] [PAD] [PAD] [PAD] [PAD] [PAD] [PAD] [PAD] [PAD] [PAD] [PAD] [PAD] [PAD] [PAD] [PAD] [PAD] [PAD] [PAD] [PAD] [PAD] [PAD] [PAD] [PAD] [PAD] [PAD] [PAD] [PAD] [PAD] [PAD] [PAD] [PAD] [PAD] [PAD] [PAD] [PAD] [PAD] [PAD] [PAD] [PAD] [PAD] [PAD] [PAD] [PAD] [PAD] [PAD] [PAD] [PAD] [PAD] [PAD] [PAD] [PAD] [PAD] [PAD] [PAD] [PAD] [PAD] [PAD] [PAD] [PAD] [PAD] [PAD] [PAD] [PAD] [PAD] [PAD] [PAD] [PAD] [PAD] [PAD] [PAD] [PAD] [PAD] [PAD] [PAD] [PAD] [PAD] [PAD] [PAD] [PAD] [PAD] [PAD] [PAD] [PAD] [PAD] [PAD] [PAD] [PAD] [PAD] [PAD] [PAD] [PAD] [PAD] [PAD] [PAD] [PAD] [PAD] [PAD] [PAD] [PAD] [PAD] [PAD] [PAD] [PAD] [PAD] [PAD] [PAD] [PAD] [PAD] [PAD] [PAD] [PAD] [PAD] [PAD] [PAD] [PAD] [PAD] [PAD] [PAD] [PAD] [PAD] [PAD] [PAD] [PAD] [PAD] [PAD] [PAD] [PAD] [PAD] [PAD] [PAD] [PAD] [PAD] [PAD] [PAD] [PAD] [PAD] [PAD] [PAD] [PAD] [PAD] [PAD] [PAD] [PAD] [PAD] [PAD] [PAD] [PAD] [PAD] [PAD] [PAD] [PAD] [PAD] [PAD] [PAD] [PAD] [PAD] [PAD] [PAD] [PAD] [PAD] [PAD] [PAD] [PAD] [PAD] [PAD] [PAD] [PAD] [PAD] [PAD] [PAD] [PAD] [PAD] [PAD] [PAD] [PAD] [PAD] [PAD] [PAD] [PAD] [PAD] [PAD] [PAD] [PAD] [PAD] [PAD] [PAD] [PAD] [PAD] [PAD] [PAD] [PAD] [PAD] [PAD] [PAD] [PAD] [PAD] [PAD] [PAD] [PAD] [PAD] [PAD] [PAD] [PAD] [PAD] [PAD] [PAD] [PAD] [PAD] [PAD] [PAD] [PAD] [PAD] [PAD] [PAD] [PAD] [PAD] [PAD] [PAD] [PAD] [PAD] [PAD] [PAD] [PAD] [PAD] [PAD] [PAD] [PAD] [PAD] [PAD] [PAD] [PAD] [PAD] [PAD] [PAD] [PAD] [PAD]'"
            ],
            "application/vnd.google.colaboratory.intrinsic+json": {
              "type": "string"
            }
          },
          "metadata": {},
          "execution_count": 15
        }
      ],
      "source": [
        "tokenizer.decode(example['input_ids'])"
      ]
    },
    {
      "cell_type": "code",
      "execution_count": null,
      "metadata": {
        "colab": {
          "base_uri": "https://localhost:8080/"
        },
        "id": "ty4hTXCfoORS",
        "outputId": "c644b75d-ad82-4e77-ef31-376efc452ad9"
      },
      "outputs": [
        {
          "output_type": "execute_result",
          "data": {
            "text/plain": [
              "4"
            ]
          },
          "metadata": {},
          "execution_count": 16
        }
      ],
      "source": [
        "example['labels']"
      ]
    },
    {
      "cell_type": "code",
      "execution_count": null,
      "metadata": {
        "colab": {
          "base_uri": "https://localhost:8080/"
        },
        "id": "Z3DTGXxKpgrh",
        "outputId": "7b69c985-dcff-48ee-d1b1-e4f2f95736e0"
      },
      "outputs": [
        {
          "output_type": "execute_result",
          "data": {
            "text/plain": [
              "DatasetDict({\n",
              "    train: Dataset({\n",
              "        features: ['input_ids', 'attention_mask', 'labels'],\n",
              "        num_rows: 85\n",
              "    })\n",
              "    validation: Dataset({\n",
              "        features: ['input_ids', 'attention_mask', 'labels'],\n",
              "        num_rows: 40\n",
              "    })\n",
              "    test: Dataset({\n",
              "        features: ['input_ids', 'attention_mask', 'labels'],\n",
              "        num_rows: 40\n",
              "    })\n",
              "})"
            ]
          },
          "metadata": {},
          "execution_count": 17
        }
      ],
      "source": [
        "encoded_dataset"
      ]
    },
    {
      "cell_type": "markdown",
      "source": [
        "Set the format of encoded_dataset to PyTorch tensors. This will turn the training, validation and test sets into standard PyTorch [datasets]"
      ],
      "metadata": {
        "id": "9u9Q4vPoizkF"
      }
    },
    {
      "cell_type": "code",
      "execution_count": null,
      "metadata": {
        "id": "zouV0Nr9oOWN"
      },
      "outputs": [],
      "source": [
        "encoded_dataset.set_format(\"torch\")"
      ]
    },
    {
      "cell_type": "markdown",
      "metadata": {
        "id": "9n8yGtvdsckK"
      },
      "source": [
        "## Define model\n",
        "\n",
        "Define a model that includes a pre-trained base (i.e. the weights from the distilbert-base-cased) which is loaded, with a random initialized classification head (linear layer) on top. Fine-tune this head, together with the pre-trained base on a labeled dataset. Set the id2label and label2id mappings to make sure the output layer has `len(labels)` output neurons."
      ]
    },
    {
      "cell_type": "code",
      "execution_count": null,
      "metadata": {
        "colab": {
          "base_uri": "https://localhost:8080/",
          "height": 161,
          "referenced_widgets": [
            "b62c4b2c51354f2b8e162c6ea6b2d5f5",
            "642a050f212c42a2bd11b9762d4fe9b2",
            "8578802a5247439687e547a8528b2e2f",
            "a947ab8d4d4f4f42be0f23376038de1c",
            "fee1789492ff4b999ba178a0992a4a7c",
            "6b73c007743f4612a7f88080f678638b",
            "1e64a3771f844201931ffdffeaa289b3",
            "0ce0d57f2c504e04bb0cf057027c6a67",
            "26c2db1d39e240f0bf0cd6d1beeb04b6",
            "1980ea01d7af42b4ab757100c9e30113",
            "6c2537a81e6d45739b61b5af9a72fe34"
          ]
        },
        "id": "PA49REZ2srhp",
        "outputId": "5daee410-13e2-496f-c19a-9cd380cfc17f"
      },
      "outputs": [
        {
          "output_type": "display_data",
          "data": {
            "text/plain": [
              "Downloading:   0%|          | 0.00/251M [00:00<?, ?B/s]"
            ],
            "application/vnd.jupyter.widget-view+json": {
              "version_major": 2,
              "version_minor": 0,
              "model_id": "b62c4b2c51354f2b8e162c6ea6b2d5f5"
            }
          },
          "metadata": {}
        },
        {
          "output_type": "stream",
          "name": "stderr",
          "text": [
            "Some weights of the model checkpoint at distilbert-base-cased were not used when initializing DistilBertForSequenceClassification: ['vocab_layer_norm.bias', 'vocab_transform.bias', 'vocab_transform.weight', 'vocab_layer_norm.weight', 'vocab_projector.weight', 'vocab_projector.bias']\n",
            "- This IS expected if you are initializing DistilBertForSequenceClassification from the checkpoint of a model trained on another task or with another architecture (e.g. initializing a BertForSequenceClassification model from a BertForPreTraining model).\n",
            "- This IS NOT expected if you are initializing DistilBertForSequenceClassification from the checkpoint of a model that you expect to be exactly identical (initializing a BertForSequenceClassification model from a BertForSequenceClassification model).\n",
            "Some weights of DistilBertForSequenceClassification were not initialized from the model checkpoint at distilbert-base-cased and are newly initialized: ['classifier.bias', 'classifier.weight', 'pre_classifier.bias', 'pre_classifier.weight']\n",
            "You should probably TRAIN this model on a down-stream task to be able to use it for predictions and inference.\n"
          ]
        }
      ],
      "source": [
        "from transformers import AutoModelForSequenceClassification\n",
        "model = AutoModelForSequenceClassification.from_pretrained(\"distilbert-base-cased\",\n",
        "                                                           num_labels=len(labels),\n",
        "                                                           id2label=id2label,\n",
        "                                                           label2id=label2id)"
      ]
    },
    {
      "cell_type": "markdown",
      "metadata": {
        "id": "MvkxV0__tFmP"
      },
      "source": [
        "## Train the model!\n",
        "\n",
        "We are going to train the model using native Pytorch. This requires us to define 2 things: \n",
        "\n",
        "* `DataLoader`:Create a DataLoader for your training, validation and test datasets so you can iterate over batches of data.\n",
        "* `Optimizer`\n",
        "* `Learning rate scheduler`\n",
        "\n"
      ]
    },
    {
      "cell_type": "code",
      "execution_count": null,
      "metadata": {
        "id": "NWt_8vCltFII"
      },
      "outputs": [],
      "source": [
        "fix_seed = 42\n",
        "fixed_batch_size = 8\n",
        "fixed_learning_rate = 2e-5\n",
        "num_epochs = 5"
      ]
    },
    {
      "cell_type": "code",
      "execution_count": null,
      "metadata": {
        "id": "fyRYkf1oppyk"
      },
      "outputs": [],
      "source": [
        "#DataLoader\n",
        "from torch.utils.data import DataLoader\n",
        "\n",
        "train_dataloader = DataLoader(encoded_dataset[\"train\"], batch_size = fixed_batch_size)\n",
        "eval_dataloader = DataLoader(encoded_dataset[\"validation\"], batch_size = fixed_batch_size)"
      ]
    },
    {
      "cell_type": "code",
      "execution_count": null,
      "metadata": {
        "id": "J7EIa4d2sao5"
      },
      "outputs": [],
      "source": [
        "#Optimizer\n",
        "from torch.optim import AdamW\n",
        "optimizer = AdamW(model.parameters(),lr = fixed_learning_rate)\n"
      ]
    },
    {
      "cell_type": "code",
      "execution_count": null,
      "metadata": {
        "id": "rW_hl8-ps0JJ"
      },
      "outputs": [],
      "source": [
        "#Learning rate scheduler \n",
        "\n",
        "from transformers import get_scheduler\n",
        "\n",
        "num_training_steps = num_epochs * len(train_dataloader)\n",
        "\n",
        "lr_scheduler = get_scheduler(name=\"linear\", optimizer = optimizer, num_warmup_steps=0, num_training_steps=num_training_steps)"
      ]
    },
    {
      "cell_type": "markdown",
      "metadata": {
        "id": "M3WoGSMOuEqA"
      },
      "source": [
        "Compute accuracy, precision, recall, F-measure while training. For this, define the multi_class_metric function."
      ]
    },
    {
      "cell_type": "code",
      "execution_count": null,
      "metadata": {
        "id": "PNjiVr3wgMrF"
      },
      "outputs": [],
      "source": [
        "# Function to calculate the accuracy, precision, recall, F-measure of our predictions vs labels\n",
        "from sklearn.metrics import precision_recall_fscore_support\n",
        "\n",
        "def multi_class_metric(labels,preds):\n",
        "    pred_flat = preds.flatten()\n",
        "    labels_flat = labels.flatten()\n",
        "    accuracy = np.sum(pred_flat == labels_flat) / len(labels_flat)\n",
        "    precision_macro, recall_macro, f1_macro_average,_ = precision_recall_fscore_support(labels,preds,average='macro',zero_division = 0)\n",
        "    # return as dictionary\n",
        "    metrics = {\n",
        "               'f1': f1_macro_average,\n",
        "               'accuracy': accuracy,\n",
        "               'precision': precision_macro,\n",
        "               'recall': recall_macro\n",
        "               }\n",
        "    return metrics"
      ]
    },
    {
      "cell_type": "code",
      "execution_count": null,
      "metadata": {
        "colab": {
          "base_uri": "https://localhost:8080/"
        },
        "id": "TJ0sp06fDAX0",
        "outputId": "36d56787-c8b2-4eab-e1d6-667d0684493f"
      },
      "outputs": [
        {
          "output_type": "execute_result",
          "data": {
            "text/plain": [
              "DistilBertForSequenceClassification(\n",
              "  (distilbert): DistilBertModel(\n",
              "    (embeddings): Embeddings(\n",
              "      (word_embeddings): Embedding(28996, 768, padding_idx=0)\n",
              "      (position_embeddings): Embedding(512, 768)\n",
              "      (LayerNorm): LayerNorm((768,), eps=1e-12, elementwise_affine=True)\n",
              "      (dropout): Dropout(p=0.1, inplace=False)\n",
              "    )\n",
              "    (transformer): Transformer(\n",
              "      (layer): ModuleList(\n",
              "        (0): TransformerBlock(\n",
              "          (attention): MultiHeadSelfAttention(\n",
              "            (dropout): Dropout(p=0.1, inplace=False)\n",
              "            (q_lin): Linear(in_features=768, out_features=768, bias=True)\n",
              "            (k_lin): Linear(in_features=768, out_features=768, bias=True)\n",
              "            (v_lin): Linear(in_features=768, out_features=768, bias=True)\n",
              "            (out_lin): Linear(in_features=768, out_features=768, bias=True)\n",
              "          )\n",
              "          (sa_layer_norm): LayerNorm((768,), eps=1e-12, elementwise_affine=True)\n",
              "          (ffn): FFN(\n",
              "            (dropout): Dropout(p=0.1, inplace=False)\n",
              "            (lin1): Linear(in_features=768, out_features=3072, bias=True)\n",
              "            (lin2): Linear(in_features=3072, out_features=768, bias=True)\n",
              "            (activation): GELUActivation()\n",
              "          )\n",
              "          (output_layer_norm): LayerNorm((768,), eps=1e-12, elementwise_affine=True)\n",
              "        )\n",
              "        (1): TransformerBlock(\n",
              "          (attention): MultiHeadSelfAttention(\n",
              "            (dropout): Dropout(p=0.1, inplace=False)\n",
              "            (q_lin): Linear(in_features=768, out_features=768, bias=True)\n",
              "            (k_lin): Linear(in_features=768, out_features=768, bias=True)\n",
              "            (v_lin): Linear(in_features=768, out_features=768, bias=True)\n",
              "            (out_lin): Linear(in_features=768, out_features=768, bias=True)\n",
              "          )\n",
              "          (sa_layer_norm): LayerNorm((768,), eps=1e-12, elementwise_affine=True)\n",
              "          (ffn): FFN(\n",
              "            (dropout): Dropout(p=0.1, inplace=False)\n",
              "            (lin1): Linear(in_features=768, out_features=3072, bias=True)\n",
              "            (lin2): Linear(in_features=3072, out_features=768, bias=True)\n",
              "            (activation): GELUActivation()\n",
              "          )\n",
              "          (output_layer_norm): LayerNorm((768,), eps=1e-12, elementwise_affine=True)\n",
              "        )\n",
              "        (2): TransformerBlock(\n",
              "          (attention): MultiHeadSelfAttention(\n",
              "            (dropout): Dropout(p=0.1, inplace=False)\n",
              "            (q_lin): Linear(in_features=768, out_features=768, bias=True)\n",
              "            (k_lin): Linear(in_features=768, out_features=768, bias=True)\n",
              "            (v_lin): Linear(in_features=768, out_features=768, bias=True)\n",
              "            (out_lin): Linear(in_features=768, out_features=768, bias=True)\n",
              "          )\n",
              "          (sa_layer_norm): LayerNorm((768,), eps=1e-12, elementwise_affine=True)\n",
              "          (ffn): FFN(\n",
              "            (dropout): Dropout(p=0.1, inplace=False)\n",
              "            (lin1): Linear(in_features=768, out_features=3072, bias=True)\n",
              "            (lin2): Linear(in_features=3072, out_features=768, bias=True)\n",
              "            (activation): GELUActivation()\n",
              "          )\n",
              "          (output_layer_norm): LayerNorm((768,), eps=1e-12, elementwise_affine=True)\n",
              "        )\n",
              "        (3): TransformerBlock(\n",
              "          (attention): MultiHeadSelfAttention(\n",
              "            (dropout): Dropout(p=0.1, inplace=False)\n",
              "            (q_lin): Linear(in_features=768, out_features=768, bias=True)\n",
              "            (k_lin): Linear(in_features=768, out_features=768, bias=True)\n",
              "            (v_lin): Linear(in_features=768, out_features=768, bias=True)\n",
              "            (out_lin): Linear(in_features=768, out_features=768, bias=True)\n",
              "          )\n",
              "          (sa_layer_norm): LayerNorm((768,), eps=1e-12, elementwise_affine=True)\n",
              "          (ffn): FFN(\n",
              "            (dropout): Dropout(p=0.1, inplace=False)\n",
              "            (lin1): Linear(in_features=768, out_features=3072, bias=True)\n",
              "            (lin2): Linear(in_features=3072, out_features=768, bias=True)\n",
              "            (activation): GELUActivation()\n",
              "          )\n",
              "          (output_layer_norm): LayerNorm((768,), eps=1e-12, elementwise_affine=True)\n",
              "        )\n",
              "        (4): TransformerBlock(\n",
              "          (attention): MultiHeadSelfAttention(\n",
              "            (dropout): Dropout(p=0.1, inplace=False)\n",
              "            (q_lin): Linear(in_features=768, out_features=768, bias=True)\n",
              "            (k_lin): Linear(in_features=768, out_features=768, bias=True)\n",
              "            (v_lin): Linear(in_features=768, out_features=768, bias=True)\n",
              "            (out_lin): Linear(in_features=768, out_features=768, bias=True)\n",
              "          )\n",
              "          (sa_layer_norm): LayerNorm((768,), eps=1e-12, elementwise_affine=True)\n",
              "          (ffn): FFN(\n",
              "            (dropout): Dropout(p=0.1, inplace=False)\n",
              "            (lin1): Linear(in_features=768, out_features=3072, bias=True)\n",
              "            (lin2): Linear(in_features=3072, out_features=768, bias=True)\n",
              "            (activation): GELUActivation()\n",
              "          )\n",
              "          (output_layer_norm): LayerNorm((768,), eps=1e-12, elementwise_affine=True)\n",
              "        )\n",
              "        (5): TransformerBlock(\n",
              "          (attention): MultiHeadSelfAttention(\n",
              "            (dropout): Dropout(p=0.1, inplace=False)\n",
              "            (q_lin): Linear(in_features=768, out_features=768, bias=True)\n",
              "            (k_lin): Linear(in_features=768, out_features=768, bias=True)\n",
              "            (v_lin): Linear(in_features=768, out_features=768, bias=True)\n",
              "            (out_lin): Linear(in_features=768, out_features=768, bias=True)\n",
              "          )\n",
              "          (sa_layer_norm): LayerNorm((768,), eps=1e-12, elementwise_affine=True)\n",
              "          (ffn): FFN(\n",
              "            (dropout): Dropout(p=0.1, inplace=False)\n",
              "            (lin1): Linear(in_features=768, out_features=3072, bias=True)\n",
              "            (lin2): Linear(in_features=3072, out_features=768, bias=True)\n",
              "            (activation): GELUActivation()\n",
              "          )\n",
              "          (output_layer_norm): LayerNorm((768,), eps=1e-12, elementwise_affine=True)\n",
              "        )\n",
              "      )\n",
              "    )\n",
              "  )\n",
              "  (pre_classifier): Linear(in_features=768, out_features=768, bias=True)\n",
              "  (classifier): Linear(in_features=768, out_features=12, bias=True)\n",
              "  (dropout): Dropout(p=0.2, inplace=False)\n",
              ")"
            ]
          },
          "metadata": {},
          "execution_count": 25
        }
      ],
      "source": [
        "model.to(device)"
      ]
    },
    {
      "cell_type": "markdown",
      "metadata": {
        "id": "BFvKwsQxY8j5"
      },
      "source": [
        "Create a function for formatting elapsed times as hh:mm:ss"
      ]
    },
    {
      "cell_type": "code",
      "execution_count": null,
      "metadata": {
        "id": "MJl3_XGYmH_3"
      },
      "outputs": [],
      "source": [
        "import time\n",
        "import datetime\n",
        "\n",
        "def format_time(elapsed):\n",
        "    '''\n",
        "    Takes a time in seconds and returns a string hh:mm:ss\n",
        "    '''\n",
        "    # Round to the nearest second.\n",
        "    elapsed_rounded = int(round((elapsed)))\n",
        "    \n",
        "    # Format as hh:mm:ss\n",
        "    return str(datetime.timedelta(seconds=elapsed_rounded))\n"
      ]
    },
    {
      "cell_type": "markdown",
      "metadata": {
        "id": "ChQzme1oXkPk"
      },
      "source": [
        "Create two directories to store **checkpoint** and **best_model**"
      ]
    },
    {
      "cell_type": "code",
      "execution_count": null,
      "metadata": {
        "id": "bcJJWtI0XCAn"
      },
      "outputs": [],
      "source": [
        "%mkdir /content/drive/MyDrive/Full_Code/FINREP/Parentheses_Removed/Epochs_5/checkpoint\n",
        "%mkdir /content/drive/MyDrive/Full_Code/FINREP/Parentheses_Removed/Epochs_5/best_model"
      ]
    },
    {
      "cell_type": "markdown",
      "metadata": {
        "id": "NIMRwdAiXa8h"
      },
      "source": [
        "Saving function\n",
        "**save_ckp** is created to save checkpoint, the latest one and the best one. This creates flexibility: either you are interested in the state of the latest checkpoint or the best checkpoint."
      ]
    },
    {
      "cell_type": "code",
      "execution_count": null,
      "metadata": {
        "id": "KKL5-NO9XQ9S"
      },
      "outputs": [],
      "source": [
        "import shutil\n",
        "def save_ckp(state, is_best, checkpoint_path, best_model_path):\n",
        "    \"\"\"\n",
        "    state: checkpoint we want to save\n",
        "    is_best: is this the best checkpoint; min validation loss\n",
        "    checkpoint_path: path to save checkpoint\n",
        "    best_model_path: path to save best model\n",
        "    \"\"\"\n",
        "    f_path = checkpoint_path\n",
        "    # save checkpoint data to the path given, checkpoint_path\n",
        "    torch.save(state, f_path)\n",
        "    # if it is a best model, min validation loss\n",
        "    if is_best:\n",
        "        best_fpath = best_model_path\n",
        "        # copy that checkpoint file to best path given, best_model_path\n",
        "        shutil.copyfile(f_path, best_fpath)"
      ]
    },
    {
      "cell_type": "markdown",
      "metadata": {
        "id": "lidMA6MA0UJf"
      },
      "source": [
        "Loading Function.\n",
        "\n",
        "**load_chkp** is created for loading model. \n",
        "\n",
        "It takes:\n",
        "*   location of the saved checkpoint\n",
        "*   model instance that you want to load the state to\n",
        "*   the optimizer"
      ]
    },
    {
      "cell_type": "code",
      "execution_count": null,
      "metadata": {
        "id": "dIhiLbox0Y7V"
      },
      "outputs": [],
      "source": [
        "def load_ckp(checkpoint_fpath, model, optimizer):\n",
        "    \"\"\"\n",
        "    checkpoint_path: path to save checkpoint\n",
        "    model: model that we want to load checkpoint parameters into       \n",
        "    optimizer: optimizer we defined in previous training\n",
        "    \"\"\"\n",
        "    # load check point\n",
        "    checkpoint = torch.load(checkpoint_fpath)\n",
        "    # initialize state_dict from checkpoint to model\n",
        "    model.load_state_dict(checkpoint['state_dict'])\n",
        "    # initialize optimizer from checkpoint to optimizer\n",
        "    optimizer.load_state_dict(checkpoint['optimizer'])\n",
        "    # initialize valid_loss_min from checkpoint to valid_loss_min\n",
        "    valid_loss_min = checkpoint['valid_loss_min']\n",
        "    # return model, optimizer, epoch value, min validation loss \n",
        "    return model, optimizer, checkpoint['epoch'], valid_loss_min\n"
      ]
    },
    {
      "cell_type": "markdown",
      "metadata": {
        "id": "2jq2NwPW2u2-"
      },
      "source": [
        "Start Training "
      ]
    },
    {
      "cell_type": "code",
      "execution_count": null,
      "metadata": {
        "colab": {
          "base_uri": "https://localhost:8080/",
          "height": 1000,
          "referenced_widgets": [
            "43207db981eb4b428614b94f4207373c",
            "0c9ea15f786f4439afb3a8f40a7619ff",
            "b53929e543834b9d9e4810261bc83232",
            "c0bd618f6fd1478ab8c7341f1bb92746",
            "0cbee4cb88a2450dbfc00ecc07f9afcc",
            "05ed85074f214553a10c2241a73f5c3e",
            "5bbf091d7d9c4b3a8ccd96b391b6137c",
            "0f57d95f3c6e487ebe2ad2d185e8e42b",
            "de29c70fc96f411db06cfb049bc281d3",
            "e257d29a01504f3882e419865e935ca8",
            "3d707a226578469f8800b437bcb9ac27"
          ]
        },
        "id": "OnGI2PHjyFtK",
        "outputId": "cd8a3a31-5890-4d63-9e35-56c3b544af16"
      },
      "outputs": [
        {
          "output_type": "display_data",
          "data": {
            "text/plain": [
              "  0%|          | 0/5 [00:00<?, ?it/s]"
            ],
            "application/vnd.jupyter.widget-view+json": {
              "version_major": 2,
              "version_minor": 0,
              "model_id": "43207db981eb4b428614b94f4207373c"
            }
          },
          "metadata": {}
        },
        {
          "output_type": "stream",
          "name": "stdout",
          "text": [
            "\n",
            "======== Epoch 1 / 5 ========\n",
            "Training...\n",
            " Training f1-score: 0.07\n",
            " Training Accuracy: 0.20\n",
            " Training Precision: 0.15\n",
            " Training Recall: 0.05\n",
            "  Average training loss: 2.44\n",
            "  Training epoch took: 0:00:03\n",
            "\n",
            "Running Validation...\n",
            " Validation f1-score: 0.05\n",
            " Validation Accuracy: 0.20\n",
            " Validation Precision: 0.16\n",
            " Validation Recall: 0.03\n",
            "  Validation Loss: 4.74\n",
            "  Validation took: 0:00:00\n",
            "Validation loss decreased (inf --> 4.740537).  Saving model ...\n",
            "\n",
            "======== Epoch 2 / 5 ========\n",
            "Training...\n",
            " Training f1-score: 0.07\n",
            " Training Accuracy: 0.20\n",
            " Training Precision: 0.17\n",
            " Training Recall: 0.04\n",
            "  Average training loss: 2.32\n",
            "  Training epoch took: 0:00:02\n",
            "\n",
            "Running Validation...\n",
            " Validation f1-score: 0.07\n",
            " Validation Accuracy: 0.23\n",
            " Validation Precision: 0.17\n",
            " Validation Recall: 0.06\n",
            "  Validation Loss: 4.56\n",
            "  Validation took: 0:00:00\n",
            "Validation loss decreased (4.740537 --> 4.560011).  Saving model ...\n",
            "\n",
            "======== Epoch 3 / 5 ========\n",
            "Training...\n",
            " Training f1-score: 0.11\n",
            " Training Accuracy: 0.25\n",
            " Training Precision: 0.19\n",
            " Training Recall: 0.09\n",
            "  Average training loss: 2.21\n",
            "  Training epoch took: 0:00:02\n",
            "\n",
            "Running Validation...\n",
            " Validation f1-score: 0.17\n",
            " Validation Accuracy: 0.35\n",
            " Validation Precision: 0.30\n",
            " Validation Recall: 0.13\n",
            "  Validation Loss: 4.42\n",
            "  Validation took: 0:00:00\n",
            "Validation loss decreased (4.560011 --> 4.423395).  Saving model ...\n",
            "\n",
            "======== Epoch 4 / 5 ========\n",
            "Training...\n",
            " Training f1-score: 0.15\n",
            " Training Accuracy: 0.27\n",
            " Training Precision: 0.22\n",
            " Training Recall: 0.12\n",
            "  Average training loss: 2.14\n",
            "  Training epoch took: 0:00:02\n",
            "\n",
            "Running Validation...\n",
            " Validation f1-score: 0.18\n",
            " Validation Accuracy: 0.35\n",
            " Validation Precision: 0.30\n",
            " Validation Recall: 0.14\n",
            "  Validation Loss: 4.33\n",
            "  Validation took: 0:00:00\n",
            "Validation loss decreased (4.423395 --> 4.332630).  Saving model ...\n",
            "\n",
            "======== Epoch 5 / 5 ========\n",
            "Training...\n",
            " Training f1-score: 0.15\n",
            " Training Accuracy: 0.32\n",
            " Training Precision: 0.26\n",
            " Training Recall: 0.11\n",
            "  Average training loss: 2.08\n",
            "  Training epoch took: 0:00:03\n",
            "\n",
            "Running Validation...\n",
            " Validation f1-score: 0.18\n",
            " Validation Accuracy: 0.38\n",
            " Validation Precision: 0.32\n",
            " Validation Recall: 0.14\n",
            "  Validation Loss: 4.30\n",
            "  Validation took: 0:00:00\n",
            "Validation loss decreased (4.332630 --> 4.297624).  Saving model ...\n",
            "\n",
            "Training complete!\n",
            "\n",
            "Total time taken on the training data across all epochs: 0:00:12 (h:mm:ss)\n",
            "Average time take per epoch on training data: 0:00:02 (h:mm:ss)\n",
            "\n",
            "Total time taken on the validation data across all epochs: 0:00:02 (h:mm:ss)\n",
            "Average time take per epoch on validation data: 0:00:00 (h:mm:ss)\n",
            "\n",
            "Total training time taken across all epochs [Validation and model saving time included]: 0:01:07 (h:mm:ss)\n",
            "Average time take per epoch [Validation and model saving time included]: 0:00:13 (h:mm:ss)\n"
          ]
        }
      ],
      "source": [
        "import random\n",
        "from tqdm.auto import tqdm\n",
        "\n",
        "\n",
        "# This training code is based on the `run_glue.py` script here:\n",
        "# https://github.com/huggingface/transformers/blob/5bfcd0485ece086ebcbed2d008813037968a9e58/examples/run_glue.py#L128\n",
        "\n",
        "\n",
        "random.seed(fix_seed)\n",
        "np.random.seed(fix_seed)\n",
        "torch.manual_seed(fix_seed)\n",
        "torch.cuda.manual_seed_all(fix_seed)\n",
        "\n",
        "\n",
        "\n",
        "# We'll store a number of quantities such as training and validation loss, \n",
        "# validation accuracy, and timings.\n",
        "training_stats = []\n",
        "\n",
        "# Measure the total training time for the whole run.\n",
        "total_t0 = time.time()\n",
        "\n",
        "progress_bar = tqdm(range(num_epochs))\n",
        "\n",
        "\n",
        "valid_loss_min_input = np.Inf\n",
        "# Initialize tracker for minimum validation loss\n",
        "valid_loss_min = valid_loss_min_input \n",
        "# Create paths for storing the current checkpoint and best model checkpoint\n",
        "checkpoint_path = saved_path + \"checkpoint/current_checkpoint.pt\"\n",
        "best_model_path = saved_path + \"/best_model/best_model.pt\"\n",
        "\n",
        "# Reset time taken for Training Data and Validation Data across all epochs\n",
        "training_time_only = 0\n",
        "validation_time_only = 0\n",
        "\n",
        "# For each epoch...\n",
        "for epoch_i in range(0, num_epochs):\n",
        "    \n",
        "    # ========================================\n",
        "    #               Training\n",
        "    # ========================================\n",
        "    \n",
        "    # Perform one full pass over the training set.\n",
        "\n",
        "    print(\"\")\n",
        "    print('======== Epoch {:} / {:} ========'.format(epoch_i + 1, num_epochs))\n",
        "    print('Training...')\n",
        "\n",
        "    \n",
        "\n",
        "    # Reset the total loss and other metrics for this epoch.\n",
        "    total_train_loss = 0\n",
        "    total_train_f1 = 0\n",
        "    total_train_accuracy = 0\n",
        "    total_train_precision = 0\n",
        "    total_train_recall = 0\n",
        "\n",
        "    # Reset the time taken on Training data and Validation data across this epoch\n",
        "    training_time_epoch = 0\n",
        "    validation_time_epoch = 0\n",
        "\n",
        "    # Measure how long the training epoch takes.\n",
        "    train_t0 = time.time()\n",
        "\n",
        "    # Put the model into training mode.\n",
        "    \n",
        "    model.train()\n",
        "    for batch in train_dataloader:\n",
        "      train_batch = {k: v.to(device) for k, v in batch.items()}\n",
        "      train_outputs = model(**train_batch)\n",
        "      train_loss = train_outputs.loss\n",
        "      train_logits = train_outputs.logits\n",
        "      train_predictions = torch.argmax(train_logits, dim=-1)\n",
        "      total_train_loss += train_loss.item()\n",
        "      train_metrics= multi_class_metric(train_predictions.detach().cpu().numpy(), train_batch[\"labels\"].to('cpu').numpy())\n",
        "      train_f1 = train_metrics['f1']\n",
        "      train_accuracy = train_metrics['accuracy']\n",
        "      train_precision =train_metrics['precision']\n",
        "      train_recall = train_metrics['recall']\n",
        "      \n",
        "      total_train_f1 += train_f1\n",
        "      total_train_accuracy += train_accuracy\n",
        "      total_train_precision += train_precision\n",
        "      total_train_recall += train_recall\n",
        "      train_loss.backward()\n",
        "\n",
        "      # Clip the norm of the gradients to 1.0.\n",
        "      #This is to help prevent the \"exploding gradients\" problem.\n",
        "      torch.nn.utils.clip_grad_norm_(model.parameters(), 1.0) \n",
        "\n",
        "      # Update parameters and take a step using the computed gradient.\n",
        "      # The optimizer dictates the \"update rule\"--how the parameters are\n",
        "      # modified based on their gradients, the learning rate, etc.\n",
        "      optimizer.step()\n",
        "      lr_scheduler.step()\n",
        "      optimizer.zero_grad() \n",
        "    \n",
        "    # Measure how long the Training run took.\n",
        "    training_time_epoch = time.time() - train_t0   \n",
        "      \n",
        "    # Calculate the average loss over all of the batches.\n",
        "    avg_train_loss = total_train_loss / len(train_dataloader)  \n",
        "\n",
        "    # Report the final f1-score for this training run.   \n",
        "    avg_train_f1 = total_train_f1 / len(train_dataloader)\n",
        "\n",
        "    # Report the final accuracy for this training run.   \n",
        "    avg_train_accuracy = total_train_accuracy / len(train_dataloader)\n",
        "\n",
        "    # Report the final precision for this training run.   \n",
        "    avg_train_precision = total_train_precision / len(train_dataloader)\n",
        "\n",
        "    # Report the final recall for this training run.   \n",
        "    avg_train_recall = total_train_recall / len(train_dataloader)\n",
        "\n",
        "              \n",
        "    #Accumulate the total time on trainind data across all epochs  \n",
        "    training_time_only +=  training_time_epoch   \n",
        "\n",
        "    print(\" Training f1-score: {0:.2f}\".format(avg_train_f1)) \n",
        "    print(\" Training Accuracy: {0:.2f}\".format(avg_train_accuracy)) \n",
        "    print(\" Training Precision: {0:.2f}\".format(avg_train_precision)) \n",
        "    print(\" Training Recall: {0:.2f}\".format(avg_train_recall))  \n",
        "    print(\"  Average training loss: {0:.2f}\".format(avg_train_loss))\n",
        "    print(\"  Training epoch took: {:}\".format(format_time(training_time_epoch)))\n",
        "    # ========================================\n",
        "    #               Validation\n",
        "    # ========================================\n",
        "    # After the completion of each training epoch, measure our performance on\n",
        "    # our validation set.\n",
        "\n",
        "    print(\"\")\n",
        "    print(\"Running Validation...\")\n",
        "\n",
        "    val_t0 = time.time()\n",
        "    # Put the model in evaluation mode--the dropout layers behave differently\n",
        "    # during evaluation.\n",
        "    model.eval()\n",
        "\n",
        "    # Tracking variables \n",
        "    total_eval_f1 = 0\n",
        "    total_eval_accuracy = 0\n",
        "    total_eval_precision = 0\n",
        "    total_eval_recall = 0\n",
        "    total_eval_loss = 0\n",
        "\n",
        "\n",
        "    # Evaluate data for one epoch\n",
        "    for batch in eval_dataloader:\n",
        "      val_batch = {k: v.to(device) for k, v in batch.items()}\n",
        "     \n",
        "      # Tell pytorch not to bother with constructing the compute graph during\n",
        "      # the forward pass, since this is only needed for backprop (training).\n",
        "      with torch.no_grad():\n",
        "        val_outputs = model(**val_batch)\n",
        "        \n",
        "      val_loss = val_outputs.loss\n",
        "      val_logits = val_outputs.logits\n",
        "      val_predictions = torch.argmax(val_logits, dim=-1)\n",
        "     \n",
        "      total_eval_loss += val_loss.item()\n",
        "\n",
        "      val_metrics = multi_class_metric(val_predictions.detach().cpu().numpy(), val_batch[\"labels\"].to('cpu').numpy())\n",
        "      val_f1 = val_metrics['f1']\n",
        "      val_accuracy = val_metrics['accuracy']\n",
        "      val_precision =val_metrics['precision']\n",
        "      val_recall = val_metrics['recall']\n",
        "\n",
        "      total_eval_f1 += val_f1\n",
        "      total_eval_accuracy += val_accuracy\n",
        "      total_eval_precision += val_precision\n",
        "      total_eval_recall += val_recall\n",
        "\n",
        "      # Accumulate the validation loss.\n",
        "      total_eval_loss += val_loss.item()\n",
        "        \n",
        "    # Measure how long the validation run took.\n",
        "    validation_time_epoch = time.time() - val_t0\n",
        "\n",
        "    # Report the final metrics for this validation run.   \n",
        "    avg_val_f1 = total_eval_f1 / len(eval_dataloader)\n",
        "    avg_val_accuracy = total_eval_accuracy / len(eval_dataloader)\n",
        "    avg_val_precision = total_eval_precision / len(eval_dataloader)\n",
        "    avg_val_recall = total_eval_recall / len(eval_dataloader)\n",
        "\n",
        "\n",
        "    print(\" Validation f1-score: {0:.2f}\".format(avg_val_f1)) \n",
        "    print(\" Validation Accuracy: {0:.2f}\".format(avg_val_accuracy))\n",
        "    print(\" Validation Precision: {0:.2f}\".format(avg_val_precision)) \n",
        "    print(\" Validation Recall: {0:.2f}\".format(avg_val_recall)) \n",
        "    \n",
        "\n",
        "    # Calculate the average loss over all of the batches.\n",
        "    avg_val_loss = total_eval_loss / len(eval_dataloader)\n",
        "    \n",
        "    \n",
        "    #Accumulate the the total validation time across all epochs \n",
        "    validation_time_only += validation_time_epoch\n",
        "    \n",
        "    print(\"  Validation Loss: {0:.2f}\".format(avg_val_loss))\n",
        "    print(\"  Validation took: {:}\".format(format_time(validation_time_epoch)))\n",
        "\n",
        "    # Record all statistics from this epoch.\n",
        "    training_stats.append(\n",
        "        {\n",
        "            'epoch': epoch_i + 1,\n",
        "            'Training Loss': avg_train_loss,\n",
        "            'Valid. Loss': avg_val_loss,\n",
        "            'Training f1': avg_train_f1,\n",
        "            'Valid. f1': avg_val_f1,\n",
        "            'Training Accur.': avg_train_accuracy,\n",
        "            'Valid. Accur.': avg_val_accuracy,\n",
        "            'Training Precision': avg_train_precision,\n",
        "            'Valid. Precision': avg_val_precision,\n",
        "            'Training Recall': avg_train_recall,\n",
        "            'Valid. Recall': avg_val_recall,\n",
        "            'Training Time': format_time(training_time_epoch),\n",
        "            'Validation Time': format_time(validation_time_epoch)\n",
        "        }\n",
        "    )\n",
        "    # Create checkpoint variable and add important data\n",
        "    checkpoint = {\n",
        "        'epoch': epoch_i + 1,\n",
        "        'valid_loss_min': avg_val_loss,\n",
        "        'state_dict': model.state_dict(),\n",
        "        'optimizer': optimizer.state_dict(),\n",
        "    }\n",
        "        \n",
        "    # Save checkpoint\n",
        "    save_ckp(checkpoint, False, checkpoint_path, best_model_path)\n",
        "    ## Save the model if validation loss has decreased\n",
        "    if avg_val_loss <= valid_loss_min:\n",
        "        print('Validation loss decreased ({:.6f} --> {:.6f}).  Saving model ...'.format(valid_loss_min,avg_val_loss))\n",
        "        # Save checkpoint as best model\n",
        "        save_ckp(checkpoint, True, checkpoint_path, best_model_path)\n",
        "        valid_loss_min = avg_val_loss\n",
        "    progress_bar.update(1)\n",
        "print(\"\")\n",
        "print(\"Training complete!\")\n",
        "total_training_time = time.time() - total_t0\n",
        "\n",
        "# Total Training time (without validation and model saving time)\n",
        "print(\"\\nTotal time taken on the training data across all epochs: {:} (h:mm:ss)\".format(format_time(training_time_only)))\n",
        "print(\"Average time take per epoch on training data: {:} (h:mm:ss)\".format(format_time(training_time_only/num_epochs)))\n",
        "\n",
        "# Total Validation time (without training and model saving time)\n",
        "print(\"\\nTotal time taken on the validation data across all epochs: {:} (h:mm:ss)\".format(format_time(validation_time_only)))\n",
        "print(\"Average time take per epoch on validation data: {:} (h:mm:ss)\".format(format_time(validation_time_only/num_epochs)))\n",
        "\n",
        "#Total time taken for training, Validation and model saving\n",
        "print(\"\\nTotal training time taken across all epochs [Validation and model saving time included]: {:} (h:mm:ss)\".format(format_time(total_training_time)))\n",
        "print(\"Average time take per epoch [Validation and model saving time included]: {:} (h:mm:ss)\".format(format_time(total_training_time/num_epochs)))\n",
        "\n",
        "\n"
      ]
    },
    {
      "cell_type": "markdown",
      "metadata": {
        "id": "KHusGHxBiSSz"
      },
      "source": [
        "**The best model is saved at epoch 5. The macro-averaged f1-score for training: 0.15. The macro-averaged f1-score for validation: 0.18**"
      ]
    },
    {
      "cell_type": "code",
      "execution_count": null,
      "metadata": {
        "id": "CgOm-DMdx-7Z",
        "colab": {
          "base_uri": "https://localhost:8080/",
          "height": 255
        },
        "outputId": "29adecaf-cc2f-4d7e-e90b-04bb67453494"
      },
      "outputs": [
        {
          "output_type": "execute_result",
          "data": {
            "text/plain": [
              "<pandas.io.formats.style.Styler at 0x7fd93c737650>"
            ],
            "text/html": [
              "<style type=\"text/css\">\n",
              "#T_7921b_ th {\n",
              "  max-width: 70px;\n",
              "}\n",
              "</style>\n",
              "<table id=\"T_7921b_\" class=\"dataframe\">\n",
              "  <thead>\n",
              "    <tr>\n",
              "      <th class=\"blank level0\" >&nbsp;</th>\n",
              "      <th class=\"col_heading level0 col0\" >Training Loss</th>\n",
              "      <th class=\"col_heading level0 col1\" >Valid. Loss</th>\n",
              "      <th class=\"col_heading level0 col2\" >Training f1</th>\n",
              "      <th class=\"col_heading level0 col3\" >Valid. f1</th>\n",
              "      <th class=\"col_heading level0 col4\" >Training Accur.</th>\n",
              "      <th class=\"col_heading level0 col5\" >Valid. Accur.</th>\n",
              "      <th class=\"col_heading level0 col6\" >Training Precision</th>\n",
              "      <th class=\"col_heading level0 col7\" >Valid. Precision</th>\n",
              "      <th class=\"col_heading level0 col8\" >Training Recall</th>\n",
              "      <th class=\"col_heading level0 col9\" >Valid. Recall</th>\n",
              "      <th class=\"col_heading level0 col10\" >Training Time</th>\n",
              "      <th class=\"col_heading level0 col11\" >Validation Time</th>\n",
              "    </tr>\n",
              "    <tr>\n",
              "      <th class=\"index_name level0\" >epoch</th>\n",
              "      <th class=\"blank col0\" >&nbsp;</th>\n",
              "      <th class=\"blank col1\" >&nbsp;</th>\n",
              "      <th class=\"blank col2\" >&nbsp;</th>\n",
              "      <th class=\"blank col3\" >&nbsp;</th>\n",
              "      <th class=\"blank col4\" >&nbsp;</th>\n",
              "      <th class=\"blank col5\" >&nbsp;</th>\n",
              "      <th class=\"blank col6\" >&nbsp;</th>\n",
              "      <th class=\"blank col7\" >&nbsp;</th>\n",
              "      <th class=\"blank col8\" >&nbsp;</th>\n",
              "      <th class=\"blank col9\" >&nbsp;</th>\n",
              "      <th class=\"blank col10\" >&nbsp;</th>\n",
              "      <th class=\"blank col11\" >&nbsp;</th>\n",
              "    </tr>\n",
              "  </thead>\n",
              "  <tbody>\n",
              "    <tr>\n",
              "      <th id=\"T_7921b_level0_row0\" class=\"row_heading level0 row0\" >1</th>\n",
              "      <td id=\"T_7921b_row0_col0\" class=\"data row0 col0\" >2.44</td>\n",
              "      <td id=\"T_7921b_row0_col1\" class=\"data row0 col1\" >4.74</td>\n",
              "      <td id=\"T_7921b_row0_col2\" class=\"data row0 col2\" >0.07</td>\n",
              "      <td id=\"T_7921b_row0_col3\" class=\"data row0 col3\" >0.05</td>\n",
              "      <td id=\"T_7921b_row0_col4\" class=\"data row0 col4\" >0.20</td>\n",
              "      <td id=\"T_7921b_row0_col5\" class=\"data row0 col5\" >0.20</td>\n",
              "      <td id=\"T_7921b_row0_col6\" class=\"data row0 col6\" >0.15</td>\n",
              "      <td id=\"T_7921b_row0_col7\" class=\"data row0 col7\" >0.16</td>\n",
              "      <td id=\"T_7921b_row0_col8\" class=\"data row0 col8\" >0.05</td>\n",
              "      <td id=\"T_7921b_row0_col9\" class=\"data row0 col9\" >0.03</td>\n",
              "      <td id=\"T_7921b_row0_col10\" class=\"data row0 col10\" >0:00:03</td>\n",
              "      <td id=\"T_7921b_row0_col11\" class=\"data row0 col11\" >0:00:00</td>\n",
              "    </tr>\n",
              "    <tr>\n",
              "      <th id=\"T_7921b_level0_row1\" class=\"row_heading level0 row1\" >2</th>\n",
              "      <td id=\"T_7921b_row1_col0\" class=\"data row1 col0\" >2.32</td>\n",
              "      <td id=\"T_7921b_row1_col1\" class=\"data row1 col1\" >4.56</td>\n",
              "      <td id=\"T_7921b_row1_col2\" class=\"data row1 col2\" >0.07</td>\n",
              "      <td id=\"T_7921b_row1_col3\" class=\"data row1 col3\" >0.07</td>\n",
              "      <td id=\"T_7921b_row1_col4\" class=\"data row1 col4\" >0.20</td>\n",
              "      <td id=\"T_7921b_row1_col5\" class=\"data row1 col5\" >0.23</td>\n",
              "      <td id=\"T_7921b_row1_col6\" class=\"data row1 col6\" >0.17</td>\n",
              "      <td id=\"T_7921b_row1_col7\" class=\"data row1 col7\" >0.17</td>\n",
              "      <td id=\"T_7921b_row1_col8\" class=\"data row1 col8\" >0.04</td>\n",
              "      <td id=\"T_7921b_row1_col9\" class=\"data row1 col9\" >0.06</td>\n",
              "      <td id=\"T_7921b_row1_col10\" class=\"data row1 col10\" >0:00:02</td>\n",
              "      <td id=\"T_7921b_row1_col11\" class=\"data row1 col11\" >0:00:00</td>\n",
              "    </tr>\n",
              "    <tr>\n",
              "      <th id=\"T_7921b_level0_row2\" class=\"row_heading level0 row2\" >3</th>\n",
              "      <td id=\"T_7921b_row2_col0\" class=\"data row2 col0\" >2.21</td>\n",
              "      <td id=\"T_7921b_row2_col1\" class=\"data row2 col1\" >4.42</td>\n",
              "      <td id=\"T_7921b_row2_col2\" class=\"data row2 col2\" >0.11</td>\n",
              "      <td id=\"T_7921b_row2_col3\" class=\"data row2 col3\" >0.17</td>\n",
              "      <td id=\"T_7921b_row2_col4\" class=\"data row2 col4\" >0.25</td>\n",
              "      <td id=\"T_7921b_row2_col5\" class=\"data row2 col5\" >0.35</td>\n",
              "      <td id=\"T_7921b_row2_col6\" class=\"data row2 col6\" >0.19</td>\n",
              "      <td id=\"T_7921b_row2_col7\" class=\"data row2 col7\" >0.30</td>\n",
              "      <td id=\"T_7921b_row2_col8\" class=\"data row2 col8\" >0.09</td>\n",
              "      <td id=\"T_7921b_row2_col9\" class=\"data row2 col9\" >0.13</td>\n",
              "      <td id=\"T_7921b_row2_col10\" class=\"data row2 col10\" >0:00:02</td>\n",
              "      <td id=\"T_7921b_row2_col11\" class=\"data row2 col11\" >0:00:00</td>\n",
              "    </tr>\n",
              "    <tr>\n",
              "      <th id=\"T_7921b_level0_row3\" class=\"row_heading level0 row3\" >4</th>\n",
              "      <td id=\"T_7921b_row3_col0\" class=\"data row3 col0\" >2.14</td>\n",
              "      <td id=\"T_7921b_row3_col1\" class=\"data row3 col1\" >4.33</td>\n",
              "      <td id=\"T_7921b_row3_col2\" class=\"data row3 col2\" >0.15</td>\n",
              "      <td id=\"T_7921b_row3_col3\" class=\"data row3 col3\" >0.18</td>\n",
              "      <td id=\"T_7921b_row3_col4\" class=\"data row3 col4\" >0.27</td>\n",
              "      <td id=\"T_7921b_row3_col5\" class=\"data row3 col5\" >0.35</td>\n",
              "      <td id=\"T_7921b_row3_col6\" class=\"data row3 col6\" >0.22</td>\n",
              "      <td id=\"T_7921b_row3_col7\" class=\"data row3 col7\" >0.30</td>\n",
              "      <td id=\"T_7921b_row3_col8\" class=\"data row3 col8\" >0.12</td>\n",
              "      <td id=\"T_7921b_row3_col9\" class=\"data row3 col9\" >0.14</td>\n",
              "      <td id=\"T_7921b_row3_col10\" class=\"data row3 col10\" >0:00:02</td>\n",
              "      <td id=\"T_7921b_row3_col11\" class=\"data row3 col11\" >0:00:00</td>\n",
              "    </tr>\n",
              "    <tr>\n",
              "      <th id=\"T_7921b_level0_row4\" class=\"row_heading level0 row4\" >5</th>\n",
              "      <td id=\"T_7921b_row4_col0\" class=\"data row4 col0\" >2.08</td>\n",
              "      <td id=\"T_7921b_row4_col1\" class=\"data row4 col1\" >4.30</td>\n",
              "      <td id=\"T_7921b_row4_col2\" class=\"data row4 col2\" >0.15</td>\n",
              "      <td id=\"T_7921b_row4_col3\" class=\"data row4 col3\" >0.18</td>\n",
              "      <td id=\"T_7921b_row4_col4\" class=\"data row4 col4\" >0.32</td>\n",
              "      <td id=\"T_7921b_row4_col5\" class=\"data row4 col5\" >0.38</td>\n",
              "      <td id=\"T_7921b_row4_col6\" class=\"data row4 col6\" >0.26</td>\n",
              "      <td id=\"T_7921b_row4_col7\" class=\"data row4 col7\" >0.32</td>\n",
              "      <td id=\"T_7921b_row4_col8\" class=\"data row4 col8\" >0.11</td>\n",
              "      <td id=\"T_7921b_row4_col9\" class=\"data row4 col9\" >0.14</td>\n",
              "      <td id=\"T_7921b_row4_col10\" class=\"data row4 col10\" >0:00:03</td>\n",
              "      <td id=\"T_7921b_row4_col11\" class=\"data row4 col11\" >0:00:00</td>\n",
              "    </tr>\n",
              "  </tbody>\n",
              "</table>\n"
            ]
          },
          "metadata": {},
          "execution_count": 31
        }
      ],
      "source": [
        "import pandas as pd \n",
        "# Display floats with two decimal places.\n",
        "pd.set_option('precision', 2)\n",
        "\n",
        "# Create a DataFrame from our training statistics.\n",
        "df_stats = pd.DataFrame(data=training_stats)\n",
        "\n",
        "# Use the 'epoch' as the row index.\n",
        "df_stats = df_stats.set_index('epoch')\n",
        "\n",
        "# Display the table.\n",
        "df_stats.style.set_table_styles([dict(selector=\"th\",props=[('max-width', '70px')])])"
      ]
    },
    {
      "cell_type": "markdown",
      "metadata": {
        "id": "Yvqs8ZqivUdr"
      },
      "source": [
        "Validation Loss is a more precise measure than accuracy. If we are predicting the correct answer, but with less confidence, then validation loss will catch this, while accuracy will not."
      ]
    },
    {
      "cell_type": "code",
      "execution_count": null,
      "metadata": {
        "id": "GBPWXFxX7414",
        "colab": {
          "base_uri": "https://localhost:8080/",
          "height": 427
        },
        "outputId": "4bc0e4d4-6932-4007-9165-e34445f473cb"
      },
      "outputs": [
        {
          "output_type": "display_data",
          "data": {
            "text/plain": [
              "<Figure size 864x432 with 1 Axes>"
            ],
            "image/png": "[encoded data removed]"
          },
          "metadata": {}
        }
      ],
      "source": [
        "import matplotlib.pyplot as plt\n",
        "% matplotlib inline\n",
        "\n",
        "import seaborn as sns\n",
        "\n",
        "# Use plot styling from seaborn.\n",
        "sns.set(style='darkgrid')\n",
        "\n",
        "# Increase the plot size and font size.\n",
        "sns.set(font_scale=1.5)\n",
        "plt.rcParams[\"figure.figsize\"] = (12,6)\n",
        "\n",
        "# Plot the learning curve.\n",
        "plt.plot(df_stats['Training Loss'], 'b-o', label=\"Training\")\n",
        "plt.plot(df_stats['Valid. Loss'], 'g-o', label=\"Validation\")\n",
        "\n",
        "# Label the plot.\n",
        "plt.title(\"Training & Validation Loss\")\n",
        "plt.xlabel(\"Epoch\")\n",
        "plt.ylabel(\"Loss\")\n",
        "plt.legend()\n",
        "plt.show()"
      ]
    },
    {
      "cell_type": "markdown",
      "metadata": {
        "id": "LFcr-ozDmteM"
      },
      "source": [
        "## Download the Data"
      ]
    },
    {
      "cell_type": "code",
      "execution_count": null,
      "metadata": {
        "id": "fi7vxB8ZEhk0",
        "colab": {
          "base_uri": "https://localhost:8080/"
        },
        "outputId": "bd8ddaa0-b092-4b1b-a8e0-6fc6e7c61566"
      },
      "outputs": [
        {
          "output_type": "stream",
          "name": "stdout",
          "text": [
            "\n",
            "Saved label2id_df\n"
          ]
        }
      ],
      "source": [
        "#Save the label2id_df in Drive \n",
        "label2id_df = pd.DataFrame([label2id] )\n",
        "label2id_df.to_csv(label2id_df_path  , encoding='utf-8', index=False) \n",
        "print(\"\\nSaved label2id_df\")"
      ]
    },
    {
      "cell_type": "code",
      "execution_count": null,
      "metadata": {
        "colab": {
          "base_uri": "https://localhost:8080/"
        },
        "id": "sKMt-zkoBNnQ",
        "outputId": "f6a7b2eb-6e6d-4dd8-9133-f2dec1c6f24e"
      },
      "outputs": [
        {
          "output_type": "stream",
          "name": "stdout",
          "text": [
            "\n",
            "Saved Encoded Test Data\n"
          ]
        }
      ],
      "source": [
        "#Save the Encoded Test Data in Drive \n",
        "encoded_test = pd.DataFrame(encoded_dataset['test'])\n",
        "encoded_test.to_csv(encoded_test_data_path , encoding='utf-8', index=False)\n",
        "print(\"\\nSaved Encoded Test Data\")"
      ]
    },
    {
      "cell_type": "code",
      "execution_count": null,
      "metadata": {
        "colab": {
          "base_uri": "https://localhost:8080/"
        },
        "id": "PBZrl1QRmvlT",
        "outputId": "1db1719d-37e3-4d6f-e42f-cd2978f0aaae"
      },
      "outputs": [
        {
          "output_type": "stream",
          "name": "stdout",
          "text": [
            "\n",
            "Saved Test Data\n"
          ]
        }
      ],
      "source": [
        "#Save the Test Data in drive\n",
        "used_test_df =pd.DataFrame(dataset_clean['test'])\n",
        "used_test_df.to_csv(used_test_data_path, encoding='utf-8', index=False)\n",
        "print(\"\\nSaved Test Data\")"
      ]
    },
    {
      "cell_type": "code",
      "source": [
        ""
      ],
      "metadata": {
        "id": "DGewfGOKvB3N"
      },
      "execution_count": null,
      "outputs": []
    }
  ],
  "metadata": {
    "accelerator": "GPU",
    "colab": {
      "collapsed_sections": [],
      "name": "Part2_DistilBERT_5_epochs.ipynb",
      "provenance": []
    },
    "kernelspec": {
      "display_name": "Python 3",
      "name": "python3"
    },
    "language_info": {
      "name": "python"
    },
    "widgets": {
      "application/vnd.jupyter.widget-state+json": {
        "42420b4a2573403295fb1e34098f58dd": {
          "model_module": "@jupyter-widgets/controls",
          "model_name": "HBoxModel",
          "model_module_version": "1.5.0",
          "state": {
            "_dom_classes": [],
            "_model_module": "@jupyter-widgets/controls",
            "_model_module_version": "1.5.0",
            "_model_name": "HBoxModel",
            "_view_count": null,
            "_view_module": "@jupyter-widgets/controls",
            "_view_module_version": "1.5.0",
            "_view_name": "HBoxView",
            "box_style": "",
            "children": [
              "IPY_MODEL_d8571c3bba154fd98c2824ba09c1fae2",
              "IPY_MODEL_1dc419d9d98e41939dd64f42635e78d0",
              "IPY_MODEL_7e3632d159664f5082cd99e4780d5674"
            ],
            "layout": "IPY_MODEL_d8087fcf66c2410aa93975db54376e18"
          }
        },
        "d8571c3bba154fd98c2824ba09c1fae2": {
          "model_module": "@jupyter-widgets/controls",
          "model_name": "HTMLModel",
          "model_module_version": "1.5.0",
          "state": {
            "_dom_classes": [],
            "_model_module": "@jupyter-widgets/controls",
            "_model_module_version": "1.5.0",
            "_model_name": "HTMLModel",
            "_view_count": null,
            "_view_module": "@jupyter-widgets/controls",
            "_view_module_version": "1.5.0",
            "_view_name": "HTMLView",
            "description": "",
            "description_tooltip": null,
            "layout": "IPY_MODEL_e0a7529b8a1f48a389960d857daacf4b",
            "placeholder": "​",
            "style": "IPY_MODEL_754be7108d5b49de9882b41c1e8bf361",
            "value": "Downloading: 100%"
          }
        },
        "1dc419d9d98e41939dd64f42635e78d0": {
          "model_module": "@jupyter-widgets/controls",
          "model_name": "FloatProgressModel",
          "model_module_version": "1.5.0",
          "state": {
            "_dom_classes": [],
            "_model_module": "@jupyter-widgets/controls",
            "_model_module_version": "1.5.0",
            "_model_name": "FloatProgressModel",
            "_view_count": null,
            "_view_module": "@jupyter-widgets/controls",
            "_view_module_version": "1.5.0",
            "_view_name": "ProgressView",
            "bar_style": "success",
            "description": "",
            "description_tooltip": null,
            "layout": "IPY_MODEL_3d2d284da98a4f17a1869aeacb91a2d3",
            "max": 29,
            "min": 0,
            "orientation": "horizontal",
            "style": "IPY_MODEL_18882ea9f73c4b608a8b738d0d601721",
            "value": 29
          }
        },
        "7e3632d159664f5082cd99e4780d5674": {
          "model_module": "@jupyter-widgets/controls",
          "model_name": "HTMLModel",
          "model_module_version": "1.5.0",
          "state": {
            "_dom_classes": [],
            "_model_module": "@jupyter-widgets/controls",
            "_model_module_version": "1.5.0",
            "_model_name": "HTMLModel",
            "_view_count": null,
            "_view_module": "@jupyter-widgets/controls",
            "_view_module_version": "1.5.0",
            "_view_name": "HTMLView",
            "description": "",
            "description_tooltip": null,
            "layout": "IPY_MODEL_27a3ad360b26469ca246be89f13dd804",
            "placeholder": "​",
            "style": "IPY_MODEL_4a069c2c90254fc9a1526ef09b4d787b",
            "value": " 29.0/29.0 [00:00&lt;00:00, 323B/s]"
          }
        },
        "d8087fcf66c2410aa93975db54376e18": {
          "model_module": "@jupyter-widgets/base",
          "model_name": "LayoutModel",
          "model_module_version": "1.2.0",
          "state": {
            "_model_module": "@jupyter-widgets/base",
            "_model_module_version": "1.2.0",
            "_model_name": "LayoutModel",
            "_view_count": null,
            "_view_module": "@jupyter-widgets/base",
            "_view_module_version": "1.2.0",
            "_view_name": "LayoutView",
            "align_content": null,
            "align_items": null,
            "align_self": null,
            "border": null,
            "bottom": null,
            "display": null,
            "flex": null,
            "flex_flow": null,
            "grid_area": null,
            "grid_auto_columns": null,
            "grid_auto_flow": null,
            "grid_auto_rows": null,
            "grid_column": null,
            "grid_gap": null,
            "grid_row": null,
            "grid_template_areas": null,
            "grid_template_columns": null,
            "grid_template_rows": null,
            "height": null,
            "justify_content": null,
            "justify_items": null,
            "left": null,
            "margin": null,
            "max_height": null,
            "max_width": null,
            "min_height": null,
            "min_width": null,
            "object_fit": null,
            "object_position": null,
            "order": null,
            "overflow": null,
            "overflow_x": null,
            "overflow_y": null,
            "padding": null,
            "right": null,
            "top": null,
            "visibility": null,
            "width": null
          }
        },
        "e0a7529b8a1f48a389960d857daacf4b": {
          "model_module": "@jupyter-widgets/base",
          "model_name": "LayoutModel",
          "model_module_version": "1.2.0",
          "state": {
            "_model_module": "@jupyter-widgets/base",
            "_model_module_version": "1.2.0",
            "_model_name": "LayoutModel",
            "_view_count": null,
            "_view_module": "@jupyter-widgets/base",
            "_view_module_version": "1.2.0",
            "_view_name": "LayoutView",
            "align_content": null,
            "align_items": null,
            "align_self": null,
            "border": null,
            "bottom": null,
            "display": null,
            "flex": null,
            "flex_flow": null,
            "grid_area": null,
            "grid_auto_columns": null,
            "grid_auto_flow": null,
            "grid_auto_rows": null,
            "grid_column": null,
            "grid_gap": null,
            "grid_row": null,
            "grid_template_areas": null,
            "grid_template_columns": null,
            "grid_template_rows": null,
            "height": null,
            "justify_content": null,
            "justify_items": null,
            "left": null,
            "margin": null,
            "max_height": null,
            "max_width": null,
            "min_height": null,
            "min_width": null,
            "object_fit": null,
            "object_position": null,
            "order": null,
            "overflow": null,
            "overflow_x": null,
            "overflow_y": null,
            "padding": null,
            "right": null,
            "top": null,
            "visibility": null,
            "width": null
          }
        },
        "754be7108d5b49de9882b41c1e8bf361": {
          "model_module": "@jupyter-widgets/controls",
          "model_name": "DescriptionStyleModel",
          "model_module_version": "1.5.0",
          "state": {
            "_model_module": "@jupyter-widgets/controls",
            "_model_module_version": "1.5.0",
            "_model_name": "DescriptionStyleModel",
            "_view_count": null,
            "_view_module": "@jupyter-widgets/base",
            "_view_module_version": "1.2.0",
            "_view_name": "StyleView",
            "description_width": ""
          }
        },
        "3d2d284da98a4f17a1869aeacb91a2d3": {
          "model_module": "@jupyter-widgets/base",
          "model_name": "LayoutModel",
          "model_module_version": "1.2.0",
          "state": {
            "_model_module": "@jupyter-widgets/base",
            "_model_module_version": "1.2.0",
            "_model_name": "LayoutModel",
            "_view_count": null,
            "_view_module": "@jupyter-widgets/base",
            "_view_module_version": "1.2.0",
            "_view_name": "LayoutView",
            "align_content": null,
            "align_items": null,
            "align_self": null,
            "border": null,
            "bottom": null,
            "display": null,
            "flex": null,
            "flex_flow": null,
            "grid_area": null,
            "grid_auto_columns": null,
            "grid_auto_flow": null,
            "grid_auto_rows": null,
            "grid_column": null,
            "grid_gap": null,
            "grid_row": null,
            "grid_template_areas": null,
            "grid_template_columns": null,
            "grid_template_rows": null,
            "height": null,
            "justify_content": null,
            "justify_items": null,
            "left": null,
            "margin": null,
            "max_height": null,
            "max_width": null,
            "min_height": null,
            "min_width": null,
            "object_fit": null,
            "object_position": null,
            "order": null,
            "overflow": null,
            "overflow_x": null,
            "overflow_y": null,
            "padding": null,
            "right": null,
            "top": null,
            "visibility": null,
            "width": null
          }
        },
        "18882ea9f73c4b608a8b738d0d601721": {
          "model_module": "@jupyter-widgets/controls",
          "model_name": "ProgressStyleModel",
          "model_module_version": "1.5.0",
          "state": {
            "_model_module": "@jupyter-widgets/controls",
            "_model_module_version": "1.5.0",
            "_model_name": "ProgressStyleModel",
            "_view_count": null,
            "_view_module": "@jupyter-widgets/base",
            "_view_module_version": "1.2.0",
            "_view_name": "StyleView",
            "bar_color": null,
            "description_width": ""
          }
        },
        "27a3ad360b26469ca246be89f13dd804": {
          "model_module": "@jupyter-widgets/base",
          "model_name": "LayoutModel",
          "model_module_version": "1.2.0",
          "state": {
            "_model_module": "@jupyter-widgets/base",
            "_model_module_version": "1.2.0",
            "_model_name": "LayoutModel",
            "_view_count": null,
            "_view_module": "@jupyter-widgets/base",
            "_view_module_version": "1.2.0",
            "_view_name": "LayoutView",
            "align_content": null,
            "align_items": null,
            "align_self": null,
            "border": null,
            "bottom": null,
            "display": null,
            "flex": null,
            "flex_flow": null,
            "grid_area": null,
            "grid_auto_columns": null,
            "grid_auto_flow": null,
            "grid_auto_rows": null,
            "grid_column": null,
            "grid_gap": null,
            "grid_row": null,
            "grid_template_areas": null,
            "grid_template_columns": null,
            "grid_template_rows": null,
            "height": null,
            "justify_content": null,
            "justify_items": null,
            "left": null,
            "margin": null,
            "max_height": null,
            "max_width": null,
            "min_height": null,
            "min_width": null,
            "object_fit": null,
            "object_position": null,
            "order": null,
            "overflow": null,
            "overflow_x": null,
            "overflow_y": null,
            "padding": null,
            "right": null,
            "top": null,
            "visibility": null,
            "width": null
          }
        },
        "4a069c2c90254fc9a1526ef09b4d787b": {
          "model_module": "@jupyter-widgets/controls",
          "model_name": "DescriptionStyleModel",
          "model_module_version": "1.5.0",
          "state": {
            "_model_module": "@jupyter-widgets/controls",
            "_model_module_version": "1.5.0",
            "_model_name": "DescriptionStyleModel",
            "_view_count": null,
            "_view_module": "@jupyter-widgets/base",
            "_view_module_version": "1.2.0",
            "_view_name": "StyleView",
            "description_width": ""
          }
        },
        "40a5995a4d9442ad820fdc9ccd7bcebd": {
          "model_module": "@jupyter-widgets/controls",
          "model_name": "HBoxModel",
          "model_module_version": "1.5.0",
          "state": {
            "_dom_classes": [],
            "_model_module": "@jupyter-widgets/controls",
            "_model_module_version": "1.5.0",
            "_model_name": "HBoxModel",
            "_view_count": null,
            "_view_module": "@jupyter-widgets/controls",
            "_view_module_version": "1.5.0",
            "_view_name": "HBoxView",
            "box_style": "",
            "children": [
              "IPY_MODEL_3bc6085d32174671af9082f057634e67",
              "IPY_MODEL_fdf0294337b140f0983f5f0554445aa3",
              "IPY_MODEL_42184b61d6c846419b8e98f9bff58da2"
            ],
            "layout": "IPY_MODEL_266bb1eaf47343bcbcddc88f02174fe9"
          }
        },
        "3bc6085d32174671af9082f057634e67": {
          "model_module": "@jupyter-widgets/controls",
          "model_name": "HTMLModel",
          "model_module_version": "1.5.0",
          "state": {
            "_dom_classes": [],
            "_model_module": "@jupyter-widgets/controls",
            "_model_module_version": "1.5.0",
            "_model_name": "HTMLModel",
            "_view_count": null,
            "_view_module": "@jupyter-widgets/controls",
            "_view_module_version": "1.5.0",
            "_view_name": "HTMLView",
            "description": "",
            "description_tooltip": null,
            "layout": "IPY_MODEL_d9ce9511a1db4cb7a0c2464659eff7c2",
            "placeholder": "​",
            "style": "IPY_MODEL_532f53be06aa4d778bb027c1c78bc798",
            "value": "Downloading: 100%"
          }
        },
        "fdf0294337b140f0983f5f0554445aa3": {
          "model_module": "@jupyter-widgets/controls",
          "model_name": "FloatProgressModel",
          "model_module_version": "1.5.0",
          "state": {
            "_dom_classes": [],
            "_model_module": "@jupyter-widgets/controls",
            "_model_module_version": "1.5.0",
            "_model_name": "FloatProgressModel",
            "_view_count": null,
            "_view_module": "@jupyter-widgets/controls",
            "_view_module_version": "1.5.0",
            "_view_name": "ProgressView",
            "bar_style": "success",
            "description": "",
            "description_tooltip": null,
            "layout": "IPY_MODEL_915ce2860cd54261a166bf0204dbc601",
            "max": 411,
            "min": 0,
            "orientation": "horizontal",
            "style": "IPY_MODEL_248cec4254c047e6908b22df6d224f29",
            "value": 411
          }
        },
        "42184b61d6c846419b8e98f9bff58da2": {
          "model_module": "@jupyter-widgets/controls",
          "model_name": "HTMLModel",
          "model_module_version": "1.5.0",
          "state": {
            "_dom_classes": [],
            "_model_module": "@jupyter-widgets/controls",
            "_model_module_version": "1.5.0",
            "_model_name": "HTMLModel",
            "_view_count": null,
            "_view_module": "@jupyter-widgets/controls",
            "_view_module_version": "1.5.0",
            "_view_name": "HTMLView",
            "description": "",
            "description_tooltip": null,
            "layout": "IPY_MODEL_a7506be5805440aa95316b8f94fcf779",
            "placeholder": "​",
            "style": "IPY_MODEL_23c0a447bbe64a87914ca8a78b7d05e1",
            "value": " 411/411 [00:00&lt;00:00, 5.09kB/s]"
          }
        },
        "266bb1eaf47343bcbcddc88f02174fe9": {
          "model_module": "@jupyter-widgets/base",
          "model_name": "LayoutModel",
          "model_module_version": "1.2.0",
          "state": {
            "_model_module": "@jupyter-widgets/base",
            "_model_module_version": "1.2.0",
            "_model_name": "LayoutModel",
            "_view_count": null,
            "_view_module": "@jupyter-widgets/base",
            "_view_module_version": "1.2.0",
            "_view_name": "LayoutView",
            "align_content": null,
            "align_items": null,
            "align_self": null,
            "border": null,
            "bottom": null,
            "display": null,
            "flex": null,
            "flex_flow": null,
            "grid_area": null,
            "grid_auto_columns": null,
            "grid_auto_flow": null,
            "grid_auto_rows": null,
            "grid_column": null,
            "grid_gap": null,
            "grid_row": null,
            "grid_template_areas": null,
            "grid_template_columns": null,
            "grid_template_rows": null,
            "height": null,
            "justify_content": null,
            "justify_items": null,
            "left": null,
            "margin": null,
            "max_height": null,
            "max_width": null,
            "min_height": null,
            "min_width": null,
            "object_fit": null,
            "object_position": null,
            "order": null,
            "overflow": null,
            "overflow_x": null,
            "overflow_y": null,
            "padding": null,
            "right": null,
            "top": null,
            "visibility": null,
            "width": null
          }
        },
        "d9ce9511a1db4cb7a0c2464659eff7c2": {
          "model_module": "@jupyter-widgets/base",
          "model_name": "LayoutModel",
          "model_module_version": "1.2.0",
          "state": {
            "_model_module": "@jupyter-widgets/base",
            "_model_module_version": "1.2.0",
            "_model_name": "LayoutModel",
            "_view_count": null,
            "_view_module": "@jupyter-widgets/base",
            "_view_module_version": "1.2.0",
            "_view_name": "LayoutView",
            "align_content": null,
            "align_items": null,
            "align_self": null,
            "border": null,
            "bottom": null,
            "display": null,
            "flex": null,
            "flex_flow": null,
            "grid_area": null,
            "grid_auto_columns": null,
            "grid_auto_flow": null,
            "grid_auto_rows": null,
            "grid_column": null,
            "grid_gap": null,
            "grid_row": null,
            "grid_template_areas": null,
            "grid_template_columns": null,
            "grid_template_rows": null,
            "height": null,
            "justify_content": null,
            "justify_items": null,
            "left": null,
            "margin": null,
            "max_height": null,
            "max_width": null,
            "min_height": null,
            "min_width": null,
            "object_fit": null,
            "object_position": null,
            "order": null,
            "overflow": null,
            "overflow_x": null,
            "overflow_y": null,
            "padding": null,
            "right": null,
            "top": null,
            "visibility": null,
            "width": null
          }
        },
        "532f53be06aa4d778bb027c1c78bc798": {
          "model_module": "@jupyter-widgets/controls",
          "model_name": "DescriptionStyleModel",
          "model_module_version": "1.5.0",
          "state": {
            "_model_module": "@jupyter-widgets/controls",
            "_model_module_version": "1.5.0",
            "_model_name": "DescriptionStyleModel",
            "_view_count": null,
            "_view_module": "@jupyter-widgets/base",
            "_view_module_version": "1.2.0",
            "_view_name": "StyleView",
            "description_width": ""
          }
        },
        "915ce2860cd54261a166bf0204dbc601": {
          "model_module": "@jupyter-widgets/base",
          "model_name": "LayoutModel",
          "model_module_version": "1.2.0",
          "state": {
            "_model_module": "@jupyter-widgets/base",
            "_model_module_version": "1.2.0",
            "_model_name": "LayoutModel",
            "_view_count": null,
            "_view_module": "@jupyter-widgets/base",
            "_view_module_version": "1.2.0",
            "_view_name": "LayoutView",
            "align_content": null,
            "align_items": null,
            "align_self": null,
            "border": null,
            "bottom": null,
            "display": null,
            "flex": null,
            "flex_flow": null,
            "grid_area": null,
            "grid_auto_columns": null,
            "grid_auto_flow": null,
            "grid_auto_rows": null,
            "grid_column": null,
            "grid_gap": null,
            "grid_row": null,
            "grid_template_areas": null,
            "grid_template_columns": null,
            "grid_template_rows": null,
            "height": null,
            "justify_content": null,
            "justify_items": null,
            "left": null,
            "margin": null,
            "max_height": null,
            "max_width": null,
            "min_height": null,
            "min_width": null,
            "object_fit": null,
            "object_position": null,
            "order": null,
            "overflow": null,
            "overflow_x": null,
            "overflow_y": null,
            "padding": null,
            "right": null,
            "top": null,
            "visibility": null,
            "width": null
          }
        },
        "248cec4254c047e6908b22df6d224f29": {
          "model_module": "@jupyter-widgets/controls",
          "model_name": "ProgressStyleModel",
          "model_module_version": "1.5.0",
          "state": {
            "_model_module": "@jupyter-widgets/controls",
            "_model_module_version": "1.5.0",
            "_model_name": "ProgressStyleModel",
            "_view_count": null,
            "_view_module": "@jupyter-widgets/base",
            "_view_module_version": "1.2.0",
            "_view_name": "StyleView",
            "bar_color": null,
            "description_width": ""
          }
        },
        "a7506be5805440aa95316b8f94fcf779": {
          "model_module": "@jupyter-widgets/base",
          "model_name": "LayoutModel",
          "model_module_version": "1.2.0",
          "state": {
            "_model_module": "@jupyter-widgets/base",
            "_model_module_version": "1.2.0",
            "_model_name": "LayoutModel",
            "_view_count": null,
            "_view_module": "@jupyter-widgets/base",
            "_view_module_version": "1.2.0",
            "_view_name": "LayoutView",
            "align_content": null,
            "align_items": null,
            "align_self": null,
            "border": null,
            "bottom": null,
            "display": null,
            "flex": null,
            "flex_flow": null,
            "grid_area": null,
            "grid_auto_columns": null,
            "grid_auto_flow": null,
            "grid_auto_rows": null,
            "grid_column": null,
            "grid_gap": null,
            "grid_row": null,
            "grid_template_areas": null,
            "grid_template_columns": null,
            "grid_template_rows": null,
            "height": null,
            "justify_content": null,
            "justify_items": null,
            "left": null,
            "margin": null,
            "max_height": null,
            "max_width": null,
            "min_height": null,
            "min_width": null,
            "object_fit": null,
            "object_position": null,
            "order": null,
            "overflow": null,
            "overflow_x": null,
            "overflow_y": null,
            "padding": null,
            "right": null,
            "top": null,
            "visibility": null,
            "width": null
          }
        },
        "23c0a447bbe64a87914ca8a78b7d05e1": {
          "model_module": "@jupyter-widgets/controls",
          "model_name": "DescriptionStyleModel",
          "model_module_version": "1.5.0",
          "state": {
            "_model_module": "@jupyter-widgets/controls",
            "_model_module_version": "1.5.0",
            "_model_name": "DescriptionStyleModel",
            "_view_count": null,
            "_view_module": "@jupyter-widgets/base",
            "_view_module_version": "1.2.0",
            "_view_name": "StyleView",
            "description_width": ""
          }
        },
        "09282e8a47de4ed78e11ee89257a3cb0": {
          "model_module": "@jupyter-widgets/controls",
          "model_name": "HBoxModel",
          "model_module_version": "1.5.0",
          "state": {
            "_dom_classes": [],
            "_model_module": "@jupyter-widgets/controls",
            "_model_module_version": "1.5.0",
            "_model_name": "HBoxModel",
            "_view_count": null,
            "_view_module": "@jupyter-widgets/controls",
            "_view_module_version": "1.5.0",
            "_view_name": "HBoxView",
            "box_style": "",
            "children": [
              "IPY_MODEL_41df564ad0ed40fcb5e3093482b7939c",
              "IPY_MODEL_e4cda7478ea54306bfcae8ac46544ed6",
              "IPY_MODEL_6e3fd68d180346208d0ece323618b21d"
            ],
            "layout": "IPY_MODEL_8dba43ddf8c84cf9b295b33c04cc800a"
          }
        },
        "41df564ad0ed40fcb5e3093482b7939c": {
          "model_module": "@jupyter-widgets/controls",
          "model_name": "HTMLModel",
          "model_module_version": "1.5.0",
          "state": {
            "_dom_classes": [],
            "_model_module": "@jupyter-widgets/controls",
            "_model_module_version": "1.5.0",
            "_model_name": "HTMLModel",
            "_view_count": null,
            "_view_module": "@jupyter-widgets/controls",
            "_view_module_version": "1.5.0",
            "_view_name": "HTMLView",
            "description": "",
            "description_tooltip": null,
            "layout": "IPY_MODEL_e569d465d769443ca5b44d7dc8da567d",
            "placeholder": "​",
            "style": "IPY_MODEL_4ca9937239924d02847d52c02a8df448",
            "value": "Downloading: 100%"
          }
        },
        "e4cda7478ea54306bfcae8ac46544ed6": {
          "model_module": "@jupyter-widgets/controls",
          "model_name": "FloatProgressModel",
          "model_module_version": "1.5.0",
          "state": {
            "_dom_classes": [],
            "_model_module": "@jupyter-widgets/controls",
            "_model_module_version": "1.5.0",
            "_model_name": "FloatProgressModel",
            "_view_count": null,
            "_view_module": "@jupyter-widgets/controls",
            "_view_module_version": "1.5.0",
            "_view_name": "ProgressView",
            "bar_style": "success",
            "description": "",
            "description_tooltip": null,
            "layout": "IPY_MODEL_a64957343e9d4764998c208c2e23b8cf",
            "max": 213450,
            "min": 0,
            "orientation": "horizontal",
            "style": "IPY_MODEL_aa99f93c1eb94dc3a7a01856f1c61103",
            "value": 213450
          }
        },
        "6e3fd68d180346208d0ece323618b21d": {
          "model_module": "@jupyter-widgets/controls",
          "model_name": "HTMLModel",
          "model_module_version": "1.5.0",
          "state": {
            "_dom_classes": [],
            "_model_module": "@jupyter-widgets/controls",
            "_model_module_version": "1.5.0",
            "_model_name": "HTMLModel",
            "_view_count": null,
            "_view_module": "@jupyter-widgets/controls",
            "_view_module_version": "1.5.0",
            "_view_name": "HTMLView",
            "description": "",
            "description_tooltip": null,
            "layout": "IPY_MODEL_b34039198a074c199db79a120d7e9217",
            "placeholder": "​",
            "style": "IPY_MODEL_9345e0abc313426692c5f0ef9a388e6d",
            "value": " 208k/208k [00:00&lt;00:00, 609kB/s]"
          }
        },
        "8dba43ddf8c84cf9b295b33c04cc800a": {
          "model_module": "@jupyter-widgets/base",
          "model_name": "LayoutModel",
          "model_module_version": "1.2.0",
          "state": {
            "_model_module": "@jupyter-widgets/base",
            "_model_module_version": "1.2.0",
            "_model_name": "LayoutModel",
            "_view_count": null,
            "_view_module": "@jupyter-widgets/base",
            "_view_module_version": "1.2.0",
            "_view_name": "LayoutView",
            "align_content": null,
            "align_items": null,
            "align_self": null,
            "border": null,
            "bottom": null,
            "display": null,
            "flex": null,
            "flex_flow": null,
            "grid_area": null,
            "grid_auto_columns": null,
            "grid_auto_flow": null,
            "grid_auto_rows": null,
            "grid_column": null,
            "grid_gap": null,
            "grid_row": null,
            "grid_template_areas": null,
            "grid_template_columns": null,
            "grid_template_rows": null,
            "height": null,
            "justify_content": null,
            "justify_items": null,
            "left": null,
            "margin": null,
            "max_height": null,
            "max_width": null,
            "min_height": null,
            "min_width": null,
            "object_fit": null,
            "object_position": null,
            "order": null,
            "overflow": null,
            "overflow_x": null,
            "overflow_y": null,
            "padding": null,
            "right": null,
            "top": null,
            "visibility": null,
            "width": null
          }
        },
        "e569d465d769443ca5b44d7dc8da567d": {
          "model_module": "@jupyter-widgets/base",
          "model_name": "LayoutModel",
          "model_module_version": "1.2.0",
          "state": {
            "_model_module": "@jupyter-widgets/base",
            "_model_module_version": "1.2.0",
            "_model_name": "LayoutModel",
            "_view_count": null,
            "_view_module": "@jupyter-widgets/base",
            "_view_module_version": "1.2.0",
            "_view_name": "LayoutView",
            "align_content": null,
            "align_items": null,
            "align_self": null,
            "border": null,
            "bottom": null,
            "display": null,
            "flex": null,
            "flex_flow": null,
            "grid_area": null,
            "grid_auto_columns": null,
            "grid_auto_flow": null,
            "grid_auto_rows": null,
            "grid_column": null,
            "grid_gap": null,
            "grid_row": null,
            "grid_template_areas": null,
            "grid_template_columns": null,
            "grid_template_rows": null,
            "height": null,
            "justify_content": null,
            "justify_items": null,
            "left": null,
            "margin": null,
            "max_height": null,
            "max_width": null,
            "min_height": null,
            "min_width": null,
            "object_fit": null,
            "object_position": null,
            "order": null,
            "overflow": null,
            "overflow_x": null,
            "overflow_y": null,
            "padding": null,
            "right": null,
            "top": null,
            "visibility": null,
            "width": null
          }
        },
        "4ca9937239924d02847d52c02a8df448": {
          "model_module": "@jupyter-widgets/controls",
          "model_name": "DescriptionStyleModel",
          "model_module_version": "1.5.0",
          "state": {
            "_model_module": "@jupyter-widgets/controls",
            "_model_module_version": "1.5.0",
            "_model_name": "DescriptionStyleModel",
            "_view_count": null,
            "_view_module": "@jupyter-widgets/base",
            "_view_module_version": "1.2.0",
            "_view_name": "StyleView",
            "description_width": ""
          }
        },
        "a64957343e9d4764998c208c2e23b8cf": {
          "model_module": "@jupyter-widgets/base",
          "model_name": "LayoutModel",
          "model_module_version": "1.2.0",
          "state": {
            "_model_module": "@jupyter-widgets/base",
            "_model_module_version": "1.2.0",
            "_model_name": "LayoutModel",
            "_view_count": null,
            "_view_module": "@jupyter-widgets/base",
            "_view_module_version": "1.2.0",
            "_view_name": "LayoutView",
            "align_content": null,
            "align_items": null,
            "align_self": null,
            "border": null,
            "bottom": null,
            "display": null,
            "flex": null,
            "flex_flow": null,
            "grid_area": null,
            "grid_auto_columns": null,
            "grid_auto_flow": null,
            "grid_auto_rows": null,
            "grid_column": null,
            "grid_gap": null,
            "grid_row": null,
            "grid_template_areas": null,
            "grid_template_columns": null,
            "grid_template_rows": null,
            "height": null,
            "justify_content": null,
            "justify_items": null,
            "left": null,
            "margin": null,
            "max_height": null,
            "max_width": null,
            "min_height": null,
            "min_width": null,
            "object_fit": null,
            "object_position": null,
            "order": null,
            "overflow": null,
            "overflow_x": null,
            "overflow_y": null,
            "padding": null,
            "right": null,
            "top": null,
            "visibility": null,
            "width": null
          }
        },
        "aa99f93c1eb94dc3a7a01856f1c61103": {
          "model_module": "@jupyter-widgets/controls",
          "model_name": "ProgressStyleModel",
          "model_module_version": "1.5.0",
          "state": {
            "_model_module": "@jupyter-widgets/controls",
            "_model_module_version": "1.5.0",
            "_model_name": "ProgressStyleModel",
            "_view_count": null,
            "_view_module": "@jupyter-widgets/base",
            "_view_module_version": "1.2.0",
            "_view_name": "StyleView",
            "bar_color": null,
            "description_width": ""
          }
        },
        "b34039198a074c199db79a120d7e9217": {
          "model_module": "@jupyter-widgets/base",
          "model_name": "LayoutModel",
          "model_module_version": "1.2.0",
          "state": {
            "_model_module": "@jupyter-widgets/base",
            "_model_module_version": "1.2.0",
            "_model_name": "LayoutModel",
            "_view_count": null,
            "_view_module": "@jupyter-widgets/base",
            "_view_module_version": "1.2.0",
            "_view_name": "LayoutView",
            "align_content": null,
            "align_items": null,
            "align_self": null,
            "border": null,
            "bottom": null,
            "display": null,
            "flex": null,
            "flex_flow": null,
            "grid_area": null,
            "grid_auto_columns": null,
            "grid_auto_flow": null,
            "grid_auto_rows": null,
            "grid_column": null,
            "grid_gap": null,
            "grid_row": null,
            "grid_template_areas": null,
            "grid_template_columns": null,
            "grid_template_rows": null,
            "height": null,
            "justify_content": null,
            "justify_items": null,
            "left": null,
            "margin": null,
            "max_height": null,
            "max_width": null,
            "min_height": null,
            "min_width": null,
            "object_fit": null,
            "object_position": null,
            "order": null,
            "overflow": null,
            "overflow_x": null,
            "overflow_y": null,
            "padding": null,
            "right": null,
            "top": null,
            "visibility": null,
            "width": null
          }
        },
        "9345e0abc313426692c5f0ef9a388e6d": {
          "model_module": "@jupyter-widgets/controls",
          "model_name": "DescriptionStyleModel",
          "model_module_version": "1.5.0",
          "state": {
            "_model_module": "@jupyter-widgets/controls",
            "_model_module_version": "1.5.0",
            "_model_name": "DescriptionStyleModel",
            "_view_count": null,
            "_view_module": "@jupyter-widgets/base",
            "_view_module_version": "1.2.0",
            "_view_name": "StyleView",
            "description_width": ""
          }
        },
        "91a817538725409484cf2fb038b99c35": {
          "model_module": "@jupyter-widgets/controls",
          "model_name": "HBoxModel",
          "model_module_version": "1.5.0",
          "state": {
            "_dom_classes": [],
            "_model_module": "@jupyter-widgets/controls",
            "_model_module_version": "1.5.0",
            "_model_name": "HBoxModel",
            "_view_count": null,
            "_view_module": "@jupyter-widgets/controls",
            "_view_module_version": "1.5.0",
            "_view_name": "HBoxView",
            "box_style": "",
            "children": [
              "IPY_MODEL_41782def299c465a8574b8fae618ec1a",
              "IPY_MODEL_593958bffd6a4a0688cca69423559ecf",
              "IPY_MODEL_8c0e88c073954b11b66efec6af42683c"
            ],
            "layout": "IPY_MODEL_26224996504d4bc98aa23186de2f34df"
          }
        },
        "41782def299c465a8574b8fae618ec1a": {
          "model_module": "@jupyter-widgets/controls",
          "model_name": "HTMLModel",
          "model_module_version": "1.5.0",
          "state": {
            "_dom_classes": [],
            "_model_module": "@jupyter-widgets/controls",
            "_model_module_version": "1.5.0",
            "_model_name": "HTMLModel",
            "_view_count": null,
            "_view_module": "@jupyter-widgets/controls",
            "_view_module_version": "1.5.0",
            "_view_name": "HTMLView",
            "description": "",
            "description_tooltip": null,
            "layout": "IPY_MODEL_f3f6c7665f0f4154883f3a56ca2a6035",
            "placeholder": "​",
            "style": "IPY_MODEL_838728cff6d54f50ad5278cc2319d88f",
            "value": "Downloading: 100%"
          }
        },
        "593958bffd6a4a0688cca69423559ecf": {
          "model_module": "@jupyter-widgets/controls",
          "model_name": "FloatProgressModel",
          "model_module_version": "1.5.0",
          "state": {
            "_dom_classes": [],
            "_model_module": "@jupyter-widgets/controls",
            "_model_module_version": "1.5.0",
            "_model_name": "FloatProgressModel",
            "_view_count": null,
            "_view_module": "@jupyter-widgets/controls",
            "_view_module_version": "1.5.0",
            "_view_name": "ProgressView",
            "bar_style": "success",
            "description": "",
            "description_tooltip": null,
            "layout": "IPY_MODEL_3f89a10f898b4d45b61afa4fc900ae1d",
            "max": 435797,
            "min": 0,
            "orientation": "horizontal",
            "style": "IPY_MODEL_5071758faecd40de90dfa31ecd80bf11",
            "value": 435797
          }
        },
        "8c0e88c073954b11b66efec6af42683c": {
          "model_module": "@jupyter-widgets/controls",
          "model_name": "HTMLModel",
          "model_module_version": "1.5.0",
          "state": {
            "_dom_classes": [],
            "_model_module": "@jupyter-widgets/controls",
            "_model_module_version": "1.5.0",
            "_model_name": "HTMLModel",
            "_view_count": null,
            "_view_module": "@jupyter-widgets/controls",
            "_view_module_version": "1.5.0",
            "_view_name": "HTMLView",
            "description": "",
            "description_tooltip": null,
            "layout": "IPY_MODEL_d98c67c96ab941b6b666d365a299bb1d",
            "placeholder": "​",
            "style": "IPY_MODEL_b857429f8a97445c832c16aecb27e27d",
            "value": " 426k/426k [00:00&lt;00:00, 822kB/s]"
          }
        },
        "26224996504d4bc98aa23186de2f34df": {
          "model_module": "@jupyter-widgets/base",
          "model_name": "LayoutModel",
          "model_module_version": "1.2.0",
          "state": {
            "_model_module": "@jupyter-widgets/base",
            "_model_module_version": "1.2.0",
            "_model_name": "LayoutModel",
            "_view_count": null,
            "_view_module": "@jupyter-widgets/base",
            "_view_module_version": "1.2.0",
            "_view_name": "LayoutView",
            "align_content": null,
            "align_items": null,
            "align_self": null,
            "border": null,
            "bottom": null,
            "display": null,
            "flex": null,
            "flex_flow": null,
            "grid_area": null,
            "grid_auto_columns": null,
            "grid_auto_flow": null,
            "grid_auto_rows": null,
            "grid_column": null,
            "grid_gap": null,
            "grid_row": null,
            "grid_template_areas": null,
            "grid_template_columns": null,
            "grid_template_rows": null,
            "height": null,
            "justify_content": null,
            "justify_items": null,
            "left": null,
            "margin": null,
            "max_height": null,
            "max_width": null,
            "min_height": null,
            "min_width": null,
            "object_fit": null,
            "object_position": null,
            "order": null,
            "overflow": null,
            "overflow_x": null,
            "overflow_y": null,
            "padding": null,
            "right": null,
            "top": null,
            "visibility": null,
            "width": null
          }
        },
        "f3f6c7665f0f4154883f3a56ca2a6035": {
          "model_module": "@jupyter-widgets/base",
          "model_name": "LayoutModel",
          "model_module_version": "1.2.0",
          "state": {
            "_model_module": "@jupyter-widgets/base",
            "_model_module_version": "1.2.0",
            "_model_name": "LayoutModel",
            "_view_count": null,
            "_view_module": "@jupyter-widgets/base",
            "_view_module_version": "1.2.0",
            "_view_name": "LayoutView",
            "align_content": null,
            "align_items": null,
            "align_self": null,
            "border": null,
            "bottom": null,
            "display": null,
            "flex": null,
            "flex_flow": null,
            "grid_area": null,
            "grid_auto_columns": null,
            "grid_auto_flow": null,
            "grid_auto_rows": null,
            "grid_column": null,
            "grid_gap": null,
            "grid_row": null,
            "grid_template_areas": null,
            "grid_template_columns": null,
            "grid_template_rows": null,
            "height": null,
            "justify_content": null,
            "justify_items": null,
            "left": null,
            "margin": null,
            "max_height": null,
            "max_width": null,
            "min_height": null,
            "min_width": null,
            "object_fit": null,
            "object_position": null,
            "order": null,
            "overflow": null,
            "overflow_x": null,
            "overflow_y": null,
            "padding": null,
            "right": null,
            "top": null,
            "visibility": null,
            "width": null
          }
        },
        "838728cff6d54f50ad5278cc2319d88f": {
          "model_module": "@jupyter-widgets/controls",
          "model_name": "DescriptionStyleModel",
          "model_module_version": "1.5.0",
          "state": {
            "_model_module": "@jupyter-widgets/controls",
            "_model_module_version": "1.5.0",
            "_model_name": "DescriptionStyleModel",
            "_view_count": null,
            "_view_module": "@jupyter-widgets/base",
            "_view_module_version": "1.2.0",
            "_view_name": "StyleView",
            "description_width": ""
          }
        },
        "3f89a10f898b4d45b61afa4fc900ae1d": {
          "model_module": "@jupyter-widgets/base",
          "model_name": "LayoutModel",
          "model_module_version": "1.2.0",
          "state": {
            "_model_module": "@jupyter-widgets/base",
            "_model_module_version": "1.2.0",
            "_model_name": "LayoutModel",
            "_view_count": null,
            "_view_module": "@jupyter-widgets/base",
            "_view_module_version": "1.2.0",
            "_view_name": "LayoutView",
            "align_content": null,
            "align_items": null,
            "align_self": null,
            "border": null,
            "bottom": null,
            "display": null,
            "flex": null,
            "flex_flow": null,
            "grid_area": null,
            "grid_auto_columns": null,
            "grid_auto_flow": null,
            "grid_auto_rows": null,
            "grid_column": null,
            "grid_gap": null,
            "grid_row": null,
            "grid_template_areas": null,
            "grid_template_columns": null,
            "grid_template_rows": null,
            "height": null,
            "justify_content": null,
            "justify_items": null,
            "left": null,
            "margin": null,
            "max_height": null,
            "max_width": null,
            "min_height": null,
            "min_width": null,
            "object_fit": null,
            "object_position": null,
            "order": null,
            "overflow": null,
            "overflow_x": null,
            "overflow_y": null,
            "padding": null,
            "right": null,
            "top": null,
            "visibility": null,
            "width": null
          }
        },
        "5071758faecd40de90dfa31ecd80bf11": {
          "model_module": "@jupyter-widgets/controls",
          "model_name": "ProgressStyleModel",
          "model_module_version": "1.5.0",
          "state": {
            "_model_module": "@jupyter-widgets/controls",
            "_model_module_version": "1.5.0",
            "_model_name": "ProgressStyleModel",
            "_view_count": null,
            "_view_module": "@jupyter-widgets/base",
            "_view_module_version": "1.2.0",
            "_view_name": "StyleView",
            "bar_color": null,
            "description_width": ""
          }
        },
        "d98c67c96ab941b6b666d365a299bb1d": {
          "model_module": "@jupyter-widgets/base",
          "model_name": "LayoutModel",
          "model_module_version": "1.2.0",
          "state": {
            "_model_module": "@jupyter-widgets/base",
            "_model_module_version": "1.2.0",
            "_model_name": "LayoutModel",
            "_view_count": null,
            "_view_module": "@jupyter-widgets/base",
            "_view_module_version": "1.2.0",
            "_view_name": "LayoutView",
            "align_content": null,
            "align_items": null,
            "align_self": null,
            "border": null,
            "bottom": null,
            "display": null,
            "flex": null,
            "flex_flow": null,
            "grid_area": null,
            "grid_auto_columns": null,
            "grid_auto_flow": null,
            "grid_auto_rows": null,
            "grid_column": null,
            "grid_gap": null,
            "grid_row": null,
            "grid_template_areas": null,
            "grid_template_columns": null,
            "grid_template_rows": null,
            "height": null,
            "justify_content": null,
            "justify_items": null,
            "left": null,
            "margin": null,
            "max_height": null,
            "max_width": null,
            "min_height": null,
            "min_width": null,
            "object_fit": null,
            "object_position": null,
            "order": null,
            "overflow": null,
            "overflow_x": null,
            "overflow_y": null,
            "padding": null,
            "right": null,
            "top": null,
            "visibility": null,
            "width": null
          }
        },
        "b857429f8a97445c832c16aecb27e27d": {
          "model_module": "@jupyter-widgets/controls",
          "model_name": "DescriptionStyleModel",
          "model_module_version": "1.5.0",
          "state": {
            "_model_module": "@jupyter-widgets/controls",
            "_model_module_version": "1.5.0",
            "_model_name": "DescriptionStyleModel",
            "_view_count": null,
            "_view_module": "@jupyter-widgets/base",
            "_view_module_version": "1.2.0",
            "_view_name": "StyleView",
            "description_width": ""
          }
        },
        "b62c4b2c51354f2b8e162c6ea6b2d5f5": {
          "model_module": "@jupyter-widgets/controls",
          "model_name": "HBoxModel",
          "model_module_version": "1.5.0",
          "state": {
            "_dom_classes": [],
            "_model_module": "@jupyter-widgets/controls",
            "_model_module_version": "1.5.0",
            "_model_name": "HBoxModel",
            "_view_count": null,
            "_view_module": "@jupyter-widgets/controls",
            "_view_module_version": "1.5.0",
            "_view_name": "HBoxView",
            "box_style": "",
            "children": [
              "IPY_MODEL_642a050f212c42a2bd11b9762d4fe9b2",
              "IPY_MODEL_8578802a5247439687e547a8528b2e2f",
              "IPY_MODEL_a947ab8d4d4f4f42be0f23376038de1c"
            ],
            "layout": "IPY_MODEL_fee1789492ff4b999ba178a0992a4a7c"
          }
        },
        "642a050f212c42a2bd11b9762d4fe9b2": {
          "model_module": "@jupyter-widgets/controls",
          "model_name": "HTMLModel",
          "model_module_version": "1.5.0",
          "state": {
            "_dom_classes": [],
            "_model_module": "@jupyter-widgets/controls",
            "_model_module_version": "1.5.0",
            "_model_name": "HTMLModel",
            "_view_count": null,
            "_view_module": "@jupyter-widgets/controls",
            "_view_module_version": "1.5.0",
            "_view_name": "HTMLView",
            "description": "",
            "description_tooltip": null,
            "layout": "IPY_MODEL_6b73c007743f4612a7f88080f678638b",
            "placeholder": "​",
            "style": "IPY_MODEL_1e64a3771f844201931ffdffeaa289b3",
            "value": "Downloading: 100%"
          }
        },
        "8578802a5247439687e547a8528b2e2f": {
          "model_module": "@jupyter-widgets/controls",
          "model_name": "FloatProgressModel",
          "model_module_version": "1.5.0",
          "state": {
            "_dom_classes": [],
            "_model_module": "@jupyter-widgets/controls",
            "_model_module_version": "1.5.0",
            "_model_name": "FloatProgressModel",
            "_view_count": null,
            "_view_module": "@jupyter-widgets/controls",
            "_view_module_version": "1.5.0",
            "_view_name": "ProgressView",
            "bar_style": "success",
            "description": "",
            "description_tooltip": null,
            "layout": "IPY_MODEL_0ce0d57f2c504e04bb0cf057027c6a67",
            "max": 263273408,
            "min": 0,
            "orientation": "horizontal",
            "style": "IPY_MODEL_26c2db1d39e240f0bf0cd6d1beeb04b6",
            "value": 263273408
          }
        },
        "a947ab8d4d4f4f42be0f23376038de1c": {
          "model_module": "@jupyter-widgets/controls",
          "model_name": "HTMLModel",
          "model_module_version": "1.5.0",
          "state": {
            "_dom_classes": [],
            "_model_module": "@jupyter-widgets/controls",
            "_model_module_version": "1.5.0",
            "_model_name": "HTMLModel",
            "_view_count": null,
            "_view_module": "@jupyter-widgets/controls",
            "_view_module_version": "1.5.0",
            "_view_name": "HTMLView",
            "description": "",
            "description_tooltip": null,
            "layout": "IPY_MODEL_1980ea01d7af42b4ab757100c9e30113",
            "placeholder": "​",
            "style": "IPY_MODEL_6c2537a81e6d45739b61b5af9a72fe34",
            "value": " 251M/251M [00:11&lt;00:00, 26.5MB/s]"
          }
        },
        "fee1789492ff4b999ba178a0992a4a7c": {
          "model_module": "@jupyter-widgets/base",
          "model_name": "LayoutModel",
          "model_module_version": "1.2.0",
          "state": {
            "_model_module": "@jupyter-widgets/base",
            "_model_module_version": "1.2.0",
            "_model_name": "LayoutModel",
            "_view_count": null,
            "_view_module": "@jupyter-widgets/base",
            "_view_module_version": "1.2.0",
            "_view_name": "LayoutView",
            "align_content": null,
            "align_items": null,
            "align_self": null,
            "border": null,
            "bottom": null,
            "display": null,
            "flex": null,
            "flex_flow": null,
            "grid_area": null,
            "grid_auto_columns": null,
            "grid_auto_flow": null,
            "grid_auto_rows": null,
            "grid_column": null,
            "grid_gap": null,
            "grid_row": null,
            "grid_template_areas": null,
            "grid_template_columns": null,
            "grid_template_rows": null,
            "height": null,
            "justify_content": null,
            "justify_items": null,
            "left": null,
            "margin": null,
            "max_height": null,
            "max_width": null,
            "min_height": null,
            "min_width": null,
            "object_fit": null,
            "object_position": null,
            "order": null,
            "overflow": null,
            "overflow_x": null,
            "overflow_y": null,
            "padding": null,
            "right": null,
            "top": null,
            "visibility": null,
            "width": null
          }
        },
        "6b73c007743f4612a7f88080f678638b": {
          "model_module": "@jupyter-widgets/base",
          "model_name": "LayoutModel",
          "model_module_version": "1.2.0",
          "state": {
            "_model_module": "@jupyter-widgets/base",
            "_model_module_version": "1.2.0",
            "_model_name": "LayoutModel",
            "_view_count": null,
            "_view_module": "@jupyter-widgets/base",
            "_view_module_version": "1.2.0",
            "_view_name": "LayoutView",
            "align_content": null,
            "align_items": null,
            "align_self": null,
            "border": null,
            "bottom": null,
            "display": null,
            "flex": null,
            "flex_flow": null,
            "grid_area": null,
            "grid_auto_columns": null,
            "grid_auto_flow": null,
            "grid_auto_rows": null,
            "grid_column": null,
            "grid_gap": null,
            "grid_row": null,
            "grid_template_areas": null,
            "grid_template_columns": null,
            "grid_template_rows": null,
            "height": null,
            "justify_content": null,
            "justify_items": null,
            "left": null,
            "margin": null,
            "max_height": null,
            "max_width": null,
            "min_height": null,
            "min_width": null,
            "object_fit": null,
            "object_position": null,
            "order": null,
            "overflow": null,
            "overflow_x": null,
            "overflow_y": null,
            "padding": null,
            "right": null,
            "top": null,
            "visibility": null,
            "width": null
          }
        },
        "1e64a3771f844201931ffdffeaa289b3": {
          "model_module": "@jupyter-widgets/controls",
          "model_name": "DescriptionStyleModel",
          "model_module_version": "1.5.0",
          "state": {
            "_model_module": "@jupyter-widgets/controls",
            "_model_module_version": "1.5.0",
            "_model_name": "DescriptionStyleModel",
            "_view_count": null,
            "_view_module": "@jupyter-widgets/base",
            "_view_module_version": "1.2.0",
            "_view_name": "StyleView",
            "description_width": ""
          }
        },
        "0ce0d57f2c504e04bb0cf057027c6a67": {
          "model_module": "@jupyter-widgets/base",
          "model_name": "LayoutModel",
          "model_module_version": "1.2.0",
          "state": {
            "_model_module": "@jupyter-widgets/base",
            "_model_module_version": "1.2.0",
            "_model_name": "LayoutModel",
            "_view_count": null,
            "_view_module": "@jupyter-widgets/base",
            "_view_module_version": "1.2.0",
            "_view_name": "LayoutView",
            "align_content": null,
            "align_items": null,
            "align_self": null,
            "border": null,
            "bottom": null,
            "display": null,
            "flex": null,
            "flex_flow": null,
            "grid_area": null,
            "grid_auto_columns": null,
            "grid_auto_flow": null,
            "grid_auto_rows": null,
            "grid_column": null,
            "grid_gap": null,
            "grid_row": null,
            "grid_template_areas": null,
            "grid_template_columns": null,
            "grid_template_rows": null,
            "height": null,
            "justify_content": null,
            "justify_items": null,
            "left": null,
            "margin": null,
            "max_height": null,
            "max_width": null,
            "min_height": null,
            "min_width": null,
            "object_fit": null,
            "object_position": null,
            "order": null,
            "overflow": null,
            "overflow_x": null,
            "overflow_y": null,
            "padding": null,
            "right": null,
            "top": null,
            "visibility": null,
            "width": null
          }
        },
        "26c2db1d39e240f0bf0cd6d1beeb04b6": {
          "model_module": "@jupyter-widgets/controls",
          "model_name": "ProgressStyleModel",
          "model_module_version": "1.5.0",
          "state": {
            "_model_module": "@jupyter-widgets/controls",
            "_model_module_version": "1.5.0",
            "_model_name": "ProgressStyleModel",
            "_view_count": null,
            "_view_module": "@jupyter-widgets/base",
            "_view_module_version": "1.2.0",
            "_view_name": "StyleView",
            "bar_color": null,
            "description_width": ""
          }
        },
        "1980ea01d7af42b4ab757100c9e30113": {
          "model_module": "@jupyter-widgets/base",
          "model_name": "LayoutModel",
          "model_module_version": "1.2.0",
          "state": {
            "_model_module": "@jupyter-widgets/base",
            "_model_module_version": "1.2.0",
            "_model_name": "LayoutModel",
            "_view_count": null,
            "_view_module": "@jupyter-widgets/base",
            "_view_module_version": "1.2.0",
            "_view_name": "LayoutView",
            "align_content": null,
            "align_items": null,
            "align_self": null,
            "border": null,
            "bottom": null,
            "display": null,
            "flex": null,
            "flex_flow": null,
            "grid_area": null,
            "grid_auto_columns": null,
            "grid_auto_flow": null,
            "grid_auto_rows": null,
            "grid_column": null,
            "grid_gap": null,
            "grid_row": null,
            "grid_template_areas": null,
            "grid_template_columns": null,
            "grid_template_rows": null,
            "height": null,
            "justify_content": null,
            "justify_items": null,
            "left": null,
            "margin": null,
            "max_height": null,
            "max_width": null,
            "min_height": null,
            "min_width": null,
            "object_fit": null,
            "object_position": null,
            "order": null,
            "overflow": null,
            "overflow_x": null,
            "overflow_y": null,
            "padding": null,
            "right": null,
            "top": null,
            "visibility": null,
            "width": null
          }
        },
        "6c2537a81e6d45739b61b5af9a72fe34": {
          "model_module": "@jupyter-widgets/controls",
          "model_name": "DescriptionStyleModel",
          "model_module_version": "1.5.0",
          "state": {
            "_model_module": "@jupyter-widgets/controls",
            "_model_module_version": "1.5.0",
            "_model_name": "DescriptionStyleModel",
            "_view_count": null,
            "_view_module": "@jupyter-widgets/base",
            "_view_module_version": "1.2.0",
            "_view_name": "StyleView",
            "description_width": ""
          }
        },
        "43207db981eb4b428614b94f4207373c": {
          "model_module": "@jupyter-widgets/controls",
          "model_name": "HBoxModel",
          "model_module_version": "1.5.0",
          "state": {
            "_dom_classes": [],
            "_model_module": "@jupyter-widgets/controls",
            "_model_module_version": "1.5.0",
            "_model_name": "HBoxModel",
            "_view_count": null,
            "_view_module": "@jupyter-widgets/controls",
            "_view_module_version": "1.5.0",
            "_view_name": "HBoxView",
            "box_style": "",
            "children": [
              "IPY_MODEL_0c9ea15f786f4439afb3a8f40a7619ff",
              "IPY_MODEL_b53929e543834b9d9e4810261bc83232",
              "IPY_MODEL_c0bd618f6fd1478ab8c7341f1bb92746"
            ],
            "layout": "IPY_MODEL_0cbee4cb88a2450dbfc00ecc07f9afcc"
          }
        },
        "0c9ea15f786f4439afb3a8f40a7619ff": {
          "model_module": "@jupyter-widgets/controls",
          "model_name": "HTMLModel",
          "model_module_version": "1.5.0",
          "state": {
            "_dom_classes": [],
            "_model_module": "@jupyter-widgets/controls",
            "_model_module_version": "1.5.0",
            "_model_name": "HTMLModel",
            "_view_count": null,
            "_view_module": "@jupyter-widgets/controls",
            "_view_module_version": "1.5.0",
            "_view_name": "HTMLView",
            "description": "",
            "description_tooltip": null,
            "layout": "IPY_MODEL_05ed85074f214553a10c2241a73f5c3e",
            "placeholder": "​",
            "style": "IPY_MODEL_5bbf091d7d9c4b3a8ccd96b391b6137c",
            "value": "100%"
          }
        },
        "b53929e543834b9d9e4810261bc83232": {
          "model_module": "@jupyter-widgets/controls",
          "model_name": "FloatProgressModel",
          "model_module_version": "1.5.0",
          "state": {
            "_dom_classes": [],
            "_model_module": "@jupyter-widgets/controls",
            "_model_module_version": "1.5.0",
            "_model_name": "FloatProgressModel",
            "_view_count": null,
            "_view_module": "@jupyter-widgets/controls",
            "_view_module_version": "1.5.0",
            "_view_name": "ProgressView",
            "bar_style": "",
            "description": "",
            "description_tooltip": null,
            "layout": "IPY_MODEL_0f57d95f3c6e487ebe2ad2d185e8e42b",
            "max": 5,
            "min": 0,
            "orientation": "horizontal",
            "style": "IPY_MODEL_de29c70fc96f411db06cfb049bc281d3",
            "value": 5
          }
        },
        "c0bd618f6fd1478ab8c7341f1bb92746": {
          "model_module": "@jupyter-widgets/controls",
          "model_name": "HTMLModel",
          "model_module_version": "1.5.0",
          "state": {
            "_dom_classes": [],
            "_model_module": "@jupyter-widgets/controls",
            "_model_module_version": "1.5.0",
            "_model_name": "HTMLModel",
            "_view_count": null,
            "_view_module": "@jupyter-widgets/controls",
            "_view_module_version": "1.5.0",
            "_view_name": "HTMLView",
            "description": "",
            "description_tooltip": null,
            "layout": "IPY_MODEL_e257d29a01504f3882e419865e935ca8",
            "placeholder": "​",
            "style": "IPY_MODEL_3d707a226578469f8800b437bcb9ac27",
            "value": " 5/5 [01:06&lt;00:00, 13.41s/it]"
          }
        },
        "0cbee4cb88a2450dbfc00ecc07f9afcc": {
          "model_module": "@jupyter-widgets/base",
          "model_name": "LayoutModel",
          "model_module_version": "1.2.0",
          "state": {
            "_model_module": "@jupyter-widgets/base",
            "_model_module_version": "1.2.0",
            "_model_name": "LayoutModel",
            "_view_count": null,
            "_view_module": "@jupyter-widgets/base",
            "_view_module_version": "1.2.0",
            "_view_name": "LayoutView",
            "align_content": null,
            "align_items": null,
            "align_self": null,
            "border": null,
            "bottom": null,
            "display": null,
            "flex": null,
            "flex_flow": null,
            "grid_area": null,
            "grid_auto_columns": null,
            "grid_auto_flow": null,
            "grid_auto_rows": null,
            "grid_column": null,
            "grid_gap": null,
            "grid_row": null,
            "grid_template_areas": null,
            "grid_template_columns": null,
            "grid_template_rows": null,
            "height": null,
            "justify_content": null,
            "justify_items": null,
            "left": null,
            "margin": null,
            "max_height": null,
            "max_width": null,
            "min_height": null,
            "min_width": null,
            "object_fit": null,
            "object_position": null,
            "order": null,
            "overflow": null,
            "overflow_x": null,
            "overflow_y": null,
            "padding": null,
            "right": null,
            "top": null,
            "visibility": null,
            "width": null
          }
        },
        "05ed85074f214553a10c2241a73f5c3e": {
          "model_module": "@jupyter-widgets/base",
          "model_name": "LayoutModel",
          "model_module_version": "1.2.0",
          "state": {
            "_model_module": "@jupyter-widgets/base",
            "_model_module_version": "1.2.0",
            "_model_name": "LayoutModel",
            "_view_count": null,
            "_view_module": "@jupyter-widgets/base",
            "_view_module_version": "1.2.0",
            "_view_name": "LayoutView",
            "align_content": null,
            "align_items": null,
            "align_self": null,
            "border": null,
            "bottom": null,
            "display": null,
            "flex": null,
            "flex_flow": null,
            "grid_area": null,
            "grid_auto_columns": null,
            "grid_auto_flow": null,
            "grid_auto_rows": null,
            "grid_column": null,
            "grid_gap": null,
            "grid_row": null,
            "grid_template_areas": null,
            "grid_template_columns": null,
            "grid_template_rows": null,
            "height": null,
            "justify_content": null,
            "justify_items": null,
            "left": null,
            "margin": null,
            "max_height": null,
            "max_width": null,
            "min_height": null,
            "min_width": null,
            "object_fit": null,
            "object_position": null,
            "order": null,
            "overflow": null,
            "overflow_x": null,
            "overflow_y": null,
            "padding": null,
            "right": null,
            "top": null,
            "visibility": null,
            "width": null
          }
        },
        "5bbf091d7d9c4b3a8ccd96b391b6137c": {
          "model_module": "@jupyter-widgets/controls",
          "model_name": "DescriptionStyleModel",
          "model_module_version": "1.5.0",
          "state": {
            "_model_module": "@jupyter-widgets/controls",
            "_model_module_version": "1.5.0",
            "_model_name": "DescriptionStyleModel",
            "_view_count": null,
            "_view_module": "@jupyter-widgets/base",
            "_view_module_version": "1.2.0",
            "_view_name": "StyleView",
            "description_width": ""
          }
        },
        "0f57d95f3c6e487ebe2ad2d185e8e42b": {
          "model_module": "@jupyter-widgets/base",
          "model_name": "LayoutModel",
          "model_module_version": "1.2.0",
          "state": {
            "_model_module": "@jupyter-widgets/base",
            "_model_module_version": "1.2.0",
            "_model_name": "LayoutModel",
            "_view_count": null,
            "_view_module": "@jupyter-widgets/base",
            "_view_module_version": "1.2.0",
            "_view_name": "LayoutView",
            "align_content": null,
            "align_items": null,
            "align_self": null,
            "border": null,
            "bottom": null,
            "display": null,
            "flex": null,
            "flex_flow": null,
            "grid_area": null,
            "grid_auto_columns": null,
            "grid_auto_flow": null,
            "grid_auto_rows": null,
            "grid_column": null,
            "grid_gap": null,
            "grid_row": null,
            "grid_template_areas": null,
            "grid_template_columns": null,
            "grid_template_rows": null,
            "height": null,
            "justify_content": null,
            "justify_items": null,
            "left": null,
            "margin": null,
            "max_height": null,
            "max_width": null,
            "min_height": null,
            "min_width": null,
            "object_fit": null,
            "object_position": null,
            "order": null,
            "overflow": null,
            "overflow_x": null,
            "overflow_y": null,
            "padding": null,
            "right": null,
            "top": null,
            "visibility": null,
            "width": null
          }
        },
        "de29c70fc96f411db06cfb049bc281d3": {
          "model_module": "@jupyter-widgets/controls",
          "model_name": "ProgressStyleModel",
          "model_module_version": "1.5.0",
          "state": {
            "_model_module": "@jupyter-widgets/controls",
            "_model_module_version": "1.5.0",
            "_model_name": "ProgressStyleModel",
            "_view_count": null,
            "_view_module": "@jupyter-widgets/base",
            "_view_module_version": "1.2.0",
            "_view_name": "StyleView",
            "bar_color": null,
            "description_width": ""
          }
        },
        "e257d29a01504f3882e419865e935ca8": {
          "model_module": "@jupyter-widgets/base",
          "model_name": "LayoutModel",
          "model_module_version": "1.2.0",
          "state": {
            "_model_module": "@jupyter-widgets/base",
            "_model_module_version": "1.2.0",
            "_model_name": "LayoutModel",
            "_view_count": null,
            "_view_module": "@jupyter-widgets/base",
            "_view_module_version": "1.2.0",
            "_view_name": "LayoutView",
            "align_content": null,
            "align_items": null,
            "align_self": null,
            "border": null,
            "bottom": null,
            "display": null,
            "flex": null,
            "flex_flow": null,
            "grid_area": null,
            "grid_auto_columns": null,
            "grid_auto_flow": null,
            "grid_auto_rows": null,
            "grid_column": null,
            "grid_gap": null,
            "grid_row": null,
            "grid_template_areas": null,
            "grid_template_columns": null,
            "grid_template_rows": null,
            "height": null,
            "justify_content": null,
            "justify_items": null,
            "left": null,
            "margin": null,
            "max_height": null,
            "max_width": null,
            "min_height": null,
            "min_width": null,
            "object_fit": null,
            "object_position": null,
            "order": null,
            "overflow": null,
            "overflow_x": null,
            "overflow_y": null,
            "padding": null,
            "right": null,
            "top": null,
            "visibility": null,
            "width": null
          }
        },
        "3d707a226578469f8800b437bcb9ac27": {
          "model_module": "@jupyter-widgets/controls",
          "model_name": "DescriptionStyleModel",
          "model_module_version": "1.5.0",
          "state": {
            "_model_module": "@jupyter-widgets/controls",
            "_model_module_version": "1.5.0",
            "_model_name": "DescriptionStyleModel",
            "_view_count": null,
            "_view_module": "@jupyter-widgets/base",
            "_view_module_version": "1.2.0",
            "_view_name": "StyleView",
            "description_width": ""
          }
        }
      }
    }
  },
  "nbformat": 4,
  "nbformat_minor": 0
}
