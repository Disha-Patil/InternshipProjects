{
  "cells": [
    {
      "cell_type": "markdown",
      "metadata": {
        "id": "ME5M65XBcRlf"
      },
      "source": [
        "#About the Data\n",
        "\n",
        "* The data was taken from \n",
        "https://m.rbi.org.in//scripts/PublicationReportDetails.aspx?ID=242\n",
        "\n",
        "* Each rule is considered as a record under the the headings:<br>\n",
        "\n",
        "  1. Enhancing Bank Transparency\n",
        "  2. Best Practices for Credit Risk Disclosure\n",
        "  3. Supervision of Financial Conglomerates \n",
        "  4. Risk Concentrations Principles\n",
        "  5. Intra-Group Transactions and Exposures Principles\n",
        "  6. Principles for the Supervision of Banks’ Foreign Establishments (The Basel Concordat)\n",
        "  7. Information Flows Between Banking Supervisory Authorities\n",
        "  8. Minimum Standards for the Supervision of \n",
        "International Banking Groups and their Cross-Border Establishments\n",
        "  9. The Supervision of Cross-Border Banking \n",
        "  \n",
        "* Rules are seperated by their rule number.\n"
      ]
    },
    {
      "cell_type": "markdown",
      "source": [
        "# Text Preprocessing\n",
        "\n",
        "* The line break ‘\\n’ is removed from the text, if there exist any.\n",
        "\n",
        "* Round and square parantheses are removed, if there exist any.\n",
        "\n",
        "* Text contatined within round paranthesis are removed, if there exist any.\n",
        "\n",
        "* Text contatined within square paranthesis are removed, if there exist any.\n",
        "\n",
        "* No summarization was done."
      ],
      "metadata": {
        "id": "J4warHrgNKP1"
      }
    },
    {
      "cell_type": "markdown",
      "metadata": {
        "id": "jhdSQHY_WYk8"
      },
      "source": [
        "#Fine Tuning DistilBERT model for text classification\n",
        "\n",
        "* The model was trained on 5 epochs and the learning rate was set at 2e-5 and batch size 16\n",
        "\n",
        "* Total training time taken across all epochs [Validation and model saving time included]:  0:01:26 (h:mm:ss)\n",
        "\n",
        "* Data Split:<br>\n",
        "      -Training data: 158 (50 percent)\n",
        "      -Validation data: 79 (25 percent)\n",
        "      -Test Data : 79 (25 percent)\n",
        "\n",
        "* Macro-averaged f1-score<br>\n",
        "      -Training data: 0.26\n",
        "      -Validation data: 0.07\n",
        "\n"
      ]
    },
    {
      "cell_type": "markdown",
      "metadata": {
        "id": "HltVocsVxIVZ"
      },
      "source": [
        "## Next Steps\n",
        "\n",
        "* Calculate Metrics on the test Data Set. \n",
        "\n",
        "\n",
        "\n"
      ]
    },
    {
      "cell_type": "markdown",
      "metadata": {
        "id": "M8MJt_UDu36B"
      },
      "source": [
        "##Google Drive access"
      ]
    },
    {
      "cell_type": "code",
      "execution_count": null,
      "metadata": {
        "colab": {
          "base_uri": "https://localhost:8080/"
        },
        "id": "YpebIE41u3Mh",
        "outputId": "aafcbad7-b7c8-4b0e-8416-e2dc404db7ba"
      },
      "outputs": [
        {
          "output_type": "stream",
          "name": "stdout",
          "text": [
            "Mounted at /content/drive\n"
          ]
        }
      ],
      "source": [
        "from google.colab import drive\n",
        "drive.mount('/content/drive')"
      ]
    },
    {
      "cell_type": "code",
      "execution_count": null,
      "metadata": {
        "id": "f3hBz6OXw3gQ"
      },
      "outputs": [],
      "source": [
        "# Write the appropriate paths to retrieve the data and store results \n",
        "dataset_clean_path = '/content/drive/MyDrive/Full_Code/RBI/Parentheses_Removed/dataset_clean'\n",
        "saved_path = '/content/drive/MyDrive/Full_Code/RBI/Parentheses_Removed/Epochs_5/'\n",
        "used_test_data_path = saved_path + 'Test_data_DistilBERT.csv'\n",
        "encoded_test_data_path = saved_path + 'ENCODED_Test_data_DistilBERT.csv'\n",
        "label2id_df_path = saved_path + 'label2id_df.csv'"
      ]
    },
    {
      "cell_type": "markdown",
      "metadata": {
        "id": "hhdVBYIGW2mH"
      },
      "source": [
        "## Set-up environment\n",
        "\n",
        "Install the libraries folium version 0.2.1, HuggingFace Transformers and Datasets"
      ]
    },
    {
      "cell_type": "code",
      "execution_count": null,
      "metadata": {
        "id": "bs0-RE3D76PZ",
        "colab": {
          "base_uri": "https://localhost:8080/"
        },
        "outputId": "2ffb0b05-7f5d-4327-8bca-6cfa6361aa53"
      },
      "outputs": [
        {
          "output_type": "stream",
          "name": "stdout",
          "text": [
            "\u001b[K     |████████████████████████████████| 69 kB 5.5 MB/s \n",
            "\u001b[K     |████████████████████████████████| 4.2 MB 37.6 MB/s \n",
            "\u001b[K     |████████████████████████████████| 346 kB 39.5 MB/s \n",
            "\u001b[K     |████████████████████████████████| 596 kB 65.9 MB/s \n",
            "\u001b[K     |████████████████████████████████| 6.6 MB 57.3 MB/s \n",
            "\u001b[K     |████████████████████████████████| 86 kB 3.8 MB/s \n",
            "\u001b[K     |████████████████████████████████| 140 kB 72.8 MB/s \n",
            "\u001b[K     |████████████████████████████████| 1.1 MB 61.1 MB/s \n",
            "\u001b[K     |████████████████████████████████| 212 kB 74.2 MB/s \n",
            "\u001b[K     |████████████████████████████████| 86 kB 6.1 MB/s \n",
            "\u001b[K     |████████████████████████████████| 127 kB 75.5 MB/s \n",
            "\u001b[K     |████████████████████████████████| 144 kB 74.7 MB/s \n",
            "\u001b[K     |████████████████████████████████| 271 kB 72.7 MB/s \n",
            "\u001b[K     |████████████████████████████████| 94 kB 4.2 MB/s \n",
            "\u001b[?25h  Building wheel for folium (setup.py) ... \u001b[?25l\u001b[?25hdone\n"
          ]
        }
      ],
      "source": [
        "#Install the package folium version 0.2.1 and HuggingFace tranformer and datasets libraries  \n",
        "!pip install -q folium==0.2.1 transformers datasets "
      ]
    },
    {
      "cell_type": "code",
      "execution_count": null,
      "metadata": {
        "colab": {
          "base_uri": "https://localhost:8080/"
        },
        "id": "bUvk9uQCAspf",
        "outputId": "24f83eb5-11ec-452a-82b1-71223536a65e"
      },
      "outputs": [
        {
          "output_type": "stream",
          "name": "stdout",
          "text": [
            "cuda:0 is available\n"
          ]
        }
      ],
      "source": [
        "import torch\n",
        "#Check if GPU is available\n",
        "device = \"cuda:0\" if torch.cuda.is_available() else \"cpu\"\n",
        "print(device, \"is available\")"
      ]
    },
    {
      "cell_type": "markdown",
      "source": [
        "##Memory Allocated"
      ],
      "metadata": {
        "id": "rXXUT_pKzvEy"
      }
    },
    {
      "cell_type": "code",
      "source": [
        "!nvidia-smi -q"
      ],
      "metadata": {
        "colab": {
          "base_uri": "https://localhost:8080/"
        },
        "id": "35aOat3LQQNf",
        "outputId": "5839589e-849d-430c-bd2f-30c52dc750d8"
      },
      "execution_count": null,
      "outputs": [
        {
          "output_type": "stream",
          "name": "stdout",
          "text": [
            "\n",
            "==============NVSMI LOG==============\n",
            "\n",
            "Timestamp                                 : Thu May 26 18:07:09 2022\n",
            "Driver Version                            : 460.32.03\n",
            "CUDA Version                              : 11.2\n",
            "\n",
            "Attached GPUs                             : 1\n",
            "GPU 00000000:00:04.0\n",
            "    Product Name                          : Tesla P100-PCIE-16GB\n",
            "    Product Brand                         : Tesla\n",
            "    Display Mode                          : Enabled\n",
            "    Display Active                        : Disabled\n",
            "    Persistence Mode                      : Disabled\n",
            "    MIG Mode\n",
            "        Current                           : N/A\n",
            "        Pending                           : N/A\n",
            "    Accounting Mode                       : Disabled\n",
            "    Accounting Mode Buffer Size           : 4000\n",
            "    Driver Model\n",
            "        Current                           : N/A\n",
            "        Pending                           : N/A\n",
            "    Serial Number                         : 0320118081249\n",
            "    GPU UUID                              : GPU-fc82046e-a4dd-159b-e725-c326af254ad4\n",
            "    Minor Number                          : 0\n",
            "    VBIOS Version                         : 86.00.52.00.02\n",
            "    MultiGPU Board                        : No\n",
            "    Board ID                              : 0x4\n",
            "    GPU Part Number                       : 900-2H400-6300-031\n",
            "    Inforom Version\n",
            "        Image Version                     : H400.0201.00.08\n",
            "        OEM Object                        : 1.1\n",
            "        ECC Object                        : 4.1\n",
            "        Power Management Object           : N/A\n",
            "    GPU Operation Mode\n",
            "        Current                           : N/A\n",
            "        Pending                           : N/A\n",
            "    GPU Virtualization Mode\n",
            "        Virtualization Mode               : Pass-Through\n",
            "        Host VGPU Mode                    : N/A\n",
            "    IBMNPU\n",
            "        Relaxed Ordering Mode             : N/A\n",
            "    PCI\n",
            "        Bus                               : 0x00\n",
            "        Device                            : 0x04\n",
            "        Domain                            : 0x0000\n",
            "        Device Id                         : 0x15F810DE\n",
            "        Bus Id                            : 00000000:00:04.0\n",
            "        Sub System Id                     : 0x118F10DE\n",
            "        GPU Link Info\n",
            "            PCIe Generation\n",
            "                Max                       : 3\n",
            "                Current                   : 3\n",
            "            Link Width\n",
            "                Max                       : 16x\n",
            "                Current                   : 16x\n",
            "        Bridge Chip\n",
            "            Type                          : N/A\n",
            "            Firmware                      : N/A\n",
            "        Replays Since Reset               : 0\n",
            "        Replay Number Rollovers           : 0\n",
            "        Tx Throughput                     : 0 KB/s\n",
            "        Rx Throughput                     : 0 KB/s\n",
            "    Fan Speed                             : N/A\n",
            "    Performance State                     : P0\n",
            "    Clocks Throttle Reasons\n",
            "        Idle                              : Active\n",
            "        Applications Clocks Setting       : Not Active\n",
            "        SW Power Cap                      : Not Active\n",
            "        HW Slowdown                       : Not Active\n",
            "            HW Thermal Slowdown           : Not Active\n",
            "            HW Power Brake Slowdown       : Not Active\n",
            "        Sync Boost                        : Not Active\n",
            "        SW Thermal Slowdown               : Not Active\n",
            "        Display Clock Setting             : Not Active\n",
            "    FB Memory Usage\n",
            "        Total                             : 16280 MiB\n",
            "        Used                              : 2 MiB\n",
            "        Free                              : 16278 MiB\n",
            "    BAR1 Memory Usage\n",
            "        Total                             : 16384 MiB\n",
            "        Used                              : 2 MiB\n",
            "        Free                              : 16382 MiB\n",
            "    Compute Mode                          : Default\n",
            "    Utilization\n",
            "        Gpu                               : 0 %\n",
            "        Memory                            : 0 %\n",
            "        Encoder                           : 0 %\n",
            "        Decoder                           : 0 %\n",
            "    Encoder Stats\n",
            "        Active Sessions                   : 0\n",
            "        Average FPS                       : 0\n",
            "        Average Latency                   : 0\n",
            "    FBC Stats\n",
            "        Active Sessions                   : 0\n",
            "        Average FPS                       : 0\n",
            "        Average Latency                   : 0\n",
            "    Ecc Mode\n",
            "        Current                           : Enabled\n",
            "        Pending                           : Enabled\n",
            "    ECC Errors\n",
            "        Volatile\n",
            "            Single Bit            \n",
            "                Device Memory             : 0\n",
            "                Register File             : 0\n",
            "                L1 Cache                  : N/A\n",
            "                L2 Cache                  : 0\n",
            "                Texture Memory            : 0\n",
            "                Texture Shared            : 0\n",
            "                CBU                       : N/A\n",
            "                Total                     : 0\n",
            "            Double Bit            \n",
            "                Device Memory             : 0\n",
            "                Register File             : 0\n",
            "                L1 Cache                  : N/A\n",
            "                L2 Cache                  : 0\n",
            "                Texture Memory            : 0\n",
            "                Texture Shared            : 0\n",
            "                CBU                       : N/A\n",
            "                Total                     : 0\n",
            "        Aggregate\n",
            "            Single Bit            \n",
            "                Device Memory             : 19\n",
            "                Register File             : 0\n",
            "                L1 Cache                  : N/A\n",
            "                L2 Cache                  : 0\n",
            "                Texture Memory            : 0\n",
            "                Texture Shared            : 0\n",
            "                CBU                       : N/A\n",
            "                Total                     : 19\n",
            "            Double Bit            \n",
            "                Device Memory             : 0\n",
            "                Register File             : 0\n",
            "                L1 Cache                  : N/A\n",
            "                L2 Cache                  : 0\n",
            "                Texture Memory            : 0\n",
            "                Texture Shared            : 0\n",
            "                CBU                       : N/A\n",
            "                Total                     : 0\n",
            "    Retired Pages\n",
            "        Single Bit ECC                    : 1\n",
            "        Double Bit ECC                    : 0\n",
            "        Pending Page Blacklist            : No\n",
            "    Remapped Rows                         : N/A\n",
            "    Temperature\n",
            "        GPU Current Temp                  : 34 C\n",
            "        GPU Shutdown Temp                 : 85 C\n",
            "        GPU Slowdown Temp                 : 82 C\n",
            "        GPU Max Operating Temp            : N/A\n",
            "        GPU Target Temperature            : N/A\n",
            "        Memory Current Temp               : N/A\n",
            "        Memory Max Operating Temp         : N/A\n",
            "    Power Readings\n",
            "        Power Management                  : Supported\n",
            "        Power Draw                        : 28.30 W\n",
            "        Power Limit                       : 250.00 W\n",
            "        Default Power Limit               : 250.00 W\n",
            "        Enforced Power Limit              : 250.00 W\n",
            "        Min Power Limit                   : 125.00 W\n",
            "        Max Power Limit                   : 250.00 W\n",
            "    Clocks\n",
            "        Graphics                          : 405 MHz\n",
            "        SM                                : 405 MHz\n",
            "        Memory                            : 715 MHz\n",
            "        Video                             : 835 MHz\n",
            "    Applications Clocks\n",
            "        Graphics                          : 1189 MHz\n",
            "        Memory                            : 715 MHz\n",
            "    Default Applications Clocks\n",
            "        Graphics                          : 1189 MHz\n",
            "        Memory                            : 715 MHz\n",
            "    Max Clocks\n",
            "        Graphics                          : 1328 MHz\n",
            "        SM                                : 1328 MHz\n",
            "        Memory                            : 715 MHz\n",
            "        Video                             : 1328 MHz\n",
            "    Max Customer Boost Clocks\n",
            "        Graphics                          : 1328 MHz\n",
            "    Clock Policy\n",
            "        Auto Boost                        : N/A\n",
            "        Auto Boost Default                : N/A\n",
            "    Processes                             : None\n",
            "\n"
          ]
        }
      ]
    },
    {
      "cell_type": "code",
      "source": [
        "!nvidia-smi"
      ],
      "metadata": {
        "colab": {
          "base_uri": "https://localhost:8080/"
        },
        "id": "ZxtauL1_QKJk",
        "outputId": "6368992a-ae6d-44c8-f82b-23b831abd6c8"
      },
      "execution_count": null,
      "outputs": [
        {
          "output_type": "stream",
          "name": "stdout",
          "text": [
            "Thu May 26 18:07:09 2022       \n",
            "+-----------------------------------------------------------------------------+\n",
            "| NVIDIA-SMI 460.32.03    Driver Version: 460.32.03    CUDA Version: 11.2     |\n",
            "|-------------------------------+----------------------+----------------------+\n",
            "| GPU  Name        Persistence-M| Bus-Id        Disp.A | Volatile Uncorr. ECC |\n",
            "| Fan  Temp  Perf  Pwr:Usage/Cap|         Memory-Usage | GPU-Util  Compute M. |\n",
            "|                               |                      |               MIG M. |\n",
            "|===============================+======================+======================|\n",
            "|   0  Tesla P100-PCIE...  Off  | 00000000:00:04.0 Off |                    0 |\n",
            "| N/A   34C    P0    28W / 250W |      2MiB / 16280MiB |      0%      Default |\n",
            "|                               |                      |                  N/A |\n",
            "+-------------------------------+----------------------+----------------------+\n",
            "                                                                               \n",
            "+-----------------------------------------------------------------------------+\n",
            "| Processes:                                                                  |\n",
            "|  GPU   GI   CI        PID   Type   Process name                  GPU Memory |\n",
            "|        ID   ID                                                   Usage      |\n",
            "|=============================================================================|\n",
            "|  No running processes found                                                 |\n",
            "+-----------------------------------------------------------------------------+\n"
          ]
        }
      ]
    },
    {
      "cell_type": "code",
      "source": [
        "!lscpu |grep 'Model name'"
      ],
      "metadata": {
        "colab": {
          "base_uri": "https://localhost:8080/"
        },
        "id": "U0wXTbVVQTzS",
        "outputId": "79027846-3844-4f20-b330-4feb569627ac"
      },
      "execution_count": null,
      "outputs": [
        {
          "output_type": "stream",
          "name": "stdout",
          "text": [
            "Model name:          Intel(R) Xeon(R) CPU @ 2.00GHz\n"
          ]
        }
      ]
    },
    {
      "cell_type": "code",
      "source": [
        "!free -h --si | awk  '/Mem:/{print $2}'"
      ],
      "metadata": {
        "colab": {
          "base_uri": "https://localhost:8080/"
        },
        "id": "WTu9Y9K2QYVX",
        "outputId": "c29cb52d-6795-4c90-89a3-a1302a24b78a"
      },
      "execution_count": null,
      "outputs": [
        {
          "output_type": "stream",
          "name": "stdout",
          "text": [
            "13G\n"
          ]
        }
      ]
    },
    {
      "cell_type": "markdown",
      "metadata": {
        "id": "dwnUTHc_WWf9"
      },
      "source": [
        "# Loading the dataset"
      ]
    },
    {
      "cell_type": "code",
      "execution_count": null,
      "metadata": {
        "colab": {
          "base_uri": "https://localhost:8080/"
        },
        "id": "hSr1m-4emA8l",
        "outputId": "145378c4-583f-4c10-c16c-e55d301537bb"
      },
      "outputs": [
        {
          "output_type": "execute_result",
          "data": {
            "text/plain": [
              "DatasetDict({\n",
              "    train: Dataset({\n",
              "        features: ['sentence', 'label'],\n",
              "        num_rows: 158\n",
              "    })\n",
              "    validation: Dataset({\n",
              "        features: ['sentence', 'label'],\n",
              "        num_rows: 79\n",
              "    })\n",
              "    test: Dataset({\n",
              "        features: ['sentence', 'label'],\n",
              "        num_rows: 79\n",
              "    })\n",
              "})"
            ]
          },
          "metadata": {},
          "execution_count": 9
        }
      ],
      "source": [
        "#Load the data dataset_clean\n",
        "from datasets import load_from_disk\n",
        "dataset_clean = load_from_disk(dataset_clean_path)\n",
        "dataset_clean"
      ]
    },
    {
      "cell_type": "markdown",
      "metadata": {
        "id": "p9kyy8v_tjkY"
      },
      "source": [
        "Let's create a list that contains the labels, as well as 2 dictionaries that map labels to integers and back."
      ]
    },
    {
      "cell_type": "code",
      "execution_count": null,
      "metadata": {
        "colab": {
          "base_uri": "https://localhost:8080/"
        },
        "id": "ugIFhNg3trOP",
        "outputId": "5f452e08-9d8f-4106-87a9-49a9758a4320"
      },
      "outputs": [
        {
          "output_type": "execute_result",
          "data": {
            "text/plain": [
              "['Best Practices for Credit Risk Disclosure',\n",
              " 'Enhancing Bank Transparency',\n",
              " 'Information Flows Between Banking Supervisory Authorities',\n",
              " 'Intra-Group Transactions and Exposures Principles',\n",
              " 'Minimum Standards for the Supervision of International Banking Groups and their Cross-Border Establishments',\n",
              " 'Principles for the Supervision of Banks’ Foreign Establishments (The Basel Concordat)',\n",
              " 'Risk Concentrations Principles',\n",
              " 'Supervision of Financial Conglomerates',\n",
              " 'The Supervision of Cross-Border Banking']"
            ]
          },
          "metadata": {},
          "execution_count": 10
        }
      ],
      "source": [
        "labels = list(sorted(set(dataset_clean['train']['label'])))\n",
        "id2label = {idx:label for idx, label in enumerate(labels)}\n",
        "label2id = {label:idx for idx, label in enumerate(labels)}\n",
        "labels"
      ]
    },
    {
      "cell_type": "markdown",
      "source": [
        "The dataset consists of 9 labels."
      ],
      "metadata": {
        "id": "9nO7fEYlYtKE"
      }
    },
    {
      "cell_type": "markdown",
      "metadata": {
        "id": "vN3TNouDhh0r"
      },
      "source": [
        "## Preprocess data\n",
        "\n",
        "\n",
        "Since the model don't expect text as direct input, but rather `input_ids`, etc., we tokenize the text using the tokenizer. Here I'm using the `AutoTokenizer` API, which will automatically load the appropriate tokenizer based on the checkpoint on the hub."
      ]
    },
    {
      "cell_type": "code",
      "execution_count": null,
      "metadata": {
        "id": "ImOVtxX5jafN",
        "colab": {
          "base_uri": "https://localhost:8080/",
          "height": 145,
          "referenced_widgets": [
            "c939bf2d51d143c096fb22d0adf1cf1a",
            "0690159a386a4f15b091cf280b00dd66",
            "a8f22946b9064dba959cb53f9216c054",
            "2975b6fed2fc46b1bc0943dbcd433782",
            "05985164c7844d54beb5bc3989b37b02",
            "71806d7666db4cf7aaffac4f7af39aa3",
            "658b75bfe2fb4a7c8ac8cff67f059c36",
            "f529aa8bffbc480bb92fccc3cc8fdd88",
            "673bb9d49b744038a62583774f2626e0",
            "48442c0f48204357a03bfbe70f39c932",
            "a268dd7d3da844ea9377547f29ccdf57",
            "277db858df3b4a179d69e3c7e3a90f02",
            "835b9bb817814bfe94debb4763f59e02",
            "f388bed54ca049fa9b9d6b0e09a8270a",
            "91092cc261594ae1a291650f7cdfa3f5",
            "9c8102db20b74100ab8710f61dcd328f",
            "1ee322078afd452cac9793b90942530a",
            "7e45010a3667467eb653d49c8773dae3",
            "e47d3ccc0a414c038dc69ba6089de6e1",
            "85ed6f69efdd40f8bcde8085e739e2d6",
            "94e46b64612947878fc0f7385ddb02a3",
            "17d092030cbb4cea94c4ae85eaf68648",
            "3599c52e97d2494ebb4e698af8275a43",
            "374c5b1f2bb848fe8f05d16a0e0e2d79",
            "d67286b5182b4705b8b3d4bbff36c929",
            "148313a2215a4c669e617beb6dfd43e3",
            "3e219059868448768b090dc44001ce2a",
            "9ce93bbbba9f4a2c8fdfe203feeab9b1",
            "c5ececc259784d3197b8ea0c469486fa",
            "b2947ee38bf74644929fc6ebffeb31dc",
            "b4066380aba24760b4d04e36163b7a62",
            "60937ad0762f4dc8849eb7238467dfc1",
            "026a0f6d8b714dba904ec90d118da10a",
            "45fdf19053f54dd7bb403be5d851f0b0",
            "1b30c33befad42109bee15105dd418c8",
            "7b0f348664a34a17bb340119552fa32a",
            "159ef2e17e7f44ddadb43d8de8eaa130",
            "eb47d2cc6c784dfc9746e66936456938",
            "34ae4ad376a7460c9cdae156147e8916",
            "383f6c0d257f48ffb9ce931d79785943",
            "08d1081e08264ecda3127f605f732076",
            "78e5f536f38449a6ac20924104043ca3",
            "05c2405e9c9f4000a37f787e555ae24a",
            "7a889fed3120484387638a7e2fd1a9c0"
          ]
        },
        "outputId": "e35e76ec-6e5f-4e14-be0d-0a5df79b376c"
      },
      "outputs": [
        {
          "output_type": "display_data",
          "data": {
            "text/plain": [
              "Downloading:   0%|          | 0.00/29.0 [00:00<?, ?B/s]"
            ],
            "application/vnd.jupyter.widget-view+json": {
              "version_major": 2,
              "version_minor": 0,
              "model_id": "c939bf2d51d143c096fb22d0adf1cf1a"
            }
          },
          "metadata": {}
        },
        {
          "output_type": "display_data",
          "data": {
            "text/plain": [
              "Downloading:   0%|          | 0.00/411 [00:00<?, ?B/s]"
            ],
            "application/vnd.jupyter.widget-view+json": {
              "version_major": 2,
              "version_minor": 0,
              "model_id": "277db858df3b4a179d69e3c7e3a90f02"
            }
          },
          "metadata": {}
        },
        {
          "output_type": "display_data",
          "data": {
            "text/plain": [
              "Downloading:   0%|          | 0.00/208k [00:00<?, ?B/s]"
            ],
            "application/vnd.jupyter.widget-view+json": {
              "version_major": 2,
              "version_minor": 0,
              "model_id": "3599c52e97d2494ebb4e698af8275a43"
            }
          },
          "metadata": {}
        },
        {
          "output_type": "display_data",
          "data": {
            "text/plain": [
              "Downloading:   0%|          | 0.00/426k [00:00<?, ?B/s]"
            ],
            "application/vnd.jupyter.widget-view+json": {
              "version_major": 2,
              "version_minor": 0,
              "model_id": "45fdf19053f54dd7bb403be5d851f0b0"
            }
          },
          "metadata": {}
        }
      ],
      "source": [
        "from transformers import AutoTokenizer\n",
        "\n",
        "tokenizer = AutoTokenizer.from_pretrained('distilbert-base-cased',num_labels=len(labels))"
      ]
    },
    {
      "cell_type": "code",
      "execution_count": null,
      "metadata": {
        "id": "ceirRXfx2J8-"
      },
      "outputs": [],
      "source": [
        "import numpy as np\n",
        "def preprocess_data(examples):\n",
        "  # take a batch of texts\n",
        "  text = examples[\"sentence\"]\n",
        "  # encode them\n",
        "  encoding = tokenizer(text, padding=\"max_length\", truncation=True)\n",
        "  # add labels\n",
        "  encoding[\"labels\"] = [label2id[i] for i in examples[\"label\"]]\n",
        "  return encoding"
      ]
    },
    {
      "cell_type": "code",
      "execution_count": null,
      "metadata": {
        "colab": {
          "base_uri": "https://localhost:8080/"
        },
        "id": "h_UqiFYw4A7K",
        "outputId": "75b2d2cb-f844-4790-9592-aef7546ca74c"
      },
      "outputs": [
        {
          "output_type": "stream",
          "name": "stderr",
          "text": [
            "Loading cached processed dataset at /content/drive/MyDrive/Full_Code/RBI/Parentheses_Removed/dataset_clean/train/cache-c9e537ad72a0b93a.arrow\n",
            "Loading cached processed dataset at /content/drive/MyDrive/Full_Code/RBI/Parentheses_Removed/dataset_clean/validation/cache-4476767b72210d85.arrow\n",
            "Loading cached processed dataset at /content/drive/MyDrive/Full_Code/RBI/Parentheses_Removed/dataset_clean/test/cache-66c875227c923c45.arrow\n"
          ]
        }
      ],
      "source": [
        "encoded_dataset = dataset_clean.map(preprocess_data, batched=True, remove_columns = ['sentence', 'label'])"
      ]
    },
    {
      "cell_type": "code",
      "execution_count": null,
      "metadata": {
        "colab": {
          "base_uri": "https://localhost:8080/"
        },
        "id": "I0hzVIE4ieS6",
        "outputId": "e39d7b48-deb0-4e1f-d3d3-7187d4e7f432"
      },
      "outputs": [
        {
          "output_type": "stream",
          "name": "stdout",
          "text": [
            "dict_keys(['input_ids', 'attention_mask', 'labels'])\n"
          ]
        }
      ],
      "source": [
        "example = encoded_dataset['train'][0]\n",
        "print(example.keys())"
      ]
    },
    {
      "cell_type": "code",
      "execution_count": null,
      "metadata": {
        "colab": {
          "base_uri": "https://localhost:8080/",
          "height": 217
        },
        "id": "fDjhGfaGoOMi",
        "outputId": "e65a86ad-c618-4a78-9575-eac1a56da1a7"
      },
      "outputs": [
        {
          "output_type": "execute_result",
          "data": {
            "text/plain": [
              "'[CLS] A bank should disclose a reconciliation of changes in the allowances for credit impairment. [SEP] [PAD] [PAD] [PAD] [PAD] [PAD] [PAD] [PAD] [PAD] [PAD] [PAD] [PAD] [PAD] [PAD] [PAD] [PAD] [PAD] [PAD] [PAD] [PAD] [PAD] [PAD] [PAD] [PAD] [PAD] [PAD] [PAD] [PAD] [PAD] [PAD] [PAD] [PAD] [PAD] [PAD] [PAD] [PAD] [PAD] [PAD] [PAD] [PAD] [PAD] [PAD] [PAD] [PAD] [PAD] [PAD] [PAD] [PAD] [PAD] [PAD] [PAD] [PAD] [PAD] [PAD] [PAD] [PAD] [PAD] [PAD] [PAD] [PAD] [PAD] [PAD] [PAD] [PAD] [PAD] [PAD] [PAD] [PAD] [PAD] [PAD] [PAD] [PAD] [PAD] [PAD] [PAD] [PAD] [PAD] [PAD] [PAD] [PAD] [PAD] [PAD] [PAD] [PAD] [PAD] [PAD] [PAD] [PAD] [PAD] [PAD] [PAD] [PAD] [PAD] [PAD] [PAD] [PAD] [PAD] [PAD] [PAD] [PAD] [PAD] [PAD] [PAD] [PAD] [PAD] [PAD] [PAD] [PAD] [PAD] [PAD] [PAD] [PAD] [PAD] [PAD] [PAD] [PAD] [PAD] [PAD] [PAD] [PAD] [PAD] [PAD] [PAD] [PAD] [PAD] [PAD] [PAD] [PAD] [PAD] [PAD] [PAD] [PAD] [PAD] [PAD] [PAD] [PAD] [PAD] [PAD] [PAD] [PAD] [PAD] [PAD] [PAD] [PAD] [PAD] [PAD] [PAD] [PAD] [PAD] [PAD] [PAD] [PAD] [PAD] [PAD] [PAD] [PAD] [PAD] [PAD] [PAD] [PAD] [PAD] [PAD] [PAD] [PAD] [PAD] [PAD] [PAD] [PAD] [PAD] [PAD] [PAD] [PAD] [PAD] [PAD] [PAD] [PAD] [PAD] [PAD] [PAD] [PAD] [PAD] [PAD] [PAD] [PAD] [PAD] [PAD] [PAD] [PAD] [PAD] [PAD] [PAD] [PAD] [PAD] [PAD] [PAD] [PAD] [PAD] [PAD] [PAD] [PAD] [PAD] [PAD] [PAD] [PAD] [PAD] [PAD] [PAD] [PAD] [PAD] [PAD] [PAD] [PAD] [PAD] [PAD] [PAD] [PAD] [PAD] [PAD] [PAD] [PAD] [PAD] [PAD] [PAD] [PAD] [PAD] [PAD] [PAD] [PAD] [PAD] [PAD] [PAD] [PAD] [PAD] [PAD] [PAD] [PAD] [PAD] [PAD] [PAD] [PAD] [PAD] [PAD] [PAD] [PAD] [PAD] [PAD] [PAD] [PAD] [PAD] [PAD] [PAD] [PAD] [PAD] [PAD] [PAD] [PAD] [PAD] [PAD] [PAD] [PAD] [PAD] [PAD] [PAD] [PAD] [PAD] [PAD] [PAD] [PAD] [PAD] [PAD] [PAD] [PAD] [PAD] [PAD] [PAD] [PAD] [PAD] [PAD] [PAD] [PAD] [PAD] [PAD] [PAD] [PAD] [PAD] [PAD] [PAD] [PAD] [PAD] [PAD] [PAD] [PAD] [PAD] [PAD] [PAD] [PAD] [PAD] [PAD] [PAD] [PAD] [PAD] [PAD] [PAD] [PAD] [PAD] [PAD] [PAD] [PAD] [PAD] [PAD] [PAD] [PAD] [PAD] [PAD] [PAD] [PAD] [PAD] [PAD] [PAD] [PAD] [PAD] [PAD] [PAD] [PAD] [PAD] [PAD] [PAD] [PAD] [PAD] [PAD] [PAD] [PAD] [PAD] [PAD] [PAD] [PAD] [PAD] [PAD] [PAD] [PAD] [PAD] [PAD] [PAD] [PAD] [PAD] [PAD] [PAD] [PAD] [PAD] [PAD] [PAD] [PAD] [PAD] [PAD] [PAD] [PAD] [PAD] [PAD] [PAD] [PAD] [PAD] [PAD] [PAD] [PAD] [PAD] [PAD] [PAD] [PAD] [PAD] [PAD] [PAD] [PAD] [PAD] [PAD] [PAD] [PAD] [PAD] [PAD] [PAD] [PAD] [PAD] [PAD] [PAD] [PAD] [PAD] [PAD] [PAD] [PAD] [PAD] [PAD] [PAD] [PAD] [PAD] [PAD] [PAD] [PAD] [PAD] [PAD] [PAD] [PAD] [PAD] [PAD] [PAD] [PAD] [PAD] [PAD] [PAD] [PAD] [PAD] [PAD] [PAD] [PAD] [PAD] [PAD] [PAD] [PAD] [PAD] [PAD] [PAD] [PAD] [PAD] [PAD] [PAD] [PAD] [PAD] [PAD] [PAD] [PAD] [PAD] [PAD] [PAD] [PAD] [PAD] [PAD] [PAD] [PAD] [PAD] [PAD] [PAD] [PAD] [PAD] [PAD] [PAD] [PAD] [PAD] [PAD] [PAD] [PAD] [PAD] [PAD] [PAD] [PAD] [PAD] [PAD] [PAD] [PAD] [PAD] [PAD] [PAD] [PAD] [PAD] [PAD] [PAD] [PAD] [PAD] [PAD] [PAD] [PAD] [PAD] [PAD] [PAD] [PAD] [PAD] [PAD] [PAD] [PAD] [PAD] [PAD] [PAD] [PAD] [PAD] [PAD] [PAD] [PAD] [PAD] [PAD] [PAD] [PAD] [PAD] [PAD] [PAD] [PAD]'"
            ],
            "application/vnd.google.colaboratory.intrinsic+json": {
              "type": "string"
            }
          },
          "metadata": {},
          "execution_count": 15
        }
      ],
      "source": [
        "tokenizer.decode(example['input_ids'])"
      ]
    },
    {
      "cell_type": "code",
      "execution_count": null,
      "metadata": {
        "colab": {
          "base_uri": "https://localhost:8080/"
        },
        "id": "ty4hTXCfoORS",
        "outputId": "3c58e259-7d48-46d2-a3b7-3a97f2c49aa3"
      },
      "outputs": [
        {
          "output_type": "execute_result",
          "data": {
            "text/plain": [
              "0"
            ]
          },
          "metadata": {},
          "execution_count": 16
        }
      ],
      "source": [
        "example['labels']"
      ]
    },
    {
      "cell_type": "code",
      "execution_count": null,
      "metadata": {
        "colab": {
          "base_uri": "https://localhost:8080/"
        },
        "id": "Z3DTGXxKpgrh",
        "outputId": "d38e1fbd-ad0b-4fda-9c98-b91df45710cc"
      },
      "outputs": [
        {
          "output_type": "execute_result",
          "data": {
            "text/plain": [
              "DatasetDict({\n",
              "    train: Dataset({\n",
              "        features: ['input_ids', 'attention_mask', 'labels'],\n",
              "        num_rows: 158\n",
              "    })\n",
              "    validation: Dataset({\n",
              "        features: ['input_ids', 'attention_mask', 'labels'],\n",
              "        num_rows: 79\n",
              "    })\n",
              "    test: Dataset({\n",
              "        features: ['input_ids', 'attention_mask', 'labels'],\n",
              "        num_rows: 79\n",
              "    })\n",
              "})"
            ]
          },
          "metadata": {},
          "execution_count": 17
        }
      ],
      "source": [
        "encoded_dataset"
      ]
    },
    {
      "cell_type": "markdown",
      "source": [
        "Set the format of encoded_dataset to PyTorch tensors. This will turn the training, validation and test sets into standard PyTorch [datasets]"
      ],
      "metadata": {
        "id": "9u9Q4vPoizkF"
      }
    },
    {
      "cell_type": "code",
      "execution_count": null,
      "metadata": {
        "id": "zouV0Nr9oOWN"
      },
      "outputs": [],
      "source": [
        "encoded_dataset.set_format(\"torch\")"
      ]
    },
    {
      "cell_type": "markdown",
      "metadata": {
        "id": "9n8yGtvdsckK"
      },
      "source": [
        "## Define model\n",
        "\n",
        "Define a model that includes a pre-trained base (i.e. the weights from the distilbert-base-cased) which is loaded, with a random initialized classification head (linear layer) on top. Fine-tune this head, together with the pre-trained base on a labeled dataset. Set the id2label and label2id mappings to make sure the output layer has `len(labels)` output neurons."
      ]
    },
    {
      "cell_type": "code",
      "execution_count": null,
      "metadata": {
        "colab": {
          "base_uri": "https://localhost:8080/",
          "height": 160,
          "referenced_widgets": [
            "b043710e678e425fbb54f72879eb9efe",
            "0fb3dd1d65364061ab7a52c4b83fe141",
            "a62e5f9f874340599b888042528c053d",
            "d54b850b4e84403a886f1697d924c11e",
            "24fa713ace2f4e25bcb494855ac4ccbd",
            "0000c03a44cf403f934ee72c8537180b",
            "b32acf75d3b94694b273b61efa3433f7",
            "c8fbf25ba4d34c6da587b27404fd6d6f",
            "5c080e2627164bacae5d7a7899135cac",
            "a1c23a357c8444b486288a545199fb08",
            "34603e663d6f44ceaf3cfd3251ac9235"
          ]
        },
        "id": "PA49REZ2srhp",
        "outputId": "a9e450fc-125e-481b-8f68-957d16138bf6"
      },
      "outputs": [
        {
          "output_type": "display_data",
          "data": {
            "text/plain": [
              "Downloading:   0%|          | 0.00/251M [00:00<?, ?B/s]"
            ],
            "application/vnd.jupyter.widget-view+json": {
              "version_major": 2,
              "version_minor": 0,
              "model_id": "b043710e678e425fbb54f72879eb9efe"
            }
          },
          "metadata": {}
        },
        {
          "output_type": "stream",
          "name": "stderr",
          "text": [
            "Some weights of the model checkpoint at distilbert-base-cased were not used when initializing DistilBertForSequenceClassification: ['vocab_transform.bias', 'vocab_projector.weight', 'vocab_transform.weight', 'vocab_layer_norm.bias', 'vocab_projector.bias', 'vocab_layer_norm.weight']\n",
            "- This IS expected if you are initializing DistilBertForSequenceClassification from the checkpoint of a model trained on another task or with another architecture (e.g. initializing a BertForSequenceClassification model from a BertForPreTraining model).\n",
            "- This IS NOT expected if you are initializing DistilBertForSequenceClassification from the checkpoint of a model that you expect to be exactly identical (initializing a BertForSequenceClassification model from a BertForSequenceClassification model).\n",
            "Some weights of DistilBertForSequenceClassification were not initialized from the model checkpoint at distilbert-base-cased and are newly initialized: ['classifier.weight', 'pre_classifier.weight', 'classifier.bias', 'pre_classifier.bias']\n",
            "You should probably TRAIN this model on a down-stream task to be able to use it for predictions and inference.\n"
          ]
        }
      ],
      "source": [
        "from transformers import AutoModelForSequenceClassification\n",
        "\n",
        "model = AutoModelForSequenceClassification.from_pretrained(\"distilbert-base-cased\",\n",
        "                                                           num_labels=len(labels),\n",
        "                                                           id2label=id2label,\n",
        "                                                           label2id=label2id)"
      ]
    },
    {
      "cell_type": "markdown",
      "metadata": {
        "id": "MvkxV0__tFmP"
      },
      "source": [
        "## Train the model!\n",
        "\n",
        "We are going to train the model using native Pytorch. This requires us to define 2 things: \n",
        "\n",
        "* `DataLoader`:Create a DataLoader for your training, validation and test datasets so you can iterate over batches of data.\n",
        "* `Optimizer`\n",
        "* `Learning rate scheduler`\n",
        "\n"
      ]
    },
    {
      "cell_type": "code",
      "execution_count": null,
      "metadata": {
        "id": "NWt_8vCltFII"
      },
      "outputs": [],
      "source": [
        "fix_seed = 42\n",
        "fixed_batch_size = 16\n",
        "fixed_learning_rate = 2e-5\n",
        "num_epochs = 5"
      ]
    },
    {
      "cell_type": "code",
      "execution_count": null,
      "metadata": {
        "id": "r2RPZOQ9ZhAu"
      },
      "outputs": [],
      "source": [
        "#DataLoader\n",
        "from torch.utils.data import DataLoader\n",
        "\n",
        "train_dataloader = DataLoader(encoded_dataset[\"train\"], batch_size = fixed_batch_size)\n",
        "eval_dataloader = DataLoader(encoded_dataset[\"validation\"], batch_size = fixed_batch_size)"
      ]
    },
    {
      "cell_type": "code",
      "execution_count": null,
      "metadata": {
        "id": "apKVzXglZhAw"
      },
      "outputs": [],
      "source": [
        "#Optimizer\n",
        "from torch.optim import AdamW\n",
        "optimizer = AdamW(model.parameters(),lr = fixed_learning_rate)\n"
      ]
    },
    {
      "cell_type": "code",
      "execution_count": null,
      "metadata": {
        "id": "uDAmdk1KZhAx"
      },
      "outputs": [],
      "source": [
        "#Learning rate scheduler \n",
        "\n",
        "from transformers import get_scheduler\n",
        "\n",
        "num_training_steps = num_epochs * len(train_dataloader)\n",
        "\n",
        "lr_scheduler = get_scheduler(name=\"linear\", optimizer = optimizer, num_warmup_steps=0, num_training_steps=num_training_steps)"
      ]
    },
    {
      "cell_type": "markdown",
      "metadata": {
        "id": "M3WoGSMOuEqA"
      },
      "source": [
        "Compute accuracy, precision, recall, F-measure while training. For this, define the multi_class_metric function."
      ]
    },
    {
      "cell_type": "code",
      "execution_count": null,
      "metadata": {
        "id": "PNjiVr3wgMrF"
      },
      "outputs": [],
      "source": [
        "# Function to calculate the accuracy, precision, recall, F-measure of our predictions vs labels\n",
        "from sklearn.metrics import precision_recall_fscore_support\n",
        "\n",
        "def multi_class_metric(labels,preds):\n",
        "    pred_flat = preds.flatten()\n",
        "    labels_flat = labels.flatten()\n",
        "    accuracy = np.sum(pred_flat == labels_flat) / len(labels_flat)\n",
        "    precision_macro, recall_macro, f1_macro_average,_ = precision_recall_fscore_support(labels,preds,average='macro',zero_division = 0)\n",
        "    # return as dictionary\n",
        "    metrics = {\n",
        "               'f1': f1_macro_average,\n",
        "               'accuracy': accuracy,\n",
        "               'precision': precision_macro,\n",
        "               'recall': recall_macro\n",
        "               }\n",
        "    return metrics"
      ]
    },
    {
      "cell_type": "code",
      "execution_count": null,
      "metadata": {
        "colab": {
          "base_uri": "https://localhost:8080/"
        },
        "id": "TJ0sp06fDAX0",
        "outputId": "a60b1254-a9af-4d56-d994-9e5d3d460573"
      },
      "outputs": [
        {
          "output_type": "execute_result",
          "data": {
            "text/plain": [
              "DistilBertForSequenceClassification(\n",
              "  (distilbert): DistilBertModel(\n",
              "    (embeddings): Embeddings(\n",
              "      (word_embeddings): Embedding(28996, 768, padding_idx=0)\n",
              "      (position_embeddings): Embedding(512, 768)\n",
              "      (LayerNorm): LayerNorm((768,), eps=1e-12, elementwise_affine=True)\n",
              "      (dropout): Dropout(p=0.1, inplace=False)\n",
              "    )\n",
              "    (transformer): Transformer(\n",
              "      (layer): ModuleList(\n",
              "        (0): TransformerBlock(\n",
              "          (attention): MultiHeadSelfAttention(\n",
              "            (dropout): Dropout(p=0.1, inplace=False)\n",
              "            (q_lin): Linear(in_features=768, out_features=768, bias=True)\n",
              "            (k_lin): Linear(in_features=768, out_features=768, bias=True)\n",
              "            (v_lin): Linear(in_features=768, out_features=768, bias=True)\n",
              "            (out_lin): Linear(in_features=768, out_features=768, bias=True)\n",
              "          )\n",
              "          (sa_layer_norm): LayerNorm((768,), eps=1e-12, elementwise_affine=True)\n",
              "          (ffn): FFN(\n",
              "            (dropout): Dropout(p=0.1, inplace=False)\n",
              "            (lin1): Linear(in_features=768, out_features=3072, bias=True)\n",
              "            (lin2): Linear(in_features=3072, out_features=768, bias=True)\n",
              "            (activation): GELUActivation()\n",
              "          )\n",
              "          (output_layer_norm): LayerNorm((768,), eps=1e-12, elementwise_affine=True)\n",
              "        )\n",
              "        (1): TransformerBlock(\n",
              "          (attention): MultiHeadSelfAttention(\n",
              "            (dropout): Dropout(p=0.1, inplace=False)\n",
              "            (q_lin): Linear(in_features=768, out_features=768, bias=True)\n",
              "            (k_lin): Linear(in_features=768, out_features=768, bias=True)\n",
              "            (v_lin): Linear(in_features=768, out_features=768, bias=True)\n",
              "            (out_lin): Linear(in_features=768, out_features=768, bias=True)\n",
              "          )\n",
              "          (sa_layer_norm): LayerNorm((768,), eps=1e-12, elementwise_affine=True)\n",
              "          (ffn): FFN(\n",
              "            (dropout): Dropout(p=0.1, inplace=False)\n",
              "            (lin1): Linear(in_features=768, out_features=3072, bias=True)\n",
              "            (lin2): Linear(in_features=3072, out_features=768, bias=True)\n",
              "            (activation): GELUActivation()\n",
              "          )\n",
              "          (output_layer_norm): LayerNorm((768,), eps=1e-12, elementwise_affine=True)\n",
              "        )\n",
              "        (2): TransformerBlock(\n",
              "          (attention): MultiHeadSelfAttention(\n",
              "            (dropout): Dropout(p=0.1, inplace=False)\n",
              "            (q_lin): Linear(in_features=768, out_features=768, bias=True)\n",
              "            (k_lin): Linear(in_features=768, out_features=768, bias=True)\n",
              "            (v_lin): Linear(in_features=768, out_features=768, bias=True)\n",
              "            (out_lin): Linear(in_features=768, out_features=768, bias=True)\n",
              "          )\n",
              "          (sa_layer_norm): LayerNorm((768,), eps=1e-12, elementwise_affine=True)\n",
              "          (ffn): FFN(\n",
              "            (dropout): Dropout(p=0.1, inplace=False)\n",
              "            (lin1): Linear(in_features=768, out_features=3072, bias=True)\n",
              "            (lin2): Linear(in_features=3072, out_features=768, bias=True)\n",
              "            (activation): GELUActivation()\n",
              "          )\n",
              "          (output_layer_norm): LayerNorm((768,), eps=1e-12, elementwise_affine=True)\n",
              "        )\n",
              "        (3): TransformerBlock(\n",
              "          (attention): MultiHeadSelfAttention(\n",
              "            (dropout): Dropout(p=0.1, inplace=False)\n",
              "            (q_lin): Linear(in_features=768, out_features=768, bias=True)\n",
              "            (k_lin): Linear(in_features=768, out_features=768, bias=True)\n",
              "            (v_lin): Linear(in_features=768, out_features=768, bias=True)\n",
              "            (out_lin): Linear(in_features=768, out_features=768, bias=True)\n",
              "          )\n",
              "          (sa_layer_norm): LayerNorm((768,), eps=1e-12, elementwise_affine=True)\n",
              "          (ffn): FFN(\n",
              "            (dropout): Dropout(p=0.1, inplace=False)\n",
              "            (lin1): Linear(in_features=768, out_features=3072, bias=True)\n",
              "            (lin2): Linear(in_features=3072, out_features=768, bias=True)\n",
              "            (activation): GELUActivation()\n",
              "          )\n",
              "          (output_layer_norm): LayerNorm((768,), eps=1e-12, elementwise_affine=True)\n",
              "        )\n",
              "        (4): TransformerBlock(\n",
              "          (attention): MultiHeadSelfAttention(\n",
              "            (dropout): Dropout(p=0.1, inplace=False)\n",
              "            (q_lin): Linear(in_features=768, out_features=768, bias=True)\n",
              "            (k_lin): Linear(in_features=768, out_features=768, bias=True)\n",
              "            (v_lin): Linear(in_features=768, out_features=768, bias=True)\n",
              "            (out_lin): Linear(in_features=768, out_features=768, bias=True)\n",
              "          )\n",
              "          (sa_layer_norm): LayerNorm((768,), eps=1e-12, elementwise_affine=True)\n",
              "          (ffn): FFN(\n",
              "            (dropout): Dropout(p=0.1, inplace=False)\n",
              "            (lin1): Linear(in_features=768, out_features=3072, bias=True)\n",
              "            (lin2): Linear(in_features=3072, out_features=768, bias=True)\n",
              "            (activation): GELUActivation()\n",
              "          )\n",
              "          (output_layer_norm): LayerNorm((768,), eps=1e-12, elementwise_affine=True)\n",
              "        )\n",
              "        (5): TransformerBlock(\n",
              "          (attention): MultiHeadSelfAttention(\n",
              "            (dropout): Dropout(p=0.1, inplace=False)\n",
              "            (q_lin): Linear(in_features=768, out_features=768, bias=True)\n",
              "            (k_lin): Linear(in_features=768, out_features=768, bias=True)\n",
              "            (v_lin): Linear(in_features=768, out_features=768, bias=True)\n",
              "            (out_lin): Linear(in_features=768, out_features=768, bias=True)\n",
              "          )\n",
              "          (sa_layer_norm): LayerNorm((768,), eps=1e-12, elementwise_affine=True)\n",
              "          (ffn): FFN(\n",
              "            (dropout): Dropout(p=0.1, inplace=False)\n",
              "            (lin1): Linear(in_features=768, out_features=3072, bias=True)\n",
              "            (lin2): Linear(in_features=3072, out_features=768, bias=True)\n",
              "            (activation): GELUActivation()\n",
              "          )\n",
              "          (output_layer_norm): LayerNorm((768,), eps=1e-12, elementwise_affine=True)\n",
              "        )\n",
              "      )\n",
              "    )\n",
              "  )\n",
              "  (pre_classifier): Linear(in_features=768, out_features=768, bias=True)\n",
              "  (classifier): Linear(in_features=768, out_features=9, bias=True)\n",
              "  (dropout): Dropout(p=0.2, inplace=False)\n",
              ")"
            ]
          },
          "metadata": {},
          "execution_count": 25
        }
      ],
      "source": [
        "model.to(device)"
      ]
    },
    {
      "cell_type": "markdown",
      "metadata": {
        "id": "BFvKwsQxY8j5"
      },
      "source": [
        "Create a function for formatting elapsed times as hh:mm:ss"
      ]
    },
    {
      "cell_type": "code",
      "execution_count": null,
      "metadata": {
        "id": "MJl3_XGYmH_3"
      },
      "outputs": [],
      "source": [
        "import time\n",
        "import datetime\n",
        "\n",
        "def format_time(elapsed):\n",
        "    '''\n",
        "    Takes a time in seconds and returns a string hh:mm:ss\n",
        "    '''\n",
        "    # Round to the nearest second.\n",
        "    elapsed_rounded = int(round((elapsed)))\n",
        "    \n",
        "    # Format as hh:mm:ss\n",
        "    return str(datetime.timedelta(seconds=elapsed_rounded))\n"
      ]
    },
    {
      "cell_type": "markdown",
      "metadata": {
        "id": "ChQzme1oXkPk"
      },
      "source": [
        "Create two directories to store **checkpoint** and **best_model**"
      ]
    },
    {
      "cell_type": "code",
      "execution_count": null,
      "metadata": {
        "id": "bcJJWtI0XCAn"
      },
      "outputs": [],
      "source": [
        "%mkdir /content/drive/MyDrive/Full_Code/RBI/Parentheses_Removed/Epochs_5/checkpoint\n",
        "%mkdir /content/drive/MyDrive/Full_Code/RBI/Parentheses_Removed/Epochs_5/best_model"
      ]
    },
    {
      "cell_type": "markdown",
      "metadata": {
        "id": "NIMRwdAiXa8h"
      },
      "source": [
        "Saving function\n",
        "**save_ckp** is created to save checkpoint, the latest one and the best one. This creates flexibility: either you are interested in the state of the latest checkpoint or the best checkpoint."
      ]
    },
    {
      "cell_type": "code",
      "execution_count": null,
      "metadata": {
        "id": "KKL5-NO9XQ9S"
      },
      "outputs": [],
      "source": [
        "import shutil\n",
        "def save_ckp(state, is_best, checkpoint_path, best_model_path):\n",
        "    \"\"\"\n",
        "    state: checkpoint we want to save\n",
        "    is_best: is this the best checkpoint; min validation loss\n",
        "    checkpoint_path: path to save checkpoint\n",
        "    best_model_path: path to save best model\n",
        "    \"\"\"\n",
        "    f_path = checkpoint_path\n",
        "    # save checkpoint data to the path given, checkpoint_path\n",
        "    torch.save(state, f_path)\n",
        "    # if it is a best model, min validation loss\n",
        "    if is_best:\n",
        "        best_fpath = best_model_path\n",
        "        # copy that checkpoint file to best path given, best_model_path\n",
        "        shutil.copyfile(f_path, best_fpath)"
      ]
    },
    {
      "cell_type": "markdown",
      "metadata": {
        "id": "lidMA6MA0UJf"
      },
      "source": [
        "Loading Function.\n",
        "\n",
        "**load_chkp** is created for loading model. \n",
        "\n",
        "It takes:\n",
        "*   location of the saved checkpoint\n",
        "*   model instance that you want to load the state to\n",
        "*   the optimizer"
      ]
    },
    {
      "cell_type": "code",
      "execution_count": null,
      "metadata": {
        "id": "dIhiLbox0Y7V"
      },
      "outputs": [],
      "source": [
        "def load_ckp(checkpoint_fpath, model, optimizer):\n",
        "    \"\"\"\n",
        "    checkpoint_path: path to save checkpoint\n",
        "    model: model that we want to load checkpoint parameters into       \n",
        "    optimizer: optimizer we defined in previous training\n",
        "    \"\"\"\n",
        "    # load check point\n",
        "    checkpoint = torch.load(checkpoint_fpath)\n",
        "    # initialize state_dict from checkpoint to model\n",
        "    model.load_state_dict(checkpoint['state_dict'])\n",
        "    # initialize optimizer from checkpoint to optimizer\n",
        "    optimizer.load_state_dict(checkpoint['optimizer'])\n",
        "    # initialize valid_loss_min from checkpoint to valid_loss_min\n",
        "    valid_loss_min = checkpoint['valid_loss_min']\n",
        "    # return model, optimizer, epoch value, min validation loss \n",
        "    return model, optimizer, checkpoint['epoch'], valid_loss_min\n"
      ]
    },
    {
      "cell_type": "markdown",
      "metadata": {
        "id": "2jq2NwPW2u2-"
      },
      "source": [
        "Start Training "
      ]
    },
    {
      "cell_type": "code",
      "execution_count": null,
      "metadata": {
        "colab": {
          "base_uri": "https://localhost:8080/",
          "height": 1000,
          "referenced_widgets": [
            "51582efd1cda433c83969d4102f1afec",
            "c327b321138f49c1a1125819712e2241",
            "0e1f891961094046a5dfd649fddb899f",
            "4b4685952df44a158c7fa10ede267a32",
            "8214e8937c1b49e0a089c1fd6fbcddbd",
            "e03b4c28fe084796af85aebacb0cdfa5",
            "e6e28495bf5c469db0aab8a0cd7d567c",
            "8378f5668d664690a2656be0b6941414",
            "0b4f80a200d4422890d5e5f0e837c5ac",
            "f431389767e349549fe2d75d7aa06e71",
            "32a694df81f541e98e92bf8963a5a982"
          ]
        },
        "id": "OnGI2PHjyFtK",
        "outputId": "7fb6331b-cfe6-439b-8495-b1c7939ee239"
      },
      "outputs": [
        {
          "output_type": "display_data",
          "data": {
            "text/plain": [
              "  0%|          | 0/5 [00:00<?, ?it/s]"
            ],
            "application/vnd.jupyter.widget-view+json": {
              "version_major": 2,
              "version_minor": 0,
              "model_id": "51582efd1cda433c83969d4102f1afec"
            }
          },
          "metadata": {}
        },
        {
          "output_type": "stream",
          "name": "stdout",
          "text": [
            "\n",
            "======== Epoch 1 / 5 ========\n",
            "Training...\n",
            " Training f1-score: 0.03\n",
            " Training Accuracy: 0.05\n",
            " Training Precision: 0.03\n",
            " Training Recall: 0.05\n",
            "  Average training loss: 2.23\n",
            "  Training epoch took: 0:00:04\n",
            "\n",
            "Running Validation...\n",
            " Validation f1-score: 0.08\n",
            " Validation Accuracy: 0.27\n",
            " Validation Precision: 0.13\n",
            " Validation Recall: 0.06\n",
            "  Validation Loss: 4.27\n",
            "  Validation took: 0:00:01\n",
            "Validation loss decreased (inf --> 4.271830).  Saving model ...\n",
            "\n",
            "======== Epoch 2 / 5 ========\n",
            "Training...\n",
            " Training f1-score: 0.11\n",
            " Training Accuracy: 0.25\n",
            " Training Precision: 0.12\n",
            " Training Recall: 0.13\n",
            "  Average training loss: 2.13\n",
            "  Training epoch took: 0:00:04\n",
            "\n",
            "Running Validation...\n",
            " Validation f1-score: 0.07\n",
            " Validation Accuracy: 0.29\n",
            " Validation Precision: 0.14\n",
            " Validation Recall: 0.04\n",
            "  Validation Loss: 4.18\n",
            "  Validation took: 0:00:01\n",
            "Validation loss decreased (4.271830 --> 4.178160).  Saving model ...\n",
            "\n",
            "======== Epoch 3 / 5 ========\n",
            "Training...\n",
            " Training f1-score: 0.26\n",
            " Training Accuracy: 0.28\n",
            " Training Precision: 0.30\n",
            " Training Recall: 0.24\n",
            "  Average training loss: 2.06\n",
            "  Training epoch took: 0:00:04\n",
            "\n",
            "Running Validation...\n",
            " Validation f1-score: 0.07\n",
            " Validation Accuracy: 0.29\n",
            " Validation Precision: 0.14\n",
            " Validation Recall: 0.04\n",
            "  Validation Loss: 4.09\n",
            "  Validation took: 0:00:01\n",
            "Validation loss decreased (4.178160 --> 4.093896).  Saving model ...\n",
            "\n",
            "======== Epoch 4 / 5 ========\n",
            "Training...\n",
            " Training f1-score: 0.26\n",
            " Training Accuracy: 0.28\n",
            " Training Precision: 0.30\n",
            " Training Recall: 0.24\n",
            "  Average training loss: 1.97\n",
            "  Training epoch took: 0:00:04\n",
            "\n",
            "Running Validation...\n",
            " Validation f1-score: 0.07\n",
            " Validation Accuracy: 0.29\n",
            " Validation Precision: 0.14\n",
            " Validation Recall: 0.04\n",
            "  Validation Loss: 4.03\n",
            "  Validation took: 0:00:01\n",
            "Validation loss decreased (4.093896 --> 4.026224).  Saving model ...\n",
            "\n",
            "======== Epoch 5 / 5 ========\n",
            "Training...\n",
            " Training f1-score: 0.26\n",
            " Training Accuracy: 0.29\n",
            " Training Precision: 0.30\n",
            " Training Recall: 0.29\n",
            "  Average training loss: 1.92\n",
            "  Training epoch took: 0:00:04\n",
            "\n",
            "Running Validation...\n",
            " Validation f1-score: 0.07\n",
            " Validation Accuracy: 0.29\n",
            " Validation Precision: 0.14\n",
            " Validation Recall: 0.04\n",
            "  Validation Loss: 4.00\n",
            "  Validation took: 0:00:01\n",
            "Validation loss decreased (4.026224 --> 3.999061).  Saving model ...\n",
            "\n",
            "Training complete!\n",
            "\n",
            "Total time taken on the training data across all epochs: 0:00:21 (h:mm:ss)\n",
            "Average time take per epoch on training data: 0:00:04 (h:mm:ss)\n",
            "\n",
            "Total time taken on the validation data across all epochs: 0:00:04 (h:mm:ss)\n",
            "Average time take per epoch on validation data: 0:00:01 (h:mm:ss)\n",
            "\n",
            "Total training time taken across all epochs [Validation and model saving time included]: 0:01:26 (h:mm:ss)\n",
            "Average time take per epoch [Validation and model saving time included]: 0:00:17 (h:mm:ss)\n"
          ]
        }
      ],
      "source": [
        "import random\n",
        "from tqdm.auto import tqdm\n",
        "\n",
        "\n",
        "# This training code is based on the `run_glue.py` script here:\n",
        "# https://github.com/huggingface/transformers/blob/5bfcd0485ece086ebcbed2d008813037968a9e58/examples/run_glue.py#L128\n",
        "\n",
        "\n",
        "random.seed(fix_seed)\n",
        "np.random.seed(fix_seed)\n",
        "torch.manual_seed(fix_seed)\n",
        "torch.cuda.manual_seed_all(fix_seed)\n",
        "\n",
        "\n",
        "\n",
        "# We'll store a number of quantities such as training and validation loss, \n",
        "# validation accuracy, and timings.\n",
        "training_stats = []\n",
        "\n",
        "# Measure the total training time for the whole run.\n",
        "total_t0 = time.time()\n",
        "\n",
        "progress_bar = tqdm(range(num_epochs))\n",
        "\n",
        "\n",
        "valid_loss_min_input = np.Inf\n",
        "# Initialize tracker for minimum validation loss\n",
        "valid_loss_min = valid_loss_min_input \n",
        "# Create paths for storing the current checkpoint and best model checkpoint\n",
        "checkpoint_path = saved_path + \"checkpoint/current_checkpoint.pt\"\n",
        "best_model_path = saved_path + \"/best_model/best_model.pt\"\n",
        "\n",
        "# Reset time taken for Training Data and Validation Data across all epochs\n",
        "training_time_only = 0\n",
        "validation_time_only = 0\n",
        "\n",
        "# For each epoch...\n",
        "for epoch_i in range(0, num_epochs):\n",
        "    \n",
        "    # ========================================\n",
        "    #               Training\n",
        "    # ========================================\n",
        "    \n",
        "    # Perform one full pass over the training set.\n",
        "\n",
        "    print(\"\")\n",
        "    print('======== Epoch {:} / {:} ========'.format(epoch_i + 1, num_epochs))\n",
        "    print('Training...')\n",
        "\n",
        "    \n",
        "\n",
        "    # Reset the total loss and other metrics for this epoch.\n",
        "    total_train_loss = 0\n",
        "    total_train_f1 = 0\n",
        "    total_train_accuracy = 0\n",
        "    total_train_precision = 0\n",
        "    total_train_recall = 0\n",
        "\n",
        "    # Reset the time taken on Training data and Validation data across this epoch\n",
        "    training_time_epoch = 0\n",
        "    validation_time_epoch = 0\n",
        "\n",
        "    # Measure how long the training epoch takes.\n",
        "    train_t0 = time.time()\n",
        "\n",
        "    # Put the model into training mode.\n",
        "    \n",
        "    model.train()\n",
        "    for batch in train_dataloader:\n",
        "      train_batch = {k: v.to(device) for k, v in batch.items()}\n",
        "      train_outputs = model(**train_batch)\n",
        "      train_loss = train_outputs.loss\n",
        "      train_logits = train_outputs.logits\n",
        "      train_predictions = torch.argmax(train_logits, dim=-1)\n",
        "      total_train_loss += train_loss.item()\n",
        "      train_metrics= multi_class_metric(train_predictions.detach().cpu().numpy(), train_batch[\"labels\"].to('cpu').numpy())\n",
        "      train_f1 = train_metrics['f1']\n",
        "      train_accuracy = train_metrics['accuracy']\n",
        "      train_precision =train_metrics['precision']\n",
        "      train_recall = train_metrics['recall']\n",
        "      \n",
        "      total_train_f1 += train_f1\n",
        "      total_train_accuracy += train_accuracy\n",
        "      total_train_precision += train_precision\n",
        "      total_train_recall += train_recall\n",
        "      train_loss.backward()\n",
        "\n",
        "      # Clip the norm of the gradients to 1.0.\n",
        "      #This is to help prevent the \"exploding gradients\" problem.\n",
        "      torch.nn.utils.clip_grad_norm_(model.parameters(), 1.0) \n",
        "\n",
        "      # Update parameters and take a step using the computed gradient.\n",
        "      # The optimizer dictates the \"update rule\"--how the parameters are\n",
        "      # modified based on their gradients, the learning rate, etc.\n",
        "      optimizer.step()\n",
        "      lr_scheduler.step()\n",
        "      optimizer.zero_grad() \n",
        "    \n",
        "    # Measure how long the Training run took.\n",
        "    training_time_epoch = time.time() - train_t0   \n",
        "      \n",
        "    # Calculate the average loss over all of the batches.\n",
        "    avg_train_loss = total_train_loss / len(train_dataloader)  \n",
        "\n",
        "    # Report the final f1-score for this training run.   \n",
        "    avg_train_f1 = total_train_f1 / len(train_dataloader)\n",
        "\n",
        "    # Report the final accuracy for this training run.   \n",
        "    avg_train_accuracy = total_train_accuracy / len(train_dataloader)\n",
        "\n",
        "    # Report the final precision for this training run.   \n",
        "    avg_train_precision = total_train_precision / len(train_dataloader)\n",
        "\n",
        "    # Report the final recall for this training run.   \n",
        "    avg_train_recall = total_train_recall / len(train_dataloader)\n",
        "\n",
        "              \n",
        "    #Accumulate the total time on trainind data across all epochs  \n",
        "    training_time_only +=  training_time_epoch   \n",
        "\n",
        "    print(\" Training f1-score: {0:.2f}\".format(avg_train_f1)) \n",
        "    print(\" Training Accuracy: {0:.2f}\".format(avg_train_accuracy)) \n",
        "    print(\" Training Precision: {0:.2f}\".format(avg_train_precision)) \n",
        "    print(\" Training Recall: {0:.2f}\".format(avg_train_recall))  \n",
        "    print(\"  Average training loss: {0:.2f}\".format(avg_train_loss))\n",
        "    print(\"  Training epoch took: {:}\".format(format_time(training_time_epoch)))\n",
        "    # ========================================\n",
        "    #               Validation\n",
        "    # ========================================\n",
        "    # After the completion of each training epoch, measure our performance on\n",
        "    # our validation set.\n",
        "\n",
        "    print(\"\")\n",
        "    print(\"Running Validation...\")\n",
        "\n",
        "    val_t0 = time.time()\n",
        "    # Put the model in evaluation mode--the dropout layers behave differently\n",
        "    # during evaluation.\n",
        "    model.eval()\n",
        "\n",
        "    # Tracking variables \n",
        "    total_eval_f1 = 0\n",
        "    total_eval_accuracy = 0\n",
        "    total_eval_precision = 0\n",
        "    total_eval_recall = 0\n",
        "    total_eval_loss = 0\n",
        "\n",
        "\n",
        "    # Evaluate data for one epoch\n",
        "    for batch in eval_dataloader:\n",
        "      val_batch = {k: v.to(device) for k, v in batch.items()}\n",
        "     \n",
        "      # Tell pytorch not to bother with constructing the compute graph during\n",
        "      # the forward pass, since this is only needed for backprop (training).\n",
        "      with torch.no_grad():\n",
        "        val_outputs = model(**val_batch)\n",
        "        \n",
        "      val_loss = val_outputs.loss\n",
        "      val_logits = val_outputs.logits\n",
        "      val_predictions = torch.argmax(val_logits, dim=-1)\n",
        "     \n",
        "      total_eval_loss += val_loss.item()\n",
        "\n",
        "      val_metrics = multi_class_metric(val_predictions.detach().cpu().numpy(), val_batch[\"labels\"].to('cpu').numpy())\n",
        "      val_f1 = val_metrics['f1']\n",
        "      val_accuracy = val_metrics['accuracy']\n",
        "      val_precision =val_metrics['precision']\n",
        "      val_recall = val_metrics['recall']\n",
        "\n",
        "      total_eval_f1 += val_f1\n",
        "      total_eval_accuracy += val_accuracy\n",
        "      total_eval_precision += val_precision\n",
        "      total_eval_recall += val_recall\n",
        "\n",
        "      # Accumulate the validation loss.\n",
        "      total_eval_loss += val_loss.item()\n",
        "        \n",
        "    # Measure how long the validation run took.\n",
        "    validation_time_epoch = time.time() - val_t0\n",
        "\n",
        "    # Report the final metrics for this validation run.   \n",
        "    avg_val_f1 = total_eval_f1 / len(eval_dataloader)\n",
        "    avg_val_accuracy = total_eval_accuracy / len(eval_dataloader)\n",
        "    avg_val_precision = total_eval_precision / len(eval_dataloader)\n",
        "    avg_val_recall = total_eval_recall / len(eval_dataloader)\n",
        "\n",
        "\n",
        "    print(\" Validation f1-score: {0:.2f}\".format(avg_val_f1)) \n",
        "    print(\" Validation Accuracy: {0:.2f}\".format(avg_val_accuracy))\n",
        "    print(\" Validation Precision: {0:.2f}\".format(avg_val_precision)) \n",
        "    print(\" Validation Recall: {0:.2f}\".format(avg_val_recall)) \n",
        "    \n",
        "\n",
        "    # Calculate the average loss over all of the batches.\n",
        "    avg_val_loss = total_eval_loss / len(eval_dataloader)\n",
        "    \n",
        "    \n",
        "    #Accumulate the the total validation time across all epochs \n",
        "    validation_time_only += validation_time_epoch\n",
        "    \n",
        "    print(\"  Validation Loss: {0:.2f}\".format(avg_val_loss))\n",
        "    print(\"  Validation took: {:}\".format(format_time(validation_time_epoch)))\n",
        "\n",
        "    # Record all statistics from this epoch.\n",
        "    training_stats.append(\n",
        "        {\n",
        "            'epoch': epoch_i + 1,\n",
        "            'Training Loss': avg_train_loss,\n",
        "            'Valid. Loss': avg_val_loss,\n",
        "            'Training f1': avg_train_f1,\n",
        "            'Valid. f1': avg_val_f1,\n",
        "            'Training Accur.': avg_train_accuracy,\n",
        "            'Valid. Accur.': avg_val_accuracy,\n",
        "            'Training Precision': avg_train_precision,\n",
        "            'Valid. Precision': avg_val_precision,\n",
        "            'Training Recall': avg_train_recall,\n",
        "            'Valid. Recall': avg_val_recall,\n",
        "            'Training Time': format_time(training_time_epoch),\n",
        "            'Validation Time': format_time(validation_time_epoch)\n",
        "        }\n",
        "    )\n",
        "    # Create checkpoint variable and add important data\n",
        "    checkpoint = {\n",
        "        'epoch': epoch_i + 1,\n",
        "        'valid_loss_min': avg_val_loss,\n",
        "        'state_dict': model.state_dict(),\n",
        "        'optimizer': optimizer.state_dict(),\n",
        "    }\n",
        "        \n",
        "    # Save checkpoint\n",
        "    save_ckp(checkpoint, False, checkpoint_path, best_model_path)\n",
        "    ## Save the model if validation loss has decreased\n",
        "    if avg_val_loss <= valid_loss_min:\n",
        "        print('Validation loss decreased ({:.6f} --> {:.6f}).  Saving model ...'.format(valid_loss_min,avg_val_loss))\n",
        "        # Save checkpoint as best model\n",
        "        save_ckp(checkpoint, True, checkpoint_path, best_model_path)\n",
        "        valid_loss_min = avg_val_loss\n",
        "    progress_bar.update(1)\n",
        "print(\"\")\n",
        "print(\"Training complete!\")\n",
        "total_training_time = time.time() - total_t0\n",
        "\n",
        "# Total Training time (without validation and model saving time)\n",
        "print(\"\\nTotal time taken on the training data across all epochs: {:} (h:mm:ss)\".format(format_time(training_time_only)))\n",
        "print(\"Average time take per epoch on training data: {:} (h:mm:ss)\".format(format_time(training_time_only/num_epochs)))\n",
        "\n",
        "# Total Validation time (without training and model saving time)\n",
        "print(\"\\nTotal time taken on the validation data across all epochs: {:} (h:mm:ss)\".format(format_time(validation_time_only)))\n",
        "print(\"Average time take per epoch on validation data: {:} (h:mm:ss)\".format(format_time(validation_time_only/num_epochs)))\n",
        "\n",
        "#Total time taken for training, Validation and model saving\n",
        "print(\"\\nTotal training time taken across all epochs [Validation and model saving time included]: {:} (h:mm:ss)\".format(format_time(total_training_time)))\n",
        "print(\"Average time take per epoch [Validation and model saving time included]: {:} (h:mm:ss)\".format(format_time(total_training_time/num_epochs)))\n",
        "\n",
        "\n"
      ]
    },
    {
      "cell_type": "markdown",
      "metadata": {
        "id": "KHusGHxBiSSz"
      },
      "source": [
        "**The best model is saved at epoch 5. The macro-averaged f1-score for training: 0.26 .The macro-averaged f1-score for validation: 0.07**"
      ]
    },
    {
      "cell_type": "code",
      "execution_count": null,
      "metadata": {
        "id": "CgOm-DMdx-7Z",
        "colab": {
          "base_uri": "https://localhost:8080/",
          "height": 275
        },
        "outputId": "da3e44a1-3667-471a-9187-dbeabcd56464"
      },
      "outputs": [
        {
          "output_type": "execute_result",
          "data": {
            "text/plain": [
              "<pandas.io.formats.style.Styler at 0x7f09795500d0>"
            ],
            "text/html": [
              "<style type=\"text/css\">\n",
              "#T_6b85c_ th {\n",
              "  max-width: 70px;\n",
              "}\n",
              "</style>\n",
              "<table id=\"T_6b85c_\" class=\"dataframe\">\n",
              "  <thead>\n",
              "    <tr>\n",
              "      <th class=\"blank level0\" >&nbsp;</th>\n",
              "      <th class=\"col_heading level0 col0\" >Training Loss</th>\n",
              "      <th class=\"col_heading level0 col1\" >Valid. Loss</th>\n",
              "      <th class=\"col_heading level0 col2\" >Training f1</th>\n",
              "      <th class=\"col_heading level0 col3\" >Valid. f1</th>\n",
              "      <th class=\"col_heading level0 col4\" >Training Accur.</th>\n",
              "      <th class=\"col_heading level0 col5\" >Valid. Accur.</th>\n",
              "      <th class=\"col_heading level0 col6\" >Training Precision</th>\n",
              "      <th class=\"col_heading level0 col7\" >Valid. Precision</th>\n",
              "      <th class=\"col_heading level0 col8\" >Training Recall</th>\n",
              "      <th class=\"col_heading level0 col9\" >Valid. Recall</th>\n",
              "      <th class=\"col_heading level0 col10\" >Training Time</th>\n",
              "      <th class=\"col_heading level0 col11\" >Validation Time</th>\n",
              "    </tr>\n",
              "    <tr>\n",
              "      <th class=\"index_name level0\" >epoch</th>\n",
              "      <th class=\"blank col0\" >&nbsp;</th>\n",
              "      <th class=\"blank col1\" >&nbsp;</th>\n",
              "      <th class=\"blank col2\" >&nbsp;</th>\n",
              "      <th class=\"blank col3\" >&nbsp;</th>\n",
              "      <th class=\"blank col4\" >&nbsp;</th>\n",
              "      <th class=\"blank col5\" >&nbsp;</th>\n",
              "      <th class=\"blank col6\" >&nbsp;</th>\n",
              "      <th class=\"blank col7\" >&nbsp;</th>\n",
              "      <th class=\"blank col8\" >&nbsp;</th>\n",
              "      <th class=\"blank col9\" >&nbsp;</th>\n",
              "      <th class=\"blank col10\" >&nbsp;</th>\n",
              "      <th class=\"blank col11\" >&nbsp;</th>\n",
              "    </tr>\n",
              "  </thead>\n",
              "  <tbody>\n",
              "    <tr>\n",
              "      <th id=\"T_6b85c_level0_row0\" class=\"row_heading level0 row0\" >1</th>\n",
              "      <td id=\"T_6b85c_row0_col0\" class=\"data row0 col0\" >2.23</td>\n",
              "      <td id=\"T_6b85c_row0_col1\" class=\"data row0 col1\" >4.27</td>\n",
              "      <td id=\"T_6b85c_row0_col2\" class=\"data row0 col2\" >0.03</td>\n",
              "      <td id=\"T_6b85c_row0_col3\" class=\"data row0 col3\" >0.08</td>\n",
              "      <td id=\"T_6b85c_row0_col4\" class=\"data row0 col4\" >0.05</td>\n",
              "      <td id=\"T_6b85c_row0_col5\" class=\"data row0 col5\" >0.27</td>\n",
              "      <td id=\"T_6b85c_row0_col6\" class=\"data row0 col6\" >0.03</td>\n",
              "      <td id=\"T_6b85c_row0_col7\" class=\"data row0 col7\" >0.13</td>\n",
              "      <td id=\"T_6b85c_row0_col8\" class=\"data row0 col8\" >0.05</td>\n",
              "      <td id=\"T_6b85c_row0_col9\" class=\"data row0 col9\" >0.06</td>\n",
              "      <td id=\"T_6b85c_row0_col10\" class=\"data row0 col10\" >0:00:04</td>\n",
              "      <td id=\"T_6b85c_row0_col11\" class=\"data row0 col11\" >0:00:01</td>\n",
              "    </tr>\n",
              "    <tr>\n",
              "      <th id=\"T_6b85c_level0_row1\" class=\"row_heading level0 row1\" >2</th>\n",
              "      <td id=\"T_6b85c_row1_col0\" class=\"data row1 col0\" >2.13</td>\n",
              "      <td id=\"T_6b85c_row1_col1\" class=\"data row1 col1\" >4.18</td>\n",
              "      <td id=\"T_6b85c_row1_col2\" class=\"data row1 col2\" >0.11</td>\n",
              "      <td id=\"T_6b85c_row1_col3\" class=\"data row1 col3\" >0.07</td>\n",
              "      <td id=\"T_6b85c_row1_col4\" class=\"data row1 col4\" >0.25</td>\n",
              "      <td id=\"T_6b85c_row1_col5\" class=\"data row1 col5\" >0.29</td>\n",
              "      <td id=\"T_6b85c_row1_col6\" class=\"data row1 col6\" >0.12</td>\n",
              "      <td id=\"T_6b85c_row1_col7\" class=\"data row1 col7\" >0.14</td>\n",
              "      <td id=\"T_6b85c_row1_col8\" class=\"data row1 col8\" >0.13</td>\n",
              "      <td id=\"T_6b85c_row1_col9\" class=\"data row1 col9\" >0.04</td>\n",
              "      <td id=\"T_6b85c_row1_col10\" class=\"data row1 col10\" >0:00:04</td>\n",
              "      <td id=\"T_6b85c_row1_col11\" class=\"data row1 col11\" >0:00:01</td>\n",
              "    </tr>\n",
              "    <tr>\n",
              "      <th id=\"T_6b85c_level0_row2\" class=\"row_heading level0 row2\" >3</th>\n",
              "      <td id=\"T_6b85c_row2_col0\" class=\"data row2 col0\" >2.06</td>\n",
              "      <td id=\"T_6b85c_row2_col1\" class=\"data row2 col1\" >4.09</td>\n",
              "      <td id=\"T_6b85c_row2_col2\" class=\"data row2 col2\" >0.26</td>\n",
              "      <td id=\"T_6b85c_row2_col3\" class=\"data row2 col3\" >0.07</td>\n",
              "      <td id=\"T_6b85c_row2_col4\" class=\"data row2 col4\" >0.28</td>\n",
              "      <td id=\"T_6b85c_row2_col5\" class=\"data row2 col5\" >0.29</td>\n",
              "      <td id=\"T_6b85c_row2_col6\" class=\"data row2 col6\" >0.30</td>\n",
              "      <td id=\"T_6b85c_row2_col7\" class=\"data row2 col7\" >0.14</td>\n",
              "      <td id=\"T_6b85c_row2_col8\" class=\"data row2 col8\" >0.24</td>\n",
              "      <td id=\"T_6b85c_row2_col9\" class=\"data row2 col9\" >0.04</td>\n",
              "      <td id=\"T_6b85c_row2_col10\" class=\"data row2 col10\" >0:00:04</td>\n",
              "      <td id=\"T_6b85c_row2_col11\" class=\"data row2 col11\" >0:00:01</td>\n",
              "    </tr>\n",
              "    <tr>\n",
              "      <th id=\"T_6b85c_level0_row3\" class=\"row_heading level0 row3\" >4</th>\n",
              "      <td id=\"T_6b85c_row3_col0\" class=\"data row3 col0\" >1.97</td>\n",
              "      <td id=\"T_6b85c_row3_col1\" class=\"data row3 col1\" >4.03</td>\n",
              "      <td id=\"T_6b85c_row3_col2\" class=\"data row3 col2\" >0.26</td>\n",
              "      <td id=\"T_6b85c_row3_col3\" class=\"data row3 col3\" >0.07</td>\n",
              "      <td id=\"T_6b85c_row3_col4\" class=\"data row3 col4\" >0.28</td>\n",
              "      <td id=\"T_6b85c_row3_col5\" class=\"data row3 col5\" >0.29</td>\n",
              "      <td id=\"T_6b85c_row3_col6\" class=\"data row3 col6\" >0.30</td>\n",
              "      <td id=\"T_6b85c_row3_col7\" class=\"data row3 col7\" >0.14</td>\n",
              "      <td id=\"T_6b85c_row3_col8\" class=\"data row3 col8\" >0.24</td>\n",
              "      <td id=\"T_6b85c_row3_col9\" class=\"data row3 col9\" >0.04</td>\n",
              "      <td id=\"T_6b85c_row3_col10\" class=\"data row3 col10\" >0:00:04</td>\n",
              "      <td id=\"T_6b85c_row3_col11\" class=\"data row3 col11\" >0:00:01</td>\n",
              "    </tr>\n",
              "    <tr>\n",
              "      <th id=\"T_6b85c_level0_row4\" class=\"row_heading level0 row4\" >5</th>\n",
              "      <td id=\"T_6b85c_row4_col0\" class=\"data row4 col0\" >1.92</td>\n",
              "      <td id=\"T_6b85c_row4_col1\" class=\"data row4 col1\" >4.00</td>\n",
              "      <td id=\"T_6b85c_row4_col2\" class=\"data row4 col2\" >0.26</td>\n",
              "      <td id=\"T_6b85c_row4_col3\" class=\"data row4 col3\" >0.07</td>\n",
              "      <td id=\"T_6b85c_row4_col4\" class=\"data row4 col4\" >0.29</td>\n",
              "      <td id=\"T_6b85c_row4_col5\" class=\"data row4 col5\" >0.29</td>\n",
              "      <td id=\"T_6b85c_row4_col6\" class=\"data row4 col6\" >0.30</td>\n",
              "      <td id=\"T_6b85c_row4_col7\" class=\"data row4 col7\" >0.14</td>\n",
              "      <td id=\"T_6b85c_row4_col8\" class=\"data row4 col8\" >0.29</td>\n",
              "      <td id=\"T_6b85c_row4_col9\" class=\"data row4 col9\" >0.04</td>\n",
              "      <td id=\"T_6b85c_row4_col10\" class=\"data row4 col10\" >0:00:04</td>\n",
              "      <td id=\"T_6b85c_row4_col11\" class=\"data row4 col11\" >0:00:01</td>\n",
              "    </tr>\n",
              "  </tbody>\n",
              "</table>\n"
            ]
          },
          "metadata": {},
          "execution_count": 31
        }
      ],
      "source": [
        "import pandas as pd \n",
        "# Display floats with two decimal places.\n",
        "pd.set_option('precision', 2)\n",
        "\n",
        "# Create a DataFrame from our training statistics.\n",
        "df_stats = pd.DataFrame(data=training_stats)\n",
        "\n",
        "# Use the 'epoch' as the row index.\n",
        "df_stats = df_stats.set_index('epoch')\n",
        "\n",
        "# Display the table.\n",
        "df_stats.style.set_table_styles([dict(selector=\"th\",props=[('max-width', '70px')])])"
      ]
    },
    {
      "cell_type": "markdown",
      "metadata": {
        "id": "Yvqs8ZqivUdr"
      },
      "source": [
        "Validation Loss is a more precise measure than accuracy. If we are predicting the correct answer, but with less confidence, then validation loss will catch this, while accuracy will not."
      ]
    },
    {
      "cell_type": "code",
      "execution_count": null,
      "metadata": {
        "id": "GBPWXFxX7414",
        "colab": {
          "base_uri": "https://localhost:8080/",
          "height": 427
        },
        "outputId": "96fd6606-080f-43ce-dc5e-af80846b0e8b"
      },
      "outputs": [
        {
          "output_type": "display_data",
          "data": {
            "text/plain": [
              "<Figure size 864x432 with 1 Axes>"
            ],
            "image/png": "[encoded data removed]"
          },
          "metadata": {}
        }
      ],
      "source": [
        "import matplotlib.pyplot as plt\n",
        "% matplotlib inline\n",
        "\n",
        "import seaborn as sns\n",
        "\n",
        "# Use plot styling from seaborn.\n",
        "sns.set(style='darkgrid')\n",
        "\n",
        "# Increase the plot size and font size.\n",
        "sns.set(font_scale=1.5)\n",
        "plt.rcParams[\"figure.figsize\"] = (12,6)\n",
        "\n",
        "# Plot the learning curve.\n",
        "plt.plot(df_stats['Training Loss'], 'b-o', label=\"Training\")\n",
        "plt.plot(df_stats['Valid. Loss'], 'g-o', label=\"Validation\")\n",
        "\n",
        "# Label the plot.\n",
        "plt.title(\"Training & Validation Loss\")\n",
        "plt.xlabel(\"Epoch\")\n",
        "plt.ylabel(\"Loss\")\n",
        "plt.legend()\n",
        "plt.show()"
      ]
    },
    {
      "cell_type": "markdown",
      "metadata": {
        "id": "LFcr-ozDmteM"
      },
      "source": [
        "## Download the Data"
      ]
    },
    {
      "cell_type": "code",
      "execution_count": null,
      "metadata": {
        "colab": {
          "base_uri": "https://localhost:8080/"
        },
        "id": "PBZrl1QRmvlT",
        "outputId": "97307287-1a29-4e8c-bfe8-fa175cf98a0e"
      },
      "outputs": [
        {
          "output_type": "stream",
          "name": "stdout",
          "text": [
            "\n",
            "Saved Test Data\n"
          ]
        }
      ],
      "source": [
        "#Save the Test Data in drive\n",
        "used_test_df =pd.DataFrame(dataset_clean['test'])\n",
        "used_test_df.to_csv(used_test_data_path, encoding='utf-8', index=False)\n",
        "print(\"\\nSaved Test Data\")"
      ]
    },
    {
      "cell_type": "code",
      "execution_count": null,
      "metadata": {
        "colab": {
          "base_uri": "https://localhost:8080/"
        },
        "id": "sKMt-zkoBNnQ",
        "outputId": "5d9b7370-548d-417e-a876-4d4f8b70b70e"
      },
      "outputs": [
        {
          "output_type": "stream",
          "name": "stdout",
          "text": [
            "\n",
            "Saved Encoded Test Data\n"
          ]
        }
      ],
      "source": [
        "#Save the Encoded Test Data in Drive \n",
        "encoded_test = pd.DataFrame(encoded_dataset['test'])\n",
        "encoded_test.to_csv(encoded_test_data_path , encoding='utf-8', index=False)\n",
        "print(\"\\nSaved Encoded Test Data\")"
      ]
    },
    {
      "cell_type": "code",
      "execution_count": null,
      "metadata": {
        "id": "fi7vxB8ZEhk0",
        "colab": {
          "base_uri": "https://localhost:8080/"
        },
        "outputId": "e562351b-ab18-4c79-9e79-917fa45c8b97"
      },
      "outputs": [
        {
          "output_type": "stream",
          "name": "stdout",
          "text": [
            "\n",
            "Saved label2id_df\n"
          ]
        }
      ],
      "source": [
        "#Save the label2id_df in Drive \n",
        "label2id_df = pd.DataFrame([label2id] )\n",
        "label2id_df.to_csv(label2id_df_path  , encoding='utf-8', index=False) \n",
        "print(\"\\nSaved label2id_df\")"
      ]
    }
  ],
  "metadata": {
    "accelerator": "GPU",
    "colab": {
      "collapsed_sections": [],
      "name": "Part2_DistilBERT_5_epochs.ipynb",
      "provenance": []
    },
    "kernelspec": {
      "display_name": "Python 3",
      "name": "python3"
    },
    "language_info": {
      "name": "python"
    },
    "widgets": {
      "application/vnd.jupyter.widget-state+json": {
        "c939bf2d51d143c096fb22d0adf1cf1a": {
          "model_module": "@jupyter-widgets/controls",
          "model_name": "HBoxModel",
          "model_module_version": "1.5.0",
          "state": {
            "_dom_classes": [],
            "_model_module": "@jupyter-widgets/controls",
            "_model_module_version": "1.5.0",
            "_model_name": "HBoxModel",
            "_view_count": null,
            "_view_module": "@jupyter-widgets/controls",
            "_view_module_version": "1.5.0",
            "_view_name": "HBoxView",
            "box_style": "",
            "children": [
              "IPY_MODEL_0690159a386a4f15b091cf280b00dd66",
              "IPY_MODEL_a8f22946b9064dba959cb53f9216c054",
              "IPY_MODEL_2975b6fed2fc46b1bc0943dbcd433782"
            ],
            "layout": "IPY_MODEL_05985164c7844d54beb5bc3989b37b02"
          }
        },
        "0690159a386a4f15b091cf280b00dd66": {
          "model_module": "@jupyter-widgets/controls",
          "model_name": "HTMLModel",
          "model_module_version": "1.5.0",
          "state": {
            "_dom_classes": [],
            "_model_module": "@jupyter-widgets/controls",
            "_model_module_version": "1.5.0",
            "_model_name": "HTMLModel",
            "_view_count": null,
            "_view_module": "@jupyter-widgets/controls",
            "_view_module_version": "1.5.0",
            "_view_name": "HTMLView",
            "description": "",
            "description_tooltip": null,
            "layout": "IPY_MODEL_71806d7666db4cf7aaffac4f7af39aa3",
            "placeholder": "​",
            "style": "IPY_MODEL_658b75bfe2fb4a7c8ac8cff67f059c36",
            "value": "Downloading: 100%"
          }
        },
        "a8f22946b9064dba959cb53f9216c054": {
          "model_module": "@jupyter-widgets/controls",
          "model_name": "FloatProgressModel",
          "model_module_version": "1.5.0",
          "state": {
            "_dom_classes": [],
            "_model_module": "@jupyter-widgets/controls",
            "_model_module_version": "1.5.0",
            "_model_name": "FloatProgressModel",
            "_view_count": null,
            "_view_module": "@jupyter-widgets/controls",
            "_view_module_version": "1.5.0",
            "_view_name": "ProgressView",
            "bar_style": "success",
            "description": "",
            "description_tooltip": null,
            "layout": "IPY_MODEL_f529aa8bffbc480bb92fccc3cc8fdd88",
            "max": 29,
            "min": 0,
            "orientation": "horizontal",
            "style": "IPY_MODEL_673bb9d49b744038a62583774f2626e0",
            "value": 29
          }
        },
        "2975b6fed2fc46b1bc0943dbcd433782": {
          "model_module": "@jupyter-widgets/controls",
          "model_name": "HTMLModel",
          "model_module_version": "1.5.0",
          "state": {
            "_dom_classes": [],
            "_model_module": "@jupyter-widgets/controls",
            "_model_module_version": "1.5.0",
            "_model_name": "HTMLModel",
            "_view_count": null,
            "_view_module": "@jupyter-widgets/controls",
            "_view_module_version": "1.5.0",
            "_view_name": "HTMLView",
            "description": "",
            "description_tooltip": null,
            "layout": "IPY_MODEL_48442c0f48204357a03bfbe70f39c932",
            "placeholder": "​",
            "style": "IPY_MODEL_a268dd7d3da844ea9377547f29ccdf57",
            "value": " 29.0/29.0 [00:00&lt;00:00, 281B/s]"
          }
        },
        "05985164c7844d54beb5bc3989b37b02": {
          "model_module": "@jupyter-widgets/base",
          "model_name": "LayoutModel",
          "model_module_version": "1.2.0",
          "state": {
            "_model_module": "@jupyter-widgets/base",
            "_model_module_version": "1.2.0",
            "_model_name": "LayoutModel",
            "_view_count": null,
            "_view_module": "@jupyter-widgets/base",
            "_view_module_version": "1.2.0",
            "_view_name": "LayoutView",
            "align_content": null,
            "align_items": null,
            "align_self": null,
            "border": null,
            "bottom": null,
            "display": null,
            "flex": null,
            "flex_flow": null,
            "grid_area": null,
            "grid_auto_columns": null,
            "grid_auto_flow": null,
            "grid_auto_rows": null,
            "grid_column": null,
            "grid_gap": null,
            "grid_row": null,
            "grid_template_areas": null,
            "grid_template_columns": null,
            "grid_template_rows": null,
            "height": null,
            "justify_content": null,
            "justify_items": null,
            "left": null,
            "margin": null,
            "max_height": null,
            "max_width": null,
            "min_height": null,
            "min_width": null,
            "object_fit": null,
            "object_position": null,
            "order": null,
            "overflow": null,
            "overflow_x": null,
            "overflow_y": null,
            "padding": null,
            "right": null,
            "top": null,
            "visibility": null,
            "width": null
          }
        },
        "71806d7666db4cf7aaffac4f7af39aa3": {
          "model_module": "@jupyter-widgets/base",
          "model_name": "LayoutModel",
          "model_module_version": "1.2.0",
          "state": {
            "_model_module": "@jupyter-widgets/base",
            "_model_module_version": "1.2.0",
            "_model_name": "LayoutModel",
            "_view_count": null,
            "_view_module": "@jupyter-widgets/base",
            "_view_module_version": "1.2.0",
            "_view_name": "LayoutView",
            "align_content": null,
            "align_items": null,
            "align_self": null,
            "border": null,
            "bottom": null,
            "display": null,
            "flex": null,
            "flex_flow": null,
            "grid_area": null,
            "grid_auto_columns": null,
            "grid_auto_flow": null,
            "grid_auto_rows": null,
            "grid_column": null,
            "grid_gap": null,
            "grid_row": null,
            "grid_template_areas": null,
            "grid_template_columns": null,
            "grid_template_rows": null,
            "height": null,
            "justify_content": null,
            "justify_items": null,
            "left": null,
            "margin": null,
            "max_height": null,
            "max_width": null,
            "min_height": null,
            "min_width": null,
            "object_fit": null,
            "object_position": null,
            "order": null,
            "overflow": null,
            "overflow_x": null,
            "overflow_y": null,
            "padding": null,
            "right": null,
            "top": null,
            "visibility": null,
            "width": null
          }
        },
        "658b75bfe2fb4a7c8ac8cff67f059c36": {
          "model_module": "@jupyter-widgets/controls",
          "model_name": "DescriptionStyleModel",
          "model_module_version": "1.5.0",
          "state": {
            "_model_module": "@jupyter-widgets/controls",
            "_model_module_version": "1.5.0",
            "_model_name": "DescriptionStyleModel",
            "_view_count": null,
            "_view_module": "@jupyter-widgets/base",
            "_view_module_version": "1.2.0",
            "_view_name": "StyleView",
            "description_width": ""
          }
        },
        "f529aa8bffbc480bb92fccc3cc8fdd88": {
          "model_module": "@jupyter-widgets/base",
          "model_name": "LayoutModel",
          "model_module_version": "1.2.0",
          "state": {
            "_model_module": "@jupyter-widgets/base",
            "_model_module_version": "1.2.0",
            "_model_name": "LayoutModel",
            "_view_count": null,
            "_view_module": "@jupyter-widgets/base",
            "_view_module_version": "1.2.0",
            "_view_name": "LayoutView",
            "align_content": null,
            "align_items": null,
            "align_self": null,
            "border": null,
            "bottom": null,
            "display": null,
            "flex": null,
            "flex_flow": null,
            "grid_area": null,
            "grid_auto_columns": null,
            "grid_auto_flow": null,
            "grid_auto_rows": null,
            "grid_column": null,
            "grid_gap": null,
            "grid_row": null,
            "grid_template_areas": null,
            "grid_template_columns": null,
            "grid_template_rows": null,
            "height": null,
            "justify_content": null,
            "justify_items": null,
            "left": null,
            "margin": null,
            "max_height": null,
            "max_width": null,
            "min_height": null,
            "min_width": null,
            "object_fit": null,
            "object_position": null,
            "order": null,
            "overflow": null,
            "overflow_x": null,
            "overflow_y": null,
            "padding": null,
            "right": null,
            "top": null,
            "visibility": null,
            "width": null
          }
        },
        "673bb9d49b744038a62583774f2626e0": {
          "model_module": "@jupyter-widgets/controls",
          "model_name": "ProgressStyleModel",
          "model_module_version": "1.5.0",
          "state": {
            "_model_module": "@jupyter-widgets/controls",
            "_model_module_version": "1.5.0",
            "_model_name": "ProgressStyleModel",
            "_view_count": null,
            "_view_module": "@jupyter-widgets/base",
            "_view_module_version": "1.2.0",
            "_view_name": "StyleView",
            "bar_color": null,
            "description_width": ""
          }
        },
        "48442c0f48204357a03bfbe70f39c932": {
          "model_module": "@jupyter-widgets/base",
          "model_name": "LayoutModel",
          "model_module_version": "1.2.0",
          "state": {
            "_model_module": "@jupyter-widgets/base",
            "_model_module_version": "1.2.0",
            "_model_name": "LayoutModel",
            "_view_count": null,
            "_view_module": "@jupyter-widgets/base",
            "_view_module_version": "1.2.0",
            "_view_name": "LayoutView",
            "align_content": null,
            "align_items": null,
            "align_self": null,
            "border": null,
            "bottom": null,
            "display": null,
            "flex": null,
            "flex_flow": null,
            "grid_area": null,
            "grid_auto_columns": null,
            "grid_auto_flow": null,
            "grid_auto_rows": null,
            "grid_column": null,
            "grid_gap": null,
            "grid_row": null,
            "grid_template_areas": null,
            "grid_template_columns": null,
            "grid_template_rows": null,
            "height": null,
            "justify_content": null,
            "justify_items": null,
            "left": null,
            "margin": null,
            "max_height": null,
            "max_width": null,
            "min_height": null,
            "min_width": null,
            "object_fit": null,
            "object_position": null,
            "order": null,
            "overflow": null,
            "overflow_x": null,
            "overflow_y": null,
            "padding": null,
            "right": null,
            "top": null,
            "visibility": null,
            "width": null
          }
        },
        "a268dd7d3da844ea9377547f29ccdf57": {
          "model_module": "@jupyter-widgets/controls",
          "model_name": "DescriptionStyleModel",
          "model_module_version": "1.5.0",
          "state": {
            "_model_module": "@jupyter-widgets/controls",
            "_model_module_version": "1.5.0",
            "_model_name": "DescriptionStyleModel",
            "_view_count": null,
            "_view_module": "@jupyter-widgets/base",
            "_view_module_version": "1.2.0",
            "_view_name": "StyleView",
            "description_width": ""
          }
        },
        "277db858df3b4a179d69e3c7e3a90f02": {
          "model_module": "@jupyter-widgets/controls",
          "model_name": "HBoxModel",
          "model_module_version": "1.5.0",
          "state": {
            "_dom_classes": [],
            "_model_module": "@jupyter-widgets/controls",
            "_model_module_version": "1.5.0",
            "_model_name": "HBoxModel",
            "_view_count": null,
            "_view_module": "@jupyter-widgets/controls",
            "_view_module_version": "1.5.0",
            "_view_name": "HBoxView",
            "box_style": "",
            "children": [
              "IPY_MODEL_835b9bb817814bfe94debb4763f59e02",
              "IPY_MODEL_f388bed54ca049fa9b9d6b0e09a8270a",
              "IPY_MODEL_91092cc261594ae1a291650f7cdfa3f5"
            ],
            "layout": "IPY_MODEL_9c8102db20b74100ab8710f61dcd328f"
          }
        },
        "835b9bb817814bfe94debb4763f59e02": {
          "model_module": "@jupyter-widgets/controls",
          "model_name": "HTMLModel",
          "model_module_version": "1.5.0",
          "state": {
            "_dom_classes": [],
            "_model_module": "@jupyter-widgets/controls",
            "_model_module_version": "1.5.0",
            "_model_name": "HTMLModel",
            "_view_count": null,
            "_view_module": "@jupyter-widgets/controls",
            "_view_module_version": "1.5.0",
            "_view_name": "HTMLView",
            "description": "",
            "description_tooltip": null,
            "layout": "IPY_MODEL_1ee322078afd452cac9793b90942530a",
            "placeholder": "​",
            "style": "IPY_MODEL_7e45010a3667467eb653d49c8773dae3",
            "value": "Downloading: 100%"
          }
        },
        "f388bed54ca049fa9b9d6b0e09a8270a": {
          "model_module": "@jupyter-widgets/controls",
          "model_name": "FloatProgressModel",
          "model_module_version": "1.5.0",
          "state": {
            "_dom_classes": [],
            "_model_module": "@jupyter-widgets/controls",
            "_model_module_version": "1.5.0",
            "_model_name": "FloatProgressModel",
            "_view_count": null,
            "_view_module": "@jupyter-widgets/controls",
            "_view_module_version": "1.5.0",
            "_view_name": "ProgressView",
            "bar_style": "success",
            "description": "",
            "description_tooltip": null,
            "layout": "IPY_MODEL_e47d3ccc0a414c038dc69ba6089de6e1",
            "max": 411,
            "min": 0,
            "orientation": "horizontal",
            "style": "IPY_MODEL_85ed6f69efdd40f8bcde8085e739e2d6",
            "value": 411
          }
        },
        "91092cc261594ae1a291650f7cdfa3f5": {
          "model_module": "@jupyter-widgets/controls",
          "model_name": "HTMLModel",
          "model_module_version": "1.5.0",
          "state": {
            "_dom_classes": [],
            "_model_module": "@jupyter-widgets/controls",
            "_model_module_version": "1.5.0",
            "_model_name": "HTMLModel",
            "_view_count": null,
            "_view_module": "@jupyter-widgets/controls",
            "_view_module_version": "1.5.0",
            "_view_name": "HTMLView",
            "description": "",
            "description_tooltip": null,
            "layout": "IPY_MODEL_94e46b64612947878fc0f7385ddb02a3",
            "placeholder": "​",
            "style": "IPY_MODEL_17d092030cbb4cea94c4ae85eaf68648",
            "value": " 411/411 [00:00&lt;00:00, 6.45kB/s]"
          }
        },
        "9c8102db20b74100ab8710f61dcd328f": {
          "model_module": "@jupyter-widgets/base",
          "model_name": "LayoutModel",
          "model_module_version": "1.2.0",
          "state": {
            "_model_module": "@jupyter-widgets/base",
            "_model_module_version": "1.2.0",
            "_model_name": "LayoutModel",
            "_view_count": null,
            "_view_module": "@jupyter-widgets/base",
            "_view_module_version": "1.2.0",
            "_view_name": "LayoutView",
            "align_content": null,
            "align_items": null,
            "align_self": null,
            "border": null,
            "bottom": null,
            "display": null,
            "flex": null,
            "flex_flow": null,
            "grid_area": null,
            "grid_auto_columns": null,
            "grid_auto_flow": null,
            "grid_auto_rows": null,
            "grid_column": null,
            "grid_gap": null,
            "grid_row": null,
            "grid_template_areas": null,
            "grid_template_columns": null,
            "grid_template_rows": null,
            "height": null,
            "justify_content": null,
            "justify_items": null,
            "left": null,
            "margin": null,
            "max_height": null,
            "max_width": null,
            "min_height": null,
            "min_width": null,
            "object_fit": null,
            "object_position": null,
            "order": null,
            "overflow": null,
            "overflow_x": null,
            "overflow_y": null,
            "padding": null,
            "right": null,
            "top": null,
            "visibility": null,
            "width": null
          }
        },
        "1ee322078afd452cac9793b90942530a": {
          "model_module": "@jupyter-widgets/base",
          "model_name": "LayoutModel",
          "model_module_version": "1.2.0",
          "state": {
            "_model_module": "@jupyter-widgets/base",
            "_model_module_version": "1.2.0",
            "_model_name": "LayoutModel",
            "_view_count": null,
            "_view_module": "@jupyter-widgets/base",
            "_view_module_version": "1.2.0",
            "_view_name": "LayoutView",
            "align_content": null,
            "align_items": null,
            "align_self": null,
            "border": null,
            "bottom": null,
            "display": null,
            "flex": null,
            "flex_flow": null,
            "grid_area": null,
            "grid_auto_columns": null,
            "grid_auto_flow": null,
            "grid_auto_rows": null,
            "grid_column": null,
            "grid_gap": null,
            "grid_row": null,
            "grid_template_areas": null,
            "grid_template_columns": null,
            "grid_template_rows": null,
            "height": null,
            "justify_content": null,
            "justify_items": null,
            "left": null,
            "margin": null,
            "max_height": null,
            "max_width": null,
            "min_height": null,
            "min_width": null,
            "object_fit": null,
            "object_position": null,
            "order": null,
            "overflow": null,
            "overflow_x": null,
            "overflow_y": null,
            "padding": null,
            "right": null,
            "top": null,
            "visibility": null,
            "width": null
          }
        },
        "7e45010a3667467eb653d49c8773dae3": {
          "model_module": "@jupyter-widgets/controls",
          "model_name": "DescriptionStyleModel",
          "model_module_version": "1.5.0",
          "state": {
            "_model_module": "@jupyter-widgets/controls",
            "_model_module_version": "1.5.0",
            "_model_name": "DescriptionStyleModel",
            "_view_count": null,
            "_view_module": "@jupyter-widgets/base",
            "_view_module_version": "1.2.0",
            "_view_name": "StyleView",
            "description_width": ""
          }
        },
        "e47d3ccc0a414c038dc69ba6089de6e1": {
          "model_module": "@jupyter-widgets/base",
          "model_name": "LayoutModel",
          "model_module_version": "1.2.0",
          "state": {
            "_model_module": "@jupyter-widgets/base",
            "_model_module_version": "1.2.0",
            "_model_name": "LayoutModel",
            "_view_count": null,
            "_view_module": "@jupyter-widgets/base",
            "_view_module_version": "1.2.0",
            "_view_name": "LayoutView",
            "align_content": null,
            "align_items": null,
            "align_self": null,
            "border": null,
            "bottom": null,
            "display": null,
            "flex": null,
            "flex_flow": null,
            "grid_area": null,
            "grid_auto_columns": null,
            "grid_auto_flow": null,
            "grid_auto_rows": null,
            "grid_column": null,
            "grid_gap": null,
            "grid_row": null,
            "grid_template_areas": null,
            "grid_template_columns": null,
            "grid_template_rows": null,
            "height": null,
            "justify_content": null,
            "justify_items": null,
            "left": null,
            "margin": null,
            "max_height": null,
            "max_width": null,
            "min_height": null,
            "min_width": null,
            "object_fit": null,
            "object_position": null,
            "order": null,
            "overflow": null,
            "overflow_x": null,
            "overflow_y": null,
            "padding": null,
            "right": null,
            "top": null,
            "visibility": null,
            "width": null
          }
        },
        "85ed6f69efdd40f8bcde8085e739e2d6": {
          "model_module": "@jupyter-widgets/controls",
          "model_name": "ProgressStyleModel",
          "model_module_version": "1.5.0",
          "state": {
            "_model_module": "@jupyter-widgets/controls",
            "_model_module_version": "1.5.0",
            "_model_name": "ProgressStyleModel",
            "_view_count": null,
            "_view_module": "@jupyter-widgets/base",
            "_view_module_version": "1.2.0",
            "_view_name": "StyleView",
            "bar_color": null,
            "description_width": ""
          }
        },
        "94e46b64612947878fc0f7385ddb02a3": {
          "model_module": "@jupyter-widgets/base",
          "model_name": "LayoutModel",
          "model_module_version": "1.2.0",
          "state": {
            "_model_module": "@jupyter-widgets/base",
            "_model_module_version": "1.2.0",
            "_model_name": "LayoutModel",
            "_view_count": null,
            "_view_module": "@jupyter-widgets/base",
            "_view_module_version": "1.2.0",
            "_view_name": "LayoutView",
            "align_content": null,
            "align_items": null,
            "align_self": null,
            "border": null,
            "bottom": null,
            "display": null,
            "flex": null,
            "flex_flow": null,
            "grid_area": null,
            "grid_auto_columns": null,
            "grid_auto_flow": null,
            "grid_auto_rows": null,
            "grid_column": null,
            "grid_gap": null,
            "grid_row": null,
            "grid_template_areas": null,
            "grid_template_columns": null,
            "grid_template_rows": null,
            "height": null,
            "justify_content": null,
            "justify_items": null,
            "left": null,
            "margin": null,
            "max_height": null,
            "max_width": null,
            "min_height": null,
            "min_width": null,
            "object_fit": null,
            "object_position": null,
            "order": null,
            "overflow": null,
            "overflow_x": null,
            "overflow_y": null,
            "padding": null,
            "right": null,
            "top": null,
            "visibility": null,
            "width": null
          }
        },
        "17d092030cbb4cea94c4ae85eaf68648": {
          "model_module": "@jupyter-widgets/controls",
          "model_name": "DescriptionStyleModel",
          "model_module_version": "1.5.0",
          "state": {
            "_model_module": "@jupyter-widgets/controls",
            "_model_module_version": "1.5.0",
            "_model_name": "DescriptionStyleModel",
            "_view_count": null,
            "_view_module": "@jupyter-widgets/base",
            "_view_module_version": "1.2.0",
            "_view_name": "StyleView",
            "description_width": ""
          }
        },
        "3599c52e97d2494ebb4e698af8275a43": {
          "model_module": "@jupyter-widgets/controls",
          "model_name": "HBoxModel",
          "model_module_version": "1.5.0",
          "state": {
            "_dom_classes": [],
            "_model_module": "@jupyter-widgets/controls",
            "_model_module_version": "1.5.0",
            "_model_name": "HBoxModel",
            "_view_count": null,
            "_view_module": "@jupyter-widgets/controls",
            "_view_module_version": "1.5.0",
            "_view_name": "HBoxView",
            "box_style": "",
            "children": [
              "IPY_MODEL_374c5b1f2bb848fe8f05d16a0e0e2d79",
              "IPY_MODEL_d67286b5182b4705b8b3d4bbff36c929",
              "IPY_MODEL_148313a2215a4c669e617beb6dfd43e3"
            ],
            "layout": "IPY_MODEL_3e219059868448768b090dc44001ce2a"
          }
        },
        "374c5b1f2bb848fe8f05d16a0e0e2d79": {
          "model_module": "@jupyter-widgets/controls",
          "model_name": "HTMLModel",
          "model_module_version": "1.5.0",
          "state": {
            "_dom_classes": [],
            "_model_module": "@jupyter-widgets/controls",
            "_model_module_version": "1.5.0",
            "_model_name": "HTMLModel",
            "_view_count": null,
            "_view_module": "@jupyter-widgets/controls",
            "_view_module_version": "1.5.0",
            "_view_name": "HTMLView",
            "description": "",
            "description_tooltip": null,
            "layout": "IPY_MODEL_9ce93bbbba9f4a2c8fdfe203feeab9b1",
            "placeholder": "​",
            "style": "IPY_MODEL_c5ececc259784d3197b8ea0c469486fa",
            "value": "Downloading: 100%"
          }
        },
        "d67286b5182b4705b8b3d4bbff36c929": {
          "model_module": "@jupyter-widgets/controls",
          "model_name": "FloatProgressModel",
          "model_module_version": "1.5.0",
          "state": {
            "_dom_classes": [],
            "_model_module": "@jupyter-widgets/controls",
            "_model_module_version": "1.5.0",
            "_model_name": "FloatProgressModel",
            "_view_count": null,
            "_view_module": "@jupyter-widgets/controls",
            "_view_module_version": "1.5.0",
            "_view_name": "ProgressView",
            "bar_style": "success",
            "description": "",
            "description_tooltip": null,
            "layout": "IPY_MODEL_b2947ee38bf74644929fc6ebffeb31dc",
            "max": 213450,
            "min": 0,
            "orientation": "horizontal",
            "style": "IPY_MODEL_b4066380aba24760b4d04e36163b7a62",
            "value": 213450
          }
        },
        "148313a2215a4c669e617beb6dfd43e3": {
          "model_module": "@jupyter-widgets/controls",
          "model_name": "HTMLModel",
          "model_module_version": "1.5.0",
          "state": {
            "_dom_classes": [],
            "_model_module": "@jupyter-widgets/controls",
            "_model_module_version": "1.5.0",
            "_model_name": "HTMLModel",
            "_view_count": null,
            "_view_module": "@jupyter-widgets/controls",
            "_view_module_version": "1.5.0",
            "_view_name": "HTMLView",
            "description": "",
            "description_tooltip": null,
            "layout": "IPY_MODEL_60937ad0762f4dc8849eb7238467dfc1",
            "placeholder": "​",
            "style": "IPY_MODEL_026a0f6d8b714dba904ec90d118da10a",
            "value": " 208k/208k [00:00&lt;00:00, 511kB/s]"
          }
        },
        "3e219059868448768b090dc44001ce2a": {
          "model_module": "@jupyter-widgets/base",
          "model_name": "LayoutModel",
          "model_module_version": "1.2.0",
          "state": {
            "_model_module": "@jupyter-widgets/base",
            "_model_module_version": "1.2.0",
            "_model_name": "LayoutModel",
            "_view_count": null,
            "_view_module": "@jupyter-widgets/base",
            "_view_module_version": "1.2.0",
            "_view_name": "LayoutView",
            "align_content": null,
            "align_items": null,
            "align_self": null,
            "border": null,
            "bottom": null,
            "display": null,
            "flex": null,
            "flex_flow": null,
            "grid_area": null,
            "grid_auto_columns": null,
            "grid_auto_flow": null,
            "grid_auto_rows": null,
            "grid_column": null,
            "grid_gap": null,
            "grid_row": null,
            "grid_template_areas": null,
            "grid_template_columns": null,
            "grid_template_rows": null,
            "height": null,
            "justify_content": null,
            "justify_items": null,
            "left": null,
            "margin": null,
            "max_height": null,
            "max_width": null,
            "min_height": null,
            "min_width": null,
            "object_fit": null,
            "object_position": null,
            "order": null,
            "overflow": null,
            "overflow_x": null,
            "overflow_y": null,
            "padding": null,
            "right": null,
            "top": null,
            "visibility": null,
            "width": null
          }
        },
        "9ce93bbbba9f4a2c8fdfe203feeab9b1": {
          "model_module": "@jupyter-widgets/base",
          "model_name": "LayoutModel",
          "model_module_version": "1.2.0",
          "state": {
            "_model_module": "@jupyter-widgets/base",
            "_model_module_version": "1.2.0",
            "_model_name": "LayoutModel",
            "_view_count": null,
            "_view_module": "@jupyter-widgets/base",
            "_view_module_version": "1.2.0",
            "_view_name": "LayoutView",
            "align_content": null,
            "align_items": null,
            "align_self": null,
            "border": null,
            "bottom": null,
            "display": null,
            "flex": null,
            "flex_flow": null,
            "grid_area": null,
            "grid_auto_columns": null,
            "grid_auto_flow": null,
            "grid_auto_rows": null,
            "grid_column": null,
            "grid_gap": null,
            "grid_row": null,
            "grid_template_areas": null,
            "grid_template_columns": null,
            "grid_template_rows": null,
            "height": null,
            "justify_content": null,
            "justify_items": null,
            "left": null,
            "margin": null,
            "max_height": null,
            "max_width": null,
            "min_height": null,
            "min_width": null,
            "object_fit": null,
            "object_position": null,
            "order": null,
            "overflow": null,
            "overflow_x": null,
            "overflow_y": null,
            "padding": null,
            "right": null,
            "top": null,
            "visibility": null,
            "width": null
          }
        },
        "c5ececc259784d3197b8ea0c469486fa": {
          "model_module": "@jupyter-widgets/controls",
          "model_name": "DescriptionStyleModel",
          "model_module_version": "1.5.0",
          "state": {
            "_model_module": "@jupyter-widgets/controls",
            "_model_module_version": "1.5.0",
            "_model_name": "DescriptionStyleModel",
            "_view_count": null,
            "_view_module": "@jupyter-widgets/base",
            "_view_module_version": "1.2.0",
            "_view_name": "StyleView",
            "description_width": ""
          }
        },
        "b2947ee38bf74644929fc6ebffeb31dc": {
          "model_module": "@jupyter-widgets/base",
          "model_name": "LayoutModel",
          "model_module_version": "1.2.0",
          "state": {
            "_model_module": "@jupyter-widgets/base",
            "_model_module_version": "1.2.0",
            "_model_name": "LayoutModel",
            "_view_count": null,
            "_view_module": "@jupyter-widgets/base",
            "_view_module_version": "1.2.0",
            "_view_name": "LayoutView",
            "align_content": null,
            "align_items": null,
            "align_self": null,
            "border": null,
            "bottom": null,
            "display": null,
            "flex": null,
            "flex_flow": null,
            "grid_area": null,
            "grid_auto_columns": null,
            "grid_auto_flow": null,
            "grid_auto_rows": null,
            "grid_column": null,
            "grid_gap": null,
            "grid_row": null,
            "grid_template_areas": null,
            "grid_template_columns": null,
            "grid_template_rows": null,
            "height": null,
            "justify_content": null,
            "justify_items": null,
            "left": null,
            "margin": null,
            "max_height": null,
            "max_width": null,
            "min_height": null,
            "min_width": null,
            "object_fit": null,
            "object_position": null,
            "order": null,
            "overflow": null,
            "overflow_x": null,
            "overflow_y": null,
            "padding": null,
            "right": null,
            "top": null,
            "visibility": null,
            "width": null
          }
        },
        "b4066380aba24760b4d04e36163b7a62": {
          "model_module": "@jupyter-widgets/controls",
          "model_name": "ProgressStyleModel",
          "model_module_version": "1.5.0",
          "state": {
            "_model_module": "@jupyter-widgets/controls",
            "_model_module_version": "1.5.0",
            "_model_name": "ProgressStyleModel",
            "_view_count": null,
            "_view_module": "@jupyter-widgets/base",
            "_view_module_version": "1.2.0",
            "_view_name": "StyleView",
            "bar_color": null,
            "description_width": ""
          }
        },
        "60937ad0762f4dc8849eb7238467dfc1": {
          "model_module": "@jupyter-widgets/base",
          "model_name": "LayoutModel",
          "model_module_version": "1.2.0",
          "state": {
            "_model_module": "@jupyter-widgets/base",
            "_model_module_version": "1.2.0",
            "_model_name": "LayoutModel",
            "_view_count": null,
            "_view_module": "@jupyter-widgets/base",
            "_view_module_version": "1.2.0",
            "_view_name": "LayoutView",
            "align_content": null,
            "align_items": null,
            "align_self": null,
            "border": null,
            "bottom": null,
            "display": null,
            "flex": null,
            "flex_flow": null,
            "grid_area": null,
            "grid_auto_columns": null,
            "grid_auto_flow": null,
            "grid_auto_rows": null,
            "grid_column": null,
            "grid_gap": null,
            "grid_row": null,
            "grid_template_areas": null,
            "grid_template_columns": null,
            "grid_template_rows": null,
            "height": null,
            "justify_content": null,
            "justify_items": null,
            "left": null,
            "margin": null,
            "max_height": null,
            "max_width": null,
            "min_height": null,
            "min_width": null,
            "object_fit": null,
            "object_position": null,
            "order": null,
            "overflow": null,
            "overflow_x": null,
            "overflow_y": null,
            "padding": null,
            "right": null,
            "top": null,
            "visibility": null,
            "width": null
          }
        },
        "026a0f6d8b714dba904ec90d118da10a": {
          "model_module": "@jupyter-widgets/controls",
          "model_name": "DescriptionStyleModel",
          "model_module_version": "1.5.0",
          "state": {
            "_model_module": "@jupyter-widgets/controls",
            "_model_module_version": "1.5.0",
            "_model_name": "DescriptionStyleModel",
            "_view_count": null,
            "_view_module": "@jupyter-widgets/base",
            "_view_module_version": "1.2.0",
            "_view_name": "StyleView",
            "description_width": ""
          }
        },
        "45fdf19053f54dd7bb403be5d851f0b0": {
          "model_module": "@jupyter-widgets/controls",
          "model_name": "HBoxModel",
          "model_module_version": "1.5.0",
          "state": {
            "_dom_classes": [],
            "_model_module": "@jupyter-widgets/controls",
            "_model_module_version": "1.5.0",
            "_model_name": "HBoxModel",
            "_view_count": null,
            "_view_module": "@jupyter-widgets/controls",
            "_view_module_version": "1.5.0",
            "_view_name": "HBoxView",
            "box_style": "",
            "children": [
              "IPY_MODEL_1b30c33befad42109bee15105dd418c8",
              "IPY_MODEL_7b0f348664a34a17bb340119552fa32a",
              "IPY_MODEL_159ef2e17e7f44ddadb43d8de8eaa130"
            ],
            "layout": "IPY_MODEL_eb47d2cc6c784dfc9746e66936456938"
          }
        },
        "1b30c33befad42109bee15105dd418c8": {
          "model_module": "@jupyter-widgets/controls",
          "model_name": "HTMLModel",
          "model_module_version": "1.5.0",
          "state": {
            "_dom_classes": [],
            "_model_module": "@jupyter-widgets/controls",
            "_model_module_version": "1.5.0",
            "_model_name": "HTMLModel",
            "_view_count": null,
            "_view_module": "@jupyter-widgets/controls",
            "_view_module_version": "1.5.0",
            "_view_name": "HTMLView",
            "description": "",
            "description_tooltip": null,
            "layout": "IPY_MODEL_34ae4ad376a7460c9cdae156147e8916",
            "placeholder": "​",
            "style": "IPY_MODEL_383f6c0d257f48ffb9ce931d79785943",
            "value": "Downloading: 100%"
          }
        },
        "7b0f348664a34a17bb340119552fa32a": {
          "model_module": "@jupyter-widgets/controls",
          "model_name": "FloatProgressModel",
          "model_module_version": "1.5.0",
          "state": {
            "_dom_classes": [],
            "_model_module": "@jupyter-widgets/controls",
            "_model_module_version": "1.5.0",
            "_model_name": "FloatProgressModel",
            "_view_count": null,
            "_view_module": "@jupyter-widgets/controls",
            "_view_module_version": "1.5.0",
            "_view_name": "ProgressView",
            "bar_style": "success",
            "description": "",
            "description_tooltip": null,
            "layout": "IPY_MODEL_08d1081e08264ecda3127f605f732076",
            "max": 435797,
            "min": 0,
            "orientation": "horizontal",
            "style": "IPY_MODEL_78e5f536f38449a6ac20924104043ca3",
            "value": 435797
          }
        },
        "159ef2e17e7f44ddadb43d8de8eaa130": {
          "model_module": "@jupyter-widgets/controls",
          "model_name": "HTMLModel",
          "model_module_version": "1.5.0",
          "state": {
            "_dom_classes": [],
            "_model_module": "@jupyter-widgets/controls",
            "_model_module_version": "1.5.0",
            "_model_name": "HTMLModel",
            "_view_count": null,
            "_view_module": "@jupyter-widgets/controls",
            "_view_module_version": "1.5.0",
            "_view_name": "HTMLView",
            "description": "",
            "description_tooltip": null,
            "layout": "IPY_MODEL_05c2405e9c9f4000a37f787e555ae24a",
            "placeholder": "​",
            "style": "IPY_MODEL_7a889fed3120484387638a7e2fd1a9c0",
            "value": " 426k/426k [00:00&lt;00:00, 609kB/s]"
          }
        },
        "eb47d2cc6c784dfc9746e66936456938": {
          "model_module": "@jupyter-widgets/base",
          "model_name": "LayoutModel",
          "model_module_version": "1.2.0",
          "state": {
            "_model_module": "@jupyter-widgets/base",
            "_model_module_version": "1.2.0",
            "_model_name": "LayoutModel",
            "_view_count": null,
            "_view_module": "@jupyter-widgets/base",
            "_view_module_version": "1.2.0",
            "_view_name": "LayoutView",
            "align_content": null,
            "align_items": null,
            "align_self": null,
            "border": null,
            "bottom": null,
            "display": null,
            "flex": null,
            "flex_flow": null,
            "grid_area": null,
            "grid_auto_columns": null,
            "grid_auto_flow": null,
            "grid_auto_rows": null,
            "grid_column": null,
            "grid_gap": null,
            "grid_row": null,
            "grid_template_areas": null,
            "grid_template_columns": null,
            "grid_template_rows": null,
            "height": null,
            "justify_content": null,
            "justify_items": null,
            "left": null,
            "margin": null,
            "max_height": null,
            "max_width": null,
            "min_height": null,
            "min_width": null,
            "object_fit": null,
            "object_position": null,
            "order": null,
            "overflow": null,
            "overflow_x": null,
            "overflow_y": null,
            "padding": null,
            "right": null,
            "top": null,
            "visibility": null,
            "width": null
          }
        },
        "34ae4ad376a7460c9cdae156147e8916": {
          "model_module": "@jupyter-widgets/base",
          "model_name": "LayoutModel",
          "model_module_version": "1.2.0",
          "state": {
            "_model_module": "@jupyter-widgets/base",
            "_model_module_version": "1.2.0",
            "_model_name": "LayoutModel",
            "_view_count": null,
            "_view_module": "@jupyter-widgets/base",
            "_view_module_version": "1.2.0",
            "_view_name": "LayoutView",
            "align_content": null,
            "align_items": null,
            "align_self": null,
            "border": null,
            "bottom": null,
            "display": null,
            "flex": null,
            "flex_flow": null,
            "grid_area": null,
            "grid_auto_columns": null,
            "grid_auto_flow": null,
            "grid_auto_rows": null,
            "grid_column": null,
            "grid_gap": null,
            "grid_row": null,
            "grid_template_areas": null,
            "grid_template_columns": null,
            "grid_template_rows": null,
            "height": null,
            "justify_content": null,
            "justify_items": null,
            "left": null,
            "margin": null,
            "max_height": null,
            "max_width": null,
            "min_height": null,
            "min_width": null,
            "object_fit": null,
            "object_position": null,
            "order": null,
            "overflow": null,
            "overflow_x": null,
            "overflow_y": null,
            "padding": null,
            "right": null,
            "top": null,
            "visibility": null,
            "width": null
          }
        },
        "383f6c0d257f48ffb9ce931d79785943": {
          "model_module": "@jupyter-widgets/controls",
          "model_name": "DescriptionStyleModel",
          "model_module_version": "1.5.0",
          "state": {
            "_model_module": "@jupyter-widgets/controls",
            "_model_module_version": "1.5.0",
            "_model_name": "DescriptionStyleModel",
            "_view_count": null,
            "_view_module": "@jupyter-widgets/base",
            "_view_module_version": "1.2.0",
            "_view_name": "StyleView",
            "description_width": ""
          }
        },
        "08d1081e08264ecda3127f605f732076": {
          "model_module": "@jupyter-widgets/base",
          "model_name": "LayoutModel",
          "model_module_version": "1.2.0",
          "state": {
            "_model_module": "@jupyter-widgets/base",
            "_model_module_version": "1.2.0",
            "_model_name": "LayoutModel",
            "_view_count": null,
            "_view_module": "@jupyter-widgets/base",
            "_view_module_version": "1.2.0",
            "_view_name": "LayoutView",
            "align_content": null,
            "align_items": null,
            "align_self": null,
            "border": null,
            "bottom": null,
            "display": null,
            "flex": null,
            "flex_flow": null,
            "grid_area": null,
            "grid_auto_columns": null,
            "grid_auto_flow": null,
            "grid_auto_rows": null,
            "grid_column": null,
            "grid_gap": null,
            "grid_row": null,
            "grid_template_areas": null,
            "grid_template_columns": null,
            "grid_template_rows": null,
            "height": null,
            "justify_content": null,
            "justify_items": null,
            "left": null,
            "margin": null,
            "max_height": null,
            "max_width": null,
            "min_height": null,
            "min_width": null,
            "object_fit": null,
            "object_position": null,
            "order": null,
            "overflow": null,
            "overflow_x": null,
            "overflow_y": null,
            "padding": null,
            "right": null,
            "top": null,
            "visibility": null,
            "width": null
          }
        },
        "78e5f536f38449a6ac20924104043ca3": {
          "model_module": "@jupyter-widgets/controls",
          "model_name": "ProgressStyleModel",
          "model_module_version": "1.5.0",
          "state": {
            "_model_module": "@jupyter-widgets/controls",
            "_model_module_version": "1.5.0",
            "_model_name": "ProgressStyleModel",
            "_view_count": null,
            "_view_module": "@jupyter-widgets/base",
            "_view_module_version": "1.2.0",
            "_view_name": "StyleView",
            "bar_color": null,
            "description_width": ""
          }
        },
        "05c2405e9c9f4000a37f787e555ae24a": {
          "model_module": "@jupyter-widgets/base",
          "model_name": "LayoutModel",
          "model_module_version": "1.2.0",
          "state": {
            "_model_module": "@jupyter-widgets/base",
            "_model_module_version": "1.2.0",
            "_model_name": "LayoutModel",
            "_view_count": null,
            "_view_module": "@jupyter-widgets/base",
            "_view_module_version": "1.2.0",
            "_view_name": "LayoutView",
            "align_content": null,
            "align_items": null,
            "align_self": null,
            "border": null,
            "bottom": null,
            "display": null,
            "flex": null,
            "flex_flow": null,
            "grid_area": null,
            "grid_auto_columns": null,
            "grid_auto_flow": null,
            "grid_auto_rows": null,
            "grid_column": null,
            "grid_gap": null,
            "grid_row": null,
            "grid_template_areas": null,
            "grid_template_columns": null,
            "grid_template_rows": null,
            "height": null,
            "justify_content": null,
            "justify_items": null,
            "left": null,
            "margin": null,
            "max_height": null,
            "max_width": null,
            "min_height": null,
            "min_width": null,
            "object_fit": null,
            "object_position": null,
            "order": null,
            "overflow": null,
            "overflow_x": null,
            "overflow_y": null,
            "padding": null,
            "right": null,
            "top": null,
            "visibility": null,
            "width": null
          }
        },
        "7a889fed3120484387638a7e2fd1a9c0": {
          "model_module": "@jupyter-widgets/controls",
          "model_name": "DescriptionStyleModel",
          "model_module_version": "1.5.0",
          "state": {
            "_model_module": "@jupyter-widgets/controls",
            "_model_module_version": "1.5.0",
            "_model_name": "DescriptionStyleModel",
            "_view_count": null,
            "_view_module": "@jupyter-widgets/base",
            "_view_module_version": "1.2.0",
            "_view_name": "StyleView",
            "description_width": ""
          }
        },
        "b043710e678e425fbb54f72879eb9efe": {
          "model_module": "@jupyter-widgets/controls",
          "model_name": "HBoxModel",
          "model_module_version": "1.5.0",
          "state": {
            "_dom_classes": [],
            "_model_module": "@jupyter-widgets/controls",
            "_model_module_version": "1.5.0",
            "_model_name": "HBoxModel",
            "_view_count": null,
            "_view_module": "@jupyter-widgets/controls",
            "_view_module_version": "1.5.0",
            "_view_name": "HBoxView",
            "box_style": "",
            "children": [
              "IPY_MODEL_0fb3dd1d65364061ab7a52c4b83fe141",
              "IPY_MODEL_a62e5f9f874340599b888042528c053d",
              "IPY_MODEL_d54b850b4e84403a886f1697d924c11e"
            ],
            "layout": "IPY_MODEL_24fa713ace2f4e25bcb494855ac4ccbd"
          }
        },
        "0fb3dd1d65364061ab7a52c4b83fe141": {
          "model_module": "@jupyter-widgets/controls",
          "model_name": "HTMLModel",
          "model_module_version": "1.5.0",
          "state": {
            "_dom_classes": [],
            "_model_module": "@jupyter-widgets/controls",
            "_model_module_version": "1.5.0",
            "_model_name": "HTMLModel",
            "_view_count": null,
            "_view_module": "@jupyter-widgets/controls",
            "_view_module_version": "1.5.0",
            "_view_name": "HTMLView",
            "description": "",
            "description_tooltip": null,
            "layout": "IPY_MODEL_0000c03a44cf403f934ee72c8537180b",
            "placeholder": "​",
            "style": "IPY_MODEL_b32acf75d3b94694b273b61efa3433f7",
            "value": "Downloading: 100%"
          }
        },
        "a62e5f9f874340599b888042528c053d": {
          "model_module": "@jupyter-widgets/controls",
          "model_name": "FloatProgressModel",
          "model_module_version": "1.5.0",
          "state": {
            "_dom_classes": [],
            "_model_module": "@jupyter-widgets/controls",
            "_model_module_version": "1.5.0",
            "_model_name": "FloatProgressModel",
            "_view_count": null,
            "_view_module": "@jupyter-widgets/controls",
            "_view_module_version": "1.5.0",
            "_view_name": "ProgressView",
            "bar_style": "success",
            "description": "",
            "description_tooltip": null,
            "layout": "IPY_MODEL_c8fbf25ba4d34c6da587b27404fd6d6f",
            "max": 263273408,
            "min": 0,
            "orientation": "horizontal",
            "style": "IPY_MODEL_5c080e2627164bacae5d7a7899135cac",
            "value": 263273408
          }
        },
        "d54b850b4e84403a886f1697d924c11e": {
          "model_module": "@jupyter-widgets/controls",
          "model_name": "HTMLModel",
          "model_module_version": "1.5.0",
          "state": {
            "_dom_classes": [],
            "_model_module": "@jupyter-widgets/controls",
            "_model_module_version": "1.5.0",
            "_model_name": "HTMLModel",
            "_view_count": null,
            "_view_module": "@jupyter-widgets/controls",
            "_view_module_version": "1.5.0",
            "_view_name": "HTMLView",
            "description": "",
            "description_tooltip": null,
            "layout": "IPY_MODEL_a1c23a357c8444b486288a545199fb08",
            "placeholder": "​",
            "style": "IPY_MODEL_34603e663d6f44ceaf3cfd3251ac9235",
            "value": " 251M/251M [00:08&lt;00:00, 63.7MB/s]"
          }
        },
        "24fa713ace2f4e25bcb494855ac4ccbd": {
          "model_module": "@jupyter-widgets/base",
          "model_name": "LayoutModel",
          "model_module_version": "1.2.0",
          "state": {
            "_model_module": "@jupyter-widgets/base",
            "_model_module_version": "1.2.0",
            "_model_name": "LayoutModel",
            "_view_count": null,
            "_view_module": "@jupyter-widgets/base",
            "_view_module_version": "1.2.0",
            "_view_name": "LayoutView",
            "align_content": null,
            "align_items": null,
            "align_self": null,
            "border": null,
            "bottom": null,
            "display": null,
            "flex": null,
            "flex_flow": null,
            "grid_area": null,
            "grid_auto_columns": null,
            "grid_auto_flow": null,
            "grid_auto_rows": null,
            "grid_column": null,
            "grid_gap": null,
            "grid_row": null,
            "grid_template_areas": null,
            "grid_template_columns": null,
            "grid_template_rows": null,
            "height": null,
            "justify_content": null,
            "justify_items": null,
            "left": null,
            "margin": null,
            "max_height": null,
            "max_width": null,
            "min_height": null,
            "min_width": null,
            "object_fit": null,
            "object_position": null,
            "order": null,
            "overflow": null,
            "overflow_x": null,
            "overflow_y": null,
            "padding": null,
            "right": null,
            "top": null,
            "visibility": null,
            "width": null
          }
        },
        "0000c03a44cf403f934ee72c8537180b": {
          "model_module": "@jupyter-widgets/base",
          "model_name": "LayoutModel",
          "model_module_version": "1.2.0",
          "state": {
            "_model_module": "@jupyter-widgets/base",
            "_model_module_version": "1.2.0",
            "_model_name": "LayoutModel",
            "_view_count": null,
            "_view_module": "@jupyter-widgets/base",
            "_view_module_version": "1.2.0",
            "_view_name": "LayoutView",
            "align_content": null,
            "align_items": null,
            "align_self": null,
            "border": null,
            "bottom": null,
            "display": null,
            "flex": null,
            "flex_flow": null,
            "grid_area": null,
            "grid_auto_columns": null,
            "grid_auto_flow": null,
            "grid_auto_rows": null,
            "grid_column": null,
            "grid_gap": null,
            "grid_row": null,
            "grid_template_areas": null,
            "grid_template_columns": null,
            "grid_template_rows": null,
            "height": null,
            "justify_content": null,
            "justify_items": null,
            "left": null,
            "margin": null,
            "max_height": null,
            "max_width": null,
            "min_height": null,
            "min_width": null,
            "object_fit": null,
            "object_position": null,
            "order": null,
            "overflow": null,
            "overflow_x": null,
            "overflow_y": null,
            "padding": null,
            "right": null,
            "top": null,
            "visibility": null,
            "width": null
          }
        },
        "b32acf75d3b94694b273b61efa3433f7": {
          "model_module": "@jupyter-widgets/controls",
          "model_name": "DescriptionStyleModel",
          "model_module_version": "1.5.0",
          "state": {
            "_model_module": "@jupyter-widgets/controls",
            "_model_module_version": "1.5.0",
            "_model_name": "DescriptionStyleModel",
            "_view_count": null,
            "_view_module": "@jupyter-widgets/base",
            "_view_module_version": "1.2.0",
            "_view_name": "StyleView",
            "description_width": ""
          }
        },
        "c8fbf25ba4d34c6da587b27404fd6d6f": {
          "model_module": "@jupyter-widgets/base",
          "model_name": "LayoutModel",
          "model_module_version": "1.2.0",
          "state": {
            "_model_module": "@jupyter-widgets/base",
            "_model_module_version": "1.2.0",
            "_model_name": "LayoutModel",
            "_view_count": null,
            "_view_module": "@jupyter-widgets/base",
            "_view_module_version": "1.2.0",
            "_view_name": "LayoutView",
            "align_content": null,
            "align_items": null,
            "align_self": null,
            "border": null,
            "bottom": null,
            "display": null,
            "flex": null,
            "flex_flow": null,
            "grid_area": null,
            "grid_auto_columns": null,
            "grid_auto_flow": null,
            "grid_auto_rows": null,
            "grid_column": null,
            "grid_gap": null,
            "grid_row": null,
            "grid_template_areas": null,
            "grid_template_columns": null,
            "grid_template_rows": null,
            "height": null,
            "justify_content": null,
            "justify_items": null,
            "left": null,
            "margin": null,
            "max_height": null,
            "max_width": null,
            "min_height": null,
            "min_width": null,
            "object_fit": null,
            "object_position": null,
            "order": null,
            "overflow": null,
            "overflow_x": null,
            "overflow_y": null,
            "padding": null,
            "right": null,
            "top": null,
            "visibility": null,
            "width": null
          }
        },
        "5c080e2627164bacae5d7a7899135cac": {
          "model_module": "@jupyter-widgets/controls",
          "model_name": "ProgressStyleModel",
          "model_module_version": "1.5.0",
          "state": {
            "_model_module": "@jupyter-widgets/controls",
            "_model_module_version": "1.5.0",
            "_model_name": "ProgressStyleModel",
            "_view_count": null,
            "_view_module": "@jupyter-widgets/base",
            "_view_module_version": "1.2.0",
            "_view_name": "StyleView",
            "bar_color": null,
            "description_width": ""
          }
        },
        "a1c23a357c8444b486288a545199fb08": {
          "model_module": "@jupyter-widgets/base",
          "model_name": "LayoutModel",
          "model_module_version": "1.2.0",
          "state": {
            "_model_module": "@jupyter-widgets/base",
            "_model_module_version": "1.2.0",
            "_model_name": "LayoutModel",
            "_view_count": null,
            "_view_module": "@jupyter-widgets/base",
            "_view_module_version": "1.2.0",
            "_view_name": "LayoutView",
            "align_content": null,
            "align_items": null,
            "align_self": null,
            "border": null,
            "bottom": null,
            "display": null,
            "flex": null,
            "flex_flow": null,
            "grid_area": null,
            "grid_auto_columns": null,
            "grid_auto_flow": null,
            "grid_auto_rows": null,
            "grid_column": null,
            "grid_gap": null,
            "grid_row": null,
            "grid_template_areas": null,
            "grid_template_columns": null,
            "grid_template_rows": null,
            "height": null,
            "justify_content": null,
            "justify_items": null,
            "left": null,
            "margin": null,
            "max_height": null,
            "max_width": null,
            "min_height": null,
            "min_width": null,
            "object_fit": null,
            "object_position": null,
            "order": null,
            "overflow": null,
            "overflow_x": null,
            "overflow_y": null,
            "padding": null,
            "right": null,
            "top": null,
            "visibility": null,
            "width": null
          }
        },
        "34603e663d6f44ceaf3cfd3251ac9235": {
          "model_module": "@jupyter-widgets/controls",
          "model_name": "DescriptionStyleModel",
          "model_module_version": "1.5.0",
          "state": {
            "_model_module": "@jupyter-widgets/controls",
            "_model_module_version": "1.5.0",
            "_model_name": "DescriptionStyleModel",
            "_view_count": null,
            "_view_module": "@jupyter-widgets/base",
            "_view_module_version": "1.2.0",
            "_view_name": "StyleView",
            "description_width": ""
          }
        },
        "51582efd1cda433c83969d4102f1afec": {
          "model_module": "@jupyter-widgets/controls",
          "model_name": "HBoxModel",
          "model_module_version": "1.5.0",
          "state": {
            "_dom_classes": [],
            "_model_module": "@jupyter-widgets/controls",
            "_model_module_version": "1.5.0",
            "_model_name": "HBoxModel",
            "_view_count": null,
            "_view_module": "@jupyter-widgets/controls",
            "_view_module_version": "1.5.0",
            "_view_name": "HBoxView",
            "box_style": "",
            "children": [
              "IPY_MODEL_c327b321138f49c1a1125819712e2241",
              "IPY_MODEL_0e1f891961094046a5dfd649fddb899f",
              "IPY_MODEL_4b4685952df44a158c7fa10ede267a32"
            ],
            "layout": "IPY_MODEL_8214e8937c1b49e0a089c1fd6fbcddbd"
          }
        },
        "c327b321138f49c1a1125819712e2241": {
          "model_module": "@jupyter-widgets/controls",
          "model_name": "HTMLModel",
          "model_module_version": "1.5.0",
          "state": {
            "_dom_classes": [],
            "_model_module": "@jupyter-widgets/controls",
            "_model_module_version": "1.5.0",
            "_model_name": "HTMLModel",
            "_view_count": null,
            "_view_module": "@jupyter-widgets/controls",
            "_view_module_version": "1.5.0",
            "_view_name": "HTMLView",
            "description": "",
            "description_tooltip": null,
            "layout": "IPY_MODEL_e03b4c28fe084796af85aebacb0cdfa5",
            "placeholder": "​",
            "style": "IPY_MODEL_e6e28495bf5c469db0aab8a0cd7d567c",
            "value": "100%"
          }
        },
        "0e1f891961094046a5dfd649fddb899f": {
          "model_module": "@jupyter-widgets/controls",
          "model_name": "FloatProgressModel",
          "model_module_version": "1.5.0",
          "state": {
            "_dom_classes": [],
            "_model_module": "@jupyter-widgets/controls",
            "_model_module_version": "1.5.0",
            "_model_name": "FloatProgressModel",
            "_view_count": null,
            "_view_module": "@jupyter-widgets/controls",
            "_view_module_version": "1.5.0",
            "_view_name": "ProgressView",
            "bar_style": "",
            "description": "",
            "description_tooltip": null,
            "layout": "IPY_MODEL_8378f5668d664690a2656be0b6941414",
            "max": 5,
            "min": 0,
            "orientation": "horizontal",
            "style": "IPY_MODEL_0b4f80a200d4422890d5e5f0e837c5ac",
            "value": 5
          }
        },
        "4b4685952df44a158c7fa10ede267a32": {
          "model_module": "@jupyter-widgets/controls",
          "model_name": "HTMLModel",
          "model_module_version": "1.5.0",
          "state": {
            "_dom_classes": [],
            "_model_module": "@jupyter-widgets/controls",
            "_model_module_version": "1.5.0",
            "_model_name": "HTMLModel",
            "_view_count": null,
            "_view_module": "@jupyter-widgets/controls",
            "_view_module_version": "1.5.0",
            "_view_name": "HTMLView",
            "description": "",
            "description_tooltip": null,
            "layout": "IPY_MODEL_f431389767e349549fe2d75d7aa06e71",
            "placeholder": "​",
            "style": "IPY_MODEL_32a694df81f541e98e92bf8963a5a982",
            "value": " 5/5 [01:25&lt;00:00, 17.45s/it]"
          }
        },
        "8214e8937c1b49e0a089c1fd6fbcddbd": {
          "model_module": "@jupyter-widgets/base",
          "model_name": "LayoutModel",
          "model_module_version": "1.2.0",
          "state": {
            "_model_module": "@jupyter-widgets/base",
            "_model_module_version": "1.2.0",
            "_model_name": "LayoutModel",
            "_view_count": null,
            "_view_module": "@jupyter-widgets/base",
            "_view_module_version": "1.2.0",
            "_view_name": "LayoutView",
            "align_content": null,
            "align_items": null,
            "align_self": null,
            "border": null,
            "bottom": null,
            "display": null,
            "flex": null,
            "flex_flow": null,
            "grid_area": null,
            "grid_auto_columns": null,
            "grid_auto_flow": null,
            "grid_auto_rows": null,
            "grid_column": null,
            "grid_gap": null,
            "grid_row": null,
            "grid_template_areas": null,
            "grid_template_columns": null,
            "grid_template_rows": null,
            "height": null,
            "justify_content": null,
            "justify_items": null,
            "left": null,
            "margin": null,
            "max_height": null,
            "max_width": null,
            "min_height": null,
            "min_width": null,
            "object_fit": null,
            "object_position": null,
            "order": null,
            "overflow": null,
            "overflow_x": null,
            "overflow_y": null,
            "padding": null,
            "right": null,
            "top": null,
            "visibility": null,
            "width": null
          }
        },
        "e03b4c28fe084796af85aebacb0cdfa5": {
          "model_module": "@jupyter-widgets/base",
          "model_name": "LayoutModel",
          "model_module_version": "1.2.0",
          "state": {
            "_model_module": "@jupyter-widgets/base",
            "_model_module_version": "1.2.0",
            "_model_name": "LayoutModel",
            "_view_count": null,
            "_view_module": "@jupyter-widgets/base",
            "_view_module_version": "1.2.0",
            "_view_name": "LayoutView",
            "align_content": null,
            "align_items": null,
            "align_self": null,
            "border": null,
            "bottom": null,
            "display": null,
            "flex": null,
            "flex_flow": null,
            "grid_area": null,
            "grid_auto_columns": null,
            "grid_auto_flow": null,
            "grid_auto_rows": null,
            "grid_column": null,
            "grid_gap": null,
            "grid_row": null,
            "grid_template_areas": null,
            "grid_template_columns": null,
            "grid_template_rows": null,
            "height": null,
            "justify_content": null,
            "justify_items": null,
            "left": null,
            "margin": null,
            "max_height": null,
            "max_width": null,
            "min_height": null,
            "min_width": null,
            "object_fit": null,
            "object_position": null,
            "order": null,
            "overflow": null,
            "overflow_x": null,
            "overflow_y": null,
            "padding": null,
            "right": null,
            "top": null,
            "visibility": null,
            "width": null
          }
        },
        "e6e28495bf5c469db0aab8a0cd7d567c": {
          "model_module": "@jupyter-widgets/controls",
          "model_name": "DescriptionStyleModel",
          "model_module_version": "1.5.0",
          "state": {
            "_model_module": "@jupyter-widgets/controls",
            "_model_module_version": "1.5.0",
            "_model_name": "DescriptionStyleModel",
            "_view_count": null,
            "_view_module": "@jupyter-widgets/base",
            "_view_module_version": "1.2.0",
            "_view_name": "StyleView",
            "description_width": ""
          }
        },
        "8378f5668d664690a2656be0b6941414": {
          "model_module": "@jupyter-widgets/base",
          "model_name": "LayoutModel",
          "model_module_version": "1.2.0",
          "state": {
            "_model_module": "@jupyter-widgets/base",
            "_model_module_version": "1.2.0",
            "_model_name": "LayoutModel",
            "_view_count": null,
            "_view_module": "@jupyter-widgets/base",
            "_view_module_version": "1.2.0",
            "_view_name": "LayoutView",
            "align_content": null,
            "align_items": null,
            "align_self": null,
            "border": null,
            "bottom": null,
            "display": null,
            "flex": null,
            "flex_flow": null,
            "grid_area": null,
            "grid_auto_columns": null,
            "grid_auto_flow": null,
            "grid_auto_rows": null,
            "grid_column": null,
            "grid_gap": null,
            "grid_row": null,
            "grid_template_areas": null,
            "grid_template_columns": null,
            "grid_template_rows": null,
            "height": null,
            "justify_content": null,
            "justify_items": null,
            "left": null,
            "margin": null,
            "max_height": null,
            "max_width": null,
            "min_height": null,
            "min_width": null,
            "object_fit": null,
            "object_position": null,
            "order": null,
            "overflow": null,
            "overflow_x": null,
            "overflow_y": null,
            "padding": null,
            "right": null,
            "top": null,
            "visibility": null,
            "width": null
          }
        },
        "0b4f80a200d4422890d5e5f0e837c5ac": {
          "model_module": "@jupyter-widgets/controls",
          "model_name": "ProgressStyleModel",
          "model_module_version": "1.5.0",
          "state": {
            "_model_module": "@jupyter-widgets/controls",
            "_model_module_version": "1.5.0",
            "_model_name": "ProgressStyleModel",
            "_view_count": null,
            "_view_module": "@jupyter-widgets/base",
            "_view_module_version": "1.2.0",
            "_view_name": "StyleView",
            "bar_color": null,
            "description_width": ""
          }
        },
        "f431389767e349549fe2d75d7aa06e71": {
          "model_module": "@jupyter-widgets/base",
          "model_name": "LayoutModel",
          "model_module_version": "1.2.0",
          "state": {
            "_model_module": "@jupyter-widgets/base",
            "_model_module_version": "1.2.0",
            "_model_name": "LayoutModel",
            "_view_count": null,
            "_view_module": "@jupyter-widgets/base",
            "_view_module_version": "1.2.0",
            "_view_name": "LayoutView",
            "align_content": null,
            "align_items": null,
            "align_self": null,
            "border": null,
            "bottom": null,
            "display": null,
            "flex": null,
            "flex_flow": null,
            "grid_area": null,
            "grid_auto_columns": null,
            "grid_auto_flow": null,
            "grid_auto_rows": null,
            "grid_column": null,
            "grid_gap": null,
            "grid_row": null,
            "grid_template_areas": null,
            "grid_template_columns": null,
            "grid_template_rows": null,
            "height": null,
            "justify_content": null,
            "justify_items": null,
            "left": null,
            "margin": null,
            "max_height": null,
            "max_width": null,
            "min_height": null,
            "min_width": null,
            "object_fit": null,
            "object_position": null,
            "order": null,
            "overflow": null,
            "overflow_x": null,
            "overflow_y": null,
            "padding": null,
            "right": null,
            "top": null,
            "visibility": null,
            "width": null
          }
        },
        "32a694df81f541e98e92bf8963a5a982": {
          "model_module": "@jupyter-widgets/controls",
          "model_name": "DescriptionStyleModel",
          "model_module_version": "1.5.0",
          "state": {
            "_model_module": "@jupyter-widgets/controls",
            "_model_module_version": "1.5.0",
            "_model_name": "DescriptionStyleModel",
            "_view_count": null,
            "_view_module": "@jupyter-widgets/base",
            "_view_module_version": "1.2.0",
            "_view_name": "StyleView",
            "description_width": ""
          }
        }
      }
    }
  },
  "nbformat": 4,
  "nbformat_minor": 0
}