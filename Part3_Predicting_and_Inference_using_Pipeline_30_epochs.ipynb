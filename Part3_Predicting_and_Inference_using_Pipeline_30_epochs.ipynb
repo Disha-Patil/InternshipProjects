{
  "cells": [
    {
      "cell_type": "markdown",
      "metadata": {
        "id": "6GkxfuQ8ob0R"
      },
      "source": [
        "#About the Data\n",
        "\n",
        "* The data was taken from \n",
        "https://www.eba.europa.eu/sites/default/documents/files/documents/10180/2321183/b67323ac-27fa-482d-926e-ae7ba3e90cb8/Annex%20III%20%28Annex%205%20%28FINREP%29%29.pdf?msclkid=fc3c7b21b0af11ec8242e40ef60465b7\n",
        "\n",
        "* The Data consist of four columns: Rule_number, Text, Topic and Character_count.<br>\n",
        "  - Rule_number: FINREP Rule number.\n",
        "  - Text: List of rules.\n",
        "  - Topic: Category to which the rule belongs.\n",
        " -  Character_count: The number of characters in 'Text'.\n",
        " \n",
        "* Each rule under the the headings<br>\n",
        "\n",
        "  1. Equity\n",
        "  2. Statement of profit or loss \n",
        "  3. Statement of comprehensive income \n",
        "  4. Breakdown of financial assets by instrument and by counterparty sector \n",
        "  5. Breakdown of non-trading loans and advances by product \n",
        "  6. Breakdown of non-trading loans and advances to non-financial corporations by NACE codes\n",
        "  7. Financial assets subject to impairment that are past due \n",
        "  8. Breakdown of financial liabilities\n",
        "  9. Loan commitments, financial guarantees and other commitments \n",
        "  10. Derivatives and hedge accounting\n",
        "  11. Movements in allowances and provisions for credit losses\n",
        "  12. Collateral and guarantees received \n",
        "\n",
        "are taken as a text (page 16 - 46)\n",
        "\n",
        "* Rules are seperated by their rule number. For instance, 'Rule no. 175' and 'Rule no. 175i' are taken as seperate text.\n",
        "\n",
        "\n",
        "\n"
      ]
    },
    {
      "cell_type": "markdown",
      "source": [
        "# Text Preprocessing\n",
        "\n",
        "* The line break ‘\\n’ is removed from the text.\n",
        "\n",
        "* Round and square parantheses are removed.\n",
        "\n",
        "* Text contatined within round paranthesis are removed.\n",
        "\n",
        "* Text contatined within square paranthesis are removed.\n",
        "\n",
        "* No summarization was done.\n"
      ],
      "metadata": {
        "id": "J4warHrgNKP1"
      }
    },
    {
      "cell_type": "markdown",
      "metadata": {
        "id": "jhdSQHY_WYk8"
      },
      "source": [
        "#Fine Tuning DistilBERT model for text classification\n",
        "\n",
        "* The model was trained on 30 epochs and the learning rate was set at 2e-5 and batch size 8\n",
        "\n",
        "* Total time taken to create the dataframe with top 3 rank of predictions in the test data is : 0:00:27 (h:mm:ss)\n",
        "\n",
        "* Data Split:<br>\n",
        "      -Training data: 85 (About 51.51 percent)\n",
        "      -Validation data: 40 (About 24.24 percent)\n",
        "      -Test Data : 40 (About 24.24 percent)\n",
        "\n",
        "* Macro-averaged f1-score<br>\n",
        "      -Training data: 1.00\n",
        "      -Validation data: 0.56\n",
        "      -Test data: 0.39 \n",
        "\n"
      ]
    },
    {
      "cell_type": "markdown",
      "source": [
        "##Memory Allocated"
      ],
      "metadata": {
        "id": "78W_jqfK0KKW"
      }
    },
    {
      "cell_type": "code",
      "execution_count": null,
      "metadata": {
        "colab": {
          "base_uri": "https://localhost:8080/"
        },
        "id": "YPfyym2ucFwG",
        "outputId": "282eadf8-3d3c-46d5-a8b6-1434ee8730f1"
      },
      "outputs": [
        {
          "output_type": "stream",
          "name": "stdout",
          "text": [
            "13G\n"
          ]
        }
      ],
      "source": [
        "!free -h --si | awk  '/Mem:/{print $2}'"
      ]
    },
    {
      "cell_type": "markdown",
      "metadata": {
        "id": "YL1zyJ4CfAY7"
      },
      "source": [
        "##Google Drive access"
      ]
    },
    {
      "cell_type": "code",
      "execution_count": null,
      "metadata": {
        "colab": {
          "base_uri": "https://localhost:8080/"
        },
        "id": "WHOpy9PhfA8w",
        "outputId": "42acae68-5ee0-4ac0-d936-835de8ad274b"
      },
      "outputs": [
        {
          "output_type": "stream",
          "name": "stdout",
          "text": [
            "Mounted at /content/drive\n"
          ]
        }
      ],
      "source": [
        "from google.colab import drive\n",
        "drive.mount('/content/drive')"
      ]
    },
    {
      "cell_type": "markdown",
      "metadata": {
        "id": "udsgVUHAdWJ5"
      },
      "source": [
        "# Data Path"
      ]
    },
    {
      "cell_type": "code",
      "execution_count": null,
      "metadata": {
        "id": "Sh5OBPevdBRe"
      },
      "outputs": [],
      "source": [
        "# write the appropriate paths to retrieve the data and store results \n",
        "saved_path = '/content/drive/MyDrive/Full_Code/FINREP/Parentheses_Removed/Epochs_30/'\n",
        "used_test_data_path = saved_path  + \"Test_data_DistilBERT.csv\""
      ]
    },
    {
      "cell_type": "markdown",
      "metadata": {
        "id": "hhdVBYIGW2mH"
      },
      "source": [
        "## Set-up environment\n",
        "\n",
        "Install the libraries folium version 0.2.1, HuggingFace Transformers and Datasets"
      ]
    },
    {
      "cell_type": "code",
      "execution_count": null,
      "metadata": {
        "id": "bs0-RE3D76PZ",
        "colab": {
          "base_uri": "https://localhost:8080/"
        },
        "outputId": "8ddaff88-cdce-42bc-d1d6-1b1ba4fc2087"
      },
      "outputs": [
        {
          "output_type": "stream",
          "name": "stdout",
          "text": [
            "\u001b[K     |████████████████████████████████| 69 kB 3.4 MB/s \n",
            "\u001b[K     |████████████████████████████████| 4.2 MB 10.7 MB/s \n",
            "\u001b[K     |████████████████████████████████| 346 kB 48.0 MB/s \n",
            "\u001b[K     |████████████████████████████████| 6.6 MB 33.3 MB/s \n",
            "\u001b[K     |████████████████████████████████| 596 kB 57.4 MB/s \n",
            "\u001b[K     |████████████████████████████████| 86 kB 4.5 MB/s \n",
            "\u001b[K     |████████████████████████████████| 140 kB 39.8 MB/s \n",
            "\u001b[K     |████████████████████████████████| 1.1 MB 46.2 MB/s \n",
            "\u001b[K     |████████████████████████████████| 86 kB 4.8 MB/s \n",
            "\u001b[K     |████████████████████████████████| 212 kB 43.3 MB/s \n",
            "\u001b[K     |████████████████████████████████| 127 kB 48.7 MB/s \n",
            "\u001b[K     |████████████████████████████████| 144 kB 46.5 MB/s \n",
            "\u001b[K     |████████████████████████████████| 94 kB 3.3 MB/s \n",
            "\u001b[K     |████████████████████████████████| 271 kB 48.6 MB/s \n",
            "\u001b[?25h  Building wheel for folium (setup.py) ... \u001b[?25l\u001b[?25hdone\n"
          ]
        }
      ],
      "source": [
        "#Install the package folium version 0.2.1 and HuggingFace tranformer and datasets libraries  \n",
        "!pip install -q folium==0.2.1 transformers datasets "
      ]
    },
    {
      "cell_type": "code",
      "execution_count": null,
      "metadata": {
        "colab": {
          "base_uri": "https://localhost:8080/"
        },
        "id": "ohB0CZ-0ejcG",
        "outputId": "28e7dee8-d761-4c1e-8d76-d52118a35753"
      },
      "outputs": [
        {
          "output_type": "stream",
          "name": "stdout",
          "text": [
            "cpu is available\n"
          ]
        }
      ],
      "source": [
        "#Check if GPU is available\n",
        "import torch\n",
        "device = \"cuda:0\" if torch.cuda.is_available() else \"cpu\"\n",
        "print(device, \"is available\")"
      ]
    },
    {
      "cell_type": "markdown",
      "metadata": {
        "id": "r962v9Yresgf"
      },
      "source": [
        "## Loading the Dataset"
      ]
    },
    {
      "cell_type": "code",
      "execution_count": null,
      "metadata": {
        "colab": {
          "base_uri": "https://localhost:8080/"
        },
        "id": "Fjhi7JI1erXN",
        "outputId": "e42c2a7a-02d9-4e13-e4b8-b6e580ebb432"
      },
      "outputs": [
        {
          "output_type": "stream",
          "name": "stdout",
          "text": [
            "<class 'pandas.core.frame.DataFrame'>\n",
            "RangeIndex: 40 entries, 0 to 39\n",
            "Data columns (total 2 columns):\n",
            " #   Column    Non-Null Count  Dtype \n",
            "---  ------    --------------  ----- \n",
            " 0   sentence  40 non-null     object\n",
            " 1   label     40 non-null     object\n",
            "dtypes: object(2)\n",
            "memory usage: 768.0+ bytes\n"
          ]
        }
      ],
      "source": [
        "#Load the data\n",
        "import pandas as pd\n",
        "test_data_df = pd.read_csv(used_test_data_path)\n",
        "test_data_df.info()"
      ]
    },
    {
      "cell_type": "markdown",
      "metadata": {
        "id": "yttlPWjStb6K"
      },
      "source": [
        "Example"
      ]
    },
    {
      "cell_type": "code",
      "execution_count": null,
      "metadata": {
        "colab": {
          "base_uri": "https://localhost:8080/",
          "height": 108
        },
        "id": "RFYBVUTrp0Am",
        "outputId": "026769d4-04f2-4b70-be01-e37831f33476"
      },
      "outputs": [
        {
          "output_type": "execute_result",
          "data": {
            "text/plain": [
              "'‘Fair value changes of financial liabilities at fair value through profit or loss attributable to changes in the credit risk’ shall include accumulated gains and losses recognised in other comprehensive income and related to own credit risk for liabilities designated at fair value through profit or loss, regardless of whether the designation takes place at initial recognition or subsequently.'"
            ],
            "application/vnd.google.colaboratory.intrinsic+json": {
              "type": "string"
            }
          },
          "metadata": {},
          "execution_count": 7
        }
      ],
      "source": [
        "test_data_df.loc[0,'sentence']"
      ]
    },
    {
      "cell_type": "code",
      "execution_count": null,
      "metadata": {
        "colab": {
          "base_uri": "https://localhost:8080/",
          "height": 36
        },
        "id": "KDzSIjeyezwy",
        "outputId": "7ed9b9d6-617c-4bbd-f0fc-8a8e0f359010"
      },
      "outputs": [
        {
          "output_type": "execute_result",
          "data": {
            "text/plain": [
              "'Equity'"
            ],
            "application/vnd.google.colaboratory.intrinsic+json": {
              "type": "string"
            }
          },
          "metadata": {},
          "execution_count": 8
        }
      ],
      "source": [
        "test_data_df.loc[0,'label']"
      ]
    },
    {
      "cell_type": "code",
      "execution_count": null,
      "metadata": {
        "id": "CC7siQgaibti"
      },
      "outputs": [],
      "source": [
        "#Import the librarires required for the function get_top3_rank\n",
        "import torch\n",
        "import transformers\n",
        "from datasets import load_dataset\n",
        "from transformers import AutoTokenizer\n",
        "from transformers import logging\n",
        "from transformers import AutoModelForSequenceClassification\n",
        "from torch.optim import AdamW \n",
        "from transformers import pipeline\n",
        "import numpy as np\n",
        "import time"
      ]
    },
    {
      "cell_type": "code",
      "execution_count": null,
      "metadata": {
        "id": "qVsE89ZP5EgN"
      },
      "outputs": [],
      "source": [
        "#Create a function for formatting elapsed times as hh:mm:ss\n",
        "import datetime\n",
        "\n",
        "def format_time(elapsed):\n",
        "    '''\n",
        "    Takes a time in seconds and returns a string hh:mm:ss\n",
        "    '''\n",
        "    # Round to the nearest second.\n",
        "    elapsed_rounded = int(round((elapsed)))\n",
        "    \n",
        "    # Format as hh:mm:ss\n",
        "    return str(datetime.timedelta(seconds=elapsed_rounded))"
      ]
    },
    {
      "cell_type": "code",
      "execution_count": null,
      "metadata": {
        "id": "J8qwYERud439"
      },
      "outputs": [],
      "source": [
        "def get_top3_rank(df,column_name):\n",
        "  \"\"\"\n",
        "  df: the input dataframe containg text\n",
        "  column_name : the text column containg the input text\n",
        "  the function get_top3_rank outputs rank_df the dataframe that contains the top 3 ranks\n",
        "  \"\"\"\n",
        "  ############################################################################################################\n",
        "  #Function to create DistilBERT pipeline\n",
        "  ############################################################################################################\n",
        "  def get_rank_dataframe(df,column_name):\n",
        "    \"\"\"\n",
        "    df: the input dataframe containg text\n",
        "    column_name : the text column containg the input text\n",
        "    the function get_rank_dataframe returns the dataframe with top3 ranks\n",
        "    \"\"\"\n",
        "    ############################################################################################################\n",
        "    #Check if GPU is Available or not\n",
        "    ############################################################################################################\n",
        "    device = \"cuda:0\" if torch.cuda.is_available() else \"cpu\"\n",
        "    ############################################################################################################\n",
        "    #Write the appropriate paths to retrieve the data \n",
        "    ############################################################################################################\n",
        "    user_path = '/content/drive/MyDrive/Full_Code/FINREP/Parentheses_Removed/Epochs_30/'\n",
        "    best_model_path = user_path + \"best_model/best_model.pt\"\n",
        "    label2id_df_path = user_path + \"label2id_df.csv\"\n",
        "    ############################################################################################################\n",
        "    #Create a label2id dictionary to map label and index\n",
        "    ############################################################################################################\n",
        "    labels2id_df = pd.read_csv(label2id_df_path)\n",
        "    labels = labels2id_df.columns.to_list()\n",
        "    ids = [int(i) for i in labels2id_df.loc[0,:]]\n",
        "    id2label = {A: B for A, B in zip(ids, labels)} \n",
        "    label2id = {A: B for A, B in zip(labels,ids)} \n",
        "    labels = list(labels)\n",
        "    ############################################################################################################\n",
        "    #Load the tokenizer\n",
        "    ############################################################################################################\n",
        "    tokenizer = AutoTokenizer.from_pretrained('distilbert-base-cased',num_labels=len(labels))\n",
        "    logging.set_verbosity_error()\n",
        "    ############################################################################################################\n",
        "    #Load the best model\n",
        "    ############################################################################################################\n",
        "    model_best = AutoModelForSequenceClassification.from_pretrained(\"distilbert-base-cased\",\n",
        "                                                           num_labels=len(labels),\n",
        "                                                           id2label=id2label,\n",
        "                                                           label2id=label2id)\n",
        "\n",
        "\n",
        "    model_best.to(device)\n",
        "    ############################################################################################################\n",
        "    #SET THE PARAMETERS\n",
        "    fixed_learning_rate = 2e-5\n",
        "    fixed_batch_size = 8\n",
        "    ############################################################################################################\n",
        "    #LOAD THE OPTIMZER\n",
        "    #Optimizer\n",
        "    optimizer_best = AdamW(model_best.parameters(),lr = fixed_learning_rate)\n",
        "    ############################################################################################################\n",
        "    # The function load_chkp is created for loading model\n",
        "    def load_ckp(checkpoint_fpath, model, optimizer):\n",
        "      \"\"\"\n",
        "      checkpoint_path: path to save checkpoint\n",
        "      model: model that we want to load checkpoint parameters into       \n",
        "      optimizer: optimizer we defined in previous training\n",
        "      \"\"\"\n",
        "      # load check point\n",
        "      checkpoint = torch.load(checkpoint_fpath,map_location=torch.device('cpu'))\n",
        "      # initialize state_dict from checkpoint to model\n",
        "      model.load_state_dict(checkpoint['state_dict'])\n",
        "      # initialize optimizer from checkpoint to optimizer\n",
        "      optimizer.load_state_dict(checkpoint['optimizer'])\n",
        "      # initialize valid_loss_min from checkpoint to valid_loss_min\n",
        "      valid_loss_min = checkpoint['valid_loss_min']\n",
        "      # return model, optimizer, epoch value, min validation loss \n",
        "      return model, optimizer, checkpoint['epoch'], valid_loss_min\n",
        "\n",
        "    # load the saved checkpoint\n",
        "    model_best, optimizer_best, end_epoch, valid_loss_min = load_ckp(best_model_path, model_best, optimizer_best)\n",
        "    ############################################################################################################\n",
        "    #Get inference from the DistilBERT pipline\n",
        "    ############################################################################################################  \n",
        "    #set the device_value\n",
        "    if device == 'cuda:0':\n",
        "        device_value = 0\n",
        "    else:\n",
        "        device_value =-1\n",
        "\n",
        "     #Create the DistilBERT pipeline\n",
        "    MAX_LENGTH = model_best.config.max_position_embeddings\n",
        "  \n",
        "    distilbert_nlp = pipeline(task=\"sentiment-analysis\", return_all_scores = True, model=model_best, tokenizer=tokenizer,\n",
        "                              device= device_value, max_length = MAX_LENGTH , truncation=True)\n",
        "    ############################################################################################################\n",
        "    #Return the result in a data frame\n",
        "    ############################################################################################################\n",
        "    labels_rank_list=[]\n",
        "    labels_score_list=[]\n",
        "    def get_rank(example,fix_rank = 3):\n",
        "      result_value = distilbert_nlp(example)\n",
        "      sorted_value = sorted(result_value[0], key=lambda k: k['score'],reverse = True)\n",
        "      new_dictionary_label = {'predicted_label_' + str(i+1): sorted_value[i]['label'] for i in range(fix_rank)}\n",
        "      new_dictionary_score = {'predicted_percentage_' + str(i+1): 100 * sorted_value[i]['score'] for i in range(fix_rank)}\n",
        "      labels_rank_list.append(new_dictionary_label)\n",
        "      labels_score_list.append(new_dictionary_score)\n",
        "    df[column_name].map(lambda row : get_rank(row,fix_rank = 3))\n",
        "    list2d_rank = {key: [i[key] for i in labels_rank_list] for key in labels_rank_list[0]}\n",
        "    list2d_score = {key: [i[key] for i in labels_score_list] for key in labels_score_list[0]}\n",
        "    predicted_dataframe = pd.concat([df,pd.DataFrame(list2d_rank),pd.DataFrame(list2d_score)], axis=1)\n",
        "    predicted_dataframe.rename(columns = {'label':'true_label'}, inplace = True)\n",
        "    return predicted_dataframe\n",
        "  start_t0 = time.time()\n",
        "  rank_df = get_rank_dataframe(df,column_name)\n",
        "  print(\"\\nTotal time taken to create the dataframe: {:} (h:mm:ss)\".format(format_time(time.time() - start_t0)))\n",
        "  return rank_df"
      ]
    },
    {
      "cell_type": "code",
      "execution_count": null,
      "metadata": {
        "colab": {
          "base_uri": "https://localhost:8080/",
          "height": 213,
          "referenced_widgets": [
            "2006277ec0ca45de8ccaf0f983f5cdc5",
            "af8fabf0b4084583812d8cd460a4bcc5",
            "4be7c141eb984e3992f8736e62520d4c",
            "9ab7836cfeee4711b74012e7a88837cb",
            "dc41805ab48347118a08c3f2a8c5a442",
            "24eff69622ba4375a5e04d453456cd75",
            "3b1138a1e9e642ec955e6b42a121d785",
            "10f02233ff684212933c28245455e428",
            "0ca32447d07943d68b07a2ebf43287c9",
            "a23952e6550b48369d3a5e2eef94e7fe",
            "92241a4fdf2e4f44a434ad99cb3c8943",
            "ed4cedee07944354a82b84175d5542bd",
            "346f7cc8b59e45a7adbcc1904583497c",
            "22b7882b5228453388b41ee3a2f01bd4",
            "dd556f56ccc8412ba46d1cf0cdb328a6",
            "fbb41d88182b4e099494390731d6019d",
            "e128c691a83048098f2a281c056f4363",
            "18c6886b266b4989a24d1d883888033c",
            "617d209e987e42beb2152616f7035af5",
            "e9ebcfb597594deda2edf825deb77b81",
            "b2c7bbc918344fc289de6074be3c5514",
            "b277220d320043f7ae266bcf5078dcbb",
            "b78024ce6dfa48499709464e4d266d65",
            "6be854a2d84b431b8d4f97e8346660bc",
            "aa1fd3900614485bba377f716537f686",
            "5f5916302d2a4515872f627a5bb38b54",
            "e28d28f1b0a54119b9f80249cff765f9",
            "cec00c65fc954a85ab3834ab9c06671c",
            "21c3fb5767af4ae7aa8da6697b36d9c3",
            "93679be0d89c40ba83efe88237638662",
            "be5c7e0c0ff74dd585d2a4c023044a83",
            "7c5433362f4c4c30a04ae888605bf633",
            "c70e3b1cd1154b54951d6ae459bee8c8",
            "d8e945b6a6f941f5bca21f0dc4847388",
            "f63c5bc34c6144918151cca9fdc2b559",
            "1b718cf66ada4917a5f1565f1a2b218f",
            "09afc2e76ea24231959f4cc62591c94a",
            "9af46e1aba744ff29a7a9257ca9067f8",
            "b107089bf6fe4d5fac0fb3038ed349ad",
            "686e71dab52b420b952a93f329e1969c",
            "ab426ac49f814ccf89a373ab448465c0",
            "f03d952e045e4d7c84aa7cb9d00d75be",
            "289fa47b06c345bfa3dd66731ebd79a2",
            "69a8549028064289bc082957dc49524d",
            "0f0c070302db44fe88cf88f7092edb69",
            "d13ae9755f0843248f5edf4c2b248beb",
            "4e06a4673c4f421d84a0a66ed36a4161",
            "e023456d8d0943e3a0ecb4ef72b1729a",
            "8514350e8a514f2ea7c2a02d64c9fba4",
            "2417b7ad605445e68f6b3bdc09b9a546",
            "2f922998c7114f8aafb7de370733e7e6",
            "45458a5b4aed41918da379614a3b1050",
            "c58dc8e97a5d44b2a8133d483314f757",
            "bb285187c09e48daa6cbb485391c681c",
            "c48fae70767d4c60868c4e588051a0b4"
          ]
        },
        "id": "XriWjHJAhFSS",
        "outputId": "355d6c3d-9665-47ff-fa8c-0c49104a3c36"
      },
      "outputs": [
        {
          "output_type": "display_data",
          "data": {
            "text/plain": [
              "Downloading:   0%|          | 0.00/29.0 [00:00<?, ?B/s]"
            ],
            "application/vnd.jupyter.widget-view+json": {
              "version_major": 2,
              "version_minor": 0,
              "model_id": "2006277ec0ca45de8ccaf0f983f5cdc5"
            }
          },
          "metadata": {}
        },
        {
          "output_type": "display_data",
          "data": {
            "text/plain": [
              "Downloading:   0%|          | 0.00/411 [00:00<?, ?B/s]"
            ],
            "application/vnd.jupyter.widget-view+json": {
              "version_major": 2,
              "version_minor": 0,
              "model_id": "ed4cedee07944354a82b84175d5542bd"
            }
          },
          "metadata": {}
        },
        {
          "output_type": "display_data",
          "data": {
            "text/plain": [
              "Downloading:   0%|          | 0.00/208k [00:00<?, ?B/s]"
            ],
            "application/vnd.jupyter.widget-view+json": {
              "version_major": 2,
              "version_minor": 0,
              "model_id": "b78024ce6dfa48499709464e4d266d65"
            }
          },
          "metadata": {}
        },
        {
          "output_type": "display_data",
          "data": {
            "text/plain": [
              "Downloading:   0%|          | 0.00/426k [00:00<?, ?B/s]"
            ],
            "application/vnd.jupyter.widget-view+json": {
              "version_major": 2,
              "version_minor": 0,
              "model_id": "d8e945b6a6f941f5bca21f0dc4847388"
            }
          },
          "metadata": {}
        },
        {
          "output_type": "display_data",
          "data": {
            "text/plain": [
              "Downloading:   0%|          | 0.00/251M [00:00<?, ?B/s]"
            ],
            "application/vnd.jupyter.widget-view+json": {
              "version_major": 2,
              "version_minor": 0,
              "model_id": "0f0c070302db44fe88cf88f7092edb69"
            }
          },
          "metadata": {}
        },
        {
          "output_type": "stream",
          "name": "stdout",
          "text": [
            "\n",
            "Total time taken to create the dataframe: 0:00:27 (h:mm:ss)\n"
          ]
        }
      ],
      "source": [
        "#Call the function get_top3_rank using the input test_data_df and 'sentence' column in test_data_df to return the dataframe with top 3 rank\n",
        "top3_df = get_top3_rank(test_data_df,'sentence')"
      ]
    },
    {
      "cell_type": "code",
      "execution_count": null,
      "metadata": {
        "id": "4d2Erai0-lK3",
        "colab": {
          "base_uri": "https://localhost:8080/",
          "height": 643
        },
        "outputId": "7d0b6519-499f-4338-f7b9-25c01ef1f1e2"
      },
      "outputs": [
        {
          "output_type": "execute_result",
          "data": {
            "text/plain": [
              "                                            sentence  \\\n",
              "0  ‘Fair value changes of financial liabilities a...   \n",
              "1  ‘Other reserves’ shall be split between ‘Reser...   \n",
              "2  The column ‘of which: Instruments with low cre...   \n",
              "3  Loans and advances shall be classified on the ...   \n",
              "4  In template 4.5 institutions shall report the ...   \n",
              "\n",
              "                                          true_label  \\\n",
              "0                                             Equity   \n",
              "1                                             Equity   \n",
              "2  BREAKDOWN OF FINANCIAL ASSETS BY INSTRUMENT AN...   \n",
              "3  BREAKDOWN OF NON-TRADING LOANS AND ADVANCES BY...   \n",
              "4  BREAKDOWN OF FINANCIAL ASSETS BY INSTRUMENT AN...   \n",
              "\n",
              "                                   predicted_label_1  \\\n",
              "0                        STATEMENT OF PROFIT OR LOSS   \n",
              "1                        STATEMENT OF PROFIT OR LOSS   \n",
              "2                                             Equity   \n",
              "3  BREAKDOWN OF NON-TRADING LOANS AND ADVANCES BY...   \n",
              "4  BREAKDOWN OF NON-TRADING LOANS AND ADVANCES BY...   \n",
              "\n",
              "                    predicted_label_2  \\\n",
              "0   STATEMENT OF COMPREHENSIVE INCOME   \n",
              "1   STATEMENT OF COMPREHENSIVE INCOME   \n",
              "2    DERIVATIVES AND HEDGE ACCOUNTING   \n",
              "3         STATEMENT OF PROFIT OR LOSS   \n",
              "4  BREAKDOWN OF FINANCIAL LIABILITIES   \n",
              "\n",
              "                                   predicted_label_3  predicted_percentage_1  \\\n",
              "0                   DERIVATIVES AND HEDGE ACCOUNTING               95.935446   \n",
              "1                   DERIVATIVES AND HEDGE ACCOUNTING               95.799869   \n",
              "2  BREAKDOWN OF FINANCIAL ASSETS BY INSTRUMENT AN...               30.556265   \n",
              "3                  STATEMENT OF COMPREHENSIVE INCOME               74.241030   \n",
              "4  LOAN COMMITMENTS, FINANCIAL GUARANTEES AND OTH...               31.360132   \n",
              "\n",
              "   predicted_percentage_2  predicted_percentage_3  \n",
              "0                0.921523                0.516228  \n",
              "1                0.841799                0.429302  \n",
              "2               23.373662               13.460946  \n",
              "3                6.056045                2.560496  \n",
              "4               19.698374               16.263859  "
            ],
            "text/html": [
              "<div>\n",
              "<style scoped>\n",
              "    .dataframe tbody tr th:only-of-type {\n",
              "        vertical-align: middle;\n",
              "    }\n",
              "\n",
              "    .dataframe tbody tr th {\n",
              "        vertical-align: top;\n",
              "    }\n",
              "\n",
              "    .dataframe thead th {\n",
              "        text-align: right;\n",
              "    }\n",
              "</style>\n",
              "<table border=\"1\" class=\"dataframe\">\n",
              "  <thead>\n",
              "    <tr style=\"text-align: right;\">\n",
              "      <th></th>\n",
              "      <th>sentence</th>\n",
              "      <th>true_label</th>\n",
              "      <th>predicted_label_1</th>\n",
              "      <th>predicted_label_2</th>\n",
              "      <th>predicted_label_3</th>\n",
              "      <th>predicted_percentage_1</th>\n",
              "      <th>predicted_percentage_2</th>\n",
              "      <th>predicted_percentage_3</th>\n",
              "    </tr>\n",
              "  </thead>\n",
              "  <tbody>\n",
              "    <tr>\n",
              "      <th>0</th>\n",
              "      <td>‘Fair value changes of financial liabilities a...</td>\n",
              "      <td>Equity</td>\n",
              "      <td>STATEMENT OF PROFIT OR LOSS</td>\n",
              "      <td>STATEMENT OF COMPREHENSIVE INCOME</td>\n",
              "      <td>DERIVATIVES AND HEDGE ACCOUNTING</td>\n",
              "      <td>95.935446</td>\n",
              "      <td>0.921523</td>\n",
              "      <td>0.516228</td>\n",
              "    </tr>\n",
              "    <tr>\n",
              "      <th>1</th>\n",
              "      <td>‘Other reserves’ shall be split between ‘Reser...</td>\n",
              "      <td>Equity</td>\n",
              "      <td>STATEMENT OF PROFIT OR LOSS</td>\n",
              "      <td>STATEMENT OF COMPREHENSIVE INCOME</td>\n",
              "      <td>DERIVATIVES AND HEDGE ACCOUNTING</td>\n",
              "      <td>95.799869</td>\n",
              "      <td>0.841799</td>\n",
              "      <td>0.429302</td>\n",
              "    </tr>\n",
              "    <tr>\n",
              "      <th>2</th>\n",
              "      <td>The column ‘of which: Instruments with low cre...</td>\n",
              "      <td>BREAKDOWN OF FINANCIAL ASSETS BY INSTRUMENT AN...</td>\n",
              "      <td>Equity</td>\n",
              "      <td>DERIVATIVES AND HEDGE ACCOUNTING</td>\n",
              "      <td>BREAKDOWN OF FINANCIAL ASSETS BY INSTRUMENT AN...</td>\n",
              "      <td>30.556265</td>\n",
              "      <td>23.373662</td>\n",
              "      <td>13.460946</td>\n",
              "    </tr>\n",
              "    <tr>\n",
              "      <th>3</th>\n",
              "      <td>Loans and advances shall be classified on the ...</td>\n",
              "      <td>BREAKDOWN OF NON-TRADING LOANS AND ADVANCES BY...</td>\n",
              "      <td>BREAKDOWN OF NON-TRADING LOANS AND ADVANCES BY...</td>\n",
              "      <td>STATEMENT OF PROFIT OR LOSS</td>\n",
              "      <td>STATEMENT OF COMPREHENSIVE INCOME</td>\n",
              "      <td>74.241030</td>\n",
              "      <td>6.056045</td>\n",
              "      <td>2.560496</td>\n",
              "    </tr>\n",
              "    <tr>\n",
              "      <th>4</th>\n",
              "      <td>In template 4.5 institutions shall report the ...</td>\n",
              "      <td>BREAKDOWN OF FINANCIAL ASSETS BY INSTRUMENT AN...</td>\n",
              "      <td>BREAKDOWN OF NON-TRADING LOANS AND ADVANCES BY...</td>\n",
              "      <td>BREAKDOWN OF FINANCIAL LIABILITIES</td>\n",
              "      <td>LOAN COMMITMENTS, FINANCIAL GUARANTEES AND OTH...</td>\n",
              "      <td>31.360132</td>\n",
              "      <td>19.698374</td>\n",
              "      <td>16.263859</td>\n",
              "    </tr>\n",
              "  </tbody>\n",
              "</table>\n",
              "</div>"
            ]
          },
          "metadata": {},
          "execution_count": 13
        }
      ],
      "source": [
        "#Display the first five entries in the data frame top3_df\n",
        "top3_df.head()"
      ]
    },
    {
      "cell_type": "markdown",
      "metadata": {
        "id": "Ec8FxTqmhYc5"
      },
      "source": [
        "Let's create a list that contains the labels, as well as 2 dictionaries that map labels to integers and back."
      ]
    },
    {
      "cell_type": "code",
      "execution_count": null,
      "metadata": {
        "colab": {
          "base_uri": "https://localhost:8080/",
          "height": 239
        },
        "id": "oMCdQQZzhbEO",
        "outputId": "ec1ed782-5d5b-45e1-9c2e-f0436044ef8f"
      },
      "outputs": [
        {
          "output_type": "execute_result",
          "data": {
            "text/plain": [
              "   BREAKDOWN OF FINANCIAL ASSETS BY INSTRUMENT AND BY COUNTERPARTY SECTOR  \\\n",
              "0                                                  0                        \n",
              "\n",
              "   BREAKDOWN OF FINANCIAL LIABILITIES  \\\n",
              "0                                   1   \n",
              "\n",
              "   BREAKDOWN OF NON-TRADING LOANS AND ADVANCES BY PRODUCT  \\\n",
              "0                                                  2        \n",
              "\n",
              "   BREAKDOWN OF NON-TRADING LOANS AND ADVANCES TO NON-FINANCIAL CORPORATIONS BY NACE CODES  \\\n",
              "0                                                  3                                         \n",
              "\n",
              "   COLLATERAL AND GUARANTEES RECEIVED  DERIVATIVES AND HEDGE ACCOUNTING  \\\n",
              "0                                   4                                 5   \n",
              "\n",
              "   Equity  FINANCIAL ASSETS SUBJECT TO IMPAIRMENT THAT ARE PAST DUE  \\\n",
              "0       6                                                  7          \n",
              "\n",
              "   LOAN COMMITMENTS, FINANCIAL GUARANTEES AND OTHER COMMITMENTS  \\\n",
              "0                                                  8              \n",
              "\n",
              "   MOVEMENTS IN ALLOWANCES AND PROVISIONS FOR CREDIT LOSSES  \\\n",
              "0                                                  9          \n",
              "\n",
              "   STATEMENT OF COMPREHENSIVE INCOME  STATEMENT OF PROFIT OR LOSS  \n",
              "0                                 10                           11  "
            ],
            "text/html": [
              "<div>\n",
              "<style scoped>\n",
              "    .dataframe tbody tr th:only-of-type {\n",
              "        vertical-align: middle;\n",
              "    }\n",
              "\n",
              "    .dataframe tbody tr th {\n",
              "        vertical-align: top;\n",
              "    }\n",
              "\n",
              "    .dataframe thead th {\n",
              "        text-align: right;\n",
              "    }\n",
              "</style>\n",
              "<table border=\"1\" class=\"dataframe\">\n",
              "  <thead>\n",
              "    <tr style=\"text-align: right;\">\n",
              "      <th></th>\n",
              "      <th>BREAKDOWN OF FINANCIAL ASSETS BY INSTRUMENT AND BY COUNTERPARTY SECTOR</th>\n",
              "      <th>BREAKDOWN OF FINANCIAL LIABILITIES</th>\n",
              "      <th>BREAKDOWN OF NON-TRADING LOANS AND ADVANCES BY PRODUCT</th>\n",
              "      <th>BREAKDOWN OF NON-TRADING LOANS AND ADVANCES TO NON-FINANCIAL CORPORATIONS BY NACE CODES</th>\n",
              "      <th>COLLATERAL AND GUARANTEES RECEIVED</th>\n",
              "      <th>DERIVATIVES AND HEDGE ACCOUNTING</th>\n",
              "      <th>Equity</th>\n",
              "      <th>FINANCIAL ASSETS SUBJECT TO IMPAIRMENT THAT ARE PAST DUE</th>\n",
              "      <th>LOAN COMMITMENTS, FINANCIAL GUARANTEES AND OTHER COMMITMENTS</th>\n",
              "      <th>MOVEMENTS IN ALLOWANCES AND PROVISIONS FOR CREDIT LOSSES</th>\n",
              "      <th>STATEMENT OF COMPREHENSIVE INCOME</th>\n",
              "      <th>STATEMENT OF PROFIT OR LOSS</th>\n",
              "    </tr>\n",
              "  </thead>\n",
              "  <tbody>\n",
              "    <tr>\n",
              "      <th>0</th>\n",
              "      <td>0</td>\n",
              "      <td>1</td>\n",
              "      <td>2</td>\n",
              "      <td>3</td>\n",
              "      <td>4</td>\n",
              "      <td>5</td>\n",
              "      <td>6</td>\n",
              "      <td>7</td>\n",
              "      <td>8</td>\n",
              "      <td>9</td>\n",
              "      <td>10</td>\n",
              "      <td>11</td>\n",
              "    </tr>\n",
              "  </tbody>\n",
              "</table>\n",
              "</div>"
            ]
          },
          "metadata": {},
          "execution_count": 14
        }
      ],
      "source": [
        "label2id_df_path = '/content/drive/MyDrive/Full_Code/FINREP/Parentheses_Removed/Epochs_30/label2id_df.csv'\n",
        "labels2id_df = pd.read_csv(label2id_df_path)\n",
        "labels2id_df"
      ]
    },
    {
      "cell_type": "code",
      "execution_count": null,
      "metadata": {
        "id": "bLQPkvLhhd0d"
      },
      "outputs": [],
      "source": [
        "labels = labels2id_df.columns.to_list()\n",
        "ids = [int(i) for i in labels2id_df.loc[0,:]]\n",
        "id2label = {A: B for A, B in zip(ids, labels)} \n",
        "label2id = {A: B for A, B in zip(labels,ids)} \n",
        "labels = list(labels)"
      ]
    },
    {
      "cell_type": "markdown",
      "metadata": {
        "id": "R6NCl_g6hhXb"
      },
      "source": [
        "The dataset consists of 12 labels."
      ]
    },
    {
      "cell_type": "code",
      "source": [
        "from sklearn.metrics import confusion_matrix\n",
        "import matplotlib.pyplot as plt\n",
        "import seaborn as sns\n",
        "True_labels = top3_df[\"true_label\"].to_list() \n",
        "Predicted_labels = top3_df[\"predicted_label_1\"].to_list() \n",
        "cm = confusion_matrix(True_labels, Predicted_labels)\n",
        "#plot the confusion matrix\n",
        "print(\"The confusion matrix is : \\n\")\n",
        "plt.figure(figsize=(20,15))\n",
        "sns.set(font_scale=1.25)\n",
        "ax =sns.heatmap(cm, annot=True, fmt='d',cbar=False,xticklabels=labels, yticklabels=labels,cmap=\"YlOrBr\",annot_kws={\"size\": 18})\n",
        "ax.set(xlabel='Predicted Labels', ylabel='True Labels')\n",
        "plt.show()"
      ],
      "metadata": {
        "colab": {
          "base_uri": "https://localhost:8080/",
          "height": 725
        },
        "id": "jFuI4vYp_1mU",
        "outputId": "0cbb4d09-7c62-436f-d2d2-f60e642c6118"
      },
      "execution_count": null,
      "outputs": [
        {
          "output_type": "stream",
          "name": "stdout",
          "text": [
            "The confusion matrix is : \n",
            "\n"
          ]
        },
        {
          "output_type": "display_data",
          "data": {
            "text/plain": [
              "<Figure size 1440x1080 with 1 Axes>"
            ],
            "image/png": "[encoded data removed]"
          },
          "metadata": {
            "needs_background": "light"
          }
        }
      ]
    },
    {
      "cell_type": "code",
      "source": [
        "#Display Classification Report\n",
        "from sklearn.metrics import classification_report\n",
        "print(classification_report(True_labels, Predicted_labels,zero_division=0))"
      ],
      "metadata": {
        "colab": {
          "base_uri": "https://localhost:8080/"
        },
        "id": "b3eqNAVHEQj6",
        "outputId": "148a82b5-c426-4dc1-fef0-5dfd4e3fb9d7"
      },
      "execution_count": null,
      "outputs": [
        {
          "output_type": "stream",
          "name": "stdout",
          "text": [
            "                                                                                         precision    recall  f1-score   support\n",
            "\n",
            "                 BREAKDOWN OF FINANCIAL ASSETS BY INSTRUMENT AND BY COUNTERPARTY SECTOR       1.00      0.25      0.40         4\n",
            "                                                     BREAKDOWN OF FINANCIAL LIABILITIES       0.00      0.00      0.00         1\n",
            "                                 BREAKDOWN OF NON-TRADING LOANS AND ADVANCES BY PRODUCT       0.33      1.00      0.50         1\n",
            "BREAKDOWN OF NON-TRADING LOANS AND ADVANCES TO NON-FINANCIAL CORPORATIONS BY NACE CODES       0.00      0.00      0.00         1\n",
            "                                                     COLLATERAL AND GUARANTEES RECEIVED       1.00      0.50      0.67         2\n",
            "                                                       DERIVATIVES AND HEDGE ACCOUNTING       0.71      0.62      0.67         8\n",
            "                                                                                 Equity       0.00      0.00      0.00         3\n",
            "                               FINANCIAL ASSETS SUBJECT TO IMPAIRMENT THAT ARE PAST DUE       0.00      0.00      0.00         1\n",
            "                           LOAN COMMITMENTS, FINANCIAL GUARANTEES AND OTHER COMMITMENTS       0.80      0.80      0.80         5\n",
            "                               MOVEMENTS IN ALLOWANCES AND PROVISIONS FOR CREDIT LOSSES       0.62      1.00      0.77         5\n",
            "                                                      STATEMENT OF COMPREHENSIVE INCOME       0.33      0.33      0.33         3\n",
            "                                                            STATEMENT OF PROFIT OR LOSS       0.44      0.67      0.53         6\n",
            "\n",
            "                                                                               accuracy                           0.55        40\n",
            "                                                                              macro avg       0.44      0.43      0.39        40\n",
            "                                                                           weighted avg       0.57      0.55      0.52        40\n",
            "\n"
          ]
        }
      ]
    },
    {
      "cell_type": "code",
      "source": [
        "# Calculate the First Prediction Percentages\n",
        "top3_df[\"First_Prediction_Percentage\"] = (top3_df[\"true_label\"]  == top3_df['predicted_label_1']) * 100\n",
        "# Calculate the First and Second Prediction Percentages\n",
        "top3_df[\"First_and_Second_Prediction_Percentage\"] = ((top3_df[\"true_label\"]  == top3_df['predicted_label_1']) |((top3_df[\"true_label\"]  == top3_df['predicted_label_2']))) * 100"
      ],
      "metadata": {
        "id": "QxKiuLfZCji1"
      },
      "execution_count": null,
      "outputs": []
    },
    {
      "cell_type": "code",
      "source": [
        "# Calculate the accuracy of First and Second Predictions\n",
        "accuracy_df = top3_df.loc[:,['true_label',\"First_Prediction_Percentage\", \"First_and_Second_Prediction_Percentage\"]].groupby('true_label').mean() \n",
        "accuracy_df "
      ],
      "metadata": {
        "colab": {
          "base_uri": "https://localhost:8080/",
          "height": 822
        },
        "id": "K7enUIhvFctw",
        "outputId": "2f35cb26-d61f-4704-ed1d-afd77192fd49"
      },
      "execution_count": null,
      "outputs": [
        {
          "output_type": "execute_result",
          "data": {
            "text/plain": [
              "                                                    First_Prediction_Percentage  \\\n",
              "true_label                                                                        \n",
              "BREAKDOWN OF FINANCIAL ASSETS BY INSTRUMENT AND...                    25.000000   \n",
              "BREAKDOWN OF FINANCIAL LIABILITIES                                     0.000000   \n",
              "BREAKDOWN OF NON-TRADING LOANS AND ADVANCES BY ...                   100.000000   \n",
              "BREAKDOWN OF NON-TRADING LOANS AND ADVANCES TO ...                     0.000000   \n",
              "COLLATERAL AND GUARANTEES RECEIVED                                    50.000000   \n",
              "DERIVATIVES AND HEDGE ACCOUNTING                                      62.500000   \n",
              "Equity                                                                 0.000000   \n",
              "FINANCIAL ASSETS SUBJECT TO IMPAIRMENT THAT ARE...                     0.000000   \n",
              "LOAN COMMITMENTS, FINANCIAL GUARANTEES AND OTHE...                    80.000000   \n",
              "MOVEMENTS IN ALLOWANCES AND PROVISIONS FOR CRED...                   100.000000   \n",
              "STATEMENT OF COMPREHENSIVE INCOME                                     33.333333   \n",
              "STATEMENT OF PROFIT OR LOSS                                           66.666667   \n",
              "\n",
              "                                                    First_and_Second_Prediction_Percentage  \n",
              "true_label                                                                                  \n",
              "BREAKDOWN OF FINANCIAL ASSETS BY INSTRUMENT AND...                               25.000000  \n",
              "BREAKDOWN OF FINANCIAL LIABILITIES                                                0.000000  \n",
              "BREAKDOWN OF NON-TRADING LOANS AND ADVANCES BY ...                              100.000000  \n",
              "BREAKDOWN OF NON-TRADING LOANS AND ADVANCES TO ...                                0.000000  \n",
              "COLLATERAL AND GUARANTEES RECEIVED                                               50.000000  \n",
              "DERIVATIVES AND HEDGE ACCOUNTING                                                 75.000000  \n",
              "Equity                                                                            0.000000  \n",
              "FINANCIAL ASSETS SUBJECT TO IMPAIRMENT THAT ARE...                                0.000000  \n",
              "LOAN COMMITMENTS, FINANCIAL GUARANTEES AND OTHE...                               80.000000  \n",
              "MOVEMENTS IN ALLOWANCES AND PROVISIONS FOR CRED...                              100.000000  \n",
              "STATEMENT OF COMPREHENSIVE INCOME                                                66.666667  \n",
              "STATEMENT OF PROFIT OR LOSS                                                     100.000000  "
            ],
            "text/html": [
              "<div>\n",
              "<style scoped>\n",
              "    .dataframe tbody tr th:only-of-type {\n",
              "        vertical-align: middle;\n",
              "    }\n",
              "\n",
              "    .dataframe tbody tr th {\n",
              "        vertical-align: top;\n",
              "    }\n",
              "\n",
              "    .dataframe thead th {\n",
              "        text-align: right;\n",
              "    }\n",
              "</style>\n",
              "<table border=\"1\" class=\"dataframe\">\n",
              "  <thead>\n",
              "    <tr style=\"text-align: right;\">\n",
              "      <th></th>\n",
              "      <th>First_Prediction_Percentage</th>\n",
              "      <th>First_and_Second_Prediction_Percentage</th>\n",
              "    </tr>\n",
              "    <tr>\n",
              "      <th>true_label</th>\n",
              "      <th></th>\n",
              "      <th></th>\n",
              "    </tr>\n",
              "  </thead>\n",
              "  <tbody>\n",
              "    <tr>\n",
              "      <th>BREAKDOWN OF FINANCIAL ASSETS BY INSTRUMENT AND BY COUNTERPARTY SECTOR</th>\n",
              "      <td>25.000000</td>\n",
              "      <td>25.000000</td>\n",
              "    </tr>\n",
              "    <tr>\n",
              "      <th>BREAKDOWN OF FINANCIAL LIABILITIES</th>\n",
              "      <td>0.000000</td>\n",
              "      <td>0.000000</td>\n",
              "    </tr>\n",
              "    <tr>\n",
              "      <th>BREAKDOWN OF NON-TRADING LOANS AND ADVANCES BY PRODUCT</th>\n",
              "      <td>100.000000</td>\n",
              "      <td>100.000000</td>\n",
              "    </tr>\n",
              "    <tr>\n",
              "      <th>BREAKDOWN OF NON-TRADING LOANS AND ADVANCES TO NON-FINANCIAL CORPORATIONS BY NACE CODES</th>\n",
              "      <td>0.000000</td>\n",
              "      <td>0.000000</td>\n",
              "    </tr>\n",
              "    <tr>\n",
              "      <th>COLLATERAL AND GUARANTEES RECEIVED</th>\n",
              "      <td>50.000000</td>\n",
              "      <td>50.000000</td>\n",
              "    </tr>\n",
              "    <tr>\n",
              "      <th>DERIVATIVES AND HEDGE ACCOUNTING</th>\n",
              "      <td>62.500000</td>\n",
              "      <td>75.000000</td>\n",
              "    </tr>\n",
              "    <tr>\n",
              "      <th>Equity</th>\n",
              "      <td>0.000000</td>\n",
              "      <td>0.000000</td>\n",
              "    </tr>\n",
              "    <tr>\n",
              "      <th>FINANCIAL ASSETS SUBJECT TO IMPAIRMENT THAT ARE PAST DUE</th>\n",
              "      <td>0.000000</td>\n",
              "      <td>0.000000</td>\n",
              "    </tr>\n",
              "    <tr>\n",
              "      <th>LOAN COMMITMENTS, FINANCIAL GUARANTEES AND OTHER COMMITMENTS</th>\n",
              "      <td>80.000000</td>\n",
              "      <td>80.000000</td>\n",
              "    </tr>\n",
              "    <tr>\n",
              "      <th>MOVEMENTS IN ALLOWANCES AND PROVISIONS FOR CREDIT LOSSES</th>\n",
              "      <td>100.000000</td>\n",
              "      <td>100.000000</td>\n",
              "    </tr>\n",
              "    <tr>\n",
              "      <th>STATEMENT OF COMPREHENSIVE INCOME</th>\n",
              "      <td>33.333333</td>\n",
              "      <td>66.666667</td>\n",
              "    </tr>\n",
              "    <tr>\n",
              "      <th>STATEMENT OF PROFIT OR LOSS</th>\n",
              "      <td>66.666667</td>\n",
              "      <td>100.000000</td>\n",
              "    </tr>\n",
              "  </tbody>\n",
              "</table>\n",
              "</div>"
            ]
          },
          "metadata": {},
          "execution_count": 19
        }
      ]
    }
  ],
  "metadata": {
    "colab": {
      "collapsed_sections": [],
      "name": "Part3_Predicting_and_Inference_using_Pipeline_30_epochs.ipynb",
      "provenance": []
    },
    "kernelspec": {
      "display_name": "Python 3 (ipykernel)",
      "language": "python",
      "name": "python3"
    },
    "language_info": {
      "codemirror_mode": {
        "name": "ipython",
        "version": 3
      },
      "file_extension": ".py",
      "mimetype": "text/x-python",
      "name": "python",
      "nbconvert_exporter": "python",
      "pygments_lexer": "ipython3",
      "version": "3.9.7"
    },
    "widgets": {
      "application/vnd.jupyter.widget-state+json": {
        "2006277ec0ca45de8ccaf0f983f5cdc5": {
          "model_module": "@jupyter-widgets/controls",
          "model_name": "HBoxModel",
          "model_module_version": "1.5.0",
          "state": {
            "_dom_classes": [],
            "_model_module": "@jupyter-widgets/controls",
            "_model_module_version": "1.5.0",
            "_model_name": "HBoxModel",
            "_view_count": null,
            "_view_module": "@jupyter-widgets/controls",
            "_view_module_version": "1.5.0",
            "_view_name": "HBoxView",
            "box_style": "",
            "children": [
              "IPY_MODEL_af8fabf0b4084583812d8cd460a4bcc5",
              "IPY_MODEL_4be7c141eb984e3992f8736e62520d4c",
              "IPY_MODEL_9ab7836cfeee4711b74012e7a88837cb"
            ],
            "layout": "IPY_MODEL_dc41805ab48347118a08c3f2a8c5a442"
          }
        },
        "af8fabf0b4084583812d8cd460a4bcc5": {
          "model_module": "@jupyter-widgets/controls",
          "model_name": "HTMLModel",
          "model_module_version": "1.5.0",
          "state": {
            "_dom_classes": [],
            "_model_module": "@jupyter-widgets/controls",
            "_model_module_version": "1.5.0",
            "_model_name": "HTMLModel",
            "_view_count": null,
            "_view_module": "@jupyter-widgets/controls",
            "_view_module_version": "1.5.0",
            "_view_name": "HTMLView",
            "description": "",
            "description_tooltip": null,
            "layout": "IPY_MODEL_24eff69622ba4375a5e04d453456cd75",
            "placeholder": "​",
            "style": "IPY_MODEL_3b1138a1e9e642ec955e6b42a121d785",
            "value": "Downloading: 100%"
          }
        },
        "4be7c141eb984e3992f8736e62520d4c": {
          "model_module": "@jupyter-widgets/controls",
          "model_name": "FloatProgressModel",
          "model_module_version": "1.5.0",
          "state": {
            "_dom_classes": [],
            "_model_module": "@jupyter-widgets/controls",
            "_model_module_version": "1.5.0",
            "_model_name": "FloatProgressModel",
            "_view_count": null,
            "_view_module": "@jupyter-widgets/controls",
            "_view_module_version": "1.5.0",
            "_view_name": "ProgressView",
            "bar_style": "success",
            "description": "",
            "description_tooltip": null,
            "layout": "IPY_MODEL_10f02233ff684212933c28245455e428",
            "max": 29,
            "min": 0,
            "orientation": "horizontal",
            "style": "IPY_MODEL_0ca32447d07943d68b07a2ebf43287c9",
            "value": 29
          }
        },
        "9ab7836cfeee4711b74012e7a88837cb": {
          "model_module": "@jupyter-widgets/controls",
          "model_name": "HTMLModel",
          "model_module_version": "1.5.0",
          "state": {
            "_dom_classes": [],
            "_model_module": "@jupyter-widgets/controls",
            "_model_module_version": "1.5.0",
            "_model_name": "HTMLModel",
            "_view_count": null,
            "_view_module": "@jupyter-widgets/controls",
            "_view_module_version": "1.5.0",
            "_view_name": "HTMLView",
            "description": "",
            "description_tooltip": null,
            "layout": "IPY_MODEL_a23952e6550b48369d3a5e2eef94e7fe",
            "placeholder": "​",
            "style": "IPY_MODEL_92241a4fdf2e4f44a434ad99cb3c8943",
            "value": " 29.0/29.0 [00:00&lt;00:00, 689B/s]"
          }
        },
        "dc41805ab48347118a08c3f2a8c5a442": {
          "model_module": "@jupyter-widgets/base",
          "model_name": "LayoutModel",
          "model_module_version": "1.2.0",
          "state": {
            "_model_module": "@jupyter-widgets/base",
            "_model_module_version": "1.2.0",
            "_model_name": "LayoutModel",
            "_view_count": null,
            "_view_module": "@jupyter-widgets/base",
            "_view_module_version": "1.2.0",
            "_view_name": "LayoutView",
            "align_content": null,
            "align_items": null,
            "align_self": null,
            "border": null,
            "bottom": null,
            "display": null,
            "flex": null,
            "flex_flow": null,
            "grid_area": null,
            "grid_auto_columns": null,
            "grid_auto_flow": null,
            "grid_auto_rows": null,
            "grid_column": null,
            "grid_gap": null,
            "grid_row": null,
            "grid_template_areas": null,
            "grid_template_columns": null,
            "grid_template_rows": null,
            "height": null,
            "justify_content": null,
            "justify_items": null,
            "left": null,
            "margin": null,
            "max_height": null,
            "max_width": null,
            "min_height": null,
            "min_width": null,
            "object_fit": null,
            "object_position": null,
            "order": null,
            "overflow": null,
            "overflow_x": null,
            "overflow_y": null,
            "padding": null,
            "right": null,
            "top": null,
            "visibility": null,
            "width": null
          }
        },
        "24eff69622ba4375a5e04d453456cd75": {
          "model_module": "@jupyter-widgets/base",
          "model_name": "LayoutModel",
          "model_module_version": "1.2.0",
          "state": {
            "_model_module": "@jupyter-widgets/base",
            "_model_module_version": "1.2.0",
            "_model_name": "LayoutModel",
            "_view_count": null,
            "_view_module": "@jupyter-widgets/base",
            "_view_module_version": "1.2.0",
            "_view_name": "LayoutView",
            "align_content": null,
            "align_items": null,
            "align_self": null,
            "border": null,
            "bottom": null,
            "display": null,
            "flex": null,
            "flex_flow": null,
            "grid_area": null,
            "grid_auto_columns": null,
            "grid_auto_flow": null,
            "grid_auto_rows": null,
            "grid_column": null,
            "grid_gap": null,
            "grid_row": null,
            "grid_template_areas": null,
            "grid_template_columns": null,
            "grid_template_rows": null,
            "height": null,
            "justify_content": null,
            "justify_items": null,
            "left": null,
            "margin": null,
            "max_height": null,
            "max_width": null,
            "min_height": null,
            "min_width": null,
            "object_fit": null,
            "object_position": null,
            "order": null,
            "overflow": null,
            "overflow_x": null,
            "overflow_y": null,
            "padding": null,
            "right": null,
            "top": null,
            "visibility": null,
            "width": null
          }
        },
        "3b1138a1e9e642ec955e6b42a121d785": {
          "model_module": "@jupyter-widgets/controls",
          "model_name": "DescriptionStyleModel",
          "model_module_version": "1.5.0",
          "state": {
            "_model_module": "@jupyter-widgets/controls",
            "_model_module_version": "1.5.0",
            "_model_name": "DescriptionStyleModel",
            "_view_count": null,
            "_view_module": "@jupyter-widgets/base",
            "_view_module_version": "1.2.0",
            "_view_name": "StyleView",
            "description_width": ""
          }
        },
        "10f02233ff684212933c28245455e428": {
          "model_module": "@jupyter-widgets/base",
          "model_name": "LayoutModel",
          "model_module_version": "1.2.0",
          "state": {
            "_model_module": "@jupyter-widgets/base",
            "_model_module_version": "1.2.0",
            "_model_name": "LayoutModel",
            "_view_count": null,
            "_view_module": "@jupyter-widgets/base",
            "_view_module_version": "1.2.0",
            "_view_name": "LayoutView",
            "align_content": null,
            "align_items": null,
            "align_self": null,
            "border": null,
            "bottom": null,
            "display": null,
            "flex": null,
            "flex_flow": null,
            "grid_area": null,
            "grid_auto_columns": null,
            "grid_auto_flow": null,
            "grid_auto_rows": null,
            "grid_column": null,
            "grid_gap": null,
            "grid_row": null,
            "grid_template_areas": null,
            "grid_template_columns": null,
            "grid_template_rows": null,
            "height": null,
            "justify_content": null,
            "justify_items": null,
            "left": null,
            "margin": null,
            "max_height": null,
            "max_width": null,
            "min_height": null,
            "min_width": null,
            "object_fit": null,
            "object_position": null,
            "order": null,
            "overflow": null,
            "overflow_x": null,
            "overflow_y": null,
            "padding": null,
            "right": null,
            "top": null,
            "visibility": null,
            "width": null
          }
        },
        "0ca32447d07943d68b07a2ebf43287c9": {
          "model_module": "@jupyter-widgets/controls",
          "model_name": "ProgressStyleModel",
          "model_module_version": "1.5.0",
          "state": {
            "_model_module": "@jupyter-widgets/controls",
            "_model_module_version": "1.5.0",
            "_model_name": "ProgressStyleModel",
            "_view_count": null,
            "_view_module": "@jupyter-widgets/base",
            "_view_module_version": "1.2.0",
            "_view_name": "StyleView",
            "bar_color": null,
            "description_width": ""
          }
        },
        "a23952e6550b48369d3a5e2eef94e7fe": {
          "model_module": "@jupyter-widgets/base",
          "model_name": "LayoutModel",
          "model_module_version": "1.2.0",
          "state": {
            "_model_module": "@jupyter-widgets/base",
            "_model_module_version": "1.2.0",
            "_model_name": "LayoutModel",
            "_view_count": null,
            "_view_module": "@jupyter-widgets/base",
            "_view_module_version": "1.2.0",
            "_view_name": "LayoutView",
            "align_content": null,
            "align_items": null,
            "align_self": null,
            "border": null,
            "bottom": null,
            "display": null,
            "flex": null,
            "flex_flow": null,
            "grid_area": null,
            "grid_auto_columns": null,
            "grid_auto_flow": null,
            "grid_auto_rows": null,
            "grid_column": null,
            "grid_gap": null,
            "grid_row": null,
            "grid_template_areas": null,
            "grid_template_columns": null,
            "grid_template_rows": null,
            "height": null,
            "justify_content": null,
            "justify_items": null,
            "left": null,
            "margin": null,
            "max_height": null,
            "max_width": null,
            "min_height": null,
            "min_width": null,
            "object_fit": null,
            "object_position": null,
            "order": null,
            "overflow": null,
            "overflow_x": null,
            "overflow_y": null,
            "padding": null,
            "right": null,
            "top": null,
            "visibility": null,
            "width": null
          }
        },
        "92241a4fdf2e4f44a434ad99cb3c8943": {
          "model_module": "@jupyter-widgets/controls",
          "model_name": "DescriptionStyleModel",
          "model_module_version": "1.5.0",
          "state": {
            "_model_module": "@jupyter-widgets/controls",
            "_model_module_version": "1.5.0",
            "_model_name": "DescriptionStyleModel",
            "_view_count": null,
            "_view_module": "@jupyter-widgets/base",
            "_view_module_version": "1.2.0",
            "_view_name": "StyleView",
            "description_width": ""
          }
        },
        "ed4cedee07944354a82b84175d5542bd": {
          "model_module": "@jupyter-widgets/controls",
          "model_name": "HBoxModel",
          "model_module_version": "1.5.0",
          "state": {
            "_dom_classes": [],
            "_model_module": "@jupyter-widgets/controls",
            "_model_module_version": "1.5.0",
            "_model_name": "HBoxModel",
            "_view_count": null,
            "_view_module": "@jupyter-widgets/controls",
            "_view_module_version": "1.5.0",
            "_view_name": "HBoxView",
            "box_style": "",
            "children": [
              "IPY_MODEL_346f7cc8b59e45a7adbcc1904583497c",
              "IPY_MODEL_22b7882b5228453388b41ee3a2f01bd4",
              "IPY_MODEL_dd556f56ccc8412ba46d1cf0cdb328a6"
            ],
            "layout": "IPY_MODEL_fbb41d88182b4e099494390731d6019d"
          }
        },
        "346f7cc8b59e45a7adbcc1904583497c": {
          "model_module": "@jupyter-widgets/controls",
          "model_name": "HTMLModel",
          "model_module_version": "1.5.0",
          "state": {
            "_dom_classes": [],
            "_model_module": "@jupyter-widgets/controls",
            "_model_module_version": "1.5.0",
            "_model_name": "HTMLModel",
            "_view_count": null,
            "_view_module": "@jupyter-widgets/controls",
            "_view_module_version": "1.5.0",
            "_view_name": "HTMLView",
            "description": "",
            "description_tooltip": null,
            "layout": "IPY_MODEL_e128c691a83048098f2a281c056f4363",
            "placeholder": "​",
            "style": "IPY_MODEL_18c6886b266b4989a24d1d883888033c",
            "value": "Downloading: 100%"
          }
        },
        "22b7882b5228453388b41ee3a2f01bd4": {
          "model_module": "@jupyter-widgets/controls",
          "model_name": "FloatProgressModel",
          "model_module_version": "1.5.0",
          "state": {
            "_dom_classes": [],
            "_model_module": "@jupyter-widgets/controls",
            "_model_module_version": "1.5.0",
            "_model_name": "FloatProgressModel",
            "_view_count": null,
            "_view_module": "@jupyter-widgets/controls",
            "_view_module_version": "1.5.0",
            "_view_name": "ProgressView",
            "bar_style": "success",
            "description": "",
            "description_tooltip": null,
            "layout": "IPY_MODEL_617d209e987e42beb2152616f7035af5",
            "max": 411,
            "min": 0,
            "orientation": "horizontal",
            "style": "IPY_MODEL_e9ebcfb597594deda2edf825deb77b81",
            "value": 411
          }
        },
        "dd556f56ccc8412ba46d1cf0cdb328a6": {
          "model_module": "@jupyter-widgets/controls",
          "model_name": "HTMLModel",
          "model_module_version": "1.5.0",
          "state": {
            "_dom_classes": [],
            "_model_module": "@jupyter-widgets/controls",
            "_model_module_version": "1.5.0",
            "_model_name": "HTMLModel",
            "_view_count": null,
            "_view_module": "@jupyter-widgets/controls",
            "_view_module_version": "1.5.0",
            "_view_name": "HTMLView",
            "description": "",
            "description_tooltip": null,
            "layout": "IPY_MODEL_b2c7bbc918344fc289de6074be3c5514",
            "placeholder": "​",
            "style": "IPY_MODEL_b277220d320043f7ae266bcf5078dcbb",
            "value": " 411/411 [00:00&lt;00:00, 9.89kB/s]"
          }
        },
        "fbb41d88182b4e099494390731d6019d": {
          "model_module": "@jupyter-widgets/base",
          "model_name": "LayoutModel",
          "model_module_version": "1.2.0",
          "state": {
            "_model_module": "@jupyter-widgets/base",
            "_model_module_version": "1.2.0",
            "_model_name": "LayoutModel",
            "_view_count": null,
            "_view_module": "@jupyter-widgets/base",
            "_view_module_version": "1.2.0",
            "_view_name": "LayoutView",
            "align_content": null,
            "align_items": null,
            "align_self": null,
            "border": null,
            "bottom": null,
            "display": null,
            "flex": null,
            "flex_flow": null,
            "grid_area": null,
            "grid_auto_columns": null,
            "grid_auto_flow": null,
            "grid_auto_rows": null,
            "grid_column": null,
            "grid_gap": null,
            "grid_row": null,
            "grid_template_areas": null,
            "grid_template_columns": null,
            "grid_template_rows": null,
            "height": null,
            "justify_content": null,
            "justify_items": null,
            "left": null,
            "margin": null,
            "max_height": null,
            "max_width": null,
            "min_height": null,
            "min_width": null,
            "object_fit": null,
            "object_position": null,
            "order": null,
            "overflow": null,
            "overflow_x": null,
            "overflow_y": null,
            "padding": null,
            "right": null,
            "top": null,
            "visibility": null,
            "width": null
          }
        },
        "e128c691a83048098f2a281c056f4363": {
          "model_module": "@jupyter-widgets/base",
          "model_name": "LayoutModel",
          "model_module_version": "1.2.0",
          "state": {
            "_model_module": "@jupyter-widgets/base",
            "_model_module_version": "1.2.0",
            "_model_name": "LayoutModel",
            "_view_count": null,
            "_view_module": "@jupyter-widgets/base",
            "_view_module_version": "1.2.0",
            "_view_name": "LayoutView",
            "align_content": null,
            "align_items": null,
            "align_self": null,
            "border": null,
            "bottom": null,
            "display": null,
            "flex": null,
            "flex_flow": null,
            "grid_area": null,
            "grid_auto_columns": null,
            "grid_auto_flow": null,
            "grid_auto_rows": null,
            "grid_column": null,
            "grid_gap": null,
            "grid_row": null,
            "grid_template_areas": null,
            "grid_template_columns": null,
            "grid_template_rows": null,
            "height": null,
            "justify_content": null,
            "justify_items": null,
            "left": null,
            "margin": null,
            "max_height": null,
            "max_width": null,
            "min_height": null,
            "min_width": null,
            "object_fit": null,
            "object_position": null,
            "order": null,
            "overflow": null,
            "overflow_x": null,
            "overflow_y": null,
            "padding": null,
            "right": null,
            "top": null,
            "visibility": null,
            "width": null
          }
        },
        "18c6886b266b4989a24d1d883888033c": {
          "model_module": "@jupyter-widgets/controls",
          "model_name": "DescriptionStyleModel",
          "model_module_version": "1.5.0",
          "state": {
            "_model_module": "@jupyter-widgets/controls",
            "_model_module_version": "1.5.0",
            "_model_name": "DescriptionStyleModel",
            "_view_count": null,
            "_view_module": "@jupyter-widgets/base",
            "_view_module_version": "1.2.0",
            "_view_name": "StyleView",
            "description_width": ""
          }
        },
        "617d209e987e42beb2152616f7035af5": {
          "model_module": "@jupyter-widgets/base",
          "model_name": "LayoutModel",
          "model_module_version": "1.2.0",
          "state": {
            "_model_module": "@jupyter-widgets/base",
            "_model_module_version": "1.2.0",
            "_model_name": "LayoutModel",
            "_view_count": null,
            "_view_module": "@jupyter-widgets/base",
            "_view_module_version": "1.2.0",
            "_view_name": "LayoutView",
            "align_content": null,
            "align_items": null,
            "align_self": null,
            "border": null,
            "bottom": null,
            "display": null,
            "flex": null,
            "flex_flow": null,
            "grid_area": null,
            "grid_auto_columns": null,
            "grid_auto_flow": null,
            "grid_auto_rows": null,
            "grid_column": null,
            "grid_gap": null,
            "grid_row": null,
            "grid_template_areas": null,
            "grid_template_columns": null,
            "grid_template_rows": null,
            "height": null,
            "justify_content": null,
            "justify_items": null,
            "left": null,
            "margin": null,
            "max_height": null,
            "max_width": null,
            "min_height": null,
            "min_width": null,
            "object_fit": null,
            "object_position": null,
            "order": null,
            "overflow": null,
            "overflow_x": null,
            "overflow_y": null,
            "padding": null,
            "right": null,
            "top": null,
            "visibility": null,
            "width": null
          }
        },
        "e9ebcfb597594deda2edf825deb77b81": {
          "model_module": "@jupyter-widgets/controls",
          "model_name": "ProgressStyleModel",
          "model_module_version": "1.5.0",
          "state": {
            "_model_module": "@jupyter-widgets/controls",
            "_model_module_version": "1.5.0",
            "_model_name": "ProgressStyleModel",
            "_view_count": null,
            "_view_module": "@jupyter-widgets/base",
            "_view_module_version": "1.2.0",
            "_view_name": "StyleView",
            "bar_color": null,
            "description_width": ""
          }
        },
        "b2c7bbc918344fc289de6074be3c5514": {
          "model_module": "@jupyter-widgets/base",
          "model_name": "LayoutModel",
          "model_module_version": "1.2.0",
          "state": {
            "_model_module": "@jupyter-widgets/base",
            "_model_module_version": "1.2.0",
            "_model_name": "LayoutModel",
            "_view_count": null,
            "_view_module": "@jupyter-widgets/base",
            "_view_module_version": "1.2.0",
            "_view_name": "LayoutView",
            "align_content": null,
            "align_items": null,
            "align_self": null,
            "border": null,
            "bottom": null,
            "display": null,
            "flex": null,
            "flex_flow": null,
            "grid_area": null,
            "grid_auto_columns": null,
            "grid_auto_flow": null,
            "grid_auto_rows": null,
            "grid_column": null,
            "grid_gap": null,
            "grid_row": null,
            "grid_template_areas": null,
            "grid_template_columns": null,
            "grid_template_rows": null,
            "height": null,
            "justify_content": null,
            "justify_items": null,
            "left": null,
            "margin": null,
            "max_height": null,
            "max_width": null,
            "min_height": null,
            "min_width": null,
            "object_fit": null,
            "object_position": null,
            "order": null,
            "overflow": null,
            "overflow_x": null,
            "overflow_y": null,
            "padding": null,
            "right": null,
            "top": null,
            "visibility": null,
            "width": null
          }
        },
        "b277220d320043f7ae266bcf5078dcbb": {
          "model_module": "@jupyter-widgets/controls",
          "model_name": "DescriptionStyleModel",
          "model_module_version": "1.5.0",
          "state": {
            "_model_module": "@jupyter-widgets/controls",
            "_model_module_version": "1.5.0",
            "_model_name": "DescriptionStyleModel",
            "_view_count": null,
            "_view_module": "@jupyter-widgets/base",
            "_view_module_version": "1.2.0",
            "_view_name": "StyleView",
            "description_width": ""
          }
        },
        "b78024ce6dfa48499709464e4d266d65": {
          "model_module": "@jupyter-widgets/controls",
          "model_name": "HBoxModel",
          "model_module_version": "1.5.0",
          "state": {
            "_dom_classes": [],
            "_model_module": "@jupyter-widgets/controls",
            "_model_module_version": "1.5.0",
            "_model_name": "HBoxModel",
            "_view_count": null,
            "_view_module": "@jupyter-widgets/controls",
            "_view_module_version": "1.5.0",
            "_view_name": "HBoxView",
            "box_style": "",
            "children": [
              "IPY_MODEL_6be854a2d84b431b8d4f97e8346660bc",
              "IPY_MODEL_aa1fd3900614485bba377f716537f686",
              "IPY_MODEL_5f5916302d2a4515872f627a5bb38b54"
            ],
            "layout": "IPY_MODEL_e28d28f1b0a54119b9f80249cff765f9"
          }
        },
        "6be854a2d84b431b8d4f97e8346660bc": {
          "model_module": "@jupyter-widgets/controls",
          "model_name": "HTMLModel",
          "model_module_version": "1.5.0",
          "state": {
            "_dom_classes": [],
            "_model_module": "@jupyter-widgets/controls",
            "_model_module_version": "1.5.0",
            "_model_name": "HTMLModel",
            "_view_count": null,
            "_view_module": "@jupyter-widgets/controls",
            "_view_module_version": "1.5.0",
            "_view_name": "HTMLView",
            "description": "",
            "description_tooltip": null,
            "layout": "IPY_MODEL_cec00c65fc954a85ab3834ab9c06671c",
            "placeholder": "​",
            "style": "IPY_MODEL_21c3fb5767af4ae7aa8da6697b36d9c3",
            "value": "Downloading: 100%"
          }
        },
        "aa1fd3900614485bba377f716537f686": {
          "model_module": "@jupyter-widgets/controls",
          "model_name": "FloatProgressModel",
          "model_module_version": "1.5.0",
          "state": {
            "_dom_classes": [],
            "_model_module": "@jupyter-widgets/controls",
            "_model_module_version": "1.5.0",
            "_model_name": "FloatProgressModel",
            "_view_count": null,
            "_view_module": "@jupyter-widgets/controls",
            "_view_module_version": "1.5.0",
            "_view_name": "ProgressView",
            "bar_style": "success",
            "description": "",
            "description_tooltip": null,
            "layout": "IPY_MODEL_93679be0d89c40ba83efe88237638662",
            "max": 213450,
            "min": 0,
            "orientation": "horizontal",
            "style": "IPY_MODEL_be5c7e0c0ff74dd585d2a4c023044a83",
            "value": 213450
          }
        },
        "5f5916302d2a4515872f627a5bb38b54": {
          "model_module": "@jupyter-widgets/controls",
          "model_name": "HTMLModel",
          "model_module_version": "1.5.0",
          "state": {
            "_dom_classes": [],
            "_model_module": "@jupyter-widgets/controls",
            "_model_module_version": "1.5.0",
            "_model_name": "HTMLModel",
            "_view_count": null,
            "_view_module": "@jupyter-widgets/controls",
            "_view_module_version": "1.5.0",
            "_view_name": "HTMLView",
            "description": "",
            "description_tooltip": null,
            "layout": "IPY_MODEL_7c5433362f4c4c30a04ae888605bf633",
            "placeholder": "​",
            "style": "IPY_MODEL_c70e3b1cd1154b54951d6ae459bee8c8",
            "value": " 208k/208k [00:00&lt;00:00, 1.01MB/s]"
          }
        },
        "e28d28f1b0a54119b9f80249cff765f9": {
          "model_module": "@jupyter-widgets/base",
          "model_name": "LayoutModel",
          "model_module_version": "1.2.0",
          "state": {
            "_model_module": "@jupyter-widgets/base",
            "_model_module_version": "1.2.0",
            "_model_name": "LayoutModel",
            "_view_count": null,
            "_view_module": "@jupyter-widgets/base",
            "_view_module_version": "1.2.0",
            "_view_name": "LayoutView",
            "align_content": null,
            "align_items": null,
            "align_self": null,
            "border": null,
            "bottom": null,
            "display": null,
            "flex": null,
            "flex_flow": null,
            "grid_area": null,
            "grid_auto_columns": null,
            "grid_auto_flow": null,
            "grid_auto_rows": null,
            "grid_column": null,
            "grid_gap": null,
            "grid_row": null,
            "grid_template_areas": null,
            "grid_template_columns": null,
            "grid_template_rows": null,
            "height": null,
            "justify_content": null,
            "justify_items": null,
            "left": null,
            "margin": null,
            "max_height": null,
            "max_width": null,
            "min_height": null,
            "min_width": null,
            "object_fit": null,
            "object_position": null,
            "order": null,
            "overflow": null,
            "overflow_x": null,
            "overflow_y": null,
            "padding": null,
            "right": null,
            "top": null,
            "visibility": null,
            "width": null
          }
        },
        "cec00c65fc954a85ab3834ab9c06671c": {
          "model_module": "@jupyter-widgets/base",
          "model_name": "LayoutModel",
          "model_module_version": "1.2.0",
          "state": {
            "_model_module": "@jupyter-widgets/base",
            "_model_module_version": "1.2.0",
            "_model_name": "LayoutModel",
            "_view_count": null,
            "_view_module": "@jupyter-widgets/base",
            "_view_module_version": "1.2.0",
            "_view_name": "LayoutView",
            "align_content": null,
            "align_items": null,
            "align_self": null,
            "border": null,
            "bottom": null,
            "display": null,
            "flex": null,
            "flex_flow": null,
            "grid_area": null,
            "grid_auto_columns": null,
            "grid_auto_flow": null,
            "grid_auto_rows": null,
            "grid_column": null,
            "grid_gap": null,
            "grid_row": null,
            "grid_template_areas": null,
            "grid_template_columns": null,
            "grid_template_rows": null,
            "height": null,
            "justify_content": null,
            "justify_items": null,
            "left": null,
            "margin": null,
            "max_height": null,
            "max_width": null,
            "min_height": null,
            "min_width": null,
            "object_fit": null,
            "object_position": null,
            "order": null,
            "overflow": null,
            "overflow_x": null,
            "overflow_y": null,
            "padding": null,
            "right": null,
            "top": null,
            "visibility": null,
            "width": null
          }
        },
        "21c3fb5767af4ae7aa8da6697b36d9c3": {
          "model_module": "@jupyter-widgets/controls",
          "model_name": "DescriptionStyleModel",
          "model_module_version": "1.5.0",
          "state": {
            "_model_module": "@jupyter-widgets/controls",
            "_model_module_version": "1.5.0",
            "_model_name": "DescriptionStyleModel",
            "_view_count": null,
            "_view_module": "@jupyter-widgets/base",
            "_view_module_version": "1.2.0",
            "_view_name": "StyleView",
            "description_width": ""
          }
        },
        "93679be0d89c40ba83efe88237638662": {
          "model_module": "@jupyter-widgets/base",
          "model_name": "LayoutModel",
          "model_module_version": "1.2.0",
          "state": {
            "_model_module": "@jupyter-widgets/base",
            "_model_module_version": "1.2.0",
            "_model_name": "LayoutModel",
            "_view_count": null,
            "_view_module": "@jupyter-widgets/base",
            "_view_module_version": "1.2.0",
            "_view_name": "LayoutView",
            "align_content": null,
            "align_items": null,
            "align_self": null,
            "border": null,
            "bottom": null,
            "display": null,
            "flex": null,
            "flex_flow": null,
            "grid_area": null,
            "grid_auto_columns": null,
            "grid_auto_flow": null,
            "grid_auto_rows": null,
            "grid_column": null,
            "grid_gap": null,
            "grid_row": null,
            "grid_template_areas": null,
            "grid_template_columns": null,
            "grid_template_rows": null,
            "height": null,
            "justify_content": null,
            "justify_items": null,
            "left": null,
            "margin": null,
            "max_height": null,
            "max_width": null,
            "min_height": null,
            "min_width": null,
            "object_fit": null,
            "object_position": null,
            "order": null,
            "overflow": null,
            "overflow_x": null,
            "overflow_y": null,
            "padding": null,
            "right": null,
            "top": null,
            "visibility": null,
            "width": null
          }
        },
        "be5c7e0c0ff74dd585d2a4c023044a83": {
          "model_module": "@jupyter-widgets/controls",
          "model_name": "ProgressStyleModel",
          "model_module_version": "1.5.0",
          "state": {
            "_model_module": "@jupyter-widgets/controls",
            "_model_module_version": "1.5.0",
            "_model_name": "ProgressStyleModel",
            "_view_count": null,
            "_view_module": "@jupyter-widgets/base",
            "_view_module_version": "1.2.0",
            "_view_name": "StyleView",
            "bar_color": null,
            "description_width": ""
          }
        },
        "7c5433362f4c4c30a04ae888605bf633": {
          "model_module": "@jupyter-widgets/base",
          "model_name": "LayoutModel",
          "model_module_version": "1.2.0",
          "state": {
            "_model_module": "@jupyter-widgets/base",
            "_model_module_version": "1.2.0",
            "_model_name": "LayoutModel",
            "_view_count": null,
            "_view_module": "@jupyter-widgets/base",
            "_view_module_version": "1.2.0",
            "_view_name": "LayoutView",
            "align_content": null,
            "align_items": null,
            "align_self": null,
            "border": null,
            "bottom": null,
            "display": null,
            "flex": null,
            "flex_flow": null,
            "grid_area": null,
            "grid_auto_columns": null,
            "grid_auto_flow": null,
            "grid_auto_rows": null,
            "grid_column": null,
            "grid_gap": null,
            "grid_row": null,
            "grid_template_areas": null,
            "grid_template_columns": null,
            "grid_template_rows": null,
            "height": null,
            "justify_content": null,
            "justify_items": null,
            "left": null,
            "margin": null,
            "max_height": null,
            "max_width": null,
            "min_height": null,
            "min_width": null,
            "object_fit": null,
            "object_position": null,
            "order": null,
            "overflow": null,
            "overflow_x": null,
            "overflow_y": null,
            "padding": null,
            "right": null,
            "top": null,
            "visibility": null,
            "width": null
          }
        },
        "c70e3b1cd1154b54951d6ae459bee8c8": {
          "model_module": "@jupyter-widgets/controls",
          "model_name": "DescriptionStyleModel",
          "model_module_version": "1.5.0",
          "state": {
            "_model_module": "@jupyter-widgets/controls",
            "_model_module_version": "1.5.0",
            "_model_name": "DescriptionStyleModel",
            "_view_count": null,
            "_view_module": "@jupyter-widgets/base",
            "_view_module_version": "1.2.0",
            "_view_name": "StyleView",
            "description_width": ""
          }
        },
        "d8e945b6a6f941f5bca21f0dc4847388": {
          "model_module": "@jupyter-widgets/controls",
          "model_name": "HBoxModel",
          "model_module_version": "1.5.0",
          "state": {
            "_dom_classes": [],
            "_model_module": "@jupyter-widgets/controls",
            "_model_module_version": "1.5.0",
            "_model_name": "HBoxModel",
            "_view_count": null,
            "_view_module": "@jupyter-widgets/controls",
            "_view_module_version": "1.5.0",
            "_view_name": "HBoxView",
            "box_style": "",
            "children": [
              "IPY_MODEL_f63c5bc34c6144918151cca9fdc2b559",
              "IPY_MODEL_1b718cf66ada4917a5f1565f1a2b218f",
              "IPY_MODEL_09afc2e76ea24231959f4cc62591c94a"
            ],
            "layout": "IPY_MODEL_9af46e1aba744ff29a7a9257ca9067f8"
          }
        },
        "f63c5bc34c6144918151cca9fdc2b559": {
          "model_module": "@jupyter-widgets/controls",
          "model_name": "HTMLModel",
          "model_module_version": "1.5.0",
          "state": {
            "_dom_classes": [],
            "_model_module": "@jupyter-widgets/controls",
            "_model_module_version": "1.5.0",
            "_model_name": "HTMLModel",
            "_view_count": null,
            "_view_module": "@jupyter-widgets/controls",
            "_view_module_version": "1.5.0",
            "_view_name": "HTMLView",
            "description": "",
            "description_tooltip": null,
            "layout": "IPY_MODEL_b107089bf6fe4d5fac0fb3038ed349ad",
            "placeholder": "​",
            "style": "IPY_MODEL_686e71dab52b420b952a93f329e1969c",
            "value": "Downloading: 100%"
          }
        },
        "1b718cf66ada4917a5f1565f1a2b218f": {
          "model_module": "@jupyter-widgets/controls",
          "model_name": "FloatProgressModel",
          "model_module_version": "1.5.0",
          "state": {
            "_dom_classes": [],
            "_model_module": "@jupyter-widgets/controls",
            "_model_module_version": "1.5.0",
            "_model_name": "FloatProgressModel",
            "_view_count": null,
            "_view_module": "@jupyter-widgets/controls",
            "_view_module_version": "1.5.0",
            "_view_name": "ProgressView",
            "bar_style": "success",
            "description": "",
            "description_tooltip": null,
            "layout": "IPY_MODEL_ab426ac49f814ccf89a373ab448465c0",
            "max": 435797,
            "min": 0,
            "orientation": "horizontal",
            "style": "IPY_MODEL_f03d952e045e4d7c84aa7cb9d00d75be",
            "value": 435797
          }
        },
        "09afc2e76ea24231959f4cc62591c94a": {
          "model_module": "@jupyter-widgets/controls",
          "model_name": "HTMLModel",
          "model_module_version": "1.5.0",
          "state": {
            "_dom_classes": [],
            "_model_module": "@jupyter-widgets/controls",
            "_model_module_version": "1.5.0",
            "_model_name": "HTMLModel",
            "_view_count": null,
            "_view_module": "@jupyter-widgets/controls",
            "_view_module_version": "1.5.0",
            "_view_name": "HTMLView",
            "description": "",
            "description_tooltip": null,
            "layout": "IPY_MODEL_289fa47b06c345bfa3dd66731ebd79a2",
            "placeholder": "​",
            "style": "IPY_MODEL_69a8549028064289bc082957dc49524d",
            "value": " 426k/426k [00:00&lt;00:00, 1.80MB/s]"
          }
        },
        "9af46e1aba744ff29a7a9257ca9067f8": {
          "model_module": "@jupyter-widgets/base",
          "model_name": "LayoutModel",
          "model_module_version": "1.2.0",
          "state": {
            "_model_module": "@jupyter-widgets/base",
            "_model_module_version": "1.2.0",
            "_model_name": "LayoutModel",
            "_view_count": null,
            "_view_module": "@jupyter-widgets/base",
            "_view_module_version": "1.2.0",
            "_view_name": "LayoutView",
            "align_content": null,
            "align_items": null,
            "align_self": null,
            "border": null,
            "bottom": null,
            "display": null,
            "flex": null,
            "flex_flow": null,
            "grid_area": null,
            "grid_auto_columns": null,
            "grid_auto_flow": null,
            "grid_auto_rows": null,
            "grid_column": null,
            "grid_gap": null,
            "grid_row": null,
            "grid_template_areas": null,
            "grid_template_columns": null,
            "grid_template_rows": null,
            "height": null,
            "justify_content": null,
            "justify_items": null,
            "left": null,
            "margin": null,
            "max_height": null,
            "max_width": null,
            "min_height": null,
            "min_width": null,
            "object_fit": null,
            "object_position": null,
            "order": null,
            "overflow": null,
            "overflow_x": null,
            "overflow_y": null,
            "padding": null,
            "right": null,
            "top": null,
            "visibility": null,
            "width": null
          }
        },
        "b107089bf6fe4d5fac0fb3038ed349ad": {
          "model_module": "@jupyter-widgets/base",
          "model_name": "LayoutModel",
          "model_module_version": "1.2.0",
          "state": {
            "_model_module": "@jupyter-widgets/base",
            "_model_module_version": "1.2.0",
            "_model_name": "LayoutModel",
            "_view_count": null,
            "_view_module": "@jupyter-widgets/base",
            "_view_module_version": "1.2.0",
            "_view_name": "LayoutView",
            "align_content": null,
            "align_items": null,
            "align_self": null,
            "border": null,
            "bottom": null,
            "display": null,
            "flex": null,
            "flex_flow": null,
            "grid_area": null,
            "grid_auto_columns": null,
            "grid_auto_flow": null,
            "grid_auto_rows": null,
            "grid_column": null,
            "grid_gap": null,
            "grid_row": null,
            "grid_template_areas": null,
            "grid_template_columns": null,
            "grid_template_rows": null,
            "height": null,
            "justify_content": null,
            "justify_items": null,
            "left": null,
            "margin": null,
            "max_height": null,
            "max_width": null,
            "min_height": null,
            "min_width": null,
            "object_fit": null,
            "object_position": null,
            "order": null,
            "overflow": null,
            "overflow_x": null,
            "overflow_y": null,
            "padding": null,
            "right": null,
            "top": null,
            "visibility": null,
            "width": null
          }
        },
        "686e71dab52b420b952a93f329e1969c": {
          "model_module": "@jupyter-widgets/controls",
          "model_name": "DescriptionStyleModel",
          "model_module_version": "1.5.0",
          "state": {
            "_model_module": "@jupyter-widgets/controls",
            "_model_module_version": "1.5.0",
            "_model_name": "DescriptionStyleModel",
            "_view_count": null,
            "_view_module": "@jupyter-widgets/base",
            "_view_module_version": "1.2.0",
            "_view_name": "StyleView",
            "description_width": ""
          }
        },
        "ab426ac49f814ccf89a373ab448465c0": {
          "model_module": "@jupyter-widgets/base",
          "model_name": "LayoutModel",
          "model_module_version": "1.2.0",
          "state": {
            "_model_module": "@jupyter-widgets/base",
            "_model_module_version": "1.2.0",
            "_model_name": "LayoutModel",
            "_view_count": null,
            "_view_module": "@jupyter-widgets/base",
            "_view_module_version": "1.2.0",
            "_view_name": "LayoutView",
            "align_content": null,
            "align_items": null,
            "align_self": null,
            "border": null,
            "bottom": null,
            "display": null,
            "flex": null,
            "flex_flow": null,
            "grid_area": null,
            "grid_auto_columns": null,
            "grid_auto_flow": null,
            "grid_auto_rows": null,
            "grid_column": null,
            "grid_gap": null,
            "grid_row": null,
            "grid_template_areas": null,
            "grid_template_columns": null,
            "grid_template_rows": null,
            "height": null,
            "justify_content": null,
            "justify_items": null,
            "left": null,
            "margin": null,
            "max_height": null,
            "max_width": null,
            "min_height": null,
            "min_width": null,
            "object_fit": null,
            "object_position": null,
            "order": null,
            "overflow": null,
            "overflow_x": null,
            "overflow_y": null,
            "padding": null,
            "right": null,
            "top": null,
            "visibility": null,
            "width": null
          }
        },
        "f03d952e045e4d7c84aa7cb9d00d75be": {
          "model_module": "@jupyter-widgets/controls",
          "model_name": "ProgressStyleModel",
          "model_module_version": "1.5.0",
          "state": {
            "_model_module": "@jupyter-widgets/controls",
            "_model_module_version": "1.5.0",
            "_model_name": "ProgressStyleModel",
            "_view_count": null,
            "_view_module": "@jupyter-widgets/base",
            "_view_module_version": "1.2.0",
            "_view_name": "StyleView",
            "bar_color": null,
            "description_width": ""
          }
        },
        "289fa47b06c345bfa3dd66731ebd79a2": {
          "model_module": "@jupyter-widgets/base",
          "model_name": "LayoutModel",
          "model_module_version": "1.2.0",
          "state": {
            "_model_module": "@jupyter-widgets/base",
            "_model_module_version": "1.2.0",
            "_model_name": "LayoutModel",
            "_view_count": null,
            "_view_module": "@jupyter-widgets/base",
            "_view_module_version": "1.2.0",
            "_view_name": "LayoutView",
            "align_content": null,
            "align_items": null,
            "align_self": null,
            "border": null,
            "bottom": null,
            "display": null,
            "flex": null,
            "flex_flow": null,
            "grid_area": null,
            "grid_auto_columns": null,
            "grid_auto_flow": null,
            "grid_auto_rows": null,
            "grid_column": null,
            "grid_gap": null,
            "grid_row": null,
            "grid_template_areas": null,
            "grid_template_columns": null,
            "grid_template_rows": null,
            "height": null,
            "justify_content": null,
            "justify_items": null,
            "left": null,
            "margin": null,
            "max_height": null,
            "max_width": null,
            "min_height": null,
            "min_width": null,
            "object_fit": null,
            "object_position": null,
            "order": null,
            "overflow": null,
            "overflow_x": null,
            "overflow_y": null,
            "padding": null,
            "right": null,
            "top": null,
            "visibility": null,
            "width": null
          }
        },
        "69a8549028064289bc082957dc49524d": {
          "model_module": "@jupyter-widgets/controls",
          "model_name": "DescriptionStyleModel",
          "model_module_version": "1.5.0",
          "state": {
            "_model_module": "@jupyter-widgets/controls",
            "_model_module_version": "1.5.0",
            "_model_name": "DescriptionStyleModel",
            "_view_count": null,
            "_view_module": "@jupyter-widgets/base",
            "_view_module_version": "1.2.0",
            "_view_name": "StyleView",
            "description_width": ""
          }
        },
        "0f0c070302db44fe88cf88f7092edb69": {
          "model_module": "@jupyter-widgets/controls",
          "model_name": "HBoxModel",
          "model_module_version": "1.5.0",
          "state": {
            "_dom_classes": [],
            "_model_module": "@jupyter-widgets/controls",
            "_model_module_version": "1.5.0",
            "_model_name": "HBoxModel",
            "_view_count": null,
            "_view_module": "@jupyter-widgets/controls",
            "_view_module_version": "1.5.0",
            "_view_name": "HBoxView",
            "box_style": "",
            "children": [
              "IPY_MODEL_d13ae9755f0843248f5edf4c2b248beb",
              "IPY_MODEL_4e06a4673c4f421d84a0a66ed36a4161",
              "IPY_MODEL_e023456d8d0943e3a0ecb4ef72b1729a"
            ],
            "layout": "IPY_MODEL_8514350e8a514f2ea7c2a02d64c9fba4"
          }
        },
        "d13ae9755f0843248f5edf4c2b248beb": {
          "model_module": "@jupyter-widgets/controls",
          "model_name": "HTMLModel",
          "model_module_version": "1.5.0",
          "state": {
            "_dom_classes": [],
            "_model_module": "@jupyter-widgets/controls",
            "_model_module_version": "1.5.0",
            "_model_name": "HTMLModel",
            "_view_count": null,
            "_view_module": "@jupyter-widgets/controls",
            "_view_module_version": "1.5.0",
            "_view_name": "HTMLView",
            "description": "",
            "description_tooltip": null,
            "layout": "IPY_MODEL_2417b7ad605445e68f6b3bdc09b9a546",
            "placeholder": "​",
            "style": "IPY_MODEL_2f922998c7114f8aafb7de370733e7e6",
            "value": "Downloading: 100%"
          }
        },
        "4e06a4673c4f421d84a0a66ed36a4161": {
          "model_module": "@jupyter-widgets/controls",
          "model_name": "FloatProgressModel",
          "model_module_version": "1.5.0",
          "state": {
            "_dom_classes": [],
            "_model_module": "@jupyter-widgets/controls",
            "_model_module_version": "1.5.0",
            "_model_name": "FloatProgressModel",
            "_view_count": null,
            "_view_module": "@jupyter-widgets/controls",
            "_view_module_version": "1.5.0",
            "_view_name": "ProgressView",
            "bar_style": "success",
            "description": "",
            "description_tooltip": null,
            "layout": "IPY_MODEL_45458a5b4aed41918da379614a3b1050",
            "max": 263273408,
            "min": 0,
            "orientation": "horizontal",
            "style": "IPY_MODEL_c58dc8e97a5d44b2a8133d483314f757",
            "value": 263273408
          }
        },
        "e023456d8d0943e3a0ecb4ef72b1729a": {
          "model_module": "@jupyter-widgets/controls",
          "model_name": "HTMLModel",
          "model_module_version": "1.5.0",
          "state": {
            "_dom_classes": [],
            "_model_module": "@jupyter-widgets/controls",
            "_model_module_version": "1.5.0",
            "_model_name": "HTMLModel",
            "_view_count": null,
            "_view_module": "@jupyter-widgets/controls",
            "_view_module_version": "1.5.0",
            "_view_name": "HTMLView",
            "description": "",
            "description_tooltip": null,
            "layout": "IPY_MODEL_bb285187c09e48daa6cbb485391c681c",
            "placeholder": "​",
            "style": "IPY_MODEL_c48fae70767d4c60868c4e588051a0b4",
            "value": " 251M/251M [00:06&lt;00:00, 41.2MB/s]"
          }
        },
        "8514350e8a514f2ea7c2a02d64c9fba4": {
          "model_module": "@jupyter-widgets/base",
          "model_name": "LayoutModel",
          "model_module_version": "1.2.0",
          "state": {
            "_model_module": "@jupyter-widgets/base",
            "_model_module_version": "1.2.0",
            "_model_name": "LayoutModel",
            "_view_count": null,
            "_view_module": "@jupyter-widgets/base",
            "_view_module_version": "1.2.0",
            "_view_name": "LayoutView",
            "align_content": null,
            "align_items": null,
            "align_self": null,
            "border": null,
            "bottom": null,
            "display": null,
            "flex": null,
            "flex_flow": null,
            "grid_area": null,
            "grid_auto_columns": null,
            "grid_auto_flow": null,
            "grid_auto_rows": null,
            "grid_column": null,
            "grid_gap": null,
            "grid_row": null,
            "grid_template_areas": null,
            "grid_template_columns": null,
            "grid_template_rows": null,
            "height": null,
            "justify_content": null,
            "justify_items": null,
            "left": null,
            "margin": null,
            "max_height": null,
            "max_width": null,
            "min_height": null,
            "min_width": null,
            "object_fit": null,
            "object_position": null,
            "order": null,
            "overflow": null,
            "overflow_x": null,
            "overflow_y": null,
            "padding": null,
            "right": null,
            "top": null,
            "visibility": null,
            "width": null
          }
        },
        "2417b7ad605445e68f6b3bdc09b9a546": {
          "model_module": "@jupyter-widgets/base",
          "model_name": "LayoutModel",
          "model_module_version": "1.2.0",
          "state": {
            "_model_module": "@jupyter-widgets/base",
            "_model_module_version": "1.2.0",
            "_model_name": "LayoutModel",
            "_view_count": null,
            "_view_module": "@jupyter-widgets/base",
            "_view_module_version": "1.2.0",
            "_view_name": "LayoutView",
            "align_content": null,
            "align_items": null,
            "align_self": null,
            "border": null,
            "bottom": null,
            "display": null,
            "flex": null,
            "flex_flow": null,
            "grid_area": null,
            "grid_auto_columns": null,
            "grid_auto_flow": null,
            "grid_auto_rows": null,
            "grid_column": null,
            "grid_gap": null,
            "grid_row": null,
            "grid_template_areas": null,
            "grid_template_columns": null,
            "grid_template_rows": null,
            "height": null,
            "justify_content": null,
            "justify_items": null,
            "left": null,
            "margin": null,
            "max_height": null,
            "max_width": null,
            "min_height": null,
            "min_width": null,
            "object_fit": null,
            "object_position": null,
            "order": null,
            "overflow": null,
            "overflow_x": null,
            "overflow_y": null,
            "padding": null,
            "right": null,
            "top": null,
            "visibility": null,
            "width": null
          }
        },
        "2f922998c7114f8aafb7de370733e7e6": {
          "model_module": "@jupyter-widgets/controls",
          "model_name": "DescriptionStyleModel",
          "model_module_version": "1.5.0",
          "state": {
            "_model_module": "@jupyter-widgets/controls",
            "_model_module_version": "1.5.0",
            "_model_name": "DescriptionStyleModel",
            "_view_count": null,
            "_view_module": "@jupyter-widgets/base",
            "_view_module_version": "1.2.0",
            "_view_name": "StyleView",
            "description_width": ""
          }
        },
        "45458a5b4aed41918da379614a3b1050": {
          "model_module": "@jupyter-widgets/base",
          "model_name": "LayoutModel",
          "model_module_version": "1.2.0",
          "state": {
            "_model_module": "@jupyter-widgets/base",
            "_model_module_version": "1.2.0",
            "_model_name": "LayoutModel",
            "_view_count": null,
            "_view_module": "@jupyter-widgets/base",
            "_view_module_version": "1.2.0",
            "_view_name": "LayoutView",
            "align_content": null,
            "align_items": null,
            "align_self": null,
            "border": null,
            "bottom": null,
            "display": null,
            "flex": null,
            "flex_flow": null,
            "grid_area": null,
            "grid_auto_columns": null,
            "grid_auto_flow": null,
            "grid_auto_rows": null,
            "grid_column": null,
            "grid_gap": null,
            "grid_row": null,
            "grid_template_areas": null,
            "grid_template_columns": null,
            "grid_template_rows": null,
            "height": null,
            "justify_content": null,
            "justify_items": null,
            "left": null,
            "margin": null,
            "max_height": null,
            "max_width": null,
            "min_height": null,
            "min_width": null,
            "object_fit": null,
            "object_position": null,
            "order": null,
            "overflow": null,
            "overflow_x": null,
            "overflow_y": null,
            "padding": null,
            "right": null,
            "top": null,
            "visibility": null,
            "width": null
          }
        },
        "c58dc8e97a5d44b2a8133d483314f757": {
          "model_module": "@jupyter-widgets/controls",
          "model_name": "ProgressStyleModel",
          "model_module_version": "1.5.0",
          "state": {
            "_model_module": "@jupyter-widgets/controls",
            "_model_module_version": "1.5.0",
            "_model_name": "ProgressStyleModel",
            "_view_count": null,
            "_view_module": "@jupyter-widgets/base",
            "_view_module_version": "1.2.0",
            "_view_name": "StyleView",
            "bar_color": null,
            "description_width": ""
          }
        },
        "bb285187c09e48daa6cbb485391c681c": {
          "model_module": "@jupyter-widgets/base",
          "model_name": "LayoutModel",
          "model_module_version": "1.2.0",
          "state": {
            "_model_module": "@jupyter-widgets/base",
            "_model_module_version": "1.2.0",
            "_model_name": "LayoutModel",
            "_view_count": null,
            "_view_module": "@jupyter-widgets/base",
            "_view_module_version": "1.2.0",
            "_view_name": "LayoutView",
            "align_content": null,
            "align_items": null,
            "align_self": null,
            "border": null,
            "bottom": null,
            "display": null,
            "flex": null,
            "flex_flow": null,
            "grid_area": null,
            "grid_auto_columns": null,
            "grid_auto_flow": null,
            "grid_auto_rows": null,
            "grid_column": null,
            "grid_gap": null,
            "grid_row": null,
            "grid_template_areas": null,
            "grid_template_columns": null,
            "grid_template_rows": null,
            "height": null,
            "justify_content": null,
            "justify_items": null,
            "left": null,
            "margin": null,
            "max_height": null,
            "max_width": null,
            "min_height": null,
            "min_width": null,
            "object_fit": null,
            "object_position": null,
            "order": null,
            "overflow": null,
            "overflow_x": null,
            "overflow_y": null,
            "padding": null,
            "right": null,
            "top": null,
            "visibility": null,
            "width": null
          }
        },
        "c48fae70767d4c60868c4e588051a0b4": {
          "model_module": "@jupyter-widgets/controls",
          "model_name": "DescriptionStyleModel",
          "model_module_version": "1.5.0",
          "state": {
            "_model_module": "@jupyter-widgets/controls",
            "_model_module_version": "1.5.0",
            "_model_name": "DescriptionStyleModel",
            "_view_count": null,
            "_view_module": "@jupyter-widgets/base",
            "_view_module_version": "1.2.0",
            "_view_name": "StyleView",
            "description_width": ""
          }
        }
      }
    }
  },
  "nbformat": 4,
  "nbformat_minor": 0
}