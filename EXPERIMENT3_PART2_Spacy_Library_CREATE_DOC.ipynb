{
 "cells": [
  {
   "cell_type": "markdown",
   "metadata": {
    "id": "6GkxfuQ8ob0R"
   },
   "source": [
    "# About the Data\n",
    "\n",
    "* The data was taken from \n",
    "the csv file complaints.csv\n",
    "\n",
    "* The complaints are for the products:<br>\n",
    "\n",
    "  1. 'Bank account or service'\n",
    "  2. 'Checking or savings account'\n",
    "  3. 'Consumer Loan'\n",
    "  4. 'Credit card or prepaid card'\n",
    "  5. 'Credit reporting, credit repair services, or other personal consumer reports' \n",
    "  6. 'Debt collection'\n",
    "  7. Money transfer/s, virtual currency, or money service'\n",
    "  8. 'Mortgage'\n",
    "  9. 'Payday loan, title loan, or personal loan'\n",
    "  10. 'Student loan'\n",
    "  11. 'Vehicle loan or lease'\n",
    "\n",
    "* The data cleaning was done using spacy library\n"
   ]
  },
  {
   "cell_type": "markdown",
   "metadata": {
    "id": "HltVocsVxIVZ"
   },
   "source": [
    "## Next Steps\n",
    "\n",
    "* Use Spacy library to preprocess the sample data.\n",
    "\n",
    "* Fine-tune DistilBERT on the sample data "
   ]
  },
  {
   "cell_type": "markdown",
   "metadata": {
    "id": "M8MJt_UDu36B"
   },
   "source": [
    "## Google Drive access"
   ]
  },
  {
   "cell_type": "code",
   "execution_count": null,
   "metadata": {
    "colab": {
     "base_uri": "https://localhost:8080/"
    },
    "id": "YpebIE41u3Mh",
    "outputId": "30a63920-d0dc-47b2-bcb5-1dfa0a451502"
   },
   "outputs": [
    {
     "name": "stdout",
     "output_type": "stream",
     "text": [
      "Mounted at /content/drive\n"
     ]
    }
   ],
   "source": [
    "from google.colab import drive\n",
    "drive.mount('/content/drive')"
   ]
  },
  {
   "cell_type": "code",
   "execution_count": null,
   "metadata": {
    "id": "f3hBz6OXw3gQ"
   },
   "outputs": [],
   "source": [
    "# write the appropriate paths to retrieve the data and store results \n",
    "sample_data_path = '/content/drive/MyDrive/Complaints_csv/Experiment3/SAMPLE_25_APRIL_2022_Experiment3.csv'"
   ]
  },
  {
   "cell_type": "markdown",
   "metadata": {
    "id": "dwnUTHc_WWf9"
   },
   "source": [
    "# Loading the sample dataset"
   ]
  },
  {
   "cell_type": "code",
   "execution_count": null,
   "metadata": {
    "colab": {
     "base_uri": "https://localhost:8080/"
    },
    "id": "hSr1m-4emA8l",
    "outputId": "291d657f-f767-4856-b137-ab725573fc9d"
   },
   "outputs": [
    {
     "name": "stdout",
     "output_type": "stream",
     "text": [
      "<class 'pandas.core.frame.DataFrame'>\n",
      "RangeIndex: 79993 entries, 0 to 79992\n",
      "Data columns (total 10 columns):\n",
      " #   Column                         Non-Null Count  Dtype  \n",
      "---  ------                         --------------  -----  \n",
      " 0   consumer_complaint_narrative   79993 non-null  object \n",
      " 1   product                        79993 non-null  object \n",
      " 2   split_words_whitespaces        79993 non-null  object \n",
      " 3   number_of_words                79993 non-null  int64  \n",
      " 4   number_of_charachters          79993 non-null  int64  \n",
      " 5   charachters_by_words           79993 non-null  int64  \n",
      " 6   number_of_unique_words         79993 non-null  int64  \n",
      " 7   potenial_mask_words            79993 non-null  object \n",
      " 8   number_of_potenial_mask_words  79993 non-null  int64  \n",
      " 9   potenial_mask_words_BY_words   79993 non-null  float64\n",
      "dtypes: float64(1), int64(5), object(4)\n",
      "memory usage: 6.1+ MB\n"
     ]
    }
   ],
   "source": [
    "#Load the data\n",
    "import pandas as pd\n",
    "sample_df = pd.read_csv(sample_data_path)\n",
    "sample_df.info()"
   ]
  },
  {
   "cell_type": "code",
   "execution_count": null,
   "metadata": {
    "colab": {
     "base_uri": "https://localhost:8080/"
    },
    "id": "9DUDX4cpxV5I",
    "outputId": "01b5576f-7f1e-4163-bb8d-d40322b3434f"
   },
   "outputs": [
    {
     "name": "stdout",
     "output_type": "stream",
     "text": [
      "<class 'pandas.core.frame.DataFrame'>\n",
      "Int64Index: 77895 entries, 1039 to 79231\n",
      "Data columns (total 10 columns):\n",
      " #   Column                         Non-Null Count  Dtype  \n",
      "---  ------                         --------------  -----  \n",
      " 0   consumer_complaint_narrative   77895 non-null  object \n",
      " 1   product                        77895 non-null  object \n",
      " 2   split_words_whitespaces        77895 non-null  object \n",
      " 3   number_of_words                77895 non-null  int64  \n",
      " 4   number_of_charachters          77895 non-null  int64  \n",
      " 5   charachters_by_words           77895 non-null  int64  \n",
      " 6   number_of_unique_words         77895 non-null  int64  \n",
      " 7   potenial_mask_words            77895 non-null  object \n",
      " 8   number_of_potenial_mask_words  77895 non-null  int64  \n",
      " 9   potenial_mask_words_BY_words   77895 non-null  float64\n",
      "dtypes: float64(1), int64(5), object(4)\n",
      "memory usage: 6.5+ MB\n"
     ]
    }
   ],
   "source": [
    "# drop the duplicate entries which are not maximum length\n",
    "sample_df = sample_df.loc[sample_df['number_of_words'].groupby(sample_df['consumer_complaint_narrative']).idxmax()].sort_values('product')\n",
    "sample_df.info()"
   ]
  },
  {
   "cell_type": "code",
   "execution_count": null,
   "metadata": {
    "id": "1dPcRk6Mahis"
   },
   "outputs": [],
   "source": [
    "import spacy\n",
    "# use spacy with the dependency parse \n",
    "spacy_nlp = spacy.load(\"en_core_web_sm\")"
   ]
  },
  {
   "cell_type": "code",
   "execution_count": null,
   "metadata": {
    "colab": {
     "base_uri": "https://localhost:8080/"
    },
    "id": "T5rmaJPHbtms",
    "outputId": "4dc60a72-0494-4ff6-f0ed-caba46090da7"
   },
   "outputs": [
    {
     "name": "stderr",
     "output_type": "stream",
     "text": [
      "100%|██████████| 77895/77895 [46:00<00:00, 28.22it/s]"
     ]
    },
    {
     "name": "stdout",
     "output_type": "stream",
     "text": [
      "\n",
      "\n",
      "Spacy Doc Completed\n"
     ]
    },
    {
     "name": "stderr",
     "output_type": "stream",
     "text": [
      "\n"
     ]
    }
   ],
   "source": [
    "from tqdm import tqdm\n",
    "# instantiate\n",
    "tqdm.pandas()\n",
    "sample_df['spacy_doc']= sample_df['consumer_complaint_narrative'].progress_apply(lambda x :list(spacy_nlp.pipe([x]))[0])\n",
    "print(\"\\n\\nSpacy Doc Completed\")"
   ]
  },
  {
   "cell_type": "code",
   "execution_count": null,
   "metadata": {
    "colab": {
     "base_uri": "https://localhost:8080/"
    },
    "id": "Qvry1gbVjCfv",
    "outputId": "9ed3f83d-6e93-4452-8564-2f47f2463097"
   },
   "outputs": [
    {
     "name": "stdout",
     "output_type": "stream",
     "text": [
      "<class 'pandas.core.frame.DataFrame'>\n",
      "Int64Index: 77895 entries, 1039 to 79231\n",
      "Data columns (total 11 columns):\n",
      " #   Column                         Non-Null Count  Dtype  \n",
      "---  ------                         --------------  -----  \n",
      " 0   consumer_complaint_narrative   77895 non-null  object \n",
      " 1   product                        77895 non-null  object \n",
      " 2   split_words_whitespaces        77895 non-null  object \n",
      " 3   number_of_words                77895 non-null  int64  \n",
      " 4   number_of_charachters          77895 non-null  int64  \n",
      " 5   charachters_by_words           77895 non-null  int64  \n",
      " 6   number_of_unique_words         77895 non-null  int64  \n",
      " 7   potenial_mask_words            77895 non-null  object \n",
      " 8   number_of_potenial_mask_words  77895 non-null  int64  \n",
      " 9   potenial_mask_words_BY_words   77895 non-null  float64\n",
      " 10  spacy_doc                      77895 non-null  object \n",
      "dtypes: float64(1), int64(5), object(5)\n",
      "memory usage: 7.1+ MB\n"
     ]
    }
   ],
   "source": [
    "sample_df.info()"
   ]
  },
  {
   "cell_type": "code",
   "execution_count": null,
   "metadata": {
    "colab": {
     "base_uri": "https://localhost:8080/"
    },
    "id": "6TxL_W3-UaFm",
    "outputId": "430de218-60fa-4431-b4ac-9ed14c780bb1"
   },
   "outputs": [
    {
     "data": {
      "text/plain": [
       "spacy.tokens.doc.Doc"
      ]
     },
     "execution_count": 20,
     "metadata": {},
     "output_type": "execute_result"
    }
   ],
   "source": [
    "#Check the of the first 'spacy_doc' record\n",
    "type(sample_df.loc[0,'spacy_doc'])"
   ]
  },
  {
   "cell_type": "markdown",
   "metadata": {
    "id": "RSaOrR98R15x"
   },
   "source": []
  },
  {
   "cell_type": "code",
   "execution_count": null,
   "metadata": {
    "id": "rQkVmyEzR4gm"
   },
   "outputs": [],
   "source": [
    "#Define the strings to mask\n",
    "mask_words_list =['XX /XX/XXXX','XX-XX-XXXX', #DATE mm/dd/yyyy mm-dd-yyyy\n",
    "                  'XXXX XXXX XXXX XXXX XXXX','XXXX-XXXX-XXXX-XXXX',#CREDIT or PREPASID CARD NUMBER\n",
    "                  'XXXX XXXX XXXX XXXX','XXXX XXXX XXXX','XXXX-XXXX-XXXX','XXXX-XXXX','XXXX XXXX',\n",
    "                  'XXX-XX-XXXX','XXX-XXX','XX-XXXX',\n",
    "                  'XXXXXXXXXXXXXXXXXX','XXXXXXXXXXXXXXXXX', 'XXXXXXXXXXXXXXXX', 'XXXXXXXXXXXXXXX', 'XXXXXXXXXXXXXX',# BANK ACCOUNT NUMBER\n",
    "                  'XXXXXXXXXXXXX', 'XXXXXXXXXXXX', 'XXXXXXXXXXX',                                                   # RANGES FROM 12 TO 18 DIGITS\n",
    "                  'XXXXXXXXXX','XXXXXXXXX'          #ROUTING NUMBER IS 9 DIGIT\n",
    "                  'XXXX','XXX','XX']"
   ]
  },
  {
   "cell_type": "code",
   "execution_count": null,
   "metadata": {
    "colab": {
     "base_uri": "https://localhost:8080/"
    },
    "id": "gXxUZCQwftEn",
    "outputId": "5b0606f2-ca19-4cde-f6a4-edebf567dff6"
   },
   "outputs": [
    {
     "name": "stdout",
     "output_type": "stream",
     "text": [
      "<class 'pandas.core.frame.DataFrame'>\n",
      "Int64Index: 77895 entries, 1039 to 79231\n",
      "Data columns (total 11 columns):\n",
      " #   Column                         Non-Null Count  Dtype  \n",
      "---  ------                         --------------  -----  \n",
      " 0   consumer_complaint_narrative   77895 non-null  object \n",
      " 1   product                        77895 non-null  object \n",
      " 2   split_words_whitespaces        77895 non-null  object \n",
      " 3   number_of_words                77895 non-null  int64  \n",
      " 4   number_of_charachters          77895 non-null  int64  \n",
      " 5   charachters_by_words           77895 non-null  int64  \n",
      " 6   number_of_unique_words         77895 non-null  int64  \n",
      " 7   potenial_mask_words            77895 non-null  object \n",
      " 8   number_of_potenial_mask_words  77895 non-null  int64  \n",
      " 9   potenial_mask_words_BY_words   77895 non-null  float64\n",
      " 10  spacy_doc                      77895 non-null  object \n",
      "dtypes: float64(1), int64(5), object(5)\n",
      "memory usage: 9.1+ MB\n"
     ]
    }
   ],
   "source": [
    "sample_df2 =sample_df.copy()\n",
    "sample_df2.info()"
   ]
  },
  {
   "cell_type": "code",
   "execution_count": null,
   "metadata": {
    "id": "4VDgyESEKpJM"
   },
   "outputs": [],
   "source": [
    "#working\n",
    "import re\n",
    "# Function to identify the tokens and named entities that have to be MASKED replace them with ' <MASK> '\n",
    "def change_details(word):\n",
    "    if word.like_email or word.like_url:\n",
    "        return '<MASK>'\n",
    "    elif any(mask_word in word.string for mask_word in mask_words_list):\n",
    "        return '<MASK>'\n",
    "    elif word.is_stop:\n",
    "        return ''\n",
    "    #elif (( word.string != '.' )|(word.string != '. ')|( word.string != ' .' )|(word.string != ' . ' )):\n",
    "    elif (len(re.findall('\\.',word.string)) < 1) :\n",
    "        if word.is_punct:\n",
    "            return ''\n",
    "    return word.string\n",
    "\n",
    "# Function where each token of spacy doc is passed through change_details()\n",
    "def change_text(doc):\n",
    "    # Passing each token through change_details() function.\n",
    "    new_tokens = map(change_details,doc)\n",
    "    new_text = str(' '.join(new_tokens))\n",
    "    # replace more than one white space in the string with one white space\n",
    "    new_text = re.sub(' +', ' ',new_text)\n",
    "    new_text = new_text.replace(' .', '.')\n",
    "    new_text = new_text.replace('\\n', '')\n",
    "    return new_text"
   ]
  },
  {
   "cell_type": "code",
   "execution_count": null,
   "metadata": {
    "colab": {
     "base_uri": "https://localhost:8080/"
    },
    "id": "H7CNLo06vFJ3",
    "outputId": "2a76271f-6cd8-46d0-df01-c5364ba7198d"
   },
   "outputs": [
    {
     "name": "stderr",
     "output_type": "stream",
     "text": [
      "100%|██████████| 77895/77895 [03:16<00:00, 396.34it/s]"
     ]
    },
    {
     "name": "stdout",
     "output_type": "stream",
     "text": [
      "\n",
      "\n",
      "Text Transformation Completed\n"
     ]
    },
    {
     "name": "stderr",
     "output_type": "stream",
     "text": [
      "\n"
     ]
    }
   ],
   "source": [
    "sample_df2['Change_text']= sample_df2['spacy_doc'].progress_apply(lambda x: change_text(x))\n",
    "print(\"\\n\\nText Transformation Completed\")"
   ]
  },
  {
   "cell_type": "code",
   "execution_count": null,
   "metadata": {
    "colab": {
     "base_uri": "https://localhost:8080/",
     "height": 194
    },
    "id": "SzW273RFBNVE",
    "outputId": "78ac2798-414c-4b7d-9bf6-69674324c7ae"
   },
   "outputs": [
    {
     "data": {
      "text/html": [
       "\n",
       "  <div id=\"df-eb7d3e3a-1dbc-468a-866c-717017612e08\">\n",
       "    <div class=\"colab-df-container\">\n",
       "      <div>\n",
       "<style scoped>\n",
       "    .dataframe tbody tr th:only-of-type {\n",
       "        vertical-align: middle;\n",
       "    }\n",
       "\n",
       "    .dataframe tbody tr th {\n",
       "        vertical-align: top;\n",
       "    }\n",
       "\n",
       "    .dataframe thead th {\n",
       "        text-align: right;\n",
       "    }\n",
       "</style>\n",
       "<table border=\"1\" class=\"dataframe\">\n",
       "  <thead>\n",
       "    <tr style=\"text-align: right;\">\n",
       "      <th></th>\n",
       "      <th>spacy_doc</th>\n",
       "      <th>Change_text</th>\n",
       "    </tr>\n",
       "  </thead>\n",
       "  <tbody>\n",
       "    <tr>\n",
       "      <th>1039</th>\n",
       "      <td>(My, account, #, XXXX, at, Bofa, was, charged, a, NSF, fee, on, XXXX, /, XXXX/2016, for, {, $, 35.00, }, when, I, noticed, on, the, account, activity, a, merchant, deposit, being, made, the, same, day, so, I, am, not, sure, why, the, account, was, charged, this, fee, ., I, believe, there, were, enough, funds, in, transit, that, should, have, been, sufficient, enough, to, take, care, of, this, fee, ., The, Bank, charged, this, fee, unjustly, in, spite, of, the, fact, that, the, merchant, services, account, is, also, with, Bofa, with, daily, deposits, ..)</td>\n",
       "      <td>account &lt;MASK&gt; Bofa charged NSF fee &lt;MASK&gt; &lt;MASK&gt; $ 35.00 noticed account activity merchant deposit day sure account charged fee. believe funds transit sufficient care fee. Bank charged fee unjustly spite fact merchant services account Bofa daily deposits..</td>\n",
       "    </tr>\n",
       "  </tbody>\n",
       "</table>\n",
       "</div>\n",
       "      <button class=\"colab-df-convert\" onclick=\"convertToInteractive('df-eb7d3e3a-1dbc-468a-866c-717017612e08')\"\n",
       "              title=\"Convert this dataframe to an interactive table.\"\n",
       "              style=\"display:none;\">\n",
       "        \n",
       "  <svg xmlns=\"http://www.w3.org/2000/svg\" height=\"24px\"viewBox=\"0 0 24 24\"\n",
       "       width=\"24px\">\n",
       "    <path d=\"M0 0h24v24H0V0z\" fill=\"none\"/>\n",
       "    <path d=\"M18.56 5.44l.94 2.06.94-2.06 2.06-.94-2.06-.94-.94-2.06-.94 2.06-2.06.94zm-11 1L8.5 8.5l.94-2.06 2.06-.94-2.06-.94L8.5 2.5l-.94 2.06-2.06.94zm10 10l.94 2.06.94-2.06 2.06-.94-2.06-.94-.94-2.06-.94 2.06-2.06.94z\"/><path d=\"M17.41 7.96l-1.37-1.37c-.4-.4-.92-.59-1.43-.59-.52 0-1.04.2-1.43.59L10.3 9.45l-7.72 7.72c-.78.78-.78 2.05 0 2.83L4 21.41c.39.39.9.59 1.41.59.51 0 1.02-.2 1.41-.59l7.78-7.78 2.81-2.81c.8-.78.8-2.07 0-2.86zM5.41 20L4 18.59l7.72-7.72 1.47 1.35L5.41 20z\"/>\n",
       "  </svg>\n",
       "      </button>\n",
       "      \n",
       "  <style>\n",
       "    .colab-df-container {\n",
       "      display:flex;\n",
       "      flex-wrap:wrap;\n",
       "      gap: 12px;\n",
       "    }\n",
       "\n",
       "    .colab-df-convert {\n",
       "      background-color: #E8F0FE;\n",
       "      border: none;\n",
       "      border-radius: 50%;\n",
       "      cursor: pointer;\n",
       "      display: none;\n",
       "      fill: #1967D2;\n",
       "      height: 32px;\n",
       "      padding: 0 0 0 0;\n",
       "      width: 32px;\n",
       "    }\n",
       "\n",
       "    .colab-df-convert:hover {\n",
       "      background-color: #E2EBFA;\n",
       "      box-shadow: 0px 1px 2px rgba(60, 64, 67, 0.3), 0px 1px 3px 1px rgba(60, 64, 67, 0.15);\n",
       "      fill: #174EA6;\n",
       "    }\n",
       "\n",
       "    [theme=dark] .colab-df-convert {\n",
       "      background-color: #3B4455;\n",
       "      fill: #D2E3FC;\n",
       "    }\n",
       "\n",
       "    [theme=dark] .colab-df-convert:hover {\n",
       "      background-color: #434B5C;\n",
       "      box-shadow: 0px 1px 3px 1px rgba(0, 0, 0, 0.15);\n",
       "      filter: drop-shadow(0px 1px 2px rgba(0, 0, 0, 0.3));\n",
       "      fill: #FFFFFF;\n",
       "    }\n",
       "  </style>\n",
       "\n",
       "      <script>\n",
       "        const buttonEl =\n",
       "          document.querySelector('#df-eb7d3e3a-1dbc-468a-866c-717017612e08 button.colab-df-convert');\n",
       "        buttonEl.style.display =\n",
       "          google.colab.kernel.accessAllowed ? 'block' : 'none';\n",
       "\n",
       "        async function convertToInteractive(key) {\n",
       "          const element = document.querySelector('#df-eb7d3e3a-1dbc-468a-866c-717017612e08');\n",
       "          const dataTable =\n",
       "            await google.colab.kernel.invokeFunction('convertToInteractive',\n",
       "                                                     [key], {});\n",
       "          if (!dataTable) return;\n",
       "\n",
       "          const docLinkHtml = 'Like what you see? Visit the ' +\n",
       "            '<a target=\"_blank\" href=https://colab.research.google.com/notebooks/data_table.ipynb>data table notebook</a>'\n",
       "            + ' to learn more about interactive tables.';\n",
       "          element.innerHTML = '';\n",
       "          dataTable['output_type'] = 'display_data';\n",
       "          await google.colab.output.renderOutput(dataTable, element);\n",
       "          const docLink = document.createElement('div');\n",
       "          docLink.innerHTML = docLinkHtml;\n",
       "          element.appendChild(docLink);\n",
       "        }\n",
       "      </script>\n",
       "    </div>\n",
       "  </div>\n",
       "  "
      ],
      "text/plain": [
       "                                                                                                                                                                                                                                                                                                                                                                                                                                                                                                                                                                            spacy_doc  \\\n",
       "1039  (My, account, #, XXXX, at, Bofa, was, charged, a, NSF, fee, on, XXXX, /, XXXX/2016, for, {, $, 35.00, }, when, I, noticed, on, the, account, activity, a, merchant, deposit, being, made, the, same, day, so, I, am, not, sure, why, the, account, was, charged, this, fee, ., I, believe, there, were, enough, funds, in, transit, that, should, have, been, sufficient, enough, to, take, care, of, this, fee, ., The, Bank, charged, this, fee, unjustly, in, spite, of, the, fact, that, the, merchant, services, account, is, also, with, Bofa, with, daily, deposits, ..)   \n",
       "\n",
       "                                                                                                                                                                                                                                                             Change_text  \n",
       "1039   account <MASK> Bofa charged NSF fee <MASK> <MASK> $ 35.00 noticed account activity merchant deposit day sure account charged fee. believe funds transit sufficient care fee. Bank charged fee unjustly spite fact merchant services account Bofa daily deposits..  "
      ]
     },
     "metadata": {},
     "output_type": "display_data"
    }
   ],
   "source": [
    "#Display an example of how the Text is changed\n",
    "pd.set_option('display.max_colwidth', None)\n",
    "display(sample_df2.loc[:,['spacy_doc','Change_text']][:1])"
   ]
  },
  {
   "cell_type": "code",
   "execution_count": null,
   "metadata": {
    "colab": {
     "base_uri": "https://localhost:8080/"
    },
    "id": "0JBrhC2pzvg1",
    "outputId": "e91564d1-629c-4301-d663-0875e6911f5c"
   },
   "outputs": [
    {
     "name": "stdout",
     "output_type": "stream",
     "text": [
      "<class 'pandas.core.frame.DataFrame'>\n",
      "Int64Index: 77895 entries, 1039 to 79231\n",
      "Data columns (total 14 columns):\n",
      " #   Column                         Non-Null Count  Dtype  \n",
      "---  ------                         --------------  -----  \n",
      " 0   consumer_complaint_narrative   77895 non-null  object \n",
      " 1   product                        77895 non-null  object \n",
      " 2   split_words_whitespaces        77895 non-null  object \n",
      " 3   number_of_words                77895 non-null  int64  \n",
      " 4   number_of_charachters          77895 non-null  int64  \n",
      " 5   charachters_by_words           77895 non-null  int64  \n",
      " 6   number_of_unique_words         77895 non-null  int64  \n",
      " 7   potenial_mask_words            77895 non-null  object \n",
      " 8   number_of_potenial_mask_words  77895 non-null  int64  \n",
      " 9   potenial_mask_words_BY_words   77895 non-null  float64\n",
      " 10  spacy_doc                      77895 non-null  object \n",
      " 11  Change_text                    77895 non-null  object \n",
      " 12  number_of_<MASK>               77895 non-null  int64  \n",
      " 13  <MASK>_BY_WORDS                77895 non-null  float64\n",
      "dtypes: float64(2), int64(6), object(6)\n",
      "memory usage: 10.9+ MB\n"
     ]
    }
   ],
   "source": [
    "#Split 'Change_text' into substrings whenever whitespace occur\n",
    "sample_df2['split_words_whitespaces'] = sample_df2['Change_text'].apply(lambda x: x.split())\n",
    "#Count the number of substrings in 'split_words_whitespaces'\n",
    "sample_df2['number_of_words'] = sample_df2['split_words_whitespaces'].apply(lambda x: len(x))\n",
    "#Count the number of charachters in  'Change_text'\n",
    "sample_df2['number_of_charachters'] = sample_df2['Change_text'].apply(lambda x: len(x))\n",
    "#Calculate the ratio of number of charachters by number of words\n",
    "sample_df2['charachters_by_words'] = sample_df2['number_of_charachters'] // sample_df2['number_of_words']\n",
    "#Count the number of unique strings in 'split_words_whitespaces'\n",
    "sample_df2['number_of_unique_words'] = sample_df2['split_words_whitespaces'].apply(lambda x : len(set(x)))\n",
    "#Count the number of '<MASK>' strings in 'Change_text'\n",
    "sample_df2['number_of_<MASK>'] = sample_df2['Change_text'].apply(lambda x : x.count('<MASK>'))\n",
    "#Count the number of '<MASK>' by 'number of words'\n",
    "sample_df2['<MASK>_BY_WORDS'] = sample_df2['number_of_<MASK>']/sample_df2['number_of_words']\n",
    "\n",
    "sample_df2.info()"
   ]
  },
  {
   "cell_type": "code",
   "execution_count": null,
   "metadata": {
    "colab": {
     "base_uri": "https://localhost:8080/"
    },
    "id": "UZ9C1cknfBje",
    "outputId": "52475dbe-15f9-42ca-cc78-56b19ba433d9"
   },
   "outputs": [
    {
     "name": "stdout",
     "output_type": "stream",
     "text": [
      "<class 'pandas.core.frame.DataFrame'>\n",
      "Int64Index: 71584 entries, 1039 to 79231\n",
      "Data columns (total 14 columns):\n",
      " #   Column                         Non-Null Count  Dtype  \n",
      "---  ------                         --------------  -----  \n",
      " 0   consumer_complaint_narrative   71584 non-null  object \n",
      " 1   product                        71584 non-null  object \n",
      " 2   split_words_whitespaces        71584 non-null  object \n",
      " 3   number_of_words                71584 non-null  int64  \n",
      " 4   number_of_charachters          71584 non-null  int64  \n",
      " 5   charachters_by_words           71584 non-null  int64  \n",
      " 6   number_of_unique_words         71584 non-null  int64  \n",
      " 7   potenial_mask_words            71584 non-null  object \n",
      " 8   number_of_potenial_mask_words  71584 non-null  int64  \n",
      " 9   potenial_mask_words_BY_words   71584 non-null  float64\n",
      " 10  spacy_doc                      71584 non-null  object \n",
      " 11  Change_text                    71584 non-null  object \n",
      " 12  number_of_<MASK>               71584 non-null  int64  \n",
      " 13  <MASK>_BY_WORDS                71584 non-null  float64\n",
      "dtypes: float64(2), int64(6), object(6)\n",
      "memory usage: 8.2+ MB\n"
     ]
    }
   ],
   "source": [
    "sample_df3 = sample_df2[sample_df2['<MASK>_BY_WORDS'].le(0.3)]\n",
    "sample_df3.info()"
   ]
  },
  {
   "cell_type": "code",
   "execution_count": null,
   "metadata": {
    "colab": {
     "base_uri": "https://localhost:8080/"
    },
    "id": "-FlVYDimtO5l",
    "outputId": "f516a5c8-d3da-4d9d-dfc5-14e5351ca3d8"
   },
   "outputs": [
    {
     "name": "stdout",
     "output_type": "stream",
     "text": [
      "<class 'pandas.core.frame.DataFrame'>\n",
      "Int64Index: 37487 entries, 1039 to 79231\n",
      "Data columns (total 14 columns):\n",
      " #   Column                         Non-Null Count  Dtype  \n",
      "---  ------                         --------------  -----  \n",
      " 0   consumer_complaint_narrative   37487 non-null  object \n",
      " 1   product                        37487 non-null  object \n",
      " 2   split_words_whitespaces        37487 non-null  object \n",
      " 3   number_of_words                37487 non-null  int64  \n",
      " 4   number_of_charachters          37487 non-null  int64  \n",
      " 5   charachters_by_words           37487 non-null  int64  \n",
      " 6   number_of_unique_words         37487 non-null  int64  \n",
      " 7   potenial_mask_words            37487 non-null  object \n",
      " 8   number_of_potenial_mask_words  37487 non-null  int64  \n",
      " 9   potenial_mask_words_BY_words   37487 non-null  float64\n",
      " 10  spacy_doc                      37487 non-null  object \n",
      " 11  Change_text                    37487 non-null  object \n",
      " 12  number_of_<MASK>               37487 non-null  int64  \n",
      " 13  <MASK>_BY_WORDS                37487 non-null  float64\n",
      "dtypes: float64(2), int64(6), object(6)\n",
      "memory usage: 4.3+ MB\n"
     ]
    }
   ],
   "source": [
    "sample_df4 = sample_df2[sample_df2['<MASK>_BY_WORDS'].le(0.1)]\n",
    "sample_df4.info()"
   ]
  },
  {
   "cell_type": "code",
   "execution_count": null,
   "metadata": {
    "colab": {
     "base_uri": "https://localhost:8080/"
    },
    "id": "RHVZinC6C9pZ",
    "outputId": "062ac458-6789-4639-af04-a291ea39743c"
   },
   "outputs": [
    {
     "name": "stdout",
     "output_type": "stream",
     "text": [
      "<class 'pandas.core.frame.DataFrame'>\n",
      "Int64Index: 61096 entries, 1039 to 79231\n",
      "Data columns (total 14 columns):\n",
      " #   Column                         Non-Null Count  Dtype  \n",
      "---  ------                         --------------  -----  \n",
      " 0   consumer_complaint_narrative   61096 non-null  object \n",
      " 1   product                        61096 non-null  object \n",
      " 2   split_words_whitespaces        61096 non-null  object \n",
      " 3   number_of_words                61096 non-null  int64  \n",
      " 4   number_of_charachters          61096 non-null  int64  \n",
      " 5   charachters_by_words           61096 non-null  int64  \n",
      " 6   number_of_unique_words         61096 non-null  int64  \n",
      " 7   potenial_mask_words            61096 non-null  object \n",
      " 8   number_of_potenial_mask_words  61096 non-null  int64  \n",
      " 9   potenial_mask_words_BY_words   61096 non-null  float64\n",
      " 10  spacy_doc                      61096 non-null  object \n",
      " 11  Change_text                    61096 non-null  object \n",
      " 12  number_of_<MASK>               61096 non-null  int64  \n",
      " 13  <MASK>_BY_WORDS                61096 non-null  float64\n",
      "dtypes: float64(2), int64(6), object(6)\n",
      "memory usage: 7.0+ MB\n"
     ]
    }
   ],
   "source": [
    "sample_df5 = sample_df2[sample_df2['<MASK>_BY_WORDS'].le(0.2)]\n",
    "sample_df5.info()"
   ]
  },
  {
   "cell_type": "markdown",
   "metadata": {
    "id": "LFcr-ozDmteM"
   },
   "source": [
    "## Download the Sample Data"
   ]
  },
  {
   "cell_type": "code",
   "execution_count": null,
   "metadata": {
    "colab": {
     "base_uri": "https://localhost:8080/"
    },
    "id": "PBZrl1QRmvlT",
    "outputId": "2b15f685-903c-40ff-aa92-bf914ba821d3"
   },
   "outputs": [
    {
     "name": "stdout",
     "output_type": "stream",
     "text": [
      "\n",
      "\n",
      "Download Completed\n"
     ]
    }
   ],
   "source": [
    "#Download the sample data\n",
    "sample_df3.to_csv(\"SAMPLE_DOC_30_PER_MASK_EXP_3.csv\", encoding='utf-8', index=False)\n",
    "print(\"\\n\\nDownload Completed\")"
   ]
  },
  {
   "cell_type": "code",
   "execution_count": null,
   "metadata": {
    "colab": {
     "base_uri": "https://localhost:8080/"
    },
    "id": "NIxaDLqgtaxT",
    "outputId": "73a99f9f-42c4-491a-eb9e-975f1b349589"
   },
   "outputs": [
    {
     "name": "stdout",
     "output_type": "stream",
     "text": [
      "\n",
      "\n",
      "Download Completed\n"
     ]
    }
   ],
   "source": [
    "#Download the sample data\n",
    "sample_df4.to_csv(\"SAMPLE_DOC_10_PER_MASK_EXP_3.csv\", encoding='utf-8', index=False)\n",
    "print(\"\\n\\nDownload Completed\")"
   ]
  },
  {
   "cell_type": "code",
   "execution_count": null,
   "metadata": {
    "colab": {
     "base_uri": "https://localhost:8080/"
    },
    "id": "dpgkWDWTDMhN",
    "outputId": "f40bbbcc-e6e3-400a-db6e-5044d9e50e3b"
   },
   "outputs": [
    {
     "name": "stdout",
     "output_type": "stream",
     "text": [
      "\n",
      "\n",
      "Download Completed\n"
     ]
    }
   ],
   "source": [
    "#Download the sample data\n",
    "sample_df5.to_csv(\"SAMPLE_DOC_20_PER_MASK_EXP_3.csv\", encoding='utf-8', index=False)\n",
    "print(\"\\n\\nDownload Completed\")"
   ]
  },
  {
   "cell_type": "code",
   "execution_count": null,
   "metadata": {
    "colab": {
     "base_uri": "https://localhost:8080/"
    },
    "id": "5_fWtgdBCKqA",
    "outputId": "00e53413-3533-42ed-a46d-16bed3f66ac2"
   },
   "outputs": [
    {
     "name": "stdout",
     "output_type": "stream",
     "text": [
      "\n",
      "Transfer Complete\n"
     ]
    }
   ],
   "source": [
    "#Transfer the data\n",
    "import shutil\n",
    "destination_path_10_per = '/content/drive/MyDrive/Complaints_csv/Experiment3/SAMPLE_DOC_10_PER_MASK_EXP_3.csv'\n",
    "shutil.copy(\"SAMPLE_DOC_10_PER_MASK_EXP_3.csv\", destination_path_10_per )\n",
    "destination_path_20_per = '/content/drive/MyDrive/Complaints_csv/Experiment3/SAMPLE_DOC_20_PER_MASK_EXP_3.csv'\n",
    "shutil.copy(\"SAMPLE_DOC_20_PER_MASK_EXP_3.csv\", destination_path_20_per )\n",
    "destination_path_30_per = '/content/drive/MyDrive/Complaints_csv/Experiment3/SAMPLE_DOC_30_PER_MASK_EXP_3.csv'\n",
    "shutil.copy(\"SAMPLE_DOC_30_PER_MASK_EXP_3.csv\", destination_path_30_per )\n",
    "print(\"\\nTransfer Complete\")"
   ]
  }
 ],
 "metadata": {
  "colab": {
   "collapsed_sections": [
    "HltVocsVxIVZ"
   ],
   "name": "EXPERIMENT3_April_22_2022_PART2 _Spacy_Library_CREATE_DOC.ipynb",
   "provenance": []
  },
  "kernelspec": {
   "display_name": "Python 3 (ipykernel)",
   "language": "python",
   "name": "python3"
  },
  "language_info": {
   "codemirror_mode": {
    "name": "ipython",
    "version": 3
   },
   "file_extension": ".py",
   "mimetype": "text/x-python",
   "name": "python",
   "nbconvert_exporter": "python",
   "pygments_lexer": "ipython3",
   "version": "3.9.7"
  }
 },
 "nbformat": 4,
 "nbformat_minor": 1
}
