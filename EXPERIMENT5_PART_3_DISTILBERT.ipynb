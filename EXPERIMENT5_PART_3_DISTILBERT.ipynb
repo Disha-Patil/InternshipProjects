{
 "cells": [
  {
   "cell_type": "markdown",
   "metadata": {
    "id": "6GkxfuQ8ob0R"
   },
   "source": [
    "# About the Data\n",
    "\n",
    "* The data was taken from \n",
    "the csv file complaints.csv\n",
    "\n",
    "\n",
    "* The complaints are for the products:<br>\n",
    "\n",
    "  1. 'Bank account or service'\n",
    "  2. 'Checking or savings account'\n",
    "  3. 'Consumer Loan'\n",
    "  4. 'Credit card or prepaid card'\n",
    "  5. 'Credit reporting, credit repair services, or other personal consumer reports' \n",
    "  6. 'Debt collection'\n",
    "  7. Money transfer/s, virtual currency, or money service'\n",
    "  8. 'Mortgage'\n",
    "  9. 'Payday loan, title loan, or personal loan'\n",
    "  10. 'Student loan'\n",
    "  11. 'Vehicle loan or lease'\n",
    "\n",
    "\n",
    "* The data cleaning and stopwords removal was done using the nltk and spacy library\n",
    "\n",
    "* The sample data has at most 10 percent 'MASK' words. \n",
    "\n"
   ]
  },
  {
   "cell_type": "markdown",
   "metadata": {
    "id": "jhdSQHY_WYk8"
   },
   "source": [
    "# Fine Tuning DistilBERT model for text classification\n",
    "\n",
    "* The model was trained on 5 epochs and the learning rate was set at 1e-5 and batch size 16\n",
    "\n",
    "* Total training time taken across all epochs [Validation and model saving time included]: 4:12:32 (h:mm:ss)\n",
    "* Data Split:<br>\n",
    "      -Training data: 30769 (72 percent)\n",
    "      -Validation data: 7693 (18 percent)\n",
    "      -Test Data : 4274 (10 percent)\n",
    "\n",
    "* F1-score<br>\n",
    "      -Training data: 0.71\n",
    "      -Validation data: 0.66\n",
    "\n",
    "* Fine-tuning was done on the sample data of size 42736 entries\n",
    "   \n"
   ]
  },
  {
   "cell_type": "markdown",
   "metadata": {
    "id": "HltVocsVxIVZ"
   },
   "source": [
    "## Next Steps\n",
    "\n",
    "* Calculate Metrics on the test Data Set \n",
    "\n",
    "* Fine-tune DistilBERT on a dataset of size 50,000\n",
    "\n",
    "\n"
   ]
  },
  {
   "cell_type": "markdown",
   "metadata": {
    "id": "M8MJt_UDu36B"
   },
   "source": [
    "## Google Drive access"
   ]
  },
  {
   "cell_type": "code",
   "execution_count": 1,
   "metadata": {
    "colab": {
     "base_uri": "https://localhost:8080/"
    },
    "id": "YpebIE41u3Mh",
    "outputId": "cd84e15c-c296-4ec2-be12-1f93915bd6fe"
   },
   "outputs": [
    {
     "name": "stdout",
     "output_type": "stream",
     "text": [
      "Mounted at /content/drive\n"
     ]
    }
   ],
   "source": [
    "from google.colab import drive\n",
    "drive.mount('/content/drive')"
   ]
  },
  {
   "cell_type": "code",
   "execution_count": 2,
   "metadata": {
    "id": "f3hBz6OXw3gQ"
   },
   "outputs": [],
   "source": [
    "# write the appropriate paths to retrieve the data and store results \n",
    "sample_data_path_clean = '/content/drive/MyDrive/Complaints_csv/Experiment5/SAMPLE_DOC_10_PER_MASK_EXP_5.csv'\n",
    "checkpoint_path = \"/content/checkpoint/current_checkpoint.pt\"\n",
    "best_model_path = \"/content/best_model/best_model.pt\"\n",
    "used_test_data_path = \"/content/best_model/Test_data_DistilBERT.csv\"\n",
    "encoded_test_data_path = \"/content/best_model/ENCODED_Test_data_DistilBERT.csv\"\n",
    "label2id_df_path = \"/content/best_model/label2id_df.csv\""
   ]
  },
  {
   "cell_type": "markdown",
   "metadata": {
    "id": "hhdVBYIGW2mH"
   },
   "source": [
    "## Set-up environment\n",
    "\n",
    "Install the libraries HuggingFace Transformers and Datasets"
   ]
  },
  {
   "cell_type": "code",
   "execution_count": 3,
   "metadata": {
    "colab": {
     "base_uri": "https://localhost:8080/"
    },
    "id": "bs0-RE3D76PZ",
    "outputId": "45c25603-2c2b-4295-e044-51363e83a5e7"
   },
   "outputs": [
    {
     "name": "stdout",
     "output_type": "stream",
     "text": [
      "\u001b[K     |████████████████████████████████| 4.0 MB 5.2 MB/s \n",
      "\u001b[K     |████████████████████████████████| 325 kB 46.8 MB/s \n",
      "\u001b[K     |████████████████████████████████| 596 kB 49.5 MB/s \n",
      "\u001b[K     |████████████████████████████████| 895 kB 41.1 MB/s \n",
      "\u001b[K     |████████████████████████████████| 77 kB 5.9 MB/s \n",
      "\u001b[K     |████████████████████████████████| 6.6 MB 33.4 MB/s \n",
      "\u001b[K     |████████████████████████████████| 136 kB 47.4 MB/s \n",
      "\u001b[K     |████████████████████████████████| 1.1 MB 39.6 MB/s \n",
      "\u001b[K     |████████████████████████████████| 212 kB 48.0 MB/s \n",
      "\u001b[K     |████████████████████████████████| 127 kB 44.9 MB/s \n",
      "\u001b[K     |████████████████████████████████| 144 kB 45.2 MB/s \n",
      "\u001b[K     |████████████████████████████████| 271 kB 45.9 MB/s \n",
      "\u001b[K     |████████████████████████████████| 94 kB 2.6 MB/s \n",
      "\u001b[31mERROR: pip's dependency resolver does not currently take into account all the packages that are installed. This behaviour is the source of the following dependency conflicts.\n",
      "datascience 0.10.6 requires folium==0.2.1, but you have folium 0.8.3 which is incompatible.\u001b[0m\n",
      "\u001b[?25h"
     ]
    }
   ],
   "source": [
    "#Install HuggingFace tranformer and datasets libraries  \n",
    "!pip install -q transformers datasets "
   ]
  },
  {
   "cell_type": "markdown",
   "metadata": {
    "id": "QEvbhhYFfKSX"
   },
   "source": [
    "## Import the Libraries"
   ]
  },
  {
   "cell_type": "code",
   "execution_count": 4,
   "metadata": {
    "id": "yEcekYqCfJWF"
   },
   "outputs": [],
   "source": [
    "import torch\n",
    "import collections "
   ]
  },
  {
   "cell_type": "code",
   "execution_count": 5,
   "metadata": {
    "colab": {
     "base_uri": "https://localhost:8080/"
    },
    "id": "bUvk9uQCAspf",
    "outputId": "e9188bf1-37d2-4271-a74b-5ff693b06a97"
   },
   "outputs": [
    {
     "name": "stdout",
     "output_type": "stream",
     "text": [
      "cuda:0 is available\n"
     ]
    }
   ],
   "source": [
    "#Check if GPU is available\n",
    "\n",
    "device = \"cuda:0\" if torch.cuda.is_available() else \"cpu\"\n",
    "print(device, \"is available\")"
   ]
  },
  {
   "cell_type": "markdown",
   "metadata": {
    "id": "dwnUTHc_WWf9"
   },
   "source": [
    "# Loading the dataset"
   ]
  },
  {
   "cell_type": "code",
   "execution_count": 6,
   "metadata": {
    "colab": {
     "base_uri": "https://localhost:8080/",
     "height": 637
    },
    "id": "hSr1m-4emA8l",
    "outputId": "c70611d3-9d5f-422f-fbc7-213794b269c3"
   },
   "outputs": [
    {
     "data": {
      "text/html": [
       "\n",
       "  <div id=\"df-86d47b84-8908-40fe-8934-ff66165bcf56\">\n",
       "    <div class=\"colab-df-container\">\n",
       "      <div>\n",
       "<style scoped>\n",
       "    .dataframe tbody tr th:only-of-type {\n",
       "        vertical-align: middle;\n",
       "    }\n",
       "\n",
       "    .dataframe tbody tr th {\n",
       "        vertical-align: top;\n",
       "    }\n",
       "\n",
       "    .dataframe thead th {\n",
       "        text-align: right;\n",
       "    }\n",
       "</style>\n",
       "<table border=\"1\" class=\"dataframe\">\n",
       "  <thead>\n",
       "    <tr style=\"text-align: right;\">\n",
       "      <th></th>\n",
       "      <th>consumer_complaint_narrative</th>\n",
       "      <th>product</th>\n",
       "      <th>split_words_whitespaces</th>\n",
       "      <th>number_of_words</th>\n",
       "      <th>number_of_charachters</th>\n",
       "      <th>charachters_by_words</th>\n",
       "      <th>number_of_unique_words</th>\n",
       "      <th>potenial_mask_words</th>\n",
       "      <th>number_of_potenial_mask_words</th>\n",
       "      <th>potenial_mask_words_BY_words</th>\n",
       "      <th>...</th>\n",
       "      <th>lower</th>\n",
       "      <th>stopwords_removed</th>\n",
       "      <th>pos_tags</th>\n",
       "      <th>wordnet_pos</th>\n",
       "      <th>lemmatized</th>\n",
       "      <th>lemma_str</th>\n",
       "      <th>spacy_doc</th>\n",
       "      <th>masked_lemma_str</th>\n",
       "      <th>number_of_&lt;MASK&gt;</th>\n",
       "      <th>&lt;MASK&gt;_BY_WORDS</th>\n",
       "    </tr>\n",
       "  </thead>\n",
       "  <tbody>\n",
       "    <tr>\n",
       "      <th>0</th>\n",
       "      <td>My account # XXXX at Bofa was charged a NSF fe...</td>\n",
       "      <td>Bank account or service</td>\n",
       "      <td>['account', '&lt;MASK&gt;', 'bofa', 'charge', 'nsf',...</td>\n",
       "      <td>36</td>\n",
       "      <td>237</td>\n",
       "      <td>6</td>\n",
       "      <td>24</td>\n",
       "      <td>['XXXX', 'XXXX/XXXX/2016']</td>\n",
       "      <td>2</td>\n",
       "      <td>0.023529</td>\n",
       "      <td>...</td>\n",
       "      <td>['my', 'account', 'xxxx', 'at', 'bofa', 'was',...</td>\n",
       "      <td>['account', 'xxxx', 'bofa', 'charged', 'nsf', ...</td>\n",
       "      <td>[('account', 'NN'), ('xxxx', 'NNP'), ('bofa', ...</td>\n",
       "      <td>[('account', 'n'), ('xxxx', 'n'), ('bofa', 'n'...</td>\n",
       "      <td>['account', 'xxxx', 'bofa', 'charge', 'nsf', '...</td>\n",
       "      <td>account xxxx bofa charge nsf fee xxxxxxxx2016 ...</td>\n",
       "      <td>account xxxx bofa charge nsf fee xxxxxxxx2016 ...</td>\n",
       "      <td>account &lt;MASK&gt; bofa charge nsf fee &lt;MASK&gt; 3500...</td>\n",
       "      <td>2</td>\n",
       "      <td>0.055556</td>\n",
       "    </tr>\n",
       "    <tr>\n",
       "      <th>1</th>\n",
       "      <td>I had my mortgage on auto pay from my bank. I ...</td>\n",
       "      <td>Bank account or service</td>\n",
       "      <td>['mortgage', 'auto', 'pay', 'bank', '&lt;MASK&gt;', ...</td>\n",
       "      <td>17</td>\n",
       "      <td>118</td>\n",
       "      <td>6</td>\n",
       "      <td>15</td>\n",
       "      <td>['XXXX']</td>\n",
       "      <td>1</td>\n",
       "      <td>0.020000</td>\n",
       "      <td>...</td>\n",
       "      <td>['i', 'had', 'my', 'mortgage', 'on', 'auto', '...</td>\n",
       "      <td>['mortgage', 'auto', 'pay', 'bank', 'xxxx', 'a...</td>\n",
       "      <td>[('mortgage', 'NN'), ('auto', 'NN'), ('pay', '...</td>\n",
       "      <td>[('mortgage', 'n'), ('auto', 'n'), ('pay', 'v'...</td>\n",
       "      <td>['mortgage', 'auto', 'pay', 'bank', 'xxxx', 'a...</td>\n",
       "      <td>mortgage auto pay bank xxxx account check acco...</td>\n",
       "      <td>mortgage auto pay bank xxxx account check acco...</td>\n",
       "      <td>mortgage auto pay bank &lt;MASK&gt; account check ac...</td>\n",
       "      <td>1</td>\n",
       "      <td>0.058824</td>\n",
       "    </tr>\n",
       "    <tr>\n",
       "      <th>2</th>\n",
       "      <td>XX/XX/2016 on of our newly opened business acc...</td>\n",
       "      <td>Bank account or service</td>\n",
       "      <td>['&lt;MASK&gt;', 'newly', 'open', 'business', 'accou...</td>\n",
       "      <td>80</td>\n",
       "      <td>546</td>\n",
       "      <td>6</td>\n",
       "      <td>60</td>\n",
       "      <td>['XX/XX/2016']</td>\n",
       "      <td>1</td>\n",
       "      <td>0.005495</td>\n",
       "      <td>...</td>\n",
       "      <td>['xxxx2016', 'on', 'of', 'our', 'newly', 'open...</td>\n",
       "      <td>['xxxx2016', 'newly', 'opened', 'business', 'a...</td>\n",
       "      <td>[('xxxx2016', 'JJ'), ('newly', 'RB'), ('opened...</td>\n",
       "      <td>[('xxxx2016', 'a'), ('newly', 'r'), ('opened',...</td>\n",
       "      <td>['xxxx2016', 'newly', 'open', 'business', 'acc...</td>\n",
       "      <td>xxxx2016 newly open business account take 1000...</td>\n",
       "      <td>xxxx2016 newly open business account take 1000...</td>\n",
       "      <td>&lt;MASK&gt; newly open business account 1000000 sto...</td>\n",
       "      <td>1</td>\n",
       "      <td>0.012500</td>\n",
       "    </tr>\n",
       "    <tr>\n",
       "      <th>3</th>\n",
       "      <td>I issued a Check for {$7100.00} against my acc...</td>\n",
       "      <td>Bank account or service</td>\n",
       "      <td>['issue', 'check', '710000', 'account', 'depos...</td>\n",
       "      <td>62</td>\n",
       "      <td>449</td>\n",
       "      <td>7</td>\n",
       "      <td>40</td>\n",
       "      <td>[]</td>\n",
       "      <td>0</td>\n",
       "      <td>0.000000</td>\n",
       "      <td>...</td>\n",
       "      <td>['i', 'issued', 'a', 'check', 'for', '710000',...</td>\n",
       "      <td>['issued', 'check', '710000', 'account', 'depo...</td>\n",
       "      <td>[('issued', 'VBN'), ('check', 'VB'), ('710000'...</td>\n",
       "      <td>[('issued', 'v'), ('check', 'v'), ('710000', '...</td>\n",
       "      <td>['issue', 'check', '710000', 'account', 'depos...</td>\n",
       "      <td>issue check 710000 account deposit another ban...</td>\n",
       "      <td>issue check 710000 account deposit another ban...</td>\n",
       "      <td>issue check 710000 account deposit bank citiba...</td>\n",
       "      <td>0</td>\n",
       "      <td>0.000000</td>\n",
       "    </tr>\n",
       "    <tr>\n",
       "      <th>4</th>\n",
       "      <td>XX/XX/2016, I ordered XXXX items using my debi...</td>\n",
       "      <td>Bank account or service</td>\n",
       "      <td>['&lt;MASK&gt;', 'order', '&lt;MASK&gt;', 'item', 'use', '...</td>\n",
       "      <td>95</td>\n",
       "      <td>645</td>\n",
       "      <td>6</td>\n",
       "      <td>76</td>\n",
       "      <td>['XX/XX/2016,', 'XXXX', 'XXXX.', 'XXXX', 'XXXX...</td>\n",
       "      <td>8</td>\n",
       "      <td>0.033473</td>\n",
       "      <td>...</td>\n",
       "      <td>['xxxx2016', 'i', 'ordered', 'xxxx', 'items', ...</td>\n",
       "      <td>['xxxx2016', 'ordered', 'xxxx', 'items', 'usin...</td>\n",
       "      <td>[('xxxx2016', 'RB'), ('ordered', 'VBN'), ('xxx...</td>\n",
       "      <td>[('xxxx2016', 'r'), ('ordered', 'v'), ('xxxx',...</td>\n",
       "      <td>['xxxx2016', 'order', 'xxxx', 'item', 'use', '...</td>\n",
       "      <td>xxxx2016 order xxxx item use debit card 6500 w...</td>\n",
       "      <td>xxxx2016 order xxxx item use debit card 6500 w...</td>\n",
       "      <td>&lt;MASK&gt; order &lt;MASK&gt; item use debit card 6500 w...</td>\n",
       "      <td>8</td>\n",
       "      <td>0.084211</td>\n",
       "    </tr>\n",
       "  </tbody>\n",
       "</table>\n",
       "<p>5 rows × 22 columns</p>\n",
       "</div>\n",
       "      <button class=\"colab-df-convert\" onclick=\"convertToInteractive('df-86d47b84-8908-40fe-8934-ff66165bcf56')\"\n",
       "              title=\"Convert this dataframe to an interactive table.\"\n",
       "              style=\"display:none;\">\n",
       "        \n",
       "  <svg xmlns=\"http://www.w3.org/2000/svg\" height=\"24px\"viewBox=\"0 0 24 24\"\n",
       "       width=\"24px\">\n",
       "    <path d=\"M0 0h24v24H0V0z\" fill=\"none\"/>\n",
       "    <path d=\"M18.56 5.44l.94 2.06.94-2.06 2.06-.94-2.06-.94-.94-2.06-.94 2.06-2.06.94zm-11 1L8.5 8.5l.94-2.06 2.06-.94-2.06-.94L8.5 2.5l-.94 2.06-2.06.94zm10 10l.94 2.06.94-2.06 2.06-.94-2.06-.94-.94-2.06-.94 2.06-2.06.94z\"/><path d=\"M17.41 7.96l-1.37-1.37c-.4-.4-.92-.59-1.43-.59-.52 0-1.04.2-1.43.59L10.3 9.45l-7.72 7.72c-.78.78-.78 2.05 0 2.83L4 21.41c.39.39.9.59 1.41.59.51 0 1.02-.2 1.41-.59l7.78-7.78 2.81-2.81c.8-.78.8-2.07 0-2.86zM5.41 20L4 18.59l7.72-7.72 1.47 1.35L5.41 20z\"/>\n",
       "  </svg>\n",
       "      </button>\n",
       "      \n",
       "  <style>\n",
       "    .colab-df-container {\n",
       "      display:flex;\n",
       "      flex-wrap:wrap;\n",
       "      gap: 12px;\n",
       "    }\n",
       "\n",
       "    .colab-df-convert {\n",
       "      background-color: #E8F0FE;\n",
       "      border: none;\n",
       "      border-radius: 50%;\n",
       "      cursor: pointer;\n",
       "      display: none;\n",
       "      fill: #1967D2;\n",
       "      height: 32px;\n",
       "      padding: 0 0 0 0;\n",
       "      width: 32px;\n",
       "    }\n",
       "\n",
       "    .colab-df-convert:hover {\n",
       "      background-color: #E2EBFA;\n",
       "      box-shadow: 0px 1px 2px rgba(60, 64, 67, 0.3), 0px 1px 3px 1px rgba(60, 64, 67, 0.15);\n",
       "      fill: #174EA6;\n",
       "    }\n",
       "\n",
       "    [theme=dark] .colab-df-convert {\n",
       "      background-color: #3B4455;\n",
       "      fill: #D2E3FC;\n",
       "    }\n",
       "\n",
       "    [theme=dark] .colab-df-convert:hover {\n",
       "      background-color: #434B5C;\n",
       "      box-shadow: 0px 1px 3px 1px rgba(0, 0, 0, 0.15);\n",
       "      filter: drop-shadow(0px 1px 2px rgba(0, 0, 0, 0.3));\n",
       "      fill: #FFFFFF;\n",
       "    }\n",
       "  </style>\n",
       "\n",
       "      <script>\n",
       "        const buttonEl =\n",
       "          document.querySelector('#df-86d47b84-8908-40fe-8934-ff66165bcf56 button.colab-df-convert');\n",
       "        buttonEl.style.display =\n",
       "          google.colab.kernel.accessAllowed ? 'block' : 'none';\n",
       "\n",
       "        async function convertToInteractive(key) {\n",
       "          const element = document.querySelector('#df-86d47b84-8908-40fe-8934-ff66165bcf56');\n",
       "          const dataTable =\n",
       "            await google.colab.kernel.invokeFunction('convertToInteractive',\n",
       "                                                     [key], {});\n",
       "          if (!dataTable) return;\n",
       "\n",
       "          const docLinkHtml = 'Like what you see? Visit the ' +\n",
       "            '<a target=\"_blank\" href=https://colab.research.google.com/notebooks/data_table.ipynb>data table notebook</a>'\n",
       "            + ' to learn more about interactive tables.';\n",
       "          element.innerHTML = '';\n",
       "          dataTable['output_type'] = 'display_data';\n",
       "          await google.colab.output.renderOutput(dataTable, element);\n",
       "          const docLink = document.createElement('div');\n",
       "          docLink.innerHTML = docLinkHtml;\n",
       "          element.appendChild(docLink);\n",
       "        }\n",
       "      </script>\n",
       "    </div>\n",
       "  </div>\n",
       "  "
      ],
      "text/plain": [
       "                        consumer_complaint_narrative                  product  \\\n",
       "0  My account # XXXX at Bofa was charged a NSF fe...  Bank account or service   \n",
       "1  I had my mortgage on auto pay from my bank. I ...  Bank account or service   \n",
       "2  XX/XX/2016 on of our newly opened business acc...  Bank account or service   \n",
       "3  I issued a Check for {$7100.00} against my acc...  Bank account or service   \n",
       "4  XX/XX/2016, I ordered XXXX items using my debi...  Bank account or service   \n",
       "\n",
       "                             split_words_whitespaces  number_of_words  \\\n",
       "0  ['account', '<MASK>', 'bofa', 'charge', 'nsf',...               36   \n",
       "1  ['mortgage', 'auto', 'pay', 'bank', '<MASK>', ...               17   \n",
       "2  ['<MASK>', 'newly', 'open', 'business', 'accou...               80   \n",
       "3  ['issue', 'check', '710000', 'account', 'depos...               62   \n",
       "4  ['<MASK>', 'order', '<MASK>', 'item', 'use', '...               95   \n",
       "\n",
       "   number_of_charachters  charachters_by_words  number_of_unique_words  \\\n",
       "0                    237                     6                      24   \n",
       "1                    118                     6                      15   \n",
       "2                    546                     6                      60   \n",
       "3                    449                     7                      40   \n",
       "4                    645                     6                      76   \n",
       "\n",
       "                                 potenial_mask_words  \\\n",
       "0                         ['XXXX', 'XXXX/XXXX/2016']   \n",
       "1                                           ['XXXX']   \n",
       "2                                     ['XX/XX/2016']   \n",
       "3                                                 []   \n",
       "4  ['XX/XX/2016,', 'XXXX', 'XXXX.', 'XXXX', 'XXXX...   \n",
       "\n",
       "   number_of_potenial_mask_words  potenial_mask_words_BY_words  ...  \\\n",
       "0                              2                      0.023529  ...   \n",
       "1                              1                      0.020000  ...   \n",
       "2                              1                      0.005495  ...   \n",
       "3                              0                      0.000000  ...   \n",
       "4                              8                      0.033473  ...   \n",
       "\n",
       "                                               lower  \\\n",
       "0  ['my', 'account', 'xxxx', 'at', 'bofa', 'was',...   \n",
       "1  ['i', 'had', 'my', 'mortgage', 'on', 'auto', '...   \n",
       "2  ['xxxx2016', 'on', 'of', 'our', 'newly', 'open...   \n",
       "3  ['i', 'issued', 'a', 'check', 'for', '710000',...   \n",
       "4  ['xxxx2016', 'i', 'ordered', 'xxxx', 'items', ...   \n",
       "\n",
       "                                   stopwords_removed  \\\n",
       "0  ['account', 'xxxx', 'bofa', 'charged', 'nsf', ...   \n",
       "1  ['mortgage', 'auto', 'pay', 'bank', 'xxxx', 'a...   \n",
       "2  ['xxxx2016', 'newly', 'opened', 'business', 'a...   \n",
       "3  ['issued', 'check', '710000', 'account', 'depo...   \n",
       "4  ['xxxx2016', 'ordered', 'xxxx', 'items', 'usin...   \n",
       "\n",
       "                                            pos_tags  \\\n",
       "0  [('account', 'NN'), ('xxxx', 'NNP'), ('bofa', ...   \n",
       "1  [('mortgage', 'NN'), ('auto', 'NN'), ('pay', '...   \n",
       "2  [('xxxx2016', 'JJ'), ('newly', 'RB'), ('opened...   \n",
       "3  [('issued', 'VBN'), ('check', 'VB'), ('710000'...   \n",
       "4  [('xxxx2016', 'RB'), ('ordered', 'VBN'), ('xxx...   \n",
       "\n",
       "                                         wordnet_pos  \\\n",
       "0  [('account', 'n'), ('xxxx', 'n'), ('bofa', 'n'...   \n",
       "1  [('mortgage', 'n'), ('auto', 'n'), ('pay', 'v'...   \n",
       "2  [('xxxx2016', 'a'), ('newly', 'r'), ('opened',...   \n",
       "3  [('issued', 'v'), ('check', 'v'), ('710000', '...   \n",
       "4  [('xxxx2016', 'r'), ('ordered', 'v'), ('xxxx',...   \n",
       "\n",
       "                                          lemmatized  \\\n",
       "0  ['account', 'xxxx', 'bofa', 'charge', 'nsf', '...   \n",
       "1  ['mortgage', 'auto', 'pay', 'bank', 'xxxx', 'a...   \n",
       "2  ['xxxx2016', 'newly', 'open', 'business', 'acc...   \n",
       "3  ['issue', 'check', '710000', 'account', 'depos...   \n",
       "4  ['xxxx2016', 'order', 'xxxx', 'item', 'use', '...   \n",
       "\n",
       "                                           lemma_str  \\\n",
       "0  account xxxx bofa charge nsf fee xxxxxxxx2016 ...   \n",
       "1  mortgage auto pay bank xxxx account check acco...   \n",
       "2  xxxx2016 newly open business account take 1000...   \n",
       "3  issue check 710000 account deposit another ban...   \n",
       "4  xxxx2016 order xxxx item use debit card 6500 w...   \n",
       "\n",
       "                                           spacy_doc  \\\n",
       "0  account xxxx bofa charge nsf fee xxxxxxxx2016 ...   \n",
       "1  mortgage auto pay bank xxxx account check acco...   \n",
       "2  xxxx2016 newly open business account take 1000...   \n",
       "3  issue check 710000 account deposit another ban...   \n",
       "4  xxxx2016 order xxxx item use debit card 6500 w...   \n",
       "\n",
       "                                    masked_lemma_str number_of_<MASK>  \\\n",
       "0  account <MASK> bofa charge nsf fee <MASK> 3500...                2   \n",
       "1  mortgage auto pay bank <MASK> account check ac...                1   \n",
       "2  <MASK> newly open business account 1000000 sto...                1   \n",
       "3  issue check 710000 account deposit bank citiba...                0   \n",
       "4  <MASK> order <MASK> item use debit card 6500 w...                8   \n",
       "\n",
       "  <MASK>_BY_WORDS  \n",
       "0        0.055556  \n",
       "1        0.058824  \n",
       "2        0.012500  \n",
       "3        0.000000  \n",
       "4        0.084211  \n",
       "\n",
       "[5 rows x 22 columns]"
      ]
     },
     "execution_count": 6,
     "metadata": {},
     "output_type": "execute_result"
    }
   ],
   "source": [
    "#Load the data\n",
    "import pandas as pd\n",
    "\n",
    "sample_df = pd.read_csv(sample_data_path_clean, dtype={\"Consumer complaint narrative\": \"string\", \"Consumer consent provided?\": \"string\", \"Timely response?\":\"string\"})\n",
    "sample_df.head()\n"
   ]
  },
  {
   "cell_type": "code",
   "execution_count": 10,
   "metadata": {
    "colab": {
     "base_uri": "https://localhost:8080/"
    },
    "id": "2LH6N19EqhuW",
    "outputId": "0567905d-7303-4612-b63b-16942655f66d"
   },
   "outputs": [
    {
     "name": "stdout",
     "output_type": "stream",
     "text": [
      "<class 'pandas.core.frame.DataFrame'>\n",
      "RangeIndex: 43220 entries, 0 to 43219\n",
      "Data columns (total 22 columns):\n",
      " #   Column                         Non-Null Count  Dtype  \n",
      "---  ------                         --------------  -----  \n",
      " 0   consumer_complaint_narrative   43220 non-null  object \n",
      " 1   Topic                          43220 non-null  object \n",
      " 2   split_words_whitespaces        43220 non-null  object \n",
      " 3   number_of_words                43220 non-null  int64  \n",
      " 4   number_of_charachters          43220 non-null  int64  \n",
      " 5   charachters_by_words           43220 non-null  int64  \n",
      " 6   number_of_unique_words         43220 non-null  int64  \n",
      " 7   potenial_mask_words            43220 non-null  object \n",
      " 8   number_of_potenial_mask_words  43220 non-null  int64  \n",
      " 9   potenial_mask_words_BY_words   43220 non-null  float64\n",
      " 10  text_clean                     43220 non-null  object \n",
      " 11  tokenized                      43220 non-null  object \n",
      " 12  lower                          43220 non-null  object \n",
      " 13  stopwords_removed              43220 non-null  object \n",
      " 14  pos_tags                       43220 non-null  object \n",
      " 15  wordnet_pos                    43220 non-null  object \n",
      " 16  lemmatized                     43220 non-null  object \n",
      " 17  lemma_str                      43220 non-null  object \n",
      " 18  spacy_doc                      43220 non-null  object \n",
      " 19  Text                           43220 non-null  object \n",
      " 20  number_of_<MASK>               43220 non-null  int64  \n",
      " 21  <MASK>_BY_WORDS                43220 non-null  float64\n",
      "dtypes: float64(2), int64(6), object(14)\n",
      "memory usage: 7.3+ MB\n"
     ]
    }
   ],
   "source": [
    "data = sample_df.copy()\n",
    "data.rename(columns = {'masked_lemma_str':'Text', 'product':'Topic'}, inplace = True)\n",
    "data.info()"
   ]
  },
  {
   "cell_type": "code",
   "execution_count": 11,
   "metadata": {
    "colab": {
     "base_uri": "https://localhost:8080/"
    },
    "id": "yH0QhmSTPMj0",
    "outputId": "993e5833-5340-46f5-cea0-5deb6a8bc7f4"
   },
   "outputs": [
    {
     "data": {
      "text/plain": [
       "Credit reporting, credit repair services, or other personal consumer reports    13151\n",
       "Debt collection                                                                  8413\n",
       "Mortgage                                                                         6027\n",
       "Credit card or prepaid card                                                      5954\n",
       "Student loan                                                                     2490\n",
       "Checking or savings account                                                      2374\n",
       "Bank account or service                                                          1345\n",
       "Money transfer/s, virtual currency, or money service                              910\n",
       "Vehicle loan or lease                                                             907\n",
       "Payday loan, title loan, or personal loan                                         857\n",
       "Consumer Loan                                                                     792\n",
       "Name: Topic, dtype: int64"
      ]
     },
     "execution_count": 11,
     "metadata": {},
     "output_type": "execute_result"
    }
   ],
   "source": [
    "data['Topic'].value_counts()"
   ]
  },
  {
   "cell_type": "code",
   "execution_count": 12,
   "metadata": {
    "colab": {
     "base_uri": "https://localhost:8080/"
    },
    "id": "1IgsXbNJPq9s",
    "outputId": "ff438ed0-ae12-4c2b-a895-bb63d09a5439"
   },
   "outputs": [
    {
     "name": "stdout",
     "output_type": "stream",
     "text": [
      "<class 'pandas.core.frame.DataFrame'>\n",
      "Int64Index: 42736 entries, 863 to 42396\n",
      "Data columns (total 22 columns):\n",
      " #   Column                         Non-Null Count  Dtype  \n",
      "---  ------                         --------------  -----  \n",
      " 0   consumer_complaint_narrative   42736 non-null  object \n",
      " 1   Topic                          42736 non-null  object \n",
      " 2   split_words_whitespaces        42736 non-null  object \n",
      " 3   number_of_words                42736 non-null  int64  \n",
      " 4   number_of_charachters          42736 non-null  int64  \n",
      " 5   charachters_by_words           42736 non-null  int64  \n",
      " 6   number_of_unique_words         42736 non-null  int64  \n",
      " 7   potenial_mask_words            42736 non-null  object \n",
      " 8   number_of_potenial_mask_words  42736 non-null  int64  \n",
      " 9   potenial_mask_words_BY_words   42736 non-null  float64\n",
      " 10  text_clean                     42736 non-null  object \n",
      " 11  tokenized                      42736 non-null  object \n",
      " 12  lower                          42736 non-null  object \n",
      " 13  stopwords_removed              42736 non-null  object \n",
      " 14  pos_tags                       42736 non-null  object \n",
      " 15  wordnet_pos                    42736 non-null  object \n",
      " 16  lemmatized                     42736 non-null  object \n",
      " 17  lemma_str                      42736 non-null  object \n",
      " 18  spacy_doc                      42736 non-null  object \n",
      " 19  Text                           42736 non-null  object \n",
      " 20  number_of_<MASK>               42736 non-null  int64  \n",
      " 21  <MASK>_BY_WORDS                42736 non-null  float64\n",
      "dtypes: float64(2), int64(6), object(14)\n",
      "memory usage: 7.5+ MB\n"
     ]
    }
   ],
   "source": [
    "#Drop duplicate 'Text'\n",
    "# drop the duplicate entries which are not maximum length\n",
    "data  = data.loc[data['number_of_words'].groupby(data['Text']).idxmax()].sort_values('Topic')\n",
    "data.info()\n"
   ]
  },
  {
   "cell_type": "code",
   "execution_count": 13,
   "metadata": {
    "colab": {
     "base_uri": "https://localhost:8080/"
    },
    "id": "BLMjatJgoRM8",
    "outputId": "a3c1cf68-5854-4932-fd32-9946650a023b"
   },
   "outputs": [
    {
     "name": "stdout",
     "output_type": "stream",
     "text": [
      "<class 'pandas.core.frame.DataFrame'>\n",
      "RangeIndex: 42736 entries, 0 to 42735\n",
      "Data columns (total 2 columns):\n",
      " #   Column  Non-Null Count  Dtype \n",
      "---  ------  --------------  ----- \n",
      " 0   Text    42736 non-null  object\n",
      " 1   Topic   42736 non-null  object\n",
      "dtypes: object(2)\n",
      "memory usage: 667.9+ KB\n"
     ]
    }
   ],
   "source": [
    "data = data.loc[:,['Text','Topic']].reset_index(drop=True)\n",
    "data.info()"
   ]
  },
  {
   "cell_type": "code",
   "execution_count": 14,
   "metadata": {
    "colab": {
     "base_uri": "https://localhost:8080/",
     "height": 204
    },
    "id": "iWEJYGBIG1lf",
    "outputId": "b79de575-c985-4719-ec64-044ddcdf39f2"
   },
   "outputs": [
    {
     "data": {
      "text/html": [
       "\n",
       "  <div id=\"df-bb1553cd-c3f7-47fa-b8af-5f4e8a61e2cc\">\n",
       "    <div class=\"colab-df-container\">\n",
       "      <div>\n",
       "<style scoped>\n",
       "    .dataframe tbody tr th:only-of-type {\n",
       "        vertical-align: middle;\n",
       "    }\n",
       "\n",
       "    .dataframe tbody tr th {\n",
       "        vertical-align: top;\n",
       "    }\n",
       "\n",
       "    .dataframe thead th {\n",
       "        text-align: right;\n",
       "    }\n",
       "</style>\n",
       "<table border=\"1\" class=\"dataframe\">\n",
       "  <thead>\n",
       "    <tr style=\"text-align: right;\">\n",
       "      <th></th>\n",
       "      <th>Text</th>\n",
       "      <th>Topic</th>\n",
       "    </tr>\n",
       "  </thead>\n",
       "  <tbody>\n",
       "    <tr>\n",
       "      <th>42731</th>\n",
       "      <td>ve car &lt;MASK&gt; 2016 tell &lt;MASK&gt; dollar come lo...</td>\n",
       "      <td>Vehicle loan or lease</td>\n",
       "    </tr>\n",
       "    <tr>\n",
       "      <th>42732</th>\n",
       "      <td>payment applied account work company send num...</td>\n",
       "      <td>Vehicle loan or lease</td>\n",
       "    </tr>\n",
       "    <tr>\n",
       "      <th>42733</th>\n",
       "      <td>wednesday &lt;MASK&gt; outside car work car policy i...</td>\n",
       "      <td>Vehicle loan or lease</td>\n",
       "    </tr>\n",
       "    <tr>\n",
       "      <th>42734</th>\n",
       "      <td>&lt;MASK&gt; knew run trouble catch delinquent payme...</td>\n",
       "      <td>Vehicle loan or lease</td>\n",
       "    </tr>\n",
       "    <tr>\n",
       "      <th>42735</th>\n",
       "      <td>2014 6 month forth nissan autopay pay monthly ...</td>\n",
       "      <td>Vehicle loan or lease</td>\n",
       "    </tr>\n",
       "  </tbody>\n",
       "</table>\n",
       "</div>\n",
       "      <button class=\"colab-df-convert\" onclick=\"convertToInteractive('df-bb1553cd-c3f7-47fa-b8af-5f4e8a61e2cc')\"\n",
       "              title=\"Convert this dataframe to an interactive table.\"\n",
       "              style=\"display:none;\">\n",
       "        \n",
       "  <svg xmlns=\"http://www.w3.org/2000/svg\" height=\"24px\"viewBox=\"0 0 24 24\"\n",
       "       width=\"24px\">\n",
       "    <path d=\"M0 0h24v24H0V0z\" fill=\"none\"/>\n",
       "    <path d=\"M18.56 5.44l.94 2.06.94-2.06 2.06-.94-2.06-.94-.94-2.06-.94 2.06-2.06.94zm-11 1L8.5 8.5l.94-2.06 2.06-.94-2.06-.94L8.5 2.5l-.94 2.06-2.06.94zm10 10l.94 2.06.94-2.06 2.06-.94-2.06-.94-.94-2.06-.94 2.06-2.06.94z\"/><path d=\"M17.41 7.96l-1.37-1.37c-.4-.4-.92-.59-1.43-.59-.52 0-1.04.2-1.43.59L10.3 9.45l-7.72 7.72c-.78.78-.78 2.05 0 2.83L4 21.41c.39.39.9.59 1.41.59.51 0 1.02-.2 1.41-.59l7.78-7.78 2.81-2.81c.8-.78.8-2.07 0-2.86zM5.41 20L4 18.59l7.72-7.72 1.47 1.35L5.41 20z\"/>\n",
       "  </svg>\n",
       "      </button>\n",
       "      \n",
       "  <style>\n",
       "    .colab-df-container {\n",
       "      display:flex;\n",
       "      flex-wrap:wrap;\n",
       "      gap: 12px;\n",
       "    }\n",
       "\n",
       "    .colab-df-convert {\n",
       "      background-color: #E8F0FE;\n",
       "      border: none;\n",
       "      border-radius: 50%;\n",
       "      cursor: pointer;\n",
       "      display: none;\n",
       "      fill: #1967D2;\n",
       "      height: 32px;\n",
       "      padding: 0 0 0 0;\n",
       "      width: 32px;\n",
       "    }\n",
       "\n",
       "    .colab-df-convert:hover {\n",
       "      background-color: #E2EBFA;\n",
       "      box-shadow: 0px 1px 2px rgba(60, 64, 67, 0.3), 0px 1px 3px 1px rgba(60, 64, 67, 0.15);\n",
       "      fill: #174EA6;\n",
       "    }\n",
       "\n",
       "    [theme=dark] .colab-df-convert {\n",
       "      background-color: #3B4455;\n",
       "      fill: #D2E3FC;\n",
       "    }\n",
       "\n",
       "    [theme=dark] .colab-df-convert:hover {\n",
       "      background-color: #434B5C;\n",
       "      box-shadow: 0px 1px 3px 1px rgba(0, 0, 0, 0.15);\n",
       "      filter: drop-shadow(0px 1px 2px rgba(0, 0, 0, 0.3));\n",
       "      fill: #FFFFFF;\n",
       "    }\n",
       "  </style>\n",
       "\n",
       "      <script>\n",
       "        const buttonEl =\n",
       "          document.querySelector('#df-bb1553cd-c3f7-47fa-b8af-5f4e8a61e2cc button.colab-df-convert');\n",
       "        buttonEl.style.display =\n",
       "          google.colab.kernel.accessAllowed ? 'block' : 'none';\n",
       "\n",
       "        async function convertToInteractive(key) {\n",
       "          const element = document.querySelector('#df-bb1553cd-c3f7-47fa-b8af-5f4e8a61e2cc');\n",
       "          const dataTable =\n",
       "            await google.colab.kernel.invokeFunction('convertToInteractive',\n",
       "                                                     [key], {});\n",
       "          if (!dataTable) return;\n",
       "\n",
       "          const docLinkHtml = 'Like what you see? Visit the ' +\n",
       "            '<a target=\"_blank\" href=https://colab.research.google.com/notebooks/data_table.ipynb>data table notebook</a>'\n",
       "            + ' to learn more about interactive tables.';\n",
       "          element.innerHTML = '';\n",
       "          dataTable['output_type'] = 'display_data';\n",
       "          await google.colab.output.renderOutput(dataTable, element);\n",
       "          const docLink = document.createElement('div');\n",
       "          docLink.innerHTML = docLinkHtml;\n",
       "          element.appendChild(docLink);\n",
       "        }\n",
       "      </script>\n",
       "    </div>\n",
       "  </div>\n",
       "  "
      ],
      "text/plain": [
       "                                                    Text  \\\n",
       "42731   ve car <MASK> 2016 tell <MASK> dollar come lo...   \n",
       "42732   payment applied account work company send num...   \n",
       "42733  wednesday <MASK> outside car work car policy i...   \n",
       "42734  <MASK> knew run trouble catch delinquent payme...   \n",
       "42735  2014 6 month forth nissan autopay pay monthly ...   \n",
       "\n",
       "                       Topic  \n",
       "42731  Vehicle loan or lease  \n",
       "42732  Vehicle loan or lease  \n",
       "42733  Vehicle loan or lease  \n",
       "42734  Vehicle loan or lease  \n",
       "42735  Vehicle loan or lease  "
      ]
     },
     "execution_count": 14,
     "metadata": {},
     "output_type": "execute_result"
    }
   ],
   "source": [
    "data.tail()"
   ]
  },
  {
   "cell_type": "code",
   "execution_count": 15,
   "metadata": {
    "colab": {
     "base_uri": "https://localhost:8080/"
    },
    "id": "cHkxjJUqsjlV",
    "outputId": "3a4ba6e1-dd81-488c-ddcf-9d9dac07d62f"
   },
   "outputs": [
    {
     "data": {
      "text/plain": [
       "Dataset({\n",
       "    features: ['Text', 'Topic'],\n",
       "    num_rows: 42736\n",
       "})"
      ]
     },
     "execution_count": 15,
     "metadata": {},
     "output_type": "execute_result"
    }
   ],
   "source": [
    "#Convert the Data into HuggingFace Dataset\n",
    "from datasets import Dataset\n",
    "dataset = Dataset.from_pandas(data)\n",
    "dataset\n"
   ]
  },
  {
   "cell_type": "markdown",
   "metadata": {
    "id": "4KoNgkasXvkF"
   },
   "source": [
    "The dataset has to be split into training, validation and test set. Let's check the first example of the dataset:\n",
    "\n"
   ]
  },
  {
   "cell_type": "code",
   "execution_count": 16,
   "metadata": {
    "colab": {
     "base_uri": "https://localhost:8080/"
    },
    "id": "9mdy4kv_Xq7_",
    "outputId": "3c694144-7eee-4f25-b27c-824b5101948b"
   },
   "outputs": [
    {
     "data": {
      "text/plain": [
       "{'Text': 'hello <MASK> huntington bank double debited check account customer system error account affected result debit transaction decline money account embarrass unacceptable overdraft protection kick manually money overdraft account overdraft money huntington automatically money result check account debit extra 110000 1 week huntington erroneously double debit <MASK> folk check overdraft account break money available time advised different thing huntington employee far true correct chat transcript record phone conversation proof lie multiple occasion concerned fix week double debit issue extremely concern behavior huntington customer point choice continue escalate bill need pay transaction need complete assistance escalate resolve greatly appreciate 1 advise manually transfer money odp account automatic transfer apply true 2 chat bank rep chat transcript advise transfer money odp check acct work odp account negative false statement huntington rep 3 speak phone bank rep <MASK> record record promise issue fix overnight true fix',\n",
       " 'Topic': 'Bank account or service'}"
      ]
     },
     "execution_count": 16,
     "metadata": {},
     "output_type": "execute_result"
    }
   ],
   "source": [
    "example = dataset[0]\n",
    "example"
   ]
  },
  {
   "cell_type": "markdown",
   "metadata": {
    "id": "4NxoB_pEeoqC"
   },
   "source": [
    "The dataset consists of text, with one or more topic labels. Let's check the frequency count of the labels "
   ]
  },
  {
   "cell_type": "code",
   "execution_count": 17,
   "metadata": {
    "id": "6vt39IT-PIrJ"
   },
   "outputs": [],
   "source": [
    "#Define the function to check the frequency count of elements in the list\n",
    "def frequency_count(mylist):\n",
    "  frequency = collections.Counter(mylist)\n",
    "  [print(key,':',value) for key, value in frequency.items()]"
   ]
  },
  {
   "cell_type": "code",
   "execution_count": 18,
   "metadata": {
    "colab": {
     "base_uri": "https://localhost:8080/"
    },
    "id": "xexP8nBkUxFH",
    "outputId": "578f7a2d-03f5-4fb6-feca-b41829a20ce7"
   },
   "outputs": [
    {
     "name": "stdout",
     "output_type": "stream",
     "text": [
      "The Frequency of Topics in the Dataset : \n",
      "\n",
      "Bank account or service : 1345\n",
      "Checking or savings account : 2373\n",
      "Consumer Loan : 791\n",
      "Credit card or prepaid card : 5910\n",
      "Credit reporting, credit repair services, or other personal consumer reports : 12785\n",
      "Debt collection : 8349\n",
      "Money transfer/s, virtual currency, or money service : 910\n",
      "Mortgage : 6025\n",
      "Payday loan, title loan, or personal loan : 857\n",
      "Student loan : 2489\n",
      "Vehicle loan or lease : 902\n"
     ]
    }
   ],
   "source": [
    "print(\"The Frequency of Topics in the Dataset : \\n\")\n",
    "frequency_count(dataset['Topic'])"
   ]
  },
  {
   "cell_type": "markdown",
   "metadata": {
    "id": "O2vMBpfuVQxk"
   },
   "source": [
    "Let's sort the dataset by Topic name"
   ]
  },
  {
   "cell_type": "code",
   "execution_count": 19,
   "metadata": {
    "id": "hijMDEeKVU8-"
   },
   "outputs": [],
   "source": [
    "dataset= dataset.sort('Topic')"
   ]
  },
  {
   "cell_type": "code",
   "execution_count": 20,
   "metadata": {
    "colab": {
     "base_uri": "https://localhost:8080/"
    },
    "id": "RZQbBWHxVZ2V",
    "outputId": "9e2e2d8c-ea13-4b69-9293-c641a1a319b5"
   },
   "outputs": [
    {
     "name": "stdout",
     "output_type": "stream",
     "text": [
      "The Frequency of Topics in the Dataset : \n",
      "\n",
      "Bank account or service : 1345\n",
      "Checking or savings account : 2373\n",
      "Consumer Loan : 791\n",
      "Credit card or prepaid card : 5910\n",
      "Credit reporting, credit repair services, or other personal consumer reports : 12785\n",
      "Debt collection : 8349\n",
      "Money transfer/s, virtual currency, or money service : 910\n",
      "Mortgage : 6025\n",
      "Payday loan, title loan, or personal loan : 857\n",
      "Student loan : 2489\n",
      "Vehicle loan or lease : 902\n"
     ]
    }
   ],
   "source": [
    "print(\"The Frequency of Topics in the Dataset : \\n\")\n",
    "frequency_count(dataset['Topic'])"
   ]
  },
  {
   "cell_type": "markdown",
   "metadata": {
    "id": "MUfKp87VVHI_"
   },
   "source": [
    "Let's look at the features of the dataset"
   ]
  },
  {
   "cell_type": "code",
   "execution_count": 21,
   "metadata": {
    "colab": {
     "base_uri": "https://localhost:8080/"
    },
    "id": "OWINgHQnVJ5f",
    "outputId": "8a9fa86e-194b-4783-fa6d-e08e96075db1"
   },
   "outputs": [
    {
     "data": {
      "text/plain": [
       "{'Text': Value(dtype='string', id=None),\n",
       " 'Topic': Value(dtype='string', id=None)}"
      ]
     },
     "execution_count": 21,
     "metadata": {},
     "output_type": "execute_result"
    }
   ],
   "source": [
    "dataset.features"
   ]
  },
  {
   "cell_type": "markdown",
   "metadata": {
    "id": "DhDaRWplVTuC"
   },
   "source": [
    "Let's rename the columns Text to sentence and Topic to label"
   ]
  },
  {
   "cell_type": "code",
   "execution_count": 22,
   "metadata": {
    "colab": {
     "base_uri": "https://localhost:8080/"
    },
    "id": "kgGN5gc4VUyb",
    "outputId": "cd49126f-98dd-440f-fbc7-87dfe31be216"
   },
   "outputs": [
    {
     "data": {
      "text/plain": [
       "Dataset({\n",
       "    features: ['sentence', 'label'],\n",
       "    num_rows: 42736\n",
       "})"
      ]
     },
     "execution_count": 22,
     "metadata": {},
     "output_type": "execute_result"
    }
   ],
   "source": [
    "dataset = dataset.rename_column(\"Text\", \"sentence\")\n",
    "dataset = dataset.rename_column(\"Topic\", \"label\")\n",
    "dataset"
   ]
  },
  {
   "cell_type": "markdown",
   "metadata": {
    "id": "p9kyy8v_tjkY"
   },
   "source": [
    "Let's create a list that contains the labels, as well as 2 dictionaries that map labels to integers and back."
   ]
  },
  {
   "cell_type": "code",
   "execution_count": 23,
   "metadata": {
    "colab": {
     "base_uri": "https://localhost:8080/"
    },
    "id": "ugIFhNg3trOP",
    "outputId": "1ba171dd-dab3-4b77-f43d-53e3b5ac7351"
   },
   "outputs": [
    {
     "data": {
      "text/plain": [
       "['Bank account or service',\n",
       " 'Checking or savings account',\n",
       " 'Consumer Loan',\n",
       " 'Credit card or prepaid card',\n",
       " 'Credit reporting, credit repair services, or other personal consumer reports',\n",
       " 'Debt collection',\n",
       " 'Money transfer/s, virtual currency, or money service',\n",
       " 'Mortgage',\n",
       " 'Payday loan, title loan, or personal loan',\n",
       " 'Student loan',\n",
       " 'Vehicle loan or lease']"
      ]
     },
     "execution_count": 23,
     "metadata": {},
     "output_type": "execute_result"
    }
   ],
   "source": [
    "labels = sorted(list(set(dataset['label'])))\n",
    "id2label = {idx:label for idx, label in enumerate(labels)}\n",
    "label2id = {label:idx for idx, label in enumerate(labels)}\n",
    "labels"
   ]
  },
  {
   "cell_type": "markdown",
   "metadata": {
    "id": "VsvsAIRAMMVj"
   },
   "source": [
    "The dataset consists of 11 topics."
   ]
  },
  {
   "cell_type": "markdown",
   "metadata": {
    "id": "UKukAGDvp7cP"
   },
   "source": [
    "## Splitting the Data into Train, Validation and Test set\n",
    "\n",
    "\n",
    "\n",
    "\n"
   ]
  },
  {
   "cell_type": "code",
   "execution_count": 24,
   "metadata": {
    "id": "ol_9v8qaqT7H"
   },
   "outputs": [],
   "source": [
    "fix_seed =42\n",
    "from sklearn.model_selection import train_test_split"
   ]
  },
  {
   "cell_type": "code",
   "execution_count": 25,
   "metadata": {
    "id": "pMKJRWshPTVE"
   },
   "outputs": [],
   "source": [
    "#split data into train_val and test set \n",
    "X= dataset['sentence']\n",
    "y= dataset['label']\n",
    "X_train_val, X_test, y_train_val, y_test = train_test_split(X, y, test_size=0.1,stratify=y ,random_state=fix_seed)"
   ]
  },
  {
   "cell_type": "code",
   "execution_count": 26,
   "metadata": {
    "id": "c0FTvgIqPTlq"
   },
   "outputs": [],
   "source": [
    "#split data into train and validation set \n",
    "X_train, X_val,y_train, y_val = train_test_split(X_train_val, y_train_val,stratify=y_train_val, test_size=0.2, random_state=fix_seed)"
   ]
  },
  {
   "cell_type": "code",
   "execution_count": 27,
   "metadata": {
    "colab": {
     "base_uri": "https://localhost:8080/"
    },
    "id": "uqeaiHLFp3d1",
    "outputId": "39fe9278-9669-4ea7-c5df-5feb50a69e7b"
   },
   "outputs": [
    {
     "data": {
      "text/plain": [
       "Dataset({\n",
       "    features: ['sentence', 'label'],\n",
       "    num_rows: 30769\n",
       "})"
      ]
     },
     "execution_count": 27,
     "metadata": {},
     "output_type": "execute_result"
    }
   ],
   "source": [
    "dict_train = {\"sentence\": X_train,\"label\":y_train}\n",
    "train_data = Dataset.from_dict(dict_train)\n",
    "train_data"
   ]
  },
  {
   "cell_type": "code",
   "execution_count": 28,
   "metadata": {
    "colab": {
     "base_uri": "https://localhost:8080/"
    },
    "id": "UikJEfdoUS7w",
    "outputId": "d3318538-722e-444e-e261-402b124a7e8c"
   },
   "outputs": [
    {
     "data": {
      "text/plain": [
       "Dataset({\n",
       "    features: ['sentence', 'label'],\n",
       "    num_rows: 7693\n",
       "})"
      ]
     },
     "execution_count": 28,
     "metadata": {},
     "output_type": "execute_result"
    }
   ],
   "source": [
    "dict_val = {\"sentence\": X_val,\"label\":y_val}\n",
    "val_data = Dataset.from_dict(dict_val)\n",
    "val_data"
   ]
  },
  {
   "cell_type": "code",
   "execution_count": 29,
   "metadata": {
    "colab": {
     "base_uri": "https://localhost:8080/"
    },
    "id": "GIERzmqJUTEQ",
    "outputId": "bc6a8b0b-88d5-4706-c43f-350c1efcdda7"
   },
   "outputs": [
    {
     "data": {
      "text/plain": [
       "Dataset({\n",
       "    features: ['sentence', 'label'],\n",
       "    num_rows: 4274\n",
       "})"
      ]
     },
     "execution_count": 29,
     "metadata": {},
     "output_type": "execute_result"
    }
   ],
   "source": [
    "dict_test = {\"sentence\": X_test,\"label\":y_test}\n",
    "test_data = Dataset.from_dict(dict_test)\n",
    "test_data"
   ]
  },
  {
   "cell_type": "markdown",
   "metadata": {
    "id": "tGbsKDXm4QsW"
   },
   "source": [
    "Let's Check the Frequency Count of Train, Validation and Test label data"
   ]
  },
  {
   "cell_type": "code",
   "execution_count": 30,
   "metadata": {
    "colab": {
     "base_uri": "https://localhost:8080/"
    },
    "id": "78X1pl5yVyU2",
    "outputId": "86d306d1-423e-4afb-a773-77fecfbdf04a"
   },
   "outputs": [
    {
     "name": "stdout",
     "output_type": "stream",
     "text": [
      "Credit card or prepaid card : 4255\n",
      "Vehicle loan or lease : 649\n",
      "Mortgage : 4337\n",
      "Credit reporting, credit repair services, or other personal consumer reports : 9205\n",
      "Checking or savings account : 1709\n",
      "Student loan : 1792\n",
      "Debt collection : 6011\n",
      "Money transfer/s, virtual currency, or money service : 655\n",
      "Bank account or service : 969\n",
      "Consumer Loan : 570\n",
      "Payday loan, title loan, or personal loan : 617\n"
     ]
    }
   ],
   "source": [
    "frequency_count(y_train)"
   ]
  },
  {
   "cell_type": "code",
   "execution_count": 31,
   "metadata": {
    "colab": {
     "base_uri": "https://localhost:8080/"
    },
    "id": "_BdUm8uv4CuD",
    "outputId": "34317a16-406c-4bac-cacf-1b721e3b8798"
   },
   "outputs": [
    {
     "name": "stdout",
     "output_type": "stream",
     "text": [
      "Credit reporting, credit repair services, or other personal consumer reports : 2301\n",
      "Debt collection : 1503\n",
      "Credit card or prepaid card : 1064\n",
      "Student loan : 448\n",
      "Checking or savings account : 427\n",
      "Mortgage : 1085\n",
      "Vehicle loan or lease : 163\n",
      "Consumer Loan : 142\n",
      "Bank account or service : 242\n",
      "Money transfer/s, virtual currency, or money service : 164\n",
      "Payday loan, title loan, or personal loan : 154\n"
     ]
    }
   ],
   "source": [
    "frequency_count(y_val)"
   ]
  },
  {
   "cell_type": "code",
   "execution_count": 32,
   "metadata": {
    "colab": {
     "base_uri": "https://localhost:8080/"
    },
    "id": "zKNP7tWXV2_R",
    "outputId": "287f173b-a81f-443c-f898-79115a1f034c"
   },
   "outputs": [
    {
     "name": "stdout",
     "output_type": "stream",
     "text": [
      "Checking or savings account : 237\n",
      "Credit card or prepaid card : 591\n",
      "Payday loan, title loan, or personal loan : 86\n",
      "Student loan : 249\n",
      "Mortgage : 603\n",
      "Debt collection : 835\n",
      "Credit reporting, credit repair services, or other personal consumer reports : 1279\n",
      "Money transfer/s, virtual currency, or money service : 91\n",
      "Bank account or service : 134\n",
      "Vehicle loan or lease : 90\n",
      "Consumer Loan : 79\n"
     ]
    }
   ],
   "source": [
    "frequency_count(y_test)"
   ]
  },
  {
   "cell_type": "code",
   "execution_count": 33,
   "metadata": {
    "colab": {
     "base_uri": "https://localhost:8080/"
    },
    "id": "xNZXfECRrzta",
    "outputId": "1d3b2552-2a58-4ccf-adc2-651b1c51452f"
   },
   "outputs": [
    {
     "data": {
      "text/plain": [
       "DatasetDict({\n",
       "    train: Dataset({\n",
       "        features: ['sentence', 'label'],\n",
       "        num_rows: 30769\n",
       "    })\n",
       "    validation: Dataset({\n",
       "        features: ['sentence', 'label'],\n",
       "        num_rows: 7693\n",
       "    })\n",
       "    test: Dataset({\n",
       "        features: ['sentence', 'label'],\n",
       "        num_rows: 4274\n",
       "    })\n",
       "})"
      ]
     },
     "execution_count": 33,
     "metadata": {},
     "output_type": "execute_result"
    }
   ],
   "source": [
    "from datasets.dataset_dict import DatasetDict\n",
    "dataset_clean = DatasetDict({\n",
    "    'train': train_data,\n",
    "    'validation': val_data,\n",
    "    'test': test_data\n",
    "})\n",
    "dataset_clean"
   ]
  },
  {
   "cell_type": "markdown",
   "metadata": {
    "id": "vN3TNouDhh0r"
   },
   "source": [
    "## Preprocess data\n",
    "\n",
    "\n",
    "Since the model don't expect text as direct input, but rather `input_ids`, etc., we tokenize the text using the tokenizer. Here I'm using the `AutoTokenizer` API, which will automatically load the appropriate tokenizer based on the checkpoint on the hub."
   ]
  },
  {
   "cell_type": "code",
   "execution_count": 34,
   "metadata": {
    "colab": {
     "base_uri": "https://localhost:8080/",
     "height": 145,
     "referenced_widgets": [
      "9552b48e77d143a8804f17044dc7851d",
      "f4bcf6289fc146e8817f15273465a0af",
      "646c573a0a07435ba0ab0b439f396124",
      "dba6df539e0442f5b5587d014ee72cf0",
      "0c593e5bf1224b2ea2a8b49356860d19",
      "807bc410e0ca49c69c7b499ad31a713c",
      "0c3d97e2f9ca46459b53e81afaa7d170",
      "71cb9bc051c7427cbd8d05db1f65255b",
      "2178d27fe6504b538c617fca64b2a5d6",
      "3d19e2f30d51494fa94b2ebf20daf8c7",
      "b6dcff8c738c47178c8b697e923ca07c",
      "dfe428e1a7754dd4a4102d1f64cb347e",
      "33c7216e8f1644b0ba3d2a25a322905e",
      "e3caafc21d66434db8e76a45b9fd684d",
      "496038819c734ceaa74bb764f5a517ed",
      "bace9f54da61416588f23d019e7e80b4",
      "ceb7d01816df4aa8bc3d59dea835c65a",
      "ea9a7b5b522f425a96e7b0bdf1f1cf1e",
      "2fbf4b87c9e24e43ac72d6bc0f300d5e",
      "36b6ec47968b43349600e93955716925",
      "abeaff4c431c4c38a620cfa59ab39c90",
      "9b6080e959ee451988a82af2f1142916",
      "ffc31099122c4fa5af44461a2de4b836",
      "aed3c3ee21164bcbacecb7ad55b1d094",
      "d3c6889db7ac40ec875d54ed5c613c4d",
      "e6add7a68b7b4a89966ccc6c7bf4a781",
      "443f0a61a6c34d82884f67203da01c93",
      "243cd87f73cb4cfd94d98a8744c0f91f",
      "4b46e7fc3c834b68aa6ac0605e385c9b",
      "9b47de4dcd024ca9bc2432f49d141cb1",
      "06cc6b4e962049079aa3fb4303b369ca",
      "c3e54cf3a16c452983e75c42b5291a41",
      "d814ec05f8694ba4bf3bd148dd160175",
      "eaec4efcea364a689fd4663adfe0de13",
      "32a84c96fb7f494689f47baf12a1add5",
      "e5f3c88318a043e787a5fc9933461801",
      "72daf0db0ec34f49859550a0dee4e57c",
      "c21810623fa744ce9b65d4aa36741582",
      "aeb5e5c86a6a482e9aad63b2952c5e12",
      "237a5c6bbc294b4fac2d776321bfc2b5",
      "021b1f9bab0d439cb921b1213b1634a5",
      "a1c9fc195c1e4dbda96593d1760a2c74",
      "896c5105ea264e9faa7f4dc13fa18a42",
      "db97238a9ba447f6a2f1d771dee6fdab"
     ]
    },
    "id": "ImOVtxX5jafN",
    "outputId": "cf8a695d-68ac-4df6-bec4-3690217b268f"
   },
   "outputs": [
    {
     "data": {
      "application/vnd.jupyter.widget-view+json": {
       "model_id": "9552b48e77d143a8804f17044dc7851d",
       "version_major": 2,
       "version_minor": 0
      },
      "text/plain": [
       "Downloading:   0%|          | 0.00/29.0 [00:00<?, ?B/s]"
      ]
     },
     "metadata": {},
     "output_type": "display_data"
    },
    {
     "data": {
      "application/vnd.jupyter.widget-view+json": {
       "model_id": "dfe428e1a7754dd4a4102d1f64cb347e",
       "version_major": 2,
       "version_minor": 0
      },
      "text/plain": [
       "Downloading:   0%|          | 0.00/411 [00:00<?, ?B/s]"
      ]
     },
     "metadata": {},
     "output_type": "display_data"
    },
    {
     "data": {
      "application/vnd.jupyter.widget-view+json": {
       "model_id": "ffc31099122c4fa5af44461a2de4b836",
       "version_major": 2,
       "version_minor": 0
      },
      "text/plain": [
       "Downloading:   0%|          | 0.00/208k [00:00<?, ?B/s]"
      ]
     },
     "metadata": {},
     "output_type": "display_data"
    },
    {
     "data": {
      "application/vnd.jupyter.widget-view+json": {
       "model_id": "eaec4efcea364a689fd4663adfe0de13",
       "version_major": 2,
       "version_minor": 0
      },
      "text/plain": [
       "Downloading:   0%|          | 0.00/426k [00:00<?, ?B/s]"
      ]
     },
     "metadata": {},
     "output_type": "display_data"
    }
   ],
   "source": [
    "from transformers import AutoTokenizer\n",
    "\n",
    "tokenizer = AutoTokenizer.from_pretrained('distilbert-base-cased',num_labels=len(labels))"
   ]
  },
  {
   "cell_type": "code",
   "execution_count": 35,
   "metadata": {
    "id": "ceirRXfx2J8-"
   },
   "outputs": [],
   "source": [
    "import numpy as np\n",
    "def preprocess_data(examples):\n",
    "  # take a batch of texts\n",
    "  text = examples[\"sentence\"]\n",
    "  # encode them\n",
    "  encoding = tokenizer(text, padding=\"max_length\", truncation=True)\n",
    "  # add labels\n",
    "  encoding[\"labels\"] = [label2id[i] for i in examples[\"label\"]]\n",
    "  return encoding"
   ]
  },
  {
   "cell_type": "code",
   "execution_count": 36,
   "metadata": {
    "colab": {
     "base_uri": "https://localhost:8080/",
     "height": 113,
     "referenced_widgets": [
      "e232e930460e45c3b0ea617797bc4e35",
      "090377cc32c74b1883cdafbf4186c2b1",
      "f36bab9773dd44f0b8a523bf525c42f3",
      "226d348762ce4b52b46b199b961380a9",
      "d08d962811704fdd910dba488c9d429c",
      "11a528f9a1974b58a94aaec5f6d5b6f5",
      "db1646bb38d941dd8fb36db6d62f431c",
      "f9d865af7e5b449bb1fdd1bc615e688e",
      "fcb26cea196941c7b1f8e86ad4a27765",
      "85c85a0659a94b7c807718e4542cb6c5",
      "4f90ece5b4864d0dbe2a1b8859afaeec",
      "8df3dc9b6ecc4bb98de89d2d52762a04",
      "19cbc33b59924643b3ba9020a89171b7",
      "8b6de735206c43f68c0d74c4a9c82bf9",
      "f84763e1aa1442b2bec4f1aaff7a3426",
      "2cbfe52609774a7c917b42c728d5daf0",
      "0f051d5c3bdb4b0eb4236d3a774e3c3f",
      "920d5124d4e1477f952bb8ee513aa792",
      "79b06a1669314e18b96c25a9e9ce01ea",
      "7773c6cfddc4406f8fb2f2d09783eea6",
      "e04a4711efd34cdda380d05376dda6c3",
      "14946fb6f2354b9da546affa2d02f236",
      "73c2bc5e3bf0417ea299e4b49c25bdb8",
      "a5a38eb7946f4646a7355dac519bdbe4",
      "46b7aaf5a8914a9ab8d2fdfeffe26250",
      "c879df1ff9cc4d789ac524709a5a707a",
      "67db3455c31445bc9f504543ff749e71",
      "cecd33cab95a430c8998952d1d6fcda2",
      "c4707d3e5df84901b400efcecea68048",
      "e0c1057033ac4349a366ba9fbdfb2a9a",
      "d1634f861a9a4e0ab294cb85877d8355",
      "1d59707ac4ee46b5b6ea572cee361e7a",
      "a91503bade7e43309311bb60ef0e9b30"
     ]
    },
    "id": "h_UqiFYw4A7K",
    "outputId": "8cc0c25c-dad4-46b7-dc66-1442a8b34ac3"
   },
   "outputs": [
    {
     "data": {
      "application/vnd.jupyter.widget-view+json": {
       "model_id": "e232e930460e45c3b0ea617797bc4e35",
       "version_major": 2,
       "version_minor": 0
      },
      "text/plain": [
       "  0%|          | 0/31 [00:00<?, ?ba/s]"
      ]
     },
     "metadata": {},
     "output_type": "display_data"
    },
    {
     "data": {
      "application/vnd.jupyter.widget-view+json": {
       "model_id": "8df3dc9b6ecc4bb98de89d2d52762a04",
       "version_major": 2,
       "version_minor": 0
      },
      "text/plain": [
       "  0%|          | 0/8 [00:00<?, ?ba/s]"
      ]
     },
     "metadata": {},
     "output_type": "display_data"
    },
    {
     "data": {
      "application/vnd.jupyter.widget-view+json": {
       "model_id": "73c2bc5e3bf0417ea299e4b49c25bdb8",
       "version_major": 2,
       "version_minor": 0
      },
      "text/plain": [
       "  0%|          | 0/5 [00:00<?, ?ba/s]"
      ]
     },
     "metadata": {},
     "output_type": "display_data"
    }
   ],
   "source": [
    "encoded_dataset = dataset_clean.map(preprocess_data, batched=True, remove_columns=dataset.column_names)"
   ]
  },
  {
   "cell_type": "code",
   "execution_count": 37,
   "metadata": {
    "colab": {
     "base_uri": "https://localhost:8080/"
    },
    "id": "I0hzVIE4ieS6",
    "outputId": "6d671161-e021-4ba9-c910-676aafa7a730"
   },
   "outputs": [
    {
     "name": "stdout",
     "output_type": "stream",
     "text": [
      "dict_keys(['input_ids', 'attention_mask', 'labels'])\n"
     ]
    }
   ],
   "source": [
    "example = encoded_dataset['train'][0]\n",
    "print(example.keys())"
   ]
  },
  {
   "cell_type": "code",
   "execution_count": 38,
   "metadata": {
    "colab": {
     "base_uri": "https://localhost:8080/",
     "height": 140
    },
    "id": "fDjhGfaGoOMi",
    "outputId": "8daa1d91-c3af-484d-e450-9f56642b4c74"
   },
   "outputs": [
    {
     "data": {
      "application/vnd.google.colaboratory.intrinsic+json": {
       "type": "string"
      },
      "text/plain": [
       "'[CLS] ongoing problem google inc regard google playstore credit available account contact consumer finance bureau file complaint < MASK > < MASK > < MASK > complaint number case number < MASK > brief overview purchase google < MASK > gift card worth 200000 < MASK > store < MASK > < MASK > intention buy google devise < MASK > website later confirm < MASK > credit use buy devise tell customer service add credit google account < MASK > refund numerous phone < MASK > different email file complaint consumer finance bureau hear response google response google inc explanation closure hank reach team google < MASK > gift card understand meant use purchase google < MASK > hardware disappointed describe term service google < MASK > balance nt use purchase hardware nt refund particular circumstance onetimeonly courtesy able refund remain unused refund payment wo nt cover fee incur accept base u complete form < MASK > outside u complete form http supportgooglecomgoogleplaycontactwireform thanks patience receive reply submit requested form state google ride suppose receive 200000 reply send receive 200000 bank account detail time contact email reply work refund high team respond numerous email receive fund silly response send refund ask detail nt < MASK > sent refund send refund tire round abouts kind response like cfpb step help know happen refund thanks < MASK > [SEP] [PAD] [PAD] [PAD] [PAD] [PAD] [PAD] [PAD] [PAD] [PAD] [PAD] [PAD] [PAD] [PAD] [PAD] [PAD] [PAD] [PAD] [PAD] [PAD] [PAD] [PAD] [PAD] [PAD] [PAD] [PAD] [PAD] [PAD] [PAD] [PAD] [PAD] [PAD] [PAD] [PAD] [PAD] [PAD] [PAD] [PAD] [PAD] [PAD] [PAD] [PAD] [PAD] [PAD] [PAD] [PAD] [PAD] [PAD] [PAD] [PAD] [PAD] [PAD] [PAD] [PAD] [PAD] [PAD] [PAD] [PAD] [PAD] [PAD] [PAD] [PAD] [PAD] [PAD] [PAD] [PAD] [PAD] [PAD] [PAD] [PAD] [PAD] [PAD] [PAD] [PAD] [PAD] [PAD] [PAD] [PAD] [PAD] [PAD] [PAD] [PAD] [PAD] [PAD] [PAD] [PAD] [PAD] [PAD] [PAD] [PAD] [PAD] [PAD] [PAD] [PAD] [PAD] [PAD] [PAD] [PAD] [PAD] [PAD] [PAD] [PAD] [PAD] [PAD] [PAD] [PAD] [PAD] [PAD] [PAD] [PAD] [PAD] [PAD] [PAD] [PAD] [PAD] [PAD] [PAD] [PAD] [PAD] [PAD] [PAD] [PAD] [PAD] [PAD] [PAD] [PAD] [PAD] [PAD] [PAD] [PAD] [PAD] [PAD] [PAD] [PAD] [PAD] [PAD] [PAD] [PAD] [PAD] [PAD] [PAD] [PAD] [PAD] [PAD] [PAD] [PAD] [PAD] [PAD] [PAD] [PAD] [PAD] [PAD] [PAD] [PAD] [PAD] [PAD] [PAD] [PAD] [PAD] [PAD] [PAD] [PAD] [PAD] [PAD] [PAD] [PAD] [PAD] [PAD] [PAD] [PAD]'"
      ]
     },
     "execution_count": 38,
     "metadata": {},
     "output_type": "execute_result"
    }
   ],
   "source": [
    "tokenizer.decode(example['input_ids'])"
   ]
  },
  {
   "cell_type": "code",
   "execution_count": 39,
   "metadata": {
    "colab": {
     "base_uri": "https://localhost:8080/"
    },
    "id": "ty4hTXCfoORS",
    "outputId": "fde30900-798a-4ae7-bb79-91220815fde0"
   },
   "outputs": [
    {
     "data": {
      "text/plain": [
       "3"
      ]
     },
     "execution_count": 39,
     "metadata": {},
     "output_type": "execute_result"
    }
   ],
   "source": [
    "example['labels']"
   ]
  },
  {
   "cell_type": "code",
   "execution_count": 40,
   "metadata": {
    "colab": {
     "base_uri": "https://localhost:8080/"
    },
    "id": "Z3DTGXxKpgrh",
    "outputId": "1bdedc92-004c-4e95-fca7-f9c109a20932"
   },
   "outputs": [
    {
     "data": {
      "text/plain": [
       "DatasetDict({\n",
       "    train: Dataset({\n",
       "        features: ['input_ids', 'attention_mask', 'labels'],\n",
       "        num_rows: 30769\n",
       "    })\n",
       "    validation: Dataset({\n",
       "        features: ['input_ids', 'attention_mask', 'labels'],\n",
       "        num_rows: 7693\n",
       "    })\n",
       "    test: Dataset({\n",
       "        features: ['input_ids', 'attention_mask', 'labels'],\n",
       "        num_rows: 4274\n",
       "    })\n",
       "})"
      ]
     },
     "execution_count": 40,
     "metadata": {},
     "output_type": "execute_result"
    }
   ],
   "source": [
    "encoded_dataset"
   ]
  },
  {
   "cell_type": "code",
   "execution_count": 41,
   "metadata": {
    "id": "zouV0Nr9oOWN"
   },
   "outputs": [],
   "source": [
    "encoded_dataset.set_format(\"torch\")"
   ]
  },
  {
   "cell_type": "markdown",
   "metadata": {
    "id": "9n8yGtvdsckK"
   },
   "source": [
    "## Define model\n",
    "\n",
    "Here we define a model that includes a pre-trained base (i.e. the weights from the distilbert-base-cased) are loaded, with a random initialized classification head (linear layer) on top. One should fine-tune this head, together with the pre-trained base on a labeled dataset."
   ]
  },
  {
   "cell_type": "code",
   "execution_count": 42,
   "metadata": {
    "colab": {
     "base_uri": "https://localhost:8080/",
     "height": 154,
     "referenced_widgets": [
      "c83721bc363d4b2bb9c7f63e8264a31d",
      "4379ebeec3d9440da8b4f24686bde212",
      "86c754601d3d4880be1843bac43bfcef",
      "ff54656126ac4f959d041a26c66a24ae",
      "436e337731ac46ecbeaa77028b10f748",
      "c393e2e0816a4e11b5cd266cf0f5146f",
      "a695d4e5925d4cbab7536acef84e8434",
      "7c651929e1b14a0baf132f831c2b986d",
      "3bec44c9f50a45b48b456b467bb658c4",
      "16faf4357ce34e4f9af0e1d10043e866",
      "20e6c906d4eb477693776fc2f2da217c"
     ]
    },
    "id": "PA49REZ2srhp",
    "outputId": "ac6f316c-6635-4da4-c82e-7536f71f751e"
   },
   "outputs": [
    {
     "data": {
      "application/vnd.jupyter.widget-view+json": {
       "model_id": "c83721bc363d4b2bb9c7f63e8264a31d",
       "version_major": 2,
       "version_minor": 0
      },
      "text/plain": [
       "Downloading:   0%|          | 0.00/251M [00:00<?, ?B/s]"
      ]
     },
     "metadata": {},
     "output_type": "display_data"
    },
    {
     "name": "stderr",
     "output_type": "stream",
     "text": [
      "Some weights of the model checkpoint at distilbert-base-cased were not used when initializing DistilBertForSequenceClassification: ['vocab_projector.bias', 'vocab_layer_norm.bias', 'vocab_transform.weight', 'vocab_projector.weight', 'vocab_layer_norm.weight', 'vocab_transform.bias']\n",
      "- This IS expected if you are initializing DistilBertForSequenceClassification from the checkpoint of a model trained on another task or with another architecture (e.g. initializing a BertForSequenceClassification model from a BertForPreTraining model).\n",
      "- This IS NOT expected if you are initializing DistilBertForSequenceClassification from the checkpoint of a model that you expect to be exactly identical (initializing a BertForSequenceClassification model from a BertForSequenceClassification model).\n",
      "Some weights of DistilBertForSequenceClassification were not initialized from the model checkpoint at distilbert-base-cased and are newly initialized: ['pre_classifier.weight', 'classifier.bias', 'pre_classifier.bias', 'classifier.weight']\n",
      "You should probably TRAIN this model on a down-stream task to be able to use it for predictions and inference.\n"
     ]
    }
   ],
   "source": [
    "from transformers import AutoModelForSequenceClassification\n",
    "\n",
    "model = AutoModelForSequenceClassification.from_pretrained(\"distilbert-base-cased\",\n",
    "                                                           num_labels=len(labels),\n",
    "                                                           id2label=id2label,\n",
    "                                                           label2id=label2id)"
   ]
  },
  {
   "cell_type": "markdown",
   "metadata": {
    "id": "MvkxV0__tFmP"
   },
   "source": [
    "## Train the model!\n",
    "\n",
    "We are going to train the model using native Pytorch. This requires us to define 2 things: \n",
    "\n",
    "* `DataLoader`:Create a DataLoader for your training, validation and test datasets so you can iterate over batches of data.\n",
    "* `Optimizer`\n",
    "* `Learning rate scheduler`\n",
    "\n"
   ]
  },
  {
   "cell_type": "code",
   "execution_count": 43,
   "metadata": {
    "id": "NWt_8vCltFII"
   },
   "outputs": [],
   "source": [
    "fixed_batch_size = 16\n",
    "fixed_learning_rate = 1e-5\n",
    "num_epochs = 5"
   ]
  },
  {
   "cell_type": "code",
   "execution_count": 44,
   "metadata": {
    "id": "fyRYkf1oppyk"
   },
   "outputs": [],
   "source": [
    "#DataLoader\n",
    "from torch.utils.data import DataLoader\n",
    "\n",
    "train_dataloader = DataLoader(encoded_dataset[\"train\"], batch_size = fixed_batch_size)\n",
    "eval_dataloader = DataLoader(encoded_dataset[\"validation\"], batch_size = fixed_batch_size)"
   ]
  },
  {
   "cell_type": "code",
   "execution_count": 45,
   "metadata": {
    "id": "J7EIa4d2sao5"
   },
   "outputs": [],
   "source": [
    "#Optimizer\n",
    "from torch.optim import AdamW\n",
    "optimizer = AdamW(model.parameters(),lr = fixed_learning_rate)"
   ]
  },
  {
   "cell_type": "code",
   "execution_count": 46,
   "metadata": {
    "id": "rW_hl8-ps0JJ"
   },
   "outputs": [],
   "source": [
    "#Learning rate scheduler \n",
    "\n",
    "from transformers import get_scheduler\n",
    "\n",
    "num_training_steps = num_epochs * len(train_dataloader)\n",
    "\n",
    "lr_scheduler = get_scheduler(\n",
    "    name=\"linear\", optimizer=optimizer, num_warmup_steps=0, num_training_steps=num_training_steps\n",
    ")"
   ]
  },
  {
   "cell_type": "markdown",
   "metadata": {
    "id": "M3WoGSMOuEqA"
   },
   "source": [
    "We are also going to compute accuracy, precision, recall, F-measure while training. For this, we need to define the multi_class_metric function."
   ]
  },
  {
   "cell_type": "code",
   "execution_count": 47,
   "metadata": {
    "id": "PNjiVr3wgMrF"
   },
   "outputs": [],
   "source": [
    "# Function to calculate the accuracy, precision, recall, F-measure  of our predictions vs labels\n",
    "from sklearn.metrics import precision_recall_fscore_support\n",
    "\n",
    "def multi_class_metric(labels,preds):\n",
    "    pred_flat = preds.flatten()\n",
    "    labels_flat = labels.flatten()\n",
    "    accuracy = np.sum(pred_flat == labels_flat) / len(labels_flat)\n",
    "    precision_macro, recall_macro, f1_macro_average,_ = precision_recall_fscore_support(labels,preds,average='macro',zero_division = 0)\n",
    "    # return as dictionary\n",
    "    metrics = {\n",
    "               'f1': f1_macro_average,\n",
    "               'accuracy': accuracy,\n",
    "               'precision': precision_macro,\n",
    "               'recall': recall_macro\n",
    "               }\n",
    "    return metrics"
   ]
  },
  {
   "cell_type": "code",
   "execution_count": 48,
   "metadata": {
    "colab": {
     "base_uri": "https://localhost:8080/"
    },
    "id": "TJ0sp06fDAX0",
    "outputId": "9a058a91-a065-435b-d3e7-b8924ce0fbc9"
   },
   "outputs": [
    {
     "data": {
      "text/plain": [
       "DistilBertForSequenceClassification(\n",
       "  (distilbert): DistilBertModel(\n",
       "    (embeddings): Embeddings(\n",
       "      (word_embeddings): Embedding(28996, 768, padding_idx=0)\n",
       "      (position_embeddings): Embedding(512, 768)\n",
       "      (LayerNorm): LayerNorm((768,), eps=1e-12, elementwise_affine=True)\n",
       "      (dropout): Dropout(p=0.1, inplace=False)\n",
       "    )\n",
       "    (transformer): Transformer(\n",
       "      (layer): ModuleList(\n",
       "        (0): TransformerBlock(\n",
       "          (attention): MultiHeadSelfAttention(\n",
       "            (dropout): Dropout(p=0.1, inplace=False)\n",
       "            (q_lin): Linear(in_features=768, out_features=768, bias=True)\n",
       "            (k_lin): Linear(in_features=768, out_features=768, bias=True)\n",
       "            (v_lin): Linear(in_features=768, out_features=768, bias=True)\n",
       "            (out_lin): Linear(in_features=768, out_features=768, bias=True)\n",
       "          )\n",
       "          (sa_layer_norm): LayerNorm((768,), eps=1e-12, elementwise_affine=True)\n",
       "          (ffn): FFN(\n",
       "            (dropout): Dropout(p=0.1, inplace=False)\n",
       "            (lin1): Linear(in_features=768, out_features=3072, bias=True)\n",
       "            (lin2): Linear(in_features=3072, out_features=768, bias=True)\n",
       "            (activation): GELUActivation()\n",
       "          )\n",
       "          (output_layer_norm): LayerNorm((768,), eps=1e-12, elementwise_affine=True)\n",
       "        )\n",
       "        (1): TransformerBlock(\n",
       "          (attention): MultiHeadSelfAttention(\n",
       "            (dropout): Dropout(p=0.1, inplace=False)\n",
       "            (q_lin): Linear(in_features=768, out_features=768, bias=True)\n",
       "            (k_lin): Linear(in_features=768, out_features=768, bias=True)\n",
       "            (v_lin): Linear(in_features=768, out_features=768, bias=True)\n",
       "            (out_lin): Linear(in_features=768, out_features=768, bias=True)\n",
       "          )\n",
       "          (sa_layer_norm): LayerNorm((768,), eps=1e-12, elementwise_affine=True)\n",
       "          (ffn): FFN(\n",
       "            (dropout): Dropout(p=0.1, inplace=False)\n",
       "            (lin1): Linear(in_features=768, out_features=3072, bias=True)\n",
       "            (lin2): Linear(in_features=3072, out_features=768, bias=True)\n",
       "            (activation): GELUActivation()\n",
       "          )\n",
       "          (output_layer_norm): LayerNorm((768,), eps=1e-12, elementwise_affine=True)\n",
       "        )\n",
       "        (2): TransformerBlock(\n",
       "          (attention): MultiHeadSelfAttention(\n",
       "            (dropout): Dropout(p=0.1, inplace=False)\n",
       "            (q_lin): Linear(in_features=768, out_features=768, bias=True)\n",
       "            (k_lin): Linear(in_features=768, out_features=768, bias=True)\n",
       "            (v_lin): Linear(in_features=768, out_features=768, bias=True)\n",
       "            (out_lin): Linear(in_features=768, out_features=768, bias=True)\n",
       "          )\n",
       "          (sa_layer_norm): LayerNorm((768,), eps=1e-12, elementwise_affine=True)\n",
       "          (ffn): FFN(\n",
       "            (dropout): Dropout(p=0.1, inplace=False)\n",
       "            (lin1): Linear(in_features=768, out_features=3072, bias=True)\n",
       "            (lin2): Linear(in_features=3072, out_features=768, bias=True)\n",
       "            (activation): GELUActivation()\n",
       "          )\n",
       "          (output_layer_norm): LayerNorm((768,), eps=1e-12, elementwise_affine=True)\n",
       "        )\n",
       "        (3): TransformerBlock(\n",
       "          (attention): MultiHeadSelfAttention(\n",
       "            (dropout): Dropout(p=0.1, inplace=False)\n",
       "            (q_lin): Linear(in_features=768, out_features=768, bias=True)\n",
       "            (k_lin): Linear(in_features=768, out_features=768, bias=True)\n",
       "            (v_lin): Linear(in_features=768, out_features=768, bias=True)\n",
       "            (out_lin): Linear(in_features=768, out_features=768, bias=True)\n",
       "          )\n",
       "          (sa_layer_norm): LayerNorm((768,), eps=1e-12, elementwise_affine=True)\n",
       "          (ffn): FFN(\n",
       "            (dropout): Dropout(p=0.1, inplace=False)\n",
       "            (lin1): Linear(in_features=768, out_features=3072, bias=True)\n",
       "            (lin2): Linear(in_features=3072, out_features=768, bias=True)\n",
       "            (activation): GELUActivation()\n",
       "          )\n",
       "          (output_layer_norm): LayerNorm((768,), eps=1e-12, elementwise_affine=True)\n",
       "        )\n",
       "        (4): TransformerBlock(\n",
       "          (attention): MultiHeadSelfAttention(\n",
       "            (dropout): Dropout(p=0.1, inplace=False)\n",
       "            (q_lin): Linear(in_features=768, out_features=768, bias=True)\n",
       "            (k_lin): Linear(in_features=768, out_features=768, bias=True)\n",
       "            (v_lin): Linear(in_features=768, out_features=768, bias=True)\n",
       "            (out_lin): Linear(in_features=768, out_features=768, bias=True)\n",
       "          )\n",
       "          (sa_layer_norm): LayerNorm((768,), eps=1e-12, elementwise_affine=True)\n",
       "          (ffn): FFN(\n",
       "            (dropout): Dropout(p=0.1, inplace=False)\n",
       "            (lin1): Linear(in_features=768, out_features=3072, bias=True)\n",
       "            (lin2): Linear(in_features=3072, out_features=768, bias=True)\n",
       "            (activation): GELUActivation()\n",
       "          )\n",
       "          (output_layer_norm): LayerNorm((768,), eps=1e-12, elementwise_affine=True)\n",
       "        )\n",
       "        (5): TransformerBlock(\n",
       "          (attention): MultiHeadSelfAttention(\n",
       "            (dropout): Dropout(p=0.1, inplace=False)\n",
       "            (q_lin): Linear(in_features=768, out_features=768, bias=True)\n",
       "            (k_lin): Linear(in_features=768, out_features=768, bias=True)\n",
       "            (v_lin): Linear(in_features=768, out_features=768, bias=True)\n",
       "            (out_lin): Linear(in_features=768, out_features=768, bias=True)\n",
       "          )\n",
       "          (sa_layer_norm): LayerNorm((768,), eps=1e-12, elementwise_affine=True)\n",
       "          (ffn): FFN(\n",
       "            (dropout): Dropout(p=0.1, inplace=False)\n",
       "            (lin1): Linear(in_features=768, out_features=3072, bias=True)\n",
       "            (lin2): Linear(in_features=3072, out_features=768, bias=True)\n",
       "            (activation): GELUActivation()\n",
       "          )\n",
       "          (output_layer_norm): LayerNorm((768,), eps=1e-12, elementwise_affine=True)\n",
       "        )\n",
       "      )\n",
       "    )\n",
       "  )\n",
       "  (pre_classifier): Linear(in_features=768, out_features=768, bias=True)\n",
       "  (classifier): Linear(in_features=768, out_features=11, bias=True)\n",
       "  (dropout): Dropout(p=0.2, inplace=False)\n",
       ")"
      ]
     },
     "execution_count": 48,
     "metadata": {},
     "output_type": "execute_result"
    }
   ],
   "source": [
    "model.to(device)"
   ]
  },
  {
   "cell_type": "markdown",
   "metadata": {
    "id": "BFvKwsQxY8j5"
   },
   "source": [
    "Create a function for formatting elapsed times as hh:mm:ss"
   ]
  },
  {
   "cell_type": "code",
   "execution_count": 49,
   "metadata": {
    "id": "MJl3_XGYmH_3"
   },
   "outputs": [],
   "source": [
    "import time\n",
    "import datetime\n",
    "\n",
    "def format_time(elapsed):\n",
    "    '''\n",
    "    Takes a time in seconds and returns a string hh:mm:ss\n",
    "    '''\n",
    "    # Round to the nearest second.\n",
    "    elapsed_rounded = int(round((elapsed)))\n",
    "    \n",
    "    # Format as hh:mm:ss\n",
    "    return str(datetime.timedelta(seconds=elapsed_rounded))\n"
   ]
  },
  {
   "cell_type": "markdown",
   "metadata": {
    "id": "ChQzme1oXkPk"
   },
   "source": [
    "Create two directories to store **checkpoint** and **best model**"
   ]
  },
  {
   "cell_type": "code",
   "execution_count": 50,
   "metadata": {
    "id": "bcJJWtI0XCAn"
   },
   "outputs": [],
   "source": [
    "%mkdir checkpoint best_model"
   ]
  },
  {
   "cell_type": "markdown",
   "metadata": {
    "id": "NIMRwdAiXa8h"
   },
   "source": [
    "Saving function\n",
    "**save_ckp** is created to save checkpoint, the latest one and the best one. This creates flexibility: either you are interested in the state of the latest checkpoint or the best checkpoint."
   ]
  },
  {
   "cell_type": "code",
   "execution_count": 51,
   "metadata": {
    "id": "KKL5-NO9XQ9S"
   },
   "outputs": [],
   "source": [
    "\n",
    "import shutil\n",
    "def save_ckp(state, is_best, checkpoint_path, best_model_path):\n",
    "    \"\"\"\n",
    "    state: checkpoint we want to save\n",
    "    is_best: is this the best checkpoint; min validation loss\n",
    "    checkpoint_path: path to save checkpoint\n",
    "    best_model_path: path to save best model\n",
    "    \"\"\"\n",
    "    f_path = checkpoint_path\n",
    "    # save checkpoint data to the path given, checkpoint_path\n",
    "    torch.save(state, f_path)\n",
    "    # if it is a best model, min validation loss\n",
    "    if is_best:\n",
    "        best_fpath = best_model_path\n",
    "        # copy that checkpoint file to best path given, best_model_path\n",
    "        shutil.copyfile(f_path, best_fpath)"
   ]
  },
  {
   "cell_type": "markdown",
   "metadata": {
    "id": "lidMA6MA0UJf"
   },
   "source": [
    "Loading Function.\n",
    "\n",
    "**load_chkp** is created for loading model. \n",
    "\n",
    "It takes:\n",
    "*   location of the saved checkpoint\n",
    "*   model instance that you want to load the state to\n",
    "*   the optimizer"
   ]
  },
  {
   "cell_type": "code",
   "execution_count": 52,
   "metadata": {
    "id": "dIhiLbox0Y7V"
   },
   "outputs": [],
   "source": [
    "def load_ckp(checkpoint_fpath, model, optimizer):\n",
    "    \"\"\"\n",
    "    checkpoint_path: path to save checkpoint\n",
    "    model: model that we want to load checkpoint parameters into       \n",
    "    optimizer: optimizer we defined in previous training\n",
    "    \"\"\"\n",
    "    # load check point\n",
    "    checkpoint = torch.load(checkpoint_fpath)\n",
    "    # initialize state_dict from checkpoint to model\n",
    "    model.load_state_dict(checkpoint['state_dict'])\n",
    "    # initialize optimizer from checkpoint to optimizer\n",
    "    optimizer.load_state_dict(checkpoint['optimizer'])\n",
    "    # initialize valid_loss_min from checkpoint to valid_loss_min\n",
    "    valid_loss_min = checkpoint['valid_loss_min']\n",
    "    # return model, optimizer, epoch value, min validation loss \n",
    "    return model, optimizer, checkpoint['epoch'], valid_loss_min\n"
   ]
  },
  {
   "cell_type": "markdown",
   "metadata": {
    "id": "2jq2NwPW2u2-"
   },
   "source": [
    "Start Training "
   ]
  },
  {
   "cell_type": "code",
   "execution_count": 53,
   "metadata": {
    "colab": {
     "base_uri": "https://localhost:8080/",
     "height": 1000,
     "referenced_widgets": [
      "042ff8aef7fc4eff8e4a6363620413c5",
      "bdc83e83a83f41ad8f807ec39c9063f9",
      "0e0cad6df44845ffb123e96cf19fc5ad",
      "efffe8117ff94a8e848a4777ab956b07",
      "3ad7d6f6cd4c4e5ab2dc71af316d047d",
      "74cfb2f3ee9f45b1900559f296596179",
      "6fe68cfa572f41bb92df9cb9b80b67d3",
      "143b992b7ebb401aafe910be55c48aaf",
      "eed15e3b3321497da20fc58b2efa4314",
      "299c43f5fa104c62b4fa053b873b4735",
      "670861a431664545b910dba8444a3318"
     ]
    },
    "id": "OnGI2PHjyFtK",
    "outputId": "c968502c-f3f3-4123-eab0-796d2d67c5e2"
   },
   "outputs": [
    {
     "data": {
      "application/vnd.jupyter.widget-view+json": {
       "model_id": "042ff8aef7fc4eff8e4a6363620413c5",
       "version_major": 2,
       "version_minor": 0
      },
      "text/plain": [
       "  0%|          | 0/5 [00:00<?, ?it/s]"
      ]
     },
     "metadata": {},
     "output_type": "display_data"
    },
    {
     "name": "stdout",
     "output_type": "stream",
     "text": [
      "\n",
      "======== Epoch 1 / 5 ========\n",
      "Training...\n",
      " Training f1-score: 0.57\n",
      " Training Accuracy: 0.72\n",
      " Training Precision: 0.61\n",
      " Training Recall: 0.57\n",
      "  Average training loss: 0.88\n",
      "  Training epoch took: 0:45:57\n",
      "\n",
      "Running Validation...\n",
      " Validation f1-score: 0.64\n",
      " Validation Accuracy: 0.78\n",
      " Validation Precision: 0.67\n",
      " Validation Recall: 0.65\n",
      "  Validation Loss: 1.33\n",
      "  Validation took: 0:04:16\n",
      "Validation loss decreased (inf --> 1.334277).  Saving model ...\n",
      "\n",
      "======== Epoch 2 / 5 ========\n",
      "Training...\n",
      " Training f1-score: 0.67\n",
      " Training Accuracy: 0.80\n",
      " Training Precision: 0.70\n",
      " Training Recall: 0.68\n",
      "  Average training loss: 0.60\n",
      "  Training epoch took: 0:46:03\n",
      "\n",
      "Running Validation...\n",
      " Validation f1-score: 0.65\n",
      " Validation Accuracy: 0.79\n",
      " Validation Precision: 0.68\n",
      " Validation Recall: 0.66\n",
      "  Validation Loss: 1.26\n",
      "  Validation took: 0:04:18\n",
      "Validation loss decreased (1.334277 --> 1.262462).  Saving model ...\n",
      "\n",
      "======== Epoch 3 / 5 ========\n",
      "Training...\n",
      " Training f1-score: 0.71\n",
      " Training Accuracy: 0.83\n",
      " Training Precision: 0.73\n",
      " Training Recall: 0.71\n",
      "  Average training loss: 0.52\n",
      "  Training epoch took: 0:46:15\n",
      "\n",
      "Running Validation...\n",
      " Validation f1-score: 0.66\n",
      " Validation Accuracy: 0.79\n",
      " Validation Precision: 0.68\n",
      " Validation Recall: 0.67\n",
      "  Validation Loss: 1.25\n",
      "  Validation took: 0:04:18\n",
      "Validation loss decreased (1.262462 --> 1.246258).  Saving model ...\n",
      "\n",
      "======== Epoch 4 / 5 ========\n",
      "Training...\n",
      " Training f1-score: 0.73\n",
      " Training Accuracy: 0.85\n",
      " Training Precision: 0.75\n",
      " Training Recall: 0.74\n",
      "  Average training loss: 0.46\n",
      "  Training epoch took: 0:46:15\n",
      "\n",
      "Running Validation...\n",
      " Validation f1-score: 0.66\n",
      " Validation Accuracy: 0.80\n",
      " Validation Precision: 0.68\n",
      " Validation Recall: 0.67\n",
      "  Validation Loss: 1.26\n",
      "  Validation took: 0:04:18\n",
      "\n",
      "======== Epoch 5 / 5 ========\n",
      "Training...\n",
      " Training f1-score: 0.75\n",
      " Training Accuracy: 0.86\n",
      " Training Precision: 0.76\n",
      " Training Recall: 0.75\n",
      "  Average training loss: 0.42\n",
      "  Training epoch took: 0:46:06\n",
      "\n",
      "Running Validation...\n",
      " Validation f1-score: 0.66\n",
      " Validation Accuracy: 0.80\n",
      " Validation Precision: 0.69\n",
      " Validation Recall: 0.67\n",
      "  Validation Loss: 1.26\n",
      "  Validation took: 0:04:14\n",
      "\n",
      "Training complete!\n",
      "\n",
      "Total time taken on the training data across all epochs: 3:50:36 (h:mm:ss)\n",
      "Average time take per epoch on training data: 0:46:07 (h:mm:ss)\n",
      "\n",
      "Total time taken on the validation data across all epochs: 0:21:24 (h:mm:ss)\n",
      "Average time take per epoch on validation data: 0:04:17 (h:mm:ss)\n",
      "\n",
      "Total training time taken across all epochs [Validation and model saving time included]: 4:12:32 (h:mm:ss)\n",
      "Average time take per epoch [Validation and model saving time included]: 0:50:30 (h:mm:ss)\n"
     ]
    }
   ],
   "source": [
    "import random\n",
    "from tqdm.auto import tqdm\n",
    "\n",
    "\n",
    "# This training code is based on the `run_glue.py` script here:\n",
    "# https://github.com/huggingface/transformers/blob/5bfcd0485ece086ebcbed2d008813037968a9e58/examples/run_glue.py#L128\n",
    "\n",
    "\n",
    "random.seed(fix_seed)\n",
    "np.random.seed(fix_seed)\n",
    "torch.manual_seed(fix_seed)\n",
    "torch.cuda.manual_seed_all(fix_seed)\n",
    "\n",
    "\n",
    "\n",
    "# We'll store a number of quantities such as training and validation loss, \n",
    "# validation accuracy, and timings.\n",
    "training_stats = []\n",
    "\n",
    "# Measure the total training time for the whole run.\n",
    "total_t0 = time.time()\n",
    "\n",
    "progress_bar = tqdm(range(num_epochs))\n",
    "\n",
    "\n",
    "valid_loss_min_input = np.Inf\n",
    "# initialize tracker for minimum validation loss\n",
    "valid_loss_min = valid_loss_min_input \n",
    "checkpoint_path = \"/content/checkpoint/current_checkpoint.pt\"\n",
    "best_model_path = \"/content/best_model/best_model.pt\"\n",
    "\n",
    "#Reset time taken for Training Data and Validation Data across all epochs\n",
    "training_time_only = 0\n",
    "validation_time_only = 0\n",
    "\n",
    "# For each epoch...\n",
    "for epoch_i in range(0, num_epochs):\n",
    "    \n",
    "    # ========================================\n",
    "    #               Training\n",
    "    # ========================================\n",
    "    \n",
    "    # Perform one full pass over the training set.\n",
    "\n",
    "    print(\"\")\n",
    "    print('======== Epoch {:} / {:} ========'.format(epoch_i + 1, num_epochs))\n",
    "    print('Training...')\n",
    "\n",
    "    \n",
    "\n",
    "    # Reset the total loss and other metrics for this epoch.\n",
    "    total_train_loss = 0\n",
    "    total_train_f1 = 0\n",
    "    total_train_accuracy = 0\n",
    "    total_train_precision = 0\n",
    "    total_train_recall = 0\n",
    "\n",
    "    # Reset the time taken on Training data and Validation data across this epoch\n",
    "    training_time_epoch = 0\n",
    "    validation_time_epoch = 0\n",
    "\n",
    "    # Measure how long the training epoch takes.\n",
    "    train_t0 = time.time()\n",
    "\n",
    "    # Put the model into training mode.\n",
    "    \n",
    "    model.train()\n",
    "    for batch in train_dataloader:\n",
    "      train_batch = {k: v.to(device) for k, v in batch.items()}\n",
    "      train_outputs = model(**train_batch)\n",
    "      train_loss = train_outputs.loss\n",
    "      train_logits = train_outputs.logits\n",
    "      train_predictions = torch.argmax(train_logits, dim=-1)\n",
    "      total_train_loss += train_loss.item()\n",
    "      train_metrics= multi_class_metric(train_predictions.detach().cpu().numpy(), train_batch[\"labels\"].to('cpu').numpy())\n",
    "      train_f1 = train_metrics['f1']\n",
    "      train_accuracy = train_metrics['accuracy']\n",
    "      train_precision =train_metrics['precision']\n",
    "      train_recall = train_metrics['recall']\n",
    "      \n",
    "      total_train_f1 += train_f1\n",
    "      total_train_accuracy += train_accuracy\n",
    "      total_train_precision += train_precision\n",
    "      total_train_recall += train_recall\n",
    "      train_loss.backward()\n",
    "\n",
    "      # Clip the norm of the gradients to 1.0.\n",
    "      #This is to help prevent the \"exploding gradients\" problem.\n",
    "      torch.nn.utils.clip_grad_norm_(model.parameters(), 1.0) \n",
    "\n",
    "      # Update parameters and take a step using the computed gradient.\n",
    "      # The optimizer dictates the \"update rule\"--how the parameters are\n",
    "      # modified based on their gradients, the learning rate, etc.\n",
    "      optimizer.step()\n",
    "      lr_scheduler.step()\n",
    "      optimizer.zero_grad() \n",
    "    \n",
    "    # Measure how long the Training run took.\n",
    "    training_time_epoch = time.time() - train_t0   \n",
    "      \n",
    "    # Calculate the average loss over all of the batches.\n",
    "    avg_train_loss = total_train_loss / len(train_dataloader)  \n",
    "\n",
    "    # Report the final f1-score for this training run.   \n",
    "    avg_train_f1 = total_train_f1 / len(train_dataloader)\n",
    "\n",
    "    # Report the final accuracy for this training run.   \n",
    "    avg_train_accuracy = total_train_accuracy / len(train_dataloader)\n",
    "\n",
    "    # Report the final precision for this training run.   \n",
    "    avg_train_precision = total_train_precision / len(train_dataloader)\n",
    "\n",
    "    # Report the final recall for this training run.   \n",
    "    avg_train_recall = total_train_recall / len(train_dataloader)\n",
    "\n",
    "              \n",
    "    #Accumulate the total time on trainind data across all epochs  \n",
    "    training_time_only +=  training_time_epoch   \n",
    "\n",
    "    print(\" Training f1-score: {0:.2f}\".format(avg_train_f1)) \n",
    "    print(\" Training Accuracy: {0:.2f}\".format(avg_train_accuracy)) \n",
    "    print(\" Training Precision: {0:.2f}\".format(avg_train_precision)) \n",
    "    print(\" Training Recall: {0:.2f}\".format(avg_train_recall))  \n",
    "    print(\"  Average training loss: {0:.2f}\".format(avg_train_loss))\n",
    "    print(\"  Training epoch took: {:}\".format(format_time(training_time_epoch)))\n",
    "    # ========================================\n",
    "    #               Validation\n",
    "    # ========================================\n",
    "    # After the completion of each training epoch, measure our performance on\n",
    "    # our validation set.\n",
    "\n",
    "    print(\"\")\n",
    "    print(\"Running Validation...\")\n",
    "\n",
    "    val_t0 = time.time()\n",
    "    # Put the model in evaluation mode--the dropout layers behave differently\n",
    "    # during evaluation.\n",
    "    model.eval()\n",
    "\n",
    "    # Tracking variables \n",
    "    total_eval_f1 = 0\n",
    "    total_eval_accuracy = 0\n",
    "    total_eval_precision = 0\n",
    "    total_eval_recall = 0\n",
    "    total_eval_loss = 0\n",
    "\n",
    "\n",
    "    # Evaluate data for one epoch\n",
    "    for batch in eval_dataloader:\n",
    "      val_batch = {k: v.to(device) for k, v in batch.items()}\n",
    "     \n",
    "      # Tell pytorch not to bother with constructing the compute graph during\n",
    "      # the forward pass, since this is only needed for backprop (training).\n",
    "      with torch.no_grad():\n",
    "        val_outputs = model(**val_batch)\n",
    "        \n",
    "      val_loss = val_outputs.loss\n",
    "      val_logits = val_outputs.logits\n",
    "      val_predictions = torch.argmax(val_logits, dim=-1)\n",
    "     \n",
    "      total_eval_loss += val_loss.item()\n",
    "\n",
    "      val_metrics = multi_class_metric(val_predictions.detach().cpu().numpy(), val_batch[\"labels\"].to('cpu').numpy())\n",
    "      val_f1 = val_metrics['f1']\n",
    "      val_accuracy = val_metrics['accuracy']\n",
    "      val_precision =val_metrics['precision']\n",
    "      val_recall = val_metrics['recall']\n",
    "\n",
    "      total_eval_f1 += val_f1\n",
    "      total_eval_accuracy += val_accuracy\n",
    "      total_eval_precision += val_precision\n",
    "      total_eval_recall += val_recall\n",
    "\n",
    "      # Accumulate the validation loss.\n",
    "      total_eval_loss += val_loss.item()\n",
    "        \n",
    "    # Measure how long the validation run took.\n",
    "    validation_time_epoch = time.time() - val_t0\n",
    "\n",
    "    # Report the final metrics for this validation run.   \n",
    "    avg_val_f1 = total_eval_f1 / len(eval_dataloader)\n",
    "    avg_val_accuracy = total_eval_accuracy / len(eval_dataloader)\n",
    "    avg_val_precision = total_eval_precision / len(eval_dataloader)\n",
    "    avg_val_recall = total_eval_recall / len(eval_dataloader)\n",
    "\n",
    "\n",
    "    print(\" Validation f1-score: {0:.2f}\".format(avg_val_f1)) \n",
    "    print(\" Validation Accuracy: {0:.2f}\".format(avg_val_accuracy))\n",
    "    print(\" Validation Precision: {0:.2f}\".format(avg_val_precision)) \n",
    "    print(\" Validation Recall: {0:.2f}\".format(avg_val_recall)) \n",
    "    \n",
    "\n",
    "    # Calculate the average loss over all of the batches.\n",
    "    avg_val_loss = total_eval_loss / len(eval_dataloader)\n",
    "    \n",
    "    \n",
    "    #Accumulate the the total validation time across all epochs \n",
    "    validation_time_only += validation_time_epoch\n",
    "    \n",
    "    print(\"  Validation Loss: {0:.2f}\".format(avg_val_loss))\n",
    "    print(\"  Validation took: {:}\".format(format_time(validation_time_epoch)))\n",
    "\n",
    "    # Record all statistics from this epoch.\n",
    "    training_stats.append(\n",
    "        {\n",
    "            'epoch': epoch_i + 1,\n",
    "            'Training Loss': avg_train_loss,\n",
    "            'Valid. Loss': avg_val_loss,\n",
    "            'Training f1': avg_train_f1,\n",
    "            'Valid. f1': avg_val_f1,\n",
    "            'Training Accur.': avg_train_accuracy,\n",
    "            'Valid. Accur.': avg_val_accuracy,\n",
    "            'Training Precision': avg_train_precision,\n",
    "            'Valid. Precision': avg_val_precision,\n",
    "            'Training Recall': avg_train_recall,\n",
    "            'Valid. Recall': avg_val_recall,\n",
    "            'Training Time': format_time(training_time_epoch),\n",
    "            'Validation Time': format_time(validation_time_epoch)\n",
    "        }\n",
    "    )\n",
    "    # create checkpoint variable and add important data\n",
    "    checkpoint = {\n",
    "        'epoch': epoch_i + 1,\n",
    "        'valid_loss_min': avg_val_loss,\n",
    "        'state_dict': model.state_dict(),\n",
    "        'optimizer': optimizer.state_dict(),\n",
    "    }\n",
    "        \n",
    "    # save checkpoint\n",
    "    save_ckp(checkpoint, False, checkpoint_path, best_model_path)\n",
    "    ## save the model if validation loss has decreased\n",
    "    if avg_val_loss <= valid_loss_min:\n",
    "        print('Validation loss decreased ({:.6f} --> {:.6f}).  Saving model ...'.format(valid_loss_min,avg_val_loss))\n",
    "        # save checkpoint as best model\n",
    "        save_ckp(checkpoint, True, checkpoint_path, best_model_path)\n",
    "        valid_loss_min = avg_val_loss\n",
    "    progress_bar.update(1)\n",
    "print(\"\")\n",
    "print(\"Training complete!\")\n",
    "total_training_time = time.time() - total_t0\n",
    "\n",
    "# Total Training time (without validation and model saving time)\n",
    "print(\"\\nTotal time taken on the training data across all epochs: {:} (h:mm:ss)\".format(format_time(training_time_only)))\n",
    "print(\"Average time take per epoch on training data: {:} (h:mm:ss)\".format(format_time(training_time_only/num_epochs)))\n",
    "\n",
    "# Total Validation time (without training and model saving time)\n",
    "print(\"\\nTotal time taken on the validation data across all epochs: {:} (h:mm:ss)\".format(format_time(validation_time_only)))\n",
    "print(\"Average time take per epoch on validation data: {:} (h:mm:ss)\".format(format_time(validation_time_only/num_epochs)))\n",
    "\n",
    "#Total time taken for training, Validation and model saving\n",
    "print(\"\\nTotal training time taken across all epochs [Validation and model saving time included]: {:} (h:mm:ss)\".format(format_time(total_training_time)))\n",
    "print(\"Average time take per epoch [Validation and model saving time included]: {:} (h:mm:ss)\".format(format_time(total_training_time/num_epochs)))\n",
    "\n",
    "\n"
   ]
  },
  {
   "cell_type": "markdown",
   "metadata": {
    "id": "KHusGHxBiSSz"
   },
   "source": [
    "**The best model is saved at epoch 3. The training f1-score: 0.71. The validation f1-score: 0.66**"
   ]
  },
  {
   "cell_type": "code",
   "execution_count": 54,
   "metadata": {
    "colab": {
     "base_uri": "https://localhost:8080/",
     "height": 252
    },
    "id": "CgOm-DMdx-7Z",
    "outputId": "1926dce1-967e-4dc9-d538-b685aba3babb"
   },
   "outputs": [
    {
     "data": {
      "text/html": [
       "<style type=\"text/css\">\n",
       "#T_3f5d8_ th {\n",
       "  max-width: 70px;\n",
       "}\n",
       "</style>\n",
       "<table id=\"T_3f5d8_\" class=\"dataframe\">\n",
       "  <thead>\n",
       "    <tr>\n",
       "      <th class=\"blank level0\" >&nbsp;</th>\n",
       "      <th class=\"col_heading level0 col0\" >Training Loss</th>\n",
       "      <th class=\"col_heading level0 col1\" >Valid. Loss</th>\n",
       "      <th class=\"col_heading level0 col2\" >Training f1</th>\n",
       "      <th class=\"col_heading level0 col3\" >Valid. f1</th>\n",
       "      <th class=\"col_heading level0 col4\" >Training Accur.</th>\n",
       "      <th class=\"col_heading level0 col5\" >Valid. Accur.</th>\n",
       "      <th class=\"col_heading level0 col6\" >Training Precision</th>\n",
       "      <th class=\"col_heading level0 col7\" >Valid. Precision</th>\n",
       "      <th class=\"col_heading level0 col8\" >Training Recall</th>\n",
       "      <th class=\"col_heading level0 col9\" >Valid. Recall</th>\n",
       "      <th class=\"col_heading level0 col10\" >Training Time</th>\n",
       "      <th class=\"col_heading level0 col11\" >Validation Time</th>\n",
       "    </tr>\n",
       "    <tr>\n",
       "      <th class=\"index_name level0\" >epoch</th>\n",
       "      <th class=\"blank col0\" >&nbsp;</th>\n",
       "      <th class=\"blank col1\" >&nbsp;</th>\n",
       "      <th class=\"blank col2\" >&nbsp;</th>\n",
       "      <th class=\"blank col3\" >&nbsp;</th>\n",
       "      <th class=\"blank col4\" >&nbsp;</th>\n",
       "      <th class=\"blank col5\" >&nbsp;</th>\n",
       "      <th class=\"blank col6\" >&nbsp;</th>\n",
       "      <th class=\"blank col7\" >&nbsp;</th>\n",
       "      <th class=\"blank col8\" >&nbsp;</th>\n",
       "      <th class=\"blank col9\" >&nbsp;</th>\n",
       "      <th class=\"blank col10\" >&nbsp;</th>\n",
       "      <th class=\"blank col11\" >&nbsp;</th>\n",
       "    </tr>\n",
       "  </thead>\n",
       "  <tbody>\n",
       "    <tr>\n",
       "      <th id=\"T_3f5d8_level0_row0\" class=\"row_heading level0 row0\" >1</th>\n",
       "      <td id=\"T_3f5d8_row0_col0\" class=\"data row0 col0\" >0.88</td>\n",
       "      <td id=\"T_3f5d8_row0_col1\" class=\"data row0 col1\" >1.33</td>\n",
       "      <td id=\"T_3f5d8_row0_col2\" class=\"data row0 col2\" >0.57</td>\n",
       "      <td id=\"T_3f5d8_row0_col3\" class=\"data row0 col3\" >0.64</td>\n",
       "      <td id=\"T_3f5d8_row0_col4\" class=\"data row0 col4\" >0.72</td>\n",
       "      <td id=\"T_3f5d8_row0_col5\" class=\"data row0 col5\" >0.78</td>\n",
       "      <td id=\"T_3f5d8_row0_col6\" class=\"data row0 col6\" >0.61</td>\n",
       "      <td id=\"T_3f5d8_row0_col7\" class=\"data row0 col7\" >0.67</td>\n",
       "      <td id=\"T_3f5d8_row0_col8\" class=\"data row0 col8\" >0.57</td>\n",
       "      <td id=\"T_3f5d8_row0_col9\" class=\"data row0 col9\" >0.65</td>\n",
       "      <td id=\"T_3f5d8_row0_col10\" class=\"data row0 col10\" >0:45:57</td>\n",
       "      <td id=\"T_3f5d8_row0_col11\" class=\"data row0 col11\" >0:04:16</td>\n",
       "    </tr>\n",
       "    <tr>\n",
       "      <th id=\"T_3f5d8_level0_row1\" class=\"row_heading level0 row1\" >2</th>\n",
       "      <td id=\"T_3f5d8_row1_col0\" class=\"data row1 col0\" >0.60</td>\n",
       "      <td id=\"T_3f5d8_row1_col1\" class=\"data row1 col1\" >1.26</td>\n",
       "      <td id=\"T_3f5d8_row1_col2\" class=\"data row1 col2\" >0.67</td>\n",
       "      <td id=\"T_3f5d8_row1_col3\" class=\"data row1 col3\" >0.65</td>\n",
       "      <td id=\"T_3f5d8_row1_col4\" class=\"data row1 col4\" >0.80</td>\n",
       "      <td id=\"T_3f5d8_row1_col5\" class=\"data row1 col5\" >0.79</td>\n",
       "      <td id=\"T_3f5d8_row1_col6\" class=\"data row1 col6\" >0.70</td>\n",
       "      <td id=\"T_3f5d8_row1_col7\" class=\"data row1 col7\" >0.68</td>\n",
       "      <td id=\"T_3f5d8_row1_col8\" class=\"data row1 col8\" >0.68</td>\n",
       "      <td id=\"T_3f5d8_row1_col9\" class=\"data row1 col9\" >0.66</td>\n",
       "      <td id=\"T_3f5d8_row1_col10\" class=\"data row1 col10\" >0:46:03</td>\n",
       "      <td id=\"T_3f5d8_row1_col11\" class=\"data row1 col11\" >0:04:18</td>\n",
       "    </tr>\n",
       "    <tr>\n",
       "      <th id=\"T_3f5d8_level0_row2\" class=\"row_heading level0 row2\" >3</th>\n",
       "      <td id=\"T_3f5d8_row2_col0\" class=\"data row2 col0\" >0.52</td>\n",
       "      <td id=\"T_3f5d8_row2_col1\" class=\"data row2 col1\" >1.25</td>\n",
       "      <td id=\"T_3f5d8_row2_col2\" class=\"data row2 col2\" >0.71</td>\n",
       "      <td id=\"T_3f5d8_row2_col3\" class=\"data row2 col3\" >0.66</td>\n",
       "      <td id=\"T_3f5d8_row2_col4\" class=\"data row2 col4\" >0.83</td>\n",
       "      <td id=\"T_3f5d8_row2_col5\" class=\"data row2 col5\" >0.79</td>\n",
       "      <td id=\"T_3f5d8_row2_col6\" class=\"data row2 col6\" >0.73</td>\n",
       "      <td id=\"T_3f5d8_row2_col7\" class=\"data row2 col7\" >0.68</td>\n",
       "      <td id=\"T_3f5d8_row2_col8\" class=\"data row2 col8\" >0.71</td>\n",
       "      <td id=\"T_3f5d8_row2_col9\" class=\"data row2 col9\" >0.67</td>\n",
       "      <td id=\"T_3f5d8_row2_col10\" class=\"data row2 col10\" >0:46:15</td>\n",
       "      <td id=\"T_3f5d8_row2_col11\" class=\"data row2 col11\" >0:04:18</td>\n",
       "    </tr>\n",
       "    <tr>\n",
       "      <th id=\"T_3f5d8_level0_row3\" class=\"row_heading level0 row3\" >4</th>\n",
       "      <td id=\"T_3f5d8_row3_col0\" class=\"data row3 col0\" >0.46</td>\n",
       "      <td id=\"T_3f5d8_row3_col1\" class=\"data row3 col1\" >1.26</td>\n",
       "      <td id=\"T_3f5d8_row3_col2\" class=\"data row3 col2\" >0.73</td>\n",
       "      <td id=\"T_3f5d8_row3_col3\" class=\"data row3 col3\" >0.66</td>\n",
       "      <td id=\"T_3f5d8_row3_col4\" class=\"data row3 col4\" >0.85</td>\n",
       "      <td id=\"T_3f5d8_row3_col5\" class=\"data row3 col5\" >0.80</td>\n",
       "      <td id=\"T_3f5d8_row3_col6\" class=\"data row3 col6\" >0.75</td>\n",
       "      <td id=\"T_3f5d8_row3_col7\" class=\"data row3 col7\" >0.68</td>\n",
       "      <td id=\"T_3f5d8_row3_col8\" class=\"data row3 col8\" >0.74</td>\n",
       "      <td id=\"T_3f5d8_row3_col9\" class=\"data row3 col9\" >0.67</td>\n",
       "      <td id=\"T_3f5d8_row3_col10\" class=\"data row3 col10\" >0:46:15</td>\n",
       "      <td id=\"T_3f5d8_row3_col11\" class=\"data row3 col11\" >0:04:18</td>\n",
       "    </tr>\n",
       "    <tr>\n",
       "      <th id=\"T_3f5d8_level0_row4\" class=\"row_heading level0 row4\" >5</th>\n",
       "      <td id=\"T_3f5d8_row4_col0\" class=\"data row4 col0\" >0.42</td>\n",
       "      <td id=\"T_3f5d8_row4_col1\" class=\"data row4 col1\" >1.26</td>\n",
       "      <td id=\"T_3f5d8_row4_col2\" class=\"data row4 col2\" >0.75</td>\n",
       "      <td id=\"T_3f5d8_row4_col3\" class=\"data row4 col3\" >0.66</td>\n",
       "      <td id=\"T_3f5d8_row4_col4\" class=\"data row4 col4\" >0.86</td>\n",
       "      <td id=\"T_3f5d8_row4_col5\" class=\"data row4 col5\" >0.80</td>\n",
       "      <td id=\"T_3f5d8_row4_col6\" class=\"data row4 col6\" >0.76</td>\n",
       "      <td id=\"T_3f5d8_row4_col7\" class=\"data row4 col7\" >0.69</td>\n",
       "      <td id=\"T_3f5d8_row4_col8\" class=\"data row4 col8\" >0.75</td>\n",
       "      <td id=\"T_3f5d8_row4_col9\" class=\"data row4 col9\" >0.67</td>\n",
       "      <td id=\"T_3f5d8_row4_col10\" class=\"data row4 col10\" >0:46:06</td>\n",
       "      <td id=\"T_3f5d8_row4_col11\" class=\"data row4 col11\" >0:04:14</td>\n",
       "    </tr>\n",
       "  </tbody>\n",
       "</table>\n"
      ],
      "text/plain": [
       "<pandas.io.formats.style.Styler at 0x7f5bf2d5e190>"
      ]
     },
     "execution_count": 54,
     "metadata": {},
     "output_type": "execute_result"
    }
   ],
   "source": [
    "# Display floats with two decimal places.\n",
    "pd.set_option('precision', 2)\n",
    "\n",
    "# Create a DataFrame from our training statistics.\n",
    "df_stats = pd.DataFrame(data=training_stats)\n",
    "\n",
    "# Use the 'epoch' as the row index.\n",
    "df_stats = df_stats.set_index('epoch')\n",
    "\n",
    "# Display the table.\n",
    "df_stats.style.set_table_styles([dict(selector=\"th\",props=[('max-width', '70px')])])"
   ]
  },
  {
   "cell_type": "markdown",
   "metadata": {
    "id": "Yvqs8ZqivUdr"
   },
   "source": [
    "Validation Loss is a more precise measure than accuracy. If we are predicting the correct answer, but with less confidence, then validation loss will catch this, while accuracy will not."
   ]
  },
  {
   "cell_type": "code",
   "execution_count": 55,
   "metadata": {
    "colab": {
     "base_uri": "https://localhost:8080/",
     "height": 427
    },
    "id": "GBPWXFxX7414",
    "outputId": "41e44dbd-206f-46ef-dfa7-1c59a1b0342c"
   },
   "outputs": [
    {
     "data": {
      "image/png": "[encoded data removed]",
      "text/plain": [
       "<Figure size 864x432 with 1 Axes>"
      ]
     },
     "metadata": {},
     "output_type": "display_data"
    }
   ],
   "source": [
    "import matplotlib.pyplot as plt\n",
    "% matplotlib inline\n",
    "\n",
    "import seaborn as sns\n",
    "\n",
    "# Use plot styling from seaborn.\n",
    "sns.set(style='darkgrid')\n",
    "\n",
    "# Increase the plot size and font size.\n",
    "sns.set(font_scale=1.5)\n",
    "plt.rcParams[\"figure.figsize\"] = (12,6)\n",
    "\n",
    "# Plot the learning curve.\n",
    "plt.plot(df_stats['Training Loss'], 'b-o', label=\"Training\")\n",
    "plt.plot(df_stats['Valid. Loss'], 'g-o', label=\"Validation\")\n",
    "\n",
    "# Label the plot.\n",
    "plt.title(\"Training & Validation Loss\")\n",
    "plt.xlabel(\"Epoch\")\n",
    "plt.ylabel(\"Loss\")\n",
    "plt.legend()\n",
    "plt.show()"
   ]
  },
  {
   "cell_type": "markdown",
   "metadata": {
    "id": "LFcr-ozDmteM"
   },
   "source": [
    "## Download the Data"
   ]
  },
  {
   "cell_type": "code",
   "execution_count": 56,
   "metadata": {
    "colab": {
     "base_uri": "https://localhost:8080/"
    },
    "id": "PBZrl1QRmvlT",
    "outputId": "0dff2ab1-c7d5-45b1-b11c-acbe82ce8010"
   },
   "outputs": [
    {
     "name": "stdout",
     "output_type": "stream",
     "text": [
      "\n",
      "Transfer Complete\n"
     ]
    }
   ],
   "source": [
    "#Transfer the Test Data in drive\n",
    "used_test_df =pd.DataFrame(test_data)\n",
    "used_test_df.to_csv(used_test_data_path, encoding='utf-8', index=False)\n",
    "shutil.copy(used_test_data_path, '/content/drive/MyDrive/Complaints_csv/Experiment5/Test_data_DistilBERT.csv' )\n",
    "print(\"\\nTransfer Complete\")"
   ]
  },
  {
   "cell_type": "code",
   "execution_count": 57,
   "metadata": {
    "colab": {
     "base_uri": "https://localhost:8080/"
    },
    "id": "sKMt-zkoBNnQ",
    "outputId": "7a8704c1-7900-4c74-a8b9-d356a995df71"
   },
   "outputs": [
    {
     "name": "stdout",
     "output_type": "stream",
     "text": [
      "\n",
      "Transfer Complete\n"
     ]
    }
   ],
   "source": [
    "#Transfer the Encoded Tedt Data  in Drive \n",
    "encoded_test = pd.DataFrame(encoded_dataset['test'])\n",
    "encoded_test.to_csv(encoded_test_data_path , encoding='utf-8', index=False)\n",
    "shutil.copy(encoded_test_data_path  , '/content/drive/MyDrive/Complaints_csv/Experiment5/ENCODED_Test_data_DistilBERT.csv' )\n",
    "print(\"\\nTransfer Complete\")"
   ]
  },
  {
   "cell_type": "code",
   "execution_count": 58,
   "metadata": {
    "colab": {
     "base_uri": "https://localhost:8080/"
    },
    "id": "fi7vxB8ZEhk0",
    "outputId": "84911b79-f08a-45b7-9d8c-b281001c3950"
   },
   "outputs": [
    {
     "name": "stdout",
     "output_type": "stream",
     "text": [
      "\n",
      "Transfer Complete\n"
     ]
    }
   ],
   "source": [
    "#Transfer the label2id_df in Drive \n",
    "label2id_df = pd.DataFrame([label2id] )\n",
    "label2id_df.to_csv(label2id_df_path  , encoding='utf-8', index=False) \n",
    "shutil.copy(label2id_df_path , '/content/drive/MyDrive/Complaints_csv/Experiment5/label2id_df.csv' )\n",
    "print(\"\\nTransfer Complete\")"
   ]
  },
  {
   "cell_type": "code",
   "execution_count": 59,
   "metadata": {
    "colab": {
     "base_uri": "https://localhost:8080/"
    },
    "id": "i9zr_C8cogEr",
    "outputId": "df425c9e-ca5d-466f-9d6b-2b04b73028eb"
   },
   "outputs": [
    {
     "name": "stdout",
     "output_type": "stream",
     "text": [
      "\n",
      "Transfer Complete\n"
     ]
    }
   ],
   "source": [
    "#Transfer the best model in Drive \n",
    "shutil.copy(best_model_path, '/content/drive/MyDrive/Complaints_csv/Experiment5/best_model.pt' )\n",
    "print(\"\\nTransfer Complete\")"
   ]
  }
 ],
 "metadata": {
  "accelerator": "GPU",
  "colab": {
   "collapsed_sections": [
    "6GkxfuQ8ob0R"
   ],
   "name": "Experiment5:  PART 3 _DistilBERT_5_epochs.ipynb",
   "provenance": []
  },
  "kernelspec": {
   "display_name": "Python 3 (ipykernel)",
   "language": "python",
   "name": "python3"
  },
  "language_info": {
   "codemirror_mode": {
    "name": "ipython",
    "version": 3
   },
   "file_extension": ".py",
   "mimetype": "text/x-python",
   "name": "python",
   "nbconvert_exporter": "python",
   "pygments_lexer": "ipython3",
   "version": "3.9.7"
  },
  "widgets": {
   "application/vnd.jupyter.widget-state+json": {
    "021b1f9bab0d439cb921b1213b1634a5": {
     "model_module": "@jupyter-widgets/base",
     "model_module_version": "1.2.0",
     "model_name": "LayoutModel",
     "state": {
      "_model_module": "@jupyter-widgets/base",
      "_model_module_version": "1.2.0",
      "_model_name": "LayoutModel",
      "_view_count": null,
      "_view_module": "@jupyter-widgets/base",
      "_view_module_version": "1.2.0",
      "_view_name": "LayoutView",
      "align_content": null,
      "align_items": null,
      "align_self": null,
      "border": null,
      "bottom": null,
      "display": null,
      "flex": null,
      "flex_flow": null,
      "grid_area": null,
      "grid_auto_columns": null,
      "grid_auto_flow": null,
      "grid_auto_rows": null,
      "grid_column": null,
      "grid_gap": null,
      "grid_row": null,
      "grid_template_areas": null,
      "grid_template_columns": null,
      "grid_template_rows": null,
      "height": null,
      "justify_content": null,
      "justify_items": null,
      "left": null,
      "margin": null,
      "max_height": null,
      "max_width": null,
      "min_height": null,
      "min_width": null,
      "object_fit": null,
      "object_position": null,
      "order": null,
      "overflow": null,
      "overflow_x": null,
      "overflow_y": null,
      "padding": null,
      "right": null,
      "top": null,
      "visibility": null,
      "width": null
     }
    },
    "042ff8aef7fc4eff8e4a6363620413c5": {
     "model_module": "@jupyter-widgets/controls",
     "model_module_version": "1.5.0",
     "model_name": "HBoxModel",
     "state": {
      "_dom_classes": [],
      "_model_module": "@jupyter-widgets/controls",
      "_model_module_version": "1.5.0",
      "_model_name": "HBoxModel",
      "_view_count": null,
      "_view_module": "@jupyter-widgets/controls",
      "_view_module_version": "1.5.0",
      "_view_name": "HBoxView",
      "box_style": "",
      "children": [
       "IPY_MODEL_bdc83e83a83f41ad8f807ec39c9063f9",
       "IPY_MODEL_0e0cad6df44845ffb123e96cf19fc5ad",
       "IPY_MODEL_efffe8117ff94a8e848a4777ab956b07"
      ],
      "layout": "IPY_MODEL_3ad7d6f6cd4c4e5ab2dc71af316d047d"
     }
    },
    "06cc6b4e962049079aa3fb4303b369ca": {
     "model_module": "@jupyter-widgets/controls",
     "model_module_version": "1.5.0",
     "model_name": "ProgressStyleModel",
     "state": {
      "_model_module": "@jupyter-widgets/controls",
      "_model_module_version": "1.5.0",
      "_model_name": "ProgressStyleModel",
      "_view_count": null,
      "_view_module": "@jupyter-widgets/base",
      "_view_module_version": "1.2.0",
      "_view_name": "StyleView",
      "bar_color": null,
      "description_width": ""
     }
    },
    "090377cc32c74b1883cdafbf4186c2b1": {
     "model_module": "@jupyter-widgets/controls",
     "model_module_version": "1.5.0",
     "model_name": "HTMLModel",
     "state": {
      "_dom_classes": [],
      "_model_module": "@jupyter-widgets/controls",
      "_model_module_version": "1.5.0",
      "_model_name": "HTMLModel",
      "_view_count": null,
      "_view_module": "@jupyter-widgets/controls",
      "_view_module_version": "1.5.0",
      "_view_name": "HTMLView",
      "description": "",
      "description_tooltip": null,
      "layout": "IPY_MODEL_11a528f9a1974b58a94aaec5f6d5b6f5",
      "placeholder": "​",
      "style": "IPY_MODEL_db1646bb38d941dd8fb36db6d62f431c",
      "value": "100%"
     }
    },
    "0c3d97e2f9ca46459b53e81afaa7d170": {
     "model_module": "@jupyter-widgets/controls",
     "model_module_version": "1.5.0",
     "model_name": "DescriptionStyleModel",
     "state": {
      "_model_module": "@jupyter-widgets/controls",
      "_model_module_version": "1.5.0",
      "_model_name": "DescriptionStyleModel",
      "_view_count": null,
      "_view_module": "@jupyter-widgets/base",
      "_view_module_version": "1.2.0",
      "_view_name": "StyleView",
      "description_width": ""
     }
    },
    "0c593e5bf1224b2ea2a8b49356860d19": {
     "model_module": "@jupyter-widgets/base",
     "model_module_version": "1.2.0",
     "model_name": "LayoutModel",
     "state": {
      "_model_module": "@jupyter-widgets/base",
      "_model_module_version": "1.2.0",
      "_model_name": "LayoutModel",
      "_view_count": null,
      "_view_module": "@jupyter-widgets/base",
      "_view_module_version": "1.2.0",
      "_view_name": "LayoutView",
      "align_content": null,
      "align_items": null,
      "align_self": null,
      "border": null,
      "bottom": null,
      "display": null,
      "flex": null,
      "flex_flow": null,
      "grid_area": null,
      "grid_auto_columns": null,
      "grid_auto_flow": null,
      "grid_auto_rows": null,
      "grid_column": null,
      "grid_gap": null,
      "grid_row": null,
      "grid_template_areas": null,
      "grid_template_columns": null,
      "grid_template_rows": null,
      "height": null,
      "justify_content": null,
      "justify_items": null,
      "left": null,
      "margin": null,
      "max_height": null,
      "max_width": null,
      "min_height": null,
      "min_width": null,
      "object_fit": null,
      "object_position": null,
      "order": null,
      "overflow": null,
      "overflow_x": null,
      "overflow_y": null,
      "padding": null,
      "right": null,
      "top": null,
      "visibility": null,
      "width": null
     }
    },
    "0e0cad6df44845ffb123e96cf19fc5ad": {
     "model_module": "@jupyter-widgets/controls",
     "model_module_version": "1.5.0",
     "model_name": "FloatProgressModel",
     "state": {
      "_dom_classes": [],
      "_model_module": "@jupyter-widgets/controls",
      "_model_module_version": "1.5.0",
      "_model_name": "FloatProgressModel",
      "_view_count": null,
      "_view_module": "@jupyter-widgets/controls",
      "_view_module_version": "1.5.0",
      "_view_name": "ProgressView",
      "bar_style": "",
      "description": "",
      "description_tooltip": null,
      "layout": "IPY_MODEL_143b992b7ebb401aafe910be55c48aaf",
      "max": 5,
      "min": 0,
      "orientation": "horizontal",
      "style": "IPY_MODEL_eed15e3b3321497da20fc58b2efa4314",
      "value": 5
     }
    },
    "0f051d5c3bdb4b0eb4236d3a774e3c3f": {
     "model_module": "@jupyter-widgets/base",
     "model_module_version": "1.2.0",
     "model_name": "LayoutModel",
     "state": {
      "_model_module": "@jupyter-widgets/base",
      "_model_module_version": "1.2.0",
      "_model_name": "LayoutModel",
      "_view_count": null,
      "_view_module": "@jupyter-widgets/base",
      "_view_module_version": "1.2.0",
      "_view_name": "LayoutView",
      "align_content": null,
      "align_items": null,
      "align_self": null,
      "border": null,
      "bottom": null,
      "display": null,
      "flex": null,
      "flex_flow": null,
      "grid_area": null,
      "grid_auto_columns": null,
      "grid_auto_flow": null,
      "grid_auto_rows": null,
      "grid_column": null,
      "grid_gap": null,
      "grid_row": null,
      "grid_template_areas": null,
      "grid_template_columns": null,
      "grid_template_rows": null,
      "height": null,
      "justify_content": null,
      "justify_items": null,
      "left": null,
      "margin": null,
      "max_height": null,
      "max_width": null,
      "min_height": null,
      "min_width": null,
      "object_fit": null,
      "object_position": null,
      "order": null,
      "overflow": null,
      "overflow_x": null,
      "overflow_y": null,
      "padding": null,
      "right": null,
      "top": null,
      "visibility": null,
      "width": null
     }
    },
    "11a528f9a1974b58a94aaec5f6d5b6f5": {
     "model_module": "@jupyter-widgets/base",
     "model_module_version": "1.2.0",
     "model_name": "LayoutModel",
     "state": {
      "_model_module": "@jupyter-widgets/base",
      "_model_module_version": "1.2.0",
      "_model_name": "LayoutModel",
      "_view_count": null,
      "_view_module": "@jupyter-widgets/base",
      "_view_module_version": "1.2.0",
      "_view_name": "LayoutView",
      "align_content": null,
      "align_items": null,
      "align_self": null,
      "border": null,
      "bottom": null,
      "display": null,
      "flex": null,
      "flex_flow": null,
      "grid_area": null,
      "grid_auto_columns": null,
      "grid_auto_flow": null,
      "grid_auto_rows": null,
      "grid_column": null,
      "grid_gap": null,
      "grid_row": null,
      "grid_template_areas": null,
      "grid_template_columns": null,
      "grid_template_rows": null,
      "height": null,
      "justify_content": null,
      "justify_items": null,
      "left": null,
      "margin": null,
      "max_height": null,
      "max_width": null,
      "min_height": null,
      "min_width": null,
      "object_fit": null,
      "object_position": null,
      "order": null,
      "overflow": null,
      "overflow_x": null,
      "overflow_y": null,
      "padding": null,
      "right": null,
      "top": null,
      "visibility": null,
      "width": null
     }
    },
    "143b992b7ebb401aafe910be55c48aaf": {
     "model_module": "@jupyter-widgets/base",
     "model_module_version": "1.2.0",
     "model_name": "LayoutModel",
     "state": {
      "_model_module": "@jupyter-widgets/base",
      "_model_module_version": "1.2.0",
      "_model_name": "LayoutModel",
      "_view_count": null,
      "_view_module": "@jupyter-widgets/base",
      "_view_module_version": "1.2.0",
      "_view_name": "LayoutView",
      "align_content": null,
      "align_items": null,
      "align_self": null,
      "border": null,
      "bottom": null,
      "display": null,
      "flex": null,
      "flex_flow": null,
      "grid_area": null,
      "grid_auto_columns": null,
      "grid_auto_flow": null,
      "grid_auto_rows": null,
      "grid_column": null,
      "grid_gap": null,
      "grid_row": null,
      "grid_template_areas": null,
      "grid_template_columns": null,
      "grid_template_rows": null,
      "height": null,
      "justify_content": null,
      "justify_items": null,
      "left": null,
      "margin": null,
      "max_height": null,
      "max_width": null,
      "min_height": null,
      "min_width": null,
      "object_fit": null,
      "object_position": null,
      "order": null,
      "overflow": null,
      "overflow_x": null,
      "overflow_y": null,
      "padding": null,
      "right": null,
      "top": null,
      "visibility": null,
      "width": null
     }
    },
    "14946fb6f2354b9da546affa2d02f236": {
     "model_module": "@jupyter-widgets/controls",
     "model_module_version": "1.5.0",
     "model_name": "DescriptionStyleModel",
     "state": {
      "_model_module": "@jupyter-widgets/controls",
      "_model_module_version": "1.5.0",
      "_model_name": "DescriptionStyleModel",
      "_view_count": null,
      "_view_module": "@jupyter-widgets/base",
      "_view_module_version": "1.2.0",
      "_view_name": "StyleView",
      "description_width": ""
     }
    },
    "16faf4357ce34e4f9af0e1d10043e866": {
     "model_module": "@jupyter-widgets/base",
     "model_module_version": "1.2.0",
     "model_name": "LayoutModel",
     "state": {
      "_model_module": "@jupyter-widgets/base",
      "_model_module_version": "1.2.0",
      "_model_name": "LayoutModel",
      "_view_count": null,
      "_view_module": "@jupyter-widgets/base",
      "_view_module_version": "1.2.0",
      "_view_name": "LayoutView",
      "align_content": null,
      "align_items": null,
      "align_self": null,
      "border": null,
      "bottom": null,
      "display": null,
      "flex": null,
      "flex_flow": null,
      "grid_area": null,
      "grid_auto_columns": null,
      "grid_auto_flow": null,
      "grid_auto_rows": null,
      "grid_column": null,
      "grid_gap": null,
      "grid_row": null,
      "grid_template_areas": null,
      "grid_template_columns": null,
      "grid_template_rows": null,
      "height": null,
      "justify_content": null,
      "justify_items": null,
      "left": null,
      "margin": null,
      "max_height": null,
      "max_width": null,
      "min_height": null,
      "min_width": null,
      "object_fit": null,
      "object_position": null,
      "order": null,
      "overflow": null,
      "overflow_x": null,
      "overflow_y": null,
      "padding": null,
      "right": null,
      "top": null,
      "visibility": null,
      "width": null
     }
    },
    "19cbc33b59924643b3ba9020a89171b7": {
     "model_module": "@jupyter-widgets/controls",
     "model_module_version": "1.5.0",
     "model_name": "HTMLModel",
     "state": {
      "_dom_classes": [],
      "_model_module": "@jupyter-widgets/controls",
      "_model_module_version": "1.5.0",
      "_model_name": "HTMLModel",
      "_view_count": null,
      "_view_module": "@jupyter-widgets/controls",
      "_view_module_version": "1.5.0",
      "_view_name": "HTMLView",
      "description": "",
      "description_tooltip": null,
      "layout": "IPY_MODEL_0f051d5c3bdb4b0eb4236d3a774e3c3f",
      "placeholder": "​",
      "style": "IPY_MODEL_920d5124d4e1477f952bb8ee513aa792",
      "value": "100%"
     }
    },
    "1d59707ac4ee46b5b6ea572cee361e7a": {
     "model_module": "@jupyter-widgets/base",
     "model_module_version": "1.2.0",
     "model_name": "LayoutModel",
     "state": {
      "_model_module": "@jupyter-widgets/base",
      "_model_module_version": "1.2.0",
      "_model_name": "LayoutModel",
      "_view_count": null,
      "_view_module": "@jupyter-widgets/base",
      "_view_module_version": "1.2.0",
      "_view_name": "LayoutView",
      "align_content": null,
      "align_items": null,
      "align_self": null,
      "border": null,
      "bottom": null,
      "display": null,
      "flex": null,
      "flex_flow": null,
      "grid_area": null,
      "grid_auto_columns": null,
      "grid_auto_flow": null,
      "grid_auto_rows": null,
      "grid_column": null,
      "grid_gap": null,
      "grid_row": null,
      "grid_template_areas": null,
      "grid_template_columns": null,
      "grid_template_rows": null,
      "height": null,
      "justify_content": null,
      "justify_items": null,
      "left": null,
      "margin": null,
      "max_height": null,
      "max_width": null,
      "min_height": null,
      "min_width": null,
      "object_fit": null,
      "object_position": null,
      "order": null,
      "overflow": null,
      "overflow_x": null,
      "overflow_y": null,
      "padding": null,
      "right": null,
      "top": null,
      "visibility": null,
      "width": null
     }
    },
    "20e6c906d4eb477693776fc2f2da217c": {
     "model_module": "@jupyter-widgets/controls",
     "model_module_version": "1.5.0",
     "model_name": "DescriptionStyleModel",
     "state": {
      "_model_module": "@jupyter-widgets/controls",
      "_model_module_version": "1.5.0",
      "_model_name": "DescriptionStyleModel",
      "_view_count": null,
      "_view_module": "@jupyter-widgets/base",
      "_view_module_version": "1.2.0",
      "_view_name": "StyleView",
      "description_width": ""
     }
    },
    "2178d27fe6504b538c617fca64b2a5d6": {
     "model_module": "@jupyter-widgets/controls",
     "model_module_version": "1.5.0",
     "model_name": "ProgressStyleModel",
     "state": {
      "_model_module": "@jupyter-widgets/controls",
      "_model_module_version": "1.5.0",
      "_model_name": "ProgressStyleModel",
      "_view_count": null,
      "_view_module": "@jupyter-widgets/base",
      "_view_module_version": "1.2.0",
      "_view_name": "StyleView",
      "bar_color": null,
      "description_width": ""
     }
    },
    "226d348762ce4b52b46b199b961380a9": {
     "model_module": "@jupyter-widgets/controls",
     "model_module_version": "1.5.0",
     "model_name": "HTMLModel",
     "state": {
      "_dom_classes": [],
      "_model_module": "@jupyter-widgets/controls",
      "_model_module_version": "1.5.0",
      "_model_name": "HTMLModel",
      "_view_count": null,
      "_view_module": "@jupyter-widgets/controls",
      "_view_module_version": "1.5.0",
      "_view_name": "HTMLView",
      "description": "",
      "description_tooltip": null,
      "layout": "IPY_MODEL_85c85a0659a94b7c807718e4542cb6c5",
      "placeholder": "​",
      "style": "IPY_MODEL_4f90ece5b4864d0dbe2a1b8859afaeec",
      "value": " 31/31 [00:11&lt;00:00,  3.12ba/s]"
     }
    },
    "237a5c6bbc294b4fac2d776321bfc2b5": {
     "model_module": "@jupyter-widgets/controls",
     "model_module_version": "1.5.0",
     "model_name": "DescriptionStyleModel",
     "state": {
      "_model_module": "@jupyter-widgets/controls",
      "_model_module_version": "1.5.0",
      "_model_name": "DescriptionStyleModel",
      "_view_count": null,
      "_view_module": "@jupyter-widgets/base",
      "_view_module_version": "1.2.0",
      "_view_name": "StyleView",
      "description_width": ""
     }
    },
    "243cd87f73cb4cfd94d98a8744c0f91f": {
     "model_module": "@jupyter-widgets/base",
     "model_module_version": "1.2.0",
     "model_name": "LayoutModel",
     "state": {
      "_model_module": "@jupyter-widgets/base",
      "_model_module_version": "1.2.0",
      "_model_name": "LayoutModel",
      "_view_count": null,
      "_view_module": "@jupyter-widgets/base",
      "_view_module_version": "1.2.0",
      "_view_name": "LayoutView",
      "align_content": null,
      "align_items": null,
      "align_self": null,
      "border": null,
      "bottom": null,
      "display": null,
      "flex": null,
      "flex_flow": null,
      "grid_area": null,
      "grid_auto_columns": null,
      "grid_auto_flow": null,
      "grid_auto_rows": null,
      "grid_column": null,
      "grid_gap": null,
      "grid_row": null,
      "grid_template_areas": null,
      "grid_template_columns": null,
      "grid_template_rows": null,
      "height": null,
      "justify_content": null,
      "justify_items": null,
      "left": null,
      "margin": null,
      "max_height": null,
      "max_width": null,
      "min_height": null,
      "min_width": null,
      "object_fit": null,
      "object_position": null,
      "order": null,
      "overflow": null,
      "overflow_x": null,
      "overflow_y": null,
      "padding": null,
      "right": null,
      "top": null,
      "visibility": null,
      "width": null
     }
    },
    "299c43f5fa104c62b4fa053b873b4735": {
     "model_module": "@jupyter-widgets/base",
     "model_module_version": "1.2.0",
     "model_name": "LayoutModel",
     "state": {
      "_model_module": "@jupyter-widgets/base",
      "_model_module_version": "1.2.0",
      "_model_name": "LayoutModel",
      "_view_count": null,
      "_view_module": "@jupyter-widgets/base",
      "_view_module_version": "1.2.0",
      "_view_name": "LayoutView",
      "align_content": null,
      "align_items": null,
      "align_self": null,
      "border": null,
      "bottom": null,
      "display": null,
      "flex": null,
      "flex_flow": null,
      "grid_area": null,
      "grid_auto_columns": null,
      "grid_auto_flow": null,
      "grid_auto_rows": null,
      "grid_column": null,
      "grid_gap": null,
      "grid_row": null,
      "grid_template_areas": null,
      "grid_template_columns": null,
      "grid_template_rows": null,
      "height": null,
      "justify_content": null,
      "justify_items": null,
      "left": null,
      "margin": null,
      "max_height": null,
      "max_width": null,
      "min_height": null,
      "min_width": null,
      "object_fit": null,
      "object_position": null,
      "order": null,
      "overflow": null,
      "overflow_x": null,
      "overflow_y": null,
      "padding": null,
      "right": null,
      "top": null,
      "visibility": null,
      "width": null
     }
    },
    "2cbfe52609774a7c917b42c728d5daf0": {
     "model_module": "@jupyter-widgets/base",
     "model_module_version": "1.2.0",
     "model_name": "LayoutModel",
     "state": {
      "_model_module": "@jupyter-widgets/base",
      "_model_module_version": "1.2.0",
      "_model_name": "LayoutModel",
      "_view_count": null,
      "_view_module": "@jupyter-widgets/base",
      "_view_module_version": "1.2.0",
      "_view_name": "LayoutView",
      "align_content": null,
      "align_items": null,
      "align_self": null,
      "border": null,
      "bottom": null,
      "display": null,
      "flex": null,
      "flex_flow": null,
      "grid_area": null,
      "grid_auto_columns": null,
      "grid_auto_flow": null,
      "grid_auto_rows": null,
      "grid_column": null,
      "grid_gap": null,
      "grid_row": null,
      "grid_template_areas": null,
      "grid_template_columns": null,
      "grid_template_rows": null,
      "height": null,
      "justify_content": null,
      "justify_items": null,
      "left": null,
      "margin": null,
      "max_height": null,
      "max_width": null,
      "min_height": null,
      "min_width": null,
      "object_fit": null,
      "object_position": null,
      "order": null,
      "overflow": null,
      "overflow_x": null,
      "overflow_y": null,
      "padding": null,
      "right": null,
      "top": null,
      "visibility": null,
      "width": null
     }
    },
    "2fbf4b87c9e24e43ac72d6bc0f300d5e": {
     "model_module": "@jupyter-widgets/base",
     "model_module_version": "1.2.0",
     "model_name": "LayoutModel",
     "state": {
      "_model_module": "@jupyter-widgets/base",
      "_model_module_version": "1.2.0",
      "_model_name": "LayoutModel",
      "_view_count": null,
      "_view_module": "@jupyter-widgets/base",
      "_view_module_version": "1.2.0",
      "_view_name": "LayoutView",
      "align_content": null,
      "align_items": null,
      "align_self": null,
      "border": null,
      "bottom": null,
      "display": null,
      "flex": null,
      "flex_flow": null,
      "grid_area": null,
      "grid_auto_columns": null,
      "grid_auto_flow": null,
      "grid_auto_rows": null,
      "grid_column": null,
      "grid_gap": null,
      "grid_row": null,
      "grid_template_areas": null,
      "grid_template_columns": null,
      "grid_template_rows": null,
      "height": null,
      "justify_content": null,
      "justify_items": null,
      "left": null,
      "margin": null,
      "max_height": null,
      "max_width": null,
      "min_height": null,
      "min_width": null,
      "object_fit": null,
      "object_position": null,
      "order": null,
      "overflow": null,
      "overflow_x": null,
      "overflow_y": null,
      "padding": null,
      "right": null,
      "top": null,
      "visibility": null,
      "width": null
     }
    },
    "32a84c96fb7f494689f47baf12a1add5": {
     "model_module": "@jupyter-widgets/controls",
     "model_module_version": "1.5.0",
     "model_name": "HTMLModel",
     "state": {
      "_dom_classes": [],
      "_model_module": "@jupyter-widgets/controls",
      "_model_module_version": "1.5.0",
      "_model_name": "HTMLModel",
      "_view_count": null,
      "_view_module": "@jupyter-widgets/controls",
      "_view_module_version": "1.5.0",
      "_view_name": "HTMLView",
      "description": "",
      "description_tooltip": null,
      "layout": "IPY_MODEL_aeb5e5c86a6a482e9aad63b2952c5e12",
      "placeholder": "​",
      "style": "IPY_MODEL_237a5c6bbc294b4fac2d776321bfc2b5",
      "value": "Downloading: 100%"
     }
    },
    "33c7216e8f1644b0ba3d2a25a322905e": {
     "model_module": "@jupyter-widgets/controls",
     "model_module_version": "1.5.0",
     "model_name": "HTMLModel",
     "state": {
      "_dom_classes": [],
      "_model_module": "@jupyter-widgets/controls",
      "_model_module_version": "1.5.0",
      "_model_name": "HTMLModel",
      "_view_count": null,
      "_view_module": "@jupyter-widgets/controls",
      "_view_module_version": "1.5.0",
      "_view_name": "HTMLView",
      "description": "",
      "description_tooltip": null,
      "layout": "IPY_MODEL_ceb7d01816df4aa8bc3d59dea835c65a",
      "placeholder": "​",
      "style": "IPY_MODEL_ea9a7b5b522f425a96e7b0bdf1f1cf1e",
      "value": "Downloading: 100%"
     }
    },
    "36b6ec47968b43349600e93955716925": {
     "model_module": "@jupyter-widgets/controls",
     "model_module_version": "1.5.0",
     "model_name": "ProgressStyleModel",
     "state": {
      "_model_module": "@jupyter-widgets/controls",
      "_model_module_version": "1.5.0",
      "_model_name": "ProgressStyleModel",
      "_view_count": null,
      "_view_module": "@jupyter-widgets/base",
      "_view_module_version": "1.2.0",
      "_view_name": "StyleView",
      "bar_color": null,
      "description_width": ""
     }
    },
    "3ad7d6f6cd4c4e5ab2dc71af316d047d": {
     "model_module": "@jupyter-widgets/base",
     "model_module_version": "1.2.0",
     "model_name": "LayoutModel",
     "state": {
      "_model_module": "@jupyter-widgets/base",
      "_model_module_version": "1.2.0",
      "_model_name": "LayoutModel",
      "_view_count": null,
      "_view_module": "@jupyter-widgets/base",
      "_view_module_version": "1.2.0",
      "_view_name": "LayoutView",
      "align_content": null,
      "align_items": null,
      "align_self": null,
      "border": null,
      "bottom": null,
      "display": null,
      "flex": null,
      "flex_flow": null,
      "grid_area": null,
      "grid_auto_columns": null,
      "grid_auto_flow": null,
      "grid_auto_rows": null,
      "grid_column": null,
      "grid_gap": null,
      "grid_row": null,
      "grid_template_areas": null,
      "grid_template_columns": null,
      "grid_template_rows": null,
      "height": null,
      "justify_content": null,
      "justify_items": null,
      "left": null,
      "margin": null,
      "max_height": null,
      "max_width": null,
      "min_height": null,
      "min_width": null,
      "object_fit": null,
      "object_position": null,
      "order": null,
      "overflow": null,
      "overflow_x": null,
      "overflow_y": null,
      "padding": null,
      "right": null,
      "top": null,
      "visibility": null,
      "width": null
     }
    },
    "3bec44c9f50a45b48b456b467bb658c4": {
     "model_module": "@jupyter-widgets/controls",
     "model_module_version": "1.5.0",
     "model_name": "ProgressStyleModel",
     "state": {
      "_model_module": "@jupyter-widgets/controls",
      "_model_module_version": "1.5.0",
      "_model_name": "ProgressStyleModel",
      "_view_count": null,
      "_view_module": "@jupyter-widgets/base",
      "_view_module_version": "1.2.0",
      "_view_name": "StyleView",
      "bar_color": null,
      "description_width": ""
     }
    },
    "3d19e2f30d51494fa94b2ebf20daf8c7": {
     "model_module": "@jupyter-widgets/base",
     "model_module_version": "1.2.0",
     "model_name": "LayoutModel",
     "state": {
      "_model_module": "@jupyter-widgets/base",
      "_model_module_version": "1.2.0",
      "_model_name": "LayoutModel",
      "_view_count": null,
      "_view_module": "@jupyter-widgets/base",
      "_view_module_version": "1.2.0",
      "_view_name": "LayoutView",
      "align_content": null,
      "align_items": null,
      "align_self": null,
      "border": null,
      "bottom": null,
      "display": null,
      "flex": null,
      "flex_flow": null,
      "grid_area": null,
      "grid_auto_columns": null,
      "grid_auto_flow": null,
      "grid_auto_rows": null,
      "grid_column": null,
      "grid_gap": null,
      "grid_row": null,
      "grid_template_areas": null,
      "grid_template_columns": null,
      "grid_template_rows": null,
      "height": null,
      "justify_content": null,
      "justify_items": null,
      "left": null,
      "margin": null,
      "max_height": null,
      "max_width": null,
      "min_height": null,
      "min_width": null,
      "object_fit": null,
      "object_position": null,
      "order": null,
      "overflow": null,
      "overflow_x": null,
      "overflow_y": null,
      "padding": null,
      "right": null,
      "top": null,
      "visibility": null,
      "width": null
     }
    },
    "436e337731ac46ecbeaa77028b10f748": {
     "model_module": "@jupyter-widgets/base",
     "model_module_version": "1.2.0",
     "model_name": "LayoutModel",
     "state": {
      "_model_module": "@jupyter-widgets/base",
      "_model_module_version": "1.2.0",
      "_model_name": "LayoutModel",
      "_view_count": null,
      "_view_module": "@jupyter-widgets/base",
      "_view_module_version": "1.2.0",
      "_view_name": "LayoutView",
      "align_content": null,
      "align_items": null,
      "align_self": null,
      "border": null,
      "bottom": null,
      "display": null,
      "flex": null,
      "flex_flow": null,
      "grid_area": null,
      "grid_auto_columns": null,
      "grid_auto_flow": null,
      "grid_auto_rows": null,
      "grid_column": null,
      "grid_gap": null,
      "grid_row": null,
      "grid_template_areas": null,
      "grid_template_columns": null,
      "grid_template_rows": null,
      "height": null,
      "justify_content": null,
      "justify_items": null,
      "left": null,
      "margin": null,
      "max_height": null,
      "max_width": null,
      "min_height": null,
      "min_width": null,
      "object_fit": null,
      "object_position": null,
      "order": null,
      "overflow": null,
      "overflow_x": null,
      "overflow_y": null,
      "padding": null,
      "right": null,
      "top": null,
      "visibility": null,
      "width": null
     }
    },
    "4379ebeec3d9440da8b4f24686bde212": {
     "model_module": "@jupyter-widgets/controls",
     "model_module_version": "1.5.0",
     "model_name": "HTMLModel",
     "state": {
      "_dom_classes": [],
      "_model_module": "@jupyter-widgets/controls",
      "_model_module_version": "1.5.0",
      "_model_name": "HTMLModel",
      "_view_count": null,
      "_view_module": "@jupyter-widgets/controls",
      "_view_module_version": "1.5.0",
      "_view_name": "HTMLView",
      "description": "",
      "description_tooltip": null,
      "layout": "IPY_MODEL_c393e2e0816a4e11b5cd266cf0f5146f",
      "placeholder": "​",
      "style": "IPY_MODEL_a695d4e5925d4cbab7536acef84e8434",
      "value": "Downloading: 100%"
     }
    },
    "443f0a61a6c34d82884f67203da01c93": {
     "model_module": "@jupyter-widgets/base",
     "model_module_version": "1.2.0",
     "model_name": "LayoutModel",
     "state": {
      "_model_module": "@jupyter-widgets/base",
      "_model_module_version": "1.2.0",
      "_model_name": "LayoutModel",
      "_view_count": null,
      "_view_module": "@jupyter-widgets/base",
      "_view_module_version": "1.2.0",
      "_view_name": "LayoutView",
      "align_content": null,
      "align_items": null,
      "align_self": null,
      "border": null,
      "bottom": null,
      "display": null,
      "flex": null,
      "flex_flow": null,
      "grid_area": null,
      "grid_auto_columns": null,
      "grid_auto_flow": null,
      "grid_auto_rows": null,
      "grid_column": null,
      "grid_gap": null,
      "grid_row": null,
      "grid_template_areas": null,
      "grid_template_columns": null,
      "grid_template_rows": null,
      "height": null,
      "justify_content": null,
      "justify_items": null,
      "left": null,
      "margin": null,
      "max_height": null,
      "max_width": null,
      "min_height": null,
      "min_width": null,
      "object_fit": null,
      "object_position": null,
      "order": null,
      "overflow": null,
      "overflow_x": null,
      "overflow_y": null,
      "padding": null,
      "right": null,
      "top": null,
      "visibility": null,
      "width": null
     }
    },
    "46b7aaf5a8914a9ab8d2fdfeffe26250": {
     "model_module": "@jupyter-widgets/controls",
     "model_module_version": "1.5.0",
     "model_name": "FloatProgressModel",
     "state": {
      "_dom_classes": [],
      "_model_module": "@jupyter-widgets/controls",
      "_model_module_version": "1.5.0",
      "_model_name": "FloatProgressModel",
      "_view_count": null,
      "_view_module": "@jupyter-widgets/controls",
      "_view_module_version": "1.5.0",
      "_view_name": "ProgressView",
      "bar_style": "success",
      "description": "",
      "description_tooltip": null,
      "layout": "IPY_MODEL_e0c1057033ac4349a366ba9fbdfb2a9a",
      "max": 5,
      "min": 0,
      "orientation": "horizontal",
      "style": "IPY_MODEL_d1634f861a9a4e0ab294cb85877d8355",
      "value": 5
     }
    },
    "496038819c734ceaa74bb764f5a517ed": {
     "model_module": "@jupyter-widgets/controls",
     "model_module_version": "1.5.0",
     "model_name": "HTMLModel",
     "state": {
      "_dom_classes": [],
      "_model_module": "@jupyter-widgets/controls",
      "_model_module_version": "1.5.0",
      "_model_name": "HTMLModel",
      "_view_count": null,
      "_view_module": "@jupyter-widgets/controls",
      "_view_module_version": "1.5.0",
      "_view_name": "HTMLView",
      "description": "",
      "description_tooltip": null,
      "layout": "IPY_MODEL_abeaff4c431c4c38a620cfa59ab39c90",
      "placeholder": "​",
      "style": "IPY_MODEL_9b6080e959ee451988a82af2f1142916",
      "value": " 411/411 [00:00&lt;00:00, 10.6kB/s]"
     }
    },
    "4b46e7fc3c834b68aa6ac0605e385c9b": {
     "model_module": "@jupyter-widgets/controls",
     "model_module_version": "1.5.0",
     "model_name": "DescriptionStyleModel",
     "state": {
      "_model_module": "@jupyter-widgets/controls",
      "_model_module_version": "1.5.0",
      "_model_name": "DescriptionStyleModel",
      "_view_count": null,
      "_view_module": "@jupyter-widgets/base",
      "_view_module_version": "1.2.0",
      "_view_name": "StyleView",
      "description_width": ""
     }
    },
    "4f90ece5b4864d0dbe2a1b8859afaeec": {
     "model_module": "@jupyter-widgets/controls",
     "model_module_version": "1.5.0",
     "model_name": "DescriptionStyleModel",
     "state": {
      "_model_module": "@jupyter-widgets/controls",
      "_model_module_version": "1.5.0",
      "_model_name": "DescriptionStyleModel",
      "_view_count": null,
      "_view_module": "@jupyter-widgets/base",
      "_view_module_version": "1.2.0",
      "_view_name": "StyleView",
      "description_width": ""
     }
    },
    "646c573a0a07435ba0ab0b439f396124": {
     "model_module": "@jupyter-widgets/controls",
     "model_module_version": "1.5.0",
     "model_name": "FloatProgressModel",
     "state": {
      "_dom_classes": [],
      "_model_module": "@jupyter-widgets/controls",
      "_model_module_version": "1.5.0",
      "_model_name": "FloatProgressModel",
      "_view_count": null,
      "_view_module": "@jupyter-widgets/controls",
      "_view_module_version": "1.5.0",
      "_view_name": "ProgressView",
      "bar_style": "success",
      "description": "",
      "description_tooltip": null,
      "layout": "IPY_MODEL_71cb9bc051c7427cbd8d05db1f65255b",
      "max": 29,
      "min": 0,
      "orientation": "horizontal",
      "style": "IPY_MODEL_2178d27fe6504b538c617fca64b2a5d6",
      "value": 29
     }
    },
    "670861a431664545b910dba8444a3318": {
     "model_module": "@jupyter-widgets/controls",
     "model_module_version": "1.5.0",
     "model_name": "DescriptionStyleModel",
     "state": {
      "_model_module": "@jupyter-widgets/controls",
      "_model_module_version": "1.5.0",
      "_model_name": "DescriptionStyleModel",
      "_view_count": null,
      "_view_module": "@jupyter-widgets/base",
      "_view_module_version": "1.2.0",
      "_view_name": "StyleView",
      "description_width": ""
     }
    },
    "67db3455c31445bc9f504543ff749e71": {
     "model_module": "@jupyter-widgets/base",
     "model_module_version": "1.2.0",
     "model_name": "LayoutModel",
     "state": {
      "_model_module": "@jupyter-widgets/base",
      "_model_module_version": "1.2.0",
      "_model_name": "LayoutModel",
      "_view_count": null,
      "_view_module": "@jupyter-widgets/base",
      "_view_module_version": "1.2.0",
      "_view_name": "LayoutView",
      "align_content": null,
      "align_items": null,
      "align_self": null,
      "border": null,
      "bottom": null,
      "display": null,
      "flex": null,
      "flex_flow": null,
      "grid_area": null,
      "grid_auto_columns": null,
      "grid_auto_flow": null,
      "grid_auto_rows": null,
      "grid_column": null,
      "grid_gap": null,
      "grid_row": null,
      "grid_template_areas": null,
      "grid_template_columns": null,
      "grid_template_rows": null,
      "height": null,
      "justify_content": null,
      "justify_items": null,
      "left": null,
      "margin": null,
      "max_height": null,
      "max_width": null,
      "min_height": null,
      "min_width": null,
      "object_fit": null,
      "object_position": null,
      "order": null,
      "overflow": null,
      "overflow_x": null,
      "overflow_y": null,
      "padding": null,
      "right": null,
      "top": null,
      "visibility": null,
      "width": null
     }
    },
    "6fe68cfa572f41bb92df9cb9b80b67d3": {
     "model_module": "@jupyter-widgets/controls",
     "model_module_version": "1.5.0",
     "model_name": "DescriptionStyleModel",
     "state": {
      "_model_module": "@jupyter-widgets/controls",
      "_model_module_version": "1.5.0",
      "_model_name": "DescriptionStyleModel",
      "_view_count": null,
      "_view_module": "@jupyter-widgets/base",
      "_view_module_version": "1.2.0",
      "_view_name": "StyleView",
      "description_width": ""
     }
    },
    "71cb9bc051c7427cbd8d05db1f65255b": {
     "model_module": "@jupyter-widgets/base",
     "model_module_version": "1.2.0",
     "model_name": "LayoutModel",
     "state": {
      "_model_module": "@jupyter-widgets/base",
      "_model_module_version": "1.2.0",
      "_model_name": "LayoutModel",
      "_view_count": null,
      "_view_module": "@jupyter-widgets/base",
      "_view_module_version": "1.2.0",
      "_view_name": "LayoutView",
      "align_content": null,
      "align_items": null,
      "align_self": null,
      "border": null,
      "bottom": null,
      "display": null,
      "flex": null,
      "flex_flow": null,
      "grid_area": null,
      "grid_auto_columns": null,
      "grid_auto_flow": null,
      "grid_auto_rows": null,
      "grid_column": null,
      "grid_gap": null,
      "grid_row": null,
      "grid_template_areas": null,
      "grid_template_columns": null,
      "grid_template_rows": null,
      "height": null,
      "justify_content": null,
      "justify_items": null,
      "left": null,
      "margin": null,
      "max_height": null,
      "max_width": null,
      "min_height": null,
      "min_width": null,
      "object_fit": null,
      "object_position": null,
      "order": null,
      "overflow": null,
      "overflow_x": null,
      "overflow_y": null,
      "padding": null,
      "right": null,
      "top": null,
      "visibility": null,
      "width": null
     }
    },
    "72daf0db0ec34f49859550a0dee4e57c": {
     "model_module": "@jupyter-widgets/controls",
     "model_module_version": "1.5.0",
     "model_name": "HTMLModel",
     "state": {
      "_dom_classes": [],
      "_model_module": "@jupyter-widgets/controls",
      "_model_module_version": "1.5.0",
      "_model_name": "HTMLModel",
      "_view_count": null,
      "_view_module": "@jupyter-widgets/controls",
      "_view_module_version": "1.5.0",
      "_view_name": "HTMLView",
      "description": "",
      "description_tooltip": null,
      "layout": "IPY_MODEL_896c5105ea264e9faa7f4dc13fa18a42",
      "placeholder": "​",
      "style": "IPY_MODEL_db97238a9ba447f6a2f1d771dee6fdab",
      "value": " 426k/426k [00:00&lt;00:00, 1.53MB/s]"
     }
    },
    "73c2bc5e3bf0417ea299e4b49c25bdb8": {
     "model_module": "@jupyter-widgets/controls",
     "model_module_version": "1.5.0",
     "model_name": "HBoxModel",
     "state": {
      "_dom_classes": [],
      "_model_module": "@jupyter-widgets/controls",
      "_model_module_version": "1.5.0",
      "_model_name": "HBoxModel",
      "_view_count": null,
      "_view_module": "@jupyter-widgets/controls",
      "_view_module_version": "1.5.0",
      "_view_name": "HBoxView",
      "box_style": "",
      "children": [
       "IPY_MODEL_a5a38eb7946f4646a7355dac519bdbe4",
       "IPY_MODEL_46b7aaf5a8914a9ab8d2fdfeffe26250",
       "IPY_MODEL_c879df1ff9cc4d789ac524709a5a707a"
      ],
      "layout": "IPY_MODEL_67db3455c31445bc9f504543ff749e71"
     }
    },
    "74cfb2f3ee9f45b1900559f296596179": {
     "model_module": "@jupyter-widgets/base",
     "model_module_version": "1.2.0",
     "model_name": "LayoutModel",
     "state": {
      "_model_module": "@jupyter-widgets/base",
      "_model_module_version": "1.2.0",
      "_model_name": "LayoutModel",
      "_view_count": null,
      "_view_module": "@jupyter-widgets/base",
      "_view_module_version": "1.2.0",
      "_view_name": "LayoutView",
      "align_content": null,
      "align_items": null,
      "align_self": null,
      "border": null,
      "bottom": null,
      "display": null,
      "flex": null,
      "flex_flow": null,
      "grid_area": null,
      "grid_auto_columns": null,
      "grid_auto_flow": null,
      "grid_auto_rows": null,
      "grid_column": null,
      "grid_gap": null,
      "grid_row": null,
      "grid_template_areas": null,
      "grid_template_columns": null,
      "grid_template_rows": null,
      "height": null,
      "justify_content": null,
      "justify_items": null,
      "left": null,
      "margin": null,
      "max_height": null,
      "max_width": null,
      "min_height": null,
      "min_width": null,
      "object_fit": null,
      "object_position": null,
      "order": null,
      "overflow": null,
      "overflow_x": null,
      "overflow_y": null,
      "padding": null,
      "right": null,
      "top": null,
      "visibility": null,
      "width": null
     }
    },
    "7773c6cfddc4406f8fb2f2d09783eea6": {
     "model_module": "@jupyter-widgets/controls",
     "model_module_version": "1.5.0",
     "model_name": "ProgressStyleModel",
     "state": {
      "_model_module": "@jupyter-widgets/controls",
      "_model_module_version": "1.5.0",
      "_model_name": "ProgressStyleModel",
      "_view_count": null,
      "_view_module": "@jupyter-widgets/base",
      "_view_module_version": "1.2.0",
      "_view_name": "StyleView",
      "bar_color": null,
      "description_width": ""
     }
    },
    "79b06a1669314e18b96c25a9e9ce01ea": {
     "model_module": "@jupyter-widgets/base",
     "model_module_version": "1.2.0",
     "model_name": "LayoutModel",
     "state": {
      "_model_module": "@jupyter-widgets/base",
      "_model_module_version": "1.2.0",
      "_model_name": "LayoutModel",
      "_view_count": null,
      "_view_module": "@jupyter-widgets/base",
      "_view_module_version": "1.2.0",
      "_view_name": "LayoutView",
      "align_content": null,
      "align_items": null,
      "align_self": null,
      "border": null,
      "bottom": null,
      "display": null,
      "flex": null,
      "flex_flow": null,
      "grid_area": null,
      "grid_auto_columns": null,
      "grid_auto_flow": null,
      "grid_auto_rows": null,
      "grid_column": null,
      "grid_gap": null,
      "grid_row": null,
      "grid_template_areas": null,
      "grid_template_columns": null,
      "grid_template_rows": null,
      "height": null,
      "justify_content": null,
      "justify_items": null,
      "left": null,
      "margin": null,
      "max_height": null,
      "max_width": null,
      "min_height": null,
      "min_width": null,
      "object_fit": null,
      "object_position": null,
      "order": null,
      "overflow": null,
      "overflow_x": null,
      "overflow_y": null,
      "padding": null,
      "right": null,
      "top": null,
      "visibility": null,
      "width": null
     }
    },
    "7c651929e1b14a0baf132f831c2b986d": {
     "model_module": "@jupyter-widgets/base",
     "model_module_version": "1.2.0",
     "model_name": "LayoutModel",
     "state": {
      "_model_module": "@jupyter-widgets/base",
      "_model_module_version": "1.2.0",
      "_model_name": "LayoutModel",
      "_view_count": null,
      "_view_module": "@jupyter-widgets/base",
      "_view_module_version": "1.2.0",
      "_view_name": "LayoutView",
      "align_content": null,
      "align_items": null,
      "align_self": null,
      "border": null,
      "bottom": null,
      "display": null,
      "flex": null,
      "flex_flow": null,
      "grid_area": null,
      "grid_auto_columns": null,
      "grid_auto_flow": null,
      "grid_auto_rows": null,
      "grid_column": null,
      "grid_gap": null,
      "grid_row": null,
      "grid_template_areas": null,
      "grid_template_columns": null,
      "grid_template_rows": null,
      "height": null,
      "justify_content": null,
      "justify_items": null,
      "left": null,
      "margin": null,
      "max_height": null,
      "max_width": null,
      "min_height": null,
      "min_width": null,
      "object_fit": null,
      "object_position": null,
      "order": null,
      "overflow": null,
      "overflow_x": null,
      "overflow_y": null,
      "padding": null,
      "right": null,
      "top": null,
      "visibility": null,
      "width": null
     }
    },
    "807bc410e0ca49c69c7b499ad31a713c": {
     "model_module": "@jupyter-widgets/base",
     "model_module_version": "1.2.0",
     "model_name": "LayoutModel",
     "state": {
      "_model_module": "@jupyter-widgets/base",
      "_model_module_version": "1.2.0",
      "_model_name": "LayoutModel",
      "_view_count": null,
      "_view_module": "@jupyter-widgets/base",
      "_view_module_version": "1.2.0",
      "_view_name": "LayoutView",
      "align_content": null,
      "align_items": null,
      "align_self": null,
      "border": null,
      "bottom": null,
      "display": null,
      "flex": null,
      "flex_flow": null,
      "grid_area": null,
      "grid_auto_columns": null,
      "grid_auto_flow": null,
      "grid_auto_rows": null,
      "grid_column": null,
      "grid_gap": null,
      "grid_row": null,
      "grid_template_areas": null,
      "grid_template_columns": null,
      "grid_template_rows": null,
      "height": null,
      "justify_content": null,
      "justify_items": null,
      "left": null,
      "margin": null,
      "max_height": null,
      "max_width": null,
      "min_height": null,
      "min_width": null,
      "object_fit": null,
      "object_position": null,
      "order": null,
      "overflow": null,
      "overflow_x": null,
      "overflow_y": null,
      "padding": null,
      "right": null,
      "top": null,
      "visibility": null,
      "width": null
     }
    },
    "85c85a0659a94b7c807718e4542cb6c5": {
     "model_module": "@jupyter-widgets/base",
     "model_module_version": "1.2.0",
     "model_name": "LayoutModel",
     "state": {
      "_model_module": "@jupyter-widgets/base",
      "_model_module_version": "1.2.0",
      "_model_name": "LayoutModel",
      "_view_count": null,
      "_view_module": "@jupyter-widgets/base",
      "_view_module_version": "1.2.0",
      "_view_name": "LayoutView",
      "align_content": null,
      "align_items": null,
      "align_self": null,
      "border": null,
      "bottom": null,
      "display": null,
      "flex": null,
      "flex_flow": null,
      "grid_area": null,
      "grid_auto_columns": null,
      "grid_auto_flow": null,
      "grid_auto_rows": null,
      "grid_column": null,
      "grid_gap": null,
      "grid_row": null,
      "grid_template_areas": null,
      "grid_template_columns": null,
      "grid_template_rows": null,
      "height": null,
      "justify_content": null,
      "justify_items": null,
      "left": null,
      "margin": null,
      "max_height": null,
      "max_width": null,
      "min_height": null,
      "min_width": null,
      "object_fit": null,
      "object_position": null,
      "order": null,
      "overflow": null,
      "overflow_x": null,
      "overflow_y": null,
      "padding": null,
      "right": null,
      "top": null,
      "visibility": null,
      "width": null
     }
    },
    "86c754601d3d4880be1843bac43bfcef": {
     "model_module": "@jupyter-widgets/controls",
     "model_module_version": "1.5.0",
     "model_name": "FloatProgressModel",
     "state": {
      "_dom_classes": [],
      "_model_module": "@jupyter-widgets/controls",
      "_model_module_version": "1.5.0",
      "_model_name": "FloatProgressModel",
      "_view_count": null,
      "_view_module": "@jupyter-widgets/controls",
      "_view_module_version": "1.5.0",
      "_view_name": "ProgressView",
      "bar_style": "success",
      "description": "",
      "description_tooltip": null,
      "layout": "IPY_MODEL_7c651929e1b14a0baf132f831c2b986d",
      "max": 263273408,
      "min": 0,
      "orientation": "horizontal",
      "style": "IPY_MODEL_3bec44c9f50a45b48b456b467bb658c4",
      "value": 263273408
     }
    },
    "896c5105ea264e9faa7f4dc13fa18a42": {
     "model_module": "@jupyter-widgets/base",
     "model_module_version": "1.2.0",
     "model_name": "LayoutModel",
     "state": {
      "_model_module": "@jupyter-widgets/base",
      "_model_module_version": "1.2.0",
      "_model_name": "LayoutModel",
      "_view_count": null,
      "_view_module": "@jupyter-widgets/base",
      "_view_module_version": "1.2.0",
      "_view_name": "LayoutView",
      "align_content": null,
      "align_items": null,
      "align_self": null,
      "border": null,
      "bottom": null,
      "display": null,
      "flex": null,
      "flex_flow": null,
      "grid_area": null,
      "grid_auto_columns": null,
      "grid_auto_flow": null,
      "grid_auto_rows": null,
      "grid_column": null,
      "grid_gap": null,
      "grid_row": null,
      "grid_template_areas": null,
      "grid_template_columns": null,
      "grid_template_rows": null,
      "height": null,
      "justify_content": null,
      "justify_items": null,
      "left": null,
      "margin": null,
      "max_height": null,
      "max_width": null,
      "min_height": null,
      "min_width": null,
      "object_fit": null,
      "object_position": null,
      "order": null,
      "overflow": null,
      "overflow_x": null,
      "overflow_y": null,
      "padding": null,
      "right": null,
      "top": null,
      "visibility": null,
      "width": null
     }
    },
    "8b6de735206c43f68c0d74c4a9c82bf9": {
     "model_module": "@jupyter-widgets/controls",
     "model_module_version": "1.5.0",
     "model_name": "FloatProgressModel",
     "state": {
      "_dom_classes": [],
      "_model_module": "@jupyter-widgets/controls",
      "_model_module_version": "1.5.0",
      "_model_name": "FloatProgressModel",
      "_view_count": null,
      "_view_module": "@jupyter-widgets/controls",
      "_view_module_version": "1.5.0",
      "_view_name": "ProgressView",
      "bar_style": "success",
      "description": "",
      "description_tooltip": null,
      "layout": "IPY_MODEL_79b06a1669314e18b96c25a9e9ce01ea",
      "max": 8,
      "min": 0,
      "orientation": "horizontal",
      "style": "IPY_MODEL_7773c6cfddc4406f8fb2f2d09783eea6",
      "value": 8
     }
    },
    "8df3dc9b6ecc4bb98de89d2d52762a04": {
     "model_module": "@jupyter-widgets/controls",
     "model_module_version": "1.5.0",
     "model_name": "HBoxModel",
     "state": {
      "_dom_classes": [],
      "_model_module": "@jupyter-widgets/controls",
      "_model_module_version": "1.5.0",
      "_model_name": "HBoxModel",
      "_view_count": null,
      "_view_module": "@jupyter-widgets/controls",
      "_view_module_version": "1.5.0",
      "_view_name": "HBoxView",
      "box_style": "",
      "children": [
       "IPY_MODEL_19cbc33b59924643b3ba9020a89171b7",
       "IPY_MODEL_8b6de735206c43f68c0d74c4a9c82bf9",
       "IPY_MODEL_f84763e1aa1442b2bec4f1aaff7a3426"
      ],
      "layout": "IPY_MODEL_2cbfe52609774a7c917b42c728d5daf0"
     }
    },
    "920d5124d4e1477f952bb8ee513aa792": {
     "model_module": "@jupyter-widgets/controls",
     "model_module_version": "1.5.0",
     "model_name": "DescriptionStyleModel",
     "state": {
      "_model_module": "@jupyter-widgets/controls",
      "_model_module_version": "1.5.0",
      "_model_name": "DescriptionStyleModel",
      "_view_count": null,
      "_view_module": "@jupyter-widgets/base",
      "_view_module_version": "1.2.0",
      "_view_name": "StyleView",
      "description_width": ""
     }
    },
    "9552b48e77d143a8804f17044dc7851d": {
     "model_module": "@jupyter-widgets/controls",
     "model_module_version": "1.5.0",
     "model_name": "HBoxModel",
     "state": {
      "_dom_classes": [],
      "_model_module": "@jupyter-widgets/controls",
      "_model_module_version": "1.5.0",
      "_model_name": "HBoxModel",
      "_view_count": null,
      "_view_module": "@jupyter-widgets/controls",
      "_view_module_version": "1.5.0",
      "_view_name": "HBoxView",
      "box_style": "",
      "children": [
       "IPY_MODEL_f4bcf6289fc146e8817f15273465a0af",
       "IPY_MODEL_646c573a0a07435ba0ab0b439f396124",
       "IPY_MODEL_dba6df539e0442f5b5587d014ee72cf0"
      ],
      "layout": "IPY_MODEL_0c593e5bf1224b2ea2a8b49356860d19"
     }
    },
    "9b47de4dcd024ca9bc2432f49d141cb1": {
     "model_module": "@jupyter-widgets/base",
     "model_module_version": "1.2.0",
     "model_name": "LayoutModel",
     "state": {
      "_model_module": "@jupyter-widgets/base",
      "_model_module_version": "1.2.0",
      "_model_name": "LayoutModel",
      "_view_count": null,
      "_view_module": "@jupyter-widgets/base",
      "_view_module_version": "1.2.0",
      "_view_name": "LayoutView",
      "align_content": null,
      "align_items": null,
      "align_self": null,
      "border": null,
      "bottom": null,
      "display": null,
      "flex": null,
      "flex_flow": null,
      "grid_area": null,
      "grid_auto_columns": null,
      "grid_auto_flow": null,
      "grid_auto_rows": null,
      "grid_column": null,
      "grid_gap": null,
      "grid_row": null,
      "grid_template_areas": null,
      "grid_template_columns": null,
      "grid_template_rows": null,
      "height": null,
      "justify_content": null,
      "justify_items": null,
      "left": null,
      "margin": null,
      "max_height": null,
      "max_width": null,
      "min_height": null,
      "min_width": null,
      "object_fit": null,
      "object_position": null,
      "order": null,
      "overflow": null,
      "overflow_x": null,
      "overflow_y": null,
      "padding": null,
      "right": null,
      "top": null,
      "visibility": null,
      "width": null
     }
    },
    "9b6080e959ee451988a82af2f1142916": {
     "model_module": "@jupyter-widgets/controls",
     "model_module_version": "1.5.0",
     "model_name": "DescriptionStyleModel",
     "state": {
      "_model_module": "@jupyter-widgets/controls",
      "_model_module_version": "1.5.0",
      "_model_name": "DescriptionStyleModel",
      "_view_count": null,
      "_view_module": "@jupyter-widgets/base",
      "_view_module_version": "1.2.0",
      "_view_name": "StyleView",
      "description_width": ""
     }
    },
    "a1c9fc195c1e4dbda96593d1760a2c74": {
     "model_module": "@jupyter-widgets/controls",
     "model_module_version": "1.5.0",
     "model_name": "ProgressStyleModel",
     "state": {
      "_model_module": "@jupyter-widgets/controls",
      "_model_module_version": "1.5.0",
      "_model_name": "ProgressStyleModel",
      "_view_count": null,
      "_view_module": "@jupyter-widgets/base",
      "_view_module_version": "1.2.0",
      "_view_name": "StyleView",
      "bar_color": null,
      "description_width": ""
     }
    },
    "a5a38eb7946f4646a7355dac519bdbe4": {
     "model_module": "@jupyter-widgets/controls",
     "model_module_version": "1.5.0",
     "model_name": "HTMLModel",
     "state": {
      "_dom_classes": [],
      "_model_module": "@jupyter-widgets/controls",
      "_model_module_version": "1.5.0",
      "_model_name": "HTMLModel",
      "_view_count": null,
      "_view_module": "@jupyter-widgets/controls",
      "_view_module_version": "1.5.0",
      "_view_name": "HTMLView",
      "description": "",
      "description_tooltip": null,
      "layout": "IPY_MODEL_cecd33cab95a430c8998952d1d6fcda2",
      "placeholder": "​",
      "style": "IPY_MODEL_c4707d3e5df84901b400efcecea68048",
      "value": "100%"
     }
    },
    "a695d4e5925d4cbab7536acef84e8434": {
     "model_module": "@jupyter-widgets/controls",
     "model_module_version": "1.5.0",
     "model_name": "DescriptionStyleModel",
     "state": {
      "_model_module": "@jupyter-widgets/controls",
      "_model_module_version": "1.5.0",
      "_model_name": "DescriptionStyleModel",
      "_view_count": null,
      "_view_module": "@jupyter-widgets/base",
      "_view_module_version": "1.2.0",
      "_view_name": "StyleView",
      "description_width": ""
     }
    },
    "a91503bade7e43309311bb60ef0e9b30": {
     "model_module": "@jupyter-widgets/controls",
     "model_module_version": "1.5.0",
     "model_name": "DescriptionStyleModel",
     "state": {
      "_model_module": "@jupyter-widgets/controls",
      "_model_module_version": "1.5.0",
      "_model_name": "DescriptionStyleModel",
      "_view_count": null,
      "_view_module": "@jupyter-widgets/base",
      "_view_module_version": "1.2.0",
      "_view_name": "StyleView",
      "description_width": ""
     }
    },
    "abeaff4c431c4c38a620cfa59ab39c90": {
     "model_module": "@jupyter-widgets/base",
     "model_module_version": "1.2.0",
     "model_name": "LayoutModel",
     "state": {
      "_model_module": "@jupyter-widgets/base",
      "_model_module_version": "1.2.0",
      "_model_name": "LayoutModel",
      "_view_count": null,
      "_view_module": "@jupyter-widgets/base",
      "_view_module_version": "1.2.0",
      "_view_name": "LayoutView",
      "align_content": null,
      "align_items": null,
      "align_self": null,
      "border": null,
      "bottom": null,
      "display": null,
      "flex": null,
      "flex_flow": null,
      "grid_area": null,
      "grid_auto_columns": null,
      "grid_auto_flow": null,
      "grid_auto_rows": null,
      "grid_column": null,
      "grid_gap": null,
      "grid_row": null,
      "grid_template_areas": null,
      "grid_template_columns": null,
      "grid_template_rows": null,
      "height": null,
      "justify_content": null,
      "justify_items": null,
      "left": null,
      "margin": null,
      "max_height": null,
      "max_width": null,
      "min_height": null,
      "min_width": null,
      "object_fit": null,
      "object_position": null,
      "order": null,
      "overflow": null,
      "overflow_x": null,
      "overflow_y": null,
      "padding": null,
      "right": null,
      "top": null,
      "visibility": null,
      "width": null
     }
    },
    "aeb5e5c86a6a482e9aad63b2952c5e12": {
     "model_module": "@jupyter-widgets/base",
     "model_module_version": "1.2.0",
     "model_name": "LayoutModel",
     "state": {
      "_model_module": "@jupyter-widgets/base",
      "_model_module_version": "1.2.0",
      "_model_name": "LayoutModel",
      "_view_count": null,
      "_view_module": "@jupyter-widgets/base",
      "_view_module_version": "1.2.0",
      "_view_name": "LayoutView",
      "align_content": null,
      "align_items": null,
      "align_self": null,
      "border": null,
      "bottom": null,
      "display": null,
      "flex": null,
      "flex_flow": null,
      "grid_area": null,
      "grid_auto_columns": null,
      "grid_auto_flow": null,
      "grid_auto_rows": null,
      "grid_column": null,
      "grid_gap": null,
      "grid_row": null,
      "grid_template_areas": null,
      "grid_template_columns": null,
      "grid_template_rows": null,
      "height": null,
      "justify_content": null,
      "justify_items": null,
      "left": null,
      "margin": null,
      "max_height": null,
      "max_width": null,
      "min_height": null,
      "min_width": null,
      "object_fit": null,
      "object_position": null,
      "order": null,
      "overflow": null,
      "overflow_x": null,
      "overflow_y": null,
      "padding": null,
      "right": null,
      "top": null,
      "visibility": null,
      "width": null
     }
    },
    "aed3c3ee21164bcbacecb7ad55b1d094": {
     "model_module": "@jupyter-widgets/controls",
     "model_module_version": "1.5.0",
     "model_name": "HTMLModel",
     "state": {
      "_dom_classes": [],
      "_model_module": "@jupyter-widgets/controls",
      "_model_module_version": "1.5.0",
      "_model_name": "HTMLModel",
      "_view_count": null,
      "_view_module": "@jupyter-widgets/controls",
      "_view_module_version": "1.5.0",
      "_view_name": "HTMLView",
      "description": "",
      "description_tooltip": null,
      "layout": "IPY_MODEL_243cd87f73cb4cfd94d98a8744c0f91f",
      "placeholder": "​",
      "style": "IPY_MODEL_4b46e7fc3c834b68aa6ac0605e385c9b",
      "value": "Downloading: 100%"
     }
    },
    "b6dcff8c738c47178c8b697e923ca07c": {
     "model_module": "@jupyter-widgets/controls",
     "model_module_version": "1.5.0",
     "model_name": "DescriptionStyleModel",
     "state": {
      "_model_module": "@jupyter-widgets/controls",
      "_model_module_version": "1.5.0",
      "_model_name": "DescriptionStyleModel",
      "_view_count": null,
      "_view_module": "@jupyter-widgets/base",
      "_view_module_version": "1.2.0",
      "_view_name": "StyleView",
      "description_width": ""
     }
    },
    "bace9f54da61416588f23d019e7e80b4": {
     "model_module": "@jupyter-widgets/base",
     "model_module_version": "1.2.0",
     "model_name": "LayoutModel",
     "state": {
      "_model_module": "@jupyter-widgets/base",
      "_model_module_version": "1.2.0",
      "_model_name": "LayoutModel",
      "_view_count": null,
      "_view_module": "@jupyter-widgets/base",
      "_view_module_version": "1.2.0",
      "_view_name": "LayoutView",
      "align_content": null,
      "align_items": null,
      "align_self": null,
      "border": null,
      "bottom": null,
      "display": null,
      "flex": null,
      "flex_flow": null,
      "grid_area": null,
      "grid_auto_columns": null,
      "grid_auto_flow": null,
      "grid_auto_rows": null,
      "grid_column": null,
      "grid_gap": null,
      "grid_row": null,
      "grid_template_areas": null,
      "grid_template_columns": null,
      "grid_template_rows": null,
      "height": null,
      "justify_content": null,
      "justify_items": null,
      "left": null,
      "margin": null,
      "max_height": null,
      "max_width": null,
      "min_height": null,
      "min_width": null,
      "object_fit": null,
      "object_position": null,
      "order": null,
      "overflow": null,
      "overflow_x": null,
      "overflow_y": null,
      "padding": null,
      "right": null,
      "top": null,
      "visibility": null,
      "width": null
     }
    },
    "bdc83e83a83f41ad8f807ec39c9063f9": {
     "model_module": "@jupyter-widgets/controls",
     "model_module_version": "1.5.0",
     "model_name": "HTMLModel",
     "state": {
      "_dom_classes": [],
      "_model_module": "@jupyter-widgets/controls",
      "_model_module_version": "1.5.0",
      "_model_name": "HTMLModel",
      "_view_count": null,
      "_view_module": "@jupyter-widgets/controls",
      "_view_module_version": "1.5.0",
      "_view_name": "HTMLView",
      "description": "",
      "description_tooltip": null,
      "layout": "IPY_MODEL_74cfb2f3ee9f45b1900559f296596179",
      "placeholder": "​",
      "style": "IPY_MODEL_6fe68cfa572f41bb92df9cb9b80b67d3",
      "value": "100%"
     }
    },
    "c21810623fa744ce9b65d4aa36741582": {
     "model_module": "@jupyter-widgets/base",
     "model_module_version": "1.2.0",
     "model_name": "LayoutModel",
     "state": {
      "_model_module": "@jupyter-widgets/base",
      "_model_module_version": "1.2.0",
      "_model_name": "LayoutModel",
      "_view_count": null,
      "_view_module": "@jupyter-widgets/base",
      "_view_module_version": "1.2.0",
      "_view_name": "LayoutView",
      "align_content": null,
      "align_items": null,
      "align_self": null,
      "border": null,
      "bottom": null,
      "display": null,
      "flex": null,
      "flex_flow": null,
      "grid_area": null,
      "grid_auto_columns": null,
      "grid_auto_flow": null,
      "grid_auto_rows": null,
      "grid_column": null,
      "grid_gap": null,
      "grid_row": null,
      "grid_template_areas": null,
      "grid_template_columns": null,
      "grid_template_rows": null,
      "height": null,
      "justify_content": null,
      "justify_items": null,
      "left": null,
      "margin": null,
      "max_height": null,
      "max_width": null,
      "min_height": null,
      "min_width": null,
      "object_fit": null,
      "object_position": null,
      "order": null,
      "overflow": null,
      "overflow_x": null,
      "overflow_y": null,
      "padding": null,
      "right": null,
      "top": null,
      "visibility": null,
      "width": null
     }
    },
    "c393e2e0816a4e11b5cd266cf0f5146f": {
     "model_module": "@jupyter-widgets/base",
     "model_module_version": "1.2.0",
     "model_name": "LayoutModel",
     "state": {
      "_model_module": "@jupyter-widgets/base",
      "_model_module_version": "1.2.0",
      "_model_name": "LayoutModel",
      "_view_count": null,
      "_view_module": "@jupyter-widgets/base",
      "_view_module_version": "1.2.0",
      "_view_name": "LayoutView",
      "align_content": null,
      "align_items": null,
      "align_self": null,
      "border": null,
      "bottom": null,
      "display": null,
      "flex": null,
      "flex_flow": null,
      "grid_area": null,
      "grid_auto_columns": null,
      "grid_auto_flow": null,
      "grid_auto_rows": null,
      "grid_column": null,
      "grid_gap": null,
      "grid_row": null,
      "grid_template_areas": null,
      "grid_template_columns": null,
      "grid_template_rows": null,
      "height": null,
      "justify_content": null,
      "justify_items": null,
      "left": null,
      "margin": null,
      "max_height": null,
      "max_width": null,
      "min_height": null,
      "min_width": null,
      "object_fit": null,
      "object_position": null,
      "order": null,
      "overflow": null,
      "overflow_x": null,
      "overflow_y": null,
      "padding": null,
      "right": null,
      "top": null,
      "visibility": null,
      "width": null
     }
    },
    "c3e54cf3a16c452983e75c42b5291a41": {
     "model_module": "@jupyter-widgets/base",
     "model_module_version": "1.2.0",
     "model_name": "LayoutModel",
     "state": {
      "_model_module": "@jupyter-widgets/base",
      "_model_module_version": "1.2.0",
      "_model_name": "LayoutModel",
      "_view_count": null,
      "_view_module": "@jupyter-widgets/base",
      "_view_module_version": "1.2.0",
      "_view_name": "LayoutView",
      "align_content": null,
      "align_items": null,
      "align_self": null,
      "border": null,
      "bottom": null,
      "display": null,
      "flex": null,
      "flex_flow": null,
      "grid_area": null,
      "grid_auto_columns": null,
      "grid_auto_flow": null,
      "grid_auto_rows": null,
      "grid_column": null,
      "grid_gap": null,
      "grid_row": null,
      "grid_template_areas": null,
      "grid_template_columns": null,
      "grid_template_rows": null,
      "height": null,
      "justify_content": null,
      "justify_items": null,
      "left": null,
      "margin": null,
      "max_height": null,
      "max_width": null,
      "min_height": null,
      "min_width": null,
      "object_fit": null,
      "object_position": null,
      "order": null,
      "overflow": null,
      "overflow_x": null,
      "overflow_y": null,
      "padding": null,
      "right": null,
      "top": null,
      "visibility": null,
      "width": null
     }
    },
    "c4707d3e5df84901b400efcecea68048": {
     "model_module": "@jupyter-widgets/controls",
     "model_module_version": "1.5.0",
     "model_name": "DescriptionStyleModel",
     "state": {
      "_model_module": "@jupyter-widgets/controls",
      "_model_module_version": "1.5.0",
      "_model_name": "DescriptionStyleModel",
      "_view_count": null,
      "_view_module": "@jupyter-widgets/base",
      "_view_module_version": "1.2.0",
      "_view_name": "StyleView",
      "description_width": ""
     }
    },
    "c83721bc363d4b2bb9c7f63e8264a31d": {
     "model_module": "@jupyter-widgets/controls",
     "model_module_version": "1.5.0",
     "model_name": "HBoxModel",
     "state": {
      "_dom_classes": [],
      "_model_module": "@jupyter-widgets/controls",
      "_model_module_version": "1.5.0",
      "_model_name": "HBoxModel",
      "_view_count": null,
      "_view_module": "@jupyter-widgets/controls",
      "_view_module_version": "1.5.0",
      "_view_name": "HBoxView",
      "box_style": "",
      "children": [
       "IPY_MODEL_4379ebeec3d9440da8b4f24686bde212",
       "IPY_MODEL_86c754601d3d4880be1843bac43bfcef",
       "IPY_MODEL_ff54656126ac4f959d041a26c66a24ae"
      ],
      "layout": "IPY_MODEL_436e337731ac46ecbeaa77028b10f748"
     }
    },
    "c879df1ff9cc4d789ac524709a5a707a": {
     "model_module": "@jupyter-widgets/controls",
     "model_module_version": "1.5.0",
     "model_name": "HTMLModel",
     "state": {
      "_dom_classes": [],
      "_model_module": "@jupyter-widgets/controls",
      "_model_module_version": "1.5.0",
      "_model_name": "HTMLModel",
      "_view_count": null,
      "_view_module": "@jupyter-widgets/controls",
      "_view_module_version": "1.5.0",
      "_view_name": "HTMLView",
      "description": "",
      "description_tooltip": null,
      "layout": "IPY_MODEL_1d59707ac4ee46b5b6ea572cee361e7a",
      "placeholder": "​",
      "style": "IPY_MODEL_a91503bade7e43309311bb60ef0e9b30",
      "value": " 5/5 [00:01&lt;00:00,  3.90ba/s]"
     }
    },
    "ceb7d01816df4aa8bc3d59dea835c65a": {
     "model_module": "@jupyter-widgets/base",
     "model_module_version": "1.2.0",
     "model_name": "LayoutModel",
     "state": {
      "_model_module": "@jupyter-widgets/base",
      "_model_module_version": "1.2.0",
      "_model_name": "LayoutModel",
      "_view_count": null,
      "_view_module": "@jupyter-widgets/base",
      "_view_module_version": "1.2.0",
      "_view_name": "LayoutView",
      "align_content": null,
      "align_items": null,
      "align_self": null,
      "border": null,
      "bottom": null,
      "display": null,
      "flex": null,
      "flex_flow": null,
      "grid_area": null,
      "grid_auto_columns": null,
      "grid_auto_flow": null,
      "grid_auto_rows": null,
      "grid_column": null,
      "grid_gap": null,
      "grid_row": null,
      "grid_template_areas": null,
      "grid_template_columns": null,
      "grid_template_rows": null,
      "height": null,
      "justify_content": null,
      "justify_items": null,
      "left": null,
      "margin": null,
      "max_height": null,
      "max_width": null,
      "min_height": null,
      "min_width": null,
      "object_fit": null,
      "object_position": null,
      "order": null,
      "overflow": null,
      "overflow_x": null,
      "overflow_y": null,
      "padding": null,
      "right": null,
      "top": null,
      "visibility": null,
      "width": null
     }
    },
    "cecd33cab95a430c8998952d1d6fcda2": {
     "model_module": "@jupyter-widgets/base",
     "model_module_version": "1.2.0",
     "model_name": "LayoutModel",
     "state": {
      "_model_module": "@jupyter-widgets/base",
      "_model_module_version": "1.2.0",
      "_model_name": "LayoutModel",
      "_view_count": null,
      "_view_module": "@jupyter-widgets/base",
      "_view_module_version": "1.2.0",
      "_view_name": "LayoutView",
      "align_content": null,
      "align_items": null,
      "align_self": null,
      "border": null,
      "bottom": null,
      "display": null,
      "flex": null,
      "flex_flow": null,
      "grid_area": null,
      "grid_auto_columns": null,
      "grid_auto_flow": null,
      "grid_auto_rows": null,
      "grid_column": null,
      "grid_gap": null,
      "grid_row": null,
      "grid_template_areas": null,
      "grid_template_columns": null,
      "grid_template_rows": null,
      "height": null,
      "justify_content": null,
      "justify_items": null,
      "left": null,
      "margin": null,
      "max_height": null,
      "max_width": null,
      "min_height": null,
      "min_width": null,
      "object_fit": null,
      "object_position": null,
      "order": null,
      "overflow": null,
      "overflow_x": null,
      "overflow_y": null,
      "padding": null,
      "right": null,
      "top": null,
      "visibility": null,
      "width": null
     }
    },
    "d08d962811704fdd910dba488c9d429c": {
     "model_module": "@jupyter-widgets/base",
     "model_module_version": "1.2.0",
     "model_name": "LayoutModel",
     "state": {
      "_model_module": "@jupyter-widgets/base",
      "_model_module_version": "1.2.0",
      "_model_name": "LayoutModel",
      "_view_count": null,
      "_view_module": "@jupyter-widgets/base",
      "_view_module_version": "1.2.0",
      "_view_name": "LayoutView",
      "align_content": null,
      "align_items": null,
      "align_self": null,
      "border": null,
      "bottom": null,
      "display": null,
      "flex": null,
      "flex_flow": null,
      "grid_area": null,
      "grid_auto_columns": null,
      "grid_auto_flow": null,
      "grid_auto_rows": null,
      "grid_column": null,
      "grid_gap": null,
      "grid_row": null,
      "grid_template_areas": null,
      "grid_template_columns": null,
      "grid_template_rows": null,
      "height": null,
      "justify_content": null,
      "justify_items": null,
      "left": null,
      "margin": null,
      "max_height": null,
      "max_width": null,
      "min_height": null,
      "min_width": null,
      "object_fit": null,
      "object_position": null,
      "order": null,
      "overflow": null,
      "overflow_x": null,
      "overflow_y": null,
      "padding": null,
      "right": null,
      "top": null,
      "visibility": null,
      "width": null
     }
    },
    "d1634f861a9a4e0ab294cb85877d8355": {
     "model_module": "@jupyter-widgets/controls",
     "model_module_version": "1.5.0",
     "model_name": "ProgressStyleModel",
     "state": {
      "_model_module": "@jupyter-widgets/controls",
      "_model_module_version": "1.5.0",
      "_model_name": "ProgressStyleModel",
      "_view_count": null,
      "_view_module": "@jupyter-widgets/base",
      "_view_module_version": "1.2.0",
      "_view_name": "StyleView",
      "bar_color": null,
      "description_width": ""
     }
    },
    "d3c6889db7ac40ec875d54ed5c613c4d": {
     "model_module": "@jupyter-widgets/controls",
     "model_module_version": "1.5.0",
     "model_name": "FloatProgressModel",
     "state": {
      "_dom_classes": [],
      "_model_module": "@jupyter-widgets/controls",
      "_model_module_version": "1.5.0",
      "_model_name": "FloatProgressModel",
      "_view_count": null,
      "_view_module": "@jupyter-widgets/controls",
      "_view_module_version": "1.5.0",
      "_view_name": "ProgressView",
      "bar_style": "success",
      "description": "",
      "description_tooltip": null,
      "layout": "IPY_MODEL_9b47de4dcd024ca9bc2432f49d141cb1",
      "max": 213450,
      "min": 0,
      "orientation": "horizontal",
      "style": "IPY_MODEL_06cc6b4e962049079aa3fb4303b369ca",
      "value": 213450
     }
    },
    "d814ec05f8694ba4bf3bd148dd160175": {
     "model_module": "@jupyter-widgets/controls",
     "model_module_version": "1.5.0",
     "model_name": "DescriptionStyleModel",
     "state": {
      "_model_module": "@jupyter-widgets/controls",
      "_model_module_version": "1.5.0",
      "_model_name": "DescriptionStyleModel",
      "_view_count": null,
      "_view_module": "@jupyter-widgets/base",
      "_view_module_version": "1.2.0",
      "_view_name": "StyleView",
      "description_width": ""
     }
    },
    "db1646bb38d941dd8fb36db6d62f431c": {
     "model_module": "@jupyter-widgets/controls",
     "model_module_version": "1.5.0",
     "model_name": "DescriptionStyleModel",
     "state": {
      "_model_module": "@jupyter-widgets/controls",
      "_model_module_version": "1.5.0",
      "_model_name": "DescriptionStyleModel",
      "_view_count": null,
      "_view_module": "@jupyter-widgets/base",
      "_view_module_version": "1.2.0",
      "_view_name": "StyleView",
      "description_width": ""
     }
    },
    "db97238a9ba447f6a2f1d771dee6fdab": {
     "model_module": "@jupyter-widgets/controls",
     "model_module_version": "1.5.0",
     "model_name": "DescriptionStyleModel",
     "state": {
      "_model_module": "@jupyter-widgets/controls",
      "_model_module_version": "1.5.0",
      "_model_name": "DescriptionStyleModel",
      "_view_count": null,
      "_view_module": "@jupyter-widgets/base",
      "_view_module_version": "1.2.0",
      "_view_name": "StyleView",
      "description_width": ""
     }
    },
    "dba6df539e0442f5b5587d014ee72cf0": {
     "model_module": "@jupyter-widgets/controls",
     "model_module_version": "1.5.0",
     "model_name": "HTMLModel",
     "state": {
      "_dom_classes": [],
      "_model_module": "@jupyter-widgets/controls",
      "_model_module_version": "1.5.0",
      "_model_name": "HTMLModel",
      "_view_count": null,
      "_view_module": "@jupyter-widgets/controls",
      "_view_module_version": "1.5.0",
      "_view_name": "HTMLView",
      "description": "",
      "description_tooltip": null,
      "layout": "IPY_MODEL_3d19e2f30d51494fa94b2ebf20daf8c7",
      "placeholder": "​",
      "style": "IPY_MODEL_b6dcff8c738c47178c8b697e923ca07c",
      "value": " 29.0/29.0 [00:00&lt;00:00, 687B/s]"
     }
    },
    "dfe428e1a7754dd4a4102d1f64cb347e": {
     "model_module": "@jupyter-widgets/controls",
     "model_module_version": "1.5.0",
     "model_name": "HBoxModel",
     "state": {
      "_dom_classes": [],
      "_model_module": "@jupyter-widgets/controls",
      "_model_module_version": "1.5.0",
      "_model_name": "HBoxModel",
      "_view_count": null,
      "_view_module": "@jupyter-widgets/controls",
      "_view_module_version": "1.5.0",
      "_view_name": "HBoxView",
      "box_style": "",
      "children": [
       "IPY_MODEL_33c7216e8f1644b0ba3d2a25a322905e",
       "IPY_MODEL_e3caafc21d66434db8e76a45b9fd684d",
       "IPY_MODEL_496038819c734ceaa74bb764f5a517ed"
      ],
      "layout": "IPY_MODEL_bace9f54da61416588f23d019e7e80b4"
     }
    },
    "e04a4711efd34cdda380d05376dda6c3": {
     "model_module": "@jupyter-widgets/base",
     "model_module_version": "1.2.0",
     "model_name": "LayoutModel",
     "state": {
      "_model_module": "@jupyter-widgets/base",
      "_model_module_version": "1.2.0",
      "_model_name": "LayoutModel",
      "_view_count": null,
      "_view_module": "@jupyter-widgets/base",
      "_view_module_version": "1.2.0",
      "_view_name": "LayoutView",
      "align_content": null,
      "align_items": null,
      "align_self": null,
      "border": null,
      "bottom": null,
      "display": null,
      "flex": null,
      "flex_flow": null,
      "grid_area": null,
      "grid_auto_columns": null,
      "grid_auto_flow": null,
      "grid_auto_rows": null,
      "grid_column": null,
      "grid_gap": null,
      "grid_row": null,
      "grid_template_areas": null,
      "grid_template_columns": null,
      "grid_template_rows": null,
      "height": null,
      "justify_content": null,
      "justify_items": null,
      "left": null,
      "margin": null,
      "max_height": null,
      "max_width": null,
      "min_height": null,
      "min_width": null,
      "object_fit": null,
      "object_position": null,
      "order": null,
      "overflow": null,
      "overflow_x": null,
      "overflow_y": null,
      "padding": null,
      "right": null,
      "top": null,
      "visibility": null,
      "width": null
     }
    },
    "e0c1057033ac4349a366ba9fbdfb2a9a": {
     "model_module": "@jupyter-widgets/base",
     "model_module_version": "1.2.0",
     "model_name": "LayoutModel",
     "state": {
      "_model_module": "@jupyter-widgets/base",
      "_model_module_version": "1.2.0",
      "_model_name": "LayoutModel",
      "_view_count": null,
      "_view_module": "@jupyter-widgets/base",
      "_view_module_version": "1.2.0",
      "_view_name": "LayoutView",
      "align_content": null,
      "align_items": null,
      "align_self": null,
      "border": null,
      "bottom": null,
      "display": null,
      "flex": null,
      "flex_flow": null,
      "grid_area": null,
      "grid_auto_columns": null,
      "grid_auto_flow": null,
      "grid_auto_rows": null,
      "grid_column": null,
      "grid_gap": null,
      "grid_row": null,
      "grid_template_areas": null,
      "grid_template_columns": null,
      "grid_template_rows": null,
      "height": null,
      "justify_content": null,
      "justify_items": null,
      "left": null,
      "margin": null,
      "max_height": null,
      "max_width": null,
      "min_height": null,
      "min_width": null,
      "object_fit": null,
      "object_position": null,
      "order": null,
      "overflow": null,
      "overflow_x": null,
      "overflow_y": null,
      "padding": null,
      "right": null,
      "top": null,
      "visibility": null,
      "width": null
     }
    },
    "e232e930460e45c3b0ea617797bc4e35": {
     "model_module": "@jupyter-widgets/controls",
     "model_module_version": "1.5.0",
     "model_name": "HBoxModel",
     "state": {
      "_dom_classes": [],
      "_model_module": "@jupyter-widgets/controls",
      "_model_module_version": "1.5.0",
      "_model_name": "HBoxModel",
      "_view_count": null,
      "_view_module": "@jupyter-widgets/controls",
      "_view_module_version": "1.5.0",
      "_view_name": "HBoxView",
      "box_style": "",
      "children": [
       "IPY_MODEL_090377cc32c74b1883cdafbf4186c2b1",
       "IPY_MODEL_f36bab9773dd44f0b8a523bf525c42f3",
       "IPY_MODEL_226d348762ce4b52b46b199b961380a9"
      ],
      "layout": "IPY_MODEL_d08d962811704fdd910dba488c9d429c"
     }
    },
    "e3caafc21d66434db8e76a45b9fd684d": {
     "model_module": "@jupyter-widgets/controls",
     "model_module_version": "1.5.0",
     "model_name": "FloatProgressModel",
     "state": {
      "_dom_classes": [],
      "_model_module": "@jupyter-widgets/controls",
      "_model_module_version": "1.5.0",
      "_model_name": "FloatProgressModel",
      "_view_count": null,
      "_view_module": "@jupyter-widgets/controls",
      "_view_module_version": "1.5.0",
      "_view_name": "ProgressView",
      "bar_style": "success",
      "description": "",
      "description_tooltip": null,
      "layout": "IPY_MODEL_2fbf4b87c9e24e43ac72d6bc0f300d5e",
      "max": 411,
      "min": 0,
      "orientation": "horizontal",
      "style": "IPY_MODEL_36b6ec47968b43349600e93955716925",
      "value": 411
     }
    },
    "e5f3c88318a043e787a5fc9933461801": {
     "model_module": "@jupyter-widgets/controls",
     "model_module_version": "1.5.0",
     "model_name": "FloatProgressModel",
     "state": {
      "_dom_classes": [],
      "_model_module": "@jupyter-widgets/controls",
      "_model_module_version": "1.5.0",
      "_model_name": "FloatProgressModel",
      "_view_count": null,
      "_view_module": "@jupyter-widgets/controls",
      "_view_module_version": "1.5.0",
      "_view_name": "ProgressView",
      "bar_style": "success",
      "description": "",
      "description_tooltip": null,
      "layout": "IPY_MODEL_021b1f9bab0d439cb921b1213b1634a5",
      "max": 435797,
      "min": 0,
      "orientation": "horizontal",
      "style": "IPY_MODEL_a1c9fc195c1e4dbda96593d1760a2c74",
      "value": 435797
     }
    },
    "e6add7a68b7b4a89966ccc6c7bf4a781": {
     "model_module": "@jupyter-widgets/controls",
     "model_module_version": "1.5.0",
     "model_name": "HTMLModel",
     "state": {
      "_dom_classes": [],
      "_model_module": "@jupyter-widgets/controls",
      "_model_module_version": "1.5.0",
      "_model_name": "HTMLModel",
      "_view_count": null,
      "_view_module": "@jupyter-widgets/controls",
      "_view_module_version": "1.5.0",
      "_view_name": "HTMLView",
      "description": "",
      "description_tooltip": null,
      "layout": "IPY_MODEL_c3e54cf3a16c452983e75c42b5291a41",
      "placeholder": "​",
      "style": "IPY_MODEL_d814ec05f8694ba4bf3bd148dd160175",
      "value": " 208k/208k [00:00&lt;00:00, 1.15MB/s]"
     }
    },
    "ea9a7b5b522f425a96e7b0bdf1f1cf1e": {
     "model_module": "@jupyter-widgets/controls",
     "model_module_version": "1.5.0",
     "model_name": "DescriptionStyleModel",
     "state": {
      "_model_module": "@jupyter-widgets/controls",
      "_model_module_version": "1.5.0",
      "_model_name": "DescriptionStyleModel",
      "_view_count": null,
      "_view_module": "@jupyter-widgets/base",
      "_view_module_version": "1.2.0",
      "_view_name": "StyleView",
      "description_width": ""
     }
    },
    "eaec4efcea364a689fd4663adfe0de13": {
     "model_module": "@jupyter-widgets/controls",
     "model_module_version": "1.5.0",
     "model_name": "HBoxModel",
     "state": {
      "_dom_classes": [],
      "_model_module": "@jupyter-widgets/controls",
      "_model_module_version": "1.5.0",
      "_model_name": "HBoxModel",
      "_view_count": null,
      "_view_module": "@jupyter-widgets/controls",
      "_view_module_version": "1.5.0",
      "_view_name": "HBoxView",
      "box_style": "",
      "children": [
       "IPY_MODEL_32a84c96fb7f494689f47baf12a1add5",
       "IPY_MODEL_e5f3c88318a043e787a5fc9933461801",
       "IPY_MODEL_72daf0db0ec34f49859550a0dee4e57c"
      ],
      "layout": "IPY_MODEL_c21810623fa744ce9b65d4aa36741582"
     }
    },
    "eed15e3b3321497da20fc58b2efa4314": {
     "model_module": "@jupyter-widgets/controls",
     "model_module_version": "1.5.0",
     "model_name": "ProgressStyleModel",
     "state": {
      "_model_module": "@jupyter-widgets/controls",
      "_model_module_version": "1.5.0",
      "_model_name": "ProgressStyleModel",
      "_view_count": null,
      "_view_module": "@jupyter-widgets/base",
      "_view_module_version": "1.2.0",
      "_view_name": "StyleView",
      "bar_color": null,
      "description_width": ""
     }
    },
    "efffe8117ff94a8e848a4777ab956b07": {
     "model_module": "@jupyter-widgets/controls",
     "model_module_version": "1.5.0",
     "model_name": "HTMLModel",
     "state": {
      "_dom_classes": [],
      "_model_module": "@jupyter-widgets/controls",
      "_model_module_version": "1.5.0",
      "_model_name": "HTMLModel",
      "_view_count": null,
      "_view_module": "@jupyter-widgets/controls",
      "_view_module_version": "1.5.0",
      "_view_name": "HTMLView",
      "description": "",
      "description_tooltip": null,
      "layout": "IPY_MODEL_299c43f5fa104c62b4fa053b873b4735",
      "placeholder": "​",
      "style": "IPY_MODEL_670861a431664545b910dba8444a3318",
      "value": " 5/5 [4:12:32&lt;00:00, 3030.10s/it]"
     }
    },
    "f36bab9773dd44f0b8a523bf525c42f3": {
     "model_module": "@jupyter-widgets/controls",
     "model_module_version": "1.5.0",
     "model_name": "FloatProgressModel",
     "state": {
      "_dom_classes": [],
      "_model_module": "@jupyter-widgets/controls",
      "_model_module_version": "1.5.0",
      "_model_name": "FloatProgressModel",
      "_view_count": null,
      "_view_module": "@jupyter-widgets/controls",
      "_view_module_version": "1.5.0",
      "_view_name": "ProgressView",
      "bar_style": "success",
      "description": "",
      "description_tooltip": null,
      "layout": "IPY_MODEL_f9d865af7e5b449bb1fdd1bc615e688e",
      "max": 31,
      "min": 0,
      "orientation": "horizontal",
      "style": "IPY_MODEL_fcb26cea196941c7b1f8e86ad4a27765",
      "value": 31
     }
    },
    "f4bcf6289fc146e8817f15273465a0af": {
     "model_module": "@jupyter-widgets/controls",
     "model_module_version": "1.5.0",
     "model_name": "HTMLModel",
     "state": {
      "_dom_classes": [],
      "_model_module": "@jupyter-widgets/controls",
      "_model_module_version": "1.5.0",
      "_model_name": "HTMLModel",
      "_view_count": null,
      "_view_module": "@jupyter-widgets/controls",
      "_view_module_version": "1.5.0",
      "_view_name": "HTMLView",
      "description": "",
      "description_tooltip": null,
      "layout": "IPY_MODEL_807bc410e0ca49c69c7b499ad31a713c",
      "placeholder": "​",
      "style": "IPY_MODEL_0c3d97e2f9ca46459b53e81afaa7d170",
      "value": "Downloading: 100%"
     }
    },
    "f84763e1aa1442b2bec4f1aaff7a3426": {
     "model_module": "@jupyter-widgets/controls",
     "model_module_version": "1.5.0",
     "model_name": "HTMLModel",
     "state": {
      "_dom_classes": [],
      "_model_module": "@jupyter-widgets/controls",
      "_model_module_version": "1.5.0",
      "_model_name": "HTMLModel",
      "_view_count": null,
      "_view_module": "@jupyter-widgets/controls",
      "_view_module_version": "1.5.0",
      "_view_name": "HTMLView",
      "description": "",
      "description_tooltip": null,
      "layout": "IPY_MODEL_e04a4711efd34cdda380d05376dda6c3",
      "placeholder": "​",
      "style": "IPY_MODEL_14946fb6f2354b9da546affa2d02f236",
      "value": " 8/8 [00:02&lt;00:00,  3.26ba/s]"
     }
    },
    "f9d865af7e5b449bb1fdd1bc615e688e": {
     "model_module": "@jupyter-widgets/base",
     "model_module_version": "1.2.0",
     "model_name": "LayoutModel",
     "state": {
      "_model_module": "@jupyter-widgets/base",
      "_model_module_version": "1.2.0",
      "_model_name": "LayoutModel",
      "_view_count": null,
      "_view_module": "@jupyter-widgets/base",
      "_view_module_version": "1.2.0",
      "_view_name": "LayoutView",
      "align_content": null,
      "align_items": null,
      "align_self": null,
      "border": null,
      "bottom": null,
      "display": null,
      "flex": null,
      "flex_flow": null,
      "grid_area": null,
      "grid_auto_columns": null,
      "grid_auto_flow": null,
      "grid_auto_rows": null,
      "grid_column": null,
      "grid_gap": null,
      "grid_row": null,
      "grid_template_areas": null,
      "grid_template_columns": null,
      "grid_template_rows": null,
      "height": null,
      "justify_content": null,
      "justify_items": null,
      "left": null,
      "margin": null,
      "max_height": null,
      "max_width": null,
      "min_height": null,
      "min_width": null,
      "object_fit": null,
      "object_position": null,
      "order": null,
      "overflow": null,
      "overflow_x": null,
      "overflow_y": null,
      "padding": null,
      "right": null,
      "top": null,
      "visibility": null,
      "width": null
     }
    },
    "fcb26cea196941c7b1f8e86ad4a27765": {
     "model_module": "@jupyter-widgets/controls",
     "model_module_version": "1.5.0",
     "model_name": "ProgressStyleModel",
     "state": {
      "_model_module": "@jupyter-widgets/controls",
      "_model_module_version": "1.5.0",
      "_model_name": "ProgressStyleModel",
      "_view_count": null,
      "_view_module": "@jupyter-widgets/base",
      "_view_module_version": "1.2.0",
      "_view_name": "StyleView",
      "bar_color": null,
      "description_width": ""
     }
    },
    "ff54656126ac4f959d041a26c66a24ae": {
     "model_module": "@jupyter-widgets/controls",
     "model_module_version": "1.5.0",
     "model_name": "HTMLModel",
     "state": {
      "_dom_classes": [],
      "_model_module": "@jupyter-widgets/controls",
      "_model_module_version": "1.5.0",
      "_model_name": "HTMLModel",
      "_view_count": null,
      "_view_module": "@jupyter-widgets/controls",
      "_view_module_version": "1.5.0",
      "_view_name": "HTMLView",
      "description": "",
      "description_tooltip": null,
      "layout": "IPY_MODEL_16faf4357ce34e4f9af0e1d10043e866",
      "placeholder": "​",
      "style": "IPY_MODEL_20e6c906d4eb477693776fc2f2da217c",
      "value": " 251M/251M [00:09&lt;00:00, 32.9MB/s]"
     }
    },
    "ffc31099122c4fa5af44461a2de4b836": {
     "model_module": "@jupyter-widgets/controls",
     "model_module_version": "1.5.0",
     "model_name": "HBoxModel",
     "state": {
      "_dom_classes": [],
      "_model_module": "@jupyter-widgets/controls",
      "_model_module_version": "1.5.0",
      "_model_name": "HBoxModel",
      "_view_count": null,
      "_view_module": "@jupyter-widgets/controls",
      "_view_module_version": "1.5.0",
      "_view_name": "HBoxView",
      "box_style": "",
      "children": [
       "IPY_MODEL_aed3c3ee21164bcbacecb7ad55b1d094",
       "IPY_MODEL_d3c6889db7ac40ec875d54ed5c613c4d",
       "IPY_MODEL_e6add7a68b7b4a89966ccc6c7bf4a781"
      ],
      "layout": "IPY_MODEL_443f0a61a6c34d82884f67203da01c93"
     }
    }
   }
  }
 },
 "nbformat": 4,
 "nbformat_minor": 1
}
