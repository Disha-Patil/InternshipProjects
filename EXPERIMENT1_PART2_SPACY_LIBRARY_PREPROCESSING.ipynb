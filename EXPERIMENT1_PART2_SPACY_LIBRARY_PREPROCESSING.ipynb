{
 "cells": [
  {
   "cell_type": "markdown",
   "metadata": {
    "id": "6GkxfuQ8ob0R"
   },
   "source": [
    "# About the Data\n",
    "\n",
    "* The data was taken from \n",
    "the csv file complaints.csv\n",
    "\n",
    "\n",
    "* The complaints are for the products:<br>\n",
    "\n",
    "  1. 'Bank account or service'\n",
    "  2. 'Checking or savings account'\n",
    "  3. 'Consumer Loan'\n",
    "  4. 'Credit card or prepaid card'\n",
    "  5. 'Credit reporting, credit repair services, or other personal consumer reports' \n",
    "  6. 'Debt collection'\n",
    "  7. Money transfer/s, virtual currency, or money service'\n",
    "  8. 'Mortgage'\n",
    "  9. 'Payday loan, title loan, or personal loan'\n",
    "  10. 'Student loan'\n",
    "  11. 'Vehicle loan or lease'\n",
    "\n",
    "\n",
    "* The data cleaning was done using spacy library\n"
   ]
  },
  {
   "cell_type": "markdown",
   "metadata": {
    "id": "HltVocsVxIVZ"
   },
   "source": [
    "## Next Steps\n",
    "* Fine-tune DistilBERT on the sample data which has atmost 10 percent masked words."
   ]
  },
  {
   "cell_type": "markdown",
   "metadata": {
    "id": "M8MJt_UDu36B"
   },
   "source": [
    "## Google Drive access"
   ]
  },
  {
   "cell_type": "code",
   "execution_count": null,
   "metadata": {
    "colab": {
     "base_uri": "https://localhost:8080/"
    },
    "id": "YpebIE41u3Mh",
    "outputId": "41475eb2-1a70-4dbe-c565-41513e387364"
   },
   "outputs": [
    {
     "name": "stdout",
     "output_type": "stream",
     "text": [
      "Mounted at /content/drive\n"
     ]
    }
   ],
   "source": [
    "from google.colab import drive\n",
    "drive.mount('/content/drive')"
   ]
  },
  {
   "cell_type": "code",
   "execution_count": null,
   "metadata": {
    "id": "f3hBz6OXw3gQ"
   },
   "outputs": [],
   "source": [
    "# write the appropriate paths to retrieve the data and store results \n",
    "sample_data_path = '/content/drive/MyDrive/SAMPLE_21_APRIL_2022.csv'"
   ]
  },
  {
   "cell_type": "markdown",
   "metadata": {
    "id": "dwnUTHc_WWf9"
   },
   "source": [
    "# Loading the sample dataset"
   ]
  },
  {
   "cell_type": "code",
   "execution_count": null,
   "metadata": {
    "colab": {
     "base_uri": "https://localhost:8080/"
    },
    "id": "hSr1m-4emA8l",
    "outputId": "b901b761-3edd-4e3b-d707-85ac96c0280b"
   },
   "outputs": [
    {
     "name": "stdout",
     "output_type": "stream",
     "text": [
      "<class 'pandas.core.frame.DataFrame'>\n",
      "RangeIndex: 54994 entries, 0 to 54993\n",
      "Data columns (total 10 columns):\n",
      " #   Column                         Non-Null Count  Dtype  \n",
      "---  ------                         --------------  -----  \n",
      " 0   consumer_complaint_narrative   54994 non-null  object \n",
      " 1   product                        54994 non-null  object \n",
      " 2   split_words_whitespaces        54994 non-null  object \n",
      " 3   number_of_words                54994 non-null  int64  \n",
      " 4   number_of_charachters          54994 non-null  int64  \n",
      " 5   charachters_by_words           54994 non-null  int64  \n",
      " 6   number_of_unique_words         54994 non-null  int64  \n",
      " 7   potenial_mask_words            54994 non-null  object \n",
      " 8   number_of_potenial_mask_words  54994 non-null  int64  \n",
      " 9   potenial_mask_words_BY_words   54994 non-null  float64\n",
      "dtypes: float64(1), int64(5), object(4)\n",
      "memory usage: 4.2+ MB\n"
     ]
    }
   ],
   "source": [
    "#Load the data\n",
    "import pandas as pd\n",
    "sample_df = pd.read_csv(sample_data_path)\n",
    "sample_df.info()"
   ]
  },
  {
   "cell_type": "code",
   "execution_count": null,
   "metadata": {
    "id": "1dPcRk6Mahis"
   },
   "outputs": [],
   "source": [
    "import spacy\n",
    "# use spacy with the dependency parse \n",
    "nlp = spacy.load(\"en_core_web_sm\")"
   ]
  },
  {
   "cell_type": "code",
   "execution_count": null,
   "metadata": {
    "colab": {
     "base_uri": "https://localhost:8080/"
    },
    "id": "T5rmaJPHbtms",
    "outputId": "39e3a326-dbee-4e5a-ee5b-fd6e030ea53f"
   },
   "outputs": [
    {
     "name": "stderr",
     "output_type": "stream",
     "text": [
      "100%|██████████| 54994/54994 [33:29<00:00, 27.36it/s]"
     ]
    },
    {
     "name": "stdout",
     "output_type": "stream",
     "text": [
      "\n",
      "\n",
      "Spacy Doc Completed\n"
     ]
    },
    {
     "name": "stderr",
     "output_type": "stream",
     "text": [
      "\n"
     ]
    }
   ],
   "source": [
    "from tqdm import tqdm\n",
    "# instantiate\n",
    "tqdm.pandas()\n",
    "sample_df['spacy_doc']= sample_df['consumer_complaint_narrative'].progress_apply(lambda x :list(nlp.pipe([x]))[0])\n",
    "print(\"\\n\\nSpacy Doc Completed\")"
   ]
  },
  {
   "cell_type": "code",
   "execution_count": null,
   "metadata": {
    "colab": {
     "base_uri": "https://localhost:8080/"
    },
    "id": "Qvry1gbVjCfv",
    "outputId": "aebaa127-33bd-450f-af90-8345cf2c45e3"
   },
   "outputs": [
    {
     "name": "stdout",
     "output_type": "stream",
     "text": [
      "<class 'pandas.core.frame.DataFrame'>\n",
      "RangeIndex: 54994 entries, 0 to 54993\n",
      "Data columns (total 11 columns):\n",
      " #   Column                         Non-Null Count  Dtype  \n",
      "---  ------                         --------------  -----  \n",
      " 0   consumer_complaint_narrative   54994 non-null  object \n",
      " 1   product                        54994 non-null  object \n",
      " 2   split_words_whitespaces        54994 non-null  object \n",
      " 3   number_of_words                54994 non-null  int64  \n",
      " 4   number_of_charachters          54994 non-null  int64  \n",
      " 5   charachters_by_words           54994 non-null  int64  \n",
      " 6   number_of_unique_words         54994 non-null  int64  \n",
      " 7   potenial_mask_words            54994 non-null  object \n",
      " 8   number_of_potenial_mask_words  54994 non-null  int64  \n",
      " 9   potenial_mask_words_BY_words   54994 non-null  float64\n",
      " 10  spacy_doc                      54994 non-null  object \n",
      "dtypes: float64(1), int64(5), object(5)\n",
      "memory usage: 4.6+ MB\n"
     ]
    }
   ],
   "source": [
    "sample_df.info()"
   ]
  },
  {
   "cell_type": "code",
   "execution_count": null,
   "metadata": {
    "colab": {
     "base_uri": "https://localhost:8080/"
    },
    "id": "6TxL_W3-UaFm",
    "outputId": "2905ba04-ffb8-4818-c231-cd9ca7dbcd54"
   },
   "outputs": [
    {
     "data": {
      "text/plain": [
       "spacy.tokens.doc.Doc"
      ]
     },
     "execution_count": 36,
     "metadata": {},
     "output_type": "execute_result"
    }
   ],
   "source": [
    "#Check the of the first 'spacy_doc' record\n",
    "type(sample_df.loc[0,'spacy_doc'])"
   ]
  },
  {
   "cell_type": "code",
   "execution_count": null,
   "metadata": {
    "id": "rQkVmyEzR4gm"
   },
   "outputs": [],
   "source": [
    "#Define the strings to mask\n",
    "mask_words_list =['XX/XX/XXXX','XX-XX-XXXX', #DATE mm/dd/yyyy mm-dd-yyyy\n",
    "                  'XXXX XXXX XXXX XXXX XXXX','XXXX-XXXX-XXXX-XXXX',#CREDIT or PREPASID CARD NUMBER\n",
    "                  'XXXX XXXX XXXX XXXX','XXXX XXXX XXXX','XXXX-XXXX-XXXX','XXXX-XXXX','XXXX XXXX',\n",
    "                  'XXX-XX-XXXX','XXX-XXX','XX-XXXX',\n",
    "                  'XXXXXXXXXXXXXXXXXX','XXXXXXXXXXXXXXXXX', 'XXXXXXXXXXXXXXXX', 'XXXXXXXXXXXXXXX', 'XXXXXXXXXXXXXX',# BANK ACCOUNT NUMBER\n",
    "                  'XXXXXXXXXXXXX', 'XXXXXXXXXXXX', 'XXXXXXXXXXX',                                                   # RANGES FROM 12 TO 18 DIGITS\n",
    "                  'XXXXXXXXXX','XXXXXXXXX'          #ROUTING NUMBER IS 9 DIGIT\n",
    "                  'XXXX','XXX','XX']"
   ]
  },
  {
   "cell_type": "code",
   "execution_count": null,
   "metadata": {
    "colab": {
     "base_uri": "https://localhost:8080/"
    },
    "id": "gXxUZCQwftEn",
    "outputId": "8a133c9f-ef89-4d7c-d01a-c6f92b0be606"
   },
   "outputs": [],
   "source": [
    "sample_df2 =sample_df.copy()\n",
    "sample_df2.info()"
   ]
  },
  {
   "cell_type": "code",
   "execution_count": null,
   "metadata": {
    "id": "4VDgyESEKpJM"
   },
   "outputs": [],
   "source": [
    "import re\n",
    "# Function to identify the tokens and named entities that have to be MASKED replace them with ' <MASK> '\n",
    "def change_details(word):\n",
    "    if word.like_email or word.like_url:\n",
    "        return '<MASK>'\n",
    "    elif any(mask_word in word.text for mask_word in mask_words_list):\n",
    "        return '<MASK>'\n",
    "    elif word.is_stop:\n",
    "        return ''\n",
    "    elif (len(re.findall('\\.',word.text)) < 1) :\n",
    "        if word.is_punct:\n",
    "            return ''\n",
    "    return word.text\n",
    "\n",
    "\n",
    "# Function where each token of spacy doc is passed through change_deatils()\n",
    "def change_article(doc):\n",
    "    # Passing each token through change_details() function.\n",
    "    new_tokens = map(change_details,doc)\n",
    "    new_text = str(' '.join(new_tokens))\n",
    "    # replace more than one white space in the string with one white space\n",
    "    new_text = re.sub(' +', ' ',new_text)\n",
    "    new_text = new_text.replace(' .', '.')\n",
    "    new_text = new_text.replace('\\n', '')\n",
    "    return new_text"
   ]
  },
  {
   "cell_type": "code",
   "execution_count": null,
   "metadata": {},
   "outputs": [],
   "source": [
    "#Spacy Document of the first entry\n",
    "sample_df2.loc[0,'spacy_doc']"
   ]
  },
  {
   "cell_type": "code",
   "execution_count": null,
   "metadata": {
    "colab": {
     "base_uri": "https://localhost:8080/",
     "height": 165
    },
    "id": "O2tFDYGCan04",
    "outputId": "c54a18fd-00fd-4405-d04e-fbf25c3b5aeb"
   },
   "outputs": [
    {
     "data": {
      "application/vnd.google.colaboratory.intrinsic+json": {
       "type": "string"
      },
      "text/plain": [
       "' issues wellsfargo accounts 1. bank continue charge overdraft fees online transfers balance <MASK> charged <MASK> fees the last 4 weeks.  2. bank <MASK> double paid employees payroll process direct deposits voided payroll. retrieve funds employees double paid inert debited business account drew account <MASK> records called directed pay employees manually voided payroll. bank refuses accountability.  3. payroll issue bank started taking money rent account cover payroll overdraft created. removed money rent account bounced rent checks business cause rent account overdrawn <MASK>. bank taking accountability feels like want business accounts. bank business financial jeopardy. charged business accounts close <MASK> incorrect overdraft fees the last 8 weeks.'"
      ]
     },
     "execution_count": 321,
     "metadata": {},
     "output_type": "execute_result"
    }
   ],
   "source": [
    "#Applying the function change_article to the first spacy_doc\n",
    "change_article(sample_df2.loc[0,'spacy_doc'])"
   ]
  },
  {
   "cell_type": "code",
   "execution_count": null,
   "metadata": {
    "colab": {
     "base_uri": "https://localhost:8080/"
    },
    "id": "H7CNLo06vFJ3",
    "outputId": "a8704d74-262b-4e7b-8900-551155038c29"
   },
   "outputs": [
    {
     "name": "stderr",
     "output_type": "stream",
     "text": [
      "100%|██████████| 54994/54994 [02:58<00:00, 307.38it/s]"
     ]
    },
    {
     "name": "stdout",
     "output_type": "stream",
     "text": [
      "\n",
      "\n",
      "Text Transformation Completed\n"
     ]
    },
    {
     "name": "stderr",
     "output_type": "stream",
     "text": [
      "\n"
     ]
    }
   ],
   "source": [
    "#Applying the function change_article to the all the spacy_doc in sample_df2\n",
    "sample_df2['Change_text']= sample_df2['spacy_doc'].progress_apply(lambda x: change_article(x))\n",
    "print(\"\\n\\nText Transformation Completed\")"
   ]
  },
  {
   "cell_type": "code",
   "execution_count": null,
   "metadata": {
    "colab": {
     "base_uri": "https://localhost:8080/"
    },
    "id": "0JBrhC2pzvg1",
    "outputId": "9a221fea-f675-495f-cd0f-7121503f5b4b"
   },
   "outputs": [],
   "source": [
    "#Split 'Change_text' into substrings whenever whitespace occur\n",
    "sample_df2['split_words_whitespaces'] = sample_df2['Change_text'].apply(lambda x: x.split())\n",
    "#Count the number of substrings in 'split_words_whitespaces'\n",
    "sample_df2['number_of_words'] = sample_df2['split_words_whitespaces'].apply(lambda x: len(x))\n",
    "#Count the number of charachters in  'Change_text'\n",
    "sample_df2['number_of_charachters'] = sample_df2['Change_text'].apply(lambda x: len(x))\n",
    "#Calculate the ratio of number of charachters by number of words\n",
    "sample_df2['charachters_by_words'] = sample_df2['number_of_charachters'] // sample_df2['number_of_words']\n",
    "#Count the number of unique strings in 'split_words_whitespaces'\n",
    "sample_df2['number_of_unique_words'] = sample_df2['split_words_whitespaces'].apply(lambda x : len(set(x)))\n",
    "#Count the number of '<MASK>' strings in 'Change_text'\n",
    "sample_df2['number_of_<MASK>'] = sample_df2['Change_text'].apply(lambda x : x.count('<MASK>'))\n",
    "#Count the number of '<MASK>' by 'number of words'\n",
    "sample_df2['<MASK>_BY_WORDS'] = sample_df2['number_of_<MASK>']/sample_df2['number_of_words']\n",
    "\n",
    "sample_df2.info()"
   ]
  },
  {
   "cell_type": "code",
   "execution_count": null,
   "metadata": {
    "colab": {
     "base_uri": "https://localhost:8080/"
    },
    "id": "-FlVYDimtO5l",
    "outputId": "52292b9f-baab-4ab9-b682-2e657eb0cf5e"
   },
   "outputs": [],
   "source": [
    "#Retain records where the '<MASK>_BY_WORDS' is at most 0.1\n",
    "sample_df4 = sample_df2[sample_df2['<MASK>_BY_WORDS'].le(0.1)]\n",
    "sample_df4.info()"
   ]
  },
  {
   "cell_type": "markdown",
   "metadata": {
    "id": "LFcr-ozDmteM"
   },
   "source": [
    "## Download the Sample Data"
   ]
  },
  {
   "cell_type": "code",
   "execution_count": null,
   "metadata": {
    "colab": {
     "base_uri": "https://localhost:8080/"
    },
    "id": "NIxaDLqgtaxT",
    "outputId": "f731bca7-ae76-46a0-cd2a-ba4828e5b468"
   },
   "outputs": [
    {
     "name": "stdout",
     "output_type": "stream",
     "text": [
      "\n",
      "\n",
      "Download Completed\n"
     ]
    }
   ],
   "source": [
    "#Download the sample data\n",
    "sample_df4.to_csv(\"SAMPLE_DOC_10_PER_MASK.csv\", encoding='utf-8', index=False)\n",
    "print(\"\\n\\nDownload Completed\")"
   ]
  }
 ],
 "metadata": {
  "colab": {
   "collapsed_sections": [
    "HltVocsVxIVZ"
   ],
   "name": " EXPERIMENT_1_April_22_2022_PART2 _Spacy_Library_CREATE_DOC.ipynb",
   "provenance": []
  },
  "kernelspec": {
   "display_name": "Python 3 (ipykernel)",
   "language": "python",
   "name": "python3"
  },
  "language_info": {
   "codemirror_mode": {
    "name": "ipython",
    "version": 3
   },
   "file_extension": ".py",
   "mimetype": "text/x-python",
   "name": "python",
   "nbconvert_exporter": "python",
   "pygments_lexer": "ipython3",
   "version": "3.9.7"
  }
 },
 "nbformat": 4,
 "nbformat_minor": 1
}
