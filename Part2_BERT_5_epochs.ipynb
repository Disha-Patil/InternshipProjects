{
  "cells": [
    {
      "cell_type": "markdown",
      "metadata": {
        "id": "6GkxfuQ8ob0R"
      },
      "source": [
        "#About the Data\n",
        "\n",
        "* The data was taken from https://www.finra.org/rules-guidance/key-topics \n",
        "\n",
        "* The Data consist of three columns: Rule, Text and Topic.\n",
        "  - Rule: FINRA Rule number. \n",
        "  - Text: List of rules.\n",
        "  - Topic: Category to which the rule belongs.\n",
        "\n",
        "* Each rule under the Key Topics:<br>\n",
        "\n",
        "  1. Anti-Money Laundering\n",
        "  2. Broker-Dealer Recruitment Disclosures: Complying with FINRA Rule 2273\n",
        "  3. Business Continuity Planning\n",
        "  4. Subordination Agreements \n",
        "\n",
        "are taken as a text.\n",
        "\n",
        "* Each new line of the Rule Book was converted into text.\n",
        "* Blank text is not considered.\n",
        "* Prefixes in the beginning of the rules are retained.\n",
        "* The word ‘and’ to indicate the last rule is removed.\n",
        "* No summarization was done.\n"
      ]
    },
    {
      "cell_type": "markdown",
      "source": [
        "# Text Preprocessing\n",
        "\n",
        "* Sentences containing more than 30 words are considered.\n",
        "* Duplicate ‘Text’ are removed.\n"
      ],
      "metadata": {
        "id": "J4warHrgNKP1"
      }
    },
    {
      "cell_type": "markdown",
      "metadata": {
        "id": "jhdSQHY_WYk8"
      },
      "source": [
        "#Fine Tuning BERT model for text classification\n",
        "\n",
        "* The model was trained on 5 epochs and the learning rate was set at 2e-5 and batch size 6\n",
        "\n",
        "* Total training time taken across all epochs [Validation and model saving time included]: 0:01:17 (h:mm:ss)\n",
        "\n",
        "* Data Split:<br>\n",
        "      -Training data: 18 (60 percent)\n",
        "      -Validation data: 6 (20 percent)\n",
        "      -Test Data : 6 (20 percent)\n",
        "\n",
        "* Macro-averaged f1-score<br>\n",
        "      -Training data: 0.65\n",
        "      -Validation data: 0.58\n"
      ]
    },
    {
      "cell_type": "markdown",
      "metadata": {
        "id": "HltVocsVxIVZ"
      },
      "source": [
        "## Next Steps\n",
        "\n",
        "* Calculate Metrics on the test Data Set \n",
        "\n",
        "\n",
        "\n"
      ]
    },
    {
      "cell_type": "markdown",
      "metadata": {
        "id": "M8MJt_UDu36B"
      },
      "source": [
        "##Google Drive access"
      ]
    },
    {
      "cell_type": "code",
      "execution_count": null,
      "metadata": {
        "colab": {
          "base_uri": "https://localhost:8080/"
        },
        "id": "YpebIE41u3Mh",
        "outputId": "7e4ed674-1b76-4709-ec95-2b513637ed42"
      },
      "outputs": [
        {
          "output_type": "stream",
          "name": "stdout",
          "text": [
            "Mounted at /content/drive\n"
          ]
        }
      ],
      "source": [
        "from google.colab import drive\n",
        "drive.mount('/content/drive')"
      ]
    },
    {
      "cell_type": "code",
      "execution_count": null,
      "metadata": {
        "id": "f3hBz6OXw3gQ"
      },
      "outputs": [],
      "source": [
        "# Write the appropriate paths to retrieve the data and store results \n",
        "dataset_clean_path = '/content/drive/MyDrive/Full_Code/FINRA/Strategy1/dataset_clean'\n",
        "saved_path = '/content/drive/MyDrive/Full_Code/FINRA/Strategy1/BERT/Epochs_5/'\n",
        "used_test_data_path = saved_path + 'Test_data_BERT.csv'\n",
        "encoded_test_data_path = saved_path + 'ENCODED_Test_data_BERT.csv'\n",
        "label2id_df_path = saved_path + 'label2id_df.csv'"
      ]
    },
    {
      "cell_type": "markdown",
      "metadata": {
        "id": "hhdVBYIGW2mH"
      },
      "source": [
        "## Set-up environment\n",
        "\n",
        "Install the libraries folium version 0.2.1, HuggingFace Transformers and Datasets"
      ]
    },
    {
      "cell_type": "code",
      "execution_count": null,
      "metadata": {
        "id": "bs0-RE3D76PZ",
        "colab": {
          "base_uri": "https://localhost:8080/"
        },
        "outputId": "0d369be3-2d7c-4b86-acd6-e0506554d840"
      },
      "outputs": [
        {
          "output_type": "stream",
          "name": "stdout",
          "text": [
            "\u001b[K     |████████████████████████████████| 69 kB 3.8 MB/s \n",
            "\u001b[K     |████████████████████████████████| 4.2 MB 18.0 MB/s \n",
            "\u001b[K     |████████████████████████████████| 346 kB 74.6 MB/s \n",
            "\u001b[K     |████████████████████████████████| 6.6 MB 58.0 MB/s \n",
            "\u001b[K     |████████████████████████████████| 86 kB 6.5 MB/s \n",
            "\u001b[K     |████████████████████████████████| 596 kB 48.0 MB/s \n",
            "\u001b[K     |████████████████████████████████| 212 kB 65.7 MB/s \n",
            "\u001b[K     |████████████████████████████████| 140 kB 60.2 MB/s \n",
            "\u001b[K     |████████████████████████████████| 86 kB 6.0 MB/s \n",
            "\u001b[K     |████████████████████████████████| 1.1 MB 62.8 MB/s \n",
            "\u001b[K     |████████████████████████████████| 127 kB 75.6 MB/s \n",
            "\u001b[K     |████████████████████████████████| 94 kB 3.8 MB/s \n",
            "\u001b[K     |████████████████████████████████| 271 kB 63.0 MB/s \n",
            "\u001b[K     |████████████████████████████████| 144 kB 64.8 MB/s \n",
            "\u001b[?25h  Building wheel for folium (setup.py) ... \u001b[?25l\u001b[?25hdone\n"
          ]
        }
      ],
      "source": [
        "#Install the package folium version 0.2.1 and HuggingFace tranformer and datasets libraries  \n",
        "!pip install -q folium==0.2.1 transformers datasets "
      ]
    },
    {
      "cell_type": "code",
      "execution_count": null,
      "metadata": {
        "colab": {
          "base_uri": "https://localhost:8080/"
        },
        "id": "bUvk9uQCAspf",
        "outputId": "9f229022-9636-4d77-b430-384d5ddcc9c4"
      },
      "outputs": [
        {
          "output_type": "stream",
          "name": "stdout",
          "text": [
            "cuda:0 is available\n"
          ]
        }
      ],
      "source": [
        "import torch\n",
        "#Check if GPU is available\n",
        "device = \"cuda:0\" if torch.cuda.is_available() else \"cpu\"\n",
        "print(device, \"is available\")"
      ]
    },
    {
      "cell_type": "markdown",
      "source": [
        "##Memory Allocated"
      ],
      "metadata": {
        "id": "rXXUT_pKzvEy"
      }
    },
    {
      "cell_type": "code",
      "source": [
        "!nvidia-smi -q"
      ],
      "metadata": {
        "colab": {
          "base_uri": "https://localhost:8080/"
        },
        "id": "35aOat3LQQNf",
        "outputId": "6930ef4b-1cba-4fc6-bd6b-9e6ce7f71fa2"
      },
      "execution_count": null,
      "outputs": [
        {
          "output_type": "stream",
          "name": "stdout",
          "text": [
            "\n",
            "==============NVSMI LOG==============\n",
            "\n",
            "Timestamp                                 : Thu May 26 00:44:30 2022\n",
            "Driver Version                            : 460.32.03\n",
            "CUDA Version                              : 11.2\n",
            "\n",
            "Attached GPUs                             : 1\n",
            "GPU 00000000:00:04.0\n",
            "    Product Name                          : Tesla P100-PCIE-16GB\n",
            "    Product Brand                         : Tesla\n",
            "    Display Mode                          : Enabled\n",
            "    Display Active                        : Disabled\n",
            "    Persistence Mode                      : Disabled\n",
            "    MIG Mode\n",
            "        Current                           : N/A\n",
            "        Pending                           : N/A\n",
            "    Accounting Mode                       : Disabled\n",
            "    Accounting Mode Buffer Size           : 4000\n",
            "    Driver Model\n",
            "        Current                           : N/A\n",
            "        Pending                           : N/A\n",
            "    Serial Number                         : 0320318032492\n",
            "    GPU UUID                              : GPU-baf4e48c-9259-e639-87f8-a95ae47c47f9\n",
            "    Minor Number                          : 0\n",
            "    VBIOS Version                         : 86.00.52.00.02\n",
            "    MultiGPU Board                        : No\n",
            "    Board ID                              : 0x4\n",
            "    GPU Part Number                       : 900-2H400-6300-031\n",
            "    Inforom Version\n",
            "        Image Version                     : H400.0201.00.08\n",
            "        OEM Object                        : 1.1\n",
            "        ECC Object                        : 4.1\n",
            "        Power Management Object           : N/A\n",
            "    GPU Operation Mode\n",
            "        Current                           : N/A\n",
            "        Pending                           : N/A\n",
            "    GPU Virtualization Mode\n",
            "        Virtualization Mode               : Pass-Through\n",
            "        Host VGPU Mode                    : N/A\n",
            "    IBMNPU\n",
            "        Relaxed Ordering Mode             : N/A\n",
            "    PCI\n",
            "        Bus                               : 0x00\n",
            "        Device                            : 0x04\n",
            "        Domain                            : 0x0000\n",
            "        Device Id                         : 0x15F810DE\n",
            "        Bus Id                            : 00000000:00:04.0\n",
            "        Sub System Id                     : 0x118F10DE\n",
            "        GPU Link Info\n",
            "            PCIe Generation\n",
            "                Max                       : 3\n",
            "                Current                   : 3\n",
            "            Link Width\n",
            "                Max                       : 16x\n",
            "                Current                   : 16x\n",
            "        Bridge Chip\n",
            "            Type                          : N/A\n",
            "            Firmware                      : N/A\n",
            "        Replays Since Reset               : 0\n",
            "        Replay Number Rollovers           : 0\n",
            "        Tx Throughput                     : 0 KB/s\n",
            "        Rx Throughput                     : 0 KB/s\n",
            "    Fan Speed                             : N/A\n",
            "    Performance State                     : P0\n",
            "    Clocks Throttle Reasons\n",
            "        Idle                              : Active\n",
            "        Applications Clocks Setting       : Not Active\n",
            "        SW Power Cap                      : Not Active\n",
            "        HW Slowdown                       : Not Active\n",
            "            HW Thermal Slowdown           : Not Active\n",
            "            HW Power Brake Slowdown       : Not Active\n",
            "        Sync Boost                        : Not Active\n",
            "        SW Thermal Slowdown               : Not Active\n",
            "        Display Clock Setting             : Not Active\n",
            "    FB Memory Usage\n",
            "        Total                             : 16280 MiB\n",
            "        Used                              : 2 MiB\n",
            "        Free                              : 16278 MiB\n",
            "    BAR1 Memory Usage\n",
            "        Total                             : 16384 MiB\n",
            "        Used                              : 2 MiB\n",
            "        Free                              : 16382 MiB\n",
            "    Compute Mode                          : Default\n",
            "    Utilization\n",
            "        Gpu                               : 0 %\n",
            "        Memory                            : 0 %\n",
            "        Encoder                           : 0 %\n",
            "        Decoder                           : 0 %\n",
            "    Encoder Stats\n",
            "        Active Sessions                   : 0\n",
            "        Average FPS                       : 0\n",
            "        Average Latency                   : 0\n",
            "    FBC Stats\n",
            "        Active Sessions                   : 0\n",
            "        Average FPS                       : 0\n",
            "        Average Latency                   : 0\n",
            "    Ecc Mode\n",
            "        Current                           : Enabled\n",
            "        Pending                           : Enabled\n",
            "    ECC Errors\n",
            "        Volatile\n",
            "            Single Bit            \n",
            "                Device Memory             : 0\n",
            "                Register File             : 0\n",
            "                L1 Cache                  : N/A\n",
            "                L2 Cache                  : 0\n",
            "                Texture Memory            : 0\n",
            "                Texture Shared            : 0\n",
            "                CBU                       : N/A\n",
            "                Total                     : 0\n",
            "            Double Bit            \n",
            "                Device Memory             : 0\n",
            "                Register File             : 0\n",
            "                L1 Cache                  : N/A\n",
            "                L2 Cache                  : 0\n",
            "                Texture Memory            : 0\n",
            "                Texture Shared            : 0\n",
            "                CBU                       : N/A\n",
            "                Total                     : 0\n",
            "        Aggregate\n",
            "            Single Bit            \n",
            "                Device Memory             : 0\n",
            "                Register File             : 0\n",
            "                L1 Cache                  : N/A\n",
            "                L2 Cache                  : 0\n",
            "                Texture Memory            : 0\n",
            "                Texture Shared            : 0\n",
            "                CBU                       : N/A\n",
            "                Total                     : 0\n",
            "            Double Bit            \n",
            "                Device Memory             : 0\n",
            "                Register File             : 0\n",
            "                L1 Cache                  : N/A\n",
            "                L2 Cache                  : 0\n",
            "                Texture Memory            : 0\n",
            "                Texture Shared            : 0\n",
            "                CBU                       : N/A\n",
            "                Total                     : 0\n",
            "    Retired Pages\n",
            "        Single Bit ECC                    : 0\n",
            "        Double Bit ECC                    : 0\n",
            "        Pending Page Blacklist            : No\n",
            "    Remapped Rows                         : N/A\n",
            "    Temperature\n",
            "        GPU Current Temp                  : 39 C\n",
            "        GPU Shutdown Temp                 : 85 C\n",
            "        GPU Slowdown Temp                 : 82 C\n",
            "        GPU Max Operating Temp            : N/A\n",
            "        GPU Target Temperature            : N/A\n",
            "        Memory Current Temp               : N/A\n",
            "        Memory Max Operating Temp         : N/A\n",
            "    Power Readings\n",
            "        Power Management                  : Supported\n",
            "        Power Draw                        : 26.47 W\n",
            "        Power Limit                       : 250.00 W\n",
            "        Default Power Limit               : 250.00 W\n",
            "        Enforced Power Limit              : 250.00 W\n",
            "        Min Power Limit                   : 125.00 W\n",
            "        Max Power Limit                   : 250.00 W\n",
            "    Clocks\n",
            "        Graphics                          : 405 MHz\n",
            "        SM                                : 405 MHz\n",
            "        Memory                            : 715 MHz\n",
            "        Video                             : 835 MHz\n",
            "    Applications Clocks\n",
            "        Graphics                          : 1189 MHz\n",
            "        Memory                            : 715 MHz\n",
            "    Default Applications Clocks\n",
            "        Graphics                          : 1189 MHz\n",
            "        Memory                            : 715 MHz\n",
            "    Max Clocks\n",
            "        Graphics                          : 1328 MHz\n",
            "        SM                                : 1328 MHz\n",
            "        Memory                            : 715 MHz\n",
            "        Video                             : 1328 MHz\n",
            "    Max Customer Boost Clocks\n",
            "        Graphics                          : 1328 MHz\n",
            "    Clock Policy\n",
            "        Auto Boost                        : N/A\n",
            "        Auto Boost Default                : N/A\n",
            "    Processes                             : None\n",
            "\n"
          ]
        }
      ]
    },
    {
      "cell_type": "code",
      "source": [
        "!nvidia-smi"
      ],
      "metadata": {
        "colab": {
          "base_uri": "https://localhost:8080/"
        },
        "id": "ZxtauL1_QKJk",
        "outputId": "b4abe47b-461e-4606-f764-ce301aea3e3a"
      },
      "execution_count": null,
      "outputs": [
        {
          "output_type": "stream",
          "name": "stdout",
          "text": [
            "Thu May 26 00:44:31 2022       \n",
            "+-----------------------------------------------------------------------------+\n",
            "| NVIDIA-SMI 460.32.03    Driver Version: 460.32.03    CUDA Version: 11.2     |\n",
            "|-------------------------------+----------------------+----------------------+\n",
            "| GPU  Name        Persistence-M| Bus-Id        Disp.A | Volatile Uncorr. ECC |\n",
            "| Fan  Temp  Perf  Pwr:Usage/Cap|         Memory-Usage | GPU-Util  Compute M. |\n",
            "|                               |                      |               MIG M. |\n",
            "|===============================+======================+======================|\n",
            "|   0  Tesla P100-PCIE...  Off  | 00000000:00:04.0 Off |                    0 |\n",
            "| N/A   39C    P0    26W / 250W |      2MiB / 16280MiB |      0%      Default |\n",
            "|                               |                      |                  N/A |\n",
            "+-------------------------------+----------------------+----------------------+\n",
            "                                                                               \n",
            "+-----------------------------------------------------------------------------+\n",
            "| Processes:                                                                  |\n",
            "|  GPU   GI   CI        PID   Type   Process name                  GPU Memory |\n",
            "|        ID   ID                                                   Usage      |\n",
            "|=============================================================================|\n",
            "|  No running processes found                                                 |\n",
            "+-----------------------------------------------------------------------------+\n"
          ]
        }
      ]
    },
    {
      "cell_type": "code",
      "source": [
        "!lscpu |grep 'Model name'"
      ],
      "metadata": {
        "colab": {
          "base_uri": "https://localhost:8080/"
        },
        "id": "U0wXTbVVQTzS",
        "outputId": "913468ba-8d46-40df-ed08-af208514890f"
      },
      "execution_count": null,
      "outputs": [
        {
          "output_type": "stream",
          "name": "stdout",
          "text": [
            "Model name:          Intel(R) Xeon(R) CPU @ 2.20GHz\n"
          ]
        }
      ]
    },
    {
      "cell_type": "code",
      "source": [
        "!free -h --si | awk  '/Mem:/{print $2}'"
      ],
      "metadata": {
        "colab": {
          "base_uri": "https://localhost:8080/"
        },
        "id": "WTu9Y9K2QYVX",
        "outputId": "4037f8a0-c447-4ebe-fadc-effc1b824f43"
      },
      "execution_count": null,
      "outputs": [
        {
          "output_type": "stream",
          "name": "stdout",
          "text": [
            "13G\n"
          ]
        }
      ]
    },
    {
      "cell_type": "markdown",
      "metadata": {
        "id": "dwnUTHc_WWf9"
      },
      "source": [
        "# Loading the dataset"
      ]
    },
    {
      "cell_type": "code",
      "execution_count": null,
      "metadata": {
        "colab": {
          "base_uri": "https://localhost:8080/"
        },
        "id": "hSr1m-4emA8l",
        "outputId": "ef261ecc-debd-4138-857d-21f2e56434b7"
      },
      "outputs": [
        {
          "output_type": "execute_result",
          "data": {
            "text/plain": [
              "DatasetDict({\n",
              "    train: Dataset({\n",
              "        features: ['sentence', 'label'],\n",
              "        num_rows: 18\n",
              "    })\n",
              "    validation: Dataset({\n",
              "        features: ['sentence', 'label'],\n",
              "        num_rows: 6\n",
              "    })\n",
              "    test: Dataset({\n",
              "        features: ['sentence', 'label'],\n",
              "        num_rows: 6\n",
              "    })\n",
              "})"
            ]
          },
          "metadata": {},
          "execution_count": 9
        }
      ],
      "source": [
        "#Load the data dataset_clean\n",
        "from datasets import load_from_disk\n",
        "dataset_clean = load_from_disk(dataset_clean_path)\n",
        "dataset_clean"
      ]
    },
    {
      "cell_type": "markdown",
      "metadata": {
        "id": "p9kyy8v_tjkY"
      },
      "source": [
        "Let's create a list that contains the labels, as well as 2 dictionaries that map labels to integers and back."
      ]
    },
    {
      "cell_type": "code",
      "execution_count": null,
      "metadata": {
        "colab": {
          "base_uri": "https://localhost:8080/"
        },
        "id": "ugIFhNg3trOP",
        "outputId": "ee38d4c0-2ddb-434e-8793-2505d6a7aebb"
      },
      "outputs": [
        {
          "output_type": "execute_result",
          "data": {
            "text/plain": [
              "['Anti-Money Laundering',\n",
              " 'Broker-Dealer Recruitment Disclosures: Complying with FINRA Rule 2273',\n",
              " 'Business Continuity Planning',\n",
              " 'Subordination Agreements']"
            ]
          },
          "metadata": {},
          "execution_count": 10
        }
      ],
      "source": [
        "labels = list(sorted(set(dataset_clean['train']['label'])))\n",
        "id2label = {idx:label for idx, label in enumerate(labels)}\n",
        "label2id = {label:idx for idx, label in enumerate(labels)}\n",
        "labels"
      ]
    },
    {
      "cell_type": "markdown",
      "source": [
        "The dataset consists of 4 labels."
      ],
      "metadata": {
        "id": "eqmzyoepYG5I"
      }
    },
    {
      "cell_type": "markdown",
      "metadata": {
        "id": "vN3TNouDhh0r"
      },
      "source": [
        "## Preprocess data\n",
        "\n",
        "\n",
        "Since the model don't expect text as direct input, but rather `input_ids`, etc., we tokenize the text using the tokenizer. Here I'm using the `AutoTokenizer` API, which will automatically load the appropriate tokenizer based on the checkpoint on the hub."
      ]
    },
    {
      "cell_type": "code",
      "execution_count": null,
      "metadata": {
        "id": "ImOVtxX5jafN",
        "colab": {
          "base_uri": "https://localhost:8080/",
          "height": 145,
          "referenced_widgets": [
            "b1d8561886bd48bcbb43460d2f2e52e0",
            "b0a5a627e852499685925ce9500be5d1",
            "0c8e67f2b64a4a4a9e4c45b71b5b9b2a",
            "8a7c4d03a26c47c48d5be2e7a58da7fd",
            "52b717bae1224a4aa084347c6863eb59",
            "a33db78b1f164e7cbb6f47bbf30a6cdf",
            "a5d483e401964317aa0099bc61728a39",
            "f49f1af044834d1d8af5d8f7297ff67b",
            "7eb5d4c417404f54a3e6e335f7b235dc",
            "8fd3a7945d4540b1bb7d88e618909b46",
            "86fcdef7a1e34ec2a96922afa6cf92df",
            "39cc2f4378c9451caf5e1822f2b4b263",
            "cdc8bd08aaf84a0eaa95d91bc6f54244",
            "5d6058748aa4491aad2ef12c9dfa4b65",
            "710f4f42b1764f838b1c11b79f6c6133",
            "855f9fbff25a49a0baae4eb95e6ad49f",
            "4d3cd0f41d0f45b7844c3da277d0ea0f",
            "f9ea24448151479cb308bc96345e3bba",
            "3a2b0c39682843789b4b039f66f0e012",
            "0a1c8251f6ee4b0594a4d461dd08073a",
            "a207c656de8b43a6916bc9ae5413b31f",
            "a39a5e36b308432b9a11b59c8590c926",
            "451d1fba80a2485e82d062d578d2c665",
            "e3a92975515c4659b975198394eb7f96",
            "0f929103b69c4d6694a024367d596e3f",
            "78ebcc195f9e48d3ac9f0140e8ccf014",
            "28e8c070ff9147e684ef7f934ee5eb37",
            "f1f6b3a761ef4902ba28ef01bb3907d1",
            "a7d4a73cd6e04097942472edf905ef19",
            "598a7fea9b1f4789971710949691e7a9",
            "7295a24e01d9413b8a7de0aeb395e78e",
            "a6e6204b7b204392acd8d33b8bc5fb7a",
            "d31646b25d43420095edfd4649cae5c6",
            "f862ab0990614f56ad9b2736b9ffe7a1",
            "d088e812a3c24949b21de525ebe14aea",
            "7b71d18e163642309f618240b693bbef",
            "cfad02cf4f644a0fb30d1d90213bc5db",
            "675743c686694cad9d78c1862447ed68",
            "50a136d144864ed6b83fc15cad41f8a9",
            "84e132bf9d9a4f3d8424f28e8564a5b6",
            "d1816679dbe54edba3f5ec4746051ce4",
            "78cd1db8ac2446279c5e26aa378e2f12",
            "0648f7bfc5d64a608e13b02b65d1f338",
            "6b777194786c4d838e88b8cd9cbd358c"
          ]
        },
        "outputId": "b17bfa57-8511-487a-e031-e8c6b332a38c"
      },
      "outputs": [
        {
          "output_type": "display_data",
          "data": {
            "text/plain": [
              "Downloading:   0%|          | 0.00/29.0 [00:00<?, ?B/s]"
            ],
            "application/vnd.jupyter.widget-view+json": {
              "version_major": 2,
              "version_minor": 0,
              "model_id": "b1d8561886bd48bcbb43460d2f2e52e0"
            }
          },
          "metadata": {}
        },
        {
          "output_type": "display_data",
          "data": {
            "text/plain": [
              "Downloading:   0%|          | 0.00/570 [00:00<?, ?B/s]"
            ],
            "application/vnd.jupyter.widget-view+json": {
              "version_major": 2,
              "version_minor": 0,
              "model_id": "39cc2f4378c9451caf5e1822f2b4b263"
            }
          },
          "metadata": {}
        },
        {
          "output_type": "display_data",
          "data": {
            "text/plain": [
              "Downloading:   0%|          | 0.00/208k [00:00<?, ?B/s]"
            ],
            "application/vnd.jupyter.widget-view+json": {
              "version_major": 2,
              "version_minor": 0,
              "model_id": "451d1fba80a2485e82d062d578d2c665"
            }
          },
          "metadata": {}
        },
        {
          "output_type": "display_data",
          "data": {
            "text/plain": [
              "Downloading:   0%|          | 0.00/426k [00:00<?, ?B/s]"
            ],
            "application/vnd.jupyter.widget-view+json": {
              "version_major": 2,
              "version_minor": 0,
              "model_id": "f862ab0990614f56ad9b2736b9ffe7a1"
            }
          },
          "metadata": {}
        }
      ],
      "source": [
        "from transformers import AutoTokenizer\n",
        "tokenizer = AutoTokenizer.from_pretrained('bert-base-cased',num_labels=len(labels))"
      ]
    },
    {
      "cell_type": "code",
      "execution_count": null,
      "metadata": {
        "id": "ceirRXfx2J8-"
      },
      "outputs": [],
      "source": [
        "import numpy as np\n",
        "def preprocess_data(examples):\n",
        "  # take a batch of texts\n",
        "  text = examples[\"sentence\"]\n",
        "  # encode them\n",
        "  encoding = tokenizer(text, padding=\"max_length\", truncation=True)\n",
        "  # add labels\n",
        "  encoding[\"labels\"] = [label2id[i] for i in examples[\"label\"]]\n",
        "  return encoding"
      ]
    },
    {
      "cell_type": "code",
      "execution_count": null,
      "metadata": {
        "colab": {
          "base_uri": "https://localhost:8080/"
        },
        "id": "h_UqiFYw4A7K",
        "outputId": "c0434922-b0bb-4d49-aad9-e20d8c7afc34"
      },
      "outputs": [
        {
          "output_type": "stream",
          "name": "stderr",
          "text": [
            "Loading cached processed dataset at /content/drive/MyDrive/Full_Code/FINRA/Strategy1/dataset_clean/train/cache-d9729ee28af0b112.arrow\n",
            "Loading cached processed dataset at /content/drive/MyDrive/Full_Code/FINRA/Strategy1/dataset_clean/validation/cache-f8b9a006c6c4087f.arrow\n",
            "Loading cached processed dataset at /content/drive/MyDrive/Full_Code/FINRA/Strategy1/dataset_clean/test/cache-f904205b43df03c2.arrow\n"
          ]
        }
      ],
      "source": [
        "encoded_dataset = dataset_clean.map(preprocess_data, batched=True, remove_columns = ['sentence', 'label'])"
      ]
    },
    {
      "cell_type": "code",
      "execution_count": null,
      "metadata": {
        "colab": {
          "base_uri": "https://localhost:8080/"
        },
        "id": "I0hzVIE4ieS6",
        "outputId": "c27a457b-d07e-4d9a-a4b9-a87b6950b055"
      },
      "outputs": [
        {
          "output_type": "stream",
          "name": "stdout",
          "text": [
            "dict_keys(['input_ids', 'token_type_ids', 'attention_mask', 'labels'])\n"
          ]
        }
      ],
      "source": [
        "example = encoded_dataset['train'][0]\n",
        "print(example.keys())"
      ]
    },
    {
      "cell_type": "code",
      "execution_count": null,
      "metadata": {
        "colab": {
          "base_uri": "https://localhost:8080/",
          "height": 165
        },
        "id": "fDjhGfaGoOMi",
        "outputId": "9d3816a4-3265-4f39-85e7-7260547b4441"
      },
      "outputs": [
        {
          "output_type": "execute_result",
          "data": {
            "text/plain": [
              "'[CLS] ( d ) Designate and identify to FINRA ( by name, title, mailing address, e - mail address, telephone number, and facsimile number ) an individual or individuals responsible for implementing and monitoring the day - to - day operations and internal controls of the program ( such individual or individuals must be an associated person of the capital acquisition broker ) and provide prompt notification to FINRA regarding any change in such designation ( s ). [SEP] [PAD] [PAD] [PAD] [PAD] [PAD] [PAD] [PAD] [PAD] [PAD] [PAD] [PAD] [PAD] [PAD] [PAD] [PAD] [PAD] [PAD] [PAD] [PAD] [PAD] [PAD] [PAD] [PAD] [PAD] [PAD] [PAD] [PAD] [PAD] [PAD] [PAD] [PAD] [PAD] [PAD] [PAD] [PAD] [PAD] [PAD] [PAD] [PAD] [PAD] [PAD] [PAD] [PAD] [PAD] [PAD] [PAD] [PAD] [PAD] [PAD] [PAD] [PAD] [PAD] [PAD] [PAD] [PAD] [PAD] [PAD] [PAD] [PAD] [PAD] [PAD] [PAD] [PAD] [PAD] [PAD] [PAD] [PAD] [PAD] [PAD] [PAD] [PAD] [PAD] [PAD] [PAD] [PAD] [PAD] [PAD] [PAD] [PAD] [PAD] [PAD] [PAD] [PAD] [PAD] [PAD] [PAD] [PAD] [PAD] [PAD] [PAD] [PAD] [PAD] [PAD] [PAD] [PAD] [PAD] [PAD] [PAD] [PAD] [PAD] [PAD] [PAD] [PAD] [PAD] [PAD] [PAD] [PAD] [PAD] [PAD] [PAD] [PAD] [PAD] [PAD] [PAD] [PAD] [PAD] [PAD] [PAD] [PAD] [PAD] [PAD] [PAD] [PAD] [PAD] [PAD] [PAD] [PAD] [PAD] [PAD] [PAD] [PAD] [PAD] [PAD] [PAD] [PAD] [PAD] [PAD] [PAD] [PAD] [PAD] [PAD] [PAD] [PAD] [PAD] [PAD] [PAD] [PAD] [PAD] [PAD] [PAD] [PAD] [PAD] [PAD] [PAD] [PAD] [PAD] [PAD] [PAD] [PAD] [PAD] [PAD] [PAD] [PAD] [PAD] [PAD] [PAD] [PAD] [PAD] [PAD] [PAD] [PAD] [PAD] [PAD] [PAD] [PAD] [PAD] [PAD] [PAD] [PAD] [PAD] [PAD] [PAD] [PAD] [PAD] [PAD] [PAD] [PAD] [PAD] [PAD] [PAD] [PAD] [PAD] [PAD] [PAD] [PAD] [PAD] [PAD] [PAD] [PAD] [PAD] [PAD] [PAD] [PAD] [PAD] [PAD] [PAD] [PAD] [PAD] [PAD] [PAD] [PAD] [PAD] [PAD] [PAD] [PAD] [PAD] [PAD] [PAD] [PAD] [PAD] [PAD] [PAD] [PAD] [PAD] [PAD] [PAD] [PAD] [PAD] [PAD] [PAD] [PAD] [PAD] [PAD] [PAD] [PAD] [PAD] [PAD] [PAD] [PAD] [PAD] [PAD] [PAD] [PAD] [PAD] [PAD] [PAD] [PAD] [PAD] [PAD] [PAD] [PAD] [PAD] [PAD] [PAD] [PAD] [PAD] [PAD] [PAD] [PAD] [PAD] [PAD] [PAD] [PAD] [PAD] [PAD] [PAD] [PAD] [PAD] [PAD] [PAD] [PAD] [PAD] [PAD] [PAD] [PAD] [PAD] [PAD] [PAD] [PAD] [PAD] [PAD] [PAD] [PAD] [PAD] [PAD] [PAD] [PAD] [PAD] [PAD] [PAD] [PAD] [PAD] [PAD] [PAD] [PAD] [PAD] [PAD] [PAD] [PAD] [PAD] [PAD] [PAD] [PAD] [PAD] [PAD] [PAD] [PAD] [PAD] [PAD] [PAD] [PAD] [PAD] [PAD] [PAD] [PAD] [PAD] [PAD] [PAD] [PAD] [PAD] [PAD] [PAD] [PAD] [PAD] [PAD] [PAD] [PAD] [PAD] [PAD] [PAD] [PAD] [PAD] [PAD] [PAD] [PAD] [PAD] [PAD] [PAD] [PAD] [PAD] [PAD] [PAD] [PAD] [PAD] [PAD] [PAD] [PAD] [PAD] [PAD] [PAD] [PAD] [PAD] [PAD] [PAD] [PAD] [PAD] [PAD] [PAD] [PAD] [PAD] [PAD] [PAD] [PAD] [PAD] [PAD] [PAD] [PAD] [PAD] [PAD] [PAD] [PAD] [PAD] [PAD] [PAD] [PAD] [PAD] [PAD] [PAD] [PAD] [PAD] [PAD] [PAD] [PAD] [PAD] [PAD] [PAD] [PAD] [PAD] [PAD] [PAD] [PAD] [PAD] [PAD] [PAD] [PAD] [PAD] [PAD] [PAD] [PAD] [PAD] [PAD] [PAD] [PAD] [PAD] [PAD] [PAD] [PAD] [PAD] [PAD] [PAD] [PAD] [PAD] [PAD] [PAD] [PAD] [PAD]'"
            ],
            "application/vnd.google.colaboratory.intrinsic+json": {
              "type": "string"
            }
          },
          "metadata": {},
          "execution_count": 15
        }
      ],
      "source": [
        "tokenizer.decode(example['input_ids'])"
      ]
    },
    {
      "cell_type": "code",
      "execution_count": null,
      "metadata": {
        "colab": {
          "base_uri": "https://localhost:8080/"
        },
        "id": "ty4hTXCfoORS",
        "outputId": "eac69a4c-7fc3-4bb4-b184-45004d79f80e"
      },
      "outputs": [
        {
          "output_type": "execute_result",
          "data": {
            "text/plain": [
              "0"
            ]
          },
          "metadata": {},
          "execution_count": 16
        }
      ],
      "source": [
        "example['labels']"
      ]
    },
    {
      "cell_type": "code",
      "execution_count": null,
      "metadata": {
        "colab": {
          "base_uri": "https://localhost:8080/"
        },
        "id": "Z3DTGXxKpgrh",
        "outputId": "4111db37-f544-4728-a481-185ddde23f56"
      },
      "outputs": [
        {
          "output_type": "execute_result",
          "data": {
            "text/plain": [
              "DatasetDict({\n",
              "    train: Dataset({\n",
              "        features: ['input_ids', 'token_type_ids', 'attention_mask', 'labels'],\n",
              "        num_rows: 18\n",
              "    })\n",
              "    validation: Dataset({\n",
              "        features: ['input_ids', 'token_type_ids', 'attention_mask', 'labels'],\n",
              "        num_rows: 6\n",
              "    })\n",
              "    test: Dataset({\n",
              "        features: ['input_ids', 'token_type_ids', 'attention_mask', 'labels'],\n",
              "        num_rows: 6\n",
              "    })\n",
              "})"
            ]
          },
          "metadata": {},
          "execution_count": 17
        }
      ],
      "source": [
        "encoded_dataset"
      ]
    },
    {
      "cell_type": "markdown",
      "source": [
        "Set the format of encoded_dataset to PyTorch tensors. This will turn the training, validation and test sets into standard PyTorch [datasets]"
      ],
      "metadata": {
        "id": "9u9Q4vPoizkF"
      }
    },
    {
      "cell_type": "code",
      "execution_count": null,
      "metadata": {
        "id": "zouV0Nr9oOWN"
      },
      "outputs": [],
      "source": [
        "encoded_dataset.set_format(\"torch\")"
      ]
    },
    {
      "cell_type": "markdown",
      "metadata": {
        "id": "9n8yGtvdsckK"
      },
      "source": [
        "## Define model\n",
        "\n",
        "Define a model that includes a pre-trained base (i.e. the weights from the bert-base-cased) which is loaded, with a random initialized classification head (linear layer) on top. Fine-tune this head, together with the pre-trained base on a labeled dataset. Set the id2label and label2id mappings to make sure the output layer has `len(labels)` output neurons."
      ]
    },
    {
      "cell_type": "code",
      "execution_count": null,
      "metadata": {
        "colab": {
          "base_uri": "https://localhost:8080/",
          "height": 161,
          "referenced_widgets": [
            "f4122298e91d4397b3b9a20f03285f05",
            "31448ed4b9e541bd9fe76d0515318e90",
            "bbf26be9489c4caaa2af76db7335ddaa",
            "0c4cba7660e24359ba922ecbcbac4fa8",
            "337325ca07584a918a880d6903e96957",
            "792b321616d64bf7966cc0a4e893f98e",
            "e40a764acba84792867a0601da992804",
            "af6112f5dcd84785aae7e3eebf8b3e25",
            "712b76f324234ca2bf4b63fb1c1a615f",
            "2c974fb907b64f1784d0b4749516c291",
            "4115cbdb7b074c8a8b1c01e8a5fe0c20"
          ]
        },
        "id": "PA49REZ2srhp",
        "outputId": "9bcc46e4-fbd3-4f6d-e9ae-c0a7f203ff56"
      },
      "outputs": [
        {
          "output_type": "display_data",
          "data": {
            "text/plain": [
              "Downloading:   0%|          | 0.00/416M [00:00<?, ?B/s]"
            ],
            "application/vnd.jupyter.widget-view+json": {
              "version_major": 2,
              "version_minor": 0,
              "model_id": "f4122298e91d4397b3b9a20f03285f05"
            }
          },
          "metadata": {}
        },
        {
          "output_type": "stream",
          "name": "stderr",
          "text": [
            "Some weights of the model checkpoint at bert-base-cased were not used when initializing BertForSequenceClassification: ['cls.predictions.transform.dense.weight', 'cls.predictions.transform.dense.bias', 'cls.seq_relationship.weight', 'cls.predictions.bias', 'cls.predictions.decoder.weight', 'cls.predictions.transform.LayerNorm.weight', 'cls.seq_relationship.bias', 'cls.predictions.transform.LayerNorm.bias']\n",
            "- This IS expected if you are initializing BertForSequenceClassification from the checkpoint of a model trained on another task or with another architecture (e.g. initializing a BertForSequenceClassification model from a BertForPreTraining model).\n",
            "- This IS NOT expected if you are initializing BertForSequenceClassification from the checkpoint of a model that you expect to be exactly identical (initializing a BertForSequenceClassification model from a BertForSequenceClassification model).\n",
            "Some weights of BertForSequenceClassification were not initialized from the model checkpoint at bert-base-cased and are newly initialized: ['classifier.bias', 'classifier.weight']\n",
            "You should probably TRAIN this model on a down-stream task to be able to use it for predictions and inference.\n"
          ]
        }
      ],
      "source": [
        "from transformers import AutoModelForSequenceClassification\n",
        "model = AutoModelForSequenceClassification.from_pretrained(\"bert-base-cased\",\n",
        "                                                           num_labels=len(labels),\n",
        "                                                           id2label=id2label,\n",
        "                                                           label2id=label2id)"
      ]
    },
    {
      "cell_type": "markdown",
      "metadata": {
        "id": "MvkxV0__tFmP"
      },
      "source": [
        "## Train the model!\n",
        "\n",
        "We are going to train the model using native Pytorch. This requires us to define 2 things: \n",
        "\n",
        "* `DataLoader`:Create a DataLoader for your training, validation and test datasets so you can iterate over batches of data.\n",
        "* `Optimizer`\n",
        "* `Learning rate scheduler`\n",
        "\n"
      ]
    },
    {
      "cell_type": "code",
      "execution_count": null,
      "metadata": {
        "id": "NWt_8vCltFII"
      },
      "outputs": [],
      "source": [
        "fix_seed = 42\n",
        "fixed_batch_size = 6\n",
        "fixed_learning_rate = 2e-5\n",
        "num_epochs = 5"
      ]
    },
    {
      "cell_type": "code",
      "execution_count": null,
      "metadata": {
        "id": "fyRYkf1oppyk"
      },
      "outputs": [],
      "source": [
        "#DataLoader\n",
        "from torch.utils.data import DataLoader\n",
        "\n",
        "train_dataloader = DataLoader(encoded_dataset[\"train\"], batch_size = fixed_batch_size)\n",
        "eval_dataloader = DataLoader(encoded_dataset[\"validation\"], batch_size = fixed_batch_size)"
      ]
    },
    {
      "cell_type": "code",
      "execution_count": null,
      "metadata": {
        "id": "J7EIa4d2sao5"
      },
      "outputs": [],
      "source": [
        "#Optimizer\n",
        "from torch.optim import AdamW\n",
        "optimizer = AdamW(model.parameters(),lr = fixed_learning_rate)\n"
      ]
    },
    {
      "cell_type": "code",
      "execution_count": null,
      "metadata": {
        "id": "rW_hl8-ps0JJ"
      },
      "outputs": [],
      "source": [
        "#Learning rate scheduler \n",
        "\n",
        "from transformers import get_scheduler\n",
        "\n",
        "num_training_steps = num_epochs * len(train_dataloader)\n",
        "\n",
        "lr_scheduler = get_scheduler(name=\"linear\", optimizer = optimizer, num_warmup_steps=0, num_training_steps=num_training_steps)"
      ]
    },
    {
      "cell_type": "markdown",
      "metadata": {
        "id": "M3WoGSMOuEqA"
      },
      "source": [
        "Compute accuracy, precision, recall, F-measure while training. For this, define the multi_class_metric function."
      ]
    },
    {
      "cell_type": "code",
      "execution_count": null,
      "metadata": {
        "id": "PNjiVr3wgMrF"
      },
      "outputs": [],
      "source": [
        "# Function to calculate the accuracy, precision, recall, F-measure of our predictions vs labels\n",
        "from sklearn.metrics import precision_recall_fscore_support\n",
        "\n",
        "def multi_class_metric(labels,preds):\n",
        "    pred_flat = preds.flatten()\n",
        "    labels_flat = labels.flatten()\n",
        "    accuracy = np.sum(pred_flat == labels_flat) / len(labels_flat)\n",
        "    precision_macro, recall_macro, f1_macro_average,_ = precision_recall_fscore_support(labels,preds,average='macro',zero_division = 0)\n",
        "    # return as dictionary\n",
        "    metrics = {\n",
        "               'f1': f1_macro_average,\n",
        "               'accuracy': accuracy,\n",
        "               'precision': precision_macro,\n",
        "               'recall': recall_macro\n",
        "               }\n",
        "    return metrics"
      ]
    },
    {
      "cell_type": "code",
      "execution_count": null,
      "metadata": {
        "colab": {
          "base_uri": "https://localhost:8080/"
        },
        "id": "TJ0sp06fDAX0",
        "outputId": "351103f4-7145-47f8-92d0-acf6b04ece08"
      },
      "outputs": [
        {
          "output_type": "execute_result",
          "data": {
            "text/plain": [
              "BertForSequenceClassification(\n",
              "  (bert): BertModel(\n",
              "    (embeddings): BertEmbeddings(\n",
              "      (word_embeddings): Embedding(28996, 768, padding_idx=0)\n",
              "      (position_embeddings): Embedding(512, 768)\n",
              "      (token_type_embeddings): Embedding(2, 768)\n",
              "      (LayerNorm): LayerNorm((768,), eps=1e-12, elementwise_affine=True)\n",
              "      (dropout): Dropout(p=0.1, inplace=False)\n",
              "    )\n",
              "    (encoder): BertEncoder(\n",
              "      (layer): ModuleList(\n",
              "        (0): BertLayer(\n",
              "          (attention): BertAttention(\n",
              "            (self): BertSelfAttention(\n",
              "              (query): Linear(in_features=768, out_features=768, bias=True)\n",
              "              (key): Linear(in_features=768, out_features=768, bias=True)\n",
              "              (value): Linear(in_features=768, out_features=768, bias=True)\n",
              "              (dropout): Dropout(p=0.1, inplace=False)\n",
              "            )\n",
              "            (output): BertSelfOutput(\n",
              "              (dense): Linear(in_features=768, out_features=768, bias=True)\n",
              "              (LayerNorm): LayerNorm((768,), eps=1e-12, elementwise_affine=True)\n",
              "              (dropout): Dropout(p=0.1, inplace=False)\n",
              "            )\n",
              "          )\n",
              "          (intermediate): BertIntermediate(\n",
              "            (dense): Linear(in_features=768, out_features=3072, bias=True)\n",
              "            (intermediate_act_fn): GELUActivation()\n",
              "          )\n",
              "          (output): BertOutput(\n",
              "            (dense): Linear(in_features=3072, out_features=768, bias=True)\n",
              "            (LayerNorm): LayerNorm((768,), eps=1e-12, elementwise_affine=True)\n",
              "            (dropout): Dropout(p=0.1, inplace=False)\n",
              "          )\n",
              "        )\n",
              "        (1): BertLayer(\n",
              "          (attention): BertAttention(\n",
              "            (self): BertSelfAttention(\n",
              "              (query): Linear(in_features=768, out_features=768, bias=True)\n",
              "              (key): Linear(in_features=768, out_features=768, bias=True)\n",
              "              (value): Linear(in_features=768, out_features=768, bias=True)\n",
              "              (dropout): Dropout(p=0.1, inplace=False)\n",
              "            )\n",
              "            (output): BertSelfOutput(\n",
              "              (dense): Linear(in_features=768, out_features=768, bias=True)\n",
              "              (LayerNorm): LayerNorm((768,), eps=1e-12, elementwise_affine=True)\n",
              "              (dropout): Dropout(p=0.1, inplace=False)\n",
              "            )\n",
              "          )\n",
              "          (intermediate): BertIntermediate(\n",
              "            (dense): Linear(in_features=768, out_features=3072, bias=True)\n",
              "            (intermediate_act_fn): GELUActivation()\n",
              "          )\n",
              "          (output): BertOutput(\n",
              "            (dense): Linear(in_features=3072, out_features=768, bias=True)\n",
              "            (LayerNorm): LayerNorm((768,), eps=1e-12, elementwise_affine=True)\n",
              "            (dropout): Dropout(p=0.1, inplace=False)\n",
              "          )\n",
              "        )\n",
              "        (2): BertLayer(\n",
              "          (attention): BertAttention(\n",
              "            (self): BertSelfAttention(\n",
              "              (query): Linear(in_features=768, out_features=768, bias=True)\n",
              "              (key): Linear(in_features=768, out_features=768, bias=True)\n",
              "              (value): Linear(in_features=768, out_features=768, bias=True)\n",
              "              (dropout): Dropout(p=0.1, inplace=False)\n",
              "            )\n",
              "            (output): BertSelfOutput(\n",
              "              (dense): Linear(in_features=768, out_features=768, bias=True)\n",
              "              (LayerNorm): LayerNorm((768,), eps=1e-12, elementwise_affine=True)\n",
              "              (dropout): Dropout(p=0.1, inplace=False)\n",
              "            )\n",
              "          )\n",
              "          (intermediate): BertIntermediate(\n",
              "            (dense): Linear(in_features=768, out_features=3072, bias=True)\n",
              "            (intermediate_act_fn): GELUActivation()\n",
              "          )\n",
              "          (output): BertOutput(\n",
              "            (dense): Linear(in_features=3072, out_features=768, bias=True)\n",
              "            (LayerNorm): LayerNorm((768,), eps=1e-12, elementwise_affine=True)\n",
              "            (dropout): Dropout(p=0.1, inplace=False)\n",
              "          )\n",
              "        )\n",
              "        (3): BertLayer(\n",
              "          (attention): BertAttention(\n",
              "            (self): BertSelfAttention(\n",
              "              (query): Linear(in_features=768, out_features=768, bias=True)\n",
              "              (key): Linear(in_features=768, out_features=768, bias=True)\n",
              "              (value): Linear(in_features=768, out_features=768, bias=True)\n",
              "              (dropout): Dropout(p=0.1, inplace=False)\n",
              "            )\n",
              "            (output): BertSelfOutput(\n",
              "              (dense): Linear(in_features=768, out_features=768, bias=True)\n",
              "              (LayerNorm): LayerNorm((768,), eps=1e-12, elementwise_affine=True)\n",
              "              (dropout): Dropout(p=0.1, inplace=False)\n",
              "            )\n",
              "          )\n",
              "          (intermediate): BertIntermediate(\n",
              "            (dense): Linear(in_features=768, out_features=3072, bias=True)\n",
              "            (intermediate_act_fn): GELUActivation()\n",
              "          )\n",
              "          (output): BertOutput(\n",
              "            (dense): Linear(in_features=3072, out_features=768, bias=True)\n",
              "            (LayerNorm): LayerNorm((768,), eps=1e-12, elementwise_affine=True)\n",
              "            (dropout): Dropout(p=0.1, inplace=False)\n",
              "          )\n",
              "        )\n",
              "        (4): BertLayer(\n",
              "          (attention): BertAttention(\n",
              "            (self): BertSelfAttention(\n",
              "              (query): Linear(in_features=768, out_features=768, bias=True)\n",
              "              (key): Linear(in_features=768, out_features=768, bias=True)\n",
              "              (value): Linear(in_features=768, out_features=768, bias=True)\n",
              "              (dropout): Dropout(p=0.1, inplace=False)\n",
              "            )\n",
              "            (output): BertSelfOutput(\n",
              "              (dense): Linear(in_features=768, out_features=768, bias=True)\n",
              "              (LayerNorm): LayerNorm((768,), eps=1e-12, elementwise_affine=True)\n",
              "              (dropout): Dropout(p=0.1, inplace=False)\n",
              "            )\n",
              "          )\n",
              "          (intermediate): BertIntermediate(\n",
              "            (dense): Linear(in_features=768, out_features=3072, bias=True)\n",
              "            (intermediate_act_fn): GELUActivation()\n",
              "          )\n",
              "          (output): BertOutput(\n",
              "            (dense): Linear(in_features=3072, out_features=768, bias=True)\n",
              "            (LayerNorm): LayerNorm((768,), eps=1e-12, elementwise_affine=True)\n",
              "            (dropout): Dropout(p=0.1, inplace=False)\n",
              "          )\n",
              "        )\n",
              "        (5): BertLayer(\n",
              "          (attention): BertAttention(\n",
              "            (self): BertSelfAttention(\n",
              "              (query): Linear(in_features=768, out_features=768, bias=True)\n",
              "              (key): Linear(in_features=768, out_features=768, bias=True)\n",
              "              (value): Linear(in_features=768, out_features=768, bias=True)\n",
              "              (dropout): Dropout(p=0.1, inplace=False)\n",
              "            )\n",
              "            (output): BertSelfOutput(\n",
              "              (dense): Linear(in_features=768, out_features=768, bias=True)\n",
              "              (LayerNorm): LayerNorm((768,), eps=1e-12, elementwise_affine=True)\n",
              "              (dropout): Dropout(p=0.1, inplace=False)\n",
              "            )\n",
              "          )\n",
              "          (intermediate): BertIntermediate(\n",
              "            (dense): Linear(in_features=768, out_features=3072, bias=True)\n",
              "            (intermediate_act_fn): GELUActivation()\n",
              "          )\n",
              "          (output): BertOutput(\n",
              "            (dense): Linear(in_features=3072, out_features=768, bias=True)\n",
              "            (LayerNorm): LayerNorm((768,), eps=1e-12, elementwise_affine=True)\n",
              "            (dropout): Dropout(p=0.1, inplace=False)\n",
              "          )\n",
              "        )\n",
              "        (6): BertLayer(\n",
              "          (attention): BertAttention(\n",
              "            (self): BertSelfAttention(\n",
              "              (query): Linear(in_features=768, out_features=768, bias=True)\n",
              "              (key): Linear(in_features=768, out_features=768, bias=True)\n",
              "              (value): Linear(in_features=768, out_features=768, bias=True)\n",
              "              (dropout): Dropout(p=0.1, inplace=False)\n",
              "            )\n",
              "            (output): BertSelfOutput(\n",
              "              (dense): Linear(in_features=768, out_features=768, bias=True)\n",
              "              (LayerNorm): LayerNorm((768,), eps=1e-12, elementwise_affine=True)\n",
              "              (dropout): Dropout(p=0.1, inplace=False)\n",
              "            )\n",
              "          )\n",
              "          (intermediate): BertIntermediate(\n",
              "            (dense): Linear(in_features=768, out_features=3072, bias=True)\n",
              "            (intermediate_act_fn): GELUActivation()\n",
              "          )\n",
              "          (output): BertOutput(\n",
              "            (dense): Linear(in_features=3072, out_features=768, bias=True)\n",
              "            (LayerNorm): LayerNorm((768,), eps=1e-12, elementwise_affine=True)\n",
              "            (dropout): Dropout(p=0.1, inplace=False)\n",
              "          )\n",
              "        )\n",
              "        (7): BertLayer(\n",
              "          (attention): BertAttention(\n",
              "            (self): BertSelfAttention(\n",
              "              (query): Linear(in_features=768, out_features=768, bias=True)\n",
              "              (key): Linear(in_features=768, out_features=768, bias=True)\n",
              "              (value): Linear(in_features=768, out_features=768, bias=True)\n",
              "              (dropout): Dropout(p=0.1, inplace=False)\n",
              "            )\n",
              "            (output): BertSelfOutput(\n",
              "              (dense): Linear(in_features=768, out_features=768, bias=True)\n",
              "              (LayerNorm): LayerNorm((768,), eps=1e-12, elementwise_affine=True)\n",
              "              (dropout): Dropout(p=0.1, inplace=False)\n",
              "            )\n",
              "          )\n",
              "          (intermediate): BertIntermediate(\n",
              "            (dense): Linear(in_features=768, out_features=3072, bias=True)\n",
              "            (intermediate_act_fn): GELUActivation()\n",
              "          )\n",
              "          (output): BertOutput(\n",
              "            (dense): Linear(in_features=3072, out_features=768, bias=True)\n",
              "            (LayerNorm): LayerNorm((768,), eps=1e-12, elementwise_affine=True)\n",
              "            (dropout): Dropout(p=0.1, inplace=False)\n",
              "          )\n",
              "        )\n",
              "        (8): BertLayer(\n",
              "          (attention): BertAttention(\n",
              "            (self): BertSelfAttention(\n",
              "              (query): Linear(in_features=768, out_features=768, bias=True)\n",
              "              (key): Linear(in_features=768, out_features=768, bias=True)\n",
              "              (value): Linear(in_features=768, out_features=768, bias=True)\n",
              "              (dropout): Dropout(p=0.1, inplace=False)\n",
              "            )\n",
              "            (output): BertSelfOutput(\n",
              "              (dense): Linear(in_features=768, out_features=768, bias=True)\n",
              "              (LayerNorm): LayerNorm((768,), eps=1e-12, elementwise_affine=True)\n",
              "              (dropout): Dropout(p=0.1, inplace=False)\n",
              "            )\n",
              "          )\n",
              "          (intermediate): BertIntermediate(\n",
              "            (dense): Linear(in_features=768, out_features=3072, bias=True)\n",
              "            (intermediate_act_fn): GELUActivation()\n",
              "          )\n",
              "          (output): BertOutput(\n",
              "            (dense): Linear(in_features=3072, out_features=768, bias=True)\n",
              "            (LayerNorm): LayerNorm((768,), eps=1e-12, elementwise_affine=True)\n",
              "            (dropout): Dropout(p=0.1, inplace=False)\n",
              "          )\n",
              "        )\n",
              "        (9): BertLayer(\n",
              "          (attention): BertAttention(\n",
              "            (self): BertSelfAttention(\n",
              "              (query): Linear(in_features=768, out_features=768, bias=True)\n",
              "              (key): Linear(in_features=768, out_features=768, bias=True)\n",
              "              (value): Linear(in_features=768, out_features=768, bias=True)\n",
              "              (dropout): Dropout(p=0.1, inplace=False)\n",
              "            )\n",
              "            (output): BertSelfOutput(\n",
              "              (dense): Linear(in_features=768, out_features=768, bias=True)\n",
              "              (LayerNorm): LayerNorm((768,), eps=1e-12, elementwise_affine=True)\n",
              "              (dropout): Dropout(p=0.1, inplace=False)\n",
              "            )\n",
              "          )\n",
              "          (intermediate): BertIntermediate(\n",
              "            (dense): Linear(in_features=768, out_features=3072, bias=True)\n",
              "            (intermediate_act_fn): GELUActivation()\n",
              "          )\n",
              "          (output): BertOutput(\n",
              "            (dense): Linear(in_features=3072, out_features=768, bias=True)\n",
              "            (LayerNorm): LayerNorm((768,), eps=1e-12, elementwise_affine=True)\n",
              "            (dropout): Dropout(p=0.1, inplace=False)\n",
              "          )\n",
              "        )\n",
              "        (10): BertLayer(\n",
              "          (attention): BertAttention(\n",
              "            (self): BertSelfAttention(\n",
              "              (query): Linear(in_features=768, out_features=768, bias=True)\n",
              "              (key): Linear(in_features=768, out_features=768, bias=True)\n",
              "              (value): Linear(in_features=768, out_features=768, bias=True)\n",
              "              (dropout): Dropout(p=0.1, inplace=False)\n",
              "            )\n",
              "            (output): BertSelfOutput(\n",
              "              (dense): Linear(in_features=768, out_features=768, bias=True)\n",
              "              (LayerNorm): LayerNorm((768,), eps=1e-12, elementwise_affine=True)\n",
              "              (dropout): Dropout(p=0.1, inplace=False)\n",
              "            )\n",
              "          )\n",
              "          (intermediate): BertIntermediate(\n",
              "            (dense): Linear(in_features=768, out_features=3072, bias=True)\n",
              "            (intermediate_act_fn): GELUActivation()\n",
              "          )\n",
              "          (output): BertOutput(\n",
              "            (dense): Linear(in_features=3072, out_features=768, bias=True)\n",
              "            (LayerNorm): LayerNorm((768,), eps=1e-12, elementwise_affine=True)\n",
              "            (dropout): Dropout(p=0.1, inplace=False)\n",
              "          )\n",
              "        )\n",
              "        (11): BertLayer(\n",
              "          (attention): BertAttention(\n",
              "            (self): BertSelfAttention(\n",
              "              (query): Linear(in_features=768, out_features=768, bias=True)\n",
              "              (key): Linear(in_features=768, out_features=768, bias=True)\n",
              "              (value): Linear(in_features=768, out_features=768, bias=True)\n",
              "              (dropout): Dropout(p=0.1, inplace=False)\n",
              "            )\n",
              "            (output): BertSelfOutput(\n",
              "              (dense): Linear(in_features=768, out_features=768, bias=True)\n",
              "              (LayerNorm): LayerNorm((768,), eps=1e-12, elementwise_affine=True)\n",
              "              (dropout): Dropout(p=0.1, inplace=False)\n",
              "            )\n",
              "          )\n",
              "          (intermediate): BertIntermediate(\n",
              "            (dense): Linear(in_features=768, out_features=3072, bias=True)\n",
              "            (intermediate_act_fn): GELUActivation()\n",
              "          )\n",
              "          (output): BertOutput(\n",
              "            (dense): Linear(in_features=3072, out_features=768, bias=True)\n",
              "            (LayerNorm): LayerNorm((768,), eps=1e-12, elementwise_affine=True)\n",
              "            (dropout): Dropout(p=0.1, inplace=False)\n",
              "          )\n",
              "        )\n",
              "      )\n",
              "    )\n",
              "    (pooler): BertPooler(\n",
              "      (dense): Linear(in_features=768, out_features=768, bias=True)\n",
              "      (activation): Tanh()\n",
              "    )\n",
              "  )\n",
              "  (dropout): Dropout(p=0.1, inplace=False)\n",
              "  (classifier): Linear(in_features=768, out_features=4, bias=True)\n",
              ")"
            ]
          },
          "metadata": {},
          "execution_count": 25
        }
      ],
      "source": [
        "model.to(device)"
      ]
    },
    {
      "cell_type": "markdown",
      "metadata": {
        "id": "BFvKwsQxY8j5"
      },
      "source": [
        "Create a function for formatting elapsed times as hh:mm:ss"
      ]
    },
    {
      "cell_type": "code",
      "execution_count": null,
      "metadata": {
        "id": "MJl3_XGYmH_3"
      },
      "outputs": [],
      "source": [
        "import time\n",
        "import datetime\n",
        "\n",
        "def format_time(elapsed):\n",
        "    '''\n",
        "    Takes a time in seconds and returns a string hh:mm:ss\n",
        "    '''\n",
        "    # Round to the nearest second.\n",
        "    elapsed_rounded = int(round((elapsed)))\n",
        "    \n",
        "    # Format as hh:mm:ss\n",
        "    return str(datetime.timedelta(seconds=elapsed_rounded))\n"
      ]
    },
    {
      "cell_type": "markdown",
      "metadata": {
        "id": "ChQzme1oXkPk"
      },
      "source": [
        "Create two directories to store **checkpoint** and **best_model**"
      ]
    },
    {
      "cell_type": "code",
      "execution_count": null,
      "metadata": {
        "id": "bcJJWtI0XCAn"
      },
      "outputs": [],
      "source": [
        "%mkdir /content/drive/MyDrive/Full_Code/FINRA/Strategy1/BERT/Epochs_5/checkpoint\n",
        "%mkdir /content/drive/MyDrive/Full_Code/FINRA/Strategy1/BERT/Epochs_5/best_model"
      ]
    },
    {
      "cell_type": "markdown",
      "metadata": {
        "id": "NIMRwdAiXa8h"
      },
      "source": [
        "Saving function\n",
        "**save_ckp** is created to save checkpoint, the latest one and the best one. This creates flexibility: either you are interested in the state of the latest checkpoint or the best checkpoint."
      ]
    },
    {
      "cell_type": "code",
      "execution_count": null,
      "metadata": {
        "id": "KKL5-NO9XQ9S"
      },
      "outputs": [],
      "source": [
        "import shutil\n",
        "def save_ckp(state, is_best, checkpoint_path, best_model_path):\n",
        "    \"\"\"\n",
        "    state: checkpoint we want to save\n",
        "    is_best: is this the best checkpoint; min validation loss\n",
        "    checkpoint_path: path to save checkpoint\n",
        "    best_model_path: path to save best model\n",
        "    \"\"\"\n",
        "    f_path = checkpoint_path\n",
        "    # save checkpoint data to the path given, checkpoint_path\n",
        "    torch.save(state, f_path)\n",
        "    # if it is a best model, min validation loss\n",
        "    if is_best:\n",
        "        best_fpath = best_model_path\n",
        "        # copy that checkpoint file to best path given, best_model_path\n",
        "        shutil.copyfile(f_path, best_fpath)"
      ]
    },
    {
      "cell_type": "markdown",
      "metadata": {
        "id": "lidMA6MA0UJf"
      },
      "source": [
        "Loading Function.\n",
        "\n",
        "**load_chkp** is created for loading model. \n",
        "\n",
        "It takes:\n",
        "*   location of the saved checkpoint\n",
        "*   model instance that you want to load the state to\n",
        "*   the optimizer"
      ]
    },
    {
      "cell_type": "code",
      "execution_count": null,
      "metadata": {
        "id": "dIhiLbox0Y7V"
      },
      "outputs": [],
      "source": [
        "def load_ckp(checkpoint_fpath, model, optimizer):\n",
        "    \"\"\"\n",
        "    checkpoint_path: path to save checkpoint\n",
        "    model: model that we want to load checkpoint parameters into       \n",
        "    optimizer: optimizer we defined in previous training\n",
        "    \"\"\"\n",
        "    # load check point\n",
        "    checkpoint = torch.load(checkpoint_fpath)\n",
        "    # initialize state_dict from checkpoint to model\n",
        "    model.load_state_dict(checkpoint['state_dict'])\n",
        "    # initialize optimizer from checkpoint to optimizer\n",
        "    optimizer.load_state_dict(checkpoint['optimizer'])\n",
        "    # initialize valid_loss_min from checkpoint to valid_loss_min\n",
        "    valid_loss_min = checkpoint['valid_loss_min']\n",
        "    # return model, optimizer, epoch value, min validation loss \n",
        "    return model, optimizer, checkpoint['epoch'], valid_loss_min\n"
      ]
    },
    {
      "cell_type": "markdown",
      "metadata": {
        "id": "2jq2NwPW2u2-"
      },
      "source": [
        "Start Training "
      ]
    },
    {
      "cell_type": "code",
      "execution_count": null,
      "metadata": {
        "colab": {
          "base_uri": "https://localhost:8080/",
          "height": 1000,
          "referenced_widgets": [
            "6b9a6db827b44681976b7f6247378679",
            "a2c619b511ea4685abeeab93334b3d4b",
            "ee43818301c247a888b067ca328f6d7f",
            "f0163018eaae43af8679f5073b47d2e6",
            "443c911da4684250842dba7839e03e54",
            "609d04e0d72f448994178aabc8d09881",
            "9757cfd9506f4f48888b5737571fb779",
            "4ca55be11a754ff797a8eb5b74e380f8",
            "bb4888db21d641e4b4b74fb1500afda1",
            "6396115d6a48404ba4d5a6ac4f430c8e",
            "66f1e8907b4f4f018441db4491034e17"
          ]
        },
        "id": "OnGI2PHjyFtK",
        "outputId": "4207d8a9-035e-4ea2-88b8-508bf4ecb83c"
      },
      "outputs": [
        {
          "output_type": "display_data",
          "data": {
            "text/plain": [
              "  0%|          | 0/5 [00:00<?, ?it/s]"
            ],
            "application/vnd.jupyter.widget-view+json": {
              "version_major": 2,
              "version_minor": 0,
              "model_id": "6b9a6db827b44681976b7f6247378679"
            }
          },
          "metadata": {}
        },
        {
          "output_type": "stream",
          "name": "stdout",
          "text": [
            "\n",
            "======== Epoch 1 / 5 ========\n",
            "Training...\n",
            " Training f1-score: 0.33\n",
            " Training Accuracy: 0.50\n",
            " Training Precision: 0.42\n",
            " Training Recall: 0.36\n",
            "  Average training loss: 1.32\n",
            "  Training epoch took: 0:00:01\n",
            "\n",
            "Running Validation...\n",
            " Validation f1-score: 0.12\n",
            " Validation Accuracy: 0.33\n",
            " Validation Precision: 0.25\n",
            " Validation Recall: 0.08\n",
            "  Validation Loss: 2.64\n",
            "  Validation took: 0:00:00\n",
            "Validation loss decreased (inf --> 2.642828).  Saving model ...\n",
            "\n",
            "======== Epoch 2 / 5 ========\n",
            "Training...\n",
            " Training f1-score: 0.23\n",
            " Training Accuracy: 0.39\n",
            " Training Precision: 0.33\n",
            " Training Recall: 0.20\n",
            "  Average training loss: 1.28\n",
            "  Training epoch took: 0:00:01\n",
            "\n",
            "Running Validation...\n",
            " Validation f1-score: 0.33\n",
            " Validation Accuracy: 0.50\n",
            " Validation Precision: 0.50\n",
            " Validation Recall: 0.25\n",
            "  Validation Loss: 2.65\n",
            "  Validation took: 0:00:00\n",
            "\n",
            "======== Epoch 3 / 5 ========\n",
            "Training...\n",
            " Training f1-score: 0.46\n",
            " Training Accuracy: 0.61\n",
            " Training Precision: 0.51\n",
            " Training Recall: 0.48\n",
            "  Average training loss: 1.16\n",
            "  Training epoch took: 0:00:01\n",
            "\n",
            "Running Validation...\n",
            " Validation f1-score: 0.33\n",
            " Validation Accuracy: 0.50\n",
            " Validation Precision: 0.50\n",
            " Validation Recall: 0.25\n",
            "  Validation Loss: 2.48\n",
            "  Validation took: 0:00:00\n",
            "Validation loss decreased (2.642828 --> 2.483863).  Saving model ...\n",
            "\n",
            "======== Epoch 4 / 5 ========\n",
            "Training...\n",
            " Training f1-score: 0.37\n",
            " Training Accuracy: 0.61\n",
            " Training Precision: 0.47\n",
            " Training Recall: 0.33\n",
            "  Average training loss: 1.08\n",
            "  Training epoch took: 0:00:01\n",
            "\n",
            "Running Validation...\n",
            " Validation f1-score: 0.58\n",
            " Validation Accuracy: 0.67\n",
            " Validation Precision: 0.62\n",
            " Validation Recall: 0.62\n",
            "  Validation Loss: 2.36\n",
            "  Validation took: 0:00:00\n",
            "Validation loss decreased (2.483863 --> 2.363443).  Saving model ...\n",
            "\n",
            "======== Epoch 5 / 5 ========\n",
            "Training...\n",
            " Training f1-score: 0.65\n",
            " Training Accuracy: 0.72\n",
            " Training Precision: 0.74\n",
            " Training Recall: 0.62\n",
            "  Average training loss: 1.05\n",
            "  Training epoch took: 0:00:01\n",
            "\n",
            "Running Validation...\n",
            " Validation f1-score: 0.58\n",
            " Validation Accuracy: 0.67\n",
            " Validation Precision: 0.62\n",
            " Validation Recall: 0.62\n",
            "  Validation Loss: 2.38\n",
            "  Validation took: 0:00:00\n",
            "\n",
            "Training complete!\n",
            "\n",
            "Total time taken on the training data across all epochs: 0:00:05 (h:mm:ss)\n",
            "Average time take per epoch on training data: 0:00:01 (h:mm:ss)\n",
            "\n",
            "Total time taken on the validation data across all epochs: 0:00:01 (h:mm:ss)\n",
            "Average time take per epoch on validation data: 0:00:00 (h:mm:ss)\n",
            "\n",
            "Total training time taken across all epochs [Validation and model saving time included]: 0:01:17 (h:mm:ss)\n",
            "Average time take per epoch [Validation and model saving time included]: 0:00:15 (h:mm:ss)\n"
          ]
        }
      ],
      "source": [
        "import random\n",
        "from tqdm.auto import tqdm\n",
        "\n",
        "\n",
        "# This training code is based on the `run_glue.py` script here:\n",
        "# https://github.com/huggingface/transformers/blob/5bfcd0485ece086ebcbed2d008813037968a9e58/examples/run_glue.py#L128\n",
        "\n",
        "\n",
        "random.seed(fix_seed)\n",
        "np.random.seed(fix_seed)\n",
        "torch.manual_seed(fix_seed)\n",
        "torch.cuda.manual_seed_all(fix_seed)\n",
        "\n",
        "\n",
        "\n",
        "# We'll store a number of quantities such as training and validation loss, \n",
        "# validation accuracy, and timings.\n",
        "training_stats = []\n",
        "\n",
        "# Measure the total training time for the whole run.\n",
        "total_t0 = time.time()\n",
        "\n",
        "progress_bar = tqdm(range(num_epochs))\n",
        "\n",
        "\n",
        "valid_loss_min_input = np.Inf\n",
        "# Initialize tracker for minimum validation loss\n",
        "valid_loss_min = valid_loss_min_input \n",
        "# Create paths for storing the current checkpoint and best model checkpoint\n",
        "checkpoint_path = saved_path + \"checkpoint/current_checkpoint.pt\"\n",
        "best_model_path = saved_path + \"/best_model/best_model.pt\"\n",
        "\n",
        "# Reset time taken for Training Data and Validation Data across all epochs\n",
        "training_time_only = 0\n",
        "validation_time_only = 0\n",
        "\n",
        "# For each epoch...\n",
        "for epoch_i in range(0, num_epochs):\n",
        "    \n",
        "    # ========================================\n",
        "    #               Training\n",
        "    # ========================================\n",
        "    \n",
        "    # Perform one full pass over the training set.\n",
        "\n",
        "    print(\"\")\n",
        "    print('======== Epoch {:} / {:} ========'.format(epoch_i + 1, num_epochs))\n",
        "    print('Training...')\n",
        "\n",
        "    \n",
        "\n",
        "    # Reset the total loss and other metrics for this epoch.\n",
        "    total_train_loss = 0\n",
        "    total_train_f1 = 0\n",
        "    total_train_accuracy = 0\n",
        "    total_train_precision = 0\n",
        "    total_train_recall = 0\n",
        "\n",
        "    # Reset the time taken on Training data and Validation data across this epoch\n",
        "    training_time_epoch = 0\n",
        "    validation_time_epoch = 0\n",
        "\n",
        "    # Measure how long the training epoch takes.\n",
        "    train_t0 = time.time()\n",
        "\n",
        "    # Put the model into training mode.\n",
        "    \n",
        "    model.train()\n",
        "    for batch in train_dataloader:\n",
        "      train_batch = {k: v.to(device) for k, v in batch.items()}\n",
        "      train_outputs = model(**train_batch)\n",
        "      train_loss = train_outputs.loss\n",
        "      train_logits = train_outputs.logits\n",
        "      train_predictions = torch.argmax(train_logits, dim=-1)\n",
        "      total_train_loss += train_loss.item()\n",
        "      train_metrics= multi_class_metric(train_predictions.detach().cpu().numpy(), train_batch[\"labels\"].to('cpu').numpy())\n",
        "      train_f1 = train_metrics['f1']\n",
        "      train_accuracy = train_metrics['accuracy']\n",
        "      train_precision =train_metrics['precision']\n",
        "      train_recall = train_metrics['recall']\n",
        "      \n",
        "      total_train_f1 += train_f1\n",
        "      total_train_accuracy += train_accuracy\n",
        "      total_train_precision += train_precision\n",
        "      total_train_recall += train_recall\n",
        "      train_loss.backward()\n",
        "\n",
        "      # Clip the norm of the gradients to 1.0.\n",
        "      #This is to help prevent the \"exploding gradients\" problem.\n",
        "      torch.nn.utils.clip_grad_norm_(model.parameters(), 1.0) \n",
        "\n",
        "      # Update parameters and take a step using the computed gradient.\n",
        "      # The optimizer dictates the \"update rule\"--how the parameters are\n",
        "      # modified based on their gradients, the learning rate, etc.\n",
        "      optimizer.step()\n",
        "      lr_scheduler.step()\n",
        "      optimizer.zero_grad() \n",
        "    \n",
        "    # Measure how long the Training run took.\n",
        "    training_time_epoch = time.time() - train_t0   \n",
        "      \n",
        "    # Calculate the average loss over all of the batches.\n",
        "    avg_train_loss = total_train_loss / len(train_dataloader)  \n",
        "\n",
        "    # Report the final f1-score for this training run.   \n",
        "    avg_train_f1 = total_train_f1 / len(train_dataloader)\n",
        "\n",
        "    # Report the final accuracy for this training run.   \n",
        "    avg_train_accuracy = total_train_accuracy / len(train_dataloader)\n",
        "\n",
        "    # Report the final precision for this training run.   \n",
        "    avg_train_precision = total_train_precision / len(train_dataloader)\n",
        "\n",
        "    # Report the final recall for this training run.   \n",
        "    avg_train_recall = total_train_recall / len(train_dataloader)\n",
        "\n",
        "              \n",
        "    #Accumulate the total time on trainind data across all epochs  \n",
        "    training_time_only +=  training_time_epoch   \n",
        "\n",
        "    print(\" Training f1-score: {0:.2f}\".format(avg_train_f1)) \n",
        "    print(\" Training Accuracy: {0:.2f}\".format(avg_train_accuracy)) \n",
        "    print(\" Training Precision: {0:.2f}\".format(avg_train_precision)) \n",
        "    print(\" Training Recall: {0:.2f}\".format(avg_train_recall))  \n",
        "    print(\"  Average training loss: {0:.2f}\".format(avg_train_loss))\n",
        "    print(\"  Training epoch took: {:}\".format(format_time(training_time_epoch)))\n",
        "    # ========================================\n",
        "    #               Validation\n",
        "    # ========================================\n",
        "    # After the completion of each training epoch, measure our performance on\n",
        "    # our validation set.\n",
        "\n",
        "    print(\"\")\n",
        "    print(\"Running Validation...\")\n",
        "\n",
        "    val_t0 = time.time()\n",
        "    # Put the model in evaluation mode--the dropout layers behave differently\n",
        "    # during evaluation.\n",
        "    model.eval()\n",
        "\n",
        "    # Tracking variables \n",
        "    total_eval_f1 = 0\n",
        "    total_eval_accuracy = 0\n",
        "    total_eval_precision = 0\n",
        "    total_eval_recall = 0\n",
        "    total_eval_loss = 0\n",
        "\n",
        "\n",
        "    # Evaluate data for one epoch\n",
        "    for batch in eval_dataloader:\n",
        "      val_batch = {k: v.to(device) for k, v in batch.items()}\n",
        "     \n",
        "      # Tell pytorch not to bother with constructing the compute graph during\n",
        "      # the forward pass, since this is only needed for backprop (training).\n",
        "      with torch.no_grad():\n",
        "        val_outputs = model(**val_batch)\n",
        "        \n",
        "      val_loss = val_outputs.loss\n",
        "      val_logits = val_outputs.logits\n",
        "      val_predictions = torch.argmax(val_logits, dim=-1)\n",
        "     \n",
        "      total_eval_loss += val_loss.item()\n",
        "\n",
        "      val_metrics = multi_class_metric(val_predictions.detach().cpu().numpy(), val_batch[\"labels\"].to('cpu').numpy())\n",
        "      val_f1 = val_metrics['f1']\n",
        "      val_accuracy = val_metrics['accuracy']\n",
        "      val_precision =val_metrics['precision']\n",
        "      val_recall = val_metrics['recall']\n",
        "\n",
        "      total_eval_f1 += val_f1\n",
        "      total_eval_accuracy += val_accuracy\n",
        "      total_eval_precision += val_precision\n",
        "      total_eval_recall += val_recall\n",
        "\n",
        "      # Accumulate the validation loss.\n",
        "      total_eval_loss += val_loss.item()\n",
        "        \n",
        "    # Measure how long the validation run took.\n",
        "    validation_time_epoch = time.time() - val_t0\n",
        "\n",
        "    # Report the final metrics for this validation run.   \n",
        "    avg_val_f1 = total_eval_f1 / len(eval_dataloader)\n",
        "    avg_val_accuracy = total_eval_accuracy / len(eval_dataloader)\n",
        "    avg_val_precision = total_eval_precision / len(eval_dataloader)\n",
        "    avg_val_recall = total_eval_recall / len(eval_dataloader)\n",
        "\n",
        "\n",
        "    print(\" Validation f1-score: {0:.2f}\".format(avg_val_f1)) \n",
        "    print(\" Validation Accuracy: {0:.2f}\".format(avg_val_accuracy))\n",
        "    print(\" Validation Precision: {0:.2f}\".format(avg_val_precision)) \n",
        "    print(\" Validation Recall: {0:.2f}\".format(avg_val_recall)) \n",
        "    \n",
        "\n",
        "    # Calculate the average loss over all of the batches.\n",
        "    avg_val_loss = total_eval_loss / len(eval_dataloader)\n",
        "    \n",
        "    \n",
        "    #Accumulate the the total validation time across all epochs \n",
        "    validation_time_only += validation_time_epoch\n",
        "    \n",
        "    print(\"  Validation Loss: {0:.2f}\".format(avg_val_loss))\n",
        "    print(\"  Validation took: {:}\".format(format_time(validation_time_epoch)))\n",
        "\n",
        "    # Record all statistics from this epoch.\n",
        "    training_stats.append(\n",
        "        {\n",
        "            'epoch': epoch_i + 1,\n",
        "            'Training Loss': avg_train_loss,\n",
        "            'Valid. Loss': avg_val_loss,\n",
        "            'Training f1': avg_train_f1,\n",
        "            'Valid. f1': avg_val_f1,\n",
        "            'Training Accur.': avg_train_accuracy,\n",
        "            'Valid. Accur.': avg_val_accuracy,\n",
        "            'Training Precision': avg_train_precision,\n",
        "            'Valid. Precision': avg_val_precision,\n",
        "            'Training Recall': avg_train_recall,\n",
        "            'Valid. Recall': avg_val_recall,\n",
        "            'Training Time': format_time(training_time_epoch),\n",
        "            'Validation Time': format_time(validation_time_epoch)\n",
        "        }\n",
        "    )\n",
        "    # Create checkpoint variable and add important data\n",
        "    checkpoint = {\n",
        "        'epoch': epoch_i + 1,\n",
        "        'valid_loss_min': avg_val_loss,\n",
        "        'state_dict': model.state_dict(),\n",
        "        'optimizer': optimizer.state_dict(),\n",
        "    }\n",
        "        \n",
        "    # Save checkpoint\n",
        "    save_ckp(checkpoint, False, checkpoint_path, best_model_path)\n",
        "    ## Save the model if validation loss has decreased\n",
        "    if avg_val_loss <= valid_loss_min:\n",
        "        print('Validation loss decreased ({:.6f} --> {:.6f}).  Saving model ...'.format(valid_loss_min,avg_val_loss))\n",
        "        # Save checkpoint as best model\n",
        "        save_ckp(checkpoint, True, checkpoint_path, best_model_path)\n",
        "        valid_loss_min = avg_val_loss\n",
        "    progress_bar.update(1)\n",
        "print(\"\")\n",
        "print(\"Training complete!\")\n",
        "total_training_time = time.time() - total_t0\n",
        "\n",
        "# Total Training time (without validation and model saving time)\n",
        "print(\"\\nTotal time taken on the training data across all epochs: {:} (h:mm:ss)\".format(format_time(training_time_only)))\n",
        "print(\"Average time take per epoch on training data: {:} (h:mm:ss)\".format(format_time(training_time_only/num_epochs)))\n",
        "\n",
        "# Total Validation time (without training and model saving time)\n",
        "print(\"\\nTotal time taken on the validation data across all epochs: {:} (h:mm:ss)\".format(format_time(validation_time_only)))\n",
        "print(\"Average time take per epoch on validation data: {:} (h:mm:ss)\".format(format_time(validation_time_only/num_epochs)))\n",
        "\n",
        "#Total time taken for training, Validation and model saving\n",
        "print(\"\\nTotal training time taken across all epochs [Validation and model saving time included]: {:} (h:mm:ss)\".format(format_time(total_training_time)))\n",
        "print(\"Average time take per epoch [Validation and model saving time included]: {:} (h:mm:ss)\".format(format_time(total_training_time/num_epochs)))\n",
        "\n",
        "\n"
      ]
    },
    {
      "cell_type": "markdown",
      "metadata": {
        "id": "KHusGHxBiSSz"
      },
      "source": [
        "**The best model is saved at epoch 5. The macro-averaged f1-score for training: 0.65.The macro-averaged f1-score for validation: 0.58**"
      ]
    },
    {
      "cell_type": "code",
      "execution_count": null,
      "metadata": {
        "id": "CgOm-DMdx-7Z",
        "colab": {
          "base_uri": "https://localhost:8080/",
          "height": 255
        },
        "outputId": "021f42fb-269a-4c1b-eba0-d4abfb9d726e"
      },
      "outputs": [
        {
          "output_type": "execute_result",
          "data": {
            "text/plain": [
              "<pandas.io.formats.style.Styler at 0x7f1f2b314890>"
            ],
            "text/html": [
              "<style type=\"text/css\">\n",
              "#T_52717_ th {\n",
              "  max-width: 70px;\n",
              "}\n",
              "</style>\n",
              "<table id=\"T_52717_\" class=\"dataframe\">\n",
              "  <thead>\n",
              "    <tr>\n",
              "      <th class=\"blank level0\" >&nbsp;</th>\n",
              "      <th class=\"col_heading level0 col0\" >Training Loss</th>\n",
              "      <th class=\"col_heading level0 col1\" >Valid. Loss</th>\n",
              "      <th class=\"col_heading level0 col2\" >Training f1</th>\n",
              "      <th class=\"col_heading level0 col3\" >Valid. f1</th>\n",
              "      <th class=\"col_heading level0 col4\" >Training Accur.</th>\n",
              "      <th class=\"col_heading level0 col5\" >Valid. Accur.</th>\n",
              "      <th class=\"col_heading level0 col6\" >Training Precision</th>\n",
              "      <th class=\"col_heading level0 col7\" >Valid. Precision</th>\n",
              "      <th class=\"col_heading level0 col8\" >Training Recall</th>\n",
              "      <th class=\"col_heading level0 col9\" >Valid. Recall</th>\n",
              "      <th class=\"col_heading level0 col10\" >Training Time</th>\n",
              "      <th class=\"col_heading level0 col11\" >Validation Time</th>\n",
              "    </tr>\n",
              "    <tr>\n",
              "      <th class=\"index_name level0\" >epoch</th>\n",
              "      <th class=\"blank col0\" >&nbsp;</th>\n",
              "      <th class=\"blank col1\" >&nbsp;</th>\n",
              "      <th class=\"blank col2\" >&nbsp;</th>\n",
              "      <th class=\"blank col3\" >&nbsp;</th>\n",
              "      <th class=\"blank col4\" >&nbsp;</th>\n",
              "      <th class=\"blank col5\" >&nbsp;</th>\n",
              "      <th class=\"blank col6\" >&nbsp;</th>\n",
              "      <th class=\"blank col7\" >&nbsp;</th>\n",
              "      <th class=\"blank col8\" >&nbsp;</th>\n",
              "      <th class=\"blank col9\" >&nbsp;</th>\n",
              "      <th class=\"blank col10\" >&nbsp;</th>\n",
              "      <th class=\"blank col11\" >&nbsp;</th>\n",
              "    </tr>\n",
              "  </thead>\n",
              "  <tbody>\n",
              "    <tr>\n",
              "      <th id=\"T_52717_level0_row0\" class=\"row_heading level0 row0\" >1</th>\n",
              "      <td id=\"T_52717_row0_col0\" class=\"data row0 col0\" >1.32</td>\n",
              "      <td id=\"T_52717_row0_col1\" class=\"data row0 col1\" >2.64</td>\n",
              "      <td id=\"T_52717_row0_col2\" class=\"data row0 col2\" >0.33</td>\n",
              "      <td id=\"T_52717_row0_col3\" class=\"data row0 col3\" >0.12</td>\n",
              "      <td id=\"T_52717_row0_col4\" class=\"data row0 col4\" >0.50</td>\n",
              "      <td id=\"T_52717_row0_col5\" class=\"data row0 col5\" >0.33</td>\n",
              "      <td id=\"T_52717_row0_col6\" class=\"data row0 col6\" >0.42</td>\n",
              "      <td id=\"T_52717_row0_col7\" class=\"data row0 col7\" >0.25</td>\n",
              "      <td id=\"T_52717_row0_col8\" class=\"data row0 col8\" >0.36</td>\n",
              "      <td id=\"T_52717_row0_col9\" class=\"data row0 col9\" >0.08</td>\n",
              "      <td id=\"T_52717_row0_col10\" class=\"data row0 col10\" >0:00:01</td>\n",
              "      <td id=\"T_52717_row0_col11\" class=\"data row0 col11\" >0:00:00</td>\n",
              "    </tr>\n",
              "    <tr>\n",
              "      <th id=\"T_52717_level0_row1\" class=\"row_heading level0 row1\" >2</th>\n",
              "      <td id=\"T_52717_row1_col0\" class=\"data row1 col0\" >1.28</td>\n",
              "      <td id=\"T_52717_row1_col1\" class=\"data row1 col1\" >2.65</td>\n",
              "      <td id=\"T_52717_row1_col2\" class=\"data row1 col2\" >0.23</td>\n",
              "      <td id=\"T_52717_row1_col3\" class=\"data row1 col3\" >0.33</td>\n",
              "      <td id=\"T_52717_row1_col4\" class=\"data row1 col4\" >0.39</td>\n",
              "      <td id=\"T_52717_row1_col5\" class=\"data row1 col5\" >0.50</td>\n",
              "      <td id=\"T_52717_row1_col6\" class=\"data row1 col6\" >0.33</td>\n",
              "      <td id=\"T_52717_row1_col7\" class=\"data row1 col7\" >0.50</td>\n",
              "      <td id=\"T_52717_row1_col8\" class=\"data row1 col8\" >0.20</td>\n",
              "      <td id=\"T_52717_row1_col9\" class=\"data row1 col9\" >0.25</td>\n",
              "      <td id=\"T_52717_row1_col10\" class=\"data row1 col10\" >0:00:01</td>\n",
              "      <td id=\"T_52717_row1_col11\" class=\"data row1 col11\" >0:00:00</td>\n",
              "    </tr>\n",
              "    <tr>\n",
              "      <th id=\"T_52717_level0_row2\" class=\"row_heading level0 row2\" >3</th>\n",
              "      <td id=\"T_52717_row2_col0\" class=\"data row2 col0\" >1.16</td>\n",
              "      <td id=\"T_52717_row2_col1\" class=\"data row2 col1\" >2.48</td>\n",
              "      <td id=\"T_52717_row2_col2\" class=\"data row2 col2\" >0.46</td>\n",
              "      <td id=\"T_52717_row2_col3\" class=\"data row2 col3\" >0.33</td>\n",
              "      <td id=\"T_52717_row2_col4\" class=\"data row2 col4\" >0.61</td>\n",
              "      <td id=\"T_52717_row2_col5\" class=\"data row2 col5\" >0.50</td>\n",
              "      <td id=\"T_52717_row2_col6\" class=\"data row2 col6\" >0.51</td>\n",
              "      <td id=\"T_52717_row2_col7\" class=\"data row2 col7\" >0.50</td>\n",
              "      <td id=\"T_52717_row2_col8\" class=\"data row2 col8\" >0.48</td>\n",
              "      <td id=\"T_52717_row2_col9\" class=\"data row2 col9\" >0.25</td>\n",
              "      <td id=\"T_52717_row2_col10\" class=\"data row2 col10\" >0:00:01</td>\n",
              "      <td id=\"T_52717_row2_col11\" class=\"data row2 col11\" >0:00:00</td>\n",
              "    </tr>\n",
              "    <tr>\n",
              "      <th id=\"T_52717_level0_row3\" class=\"row_heading level0 row3\" >4</th>\n",
              "      <td id=\"T_52717_row3_col0\" class=\"data row3 col0\" >1.08</td>\n",
              "      <td id=\"T_52717_row3_col1\" class=\"data row3 col1\" >2.36</td>\n",
              "      <td id=\"T_52717_row3_col2\" class=\"data row3 col2\" >0.37</td>\n",
              "      <td id=\"T_52717_row3_col3\" class=\"data row3 col3\" >0.58</td>\n",
              "      <td id=\"T_52717_row3_col4\" class=\"data row3 col4\" >0.61</td>\n",
              "      <td id=\"T_52717_row3_col5\" class=\"data row3 col5\" >0.67</td>\n",
              "      <td id=\"T_52717_row3_col6\" class=\"data row3 col6\" >0.47</td>\n",
              "      <td id=\"T_52717_row3_col7\" class=\"data row3 col7\" >0.62</td>\n",
              "      <td id=\"T_52717_row3_col8\" class=\"data row3 col8\" >0.33</td>\n",
              "      <td id=\"T_52717_row3_col9\" class=\"data row3 col9\" >0.62</td>\n",
              "      <td id=\"T_52717_row3_col10\" class=\"data row3 col10\" >0:00:01</td>\n",
              "      <td id=\"T_52717_row3_col11\" class=\"data row3 col11\" >0:00:00</td>\n",
              "    </tr>\n",
              "    <tr>\n",
              "      <th id=\"T_52717_level0_row4\" class=\"row_heading level0 row4\" >5</th>\n",
              "      <td id=\"T_52717_row4_col0\" class=\"data row4 col0\" >1.05</td>\n",
              "      <td id=\"T_52717_row4_col1\" class=\"data row4 col1\" >2.38</td>\n",
              "      <td id=\"T_52717_row4_col2\" class=\"data row4 col2\" >0.65</td>\n",
              "      <td id=\"T_52717_row4_col3\" class=\"data row4 col3\" >0.58</td>\n",
              "      <td id=\"T_52717_row4_col4\" class=\"data row4 col4\" >0.72</td>\n",
              "      <td id=\"T_52717_row4_col5\" class=\"data row4 col5\" >0.67</td>\n",
              "      <td id=\"T_52717_row4_col6\" class=\"data row4 col6\" >0.74</td>\n",
              "      <td id=\"T_52717_row4_col7\" class=\"data row4 col7\" >0.62</td>\n",
              "      <td id=\"T_52717_row4_col8\" class=\"data row4 col8\" >0.62</td>\n",
              "      <td id=\"T_52717_row4_col9\" class=\"data row4 col9\" >0.62</td>\n",
              "      <td id=\"T_52717_row4_col10\" class=\"data row4 col10\" >0:00:01</td>\n",
              "      <td id=\"T_52717_row4_col11\" class=\"data row4 col11\" >0:00:00</td>\n",
              "    </tr>\n",
              "  </tbody>\n",
              "</table>\n"
            ]
          },
          "metadata": {},
          "execution_count": 31
        }
      ],
      "source": [
        "import pandas as pd \n",
        "# Display floats with two decimal places.\n",
        "pd.set_option('precision', 2)\n",
        "\n",
        "# Create a DataFrame from our training statistics.\n",
        "df_stats = pd.DataFrame(data=training_stats)\n",
        "\n",
        "# Use the 'epoch' as the row index.\n",
        "df_stats = df_stats.set_index('epoch')\n",
        "\n",
        "# Display the table.\n",
        "df_stats.style.set_table_styles([dict(selector=\"th\",props=[('max-width', '70px')])])"
      ]
    },
    {
      "cell_type": "markdown",
      "metadata": {
        "id": "Yvqs8ZqivUdr"
      },
      "source": [
        "Validation Loss is a more precise measure than accuracy. If we are predicting the correct answer, but with less confidence, then validation loss will catch this, while accuracy will not."
      ]
    },
    {
      "cell_type": "code",
      "execution_count": null,
      "metadata": {
        "id": "GBPWXFxX7414",
        "colab": {
          "base_uri": "https://localhost:8080/",
          "height": 427
        },
        "outputId": "1a00a28a-29c2-4a68-a0c7-6d1468309dab"
      },
      "outputs": [
        {
          "output_type": "display_data",
          "data": {
            "text/plain": [
              "<Figure size 864x432 with 1 Axes>"
            ],
            "image/png": "[encoded data removed]"
          },
          "metadata": {}
        }
      ],
      "source": [
        "import matplotlib.pyplot as plt\n",
        "% matplotlib inline\n",
        "\n",
        "import seaborn as sns\n",
        "\n",
        "# Use plot styling from seaborn.\n",
        "sns.set(style='darkgrid')\n",
        "\n",
        "# Increase the plot size and font size.\n",
        "sns.set(font_scale=1.5)\n",
        "plt.rcParams[\"figure.figsize\"] = (12,6)\n",
        "\n",
        "# Plot the learning curve.\n",
        "plt.plot(df_stats['Training Loss'], 'b-o', label=\"Training\")\n",
        "plt.plot(df_stats['Valid. Loss'], 'g-o', label=\"Validation\")\n",
        "\n",
        "# Label the plot.\n",
        "plt.title(\"Training & Validation Loss\")\n",
        "plt.xlabel(\"Epoch\")\n",
        "plt.ylabel(\"Loss\")\n",
        "plt.legend()\n",
        "plt.show()"
      ]
    },
    {
      "cell_type": "markdown",
      "metadata": {
        "id": "LFcr-ozDmteM"
      },
      "source": [
        "## Download the Data"
      ]
    },
    {
      "cell_type": "code",
      "execution_count": null,
      "metadata": {
        "id": "fi7vxB8ZEhk0",
        "colab": {
          "base_uri": "https://localhost:8080/"
        },
        "outputId": "389a7e29-1c13-4dec-c6e3-8b927cf7a276"
      },
      "outputs": [
        {
          "output_type": "stream",
          "name": "stdout",
          "text": [
            "\n",
            "Saved label2id_df\n"
          ]
        }
      ],
      "source": [
        "#Save the label2id_df in Drive \n",
        "label2id_df = pd.DataFrame([label2id] )\n",
        "label2id_df.to_csv(label2id_df_path  , encoding='utf-8', index=False) \n",
        "print(\"\\nSaved label2id_df\")"
      ]
    },
    {
      "cell_type": "code",
      "execution_count": null,
      "metadata": {
        "colab": {
          "base_uri": "https://localhost:8080/"
        },
        "id": "sKMt-zkoBNnQ",
        "outputId": "c5d46bed-220f-4a48-dd25-4edd0d8b84b4"
      },
      "outputs": [
        {
          "output_type": "stream",
          "name": "stdout",
          "text": [
            "\n",
            "Saved Encoded Test Data\n"
          ]
        }
      ],
      "source": [
        "#Save the Encoded Test Data in Drive \n",
        "encoded_test = pd.DataFrame(encoded_dataset['test'])\n",
        "encoded_test.to_csv(encoded_test_data_path , encoding='utf-8', index=False)\n",
        "print(\"\\nSaved Encoded Test Data\")"
      ]
    },
    {
      "cell_type": "code",
      "execution_count": null,
      "metadata": {
        "colab": {
          "base_uri": "https://localhost:8080/"
        },
        "id": "PBZrl1QRmvlT",
        "outputId": "8c31f89e-64bd-422e-c292-130908feef8d"
      },
      "outputs": [
        {
          "output_type": "stream",
          "name": "stdout",
          "text": [
            "\n",
            "Saved Test Data\n"
          ]
        }
      ],
      "source": [
        "#Save the Test Data in drive\n",
        "used_test_df =pd.DataFrame(dataset_clean['test'])\n",
        "used_test_df.to_csv(used_test_data_path, encoding='utf-8', index=False)\n",
        "print(\"\\nSaved Test Data\")"
      ]
    },
    {
      "cell_type": "code",
      "source": [
        ""
      ],
      "metadata": {
        "id": "Mz8VkU9HdvGa"
      },
      "execution_count": null,
      "outputs": []
    }
  ],
  "metadata": {
    "accelerator": "GPU",
    "colab": {
      "collapsed_sections": [],
      "name": "Part2_BERT_5_epochs.ipynb",
      "provenance": []
    },
    "kernelspec": {
      "display_name": "Python 3",
      "name": "python3"
    },
    "language_info": {
      "name": "python"
    },
    "widgets": {
      "application/vnd.jupyter.widget-state+json": {
        "b1d8561886bd48bcbb43460d2f2e52e0": {
          "model_module": "@jupyter-widgets/controls",
          "model_name": "HBoxModel",
          "model_module_version": "1.5.0",
          "state": {
            "_dom_classes": [],
            "_model_module": "@jupyter-widgets/controls",
            "_model_module_version": "1.5.0",
            "_model_name": "HBoxModel",
            "_view_count": null,
            "_view_module": "@jupyter-widgets/controls",
            "_view_module_version": "1.5.0",
            "_view_name": "HBoxView",
            "box_style": "",
            "children": [
              "IPY_MODEL_b0a5a627e852499685925ce9500be5d1",
              "IPY_MODEL_0c8e67f2b64a4a4a9e4c45b71b5b9b2a",
              "IPY_MODEL_8a7c4d03a26c47c48d5be2e7a58da7fd"
            ],
            "layout": "IPY_MODEL_52b717bae1224a4aa084347c6863eb59"
          }
        },
        "b0a5a627e852499685925ce9500be5d1": {
          "model_module": "@jupyter-widgets/controls",
          "model_name": "HTMLModel",
          "model_module_version": "1.5.0",
          "state": {
            "_dom_classes": [],
            "_model_module": "@jupyter-widgets/controls",
            "_model_module_version": "1.5.0",
            "_model_name": "HTMLModel",
            "_view_count": null,
            "_view_module": "@jupyter-widgets/controls",
            "_view_module_version": "1.5.0",
            "_view_name": "HTMLView",
            "description": "",
            "description_tooltip": null,
            "layout": "IPY_MODEL_a33db78b1f164e7cbb6f47bbf30a6cdf",
            "placeholder": "​",
            "style": "IPY_MODEL_a5d483e401964317aa0099bc61728a39",
            "value": "Downloading: 100%"
          }
        },
        "0c8e67f2b64a4a4a9e4c45b71b5b9b2a": {
          "model_module": "@jupyter-widgets/controls",
          "model_name": "FloatProgressModel",
          "model_module_version": "1.5.0",
          "state": {
            "_dom_classes": [],
            "_model_module": "@jupyter-widgets/controls",
            "_model_module_version": "1.5.0",
            "_model_name": "FloatProgressModel",
            "_view_count": null,
            "_view_module": "@jupyter-widgets/controls",
            "_view_module_version": "1.5.0",
            "_view_name": "ProgressView",
            "bar_style": "success",
            "description": "",
            "description_tooltip": null,
            "layout": "IPY_MODEL_f49f1af044834d1d8af5d8f7297ff67b",
            "max": 29,
            "min": 0,
            "orientation": "horizontal",
            "style": "IPY_MODEL_7eb5d4c417404f54a3e6e335f7b235dc",
            "value": 29
          }
        },
        "8a7c4d03a26c47c48d5be2e7a58da7fd": {
          "model_module": "@jupyter-widgets/controls",
          "model_name": "HTMLModel",
          "model_module_version": "1.5.0",
          "state": {
            "_dom_classes": [],
            "_model_module": "@jupyter-widgets/controls",
            "_model_module_version": "1.5.0",
            "_model_name": "HTMLModel",
            "_view_count": null,
            "_view_module": "@jupyter-widgets/controls",
            "_view_module_version": "1.5.0",
            "_view_name": "HTMLView",
            "description": "",
            "description_tooltip": null,
            "layout": "IPY_MODEL_8fd3a7945d4540b1bb7d88e618909b46",
            "placeholder": "​",
            "style": "IPY_MODEL_86fcdef7a1e34ec2a96922afa6cf92df",
            "value": " 29.0/29.0 [00:00&lt;00:00, 309B/s]"
          }
        },
        "52b717bae1224a4aa084347c6863eb59": {
          "model_module": "@jupyter-widgets/base",
          "model_name": "LayoutModel",
          "model_module_version": "1.2.0",
          "state": {
            "_model_module": "@jupyter-widgets/base",
            "_model_module_version": "1.2.0",
            "_model_name": "LayoutModel",
            "_view_count": null,
            "_view_module": "@jupyter-widgets/base",
            "_view_module_version": "1.2.0",
            "_view_name": "LayoutView",
            "align_content": null,
            "align_items": null,
            "align_self": null,
            "border": null,
            "bottom": null,
            "display": null,
            "flex": null,
            "flex_flow": null,
            "grid_area": null,
            "grid_auto_columns": null,
            "grid_auto_flow": null,
            "grid_auto_rows": null,
            "grid_column": null,
            "grid_gap": null,
            "grid_row": null,
            "grid_template_areas": null,
            "grid_template_columns": null,
            "grid_template_rows": null,
            "height": null,
            "justify_content": null,
            "justify_items": null,
            "left": null,
            "margin": null,
            "max_height": null,
            "max_width": null,
            "min_height": null,
            "min_width": null,
            "object_fit": null,
            "object_position": null,
            "order": null,
            "overflow": null,
            "overflow_x": null,
            "overflow_y": null,
            "padding": null,
            "right": null,
            "top": null,
            "visibility": null,
            "width": null
          }
        },
        "a33db78b1f164e7cbb6f47bbf30a6cdf": {
          "model_module": "@jupyter-widgets/base",
          "model_name": "LayoutModel",
          "model_module_version": "1.2.0",
          "state": {
            "_model_module": "@jupyter-widgets/base",
            "_model_module_version": "1.2.0",
            "_model_name": "LayoutModel",
            "_view_count": null,
            "_view_module": "@jupyter-widgets/base",
            "_view_module_version": "1.2.0",
            "_view_name": "LayoutView",
            "align_content": null,
            "align_items": null,
            "align_self": null,
            "border": null,
            "bottom": null,
            "display": null,
            "flex": null,
            "flex_flow": null,
            "grid_area": null,
            "grid_auto_columns": null,
            "grid_auto_flow": null,
            "grid_auto_rows": null,
            "grid_column": null,
            "grid_gap": null,
            "grid_row": null,
            "grid_template_areas": null,
            "grid_template_columns": null,
            "grid_template_rows": null,
            "height": null,
            "justify_content": null,
            "justify_items": null,
            "left": null,
            "margin": null,
            "max_height": null,
            "max_width": null,
            "min_height": null,
            "min_width": null,
            "object_fit": null,
            "object_position": null,
            "order": null,
            "overflow": null,
            "overflow_x": null,
            "overflow_y": null,
            "padding": null,
            "right": null,
            "top": null,
            "visibility": null,
            "width": null
          }
        },
        "a5d483e401964317aa0099bc61728a39": {
          "model_module": "@jupyter-widgets/controls",
          "model_name": "DescriptionStyleModel",
          "model_module_version": "1.5.0",
          "state": {
            "_model_module": "@jupyter-widgets/controls",
            "_model_module_version": "1.5.0",
            "_model_name": "DescriptionStyleModel",
            "_view_count": null,
            "_view_module": "@jupyter-widgets/base",
            "_view_module_version": "1.2.0",
            "_view_name": "StyleView",
            "description_width": ""
          }
        },
        "f49f1af044834d1d8af5d8f7297ff67b": {
          "model_module": "@jupyter-widgets/base",
          "model_name": "LayoutModel",
          "model_module_version": "1.2.0",
          "state": {
            "_model_module": "@jupyter-widgets/base",
            "_model_module_version": "1.2.0",
            "_model_name": "LayoutModel",
            "_view_count": null,
            "_view_module": "@jupyter-widgets/base",
            "_view_module_version": "1.2.0",
            "_view_name": "LayoutView",
            "align_content": null,
            "align_items": null,
            "align_self": null,
            "border": null,
            "bottom": null,
            "display": null,
            "flex": null,
            "flex_flow": null,
            "grid_area": null,
            "grid_auto_columns": null,
            "grid_auto_flow": null,
            "grid_auto_rows": null,
            "grid_column": null,
            "grid_gap": null,
            "grid_row": null,
            "grid_template_areas": null,
            "grid_template_columns": null,
            "grid_template_rows": null,
            "height": null,
            "justify_content": null,
            "justify_items": null,
            "left": null,
            "margin": null,
            "max_height": null,
            "max_width": null,
            "min_height": null,
            "min_width": null,
            "object_fit": null,
            "object_position": null,
            "order": null,
            "overflow": null,
            "overflow_x": null,
            "overflow_y": null,
            "padding": null,
            "right": null,
            "top": null,
            "visibility": null,
            "width": null
          }
        },
        "7eb5d4c417404f54a3e6e335f7b235dc": {
          "model_module": "@jupyter-widgets/controls",
          "model_name": "ProgressStyleModel",
          "model_module_version": "1.5.0",
          "state": {
            "_model_module": "@jupyter-widgets/controls",
            "_model_module_version": "1.5.0",
            "_model_name": "ProgressStyleModel",
            "_view_count": null,
            "_view_module": "@jupyter-widgets/base",
            "_view_module_version": "1.2.0",
            "_view_name": "StyleView",
            "bar_color": null,
            "description_width": ""
          }
        },
        "8fd3a7945d4540b1bb7d88e618909b46": {
          "model_module": "@jupyter-widgets/base",
          "model_name": "LayoutModel",
          "model_module_version": "1.2.0",
          "state": {
            "_model_module": "@jupyter-widgets/base",
            "_model_module_version": "1.2.0",
            "_model_name": "LayoutModel",
            "_view_count": null,
            "_view_module": "@jupyter-widgets/base",
            "_view_module_version": "1.2.0",
            "_view_name": "LayoutView",
            "align_content": null,
            "align_items": null,
            "align_self": null,
            "border": null,
            "bottom": null,
            "display": null,
            "flex": null,
            "flex_flow": null,
            "grid_area": null,
            "grid_auto_columns": null,
            "grid_auto_flow": null,
            "grid_auto_rows": null,
            "grid_column": null,
            "grid_gap": null,
            "grid_row": null,
            "grid_template_areas": null,
            "grid_template_columns": null,
            "grid_template_rows": null,
            "height": null,
            "justify_content": null,
            "justify_items": null,
            "left": null,
            "margin": null,
            "max_height": null,
            "max_width": null,
            "min_height": null,
            "min_width": null,
            "object_fit": null,
            "object_position": null,
            "order": null,
            "overflow": null,
            "overflow_x": null,
            "overflow_y": null,
            "padding": null,
            "right": null,
            "top": null,
            "visibility": null,
            "width": null
          }
        },
        "86fcdef7a1e34ec2a96922afa6cf92df": {
          "model_module": "@jupyter-widgets/controls",
          "model_name": "DescriptionStyleModel",
          "model_module_version": "1.5.0",
          "state": {
            "_model_module": "@jupyter-widgets/controls",
            "_model_module_version": "1.5.0",
            "_model_name": "DescriptionStyleModel",
            "_view_count": null,
            "_view_module": "@jupyter-widgets/base",
            "_view_module_version": "1.2.0",
            "_view_name": "StyleView",
            "description_width": ""
          }
        },
        "39cc2f4378c9451caf5e1822f2b4b263": {
          "model_module": "@jupyter-widgets/controls",
          "model_name": "HBoxModel",
          "model_module_version": "1.5.0",
          "state": {
            "_dom_classes": [],
            "_model_module": "@jupyter-widgets/controls",
            "_model_module_version": "1.5.0",
            "_model_name": "HBoxModel",
            "_view_count": null,
            "_view_module": "@jupyter-widgets/controls",
            "_view_module_version": "1.5.0",
            "_view_name": "HBoxView",
            "box_style": "",
            "children": [
              "IPY_MODEL_cdc8bd08aaf84a0eaa95d91bc6f54244",
              "IPY_MODEL_5d6058748aa4491aad2ef12c9dfa4b65",
              "IPY_MODEL_710f4f42b1764f838b1c11b79f6c6133"
            ],
            "layout": "IPY_MODEL_855f9fbff25a49a0baae4eb95e6ad49f"
          }
        },
        "cdc8bd08aaf84a0eaa95d91bc6f54244": {
          "model_module": "@jupyter-widgets/controls",
          "model_name": "HTMLModel",
          "model_module_version": "1.5.0",
          "state": {
            "_dom_classes": [],
            "_model_module": "@jupyter-widgets/controls",
            "_model_module_version": "1.5.0",
            "_model_name": "HTMLModel",
            "_view_count": null,
            "_view_module": "@jupyter-widgets/controls",
            "_view_module_version": "1.5.0",
            "_view_name": "HTMLView",
            "description": "",
            "description_tooltip": null,
            "layout": "IPY_MODEL_4d3cd0f41d0f45b7844c3da277d0ea0f",
            "placeholder": "​",
            "style": "IPY_MODEL_f9ea24448151479cb308bc96345e3bba",
            "value": "Downloading: 100%"
          }
        },
        "5d6058748aa4491aad2ef12c9dfa4b65": {
          "model_module": "@jupyter-widgets/controls",
          "model_name": "FloatProgressModel",
          "model_module_version": "1.5.0",
          "state": {
            "_dom_classes": [],
            "_model_module": "@jupyter-widgets/controls",
            "_model_module_version": "1.5.0",
            "_model_name": "FloatProgressModel",
            "_view_count": null,
            "_view_module": "@jupyter-widgets/controls",
            "_view_module_version": "1.5.0",
            "_view_name": "ProgressView",
            "bar_style": "success",
            "description": "",
            "description_tooltip": null,
            "layout": "IPY_MODEL_3a2b0c39682843789b4b039f66f0e012",
            "max": 570,
            "min": 0,
            "orientation": "horizontal",
            "style": "IPY_MODEL_0a1c8251f6ee4b0594a4d461dd08073a",
            "value": 570
          }
        },
        "710f4f42b1764f838b1c11b79f6c6133": {
          "model_module": "@jupyter-widgets/controls",
          "model_name": "HTMLModel",
          "model_module_version": "1.5.0",
          "state": {
            "_dom_classes": [],
            "_model_module": "@jupyter-widgets/controls",
            "_model_module_version": "1.5.0",
            "_model_name": "HTMLModel",
            "_view_count": null,
            "_view_module": "@jupyter-widgets/controls",
            "_view_module_version": "1.5.0",
            "_view_name": "HTMLView",
            "description": "",
            "description_tooltip": null,
            "layout": "IPY_MODEL_a207c656de8b43a6916bc9ae5413b31f",
            "placeholder": "​",
            "style": "IPY_MODEL_a39a5e36b308432b9a11b59c8590c926",
            "value": " 570/570 [00:00&lt;00:00, 11.6kB/s]"
          }
        },
        "855f9fbff25a49a0baae4eb95e6ad49f": {
          "model_module": "@jupyter-widgets/base",
          "model_name": "LayoutModel",
          "model_module_version": "1.2.0",
          "state": {
            "_model_module": "@jupyter-widgets/base",
            "_model_module_version": "1.2.0",
            "_model_name": "LayoutModel",
            "_view_count": null,
            "_view_module": "@jupyter-widgets/base",
            "_view_module_version": "1.2.0",
            "_view_name": "LayoutView",
            "align_content": null,
            "align_items": null,
            "align_self": null,
            "border": null,
            "bottom": null,
            "display": null,
            "flex": null,
            "flex_flow": null,
            "grid_area": null,
            "grid_auto_columns": null,
            "grid_auto_flow": null,
            "grid_auto_rows": null,
            "grid_column": null,
            "grid_gap": null,
            "grid_row": null,
            "grid_template_areas": null,
            "grid_template_columns": null,
            "grid_template_rows": null,
            "height": null,
            "justify_content": null,
            "justify_items": null,
            "left": null,
            "margin": null,
            "max_height": null,
            "max_width": null,
            "min_height": null,
            "min_width": null,
            "object_fit": null,
            "object_position": null,
            "order": null,
            "overflow": null,
            "overflow_x": null,
            "overflow_y": null,
            "padding": null,
            "right": null,
            "top": null,
            "visibility": null,
            "width": null
          }
        },
        "4d3cd0f41d0f45b7844c3da277d0ea0f": {
          "model_module": "@jupyter-widgets/base",
          "model_name": "LayoutModel",
          "model_module_version": "1.2.0",
          "state": {
            "_model_module": "@jupyter-widgets/base",
            "_model_module_version": "1.2.0",
            "_model_name": "LayoutModel",
            "_view_count": null,
            "_view_module": "@jupyter-widgets/base",
            "_view_module_version": "1.2.0",
            "_view_name": "LayoutView",
            "align_content": null,
            "align_items": null,
            "align_self": null,
            "border": null,
            "bottom": null,
            "display": null,
            "flex": null,
            "flex_flow": null,
            "grid_area": null,
            "grid_auto_columns": null,
            "grid_auto_flow": null,
            "grid_auto_rows": null,
            "grid_column": null,
            "grid_gap": null,
            "grid_row": null,
            "grid_template_areas": null,
            "grid_template_columns": null,
            "grid_template_rows": null,
            "height": null,
            "justify_content": null,
            "justify_items": null,
            "left": null,
            "margin": null,
            "max_height": null,
            "max_width": null,
            "min_height": null,
            "min_width": null,
            "object_fit": null,
            "object_position": null,
            "order": null,
            "overflow": null,
            "overflow_x": null,
            "overflow_y": null,
            "padding": null,
            "right": null,
            "top": null,
            "visibility": null,
            "width": null
          }
        },
        "f9ea24448151479cb308bc96345e3bba": {
          "model_module": "@jupyter-widgets/controls",
          "model_name": "DescriptionStyleModel",
          "model_module_version": "1.5.0",
          "state": {
            "_model_module": "@jupyter-widgets/controls",
            "_model_module_version": "1.5.0",
            "_model_name": "DescriptionStyleModel",
            "_view_count": null,
            "_view_module": "@jupyter-widgets/base",
            "_view_module_version": "1.2.0",
            "_view_name": "StyleView",
            "description_width": ""
          }
        },
        "3a2b0c39682843789b4b039f66f0e012": {
          "model_module": "@jupyter-widgets/base",
          "model_name": "LayoutModel",
          "model_module_version": "1.2.0",
          "state": {
            "_model_module": "@jupyter-widgets/base",
            "_model_module_version": "1.2.0",
            "_model_name": "LayoutModel",
            "_view_count": null,
            "_view_module": "@jupyter-widgets/base",
            "_view_module_version": "1.2.0",
            "_view_name": "LayoutView",
            "align_content": null,
            "align_items": null,
            "align_self": null,
            "border": null,
            "bottom": null,
            "display": null,
            "flex": null,
            "flex_flow": null,
            "grid_area": null,
            "grid_auto_columns": null,
            "grid_auto_flow": null,
            "grid_auto_rows": null,
            "grid_column": null,
            "grid_gap": null,
            "grid_row": null,
            "grid_template_areas": null,
            "grid_template_columns": null,
            "grid_template_rows": null,
            "height": null,
            "justify_content": null,
            "justify_items": null,
            "left": null,
            "margin": null,
            "max_height": null,
            "max_width": null,
            "min_height": null,
            "min_width": null,
            "object_fit": null,
            "object_position": null,
            "order": null,
            "overflow": null,
            "overflow_x": null,
            "overflow_y": null,
            "padding": null,
            "right": null,
            "top": null,
            "visibility": null,
            "width": null
          }
        },
        "0a1c8251f6ee4b0594a4d461dd08073a": {
          "model_module": "@jupyter-widgets/controls",
          "model_name": "ProgressStyleModel",
          "model_module_version": "1.5.0",
          "state": {
            "_model_module": "@jupyter-widgets/controls",
            "_model_module_version": "1.5.0",
            "_model_name": "ProgressStyleModel",
            "_view_count": null,
            "_view_module": "@jupyter-widgets/base",
            "_view_module_version": "1.2.0",
            "_view_name": "StyleView",
            "bar_color": null,
            "description_width": ""
          }
        },
        "a207c656de8b43a6916bc9ae5413b31f": {
          "model_module": "@jupyter-widgets/base",
          "model_name": "LayoutModel",
          "model_module_version": "1.2.0",
          "state": {
            "_model_module": "@jupyter-widgets/base",
            "_model_module_version": "1.2.0",
            "_model_name": "LayoutModel",
            "_view_count": null,
            "_view_module": "@jupyter-widgets/base",
            "_view_module_version": "1.2.0",
            "_view_name": "LayoutView",
            "align_content": null,
            "align_items": null,
            "align_self": null,
            "border": null,
            "bottom": null,
            "display": null,
            "flex": null,
            "flex_flow": null,
            "grid_area": null,
            "grid_auto_columns": null,
            "grid_auto_flow": null,
            "grid_auto_rows": null,
            "grid_column": null,
            "grid_gap": null,
            "grid_row": null,
            "grid_template_areas": null,
            "grid_template_columns": null,
            "grid_template_rows": null,
            "height": null,
            "justify_content": null,
            "justify_items": null,
            "left": null,
            "margin": null,
            "max_height": null,
            "max_width": null,
            "min_height": null,
            "min_width": null,
            "object_fit": null,
            "object_position": null,
            "order": null,
            "overflow": null,
            "overflow_x": null,
            "overflow_y": null,
            "padding": null,
            "right": null,
            "top": null,
            "visibility": null,
            "width": null
          }
        },
        "a39a5e36b308432b9a11b59c8590c926": {
          "model_module": "@jupyter-widgets/controls",
          "model_name": "DescriptionStyleModel",
          "model_module_version": "1.5.0",
          "state": {
            "_model_module": "@jupyter-widgets/controls",
            "_model_module_version": "1.5.0",
            "_model_name": "DescriptionStyleModel",
            "_view_count": null,
            "_view_module": "@jupyter-widgets/base",
            "_view_module_version": "1.2.0",
            "_view_name": "StyleView",
            "description_width": ""
          }
        },
        "451d1fba80a2485e82d062d578d2c665": {
          "model_module": "@jupyter-widgets/controls",
          "model_name": "HBoxModel",
          "model_module_version": "1.5.0",
          "state": {
            "_dom_classes": [],
            "_model_module": "@jupyter-widgets/controls",
            "_model_module_version": "1.5.0",
            "_model_name": "HBoxModel",
            "_view_count": null,
            "_view_module": "@jupyter-widgets/controls",
            "_view_module_version": "1.5.0",
            "_view_name": "HBoxView",
            "box_style": "",
            "children": [
              "IPY_MODEL_e3a92975515c4659b975198394eb7f96",
              "IPY_MODEL_0f929103b69c4d6694a024367d596e3f",
              "IPY_MODEL_78ebcc195f9e48d3ac9f0140e8ccf014"
            ],
            "layout": "IPY_MODEL_28e8c070ff9147e684ef7f934ee5eb37"
          }
        },
        "e3a92975515c4659b975198394eb7f96": {
          "model_module": "@jupyter-widgets/controls",
          "model_name": "HTMLModel",
          "model_module_version": "1.5.0",
          "state": {
            "_dom_classes": [],
            "_model_module": "@jupyter-widgets/controls",
            "_model_module_version": "1.5.0",
            "_model_name": "HTMLModel",
            "_view_count": null,
            "_view_module": "@jupyter-widgets/controls",
            "_view_module_version": "1.5.0",
            "_view_name": "HTMLView",
            "description": "",
            "description_tooltip": null,
            "layout": "IPY_MODEL_f1f6b3a761ef4902ba28ef01bb3907d1",
            "placeholder": "​",
            "style": "IPY_MODEL_a7d4a73cd6e04097942472edf905ef19",
            "value": "Downloading: 100%"
          }
        },
        "0f929103b69c4d6694a024367d596e3f": {
          "model_module": "@jupyter-widgets/controls",
          "model_name": "FloatProgressModel",
          "model_module_version": "1.5.0",
          "state": {
            "_dom_classes": [],
            "_model_module": "@jupyter-widgets/controls",
            "_model_module_version": "1.5.0",
            "_model_name": "FloatProgressModel",
            "_view_count": null,
            "_view_module": "@jupyter-widgets/controls",
            "_view_module_version": "1.5.0",
            "_view_name": "ProgressView",
            "bar_style": "success",
            "description": "",
            "description_tooltip": null,
            "layout": "IPY_MODEL_598a7fea9b1f4789971710949691e7a9",
            "max": 213450,
            "min": 0,
            "orientation": "horizontal",
            "style": "IPY_MODEL_7295a24e01d9413b8a7de0aeb395e78e",
            "value": 213450
          }
        },
        "78ebcc195f9e48d3ac9f0140e8ccf014": {
          "model_module": "@jupyter-widgets/controls",
          "model_name": "HTMLModel",
          "model_module_version": "1.5.0",
          "state": {
            "_dom_classes": [],
            "_model_module": "@jupyter-widgets/controls",
            "_model_module_version": "1.5.0",
            "_model_name": "HTMLModel",
            "_view_count": null,
            "_view_module": "@jupyter-widgets/controls",
            "_view_module_version": "1.5.0",
            "_view_name": "HTMLView",
            "description": "",
            "description_tooltip": null,
            "layout": "IPY_MODEL_a6e6204b7b204392acd8d33b8bc5fb7a",
            "placeholder": "​",
            "style": "IPY_MODEL_d31646b25d43420095edfd4649cae5c6",
            "value": " 208k/208k [00:00&lt;00:00, 531kB/s]"
          }
        },
        "28e8c070ff9147e684ef7f934ee5eb37": {
          "model_module": "@jupyter-widgets/base",
          "model_name": "LayoutModel",
          "model_module_version": "1.2.0",
          "state": {
            "_model_module": "@jupyter-widgets/base",
            "_model_module_version": "1.2.0",
            "_model_name": "LayoutModel",
            "_view_count": null,
            "_view_module": "@jupyter-widgets/base",
            "_view_module_version": "1.2.0",
            "_view_name": "LayoutView",
            "align_content": null,
            "align_items": null,
            "align_self": null,
            "border": null,
            "bottom": null,
            "display": null,
            "flex": null,
            "flex_flow": null,
            "grid_area": null,
            "grid_auto_columns": null,
            "grid_auto_flow": null,
            "grid_auto_rows": null,
            "grid_column": null,
            "grid_gap": null,
            "grid_row": null,
            "grid_template_areas": null,
            "grid_template_columns": null,
            "grid_template_rows": null,
            "height": null,
            "justify_content": null,
            "justify_items": null,
            "left": null,
            "margin": null,
            "max_height": null,
            "max_width": null,
            "min_height": null,
            "min_width": null,
            "object_fit": null,
            "object_position": null,
            "order": null,
            "overflow": null,
            "overflow_x": null,
            "overflow_y": null,
            "padding": null,
            "right": null,
            "top": null,
            "visibility": null,
            "width": null
          }
        },
        "f1f6b3a761ef4902ba28ef01bb3907d1": {
          "model_module": "@jupyter-widgets/base",
          "model_name": "LayoutModel",
          "model_module_version": "1.2.0",
          "state": {
            "_model_module": "@jupyter-widgets/base",
            "_model_module_version": "1.2.0",
            "_model_name": "LayoutModel",
            "_view_count": null,
            "_view_module": "@jupyter-widgets/base",
            "_view_module_version": "1.2.0",
            "_view_name": "LayoutView",
            "align_content": null,
            "align_items": null,
            "align_self": null,
            "border": null,
            "bottom": null,
            "display": null,
            "flex": null,
            "flex_flow": null,
            "grid_area": null,
            "grid_auto_columns": null,
            "grid_auto_flow": null,
            "grid_auto_rows": null,
            "grid_column": null,
            "grid_gap": null,
            "grid_row": null,
            "grid_template_areas": null,
            "grid_template_columns": null,
            "grid_template_rows": null,
            "height": null,
            "justify_content": null,
            "justify_items": null,
            "left": null,
            "margin": null,
            "max_height": null,
            "max_width": null,
            "min_height": null,
            "min_width": null,
            "object_fit": null,
            "object_position": null,
            "order": null,
            "overflow": null,
            "overflow_x": null,
            "overflow_y": null,
            "padding": null,
            "right": null,
            "top": null,
            "visibility": null,
            "width": null
          }
        },
        "a7d4a73cd6e04097942472edf905ef19": {
          "model_module": "@jupyter-widgets/controls",
          "model_name": "DescriptionStyleModel",
          "model_module_version": "1.5.0",
          "state": {
            "_model_module": "@jupyter-widgets/controls",
            "_model_module_version": "1.5.0",
            "_model_name": "DescriptionStyleModel",
            "_view_count": null,
            "_view_module": "@jupyter-widgets/base",
            "_view_module_version": "1.2.0",
            "_view_name": "StyleView",
            "description_width": ""
          }
        },
        "598a7fea9b1f4789971710949691e7a9": {
          "model_module": "@jupyter-widgets/base",
          "model_name": "LayoutModel",
          "model_module_version": "1.2.0",
          "state": {
            "_model_module": "@jupyter-widgets/base",
            "_model_module_version": "1.2.0",
            "_model_name": "LayoutModel",
            "_view_count": null,
            "_view_module": "@jupyter-widgets/base",
            "_view_module_version": "1.2.0",
            "_view_name": "LayoutView",
            "align_content": null,
            "align_items": null,
            "align_self": null,
            "border": null,
            "bottom": null,
            "display": null,
            "flex": null,
            "flex_flow": null,
            "grid_area": null,
            "grid_auto_columns": null,
            "grid_auto_flow": null,
            "grid_auto_rows": null,
            "grid_column": null,
            "grid_gap": null,
            "grid_row": null,
            "grid_template_areas": null,
            "grid_template_columns": null,
            "grid_template_rows": null,
            "height": null,
            "justify_content": null,
            "justify_items": null,
            "left": null,
            "margin": null,
            "max_height": null,
            "max_width": null,
            "min_height": null,
            "min_width": null,
            "object_fit": null,
            "object_position": null,
            "order": null,
            "overflow": null,
            "overflow_x": null,
            "overflow_y": null,
            "padding": null,
            "right": null,
            "top": null,
            "visibility": null,
            "width": null
          }
        },
        "7295a24e01d9413b8a7de0aeb395e78e": {
          "model_module": "@jupyter-widgets/controls",
          "model_name": "ProgressStyleModel",
          "model_module_version": "1.5.0",
          "state": {
            "_model_module": "@jupyter-widgets/controls",
            "_model_module_version": "1.5.0",
            "_model_name": "ProgressStyleModel",
            "_view_count": null,
            "_view_module": "@jupyter-widgets/base",
            "_view_module_version": "1.2.0",
            "_view_name": "StyleView",
            "bar_color": null,
            "description_width": ""
          }
        },
        "a6e6204b7b204392acd8d33b8bc5fb7a": {
          "model_module": "@jupyter-widgets/base",
          "model_name": "LayoutModel",
          "model_module_version": "1.2.0",
          "state": {
            "_model_module": "@jupyter-widgets/base",
            "_model_module_version": "1.2.0",
            "_model_name": "LayoutModel",
            "_view_count": null,
            "_view_module": "@jupyter-widgets/base",
            "_view_module_version": "1.2.0",
            "_view_name": "LayoutView",
            "align_content": null,
            "align_items": null,
            "align_self": null,
            "border": null,
            "bottom": null,
            "display": null,
            "flex": null,
            "flex_flow": null,
            "grid_area": null,
            "grid_auto_columns": null,
            "grid_auto_flow": null,
            "grid_auto_rows": null,
            "grid_column": null,
            "grid_gap": null,
            "grid_row": null,
            "grid_template_areas": null,
            "grid_template_columns": null,
            "grid_template_rows": null,
            "height": null,
            "justify_content": null,
            "justify_items": null,
            "left": null,
            "margin": null,
            "max_height": null,
            "max_width": null,
            "min_height": null,
            "min_width": null,
            "object_fit": null,
            "object_position": null,
            "order": null,
            "overflow": null,
            "overflow_x": null,
            "overflow_y": null,
            "padding": null,
            "right": null,
            "top": null,
            "visibility": null,
            "width": null
          }
        },
        "d31646b25d43420095edfd4649cae5c6": {
          "model_module": "@jupyter-widgets/controls",
          "model_name": "DescriptionStyleModel",
          "model_module_version": "1.5.0",
          "state": {
            "_model_module": "@jupyter-widgets/controls",
            "_model_module_version": "1.5.0",
            "_model_name": "DescriptionStyleModel",
            "_view_count": null,
            "_view_module": "@jupyter-widgets/base",
            "_view_module_version": "1.2.0",
            "_view_name": "StyleView",
            "description_width": ""
          }
        },
        "f862ab0990614f56ad9b2736b9ffe7a1": {
          "model_module": "@jupyter-widgets/controls",
          "model_name": "HBoxModel",
          "model_module_version": "1.5.0",
          "state": {
            "_dom_classes": [],
            "_model_module": "@jupyter-widgets/controls",
            "_model_module_version": "1.5.0",
            "_model_name": "HBoxModel",
            "_view_count": null,
            "_view_module": "@jupyter-widgets/controls",
            "_view_module_version": "1.5.0",
            "_view_name": "HBoxView",
            "box_style": "",
            "children": [
              "IPY_MODEL_d088e812a3c24949b21de525ebe14aea",
              "IPY_MODEL_7b71d18e163642309f618240b693bbef",
              "IPY_MODEL_cfad02cf4f644a0fb30d1d90213bc5db"
            ],
            "layout": "IPY_MODEL_675743c686694cad9d78c1862447ed68"
          }
        },
        "d088e812a3c24949b21de525ebe14aea": {
          "model_module": "@jupyter-widgets/controls",
          "model_name": "HTMLModel",
          "model_module_version": "1.5.0",
          "state": {
            "_dom_classes": [],
            "_model_module": "@jupyter-widgets/controls",
            "_model_module_version": "1.5.0",
            "_model_name": "HTMLModel",
            "_view_count": null,
            "_view_module": "@jupyter-widgets/controls",
            "_view_module_version": "1.5.0",
            "_view_name": "HTMLView",
            "description": "",
            "description_tooltip": null,
            "layout": "IPY_MODEL_50a136d144864ed6b83fc15cad41f8a9",
            "placeholder": "​",
            "style": "IPY_MODEL_84e132bf9d9a4f3d8424f28e8564a5b6",
            "value": "Downloading: 100%"
          }
        },
        "7b71d18e163642309f618240b693bbef": {
          "model_module": "@jupyter-widgets/controls",
          "model_name": "FloatProgressModel",
          "model_module_version": "1.5.0",
          "state": {
            "_dom_classes": [],
            "_model_module": "@jupyter-widgets/controls",
            "_model_module_version": "1.5.0",
            "_model_name": "FloatProgressModel",
            "_view_count": null,
            "_view_module": "@jupyter-widgets/controls",
            "_view_module_version": "1.5.0",
            "_view_name": "ProgressView",
            "bar_style": "success",
            "description": "",
            "description_tooltip": null,
            "layout": "IPY_MODEL_d1816679dbe54edba3f5ec4746051ce4",
            "max": 435797,
            "min": 0,
            "orientation": "horizontal",
            "style": "IPY_MODEL_78cd1db8ac2446279c5e26aa378e2f12",
            "value": 435797
          }
        },
        "cfad02cf4f644a0fb30d1d90213bc5db": {
          "model_module": "@jupyter-widgets/controls",
          "model_name": "HTMLModel",
          "model_module_version": "1.5.0",
          "state": {
            "_dom_classes": [],
            "_model_module": "@jupyter-widgets/controls",
            "_model_module_version": "1.5.0",
            "_model_name": "HTMLModel",
            "_view_count": null,
            "_view_module": "@jupyter-widgets/controls",
            "_view_module_version": "1.5.0",
            "_view_name": "HTMLView",
            "description": "",
            "description_tooltip": null,
            "layout": "IPY_MODEL_0648f7bfc5d64a608e13b02b65d1f338",
            "placeholder": "​",
            "style": "IPY_MODEL_6b777194786c4d838e88b8cd9cbd358c",
            "value": " 426k/426k [00:00&lt;00:00, 761kB/s]"
          }
        },
        "675743c686694cad9d78c1862447ed68": {
          "model_module": "@jupyter-widgets/base",
          "model_name": "LayoutModel",
          "model_module_version": "1.2.0",
          "state": {
            "_model_module": "@jupyter-widgets/base",
            "_model_module_version": "1.2.0",
            "_model_name": "LayoutModel",
            "_view_count": null,
            "_view_module": "@jupyter-widgets/base",
            "_view_module_version": "1.2.0",
            "_view_name": "LayoutView",
            "align_content": null,
            "align_items": null,
            "align_self": null,
            "border": null,
            "bottom": null,
            "display": null,
            "flex": null,
            "flex_flow": null,
            "grid_area": null,
            "grid_auto_columns": null,
            "grid_auto_flow": null,
            "grid_auto_rows": null,
            "grid_column": null,
            "grid_gap": null,
            "grid_row": null,
            "grid_template_areas": null,
            "grid_template_columns": null,
            "grid_template_rows": null,
            "height": null,
            "justify_content": null,
            "justify_items": null,
            "left": null,
            "margin": null,
            "max_height": null,
            "max_width": null,
            "min_height": null,
            "min_width": null,
            "object_fit": null,
            "object_position": null,
            "order": null,
            "overflow": null,
            "overflow_x": null,
            "overflow_y": null,
            "padding": null,
            "right": null,
            "top": null,
            "visibility": null,
            "width": null
          }
        },
        "50a136d144864ed6b83fc15cad41f8a9": {
          "model_module": "@jupyter-widgets/base",
          "model_name": "LayoutModel",
          "model_module_version": "1.2.0",
          "state": {
            "_model_module": "@jupyter-widgets/base",
            "_model_module_version": "1.2.0",
            "_model_name": "LayoutModel",
            "_view_count": null,
            "_view_module": "@jupyter-widgets/base",
            "_view_module_version": "1.2.0",
            "_view_name": "LayoutView",
            "align_content": null,
            "align_items": null,
            "align_self": null,
            "border": null,
            "bottom": null,
            "display": null,
            "flex": null,
            "flex_flow": null,
            "grid_area": null,
            "grid_auto_columns": null,
            "grid_auto_flow": null,
            "grid_auto_rows": null,
            "grid_column": null,
            "grid_gap": null,
            "grid_row": null,
            "grid_template_areas": null,
            "grid_template_columns": null,
            "grid_template_rows": null,
            "height": null,
            "justify_content": null,
            "justify_items": null,
            "left": null,
            "margin": null,
            "max_height": null,
            "max_width": null,
            "min_height": null,
            "min_width": null,
            "object_fit": null,
            "object_position": null,
            "order": null,
            "overflow": null,
            "overflow_x": null,
            "overflow_y": null,
            "padding": null,
            "right": null,
            "top": null,
            "visibility": null,
            "width": null
          }
        },
        "84e132bf9d9a4f3d8424f28e8564a5b6": {
          "model_module": "@jupyter-widgets/controls",
          "model_name": "DescriptionStyleModel",
          "model_module_version": "1.5.0",
          "state": {
            "_model_module": "@jupyter-widgets/controls",
            "_model_module_version": "1.5.0",
            "_model_name": "DescriptionStyleModel",
            "_view_count": null,
            "_view_module": "@jupyter-widgets/base",
            "_view_module_version": "1.2.0",
            "_view_name": "StyleView",
            "description_width": ""
          }
        },
        "d1816679dbe54edba3f5ec4746051ce4": {
          "model_module": "@jupyter-widgets/base",
          "model_name": "LayoutModel",
          "model_module_version": "1.2.0",
          "state": {
            "_model_module": "@jupyter-widgets/base",
            "_model_module_version": "1.2.0",
            "_model_name": "LayoutModel",
            "_view_count": null,
            "_view_module": "@jupyter-widgets/base",
            "_view_module_version": "1.2.0",
            "_view_name": "LayoutView",
            "align_content": null,
            "align_items": null,
            "align_self": null,
            "border": null,
            "bottom": null,
            "display": null,
            "flex": null,
            "flex_flow": null,
            "grid_area": null,
            "grid_auto_columns": null,
            "grid_auto_flow": null,
            "grid_auto_rows": null,
            "grid_column": null,
            "grid_gap": null,
            "grid_row": null,
            "grid_template_areas": null,
            "grid_template_columns": null,
            "grid_template_rows": null,
            "height": null,
            "justify_content": null,
            "justify_items": null,
            "left": null,
            "margin": null,
            "max_height": null,
            "max_width": null,
            "min_height": null,
            "min_width": null,
            "object_fit": null,
            "object_position": null,
            "order": null,
            "overflow": null,
            "overflow_x": null,
            "overflow_y": null,
            "padding": null,
            "right": null,
            "top": null,
            "visibility": null,
            "width": null
          }
        },
        "78cd1db8ac2446279c5e26aa378e2f12": {
          "model_module": "@jupyter-widgets/controls",
          "model_name": "ProgressStyleModel",
          "model_module_version": "1.5.0",
          "state": {
            "_model_module": "@jupyter-widgets/controls",
            "_model_module_version": "1.5.0",
            "_model_name": "ProgressStyleModel",
            "_view_count": null,
            "_view_module": "@jupyter-widgets/base",
            "_view_module_version": "1.2.0",
            "_view_name": "StyleView",
            "bar_color": null,
            "description_width": ""
          }
        },
        "0648f7bfc5d64a608e13b02b65d1f338": {
          "model_module": "@jupyter-widgets/base",
          "model_name": "LayoutModel",
          "model_module_version": "1.2.0",
          "state": {
            "_model_module": "@jupyter-widgets/base",
            "_model_module_version": "1.2.0",
            "_model_name": "LayoutModel",
            "_view_count": null,
            "_view_module": "@jupyter-widgets/base",
            "_view_module_version": "1.2.0",
            "_view_name": "LayoutView",
            "align_content": null,
            "align_items": null,
            "align_self": null,
            "border": null,
            "bottom": null,
            "display": null,
            "flex": null,
            "flex_flow": null,
            "grid_area": null,
            "grid_auto_columns": null,
            "grid_auto_flow": null,
            "grid_auto_rows": null,
            "grid_column": null,
            "grid_gap": null,
            "grid_row": null,
            "grid_template_areas": null,
            "grid_template_columns": null,
            "grid_template_rows": null,
            "height": null,
            "justify_content": null,
            "justify_items": null,
            "left": null,
            "margin": null,
            "max_height": null,
            "max_width": null,
            "min_height": null,
            "min_width": null,
            "object_fit": null,
            "object_position": null,
            "order": null,
            "overflow": null,
            "overflow_x": null,
            "overflow_y": null,
            "padding": null,
            "right": null,
            "top": null,
            "visibility": null,
            "width": null
          }
        },
        "6b777194786c4d838e88b8cd9cbd358c": {
          "model_module": "@jupyter-widgets/controls",
          "model_name": "DescriptionStyleModel",
          "model_module_version": "1.5.0",
          "state": {
            "_model_module": "@jupyter-widgets/controls",
            "_model_module_version": "1.5.0",
            "_model_name": "DescriptionStyleModel",
            "_view_count": null,
            "_view_module": "@jupyter-widgets/base",
            "_view_module_version": "1.2.0",
            "_view_name": "StyleView",
            "description_width": ""
          }
        },
        "f4122298e91d4397b3b9a20f03285f05": {
          "model_module": "@jupyter-widgets/controls",
          "model_name": "HBoxModel",
          "model_module_version": "1.5.0",
          "state": {
            "_dom_classes": [],
            "_model_module": "@jupyter-widgets/controls",
            "_model_module_version": "1.5.0",
            "_model_name": "HBoxModel",
            "_view_count": null,
            "_view_module": "@jupyter-widgets/controls",
            "_view_module_version": "1.5.0",
            "_view_name": "HBoxView",
            "box_style": "",
            "children": [
              "IPY_MODEL_31448ed4b9e541bd9fe76d0515318e90",
              "IPY_MODEL_bbf26be9489c4caaa2af76db7335ddaa",
              "IPY_MODEL_0c4cba7660e24359ba922ecbcbac4fa8"
            ],
            "layout": "IPY_MODEL_337325ca07584a918a880d6903e96957"
          }
        },
        "31448ed4b9e541bd9fe76d0515318e90": {
          "model_module": "@jupyter-widgets/controls",
          "model_name": "HTMLModel",
          "model_module_version": "1.5.0",
          "state": {
            "_dom_classes": [],
            "_model_module": "@jupyter-widgets/controls",
            "_model_module_version": "1.5.0",
            "_model_name": "HTMLModel",
            "_view_count": null,
            "_view_module": "@jupyter-widgets/controls",
            "_view_module_version": "1.5.0",
            "_view_name": "HTMLView",
            "description": "",
            "description_tooltip": null,
            "layout": "IPY_MODEL_792b321616d64bf7966cc0a4e893f98e",
            "placeholder": "​",
            "style": "IPY_MODEL_e40a764acba84792867a0601da992804",
            "value": "Downloading: 100%"
          }
        },
        "bbf26be9489c4caaa2af76db7335ddaa": {
          "model_module": "@jupyter-widgets/controls",
          "model_name": "FloatProgressModel",
          "model_module_version": "1.5.0",
          "state": {
            "_dom_classes": [],
            "_model_module": "@jupyter-widgets/controls",
            "_model_module_version": "1.5.0",
            "_model_name": "FloatProgressModel",
            "_view_count": null,
            "_view_module": "@jupyter-widgets/controls",
            "_view_module_version": "1.5.0",
            "_view_name": "ProgressView",
            "bar_style": "success",
            "description": "",
            "description_tooltip": null,
            "layout": "IPY_MODEL_af6112f5dcd84785aae7e3eebf8b3e25",
            "max": 435779157,
            "min": 0,
            "orientation": "horizontal",
            "style": "IPY_MODEL_712b76f324234ca2bf4b63fb1c1a615f",
            "value": 435779157
          }
        },
        "0c4cba7660e24359ba922ecbcbac4fa8": {
          "model_module": "@jupyter-widgets/controls",
          "model_name": "HTMLModel",
          "model_module_version": "1.5.0",
          "state": {
            "_dom_classes": [],
            "_model_module": "@jupyter-widgets/controls",
            "_model_module_version": "1.5.0",
            "_model_name": "HTMLModel",
            "_view_count": null,
            "_view_module": "@jupyter-widgets/controls",
            "_view_module_version": "1.5.0",
            "_view_name": "HTMLView",
            "description": "",
            "description_tooltip": null,
            "layout": "IPY_MODEL_2c974fb907b64f1784d0b4749516c291",
            "placeholder": "​",
            "style": "IPY_MODEL_4115cbdb7b074c8a8b1c01e8a5fe0c20",
            "value": " 416M/416M [00:15&lt;00:00, 57.3MB/s]"
          }
        },
        "337325ca07584a918a880d6903e96957": {
          "model_module": "@jupyter-widgets/base",
          "model_name": "LayoutModel",
          "model_module_version": "1.2.0",
          "state": {
            "_model_module": "@jupyter-widgets/base",
            "_model_module_version": "1.2.0",
            "_model_name": "LayoutModel",
            "_view_count": null,
            "_view_module": "@jupyter-widgets/base",
            "_view_module_version": "1.2.0",
            "_view_name": "LayoutView",
            "align_content": null,
            "align_items": null,
            "align_self": null,
            "border": null,
            "bottom": null,
            "display": null,
            "flex": null,
            "flex_flow": null,
            "grid_area": null,
            "grid_auto_columns": null,
            "grid_auto_flow": null,
            "grid_auto_rows": null,
            "grid_column": null,
            "grid_gap": null,
            "grid_row": null,
            "grid_template_areas": null,
            "grid_template_columns": null,
            "grid_template_rows": null,
            "height": null,
            "justify_content": null,
            "justify_items": null,
            "left": null,
            "margin": null,
            "max_height": null,
            "max_width": null,
            "min_height": null,
            "min_width": null,
            "object_fit": null,
            "object_position": null,
            "order": null,
            "overflow": null,
            "overflow_x": null,
            "overflow_y": null,
            "padding": null,
            "right": null,
            "top": null,
            "visibility": null,
            "width": null
          }
        },
        "792b321616d64bf7966cc0a4e893f98e": {
          "model_module": "@jupyter-widgets/base",
          "model_name": "LayoutModel",
          "model_module_version": "1.2.0",
          "state": {
            "_model_module": "@jupyter-widgets/base",
            "_model_module_version": "1.2.0",
            "_model_name": "LayoutModel",
            "_view_count": null,
            "_view_module": "@jupyter-widgets/base",
            "_view_module_version": "1.2.0",
            "_view_name": "LayoutView",
            "align_content": null,
            "align_items": null,
            "align_self": null,
            "border": null,
            "bottom": null,
            "display": null,
            "flex": null,
            "flex_flow": null,
            "grid_area": null,
            "grid_auto_columns": null,
            "grid_auto_flow": null,
            "grid_auto_rows": null,
            "grid_column": null,
            "grid_gap": null,
            "grid_row": null,
            "grid_template_areas": null,
            "grid_template_columns": null,
            "grid_template_rows": null,
            "height": null,
            "justify_content": null,
            "justify_items": null,
            "left": null,
            "margin": null,
            "max_height": null,
            "max_width": null,
            "min_height": null,
            "min_width": null,
            "object_fit": null,
            "object_position": null,
            "order": null,
            "overflow": null,
            "overflow_x": null,
            "overflow_y": null,
            "padding": null,
            "right": null,
            "top": null,
            "visibility": null,
            "width": null
          }
        },
        "e40a764acba84792867a0601da992804": {
          "model_module": "@jupyter-widgets/controls",
          "model_name": "DescriptionStyleModel",
          "model_module_version": "1.5.0",
          "state": {
            "_model_module": "@jupyter-widgets/controls",
            "_model_module_version": "1.5.0",
            "_model_name": "DescriptionStyleModel",
            "_view_count": null,
            "_view_module": "@jupyter-widgets/base",
            "_view_module_version": "1.2.0",
            "_view_name": "StyleView",
            "description_width": ""
          }
        },
        "af6112f5dcd84785aae7e3eebf8b3e25": {
          "model_module": "@jupyter-widgets/base",
          "model_name": "LayoutModel",
          "model_module_version": "1.2.0",
          "state": {
            "_model_module": "@jupyter-widgets/base",
            "_model_module_version": "1.2.0",
            "_model_name": "LayoutModel",
            "_view_count": null,
            "_view_module": "@jupyter-widgets/base",
            "_view_module_version": "1.2.0",
            "_view_name": "LayoutView",
            "align_content": null,
            "align_items": null,
            "align_self": null,
            "border": null,
            "bottom": null,
            "display": null,
            "flex": null,
            "flex_flow": null,
            "grid_area": null,
            "grid_auto_columns": null,
            "grid_auto_flow": null,
            "grid_auto_rows": null,
            "grid_column": null,
            "grid_gap": null,
            "grid_row": null,
            "grid_template_areas": null,
            "grid_template_columns": null,
            "grid_template_rows": null,
            "height": null,
            "justify_content": null,
            "justify_items": null,
            "left": null,
            "margin": null,
            "max_height": null,
            "max_width": null,
            "min_height": null,
            "min_width": null,
            "object_fit": null,
            "object_position": null,
            "order": null,
            "overflow": null,
            "overflow_x": null,
            "overflow_y": null,
            "padding": null,
            "right": null,
            "top": null,
            "visibility": null,
            "width": null
          }
        },
        "712b76f324234ca2bf4b63fb1c1a615f": {
          "model_module": "@jupyter-widgets/controls",
          "model_name": "ProgressStyleModel",
          "model_module_version": "1.5.0",
          "state": {
            "_model_module": "@jupyter-widgets/controls",
            "_model_module_version": "1.5.0",
            "_model_name": "ProgressStyleModel",
            "_view_count": null,
            "_view_module": "@jupyter-widgets/base",
            "_view_module_version": "1.2.0",
            "_view_name": "StyleView",
            "bar_color": null,
            "description_width": ""
          }
        },
        "2c974fb907b64f1784d0b4749516c291": {
          "model_module": "@jupyter-widgets/base",
          "model_name": "LayoutModel",
          "model_module_version": "1.2.0",
          "state": {
            "_model_module": "@jupyter-widgets/base",
            "_model_module_version": "1.2.0",
            "_model_name": "LayoutModel",
            "_view_count": null,
            "_view_module": "@jupyter-widgets/base",
            "_view_module_version": "1.2.0",
            "_view_name": "LayoutView",
            "align_content": null,
            "align_items": null,
            "align_self": null,
            "border": null,
            "bottom": null,
            "display": null,
            "flex": null,
            "flex_flow": null,
            "grid_area": null,
            "grid_auto_columns": null,
            "grid_auto_flow": null,
            "grid_auto_rows": null,
            "grid_column": null,
            "grid_gap": null,
            "grid_row": null,
            "grid_template_areas": null,
            "grid_template_columns": null,
            "grid_template_rows": null,
            "height": null,
            "justify_content": null,
            "justify_items": null,
            "left": null,
            "margin": null,
            "max_height": null,
            "max_width": null,
            "min_height": null,
            "min_width": null,
            "object_fit": null,
            "object_position": null,
            "order": null,
            "overflow": null,
            "overflow_x": null,
            "overflow_y": null,
            "padding": null,
            "right": null,
            "top": null,
            "visibility": null,
            "width": null
          }
        },
        "4115cbdb7b074c8a8b1c01e8a5fe0c20": {
          "model_module": "@jupyter-widgets/controls",
          "model_name": "DescriptionStyleModel",
          "model_module_version": "1.5.0",
          "state": {
            "_model_module": "@jupyter-widgets/controls",
            "_model_module_version": "1.5.0",
            "_model_name": "DescriptionStyleModel",
            "_view_count": null,
            "_view_module": "@jupyter-widgets/base",
            "_view_module_version": "1.2.0",
            "_view_name": "StyleView",
            "description_width": ""
          }
        },
        "6b9a6db827b44681976b7f6247378679": {
          "model_module": "@jupyter-widgets/controls",
          "model_name": "HBoxModel",
          "model_module_version": "1.5.0",
          "state": {
            "_dom_classes": [],
            "_model_module": "@jupyter-widgets/controls",
            "_model_module_version": "1.5.0",
            "_model_name": "HBoxModel",
            "_view_count": null,
            "_view_module": "@jupyter-widgets/controls",
            "_view_module_version": "1.5.0",
            "_view_name": "HBoxView",
            "box_style": "",
            "children": [
              "IPY_MODEL_a2c619b511ea4685abeeab93334b3d4b",
              "IPY_MODEL_ee43818301c247a888b067ca328f6d7f",
              "IPY_MODEL_f0163018eaae43af8679f5073b47d2e6"
            ],
            "layout": "IPY_MODEL_443c911da4684250842dba7839e03e54"
          }
        },
        "a2c619b511ea4685abeeab93334b3d4b": {
          "model_module": "@jupyter-widgets/controls",
          "model_name": "HTMLModel",
          "model_module_version": "1.5.0",
          "state": {
            "_dom_classes": [],
            "_model_module": "@jupyter-widgets/controls",
            "_model_module_version": "1.5.0",
            "_model_name": "HTMLModel",
            "_view_count": null,
            "_view_module": "@jupyter-widgets/controls",
            "_view_module_version": "1.5.0",
            "_view_name": "HTMLView",
            "description": "",
            "description_tooltip": null,
            "layout": "IPY_MODEL_609d04e0d72f448994178aabc8d09881",
            "placeholder": "​",
            "style": "IPY_MODEL_9757cfd9506f4f48888b5737571fb779",
            "value": "100%"
          }
        },
        "ee43818301c247a888b067ca328f6d7f": {
          "model_module": "@jupyter-widgets/controls",
          "model_name": "FloatProgressModel",
          "model_module_version": "1.5.0",
          "state": {
            "_dom_classes": [],
            "_model_module": "@jupyter-widgets/controls",
            "_model_module_version": "1.5.0",
            "_model_name": "FloatProgressModel",
            "_view_count": null,
            "_view_module": "@jupyter-widgets/controls",
            "_view_module_version": "1.5.0",
            "_view_name": "ProgressView",
            "bar_style": "",
            "description": "",
            "description_tooltip": null,
            "layout": "IPY_MODEL_4ca55be11a754ff797a8eb5b74e380f8",
            "max": 5,
            "min": 0,
            "orientation": "horizontal",
            "style": "IPY_MODEL_bb4888db21d641e4b4b74fb1500afda1",
            "value": 5
          }
        },
        "f0163018eaae43af8679f5073b47d2e6": {
          "model_module": "@jupyter-widgets/controls",
          "model_name": "HTMLModel",
          "model_module_version": "1.5.0",
          "state": {
            "_dom_classes": [],
            "_model_module": "@jupyter-widgets/controls",
            "_model_module_version": "1.5.0",
            "_model_name": "HTMLModel",
            "_view_count": null,
            "_view_module": "@jupyter-widgets/controls",
            "_view_module_version": "1.5.0",
            "_view_name": "HTMLView",
            "description": "",
            "description_tooltip": null,
            "layout": "IPY_MODEL_6396115d6a48404ba4d5a6ac4f430c8e",
            "placeholder": "​",
            "style": "IPY_MODEL_66f1e8907b4f4f018441db4491034e17",
            "value": " 5/5 [01:16&lt;00:00, 14.20s/it]"
          }
        },
        "443c911da4684250842dba7839e03e54": {
          "model_module": "@jupyter-widgets/base",
          "model_name": "LayoutModel",
          "model_module_version": "1.2.0",
          "state": {
            "_model_module": "@jupyter-widgets/base",
            "_model_module_version": "1.2.0",
            "_model_name": "LayoutModel",
            "_view_count": null,
            "_view_module": "@jupyter-widgets/base",
            "_view_module_version": "1.2.0",
            "_view_name": "LayoutView",
            "align_content": null,
            "align_items": null,
            "align_self": null,
            "border": null,
            "bottom": null,
            "display": null,
            "flex": null,
            "flex_flow": null,
            "grid_area": null,
            "grid_auto_columns": null,
            "grid_auto_flow": null,
            "grid_auto_rows": null,
            "grid_column": null,
            "grid_gap": null,
            "grid_row": null,
            "grid_template_areas": null,
            "grid_template_columns": null,
            "grid_template_rows": null,
            "height": null,
            "justify_content": null,
            "justify_items": null,
            "left": null,
            "margin": null,
            "max_height": null,
            "max_width": null,
            "min_height": null,
            "min_width": null,
            "object_fit": null,
            "object_position": null,
            "order": null,
            "overflow": null,
            "overflow_x": null,
            "overflow_y": null,
            "padding": null,
            "right": null,
            "top": null,
            "visibility": null,
            "width": null
          }
        },
        "609d04e0d72f448994178aabc8d09881": {
          "model_module": "@jupyter-widgets/base",
          "model_name": "LayoutModel",
          "model_module_version": "1.2.0",
          "state": {
            "_model_module": "@jupyter-widgets/base",
            "_model_module_version": "1.2.0",
            "_model_name": "LayoutModel",
            "_view_count": null,
            "_view_module": "@jupyter-widgets/base",
            "_view_module_version": "1.2.0",
            "_view_name": "LayoutView",
            "align_content": null,
            "align_items": null,
            "align_self": null,
            "border": null,
            "bottom": null,
            "display": null,
            "flex": null,
            "flex_flow": null,
            "grid_area": null,
            "grid_auto_columns": null,
            "grid_auto_flow": null,
            "grid_auto_rows": null,
            "grid_column": null,
            "grid_gap": null,
            "grid_row": null,
            "grid_template_areas": null,
            "grid_template_columns": null,
            "grid_template_rows": null,
            "height": null,
            "justify_content": null,
            "justify_items": null,
            "left": null,
            "margin": null,
            "max_height": null,
            "max_width": null,
            "min_height": null,
            "min_width": null,
            "object_fit": null,
            "object_position": null,
            "order": null,
            "overflow": null,
            "overflow_x": null,
            "overflow_y": null,
            "padding": null,
            "right": null,
            "top": null,
            "visibility": null,
            "width": null
          }
        },
        "9757cfd9506f4f48888b5737571fb779": {
          "model_module": "@jupyter-widgets/controls",
          "model_name": "DescriptionStyleModel",
          "model_module_version": "1.5.0",
          "state": {
            "_model_module": "@jupyter-widgets/controls",
            "_model_module_version": "1.5.0",
            "_model_name": "DescriptionStyleModel",
            "_view_count": null,
            "_view_module": "@jupyter-widgets/base",
            "_view_module_version": "1.2.0",
            "_view_name": "StyleView",
            "description_width": ""
          }
        },
        "4ca55be11a754ff797a8eb5b74e380f8": {
          "model_module": "@jupyter-widgets/base",
          "model_name": "LayoutModel",
          "model_module_version": "1.2.0",
          "state": {
            "_model_module": "@jupyter-widgets/base",
            "_model_module_version": "1.2.0",
            "_model_name": "LayoutModel",
            "_view_count": null,
            "_view_module": "@jupyter-widgets/base",
            "_view_module_version": "1.2.0",
            "_view_name": "LayoutView",
            "align_content": null,
            "align_items": null,
            "align_self": null,
            "border": null,
            "bottom": null,
            "display": null,
            "flex": null,
            "flex_flow": null,
            "grid_area": null,
            "grid_auto_columns": null,
            "grid_auto_flow": null,
            "grid_auto_rows": null,
            "grid_column": null,
            "grid_gap": null,
            "grid_row": null,
            "grid_template_areas": null,
            "grid_template_columns": null,
            "grid_template_rows": null,
            "height": null,
            "justify_content": null,
            "justify_items": null,
            "left": null,
            "margin": null,
            "max_height": null,
            "max_width": null,
            "min_height": null,
            "min_width": null,
            "object_fit": null,
            "object_position": null,
            "order": null,
            "overflow": null,
            "overflow_x": null,
            "overflow_y": null,
            "padding": null,
            "right": null,
            "top": null,
            "visibility": null,
            "width": null
          }
        },
        "bb4888db21d641e4b4b74fb1500afda1": {
          "model_module": "@jupyter-widgets/controls",
          "model_name": "ProgressStyleModel",
          "model_module_version": "1.5.0",
          "state": {
            "_model_module": "@jupyter-widgets/controls",
            "_model_module_version": "1.5.0",
            "_model_name": "ProgressStyleModel",
            "_view_count": null,
            "_view_module": "@jupyter-widgets/base",
            "_view_module_version": "1.2.0",
            "_view_name": "StyleView",
            "bar_color": null,
            "description_width": ""
          }
        },
        "6396115d6a48404ba4d5a6ac4f430c8e": {
          "model_module": "@jupyter-widgets/base",
          "model_name": "LayoutModel",
          "model_module_version": "1.2.0",
          "state": {
            "_model_module": "@jupyter-widgets/base",
            "_model_module_version": "1.2.0",
            "_model_name": "LayoutModel",
            "_view_count": null,
            "_view_module": "@jupyter-widgets/base",
            "_view_module_version": "1.2.0",
            "_view_name": "LayoutView",
            "align_content": null,
            "align_items": null,
            "align_self": null,
            "border": null,
            "bottom": null,
            "display": null,
            "flex": null,
            "flex_flow": null,
            "grid_area": null,
            "grid_auto_columns": null,
            "grid_auto_flow": null,
            "grid_auto_rows": null,
            "grid_column": null,
            "grid_gap": null,
            "grid_row": null,
            "grid_template_areas": null,
            "grid_template_columns": null,
            "grid_template_rows": null,
            "height": null,
            "justify_content": null,
            "justify_items": null,
            "left": null,
            "margin": null,
            "max_height": null,
            "max_width": null,
            "min_height": null,
            "min_width": null,
            "object_fit": null,
            "object_position": null,
            "order": null,
            "overflow": null,
            "overflow_x": null,
            "overflow_y": null,
            "padding": null,
            "right": null,
            "top": null,
            "visibility": null,
            "width": null
          }
        },
        "66f1e8907b4f4f018441db4491034e17": {
          "model_module": "@jupyter-widgets/controls",
          "model_name": "DescriptionStyleModel",
          "model_module_version": "1.5.0",
          "state": {
            "_model_module": "@jupyter-widgets/controls",
            "_model_module_version": "1.5.0",
            "_model_name": "DescriptionStyleModel",
            "_view_count": null,
            "_view_module": "@jupyter-widgets/base",
            "_view_module_version": "1.2.0",
            "_view_name": "StyleView",
            "description_width": ""
          }
        }
      }
    }
  },
  "nbformat": 4,
  "nbformat_minor": 0
}