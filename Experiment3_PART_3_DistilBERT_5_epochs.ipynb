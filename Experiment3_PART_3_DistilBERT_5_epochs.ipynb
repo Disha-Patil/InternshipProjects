{
 "cells": [
  {
   "cell_type": "markdown",
   "metadata": {
    "id": "6GkxfuQ8ob0R"
   },
   "source": [
    "# About the Data\n",
    "\n",
    "* The data was taken from \n",
    "the csv file complaints.csv\n",
    "\n",
    "* The complaints are for the products:<br>\n",
    "\n",
    "  1. 'Bank account or service'\n",
    "  2. 'Checking or savings account'\n",
    "  3. 'Consumer Loan'\n",
    "  4. 'Credit card or prepaid card'\n",
    "  5. 'Credit reporting, credit repair services, or other personal consumer reports' \n",
    "  6. 'Debt collection'\n",
    "  7. Money transfer/s, virtual currency, or money service'\n",
    "  8. 'Mortgage'\n",
    "  9. 'Payday loan, title loan, or personal loan'\n",
    "  10. 'Student loan'\n",
    "  11. 'Vehicle loan or lease'\n",
    "\n",
    "* The data cleaning and stopwords removal was done using the spacy library\n",
    "\n",
    "* The sample data has at most 10 percent 'MASK' words. "
   ]
  },
  {
   "cell_type": "markdown",
   "metadata": {
    "id": "jhdSQHY_WYk8"
   },
   "source": [
    "# Fine Tuning DistilBERT model for text classification\n",
    "\n",
    "* The model was trained on 5 epochs and the learning rate was set at 1e-5 and batch size 16\n",
    "\n",
    "* Total training time taken across all epochs [Validation and model saving time included]: 1:59:26 (h:mm:ss)\n",
    "\n",
    "* Data Split:<br>\n",
    "      -Training data: 26787 (72 percent)\n",
    "      -Validation data: 6697 (18 percent)\n",
    "      -Test Data : 3721 (10 percent)\n",
    "\n",
    "* F1-score<br>\n",
    "      -Training data: 0.69\n",
    "      -Validation data: 0.66\n",
    "\n",
    "* Fine-tuning was done on the sample data of size 37205 entries"
   ]
  },
  {
   "cell_type": "markdown",
   "metadata": {
    "id": "HltVocsVxIVZ"
   },
   "source": [
    "## Next Steps\n",
    "\n",
    "* Calculate Metrics on the test Data Set.\n",
    "\n",
    "\n"
   ]
  },
  {
   "cell_type": "markdown",
   "metadata": {
    "id": "M8MJt_UDu36B"
   },
   "source": [
    "## Google Drive access"
   ]
  },
  {
   "cell_type": "code",
   "execution_count": 1,
   "metadata": {
    "colab": {
     "base_uri": "https://localhost:8080/"
    },
    "id": "YpebIE41u3Mh",
    "outputId": "17c890d3-9c28-4413-d7d9-2ee4776417d7"
   },
   "outputs": [
    {
     "name": "stdout",
     "output_type": "stream",
     "text": [
      "Mounted at /content/drive\n"
     ]
    }
   ],
   "source": [
    "from google.colab import drive\n",
    "drive.mount('/content/drive')"
   ]
  },
  {
   "cell_type": "code",
   "execution_count": 12,
   "metadata": {
    "id": "f3hBz6OXw3gQ"
   },
   "outputs": [],
   "source": [
    "# write the appropriate paths to retrieve the data and store results \n",
    "sample_data_path_clean = '/content/drive/MyDrive/Complaints_csv/Experiment3/SAMPLE_DOC_10_PER_MASK_EXP_3.csv'\n",
    "checkpoint_path = \"/content/checkpoint/current_checkpoint.pt\"\n",
    "best_model_path = \"/content/best_model/best_model.pt\"\n",
    "used_test_data_path = \"/content/best_model/Test_data_DistilBERT.csv\"\n",
    "encoded_test_data_path = \"/content/best_model/ENCODED_Test_data_DistilBERT.csv\"\n",
    "label2id_df_path = \"/content/best_model/label2id_df.csv\""
   ]
  },
  {
   "cell_type": "markdown",
   "metadata": {
    "id": "hhdVBYIGW2mH"
   },
   "source": [
    "## Set-up environment\n",
    "\n",
    "Install the libraries HuggingFace Transformers and Datasets"
   ]
  },
  {
   "cell_type": "code",
   "execution_count": 3,
   "metadata": {
    "colab": {
     "base_uri": "https://localhost:8080/"
    },
    "id": "bs0-RE3D76PZ",
    "outputId": "67196e99-6402-44e5-d872-92f849263ae1"
   },
   "outputs": [
    {
     "name": "stdout",
     "output_type": "stream",
     "text": [
      "\u001b[K     |████████████████████████████████| 4.0 MB 8.8 MB/s \n",
      "\u001b[K     |████████████████████████████████| 325 kB 70.5 MB/s \n",
      "\u001b[K     |████████████████████████████████| 596 kB 44.4 MB/s \n",
      "\u001b[K     |████████████████████████████████| 6.6 MB 50.3 MB/s \n",
      "\u001b[K     |████████████████████████████████| 77 kB 8.6 MB/s \n",
      "\u001b[K     |████████████████████████████████| 895 kB 53.9 MB/s \n",
      "\u001b[K     |████████████████████████████████| 1.1 MB 54.2 MB/s \n",
      "\u001b[K     |████████████████████████████████| 212 kB 69.0 MB/s \n",
      "\u001b[K     |████████████████████████████████| 136 kB 76.2 MB/s \n",
      "\u001b[K     |████████████████████████████████| 127 kB 45.2 MB/s \n",
      "\u001b[K     |████████████████████████████████| 144 kB 68.8 MB/s \n",
      "\u001b[K     |████████████████████████████████| 94 kB 3.8 MB/s \n",
      "\u001b[K     |████████████████████████████████| 271 kB 74.1 MB/s \n",
      "\u001b[31mERROR: pip's dependency resolver does not currently take into account all the packages that are installed. This behaviour is the source of the following dependency conflicts.\n",
      "datascience 0.10.6 requires folium==0.2.1, but you have folium 0.8.3 which is incompatible.\u001b[0m\n",
      "\u001b[?25h"
     ]
    }
   ],
   "source": [
    "#Install HuggingFace tranformer and datasets libraries  \n",
    "!pip install -q transformers datasets "
   ]
  },
  {
   "cell_type": "markdown",
   "metadata": {
    "id": "QEvbhhYFfKSX"
   },
   "source": [
    "##Import the Libraries"
   ]
  },
  {
   "cell_type": "code",
   "execution_count": 4,
   "metadata": {
    "id": "yEcekYqCfJWF"
   },
   "outputs": [],
   "source": [
    "import torch\n",
    "import collections "
   ]
  },
  {
   "cell_type": "code",
   "execution_count": 5,
   "metadata": {
    "colab": {
     "base_uri": "https://localhost:8080/"
    },
    "id": "bUvk9uQCAspf",
    "outputId": "aa8128fe-65e6-4327-adcc-eeb768ddd130"
   },
   "outputs": [
    {
     "name": "stdout",
     "output_type": "stream",
     "text": [
      "cuda:0 is available\n"
     ]
    }
   ],
   "source": [
    "#Check if GPU is available\n",
    "\n",
    "device = \"cuda:0\" if torch.cuda.is_available() else \"cpu\"\n",
    "print(device, \"is available\")"
   ]
  },
  {
   "cell_type": "markdown",
   "metadata": {
    "id": "dwnUTHc_WWf9"
   },
   "source": [
    "# Loading the dataset"
   ]
  },
  {
   "cell_type": "code",
   "execution_count": 13,
   "metadata": {
    "colab": {
     "base_uri": "https://localhost:8080/",
     "height": 652
    },
    "id": "hSr1m-4emA8l",
    "outputId": "7c5bd66b-b3b6-4a9c-dcda-f638566958a0"
   },
   "outputs": [
    {
     "data": {
      "text/html": [
       "\n",
       "  <div id=\"df-542511f1-a568-46a1-8607-4837005f00c1\">\n",
       "    <div class=\"colab-df-container\">\n",
       "      <div>\n",
       "<style scoped>\n",
       "    .dataframe tbody tr th:only-of-type {\n",
       "        vertical-align: middle;\n",
       "    }\n",
       "\n",
       "    .dataframe tbody tr th {\n",
       "        vertical-align: top;\n",
       "    }\n",
       "\n",
       "    .dataframe thead th {\n",
       "        text-align: right;\n",
       "    }\n",
       "</style>\n",
       "<table border=\"1\" class=\"dataframe\">\n",
       "  <thead>\n",
       "    <tr style=\"text-align: right;\">\n",
       "      <th></th>\n",
       "      <th>consumer_complaint_narrative</th>\n",
       "      <th>product</th>\n",
       "      <th>split_words_whitespaces</th>\n",
       "      <th>number_of_words</th>\n",
       "      <th>number_of_charachters</th>\n",
       "      <th>charachters_by_words</th>\n",
       "      <th>number_of_unique_words</th>\n",
       "      <th>potenial_mask_words</th>\n",
       "      <th>number_of_potenial_mask_words</th>\n",
       "      <th>potenial_mask_words_BY_words</th>\n",
       "      <th>spacy_doc</th>\n",
       "      <th>Change_text</th>\n",
       "      <th>number_of_&lt;MASK&gt;</th>\n",
       "      <th>&lt;MASK&gt;_BY_WORDS</th>\n",
       "    </tr>\n",
       "  </thead>\n",
       "  <tbody>\n",
       "    <tr>\n",
       "      <th>0</th>\n",
       "      <td>My account # XXXX at Bofa was charged a NSF fe...</td>\n",
       "      <td>Bank account or service</td>\n",
       "      <td>['account', '&lt;MASK&gt;', 'Bofa', 'charged', 'NSF'...</td>\n",
       "      <td>38</td>\n",
       "      <td>258</td>\n",
       "      <td>6</td>\n",
       "      <td>27</td>\n",
       "      <td>['XXXX', 'XXXX/XXXX/2016']</td>\n",
       "      <td>2</td>\n",
       "      <td>0.023529</td>\n",
       "      <td>My account # XXXX at Bofa was charged a NSF fe...</td>\n",
       "      <td>account &lt;MASK&gt; Bofa charged NSF fee &lt;MASK&gt; &lt;M...</td>\n",
       "      <td>3</td>\n",
       "      <td>0.078947</td>\n",
       "    </tr>\n",
       "    <tr>\n",
       "      <th>1</th>\n",
       "      <td>I had my mortgage on auto pay from my bank. I ...</td>\n",
       "      <td>Bank account or service</td>\n",
       "      <td>['mortgage', 'auto', 'pay', 'bank.', '&lt;MASK&gt;',...</td>\n",
       "      <td>17</td>\n",
       "      <td>131</td>\n",
       "      <td>7</td>\n",
       "      <td>17</td>\n",
       "      <td>['XXXX']</td>\n",
       "      <td>1</td>\n",
       "      <td>0.020000</td>\n",
       "      <td>I had my mortgage on auto pay from my bank. I ...</td>\n",
       "      <td>mortgage auto pay bank. &lt;MASK&gt; accounts check...</td>\n",
       "      <td>1</td>\n",
       "      <td>0.058824</td>\n",
       "    </tr>\n",
       "    <tr>\n",
       "      <th>2</th>\n",
       "      <td>XX/XX/2016 on of our newly opened business acc...</td>\n",
       "      <td>Bank account or service</td>\n",
       "      <td>['&lt;MASK&gt;', '&lt;MASK&gt;', 'newly', 'opened', 'busin...</td>\n",
       "      <td>86</td>\n",
       "      <td>617</td>\n",
       "      <td>7</td>\n",
       "      <td>67</td>\n",
       "      <td>['XX/XX/2016']</td>\n",
       "      <td>1</td>\n",
       "      <td>0.005495</td>\n",
       "      <td>XX/XX/2016 on of our newly opened business acc...</td>\n",
       "      <td>&lt;MASK&gt; &lt;MASK&gt; newly opened business account ta...</td>\n",
       "      <td>2</td>\n",
       "      <td>0.023256</td>\n",
       "    </tr>\n",
       "    <tr>\n",
       "      <th>3</th>\n",
       "      <td>I issued a Check for {$7100.00} against my acc...</td>\n",
       "      <td>Bank account or service</td>\n",
       "      <td>['issued', 'Check', '$', '7100.00', 'account',...</td>\n",
       "      <td>66</td>\n",
       "      <td>504</td>\n",
       "      <td>7</td>\n",
       "      <td>48</td>\n",
       "      <td>[]</td>\n",
       "      <td>0</td>\n",
       "      <td>0.000000</td>\n",
       "      <td>I issued a Check for {$7100.00} against my acc...</td>\n",
       "      <td>issued Check $ 7100.00 account deposited Bank...</td>\n",
       "      <td>0</td>\n",
       "      <td>0.000000</td>\n",
       "    </tr>\n",
       "    <tr>\n",
       "      <th>4</th>\n",
       "      <td>XX/XX/2016, I ordered XXXX items using my debi...</td>\n",
       "      <td>Bank account or service</td>\n",
       "      <td>['&lt;MASK&gt;', '&lt;MASK&gt;', 'ordered', '&lt;MASK&gt;', 'ite...</td>\n",
       "      <td>103</td>\n",
       "      <td>737</td>\n",
       "      <td>7</td>\n",
       "      <td>85</td>\n",
       "      <td>['XX/XX/2016,', 'XXXX', 'XXXX.', 'XXXX', 'XXXX...</td>\n",
       "      <td>8</td>\n",
       "      <td>0.033473</td>\n",
       "      <td>XX/XX/2016, I ordered XXXX items using my debi...</td>\n",
       "      <td>&lt;MASK&gt; &lt;MASK&gt; ordered &lt;MASK&gt; items debit card ...</td>\n",
       "      <td>9</td>\n",
       "      <td>0.087379</td>\n",
       "    </tr>\n",
       "  </tbody>\n",
       "</table>\n",
       "</div>\n",
       "      <button class=\"colab-df-convert\" onclick=\"convertToInteractive('df-542511f1-a568-46a1-8607-4837005f00c1')\"\n",
       "              title=\"Convert this dataframe to an interactive table.\"\n",
       "              style=\"display:none;\">\n",
       "        \n",
       "  <svg xmlns=\"http://www.w3.org/2000/svg\" height=\"24px\"viewBox=\"0 0 24 24\"\n",
       "       width=\"24px\">\n",
       "    <path d=\"M0 0h24v24H0V0z\" fill=\"none\"/>\n",
       "    <path d=\"M18.56 5.44l.94 2.06.94-2.06 2.06-.94-2.06-.94-.94-2.06-.94 2.06-2.06.94zm-11 1L8.5 8.5l.94-2.06 2.06-.94-2.06-.94L8.5 2.5l-.94 2.06-2.06.94zm10 10l.94 2.06.94-2.06 2.06-.94-2.06-.94-.94-2.06-.94 2.06-2.06.94z\"/><path d=\"M17.41 7.96l-1.37-1.37c-.4-.4-.92-.59-1.43-.59-.52 0-1.04.2-1.43.59L10.3 9.45l-7.72 7.72c-.78.78-.78 2.05 0 2.83L4 21.41c.39.39.9.59 1.41.59.51 0 1.02-.2 1.41-.59l7.78-7.78 2.81-2.81c.8-.78.8-2.07 0-2.86zM5.41 20L4 18.59l7.72-7.72 1.47 1.35L5.41 20z\"/>\n",
       "  </svg>\n",
       "      </button>\n",
       "      \n",
       "  <style>\n",
       "    .colab-df-container {\n",
       "      display:flex;\n",
       "      flex-wrap:wrap;\n",
       "      gap: 12px;\n",
       "    }\n",
       "\n",
       "    .colab-df-convert {\n",
       "      background-color: #E8F0FE;\n",
       "      border: none;\n",
       "      border-radius: 50%;\n",
       "      cursor: pointer;\n",
       "      display: none;\n",
       "      fill: #1967D2;\n",
       "      height: 32px;\n",
       "      padding: 0 0 0 0;\n",
       "      width: 32px;\n",
       "    }\n",
       "\n",
       "    .colab-df-convert:hover {\n",
       "      background-color: #E2EBFA;\n",
       "      box-shadow: 0px 1px 2px rgba(60, 64, 67, 0.3), 0px 1px 3px 1px rgba(60, 64, 67, 0.15);\n",
       "      fill: #174EA6;\n",
       "    }\n",
       "\n",
       "    [theme=dark] .colab-df-convert {\n",
       "      background-color: #3B4455;\n",
       "      fill: #D2E3FC;\n",
       "    }\n",
       "\n",
       "    [theme=dark] .colab-df-convert:hover {\n",
       "      background-color: #434B5C;\n",
       "      box-shadow: 0px 1px 3px 1px rgba(0, 0, 0, 0.15);\n",
       "      filter: drop-shadow(0px 1px 2px rgba(0, 0, 0, 0.3));\n",
       "      fill: #FFFFFF;\n",
       "    }\n",
       "  </style>\n",
       "\n",
       "      <script>\n",
       "        const buttonEl =\n",
       "          document.querySelector('#df-542511f1-a568-46a1-8607-4837005f00c1 button.colab-df-convert');\n",
       "        buttonEl.style.display =\n",
       "          google.colab.kernel.accessAllowed ? 'block' : 'none';\n",
       "\n",
       "        async function convertToInteractive(key) {\n",
       "          const element = document.querySelector('#df-542511f1-a568-46a1-8607-4837005f00c1');\n",
       "          const dataTable =\n",
       "            await google.colab.kernel.invokeFunction('convertToInteractive',\n",
       "                                                     [key], {});\n",
       "          if (!dataTable) return;\n",
       "\n",
       "          const docLinkHtml = 'Like what you see? Visit the ' +\n",
       "            '<a target=\"_blank\" href=https://colab.research.google.com/notebooks/data_table.ipynb>data table notebook</a>'\n",
       "            + ' to learn more about interactive tables.';\n",
       "          element.innerHTML = '';\n",
       "          dataTable['output_type'] = 'display_data';\n",
       "          await google.colab.output.renderOutput(dataTable, element);\n",
       "          const docLink = document.createElement('div');\n",
       "          docLink.innerHTML = docLinkHtml;\n",
       "          element.appendChild(docLink);\n",
       "        }\n",
       "      </script>\n",
       "    </div>\n",
       "  </div>\n",
       "  "
      ],
      "text/plain": [
       "                        consumer_complaint_narrative                  product  \\\n",
       "0  My account # XXXX at Bofa was charged a NSF fe...  Bank account or service   \n",
       "1  I had my mortgage on auto pay from my bank. I ...  Bank account or service   \n",
       "2  XX/XX/2016 on of our newly opened business acc...  Bank account or service   \n",
       "3  I issued a Check for {$7100.00} against my acc...  Bank account or service   \n",
       "4  XX/XX/2016, I ordered XXXX items using my debi...  Bank account or service   \n",
       "\n",
       "                             split_words_whitespaces  number_of_words  \\\n",
       "0  ['account', '<MASK>', 'Bofa', 'charged', 'NSF'...               38   \n",
       "1  ['mortgage', 'auto', 'pay', 'bank.', '<MASK>',...               17   \n",
       "2  ['<MASK>', '<MASK>', 'newly', 'opened', 'busin...               86   \n",
       "3  ['issued', 'Check', '$', '7100.00', 'account',...               66   \n",
       "4  ['<MASK>', '<MASK>', 'ordered', '<MASK>', 'ite...              103   \n",
       "\n",
       "   number_of_charachters  charachters_by_words  number_of_unique_words  \\\n",
       "0                    258                     6                      27   \n",
       "1                    131                     7                      17   \n",
       "2                    617                     7                      67   \n",
       "3                    504                     7                      48   \n",
       "4                    737                     7                      85   \n",
       "\n",
       "                                 potenial_mask_words  \\\n",
       "0                         ['XXXX', 'XXXX/XXXX/2016']   \n",
       "1                                           ['XXXX']   \n",
       "2                                     ['XX/XX/2016']   \n",
       "3                                                 []   \n",
       "4  ['XX/XX/2016,', 'XXXX', 'XXXX.', 'XXXX', 'XXXX...   \n",
       "\n",
       "   number_of_potenial_mask_words  potenial_mask_words_BY_words  \\\n",
       "0                              2                      0.023529   \n",
       "1                              1                      0.020000   \n",
       "2                              1                      0.005495   \n",
       "3                              0                      0.000000   \n",
       "4                              8                      0.033473   \n",
       "\n",
       "                                           spacy_doc  \\\n",
       "0  My account # XXXX at Bofa was charged a NSF fe...   \n",
       "1  I had my mortgage on auto pay from my bank. I ...   \n",
       "2  XX/XX/2016 on of our newly opened business acc...   \n",
       "3  I issued a Check for {$7100.00} against my acc...   \n",
       "4  XX/XX/2016, I ordered XXXX items using my debi...   \n",
       "\n",
       "                                         Change_text  number_of_<MASK>  \\\n",
       "0   account <MASK> Bofa charged NSF fee <MASK> <M...                 3   \n",
       "1   mortgage auto pay bank. <MASK> accounts check...                 1   \n",
       "2  <MASK> <MASK> newly opened business account ta...                 2   \n",
       "3   issued Check $ 7100.00 account deposited Bank...                 0   \n",
       "4  <MASK> <MASK> ordered <MASK> items debit card ...                 9   \n",
       "\n",
       "   <MASK>_BY_WORDS  \n",
       "0         0.078947  \n",
       "1         0.058824  \n",
       "2         0.023256  \n",
       "3         0.000000  \n",
       "4         0.087379  "
      ]
     },
     "execution_count": 13,
     "metadata": {},
     "output_type": "execute_result"
    }
   ],
   "source": [
    "#Load the data\n",
    "import pandas as pd\n",
    "\n",
    "sample_df = pd.read_csv(sample_data_path_clean, dtype={\"Consumer complaint narrative\": \"string\", \"Consumer consent provided?\": \"string\", \"Timely response?\":\"string\"})\n",
    "sample_df.head()\n"
   ]
  },
  {
   "cell_type": "code",
   "execution_count": 53,
   "metadata": {
    "colab": {
     "base_uri": "https://localhost:8080/"
    },
    "id": "2LH6N19EqhuW",
    "outputId": "1a9a983f-0ec3-4416-a510-dbd46b4290d4"
   },
   "outputs": [
    {
     "name": "stdout",
     "output_type": "stream",
     "text": [
      "<class 'pandas.core.frame.DataFrame'>\n",
      "RangeIndex: 37487 entries, 0 to 37486\n",
      "Data columns (total 14 columns):\n",
      " #   Column                         Non-Null Count  Dtype  \n",
      "---  ------                         --------------  -----  \n",
      " 0   consumer_complaint_narrative   37487 non-null  object \n",
      " 1   Topic                          37487 non-null  object \n",
      " 2   split_words_whitespaces        37487 non-null  object \n",
      " 3   number_of_words                37487 non-null  int64  \n",
      " 4   number_of_charachters          37487 non-null  int64  \n",
      " 5   charachters_by_words           37487 non-null  int64  \n",
      " 6   number_of_unique_words         37487 non-null  int64  \n",
      " 7   potenial_mask_words            37487 non-null  object \n",
      " 8   number_of_potenial_mask_words  37487 non-null  int64  \n",
      " 9   potenial_mask_words_BY_words   37487 non-null  float64\n",
      " 10  spacy_doc                      37487 non-null  object \n",
      " 11  Text                           37487 non-null  object \n",
      " 12  number_of_<MASK>               37487 non-null  int64  \n",
      " 13  <MASK>_BY_WORDS                37487 non-null  float64\n",
      "dtypes: float64(2), int64(6), object(6)\n",
      "memory usage: 4.0+ MB\n"
     ]
    }
   ],
   "source": [
    "data = sample_df.copy()\n",
    "data.rename(columns = {'Change_text':'Text', 'product':'Topic'}, inplace = True)\n",
    "data.info()"
   ]
  },
  {
   "cell_type": "code",
   "execution_count": 54,
   "metadata": {
    "colab": {
     "base_uri": "https://localhost:8080/"
    },
    "id": "yH0QhmSTPMj0",
    "outputId": "d0cf07d3-4646-490e-b90b-85c6c5a935cb"
   },
   "outputs": [
    {
     "data": {
      "text/plain": [
       "Credit reporting, credit repair services, or other personal consumer reports    11598\n",
       "Debt collection                                                                  7601\n",
       "Credit card or prepaid card                                                      5044\n",
       "Mortgage                                                                         4981\n",
       "Student loan                                                                     2163\n",
       "Checking or savings account                                                      1932\n",
       "Bank account or service                                                          1239\n",
       "Money transfer/s, virtual currency, or money service                              764\n",
       "Payday loan, title loan, or personal loan                                         726\n",
       "Vehicle loan or lease                                                             726\n",
       "Consumer Loan                                                                     713\n",
       "Name: Topic, dtype: int64"
      ]
     },
     "execution_count": 54,
     "metadata": {},
     "output_type": "execute_result"
    }
   ],
   "source": [
    "data['Topic'].value_counts()"
   ]
  },
  {
   "cell_type": "code",
   "execution_count": 55,
   "metadata": {
    "colab": {
     "base_uri": "https://localhost:8080/"
    },
    "id": "1IgsXbNJPq9s",
    "outputId": "168592ea-0425-401b-8e11-619592cb09d7"
   },
   "outputs": [
    {
     "name": "stdout",
     "output_type": "stream",
     "text": [
      "<class 'pandas.core.frame.DataFrame'>\n",
      "Int64Index: 37205 entries, 748 to 37444\n",
      "Data columns (total 14 columns):\n",
      " #   Column                         Non-Null Count  Dtype  \n",
      "---  ------                         --------------  -----  \n",
      " 0   consumer_complaint_narrative   37205 non-null  object \n",
      " 1   Topic                          37205 non-null  object \n",
      " 2   split_words_whitespaces        37205 non-null  object \n",
      " 3   number_of_words                37205 non-null  int64  \n",
      " 4   number_of_charachters          37205 non-null  int64  \n",
      " 5   charachters_by_words           37205 non-null  int64  \n",
      " 6   number_of_unique_words         37205 non-null  int64  \n",
      " 7   potenial_mask_words            37205 non-null  object \n",
      " 8   number_of_potenial_mask_words  37205 non-null  int64  \n",
      " 9   potenial_mask_words_BY_words   37205 non-null  float64\n",
      " 10  spacy_doc                      37205 non-null  object \n",
      " 11  Text                           37205 non-null  object \n",
      " 12  number_of_<MASK>               37205 non-null  int64  \n",
      " 13  <MASK>_BY_WORDS                37205 non-null  float64\n",
      "dtypes: float64(2), int64(6), object(6)\n",
      "memory usage: 4.3+ MB\n"
     ]
    }
   ],
   "source": [
    "#Drop duplicate 'Text'\n",
    "# drop the duplicate entries which are not maximum length\n",
    "data  = data.loc[data['number_of_words'].groupby(data['Text']).idxmax()].sort_values('Topic')\n",
    "data.info()\n"
   ]
  },
  {
   "cell_type": "code",
   "execution_count": 57,
   "metadata": {
    "colab": {
     "base_uri": "https://localhost:8080/"
    },
    "id": "BLMjatJgoRM8",
    "outputId": "5b8020d9-391a-4e38-99c4-0840126d41e9"
   },
   "outputs": [
    {
     "name": "stdout",
     "output_type": "stream",
     "text": [
      "<class 'pandas.core.frame.DataFrame'>\n",
      "RangeIndex: 37205 entries, 0 to 37204\n",
      "Data columns (total 2 columns):\n",
      " #   Column  Non-Null Count  Dtype \n",
      "---  ------  --------------  ----- \n",
      " 0   Text    37205 non-null  object\n",
      " 1   Topic   37205 non-null  object\n",
      "dtypes: object(2)\n",
      "memory usage: 581.5+ KB\n"
     ]
    }
   ],
   "source": [
    "data = data.loc[:,['Text','Topic']].reset_index(drop=True)\n",
    "data.info()"
   ]
  },
  {
   "cell_type": "code",
   "execution_count": 58,
   "metadata": {
    "colab": {
     "base_uri": "https://localhost:8080/",
     "height": 206
    },
    "id": "iWEJYGBIG1lf",
    "outputId": "7fc790ca-d777-4bf1-a151-2078648b1400"
   },
   "outputs": [
    {
     "data": {
      "text/html": [
       "\n",
       "  <div id=\"df-8bfc91ed-6055-4dd6-aa91-b63647550ede\">\n",
       "    <div class=\"colab-df-container\">\n",
       "      <div>\n",
       "<style scoped>\n",
       "    .dataframe tbody tr th:only-of-type {\n",
       "        vertical-align: middle;\n",
       "    }\n",
       "\n",
       "    .dataframe tbody tr th {\n",
       "        vertical-align: top;\n",
       "    }\n",
       "\n",
       "    .dataframe thead th {\n",
       "        text-align: right;\n",
       "    }\n",
       "</style>\n",
       "<table border=\"1\" class=\"dataframe\">\n",
       "  <thead>\n",
       "    <tr style=\"text-align: right;\">\n",
       "      <th></th>\n",
       "      <th>Text</th>\n",
       "      <th>Topic</th>\n",
       "    </tr>\n",
       "  </thead>\n",
       "  <tbody>\n",
       "    <tr>\n",
       "      <th>37200</th>\n",
       "      <td>Santander Consumer USA erroneously reporting b...</td>\n",
       "      <td>Vehicle loan or lease</td>\n",
       "    </tr>\n",
       "    <tr>\n",
       "      <th>37201</th>\n",
       "      <td>contacted Capital &lt;MASK&gt; &lt;MASK&gt; extend Auto l...</td>\n",
       "      <td>Vehicle loan or lease</td>\n",
       "    </tr>\n",
       "    <tr>\n",
       "      <th>37202</th>\n",
       "      <td>Santander Consumer USA Took car loan Gateway L...</td>\n",
       "      <td>Vehicle loan or lease</td>\n",
       "    </tr>\n",
       "    <tr>\n",
       "      <th>37203</th>\n",
       "      <td>received pre qualification letter stating int...</td>\n",
       "      <td>Vehicle loan or lease</td>\n",
       "    </tr>\n",
       "    <tr>\n",
       "      <th>37204</th>\n",
       "      <td>requested Form Auto Payments automatically de...</td>\n",
       "      <td>Vehicle loan or lease</td>\n",
       "    </tr>\n",
       "  </tbody>\n",
       "</table>\n",
       "</div>\n",
       "      <button class=\"colab-df-convert\" onclick=\"convertToInteractive('df-8bfc91ed-6055-4dd6-aa91-b63647550ede')\"\n",
       "              title=\"Convert this dataframe to an interactive table.\"\n",
       "              style=\"display:none;\">\n",
       "        \n",
       "  <svg xmlns=\"http://www.w3.org/2000/svg\" height=\"24px\"viewBox=\"0 0 24 24\"\n",
       "       width=\"24px\">\n",
       "    <path d=\"M0 0h24v24H0V0z\" fill=\"none\"/>\n",
       "    <path d=\"M18.56 5.44l.94 2.06.94-2.06 2.06-.94-2.06-.94-.94-2.06-.94 2.06-2.06.94zm-11 1L8.5 8.5l.94-2.06 2.06-.94-2.06-.94L8.5 2.5l-.94 2.06-2.06.94zm10 10l.94 2.06.94-2.06 2.06-.94-2.06-.94-.94-2.06-.94 2.06-2.06.94z\"/><path d=\"M17.41 7.96l-1.37-1.37c-.4-.4-.92-.59-1.43-.59-.52 0-1.04.2-1.43.59L10.3 9.45l-7.72 7.72c-.78.78-.78 2.05 0 2.83L4 21.41c.39.39.9.59 1.41.59.51 0 1.02-.2 1.41-.59l7.78-7.78 2.81-2.81c.8-.78.8-2.07 0-2.86zM5.41 20L4 18.59l7.72-7.72 1.47 1.35L5.41 20z\"/>\n",
       "  </svg>\n",
       "      </button>\n",
       "      \n",
       "  <style>\n",
       "    .colab-df-container {\n",
       "      display:flex;\n",
       "      flex-wrap:wrap;\n",
       "      gap: 12px;\n",
       "    }\n",
       "\n",
       "    .colab-df-convert {\n",
       "      background-color: #E8F0FE;\n",
       "      border: none;\n",
       "      border-radius: 50%;\n",
       "      cursor: pointer;\n",
       "      display: none;\n",
       "      fill: #1967D2;\n",
       "      height: 32px;\n",
       "      padding: 0 0 0 0;\n",
       "      width: 32px;\n",
       "    }\n",
       "\n",
       "    .colab-df-convert:hover {\n",
       "      background-color: #E2EBFA;\n",
       "      box-shadow: 0px 1px 2px rgba(60, 64, 67, 0.3), 0px 1px 3px 1px rgba(60, 64, 67, 0.15);\n",
       "      fill: #174EA6;\n",
       "    }\n",
       "\n",
       "    [theme=dark] .colab-df-convert {\n",
       "      background-color: #3B4455;\n",
       "      fill: #D2E3FC;\n",
       "    }\n",
       "\n",
       "    [theme=dark] .colab-df-convert:hover {\n",
       "      background-color: #434B5C;\n",
       "      box-shadow: 0px 1px 3px 1px rgba(0, 0, 0, 0.15);\n",
       "      filter: drop-shadow(0px 1px 2px rgba(0, 0, 0, 0.3));\n",
       "      fill: #FFFFFF;\n",
       "    }\n",
       "  </style>\n",
       "\n",
       "      <script>\n",
       "        const buttonEl =\n",
       "          document.querySelector('#df-8bfc91ed-6055-4dd6-aa91-b63647550ede button.colab-df-convert');\n",
       "        buttonEl.style.display =\n",
       "          google.colab.kernel.accessAllowed ? 'block' : 'none';\n",
       "\n",
       "        async function convertToInteractive(key) {\n",
       "          const element = document.querySelector('#df-8bfc91ed-6055-4dd6-aa91-b63647550ede');\n",
       "          const dataTable =\n",
       "            await google.colab.kernel.invokeFunction('convertToInteractive',\n",
       "                                                     [key], {});\n",
       "          if (!dataTable) return;\n",
       "\n",
       "          const docLinkHtml = 'Like what you see? Visit the ' +\n",
       "            '<a target=\"_blank\" href=https://colab.research.google.com/notebooks/data_table.ipynb>data table notebook</a>'\n",
       "            + ' to learn more about interactive tables.';\n",
       "          element.innerHTML = '';\n",
       "          dataTable['output_type'] = 'display_data';\n",
       "          await google.colab.output.renderOutput(dataTable, element);\n",
       "          const docLink = document.createElement('div');\n",
       "          docLink.innerHTML = docLinkHtml;\n",
       "          element.appendChild(docLink);\n",
       "        }\n",
       "      </script>\n",
       "    </div>\n",
       "  </div>\n",
       "  "
      ],
      "text/plain": [
       "                                                    Text  \\\n",
       "37200  Santander Consumer USA erroneously reporting b...   \n",
       "37201   contacted Capital <MASK> <MASK> extend Auto l...   \n",
       "37202  Santander Consumer USA Took car loan Gateway L...   \n",
       "37203   received pre qualification letter stating int...   \n",
       "37204   requested Form Auto Payments automatically de...   \n",
       "\n",
       "                       Topic  \n",
       "37200  Vehicle loan or lease  \n",
       "37201  Vehicle loan or lease  \n",
       "37202  Vehicle loan or lease  \n",
       "37203  Vehicle loan or lease  \n",
       "37204  Vehicle loan or lease  "
      ]
     },
     "execution_count": 58,
     "metadata": {},
     "output_type": "execute_result"
    }
   ],
   "source": [
    "data.tail()"
   ]
  },
  {
   "cell_type": "code",
   "execution_count": 59,
   "metadata": {
    "colab": {
     "base_uri": "https://localhost:8080/"
    },
    "id": "cHkxjJUqsjlV",
    "outputId": "11713736-4ba9-433b-f71f-3c0b93a2b8a9"
   },
   "outputs": [
    {
     "data": {
      "text/plain": [
       "Dataset({\n",
       "    features: ['Text', 'Topic'],\n",
       "    num_rows: 37205\n",
       "})"
      ]
     },
     "execution_count": 59,
     "metadata": {},
     "output_type": "execute_result"
    }
   ],
   "source": [
    "#Convert the Data into HuggingFace Dataset\n",
    "from datasets import Dataset\n",
    "dataset = Dataset.from_pandas(data)\n",
    "dataset\n"
   ]
  },
  {
   "cell_type": "markdown",
   "metadata": {
    "id": "4KoNgkasXvkF"
   },
   "source": [
    "The dataset has to be split into training, validation and test set. Let's check the first example of the dataset:\n",
    "\n"
   ]
  },
  {
   "cell_type": "code",
   "execution_count": 60,
   "metadata": {
    "colab": {
     "base_uri": "https://localhost:8080/"
    },
    "id": "9mdy4kv_Xq7_",
    "outputId": "802137bd-6a55-4c38-fe86-469694bf9c6a"
   },
   "outputs": [
    {
     "data": {
      "text/plain": [
       "{'Text': ' Unreasonable PNC Service fee charges complaint $ 2.00 service fee charge monthly paper statements PNC charged specified wanted online statements opened account. opened checking account PNC told PNC wanted online statements avoid $ 2.00 service fee. months later found charged $ 2.00 service fee spend account $ 2.00 reserve account. called Customer Service told way PNC system set month customer receive paper statement charged $ 2.00 service fee spend reserve accounts. PNC making pay inability fix system specified online send paper statement charge unreasonable infuriating making double killing spend account tied reserve account growth savings account. transfer money spend account reserve account got charged  look unreasonable burdensome service charges system wrong PNC FINED SERVICE CHARGES RETURNED CUSTOMERS PAY PNC INEFFICIENCY INABILITY FIX SYSTEM  Thank <MASK> <MASK> <MASK> PNC client <MASK> VA ',\n",
       " 'Topic': 'Bank account or service'}"
      ]
     },
     "execution_count": 60,
     "metadata": {},
     "output_type": "execute_result"
    }
   ],
   "source": [
    "example = dataset[0]\n",
    "example"
   ]
  },
  {
   "cell_type": "markdown",
   "metadata": {
    "id": "4NxoB_pEeoqC"
   },
   "source": [
    "The dataset consists of text, with one or more topic labels. Let's check the frequency count of the labels "
   ]
  },
  {
   "cell_type": "code",
   "execution_count": 61,
   "metadata": {
    "id": "6vt39IT-PIrJ"
   },
   "outputs": [],
   "source": [
    "#Define the function to check the frequency count of elements in the list\n",
    "def frequency_count(mylist):\n",
    "  frequency = collections.Counter(mylist)\n",
    "  [print(key,':',value) for key, value in frequency.items()]"
   ]
  },
  {
   "cell_type": "code",
   "execution_count": 62,
   "metadata": {
    "colab": {
     "base_uri": "https://localhost:8080/"
    },
    "id": "xexP8nBkUxFH",
    "outputId": "89fa172b-d70d-4f0c-d8b4-5bcd641f2aac"
   },
   "outputs": [
    {
     "name": "stdout",
     "output_type": "stream",
     "text": [
      "The Frequency of Topics in the Dataset : \n",
      "\n",
      "Bank account or service : 1239\n",
      "Checking or savings account : 1932\n",
      "Consumer Loan : 713\n",
      "Credit card or prepaid card : 5018\n",
      "Credit reporting, credit repair services, or other personal consumer reports : 11393\n",
      "Debt collection : 7554\n",
      "Money transfer/s, virtual currency, or money service : 764\n",
      "Mortgage : 4981\n",
      "Payday loan, title loan, or personal loan : 726\n",
      "Student loan : 2163\n",
      "Vehicle loan or lease : 722\n"
     ]
    }
   ],
   "source": [
    "print(\"The Frequency of Topics in the Dataset : \\n\")\n",
    "frequency_count(dataset['Topic'])"
   ]
  },
  {
   "cell_type": "markdown",
   "metadata": {
    "id": "O2vMBpfuVQxk"
   },
   "source": [
    "Let's sort the dataset by Topic name"
   ]
  },
  {
   "cell_type": "code",
   "execution_count": 63,
   "metadata": {
    "id": "hijMDEeKVU8-"
   },
   "outputs": [],
   "source": [
    "dataset= dataset.sort('Topic')"
   ]
  },
  {
   "cell_type": "code",
   "execution_count": 64,
   "metadata": {
    "colab": {
     "base_uri": "https://localhost:8080/"
    },
    "id": "RZQbBWHxVZ2V",
    "outputId": "f6c449fe-978f-4233-d878-154dfa09b842"
   },
   "outputs": [
    {
     "name": "stdout",
     "output_type": "stream",
     "text": [
      "The Frequency of Topics in the Dataset : \n",
      "\n",
      "Bank account or service : 1239\n",
      "Checking or savings account : 1932\n",
      "Consumer Loan : 713\n",
      "Credit card or prepaid card : 5018\n",
      "Credit reporting, credit repair services, or other personal consumer reports : 11393\n",
      "Debt collection : 7554\n",
      "Money transfer/s, virtual currency, or money service : 764\n",
      "Mortgage : 4981\n",
      "Payday loan, title loan, or personal loan : 726\n",
      "Student loan : 2163\n",
      "Vehicle loan or lease : 722\n"
     ]
    }
   ],
   "source": [
    "print(\"The Frequency of Topics in the Dataset : \\n\")\n",
    "frequency_count(dataset['Topic'])"
   ]
  },
  {
   "cell_type": "markdown",
   "metadata": {
    "id": "MUfKp87VVHI_"
   },
   "source": [
    "Let's look at the features of the dataset"
   ]
  },
  {
   "cell_type": "code",
   "execution_count": 65,
   "metadata": {
    "colab": {
     "base_uri": "https://localhost:8080/"
    },
    "id": "OWINgHQnVJ5f",
    "outputId": "17eee2ca-b6b0-4224-8001-6ef63229f217"
   },
   "outputs": [
    {
     "data": {
      "text/plain": [
       "{'Text': Value(dtype='string', id=None),\n",
       " 'Topic': Value(dtype='string', id=None)}"
      ]
     },
     "execution_count": 65,
     "metadata": {},
     "output_type": "execute_result"
    }
   ],
   "source": [
    "dataset.features"
   ]
  },
  {
   "cell_type": "markdown",
   "metadata": {
    "id": "DhDaRWplVTuC"
   },
   "source": [
    "Let's rename the columns Text to sentence and Topic to label"
   ]
  },
  {
   "cell_type": "code",
   "execution_count": 66,
   "metadata": {
    "colab": {
     "base_uri": "https://localhost:8080/"
    },
    "id": "kgGN5gc4VUyb",
    "outputId": "846a27e5-89da-4917-cb2e-827086fb3c6d"
   },
   "outputs": [
    {
     "data": {
      "text/plain": [
       "Dataset({\n",
       "    features: ['sentence', 'label'],\n",
       "    num_rows: 37205\n",
       "})"
      ]
     },
     "execution_count": 66,
     "metadata": {},
     "output_type": "execute_result"
    }
   ],
   "source": [
    "dataset = dataset.rename_column(\"Text\", \"sentence\")\n",
    "dataset = dataset.rename_column(\"Topic\", \"label\")\n",
    "dataset"
   ]
  },
  {
   "cell_type": "markdown",
   "metadata": {
    "id": "p9kyy8v_tjkY"
   },
   "source": [
    "Let's create a list that contains the labels, as well as 2 dictionaries that map labels to integers and back."
   ]
  },
  {
   "cell_type": "code",
   "execution_count": 67,
   "metadata": {
    "colab": {
     "base_uri": "https://localhost:8080/"
    },
    "id": "ugIFhNg3trOP",
    "outputId": "17bec179-a9e4-482b-8509-cc51a97b13a7"
   },
   "outputs": [
    {
     "data": {
      "text/plain": [
       "['Bank account or service',\n",
       " 'Checking or savings account',\n",
       " 'Consumer Loan',\n",
       " 'Credit card or prepaid card',\n",
       " 'Credit reporting, credit repair services, or other personal consumer reports',\n",
       " 'Debt collection',\n",
       " 'Money transfer/s, virtual currency, or money service',\n",
       " 'Mortgage',\n",
       " 'Payday loan, title loan, or personal loan',\n",
       " 'Student loan',\n",
       " 'Vehicle loan or lease']"
      ]
     },
     "execution_count": 67,
     "metadata": {},
     "output_type": "execute_result"
    }
   ],
   "source": [
    "labels = sorted(list(set(dataset['label'])))\n",
    "id2label = {idx:label for idx, label in enumerate(labels)}\n",
    "label2id = {label:idx for idx, label in enumerate(labels)}\n",
    "labels"
   ]
  },
  {
   "cell_type": "markdown",
   "metadata": {
    "id": "VsvsAIRAMMVj"
   },
   "source": [
    "The dataset consists of 11 topics."
   ]
  },
  {
   "cell_type": "markdown",
   "metadata": {
    "id": "UKukAGDvp7cP"
   },
   "source": [
    "## Splitting the Data into Train, Validation and Test set\n",
    "\n",
    "\n",
    "\n",
    "\n"
   ]
  },
  {
   "cell_type": "code",
   "execution_count": 68,
   "metadata": {
    "id": "ol_9v8qaqT7H"
   },
   "outputs": [],
   "source": [
    "fix_seed =42\n",
    "from sklearn.model_selection import train_test_split"
   ]
  },
  {
   "cell_type": "code",
   "execution_count": 69,
   "metadata": {
    "id": "pMKJRWshPTVE"
   },
   "outputs": [],
   "source": [
    "#split data into train_val and test set \n",
    "X= dataset['sentence']\n",
    "y= dataset['label']\n",
    "X_train_val, X_test, y_train_val, y_test = train_test_split(X, y, test_size=0.1,stratify=y ,random_state=fix_seed)"
   ]
  },
  {
   "cell_type": "code",
   "execution_count": 70,
   "metadata": {
    "id": "c0FTvgIqPTlq"
   },
   "outputs": [],
   "source": [
    "#split data into train and validation set \n",
    "X_train, X_val,y_train, y_val = train_test_split(X_train_val, y_train_val,stratify=y_train_val, test_size=0.2, random_state=fix_seed)"
   ]
  },
  {
   "cell_type": "code",
   "execution_count": 71,
   "metadata": {
    "colab": {
     "base_uri": "https://localhost:8080/"
    },
    "id": "uqeaiHLFp3d1",
    "outputId": "d29c6d8a-a949-4cf1-8a7b-91703a5df8fd"
   },
   "outputs": [
    {
     "data": {
      "text/plain": [
       "Dataset({\n",
       "    features: ['sentence', 'label'],\n",
       "    num_rows: 26787\n",
       "})"
      ]
     },
     "execution_count": 71,
     "metadata": {},
     "output_type": "execute_result"
    }
   ],
   "source": [
    "dict_train = {\"sentence\": X_train,\"label\":y_train}\n",
    "train_data = Dataset.from_dict(dict_train)\n",
    "train_data"
   ]
  },
  {
   "cell_type": "code",
   "execution_count": 72,
   "metadata": {
    "colab": {
     "base_uri": "https://localhost:8080/"
    },
    "id": "UikJEfdoUS7w",
    "outputId": "0a877f22-d148-417e-ece1-29e2631d9a20"
   },
   "outputs": [
    {
     "data": {
      "text/plain": [
       "Dataset({\n",
       "    features: ['sentence', 'label'],\n",
       "    num_rows: 6697\n",
       "})"
      ]
     },
     "execution_count": 72,
     "metadata": {},
     "output_type": "execute_result"
    }
   ],
   "source": [
    "dict_val = {\"sentence\": X_val,\"label\":y_val}\n",
    "val_data = Dataset.from_dict(dict_val)\n",
    "val_data"
   ]
  },
  {
   "cell_type": "code",
   "execution_count": 73,
   "metadata": {
    "colab": {
     "base_uri": "https://localhost:8080/"
    },
    "id": "GIERzmqJUTEQ",
    "outputId": "c23be13f-7a06-4741-da7a-78d8e6255de1"
   },
   "outputs": [
    {
     "data": {
      "text/plain": [
       "Dataset({\n",
       "    features: ['sentence', 'label'],\n",
       "    num_rows: 3721\n",
       "})"
      ]
     },
     "execution_count": 73,
     "metadata": {},
     "output_type": "execute_result"
    }
   ],
   "source": [
    "dict_test = {\"sentence\": X_test,\"label\":y_test}\n",
    "test_data = Dataset.from_dict(dict_test)\n",
    "test_data"
   ]
  },
  {
   "cell_type": "markdown",
   "metadata": {
    "id": "tGbsKDXm4QsW"
   },
   "source": [
    "Let's Check the Frequency Count of Train, Validation and Test label data"
   ]
  },
  {
   "cell_type": "code",
   "execution_count": 74,
   "metadata": {
    "colab": {
     "base_uri": "https://localhost:8080/"
    },
    "id": "78X1pl5yVyU2",
    "outputId": "581d188d-09ec-4021-eb20-76c652dee7cb"
   },
   "outputs": [
    {
     "name": "stdout",
     "output_type": "stream",
     "text": [
      "Credit reporting, credit repair services, or other personal consumer reports : 8202\n",
      "Student loan : 1558\n",
      "Debt collection : 5438\n",
      "Mortgage : 3586\n",
      "Money transfer/s, virtual currency, or money service : 550\n",
      "Credit card or prepaid card : 3613\n",
      "Checking or savings account : 1391\n",
      "Bank account or service : 892\n",
      "Consumer Loan : 514\n",
      "Payday loan, title loan, or personal loan : 523\n",
      "Vehicle loan or lease : 520\n"
     ]
    }
   ],
   "source": [
    "frequency_count(y_train)"
   ]
  },
  {
   "cell_type": "code",
   "execution_count": 75,
   "metadata": {
    "colab": {
     "base_uri": "https://localhost:8080/"
    },
    "id": "_BdUm8uv4CuD",
    "outputId": "188c7126-4b7e-4e33-b989-e40464507a88"
   },
   "outputs": [
    {
     "name": "stdout",
     "output_type": "stream",
     "text": [
      "Credit reporting, credit repair services, or other personal consumer reports : 2051\n",
      "Student loan : 389\n",
      "Mortgage : 897\n",
      "Payday loan, title loan, or personal loan : 130\n",
      "Debt collection : 1360\n",
      "Checking or savings account : 348\n",
      "Credit card or prepaid card : 903\n",
      "Bank account or service : 223\n",
      "Consumer Loan : 128\n",
      "Vehicle loan or lease : 130\n",
      "Money transfer/s, virtual currency, or money service : 138\n"
     ]
    }
   ],
   "source": [
    "frequency_count(y_val)"
   ]
  },
  {
   "cell_type": "code",
   "execution_count": 76,
   "metadata": {
    "colab": {
     "base_uri": "https://localhost:8080/"
    },
    "id": "zKNP7tWXV2_R",
    "outputId": "83b4e559-77a3-4667-8ee9-0ca782ed1992"
   },
   "outputs": [
    {
     "name": "stdout",
     "output_type": "stream",
     "text": [
      "Credit card or prepaid card : 502\n",
      "Credit reporting, credit repair services, or other personal consumer reports : 1140\n",
      "Mortgage : 498\n",
      "Debt collection : 756\n",
      "Vehicle loan or lease : 72\n",
      "Payday loan, title loan, or personal loan : 73\n",
      "Money transfer/s, virtual currency, or money service : 76\n",
      "Checking or savings account : 193\n",
      "Student loan : 216\n",
      "Bank account or service : 124\n",
      "Consumer Loan : 71\n"
     ]
    }
   ],
   "source": [
    "frequency_count(y_test)"
   ]
  },
  {
   "cell_type": "code",
   "execution_count": 77,
   "metadata": {
    "colab": {
     "base_uri": "https://localhost:8080/"
    },
    "id": "xNZXfECRrzta",
    "outputId": "96049dac-b9fd-4404-8184-aa5438d562b3"
   },
   "outputs": [
    {
     "data": {
      "text/plain": [
       "DatasetDict({\n",
       "    train: Dataset({\n",
       "        features: ['sentence', 'label'],\n",
       "        num_rows: 26787\n",
       "    })\n",
       "    validation: Dataset({\n",
       "        features: ['sentence', 'label'],\n",
       "        num_rows: 6697\n",
       "    })\n",
       "    test: Dataset({\n",
       "        features: ['sentence', 'label'],\n",
       "        num_rows: 3721\n",
       "    })\n",
       "})"
      ]
     },
     "execution_count": 77,
     "metadata": {},
     "output_type": "execute_result"
    }
   ],
   "source": [
    "from datasets.dataset_dict import DatasetDict\n",
    "dataset_clean = DatasetDict({\n",
    "    'train': train_data,\n",
    "    'validation': val_data,\n",
    "    'test': test_data\n",
    "})\n",
    "dataset_clean"
   ]
  },
  {
   "cell_type": "markdown",
   "metadata": {
    "id": "vN3TNouDhh0r"
   },
   "source": [
    "## Preprocess data\n",
    "\n",
    "\n",
    "Since the model don't expect text as direct input, but rather `input_ids`, etc., we tokenize the text using the tokenizer. Here I'm using the `AutoTokenizer` API, which will automatically load the appropriate tokenizer based on the checkpoint on the hub."
   ]
  },
  {
   "cell_type": "code",
   "execution_count": 78,
   "metadata": {
    "colab": {
     "base_uri": "https://localhost:8080/",
     "height": 145,
     "referenced_widgets": [
      "e7782b5f4e61469595419bfadd17aec3",
      "a333981bbbc14e4090de59bbcd4ded71",
      "da60838fa296403cac4707302c408131",
      "7191c4bb91924f0c9645cf5a12b7cf85",
      "0708ef9399674daa872f27d8848c9c2d",
      "143450a3b4f54398a6ebd7ffb59fb4c4",
      "2ea0a44b0d204c2d831807850c3f8c80",
      "5730e5b654354538bd8bcccdc3b6b764",
      "e97d5f911de04ee8bdd7af67dc156f89",
      "09588fc6ccac4ae58861fb852b086924",
      "8d0bb6f6b8a64d2e9002c7214f0f045c",
      "b2393baa40c74ea8b7b64459d25c842a",
      "3db31ff6898c41d996c5aff063f561bd",
      "38e76bef25684065865a778f2d2f6a7d",
      "acf8b2f3f9ea4327b4ff716eb1862211",
      "db4c4118e4fe45fbbf1d23625948921e",
      "6be89d394abd4d0792afb2adb8a242fe",
      "61541322ac814db787aee34cb2cb5435",
      "bd6967f0ec0b44fba0857e3cf80d20d4",
      "7e94e01cc2fa4327b0307382cadc95c1",
      "30c2805b4ac941838d66c0c4b6ab415a",
      "cd6b9c0473f5476d9bcfad4e0dac5494",
      "1e584aa51c4145efb196480ce357837d",
      "8c9e85ab39ea4b4eab452696dde78190",
      "df8e2715ff6249c7b52275c31d4b1277",
      "13b4614ec46548039d3c93078bd9804c",
      "bd5d87d9c63543d18b2a78b0d1fb3063",
      "c56b831ebd104dd68648439c384d3114",
      "5eef54b30f3d405b800190779301bdc2",
      "6d0cb60924ea46998c81228f2d189444",
      "97d9a08801164c509042f825b5159847",
      "1abefbd8928846bd9ffdfc5ba274803b",
      "722058af64f84d90bf4a12199f0a8889",
      "4d900cd348644dc1a42bbdf6c7f8cd70",
      "fed9acfe66ba4f0b81ebf426cb1ee194",
      "c72e54c425a64c3aa5e7c56b45f27da2",
      "c4ea057e37704ad0a934e346ed9e0334",
      "fdd238a372c04fedb53219c1667606e9",
      "6a94c4a4b57846c3bdfbff2034ce630c",
      "f41c3e5d951e4ffa88a7c534dcf89099",
      "34df051048484226b360f2539a83b458",
      "710607e482384d34b27f152b95efb783",
      "e1ab1879ff3e4ca8a27fc77a80883196",
      "fd953de4929a448fbc0aded5c55762db"
     ]
    },
    "id": "ImOVtxX5jafN",
    "outputId": "9600cd6c-7f2c-4f77-8144-cbbf3f174782"
   },
   "outputs": [
    {
     "data": {
      "application/vnd.jupyter.widget-view+json": {
       "model_id": "e7782b5f4e61469595419bfadd17aec3",
       "version_major": 2,
       "version_minor": 0
      },
      "text/plain": [
       "Downloading:   0%|          | 0.00/29.0 [00:00<?, ?B/s]"
      ]
     },
     "metadata": {},
     "output_type": "display_data"
    },
    {
     "data": {
      "application/vnd.jupyter.widget-view+json": {
       "model_id": "b2393baa40c74ea8b7b64459d25c842a",
       "version_major": 2,
       "version_minor": 0
      },
      "text/plain": [
       "Downloading:   0%|          | 0.00/411 [00:00<?, ?B/s]"
      ]
     },
     "metadata": {},
     "output_type": "display_data"
    },
    {
     "data": {
      "application/vnd.jupyter.widget-view+json": {
       "model_id": "1e584aa51c4145efb196480ce357837d",
       "version_major": 2,
       "version_minor": 0
      },
      "text/plain": [
       "Downloading:   0%|          | 0.00/208k [00:00<?, ?B/s]"
      ]
     },
     "metadata": {},
     "output_type": "display_data"
    },
    {
     "data": {
      "application/vnd.jupyter.widget-view+json": {
       "model_id": "4d900cd348644dc1a42bbdf6c7f8cd70",
       "version_major": 2,
       "version_minor": 0
      },
      "text/plain": [
       "Downloading:   0%|          | 0.00/426k [00:00<?, ?B/s]"
      ]
     },
     "metadata": {},
     "output_type": "display_data"
    }
   ],
   "source": [
    "from transformers import AutoTokenizer\n",
    "\n",
    "tokenizer = AutoTokenizer.from_pretrained('distilbert-base-cased',num_labels=len(labels))"
   ]
  },
  {
   "cell_type": "code",
   "execution_count": 79,
   "metadata": {
    "id": "ceirRXfx2J8-"
   },
   "outputs": [],
   "source": [
    "import numpy as np\n",
    "def preprocess_data(examples):\n",
    "  # take a batch of texts\n",
    "  text = examples[\"sentence\"]\n",
    "  # encode them\n",
    "  encoding = tokenizer(text, padding=\"max_length\", truncation=True)\n",
    "  # add labels\n",
    "  encoding[\"labels\"] = [label2id[i] for i in examples[\"label\"]]\n",
    "  return encoding"
   ]
  },
  {
   "cell_type": "code",
   "execution_count": 80,
   "metadata": {
    "colab": {
     "base_uri": "https://localhost:8080/",
     "height": 113,
     "referenced_widgets": [
      "8b32529f0e594139b7effe508f32d642",
      "5eeaac04f25e4ff986882f457495b5bc",
      "e78591fd689b438d95b9f703e9dbb120",
      "befde78e2ee742e68c105fc01cc239e1",
      "58c7df33d5c5479ba4c270b5dff764d1",
      "ec8d813cc55f49599ff798a7924a2719",
      "acd2c755efe440edb426818a362e8c12",
      "c3151ec0c3224ce39eb6328be43e4551",
      "dced9b2a4674494d896bd88b5f00e07c",
      "47a84c884de9496c86adb52bc3f46542",
      "3f5dab07b1024152b38f752bb0d528f4",
      "77b7b4463412475d9345f7c41f064436",
      "02c2f289258c4ecb80812cb9e6b55a07",
      "1e8ce0c186644c8eb7898007bfdab99a",
      "05a2ae7fe60f449e9c9fdd1f94db16ff",
      "a6b0d612d9cc4121a478868e4b98abe3",
      "51d779bfe9b04ddcb7f7ed9f1b60ea86",
      "5c8149c2a8e34eb6aebf2ea3850d3936",
      "5a961680578345b79e99238a740aac63",
      "f8c34977a8b8488188602b144c8c065f",
      "8f6b694d765f4e219decd8d3f2e6aa3a",
      "3c3e63aa853042478ec2b5f465c195cf",
      "56f62f50e9c74c11add0853ee7afef9f",
      "a499ca9ec09e4dc6b729e093a3fc72ea",
      "c0a46dac79e949e2bed1d561f2fb294b",
      "7005a00bc61945fcae9f54c5003d98b1",
      "c5956fa55b0440588c1928fe58bb7cb2",
      "4e357eadfc4b459a8b6c179912e2d1d7",
      "22361c7ce9d745ce966d218cbb1cd0f5",
      "90b463587f834c1d86002a86d1331dc3",
      "084c15e9bc7046ebb261f81067f742da",
      "5cf1d30891f74744962836cdc4b7acbb",
      "2f377a3dbe1341b7b8c8fa92a9ef163d"
     ]
    },
    "id": "h_UqiFYw4A7K",
    "outputId": "12505f7b-d00f-45e0-afac-6b35b4b43bd2"
   },
   "outputs": [
    {
     "data": {
      "application/vnd.jupyter.widget-view+json": {
       "model_id": "8b32529f0e594139b7effe508f32d642",
       "version_major": 2,
       "version_minor": 0
      },
      "text/plain": [
       "  0%|          | 0/27 [00:00<?, ?ba/s]"
      ]
     },
     "metadata": {},
     "output_type": "display_data"
    },
    {
     "data": {
      "application/vnd.jupyter.widget-view+json": {
       "model_id": "77b7b4463412475d9345f7c41f064436",
       "version_major": 2,
       "version_minor": 0
      },
      "text/plain": [
       "  0%|          | 0/7 [00:00<?, ?ba/s]"
      ]
     },
     "metadata": {},
     "output_type": "display_data"
    },
    {
     "data": {
      "application/vnd.jupyter.widget-view+json": {
       "model_id": "56f62f50e9c74c11add0853ee7afef9f",
       "version_major": 2,
       "version_minor": 0
      },
      "text/plain": [
       "  0%|          | 0/4 [00:00<?, ?ba/s]"
      ]
     },
     "metadata": {},
     "output_type": "display_data"
    }
   ],
   "source": [
    "encoded_dataset = dataset_clean.map(preprocess_data, batched=True, remove_columns=dataset.column_names)"
   ]
  },
  {
   "cell_type": "code",
   "execution_count": 81,
   "metadata": {
    "colab": {
     "base_uri": "https://localhost:8080/"
    },
    "id": "I0hzVIE4ieS6",
    "outputId": "487fd936-3e71-4bb1-9111-fafdb7addd97"
   },
   "outputs": [
    {
     "name": "stdout",
     "output_type": "stream",
     "text": [
      "dict_keys(['input_ids', 'attention_mask', 'labels'])\n"
     ]
    }
   ],
   "source": [
    "example = encoded_dataset['train'][0]\n",
    "print(example.keys())"
   ]
  },
  {
   "cell_type": "code",
   "execution_count": 82,
   "metadata": {
    "colab": {
     "base_uri": "https://localhost:8080/",
     "height": 201
    },
    "id": "fDjhGfaGoOMi",
    "outputId": "1802b5f6-4a74-44c2-dc93-2520b6bf29f2"
   },
   "outputs": [
    {
     "data": {
      "application/vnd.google.colaboratory.intrinsic+json": {
       "type": "string"
      },
      "text/plain": [
       "'[CLS] Equifax data breached. 30 business days Equifax public announcement breach. heard plans issue individual written notice breach seen documented account individuals recieving notice Equifax. experienced mass data breaches including OPM. Notice breach served writting mail timely manner. options offered securing data 40 + credit agencies time consuming costly ineffective making impractical implement. recourse credit alerts freezes monitoring services cumbersome prevent reduce recurrence problem. widespread identity breaches demonstrated government failing negative implications econmoic national security. want better regulation oversight control collection use consumer data. incumbent government protect citizen privacy. CFPB properly empowered funded deal cybersecurity threat. size visibility digital footprint control. Default opt functions invoked eliminate involuntary data sharing access features. [SEP] [PAD] [PAD] [PAD] [PAD] [PAD] [PAD] [PAD] [PAD] [PAD] [PAD] [PAD] [PAD] [PAD] [PAD] [PAD] [PAD] [PAD] [PAD] [PAD] [PAD] [PAD] [PAD] [PAD] [PAD] [PAD] [PAD] [PAD] [PAD] [PAD] [PAD] [PAD] [PAD] [PAD] [PAD] [PAD] [PAD] [PAD] [PAD] [PAD] [PAD] [PAD] [PAD] [PAD] [PAD] [PAD] [PAD] [PAD] [PAD] [PAD] [PAD] [PAD] [PAD] [PAD] [PAD] [PAD] [PAD] [PAD] [PAD] [PAD] [PAD] [PAD] [PAD] [PAD] [PAD] [PAD] [PAD] [PAD] [PAD] [PAD] [PAD] [PAD] [PAD] [PAD] [PAD] [PAD] [PAD] [PAD] [PAD] [PAD] [PAD] [PAD] [PAD] [PAD] [PAD] [PAD] [PAD] [PAD] [PAD] [PAD] [PAD] [PAD] [PAD] [PAD] [PAD] [PAD] [PAD] [PAD] [PAD] [PAD] [PAD] [PAD] [PAD] [PAD] [PAD] [PAD] [PAD] [PAD] [PAD] [PAD] [PAD] [PAD] [PAD] [PAD] [PAD] [PAD] [PAD] [PAD] [PAD] [PAD] [PAD] [PAD] [PAD] [PAD] [PAD] [PAD] [PAD] [PAD] [PAD] [PAD] [PAD] [PAD] [PAD] [PAD] [PAD] [PAD] [PAD] [PAD] [PAD] [PAD] [PAD] [PAD] [PAD] [PAD] [PAD] [PAD] [PAD] [PAD] [PAD] [PAD] [PAD] [PAD] [PAD] [PAD] [PAD] [PAD] [PAD] [PAD] [PAD] [PAD] [PAD] [PAD] [PAD] [PAD] [PAD] [PAD] [PAD] [PAD] [PAD] [PAD] [PAD] [PAD] [PAD] [PAD] [PAD] [PAD] [PAD] [PAD] [PAD] [PAD] [PAD] [PAD] [PAD] [PAD] [PAD] [PAD] [PAD] [PAD] [PAD] [PAD] [PAD] [PAD] [PAD] [PAD] [PAD] [PAD] [PAD] [PAD] [PAD] [PAD] [PAD] [PAD] [PAD] [PAD] [PAD] [PAD] [PAD] [PAD] [PAD] [PAD] [PAD] [PAD] [PAD] [PAD] [PAD] [PAD] [PAD] [PAD] [PAD] [PAD] [PAD] [PAD] [PAD] [PAD] [PAD] [PAD] [PAD] [PAD] [PAD] [PAD] [PAD] [PAD] [PAD] [PAD] [PAD] [PAD] [PAD] [PAD] [PAD] [PAD] [PAD] [PAD] [PAD] [PAD] [PAD] [PAD] [PAD] [PAD] [PAD] [PAD] [PAD] [PAD] [PAD] [PAD] [PAD] [PAD] [PAD] [PAD] [PAD] [PAD] [PAD] [PAD] [PAD] [PAD] [PAD] [PAD] [PAD] [PAD] [PAD] [PAD] [PAD] [PAD] [PAD] [PAD] [PAD] [PAD] [PAD] [PAD] [PAD] [PAD] [PAD] [PAD] [PAD] [PAD] [PAD] [PAD] [PAD] [PAD] [PAD] [PAD] [PAD] [PAD] [PAD] [PAD] [PAD] [PAD] [PAD] [PAD] [PAD] [PAD] [PAD] [PAD] [PAD] [PAD] [PAD] [PAD] [PAD] [PAD] [PAD] [PAD] [PAD] [PAD] [PAD] [PAD] [PAD] [PAD] [PAD] [PAD] [PAD] [PAD] [PAD] [PAD] [PAD] [PAD] [PAD] [PAD] [PAD] [PAD] [PAD] [PAD] [PAD] [PAD] [PAD] [PAD] [PAD] [PAD] [PAD] [PAD] [PAD] [PAD] [PAD] [PAD] [PAD]'"
      ]
     },
     "execution_count": 82,
     "metadata": {},
     "output_type": "execute_result"
    }
   ],
   "source": [
    "tokenizer.decode(example['input_ids'])"
   ]
  },
  {
   "cell_type": "code",
   "execution_count": 83,
   "metadata": {
    "colab": {
     "base_uri": "https://localhost:8080/"
    },
    "id": "ty4hTXCfoORS",
    "outputId": "eceb5194-b401-4a9f-a757-6c72b7deb5d4"
   },
   "outputs": [
    {
     "data": {
      "text/plain": [
       "4"
      ]
     },
     "execution_count": 83,
     "metadata": {},
     "output_type": "execute_result"
    }
   ],
   "source": [
    "example['labels']"
   ]
  },
  {
   "cell_type": "code",
   "execution_count": 84,
   "metadata": {
    "colab": {
     "base_uri": "https://localhost:8080/"
    },
    "id": "Z3DTGXxKpgrh",
    "outputId": "b4e679e2-b51e-40f9-d11e-d4485d0334dd"
   },
   "outputs": [
    {
     "data": {
      "text/plain": [
       "DatasetDict({\n",
       "    train: Dataset({\n",
       "        features: ['input_ids', 'attention_mask', 'labels'],\n",
       "        num_rows: 26787\n",
       "    })\n",
       "    validation: Dataset({\n",
       "        features: ['input_ids', 'attention_mask', 'labels'],\n",
       "        num_rows: 6697\n",
       "    })\n",
       "    test: Dataset({\n",
       "        features: ['input_ids', 'attention_mask', 'labels'],\n",
       "        num_rows: 3721\n",
       "    })\n",
       "})"
      ]
     },
     "execution_count": 84,
     "metadata": {},
     "output_type": "execute_result"
    }
   ],
   "source": [
    "encoded_dataset"
   ]
  },
  {
   "cell_type": "code",
   "execution_count": 85,
   "metadata": {
    "id": "zouV0Nr9oOWN"
   },
   "outputs": [],
   "source": [
    "encoded_dataset.set_format(\"torch\")"
   ]
  },
  {
   "cell_type": "markdown",
   "metadata": {
    "id": "9n8yGtvdsckK"
   },
   "source": [
    "## Define model\n",
    "\n",
    "Here we define a model that includes a pre-trained base (i.e. the weights from the distilbert-base-cased) are loaded, with a random initialized classification head (linear layer) on top. One should fine-tune this head, together with the pre-trained base on a labeled dataset."
   ]
  },
  {
   "cell_type": "code",
   "execution_count": 86,
   "metadata": {
    "colab": {
     "base_uri": "https://localhost:8080/",
     "height": 161,
     "referenced_widgets": [
      "1bb2e36ae1fc4c87a0f24ba1f8fc50c1",
      "774bc42010bf4129b0c2eb1197d12865",
      "1202643643f14a78a25aa3de6d30e4a9",
      "3ec0dfae533e43a0ac3ea03accf59d91",
      "6d65943ab7b3481cb4e1ecf2161fdcc5",
      "8d9ad4fd2ef84fd581f523370e56935e",
      "af5cb9c28f8647fd9eb45ce1f331e3e5",
      "105b1871e9d849c798c38020f7c154f5",
      "dc0c783ec4e048f49d499c50db21675f",
      "6aaaf557bd9444359b241da571795ae5",
      "d7a0a0631eff4ad5b4523791e1015ac4"
     ]
    },
    "id": "PA49REZ2srhp",
    "outputId": "4111640a-8bce-4112-9f74-aee3517c28be"
   },
   "outputs": [
    {
     "data": {
      "application/vnd.jupyter.widget-view+json": {
       "model_id": "1bb2e36ae1fc4c87a0f24ba1f8fc50c1",
       "version_major": 2,
       "version_minor": 0
      },
      "text/plain": [
       "Downloading:   0%|          | 0.00/251M [00:00<?, ?B/s]"
      ]
     },
     "metadata": {},
     "output_type": "display_data"
    },
    {
     "name": "stderr",
     "output_type": "stream",
     "text": [
      "Some weights of the model checkpoint at distilbert-base-cased were not used when initializing DistilBertForSequenceClassification: ['vocab_projector.weight', 'vocab_transform.bias', 'vocab_layer_norm.weight', 'vocab_projector.bias', 'vocab_transform.weight', 'vocab_layer_norm.bias']\n",
      "- This IS expected if you are initializing DistilBertForSequenceClassification from the checkpoint of a model trained on another task or with another architecture (e.g. initializing a BertForSequenceClassification model from a BertForPreTraining model).\n",
      "- This IS NOT expected if you are initializing DistilBertForSequenceClassification from the checkpoint of a model that you expect to be exactly identical (initializing a BertForSequenceClassification model from a BertForSequenceClassification model).\n",
      "Some weights of DistilBertForSequenceClassification were not initialized from the model checkpoint at distilbert-base-cased and are newly initialized: ['classifier.bias', 'classifier.weight', 'pre_classifier.weight', 'pre_classifier.bias']\n",
      "You should probably TRAIN this model on a down-stream task to be able to use it for predictions and inference.\n"
     ]
    }
   ],
   "source": [
    "from transformers import AutoModelForSequenceClassification\n",
    "\n",
    "model = AutoModelForSequenceClassification.from_pretrained(\"distilbert-base-cased\",\n",
    "                                                           num_labels=len(labels),\n",
    "                                                           id2label=id2label,\n",
    "                                                           label2id=label2id)"
   ]
  },
  {
   "cell_type": "markdown",
   "metadata": {
    "id": "MvkxV0__tFmP"
   },
   "source": [
    "## Train the model!\n",
    "\n",
    "We are going to train the model using native Pytorch. This requires us to define 2 things: \n",
    "\n",
    "* `DataLoader`:Create a DataLoader for your training, validation and test datasets so you can iterate over batches of data.\n",
    "* `Optimizer`\n",
    "* `Learning rate scheduler`\n",
    "\n"
   ]
  },
  {
   "cell_type": "code",
   "execution_count": 87,
   "metadata": {
    "id": "NWt_8vCltFII"
   },
   "outputs": [],
   "source": [
    "fixed_batch_size = 16\n",
    "fixed_learning_rate = 1e-5\n",
    "num_epochs = 5"
   ]
  },
  {
   "cell_type": "code",
   "execution_count": 88,
   "metadata": {
    "id": "fyRYkf1oppyk"
   },
   "outputs": [],
   "source": [
    "#DataLoader\n",
    "from torch.utils.data import DataLoader\n",
    "\n",
    "train_dataloader = DataLoader(encoded_dataset[\"train\"], batch_size = fixed_batch_size)\n",
    "eval_dataloader = DataLoader(encoded_dataset[\"validation\"], batch_size = fixed_batch_size)"
   ]
  },
  {
   "cell_type": "code",
   "execution_count": 89,
   "metadata": {
    "id": "J7EIa4d2sao5"
   },
   "outputs": [],
   "source": [
    "#Optimizer\n",
    "from torch.optim import AdamW\n",
    "optimizer = AdamW(model.parameters(),lr = fixed_learning_rate)"
   ]
  },
  {
   "cell_type": "code",
   "execution_count": 90,
   "metadata": {
    "id": "rW_hl8-ps0JJ"
   },
   "outputs": [],
   "source": [
    "#Learning rate scheduler \n",
    "\n",
    "from transformers import get_scheduler\n",
    "\n",
    "num_training_steps = num_epochs * len(train_dataloader)\n",
    "\n",
    "lr_scheduler = get_scheduler(\n",
    "    name=\"linear\", optimizer=optimizer, num_warmup_steps=0, num_training_steps=num_training_steps\n",
    ")"
   ]
  },
  {
   "cell_type": "markdown",
   "metadata": {
    "id": "M3WoGSMOuEqA"
   },
   "source": [
    "We are also going to compute accuracy, precision, recall, F-measure while training. For this, we need to define the multi_class_metric function."
   ]
  },
  {
   "cell_type": "code",
   "execution_count": 91,
   "metadata": {
    "id": "PNjiVr3wgMrF"
   },
   "outputs": [],
   "source": [
    "# Function to calculate the accuracy, precision, recall, F-measure  of our predictions vs labels\n",
    "from sklearn.metrics import precision_recall_fscore_support\n",
    "\n",
    "def multi_class_metric(labels,preds):\n",
    "    pred_flat = preds.flatten()\n",
    "    labels_flat = labels.flatten()\n",
    "    accuracy = np.sum(pred_flat == labels_flat) / len(labels_flat)\n",
    "    precision_macro, recall_macro, f1_macro_average,_ = precision_recall_fscore_support(labels,preds,average='macro',zero_division = 0)\n",
    "    # return as dictionary\n",
    "    metrics = {\n",
    "               'f1': f1_macro_average,\n",
    "               'accuracy': accuracy,\n",
    "               'precision': precision_macro,\n",
    "               'recall': recall_macro\n",
    "               }\n",
    "    return metrics"
   ]
  },
  {
   "cell_type": "code",
   "execution_count": 92,
   "metadata": {
    "colab": {
     "base_uri": "https://localhost:8080/"
    },
    "id": "TJ0sp06fDAX0",
    "outputId": "44b802f2-a37f-41d4-a69b-4e211e106c5f"
   },
   "outputs": [
    {
     "data": {
      "text/plain": [
       "DistilBertForSequenceClassification(\n",
       "  (distilbert): DistilBertModel(\n",
       "    (embeddings): Embeddings(\n",
       "      (word_embeddings): Embedding(28996, 768, padding_idx=0)\n",
       "      (position_embeddings): Embedding(512, 768)\n",
       "      (LayerNorm): LayerNorm((768,), eps=1e-12, elementwise_affine=True)\n",
       "      (dropout): Dropout(p=0.1, inplace=False)\n",
       "    )\n",
       "    (transformer): Transformer(\n",
       "      (layer): ModuleList(\n",
       "        (0): TransformerBlock(\n",
       "          (attention): MultiHeadSelfAttention(\n",
       "            (dropout): Dropout(p=0.1, inplace=False)\n",
       "            (q_lin): Linear(in_features=768, out_features=768, bias=True)\n",
       "            (k_lin): Linear(in_features=768, out_features=768, bias=True)\n",
       "            (v_lin): Linear(in_features=768, out_features=768, bias=True)\n",
       "            (out_lin): Linear(in_features=768, out_features=768, bias=True)\n",
       "          )\n",
       "          (sa_layer_norm): LayerNorm((768,), eps=1e-12, elementwise_affine=True)\n",
       "          (ffn): FFN(\n",
       "            (dropout): Dropout(p=0.1, inplace=False)\n",
       "            (lin1): Linear(in_features=768, out_features=3072, bias=True)\n",
       "            (lin2): Linear(in_features=3072, out_features=768, bias=True)\n",
       "            (activation): GELUActivation()\n",
       "          )\n",
       "          (output_layer_norm): LayerNorm((768,), eps=1e-12, elementwise_affine=True)\n",
       "        )\n",
       "        (1): TransformerBlock(\n",
       "          (attention): MultiHeadSelfAttention(\n",
       "            (dropout): Dropout(p=0.1, inplace=False)\n",
       "            (q_lin): Linear(in_features=768, out_features=768, bias=True)\n",
       "            (k_lin): Linear(in_features=768, out_features=768, bias=True)\n",
       "            (v_lin): Linear(in_features=768, out_features=768, bias=True)\n",
       "            (out_lin): Linear(in_features=768, out_features=768, bias=True)\n",
       "          )\n",
       "          (sa_layer_norm): LayerNorm((768,), eps=1e-12, elementwise_affine=True)\n",
       "          (ffn): FFN(\n",
       "            (dropout): Dropout(p=0.1, inplace=False)\n",
       "            (lin1): Linear(in_features=768, out_features=3072, bias=True)\n",
       "            (lin2): Linear(in_features=3072, out_features=768, bias=True)\n",
       "            (activation): GELUActivation()\n",
       "          )\n",
       "          (output_layer_norm): LayerNorm((768,), eps=1e-12, elementwise_affine=True)\n",
       "        )\n",
       "        (2): TransformerBlock(\n",
       "          (attention): MultiHeadSelfAttention(\n",
       "            (dropout): Dropout(p=0.1, inplace=False)\n",
       "            (q_lin): Linear(in_features=768, out_features=768, bias=True)\n",
       "            (k_lin): Linear(in_features=768, out_features=768, bias=True)\n",
       "            (v_lin): Linear(in_features=768, out_features=768, bias=True)\n",
       "            (out_lin): Linear(in_features=768, out_features=768, bias=True)\n",
       "          )\n",
       "          (sa_layer_norm): LayerNorm((768,), eps=1e-12, elementwise_affine=True)\n",
       "          (ffn): FFN(\n",
       "            (dropout): Dropout(p=0.1, inplace=False)\n",
       "            (lin1): Linear(in_features=768, out_features=3072, bias=True)\n",
       "            (lin2): Linear(in_features=3072, out_features=768, bias=True)\n",
       "            (activation): GELUActivation()\n",
       "          )\n",
       "          (output_layer_norm): LayerNorm((768,), eps=1e-12, elementwise_affine=True)\n",
       "        )\n",
       "        (3): TransformerBlock(\n",
       "          (attention): MultiHeadSelfAttention(\n",
       "            (dropout): Dropout(p=0.1, inplace=False)\n",
       "            (q_lin): Linear(in_features=768, out_features=768, bias=True)\n",
       "            (k_lin): Linear(in_features=768, out_features=768, bias=True)\n",
       "            (v_lin): Linear(in_features=768, out_features=768, bias=True)\n",
       "            (out_lin): Linear(in_features=768, out_features=768, bias=True)\n",
       "          )\n",
       "          (sa_layer_norm): LayerNorm((768,), eps=1e-12, elementwise_affine=True)\n",
       "          (ffn): FFN(\n",
       "            (dropout): Dropout(p=0.1, inplace=False)\n",
       "            (lin1): Linear(in_features=768, out_features=3072, bias=True)\n",
       "            (lin2): Linear(in_features=3072, out_features=768, bias=True)\n",
       "            (activation): GELUActivation()\n",
       "          )\n",
       "          (output_layer_norm): LayerNorm((768,), eps=1e-12, elementwise_affine=True)\n",
       "        )\n",
       "        (4): TransformerBlock(\n",
       "          (attention): MultiHeadSelfAttention(\n",
       "            (dropout): Dropout(p=0.1, inplace=False)\n",
       "            (q_lin): Linear(in_features=768, out_features=768, bias=True)\n",
       "            (k_lin): Linear(in_features=768, out_features=768, bias=True)\n",
       "            (v_lin): Linear(in_features=768, out_features=768, bias=True)\n",
       "            (out_lin): Linear(in_features=768, out_features=768, bias=True)\n",
       "          )\n",
       "          (sa_layer_norm): LayerNorm((768,), eps=1e-12, elementwise_affine=True)\n",
       "          (ffn): FFN(\n",
       "            (dropout): Dropout(p=0.1, inplace=False)\n",
       "            (lin1): Linear(in_features=768, out_features=3072, bias=True)\n",
       "            (lin2): Linear(in_features=3072, out_features=768, bias=True)\n",
       "            (activation): GELUActivation()\n",
       "          )\n",
       "          (output_layer_norm): LayerNorm((768,), eps=1e-12, elementwise_affine=True)\n",
       "        )\n",
       "        (5): TransformerBlock(\n",
       "          (attention): MultiHeadSelfAttention(\n",
       "            (dropout): Dropout(p=0.1, inplace=False)\n",
       "            (q_lin): Linear(in_features=768, out_features=768, bias=True)\n",
       "            (k_lin): Linear(in_features=768, out_features=768, bias=True)\n",
       "            (v_lin): Linear(in_features=768, out_features=768, bias=True)\n",
       "            (out_lin): Linear(in_features=768, out_features=768, bias=True)\n",
       "          )\n",
       "          (sa_layer_norm): LayerNorm((768,), eps=1e-12, elementwise_affine=True)\n",
       "          (ffn): FFN(\n",
       "            (dropout): Dropout(p=0.1, inplace=False)\n",
       "            (lin1): Linear(in_features=768, out_features=3072, bias=True)\n",
       "            (lin2): Linear(in_features=3072, out_features=768, bias=True)\n",
       "            (activation): GELUActivation()\n",
       "          )\n",
       "          (output_layer_norm): LayerNorm((768,), eps=1e-12, elementwise_affine=True)\n",
       "        )\n",
       "      )\n",
       "    )\n",
       "  )\n",
       "  (pre_classifier): Linear(in_features=768, out_features=768, bias=True)\n",
       "  (classifier): Linear(in_features=768, out_features=11, bias=True)\n",
       "  (dropout): Dropout(p=0.2, inplace=False)\n",
       ")"
      ]
     },
     "execution_count": 92,
     "metadata": {},
     "output_type": "execute_result"
    }
   ],
   "source": [
    "model.to(device)"
   ]
  },
  {
   "cell_type": "markdown",
   "metadata": {
    "id": "BFvKwsQxY8j5"
   },
   "source": [
    "Create a function for formatting elapsed times as hh:mm:ss"
   ]
  },
  {
   "cell_type": "code",
   "execution_count": 93,
   "metadata": {
    "id": "MJl3_XGYmH_3"
   },
   "outputs": [],
   "source": [
    "import time\n",
    "import datetime\n",
    "\n",
    "def format_time(elapsed):\n",
    "    '''\n",
    "    Takes a time in seconds and returns a string hh:mm:ss\n",
    "    '''\n",
    "    # Round to the nearest second.\n",
    "    elapsed_rounded = int(round((elapsed)))\n",
    "    \n",
    "    # Format as hh:mm:ss\n",
    "    return str(datetime.timedelta(seconds=elapsed_rounded))\n"
   ]
  },
  {
   "cell_type": "markdown",
   "metadata": {
    "id": "ChQzme1oXkPk"
   },
   "source": [
    "Create two directories to store **checkpoint** and **best model**"
   ]
  },
  {
   "cell_type": "code",
   "execution_count": 94,
   "metadata": {
    "id": "bcJJWtI0XCAn"
   },
   "outputs": [],
   "source": [
    "%mkdir checkpoint best_model"
   ]
  },
  {
   "cell_type": "markdown",
   "metadata": {
    "id": "NIMRwdAiXa8h"
   },
   "source": [
    "Saving function\n",
    "**save_ckp** is created to save checkpoint, the latest one and the best one. This creates flexibility: either you are interested in the state of the latest checkpoint or the best checkpoint."
   ]
  },
  {
   "cell_type": "code",
   "execution_count": 95,
   "metadata": {
    "id": "KKL5-NO9XQ9S"
   },
   "outputs": [],
   "source": [
    "\n",
    "import shutil\n",
    "def save_ckp(state, is_best, checkpoint_path, best_model_path):\n",
    "    \"\"\"\n",
    "    state: checkpoint we want to save\n",
    "    is_best: is this the best checkpoint; min validation loss\n",
    "    checkpoint_path: path to save checkpoint\n",
    "    best_model_path: path to save best model\n",
    "    \"\"\"\n",
    "    f_path = checkpoint_path\n",
    "    # save checkpoint data to the path given, checkpoint_path\n",
    "    torch.save(state, f_path)\n",
    "    # if it is a best model, min validation loss\n",
    "    if is_best:\n",
    "        best_fpath = best_model_path\n",
    "        # copy that checkpoint file to best path given, best_model_path\n",
    "        shutil.copyfile(f_path, best_fpath)"
   ]
  },
  {
   "cell_type": "markdown",
   "metadata": {
    "id": "lidMA6MA0UJf"
   },
   "source": [
    "Loading Function.\n",
    "\n",
    "**load_chkp** is created for loading model. \n",
    "\n",
    "It takes:\n",
    "*   location of the saved checkpoint\n",
    "*   model instance that you want to load the state to\n",
    "*   the optimizer"
   ]
  },
  {
   "cell_type": "code",
   "execution_count": 96,
   "metadata": {
    "id": "dIhiLbox0Y7V"
   },
   "outputs": [],
   "source": [
    "def load_ckp(checkpoint_fpath, model, optimizer):\n",
    "    \"\"\"\n",
    "    checkpoint_path: path to save checkpoint\n",
    "    model: model that we want to load checkpoint parameters into       \n",
    "    optimizer: optimizer we defined in previous training\n",
    "    \"\"\"\n",
    "    # load check point\n",
    "    checkpoint = torch.load(checkpoint_fpath)\n",
    "    # initialize state_dict from checkpoint to model\n",
    "    model.load_state_dict(checkpoint['state_dict'])\n",
    "    # initialize optimizer from checkpoint to optimizer\n",
    "    optimizer.load_state_dict(checkpoint['optimizer'])\n",
    "    # initialize valid_loss_min from checkpoint to valid_loss_min\n",
    "    valid_loss_min = checkpoint['valid_loss_min']\n",
    "    # return model, optimizer, epoch value, min validation loss \n",
    "    return model, optimizer, checkpoint['epoch'], valid_loss_min\n"
   ]
  },
  {
   "cell_type": "markdown",
   "metadata": {
    "id": "2jq2NwPW2u2-"
   },
   "source": [
    "Start Training "
   ]
  },
  {
   "cell_type": "code",
   "execution_count": 97,
   "metadata": {
    "colab": {
     "base_uri": "https://localhost:8080/",
     "height": 1000,
     "referenced_widgets": [
      "3bd2a81463fc400aa90f38a3519d0123",
      "290371367c3343938d1a2016c47d1c67",
      "3e87301102974f1c96a0ef7bfb357662",
      "867e403249e446a6b2fb61394b930f04",
      "7cb4e3e939e8499f8e2a26ff4e2b21dd",
      "8878261c14184a76ae1fefe7809724a6",
      "4e45ccd3f0a442189f806bab1f511c73",
      "491641f0e63a466abd9ad73d54231839",
      "9c0133102e3249b19e072087333ce65c",
      "8b92a89068a0440f88a481c5582f084e",
      "b59b716caaf742aeae334f25ed93c5fe"
     ]
    },
    "id": "OnGI2PHjyFtK",
    "outputId": "875e67a3-7f41-4b45-fa88-75bb28ba3cfc"
   },
   "outputs": [
    {
     "data": {
      "application/vnd.jupyter.widget-view+json": {
       "model_id": "3bd2a81463fc400aa90f38a3519d0123",
       "version_major": 2,
       "version_minor": 0
      },
      "text/plain": [
       "  0%|          | 0/5 [00:00<?, ?it/s]"
      ]
     },
     "metadata": {},
     "output_type": "display_data"
    },
    {
     "name": "stdout",
     "output_type": "stream",
     "text": [
      "\n",
      "======== Epoch 1 / 5 ========\n",
      "Training...\n",
      " Training f1-score: 0.54\n",
      " Training Accuracy: 0.70\n",
      " Training Precision: 0.58\n",
      " Training Recall: 0.54\n",
      "  Average training loss: 0.94\n",
      "  Training epoch took: 0:21:37\n",
      "\n",
      "Running Validation...\n",
      " Validation f1-score: 0.63\n",
      " Validation Accuracy: 0.77\n",
      " Validation Precision: 0.66\n",
      " Validation Recall: 0.64\n",
      "  Validation Loss: 1.36\n",
      "  Validation took: 0:02:04\n",
      "Validation loss decreased (inf --> 1.361043).  Saving model ...\n",
      "\n",
      "======== Epoch 2 / 5 ========\n",
      "Training...\n",
      " Training f1-score: 0.66\n",
      " Training Accuracy: 0.80\n",
      " Training Precision: 0.69\n",
      " Training Recall: 0.67\n",
      "  Average training loss: 0.62\n",
      "  Training epoch took: 0:21:43\n",
      "\n",
      "Running Validation...\n",
      " Validation f1-score: 0.65\n",
      " Validation Accuracy: 0.78\n",
      " Validation Precision: 0.67\n",
      " Validation Recall: 0.66\n",
      "  Validation Loss: 1.28\n",
      "  Validation took: 0:02:05\n",
      "Validation loss decreased (1.361043 --> 1.284762).  Saving model ...\n",
      "\n",
      "======== Epoch 3 / 5 ========\n",
      "Training...\n",
      " Training f1-score: 0.69\n",
      " Training Accuracy: 0.83\n",
      " Training Precision: 0.72\n",
      " Training Recall: 0.70\n",
      "  Average training loss: 0.53\n",
      "  Training epoch took: 0:21:44\n",
      "\n",
      "Running Validation...\n",
      " Validation f1-score: 0.66\n",
      " Validation Accuracy: 0.79\n",
      " Validation Precision: 0.68\n",
      " Validation Recall: 0.67\n",
      "  Validation Loss: 1.27\n",
      "  Validation took: 0:02:04\n",
      "Validation loss decreased (1.284762 --> 1.269943).  Saving model ...\n",
      "\n",
      "======== Epoch 4 / 5 ========\n",
      "Training...\n",
      " Training f1-score: 0.72\n",
      " Training Accuracy: 0.85\n",
      " Training Precision: 0.74\n",
      " Training Recall: 0.73\n",
      "  Average training loss: 0.46\n",
      "  Training epoch took: 0:21:45\n",
      "\n",
      "Running Validation...\n",
      " Validation f1-score: 0.66\n",
      " Validation Accuracy: 0.79\n",
      " Validation Precision: 0.68\n",
      " Validation Recall: 0.67\n",
      "  Validation Loss: 1.27\n",
      "  Validation took: 0:02:04\n",
      "\n",
      "======== Epoch 5 / 5 ========\n",
      "Training...\n",
      " Training f1-score: 0.74\n",
      " Training Accuracy: 0.86\n",
      " Training Precision: 0.76\n",
      " Training Recall: 0.74\n",
      "  Average training loss: 0.42\n",
      "  Training epoch took: 0:21:43\n",
      "\n",
      "Running Validation...\n",
      " Validation f1-score: 0.66\n",
      " Validation Accuracy: 0.79\n",
      " Validation Precision: 0.68\n",
      " Validation Recall: 0.67\n",
      "  Validation Loss: 1.27\n",
      "  Validation took: 0:02:04\n",
      "\n",
      "Training complete!\n",
      "\n",
      "Total time taken on the training data across all epochs: 1:48:32 (h:mm:ss)\n",
      "Average time take per epoch on training data: 0:21:42 (h:mm:ss)\n",
      "\n",
      "Total time taken on the validation data across all epochs: 0:10:21 (h:mm:ss)\n",
      "Average time take per epoch on validation data: 0:02:04 (h:mm:ss)\n",
      "\n",
      "Total training time taken across all epochs [Validation and model saving time included]: 1:59:26 (h:mm:ss)\n",
      "Average time take per epoch [Validation and model saving time included]: 0:23:53 (h:mm:ss)\n"
     ]
    }
   ],
   "source": [
    "import random\n",
    "from tqdm.auto import tqdm\n",
    "\n",
    "\n",
    "# This training code is based on the `run_glue.py` script here:\n",
    "# https://github.com/huggingface/transformers/blob/5bfcd0485ece086ebcbed2d008813037968a9e58/examples/run_glue.py#L128\n",
    "\n",
    "\n",
    "random.seed(fix_seed)\n",
    "np.random.seed(fix_seed)\n",
    "torch.manual_seed(fix_seed)\n",
    "torch.cuda.manual_seed_all(fix_seed)\n",
    "\n",
    "\n",
    "\n",
    "# We'll store a number of quantities such as training and validation loss, \n",
    "# validation accuracy, and timings.\n",
    "training_stats = []\n",
    "\n",
    "# Measure the total training time for the whole run.\n",
    "total_t0 = time.time()\n",
    "\n",
    "progress_bar = tqdm(range(num_epochs))\n",
    "\n",
    "\n",
    "valid_loss_min_input = np.Inf\n",
    "# initialize tracker for minimum validation loss\n",
    "valid_loss_min = valid_loss_min_input \n",
    "checkpoint_path = \"/content/checkpoint/current_checkpoint.pt\"\n",
    "best_model_path = \"/content/best_model/best_model.pt\"\n",
    "\n",
    "#Reset time taken for Training Data and Validation Data across all epochs\n",
    "training_time_only = 0\n",
    "validation_time_only = 0\n",
    "\n",
    "# For each epoch...\n",
    "for epoch_i in range(0, num_epochs):\n",
    "    \n",
    "    # ========================================\n",
    "    #               Training\n",
    "    # ========================================\n",
    "    \n",
    "    # Perform one full pass over the training set.\n",
    "\n",
    "    print(\"\")\n",
    "    print('======== Epoch {:} / {:} ========'.format(epoch_i + 1, num_epochs))\n",
    "    print('Training...')\n",
    "\n",
    "    \n",
    "\n",
    "    # Reset the total loss and other metrics for this epoch.\n",
    "    total_train_loss = 0\n",
    "    total_train_f1 = 0\n",
    "    total_train_accuracy = 0\n",
    "    total_train_precision = 0\n",
    "    total_train_recall = 0\n",
    "\n",
    "    # Reset the time taken on Training data and Validation data across this epoch\n",
    "    training_time_epoch = 0\n",
    "    validation_time_epoch = 0\n",
    "\n",
    "    # Measure how long the training epoch takes.\n",
    "    train_t0 = time.time()\n",
    "\n",
    "    # Put the model into training mode.\n",
    "    \n",
    "    model.train()\n",
    "    for batch in train_dataloader:\n",
    "      train_batch = {k: v.to(device) for k, v in batch.items()}\n",
    "      train_outputs = model(**train_batch)\n",
    "      train_loss = train_outputs.loss\n",
    "      train_logits = train_outputs.logits\n",
    "      train_predictions = torch.argmax(train_logits, dim=-1)\n",
    "      total_train_loss += train_loss.item()\n",
    "      train_metrics= multi_class_metric(train_predictions.detach().cpu().numpy(), train_batch[\"labels\"].to('cpu').numpy())\n",
    "      train_f1 = train_metrics['f1']\n",
    "      train_accuracy = train_metrics['accuracy']\n",
    "      train_precision =train_metrics['precision']\n",
    "      train_recall = train_metrics['recall']\n",
    "      \n",
    "      total_train_f1 += train_f1\n",
    "      total_train_accuracy += train_accuracy\n",
    "      total_train_precision += train_precision\n",
    "      total_train_recall += train_recall\n",
    "      train_loss.backward()\n",
    "\n",
    "      # Clip the norm of the gradients to 1.0.\n",
    "      #This is to help prevent the \"exploding gradients\" problem.\n",
    "      torch.nn.utils.clip_grad_norm_(model.parameters(), 1.0) \n",
    "\n",
    "      # Update parameters and take a step using the computed gradient.\n",
    "      # The optimizer dictates the \"update rule\"--how the parameters are\n",
    "      # modified based on their gradients, the learning rate, etc.\n",
    "      optimizer.step()\n",
    "      lr_scheduler.step()\n",
    "      optimizer.zero_grad() \n",
    "    \n",
    "    # Measure how long the Training run took.\n",
    "    training_time_epoch = time.time() - train_t0   \n",
    "      \n",
    "    # Calculate the average loss over all of the batches.\n",
    "    avg_train_loss = total_train_loss / len(train_dataloader)  \n",
    "\n",
    "    # Report the final f1-score for this training run.   \n",
    "    avg_train_f1 = total_train_f1 / len(train_dataloader)\n",
    "\n",
    "    # Report the final accuracy for this training run.   \n",
    "    avg_train_accuracy = total_train_accuracy / len(train_dataloader)\n",
    "\n",
    "    # Report the final precision for this training run.   \n",
    "    avg_train_precision = total_train_precision / len(train_dataloader)\n",
    "\n",
    "    # Report the final recall for this training run.   \n",
    "    avg_train_recall = total_train_recall / len(train_dataloader)\n",
    "\n",
    "              \n",
    "    #Accumulate the total time on trainind data across all epochs  \n",
    "    training_time_only +=  training_time_epoch   \n",
    "\n",
    "    print(\" Training f1-score: {0:.2f}\".format(avg_train_f1)) \n",
    "    print(\" Training Accuracy: {0:.2f}\".format(avg_train_accuracy)) \n",
    "    print(\" Training Precision: {0:.2f}\".format(avg_train_precision)) \n",
    "    print(\" Training Recall: {0:.2f}\".format(avg_train_recall))  \n",
    "    print(\"  Average training loss: {0:.2f}\".format(avg_train_loss))\n",
    "    print(\"  Training epoch took: {:}\".format(format_time(training_time_epoch)))\n",
    "    # ========================================\n",
    "    #               Validation\n",
    "    # ========================================\n",
    "    # After the completion of each training epoch, measure our performance on\n",
    "    # our validation set.\n",
    "\n",
    "    print(\"\")\n",
    "    print(\"Running Validation...\")\n",
    "\n",
    "    val_t0 = time.time()\n",
    "    # Put the model in evaluation mode--the dropout layers behave differently\n",
    "    # during evaluation.\n",
    "    model.eval()\n",
    "\n",
    "    # Tracking variables \n",
    "    total_eval_f1 = 0\n",
    "    total_eval_accuracy = 0\n",
    "    total_eval_precision = 0\n",
    "    total_eval_recall = 0\n",
    "    total_eval_loss = 0\n",
    "\n",
    "\n",
    "    # Evaluate data for one epoch\n",
    "    for batch in eval_dataloader:\n",
    "      val_batch = {k: v.to(device) for k, v in batch.items()}\n",
    "     \n",
    "      # Tell pytorch not to bother with constructing the compute graph during\n",
    "      # the forward pass, since this is only needed for backprop (training).\n",
    "      with torch.no_grad():\n",
    "        val_outputs = model(**val_batch)\n",
    "        \n",
    "      val_loss = val_outputs.loss\n",
    "      val_logits = val_outputs.logits\n",
    "      val_predictions = torch.argmax(val_logits, dim=-1)\n",
    "     \n",
    "      total_eval_loss += val_loss.item()\n",
    "\n",
    "      val_metrics = multi_class_metric(val_predictions.detach().cpu().numpy(), val_batch[\"labels\"].to('cpu').numpy())\n",
    "      val_f1 = val_metrics['f1']\n",
    "      val_accuracy = val_metrics['accuracy']\n",
    "      val_precision =val_metrics['precision']\n",
    "      val_recall = val_metrics['recall']\n",
    "\n",
    "      total_eval_f1 += val_f1\n",
    "      total_eval_accuracy += val_accuracy\n",
    "      total_eval_precision += val_precision\n",
    "      total_eval_recall += val_recall\n",
    "\n",
    "      # Accumulate the validation loss.\n",
    "      total_eval_loss += val_loss.item()\n",
    "        \n",
    "    # Measure how long the validation run took.\n",
    "    validation_time_epoch = time.time() - val_t0\n",
    "\n",
    "    # Report the final metrics for this validation run.   \n",
    "    avg_val_f1 = total_eval_f1 / len(eval_dataloader)\n",
    "    avg_val_accuracy = total_eval_accuracy / len(eval_dataloader)\n",
    "    avg_val_precision = total_eval_precision / len(eval_dataloader)\n",
    "    avg_val_recall = total_eval_recall / len(eval_dataloader)\n",
    "\n",
    "\n",
    "    print(\" Validation f1-score: {0:.2f}\".format(avg_val_f1)) \n",
    "    print(\" Validation Accuracy: {0:.2f}\".format(avg_val_accuracy))\n",
    "    print(\" Validation Precision: {0:.2f}\".format(avg_val_precision)) \n",
    "    print(\" Validation Recall: {0:.2f}\".format(avg_val_recall)) \n",
    "    \n",
    "\n",
    "    # Calculate the average loss over all of the batches.\n",
    "    avg_val_loss = total_eval_loss / len(eval_dataloader)\n",
    "    \n",
    "    \n",
    "    #Accumulate the the total validation time across all epochs \n",
    "    validation_time_only += validation_time_epoch\n",
    "    \n",
    "    print(\"  Validation Loss: {0:.2f}\".format(avg_val_loss))\n",
    "    print(\"  Validation took: {:}\".format(format_time(validation_time_epoch)))\n",
    "\n",
    "    # Record all statistics from this epoch.\n",
    "    training_stats.append(\n",
    "        {\n",
    "            'epoch': epoch_i + 1,\n",
    "            'Training Loss': avg_train_loss,\n",
    "            'Valid. Loss': avg_val_loss,\n",
    "            'Training f1': avg_train_f1,\n",
    "            'Valid. f1': avg_val_f1,\n",
    "            'Training Accur.': avg_train_accuracy,\n",
    "            'Valid. Accur.': avg_val_accuracy,\n",
    "            'Training Precision': avg_train_precision,\n",
    "            'Valid. Precision': avg_val_precision,\n",
    "            'Training Recall': avg_train_recall,\n",
    "            'Valid. Recall': avg_val_recall,\n",
    "            'Training Time': format_time(training_time_epoch),\n",
    "            'Validation Time': format_time(validation_time_epoch)\n",
    "        }\n",
    "    )\n",
    "    # create checkpoint variable and add important data\n",
    "    checkpoint = {\n",
    "        'epoch': epoch_i + 1,\n",
    "        'valid_loss_min': avg_val_loss,\n",
    "        'state_dict': model.state_dict(),\n",
    "        'optimizer': optimizer.state_dict(),\n",
    "    }\n",
    "        \n",
    "    # save checkpoint\n",
    "    save_ckp(checkpoint, False, checkpoint_path, best_model_path)\n",
    "    ## save the model if validation loss has decreased\n",
    "    if avg_val_loss <= valid_loss_min:\n",
    "        print('Validation loss decreased ({:.6f} --> {:.6f}).  Saving model ...'.format(valid_loss_min,avg_val_loss))\n",
    "        # save checkpoint as best model\n",
    "        save_ckp(checkpoint, True, checkpoint_path, best_model_path)\n",
    "        valid_loss_min = avg_val_loss\n",
    "    progress_bar.update(1)\n",
    "print(\"\")\n",
    "print(\"Training complete!\")\n",
    "total_training_time = time.time() - total_t0\n",
    "\n",
    "# Total Training time (without validation and model saving time)\n",
    "print(\"\\nTotal time taken on the training data across all epochs: {:} (h:mm:ss)\".format(format_time(training_time_only)))\n",
    "print(\"Average time take per epoch on training data: {:} (h:mm:ss)\".format(format_time(training_time_only/num_epochs)))\n",
    "\n",
    "# Total Validation time (without training and model saving time)\n",
    "print(\"\\nTotal time taken on the validation data across all epochs: {:} (h:mm:ss)\".format(format_time(validation_time_only)))\n",
    "print(\"Average time take per epoch on validation data: {:} (h:mm:ss)\".format(format_time(validation_time_only/num_epochs)))\n",
    "\n",
    "#Total time taken for training, Validation and model saving\n",
    "print(\"\\nTotal training time taken across all epochs [Validation and model saving time included]: {:} (h:mm:ss)\".format(format_time(total_training_time)))\n",
    "print(\"Average time take per epoch [Validation and model saving time included]: {:} (h:mm:ss)\".format(format_time(total_training_time/num_epochs)))\n",
    "\n",
    "\n"
   ]
  },
  {
   "cell_type": "markdown",
   "metadata": {
    "id": "KHusGHxBiSSz"
   },
   "source": [
    "**The best model is saved at epoch 3. The training f1-score: 0.69. The validation f1-score: 0.66**"
   ]
  },
  {
   "cell_type": "code",
   "execution_count": 114,
   "metadata": {
    "colab": {
     "base_uri": "https://localhost:8080/",
     "height": 255
    },
    "id": "CgOm-DMdx-7Z",
    "outputId": "094d2957-995e-4a99-8b91-235826234705"
   },
   "outputs": [
    {
     "data": {
      "text/html": [
       "<style type=\"text/css\">\n",
       "#T_85386_ th {\n",
       "  max-width: 70px;\n",
       "}\n",
       "</style>\n",
       "<table id=\"T_85386_\" class=\"dataframe\">\n",
       "  <thead>\n",
       "    <tr>\n",
       "      <th class=\"blank level0\" >&nbsp;</th>\n",
       "      <th class=\"col_heading level0 col0\" >Training Loss</th>\n",
       "      <th class=\"col_heading level0 col1\" >Valid. Loss</th>\n",
       "      <th class=\"col_heading level0 col2\" >Training f1</th>\n",
       "      <th class=\"col_heading level0 col3\" >Valid. f1</th>\n",
       "      <th class=\"col_heading level0 col4\" >Training Accur.</th>\n",
       "      <th class=\"col_heading level0 col5\" >Valid. Accur.</th>\n",
       "      <th class=\"col_heading level0 col6\" >Training Precision</th>\n",
       "      <th class=\"col_heading level0 col7\" >Valid. Precision</th>\n",
       "      <th class=\"col_heading level0 col8\" >Training Recall</th>\n",
       "      <th class=\"col_heading level0 col9\" >Valid. Recall</th>\n",
       "      <th class=\"col_heading level0 col10\" >Training Time</th>\n",
       "      <th class=\"col_heading level0 col11\" >Validation Time</th>\n",
       "    </tr>\n",
       "    <tr>\n",
       "      <th class=\"index_name level0\" >epoch</th>\n",
       "      <th class=\"blank col0\" >&nbsp;</th>\n",
       "      <th class=\"blank col1\" >&nbsp;</th>\n",
       "      <th class=\"blank col2\" >&nbsp;</th>\n",
       "      <th class=\"blank col3\" >&nbsp;</th>\n",
       "      <th class=\"blank col4\" >&nbsp;</th>\n",
       "      <th class=\"blank col5\" >&nbsp;</th>\n",
       "      <th class=\"blank col6\" >&nbsp;</th>\n",
       "      <th class=\"blank col7\" >&nbsp;</th>\n",
       "      <th class=\"blank col8\" >&nbsp;</th>\n",
       "      <th class=\"blank col9\" >&nbsp;</th>\n",
       "      <th class=\"blank col10\" >&nbsp;</th>\n",
       "      <th class=\"blank col11\" >&nbsp;</th>\n",
       "    </tr>\n",
       "  </thead>\n",
       "  <tbody>\n",
       "    <tr>\n",
       "      <th id=\"T_85386_level0_row0\" class=\"row_heading level0 row0\" >1</th>\n",
       "      <td id=\"T_85386_row0_col0\" class=\"data row0 col0\" >0.94</td>\n",
       "      <td id=\"T_85386_row0_col1\" class=\"data row0 col1\" >1.36</td>\n",
       "      <td id=\"T_85386_row0_col2\" class=\"data row0 col2\" >0.54</td>\n",
       "      <td id=\"T_85386_row0_col3\" class=\"data row0 col3\" >0.63</td>\n",
       "      <td id=\"T_85386_row0_col4\" class=\"data row0 col4\" >0.70</td>\n",
       "      <td id=\"T_85386_row0_col5\" class=\"data row0 col5\" >0.77</td>\n",
       "      <td id=\"T_85386_row0_col6\" class=\"data row0 col6\" >0.58</td>\n",
       "      <td id=\"T_85386_row0_col7\" class=\"data row0 col7\" >0.66</td>\n",
       "      <td id=\"T_85386_row0_col8\" class=\"data row0 col8\" >0.54</td>\n",
       "      <td id=\"T_85386_row0_col9\" class=\"data row0 col9\" >0.64</td>\n",
       "      <td id=\"T_85386_row0_col10\" class=\"data row0 col10\" >0:21:37</td>\n",
       "      <td id=\"T_85386_row0_col11\" class=\"data row0 col11\" >0:02:04</td>\n",
       "    </tr>\n",
       "    <tr>\n",
       "      <th id=\"T_85386_level0_row1\" class=\"row_heading level0 row1\" >2</th>\n",
       "      <td id=\"T_85386_row1_col0\" class=\"data row1 col0\" >0.62</td>\n",
       "      <td id=\"T_85386_row1_col1\" class=\"data row1 col1\" >1.28</td>\n",
       "      <td id=\"T_85386_row1_col2\" class=\"data row1 col2\" >0.66</td>\n",
       "      <td id=\"T_85386_row1_col3\" class=\"data row1 col3\" >0.65</td>\n",
       "      <td id=\"T_85386_row1_col4\" class=\"data row1 col4\" >0.80</td>\n",
       "      <td id=\"T_85386_row1_col5\" class=\"data row1 col5\" >0.78</td>\n",
       "      <td id=\"T_85386_row1_col6\" class=\"data row1 col6\" >0.69</td>\n",
       "      <td id=\"T_85386_row1_col7\" class=\"data row1 col7\" >0.67</td>\n",
       "      <td id=\"T_85386_row1_col8\" class=\"data row1 col8\" >0.67</td>\n",
       "      <td id=\"T_85386_row1_col9\" class=\"data row1 col9\" >0.66</td>\n",
       "      <td id=\"T_85386_row1_col10\" class=\"data row1 col10\" >0:21:43</td>\n",
       "      <td id=\"T_85386_row1_col11\" class=\"data row1 col11\" >0:02:05</td>\n",
       "    </tr>\n",
       "    <tr>\n",
       "      <th id=\"T_85386_level0_row2\" class=\"row_heading level0 row2\" >3</th>\n",
       "      <td id=\"T_85386_row2_col0\" class=\"data row2 col0\" >0.53</td>\n",
       "      <td id=\"T_85386_row2_col1\" class=\"data row2 col1\" >1.27</td>\n",
       "      <td id=\"T_85386_row2_col2\" class=\"data row2 col2\" >0.69</td>\n",
       "      <td id=\"T_85386_row2_col3\" class=\"data row2 col3\" >0.66</td>\n",
       "      <td id=\"T_85386_row2_col4\" class=\"data row2 col4\" >0.83</td>\n",
       "      <td id=\"T_85386_row2_col5\" class=\"data row2 col5\" >0.79</td>\n",
       "      <td id=\"T_85386_row2_col6\" class=\"data row2 col6\" >0.72</td>\n",
       "      <td id=\"T_85386_row2_col7\" class=\"data row2 col7\" >0.68</td>\n",
       "      <td id=\"T_85386_row2_col8\" class=\"data row2 col8\" >0.70</td>\n",
       "      <td id=\"T_85386_row2_col9\" class=\"data row2 col9\" >0.67</td>\n",
       "      <td id=\"T_85386_row2_col10\" class=\"data row2 col10\" >0:21:44</td>\n",
       "      <td id=\"T_85386_row2_col11\" class=\"data row2 col11\" >0:02:04</td>\n",
       "    </tr>\n",
       "    <tr>\n",
       "      <th id=\"T_85386_level0_row3\" class=\"row_heading level0 row3\" >4</th>\n",
       "      <td id=\"T_85386_row3_col0\" class=\"data row3 col0\" >0.46</td>\n",
       "      <td id=\"T_85386_row3_col1\" class=\"data row3 col1\" >1.27</td>\n",
       "      <td id=\"T_85386_row3_col2\" class=\"data row3 col2\" >0.72</td>\n",
       "      <td id=\"T_85386_row3_col3\" class=\"data row3 col3\" >0.66</td>\n",
       "      <td id=\"T_85386_row3_col4\" class=\"data row3 col4\" >0.85</td>\n",
       "      <td id=\"T_85386_row3_col5\" class=\"data row3 col5\" >0.79</td>\n",
       "      <td id=\"T_85386_row3_col6\" class=\"data row3 col6\" >0.74</td>\n",
       "      <td id=\"T_85386_row3_col7\" class=\"data row3 col7\" >0.68</td>\n",
       "      <td id=\"T_85386_row3_col8\" class=\"data row3 col8\" >0.73</td>\n",
       "      <td id=\"T_85386_row3_col9\" class=\"data row3 col9\" >0.67</td>\n",
       "      <td id=\"T_85386_row3_col10\" class=\"data row3 col10\" >0:21:45</td>\n",
       "      <td id=\"T_85386_row3_col11\" class=\"data row3 col11\" >0:02:04</td>\n",
       "    </tr>\n",
       "    <tr>\n",
       "      <th id=\"T_85386_level0_row4\" class=\"row_heading level0 row4\" >5</th>\n",
       "      <td id=\"T_85386_row4_col0\" class=\"data row4 col0\" >0.42</td>\n",
       "      <td id=\"T_85386_row4_col1\" class=\"data row4 col1\" >1.27</td>\n",
       "      <td id=\"T_85386_row4_col2\" class=\"data row4 col2\" >0.74</td>\n",
       "      <td id=\"T_85386_row4_col3\" class=\"data row4 col3\" >0.66</td>\n",
       "      <td id=\"T_85386_row4_col4\" class=\"data row4 col4\" >0.86</td>\n",
       "      <td id=\"T_85386_row4_col5\" class=\"data row4 col5\" >0.79</td>\n",
       "      <td id=\"T_85386_row4_col6\" class=\"data row4 col6\" >0.76</td>\n",
       "      <td id=\"T_85386_row4_col7\" class=\"data row4 col7\" >0.68</td>\n",
       "      <td id=\"T_85386_row4_col8\" class=\"data row4 col8\" >0.74</td>\n",
       "      <td id=\"T_85386_row4_col9\" class=\"data row4 col9\" >0.67</td>\n",
       "      <td id=\"T_85386_row4_col10\" class=\"data row4 col10\" >0:21:43</td>\n",
       "      <td id=\"T_85386_row4_col11\" class=\"data row4 col11\" >0:02:04</td>\n",
       "    </tr>\n",
       "  </tbody>\n",
       "</table>\n"
      ],
      "text/plain": [
       "<pandas.io.formats.style.Styler at 0x7f0d38536f50>"
      ]
     },
     "execution_count": 114,
     "metadata": {},
     "output_type": "execute_result"
    }
   ],
   "source": [
    "# Display floats with two decimal places.\n",
    "pd.set_option('precision', 2)\n",
    "\n",
    "# Create a DataFrame from our training statistics.\n",
    "df_stats = pd.DataFrame(data=training_stats)\n",
    "\n",
    "# Use the 'epoch' as the row index.\n",
    "df_stats = df_stats.set_index('epoch')\n",
    "\n",
    "# Display the table.\n",
    "df_stats.style.set_table_styles([dict(selector=\"th\",props=[('max-width', '70px')])])"
   ]
  },
  {
   "cell_type": "markdown",
   "metadata": {
    "id": "Yvqs8ZqivUdr"
   },
   "source": [
    "Validation Loss is a more precise measure than accuracy. If we are predicting the correct answer, but with less confidence, then validation loss will catch this, while accuracy will not."
   ]
  },
  {
   "cell_type": "code",
   "execution_count": 99,
   "metadata": {
    "colab": {
     "base_uri": "https://localhost:8080/",
     "height": 427
    },
    "id": "GBPWXFxX7414",
    "outputId": "af04f96f-6e0f-4a90-823d-e98ae2517cf0"
   },
   "outputs": [
    {
     "data": {
      "image/png": "[encoded data removed]",
      "text/plain": [
       "<Figure size 864x432 with 1 Axes>"
      ]
     },
     "metadata": {},
     "output_type": "display_data"
    }
   ],
   "source": [
    "import matplotlib.pyplot as plt\n",
    "% matplotlib inline\n",
    "\n",
    "import seaborn as sns\n",
    "\n",
    "# Use plot styling from seaborn.\n",
    "sns.set(style='darkgrid')\n",
    "\n",
    "# Increase the plot size and font size.\n",
    "sns.set(font_scale=1.5)\n",
    "plt.rcParams[\"figure.figsize\"] = (12,6)\n",
    "\n",
    "# Plot the learning curve.\n",
    "plt.plot(df_stats['Training Loss'], 'b-o', label=\"Training\")\n",
    "plt.plot(df_stats['Valid. Loss'], 'g-o', label=\"Validation\")\n",
    "\n",
    "# Label the plot.\n",
    "plt.title(\"Training & Validation Loss\")\n",
    "plt.xlabel(\"Epoch\")\n",
    "plt.ylabel(\"Loss\")\n",
    "plt.legend()\n",
    "plt.show()"
   ]
  },
  {
   "cell_type": "markdown",
   "metadata": {
    "id": "LFcr-ozDmteM"
   },
   "source": [
    "## Download the Data"
   ]
  },
  {
   "cell_type": "code",
   "execution_count": 102,
   "metadata": {
    "colab": {
     "base_uri": "https://localhost:8080/"
    },
    "id": "PBZrl1QRmvlT",
    "outputId": "ab7c40d7-b330-436f-8b6a-21e037f78a50"
   },
   "outputs": [
    {
     "name": "stdout",
     "output_type": "stream",
     "text": [
      "\n",
      "Transfer Complete\n"
     ]
    }
   ],
   "source": [
    "#Transfer the Test Data in drive\n",
    "used_test_df =pd.DataFrame(test_data)\n",
    "used_test_df.to_csv(used_test_data_path, encoding='utf-8', index=False)\n",
    "shutil.copy(used_test_data_path, '/content/drive/MyDrive/Complaints_csv/Experiment3/Test_data_DistilBERT.csv' )\n",
    "print(\"\\nTransfer Complete\")"
   ]
  },
  {
   "cell_type": "code",
   "execution_count": 105,
   "metadata": {
    "colab": {
     "base_uri": "https://localhost:8080/"
    },
    "id": "sKMt-zkoBNnQ",
    "outputId": "dc03167c-058e-4536-c294-0354d97db5ce"
   },
   "outputs": [
    {
     "name": "stdout",
     "output_type": "stream",
     "text": [
      "\n",
      "Transfer Complete\n"
     ]
    }
   ],
   "source": [
    "#Transfer the Encoded Tedt Data  in Drive \n",
    "encoded_test = pd.DataFrame(encoded_dataset['test'])\n",
    "encoded_test.to_csv(encoded_test_data_path , encoding='utf-8', index=False)\n",
    "shutil.copy(encoded_test_data_path  , '/content/drive/MyDrive/Complaints_csv/Experiment3/ENCODED_Test_data_DistilBERT.csv' )\n",
    "print(\"\\nTransfer Complete\")"
   ]
  },
  {
   "cell_type": "code",
   "execution_count": 104,
   "metadata": {
    "colab": {
     "base_uri": "https://localhost:8080/"
    },
    "id": "fi7vxB8ZEhk0",
    "outputId": "55bc2bc5-02a4-41f1-a9f7-c22c5b2a0b02"
   },
   "outputs": [
    {
     "name": "stdout",
     "output_type": "stream",
     "text": [
      "\n",
      "Transfer Complete\n"
     ]
    }
   ],
   "source": [
    "#Transfer the label2id_df in Drive \n",
    "label2id_df = pd.DataFrame([label2id] )\n",
    "label2id_df.to_csv(label2id_df_path  , encoding='utf-8', index=False) \n",
    "shutil.copy(label2id_df_path , '/content/drive/MyDrive/Complaints_csv/Experiment3/label2id_df.csv' )\n",
    "print(\"\\nTransfer Complete\")"
   ]
  },
  {
   "cell_type": "code",
   "execution_count": 103,
   "metadata": {
    "colab": {
     "base_uri": "https://localhost:8080/"
    },
    "id": "i9zr_C8cogEr",
    "outputId": "3374b002-43d0-45e3-cdc3-d00d773591a0"
   },
   "outputs": [
    {
     "name": "stdout",
     "output_type": "stream",
     "text": [
      "\n",
      "Transfer Complete\n"
     ]
    }
   ],
   "source": [
    "#Transfer the best model in Drive \n",
    "shutil.copy(best_model_path, '/content/drive/MyDrive/Complaints_csv/Experiment3/best_model.pt' )\n",
    "print(\"\\nTransfer Complete\")"
   ]
  }
 ],
 "metadata": {
  "accelerator": "GPU",
  "colab": {
   "collapsed_sections": [
    "6GkxfuQ8ob0R"
   ],
   "name": "Experiment3:  PART 3 _DistilBERT_5_epochs.ipynb",
   "provenance": []
  },
  "kernelspec": {
   "display_name": "Python 3 (ipykernel)",
   "language": "python",
   "name": "python3"
  },
  "language_info": {
   "codemirror_mode": {
    "name": "ipython",
    "version": 3
   },
   "file_extension": ".py",
   "mimetype": "text/x-python",
   "name": "python",
   "nbconvert_exporter": "python",
   "pygments_lexer": "ipython3",
   "version": "3.9.7"
  },
  "widgets": {
   "application/vnd.jupyter.widget-state+json": {
    "02c2f289258c4ecb80812cb9e6b55a07": {
     "model_module": "@jupyter-widgets/controls",
     "model_module_version": "1.5.0",
     "model_name": "HTMLModel",
     "state": {
      "_dom_classes": [],
      "_model_module": "@jupyter-widgets/controls",
      "_model_module_version": "1.5.0",
      "_model_name": "HTMLModel",
      "_view_count": null,
      "_view_module": "@jupyter-widgets/controls",
      "_view_module_version": "1.5.0",
      "_view_name": "HTMLView",
      "description": "",
      "description_tooltip": null,
      "layout": "IPY_MODEL_51d779bfe9b04ddcb7f7ed9f1b60ea86",
      "placeholder": "​",
      "style": "IPY_MODEL_5c8149c2a8e34eb6aebf2ea3850d3936",
      "value": "100%"
     }
    },
    "05a2ae7fe60f449e9c9fdd1f94db16ff": {
     "model_module": "@jupyter-widgets/controls",
     "model_module_version": "1.5.0",
     "model_name": "HTMLModel",
     "state": {
      "_dom_classes": [],
      "_model_module": "@jupyter-widgets/controls",
      "_model_module_version": "1.5.0",
      "_model_name": "HTMLModel",
      "_view_count": null,
      "_view_module": "@jupyter-widgets/controls",
      "_view_module_version": "1.5.0",
      "_view_name": "HTMLView",
      "description": "",
      "description_tooltip": null,
      "layout": "IPY_MODEL_8f6b694d765f4e219decd8d3f2e6aa3a",
      "placeholder": "​",
      "style": "IPY_MODEL_3c3e63aa853042478ec2b5f465c195cf",
      "value": " 7/7 [00:02&lt;00:00,  3.58ba/s]"
     }
    },
    "0708ef9399674daa872f27d8848c9c2d": {
     "model_module": "@jupyter-widgets/base",
     "model_module_version": "1.2.0",
     "model_name": "LayoutModel",
     "state": {
      "_model_module": "@jupyter-widgets/base",
      "_model_module_version": "1.2.0",
      "_model_name": "LayoutModel",
      "_view_count": null,
      "_view_module": "@jupyter-widgets/base",
      "_view_module_version": "1.2.0",
      "_view_name": "LayoutView",
      "align_content": null,
      "align_items": null,
      "align_self": null,
      "border": null,
      "bottom": null,
      "display": null,
      "flex": null,
      "flex_flow": null,
      "grid_area": null,
      "grid_auto_columns": null,
      "grid_auto_flow": null,
      "grid_auto_rows": null,
      "grid_column": null,
      "grid_gap": null,
      "grid_row": null,
      "grid_template_areas": null,
      "grid_template_columns": null,
      "grid_template_rows": null,
      "height": null,
      "justify_content": null,
      "justify_items": null,
      "left": null,
      "margin": null,
      "max_height": null,
      "max_width": null,
      "min_height": null,
      "min_width": null,
      "object_fit": null,
      "object_position": null,
      "order": null,
      "overflow": null,
      "overflow_x": null,
      "overflow_y": null,
      "padding": null,
      "right": null,
      "top": null,
      "visibility": null,
      "width": null
     }
    },
    "084c15e9bc7046ebb261f81067f742da": {
     "model_module": "@jupyter-widgets/controls",
     "model_module_version": "1.5.0",
     "model_name": "ProgressStyleModel",
     "state": {
      "_model_module": "@jupyter-widgets/controls",
      "_model_module_version": "1.5.0",
      "_model_name": "ProgressStyleModel",
      "_view_count": null,
      "_view_module": "@jupyter-widgets/base",
      "_view_module_version": "1.2.0",
      "_view_name": "StyleView",
      "bar_color": null,
      "description_width": ""
     }
    },
    "09588fc6ccac4ae58861fb852b086924": {
     "model_module": "@jupyter-widgets/base",
     "model_module_version": "1.2.0",
     "model_name": "LayoutModel",
     "state": {
      "_model_module": "@jupyter-widgets/base",
      "_model_module_version": "1.2.0",
      "_model_name": "LayoutModel",
      "_view_count": null,
      "_view_module": "@jupyter-widgets/base",
      "_view_module_version": "1.2.0",
      "_view_name": "LayoutView",
      "align_content": null,
      "align_items": null,
      "align_self": null,
      "border": null,
      "bottom": null,
      "display": null,
      "flex": null,
      "flex_flow": null,
      "grid_area": null,
      "grid_auto_columns": null,
      "grid_auto_flow": null,
      "grid_auto_rows": null,
      "grid_column": null,
      "grid_gap": null,
      "grid_row": null,
      "grid_template_areas": null,
      "grid_template_columns": null,
      "grid_template_rows": null,
      "height": null,
      "justify_content": null,
      "justify_items": null,
      "left": null,
      "margin": null,
      "max_height": null,
      "max_width": null,
      "min_height": null,
      "min_width": null,
      "object_fit": null,
      "object_position": null,
      "order": null,
      "overflow": null,
      "overflow_x": null,
      "overflow_y": null,
      "padding": null,
      "right": null,
      "top": null,
      "visibility": null,
      "width": null
     }
    },
    "105b1871e9d849c798c38020f7c154f5": {
     "model_module": "@jupyter-widgets/base",
     "model_module_version": "1.2.0",
     "model_name": "LayoutModel",
     "state": {
      "_model_module": "@jupyter-widgets/base",
      "_model_module_version": "1.2.0",
      "_model_name": "LayoutModel",
      "_view_count": null,
      "_view_module": "@jupyter-widgets/base",
      "_view_module_version": "1.2.0",
      "_view_name": "LayoutView",
      "align_content": null,
      "align_items": null,
      "align_self": null,
      "border": null,
      "bottom": null,
      "display": null,
      "flex": null,
      "flex_flow": null,
      "grid_area": null,
      "grid_auto_columns": null,
      "grid_auto_flow": null,
      "grid_auto_rows": null,
      "grid_column": null,
      "grid_gap": null,
      "grid_row": null,
      "grid_template_areas": null,
      "grid_template_columns": null,
      "grid_template_rows": null,
      "height": null,
      "justify_content": null,
      "justify_items": null,
      "left": null,
      "margin": null,
      "max_height": null,
      "max_width": null,
      "min_height": null,
      "min_width": null,
      "object_fit": null,
      "object_position": null,
      "order": null,
      "overflow": null,
      "overflow_x": null,
      "overflow_y": null,
      "padding": null,
      "right": null,
      "top": null,
      "visibility": null,
      "width": null
     }
    },
    "1202643643f14a78a25aa3de6d30e4a9": {
     "model_module": "@jupyter-widgets/controls",
     "model_module_version": "1.5.0",
     "model_name": "FloatProgressModel",
     "state": {
      "_dom_classes": [],
      "_model_module": "@jupyter-widgets/controls",
      "_model_module_version": "1.5.0",
      "_model_name": "FloatProgressModel",
      "_view_count": null,
      "_view_module": "@jupyter-widgets/controls",
      "_view_module_version": "1.5.0",
      "_view_name": "ProgressView",
      "bar_style": "success",
      "description": "",
      "description_tooltip": null,
      "layout": "IPY_MODEL_105b1871e9d849c798c38020f7c154f5",
      "max": 263273408,
      "min": 0,
      "orientation": "horizontal",
      "style": "IPY_MODEL_dc0c783ec4e048f49d499c50db21675f",
      "value": 263273408
     }
    },
    "13b4614ec46548039d3c93078bd9804c": {
     "model_module": "@jupyter-widgets/controls",
     "model_module_version": "1.5.0",
     "model_name": "HTMLModel",
     "state": {
      "_dom_classes": [],
      "_model_module": "@jupyter-widgets/controls",
      "_model_module_version": "1.5.0",
      "_model_name": "HTMLModel",
      "_view_count": null,
      "_view_module": "@jupyter-widgets/controls",
      "_view_module_version": "1.5.0",
      "_view_name": "HTMLView",
      "description": "",
      "description_tooltip": null,
      "layout": "IPY_MODEL_1abefbd8928846bd9ffdfc5ba274803b",
      "placeholder": "​",
      "style": "IPY_MODEL_722058af64f84d90bf4a12199f0a8889",
      "value": " 208k/208k [00:00&lt;00:00, 925kB/s]"
     }
    },
    "143450a3b4f54398a6ebd7ffb59fb4c4": {
     "model_module": "@jupyter-widgets/base",
     "model_module_version": "1.2.0",
     "model_name": "LayoutModel",
     "state": {
      "_model_module": "@jupyter-widgets/base",
      "_model_module_version": "1.2.0",
      "_model_name": "LayoutModel",
      "_view_count": null,
      "_view_module": "@jupyter-widgets/base",
      "_view_module_version": "1.2.0",
      "_view_name": "LayoutView",
      "align_content": null,
      "align_items": null,
      "align_self": null,
      "border": null,
      "bottom": null,
      "display": null,
      "flex": null,
      "flex_flow": null,
      "grid_area": null,
      "grid_auto_columns": null,
      "grid_auto_flow": null,
      "grid_auto_rows": null,
      "grid_column": null,
      "grid_gap": null,
      "grid_row": null,
      "grid_template_areas": null,
      "grid_template_columns": null,
      "grid_template_rows": null,
      "height": null,
      "justify_content": null,
      "justify_items": null,
      "left": null,
      "margin": null,
      "max_height": null,
      "max_width": null,
      "min_height": null,
      "min_width": null,
      "object_fit": null,
      "object_position": null,
      "order": null,
      "overflow": null,
      "overflow_x": null,
      "overflow_y": null,
      "padding": null,
      "right": null,
      "top": null,
      "visibility": null,
      "width": null
     }
    },
    "1abefbd8928846bd9ffdfc5ba274803b": {
     "model_module": "@jupyter-widgets/base",
     "model_module_version": "1.2.0",
     "model_name": "LayoutModel",
     "state": {
      "_model_module": "@jupyter-widgets/base",
      "_model_module_version": "1.2.0",
      "_model_name": "LayoutModel",
      "_view_count": null,
      "_view_module": "@jupyter-widgets/base",
      "_view_module_version": "1.2.0",
      "_view_name": "LayoutView",
      "align_content": null,
      "align_items": null,
      "align_self": null,
      "border": null,
      "bottom": null,
      "display": null,
      "flex": null,
      "flex_flow": null,
      "grid_area": null,
      "grid_auto_columns": null,
      "grid_auto_flow": null,
      "grid_auto_rows": null,
      "grid_column": null,
      "grid_gap": null,
      "grid_row": null,
      "grid_template_areas": null,
      "grid_template_columns": null,
      "grid_template_rows": null,
      "height": null,
      "justify_content": null,
      "justify_items": null,
      "left": null,
      "margin": null,
      "max_height": null,
      "max_width": null,
      "min_height": null,
      "min_width": null,
      "object_fit": null,
      "object_position": null,
      "order": null,
      "overflow": null,
      "overflow_x": null,
      "overflow_y": null,
      "padding": null,
      "right": null,
      "top": null,
      "visibility": null,
      "width": null
     }
    },
    "1bb2e36ae1fc4c87a0f24ba1f8fc50c1": {
     "model_module": "@jupyter-widgets/controls",
     "model_module_version": "1.5.0",
     "model_name": "HBoxModel",
     "state": {
      "_dom_classes": [],
      "_model_module": "@jupyter-widgets/controls",
      "_model_module_version": "1.5.0",
      "_model_name": "HBoxModel",
      "_view_count": null,
      "_view_module": "@jupyter-widgets/controls",
      "_view_module_version": "1.5.0",
      "_view_name": "HBoxView",
      "box_style": "",
      "children": [
       "IPY_MODEL_774bc42010bf4129b0c2eb1197d12865",
       "IPY_MODEL_1202643643f14a78a25aa3de6d30e4a9",
       "IPY_MODEL_3ec0dfae533e43a0ac3ea03accf59d91"
      ],
      "layout": "IPY_MODEL_6d65943ab7b3481cb4e1ecf2161fdcc5"
     }
    },
    "1e584aa51c4145efb196480ce357837d": {
     "model_module": "@jupyter-widgets/controls",
     "model_module_version": "1.5.0",
     "model_name": "HBoxModel",
     "state": {
      "_dom_classes": [],
      "_model_module": "@jupyter-widgets/controls",
      "_model_module_version": "1.5.0",
      "_model_name": "HBoxModel",
      "_view_count": null,
      "_view_module": "@jupyter-widgets/controls",
      "_view_module_version": "1.5.0",
      "_view_name": "HBoxView",
      "box_style": "",
      "children": [
       "IPY_MODEL_8c9e85ab39ea4b4eab452696dde78190",
       "IPY_MODEL_df8e2715ff6249c7b52275c31d4b1277",
       "IPY_MODEL_13b4614ec46548039d3c93078bd9804c"
      ],
      "layout": "IPY_MODEL_bd5d87d9c63543d18b2a78b0d1fb3063"
     }
    },
    "1e8ce0c186644c8eb7898007bfdab99a": {
     "model_module": "@jupyter-widgets/controls",
     "model_module_version": "1.5.0",
     "model_name": "FloatProgressModel",
     "state": {
      "_dom_classes": [],
      "_model_module": "@jupyter-widgets/controls",
      "_model_module_version": "1.5.0",
      "_model_name": "FloatProgressModel",
      "_view_count": null,
      "_view_module": "@jupyter-widgets/controls",
      "_view_module_version": "1.5.0",
      "_view_name": "ProgressView",
      "bar_style": "success",
      "description": "",
      "description_tooltip": null,
      "layout": "IPY_MODEL_5a961680578345b79e99238a740aac63",
      "max": 7,
      "min": 0,
      "orientation": "horizontal",
      "style": "IPY_MODEL_f8c34977a8b8488188602b144c8c065f",
      "value": 7
     }
    },
    "22361c7ce9d745ce966d218cbb1cd0f5": {
     "model_module": "@jupyter-widgets/controls",
     "model_module_version": "1.5.0",
     "model_name": "DescriptionStyleModel",
     "state": {
      "_model_module": "@jupyter-widgets/controls",
      "_model_module_version": "1.5.0",
      "_model_name": "DescriptionStyleModel",
      "_view_count": null,
      "_view_module": "@jupyter-widgets/base",
      "_view_module_version": "1.2.0",
      "_view_name": "StyleView",
      "description_width": ""
     }
    },
    "290371367c3343938d1a2016c47d1c67": {
     "model_module": "@jupyter-widgets/controls",
     "model_module_version": "1.5.0",
     "model_name": "HTMLModel",
     "state": {
      "_dom_classes": [],
      "_model_module": "@jupyter-widgets/controls",
      "_model_module_version": "1.5.0",
      "_model_name": "HTMLModel",
      "_view_count": null,
      "_view_module": "@jupyter-widgets/controls",
      "_view_module_version": "1.5.0",
      "_view_name": "HTMLView",
      "description": "",
      "description_tooltip": null,
      "layout": "IPY_MODEL_8878261c14184a76ae1fefe7809724a6",
      "placeholder": "​",
      "style": "IPY_MODEL_4e45ccd3f0a442189f806bab1f511c73",
      "value": "100%"
     }
    },
    "2ea0a44b0d204c2d831807850c3f8c80": {
     "model_module": "@jupyter-widgets/controls",
     "model_module_version": "1.5.0",
     "model_name": "DescriptionStyleModel",
     "state": {
      "_model_module": "@jupyter-widgets/controls",
      "_model_module_version": "1.5.0",
      "_model_name": "DescriptionStyleModel",
      "_view_count": null,
      "_view_module": "@jupyter-widgets/base",
      "_view_module_version": "1.2.0",
      "_view_name": "StyleView",
      "description_width": ""
     }
    },
    "2f377a3dbe1341b7b8c8fa92a9ef163d": {
     "model_module": "@jupyter-widgets/controls",
     "model_module_version": "1.5.0",
     "model_name": "DescriptionStyleModel",
     "state": {
      "_model_module": "@jupyter-widgets/controls",
      "_model_module_version": "1.5.0",
      "_model_name": "DescriptionStyleModel",
      "_view_count": null,
      "_view_module": "@jupyter-widgets/base",
      "_view_module_version": "1.2.0",
      "_view_name": "StyleView",
      "description_width": ""
     }
    },
    "30c2805b4ac941838d66c0c4b6ab415a": {
     "model_module": "@jupyter-widgets/base",
     "model_module_version": "1.2.0",
     "model_name": "LayoutModel",
     "state": {
      "_model_module": "@jupyter-widgets/base",
      "_model_module_version": "1.2.0",
      "_model_name": "LayoutModel",
      "_view_count": null,
      "_view_module": "@jupyter-widgets/base",
      "_view_module_version": "1.2.0",
      "_view_name": "LayoutView",
      "align_content": null,
      "align_items": null,
      "align_self": null,
      "border": null,
      "bottom": null,
      "display": null,
      "flex": null,
      "flex_flow": null,
      "grid_area": null,
      "grid_auto_columns": null,
      "grid_auto_flow": null,
      "grid_auto_rows": null,
      "grid_column": null,
      "grid_gap": null,
      "grid_row": null,
      "grid_template_areas": null,
      "grid_template_columns": null,
      "grid_template_rows": null,
      "height": null,
      "justify_content": null,
      "justify_items": null,
      "left": null,
      "margin": null,
      "max_height": null,
      "max_width": null,
      "min_height": null,
      "min_width": null,
      "object_fit": null,
      "object_position": null,
      "order": null,
      "overflow": null,
      "overflow_x": null,
      "overflow_y": null,
      "padding": null,
      "right": null,
      "top": null,
      "visibility": null,
      "width": null
     }
    },
    "34df051048484226b360f2539a83b458": {
     "model_module": "@jupyter-widgets/base",
     "model_module_version": "1.2.0",
     "model_name": "LayoutModel",
     "state": {
      "_model_module": "@jupyter-widgets/base",
      "_model_module_version": "1.2.0",
      "_model_name": "LayoutModel",
      "_view_count": null,
      "_view_module": "@jupyter-widgets/base",
      "_view_module_version": "1.2.0",
      "_view_name": "LayoutView",
      "align_content": null,
      "align_items": null,
      "align_self": null,
      "border": null,
      "bottom": null,
      "display": null,
      "flex": null,
      "flex_flow": null,
      "grid_area": null,
      "grid_auto_columns": null,
      "grid_auto_flow": null,
      "grid_auto_rows": null,
      "grid_column": null,
      "grid_gap": null,
      "grid_row": null,
      "grid_template_areas": null,
      "grid_template_columns": null,
      "grid_template_rows": null,
      "height": null,
      "justify_content": null,
      "justify_items": null,
      "left": null,
      "margin": null,
      "max_height": null,
      "max_width": null,
      "min_height": null,
      "min_width": null,
      "object_fit": null,
      "object_position": null,
      "order": null,
      "overflow": null,
      "overflow_x": null,
      "overflow_y": null,
      "padding": null,
      "right": null,
      "top": null,
      "visibility": null,
      "width": null
     }
    },
    "38e76bef25684065865a778f2d2f6a7d": {
     "model_module": "@jupyter-widgets/controls",
     "model_module_version": "1.5.0",
     "model_name": "FloatProgressModel",
     "state": {
      "_dom_classes": [],
      "_model_module": "@jupyter-widgets/controls",
      "_model_module_version": "1.5.0",
      "_model_name": "FloatProgressModel",
      "_view_count": null,
      "_view_module": "@jupyter-widgets/controls",
      "_view_module_version": "1.5.0",
      "_view_name": "ProgressView",
      "bar_style": "success",
      "description": "",
      "description_tooltip": null,
      "layout": "IPY_MODEL_bd6967f0ec0b44fba0857e3cf80d20d4",
      "max": 411,
      "min": 0,
      "orientation": "horizontal",
      "style": "IPY_MODEL_7e94e01cc2fa4327b0307382cadc95c1",
      "value": 411
     }
    },
    "3bd2a81463fc400aa90f38a3519d0123": {
     "model_module": "@jupyter-widgets/controls",
     "model_module_version": "1.5.0",
     "model_name": "HBoxModel",
     "state": {
      "_dom_classes": [],
      "_model_module": "@jupyter-widgets/controls",
      "_model_module_version": "1.5.0",
      "_model_name": "HBoxModel",
      "_view_count": null,
      "_view_module": "@jupyter-widgets/controls",
      "_view_module_version": "1.5.0",
      "_view_name": "HBoxView",
      "box_style": "",
      "children": [
       "IPY_MODEL_290371367c3343938d1a2016c47d1c67",
       "IPY_MODEL_3e87301102974f1c96a0ef7bfb357662",
       "IPY_MODEL_867e403249e446a6b2fb61394b930f04"
      ],
      "layout": "IPY_MODEL_7cb4e3e939e8499f8e2a26ff4e2b21dd"
     }
    },
    "3c3e63aa853042478ec2b5f465c195cf": {
     "model_module": "@jupyter-widgets/controls",
     "model_module_version": "1.5.0",
     "model_name": "DescriptionStyleModel",
     "state": {
      "_model_module": "@jupyter-widgets/controls",
      "_model_module_version": "1.5.0",
      "_model_name": "DescriptionStyleModel",
      "_view_count": null,
      "_view_module": "@jupyter-widgets/base",
      "_view_module_version": "1.2.0",
      "_view_name": "StyleView",
      "description_width": ""
     }
    },
    "3db31ff6898c41d996c5aff063f561bd": {
     "model_module": "@jupyter-widgets/controls",
     "model_module_version": "1.5.0",
     "model_name": "HTMLModel",
     "state": {
      "_dom_classes": [],
      "_model_module": "@jupyter-widgets/controls",
      "_model_module_version": "1.5.0",
      "_model_name": "HTMLModel",
      "_view_count": null,
      "_view_module": "@jupyter-widgets/controls",
      "_view_module_version": "1.5.0",
      "_view_name": "HTMLView",
      "description": "",
      "description_tooltip": null,
      "layout": "IPY_MODEL_6be89d394abd4d0792afb2adb8a242fe",
      "placeholder": "​",
      "style": "IPY_MODEL_61541322ac814db787aee34cb2cb5435",
      "value": "Downloading: 100%"
     }
    },
    "3e87301102974f1c96a0ef7bfb357662": {
     "model_module": "@jupyter-widgets/controls",
     "model_module_version": "1.5.0",
     "model_name": "FloatProgressModel",
     "state": {
      "_dom_classes": [],
      "_model_module": "@jupyter-widgets/controls",
      "_model_module_version": "1.5.0",
      "_model_name": "FloatProgressModel",
      "_view_count": null,
      "_view_module": "@jupyter-widgets/controls",
      "_view_module_version": "1.5.0",
      "_view_name": "ProgressView",
      "bar_style": "",
      "description": "",
      "description_tooltip": null,
      "layout": "IPY_MODEL_491641f0e63a466abd9ad73d54231839",
      "max": 5,
      "min": 0,
      "orientation": "horizontal",
      "style": "IPY_MODEL_9c0133102e3249b19e072087333ce65c",
      "value": 5
     }
    },
    "3ec0dfae533e43a0ac3ea03accf59d91": {
     "model_module": "@jupyter-widgets/controls",
     "model_module_version": "1.5.0",
     "model_name": "HTMLModel",
     "state": {
      "_dom_classes": [],
      "_model_module": "@jupyter-widgets/controls",
      "_model_module_version": "1.5.0",
      "_model_name": "HTMLModel",
      "_view_count": null,
      "_view_module": "@jupyter-widgets/controls",
      "_view_module_version": "1.5.0",
      "_view_name": "HTMLView",
      "description": "",
      "description_tooltip": null,
      "layout": "IPY_MODEL_6aaaf557bd9444359b241da571795ae5",
      "placeholder": "​",
      "style": "IPY_MODEL_d7a0a0631eff4ad5b4523791e1015ac4",
      "value": " 251M/251M [00:04&lt;00:00, 53.5MB/s]"
     }
    },
    "3f5dab07b1024152b38f752bb0d528f4": {
     "model_module": "@jupyter-widgets/controls",
     "model_module_version": "1.5.0",
     "model_name": "DescriptionStyleModel",
     "state": {
      "_model_module": "@jupyter-widgets/controls",
      "_model_module_version": "1.5.0",
      "_model_name": "DescriptionStyleModel",
      "_view_count": null,
      "_view_module": "@jupyter-widgets/base",
      "_view_module_version": "1.2.0",
      "_view_name": "StyleView",
      "description_width": ""
     }
    },
    "47a84c884de9496c86adb52bc3f46542": {
     "model_module": "@jupyter-widgets/base",
     "model_module_version": "1.2.0",
     "model_name": "LayoutModel",
     "state": {
      "_model_module": "@jupyter-widgets/base",
      "_model_module_version": "1.2.0",
      "_model_name": "LayoutModel",
      "_view_count": null,
      "_view_module": "@jupyter-widgets/base",
      "_view_module_version": "1.2.0",
      "_view_name": "LayoutView",
      "align_content": null,
      "align_items": null,
      "align_self": null,
      "border": null,
      "bottom": null,
      "display": null,
      "flex": null,
      "flex_flow": null,
      "grid_area": null,
      "grid_auto_columns": null,
      "grid_auto_flow": null,
      "grid_auto_rows": null,
      "grid_column": null,
      "grid_gap": null,
      "grid_row": null,
      "grid_template_areas": null,
      "grid_template_columns": null,
      "grid_template_rows": null,
      "height": null,
      "justify_content": null,
      "justify_items": null,
      "left": null,
      "margin": null,
      "max_height": null,
      "max_width": null,
      "min_height": null,
      "min_width": null,
      "object_fit": null,
      "object_position": null,
      "order": null,
      "overflow": null,
      "overflow_x": null,
      "overflow_y": null,
      "padding": null,
      "right": null,
      "top": null,
      "visibility": null,
      "width": null
     }
    },
    "491641f0e63a466abd9ad73d54231839": {
     "model_module": "@jupyter-widgets/base",
     "model_module_version": "1.2.0",
     "model_name": "LayoutModel",
     "state": {
      "_model_module": "@jupyter-widgets/base",
      "_model_module_version": "1.2.0",
      "_model_name": "LayoutModel",
      "_view_count": null,
      "_view_module": "@jupyter-widgets/base",
      "_view_module_version": "1.2.0",
      "_view_name": "LayoutView",
      "align_content": null,
      "align_items": null,
      "align_self": null,
      "border": null,
      "bottom": null,
      "display": null,
      "flex": null,
      "flex_flow": null,
      "grid_area": null,
      "grid_auto_columns": null,
      "grid_auto_flow": null,
      "grid_auto_rows": null,
      "grid_column": null,
      "grid_gap": null,
      "grid_row": null,
      "grid_template_areas": null,
      "grid_template_columns": null,
      "grid_template_rows": null,
      "height": null,
      "justify_content": null,
      "justify_items": null,
      "left": null,
      "margin": null,
      "max_height": null,
      "max_width": null,
      "min_height": null,
      "min_width": null,
      "object_fit": null,
      "object_position": null,
      "order": null,
      "overflow": null,
      "overflow_x": null,
      "overflow_y": null,
      "padding": null,
      "right": null,
      "top": null,
      "visibility": null,
      "width": null
     }
    },
    "4d900cd348644dc1a42bbdf6c7f8cd70": {
     "model_module": "@jupyter-widgets/controls",
     "model_module_version": "1.5.0",
     "model_name": "HBoxModel",
     "state": {
      "_dom_classes": [],
      "_model_module": "@jupyter-widgets/controls",
      "_model_module_version": "1.5.0",
      "_model_name": "HBoxModel",
      "_view_count": null,
      "_view_module": "@jupyter-widgets/controls",
      "_view_module_version": "1.5.0",
      "_view_name": "HBoxView",
      "box_style": "",
      "children": [
       "IPY_MODEL_fed9acfe66ba4f0b81ebf426cb1ee194",
       "IPY_MODEL_c72e54c425a64c3aa5e7c56b45f27da2",
       "IPY_MODEL_c4ea057e37704ad0a934e346ed9e0334"
      ],
      "layout": "IPY_MODEL_fdd238a372c04fedb53219c1667606e9"
     }
    },
    "4e357eadfc4b459a8b6c179912e2d1d7": {
     "model_module": "@jupyter-widgets/base",
     "model_module_version": "1.2.0",
     "model_name": "LayoutModel",
     "state": {
      "_model_module": "@jupyter-widgets/base",
      "_model_module_version": "1.2.0",
      "_model_name": "LayoutModel",
      "_view_count": null,
      "_view_module": "@jupyter-widgets/base",
      "_view_module_version": "1.2.0",
      "_view_name": "LayoutView",
      "align_content": null,
      "align_items": null,
      "align_self": null,
      "border": null,
      "bottom": null,
      "display": null,
      "flex": null,
      "flex_flow": null,
      "grid_area": null,
      "grid_auto_columns": null,
      "grid_auto_flow": null,
      "grid_auto_rows": null,
      "grid_column": null,
      "grid_gap": null,
      "grid_row": null,
      "grid_template_areas": null,
      "grid_template_columns": null,
      "grid_template_rows": null,
      "height": null,
      "justify_content": null,
      "justify_items": null,
      "left": null,
      "margin": null,
      "max_height": null,
      "max_width": null,
      "min_height": null,
      "min_width": null,
      "object_fit": null,
      "object_position": null,
      "order": null,
      "overflow": null,
      "overflow_x": null,
      "overflow_y": null,
      "padding": null,
      "right": null,
      "top": null,
      "visibility": null,
      "width": null
     }
    },
    "4e45ccd3f0a442189f806bab1f511c73": {
     "model_module": "@jupyter-widgets/controls",
     "model_module_version": "1.5.0",
     "model_name": "DescriptionStyleModel",
     "state": {
      "_model_module": "@jupyter-widgets/controls",
      "_model_module_version": "1.5.0",
      "_model_name": "DescriptionStyleModel",
      "_view_count": null,
      "_view_module": "@jupyter-widgets/base",
      "_view_module_version": "1.2.0",
      "_view_name": "StyleView",
      "description_width": ""
     }
    },
    "51d779bfe9b04ddcb7f7ed9f1b60ea86": {
     "model_module": "@jupyter-widgets/base",
     "model_module_version": "1.2.0",
     "model_name": "LayoutModel",
     "state": {
      "_model_module": "@jupyter-widgets/base",
      "_model_module_version": "1.2.0",
      "_model_name": "LayoutModel",
      "_view_count": null,
      "_view_module": "@jupyter-widgets/base",
      "_view_module_version": "1.2.0",
      "_view_name": "LayoutView",
      "align_content": null,
      "align_items": null,
      "align_self": null,
      "border": null,
      "bottom": null,
      "display": null,
      "flex": null,
      "flex_flow": null,
      "grid_area": null,
      "grid_auto_columns": null,
      "grid_auto_flow": null,
      "grid_auto_rows": null,
      "grid_column": null,
      "grid_gap": null,
      "grid_row": null,
      "grid_template_areas": null,
      "grid_template_columns": null,
      "grid_template_rows": null,
      "height": null,
      "justify_content": null,
      "justify_items": null,
      "left": null,
      "margin": null,
      "max_height": null,
      "max_width": null,
      "min_height": null,
      "min_width": null,
      "object_fit": null,
      "object_position": null,
      "order": null,
      "overflow": null,
      "overflow_x": null,
      "overflow_y": null,
      "padding": null,
      "right": null,
      "top": null,
      "visibility": null,
      "width": null
     }
    },
    "56f62f50e9c74c11add0853ee7afef9f": {
     "model_module": "@jupyter-widgets/controls",
     "model_module_version": "1.5.0",
     "model_name": "HBoxModel",
     "state": {
      "_dom_classes": [],
      "_model_module": "@jupyter-widgets/controls",
      "_model_module_version": "1.5.0",
      "_model_name": "HBoxModel",
      "_view_count": null,
      "_view_module": "@jupyter-widgets/controls",
      "_view_module_version": "1.5.0",
      "_view_name": "HBoxView",
      "box_style": "",
      "children": [
       "IPY_MODEL_a499ca9ec09e4dc6b729e093a3fc72ea",
       "IPY_MODEL_c0a46dac79e949e2bed1d561f2fb294b",
       "IPY_MODEL_7005a00bc61945fcae9f54c5003d98b1"
      ],
      "layout": "IPY_MODEL_c5956fa55b0440588c1928fe58bb7cb2"
     }
    },
    "5730e5b654354538bd8bcccdc3b6b764": {
     "model_module": "@jupyter-widgets/base",
     "model_module_version": "1.2.0",
     "model_name": "LayoutModel",
     "state": {
      "_model_module": "@jupyter-widgets/base",
      "_model_module_version": "1.2.0",
      "_model_name": "LayoutModel",
      "_view_count": null,
      "_view_module": "@jupyter-widgets/base",
      "_view_module_version": "1.2.0",
      "_view_name": "LayoutView",
      "align_content": null,
      "align_items": null,
      "align_self": null,
      "border": null,
      "bottom": null,
      "display": null,
      "flex": null,
      "flex_flow": null,
      "grid_area": null,
      "grid_auto_columns": null,
      "grid_auto_flow": null,
      "grid_auto_rows": null,
      "grid_column": null,
      "grid_gap": null,
      "grid_row": null,
      "grid_template_areas": null,
      "grid_template_columns": null,
      "grid_template_rows": null,
      "height": null,
      "justify_content": null,
      "justify_items": null,
      "left": null,
      "margin": null,
      "max_height": null,
      "max_width": null,
      "min_height": null,
      "min_width": null,
      "object_fit": null,
      "object_position": null,
      "order": null,
      "overflow": null,
      "overflow_x": null,
      "overflow_y": null,
      "padding": null,
      "right": null,
      "top": null,
      "visibility": null,
      "width": null
     }
    },
    "58c7df33d5c5479ba4c270b5dff764d1": {
     "model_module": "@jupyter-widgets/base",
     "model_module_version": "1.2.0",
     "model_name": "LayoutModel",
     "state": {
      "_model_module": "@jupyter-widgets/base",
      "_model_module_version": "1.2.0",
      "_model_name": "LayoutModel",
      "_view_count": null,
      "_view_module": "@jupyter-widgets/base",
      "_view_module_version": "1.2.0",
      "_view_name": "LayoutView",
      "align_content": null,
      "align_items": null,
      "align_self": null,
      "border": null,
      "bottom": null,
      "display": null,
      "flex": null,
      "flex_flow": null,
      "grid_area": null,
      "grid_auto_columns": null,
      "grid_auto_flow": null,
      "grid_auto_rows": null,
      "grid_column": null,
      "grid_gap": null,
      "grid_row": null,
      "grid_template_areas": null,
      "grid_template_columns": null,
      "grid_template_rows": null,
      "height": null,
      "justify_content": null,
      "justify_items": null,
      "left": null,
      "margin": null,
      "max_height": null,
      "max_width": null,
      "min_height": null,
      "min_width": null,
      "object_fit": null,
      "object_position": null,
      "order": null,
      "overflow": null,
      "overflow_x": null,
      "overflow_y": null,
      "padding": null,
      "right": null,
      "top": null,
      "visibility": null,
      "width": null
     }
    },
    "5a961680578345b79e99238a740aac63": {
     "model_module": "@jupyter-widgets/base",
     "model_module_version": "1.2.0",
     "model_name": "LayoutModel",
     "state": {
      "_model_module": "@jupyter-widgets/base",
      "_model_module_version": "1.2.0",
      "_model_name": "LayoutModel",
      "_view_count": null,
      "_view_module": "@jupyter-widgets/base",
      "_view_module_version": "1.2.0",
      "_view_name": "LayoutView",
      "align_content": null,
      "align_items": null,
      "align_self": null,
      "border": null,
      "bottom": null,
      "display": null,
      "flex": null,
      "flex_flow": null,
      "grid_area": null,
      "grid_auto_columns": null,
      "grid_auto_flow": null,
      "grid_auto_rows": null,
      "grid_column": null,
      "grid_gap": null,
      "grid_row": null,
      "grid_template_areas": null,
      "grid_template_columns": null,
      "grid_template_rows": null,
      "height": null,
      "justify_content": null,
      "justify_items": null,
      "left": null,
      "margin": null,
      "max_height": null,
      "max_width": null,
      "min_height": null,
      "min_width": null,
      "object_fit": null,
      "object_position": null,
      "order": null,
      "overflow": null,
      "overflow_x": null,
      "overflow_y": null,
      "padding": null,
      "right": null,
      "top": null,
      "visibility": null,
      "width": null
     }
    },
    "5c8149c2a8e34eb6aebf2ea3850d3936": {
     "model_module": "@jupyter-widgets/controls",
     "model_module_version": "1.5.0",
     "model_name": "DescriptionStyleModel",
     "state": {
      "_model_module": "@jupyter-widgets/controls",
      "_model_module_version": "1.5.0",
      "_model_name": "DescriptionStyleModel",
      "_view_count": null,
      "_view_module": "@jupyter-widgets/base",
      "_view_module_version": "1.2.0",
      "_view_name": "StyleView",
      "description_width": ""
     }
    },
    "5cf1d30891f74744962836cdc4b7acbb": {
     "model_module": "@jupyter-widgets/base",
     "model_module_version": "1.2.0",
     "model_name": "LayoutModel",
     "state": {
      "_model_module": "@jupyter-widgets/base",
      "_model_module_version": "1.2.0",
      "_model_name": "LayoutModel",
      "_view_count": null,
      "_view_module": "@jupyter-widgets/base",
      "_view_module_version": "1.2.0",
      "_view_name": "LayoutView",
      "align_content": null,
      "align_items": null,
      "align_self": null,
      "border": null,
      "bottom": null,
      "display": null,
      "flex": null,
      "flex_flow": null,
      "grid_area": null,
      "grid_auto_columns": null,
      "grid_auto_flow": null,
      "grid_auto_rows": null,
      "grid_column": null,
      "grid_gap": null,
      "grid_row": null,
      "grid_template_areas": null,
      "grid_template_columns": null,
      "grid_template_rows": null,
      "height": null,
      "justify_content": null,
      "justify_items": null,
      "left": null,
      "margin": null,
      "max_height": null,
      "max_width": null,
      "min_height": null,
      "min_width": null,
      "object_fit": null,
      "object_position": null,
      "order": null,
      "overflow": null,
      "overflow_x": null,
      "overflow_y": null,
      "padding": null,
      "right": null,
      "top": null,
      "visibility": null,
      "width": null
     }
    },
    "5eeaac04f25e4ff986882f457495b5bc": {
     "model_module": "@jupyter-widgets/controls",
     "model_module_version": "1.5.0",
     "model_name": "HTMLModel",
     "state": {
      "_dom_classes": [],
      "_model_module": "@jupyter-widgets/controls",
      "_model_module_version": "1.5.0",
      "_model_name": "HTMLModel",
      "_view_count": null,
      "_view_module": "@jupyter-widgets/controls",
      "_view_module_version": "1.5.0",
      "_view_name": "HTMLView",
      "description": "",
      "description_tooltip": null,
      "layout": "IPY_MODEL_ec8d813cc55f49599ff798a7924a2719",
      "placeholder": "​",
      "style": "IPY_MODEL_acd2c755efe440edb426818a362e8c12",
      "value": "100%"
     }
    },
    "5eef54b30f3d405b800190779301bdc2": {
     "model_module": "@jupyter-widgets/controls",
     "model_module_version": "1.5.0",
     "model_name": "DescriptionStyleModel",
     "state": {
      "_model_module": "@jupyter-widgets/controls",
      "_model_module_version": "1.5.0",
      "_model_name": "DescriptionStyleModel",
      "_view_count": null,
      "_view_module": "@jupyter-widgets/base",
      "_view_module_version": "1.2.0",
      "_view_name": "StyleView",
      "description_width": ""
     }
    },
    "61541322ac814db787aee34cb2cb5435": {
     "model_module": "@jupyter-widgets/controls",
     "model_module_version": "1.5.0",
     "model_name": "DescriptionStyleModel",
     "state": {
      "_model_module": "@jupyter-widgets/controls",
      "_model_module_version": "1.5.0",
      "_model_name": "DescriptionStyleModel",
      "_view_count": null,
      "_view_module": "@jupyter-widgets/base",
      "_view_module_version": "1.2.0",
      "_view_name": "StyleView",
      "description_width": ""
     }
    },
    "6a94c4a4b57846c3bdfbff2034ce630c": {
     "model_module": "@jupyter-widgets/base",
     "model_module_version": "1.2.0",
     "model_name": "LayoutModel",
     "state": {
      "_model_module": "@jupyter-widgets/base",
      "_model_module_version": "1.2.0",
      "_model_name": "LayoutModel",
      "_view_count": null,
      "_view_module": "@jupyter-widgets/base",
      "_view_module_version": "1.2.0",
      "_view_name": "LayoutView",
      "align_content": null,
      "align_items": null,
      "align_self": null,
      "border": null,
      "bottom": null,
      "display": null,
      "flex": null,
      "flex_flow": null,
      "grid_area": null,
      "grid_auto_columns": null,
      "grid_auto_flow": null,
      "grid_auto_rows": null,
      "grid_column": null,
      "grid_gap": null,
      "grid_row": null,
      "grid_template_areas": null,
      "grid_template_columns": null,
      "grid_template_rows": null,
      "height": null,
      "justify_content": null,
      "justify_items": null,
      "left": null,
      "margin": null,
      "max_height": null,
      "max_width": null,
      "min_height": null,
      "min_width": null,
      "object_fit": null,
      "object_position": null,
      "order": null,
      "overflow": null,
      "overflow_x": null,
      "overflow_y": null,
      "padding": null,
      "right": null,
      "top": null,
      "visibility": null,
      "width": null
     }
    },
    "6aaaf557bd9444359b241da571795ae5": {
     "model_module": "@jupyter-widgets/base",
     "model_module_version": "1.2.0",
     "model_name": "LayoutModel",
     "state": {
      "_model_module": "@jupyter-widgets/base",
      "_model_module_version": "1.2.0",
      "_model_name": "LayoutModel",
      "_view_count": null,
      "_view_module": "@jupyter-widgets/base",
      "_view_module_version": "1.2.0",
      "_view_name": "LayoutView",
      "align_content": null,
      "align_items": null,
      "align_self": null,
      "border": null,
      "bottom": null,
      "display": null,
      "flex": null,
      "flex_flow": null,
      "grid_area": null,
      "grid_auto_columns": null,
      "grid_auto_flow": null,
      "grid_auto_rows": null,
      "grid_column": null,
      "grid_gap": null,
      "grid_row": null,
      "grid_template_areas": null,
      "grid_template_columns": null,
      "grid_template_rows": null,
      "height": null,
      "justify_content": null,
      "justify_items": null,
      "left": null,
      "margin": null,
      "max_height": null,
      "max_width": null,
      "min_height": null,
      "min_width": null,
      "object_fit": null,
      "object_position": null,
      "order": null,
      "overflow": null,
      "overflow_x": null,
      "overflow_y": null,
      "padding": null,
      "right": null,
      "top": null,
      "visibility": null,
      "width": null
     }
    },
    "6be89d394abd4d0792afb2adb8a242fe": {
     "model_module": "@jupyter-widgets/base",
     "model_module_version": "1.2.0",
     "model_name": "LayoutModel",
     "state": {
      "_model_module": "@jupyter-widgets/base",
      "_model_module_version": "1.2.0",
      "_model_name": "LayoutModel",
      "_view_count": null,
      "_view_module": "@jupyter-widgets/base",
      "_view_module_version": "1.2.0",
      "_view_name": "LayoutView",
      "align_content": null,
      "align_items": null,
      "align_self": null,
      "border": null,
      "bottom": null,
      "display": null,
      "flex": null,
      "flex_flow": null,
      "grid_area": null,
      "grid_auto_columns": null,
      "grid_auto_flow": null,
      "grid_auto_rows": null,
      "grid_column": null,
      "grid_gap": null,
      "grid_row": null,
      "grid_template_areas": null,
      "grid_template_columns": null,
      "grid_template_rows": null,
      "height": null,
      "justify_content": null,
      "justify_items": null,
      "left": null,
      "margin": null,
      "max_height": null,
      "max_width": null,
      "min_height": null,
      "min_width": null,
      "object_fit": null,
      "object_position": null,
      "order": null,
      "overflow": null,
      "overflow_x": null,
      "overflow_y": null,
      "padding": null,
      "right": null,
      "top": null,
      "visibility": null,
      "width": null
     }
    },
    "6d0cb60924ea46998c81228f2d189444": {
     "model_module": "@jupyter-widgets/base",
     "model_module_version": "1.2.0",
     "model_name": "LayoutModel",
     "state": {
      "_model_module": "@jupyter-widgets/base",
      "_model_module_version": "1.2.0",
      "_model_name": "LayoutModel",
      "_view_count": null,
      "_view_module": "@jupyter-widgets/base",
      "_view_module_version": "1.2.0",
      "_view_name": "LayoutView",
      "align_content": null,
      "align_items": null,
      "align_self": null,
      "border": null,
      "bottom": null,
      "display": null,
      "flex": null,
      "flex_flow": null,
      "grid_area": null,
      "grid_auto_columns": null,
      "grid_auto_flow": null,
      "grid_auto_rows": null,
      "grid_column": null,
      "grid_gap": null,
      "grid_row": null,
      "grid_template_areas": null,
      "grid_template_columns": null,
      "grid_template_rows": null,
      "height": null,
      "justify_content": null,
      "justify_items": null,
      "left": null,
      "margin": null,
      "max_height": null,
      "max_width": null,
      "min_height": null,
      "min_width": null,
      "object_fit": null,
      "object_position": null,
      "order": null,
      "overflow": null,
      "overflow_x": null,
      "overflow_y": null,
      "padding": null,
      "right": null,
      "top": null,
      "visibility": null,
      "width": null
     }
    },
    "6d65943ab7b3481cb4e1ecf2161fdcc5": {
     "model_module": "@jupyter-widgets/base",
     "model_module_version": "1.2.0",
     "model_name": "LayoutModel",
     "state": {
      "_model_module": "@jupyter-widgets/base",
      "_model_module_version": "1.2.0",
      "_model_name": "LayoutModel",
      "_view_count": null,
      "_view_module": "@jupyter-widgets/base",
      "_view_module_version": "1.2.0",
      "_view_name": "LayoutView",
      "align_content": null,
      "align_items": null,
      "align_self": null,
      "border": null,
      "bottom": null,
      "display": null,
      "flex": null,
      "flex_flow": null,
      "grid_area": null,
      "grid_auto_columns": null,
      "grid_auto_flow": null,
      "grid_auto_rows": null,
      "grid_column": null,
      "grid_gap": null,
      "grid_row": null,
      "grid_template_areas": null,
      "grid_template_columns": null,
      "grid_template_rows": null,
      "height": null,
      "justify_content": null,
      "justify_items": null,
      "left": null,
      "margin": null,
      "max_height": null,
      "max_width": null,
      "min_height": null,
      "min_width": null,
      "object_fit": null,
      "object_position": null,
      "order": null,
      "overflow": null,
      "overflow_x": null,
      "overflow_y": null,
      "padding": null,
      "right": null,
      "top": null,
      "visibility": null,
      "width": null
     }
    },
    "7005a00bc61945fcae9f54c5003d98b1": {
     "model_module": "@jupyter-widgets/controls",
     "model_module_version": "1.5.0",
     "model_name": "HTMLModel",
     "state": {
      "_dom_classes": [],
      "_model_module": "@jupyter-widgets/controls",
      "_model_module_version": "1.5.0",
      "_model_name": "HTMLModel",
      "_view_count": null,
      "_view_module": "@jupyter-widgets/controls",
      "_view_module_version": "1.5.0",
      "_view_name": "HTMLView",
      "description": "",
      "description_tooltip": null,
      "layout": "IPY_MODEL_5cf1d30891f74744962836cdc4b7acbb",
      "placeholder": "​",
      "style": "IPY_MODEL_2f377a3dbe1341b7b8c8fa92a9ef163d",
      "value": " 4/4 [00:01&lt;00:00,  3.56ba/s]"
     }
    },
    "710607e482384d34b27f152b95efb783": {
     "model_module": "@jupyter-widgets/controls",
     "model_module_version": "1.5.0",
     "model_name": "ProgressStyleModel",
     "state": {
      "_model_module": "@jupyter-widgets/controls",
      "_model_module_version": "1.5.0",
      "_model_name": "ProgressStyleModel",
      "_view_count": null,
      "_view_module": "@jupyter-widgets/base",
      "_view_module_version": "1.2.0",
      "_view_name": "StyleView",
      "bar_color": null,
      "description_width": ""
     }
    },
    "7191c4bb91924f0c9645cf5a12b7cf85": {
     "model_module": "@jupyter-widgets/controls",
     "model_module_version": "1.5.0",
     "model_name": "HTMLModel",
     "state": {
      "_dom_classes": [],
      "_model_module": "@jupyter-widgets/controls",
      "_model_module_version": "1.5.0",
      "_model_name": "HTMLModel",
      "_view_count": null,
      "_view_module": "@jupyter-widgets/controls",
      "_view_module_version": "1.5.0",
      "_view_name": "HTMLView",
      "description": "",
      "description_tooltip": null,
      "layout": "IPY_MODEL_09588fc6ccac4ae58861fb852b086924",
      "placeholder": "​",
      "style": "IPY_MODEL_8d0bb6f6b8a64d2e9002c7214f0f045c",
      "value": " 29.0/29.0 [00:00&lt;00:00, 828B/s]"
     }
    },
    "722058af64f84d90bf4a12199f0a8889": {
     "model_module": "@jupyter-widgets/controls",
     "model_module_version": "1.5.0",
     "model_name": "DescriptionStyleModel",
     "state": {
      "_model_module": "@jupyter-widgets/controls",
      "_model_module_version": "1.5.0",
      "_model_name": "DescriptionStyleModel",
      "_view_count": null,
      "_view_module": "@jupyter-widgets/base",
      "_view_module_version": "1.2.0",
      "_view_name": "StyleView",
      "description_width": ""
     }
    },
    "774bc42010bf4129b0c2eb1197d12865": {
     "model_module": "@jupyter-widgets/controls",
     "model_module_version": "1.5.0",
     "model_name": "HTMLModel",
     "state": {
      "_dom_classes": [],
      "_model_module": "@jupyter-widgets/controls",
      "_model_module_version": "1.5.0",
      "_model_name": "HTMLModel",
      "_view_count": null,
      "_view_module": "@jupyter-widgets/controls",
      "_view_module_version": "1.5.0",
      "_view_name": "HTMLView",
      "description": "",
      "description_tooltip": null,
      "layout": "IPY_MODEL_8d9ad4fd2ef84fd581f523370e56935e",
      "placeholder": "​",
      "style": "IPY_MODEL_af5cb9c28f8647fd9eb45ce1f331e3e5",
      "value": "Downloading: 100%"
     }
    },
    "77b7b4463412475d9345f7c41f064436": {
     "model_module": "@jupyter-widgets/controls",
     "model_module_version": "1.5.0",
     "model_name": "HBoxModel",
     "state": {
      "_dom_classes": [],
      "_model_module": "@jupyter-widgets/controls",
      "_model_module_version": "1.5.0",
      "_model_name": "HBoxModel",
      "_view_count": null,
      "_view_module": "@jupyter-widgets/controls",
      "_view_module_version": "1.5.0",
      "_view_name": "HBoxView",
      "box_style": "",
      "children": [
       "IPY_MODEL_02c2f289258c4ecb80812cb9e6b55a07",
       "IPY_MODEL_1e8ce0c186644c8eb7898007bfdab99a",
       "IPY_MODEL_05a2ae7fe60f449e9c9fdd1f94db16ff"
      ],
      "layout": "IPY_MODEL_a6b0d612d9cc4121a478868e4b98abe3"
     }
    },
    "7cb4e3e939e8499f8e2a26ff4e2b21dd": {
     "model_module": "@jupyter-widgets/base",
     "model_module_version": "1.2.0",
     "model_name": "LayoutModel",
     "state": {
      "_model_module": "@jupyter-widgets/base",
      "_model_module_version": "1.2.0",
      "_model_name": "LayoutModel",
      "_view_count": null,
      "_view_module": "@jupyter-widgets/base",
      "_view_module_version": "1.2.0",
      "_view_name": "LayoutView",
      "align_content": null,
      "align_items": null,
      "align_self": null,
      "border": null,
      "bottom": null,
      "display": null,
      "flex": null,
      "flex_flow": null,
      "grid_area": null,
      "grid_auto_columns": null,
      "grid_auto_flow": null,
      "grid_auto_rows": null,
      "grid_column": null,
      "grid_gap": null,
      "grid_row": null,
      "grid_template_areas": null,
      "grid_template_columns": null,
      "grid_template_rows": null,
      "height": null,
      "justify_content": null,
      "justify_items": null,
      "left": null,
      "margin": null,
      "max_height": null,
      "max_width": null,
      "min_height": null,
      "min_width": null,
      "object_fit": null,
      "object_position": null,
      "order": null,
      "overflow": null,
      "overflow_x": null,
      "overflow_y": null,
      "padding": null,
      "right": null,
      "top": null,
      "visibility": null,
      "width": null
     }
    },
    "7e94e01cc2fa4327b0307382cadc95c1": {
     "model_module": "@jupyter-widgets/controls",
     "model_module_version": "1.5.0",
     "model_name": "ProgressStyleModel",
     "state": {
      "_model_module": "@jupyter-widgets/controls",
      "_model_module_version": "1.5.0",
      "_model_name": "ProgressStyleModel",
      "_view_count": null,
      "_view_module": "@jupyter-widgets/base",
      "_view_module_version": "1.2.0",
      "_view_name": "StyleView",
      "bar_color": null,
      "description_width": ""
     }
    },
    "867e403249e446a6b2fb61394b930f04": {
     "model_module": "@jupyter-widgets/controls",
     "model_module_version": "1.5.0",
     "model_name": "HTMLModel",
     "state": {
      "_dom_classes": [],
      "_model_module": "@jupyter-widgets/controls",
      "_model_module_version": "1.5.0",
      "_model_name": "HTMLModel",
      "_view_count": null,
      "_view_module": "@jupyter-widgets/controls",
      "_view_module_version": "1.5.0",
      "_view_name": "HTMLView",
      "description": "",
      "description_tooltip": null,
      "layout": "IPY_MODEL_8b92a89068a0440f88a481c5582f084e",
      "placeholder": "​",
      "style": "IPY_MODEL_b59b716caaf742aeae334f25ed93c5fe",
      "value": " 5/5 [1:59:26&lt;00:00, 1432.78s/it]"
     }
    },
    "8878261c14184a76ae1fefe7809724a6": {
     "model_module": "@jupyter-widgets/base",
     "model_module_version": "1.2.0",
     "model_name": "LayoutModel",
     "state": {
      "_model_module": "@jupyter-widgets/base",
      "_model_module_version": "1.2.0",
      "_model_name": "LayoutModel",
      "_view_count": null,
      "_view_module": "@jupyter-widgets/base",
      "_view_module_version": "1.2.0",
      "_view_name": "LayoutView",
      "align_content": null,
      "align_items": null,
      "align_self": null,
      "border": null,
      "bottom": null,
      "display": null,
      "flex": null,
      "flex_flow": null,
      "grid_area": null,
      "grid_auto_columns": null,
      "grid_auto_flow": null,
      "grid_auto_rows": null,
      "grid_column": null,
      "grid_gap": null,
      "grid_row": null,
      "grid_template_areas": null,
      "grid_template_columns": null,
      "grid_template_rows": null,
      "height": null,
      "justify_content": null,
      "justify_items": null,
      "left": null,
      "margin": null,
      "max_height": null,
      "max_width": null,
      "min_height": null,
      "min_width": null,
      "object_fit": null,
      "object_position": null,
      "order": null,
      "overflow": null,
      "overflow_x": null,
      "overflow_y": null,
      "padding": null,
      "right": null,
      "top": null,
      "visibility": null,
      "width": null
     }
    },
    "8b32529f0e594139b7effe508f32d642": {
     "model_module": "@jupyter-widgets/controls",
     "model_module_version": "1.5.0",
     "model_name": "HBoxModel",
     "state": {
      "_dom_classes": [],
      "_model_module": "@jupyter-widgets/controls",
      "_model_module_version": "1.5.0",
      "_model_name": "HBoxModel",
      "_view_count": null,
      "_view_module": "@jupyter-widgets/controls",
      "_view_module_version": "1.5.0",
      "_view_name": "HBoxView",
      "box_style": "",
      "children": [
       "IPY_MODEL_5eeaac04f25e4ff986882f457495b5bc",
       "IPY_MODEL_e78591fd689b438d95b9f703e9dbb120",
       "IPY_MODEL_befde78e2ee742e68c105fc01cc239e1"
      ],
      "layout": "IPY_MODEL_58c7df33d5c5479ba4c270b5dff764d1"
     }
    },
    "8b92a89068a0440f88a481c5582f084e": {
     "model_module": "@jupyter-widgets/base",
     "model_module_version": "1.2.0",
     "model_name": "LayoutModel",
     "state": {
      "_model_module": "@jupyter-widgets/base",
      "_model_module_version": "1.2.0",
      "_model_name": "LayoutModel",
      "_view_count": null,
      "_view_module": "@jupyter-widgets/base",
      "_view_module_version": "1.2.0",
      "_view_name": "LayoutView",
      "align_content": null,
      "align_items": null,
      "align_self": null,
      "border": null,
      "bottom": null,
      "display": null,
      "flex": null,
      "flex_flow": null,
      "grid_area": null,
      "grid_auto_columns": null,
      "grid_auto_flow": null,
      "grid_auto_rows": null,
      "grid_column": null,
      "grid_gap": null,
      "grid_row": null,
      "grid_template_areas": null,
      "grid_template_columns": null,
      "grid_template_rows": null,
      "height": null,
      "justify_content": null,
      "justify_items": null,
      "left": null,
      "margin": null,
      "max_height": null,
      "max_width": null,
      "min_height": null,
      "min_width": null,
      "object_fit": null,
      "object_position": null,
      "order": null,
      "overflow": null,
      "overflow_x": null,
      "overflow_y": null,
      "padding": null,
      "right": null,
      "top": null,
      "visibility": null,
      "width": null
     }
    },
    "8c9e85ab39ea4b4eab452696dde78190": {
     "model_module": "@jupyter-widgets/controls",
     "model_module_version": "1.5.0",
     "model_name": "HTMLModel",
     "state": {
      "_dom_classes": [],
      "_model_module": "@jupyter-widgets/controls",
      "_model_module_version": "1.5.0",
      "_model_name": "HTMLModel",
      "_view_count": null,
      "_view_module": "@jupyter-widgets/controls",
      "_view_module_version": "1.5.0",
      "_view_name": "HTMLView",
      "description": "",
      "description_tooltip": null,
      "layout": "IPY_MODEL_c56b831ebd104dd68648439c384d3114",
      "placeholder": "​",
      "style": "IPY_MODEL_5eef54b30f3d405b800190779301bdc2",
      "value": "Downloading: 100%"
     }
    },
    "8d0bb6f6b8a64d2e9002c7214f0f045c": {
     "model_module": "@jupyter-widgets/controls",
     "model_module_version": "1.5.0",
     "model_name": "DescriptionStyleModel",
     "state": {
      "_model_module": "@jupyter-widgets/controls",
      "_model_module_version": "1.5.0",
      "_model_name": "DescriptionStyleModel",
      "_view_count": null,
      "_view_module": "@jupyter-widgets/base",
      "_view_module_version": "1.2.0",
      "_view_name": "StyleView",
      "description_width": ""
     }
    },
    "8d9ad4fd2ef84fd581f523370e56935e": {
     "model_module": "@jupyter-widgets/base",
     "model_module_version": "1.2.0",
     "model_name": "LayoutModel",
     "state": {
      "_model_module": "@jupyter-widgets/base",
      "_model_module_version": "1.2.0",
      "_model_name": "LayoutModel",
      "_view_count": null,
      "_view_module": "@jupyter-widgets/base",
      "_view_module_version": "1.2.0",
      "_view_name": "LayoutView",
      "align_content": null,
      "align_items": null,
      "align_self": null,
      "border": null,
      "bottom": null,
      "display": null,
      "flex": null,
      "flex_flow": null,
      "grid_area": null,
      "grid_auto_columns": null,
      "grid_auto_flow": null,
      "grid_auto_rows": null,
      "grid_column": null,
      "grid_gap": null,
      "grid_row": null,
      "grid_template_areas": null,
      "grid_template_columns": null,
      "grid_template_rows": null,
      "height": null,
      "justify_content": null,
      "justify_items": null,
      "left": null,
      "margin": null,
      "max_height": null,
      "max_width": null,
      "min_height": null,
      "min_width": null,
      "object_fit": null,
      "object_position": null,
      "order": null,
      "overflow": null,
      "overflow_x": null,
      "overflow_y": null,
      "padding": null,
      "right": null,
      "top": null,
      "visibility": null,
      "width": null
     }
    },
    "8f6b694d765f4e219decd8d3f2e6aa3a": {
     "model_module": "@jupyter-widgets/base",
     "model_module_version": "1.2.0",
     "model_name": "LayoutModel",
     "state": {
      "_model_module": "@jupyter-widgets/base",
      "_model_module_version": "1.2.0",
      "_model_name": "LayoutModel",
      "_view_count": null,
      "_view_module": "@jupyter-widgets/base",
      "_view_module_version": "1.2.0",
      "_view_name": "LayoutView",
      "align_content": null,
      "align_items": null,
      "align_self": null,
      "border": null,
      "bottom": null,
      "display": null,
      "flex": null,
      "flex_flow": null,
      "grid_area": null,
      "grid_auto_columns": null,
      "grid_auto_flow": null,
      "grid_auto_rows": null,
      "grid_column": null,
      "grid_gap": null,
      "grid_row": null,
      "grid_template_areas": null,
      "grid_template_columns": null,
      "grid_template_rows": null,
      "height": null,
      "justify_content": null,
      "justify_items": null,
      "left": null,
      "margin": null,
      "max_height": null,
      "max_width": null,
      "min_height": null,
      "min_width": null,
      "object_fit": null,
      "object_position": null,
      "order": null,
      "overflow": null,
      "overflow_x": null,
      "overflow_y": null,
      "padding": null,
      "right": null,
      "top": null,
      "visibility": null,
      "width": null
     }
    },
    "90b463587f834c1d86002a86d1331dc3": {
     "model_module": "@jupyter-widgets/base",
     "model_module_version": "1.2.0",
     "model_name": "LayoutModel",
     "state": {
      "_model_module": "@jupyter-widgets/base",
      "_model_module_version": "1.2.0",
      "_model_name": "LayoutModel",
      "_view_count": null,
      "_view_module": "@jupyter-widgets/base",
      "_view_module_version": "1.2.0",
      "_view_name": "LayoutView",
      "align_content": null,
      "align_items": null,
      "align_self": null,
      "border": null,
      "bottom": null,
      "display": null,
      "flex": null,
      "flex_flow": null,
      "grid_area": null,
      "grid_auto_columns": null,
      "grid_auto_flow": null,
      "grid_auto_rows": null,
      "grid_column": null,
      "grid_gap": null,
      "grid_row": null,
      "grid_template_areas": null,
      "grid_template_columns": null,
      "grid_template_rows": null,
      "height": null,
      "justify_content": null,
      "justify_items": null,
      "left": null,
      "margin": null,
      "max_height": null,
      "max_width": null,
      "min_height": null,
      "min_width": null,
      "object_fit": null,
      "object_position": null,
      "order": null,
      "overflow": null,
      "overflow_x": null,
      "overflow_y": null,
      "padding": null,
      "right": null,
      "top": null,
      "visibility": null,
      "width": null
     }
    },
    "97d9a08801164c509042f825b5159847": {
     "model_module": "@jupyter-widgets/controls",
     "model_module_version": "1.5.0",
     "model_name": "ProgressStyleModel",
     "state": {
      "_model_module": "@jupyter-widgets/controls",
      "_model_module_version": "1.5.0",
      "_model_name": "ProgressStyleModel",
      "_view_count": null,
      "_view_module": "@jupyter-widgets/base",
      "_view_module_version": "1.2.0",
      "_view_name": "StyleView",
      "bar_color": null,
      "description_width": ""
     }
    },
    "9c0133102e3249b19e072087333ce65c": {
     "model_module": "@jupyter-widgets/controls",
     "model_module_version": "1.5.0",
     "model_name": "ProgressStyleModel",
     "state": {
      "_model_module": "@jupyter-widgets/controls",
      "_model_module_version": "1.5.0",
      "_model_name": "ProgressStyleModel",
      "_view_count": null,
      "_view_module": "@jupyter-widgets/base",
      "_view_module_version": "1.2.0",
      "_view_name": "StyleView",
      "bar_color": null,
      "description_width": ""
     }
    },
    "a333981bbbc14e4090de59bbcd4ded71": {
     "model_module": "@jupyter-widgets/controls",
     "model_module_version": "1.5.0",
     "model_name": "HTMLModel",
     "state": {
      "_dom_classes": [],
      "_model_module": "@jupyter-widgets/controls",
      "_model_module_version": "1.5.0",
      "_model_name": "HTMLModel",
      "_view_count": null,
      "_view_module": "@jupyter-widgets/controls",
      "_view_module_version": "1.5.0",
      "_view_name": "HTMLView",
      "description": "",
      "description_tooltip": null,
      "layout": "IPY_MODEL_143450a3b4f54398a6ebd7ffb59fb4c4",
      "placeholder": "​",
      "style": "IPY_MODEL_2ea0a44b0d204c2d831807850c3f8c80",
      "value": "Downloading: 100%"
     }
    },
    "a499ca9ec09e4dc6b729e093a3fc72ea": {
     "model_module": "@jupyter-widgets/controls",
     "model_module_version": "1.5.0",
     "model_name": "HTMLModel",
     "state": {
      "_dom_classes": [],
      "_model_module": "@jupyter-widgets/controls",
      "_model_module_version": "1.5.0",
      "_model_name": "HTMLModel",
      "_view_count": null,
      "_view_module": "@jupyter-widgets/controls",
      "_view_module_version": "1.5.0",
      "_view_name": "HTMLView",
      "description": "",
      "description_tooltip": null,
      "layout": "IPY_MODEL_4e357eadfc4b459a8b6c179912e2d1d7",
      "placeholder": "​",
      "style": "IPY_MODEL_22361c7ce9d745ce966d218cbb1cd0f5",
      "value": "100%"
     }
    },
    "a6b0d612d9cc4121a478868e4b98abe3": {
     "model_module": "@jupyter-widgets/base",
     "model_module_version": "1.2.0",
     "model_name": "LayoutModel",
     "state": {
      "_model_module": "@jupyter-widgets/base",
      "_model_module_version": "1.2.0",
      "_model_name": "LayoutModel",
      "_view_count": null,
      "_view_module": "@jupyter-widgets/base",
      "_view_module_version": "1.2.0",
      "_view_name": "LayoutView",
      "align_content": null,
      "align_items": null,
      "align_self": null,
      "border": null,
      "bottom": null,
      "display": null,
      "flex": null,
      "flex_flow": null,
      "grid_area": null,
      "grid_auto_columns": null,
      "grid_auto_flow": null,
      "grid_auto_rows": null,
      "grid_column": null,
      "grid_gap": null,
      "grid_row": null,
      "grid_template_areas": null,
      "grid_template_columns": null,
      "grid_template_rows": null,
      "height": null,
      "justify_content": null,
      "justify_items": null,
      "left": null,
      "margin": null,
      "max_height": null,
      "max_width": null,
      "min_height": null,
      "min_width": null,
      "object_fit": null,
      "object_position": null,
      "order": null,
      "overflow": null,
      "overflow_x": null,
      "overflow_y": null,
      "padding": null,
      "right": null,
      "top": null,
      "visibility": null,
      "width": null
     }
    },
    "acd2c755efe440edb426818a362e8c12": {
     "model_module": "@jupyter-widgets/controls",
     "model_module_version": "1.5.0",
     "model_name": "DescriptionStyleModel",
     "state": {
      "_model_module": "@jupyter-widgets/controls",
      "_model_module_version": "1.5.0",
      "_model_name": "DescriptionStyleModel",
      "_view_count": null,
      "_view_module": "@jupyter-widgets/base",
      "_view_module_version": "1.2.0",
      "_view_name": "StyleView",
      "description_width": ""
     }
    },
    "acf8b2f3f9ea4327b4ff716eb1862211": {
     "model_module": "@jupyter-widgets/controls",
     "model_module_version": "1.5.0",
     "model_name": "HTMLModel",
     "state": {
      "_dom_classes": [],
      "_model_module": "@jupyter-widgets/controls",
      "_model_module_version": "1.5.0",
      "_model_name": "HTMLModel",
      "_view_count": null,
      "_view_module": "@jupyter-widgets/controls",
      "_view_module_version": "1.5.0",
      "_view_name": "HTMLView",
      "description": "",
      "description_tooltip": null,
      "layout": "IPY_MODEL_30c2805b4ac941838d66c0c4b6ab415a",
      "placeholder": "​",
      "style": "IPY_MODEL_cd6b9c0473f5476d9bcfad4e0dac5494",
      "value": " 411/411 [00:00&lt;00:00, 12.5kB/s]"
     }
    },
    "af5cb9c28f8647fd9eb45ce1f331e3e5": {
     "model_module": "@jupyter-widgets/controls",
     "model_module_version": "1.5.0",
     "model_name": "DescriptionStyleModel",
     "state": {
      "_model_module": "@jupyter-widgets/controls",
      "_model_module_version": "1.5.0",
      "_model_name": "DescriptionStyleModel",
      "_view_count": null,
      "_view_module": "@jupyter-widgets/base",
      "_view_module_version": "1.2.0",
      "_view_name": "StyleView",
      "description_width": ""
     }
    },
    "b2393baa40c74ea8b7b64459d25c842a": {
     "model_module": "@jupyter-widgets/controls",
     "model_module_version": "1.5.0",
     "model_name": "HBoxModel",
     "state": {
      "_dom_classes": [],
      "_model_module": "@jupyter-widgets/controls",
      "_model_module_version": "1.5.0",
      "_model_name": "HBoxModel",
      "_view_count": null,
      "_view_module": "@jupyter-widgets/controls",
      "_view_module_version": "1.5.0",
      "_view_name": "HBoxView",
      "box_style": "",
      "children": [
       "IPY_MODEL_3db31ff6898c41d996c5aff063f561bd",
       "IPY_MODEL_38e76bef25684065865a778f2d2f6a7d",
       "IPY_MODEL_acf8b2f3f9ea4327b4ff716eb1862211"
      ],
      "layout": "IPY_MODEL_db4c4118e4fe45fbbf1d23625948921e"
     }
    },
    "b59b716caaf742aeae334f25ed93c5fe": {
     "model_module": "@jupyter-widgets/controls",
     "model_module_version": "1.5.0",
     "model_name": "DescriptionStyleModel",
     "state": {
      "_model_module": "@jupyter-widgets/controls",
      "_model_module_version": "1.5.0",
      "_model_name": "DescriptionStyleModel",
      "_view_count": null,
      "_view_module": "@jupyter-widgets/base",
      "_view_module_version": "1.2.0",
      "_view_name": "StyleView",
      "description_width": ""
     }
    },
    "bd5d87d9c63543d18b2a78b0d1fb3063": {
     "model_module": "@jupyter-widgets/base",
     "model_module_version": "1.2.0",
     "model_name": "LayoutModel",
     "state": {
      "_model_module": "@jupyter-widgets/base",
      "_model_module_version": "1.2.0",
      "_model_name": "LayoutModel",
      "_view_count": null,
      "_view_module": "@jupyter-widgets/base",
      "_view_module_version": "1.2.0",
      "_view_name": "LayoutView",
      "align_content": null,
      "align_items": null,
      "align_self": null,
      "border": null,
      "bottom": null,
      "display": null,
      "flex": null,
      "flex_flow": null,
      "grid_area": null,
      "grid_auto_columns": null,
      "grid_auto_flow": null,
      "grid_auto_rows": null,
      "grid_column": null,
      "grid_gap": null,
      "grid_row": null,
      "grid_template_areas": null,
      "grid_template_columns": null,
      "grid_template_rows": null,
      "height": null,
      "justify_content": null,
      "justify_items": null,
      "left": null,
      "margin": null,
      "max_height": null,
      "max_width": null,
      "min_height": null,
      "min_width": null,
      "object_fit": null,
      "object_position": null,
      "order": null,
      "overflow": null,
      "overflow_x": null,
      "overflow_y": null,
      "padding": null,
      "right": null,
      "top": null,
      "visibility": null,
      "width": null
     }
    },
    "bd6967f0ec0b44fba0857e3cf80d20d4": {
     "model_module": "@jupyter-widgets/base",
     "model_module_version": "1.2.0",
     "model_name": "LayoutModel",
     "state": {
      "_model_module": "@jupyter-widgets/base",
      "_model_module_version": "1.2.0",
      "_model_name": "LayoutModel",
      "_view_count": null,
      "_view_module": "@jupyter-widgets/base",
      "_view_module_version": "1.2.0",
      "_view_name": "LayoutView",
      "align_content": null,
      "align_items": null,
      "align_self": null,
      "border": null,
      "bottom": null,
      "display": null,
      "flex": null,
      "flex_flow": null,
      "grid_area": null,
      "grid_auto_columns": null,
      "grid_auto_flow": null,
      "grid_auto_rows": null,
      "grid_column": null,
      "grid_gap": null,
      "grid_row": null,
      "grid_template_areas": null,
      "grid_template_columns": null,
      "grid_template_rows": null,
      "height": null,
      "justify_content": null,
      "justify_items": null,
      "left": null,
      "margin": null,
      "max_height": null,
      "max_width": null,
      "min_height": null,
      "min_width": null,
      "object_fit": null,
      "object_position": null,
      "order": null,
      "overflow": null,
      "overflow_x": null,
      "overflow_y": null,
      "padding": null,
      "right": null,
      "top": null,
      "visibility": null,
      "width": null
     }
    },
    "befde78e2ee742e68c105fc01cc239e1": {
     "model_module": "@jupyter-widgets/controls",
     "model_module_version": "1.5.0",
     "model_name": "HTMLModel",
     "state": {
      "_dom_classes": [],
      "_model_module": "@jupyter-widgets/controls",
      "_model_module_version": "1.5.0",
      "_model_name": "HTMLModel",
      "_view_count": null,
      "_view_module": "@jupyter-widgets/controls",
      "_view_module_version": "1.5.0",
      "_view_name": "HTMLView",
      "description": "",
      "description_tooltip": null,
      "layout": "IPY_MODEL_47a84c884de9496c86adb52bc3f46542",
      "placeholder": "​",
      "style": "IPY_MODEL_3f5dab07b1024152b38f752bb0d528f4",
      "value": " 27/27 [00:08&lt;00:00,  3.38ba/s]"
     }
    },
    "c0a46dac79e949e2bed1d561f2fb294b": {
     "model_module": "@jupyter-widgets/controls",
     "model_module_version": "1.5.0",
     "model_name": "FloatProgressModel",
     "state": {
      "_dom_classes": [],
      "_model_module": "@jupyter-widgets/controls",
      "_model_module_version": "1.5.0",
      "_model_name": "FloatProgressModel",
      "_view_count": null,
      "_view_module": "@jupyter-widgets/controls",
      "_view_module_version": "1.5.0",
      "_view_name": "ProgressView",
      "bar_style": "success",
      "description": "",
      "description_tooltip": null,
      "layout": "IPY_MODEL_90b463587f834c1d86002a86d1331dc3",
      "max": 4,
      "min": 0,
      "orientation": "horizontal",
      "style": "IPY_MODEL_084c15e9bc7046ebb261f81067f742da",
      "value": 4
     }
    },
    "c3151ec0c3224ce39eb6328be43e4551": {
     "model_module": "@jupyter-widgets/base",
     "model_module_version": "1.2.0",
     "model_name": "LayoutModel",
     "state": {
      "_model_module": "@jupyter-widgets/base",
      "_model_module_version": "1.2.0",
      "_model_name": "LayoutModel",
      "_view_count": null,
      "_view_module": "@jupyter-widgets/base",
      "_view_module_version": "1.2.0",
      "_view_name": "LayoutView",
      "align_content": null,
      "align_items": null,
      "align_self": null,
      "border": null,
      "bottom": null,
      "display": null,
      "flex": null,
      "flex_flow": null,
      "grid_area": null,
      "grid_auto_columns": null,
      "grid_auto_flow": null,
      "grid_auto_rows": null,
      "grid_column": null,
      "grid_gap": null,
      "grid_row": null,
      "grid_template_areas": null,
      "grid_template_columns": null,
      "grid_template_rows": null,
      "height": null,
      "justify_content": null,
      "justify_items": null,
      "left": null,
      "margin": null,
      "max_height": null,
      "max_width": null,
      "min_height": null,
      "min_width": null,
      "object_fit": null,
      "object_position": null,
      "order": null,
      "overflow": null,
      "overflow_x": null,
      "overflow_y": null,
      "padding": null,
      "right": null,
      "top": null,
      "visibility": null,
      "width": null
     }
    },
    "c4ea057e37704ad0a934e346ed9e0334": {
     "model_module": "@jupyter-widgets/controls",
     "model_module_version": "1.5.0",
     "model_name": "HTMLModel",
     "state": {
      "_dom_classes": [],
      "_model_module": "@jupyter-widgets/controls",
      "_model_module_version": "1.5.0",
      "_model_name": "HTMLModel",
      "_view_count": null,
      "_view_module": "@jupyter-widgets/controls",
      "_view_module_version": "1.5.0",
      "_view_name": "HTMLView",
      "description": "",
      "description_tooltip": null,
      "layout": "IPY_MODEL_e1ab1879ff3e4ca8a27fc77a80883196",
      "placeholder": "​",
      "style": "IPY_MODEL_fd953de4929a448fbc0aded5c55762db",
      "value": " 426k/426k [00:00&lt;00:00, 1.03MB/s]"
     }
    },
    "c56b831ebd104dd68648439c384d3114": {
     "model_module": "@jupyter-widgets/base",
     "model_module_version": "1.2.0",
     "model_name": "LayoutModel",
     "state": {
      "_model_module": "@jupyter-widgets/base",
      "_model_module_version": "1.2.0",
      "_model_name": "LayoutModel",
      "_view_count": null,
      "_view_module": "@jupyter-widgets/base",
      "_view_module_version": "1.2.0",
      "_view_name": "LayoutView",
      "align_content": null,
      "align_items": null,
      "align_self": null,
      "border": null,
      "bottom": null,
      "display": null,
      "flex": null,
      "flex_flow": null,
      "grid_area": null,
      "grid_auto_columns": null,
      "grid_auto_flow": null,
      "grid_auto_rows": null,
      "grid_column": null,
      "grid_gap": null,
      "grid_row": null,
      "grid_template_areas": null,
      "grid_template_columns": null,
      "grid_template_rows": null,
      "height": null,
      "justify_content": null,
      "justify_items": null,
      "left": null,
      "margin": null,
      "max_height": null,
      "max_width": null,
      "min_height": null,
      "min_width": null,
      "object_fit": null,
      "object_position": null,
      "order": null,
      "overflow": null,
      "overflow_x": null,
      "overflow_y": null,
      "padding": null,
      "right": null,
      "top": null,
      "visibility": null,
      "width": null
     }
    },
    "c5956fa55b0440588c1928fe58bb7cb2": {
     "model_module": "@jupyter-widgets/base",
     "model_module_version": "1.2.0",
     "model_name": "LayoutModel",
     "state": {
      "_model_module": "@jupyter-widgets/base",
      "_model_module_version": "1.2.0",
      "_model_name": "LayoutModel",
      "_view_count": null,
      "_view_module": "@jupyter-widgets/base",
      "_view_module_version": "1.2.0",
      "_view_name": "LayoutView",
      "align_content": null,
      "align_items": null,
      "align_self": null,
      "border": null,
      "bottom": null,
      "display": null,
      "flex": null,
      "flex_flow": null,
      "grid_area": null,
      "grid_auto_columns": null,
      "grid_auto_flow": null,
      "grid_auto_rows": null,
      "grid_column": null,
      "grid_gap": null,
      "grid_row": null,
      "grid_template_areas": null,
      "grid_template_columns": null,
      "grid_template_rows": null,
      "height": null,
      "justify_content": null,
      "justify_items": null,
      "left": null,
      "margin": null,
      "max_height": null,
      "max_width": null,
      "min_height": null,
      "min_width": null,
      "object_fit": null,
      "object_position": null,
      "order": null,
      "overflow": null,
      "overflow_x": null,
      "overflow_y": null,
      "padding": null,
      "right": null,
      "top": null,
      "visibility": null,
      "width": null
     }
    },
    "c72e54c425a64c3aa5e7c56b45f27da2": {
     "model_module": "@jupyter-widgets/controls",
     "model_module_version": "1.5.0",
     "model_name": "FloatProgressModel",
     "state": {
      "_dom_classes": [],
      "_model_module": "@jupyter-widgets/controls",
      "_model_module_version": "1.5.0",
      "_model_name": "FloatProgressModel",
      "_view_count": null,
      "_view_module": "@jupyter-widgets/controls",
      "_view_module_version": "1.5.0",
      "_view_name": "ProgressView",
      "bar_style": "success",
      "description": "",
      "description_tooltip": null,
      "layout": "IPY_MODEL_34df051048484226b360f2539a83b458",
      "max": 435797,
      "min": 0,
      "orientation": "horizontal",
      "style": "IPY_MODEL_710607e482384d34b27f152b95efb783",
      "value": 435797
     }
    },
    "cd6b9c0473f5476d9bcfad4e0dac5494": {
     "model_module": "@jupyter-widgets/controls",
     "model_module_version": "1.5.0",
     "model_name": "DescriptionStyleModel",
     "state": {
      "_model_module": "@jupyter-widgets/controls",
      "_model_module_version": "1.5.0",
      "_model_name": "DescriptionStyleModel",
      "_view_count": null,
      "_view_module": "@jupyter-widgets/base",
      "_view_module_version": "1.2.0",
      "_view_name": "StyleView",
      "description_width": ""
     }
    },
    "d7a0a0631eff4ad5b4523791e1015ac4": {
     "model_module": "@jupyter-widgets/controls",
     "model_module_version": "1.5.0",
     "model_name": "DescriptionStyleModel",
     "state": {
      "_model_module": "@jupyter-widgets/controls",
      "_model_module_version": "1.5.0",
      "_model_name": "DescriptionStyleModel",
      "_view_count": null,
      "_view_module": "@jupyter-widgets/base",
      "_view_module_version": "1.2.0",
      "_view_name": "StyleView",
      "description_width": ""
     }
    },
    "da60838fa296403cac4707302c408131": {
     "model_module": "@jupyter-widgets/controls",
     "model_module_version": "1.5.0",
     "model_name": "FloatProgressModel",
     "state": {
      "_dom_classes": [],
      "_model_module": "@jupyter-widgets/controls",
      "_model_module_version": "1.5.0",
      "_model_name": "FloatProgressModel",
      "_view_count": null,
      "_view_module": "@jupyter-widgets/controls",
      "_view_module_version": "1.5.0",
      "_view_name": "ProgressView",
      "bar_style": "success",
      "description": "",
      "description_tooltip": null,
      "layout": "IPY_MODEL_5730e5b654354538bd8bcccdc3b6b764",
      "max": 29,
      "min": 0,
      "orientation": "horizontal",
      "style": "IPY_MODEL_e97d5f911de04ee8bdd7af67dc156f89",
      "value": 29
     }
    },
    "db4c4118e4fe45fbbf1d23625948921e": {
     "model_module": "@jupyter-widgets/base",
     "model_module_version": "1.2.0",
     "model_name": "LayoutModel",
     "state": {
      "_model_module": "@jupyter-widgets/base",
      "_model_module_version": "1.2.0",
      "_model_name": "LayoutModel",
      "_view_count": null,
      "_view_module": "@jupyter-widgets/base",
      "_view_module_version": "1.2.0",
      "_view_name": "LayoutView",
      "align_content": null,
      "align_items": null,
      "align_self": null,
      "border": null,
      "bottom": null,
      "display": null,
      "flex": null,
      "flex_flow": null,
      "grid_area": null,
      "grid_auto_columns": null,
      "grid_auto_flow": null,
      "grid_auto_rows": null,
      "grid_column": null,
      "grid_gap": null,
      "grid_row": null,
      "grid_template_areas": null,
      "grid_template_columns": null,
      "grid_template_rows": null,
      "height": null,
      "justify_content": null,
      "justify_items": null,
      "left": null,
      "margin": null,
      "max_height": null,
      "max_width": null,
      "min_height": null,
      "min_width": null,
      "object_fit": null,
      "object_position": null,
      "order": null,
      "overflow": null,
      "overflow_x": null,
      "overflow_y": null,
      "padding": null,
      "right": null,
      "top": null,
      "visibility": null,
      "width": null
     }
    },
    "dc0c783ec4e048f49d499c50db21675f": {
     "model_module": "@jupyter-widgets/controls",
     "model_module_version": "1.5.0",
     "model_name": "ProgressStyleModel",
     "state": {
      "_model_module": "@jupyter-widgets/controls",
      "_model_module_version": "1.5.0",
      "_model_name": "ProgressStyleModel",
      "_view_count": null,
      "_view_module": "@jupyter-widgets/base",
      "_view_module_version": "1.2.0",
      "_view_name": "StyleView",
      "bar_color": null,
      "description_width": ""
     }
    },
    "dced9b2a4674494d896bd88b5f00e07c": {
     "model_module": "@jupyter-widgets/controls",
     "model_module_version": "1.5.0",
     "model_name": "ProgressStyleModel",
     "state": {
      "_model_module": "@jupyter-widgets/controls",
      "_model_module_version": "1.5.0",
      "_model_name": "ProgressStyleModel",
      "_view_count": null,
      "_view_module": "@jupyter-widgets/base",
      "_view_module_version": "1.2.0",
      "_view_name": "StyleView",
      "bar_color": null,
      "description_width": ""
     }
    },
    "df8e2715ff6249c7b52275c31d4b1277": {
     "model_module": "@jupyter-widgets/controls",
     "model_module_version": "1.5.0",
     "model_name": "FloatProgressModel",
     "state": {
      "_dom_classes": [],
      "_model_module": "@jupyter-widgets/controls",
      "_model_module_version": "1.5.0",
      "_model_name": "FloatProgressModel",
      "_view_count": null,
      "_view_module": "@jupyter-widgets/controls",
      "_view_module_version": "1.5.0",
      "_view_name": "ProgressView",
      "bar_style": "success",
      "description": "",
      "description_tooltip": null,
      "layout": "IPY_MODEL_6d0cb60924ea46998c81228f2d189444",
      "max": 213450,
      "min": 0,
      "orientation": "horizontal",
      "style": "IPY_MODEL_97d9a08801164c509042f825b5159847",
      "value": 213450
     }
    },
    "e1ab1879ff3e4ca8a27fc77a80883196": {
     "model_module": "@jupyter-widgets/base",
     "model_module_version": "1.2.0",
     "model_name": "LayoutModel",
     "state": {
      "_model_module": "@jupyter-widgets/base",
      "_model_module_version": "1.2.0",
      "_model_name": "LayoutModel",
      "_view_count": null,
      "_view_module": "@jupyter-widgets/base",
      "_view_module_version": "1.2.0",
      "_view_name": "LayoutView",
      "align_content": null,
      "align_items": null,
      "align_self": null,
      "border": null,
      "bottom": null,
      "display": null,
      "flex": null,
      "flex_flow": null,
      "grid_area": null,
      "grid_auto_columns": null,
      "grid_auto_flow": null,
      "grid_auto_rows": null,
      "grid_column": null,
      "grid_gap": null,
      "grid_row": null,
      "grid_template_areas": null,
      "grid_template_columns": null,
      "grid_template_rows": null,
      "height": null,
      "justify_content": null,
      "justify_items": null,
      "left": null,
      "margin": null,
      "max_height": null,
      "max_width": null,
      "min_height": null,
      "min_width": null,
      "object_fit": null,
      "object_position": null,
      "order": null,
      "overflow": null,
      "overflow_x": null,
      "overflow_y": null,
      "padding": null,
      "right": null,
      "top": null,
      "visibility": null,
      "width": null
     }
    },
    "e7782b5f4e61469595419bfadd17aec3": {
     "model_module": "@jupyter-widgets/controls",
     "model_module_version": "1.5.0",
     "model_name": "HBoxModel",
     "state": {
      "_dom_classes": [],
      "_model_module": "@jupyter-widgets/controls",
      "_model_module_version": "1.5.0",
      "_model_name": "HBoxModel",
      "_view_count": null,
      "_view_module": "@jupyter-widgets/controls",
      "_view_module_version": "1.5.0",
      "_view_name": "HBoxView",
      "box_style": "",
      "children": [
       "IPY_MODEL_a333981bbbc14e4090de59bbcd4ded71",
       "IPY_MODEL_da60838fa296403cac4707302c408131",
       "IPY_MODEL_7191c4bb91924f0c9645cf5a12b7cf85"
      ],
      "layout": "IPY_MODEL_0708ef9399674daa872f27d8848c9c2d"
     }
    },
    "e78591fd689b438d95b9f703e9dbb120": {
     "model_module": "@jupyter-widgets/controls",
     "model_module_version": "1.5.0",
     "model_name": "FloatProgressModel",
     "state": {
      "_dom_classes": [],
      "_model_module": "@jupyter-widgets/controls",
      "_model_module_version": "1.5.0",
      "_model_name": "FloatProgressModel",
      "_view_count": null,
      "_view_module": "@jupyter-widgets/controls",
      "_view_module_version": "1.5.0",
      "_view_name": "ProgressView",
      "bar_style": "success",
      "description": "",
      "description_tooltip": null,
      "layout": "IPY_MODEL_c3151ec0c3224ce39eb6328be43e4551",
      "max": 27,
      "min": 0,
      "orientation": "horizontal",
      "style": "IPY_MODEL_dced9b2a4674494d896bd88b5f00e07c",
      "value": 27
     }
    },
    "e97d5f911de04ee8bdd7af67dc156f89": {
     "model_module": "@jupyter-widgets/controls",
     "model_module_version": "1.5.0",
     "model_name": "ProgressStyleModel",
     "state": {
      "_model_module": "@jupyter-widgets/controls",
      "_model_module_version": "1.5.0",
      "_model_name": "ProgressStyleModel",
      "_view_count": null,
      "_view_module": "@jupyter-widgets/base",
      "_view_module_version": "1.2.0",
      "_view_name": "StyleView",
      "bar_color": null,
      "description_width": ""
     }
    },
    "ec8d813cc55f49599ff798a7924a2719": {
     "model_module": "@jupyter-widgets/base",
     "model_module_version": "1.2.0",
     "model_name": "LayoutModel",
     "state": {
      "_model_module": "@jupyter-widgets/base",
      "_model_module_version": "1.2.0",
      "_model_name": "LayoutModel",
      "_view_count": null,
      "_view_module": "@jupyter-widgets/base",
      "_view_module_version": "1.2.0",
      "_view_name": "LayoutView",
      "align_content": null,
      "align_items": null,
      "align_self": null,
      "border": null,
      "bottom": null,
      "display": null,
      "flex": null,
      "flex_flow": null,
      "grid_area": null,
      "grid_auto_columns": null,
      "grid_auto_flow": null,
      "grid_auto_rows": null,
      "grid_column": null,
      "grid_gap": null,
      "grid_row": null,
      "grid_template_areas": null,
      "grid_template_columns": null,
      "grid_template_rows": null,
      "height": null,
      "justify_content": null,
      "justify_items": null,
      "left": null,
      "margin": null,
      "max_height": null,
      "max_width": null,
      "min_height": null,
      "min_width": null,
      "object_fit": null,
      "object_position": null,
      "order": null,
      "overflow": null,
      "overflow_x": null,
      "overflow_y": null,
      "padding": null,
      "right": null,
      "top": null,
      "visibility": null,
      "width": null
     }
    },
    "f41c3e5d951e4ffa88a7c534dcf89099": {
     "model_module": "@jupyter-widgets/controls",
     "model_module_version": "1.5.0",
     "model_name": "DescriptionStyleModel",
     "state": {
      "_model_module": "@jupyter-widgets/controls",
      "_model_module_version": "1.5.0",
      "_model_name": "DescriptionStyleModel",
      "_view_count": null,
      "_view_module": "@jupyter-widgets/base",
      "_view_module_version": "1.2.0",
      "_view_name": "StyleView",
      "description_width": ""
     }
    },
    "f8c34977a8b8488188602b144c8c065f": {
     "model_module": "@jupyter-widgets/controls",
     "model_module_version": "1.5.0",
     "model_name": "ProgressStyleModel",
     "state": {
      "_model_module": "@jupyter-widgets/controls",
      "_model_module_version": "1.5.0",
      "_model_name": "ProgressStyleModel",
      "_view_count": null,
      "_view_module": "@jupyter-widgets/base",
      "_view_module_version": "1.2.0",
      "_view_name": "StyleView",
      "bar_color": null,
      "description_width": ""
     }
    },
    "fd953de4929a448fbc0aded5c55762db": {
     "model_module": "@jupyter-widgets/controls",
     "model_module_version": "1.5.0",
     "model_name": "DescriptionStyleModel",
     "state": {
      "_model_module": "@jupyter-widgets/controls",
      "_model_module_version": "1.5.0",
      "_model_name": "DescriptionStyleModel",
      "_view_count": null,
      "_view_module": "@jupyter-widgets/base",
      "_view_module_version": "1.2.0",
      "_view_name": "StyleView",
      "description_width": ""
     }
    },
    "fdd238a372c04fedb53219c1667606e9": {
     "model_module": "@jupyter-widgets/base",
     "model_module_version": "1.2.0",
     "model_name": "LayoutModel",
     "state": {
      "_model_module": "@jupyter-widgets/base",
      "_model_module_version": "1.2.0",
      "_model_name": "LayoutModel",
      "_view_count": null,
      "_view_module": "@jupyter-widgets/base",
      "_view_module_version": "1.2.0",
      "_view_name": "LayoutView",
      "align_content": null,
      "align_items": null,
      "align_self": null,
      "border": null,
      "bottom": null,
      "display": null,
      "flex": null,
      "flex_flow": null,
      "grid_area": null,
      "grid_auto_columns": null,
      "grid_auto_flow": null,
      "grid_auto_rows": null,
      "grid_column": null,
      "grid_gap": null,
      "grid_row": null,
      "grid_template_areas": null,
      "grid_template_columns": null,
      "grid_template_rows": null,
      "height": null,
      "justify_content": null,
      "justify_items": null,
      "left": null,
      "margin": null,
      "max_height": null,
      "max_width": null,
      "min_height": null,
      "min_width": null,
      "object_fit": null,
      "object_position": null,
      "order": null,
      "overflow": null,
      "overflow_x": null,
      "overflow_y": null,
      "padding": null,
      "right": null,
      "top": null,
      "visibility": null,
      "width": null
     }
    },
    "fed9acfe66ba4f0b81ebf426cb1ee194": {
     "model_module": "@jupyter-widgets/controls",
     "model_module_version": "1.5.0",
     "model_name": "HTMLModel",
     "state": {
      "_dom_classes": [],
      "_model_module": "@jupyter-widgets/controls",
      "_model_module_version": "1.5.0",
      "_model_name": "HTMLModel",
      "_view_count": null,
      "_view_module": "@jupyter-widgets/controls",
      "_view_module_version": "1.5.0",
      "_view_name": "HTMLView",
      "description": "",
      "description_tooltip": null,
      "layout": "IPY_MODEL_6a94c4a4b57846c3bdfbff2034ce630c",
      "placeholder": "​",
      "style": "IPY_MODEL_f41c3e5d951e4ffa88a7c534dcf89099",
      "value": "Downloading: 100%"
     }
    }
   }
  }
 },
 "nbformat": 4,
 "nbformat_minor": 1
}
