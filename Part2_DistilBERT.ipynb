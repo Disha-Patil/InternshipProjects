{
  "cells": [
    {
      "cell_type": "markdown",
      "metadata": {
        "id": "6GkxfuQ8ob0R"
      },
      "source": [
        "# About the Data\n",
        "\n",
        "* The data was taken from \n",
        "the csv file complaints.csv\n",
        "\n",
        "\n",
        "* The complaints are for the products:<br>\n",
        "\n",
        "  1. Banking Services\n",
        "  2. Card Services\n",
        "  3. Credit Reporting\n",
        "  4. Debt Collection\n",
        "  5. Loans\n",
        "  6. Mortgage\n",
        "\n",
        "* The sample data has 60000 entries. Each of the products Banking Services, Card Services, Credit Reporting , Debt Collection, Loans and Mortgage has 10000 entries in the sample data.\n",
        "\n",
        "* The stop words are removed using gensim library.\n"
      ]
    },
    {
      "cell_type": "markdown",
      "metadata": {
        "id": "jhdSQHY_WYk8"
      },
      "source": [
        "#Fine Tuning DistilBERT model for text classification\n",
        "\n",
        "* The model was trained on 5 epochs and the learning rate was set at 1e-5 and batch size 32\n",
        "\n",
        "* Total training time taken across all epochs [Validation and model saving time included]: 1:47:30 (h:mm:ss)\n",
        "\n",
        "* Data Split:<br>\n",
        "      -Training data: 48000 (80 percent)\n",
        "      -Validation data: 6000 (10 percent)\n",
        "      -Test Data :  6000 (10 percent)\n",
        "\n",
        "* F1-score<br>\n",
        "      -Training data: 0.88\n",
        "      -Validation data: 0.84\n",
        "\n",
        "* Fine-tuning was done on the sample data of 60000 entries"
      ]
    },
    {
      "cell_type": "markdown",
      "metadata": {
        "id": "HltVocsVxIVZ"
      },
      "source": [
        "## Next Steps\n",
        "\n",
        "* Calculate Metrics on the test Data Set \n",
        "\n",
        "\n",
        "\n"
      ]
    },
    {
      "cell_type": "markdown",
      "metadata": {
        "id": "M8MJt_UDu36B"
      },
      "source": [
        "##Google Drive access"
      ]
    },
    {
      "cell_type": "code",
      "execution_count": 1,
      "metadata": {
        "colab": {
          "base_uri": "https://localhost:8080/"
        },
        "id": "YpebIE41u3Mh",
        "outputId": "59441466-02ab-4270-dbb7-31e3f9502047"
      },
      "outputs": [
        {
          "output_type": "stream",
          "name": "stdout",
          "text": [
            "Mounted at /content/drive\n"
          ]
        }
      ],
      "source": [
        "from google.colab import drive\n",
        "drive.mount('/content/drive')"
      ]
    },
    {
      "cell_type": "code",
      "execution_count": 2,
      "metadata": {
        "id": "f3hBz6OXw3gQ"
      },
      "outputs": [],
      "source": [
        "# write the appropriate paths to retrieve the data and store results \n",
        "saved_path = '/content/drive/MyDrive/EY_Internship/Consumer_Complaints/Without_Stopwords/'\n",
        "sample_data_path = saved_path + 'data_sample_balanced.csv'\n",
        "used_test_data_path = saved_path + 'Test_data_DistilBERT.csv'\n",
        "encoded_test_data_path = saved_path + 'ENCODED_Test_data_DistilBERT.csv'\n",
        "label2id_df_path = saved_path + 'label2id_df.csv'"
      ]
    },
    {
      "cell_type": "markdown",
      "metadata": {
        "id": "hhdVBYIGW2mH"
      },
      "source": [
        "## Set-up environment\n",
        "\n",
        "Install the libraries HuggingFace Transformers and Datasets"
      ]
    },
    {
      "cell_type": "code",
      "execution_count": 3,
      "metadata": {
        "id": "bs0-RE3D76PZ",
        "colab": {
          "base_uri": "https://localhost:8080/"
        },
        "outputId": "9310cfb6-3ee0-4522-9e1a-dc1e37600087"
      },
      "outputs": [
        {
          "output_type": "stream",
          "name": "stdout",
          "text": [
            "\u001b[?25l\r\u001b[K     |████▊                           | 10 kB 29.2 MB/s eta 0:00:01\r\u001b[K     |█████████▍                      | 20 kB 21.0 MB/s eta 0:00:01\r\u001b[K     |██████████████                  | 30 kB 15.9 MB/s eta 0:00:01\r\u001b[K     |██████████████████▊             | 40 kB 14.7 MB/s eta 0:00:01\r\u001b[K     |███████████████████████▍        | 51 kB 7.9 MB/s eta 0:00:01\r\u001b[K     |████████████████████████████    | 61 kB 9.3 MB/s eta 0:00:01\r\u001b[K     |████████████████████████████████| 69 kB 4.7 MB/s \n",
            "\u001b[?25h  Building wheel for folium (setup.py) ... \u001b[?25l\u001b[?25hdone\n",
            "\u001b[K     |████████████████████████████████| 4.2 MB 8.8 MB/s \n",
            "\u001b[K     |████████████████████████████████| 346 kB 57.0 MB/s \n",
            "\u001b[K     |████████████████████████████████| 86 kB 4.9 MB/s \n",
            "\u001b[K     |████████████████████████████████| 596 kB 56.6 MB/s \n",
            "\u001b[K     |████████████████████████████████| 6.6 MB 31.3 MB/s \n",
            "\u001b[K     |████████████████████████████████| 86 kB 5.4 MB/s \n",
            "\u001b[K     |████████████████████████████████| 1.1 MB 40.8 MB/s \n",
            "\u001b[K     |████████████████████████████████| 212 kB 62.7 MB/s \n",
            "\u001b[K     |████████████████████████████████| 140 kB 60.0 MB/s \n",
            "\u001b[K     |████████████████████████████████| 127 kB 59.3 MB/s \n",
            "\u001b[K     |████████████████████████████████| 94 kB 3.1 MB/s \n",
            "\u001b[K     |████████████████████████████████| 271 kB 50.8 MB/s \n",
            "\u001b[K     |████████████████████████████████| 144 kB 60.4 MB/s \n",
            "\u001b[?25h"
          ]
        }
      ],
      "source": [
        "#Install the package folium version 0.2.1 and HuggingFace tranformer and datasets libraries  \n",
        "!pip install folium==0.2.1 -q\n",
        "!pip install -q transformers datasets "
      ]
    },
    {
      "cell_type": "code",
      "execution_count": 4,
      "metadata": {
        "colab": {
          "base_uri": "https://localhost:8080/"
        },
        "id": "bUvk9uQCAspf",
        "outputId": "8faa948f-8be2-40c9-965a-e2d9d63167bd"
      },
      "outputs": [
        {
          "output_type": "stream",
          "name": "stdout",
          "text": [
            "cuda:0 is available\n"
          ]
        }
      ],
      "source": [
        "import torch\n",
        "#Check if GPU is available\n",
        "device = \"cuda:0\" if torch.cuda.is_available() else \"cpu\"\n",
        "print(device, \"is available\")"
      ]
    },
    {
      "cell_type": "code",
      "source": [
        "!nvidia-smi -q"
      ],
      "metadata": {
        "colab": {
          "base_uri": "https://localhost:8080/"
        },
        "id": "35aOat3LQQNf",
        "outputId": "fec03550-a134-4eaf-9070-cfa114fb1b0c"
      },
      "execution_count": 5,
      "outputs": [
        {
          "output_type": "stream",
          "name": "stdout",
          "text": [
            "\n",
            "==============NVSMI LOG==============\n",
            "\n",
            "Timestamp                                 : Sun May 29 22:28:39 2022\n",
            "Driver Version                            : 460.32.03\n",
            "CUDA Version                              : 11.2\n",
            "\n",
            "Attached GPUs                             : 1\n",
            "GPU 00000000:00:04.0\n",
            "    Product Name                          : Tesla P100-PCIE-16GB\n",
            "    Product Brand                         : Tesla\n",
            "    Display Mode                          : Enabled\n",
            "    Display Active                        : Disabled\n",
            "    Persistence Mode                      : Disabled\n",
            "    MIG Mode\n",
            "        Current                           : N/A\n",
            "        Pending                           : N/A\n",
            "    Accounting Mode                       : Disabled\n",
            "    Accounting Mode Buffer Size           : 4000\n",
            "    Driver Model\n",
            "        Current                           : N/A\n",
            "        Pending                           : N/A\n",
            "    Serial Number                         : 0324317003917\n",
            "    GPU UUID                              : GPU-fe947ac5-3827-fd9d-47f8-8019bd3a810f\n",
            "    Minor Number                          : 0\n",
            "    VBIOS Version                         : 86.00.52.00.02\n",
            "    MultiGPU Board                        : No\n",
            "    Board ID                              : 0x4\n",
            "    GPU Part Number                       : 900-2H400-6300-031\n",
            "    Inforom Version\n",
            "        Image Version                     : H400.0201.00.08\n",
            "        OEM Object                        : 1.1\n",
            "        ECC Object                        : 4.1\n",
            "        Power Management Object           : N/A\n",
            "    GPU Operation Mode\n",
            "        Current                           : N/A\n",
            "        Pending                           : N/A\n",
            "    GPU Virtualization Mode\n",
            "        Virtualization Mode               : Pass-Through\n",
            "        Host VGPU Mode                    : N/A\n",
            "    IBMNPU\n",
            "        Relaxed Ordering Mode             : N/A\n",
            "    PCI\n",
            "        Bus                               : 0x00\n",
            "        Device                            : 0x04\n",
            "        Domain                            : 0x0000\n",
            "        Device Id                         : 0x15F810DE\n",
            "        Bus Id                            : 00000000:00:04.0\n",
            "        Sub System Id                     : 0x118F10DE\n",
            "        GPU Link Info\n",
            "            PCIe Generation\n",
            "                Max                       : 3\n",
            "                Current                   : 3\n",
            "            Link Width\n",
            "                Max                       : 16x\n",
            "                Current                   : 16x\n",
            "        Bridge Chip\n",
            "            Type                          : N/A\n",
            "            Firmware                      : N/A\n",
            "        Replays Since Reset               : 0\n",
            "        Replay Number Rollovers           : 0\n",
            "        Tx Throughput                     : 0 KB/s\n",
            "        Rx Throughput                     : 0 KB/s\n",
            "    Fan Speed                             : N/A\n",
            "    Performance State                     : P0\n",
            "    Clocks Throttle Reasons\n",
            "        Idle                              : Active\n",
            "        Applications Clocks Setting       : Not Active\n",
            "        SW Power Cap                      : Not Active\n",
            "        HW Slowdown                       : Not Active\n",
            "            HW Thermal Slowdown           : Not Active\n",
            "            HW Power Brake Slowdown       : Not Active\n",
            "        Sync Boost                        : Not Active\n",
            "        SW Thermal Slowdown               : Not Active\n",
            "        Display Clock Setting             : Not Active\n",
            "    FB Memory Usage\n",
            "        Total                             : 16280 MiB\n",
            "        Used                              : 2 MiB\n",
            "        Free                              : 16278 MiB\n",
            "    BAR1 Memory Usage\n",
            "        Total                             : 16384 MiB\n",
            "        Used                              : 2 MiB\n",
            "        Free                              : 16382 MiB\n",
            "    Compute Mode                          : Default\n",
            "    Utilization\n",
            "        Gpu                               : 0 %\n",
            "        Memory                            : 0 %\n",
            "        Encoder                           : 0 %\n",
            "        Decoder                           : 0 %\n",
            "    Encoder Stats\n",
            "        Active Sessions                   : 0\n",
            "        Average FPS                       : 0\n",
            "        Average Latency                   : 0\n",
            "    FBC Stats\n",
            "        Active Sessions                   : 0\n",
            "        Average FPS                       : 0\n",
            "        Average Latency                   : 0\n",
            "    Ecc Mode\n",
            "        Current                           : Enabled\n",
            "        Pending                           : Enabled\n",
            "    ECC Errors\n",
            "        Volatile\n",
            "            Single Bit            \n",
            "                Device Memory             : 0\n",
            "                Register File             : 0\n",
            "                L1 Cache                  : N/A\n",
            "                L2 Cache                  : 0\n",
            "                Texture Memory            : 0\n",
            "                Texture Shared            : 0\n",
            "                CBU                       : N/A\n",
            "                Total                     : 0\n",
            "            Double Bit            \n",
            "                Device Memory             : 0\n",
            "                Register File             : 0\n",
            "                L1 Cache                  : N/A\n",
            "                L2 Cache                  : 0\n",
            "                Texture Memory            : 0\n",
            "                Texture Shared            : 0\n",
            "                CBU                       : N/A\n",
            "                Total                     : 0\n",
            "        Aggregate\n",
            "            Single Bit            \n",
            "                Device Memory             : 0\n",
            "                Register File             : 0\n",
            "                L1 Cache                  : N/A\n",
            "                L2 Cache                  : 0\n",
            "                Texture Memory            : 0\n",
            "                Texture Shared            : 0\n",
            "                CBU                       : N/A\n",
            "                Total                     : 0\n",
            "            Double Bit            \n",
            "                Device Memory             : 0\n",
            "                Register File             : 0\n",
            "                L1 Cache                  : N/A\n",
            "                L2 Cache                  : 0\n",
            "                Texture Memory            : 0\n",
            "                Texture Shared            : 0\n",
            "                CBU                       : N/A\n",
            "                Total                     : 0\n",
            "    Retired Pages\n",
            "        Single Bit ECC                    : 0\n",
            "        Double Bit ECC                    : 0\n",
            "        Pending Page Blacklist            : No\n",
            "    Remapped Rows                         : N/A\n",
            "    Temperature\n",
            "        GPU Current Temp                  : 38 C\n",
            "        GPU Shutdown Temp                 : 85 C\n",
            "        GPU Slowdown Temp                 : 82 C\n",
            "        GPU Max Operating Temp            : N/A\n",
            "        GPU Target Temperature            : N/A\n",
            "        Memory Current Temp               : N/A\n",
            "        Memory Max Operating Temp         : N/A\n",
            "    Power Readings\n",
            "        Power Management                  : Supported\n",
            "        Power Draw                        : 26.28 W\n",
            "        Power Limit                       : 250.00 W\n",
            "        Default Power Limit               : 250.00 W\n",
            "        Enforced Power Limit              : 250.00 W\n",
            "        Min Power Limit                   : 125.00 W\n",
            "        Max Power Limit                   : 250.00 W\n",
            "    Clocks\n",
            "        Graphics                          : 405 MHz\n",
            "        SM                                : 405 MHz\n",
            "        Memory                            : 715 MHz\n",
            "        Video                             : 835 MHz\n",
            "    Applications Clocks\n",
            "        Graphics                          : 1189 MHz\n",
            "        Memory                            : 715 MHz\n",
            "    Default Applications Clocks\n",
            "        Graphics                          : 1189 MHz\n",
            "        Memory                            : 715 MHz\n",
            "    Max Clocks\n",
            "        Graphics                          : 1328 MHz\n",
            "        SM                                : 1328 MHz\n",
            "        Memory                            : 715 MHz\n",
            "        Video                             : 1328 MHz\n",
            "    Max Customer Boost Clocks\n",
            "        Graphics                          : 1328 MHz\n",
            "    Clock Policy\n",
            "        Auto Boost                        : N/A\n",
            "        Auto Boost Default                : N/A\n",
            "    Processes                             : None\n",
            "\n"
          ]
        }
      ]
    },
    {
      "cell_type": "code",
      "source": [
        "!nvidia-smi"
      ],
      "metadata": {
        "colab": {
          "base_uri": "https://localhost:8080/"
        },
        "id": "ZxtauL1_QKJk",
        "outputId": "f42a4abe-4c1b-4309-fedb-6f6ee988cc91"
      },
      "execution_count": 6,
      "outputs": [
        {
          "output_type": "stream",
          "name": "stdout",
          "text": [
            "Sun May 29 22:28:39 2022       \n",
            "+-----------------------------------------------------------------------------+\n",
            "| NVIDIA-SMI 460.32.03    Driver Version: 460.32.03    CUDA Version: 11.2     |\n",
            "|-------------------------------+----------------------+----------------------+\n",
            "| GPU  Name        Persistence-M| Bus-Id        Disp.A | Volatile Uncorr. ECC |\n",
            "| Fan  Temp  Perf  Pwr:Usage/Cap|         Memory-Usage | GPU-Util  Compute M. |\n",
            "|                               |                      |               MIG M. |\n",
            "|===============================+======================+======================|\n",
            "|   0  Tesla P100-PCIE...  Off  | 00000000:00:04.0 Off |                    0 |\n",
            "| N/A   38C    P0    26W / 250W |      2MiB / 16280MiB |      0%      Default |\n",
            "|                               |                      |                  N/A |\n",
            "+-------------------------------+----------------------+----------------------+\n",
            "                                                                               \n",
            "+-----------------------------------------------------------------------------+\n",
            "| Processes:                                                                  |\n",
            "|  GPU   GI   CI        PID   Type   Process name                  GPU Memory |\n",
            "|        ID   ID                                                   Usage      |\n",
            "|=============================================================================|\n",
            "|  No running processes found                                                 |\n",
            "+-----------------------------------------------------------------------------+\n"
          ]
        }
      ]
    },
    {
      "cell_type": "code",
      "source": [
        "!lscpu |grep 'Model name'"
      ],
      "metadata": {
        "colab": {
          "base_uri": "https://localhost:8080/"
        },
        "id": "U0wXTbVVQTzS",
        "outputId": "655cf336-9786-4ffe-8c4b-eab89a0a139e"
      },
      "execution_count": 7,
      "outputs": [
        {
          "output_type": "stream",
          "name": "stdout",
          "text": [
            "Model name:          Intel(R) Xeon(R) CPU @ 2.20GHz\n"
          ]
        }
      ]
    },
    {
      "cell_type": "code",
      "source": [
        "!free -h --si | awk  '/Mem:/{print $2}'"
      ],
      "metadata": {
        "colab": {
          "base_uri": "https://localhost:8080/"
        },
        "id": "WTu9Y9K2QYVX",
        "outputId": "527b5f6a-cc72-4693-fa65-422263ab2c3e"
      },
      "execution_count": 8,
      "outputs": [
        {
          "output_type": "stream",
          "name": "stdout",
          "text": [
            "26G\n"
          ]
        }
      ]
    },
    {
      "cell_type": "markdown",
      "metadata": {
        "id": "dwnUTHc_WWf9"
      },
      "source": [
        "# Loading the dataset"
      ]
    },
    {
      "cell_type": "code",
      "execution_count": 9,
      "metadata": {
        "colab": {
          "base_uri": "https://localhost:8080/",
          "height": 647
        },
        "id": "hSr1m-4emA8l",
        "outputId": "829e985b-181b-4f05-b377-67058279acc1"
      },
      "outputs": [
        {
          "output_type": "execute_result",
          "data": {
            "text/plain": [
              "                                   preprocessed_text  original_index  \\\n",
              "0  checking account jp morgan chase manipulated y...         1546330   \n",
              "1  went atm chase bank ny withdrawal making withd...         1653179   \n",
              "2  bank allowed fraudulent checks deposited withd...          498889   \n",
              "3  man called usaa banking services pretending nt...         1612147   \n",
              "4  problems bank capitalone months answer records...          114348   \n",
              "\n",
              "            product                                          complaint  \\\n",
              "0  Banking Services  My checking account with JP Morgan Chase has b...   \n",
              "1  Banking Services  On XX/XX/2016, I went to an ATM at the Chase B...   \n",
              "2  Banking Services  My bank allowed fraudulent checks to be deposi...   \n",
              "3  Banking Services  A man called USAA Banking services pretending ...   \n",
              "4  Banking Services  I have had problems with the bank - CapitalOne...   \n",
              "\n",
              "              original_product  \\\n",
              "0      Bank account or service   \n",
              "1      Bank account or service   \n",
              "2  Checking or savings account   \n",
              "3      Bank account or service   \n",
              "4  Checking or savings account   \n",
              "\n",
              "                             split_words_whitespaces  number_of_words  \\\n",
              "0  ['checking', 'account', 'jp', 'morgan', 'chase...               70   \n",
              "1  ['went', 'atm', 'chase', 'bank', 'ny', 'withdr...               40   \n",
              "2  ['bank', 'allowed', 'fraudulent', 'checks', 'd...               53   \n",
              "3  ['man', 'called', 'usaa', 'banking', 'services...               77   \n",
              "4  ['problems', 'bank', 'capitalone', 'months', '...               81   \n",
              "\n",
              "   number_of_characters  number_of_unique_words  number_of_alphabets  ...  \\\n",
              "0                   528                      44                  459  ...   \n",
              "1                   264                      32                  225  ...   \n",
              "2                   357                      45                  305  ...   \n",
              "3                   550                      52                  474  ...   \n",
              "4                   604                      68                  524  ...   \n",
              "\n",
              "   number_of_character_X  number_of_character_x  percentage_of_alphabets  \\\n",
              "0                      0                      1                 0.869318   \n",
              "1                      0                      0                 0.852273   \n",
              "2                      0                      1                 0.854342   \n",
              "3                      0                      0                 0.861818   \n",
              "4                      0                      1                 0.867550   \n",
              "\n",
              "   percentage_of_numerical_values  percentage_of_white_spaces  \\\n",
              "0                             0.0                    0.130682   \n",
              "1                             0.0                    0.147727   \n",
              "2                             0.0                    0.145658   \n",
              "3                             0.0                    0.138182   \n",
              "4                             0.0                    0.132450   \n",
              "\n",
              "   percentage_of_other_characters  percentage_of_character_X  \\\n",
              "0                             0.0                        0.0   \n",
              "1                             0.0                        0.0   \n",
              "2                             0.0                        0.0   \n",
              "3                             0.0                        0.0   \n",
              "4                             0.0                        0.0   \n",
              "\n",
              "   percentage_of_character_x  product_instance_length  \\\n",
              "0                   0.001894                        1   \n",
              "1                   0.000000                        1   \n",
              "2                   0.002801                        1   \n",
              "3                   0.000000                        1   \n",
              "4                   0.001656                        1   \n",
              "\n",
              "   product_unique_instance_length  \n",
              "0                               1  \n",
              "1                               1  \n",
              "2                               1  \n",
              "3                               1  \n",
              "4                               1  \n",
              "\n",
              "[5 rows x 23 columns]"
            ],
            "text/html": [
              "\n",
              "  <div id=\"df-2b5a2acf-5155-4be9-b51b-58a72f3bbbad\">\n",
              "    <div class=\"colab-df-container\">\n",
              "      <div>\n",
              "<style scoped>\n",
              "    .dataframe tbody tr th:only-of-type {\n",
              "        vertical-align: middle;\n",
              "    }\n",
              "\n",
              "    .dataframe tbody tr th {\n",
              "        vertical-align: top;\n",
              "    }\n",
              "\n",
              "    .dataframe thead th {\n",
              "        text-align: right;\n",
              "    }\n",
              "</style>\n",
              "<table border=\"1\" class=\"dataframe\">\n",
              "  <thead>\n",
              "    <tr style=\"text-align: right;\">\n",
              "      <th></th>\n",
              "      <th>preprocessed_text</th>\n",
              "      <th>original_index</th>\n",
              "      <th>product</th>\n",
              "      <th>complaint</th>\n",
              "      <th>original_product</th>\n",
              "      <th>split_words_whitespaces</th>\n",
              "      <th>number_of_words</th>\n",
              "      <th>number_of_characters</th>\n",
              "      <th>number_of_unique_words</th>\n",
              "      <th>number_of_alphabets</th>\n",
              "      <th>...</th>\n",
              "      <th>number_of_character_X</th>\n",
              "      <th>number_of_character_x</th>\n",
              "      <th>percentage_of_alphabets</th>\n",
              "      <th>percentage_of_numerical_values</th>\n",
              "      <th>percentage_of_white_spaces</th>\n",
              "      <th>percentage_of_other_characters</th>\n",
              "      <th>percentage_of_character_X</th>\n",
              "      <th>percentage_of_character_x</th>\n",
              "      <th>product_instance_length</th>\n",
              "      <th>product_unique_instance_length</th>\n",
              "    </tr>\n",
              "  </thead>\n",
              "  <tbody>\n",
              "    <tr>\n",
              "      <th>0</th>\n",
              "      <td>checking account jp morgan chase manipulated y...</td>\n",
              "      <td>1546330</td>\n",
              "      <td>Banking Services</td>\n",
              "      <td>My checking account with JP Morgan Chase has b...</td>\n",
              "      <td>Bank account or service</td>\n",
              "      <td>['checking', 'account', 'jp', 'morgan', 'chase...</td>\n",
              "      <td>70</td>\n",
              "      <td>528</td>\n",
              "      <td>44</td>\n",
              "      <td>459</td>\n",
              "      <td>...</td>\n",
              "      <td>0</td>\n",
              "      <td>1</td>\n",
              "      <td>0.869318</td>\n",
              "      <td>0.0</td>\n",
              "      <td>0.130682</td>\n",
              "      <td>0.0</td>\n",
              "      <td>0.0</td>\n",
              "      <td>0.001894</td>\n",
              "      <td>1</td>\n",
              "      <td>1</td>\n",
              "    </tr>\n",
              "    <tr>\n",
              "      <th>1</th>\n",
              "      <td>went atm chase bank ny withdrawal making withd...</td>\n",
              "      <td>1653179</td>\n",
              "      <td>Banking Services</td>\n",
              "      <td>On XX/XX/2016, I went to an ATM at the Chase B...</td>\n",
              "      <td>Bank account or service</td>\n",
              "      <td>['went', 'atm', 'chase', 'bank', 'ny', 'withdr...</td>\n",
              "      <td>40</td>\n",
              "      <td>264</td>\n",
              "      <td>32</td>\n",
              "      <td>225</td>\n",
              "      <td>...</td>\n",
              "      <td>0</td>\n",
              "      <td>0</td>\n",
              "      <td>0.852273</td>\n",
              "      <td>0.0</td>\n",
              "      <td>0.147727</td>\n",
              "      <td>0.0</td>\n",
              "      <td>0.0</td>\n",
              "      <td>0.000000</td>\n",
              "      <td>1</td>\n",
              "      <td>1</td>\n",
              "    </tr>\n",
              "    <tr>\n",
              "      <th>2</th>\n",
              "      <td>bank allowed fraudulent checks deposited withd...</td>\n",
              "      <td>498889</td>\n",
              "      <td>Banking Services</td>\n",
              "      <td>My bank allowed fraudulent checks to be deposi...</td>\n",
              "      <td>Checking or savings account</td>\n",
              "      <td>['bank', 'allowed', 'fraudulent', 'checks', 'd...</td>\n",
              "      <td>53</td>\n",
              "      <td>357</td>\n",
              "      <td>45</td>\n",
              "      <td>305</td>\n",
              "      <td>...</td>\n",
              "      <td>0</td>\n",
              "      <td>1</td>\n",
              "      <td>0.854342</td>\n",
              "      <td>0.0</td>\n",
              "      <td>0.145658</td>\n",
              "      <td>0.0</td>\n",
              "      <td>0.0</td>\n",
              "      <td>0.002801</td>\n",
              "      <td>1</td>\n",
              "      <td>1</td>\n",
              "    </tr>\n",
              "    <tr>\n",
              "      <th>3</th>\n",
              "      <td>man called usaa banking services pretending nt...</td>\n",
              "      <td>1612147</td>\n",
              "      <td>Banking Services</td>\n",
              "      <td>A man called USAA Banking services pretending ...</td>\n",
              "      <td>Bank account or service</td>\n",
              "      <td>['man', 'called', 'usaa', 'banking', 'services...</td>\n",
              "      <td>77</td>\n",
              "      <td>550</td>\n",
              "      <td>52</td>\n",
              "      <td>474</td>\n",
              "      <td>...</td>\n",
              "      <td>0</td>\n",
              "      <td>0</td>\n",
              "      <td>0.861818</td>\n",
              "      <td>0.0</td>\n",
              "      <td>0.138182</td>\n",
              "      <td>0.0</td>\n",
              "      <td>0.0</td>\n",
              "      <td>0.000000</td>\n",
              "      <td>1</td>\n",
              "      <td>1</td>\n",
              "    </tr>\n",
              "    <tr>\n",
              "      <th>4</th>\n",
              "      <td>problems bank capitalone months answer records...</td>\n",
              "      <td>114348</td>\n",
              "      <td>Banking Services</td>\n",
              "      <td>I have had problems with the bank - CapitalOne...</td>\n",
              "      <td>Checking or savings account</td>\n",
              "      <td>['problems', 'bank', 'capitalone', 'months', '...</td>\n",
              "      <td>81</td>\n",
              "      <td>604</td>\n",
              "      <td>68</td>\n",
              "      <td>524</td>\n",
              "      <td>...</td>\n",
              "      <td>0</td>\n",
              "      <td>1</td>\n",
              "      <td>0.867550</td>\n",
              "      <td>0.0</td>\n",
              "      <td>0.132450</td>\n",
              "      <td>0.0</td>\n",
              "      <td>0.0</td>\n",
              "      <td>0.001656</td>\n",
              "      <td>1</td>\n",
              "      <td>1</td>\n",
              "    </tr>\n",
              "  </tbody>\n",
              "</table>\n",
              "<p>5 rows × 23 columns</p>\n",
              "</div>\n",
              "      <button class=\"colab-df-convert\" onclick=\"convertToInteractive('df-2b5a2acf-5155-4be9-b51b-58a72f3bbbad')\"\n",
              "              title=\"Convert this dataframe to an interactive table.\"\n",
              "              style=\"display:none;\">\n",
              "        \n",
              "  <svg xmlns=\"http://www.w3.org/2000/svg\" height=\"24px\"viewBox=\"0 0 24 24\"\n",
              "       width=\"24px\">\n",
              "    <path d=\"M0 0h24v24H0V0z\" fill=\"none\"/>\n",
              "    <path d=\"M18.56 5.44l.94 2.06.94-2.06 2.06-.94-2.06-.94-.94-2.06-.94 2.06-2.06.94zm-11 1L8.5 8.5l.94-2.06 2.06-.94-2.06-.94L8.5 2.5l-.94 2.06-2.06.94zm10 10l.94 2.06.94-2.06 2.06-.94-2.06-.94-.94-2.06-.94 2.06-2.06.94z\"/><path d=\"M17.41 7.96l-1.37-1.37c-.4-.4-.92-.59-1.43-.59-.52 0-1.04.2-1.43.59L10.3 9.45l-7.72 7.72c-.78.78-.78 2.05 0 2.83L4 21.41c.39.39.9.59 1.41.59.51 0 1.02-.2 1.41-.59l7.78-7.78 2.81-2.81c.8-.78.8-2.07 0-2.86zM5.41 20L4 18.59l7.72-7.72 1.47 1.35L5.41 20z\"/>\n",
              "  </svg>\n",
              "      </button>\n",
              "      \n",
              "  <style>\n",
              "    .colab-df-container {\n",
              "      display:flex;\n",
              "      flex-wrap:wrap;\n",
              "      gap: 12px;\n",
              "    }\n",
              "\n",
              "    .colab-df-convert {\n",
              "      background-color: #E8F0FE;\n",
              "      border: none;\n",
              "      border-radius: 50%;\n",
              "      cursor: pointer;\n",
              "      display: none;\n",
              "      fill: #1967D2;\n",
              "      height: 32px;\n",
              "      padding: 0 0 0 0;\n",
              "      width: 32px;\n",
              "    }\n",
              "\n",
              "    .colab-df-convert:hover {\n",
              "      background-color: #E2EBFA;\n",
              "      box-shadow: 0px 1px 2px rgba(60, 64, 67, 0.3), 0px 1px 3px 1px rgba(60, 64, 67, 0.15);\n",
              "      fill: #174EA6;\n",
              "    }\n",
              "\n",
              "    [theme=dark] .colab-df-convert {\n",
              "      background-color: #3B4455;\n",
              "      fill: #D2E3FC;\n",
              "    }\n",
              "\n",
              "    [theme=dark] .colab-df-convert:hover {\n",
              "      background-color: #434B5C;\n",
              "      box-shadow: 0px 1px 3px 1px rgba(0, 0, 0, 0.15);\n",
              "      filter: drop-shadow(0px 1px 2px rgba(0, 0, 0, 0.3));\n",
              "      fill: #FFFFFF;\n",
              "    }\n",
              "  </style>\n",
              "\n",
              "      <script>\n",
              "        const buttonEl =\n",
              "          document.querySelector('#df-2b5a2acf-5155-4be9-b51b-58a72f3bbbad button.colab-df-convert');\n",
              "        buttonEl.style.display =\n",
              "          google.colab.kernel.accessAllowed ? 'block' : 'none';\n",
              "\n",
              "        async function convertToInteractive(key) {\n",
              "          const element = document.querySelector('#df-2b5a2acf-5155-4be9-b51b-58a72f3bbbad');\n",
              "          const dataTable =\n",
              "            await google.colab.kernel.invokeFunction('convertToInteractive',\n",
              "                                                     [key], {});\n",
              "          if (!dataTable) return;\n",
              "\n",
              "          const docLinkHtml = 'Like what you see? Visit the ' +\n",
              "            '<a target=\"_blank\" href=https://colab.research.google.com/notebooks/data_table.ipynb>data table notebook</a>'\n",
              "            + ' to learn more about interactive tables.';\n",
              "          element.innerHTML = '';\n",
              "          dataTable['output_type'] = 'display_data';\n",
              "          await google.colab.output.renderOutput(dataTable, element);\n",
              "          const docLink = document.createElement('div');\n",
              "          docLink.innerHTML = docLinkHtml;\n",
              "          element.appendChild(docLink);\n",
              "        }\n",
              "      </script>\n",
              "    </div>\n",
              "  </div>\n",
              "  "
            ]
          },
          "metadata": {},
          "execution_count": 9
        }
      ],
      "source": [
        "#Load the data\n",
        "import pandas as pd\n",
        "\n",
        "sample_df = pd.read_csv(sample_data_path)\n",
        "#Display the first five rows in sample_df\n",
        "sample_df.head()\n"
      ]
    },
    {
      "cell_type": "code",
      "execution_count": 10,
      "metadata": {
        "colab": {
          "base_uri": "https://localhost:8080/"
        },
        "id": "2LH6N19EqhuW",
        "outputId": "6136e1cb-3be8-4d1c-a067-d2e70a1a4fa0"
      },
      "outputs": [
        {
          "output_type": "stream",
          "name": "stdout",
          "text": [
            "<class 'pandas.core.frame.DataFrame'>\n",
            "RangeIndex: 60000 entries, 0 to 59999\n",
            "Data columns (total 2 columns):\n",
            " #   Column    Non-Null Count  Dtype \n",
            "---  ------    --------------  ----- \n",
            " 0   sentence  60000 non-null  object\n",
            " 1   label     60000 non-null  object\n",
            "dtypes: object(2)\n",
            "memory usage: 937.6+ KB\n"
          ]
        }
      ],
      "source": [
        "#Create dataframe data with the columns 'preprocessed_text' and 'product' from sample_df\n",
        "data = sample_df[['preprocessed_text', 'product']].copy()\n",
        "#Rename the columns 'preprocessed_text' as 'setence' and 'product' as 'label'\n",
        "data.rename(columns = {'preprocessed_text':'sentence', 'product':'label'}, inplace = True)\n",
        "data.info()"
      ]
    },
    {
      "cell_type": "code",
      "execution_count": 11,
      "metadata": {
        "colab": {
          "base_uri": "https://localhost:8080/"
        },
        "id": "yH0QhmSTPMj0",
        "outputId": "f6014bab-cd27-432b-e803-31f6de4ffe31"
      },
      "outputs": [
        {
          "output_type": "execute_result",
          "data": {
            "text/plain": [
              "Banking Services    10000\n",
              "Card Services       10000\n",
              "Credit Reporting    10000\n",
              "Debt Collection     10000\n",
              "Loans               10000\n",
              "Mortgage            10000\n",
              "Name: label, dtype: int64"
            ]
          },
          "metadata": {},
          "execution_count": 11
        }
      ],
      "source": [
        "# Print the counts of unique values in 'label' in data\n",
        "data['label'].value_counts()"
      ]
    },
    {
      "cell_type": "code",
      "execution_count": 12,
      "metadata": {
        "colab": {
          "base_uri": "https://localhost:8080/"
        },
        "id": "cHkxjJUqsjlV",
        "outputId": "2db1f05b-692e-4148-df7d-466e89fe3b77"
      },
      "outputs": [
        {
          "output_type": "execute_result",
          "data": {
            "text/plain": [
              "Dataset({\n",
              "    features: ['sentence', 'label'],\n",
              "    num_rows: 60000\n",
              "})"
            ]
          },
          "metadata": {},
          "execution_count": 12
        }
      ],
      "source": [
        "#Convert the Data into HuggingFace Dataset\n",
        "from datasets import Dataset\n",
        "dataset = Dataset.from_pandas(data)\n",
        "dataset\n"
      ]
    },
    {
      "cell_type": "markdown",
      "metadata": {
        "id": "4KoNgkasXvkF"
      },
      "source": [
        "The dataset has to be split into training, validation and test set. Let's check the first example of the dataset:\n",
        "\n"
      ]
    },
    {
      "cell_type": "code",
      "execution_count": 13,
      "metadata": {
        "colab": {
          "base_uri": "https://localhost:8080/"
        },
        "id": "9mdy4kv_Xq7_",
        "outputId": "ca1ec3d7-dde7-402c-9f91-c24bb11e24ee"
      },
      "outputs": [
        {
          "output_type": "execute_result",
          "data": {
            "text/plain": [
              "{'label': 'Banking Services',\n",
              " 'sentence': 'checking account jp morgan chase manipulated years account balance pending ach transactions account balance pending check payment ach transaction paid left balance showing balance account alert account said overdrawn ach transactions cleared day suddenly reappeared day triggering negative balance incurred overdrawn fee chase manipulated account check came erasing balance subbatch transaction high low maximize fee transaction showing came justify fee erispective posted fed big banks manipulation customers carry huge balance'}"
            ]
          },
          "metadata": {},
          "execution_count": 13
        }
      ],
      "source": [
        "example = dataset[0]\n",
        "example"
      ]
    },
    {
      "cell_type": "code",
      "source": [
        "example['label']"
      ],
      "metadata": {
        "colab": {
          "base_uri": "https://localhost:8080/",
          "height": 36
        },
        "id": "RpO7-xvGqbjF",
        "outputId": "82405a02-c538-4ab5-e07c-ffa57a6f229d"
      },
      "execution_count": 14,
      "outputs": [
        {
          "output_type": "execute_result",
          "data": {
            "text/plain": [
              "'Banking Services'"
            ],
            "application/vnd.google.colaboratory.intrinsic+json": {
              "type": "string"
            }
          },
          "metadata": {},
          "execution_count": 14
        }
      ]
    },
    {
      "cell_type": "code",
      "source": [
        "example['sentence']"
      ],
      "metadata": {
        "colab": {
          "base_uri": "https://localhost:8080/",
          "height": 110
        },
        "id": "i62kF_u1qvDK",
        "outputId": "765c5f05-c78e-4dfa-d893-76201635a894"
      },
      "execution_count": 15,
      "outputs": [
        {
          "output_type": "execute_result",
          "data": {
            "text/plain": [
              "'checking account jp morgan chase manipulated years account balance pending ach transactions account balance pending check payment ach transaction paid left balance showing balance account alert account said overdrawn ach transactions cleared day suddenly reappeared day triggering negative balance incurred overdrawn fee chase manipulated account check came erasing balance subbatch transaction high low maximize fee transaction showing came justify fee erispective posted fed big banks manipulation customers carry huge balance'"
            ],
            "application/vnd.google.colaboratory.intrinsic+json": {
              "type": "string"
            }
          },
          "metadata": {},
          "execution_count": 15
        }
      ]
    },
    {
      "cell_type": "markdown",
      "metadata": {
        "id": "MUfKp87VVHI_"
      },
      "source": [
        "Let's look at the features of the dataset"
      ]
    },
    {
      "cell_type": "code",
      "execution_count": 16,
      "metadata": {
        "colab": {
          "base_uri": "https://localhost:8080/"
        },
        "id": "OWINgHQnVJ5f",
        "outputId": "15040552-e7fa-4612-c1ff-f03ff94c9419"
      },
      "outputs": [
        {
          "output_type": "execute_result",
          "data": {
            "text/plain": [
              "{'label': Value(dtype='string', id=None),\n",
              " 'sentence': Value(dtype='string', id=None)}"
            ]
          },
          "metadata": {},
          "execution_count": 16
        }
      ],
      "source": [
        "dataset.features"
      ]
    },
    {
      "cell_type": "markdown",
      "metadata": {
        "id": "p9kyy8v_tjkY"
      },
      "source": [
        "Let's create a list that contains the labels, as well as 2 dictionaries that map labels to integers and back."
      ]
    },
    {
      "cell_type": "code",
      "execution_count": 17,
      "metadata": {
        "colab": {
          "base_uri": "https://localhost:8080/"
        },
        "id": "ugIFhNg3trOP",
        "outputId": "8bc5a15c-06b8-4f91-8f28-d53585dcce22"
      },
      "outputs": [
        {
          "output_type": "execute_result",
          "data": {
            "text/plain": [
              "['Banking Services',\n",
              " 'Card Services',\n",
              " 'Credit Reporting',\n",
              " 'Debt Collection',\n",
              " 'Loans',\n",
              " 'Mortgage']"
            ]
          },
          "metadata": {},
          "execution_count": 17
        }
      ],
      "source": [
        "labels = sorted(list(set(dataset['label'])))\n",
        "id2label = {idx:label for idx, label in enumerate(labels)}\n",
        "label2id = {label:idx for idx, label in enumerate(labels)}\n",
        "labels"
      ]
    },
    {
      "cell_type": "code",
      "execution_count": 18,
      "metadata": {
        "colab": {
          "base_uri": "https://localhost:8080/"
        },
        "id": "WMVEUptWjNaV",
        "outputId": "708ea1ee-bae3-4297-b6df-8c46ecac6395"
      },
      "outputs": [
        {
          "output_type": "execute_result",
          "data": {
            "text/plain": [
              "6"
            ]
          },
          "metadata": {},
          "execution_count": 18
        }
      ],
      "source": [
        "len(labels)"
      ]
    },
    {
      "cell_type": "markdown",
      "metadata": {
        "id": "VsvsAIRAMMVj"
      },
      "source": [
        "The dataset consists of 6 labels."
      ]
    },
    {
      "cell_type": "markdown",
      "metadata": {
        "id": "UKukAGDvp7cP"
      },
      "source": [
        "## Splitting the Data into Train, Validation and Test set\n",
        "\n",
        "\n",
        "\n",
        "\n"
      ]
    },
    {
      "cell_type": "code",
      "execution_count": 19,
      "metadata": {
        "id": "ol_9v8qaqT7H"
      },
      "outputs": [],
      "source": [
        "fix_seed = 42\n",
        "from sklearn.model_selection import train_test_split"
      ]
    },
    {
      "cell_type": "code",
      "execution_count": 20,
      "metadata": {
        "id": "pMKJRWshPTVE"
      },
      "outputs": [],
      "source": [
        "# Split data into train and val_test set with 80 percent of data in train and 20 perecent in val_test\n",
        "X= dataset['sentence']\n",
        "y= dataset['label']\n",
        "X_train, X_val_test, y_train, y_val_test = train_test_split(X, y, test_size=0.2,stratify=y ,random_state=fix_seed)"
      ]
    },
    {
      "cell_type": "code",
      "execution_count": 21,
      "metadata": {
        "id": "c0FTvgIqPTlq"
      },
      "outputs": [],
      "source": [
        "# Split data into test and validation set with 10 percent data in val and 10 percent in test\n",
        "X_val, X_test,y_val, y_test = train_test_split(X_val_test, y_val_test,stratify = y_val_test, test_size = 0.5, random_state=fix_seed)"
      ]
    },
    {
      "cell_type": "code",
      "execution_count": 22,
      "metadata": {
        "colab": {
          "base_uri": "https://localhost:8080/"
        },
        "id": "uqeaiHLFp3d1",
        "outputId": "1fd64f72-3c55-4713-9b95-65e68e744e24"
      },
      "outputs": [
        {
          "output_type": "execute_result",
          "data": {
            "text/plain": [
              "Dataset({\n",
              "    features: ['sentence', 'label'],\n",
              "    num_rows: 48000\n",
              "})"
            ]
          },
          "metadata": {},
          "execution_count": 22
        }
      ],
      "source": [
        "# Create the HuggingFace Dataset train_data \n",
        "dict_train = {\"sentence\": X_train,\"label\":y_train}\n",
        "train_data = Dataset.from_dict(dict_train)\n",
        "train_data"
      ]
    },
    {
      "cell_type": "code",
      "execution_count": 23,
      "metadata": {
        "colab": {
          "base_uri": "https://localhost:8080/"
        },
        "id": "UikJEfdoUS7w",
        "outputId": "2e486afe-45de-47d2-a13b-6b25de21d230"
      },
      "outputs": [
        {
          "output_type": "execute_result",
          "data": {
            "text/plain": [
              "Dataset({\n",
              "    features: ['sentence', 'label'],\n",
              "    num_rows: 6000\n",
              "})"
            ]
          },
          "metadata": {},
          "execution_count": 23
        }
      ],
      "source": [
        "\n",
        "# Create the HuggingFace Dataset val_data\n",
        "dict_val = {\"sentence\": X_val,\"label\":y_val}\n",
        "val_data = Dataset.from_dict(dict_val)\n",
        "val_data"
      ]
    },
    {
      "cell_type": "code",
      "execution_count": 24,
      "metadata": {
        "colab": {
          "base_uri": "https://localhost:8080/"
        },
        "id": "GIERzmqJUTEQ",
        "outputId": "16f642d8-0f74-4dff-e4ac-1eb9c15cf543"
      },
      "outputs": [
        {
          "output_type": "execute_result",
          "data": {
            "text/plain": [
              "Dataset({\n",
              "    features: ['sentence', 'label'],\n",
              "    num_rows: 6000\n",
              "})"
            ]
          },
          "metadata": {},
          "execution_count": 24
        }
      ],
      "source": [
        "# Create the HuggingFace Dataset test_data\n",
        "dict_test = {\"sentence\": X_test,\"label\":y_test}\n",
        "test_data = Dataset.from_dict(dict_test)\n",
        "test_data"
      ]
    },
    {
      "cell_type": "markdown",
      "metadata": {
        "id": "tGbsKDXm4QsW"
      },
      "source": [
        "Let's Check the Frequency Count of Train, Validation and Test label data"
      ]
    },
    {
      "cell_type": "code",
      "source": [
        "import collections \n",
        "#Define the function to check the frequency count of elements in the list\n",
        "def frequency_count(mylist):\n",
        "  frequency = collections.Counter(mylist)\n",
        "  [print(key,':',value) for key, value in frequency.items()]"
      ],
      "metadata": {
        "id": "FTO-YsuIhpUI"
      },
      "execution_count": 25,
      "outputs": []
    },
    {
      "cell_type": "code",
      "execution_count": 26,
      "metadata": {
        "colab": {
          "base_uri": "https://localhost:8080/"
        },
        "id": "78X1pl5yVyU2",
        "outputId": "bb44192e-295f-4524-b63c-a01ef58041c8"
      },
      "outputs": [
        {
          "output_type": "stream",
          "name": "stdout",
          "text": [
            "The Frequency of label in train_data : \n",
            "\n",
            "Loans : 8000\n",
            "Debt Collection : 8000\n",
            "Card Services : 8000\n",
            "Credit Reporting : 8000\n",
            "Banking Services : 8000\n",
            "Mortgage : 8000\n"
          ]
        }
      ],
      "source": [
        "#print the frequency count of label in train_data\n",
        "print(\"The Frequency of label in train_data : \\n\")\n",
        "frequency_count(train_data['label'])"
      ]
    },
    {
      "cell_type": "code",
      "execution_count": 27,
      "metadata": {
        "colab": {
          "base_uri": "https://localhost:8080/"
        },
        "id": "_BdUm8uv4CuD",
        "outputId": "c7c5cc6b-053e-479e-e76f-9d4205bf51c9"
      },
      "outputs": [
        {
          "output_type": "stream",
          "name": "stdout",
          "text": [
            "The Frequency of label in val_data : \n",
            "\n",
            "Loans : 1000\n",
            "Debt Collection : 1000\n",
            "Card Services : 1000\n",
            "Mortgage : 1000\n",
            "Banking Services : 1000\n",
            "Credit Reporting : 1000\n"
          ]
        }
      ],
      "source": [
        "#print the frequency count of label in val_data\n",
        "print(\"The Frequency of label in val_data : \\n\")\n",
        "frequency_count(val_data['label'])"
      ]
    },
    {
      "cell_type": "code",
      "execution_count": 28,
      "metadata": {
        "colab": {
          "base_uri": "https://localhost:8080/"
        },
        "id": "zKNP7tWXV2_R",
        "outputId": "cb2dbb2e-e918-44e1-f3c6-c40c485c6304"
      },
      "outputs": [
        {
          "output_type": "stream",
          "name": "stdout",
          "text": [
            "The Frequency of label in test_data : \n",
            "\n",
            "Credit Reporting : 1000\n",
            "Banking Services : 1000\n",
            "Loans : 1000\n",
            "Card Services : 1000\n",
            "Debt Collection : 1000\n",
            "Mortgage : 1000\n"
          ]
        }
      ],
      "source": [
        "#print the frequency count of label in test_data\n",
        "print(\"The Frequency of label in test_data : \\n\")\n",
        "frequency_count(test_data['label'])"
      ]
    },
    {
      "cell_type": "code",
      "execution_count": 29,
      "metadata": {
        "colab": {
          "base_uri": "https://localhost:8080/"
        },
        "id": "xNZXfECRrzta",
        "outputId": "d86b4f77-f6ec-439d-8866-a6e7a02ad6d6"
      },
      "outputs": [
        {
          "output_type": "execute_result",
          "data": {
            "text/plain": [
              "DatasetDict({\n",
              "    train: Dataset({\n",
              "        features: ['sentence', 'label'],\n",
              "        num_rows: 48000\n",
              "    })\n",
              "    validation: Dataset({\n",
              "        features: ['sentence', 'label'],\n",
              "        num_rows: 6000\n",
              "    })\n",
              "    test: Dataset({\n",
              "        features: ['sentence', 'label'],\n",
              "        num_rows: 6000\n",
              "    })\n",
              "})"
            ]
          },
          "metadata": {},
          "execution_count": 29
        }
      ],
      "source": [
        "#Create dataset_clean to store the train_data, val_data and test_data\n",
        "from datasets.dataset_dict import DatasetDict\n",
        "dataset_clean = DatasetDict({\n",
        "    'train': train_data,\n",
        "    'validation': val_data,\n",
        "    'test': test_data\n",
        "})\n",
        "dataset_clean"
      ]
    },
    {
      "cell_type": "markdown",
      "metadata": {
        "id": "vN3TNouDhh0r"
      },
      "source": [
        "## Preprocess data\n",
        "\n",
        "\n",
        "Since the model don't expect text as direct input, but rather `input_ids`, etc., we tokenize the text using the tokenizer. Here I'm using the `AutoTokenizer` API, which will automatically load the appropriate tokenizer based on the checkpoint on the hub."
      ]
    },
    {
      "cell_type": "code",
      "execution_count": 30,
      "metadata": {
        "id": "ImOVtxX5jafN",
        "colab": {
          "base_uri": "https://localhost:8080/",
          "height": 145,
          "referenced_widgets": [
            "bc175752b1ad483bb058cf48230b48ba",
            "e3d5260c69eb4370abcdb40de4dc548e",
            "5de367356f2e4b5292644269d2b472c1",
            "ad1e0837c61840b6bf7f07705106a5b2",
            "b6e4e6e7f44e434a8fbfcb5ba0dca752",
            "4657e681797049e7ad3ea49909198bd6",
            "45fdab5f89d94db799b817ed98039795",
            "292d7d8964024a88a31d64de1113c911",
            "c1d53cb7c34d46efbe02cf2ca760e062",
            "63fff6ca5be740f5b504a2eeb3dd3e7f",
            "84acf0abb3ab477a90bfbe458ab9ec0c",
            "956661bcb3324e5ba509f070011672da",
            "e7d4e878e2814cda943309580af34cd5",
            "aa37f1a063084559b0ef8a1d829cce33",
            "a13feffe06f546c5ab93ff1058809291",
            "37f5afdadda1440bb46a8b9b6992a5be",
            "6aecbd61fd0543d6b226e0bbb7b272eb",
            "f6c3c477c98e4fe884107bb94994b46d",
            "894c5f51d9e147e5a13d6cc624cdb4c9",
            "24dbdae7da3b436c92868ee4401c8732",
            "b42b2a44074c449398b3b33b51c37015",
            "a355149ee0e54c60af9aa061fbac5cc8",
            "09bef3cd013c4c0589e70c4585c90a95",
            "3d676db129834332a19c7519333c9ac7",
            "36f5ccb759ad45279c5a1f67b2da1a18",
            "0d67167750e746249a07a11be0e15632",
            "699a57376a2349e882964e55f7fda74a",
            "46cc01f7279244628069746c19d6ed1e",
            "63f83c122f5d46b983447538e6b6523a",
            "284e229cd0de46a7bd7b33226bf5502b",
            "97882ec1ac98411dab81d20fea6824be",
            "5db13949d7fa480c87d91594ce22d50b",
            "9891d038eefa4f208583ce2e706c66bf",
            "a8974fa1db01409fb8765cbc5778113f",
            "c952ee8dc0cb49429516444752721a23",
            "f2648de5c8724f2e8d4377e34110f7eb",
            "e939bd36314842b594fe38b4b25bba46",
            "a792ebd4cbf04bceab52c8735f11b1e4",
            "f02907998d6047449396615694583515",
            "8ab7c9e1ff1548d1a9ac6147b2a134ad",
            "d1c9e61de35d4a82bc28c608a2f4f548",
            "4a85abb2e0114d0db460b2ab9837f29f",
            "abc6c163779a4307b4b92eb946841640",
            "d54ba2c920de4502a61a8492d1b53ed8"
          ]
        },
        "outputId": "71b5d9a2-f2c7-4fa1-edca-5e28be5400c4"
      },
      "outputs": [
        {
          "output_type": "display_data",
          "data": {
            "text/plain": [
              "Downloading:   0%|          | 0.00/28.0 [00:00<?, ?B/s]"
            ],
            "application/vnd.jupyter.widget-view+json": {
              "version_major": 2,
              "version_minor": 0,
              "model_id": "bc175752b1ad483bb058cf48230b48ba"
            }
          },
          "metadata": {}
        },
        {
          "output_type": "display_data",
          "data": {
            "text/plain": [
              "Downloading:   0%|          | 0.00/483 [00:00<?, ?B/s]"
            ],
            "application/vnd.jupyter.widget-view+json": {
              "version_major": 2,
              "version_minor": 0,
              "model_id": "956661bcb3324e5ba509f070011672da"
            }
          },
          "metadata": {}
        },
        {
          "output_type": "display_data",
          "data": {
            "text/plain": [
              "Downloading:   0%|          | 0.00/226k [00:00<?, ?B/s]"
            ],
            "application/vnd.jupyter.widget-view+json": {
              "version_major": 2,
              "version_minor": 0,
              "model_id": "09bef3cd013c4c0589e70c4585c90a95"
            }
          },
          "metadata": {}
        },
        {
          "output_type": "display_data",
          "data": {
            "text/plain": [
              "Downloading:   0%|          | 0.00/455k [00:00<?, ?B/s]"
            ],
            "application/vnd.jupyter.widget-view+json": {
              "version_major": 2,
              "version_minor": 0,
              "model_id": "a8974fa1db01409fb8765cbc5778113f"
            }
          },
          "metadata": {}
        }
      ],
      "source": [
        "from transformers import AutoTokenizer\n",
        "\n",
        "tokenizer = AutoTokenizer.from_pretrained('distilbert-base-uncased',num_labels=len(labels))"
      ]
    },
    {
      "cell_type": "code",
      "execution_count": 31,
      "metadata": {
        "id": "ceirRXfx2J8-"
      },
      "outputs": [],
      "source": [
        "import numpy as np\n",
        "def preprocess_data(examples):\n",
        "  # take a batch of texts\n",
        "  text = examples[\"sentence\"]\n",
        "  # encode them\n",
        "  encoding = tokenizer(text, padding=\"max_length\", truncation=True)\n",
        "  # add labels\n",
        "  encoding[\"labels\"] = [label2id[i] for i in examples[\"label\"]]\n",
        "  return encoding"
      ]
    },
    {
      "cell_type": "code",
      "execution_count": 32,
      "metadata": {
        "colab": {
          "base_uri": "https://localhost:8080/",
          "height": 113,
          "referenced_widgets": [
            "68f442234ef444c48ea9a5ecb26f7fff",
            "2f30875f8c0949cc94630affe806ec33",
            "933fa40d589e4876823bab6cde8378e3",
            "85663209d11c471fab5162707d84561b",
            "ea4dc968d36a4e84b01eee684d7dd52c",
            "c4bdf26fc058408f863abaaf53d7fb89",
            "77266dcbc95e44108163db7004768e94",
            "4419fd2430fd406b9b9d0b52d77b392a",
            "1d267c34ef7449d4af55e5b456a8ae06",
            "78d71de962114599a710979c979ba0e2",
            "bd9d5323b4e54197a2e49e7f81c236e6",
            "ce860c84a9494ad6b6aa2c91c7b6d634",
            "6e794b18259b43dfb03be8461536b520",
            "8faa5ade13ee4df0a8b3ad5390a9d186",
            "dadc9a7fe601472e9edde31e4cc9126b",
            "b710177711b3481888cd78cb96a0dd50",
            "2f9643a7648e495fb87cf26cb60d618b",
            "e5afe1975ac14ce5a004a8ae289b6640",
            "e777008de6e14c55a2e42b1b4a24df83",
            "7df1ff725b41468687cb3db8255b6c03",
            "842b55f274eb4d3fa509205cbd3ae2c2",
            "e5bdb616b1d44d49ab222c060ac57e91",
            "d6cac1ccabd6435fb43dfbe57f408041",
            "2ef92308713441878417f697acad5146",
            "0636feea6b3841838003af4c2d6c7e48",
            "36ca7c816bef46fabd6e3104a70e4155",
            "38f1a92f145a45028c4a646e3e0edc8c",
            "6df9cf89e80b49d3b4e303ae0c0433c0",
            "ff29e4a424e44d3ba93b7b6b09f55da6",
            "4373148266da4f6dbd6df0b9f27141b9",
            "3587a1372ef643ee895c591182617bf7",
            "4bd94981c56248d4800576151b4d2d3c",
            "81016eac795b4f25a0b62fdbe83d8c20"
          ]
        },
        "id": "h_UqiFYw4A7K",
        "outputId": "1b0930e2-fdc0-4e56-d7b4-5bc24754c3f8"
      },
      "outputs": [
        {
          "output_type": "display_data",
          "data": {
            "text/plain": [
              "  0%|          | 0/48 [00:00<?, ?ba/s]"
            ],
            "application/vnd.jupyter.widget-view+json": {
              "version_major": 2,
              "version_minor": 0,
              "model_id": "68f442234ef444c48ea9a5ecb26f7fff"
            }
          },
          "metadata": {}
        },
        {
          "output_type": "display_data",
          "data": {
            "text/plain": [
              "  0%|          | 0/6 [00:00<?, ?ba/s]"
            ],
            "application/vnd.jupyter.widget-view+json": {
              "version_major": 2,
              "version_minor": 0,
              "model_id": "ce860c84a9494ad6b6aa2c91c7b6d634"
            }
          },
          "metadata": {}
        },
        {
          "output_type": "display_data",
          "data": {
            "text/plain": [
              "  0%|          | 0/6 [00:00<?, ?ba/s]"
            ],
            "application/vnd.jupyter.widget-view+json": {
              "version_major": 2,
              "version_minor": 0,
              "model_id": "d6cac1ccabd6435fb43dfbe57f408041"
            }
          },
          "metadata": {}
        }
      ],
      "source": [
        "encoded_dataset = dataset_clean.map(preprocess_data, batched=True, remove_columns = ['sentence', 'label'])"
      ]
    },
    {
      "cell_type": "code",
      "execution_count": 33,
      "metadata": {
        "colab": {
          "base_uri": "https://localhost:8080/"
        },
        "id": "I0hzVIE4ieS6",
        "outputId": "a0f225a0-0de9-4cf4-9897-4ebfa579bde6"
      },
      "outputs": [
        {
          "output_type": "stream",
          "name": "stdout",
          "text": [
            "dict_keys(['input_ids', 'attention_mask', 'labels'])\n"
          ]
        }
      ],
      "source": [
        "example = encoded_dataset['train'][0]\n",
        "print(example.keys())"
      ]
    },
    {
      "cell_type": "code",
      "execution_count": 34,
      "metadata": {
        "colab": {
          "base_uri": "https://localhost:8080/",
          "height": 165
        },
        "id": "fDjhGfaGoOMi",
        "outputId": "f2ccd02a-8c72-4edb-cee5-67d87c0da17a"
      },
      "outputs": [
        {
          "output_type": "execute_result",
          "data": {
            "text/plain": [
              "'[CLS] federally protected consumer debtsy violated provision usc review attached documentation [SEP] [PAD] [PAD] [PAD] [PAD] [PAD] [PAD] [PAD] [PAD] [PAD] [PAD] [PAD] [PAD] [PAD] [PAD] [PAD] [PAD] [PAD] [PAD] [PAD] [PAD] [PAD] [PAD] [PAD] [PAD] [PAD] [PAD] [PAD] [PAD] [PAD] [PAD] [PAD] [PAD] [PAD] [PAD] [PAD] [PAD] [PAD] [PAD] [PAD] [PAD] [PAD] [PAD] [PAD] [PAD] [PAD] [PAD] [PAD] [PAD] [PAD] [PAD] [PAD] [PAD] [PAD] [PAD] [PAD] [PAD] [PAD] [PAD] [PAD] [PAD] [PAD] [PAD] [PAD] [PAD] [PAD] [PAD] [PAD] [PAD] [PAD] [PAD] [PAD] [PAD] [PAD] [PAD] [PAD] [PAD] [PAD] [PAD] [PAD] [PAD] [PAD] [PAD] [PAD] [PAD] [PAD] [PAD] [PAD] [PAD] [PAD] [PAD] [PAD] [PAD] [PAD] [PAD] [PAD] [PAD] [PAD] [PAD] [PAD] [PAD] [PAD] [PAD] [PAD] [PAD] [PAD] [PAD] [PAD] [PAD] [PAD] [PAD] [PAD] [PAD] [PAD] [PAD] [PAD] [PAD] [PAD] [PAD] [PAD] [PAD] [PAD] [PAD] [PAD] [PAD] [PAD] [PAD] [PAD] [PAD] [PAD] [PAD] [PAD] [PAD] [PAD] [PAD] [PAD] [PAD] [PAD] [PAD] [PAD] [PAD] [PAD] [PAD] [PAD] [PAD] [PAD] [PAD] [PAD] [PAD] [PAD] [PAD] [PAD] [PAD] [PAD] [PAD] [PAD] [PAD] [PAD] [PAD] [PAD] [PAD] [PAD] [PAD] [PAD] [PAD] [PAD] [PAD] [PAD] [PAD] [PAD] [PAD] [PAD] [PAD] [PAD] [PAD] [PAD] [PAD] [PAD] [PAD] [PAD] [PAD] [PAD] [PAD] [PAD] [PAD] [PAD] [PAD] [PAD] [PAD] [PAD] [PAD] [PAD] [PAD] [PAD] [PAD] [PAD] [PAD] [PAD] [PAD] [PAD] [PAD] [PAD] [PAD] [PAD] [PAD] [PAD] [PAD] [PAD] [PAD] [PAD] [PAD] [PAD] [PAD] [PAD] [PAD] [PAD] [PAD] [PAD] [PAD] [PAD] [PAD] [PAD] [PAD] [PAD] [PAD] [PAD] [PAD] [PAD] [PAD] [PAD] [PAD] [PAD] [PAD] [PAD] [PAD] [PAD] [PAD] [PAD] [PAD] [PAD] [PAD] [PAD] [PAD] [PAD] [PAD] [PAD] [PAD] [PAD] [PAD] [PAD] [PAD] [PAD] [PAD] [PAD] [PAD] [PAD] [PAD] [PAD] [PAD] [PAD] [PAD] [PAD] [PAD] [PAD] [PAD] [PAD] [PAD] [PAD] [PAD] [PAD] [PAD] [PAD] [PAD] [PAD] [PAD] [PAD] [PAD] [PAD] [PAD] [PAD] [PAD] [PAD] [PAD] [PAD] [PAD] [PAD] [PAD] [PAD] [PAD] [PAD] [PAD] [PAD] [PAD] [PAD] [PAD] [PAD] [PAD] [PAD] [PAD] [PAD] [PAD] [PAD] [PAD] [PAD] [PAD] [PAD] [PAD] [PAD] [PAD] [PAD] [PAD] [PAD] [PAD] [PAD] [PAD] [PAD] [PAD] [PAD] [PAD] [PAD] [PAD] [PAD] [PAD] [PAD] [PAD] [PAD] [PAD] [PAD] [PAD] [PAD] [PAD] [PAD] [PAD] [PAD] [PAD] [PAD] [PAD] [PAD] [PAD] [PAD] [PAD] [PAD] [PAD] [PAD] [PAD] [PAD] [PAD] [PAD] [PAD] [PAD] [PAD] [PAD] [PAD] [PAD] [PAD] [PAD] [PAD] [PAD] [PAD] [PAD] [PAD] [PAD] [PAD] [PAD] [PAD] [PAD] [PAD] [PAD] [PAD] [PAD] [PAD] [PAD] [PAD] [PAD] [PAD] [PAD] [PAD] [PAD] [PAD] [PAD] [PAD] [PAD] [PAD] [PAD] [PAD] [PAD] [PAD] [PAD] [PAD] [PAD] [PAD] [PAD] [PAD] [PAD] [PAD] [PAD] [PAD] [PAD] [PAD] [PAD] [PAD] [PAD] [PAD] [PAD] [PAD] [PAD] [PAD] [PAD] [PAD] [PAD] [PAD] [PAD] [PAD] [PAD] [PAD] [PAD] [PAD] [PAD] [PAD] [PAD] [PAD] [PAD] [PAD] [PAD] [PAD] [PAD] [PAD] [PAD] [PAD] [PAD] [PAD] [PAD] [PAD] [PAD] [PAD] [PAD] [PAD] [PAD] [PAD] [PAD] [PAD] [PAD] [PAD] [PAD] [PAD] [PAD] [PAD] [PAD] [PAD] [PAD] [PAD] [PAD] [PAD] [PAD] [PAD] [PAD] [PAD] [PAD] [PAD] [PAD] [PAD] [PAD] [PAD] [PAD] [PAD] [PAD] [PAD] [PAD] [PAD] [PAD] [PAD] [PAD] [PAD] [PAD] [PAD] [PAD] [PAD] [PAD] [PAD] [PAD] [PAD] [PAD] [PAD] [PAD] [PAD] [PAD] [PAD] [PAD] [PAD] [PAD] [PAD] [PAD] [PAD] [PAD] [PAD] [PAD] [PAD] [PAD] [PAD] [PAD]'"
            ],
            "application/vnd.google.colaboratory.intrinsic+json": {
              "type": "string"
            }
          },
          "metadata": {},
          "execution_count": 34
        }
      ],
      "source": [
        "tokenizer.decode(example['input_ids'])"
      ]
    },
    {
      "cell_type": "code",
      "execution_count": 35,
      "metadata": {
        "colab": {
          "base_uri": "https://localhost:8080/"
        },
        "id": "ty4hTXCfoORS",
        "outputId": "40483150-3566-4417-ff0e-9b346b547017"
      },
      "outputs": [
        {
          "output_type": "execute_result",
          "data": {
            "text/plain": [
              "4"
            ]
          },
          "metadata": {},
          "execution_count": 35
        }
      ],
      "source": [
        "example['labels']"
      ]
    },
    {
      "cell_type": "code",
      "execution_count": 36,
      "metadata": {
        "colab": {
          "base_uri": "https://localhost:8080/"
        },
        "id": "Z3DTGXxKpgrh",
        "outputId": "17cb98d7-9e50-4e6c-9a36-06aa929f43ad"
      },
      "outputs": [
        {
          "output_type": "execute_result",
          "data": {
            "text/plain": [
              "DatasetDict({\n",
              "    train: Dataset({\n",
              "        features: ['input_ids', 'attention_mask', 'labels'],\n",
              "        num_rows: 48000\n",
              "    })\n",
              "    validation: Dataset({\n",
              "        features: ['input_ids', 'attention_mask', 'labels'],\n",
              "        num_rows: 6000\n",
              "    })\n",
              "    test: Dataset({\n",
              "        features: ['input_ids', 'attention_mask', 'labels'],\n",
              "        num_rows: 6000\n",
              "    })\n",
              "})"
            ]
          },
          "metadata": {},
          "execution_count": 36
        }
      ],
      "source": [
        "encoded_dataset"
      ]
    },
    {
      "cell_type": "markdown",
      "source": [
        "Set the format of encoded_dataset to PyTorch tensors. This will turn the training, validation and test sets into standard PyTorch [datasets]"
      ],
      "metadata": {
        "id": "9u9Q4vPoizkF"
      }
    },
    {
      "cell_type": "code",
      "execution_count": 37,
      "metadata": {
        "id": "zouV0Nr9oOWN"
      },
      "outputs": [],
      "source": [
        "encoded_dataset.set_format(\"torch\")"
      ]
    },
    {
      "cell_type": "markdown",
      "metadata": {
        "id": "9n8yGtvdsckK"
      },
      "source": [
        "## Define model\n",
        "\n",
        "Define a model that includes a pre-trained base (i.e. the weights from the distilbert-base-uncased) which is loaded, with a random initialized classification head (linear layer) on top. Fine-tune this head, together with the pre-trained base on a labeled dataset. Set the id2label and label2id mappings to make sure the output layer has `len(labels)` output neurons."
      ]
    },
    {
      "cell_type": "code",
      "execution_count": 38,
      "metadata": {
        "colab": {
          "base_uri": "https://localhost:8080/",
          "height": 161,
          "referenced_widgets": [
            "5e99f5e6e9d0458fa36736c2480d3476",
            "79af6688a0b64ecea8c8d836067cf255",
            "02f501527f4a4c04b15870b3a1b7667d",
            "a10b22a63bdf492db070054fbb1f4ecc",
            "72d07ec389374accb3f47f3049f29b75",
            "737930490f5d4273a96bbbe13e67ab5a",
            "f6f0f64a9f564fc3b4006f0df314937e",
            "924cb3f665dc4849ac9b176c1389eaa7",
            "36b94a7ab3064d9d916df697345a094b",
            "6ee436bbaf894b62bc2dd3716e64b3c0",
            "60667b7f6d5d46e0bc52df9f276d71bd"
          ]
        },
        "id": "PA49REZ2srhp",
        "outputId": "2756b5c6-6bd3-4a8f-a9ce-b27a1ba2dfba"
      },
      "outputs": [
        {
          "output_type": "display_data",
          "data": {
            "text/plain": [
              "Downloading:   0%|          | 0.00/256M [00:00<?, ?B/s]"
            ],
            "application/vnd.jupyter.widget-view+json": {
              "version_major": 2,
              "version_minor": 0,
              "model_id": "5e99f5e6e9d0458fa36736c2480d3476"
            }
          },
          "metadata": {}
        },
        {
          "output_type": "stream",
          "name": "stderr",
          "text": [
            "Some weights of the model checkpoint at distilbert-base-uncased were not used when initializing DistilBertForSequenceClassification: ['vocab_transform.bias', 'vocab_layer_norm.bias', 'vocab_transform.weight', 'vocab_projector.weight', 'vocab_layer_norm.weight', 'vocab_projector.bias']\n",
            "- This IS expected if you are initializing DistilBertForSequenceClassification from the checkpoint of a model trained on another task or with another architecture (e.g. initializing a BertForSequenceClassification model from a BertForPreTraining model).\n",
            "- This IS NOT expected if you are initializing DistilBertForSequenceClassification from the checkpoint of a model that you expect to be exactly identical (initializing a BertForSequenceClassification model from a BertForSequenceClassification model).\n",
            "Some weights of DistilBertForSequenceClassification were not initialized from the model checkpoint at distilbert-base-uncased and are newly initialized: ['classifier.weight', 'classifier.bias', 'pre_classifier.bias', 'pre_classifier.weight']\n",
            "You should probably TRAIN this model on a down-stream task to be able to use it for predictions and inference.\n"
          ]
        }
      ],
      "source": [
        "from transformers import AutoModelForSequenceClassification\n",
        "\n",
        "model = AutoModelForSequenceClassification.from_pretrained(\"distilbert-base-uncased\",\n",
        "                                                           num_labels=len(labels),\n",
        "                                                           id2label=id2label,\n",
        "                                                           label2id=label2id)"
      ]
    },
    {
      "cell_type": "markdown",
      "metadata": {
        "id": "MvkxV0__tFmP"
      },
      "source": [
        "## Train the model!\n",
        "\n",
        "We are going to train the model using native Pytorch. This requires us to define 2 things: \n",
        "\n",
        "* `DataLoader`:Create a DataLoader for your training, validation and test datasets so you can iterate over batches of data.\n",
        "* `Optimizer`\n",
        "* `Learning rate scheduler`\n",
        "\n"
      ]
    },
    {
      "cell_type": "code",
      "execution_count": 39,
      "metadata": {
        "id": "NWt_8vCltFII"
      },
      "outputs": [],
      "source": [
        "fixed_batch_size = 32\n",
        "fixed_learning_rate = 1e-5\n",
        "num_epochs = 5"
      ]
    },
    {
      "cell_type": "markdown",
      "metadata": {
        "id": "2pcGeLCYpJW2"
      },
      "source": [
        "Use the RandomSampler for feeding training data and SequentialSampler for feeding validation data."
      ]
    },
    {
      "cell_type": "code",
      "execution_count": 40,
      "metadata": {
        "id": "fyRYkf1oppyk"
      },
      "outputs": [],
      "source": [
        "#DataLoader\n",
        "from torch.utils.data import  DataLoader, RandomSampler, SequentialSampler\n",
        "train_sampler = RandomSampler(encoded_dataset[\"train\"])\n",
        "train_dataloader = DataLoader(encoded_dataset[\"train\"], sampler=train_sampler, batch_size = fixed_batch_size)\n",
        "\n",
        "val_sampler = SequentialSampler(encoded_dataset[\"validation\"])\n",
        "eval_dataloader = DataLoader(encoded_dataset[\"validation\"],sampler=val_sampler, batch_size = fixed_batch_size)"
      ]
    },
    {
      "cell_type": "code",
      "execution_count": 41,
      "metadata": {
        "id": "J7EIa4d2sao5"
      },
      "outputs": [],
      "source": [
        "#Optimizer\n",
        "from torch.optim import AdamW\n",
        "\n",
        "optimizer_learning_rate = 1e-5\n",
        "optimizer_adam_epsilon = 1e-8\n",
        "\n",
        "no_decay = ['bias', 'LayerNorm.weight']\n",
        "optimizer_grouped_parameters = [\n",
        "    {'params': [p for n, p in model.named_parameters() if not any(nd in n for nd in no_decay)],\n",
        "     'weight_decay_rate': 0.2},\n",
        "    {'params': [p for n, p in model.named_parameters() if any(nd in n for nd in no_decay)],\n",
        "     'weight_decay_rate': 0.0}\n",
        "]\n",
        "\n",
        "optimizer = AdamW(optimizer_grouped_parameters, lr = optimizer_learning_rate, eps=optimizer_adam_epsilon)\n"
      ]
    },
    {
      "cell_type": "code",
      "execution_count": 42,
      "metadata": {
        "id": "rW_hl8-ps0JJ"
      },
      "outputs": [],
      "source": [
        "#Learning rate scheduler \n",
        "\n",
        "from transformers import get_scheduler\n",
        "\n",
        "num_training_steps = num_epochs * len(train_dataloader)\n",
        "\n",
        "lr_scheduler = get_scheduler(name=\"linear\", optimizer = optimizer, num_warmup_steps=0, num_training_steps=num_training_steps)"
      ]
    },
    {
      "cell_type": "markdown",
      "metadata": {
        "id": "M3WoGSMOuEqA"
      },
      "source": [
        "Compute accuracy, precision, recall, F-measure while training. For this, define the multi_class_metric function."
      ]
    },
    {
      "cell_type": "code",
      "execution_count": 43,
      "metadata": {
        "id": "PNjiVr3wgMrF"
      },
      "outputs": [],
      "source": [
        "# Function to calculate the accuracy, precision, recall, F-measure of our predictions vs labels\n",
        "from sklearn.metrics import precision_recall_fscore_support\n",
        "\n",
        "def multi_class_metric(labels,preds):\n",
        "    pred_flat = preds.flatten()\n",
        "    labels_flat = labels.flatten()\n",
        "    accuracy = np.sum(pred_flat == labels_flat) / len(labels_flat)\n",
        "    precision_macro, recall_macro, f1_macro_average,_ = precision_recall_fscore_support(labels,preds,average='macro',zero_division = 0)\n",
        "    # return as dictionary\n",
        "    metrics = {\n",
        "               'f1': f1_macro_average,\n",
        "               'accuracy': accuracy,\n",
        "               'precision': precision_macro,\n",
        "               'recall': recall_macro\n",
        "               }\n",
        "    return metrics"
      ]
    },
    {
      "cell_type": "code",
      "execution_count": 44,
      "metadata": {
        "colab": {
          "base_uri": "https://localhost:8080/"
        },
        "id": "TJ0sp06fDAX0",
        "outputId": "2b7e7d60-f5b1-4618-ec13-e94c9f17f53e"
      },
      "outputs": [
        {
          "output_type": "execute_result",
          "data": {
            "text/plain": [
              "DistilBertForSequenceClassification(\n",
              "  (distilbert): DistilBertModel(\n",
              "    (embeddings): Embeddings(\n",
              "      (word_embeddings): Embedding(30522, 768, padding_idx=0)\n",
              "      (position_embeddings): Embedding(512, 768)\n",
              "      (LayerNorm): LayerNorm((768,), eps=1e-12, elementwise_affine=True)\n",
              "      (dropout): Dropout(p=0.1, inplace=False)\n",
              "    )\n",
              "    (transformer): Transformer(\n",
              "      (layer): ModuleList(\n",
              "        (0): TransformerBlock(\n",
              "          (attention): MultiHeadSelfAttention(\n",
              "            (dropout): Dropout(p=0.1, inplace=False)\n",
              "            (q_lin): Linear(in_features=768, out_features=768, bias=True)\n",
              "            (k_lin): Linear(in_features=768, out_features=768, bias=True)\n",
              "            (v_lin): Linear(in_features=768, out_features=768, bias=True)\n",
              "            (out_lin): Linear(in_features=768, out_features=768, bias=True)\n",
              "          )\n",
              "          (sa_layer_norm): LayerNorm((768,), eps=1e-12, elementwise_affine=True)\n",
              "          (ffn): FFN(\n",
              "            (dropout): Dropout(p=0.1, inplace=False)\n",
              "            (lin1): Linear(in_features=768, out_features=3072, bias=True)\n",
              "            (lin2): Linear(in_features=3072, out_features=768, bias=True)\n",
              "            (activation): GELUActivation()\n",
              "          )\n",
              "          (output_layer_norm): LayerNorm((768,), eps=1e-12, elementwise_affine=True)\n",
              "        )\n",
              "        (1): TransformerBlock(\n",
              "          (attention): MultiHeadSelfAttention(\n",
              "            (dropout): Dropout(p=0.1, inplace=False)\n",
              "            (q_lin): Linear(in_features=768, out_features=768, bias=True)\n",
              "            (k_lin): Linear(in_features=768, out_features=768, bias=True)\n",
              "            (v_lin): Linear(in_features=768, out_features=768, bias=True)\n",
              "            (out_lin): Linear(in_features=768, out_features=768, bias=True)\n",
              "          )\n",
              "          (sa_layer_norm): LayerNorm((768,), eps=1e-12, elementwise_affine=True)\n",
              "          (ffn): FFN(\n",
              "            (dropout): Dropout(p=0.1, inplace=False)\n",
              "            (lin1): Linear(in_features=768, out_features=3072, bias=True)\n",
              "            (lin2): Linear(in_features=3072, out_features=768, bias=True)\n",
              "            (activation): GELUActivation()\n",
              "          )\n",
              "          (output_layer_norm): LayerNorm((768,), eps=1e-12, elementwise_affine=True)\n",
              "        )\n",
              "        (2): TransformerBlock(\n",
              "          (attention): MultiHeadSelfAttention(\n",
              "            (dropout): Dropout(p=0.1, inplace=False)\n",
              "            (q_lin): Linear(in_features=768, out_features=768, bias=True)\n",
              "            (k_lin): Linear(in_features=768, out_features=768, bias=True)\n",
              "            (v_lin): Linear(in_features=768, out_features=768, bias=True)\n",
              "            (out_lin): Linear(in_features=768, out_features=768, bias=True)\n",
              "          )\n",
              "          (sa_layer_norm): LayerNorm((768,), eps=1e-12, elementwise_affine=True)\n",
              "          (ffn): FFN(\n",
              "            (dropout): Dropout(p=0.1, inplace=False)\n",
              "            (lin1): Linear(in_features=768, out_features=3072, bias=True)\n",
              "            (lin2): Linear(in_features=3072, out_features=768, bias=True)\n",
              "            (activation): GELUActivation()\n",
              "          )\n",
              "          (output_layer_norm): LayerNorm((768,), eps=1e-12, elementwise_affine=True)\n",
              "        )\n",
              "        (3): TransformerBlock(\n",
              "          (attention): MultiHeadSelfAttention(\n",
              "            (dropout): Dropout(p=0.1, inplace=False)\n",
              "            (q_lin): Linear(in_features=768, out_features=768, bias=True)\n",
              "            (k_lin): Linear(in_features=768, out_features=768, bias=True)\n",
              "            (v_lin): Linear(in_features=768, out_features=768, bias=True)\n",
              "            (out_lin): Linear(in_features=768, out_features=768, bias=True)\n",
              "          )\n",
              "          (sa_layer_norm): LayerNorm((768,), eps=1e-12, elementwise_affine=True)\n",
              "          (ffn): FFN(\n",
              "            (dropout): Dropout(p=0.1, inplace=False)\n",
              "            (lin1): Linear(in_features=768, out_features=3072, bias=True)\n",
              "            (lin2): Linear(in_features=3072, out_features=768, bias=True)\n",
              "            (activation): GELUActivation()\n",
              "          )\n",
              "          (output_layer_norm): LayerNorm((768,), eps=1e-12, elementwise_affine=True)\n",
              "        )\n",
              "        (4): TransformerBlock(\n",
              "          (attention): MultiHeadSelfAttention(\n",
              "            (dropout): Dropout(p=0.1, inplace=False)\n",
              "            (q_lin): Linear(in_features=768, out_features=768, bias=True)\n",
              "            (k_lin): Linear(in_features=768, out_features=768, bias=True)\n",
              "            (v_lin): Linear(in_features=768, out_features=768, bias=True)\n",
              "            (out_lin): Linear(in_features=768, out_features=768, bias=True)\n",
              "          )\n",
              "          (sa_layer_norm): LayerNorm((768,), eps=1e-12, elementwise_affine=True)\n",
              "          (ffn): FFN(\n",
              "            (dropout): Dropout(p=0.1, inplace=False)\n",
              "            (lin1): Linear(in_features=768, out_features=3072, bias=True)\n",
              "            (lin2): Linear(in_features=3072, out_features=768, bias=True)\n",
              "            (activation): GELUActivation()\n",
              "          )\n",
              "          (output_layer_norm): LayerNorm((768,), eps=1e-12, elementwise_affine=True)\n",
              "        )\n",
              "        (5): TransformerBlock(\n",
              "          (attention): MultiHeadSelfAttention(\n",
              "            (dropout): Dropout(p=0.1, inplace=False)\n",
              "            (q_lin): Linear(in_features=768, out_features=768, bias=True)\n",
              "            (k_lin): Linear(in_features=768, out_features=768, bias=True)\n",
              "            (v_lin): Linear(in_features=768, out_features=768, bias=True)\n",
              "            (out_lin): Linear(in_features=768, out_features=768, bias=True)\n",
              "          )\n",
              "          (sa_layer_norm): LayerNorm((768,), eps=1e-12, elementwise_affine=True)\n",
              "          (ffn): FFN(\n",
              "            (dropout): Dropout(p=0.1, inplace=False)\n",
              "            (lin1): Linear(in_features=768, out_features=3072, bias=True)\n",
              "            (lin2): Linear(in_features=3072, out_features=768, bias=True)\n",
              "            (activation): GELUActivation()\n",
              "          )\n",
              "          (output_layer_norm): LayerNorm((768,), eps=1e-12, elementwise_affine=True)\n",
              "        )\n",
              "      )\n",
              "    )\n",
              "  )\n",
              "  (pre_classifier): Linear(in_features=768, out_features=768, bias=True)\n",
              "  (classifier): Linear(in_features=768, out_features=6, bias=True)\n",
              "  (dropout): Dropout(p=0.2, inplace=False)\n",
              ")"
            ]
          },
          "metadata": {},
          "execution_count": 44
        }
      ],
      "source": [
        "model.to(device)"
      ]
    },
    {
      "cell_type": "markdown",
      "metadata": {
        "id": "BFvKwsQxY8j5"
      },
      "source": [
        "Create a function for formatting elapsed times as hh:mm:ss"
      ]
    },
    {
      "cell_type": "code",
      "execution_count": 45,
      "metadata": {
        "id": "MJl3_XGYmH_3"
      },
      "outputs": [],
      "source": [
        "import time\n",
        "import datetime\n",
        "\n",
        "def format_time(elapsed):\n",
        "    '''\n",
        "    Takes a time in seconds and returns a string hh:mm:ss\n",
        "    '''\n",
        "    # Round to the nearest second.\n",
        "    elapsed_rounded = int(round((elapsed)))\n",
        "    \n",
        "    # Format as hh:mm:ss\n",
        "    return str(datetime.timedelta(seconds=elapsed_rounded))\n"
      ]
    },
    {
      "cell_type": "markdown",
      "metadata": {
        "id": "ChQzme1oXkPk"
      },
      "source": [
        "Create two directories to store **checkpoint** and **best model**"
      ]
    },
    {
      "cell_type": "code",
      "execution_count": 46,
      "metadata": {
        "id": "bcJJWtI0XCAn"
      },
      "outputs": [],
      "source": [
        "%mkdir checkpoint best_model"
      ]
    },
    {
      "cell_type": "markdown",
      "metadata": {
        "id": "NIMRwdAiXa8h"
      },
      "source": [
        "Saving function\n",
        "**save_ckp** is created to save checkpoint, the latest one and the best one. This creates flexibility: either you are interested in the state of the latest checkpoint or the best checkpoint."
      ]
    },
    {
      "cell_type": "code",
      "execution_count": 47,
      "metadata": {
        "id": "KKL5-NO9XQ9S"
      },
      "outputs": [],
      "source": [
        "import shutil\n",
        "def save_ckp(state, is_best, checkpoint_path, best_model_path):\n",
        "    \"\"\"\n",
        "    state: checkpoint we want to save\n",
        "    is_best: is this the best checkpoint; min validation loss\n",
        "    checkpoint_path: path to save checkpoint\n",
        "    best_model_path: path to save best model\n",
        "    \"\"\"\n",
        "    f_path = checkpoint_path\n",
        "    # save checkpoint data to the path given, checkpoint_path\n",
        "    torch.save(state, f_path)\n",
        "    # if it is a best model, min validation loss\n",
        "    if is_best:\n",
        "        best_fpath = best_model_path\n",
        "        # copy that checkpoint file to best path given, best_model_path\n",
        "        shutil.copyfile(f_path, best_fpath)"
      ]
    },
    {
      "cell_type": "markdown",
      "metadata": {
        "id": "lidMA6MA0UJf"
      },
      "source": [
        "Loading Function.\n",
        "\n",
        "**load_chkp** is created for loading model. \n",
        "\n",
        "It takes:\n",
        "*   location of the saved checkpoint\n",
        "*   model instance that you want to load the state to\n",
        "*   the optimizer"
      ]
    },
    {
      "cell_type": "code",
      "execution_count": 48,
      "metadata": {
        "id": "dIhiLbox0Y7V"
      },
      "outputs": [],
      "source": [
        "def load_ckp(checkpoint_fpath, model, optimizer):\n",
        "    \"\"\"\n",
        "    checkpoint_path: path to save checkpoint\n",
        "    model: model that we want to load checkpoint parameters into       \n",
        "    optimizer: optimizer we defined in previous training\n",
        "    \"\"\"\n",
        "    # load check point\n",
        "    checkpoint = torch.load(checkpoint_fpath)\n",
        "    # initialize state_dict from checkpoint to model\n",
        "    model.load_state_dict(checkpoint['state_dict'])\n",
        "    # initialize optimizer from checkpoint to optimizer\n",
        "    optimizer.load_state_dict(checkpoint['optimizer'])\n",
        "    # initialize valid_loss_min from checkpoint to valid_loss_min\n",
        "    valid_loss_min = checkpoint['valid_loss_min']\n",
        "    # return model, optimizer, epoch value, min validation loss \n",
        "    return model, optimizer, checkpoint['epoch'], valid_loss_min\n"
      ]
    },
    {
      "cell_type": "markdown",
      "metadata": {
        "id": "2jq2NwPW2u2-"
      },
      "source": [
        "Start Training "
      ]
    },
    {
      "cell_type": "code",
      "execution_count": 49,
      "metadata": {
        "colab": {
          "base_uri": "https://localhost:8080/",
          "height": 1000,
          "referenced_widgets": [
            "178ba2261dd44e749ab7020c3a9f06d8",
            "faabc5d36fe949819b3894d1741dbd8b",
            "6bb66b1d09b84b3dbe24a607e8cf138f",
            "d2eca7697a9e4a1a83c895b65e84761b",
            "b1542fd24a994aa4bcaed0770ac784ba",
            "0d50f3bec3014a0ba922058b3e154f18",
            "9056a7b2d9ac47f2a1ae90ed6aca0033",
            "275954c7ab41458a95fa11b50756ebff",
            "b9604f189d37450aa4b73254296edcc1",
            "653d76d15a3541ff8198e9f1aeead63f",
            "4be2067d50664d8db02f42e7bdff42ad"
          ]
        },
        "id": "OnGI2PHjyFtK",
        "outputId": "e5b7cb4c-662a-4f30-e65f-98f399743f26"
      },
      "outputs": [
        {
          "data": {
            "application/vnd.jupyter.widget-view+json": {
              "model_id": "178ba2261dd44e749ab7020c3a9f06d8",
              "version_major": 2,
              "version_minor": 0
            },
            "text/plain": [
              "  0%|          | 0/5 [00:00<?, ?it/s]"
            ]
          },
          "metadata": {},
          "output_type": "display_data"
        },
        {
          "output_type": "stream",
          "name": "stdout",
          "text": [
            "\n",
            "======== Epoch 1 / 5 ========\n",
            "Training...\n",
            " Training f1-score: 0.76\n",
            " Training Accuracy: 0.78\n",
            " Training Precision: 0.78\n",
            " Training Recall: 0.79\n",
            "  Average training loss: 0.66\n",
            "  Training epoch took: 0:20:32\n",
            "\n",
            "Running Validation...\n",
            " Validation f1-score: 0.81\n",
            " Validation Accuracy: 0.83\n",
            " Validation Precision: 0.83\n",
            " Validation Recall: 0.83\n",
            "  Validation Loss: 0.99\n",
            "  Validation took: 0:00:51\n",
            "Validation loss decreased (inf --> 0.993063).  Saving model ...\n",
            "\n",
            "======== Epoch 2 / 5 ========\n",
            "Training...\n",
            " Training f1-score: 0.84\n",
            " Training Accuracy: 0.86\n",
            " Training Precision: 0.85\n",
            " Training Recall: 0.86\n",
            "  Average training loss: 0.44\n",
            "  Training epoch took: 0:20:32\n",
            "\n",
            "Running Validation...\n",
            " Validation f1-score: 0.83\n",
            " Validation Accuracy: 0.85\n",
            " Validation Precision: 0.85\n",
            " Validation Recall: 0.85\n",
            "  Validation Loss: 0.90\n",
            "  Validation took: 0:00:51\n",
            "Validation loss decreased (0.993063 --> 0.904412).  Saving model ...\n",
            "\n",
            "======== Epoch 3 / 5 ========\n",
            "Training...\n",
            " Training f1-score: 0.86\n",
            " Training Accuracy: 0.88\n",
            " Training Precision: 0.87\n",
            " Training Recall: 0.88\n",
            "  Average training loss: 0.38\n",
            "  Training epoch took: 0:20:32\n",
            "\n",
            "Running Validation...\n",
            " Validation f1-score: 0.84\n",
            " Validation Accuracy: 0.85\n",
            " Validation Precision: 0.85\n",
            " Validation Recall: 0.85\n",
            "  Validation Loss: 0.88\n",
            "  Validation took: 0:00:51\n",
            "Validation loss decreased (0.904412 --> 0.878891).  Saving model ...\n",
            "\n",
            "======== Epoch 4 / 5 ========\n",
            "Training...\n",
            " Training f1-score: 0.88\n",
            " Training Accuracy: 0.89\n",
            " Training Precision: 0.89\n",
            " Training Recall: 0.89\n",
            "  Average training loss: 0.34\n",
            "  Training epoch took: 0:20:32\n",
            "\n",
            "Running Validation...\n",
            " Validation f1-score: 0.84\n",
            " Validation Accuracy: 0.86\n",
            " Validation Precision: 0.85\n",
            " Validation Recall: 0.86\n",
            "  Validation Loss: 0.88\n",
            "  Validation took: 0:00:51\n",
            "Validation loss decreased (0.878891 --> 0.878247).  Saving model ...\n",
            "\n",
            "======== Epoch 5 / 5 ========\n",
            "Training...\n",
            " Training f1-score: 0.89\n",
            " Training Accuracy: 0.90\n",
            " Training Precision: 0.90\n",
            " Training Recall: 0.90\n",
            "  Average training loss: 0.31\n",
            "  Training epoch took: 0:20:32\n",
            "\n",
            "Running Validation...\n",
            " Validation f1-score: 0.84\n",
            " Validation Accuracy: 0.85\n",
            " Validation Precision: 0.85\n",
            " Validation Recall: 0.85\n",
            "  Validation Loss: 0.88\n",
            "  Validation took: 0:00:51\n",
            "\n",
            "Training complete!\n",
            "\n",
            "Total time taken on the training data across all epochs: 1:42:40 (h:mm:ss)\n",
            "Average time take per epoch on training data: 0:20:32 (h:mm:ss)\n",
            "\n",
            "Total time taken on the validation data across all epochs: 0:04:14 (h:mm:ss)\n",
            "Average time take per epoch on validation data: 0:00:51 (h:mm:ss)\n",
            "\n",
            "Total training time taken across all epochs [Validation and model saving time included]: 1:47:30 (h:mm:ss)\n",
            "Average time take per epoch [Validation and model saving time included]: 0:21:30 (h:mm:ss)\n"
          ]
        }
      ],
      "source": [
        "import random\n",
        "from tqdm.auto import tqdm\n",
        "\n",
        "\n",
        "# This training code is based on the `run_glue.py` script here:\n",
        "# https://github.com/huggingface/transformers/blob/5bfcd0485ece086ebcbed2d008813037968a9e58/examples/run_glue.py#L128\n",
        "\n",
        "\n",
        "random.seed(fix_seed)\n",
        "np.random.seed(fix_seed)\n",
        "torch.manual_seed(fix_seed)\n",
        "torch.cuda.manual_seed_all(fix_seed)\n",
        "\n",
        "\n",
        "\n",
        "# We'll store a number of quantities such as training and validation loss, \n",
        "# validation accuracy, and timings.\n",
        "training_stats = []\n",
        "\n",
        "# Measure the total training time for the whole run.\n",
        "total_t0 = time.time()\n",
        "\n",
        "progress_bar = tqdm(range(num_epochs))\n",
        "\n",
        "\n",
        "valid_loss_min_input = np.Inf\n",
        "# Initialize tracker for minimum validation loss\n",
        "valid_loss_min = valid_loss_min_input \n",
        "# Create paths for storing the current checkpoint and best model checkpoint\n",
        "checkpoint_path = \"/content/checkpoint/current_checkpoint.pt\"\n",
        "best_model_path = \"/content/best_model/best_model.pt\"\n",
        "\n",
        "# Reset time taken for Training Data and Validation Data across all epochs\n",
        "training_time_only = 0\n",
        "validation_time_only = 0\n",
        "\n",
        "# For each epoch...\n",
        "for epoch_i in range(0, num_epochs):\n",
        "    \n",
        "    # ========================================\n",
        "    #               Training\n",
        "    # ========================================\n",
        "    \n",
        "    # Perform one full pass over the training set.\n",
        "\n",
        "    print(\"\")\n",
        "    print('======== Epoch {:} / {:} ========'.format(epoch_i + 1, num_epochs))\n",
        "    print('Training...')\n",
        "\n",
        "    \n",
        "\n",
        "    # Reset the total loss and other metrics for this epoch.\n",
        "    total_train_loss = 0\n",
        "    total_train_f1 = 0\n",
        "    total_train_accuracy = 0\n",
        "    total_train_precision = 0\n",
        "    total_train_recall = 0\n",
        "\n",
        "    # Reset the time taken on Training data and Validation data across this epoch\n",
        "    training_time_epoch = 0\n",
        "    validation_time_epoch = 0\n",
        "\n",
        "    # Measure how long the training epoch takes.\n",
        "    train_t0 = time.time()\n",
        "\n",
        "    # Put the model into training mode.\n",
        "    \n",
        "    model.train()\n",
        "    for batch in train_dataloader:\n",
        "      train_batch = {k: v.to(device) for k, v in batch.items()}\n",
        "      train_outputs = model(**train_batch)\n",
        "      train_loss = train_outputs.loss\n",
        "      train_logits = train_outputs.logits\n",
        "      train_predictions = torch.argmax(train_logits, dim=-1)\n",
        "      total_train_loss += train_loss.item()\n",
        "      train_metrics= multi_class_metric(train_predictions.detach().cpu().numpy(), train_batch[\"labels\"].to('cpu').numpy())\n",
        "      train_f1 = train_metrics['f1']\n",
        "      train_accuracy = train_metrics['accuracy']\n",
        "      train_precision =train_metrics['precision']\n",
        "      train_recall = train_metrics['recall']\n",
        "      \n",
        "      total_train_f1 += train_f1\n",
        "      total_train_accuracy += train_accuracy\n",
        "      total_train_precision += train_precision\n",
        "      total_train_recall += train_recall\n",
        "      train_loss.backward()\n",
        "\n",
        "      # Clip the norm of the gradients to 1.0.\n",
        "      #This is to help prevent the \"exploding gradients\" problem.\n",
        "      torch.nn.utils.clip_grad_norm_(model.parameters(), 1.0) \n",
        "\n",
        "      # Update parameters and take a step using the computed gradient.\n",
        "      # The optimizer dictates the \"update rule\"--how the parameters are\n",
        "      # modified based on their gradients, the learning rate, etc.\n",
        "      optimizer.step()\n",
        "      lr_scheduler.step()\n",
        "      optimizer.zero_grad() \n",
        "    \n",
        "    # Measure how long the Training run took.\n",
        "    training_time_epoch = time.time() - train_t0   \n",
        "      \n",
        "    # Calculate the average loss over all of the batches.\n",
        "    avg_train_loss = total_train_loss / len(train_dataloader)  \n",
        "\n",
        "    # Report the final f1-score for this training run.   \n",
        "    avg_train_f1 = total_train_f1 / len(train_dataloader)\n",
        "\n",
        "    # Report the final accuracy for this training run.   \n",
        "    avg_train_accuracy = total_train_accuracy / len(train_dataloader)\n",
        "\n",
        "    # Report the final precision for this training run.   \n",
        "    avg_train_precision = total_train_precision / len(train_dataloader)\n",
        "\n",
        "    # Report the final recall for this training run.   \n",
        "    avg_train_recall = total_train_recall / len(train_dataloader)\n",
        "\n",
        "              \n",
        "    #Accumulate the total time on trainind data across all epochs  \n",
        "    training_time_only +=  training_time_epoch   \n",
        "\n",
        "    print(\" Training f1-score: {0:.2f}\".format(avg_train_f1)) \n",
        "    print(\" Training Accuracy: {0:.2f}\".format(avg_train_accuracy)) \n",
        "    print(\" Training Precision: {0:.2f}\".format(avg_train_precision)) \n",
        "    print(\" Training Recall: {0:.2f}\".format(avg_train_recall))  \n",
        "    print(\"  Average training loss: {0:.2f}\".format(avg_train_loss))\n",
        "    print(\"  Training epoch took: {:}\".format(format_time(training_time_epoch)))\n",
        "    # ========================================\n",
        "    #               Validation\n",
        "    # ========================================\n",
        "    # After the completion of each training epoch, measure our performance on\n",
        "    # our validation set.\n",
        "\n",
        "    print(\"\")\n",
        "    print(\"Running Validation...\")\n",
        "\n",
        "    val_t0 = time.time()\n",
        "    # Put the model in evaluation mode--the dropout layers behave differently\n",
        "    # during evaluation.\n",
        "    model.eval()\n",
        "\n",
        "    # Tracking variables \n",
        "    total_eval_f1 = 0\n",
        "    total_eval_accuracy = 0\n",
        "    total_eval_precision = 0\n",
        "    total_eval_recall = 0\n",
        "    total_eval_loss = 0\n",
        "\n",
        "\n",
        "    # Evaluate data for one epoch\n",
        "    for batch in eval_dataloader:\n",
        "      val_batch = {k: v.to(device) for k, v in batch.items()}\n",
        "     \n",
        "      # Tell pytorch not to bother with constructing the compute graph during\n",
        "      # the forward pass, since this is only needed for backprop (training).\n",
        "      with torch.no_grad():\n",
        "        val_outputs = model(**val_batch)\n",
        "        \n",
        "      val_loss = val_outputs.loss\n",
        "      val_logits = val_outputs.logits\n",
        "      val_predictions = torch.argmax(val_logits, dim=-1)\n",
        "     \n",
        "      total_eval_loss += val_loss.item()\n",
        "\n",
        "      val_metrics = multi_class_metric(val_predictions.detach().cpu().numpy(), val_batch[\"labels\"].to('cpu').numpy())\n",
        "      val_f1 = val_metrics['f1']\n",
        "      val_accuracy = val_metrics['accuracy']\n",
        "      val_precision =val_metrics['precision']\n",
        "      val_recall = val_metrics['recall']\n",
        "\n",
        "      total_eval_f1 += val_f1\n",
        "      total_eval_accuracy += val_accuracy\n",
        "      total_eval_precision += val_precision\n",
        "      total_eval_recall += val_recall\n",
        "\n",
        "      # Accumulate the validation loss.\n",
        "      total_eval_loss += val_loss.item()\n",
        "        \n",
        "    # Measure how long the validation run took.\n",
        "    validation_time_epoch = time.time() - val_t0\n",
        "\n",
        "    # Report the final metrics for this validation run.   \n",
        "    avg_val_f1 = total_eval_f1 / len(eval_dataloader)\n",
        "    avg_val_accuracy = total_eval_accuracy / len(eval_dataloader)\n",
        "    avg_val_precision = total_eval_precision / len(eval_dataloader)\n",
        "    avg_val_recall = total_eval_recall / len(eval_dataloader)\n",
        "\n",
        "\n",
        "    print(\" Validation f1-score: {0:.2f}\".format(avg_val_f1)) \n",
        "    print(\" Validation Accuracy: {0:.2f}\".format(avg_val_accuracy))\n",
        "    print(\" Validation Precision: {0:.2f}\".format(avg_val_precision)) \n",
        "    print(\" Validation Recall: {0:.2f}\".format(avg_val_recall)) \n",
        "    \n",
        "\n",
        "    # Calculate the average loss over all of the batches.\n",
        "    avg_val_loss = total_eval_loss / len(eval_dataloader)\n",
        "    \n",
        "    \n",
        "    #Accumulate the the total validation time across all epochs \n",
        "    validation_time_only += validation_time_epoch\n",
        "    \n",
        "    print(\"  Validation Loss: {0:.2f}\".format(avg_val_loss))\n",
        "    print(\"  Validation took: {:}\".format(format_time(validation_time_epoch)))\n",
        "\n",
        "    # Record all statistics from this epoch.\n",
        "    training_stats.append(\n",
        "        {\n",
        "            'epoch': epoch_i + 1,\n",
        "            'Training Loss': avg_train_loss,\n",
        "            'Valid. Loss': avg_val_loss,\n",
        "            'Training f1': avg_train_f1,\n",
        "            'Valid. f1': avg_val_f1,\n",
        "            'Training Accur.': avg_train_accuracy,\n",
        "            'Valid. Accur.': avg_val_accuracy,\n",
        "            'Training Precision': avg_train_precision,\n",
        "            'Valid. Precision': avg_val_precision,\n",
        "            'Training Recall': avg_train_recall,\n",
        "            'Valid. Recall': avg_val_recall,\n",
        "            'Training Time': format_time(training_time_epoch),\n",
        "            'Validation Time': format_time(validation_time_epoch)\n",
        "        }\n",
        "    )\n",
        "    # Create checkpoint variable and add important data\n",
        "    checkpoint = {\n",
        "        'epoch': epoch_i + 1,\n",
        "        'valid_loss_min': avg_val_loss,\n",
        "        'state_dict': model.state_dict(),\n",
        "        'optimizer': optimizer.state_dict(),\n",
        "    }\n",
        "        \n",
        "    # Save checkpoint\n",
        "    save_ckp(checkpoint, False, checkpoint_path, best_model_path)\n",
        "    ## Save the model if validation loss has decreased\n",
        "    if avg_val_loss <= valid_loss_min:\n",
        "        print('Validation loss decreased ({:.6f} --> {:.6f}).  Saving model ...'.format(valid_loss_min,avg_val_loss))\n",
        "        # Save checkpoint as best model\n",
        "        save_ckp(checkpoint, True, checkpoint_path, best_model_path)\n",
        "        valid_loss_min = avg_val_loss\n",
        "    progress_bar.update(1)\n",
        "print(\"\")\n",
        "print(\"Training complete!\")\n",
        "total_training_time = time.time() - total_t0\n",
        "\n",
        "# Total Training time (without validation and model saving time)\n",
        "print(\"\\nTotal time taken on the training data across all epochs: {:} (h:mm:ss)\".format(format_time(training_time_only)))\n",
        "print(\"Average time take per epoch on training data: {:} (h:mm:ss)\".format(format_time(training_time_only/num_epochs)))\n",
        "\n",
        "# Total Validation time (without training and model saving time)\n",
        "print(\"\\nTotal time taken on the validation data across all epochs: {:} (h:mm:ss)\".format(format_time(validation_time_only)))\n",
        "print(\"Average time take per epoch on validation data: {:} (h:mm:ss)\".format(format_time(validation_time_only/num_epochs)))\n",
        "\n",
        "#Total time taken for training, Validation and model saving\n",
        "print(\"\\nTotal training time taken across all epochs [Validation and model saving time included]: {:} (h:mm:ss)\".format(format_time(total_training_time)))\n",
        "print(\"Average time take per epoch [Validation and model saving time included]: {:} (h:mm:ss)\".format(format_time(total_training_time/num_epochs)))\n",
        "\n",
        "\n"
      ]
    },
    {
      "cell_type": "markdown",
      "metadata": {
        "id": "KHusGHxBiSSz"
      },
      "source": [
        "**The best model is saved at epoch 5. The training f1-score: 0.88 .The validation f1-score: 0.84**"
      ]
    },
    {
      "cell_type": "code",
      "execution_count": 50,
      "metadata": {
        "id": "CgOm-DMdx-7Z",
        "colab": {
          "base_uri": "https://localhost:8080/",
          "height": 255
        },
        "outputId": "a690c9cd-b8ae-4c2a-fcba-ea1bbfc526f9"
      },
      "outputs": [
        {
          "output_type": "execute_result",
          "data": {
            "text/plain": [
              "<pandas.io.formats.style.Styler at 0x7f75e00e90d0>"
            ],
            "text/html": [
              "<style type=\"text/css\">\n",
              "#T_68472_ th {\n",
              "  max-width: 70px;\n",
              "}\n",
              "</style>\n",
              "<table id=\"T_68472_\" class=\"dataframe\">\n",
              "  <thead>\n",
              "    <tr>\n",
              "      <th class=\"blank level0\" >&nbsp;</th>\n",
              "      <th class=\"col_heading level0 col0\" >Training Loss</th>\n",
              "      <th class=\"col_heading level0 col1\" >Valid. Loss</th>\n",
              "      <th class=\"col_heading level0 col2\" >Training f1</th>\n",
              "      <th class=\"col_heading level0 col3\" >Valid. f1</th>\n",
              "      <th class=\"col_heading level0 col4\" >Training Accur.</th>\n",
              "      <th class=\"col_heading level0 col5\" >Valid. Accur.</th>\n",
              "      <th class=\"col_heading level0 col6\" >Training Precision</th>\n",
              "      <th class=\"col_heading level0 col7\" >Valid. Precision</th>\n",
              "      <th class=\"col_heading level0 col8\" >Training Recall</th>\n",
              "      <th class=\"col_heading level0 col9\" >Valid. Recall</th>\n",
              "      <th class=\"col_heading level0 col10\" >Training Time</th>\n",
              "      <th class=\"col_heading level0 col11\" >Validation Time</th>\n",
              "    </tr>\n",
              "    <tr>\n",
              "      <th class=\"index_name level0\" >epoch</th>\n",
              "      <th class=\"blank col0\" >&nbsp;</th>\n",
              "      <th class=\"blank col1\" >&nbsp;</th>\n",
              "      <th class=\"blank col2\" >&nbsp;</th>\n",
              "      <th class=\"blank col3\" >&nbsp;</th>\n",
              "      <th class=\"blank col4\" >&nbsp;</th>\n",
              "      <th class=\"blank col5\" >&nbsp;</th>\n",
              "      <th class=\"blank col6\" >&nbsp;</th>\n",
              "      <th class=\"blank col7\" >&nbsp;</th>\n",
              "      <th class=\"blank col8\" >&nbsp;</th>\n",
              "      <th class=\"blank col9\" >&nbsp;</th>\n",
              "      <th class=\"blank col10\" >&nbsp;</th>\n",
              "      <th class=\"blank col11\" >&nbsp;</th>\n",
              "    </tr>\n",
              "  </thead>\n",
              "  <tbody>\n",
              "    <tr>\n",
              "      <th id=\"T_68472_level0_row0\" class=\"row_heading level0 row0\" >1</th>\n",
              "      <td id=\"T_68472_row0_col0\" class=\"data row0 col0\" >0.66</td>\n",
              "      <td id=\"T_68472_row0_col1\" class=\"data row0 col1\" >0.99</td>\n",
              "      <td id=\"T_68472_row0_col2\" class=\"data row0 col2\" >0.76</td>\n",
              "      <td id=\"T_68472_row0_col3\" class=\"data row0 col3\" >0.81</td>\n",
              "      <td id=\"T_68472_row0_col4\" class=\"data row0 col4\" >0.78</td>\n",
              "      <td id=\"T_68472_row0_col5\" class=\"data row0 col5\" >0.83</td>\n",
              "      <td id=\"T_68472_row0_col6\" class=\"data row0 col6\" >0.78</td>\n",
              "      <td id=\"T_68472_row0_col7\" class=\"data row0 col7\" >0.83</td>\n",
              "      <td id=\"T_68472_row0_col8\" class=\"data row0 col8\" >0.79</td>\n",
              "      <td id=\"T_68472_row0_col9\" class=\"data row0 col9\" >0.83</td>\n",
              "      <td id=\"T_68472_row0_col10\" class=\"data row0 col10\" >0:20:32</td>\n",
              "      <td id=\"T_68472_row0_col11\" class=\"data row0 col11\" >0:00:51</td>\n",
              "    </tr>\n",
              "    <tr>\n",
              "      <th id=\"T_68472_level0_row1\" class=\"row_heading level0 row1\" >2</th>\n",
              "      <td id=\"T_68472_row1_col0\" class=\"data row1 col0\" >0.44</td>\n",
              "      <td id=\"T_68472_row1_col1\" class=\"data row1 col1\" >0.90</td>\n",
              "      <td id=\"T_68472_row1_col2\" class=\"data row1 col2\" >0.84</td>\n",
              "      <td id=\"T_68472_row1_col3\" class=\"data row1 col3\" >0.83</td>\n",
              "      <td id=\"T_68472_row1_col4\" class=\"data row1 col4\" >0.86</td>\n",
              "      <td id=\"T_68472_row1_col5\" class=\"data row1 col5\" >0.85</td>\n",
              "      <td id=\"T_68472_row1_col6\" class=\"data row1 col6\" >0.85</td>\n",
              "      <td id=\"T_68472_row1_col7\" class=\"data row1 col7\" >0.85</td>\n",
              "      <td id=\"T_68472_row1_col8\" class=\"data row1 col8\" >0.86</td>\n",
              "      <td id=\"T_68472_row1_col9\" class=\"data row1 col9\" >0.85</td>\n",
              "      <td id=\"T_68472_row1_col10\" class=\"data row1 col10\" >0:20:32</td>\n",
              "      <td id=\"T_68472_row1_col11\" class=\"data row1 col11\" >0:00:51</td>\n",
              "    </tr>\n",
              "    <tr>\n",
              "      <th id=\"T_68472_level0_row2\" class=\"row_heading level0 row2\" >3</th>\n",
              "      <td id=\"T_68472_row2_col0\" class=\"data row2 col0\" >0.38</td>\n",
              "      <td id=\"T_68472_row2_col1\" class=\"data row2 col1\" >0.88</td>\n",
              "      <td id=\"T_68472_row2_col2\" class=\"data row2 col2\" >0.86</td>\n",
              "      <td id=\"T_68472_row2_col3\" class=\"data row2 col3\" >0.84</td>\n",
              "      <td id=\"T_68472_row2_col4\" class=\"data row2 col4\" >0.88</td>\n",
              "      <td id=\"T_68472_row2_col5\" class=\"data row2 col5\" >0.85</td>\n",
              "      <td id=\"T_68472_row2_col6\" class=\"data row2 col6\" >0.87</td>\n",
              "      <td id=\"T_68472_row2_col7\" class=\"data row2 col7\" >0.85</td>\n",
              "      <td id=\"T_68472_row2_col8\" class=\"data row2 col8\" >0.88</td>\n",
              "      <td id=\"T_68472_row2_col9\" class=\"data row2 col9\" >0.85</td>\n",
              "      <td id=\"T_68472_row2_col10\" class=\"data row2 col10\" >0:20:32</td>\n",
              "      <td id=\"T_68472_row2_col11\" class=\"data row2 col11\" >0:00:51</td>\n",
              "    </tr>\n",
              "    <tr>\n",
              "      <th id=\"T_68472_level0_row3\" class=\"row_heading level0 row3\" >4</th>\n",
              "      <td id=\"T_68472_row3_col0\" class=\"data row3 col0\" >0.34</td>\n",
              "      <td id=\"T_68472_row3_col1\" class=\"data row3 col1\" >0.88</td>\n",
              "      <td id=\"T_68472_row3_col2\" class=\"data row3 col2\" >0.88</td>\n",
              "      <td id=\"T_68472_row3_col3\" class=\"data row3 col3\" >0.84</td>\n",
              "      <td id=\"T_68472_row3_col4\" class=\"data row3 col4\" >0.89</td>\n",
              "      <td id=\"T_68472_row3_col5\" class=\"data row3 col5\" >0.86</td>\n",
              "      <td id=\"T_68472_row3_col6\" class=\"data row3 col6\" >0.89</td>\n",
              "      <td id=\"T_68472_row3_col7\" class=\"data row3 col7\" >0.85</td>\n",
              "      <td id=\"T_68472_row3_col8\" class=\"data row3 col8\" >0.89</td>\n",
              "      <td id=\"T_68472_row3_col9\" class=\"data row3 col9\" >0.86</td>\n",
              "      <td id=\"T_68472_row3_col10\" class=\"data row3 col10\" >0:20:32</td>\n",
              "      <td id=\"T_68472_row3_col11\" class=\"data row3 col11\" >0:00:51</td>\n",
              "    </tr>\n",
              "    <tr>\n",
              "      <th id=\"T_68472_level0_row4\" class=\"row_heading level0 row4\" >5</th>\n",
              "      <td id=\"T_68472_row4_col0\" class=\"data row4 col0\" >0.31</td>\n",
              "      <td id=\"T_68472_row4_col1\" class=\"data row4 col1\" >0.88</td>\n",
              "      <td id=\"T_68472_row4_col2\" class=\"data row4 col2\" >0.89</td>\n",
              "      <td id=\"T_68472_row4_col3\" class=\"data row4 col3\" >0.84</td>\n",
              "      <td id=\"T_68472_row4_col4\" class=\"data row4 col4\" >0.90</td>\n",
              "      <td id=\"T_68472_row4_col5\" class=\"data row4 col5\" >0.85</td>\n",
              "      <td id=\"T_68472_row4_col6\" class=\"data row4 col6\" >0.90</td>\n",
              "      <td id=\"T_68472_row4_col7\" class=\"data row4 col7\" >0.85</td>\n",
              "      <td id=\"T_68472_row4_col8\" class=\"data row4 col8\" >0.90</td>\n",
              "      <td id=\"T_68472_row4_col9\" class=\"data row4 col9\" >0.85</td>\n",
              "      <td id=\"T_68472_row4_col10\" class=\"data row4 col10\" >0:20:32</td>\n",
              "      <td id=\"T_68472_row4_col11\" class=\"data row4 col11\" >0:00:51</td>\n",
              "    </tr>\n",
              "  </tbody>\n",
              "</table>\n"
            ]
          },
          "metadata": {},
          "execution_count": 50
        }
      ],
      "source": [
        "# Display floats with two decimal places.\n",
        "pd.set_option('precision', 2)\n",
        "\n",
        "# Create a DataFrame from our training statistics.\n",
        "df_stats = pd.DataFrame(data=training_stats)\n",
        "\n",
        "# Use the 'epoch' as the row index.\n",
        "df_stats = df_stats.set_index('epoch')\n",
        "\n",
        "# Display the table.\n",
        "df_stats.style.set_table_styles([dict(selector=\"th\",props=[('max-width', '70px')])])"
      ]
    },
    {
      "cell_type": "markdown",
      "metadata": {
        "id": "Yvqs8ZqivUdr"
      },
      "source": [
        "Validation Loss is a more precise measure than accuracy. If we are predicting the correct answer, but with less confidence, then validation loss will catch this, while accuracy will not."
      ]
    },
    {
      "cell_type": "code",
      "execution_count": 51,
      "metadata": {
        "id": "GBPWXFxX7414",
        "colab": {
          "base_uri": "https://localhost:8080/",
          "height": 427
        },
        "outputId": "24401b43-f1a1-46ba-8fd2-3e75b85ecaed"
      },
      "outputs": [
        {
          "output_type": "display_data",
          "data": {
            "text/plain": [
              "<Figure size 864x432 with 1 Axes>"
            ],
            "image/png": "[encoded data removed]"
          },
          "metadata": {}
        }
      ],
      "source": [
        "import matplotlib.pyplot as plt\n",
        "% matplotlib inline\n",
        "\n",
        "import seaborn as sns\n",
        "\n",
        "# Use plot styling from seaborn.\n",
        "sns.set(style='darkgrid')\n",
        "\n",
        "# Increase the plot size and font size.\n",
        "sns.set(font_scale=1.5)\n",
        "plt.rcParams[\"figure.figsize\"] = (12,6)\n",
        "\n",
        "# Plot the learning curve.\n",
        "plt.plot(df_stats['Training Loss'], 'b-o', label=\"Training\")\n",
        "plt.plot(df_stats['Valid. Loss'], 'g-o', label=\"Validation\")\n",
        "\n",
        "# Label the plot.\n",
        "plt.title(\"Training & Validation Loss\")\n",
        "plt.xlabel(\"Epoch\")\n",
        "plt.ylabel(\"Loss\")\n",
        "plt.legend()\n",
        "plt.show()"
      ]
    },
    {
      "cell_type": "markdown",
      "metadata": {
        "id": "LFcr-ozDmteM"
      },
      "source": [
        "## Download the Data"
      ]
    },
    {
      "cell_type": "code",
      "execution_count": 52,
      "metadata": {
        "id": "PBZrl1QRmvlT",
        "colab": {
          "base_uri": "https://localhost:8080/"
        },
        "outputId": "72713106-7fa2-4d68-8d10-5ee759335e32"
      },
      "outputs": [
        {
          "output_type": "stream",
          "name": "stdout",
          "text": [
            "\n",
            "Saved Test Data\n"
          ]
        }
      ],
      "source": [
        "#Save the Test Data in drive\n",
        "used_test_df =pd.DataFrame(dataset_clean['test'])\n",
        "used_test_df.to_csv(used_test_data_path, encoding='utf-8', index=False)\n",
        "print(\"\\nSaved Test Data\")"
      ]
    },
    {
      "cell_type": "code",
      "execution_count": 53,
      "metadata": {
        "id": "sKMt-zkoBNnQ",
        "colab": {
          "base_uri": "https://localhost:8080/"
        },
        "outputId": "a56994bf-06c1-4c7c-bdff-a4c42c24f447"
      },
      "outputs": [
        {
          "output_type": "stream",
          "name": "stdout",
          "text": [
            "\n",
            "Saved Encoded Test Data\n"
          ]
        }
      ],
      "source": [
        "#Save the Encoded Test Data in Drive \n",
        "encoded_test = pd.DataFrame(encoded_dataset['test'])\n",
        "encoded_test.to_csv(encoded_test_data_path , encoding='utf-8', index=False)\n",
        "print(\"\\nSaved Encoded Test Data\")"
      ]
    },
    {
      "cell_type": "code",
      "execution_count": null,
      "metadata": {
        "id": "fi7vxB8ZEhk0"
      },
      "outputs": [],
      "source": [
        "#Save the label2id_df in Drive \n",
        "label2id_df = pd.DataFrame([label2id] )\n",
        "label2id_df.to_csv(label2id_df_path  , encoding='utf-8', index=False) \n",
        "print(\"\\nSaved label2id_df\")"
      ]
    },
    {
      "cell_type": "code",
      "execution_count": null,
      "metadata": {
        "id": "i9zr_C8cogEr"
      },
      "outputs": [],
      "source": [
        "#Save the best model in Drive \n",
        "shutil.copy('/content/best_model/best_model.pt', saved_path + 'best_model.pt' )\n",
        "print(\"\\nSaved Best Model\")"
      ]
    },
    {
      "cell_type": "code",
      "source": [
        ""
      ],
      "metadata": {
        "id": "RhqEtUiIKBE-"
      },
      "execution_count": 55,
      "outputs": []
    }
  ],
  "metadata": {
    "accelerator": "GPU",
    "colab": {
      "collapsed_sections": [
        "6GkxfuQ8ob0R"
      ],
      "name": "Part2_DistilBERT.ipynb",
      "provenance": [],
      "machine_shape": "hm"
    },
    "kernelspec": {
      "display_name": "Python 3",
      "name": "python3"
    },
    "language_info": {
      "name": "python"
    },
    "widgets": {
      "application/vnd.jupyter.widget-state+json": {
        "bc175752b1ad483bb058cf48230b48ba": {
          "model_module": "@jupyter-widgets/controls",
          "model_name": "HBoxModel",
          "model_module_version": "1.5.0",
          "state": {
            "_dom_classes": [],
            "_model_module": "@jupyter-widgets/controls",
            "_model_module_version": "1.5.0",
            "_model_name": "HBoxModel",
            "_view_count": null,
            "_view_module": "@jupyter-widgets/controls",
            "_view_module_version": "1.5.0",
            "_view_name": "HBoxView",
            "box_style": "",
            "children": [
              "IPY_MODEL_e3d5260c69eb4370abcdb40de4dc548e",
              "IPY_MODEL_5de367356f2e4b5292644269d2b472c1",
              "IPY_MODEL_ad1e0837c61840b6bf7f07705106a5b2"
            ],
            "layout": "IPY_MODEL_b6e4e6e7f44e434a8fbfcb5ba0dca752"
          }
        },
        "e3d5260c69eb4370abcdb40de4dc548e": {
          "model_module": "@jupyter-widgets/controls",
          "model_name": "HTMLModel",
          "model_module_version": "1.5.0",
          "state": {
            "_dom_classes": [],
            "_model_module": "@jupyter-widgets/controls",
            "_model_module_version": "1.5.0",
            "_model_name": "HTMLModel",
            "_view_count": null,
            "_view_module": "@jupyter-widgets/controls",
            "_view_module_version": "1.5.0",
            "_view_name": "HTMLView",
            "description": "",
            "description_tooltip": null,
            "layout": "IPY_MODEL_4657e681797049e7ad3ea49909198bd6",
            "placeholder": "​",
            "style": "IPY_MODEL_45fdab5f89d94db799b817ed98039795",
            "value": "Downloading: 100%"
          }
        },
        "5de367356f2e4b5292644269d2b472c1": {
          "model_module": "@jupyter-widgets/controls",
          "model_name": "FloatProgressModel",
          "model_module_version": "1.5.0",
          "state": {
            "_dom_classes": [],
            "_model_module": "@jupyter-widgets/controls",
            "_model_module_version": "1.5.0",
            "_model_name": "FloatProgressModel",
            "_view_count": null,
            "_view_module": "@jupyter-widgets/controls",
            "_view_module_version": "1.5.0",
            "_view_name": "ProgressView",
            "bar_style": "success",
            "description": "",
            "description_tooltip": null,
            "layout": "IPY_MODEL_292d7d8964024a88a31d64de1113c911",
            "max": 28,
            "min": 0,
            "orientation": "horizontal",
            "style": "IPY_MODEL_c1d53cb7c34d46efbe02cf2ca760e062",
            "value": 28
          }
        },
        "ad1e0837c61840b6bf7f07705106a5b2": {
          "model_module": "@jupyter-widgets/controls",
          "model_name": "HTMLModel",
          "model_module_version": "1.5.0",
          "state": {
            "_dom_classes": [],
            "_model_module": "@jupyter-widgets/controls",
            "_model_module_version": "1.5.0",
            "_model_name": "HTMLModel",
            "_view_count": null,
            "_view_module": "@jupyter-widgets/controls",
            "_view_module_version": "1.5.0",
            "_view_name": "HTMLView",
            "description": "",
            "description_tooltip": null,
            "layout": "IPY_MODEL_63fff6ca5be740f5b504a2eeb3dd3e7f",
            "placeholder": "​",
            "style": "IPY_MODEL_84acf0abb3ab477a90bfbe458ab9ec0c",
            "value": " 28.0/28.0 [00:00&lt;00:00, 559B/s]"
          }
        },
        "b6e4e6e7f44e434a8fbfcb5ba0dca752": {
          "model_module": "@jupyter-widgets/base",
          "model_name": "LayoutModel",
          "model_module_version": "1.2.0",
          "state": {
            "_model_module": "@jupyter-widgets/base",
            "_model_module_version": "1.2.0",
            "_model_name": "LayoutModel",
            "_view_count": null,
            "_view_module": "@jupyter-widgets/base",
            "_view_module_version": "1.2.0",
            "_view_name": "LayoutView",
            "align_content": null,
            "align_items": null,
            "align_self": null,
            "border": null,
            "bottom": null,
            "display": null,
            "flex": null,
            "flex_flow": null,
            "grid_area": null,
            "grid_auto_columns": null,
            "grid_auto_flow": null,
            "grid_auto_rows": null,
            "grid_column": null,
            "grid_gap": null,
            "grid_row": null,
            "grid_template_areas": null,
            "grid_template_columns": null,
            "grid_template_rows": null,
            "height": null,
            "justify_content": null,
            "justify_items": null,
            "left": null,
            "margin": null,
            "max_height": null,
            "max_width": null,
            "min_height": null,
            "min_width": null,
            "object_fit": null,
            "object_position": null,
            "order": null,
            "overflow": null,
            "overflow_x": null,
            "overflow_y": null,
            "padding": null,
            "right": null,
            "top": null,
            "visibility": null,
            "width": null
          }
        },
        "4657e681797049e7ad3ea49909198bd6": {
          "model_module": "@jupyter-widgets/base",
          "model_name": "LayoutModel",
          "model_module_version": "1.2.0",
          "state": {
            "_model_module": "@jupyter-widgets/base",
            "_model_module_version": "1.2.0",
            "_model_name": "LayoutModel",
            "_view_count": null,
            "_view_module": "@jupyter-widgets/base",
            "_view_module_version": "1.2.0",
            "_view_name": "LayoutView",
            "align_content": null,
            "align_items": null,
            "align_self": null,
            "border": null,
            "bottom": null,
            "display": null,
            "flex": null,
            "flex_flow": null,
            "grid_area": null,
            "grid_auto_columns": null,
            "grid_auto_flow": null,
            "grid_auto_rows": null,
            "grid_column": null,
            "grid_gap": null,
            "grid_row": null,
            "grid_template_areas": null,
            "grid_template_columns": null,
            "grid_template_rows": null,
            "height": null,
            "justify_content": null,
            "justify_items": null,
            "left": null,
            "margin": null,
            "max_height": null,
            "max_width": null,
            "min_height": null,
            "min_width": null,
            "object_fit": null,
            "object_position": null,
            "order": null,
            "overflow": null,
            "overflow_x": null,
            "overflow_y": null,
            "padding": null,
            "right": null,
            "top": null,
            "visibility": null,
            "width": null
          }
        },
        "45fdab5f89d94db799b817ed98039795": {
          "model_module": "@jupyter-widgets/controls",
          "model_name": "DescriptionStyleModel",
          "model_module_version": "1.5.0",
          "state": {
            "_model_module": "@jupyter-widgets/controls",
            "_model_module_version": "1.5.0",
            "_model_name": "DescriptionStyleModel",
            "_view_count": null,
            "_view_module": "@jupyter-widgets/base",
            "_view_module_version": "1.2.0",
            "_view_name": "StyleView",
            "description_width": ""
          }
        },
        "292d7d8964024a88a31d64de1113c911": {
          "model_module": "@jupyter-widgets/base",
          "model_name": "LayoutModel",
          "model_module_version": "1.2.0",
          "state": {
            "_model_module": "@jupyter-widgets/base",
            "_model_module_version": "1.2.0",
            "_model_name": "LayoutModel",
            "_view_count": null,
            "_view_module": "@jupyter-widgets/base",
            "_view_module_version": "1.2.0",
            "_view_name": "LayoutView",
            "align_content": null,
            "align_items": null,
            "align_self": null,
            "border": null,
            "bottom": null,
            "display": null,
            "flex": null,
            "flex_flow": null,
            "grid_area": null,
            "grid_auto_columns": null,
            "grid_auto_flow": null,
            "grid_auto_rows": null,
            "grid_column": null,
            "grid_gap": null,
            "grid_row": null,
            "grid_template_areas": null,
            "grid_template_columns": null,
            "grid_template_rows": null,
            "height": null,
            "justify_content": null,
            "justify_items": null,
            "left": null,
            "margin": null,
            "max_height": null,
            "max_width": null,
            "min_height": null,
            "min_width": null,
            "object_fit": null,
            "object_position": null,
            "order": null,
            "overflow": null,
            "overflow_x": null,
            "overflow_y": null,
            "padding": null,
            "right": null,
            "top": null,
            "visibility": null,
            "width": null
          }
        },
        "c1d53cb7c34d46efbe02cf2ca760e062": {
          "model_module": "@jupyter-widgets/controls",
          "model_name": "ProgressStyleModel",
          "model_module_version": "1.5.0",
          "state": {
            "_model_module": "@jupyter-widgets/controls",
            "_model_module_version": "1.5.0",
            "_model_name": "ProgressStyleModel",
            "_view_count": null,
            "_view_module": "@jupyter-widgets/base",
            "_view_module_version": "1.2.0",
            "_view_name": "StyleView",
            "bar_color": null,
            "description_width": ""
          }
        },
        "63fff6ca5be740f5b504a2eeb3dd3e7f": {
          "model_module": "@jupyter-widgets/base",
          "model_name": "LayoutModel",
          "model_module_version": "1.2.0",
          "state": {
            "_model_module": "@jupyter-widgets/base",
            "_model_module_version": "1.2.0",
            "_model_name": "LayoutModel",
            "_view_count": null,
            "_view_module": "@jupyter-widgets/base",
            "_view_module_version": "1.2.0",
            "_view_name": "LayoutView",
            "align_content": null,
            "align_items": null,
            "align_self": null,
            "border": null,
            "bottom": null,
            "display": null,
            "flex": null,
            "flex_flow": null,
            "grid_area": null,
            "grid_auto_columns": null,
            "grid_auto_flow": null,
            "grid_auto_rows": null,
            "grid_column": null,
            "grid_gap": null,
            "grid_row": null,
            "grid_template_areas": null,
            "grid_template_columns": null,
            "grid_template_rows": null,
            "height": null,
            "justify_content": null,
            "justify_items": null,
            "left": null,
            "margin": null,
            "max_height": null,
            "max_width": null,
            "min_height": null,
            "min_width": null,
            "object_fit": null,
            "object_position": null,
            "order": null,
            "overflow": null,
            "overflow_x": null,
            "overflow_y": null,
            "padding": null,
            "right": null,
            "top": null,
            "visibility": null,
            "width": null
          }
        },
        "84acf0abb3ab477a90bfbe458ab9ec0c": {
          "model_module": "@jupyter-widgets/controls",
          "model_name": "DescriptionStyleModel",
          "model_module_version": "1.5.0",
          "state": {
            "_model_module": "@jupyter-widgets/controls",
            "_model_module_version": "1.5.0",
            "_model_name": "DescriptionStyleModel",
            "_view_count": null,
            "_view_module": "@jupyter-widgets/base",
            "_view_module_version": "1.2.0",
            "_view_name": "StyleView",
            "description_width": ""
          }
        },
        "956661bcb3324e5ba509f070011672da": {
          "model_module": "@jupyter-widgets/controls",
          "model_name": "HBoxModel",
          "model_module_version": "1.5.0",
          "state": {
            "_dom_classes": [],
            "_model_module": "@jupyter-widgets/controls",
            "_model_module_version": "1.5.0",
            "_model_name": "HBoxModel",
            "_view_count": null,
            "_view_module": "@jupyter-widgets/controls",
            "_view_module_version": "1.5.0",
            "_view_name": "HBoxView",
            "box_style": "",
            "children": [
              "IPY_MODEL_e7d4e878e2814cda943309580af34cd5",
              "IPY_MODEL_aa37f1a063084559b0ef8a1d829cce33",
              "IPY_MODEL_a13feffe06f546c5ab93ff1058809291"
            ],
            "layout": "IPY_MODEL_37f5afdadda1440bb46a8b9b6992a5be"
          }
        },
        "e7d4e878e2814cda943309580af34cd5": {
          "model_module": "@jupyter-widgets/controls",
          "model_name": "HTMLModel",
          "model_module_version": "1.5.0",
          "state": {
            "_dom_classes": [],
            "_model_module": "@jupyter-widgets/controls",
            "_model_module_version": "1.5.0",
            "_model_name": "HTMLModel",
            "_view_count": null,
            "_view_module": "@jupyter-widgets/controls",
            "_view_module_version": "1.5.0",
            "_view_name": "HTMLView",
            "description": "",
            "description_tooltip": null,
            "layout": "IPY_MODEL_6aecbd61fd0543d6b226e0bbb7b272eb",
            "placeholder": "​",
            "style": "IPY_MODEL_f6c3c477c98e4fe884107bb94994b46d",
            "value": "Downloading: 100%"
          }
        },
        "aa37f1a063084559b0ef8a1d829cce33": {
          "model_module": "@jupyter-widgets/controls",
          "model_name": "FloatProgressModel",
          "model_module_version": "1.5.0",
          "state": {
            "_dom_classes": [],
            "_model_module": "@jupyter-widgets/controls",
            "_model_module_version": "1.5.0",
            "_model_name": "FloatProgressModel",
            "_view_count": null,
            "_view_module": "@jupyter-widgets/controls",
            "_view_module_version": "1.5.0",
            "_view_name": "ProgressView",
            "bar_style": "success",
            "description": "",
            "description_tooltip": null,
            "layout": "IPY_MODEL_894c5f51d9e147e5a13d6cc624cdb4c9",
            "max": 483,
            "min": 0,
            "orientation": "horizontal",
            "style": "IPY_MODEL_24dbdae7da3b436c92868ee4401c8732",
            "value": 483
          }
        },
        "a13feffe06f546c5ab93ff1058809291": {
          "model_module": "@jupyter-widgets/controls",
          "model_name": "HTMLModel",
          "model_module_version": "1.5.0",
          "state": {
            "_dom_classes": [],
            "_model_module": "@jupyter-widgets/controls",
            "_model_module_version": "1.5.0",
            "_model_name": "HTMLModel",
            "_view_count": null,
            "_view_module": "@jupyter-widgets/controls",
            "_view_module_version": "1.5.0",
            "_view_name": "HTMLView",
            "description": "",
            "description_tooltip": null,
            "layout": "IPY_MODEL_b42b2a44074c449398b3b33b51c37015",
            "placeholder": "​",
            "style": "IPY_MODEL_a355149ee0e54c60af9aa061fbac5cc8",
            "value": " 483/483 [00:00&lt;00:00, 9.84kB/s]"
          }
        },
        "37f5afdadda1440bb46a8b9b6992a5be": {
          "model_module": "@jupyter-widgets/base",
          "model_name": "LayoutModel",
          "model_module_version": "1.2.0",
          "state": {
            "_model_module": "@jupyter-widgets/base",
            "_model_module_version": "1.2.0",
            "_model_name": "LayoutModel",
            "_view_count": null,
            "_view_module": "@jupyter-widgets/base",
            "_view_module_version": "1.2.0",
            "_view_name": "LayoutView",
            "align_content": null,
            "align_items": null,
            "align_self": null,
            "border": null,
            "bottom": null,
            "display": null,
            "flex": null,
            "flex_flow": null,
            "grid_area": null,
            "grid_auto_columns": null,
            "grid_auto_flow": null,
            "grid_auto_rows": null,
            "grid_column": null,
            "grid_gap": null,
            "grid_row": null,
            "grid_template_areas": null,
            "grid_template_columns": null,
            "grid_template_rows": null,
            "height": null,
            "justify_content": null,
            "justify_items": null,
            "left": null,
            "margin": null,
            "max_height": null,
            "max_width": null,
            "min_height": null,
            "min_width": null,
            "object_fit": null,
            "object_position": null,
            "order": null,
            "overflow": null,
            "overflow_x": null,
            "overflow_y": null,
            "padding": null,
            "right": null,
            "top": null,
            "visibility": null,
            "width": null
          }
        },
        "6aecbd61fd0543d6b226e0bbb7b272eb": {
          "model_module": "@jupyter-widgets/base",
          "model_name": "LayoutModel",
          "model_module_version": "1.2.0",
          "state": {
            "_model_module": "@jupyter-widgets/base",
            "_model_module_version": "1.2.0",
            "_model_name": "LayoutModel",
            "_view_count": null,
            "_view_module": "@jupyter-widgets/base",
            "_view_module_version": "1.2.0",
            "_view_name": "LayoutView",
            "align_content": null,
            "align_items": null,
            "align_self": null,
            "border": null,
            "bottom": null,
            "display": null,
            "flex": null,
            "flex_flow": null,
            "grid_area": null,
            "grid_auto_columns": null,
            "grid_auto_flow": null,
            "grid_auto_rows": null,
            "grid_column": null,
            "grid_gap": null,
            "grid_row": null,
            "grid_template_areas": null,
            "grid_template_columns": null,
            "grid_template_rows": null,
            "height": null,
            "justify_content": null,
            "justify_items": null,
            "left": null,
            "margin": null,
            "max_height": null,
            "max_width": null,
            "min_height": null,
            "min_width": null,
            "object_fit": null,
            "object_position": null,
            "order": null,
            "overflow": null,
            "overflow_x": null,
            "overflow_y": null,
            "padding": null,
            "right": null,
            "top": null,
            "visibility": null,
            "width": null
          }
        },
        "f6c3c477c98e4fe884107bb94994b46d": {
          "model_module": "@jupyter-widgets/controls",
          "model_name": "DescriptionStyleModel",
          "model_module_version": "1.5.0",
          "state": {
            "_model_module": "@jupyter-widgets/controls",
            "_model_module_version": "1.5.0",
            "_model_name": "DescriptionStyleModel",
            "_view_count": null,
            "_view_module": "@jupyter-widgets/base",
            "_view_module_version": "1.2.0",
            "_view_name": "StyleView",
            "description_width": ""
          }
        },
        "894c5f51d9e147e5a13d6cc624cdb4c9": {
          "model_module": "@jupyter-widgets/base",
          "model_name": "LayoutModel",
          "model_module_version": "1.2.0",
          "state": {
            "_model_module": "@jupyter-widgets/base",
            "_model_module_version": "1.2.0",
            "_model_name": "LayoutModel",
            "_view_count": null,
            "_view_module": "@jupyter-widgets/base",
            "_view_module_version": "1.2.0",
            "_view_name": "LayoutView",
            "align_content": null,
            "align_items": null,
            "align_self": null,
            "border": null,
            "bottom": null,
            "display": null,
            "flex": null,
            "flex_flow": null,
            "grid_area": null,
            "grid_auto_columns": null,
            "grid_auto_flow": null,
            "grid_auto_rows": null,
            "grid_column": null,
            "grid_gap": null,
            "grid_row": null,
            "grid_template_areas": null,
            "grid_template_columns": null,
            "grid_template_rows": null,
            "height": null,
            "justify_content": null,
            "justify_items": null,
            "left": null,
            "margin": null,
            "max_height": null,
            "max_width": null,
            "min_height": null,
            "min_width": null,
            "object_fit": null,
            "object_position": null,
            "order": null,
            "overflow": null,
            "overflow_x": null,
            "overflow_y": null,
            "padding": null,
            "right": null,
            "top": null,
            "visibility": null,
            "width": null
          }
        },
        "24dbdae7da3b436c92868ee4401c8732": {
          "model_module": "@jupyter-widgets/controls",
          "model_name": "ProgressStyleModel",
          "model_module_version": "1.5.0",
          "state": {
            "_model_module": "@jupyter-widgets/controls",
            "_model_module_version": "1.5.0",
            "_model_name": "ProgressStyleModel",
            "_view_count": null,
            "_view_module": "@jupyter-widgets/base",
            "_view_module_version": "1.2.0",
            "_view_name": "StyleView",
            "bar_color": null,
            "description_width": ""
          }
        },
        "b42b2a44074c449398b3b33b51c37015": {
          "model_module": "@jupyter-widgets/base",
          "model_name": "LayoutModel",
          "model_module_version": "1.2.0",
          "state": {
            "_model_module": "@jupyter-widgets/base",
            "_model_module_version": "1.2.0",
            "_model_name": "LayoutModel",
            "_view_count": null,
            "_view_module": "@jupyter-widgets/base",
            "_view_module_version": "1.2.0",
            "_view_name": "LayoutView",
            "align_content": null,
            "align_items": null,
            "align_self": null,
            "border": null,
            "bottom": null,
            "display": null,
            "flex": null,
            "flex_flow": null,
            "grid_area": null,
            "grid_auto_columns": null,
            "grid_auto_flow": null,
            "grid_auto_rows": null,
            "grid_column": null,
            "grid_gap": null,
            "grid_row": null,
            "grid_template_areas": null,
            "grid_template_columns": null,
            "grid_template_rows": null,
            "height": null,
            "justify_content": null,
            "justify_items": null,
            "left": null,
            "margin": null,
            "max_height": null,
            "max_width": null,
            "min_height": null,
            "min_width": null,
            "object_fit": null,
            "object_position": null,
            "order": null,
            "overflow": null,
            "overflow_x": null,
            "overflow_y": null,
            "padding": null,
            "right": null,
            "top": null,
            "visibility": null,
            "width": null
          }
        },
        "a355149ee0e54c60af9aa061fbac5cc8": {
          "model_module": "@jupyter-widgets/controls",
          "model_name": "DescriptionStyleModel",
          "model_module_version": "1.5.0",
          "state": {
            "_model_module": "@jupyter-widgets/controls",
            "_model_module_version": "1.5.0",
            "_model_name": "DescriptionStyleModel",
            "_view_count": null,
            "_view_module": "@jupyter-widgets/base",
            "_view_module_version": "1.2.0",
            "_view_name": "StyleView",
            "description_width": ""
          }
        },
        "09bef3cd013c4c0589e70c4585c90a95": {
          "model_module": "@jupyter-widgets/controls",
          "model_name": "HBoxModel",
          "model_module_version": "1.5.0",
          "state": {
            "_dom_classes": [],
            "_model_module": "@jupyter-widgets/controls",
            "_model_module_version": "1.5.0",
            "_model_name": "HBoxModel",
            "_view_count": null,
            "_view_module": "@jupyter-widgets/controls",
            "_view_module_version": "1.5.0",
            "_view_name": "HBoxView",
            "box_style": "",
            "children": [
              "IPY_MODEL_3d676db129834332a19c7519333c9ac7",
              "IPY_MODEL_36f5ccb759ad45279c5a1f67b2da1a18",
              "IPY_MODEL_0d67167750e746249a07a11be0e15632"
            ],
            "layout": "IPY_MODEL_699a57376a2349e882964e55f7fda74a"
          }
        },
        "3d676db129834332a19c7519333c9ac7": {
          "model_module": "@jupyter-widgets/controls",
          "model_name": "HTMLModel",
          "model_module_version": "1.5.0",
          "state": {
            "_dom_classes": [],
            "_model_module": "@jupyter-widgets/controls",
            "_model_module_version": "1.5.0",
            "_model_name": "HTMLModel",
            "_view_count": null,
            "_view_module": "@jupyter-widgets/controls",
            "_view_module_version": "1.5.0",
            "_view_name": "HTMLView",
            "description": "",
            "description_tooltip": null,
            "layout": "IPY_MODEL_46cc01f7279244628069746c19d6ed1e",
            "placeholder": "​",
            "style": "IPY_MODEL_63f83c122f5d46b983447538e6b6523a",
            "value": "Downloading: 100%"
          }
        },
        "36f5ccb759ad45279c5a1f67b2da1a18": {
          "model_module": "@jupyter-widgets/controls",
          "model_name": "FloatProgressModel",
          "model_module_version": "1.5.0",
          "state": {
            "_dom_classes": [],
            "_model_module": "@jupyter-widgets/controls",
            "_model_module_version": "1.5.0",
            "_model_name": "FloatProgressModel",
            "_view_count": null,
            "_view_module": "@jupyter-widgets/controls",
            "_view_module_version": "1.5.0",
            "_view_name": "ProgressView",
            "bar_style": "success",
            "description": "",
            "description_tooltip": null,
            "layout": "IPY_MODEL_284e229cd0de46a7bd7b33226bf5502b",
            "max": 231508,
            "min": 0,
            "orientation": "horizontal",
            "style": "IPY_MODEL_97882ec1ac98411dab81d20fea6824be",
            "value": 231508
          }
        },
        "0d67167750e746249a07a11be0e15632": {
          "model_module": "@jupyter-widgets/controls",
          "model_name": "HTMLModel",
          "model_module_version": "1.5.0",
          "state": {
            "_dom_classes": [],
            "_model_module": "@jupyter-widgets/controls",
            "_model_module_version": "1.5.0",
            "_model_name": "HTMLModel",
            "_view_count": null,
            "_view_module": "@jupyter-widgets/controls",
            "_view_module_version": "1.5.0",
            "_view_name": "HTMLView",
            "description": "",
            "description_tooltip": null,
            "layout": "IPY_MODEL_5db13949d7fa480c87d91594ce22d50b",
            "placeholder": "​",
            "style": "IPY_MODEL_9891d038eefa4f208583ce2e706c66bf",
            "value": " 226k/226k [00:00&lt;00:00, 816kB/s]"
          }
        },
        "699a57376a2349e882964e55f7fda74a": {
          "model_module": "@jupyter-widgets/base",
          "model_name": "LayoutModel",
          "model_module_version": "1.2.0",
          "state": {
            "_model_module": "@jupyter-widgets/base",
            "_model_module_version": "1.2.0",
            "_model_name": "LayoutModel",
            "_view_count": null,
            "_view_module": "@jupyter-widgets/base",
            "_view_module_version": "1.2.0",
            "_view_name": "LayoutView",
            "align_content": null,
            "align_items": null,
            "align_self": null,
            "border": null,
            "bottom": null,
            "display": null,
            "flex": null,
            "flex_flow": null,
            "grid_area": null,
            "grid_auto_columns": null,
            "grid_auto_flow": null,
            "grid_auto_rows": null,
            "grid_column": null,
            "grid_gap": null,
            "grid_row": null,
            "grid_template_areas": null,
            "grid_template_columns": null,
            "grid_template_rows": null,
            "height": null,
            "justify_content": null,
            "justify_items": null,
            "left": null,
            "margin": null,
            "max_height": null,
            "max_width": null,
            "min_height": null,
            "min_width": null,
            "object_fit": null,
            "object_position": null,
            "order": null,
            "overflow": null,
            "overflow_x": null,
            "overflow_y": null,
            "padding": null,
            "right": null,
            "top": null,
            "visibility": null,
            "width": null
          }
        },
        "46cc01f7279244628069746c19d6ed1e": {
          "model_module": "@jupyter-widgets/base",
          "model_name": "LayoutModel",
          "model_module_version": "1.2.0",
          "state": {
            "_model_module": "@jupyter-widgets/base",
            "_model_module_version": "1.2.0",
            "_model_name": "LayoutModel",
            "_view_count": null,
            "_view_module": "@jupyter-widgets/base",
            "_view_module_version": "1.2.0",
            "_view_name": "LayoutView",
            "align_content": null,
            "align_items": null,
            "align_self": null,
            "border": null,
            "bottom": null,
            "display": null,
            "flex": null,
            "flex_flow": null,
            "grid_area": null,
            "grid_auto_columns": null,
            "grid_auto_flow": null,
            "grid_auto_rows": null,
            "grid_column": null,
            "grid_gap": null,
            "grid_row": null,
            "grid_template_areas": null,
            "grid_template_columns": null,
            "grid_template_rows": null,
            "height": null,
            "justify_content": null,
            "justify_items": null,
            "left": null,
            "margin": null,
            "max_height": null,
            "max_width": null,
            "min_height": null,
            "min_width": null,
            "object_fit": null,
            "object_position": null,
            "order": null,
            "overflow": null,
            "overflow_x": null,
            "overflow_y": null,
            "padding": null,
            "right": null,
            "top": null,
            "visibility": null,
            "width": null
          }
        },
        "63f83c122f5d46b983447538e6b6523a": {
          "model_module": "@jupyter-widgets/controls",
          "model_name": "DescriptionStyleModel",
          "model_module_version": "1.5.0",
          "state": {
            "_model_module": "@jupyter-widgets/controls",
            "_model_module_version": "1.5.0",
            "_model_name": "DescriptionStyleModel",
            "_view_count": null,
            "_view_module": "@jupyter-widgets/base",
            "_view_module_version": "1.2.0",
            "_view_name": "StyleView",
            "description_width": ""
          }
        },
        "284e229cd0de46a7bd7b33226bf5502b": {
          "model_module": "@jupyter-widgets/base",
          "model_name": "LayoutModel",
          "model_module_version": "1.2.0",
          "state": {
            "_model_module": "@jupyter-widgets/base",
            "_model_module_version": "1.2.0",
            "_model_name": "LayoutModel",
            "_view_count": null,
            "_view_module": "@jupyter-widgets/base",
            "_view_module_version": "1.2.0",
            "_view_name": "LayoutView",
            "align_content": null,
            "align_items": null,
            "align_self": null,
            "border": null,
            "bottom": null,
            "display": null,
            "flex": null,
            "flex_flow": null,
            "grid_area": null,
            "grid_auto_columns": null,
            "grid_auto_flow": null,
            "grid_auto_rows": null,
            "grid_column": null,
            "grid_gap": null,
            "grid_row": null,
            "grid_template_areas": null,
            "grid_template_columns": null,
            "grid_template_rows": null,
            "height": null,
            "justify_content": null,
            "justify_items": null,
            "left": null,
            "margin": null,
            "max_height": null,
            "max_width": null,
            "min_height": null,
            "min_width": null,
            "object_fit": null,
            "object_position": null,
            "order": null,
            "overflow": null,
            "overflow_x": null,
            "overflow_y": null,
            "padding": null,
            "right": null,
            "top": null,
            "visibility": null,
            "width": null
          }
        },
        "97882ec1ac98411dab81d20fea6824be": {
          "model_module": "@jupyter-widgets/controls",
          "model_name": "ProgressStyleModel",
          "model_module_version": "1.5.0",
          "state": {
            "_model_module": "@jupyter-widgets/controls",
            "_model_module_version": "1.5.0",
            "_model_name": "ProgressStyleModel",
            "_view_count": null,
            "_view_module": "@jupyter-widgets/base",
            "_view_module_version": "1.2.0",
            "_view_name": "StyleView",
            "bar_color": null,
            "description_width": ""
          }
        },
        "5db13949d7fa480c87d91594ce22d50b": {
          "model_module": "@jupyter-widgets/base",
          "model_name": "LayoutModel",
          "model_module_version": "1.2.0",
          "state": {
            "_model_module": "@jupyter-widgets/base",
            "_model_module_version": "1.2.0",
            "_model_name": "LayoutModel",
            "_view_count": null,
            "_view_module": "@jupyter-widgets/base",
            "_view_module_version": "1.2.0",
            "_view_name": "LayoutView",
            "align_content": null,
            "align_items": null,
            "align_self": null,
            "border": null,
            "bottom": null,
            "display": null,
            "flex": null,
            "flex_flow": null,
            "grid_area": null,
            "grid_auto_columns": null,
            "grid_auto_flow": null,
            "grid_auto_rows": null,
            "grid_column": null,
            "grid_gap": null,
            "grid_row": null,
            "grid_template_areas": null,
            "grid_template_columns": null,
            "grid_template_rows": null,
            "height": null,
            "justify_content": null,
            "justify_items": null,
            "left": null,
            "margin": null,
            "max_height": null,
            "max_width": null,
            "min_height": null,
            "min_width": null,
            "object_fit": null,
            "object_position": null,
            "order": null,
            "overflow": null,
            "overflow_x": null,
            "overflow_y": null,
            "padding": null,
            "right": null,
            "top": null,
            "visibility": null,
            "width": null
          }
        },
        "9891d038eefa4f208583ce2e706c66bf": {
          "model_module": "@jupyter-widgets/controls",
          "model_name": "DescriptionStyleModel",
          "model_module_version": "1.5.0",
          "state": {
            "_model_module": "@jupyter-widgets/controls",
            "_model_module_version": "1.5.0",
            "_model_name": "DescriptionStyleModel",
            "_view_count": null,
            "_view_module": "@jupyter-widgets/base",
            "_view_module_version": "1.2.0",
            "_view_name": "StyleView",
            "description_width": ""
          }
        },
        "a8974fa1db01409fb8765cbc5778113f": {
          "model_module": "@jupyter-widgets/controls",
          "model_name": "HBoxModel",
          "model_module_version": "1.5.0",
          "state": {
            "_dom_classes": [],
            "_model_module": "@jupyter-widgets/controls",
            "_model_module_version": "1.5.0",
            "_model_name": "HBoxModel",
            "_view_count": null,
            "_view_module": "@jupyter-widgets/controls",
            "_view_module_version": "1.5.0",
            "_view_name": "HBoxView",
            "box_style": "",
            "children": [
              "IPY_MODEL_c952ee8dc0cb49429516444752721a23",
              "IPY_MODEL_f2648de5c8724f2e8d4377e34110f7eb",
              "IPY_MODEL_e939bd36314842b594fe38b4b25bba46"
            ],
            "layout": "IPY_MODEL_a792ebd4cbf04bceab52c8735f11b1e4"
          }
        },
        "c952ee8dc0cb49429516444752721a23": {
          "model_module": "@jupyter-widgets/controls",
          "model_name": "HTMLModel",
          "model_module_version": "1.5.0",
          "state": {
            "_dom_classes": [],
            "_model_module": "@jupyter-widgets/controls",
            "_model_module_version": "1.5.0",
            "_model_name": "HTMLModel",
            "_view_count": null,
            "_view_module": "@jupyter-widgets/controls",
            "_view_module_version": "1.5.0",
            "_view_name": "HTMLView",
            "description": "",
            "description_tooltip": null,
            "layout": "IPY_MODEL_f02907998d6047449396615694583515",
            "placeholder": "​",
            "style": "IPY_MODEL_8ab7c9e1ff1548d1a9ac6147b2a134ad",
            "value": "Downloading: 100%"
          }
        },
        "f2648de5c8724f2e8d4377e34110f7eb": {
          "model_module": "@jupyter-widgets/controls",
          "model_name": "FloatProgressModel",
          "model_module_version": "1.5.0",
          "state": {
            "_dom_classes": [],
            "_model_module": "@jupyter-widgets/controls",
            "_model_module_version": "1.5.0",
            "_model_name": "FloatProgressModel",
            "_view_count": null,
            "_view_module": "@jupyter-widgets/controls",
            "_view_module_version": "1.5.0",
            "_view_name": "ProgressView",
            "bar_style": "success",
            "description": "",
            "description_tooltip": null,
            "layout": "IPY_MODEL_d1c9e61de35d4a82bc28c608a2f4f548",
            "max": 466062,
            "min": 0,
            "orientation": "horizontal",
            "style": "IPY_MODEL_4a85abb2e0114d0db460b2ab9837f29f",
            "value": 466062
          }
        },
        "e939bd36314842b594fe38b4b25bba46": {
          "model_module": "@jupyter-widgets/controls",
          "model_name": "HTMLModel",
          "model_module_version": "1.5.0",
          "state": {
            "_dom_classes": [],
            "_model_module": "@jupyter-widgets/controls",
            "_model_module_version": "1.5.0",
            "_model_name": "HTMLModel",
            "_view_count": null,
            "_view_module": "@jupyter-widgets/controls",
            "_view_module_version": "1.5.0",
            "_view_name": "HTMLView",
            "description": "",
            "description_tooltip": null,
            "layout": "IPY_MODEL_abc6c163779a4307b4b92eb946841640",
            "placeholder": "​",
            "style": "IPY_MODEL_d54ba2c920de4502a61a8492d1b53ed8",
            "value": " 455k/455k [00:00&lt;00:00, 531kB/s]"
          }
        },
        "a792ebd4cbf04bceab52c8735f11b1e4": {
          "model_module": "@jupyter-widgets/base",
          "model_name": "LayoutModel",
          "model_module_version": "1.2.0",
          "state": {
            "_model_module": "@jupyter-widgets/base",
            "_model_module_version": "1.2.0",
            "_model_name": "LayoutModel",
            "_view_count": null,
            "_view_module": "@jupyter-widgets/base",
            "_view_module_version": "1.2.0",
            "_view_name": "LayoutView",
            "align_content": null,
            "align_items": null,
            "align_self": null,
            "border": null,
            "bottom": null,
            "display": null,
            "flex": null,
            "flex_flow": null,
            "grid_area": null,
            "grid_auto_columns": null,
            "grid_auto_flow": null,
            "grid_auto_rows": null,
            "grid_column": null,
            "grid_gap": null,
            "grid_row": null,
            "grid_template_areas": null,
            "grid_template_columns": null,
            "grid_template_rows": null,
            "height": null,
            "justify_content": null,
            "justify_items": null,
            "left": null,
            "margin": null,
            "max_height": null,
            "max_width": null,
            "min_height": null,
            "min_width": null,
            "object_fit": null,
            "object_position": null,
            "order": null,
            "overflow": null,
            "overflow_x": null,
            "overflow_y": null,
            "padding": null,
            "right": null,
            "top": null,
            "visibility": null,
            "width": null
          }
        },
        "f02907998d6047449396615694583515": {
          "model_module": "@jupyter-widgets/base",
          "model_name": "LayoutModel",
          "model_module_version": "1.2.0",
          "state": {
            "_model_module": "@jupyter-widgets/base",
            "_model_module_version": "1.2.0",
            "_model_name": "LayoutModel",
            "_view_count": null,
            "_view_module": "@jupyter-widgets/base",
            "_view_module_version": "1.2.0",
            "_view_name": "LayoutView",
            "align_content": null,
            "align_items": null,
            "align_self": null,
            "border": null,
            "bottom": null,
            "display": null,
            "flex": null,
            "flex_flow": null,
            "grid_area": null,
            "grid_auto_columns": null,
            "grid_auto_flow": null,
            "grid_auto_rows": null,
            "grid_column": null,
            "grid_gap": null,
            "grid_row": null,
            "grid_template_areas": null,
            "grid_template_columns": null,
            "grid_template_rows": null,
            "height": null,
            "justify_content": null,
            "justify_items": null,
            "left": null,
            "margin": null,
            "max_height": null,
            "max_width": null,
            "min_height": null,
            "min_width": null,
            "object_fit": null,
            "object_position": null,
            "order": null,
            "overflow": null,
            "overflow_x": null,
            "overflow_y": null,
            "padding": null,
            "right": null,
            "top": null,
            "visibility": null,
            "width": null
          }
        },
        "8ab7c9e1ff1548d1a9ac6147b2a134ad": {
          "model_module": "@jupyter-widgets/controls",
          "model_name": "DescriptionStyleModel",
          "model_module_version": "1.5.0",
          "state": {
            "_model_module": "@jupyter-widgets/controls",
            "_model_module_version": "1.5.0",
            "_model_name": "DescriptionStyleModel",
            "_view_count": null,
            "_view_module": "@jupyter-widgets/base",
            "_view_module_version": "1.2.0",
            "_view_name": "StyleView",
            "description_width": ""
          }
        },
        "d1c9e61de35d4a82bc28c608a2f4f548": {
          "model_module": "@jupyter-widgets/base",
          "model_name": "LayoutModel",
          "model_module_version": "1.2.0",
          "state": {
            "_model_module": "@jupyter-widgets/base",
            "_model_module_version": "1.2.0",
            "_model_name": "LayoutModel",
            "_view_count": null,
            "_view_module": "@jupyter-widgets/base",
            "_view_module_version": "1.2.0",
            "_view_name": "LayoutView",
            "align_content": null,
            "align_items": null,
            "align_self": null,
            "border": null,
            "bottom": null,
            "display": null,
            "flex": null,
            "flex_flow": null,
            "grid_area": null,
            "grid_auto_columns": null,
            "grid_auto_flow": null,
            "grid_auto_rows": null,
            "grid_column": null,
            "grid_gap": null,
            "grid_row": null,
            "grid_template_areas": null,
            "grid_template_columns": null,
            "grid_template_rows": null,
            "height": null,
            "justify_content": null,
            "justify_items": null,
            "left": null,
            "margin": null,
            "max_height": null,
            "max_width": null,
            "min_height": null,
            "min_width": null,
            "object_fit": null,
            "object_position": null,
            "order": null,
            "overflow": null,
            "overflow_x": null,
            "overflow_y": null,
            "padding": null,
            "right": null,
            "top": null,
            "visibility": null,
            "width": null
          }
        },
        "4a85abb2e0114d0db460b2ab9837f29f": {
          "model_module": "@jupyter-widgets/controls",
          "model_name": "ProgressStyleModel",
          "model_module_version": "1.5.0",
          "state": {
            "_model_module": "@jupyter-widgets/controls",
            "_model_module_version": "1.5.0",
            "_model_name": "ProgressStyleModel",
            "_view_count": null,
            "_view_module": "@jupyter-widgets/base",
            "_view_module_version": "1.2.0",
            "_view_name": "StyleView",
            "bar_color": null,
            "description_width": ""
          }
        },
        "abc6c163779a4307b4b92eb946841640": {
          "model_module": "@jupyter-widgets/base",
          "model_name": "LayoutModel",
          "model_module_version": "1.2.0",
          "state": {
            "_model_module": "@jupyter-widgets/base",
            "_model_module_version": "1.2.0",
            "_model_name": "LayoutModel",
            "_view_count": null,
            "_view_module": "@jupyter-widgets/base",
            "_view_module_version": "1.2.0",
            "_view_name": "LayoutView",
            "align_content": null,
            "align_items": null,
            "align_self": null,
            "border": null,
            "bottom": null,
            "display": null,
            "flex": null,
            "flex_flow": null,
            "grid_area": null,
            "grid_auto_columns": null,
            "grid_auto_flow": null,
            "grid_auto_rows": null,
            "grid_column": null,
            "grid_gap": null,
            "grid_row": null,
            "grid_template_areas": null,
            "grid_template_columns": null,
            "grid_template_rows": null,
            "height": null,
            "justify_content": null,
            "justify_items": null,
            "left": null,
            "margin": null,
            "max_height": null,
            "max_width": null,
            "min_height": null,
            "min_width": null,
            "object_fit": null,
            "object_position": null,
            "order": null,
            "overflow": null,
            "overflow_x": null,
            "overflow_y": null,
            "padding": null,
            "right": null,
            "top": null,
            "visibility": null,
            "width": null
          }
        },
        "d54ba2c920de4502a61a8492d1b53ed8": {
          "model_module": "@jupyter-widgets/controls",
          "model_name": "DescriptionStyleModel",
          "model_module_version": "1.5.0",
          "state": {
            "_model_module": "@jupyter-widgets/controls",
            "_model_module_version": "1.5.0",
            "_model_name": "DescriptionStyleModel",
            "_view_count": null,
            "_view_module": "@jupyter-widgets/base",
            "_view_module_version": "1.2.0",
            "_view_name": "StyleView",
            "description_width": ""
          }
        },
        "68f442234ef444c48ea9a5ecb26f7fff": {
          "model_module": "@jupyter-widgets/controls",
          "model_name": "HBoxModel",
          "model_module_version": "1.5.0",
          "state": {
            "_dom_classes": [],
            "_model_module": "@jupyter-widgets/controls",
            "_model_module_version": "1.5.0",
            "_model_name": "HBoxModel",
            "_view_count": null,
            "_view_module": "@jupyter-widgets/controls",
            "_view_module_version": "1.5.0",
            "_view_name": "HBoxView",
            "box_style": "",
            "children": [
              "IPY_MODEL_2f30875f8c0949cc94630affe806ec33",
              "IPY_MODEL_933fa40d589e4876823bab6cde8378e3",
              "IPY_MODEL_85663209d11c471fab5162707d84561b"
            ],
            "layout": "IPY_MODEL_ea4dc968d36a4e84b01eee684d7dd52c"
          }
        },
        "2f30875f8c0949cc94630affe806ec33": {
          "model_module": "@jupyter-widgets/controls",
          "model_name": "HTMLModel",
          "model_module_version": "1.5.0",
          "state": {
            "_dom_classes": [],
            "_model_module": "@jupyter-widgets/controls",
            "_model_module_version": "1.5.0",
            "_model_name": "HTMLModel",
            "_view_count": null,
            "_view_module": "@jupyter-widgets/controls",
            "_view_module_version": "1.5.0",
            "_view_name": "HTMLView",
            "description": "",
            "description_tooltip": null,
            "layout": "IPY_MODEL_c4bdf26fc058408f863abaaf53d7fb89",
            "placeholder": "​",
            "style": "IPY_MODEL_77266dcbc95e44108163db7004768e94",
            "value": "100%"
          }
        },
        "933fa40d589e4876823bab6cde8378e3": {
          "model_module": "@jupyter-widgets/controls",
          "model_name": "FloatProgressModel",
          "model_module_version": "1.5.0",
          "state": {
            "_dom_classes": [],
            "_model_module": "@jupyter-widgets/controls",
            "_model_module_version": "1.5.0",
            "_model_name": "FloatProgressModel",
            "_view_count": null,
            "_view_module": "@jupyter-widgets/controls",
            "_view_module_version": "1.5.0",
            "_view_name": "ProgressView",
            "bar_style": "success",
            "description": "",
            "description_tooltip": null,
            "layout": "IPY_MODEL_4419fd2430fd406b9b9d0b52d77b392a",
            "max": 48,
            "min": 0,
            "orientation": "horizontal",
            "style": "IPY_MODEL_1d267c34ef7449d4af55e5b456a8ae06",
            "value": 48
          }
        },
        "85663209d11c471fab5162707d84561b": {
          "model_module": "@jupyter-widgets/controls",
          "model_name": "HTMLModel",
          "model_module_version": "1.5.0",
          "state": {
            "_dom_classes": [],
            "_model_module": "@jupyter-widgets/controls",
            "_model_module_version": "1.5.0",
            "_model_name": "HTMLModel",
            "_view_count": null,
            "_view_module": "@jupyter-widgets/controls",
            "_view_module_version": "1.5.0",
            "_view_name": "HTMLView",
            "description": "",
            "description_tooltip": null,
            "layout": "IPY_MODEL_78d71de962114599a710979c979ba0e2",
            "placeholder": "​",
            "style": "IPY_MODEL_bd9d5323b4e54197a2e49e7f81c236e6",
            "value": " 48/48 [00:16&lt;00:00,  3.49ba/s]"
          }
        },
        "ea4dc968d36a4e84b01eee684d7dd52c": {
          "model_module": "@jupyter-widgets/base",
          "model_name": "LayoutModel",
          "model_module_version": "1.2.0",
          "state": {
            "_model_module": "@jupyter-widgets/base",
            "_model_module_version": "1.2.0",
            "_model_name": "LayoutModel",
            "_view_count": null,
            "_view_module": "@jupyter-widgets/base",
            "_view_module_version": "1.2.0",
            "_view_name": "LayoutView",
            "align_content": null,
            "align_items": null,
            "align_self": null,
            "border": null,
            "bottom": null,
            "display": null,
            "flex": null,
            "flex_flow": null,
            "grid_area": null,
            "grid_auto_columns": null,
            "grid_auto_flow": null,
            "grid_auto_rows": null,
            "grid_column": null,
            "grid_gap": null,
            "grid_row": null,
            "grid_template_areas": null,
            "grid_template_columns": null,
            "grid_template_rows": null,
            "height": null,
            "justify_content": null,
            "justify_items": null,
            "left": null,
            "margin": null,
            "max_height": null,
            "max_width": null,
            "min_height": null,
            "min_width": null,
            "object_fit": null,
            "object_position": null,
            "order": null,
            "overflow": null,
            "overflow_x": null,
            "overflow_y": null,
            "padding": null,
            "right": null,
            "top": null,
            "visibility": null,
            "width": null
          }
        },
        "c4bdf26fc058408f863abaaf53d7fb89": {
          "model_module": "@jupyter-widgets/base",
          "model_name": "LayoutModel",
          "model_module_version": "1.2.0",
          "state": {
            "_model_module": "@jupyter-widgets/base",
            "_model_module_version": "1.2.0",
            "_model_name": "LayoutModel",
            "_view_count": null,
            "_view_module": "@jupyter-widgets/base",
            "_view_module_version": "1.2.0",
            "_view_name": "LayoutView",
            "align_content": null,
            "align_items": null,
            "align_self": null,
            "border": null,
            "bottom": null,
            "display": null,
            "flex": null,
            "flex_flow": null,
            "grid_area": null,
            "grid_auto_columns": null,
            "grid_auto_flow": null,
            "grid_auto_rows": null,
            "grid_column": null,
            "grid_gap": null,
            "grid_row": null,
            "grid_template_areas": null,
            "grid_template_columns": null,
            "grid_template_rows": null,
            "height": null,
            "justify_content": null,
            "justify_items": null,
            "left": null,
            "margin": null,
            "max_height": null,
            "max_width": null,
            "min_height": null,
            "min_width": null,
            "object_fit": null,
            "object_position": null,
            "order": null,
            "overflow": null,
            "overflow_x": null,
            "overflow_y": null,
            "padding": null,
            "right": null,
            "top": null,
            "visibility": null,
            "width": null
          }
        },
        "77266dcbc95e44108163db7004768e94": {
          "model_module": "@jupyter-widgets/controls",
          "model_name": "DescriptionStyleModel",
          "model_module_version": "1.5.0",
          "state": {
            "_model_module": "@jupyter-widgets/controls",
            "_model_module_version": "1.5.0",
            "_model_name": "DescriptionStyleModel",
            "_view_count": null,
            "_view_module": "@jupyter-widgets/base",
            "_view_module_version": "1.2.0",
            "_view_name": "StyleView",
            "description_width": ""
          }
        },
        "4419fd2430fd406b9b9d0b52d77b392a": {
          "model_module": "@jupyter-widgets/base",
          "model_name": "LayoutModel",
          "model_module_version": "1.2.0",
          "state": {
            "_model_module": "@jupyter-widgets/base",
            "_model_module_version": "1.2.0",
            "_model_name": "LayoutModel",
            "_view_count": null,
            "_view_module": "@jupyter-widgets/base",
            "_view_module_version": "1.2.0",
            "_view_name": "LayoutView",
            "align_content": null,
            "align_items": null,
            "align_self": null,
            "border": null,
            "bottom": null,
            "display": null,
            "flex": null,
            "flex_flow": null,
            "grid_area": null,
            "grid_auto_columns": null,
            "grid_auto_flow": null,
            "grid_auto_rows": null,
            "grid_column": null,
            "grid_gap": null,
            "grid_row": null,
            "grid_template_areas": null,
            "grid_template_columns": null,
            "grid_template_rows": null,
            "height": null,
            "justify_content": null,
            "justify_items": null,
            "left": null,
            "margin": null,
            "max_height": null,
            "max_width": null,
            "min_height": null,
            "min_width": null,
            "object_fit": null,
            "object_position": null,
            "order": null,
            "overflow": null,
            "overflow_x": null,
            "overflow_y": null,
            "padding": null,
            "right": null,
            "top": null,
            "visibility": null,
            "width": null
          }
        },
        "1d267c34ef7449d4af55e5b456a8ae06": {
          "model_module": "@jupyter-widgets/controls",
          "model_name": "ProgressStyleModel",
          "model_module_version": "1.5.0",
          "state": {
            "_model_module": "@jupyter-widgets/controls",
            "_model_module_version": "1.5.0",
            "_model_name": "ProgressStyleModel",
            "_view_count": null,
            "_view_module": "@jupyter-widgets/base",
            "_view_module_version": "1.2.0",
            "_view_name": "StyleView",
            "bar_color": null,
            "description_width": ""
          }
        },
        "78d71de962114599a710979c979ba0e2": {
          "model_module": "@jupyter-widgets/base",
          "model_name": "LayoutModel",
          "model_module_version": "1.2.0",
          "state": {
            "_model_module": "@jupyter-widgets/base",
            "_model_module_version": "1.2.0",
            "_model_name": "LayoutModel",
            "_view_count": null,
            "_view_module": "@jupyter-widgets/base",
            "_view_module_version": "1.2.0",
            "_view_name": "LayoutView",
            "align_content": null,
            "align_items": null,
            "align_self": null,
            "border": null,
            "bottom": null,
            "display": null,
            "flex": null,
            "flex_flow": null,
            "grid_area": null,
            "grid_auto_columns": null,
            "grid_auto_flow": null,
            "grid_auto_rows": null,
            "grid_column": null,
            "grid_gap": null,
            "grid_row": null,
            "grid_template_areas": null,
            "grid_template_columns": null,
            "grid_template_rows": null,
            "height": null,
            "justify_content": null,
            "justify_items": null,
            "left": null,
            "margin": null,
            "max_height": null,
            "max_width": null,
            "min_height": null,
            "min_width": null,
            "object_fit": null,
            "object_position": null,
            "order": null,
            "overflow": null,
            "overflow_x": null,
            "overflow_y": null,
            "padding": null,
            "right": null,
            "top": null,
            "visibility": null,
            "width": null
          }
        },
        "bd9d5323b4e54197a2e49e7f81c236e6": {
          "model_module": "@jupyter-widgets/controls",
          "model_name": "DescriptionStyleModel",
          "model_module_version": "1.5.0",
          "state": {
            "_model_module": "@jupyter-widgets/controls",
            "_model_module_version": "1.5.0",
            "_model_name": "DescriptionStyleModel",
            "_view_count": null,
            "_view_module": "@jupyter-widgets/base",
            "_view_module_version": "1.2.0",
            "_view_name": "StyleView",
            "description_width": ""
          }
        },
        "ce860c84a9494ad6b6aa2c91c7b6d634": {
          "model_module": "@jupyter-widgets/controls",
          "model_name": "HBoxModel",
          "model_module_version": "1.5.0",
          "state": {
            "_dom_classes": [],
            "_model_module": "@jupyter-widgets/controls",
            "_model_module_version": "1.5.0",
            "_model_name": "HBoxModel",
            "_view_count": null,
            "_view_module": "@jupyter-widgets/controls",
            "_view_module_version": "1.5.0",
            "_view_name": "HBoxView",
            "box_style": "",
            "children": [
              "IPY_MODEL_6e794b18259b43dfb03be8461536b520",
              "IPY_MODEL_8faa5ade13ee4df0a8b3ad5390a9d186",
              "IPY_MODEL_dadc9a7fe601472e9edde31e4cc9126b"
            ],
            "layout": "IPY_MODEL_b710177711b3481888cd78cb96a0dd50"
          }
        },
        "6e794b18259b43dfb03be8461536b520": {
          "model_module": "@jupyter-widgets/controls",
          "model_name": "HTMLModel",
          "model_module_version": "1.5.0",
          "state": {
            "_dom_classes": [],
            "_model_module": "@jupyter-widgets/controls",
            "_model_module_version": "1.5.0",
            "_model_name": "HTMLModel",
            "_view_count": null,
            "_view_module": "@jupyter-widgets/controls",
            "_view_module_version": "1.5.0",
            "_view_name": "HTMLView",
            "description": "",
            "description_tooltip": null,
            "layout": "IPY_MODEL_2f9643a7648e495fb87cf26cb60d618b",
            "placeholder": "​",
            "style": "IPY_MODEL_e5afe1975ac14ce5a004a8ae289b6640",
            "value": "100%"
          }
        },
        "8faa5ade13ee4df0a8b3ad5390a9d186": {
          "model_module": "@jupyter-widgets/controls",
          "model_name": "FloatProgressModel",
          "model_module_version": "1.5.0",
          "state": {
            "_dom_classes": [],
            "_model_module": "@jupyter-widgets/controls",
            "_model_module_version": "1.5.0",
            "_model_name": "FloatProgressModel",
            "_view_count": null,
            "_view_module": "@jupyter-widgets/controls",
            "_view_module_version": "1.5.0",
            "_view_name": "ProgressView",
            "bar_style": "success",
            "description": "",
            "description_tooltip": null,
            "layout": "IPY_MODEL_e777008de6e14c55a2e42b1b4a24df83",
            "max": 6,
            "min": 0,
            "orientation": "horizontal",
            "style": "IPY_MODEL_7df1ff725b41468687cb3db8255b6c03",
            "value": 6
          }
        },
        "dadc9a7fe601472e9edde31e4cc9126b": {
          "model_module": "@jupyter-widgets/controls",
          "model_name": "HTMLModel",
          "model_module_version": "1.5.0",
          "state": {
            "_dom_classes": [],
            "_model_module": "@jupyter-widgets/controls",
            "_model_module_version": "1.5.0",
            "_model_name": "HTMLModel",
            "_view_count": null,
            "_view_module": "@jupyter-widgets/controls",
            "_view_module_version": "1.5.0",
            "_view_name": "HTMLView",
            "description": "",
            "description_tooltip": null,
            "layout": "IPY_MODEL_842b55f274eb4d3fa509205cbd3ae2c2",
            "placeholder": "​",
            "style": "IPY_MODEL_e5bdb616b1d44d49ab222c060ac57e91",
            "value": " 6/6 [00:01&lt;00:00,  2.83ba/s]"
          }
        },
        "b710177711b3481888cd78cb96a0dd50": {
          "model_module": "@jupyter-widgets/base",
          "model_name": "LayoutModel",
          "model_module_version": "1.2.0",
          "state": {
            "_model_module": "@jupyter-widgets/base",
            "_model_module_version": "1.2.0",
            "_model_name": "LayoutModel",
            "_view_count": null,
            "_view_module": "@jupyter-widgets/base",
            "_view_module_version": "1.2.0",
            "_view_name": "LayoutView",
            "align_content": null,
            "align_items": null,
            "align_self": null,
            "border": null,
            "bottom": null,
            "display": null,
            "flex": null,
            "flex_flow": null,
            "grid_area": null,
            "grid_auto_columns": null,
            "grid_auto_flow": null,
            "grid_auto_rows": null,
            "grid_column": null,
            "grid_gap": null,
            "grid_row": null,
            "grid_template_areas": null,
            "grid_template_columns": null,
            "grid_template_rows": null,
            "height": null,
            "justify_content": null,
            "justify_items": null,
            "left": null,
            "margin": null,
            "max_height": null,
            "max_width": null,
            "min_height": null,
            "min_width": null,
            "object_fit": null,
            "object_position": null,
            "order": null,
            "overflow": null,
            "overflow_x": null,
            "overflow_y": null,
            "padding": null,
            "right": null,
            "top": null,
            "visibility": null,
            "width": null
          }
        },
        "2f9643a7648e495fb87cf26cb60d618b": {
          "model_module": "@jupyter-widgets/base",
          "model_name": "LayoutModel",
          "model_module_version": "1.2.0",
          "state": {
            "_model_module": "@jupyter-widgets/base",
            "_model_module_version": "1.2.0",
            "_model_name": "LayoutModel",
            "_view_count": null,
            "_view_module": "@jupyter-widgets/base",
            "_view_module_version": "1.2.0",
            "_view_name": "LayoutView",
            "align_content": null,
            "align_items": null,
            "align_self": null,
            "border": null,
            "bottom": null,
            "display": null,
            "flex": null,
            "flex_flow": null,
            "grid_area": null,
            "grid_auto_columns": null,
            "grid_auto_flow": null,
            "grid_auto_rows": null,
            "grid_column": null,
            "grid_gap": null,
            "grid_row": null,
            "grid_template_areas": null,
            "grid_template_columns": null,
            "grid_template_rows": null,
            "height": null,
            "justify_content": null,
            "justify_items": null,
            "left": null,
            "margin": null,
            "max_height": null,
            "max_width": null,
            "min_height": null,
            "min_width": null,
            "object_fit": null,
            "object_position": null,
            "order": null,
            "overflow": null,
            "overflow_x": null,
            "overflow_y": null,
            "padding": null,
            "right": null,
            "top": null,
            "visibility": null,
            "width": null
          }
        },
        "e5afe1975ac14ce5a004a8ae289b6640": {
          "model_module": "@jupyter-widgets/controls",
          "model_name": "DescriptionStyleModel",
          "model_module_version": "1.5.0",
          "state": {
            "_model_module": "@jupyter-widgets/controls",
            "_model_module_version": "1.5.0",
            "_model_name": "DescriptionStyleModel",
            "_view_count": null,
            "_view_module": "@jupyter-widgets/base",
            "_view_module_version": "1.2.0",
            "_view_name": "StyleView",
            "description_width": ""
          }
        },
        "e777008de6e14c55a2e42b1b4a24df83": {
          "model_module": "@jupyter-widgets/base",
          "model_name": "LayoutModel",
          "model_module_version": "1.2.0",
          "state": {
            "_model_module": "@jupyter-widgets/base",
            "_model_module_version": "1.2.0",
            "_model_name": "LayoutModel",
            "_view_count": null,
            "_view_module": "@jupyter-widgets/base",
            "_view_module_version": "1.2.0",
            "_view_name": "LayoutView",
            "align_content": null,
            "align_items": null,
            "align_self": null,
            "border": null,
            "bottom": null,
            "display": null,
            "flex": null,
            "flex_flow": null,
            "grid_area": null,
            "grid_auto_columns": null,
            "grid_auto_flow": null,
            "grid_auto_rows": null,
            "grid_column": null,
            "grid_gap": null,
            "grid_row": null,
            "grid_template_areas": null,
            "grid_template_columns": null,
            "grid_template_rows": null,
            "height": null,
            "justify_content": null,
            "justify_items": null,
            "left": null,
            "margin": null,
            "max_height": null,
            "max_width": null,
            "min_height": null,
            "min_width": null,
            "object_fit": null,
            "object_position": null,
            "order": null,
            "overflow": null,
            "overflow_x": null,
            "overflow_y": null,
            "padding": null,
            "right": null,
            "top": null,
            "visibility": null,
            "width": null
          }
        },
        "7df1ff725b41468687cb3db8255b6c03": {
          "model_module": "@jupyter-widgets/controls",
          "model_name": "ProgressStyleModel",
          "model_module_version": "1.5.0",
          "state": {
            "_model_module": "@jupyter-widgets/controls",
            "_model_module_version": "1.5.0",
            "_model_name": "ProgressStyleModel",
            "_view_count": null,
            "_view_module": "@jupyter-widgets/base",
            "_view_module_version": "1.2.0",
            "_view_name": "StyleView",
            "bar_color": null,
            "description_width": ""
          }
        },
        "842b55f274eb4d3fa509205cbd3ae2c2": {
          "model_module": "@jupyter-widgets/base",
          "model_name": "LayoutModel",
          "model_module_version": "1.2.0",
          "state": {
            "_model_module": "@jupyter-widgets/base",
            "_model_module_version": "1.2.0",
            "_model_name": "LayoutModel",
            "_view_count": null,
            "_view_module": "@jupyter-widgets/base",
            "_view_module_version": "1.2.0",
            "_view_name": "LayoutView",
            "align_content": null,
            "align_items": null,
            "align_self": null,
            "border": null,
            "bottom": null,
            "display": null,
            "flex": null,
            "flex_flow": null,
            "grid_area": null,
            "grid_auto_columns": null,
            "grid_auto_flow": null,
            "grid_auto_rows": null,
            "grid_column": null,
            "grid_gap": null,
            "grid_row": null,
            "grid_template_areas": null,
            "grid_template_columns": null,
            "grid_template_rows": null,
            "height": null,
            "justify_content": null,
            "justify_items": null,
            "left": null,
            "margin": null,
            "max_height": null,
            "max_width": null,
            "min_height": null,
            "min_width": null,
            "object_fit": null,
            "object_position": null,
            "order": null,
            "overflow": null,
            "overflow_x": null,
            "overflow_y": null,
            "padding": null,
            "right": null,
            "top": null,
            "visibility": null,
            "width": null
          }
        },
        "e5bdb616b1d44d49ab222c060ac57e91": {
          "model_module": "@jupyter-widgets/controls",
          "model_name": "DescriptionStyleModel",
          "model_module_version": "1.5.0",
          "state": {
            "_model_module": "@jupyter-widgets/controls",
            "_model_module_version": "1.5.0",
            "_model_name": "DescriptionStyleModel",
            "_view_count": null,
            "_view_module": "@jupyter-widgets/base",
            "_view_module_version": "1.2.0",
            "_view_name": "StyleView",
            "description_width": ""
          }
        },
        "d6cac1ccabd6435fb43dfbe57f408041": {
          "model_module": "@jupyter-widgets/controls",
          "model_name": "HBoxModel",
          "model_module_version": "1.5.0",
          "state": {
            "_dom_classes": [],
            "_model_module": "@jupyter-widgets/controls",
            "_model_module_version": "1.5.0",
            "_model_name": "HBoxModel",
            "_view_count": null,
            "_view_module": "@jupyter-widgets/controls",
            "_view_module_version": "1.5.0",
            "_view_name": "HBoxView",
            "box_style": "",
            "children": [
              "IPY_MODEL_2ef92308713441878417f697acad5146",
              "IPY_MODEL_0636feea6b3841838003af4c2d6c7e48",
              "IPY_MODEL_36ca7c816bef46fabd6e3104a70e4155"
            ],
            "layout": "IPY_MODEL_38f1a92f145a45028c4a646e3e0edc8c"
          }
        },
        "2ef92308713441878417f697acad5146": {
          "model_module": "@jupyter-widgets/controls",
          "model_name": "HTMLModel",
          "model_module_version": "1.5.0",
          "state": {
            "_dom_classes": [],
            "_model_module": "@jupyter-widgets/controls",
            "_model_module_version": "1.5.0",
            "_model_name": "HTMLModel",
            "_view_count": null,
            "_view_module": "@jupyter-widgets/controls",
            "_view_module_version": "1.5.0",
            "_view_name": "HTMLView",
            "description": "",
            "description_tooltip": null,
            "layout": "IPY_MODEL_6df9cf89e80b49d3b4e303ae0c0433c0",
            "placeholder": "​",
            "style": "IPY_MODEL_ff29e4a424e44d3ba93b7b6b09f55da6",
            "value": "100%"
          }
        },
        "0636feea6b3841838003af4c2d6c7e48": {
          "model_module": "@jupyter-widgets/controls",
          "model_name": "FloatProgressModel",
          "model_module_version": "1.5.0",
          "state": {
            "_dom_classes": [],
            "_model_module": "@jupyter-widgets/controls",
            "_model_module_version": "1.5.0",
            "_model_name": "FloatProgressModel",
            "_view_count": null,
            "_view_module": "@jupyter-widgets/controls",
            "_view_module_version": "1.5.0",
            "_view_name": "ProgressView",
            "bar_style": "success",
            "description": "",
            "description_tooltip": null,
            "layout": "IPY_MODEL_4373148266da4f6dbd6df0b9f27141b9",
            "max": 6,
            "min": 0,
            "orientation": "horizontal",
            "style": "IPY_MODEL_3587a1372ef643ee895c591182617bf7",
            "value": 6
          }
        },
        "36ca7c816bef46fabd6e3104a70e4155": {
          "model_module": "@jupyter-widgets/controls",
          "model_name": "HTMLModel",
          "model_module_version": "1.5.0",
          "state": {
            "_dom_classes": [],
            "_model_module": "@jupyter-widgets/controls",
            "_model_module_version": "1.5.0",
            "_model_name": "HTMLModel",
            "_view_count": null,
            "_view_module": "@jupyter-widgets/controls",
            "_view_module_version": "1.5.0",
            "_view_name": "HTMLView",
            "description": "",
            "description_tooltip": null,
            "layout": "IPY_MODEL_4bd94981c56248d4800576151b4d2d3c",
            "placeholder": "​",
            "style": "IPY_MODEL_81016eac795b4f25a0b62fdbe83d8c20",
            "value": " 6/6 [00:01&lt;00:00,  3.40ba/s]"
          }
        },
        "38f1a92f145a45028c4a646e3e0edc8c": {
          "model_module": "@jupyter-widgets/base",
          "model_name": "LayoutModel",
          "model_module_version": "1.2.0",
          "state": {
            "_model_module": "@jupyter-widgets/base",
            "_model_module_version": "1.2.0",
            "_model_name": "LayoutModel",
            "_view_count": null,
            "_view_module": "@jupyter-widgets/base",
            "_view_module_version": "1.2.0",
            "_view_name": "LayoutView",
            "align_content": null,
            "align_items": null,
            "align_self": null,
            "border": null,
            "bottom": null,
            "display": null,
            "flex": null,
            "flex_flow": null,
            "grid_area": null,
            "grid_auto_columns": null,
            "grid_auto_flow": null,
            "grid_auto_rows": null,
            "grid_column": null,
            "grid_gap": null,
            "grid_row": null,
            "grid_template_areas": null,
            "grid_template_columns": null,
            "grid_template_rows": null,
            "height": null,
            "justify_content": null,
            "justify_items": null,
            "left": null,
            "margin": null,
            "max_height": null,
            "max_width": null,
            "min_height": null,
            "min_width": null,
            "object_fit": null,
            "object_position": null,
            "order": null,
            "overflow": null,
            "overflow_x": null,
            "overflow_y": null,
            "padding": null,
            "right": null,
            "top": null,
            "visibility": null,
            "width": null
          }
        },
        "6df9cf89e80b49d3b4e303ae0c0433c0": {
          "model_module": "@jupyter-widgets/base",
          "model_name": "LayoutModel",
          "model_module_version": "1.2.0",
          "state": {
            "_model_module": "@jupyter-widgets/base",
            "_model_module_version": "1.2.0",
            "_model_name": "LayoutModel",
            "_view_count": null,
            "_view_module": "@jupyter-widgets/base",
            "_view_module_version": "1.2.0",
            "_view_name": "LayoutView",
            "align_content": null,
            "align_items": null,
            "align_self": null,
            "border": null,
            "bottom": null,
            "display": null,
            "flex": null,
            "flex_flow": null,
            "grid_area": null,
            "grid_auto_columns": null,
            "grid_auto_flow": null,
            "grid_auto_rows": null,
            "grid_column": null,
            "grid_gap": null,
            "grid_row": null,
            "grid_template_areas": null,
            "grid_template_columns": null,
            "grid_template_rows": null,
            "height": null,
            "justify_content": null,
            "justify_items": null,
            "left": null,
            "margin": null,
            "max_height": null,
            "max_width": null,
            "min_height": null,
            "min_width": null,
            "object_fit": null,
            "object_position": null,
            "order": null,
            "overflow": null,
            "overflow_x": null,
            "overflow_y": null,
            "padding": null,
            "right": null,
            "top": null,
            "visibility": null,
            "width": null
          }
        },
        "ff29e4a424e44d3ba93b7b6b09f55da6": {
          "model_module": "@jupyter-widgets/controls",
          "model_name": "DescriptionStyleModel",
          "model_module_version": "1.5.0",
          "state": {
            "_model_module": "@jupyter-widgets/controls",
            "_model_module_version": "1.5.0",
            "_model_name": "DescriptionStyleModel",
            "_view_count": null,
            "_view_module": "@jupyter-widgets/base",
            "_view_module_version": "1.2.0",
            "_view_name": "StyleView",
            "description_width": ""
          }
        },
        "4373148266da4f6dbd6df0b9f27141b9": {
          "model_module": "@jupyter-widgets/base",
          "model_name": "LayoutModel",
          "model_module_version": "1.2.0",
          "state": {
            "_model_module": "@jupyter-widgets/base",
            "_model_module_version": "1.2.0",
            "_model_name": "LayoutModel",
            "_view_count": null,
            "_view_module": "@jupyter-widgets/base",
            "_view_module_version": "1.2.0",
            "_view_name": "LayoutView",
            "align_content": null,
            "align_items": null,
            "align_self": null,
            "border": null,
            "bottom": null,
            "display": null,
            "flex": null,
            "flex_flow": null,
            "grid_area": null,
            "grid_auto_columns": null,
            "grid_auto_flow": null,
            "grid_auto_rows": null,
            "grid_column": null,
            "grid_gap": null,
            "grid_row": null,
            "grid_template_areas": null,
            "grid_template_columns": null,
            "grid_template_rows": null,
            "height": null,
            "justify_content": null,
            "justify_items": null,
            "left": null,
            "margin": null,
            "max_height": null,
            "max_width": null,
            "min_height": null,
            "min_width": null,
            "object_fit": null,
            "object_position": null,
            "order": null,
            "overflow": null,
            "overflow_x": null,
            "overflow_y": null,
            "padding": null,
            "right": null,
            "top": null,
            "visibility": null,
            "width": null
          }
        },
        "3587a1372ef643ee895c591182617bf7": {
          "model_module": "@jupyter-widgets/controls",
          "model_name": "ProgressStyleModel",
          "model_module_version": "1.5.0",
          "state": {
            "_model_module": "@jupyter-widgets/controls",
            "_model_module_version": "1.5.0",
            "_model_name": "ProgressStyleModel",
            "_view_count": null,
            "_view_module": "@jupyter-widgets/base",
            "_view_module_version": "1.2.0",
            "_view_name": "StyleView",
            "bar_color": null,
            "description_width": ""
          }
        },
        "4bd94981c56248d4800576151b4d2d3c": {
          "model_module": "@jupyter-widgets/base",
          "model_name": "LayoutModel",
          "model_module_version": "1.2.0",
          "state": {
            "_model_module": "@jupyter-widgets/base",
            "_model_module_version": "1.2.0",
            "_model_name": "LayoutModel",
            "_view_count": null,
            "_view_module": "@jupyter-widgets/base",
            "_view_module_version": "1.2.0",
            "_view_name": "LayoutView",
            "align_content": null,
            "align_items": null,
            "align_self": null,
            "border": null,
            "bottom": null,
            "display": null,
            "flex": null,
            "flex_flow": null,
            "grid_area": null,
            "grid_auto_columns": null,
            "grid_auto_flow": null,
            "grid_auto_rows": null,
            "grid_column": null,
            "grid_gap": null,
            "grid_row": null,
            "grid_template_areas": null,
            "grid_template_columns": null,
            "grid_template_rows": null,
            "height": null,
            "justify_content": null,
            "justify_items": null,
            "left": null,
            "margin": null,
            "max_height": null,
            "max_width": null,
            "min_height": null,
            "min_width": null,
            "object_fit": null,
            "object_position": null,
            "order": null,
            "overflow": null,
            "overflow_x": null,
            "overflow_y": null,
            "padding": null,
            "right": null,
            "top": null,
            "visibility": null,
            "width": null
          }
        },
        "81016eac795b4f25a0b62fdbe83d8c20": {
          "model_module": "@jupyter-widgets/controls",
          "model_name": "DescriptionStyleModel",
          "model_module_version": "1.5.0",
          "state": {
            "_model_module": "@jupyter-widgets/controls",
            "_model_module_version": "1.5.0",
            "_model_name": "DescriptionStyleModel",
            "_view_count": null,
            "_view_module": "@jupyter-widgets/base",
            "_view_module_version": "1.2.0",
            "_view_name": "StyleView",
            "description_width": ""
          }
        },
        "5e99f5e6e9d0458fa36736c2480d3476": {
          "model_module": "@jupyter-widgets/controls",
          "model_name": "HBoxModel",
          "model_module_version": "1.5.0",
          "state": {
            "_dom_classes": [],
            "_model_module": "@jupyter-widgets/controls",
            "_model_module_version": "1.5.0",
            "_model_name": "HBoxModel",
            "_view_count": null,
            "_view_module": "@jupyter-widgets/controls",
            "_view_module_version": "1.5.0",
            "_view_name": "HBoxView",
            "box_style": "",
            "children": [
              "IPY_MODEL_79af6688a0b64ecea8c8d836067cf255",
              "IPY_MODEL_02f501527f4a4c04b15870b3a1b7667d",
              "IPY_MODEL_a10b22a63bdf492db070054fbb1f4ecc"
            ],
            "layout": "IPY_MODEL_72d07ec389374accb3f47f3049f29b75"
          }
        },
        "79af6688a0b64ecea8c8d836067cf255": {
          "model_module": "@jupyter-widgets/controls",
          "model_name": "HTMLModel",
          "model_module_version": "1.5.0",
          "state": {
            "_dom_classes": [],
            "_model_module": "@jupyter-widgets/controls",
            "_model_module_version": "1.5.0",
            "_model_name": "HTMLModel",
            "_view_count": null,
            "_view_module": "@jupyter-widgets/controls",
            "_view_module_version": "1.5.0",
            "_view_name": "HTMLView",
            "description": "",
            "description_tooltip": null,
            "layout": "IPY_MODEL_737930490f5d4273a96bbbe13e67ab5a",
            "placeholder": "​",
            "style": "IPY_MODEL_f6f0f64a9f564fc3b4006f0df314937e",
            "value": "Downloading: 100%"
          }
        },
        "02f501527f4a4c04b15870b3a1b7667d": {
          "model_module": "@jupyter-widgets/controls",
          "model_name": "FloatProgressModel",
          "model_module_version": "1.5.0",
          "state": {
            "_dom_classes": [],
            "_model_module": "@jupyter-widgets/controls",
            "_model_module_version": "1.5.0",
            "_model_name": "FloatProgressModel",
            "_view_count": null,
            "_view_module": "@jupyter-widgets/controls",
            "_view_module_version": "1.5.0",
            "_view_name": "ProgressView",
            "bar_style": "success",
            "description": "",
            "description_tooltip": null,
            "layout": "IPY_MODEL_924cb3f665dc4849ac9b176c1389eaa7",
            "max": 267967963,
            "min": 0,
            "orientation": "horizontal",
            "style": "IPY_MODEL_36b94a7ab3064d9d916df697345a094b",
            "value": 267967963
          }
        },
        "a10b22a63bdf492db070054fbb1f4ecc": {
          "model_module": "@jupyter-widgets/controls",
          "model_name": "HTMLModel",
          "model_module_version": "1.5.0",
          "state": {
            "_dom_classes": [],
            "_model_module": "@jupyter-widgets/controls",
            "_model_module_version": "1.5.0",
            "_model_name": "HTMLModel",
            "_view_count": null,
            "_view_module": "@jupyter-widgets/controls",
            "_view_module_version": "1.5.0",
            "_view_name": "HTMLView",
            "description": "",
            "description_tooltip": null,
            "layout": "IPY_MODEL_6ee436bbaf894b62bc2dd3716e64b3c0",
            "placeholder": "​",
            "style": "IPY_MODEL_60667b7f6d5d46e0bc52df9f276d71bd",
            "value": " 256M/256M [00:06&lt;00:00, 43.2MB/s]"
          }
        },
        "72d07ec389374accb3f47f3049f29b75": {
          "model_module": "@jupyter-widgets/base",
          "model_name": "LayoutModel",
          "model_module_version": "1.2.0",
          "state": {
            "_model_module": "@jupyter-widgets/base",
            "_model_module_version": "1.2.0",
            "_model_name": "LayoutModel",
            "_view_count": null,
            "_view_module": "@jupyter-widgets/base",
            "_view_module_version": "1.2.0",
            "_view_name": "LayoutView",
            "align_content": null,
            "align_items": null,
            "align_self": null,
            "border": null,
            "bottom": null,
            "display": null,
            "flex": null,
            "flex_flow": null,
            "grid_area": null,
            "grid_auto_columns": null,
            "grid_auto_flow": null,
            "grid_auto_rows": null,
            "grid_column": null,
            "grid_gap": null,
            "grid_row": null,
            "grid_template_areas": null,
            "grid_template_columns": null,
            "grid_template_rows": null,
            "height": null,
            "justify_content": null,
            "justify_items": null,
            "left": null,
            "margin": null,
            "max_height": null,
            "max_width": null,
            "min_height": null,
            "min_width": null,
            "object_fit": null,
            "object_position": null,
            "order": null,
            "overflow": null,
            "overflow_x": null,
            "overflow_y": null,
            "padding": null,
            "right": null,
            "top": null,
            "visibility": null,
            "width": null
          }
        },
        "737930490f5d4273a96bbbe13e67ab5a": {
          "model_module": "@jupyter-widgets/base",
          "model_name": "LayoutModel",
          "model_module_version": "1.2.0",
          "state": {
            "_model_module": "@jupyter-widgets/base",
            "_model_module_version": "1.2.0",
            "_model_name": "LayoutModel",
            "_view_count": null,
            "_view_module": "@jupyter-widgets/base",
            "_view_module_version": "1.2.0",
            "_view_name": "LayoutView",
            "align_content": null,
            "align_items": null,
            "align_self": null,
            "border": null,
            "bottom": null,
            "display": null,
            "flex": null,
            "flex_flow": null,
            "grid_area": null,
            "grid_auto_columns": null,
            "grid_auto_flow": null,
            "grid_auto_rows": null,
            "grid_column": null,
            "grid_gap": null,
            "grid_row": null,
            "grid_template_areas": null,
            "grid_template_columns": null,
            "grid_template_rows": null,
            "height": null,
            "justify_content": null,
            "justify_items": null,
            "left": null,
            "margin": null,
            "max_height": null,
            "max_width": null,
            "min_height": null,
            "min_width": null,
            "object_fit": null,
            "object_position": null,
            "order": null,
            "overflow": null,
            "overflow_x": null,
            "overflow_y": null,
            "padding": null,
            "right": null,
            "top": null,
            "visibility": null,
            "width": null
          }
        },
        "f6f0f64a9f564fc3b4006f0df314937e": {
          "model_module": "@jupyter-widgets/controls",
          "model_name": "DescriptionStyleModel",
          "model_module_version": "1.5.0",
          "state": {
            "_model_module": "@jupyter-widgets/controls",
            "_model_module_version": "1.5.0",
            "_model_name": "DescriptionStyleModel",
            "_view_count": null,
            "_view_module": "@jupyter-widgets/base",
            "_view_module_version": "1.2.0",
            "_view_name": "StyleView",
            "description_width": ""
          }
        },
        "924cb3f665dc4849ac9b176c1389eaa7": {
          "model_module": "@jupyter-widgets/base",
          "model_name": "LayoutModel",
          "model_module_version": "1.2.0",
          "state": {
            "_model_module": "@jupyter-widgets/base",
            "_model_module_version": "1.2.0",
            "_model_name": "LayoutModel",
            "_view_count": null,
            "_view_module": "@jupyter-widgets/base",
            "_view_module_version": "1.2.0",
            "_view_name": "LayoutView",
            "align_content": null,
            "align_items": null,
            "align_self": null,
            "border": null,
            "bottom": null,
            "display": null,
            "flex": null,
            "flex_flow": null,
            "grid_area": null,
            "grid_auto_columns": null,
            "grid_auto_flow": null,
            "grid_auto_rows": null,
            "grid_column": null,
            "grid_gap": null,
            "grid_row": null,
            "grid_template_areas": null,
            "grid_template_columns": null,
            "grid_template_rows": null,
            "height": null,
            "justify_content": null,
            "justify_items": null,
            "left": null,
            "margin": null,
            "max_height": null,
            "max_width": null,
            "min_height": null,
            "min_width": null,
            "object_fit": null,
            "object_position": null,
            "order": null,
            "overflow": null,
            "overflow_x": null,
            "overflow_y": null,
            "padding": null,
            "right": null,
            "top": null,
            "visibility": null,
            "width": null
          }
        },
        "36b94a7ab3064d9d916df697345a094b": {
          "model_module": "@jupyter-widgets/controls",
          "model_name": "ProgressStyleModel",
          "model_module_version": "1.5.0",
          "state": {
            "_model_module": "@jupyter-widgets/controls",
            "_model_module_version": "1.5.0",
            "_model_name": "ProgressStyleModel",
            "_view_count": null,
            "_view_module": "@jupyter-widgets/base",
            "_view_module_version": "1.2.0",
            "_view_name": "StyleView",
            "bar_color": null,
            "description_width": ""
          }
        },
        "6ee436bbaf894b62bc2dd3716e64b3c0": {
          "model_module": "@jupyter-widgets/base",
          "model_name": "LayoutModel",
          "model_module_version": "1.2.0",
          "state": {
            "_model_module": "@jupyter-widgets/base",
            "_model_module_version": "1.2.0",
            "_model_name": "LayoutModel",
            "_view_count": null,
            "_view_module": "@jupyter-widgets/base",
            "_view_module_version": "1.2.0",
            "_view_name": "LayoutView",
            "align_content": null,
            "align_items": null,
            "align_self": null,
            "border": null,
            "bottom": null,
            "display": null,
            "flex": null,
            "flex_flow": null,
            "grid_area": null,
            "grid_auto_columns": null,
            "grid_auto_flow": null,
            "grid_auto_rows": null,
            "grid_column": null,
            "grid_gap": null,
            "grid_row": null,
            "grid_template_areas": null,
            "grid_template_columns": null,
            "grid_template_rows": null,
            "height": null,
            "justify_content": null,
            "justify_items": null,
            "left": null,
            "margin": null,
            "max_height": null,
            "max_width": null,
            "min_height": null,
            "min_width": null,
            "object_fit": null,
            "object_position": null,
            "order": null,
            "overflow": null,
            "overflow_x": null,
            "overflow_y": null,
            "padding": null,
            "right": null,
            "top": null,
            "visibility": null,
            "width": null
          }
        },
        "60667b7f6d5d46e0bc52df9f276d71bd": {
          "model_module": "@jupyter-widgets/controls",
          "model_name": "DescriptionStyleModel",
          "model_module_version": "1.5.0",
          "state": {
            "_model_module": "@jupyter-widgets/controls",
            "_model_module_version": "1.5.0",
            "_model_name": "DescriptionStyleModel",
            "_view_count": null,
            "_view_module": "@jupyter-widgets/base",
            "_view_module_version": "1.2.0",
            "_view_name": "StyleView",
            "description_width": ""
          }
        },
        "178ba2261dd44e749ab7020c3a9f06d8": {
          "model_module": "@jupyter-widgets/controls",
          "model_name": "HBoxModel",
          "model_module_version": "1.5.0",
          "state": {
            "_dom_classes": [],
            "_model_module": "@jupyter-widgets/controls",
            "_model_module_version": "1.5.0",
            "_model_name": "HBoxModel",
            "_view_count": null,
            "_view_module": "@jupyter-widgets/controls",
            "_view_module_version": "1.5.0",
            "_view_name": "HBoxView",
            "box_style": "",
            "children": [
              "IPY_MODEL_faabc5d36fe949819b3894d1741dbd8b",
              "IPY_MODEL_6bb66b1d09b84b3dbe24a607e8cf138f",
              "IPY_MODEL_d2eca7697a9e4a1a83c895b65e84761b"
            ],
            "layout": "IPY_MODEL_b1542fd24a994aa4bcaed0770ac784ba"
          }
        },
        "faabc5d36fe949819b3894d1741dbd8b": {
          "model_module": "@jupyter-widgets/controls",
          "model_name": "HTMLModel",
          "model_module_version": "1.5.0",
          "state": {
            "_dom_classes": [],
            "_model_module": "@jupyter-widgets/controls",
            "_model_module_version": "1.5.0",
            "_model_name": "HTMLModel",
            "_view_count": null,
            "_view_module": "@jupyter-widgets/controls",
            "_view_module_version": "1.5.0",
            "_view_name": "HTMLView",
            "description": "",
            "description_tooltip": null,
            "layout": "IPY_MODEL_0d50f3bec3014a0ba922058b3e154f18",
            "placeholder": "​",
            "style": "IPY_MODEL_9056a7b2d9ac47f2a1ae90ed6aca0033",
            "value": "100%"
          }
        },
        "6bb66b1d09b84b3dbe24a607e8cf138f": {
          "model_module": "@jupyter-widgets/controls",
          "model_name": "FloatProgressModel",
          "model_module_version": "1.5.0",
          "state": {
            "_dom_classes": [],
            "_model_module": "@jupyter-widgets/controls",
            "_model_module_version": "1.5.0",
            "_model_name": "FloatProgressModel",
            "_view_count": null,
            "_view_module": "@jupyter-widgets/controls",
            "_view_module_version": "1.5.0",
            "_view_name": "ProgressView",
            "bar_style": "",
            "description": "",
            "description_tooltip": null,
            "layout": "IPY_MODEL_275954c7ab41458a95fa11b50756ebff",
            "max": 5,
            "min": 0,
            "orientation": "horizontal",
            "style": "IPY_MODEL_b9604f189d37450aa4b73254296edcc1",
            "value": 5
          }
        },
        "d2eca7697a9e4a1a83c895b65e84761b": {
          "model_module": "@jupyter-widgets/controls",
          "model_name": "HTMLModel",
          "model_module_version": "1.5.0",
          "state": {
            "_dom_classes": [],
            "_model_module": "@jupyter-widgets/controls",
            "_model_module_version": "1.5.0",
            "_model_name": "HTMLModel",
            "_view_count": null,
            "_view_module": "@jupyter-widgets/controls",
            "_view_module_version": "1.5.0",
            "_view_name": "HTMLView",
            "description": "",
            "description_tooltip": null,
            "layout": "IPY_MODEL_653d76d15a3541ff8198e9f1aeead63f",
            "placeholder": "​",
            "style": "IPY_MODEL_4be2067d50664d8db02f42e7bdff42ad",
            "value": " 5/5 [1:47:29&lt;00:00, 1288.81s/it]"
          }
        },
        "b1542fd24a994aa4bcaed0770ac784ba": {
          "model_module": "@jupyter-widgets/base",
          "model_name": "LayoutModel",
          "model_module_version": "1.2.0",
          "state": {
            "_model_module": "@jupyter-widgets/base",
            "_model_module_version": "1.2.0",
            "_model_name": "LayoutModel",
            "_view_count": null,
            "_view_module": "@jupyter-widgets/base",
            "_view_module_version": "1.2.0",
            "_view_name": "LayoutView",
            "align_content": null,
            "align_items": null,
            "align_self": null,
            "border": null,
            "bottom": null,
            "display": null,
            "flex": null,
            "flex_flow": null,
            "grid_area": null,
            "grid_auto_columns": null,
            "grid_auto_flow": null,
            "grid_auto_rows": null,
            "grid_column": null,
            "grid_gap": null,
            "grid_row": null,
            "grid_template_areas": null,
            "grid_template_columns": null,
            "grid_template_rows": null,
            "height": null,
            "justify_content": null,
            "justify_items": null,
            "left": null,
            "margin": null,
            "max_height": null,
            "max_width": null,
            "min_height": null,
            "min_width": null,
            "object_fit": null,
            "object_position": null,
            "order": null,
            "overflow": null,
            "overflow_x": null,
            "overflow_y": null,
            "padding": null,
            "right": null,
            "top": null,
            "visibility": null,
            "width": null
          }
        },
        "0d50f3bec3014a0ba922058b3e154f18": {
          "model_module": "@jupyter-widgets/base",
          "model_name": "LayoutModel",
          "model_module_version": "1.2.0",
          "state": {
            "_model_module": "@jupyter-widgets/base",
            "_model_module_version": "1.2.0",
            "_model_name": "LayoutModel",
            "_view_count": null,
            "_view_module": "@jupyter-widgets/base",
            "_view_module_version": "1.2.0",
            "_view_name": "LayoutView",
            "align_content": null,
            "align_items": null,
            "align_self": null,
            "border": null,
            "bottom": null,
            "display": null,
            "flex": null,
            "flex_flow": null,
            "grid_area": null,
            "grid_auto_columns": null,
            "grid_auto_flow": null,
            "grid_auto_rows": null,
            "grid_column": null,
            "grid_gap": null,
            "grid_row": null,
            "grid_template_areas": null,
            "grid_template_columns": null,
            "grid_template_rows": null,
            "height": null,
            "justify_content": null,
            "justify_items": null,
            "left": null,
            "margin": null,
            "max_height": null,
            "max_width": null,
            "min_height": null,
            "min_width": null,
            "object_fit": null,
            "object_position": null,
            "order": null,
            "overflow": null,
            "overflow_x": null,
            "overflow_y": null,
            "padding": null,
            "right": null,
            "top": null,
            "visibility": null,
            "width": null
          }
        },
        "9056a7b2d9ac47f2a1ae90ed6aca0033": {
          "model_module": "@jupyter-widgets/controls",
          "model_name": "DescriptionStyleModel",
          "model_module_version": "1.5.0",
          "state": {
            "_model_module": "@jupyter-widgets/controls",
            "_model_module_version": "1.5.0",
            "_model_name": "DescriptionStyleModel",
            "_view_count": null,
            "_view_module": "@jupyter-widgets/base",
            "_view_module_version": "1.2.0",
            "_view_name": "StyleView",
            "description_width": ""
          }
        },
        "275954c7ab41458a95fa11b50756ebff": {
          "model_module": "@jupyter-widgets/base",
          "model_name": "LayoutModel",
          "model_module_version": "1.2.0",
          "state": {
            "_model_module": "@jupyter-widgets/base",
            "_model_module_version": "1.2.0",
            "_model_name": "LayoutModel",
            "_view_count": null,
            "_view_module": "@jupyter-widgets/base",
            "_view_module_version": "1.2.0",
            "_view_name": "LayoutView",
            "align_content": null,
            "align_items": null,
            "align_self": null,
            "border": null,
            "bottom": null,
            "display": null,
            "flex": null,
            "flex_flow": null,
            "grid_area": null,
            "grid_auto_columns": null,
            "grid_auto_flow": null,
            "grid_auto_rows": null,
            "grid_column": null,
            "grid_gap": null,
            "grid_row": null,
            "grid_template_areas": null,
            "grid_template_columns": null,
            "grid_template_rows": null,
            "height": null,
            "justify_content": null,
            "justify_items": null,
            "left": null,
            "margin": null,
            "max_height": null,
            "max_width": null,
            "min_height": null,
            "min_width": null,
            "object_fit": null,
            "object_position": null,
            "order": null,
            "overflow": null,
            "overflow_x": null,
            "overflow_y": null,
            "padding": null,
            "right": null,
            "top": null,
            "visibility": null,
            "width": null
          }
        },
        "b9604f189d37450aa4b73254296edcc1": {
          "model_module": "@jupyter-widgets/controls",
          "model_name": "ProgressStyleModel",
          "model_module_version": "1.5.0",
          "state": {
            "_model_module": "@jupyter-widgets/controls",
            "_model_module_version": "1.5.0",
            "_model_name": "ProgressStyleModel",
            "_view_count": null,
            "_view_module": "@jupyter-widgets/base",
            "_view_module_version": "1.2.0",
            "_view_name": "StyleView",
            "bar_color": null,
            "description_width": ""
          }
        },
        "653d76d15a3541ff8198e9f1aeead63f": {
          "model_module": "@jupyter-widgets/base",
          "model_name": "LayoutModel",
          "model_module_version": "1.2.0",
          "state": {
            "_model_module": "@jupyter-widgets/base",
            "_model_module_version": "1.2.0",
            "_model_name": "LayoutModel",
            "_view_count": null,
            "_view_module": "@jupyter-widgets/base",
            "_view_module_version": "1.2.0",
            "_view_name": "LayoutView",
            "align_content": null,
            "align_items": null,
            "align_self": null,
            "border": null,
            "bottom": null,
            "display": null,
            "flex": null,
            "flex_flow": null,
            "grid_area": null,
            "grid_auto_columns": null,
            "grid_auto_flow": null,
            "grid_auto_rows": null,
            "grid_column": null,
            "grid_gap": null,
            "grid_row": null,
            "grid_template_areas": null,
            "grid_template_columns": null,
            "grid_template_rows": null,
            "height": null,
            "justify_content": null,
            "justify_items": null,
            "left": null,
            "margin": null,
            "max_height": null,
            "max_width": null,
            "min_height": null,
            "min_width": null,
            "object_fit": null,
            "object_position": null,
            "order": null,
            "overflow": null,
            "overflow_x": null,
            "overflow_y": null,
            "padding": null,
            "right": null,
            "top": null,
            "visibility": null,
            "width": null
          }
        },
        "4be2067d50664d8db02f42e7bdff42ad": {
          "model_module": "@jupyter-widgets/controls",
          "model_name": "DescriptionStyleModel",
          "model_module_version": "1.5.0",
          "state": {
            "_model_module": "@jupyter-widgets/controls",
            "_model_module_version": "1.5.0",
            "_model_name": "DescriptionStyleModel",
            "_view_count": null,
            "_view_module": "@jupyter-widgets/base",
            "_view_module_version": "1.2.0",
            "_view_name": "StyleView",
            "description_width": ""
          }
        }
      }
    }
  },
  "nbformat": 4,
  "nbformat_minor": 0
}