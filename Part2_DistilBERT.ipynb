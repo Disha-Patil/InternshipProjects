{
  "cells": [
    {
      "cell_type": "markdown",
      "metadata": {
        "id": "6GkxfuQ8ob0R"
      },
      "source": [
        "# About the Data\n",
        "\n",
        "* The data was taken from \n",
        "the csv file complaints.csv\n",
        "\n",
        "\n",
        "* The complaints are for the products:<br>\n",
        "\n",
        "  1. Banking Services\n",
        "  2. Card Services\n",
        "  3. Credit Reporting\n",
        "  4. Debt Collection\n",
        "  5. Loans\n",
        "  6. Mortgage\n",
        "\n",
        "* The sample data has 60000 entries. Each of the products Banking Services, Card Services, Credit Reporting , Debt Collection, Loans\n",
        " and Mortgage has 10000 entries in the sample data."
      ]
    },
    {
      "cell_type": "markdown",
      "metadata": {
        "id": "jhdSQHY_WYk8"
      },
      "source": [
        "#Fine Tuning DistilBERT model for text classification\n",
        "\n",
        "* The model was trained on 5 epochs and the learning rate was set at 1e-5 and batch size 32\n",
        "\n",
        "* Total training time taken across all epochs [Validation and model saving time included]:  3:16:30  (h:mm:ss)\n",
        "\n",
        "* Data Split:<br>\n",
        "      -Training data: 48000 (80 percent)\n",
        "      -Validation data: 6000 (10 percent)\n",
        "      -Test Data :  6000 (10 percent)\n",
        "\n",
        "* Macro-averaged f1-score<br>\n",
        "      -Training data: 0.89\n",
        "      -Validation data: 0.85\n",
        "\n"
      ]
    },
    {
      "cell_type": "markdown",
      "metadata": {
        "id": "HltVocsVxIVZ"
      },
      "source": [
        "## Next Steps\n",
        "\n",
        "* Calculate Metrics on the test Data Set \n",
        "\n",
        "\n",
        "\n"
      ]
    },
    {
      "cell_type": "markdown",
      "metadata": {
        "id": "M8MJt_UDu36B"
      },
      "source": [
        "##Google Drive access"
      ]
    },
    {
      "cell_type": "code",
      "execution_count": null,
      "metadata": {
        "colab": {
          "base_uri": "https://localhost:8080/"
        },
        "id": "YpebIE41u3Mh",
        "outputId": "7ab02620-568e-456a-a026-7749f886b39e"
      },
      "outputs": [
        {
          "output_type": "stream",
          "name": "stdout",
          "text": [
            "Mounted at /content/drive\n"
          ]
        }
      ],
      "source": [
        "from google.colab import drive\n",
        "drive.mount('/content/drive')"
      ]
    },
    {
      "cell_type": "code",
      "execution_count": null,
      "metadata": {
        "id": "f3hBz6OXw3gQ"
      },
      "outputs": [],
      "source": [
        "# write the appropriate paths to retrieve the data and store results \n",
        "saved_path = '/content/drive/MyDrive/EY_Internship/Consumer_Complaints/'\n",
        "sample_data_path = saved_path + 'data_sample_balanced.csv'\n",
        "used_test_data_path = saved_path + 'Test_data_DistilBERT.csv'\n",
        "encoded_test_data_path = saved_path + 'ENCODED_Test_data_DistilBERT.csv'\n",
        "label2id_df_path = saved_path + 'label2id_df.csv'"
      ]
    },
    {
      "cell_type": "markdown",
      "metadata": {
        "id": "hhdVBYIGW2mH"
      },
      "source": [
        "## Set-up environment\n",
        "\n",
        "Install the libraries HuggingFace Transformers and Datasets"
      ]
    },
    {
      "cell_type": "code",
      "execution_count": null,
      "metadata": {
        "id": "bs0-RE3D76PZ",
        "colab": {
          "base_uri": "https://localhost:8080/"
        },
        "outputId": "001275cd-d895-40f3-cce1-875b2044a0f9"
      },
      "outputs": [
        {
          "output_type": "stream",
          "name": "stdout",
          "text": [
            "\u001b[?25l\r\u001b[K     |████▊                           | 10 kB 33.4 MB/s eta 0:00:01\r\u001b[K     |█████████▍                      | 20 kB 9.5 MB/s eta 0:00:01\r\u001b[K     |██████████████                  | 30 kB 8.2 MB/s eta 0:00:01\r\u001b[K     |██████████████████▊             | 40 kB 3.6 MB/s eta 0:00:01\r\u001b[K     |███████████████████████▍        | 51 kB 3.6 MB/s eta 0:00:01\r\u001b[K     |████████████████████████████    | 61 kB 4.3 MB/s eta 0:00:01\r\u001b[K     |████████████████████████████████| 69 kB 3.1 MB/s \n",
            "\u001b[?25h  Building wheel for folium (setup.py) ... \u001b[?25l\u001b[?25hdone\n",
            "\u001b[K     |████████████████████████████████| 4.2 MB 4.2 MB/s \n",
            "\u001b[K     |████████████████████████████████| 342 kB 67.1 MB/s \n",
            "\u001b[K     |████████████████████████████████| 596 kB 76.6 MB/s \n",
            "\u001b[K     |████████████████████████████████| 6.6 MB 58.9 MB/s \n",
            "\u001b[K     |████████████████████████████████| 84 kB 4.0 MB/s \n",
            "\u001b[K     |████████████████████████████████| 212 kB 92.7 MB/s \n",
            "\u001b[K     |████████████████████████████████| 136 kB 94.4 MB/s \n",
            "\u001b[K     |████████████████████████████████| 1.1 MB 75.2 MB/s \n",
            "\u001b[K     |████████████████████████████████| 127 kB 98.4 MB/s \n",
            "\u001b[K     |████████████████████████████████| 144 kB 92.4 MB/s \n",
            "\u001b[K     |████████████████████████████████| 271 kB 91.1 MB/s \n",
            "\u001b[K     |████████████████████████████████| 94 kB 3.7 MB/s \n",
            "\u001b[?25h"
          ]
        }
      ],
      "source": [
        "#Install the package folium version 0.2.1 and HuggingFace tranformer and datasets libraries  \n",
        "!pip install folium==0.2.1 -q\n",
        "!pip install -q transformers datasets "
      ]
    },
    {
      "cell_type": "code",
      "execution_count": null,
      "metadata": {
        "colab": {
          "base_uri": "https://localhost:8080/"
        },
        "id": "bUvk9uQCAspf",
        "outputId": "b9af5398-640b-49d7-a91f-442df941fa0e"
      },
      "outputs": [
        {
          "output_type": "stream",
          "name": "stdout",
          "text": [
            "cuda:0 is available\n"
          ]
        }
      ],
      "source": [
        "import torch\n",
        "#Check if GPU is available\n",
        "device = \"cuda:0\" if torch.cuda.is_available() else \"cpu\"\n",
        "print(device, \"is available\")"
      ]
    },
    {
      "cell_type": "markdown",
      "source": [
        "##Memory Allocated"
      ],
      "metadata": {
        "id": "rXXUT_pKzvEy"
      }
    },
    {
      "cell_type": "code",
      "source": [
        "!nvidia-smi -q"
      ],
      "metadata": {
        "colab": {
          "base_uri": "https://localhost:8080/"
        },
        "id": "35aOat3LQQNf",
        "outputId": "45fb8738-caa6-4efa-814e-68695ee9223e"
      },
      "execution_count": null,
      "outputs": [
        {
          "output_type": "stream",
          "name": "stdout",
          "text": [
            "\n",
            "==============NVSMI LOG==============\n",
            "\n",
            "Timestamp                                 : Sun May 15 15:51:43 2022\n",
            "Driver Version                            : 460.32.03\n",
            "CUDA Version                              : 11.2\n",
            "\n",
            "Attached GPUs                             : 1\n",
            "GPU 00000000:00:04.0\n",
            "    Product Name                          : Tesla T4\n",
            "    Product Brand                         : Tesla\n",
            "    Display Mode                          : Enabled\n",
            "    Display Active                        : Disabled\n",
            "    Persistence Mode                      : Disabled\n",
            "    MIG Mode\n",
            "        Current                           : N/A\n",
            "        Pending                           : N/A\n",
            "    Accounting Mode                       : Disabled\n",
            "    Accounting Mode Buffer Size           : 4000\n",
            "    Driver Model\n",
            "        Current                           : N/A\n",
            "        Pending                           : N/A\n",
            "    Serial Number                         : 1562520034896\n",
            "    GPU UUID                              : GPU-ca93035d-040c-ff73-c447-5c4ea4a56315\n",
            "    Minor Number                          : 0\n",
            "    VBIOS Version                         : 90.04.96.00.01\n",
            "    MultiGPU Board                        : No\n",
            "    Board ID                              : 0x4\n",
            "    GPU Part Number                       : 900-2G183-6300-T00\n",
            "    Inforom Version\n",
            "        Image Version                     : G183.0200.00.02\n",
            "        OEM Object                        : 1.1\n",
            "        ECC Object                        : 5.0\n",
            "        Power Management Object           : N/A\n",
            "    GPU Operation Mode\n",
            "        Current                           : N/A\n",
            "        Pending                           : N/A\n",
            "    GPU Virtualization Mode\n",
            "        Virtualization Mode               : Pass-Through\n",
            "        Host VGPU Mode                    : N/A\n",
            "    IBMNPU\n",
            "        Relaxed Ordering Mode             : N/A\n",
            "    PCI\n",
            "        Bus                               : 0x00\n",
            "        Device                            : 0x04\n",
            "        Domain                            : 0x0000\n",
            "        Device Id                         : 0x1EB810DE\n",
            "        Bus Id                            : 00000000:00:04.0\n",
            "        Sub System Id                     : 0x12A210DE\n",
            "        GPU Link Info\n",
            "            PCIe Generation\n",
            "                Max                       : 3\n",
            "                Current                   : 1\n",
            "            Link Width\n",
            "                Max                       : 16x\n",
            "                Current                   : 16x\n",
            "        Bridge Chip\n",
            "            Type                          : N/A\n",
            "            Firmware                      : N/A\n",
            "        Replays Since Reset               : 0\n",
            "        Replay Number Rollovers           : 0\n",
            "        Tx Throughput                     : 0 KB/s\n",
            "        Rx Throughput                     : 0 KB/s\n",
            "    Fan Speed                             : N/A\n",
            "    Performance State                     : P8\n",
            "    Clocks Throttle Reasons\n",
            "        Idle                              : Active\n",
            "        Applications Clocks Setting       : Not Active\n",
            "        SW Power Cap                      : Not Active\n",
            "        HW Slowdown                       : Not Active\n",
            "            HW Thermal Slowdown           : Not Active\n",
            "            HW Power Brake Slowdown       : Not Active\n",
            "        Sync Boost                        : Not Active\n",
            "        SW Thermal Slowdown               : Not Active\n",
            "        Display Clock Setting             : Not Active\n",
            "    FB Memory Usage\n",
            "        Total                             : 15109 MiB\n",
            "        Used                              : 3 MiB\n",
            "        Free                              : 15106 MiB\n",
            "    BAR1 Memory Usage\n",
            "        Total                             : 256 MiB\n",
            "        Used                              : 3 MiB\n",
            "        Free                              : 253 MiB\n",
            "    Compute Mode                          : Default\n",
            "    Utilization\n",
            "        Gpu                               : 0 %\n",
            "        Memory                            : 0 %\n",
            "        Encoder                           : 0 %\n",
            "        Decoder                           : 0 %\n",
            "    Encoder Stats\n",
            "        Active Sessions                   : 0\n",
            "        Average FPS                       : 0\n",
            "        Average Latency                   : 0\n",
            "    FBC Stats\n",
            "        Active Sessions                   : 0\n",
            "        Average FPS                       : 0\n",
            "        Average Latency                   : 0\n",
            "    Ecc Mode\n",
            "        Current                           : Enabled\n",
            "        Pending                           : Enabled\n",
            "    ECC Errors\n",
            "        Volatile\n",
            "            SRAM Correctable              : 0\n",
            "            SRAM Uncorrectable            : 0\n",
            "            DRAM Correctable              : 0\n",
            "            DRAM Uncorrectable            : 0\n",
            "        Aggregate\n",
            "            SRAM Correctable              : 0\n",
            "            SRAM Uncorrectable            : 0\n",
            "            DRAM Correctable              : 0\n",
            "            DRAM Uncorrectable            : 0\n",
            "    Retired Pages\n",
            "        Single Bit ECC                    : 0\n",
            "        Double Bit ECC                    : 0\n",
            "        Pending Page Blacklist            : No\n",
            "    Remapped Rows                         : N/A\n",
            "    Temperature\n",
            "        GPU Current Temp                  : 33 C\n",
            "        GPU Shutdown Temp                 : 96 C\n",
            "        GPU Slowdown Temp                 : 93 C\n",
            "        GPU Max Operating Temp            : 85 C\n",
            "        GPU Target Temperature            : N/A\n",
            "        Memory Current Temp               : N/A\n",
            "        Memory Max Operating Temp         : N/A\n",
            "    Power Readings\n",
            "        Power Management                  : Supported\n",
            "        Power Draw                        : 13.13 W\n",
            "        Power Limit                       : 70.00 W\n",
            "        Default Power Limit               : 70.00 W\n",
            "        Enforced Power Limit              : 70.00 W\n",
            "        Min Power Limit                   : 60.00 W\n",
            "        Max Power Limit                   : 70.00 W\n",
            "    Clocks\n",
            "        Graphics                          : 300 MHz\n",
            "        SM                                : 300 MHz\n",
            "        Memory                            : 405 MHz\n",
            "        Video                             : 540 MHz\n",
            "    Applications Clocks\n",
            "        Graphics                          : 585 MHz\n",
            "        Memory                            : 5001 MHz\n",
            "    Default Applications Clocks\n",
            "        Graphics                          : 585 MHz\n",
            "        Memory                            : 5001 MHz\n",
            "    Max Clocks\n",
            "        Graphics                          : 1590 MHz\n",
            "        SM                                : 1590 MHz\n",
            "        Memory                            : 5001 MHz\n",
            "        Video                             : 1470 MHz\n",
            "    Max Customer Boost Clocks\n",
            "        Graphics                          : 1590 MHz\n",
            "    Clock Policy\n",
            "        Auto Boost                        : N/A\n",
            "        Auto Boost Default                : N/A\n",
            "    Processes                             : None\n",
            "\n"
          ]
        }
      ]
    },
    {
      "cell_type": "code",
      "source": [
        "!nvidia-smi"
      ],
      "metadata": {
        "colab": {
          "base_uri": "https://localhost:8080/"
        },
        "id": "ZxtauL1_QKJk",
        "outputId": "20a00455-4ce4-4360-d339-303a62b26af2"
      },
      "execution_count": null,
      "outputs": [
        {
          "output_type": "stream",
          "name": "stdout",
          "text": [
            "Sun May 15 15:51:43 2022       \n",
            "+-----------------------------------------------------------------------------+\n",
            "| NVIDIA-SMI 460.32.03    Driver Version: 460.32.03    CUDA Version: 11.2     |\n",
            "|-------------------------------+----------------------+----------------------+\n",
            "| GPU  Name        Persistence-M| Bus-Id        Disp.A | Volatile Uncorr. ECC |\n",
            "| Fan  Temp  Perf  Pwr:Usage/Cap|         Memory-Usage | GPU-Util  Compute M. |\n",
            "|                               |                      |               MIG M. |\n",
            "|===============================+======================+======================|\n",
            "|   0  Tesla T4            Off  | 00000000:00:04.0 Off |                    0 |\n",
            "| N/A   33C    P8     9W /  70W |      3MiB / 15109MiB |      0%      Default |\n",
            "|                               |                      |                  N/A |\n",
            "+-------------------------------+----------------------+----------------------+\n",
            "                                                                               \n",
            "+-----------------------------------------------------------------------------+\n",
            "| Processes:                                                                  |\n",
            "|  GPU   GI   CI        PID   Type   Process name                  GPU Memory |\n",
            "|        ID   ID                                                   Usage      |\n",
            "|=============================================================================|\n",
            "|  No running processes found                                                 |\n",
            "+-----------------------------------------------------------------------------+\n"
          ]
        }
      ]
    },
    {
      "cell_type": "code",
      "source": [
        "!lscpu |grep 'Model name'"
      ],
      "metadata": {
        "colab": {
          "base_uri": "https://localhost:8080/"
        },
        "id": "U0wXTbVVQTzS",
        "outputId": "d61e52c3-a133-4dc8-aa9a-f0f3f53e636e"
      },
      "execution_count": null,
      "outputs": [
        {
          "output_type": "stream",
          "name": "stdout",
          "text": [
            "Model name:          Intel(R) Xeon(R) CPU @ 2.20GHz\n"
          ]
        }
      ]
    },
    {
      "cell_type": "code",
      "source": [
        "!free -h --si | awk  '/Mem:/{print $2}'"
      ],
      "metadata": {
        "colab": {
          "base_uri": "https://localhost:8080/"
        },
        "id": "WTu9Y9K2QYVX",
        "outputId": "487f3832-0d1d-4cb7-b10e-601512e51076"
      },
      "execution_count": null,
      "outputs": [
        {
          "output_type": "stream",
          "name": "stdout",
          "text": [
            "26G\n"
          ]
        }
      ]
    },
    {
      "cell_type": "markdown",
      "metadata": {
        "id": "dwnUTHc_WWf9"
      },
      "source": [
        "# Loading the dataset"
      ]
    },
    {
      "cell_type": "code",
      "execution_count": null,
      "metadata": {
        "colab": {
          "base_uri": "https://localhost:8080/",
          "height": 681
        },
        "id": "hSr1m-4emA8l",
        "outputId": "a9f16b43-234f-4dcd-d5ca-21dada226a8c"
      },
      "outputs": [
        {
          "output_type": "execute_result",
          "data": {
            "text/plain": [
              "                                   preprocessed_text  original_index  \\\n",
              "0  on i notified usbank fraud dept line of an una...          755334   \n",
              "1  previously i had repeatedly received spam mail...          693962   \n",
              "2  on i received a notice from that my car paymen...          248080   \n",
              "3  on i initiated a transfer of from my bank acco...         1562368   \n",
              "4  hi i used paypal to purchase eyelashes online ...         1637582   \n",
              "\n",
              "            product                                          complaint  \\\n",
              "0  Banking Services  On XX/XX/XXXX I notified USbank fraud dept lin...   \n",
              "1  Banking Services  Previously, I had repeatedly received spam mai...   \n",
              "2  Banking Services  On XX/XX/19 I received a notice from XXXX XXXX...   \n",
              "3  Banking Services  On XXXX XXXX, 2016 I initiated a transfer of {...   \n",
              "4  Banking Services  Hi I used Paypal to purchase eyelashes online ...   \n",
              "\n",
              "                                    original_product  \\\n",
              "0                        Checking or savings account   \n",
              "1  Money transfer, virtual currency, or money ser...   \n",
              "2                        Checking or savings account   \n",
              "3                                    Money transfers   \n",
              "4                                    Money transfers   \n",
              "\n",
              "                             split_words_whitespaces  number_of_words  \\\n",
              "0  ['on', 'i', 'notified', 'usbank', 'fraud', 'de...              644   \n",
              "1  ['previously', 'i', 'had', 'repeatedly', 'rece...               62   \n",
              "2  ['on', 'i', 'received', 'a', 'notice', 'from',...              420   \n",
              "3  ['on', 'i', 'initiated', 'a', 'transfer', 'of'...              201   \n",
              "4  ['hi', 'i', 'used', 'paypal', 'to', 'purchase'...              101   \n",
              "\n",
              "   number_of_characters  number_of_unique_words  number_of_alphabets  ...  \\\n",
              "0                  3777                     300                 3134  ...   \n",
              "1                   340                      44                  279  ...   \n",
              "2                  2242                     187                 1823  ...   \n",
              "3                  1100                      84                  900  ...   \n",
              "4                   544                      67                  444  ...   \n",
              "\n",
              "   number_of_character_X  number_of_character_x  percentage_of_alphabets  \\\n",
              "0                      0                      0                 0.829759   \n",
              "1                      0                      0                 0.820588   \n",
              "2                      0                      0                 0.813113   \n",
              "3                      0                      0                 0.818182   \n",
              "4                      0                      0                 0.816176   \n",
              "\n",
              "   percentage_of_numerical_values  percentage_of_white_spaces  \\\n",
              "0                             0.0                    0.170241   \n",
              "1                             0.0                    0.179412   \n",
              "2                             0.0                    0.186887   \n",
              "3                             0.0                    0.181818   \n",
              "4                             0.0                    0.183824   \n",
              "\n",
              "   percentage_of_other_characters  percentage_of_character_X  \\\n",
              "0                             0.0                        0.0   \n",
              "1                             0.0                        0.0   \n",
              "2                             0.0                        0.0   \n",
              "3                             0.0                        0.0   \n",
              "4                             0.0                        0.0   \n",
              "\n",
              "   percentage_of_character_x  product_instance_length  \\\n",
              "0                        0.0                        1   \n",
              "1                        0.0                        1   \n",
              "2                        0.0                        1   \n",
              "3                        0.0                        1   \n",
              "4                        0.0                        1   \n",
              "\n",
              "   product_unique_instance_length  \n",
              "0                               1  \n",
              "1                               1  \n",
              "2                               1  \n",
              "3                               1  \n",
              "4                               1  \n",
              "\n",
              "[5 rows x 23 columns]"
            ],
            "text/html": [
              "\n",
              "  <div id=\"df-fa7c7096-b3db-4e80-8765-daf1327ea89c\">\n",
              "    <div class=\"colab-df-container\">\n",
              "      <div>\n",
              "<style scoped>\n",
              "    .dataframe tbody tr th:only-of-type {\n",
              "        vertical-align: middle;\n",
              "    }\n",
              "\n",
              "    .dataframe tbody tr th {\n",
              "        vertical-align: top;\n",
              "    }\n",
              "\n",
              "    .dataframe thead th {\n",
              "        text-align: right;\n",
              "    }\n",
              "</style>\n",
              "<table border=\"1\" class=\"dataframe\">\n",
              "  <thead>\n",
              "    <tr style=\"text-align: right;\">\n",
              "      <th></th>\n",
              "      <th>preprocessed_text</th>\n",
              "      <th>original_index</th>\n",
              "      <th>product</th>\n",
              "      <th>complaint</th>\n",
              "      <th>original_product</th>\n",
              "      <th>split_words_whitespaces</th>\n",
              "      <th>number_of_words</th>\n",
              "      <th>number_of_characters</th>\n",
              "      <th>number_of_unique_words</th>\n",
              "      <th>number_of_alphabets</th>\n",
              "      <th>...</th>\n",
              "      <th>number_of_character_X</th>\n",
              "      <th>number_of_character_x</th>\n",
              "      <th>percentage_of_alphabets</th>\n",
              "      <th>percentage_of_numerical_values</th>\n",
              "      <th>percentage_of_white_spaces</th>\n",
              "      <th>percentage_of_other_characters</th>\n",
              "      <th>percentage_of_character_X</th>\n",
              "      <th>percentage_of_character_x</th>\n",
              "      <th>product_instance_length</th>\n",
              "      <th>product_unique_instance_length</th>\n",
              "    </tr>\n",
              "  </thead>\n",
              "  <tbody>\n",
              "    <tr>\n",
              "      <th>0</th>\n",
              "      <td>on i notified usbank fraud dept line of an una...</td>\n",
              "      <td>755334</td>\n",
              "      <td>Banking Services</td>\n",
              "      <td>On XX/XX/XXXX I notified USbank fraud dept lin...</td>\n",
              "      <td>Checking or savings account</td>\n",
              "      <td>['on', 'i', 'notified', 'usbank', 'fraud', 'de...</td>\n",
              "      <td>644</td>\n",
              "      <td>3777</td>\n",
              "      <td>300</td>\n",
              "      <td>3134</td>\n",
              "      <td>...</td>\n",
              "      <td>0</td>\n",
              "      <td>0</td>\n",
              "      <td>0.829759</td>\n",
              "      <td>0.0</td>\n",
              "      <td>0.170241</td>\n",
              "      <td>0.0</td>\n",
              "      <td>0.0</td>\n",
              "      <td>0.0</td>\n",
              "      <td>1</td>\n",
              "      <td>1</td>\n",
              "    </tr>\n",
              "    <tr>\n",
              "      <th>1</th>\n",
              "      <td>previously i had repeatedly received spam mail...</td>\n",
              "      <td>693962</td>\n",
              "      <td>Banking Services</td>\n",
              "      <td>Previously, I had repeatedly received spam mai...</td>\n",
              "      <td>Money transfer, virtual currency, or money ser...</td>\n",
              "      <td>['previously', 'i', 'had', 'repeatedly', 'rece...</td>\n",
              "      <td>62</td>\n",
              "      <td>340</td>\n",
              "      <td>44</td>\n",
              "      <td>279</td>\n",
              "      <td>...</td>\n",
              "      <td>0</td>\n",
              "      <td>0</td>\n",
              "      <td>0.820588</td>\n",
              "      <td>0.0</td>\n",
              "      <td>0.179412</td>\n",
              "      <td>0.0</td>\n",
              "      <td>0.0</td>\n",
              "      <td>0.0</td>\n",
              "      <td>1</td>\n",
              "      <td>1</td>\n",
              "    </tr>\n",
              "    <tr>\n",
              "      <th>2</th>\n",
              "      <td>on i received a notice from that my car paymen...</td>\n",
              "      <td>248080</td>\n",
              "      <td>Banking Services</td>\n",
              "      <td>On XX/XX/19 I received a notice from XXXX XXXX...</td>\n",
              "      <td>Checking or savings account</td>\n",
              "      <td>['on', 'i', 'received', 'a', 'notice', 'from',...</td>\n",
              "      <td>420</td>\n",
              "      <td>2242</td>\n",
              "      <td>187</td>\n",
              "      <td>1823</td>\n",
              "      <td>...</td>\n",
              "      <td>0</td>\n",
              "      <td>0</td>\n",
              "      <td>0.813113</td>\n",
              "      <td>0.0</td>\n",
              "      <td>0.186887</td>\n",
              "      <td>0.0</td>\n",
              "      <td>0.0</td>\n",
              "      <td>0.0</td>\n",
              "      <td>1</td>\n",
              "      <td>1</td>\n",
              "    </tr>\n",
              "    <tr>\n",
              "      <th>3</th>\n",
              "      <td>on i initiated a transfer of from my bank acco...</td>\n",
              "      <td>1562368</td>\n",
              "      <td>Banking Services</td>\n",
              "      <td>On XXXX XXXX, 2016 I initiated a transfer of {...</td>\n",
              "      <td>Money transfers</td>\n",
              "      <td>['on', 'i', 'initiated', 'a', 'transfer', 'of'...</td>\n",
              "      <td>201</td>\n",
              "      <td>1100</td>\n",
              "      <td>84</td>\n",
              "      <td>900</td>\n",
              "      <td>...</td>\n",
              "      <td>0</td>\n",
              "      <td>0</td>\n",
              "      <td>0.818182</td>\n",
              "      <td>0.0</td>\n",
              "      <td>0.181818</td>\n",
              "      <td>0.0</td>\n",
              "      <td>0.0</td>\n",
              "      <td>0.0</td>\n",
              "      <td>1</td>\n",
              "      <td>1</td>\n",
              "    </tr>\n",
              "    <tr>\n",
              "      <th>4</th>\n",
              "      <td>hi i used paypal to purchase eyelashes online ...</td>\n",
              "      <td>1637582</td>\n",
              "      <td>Banking Services</td>\n",
              "      <td>Hi I used Paypal to purchase eyelashes online ...</td>\n",
              "      <td>Money transfers</td>\n",
              "      <td>['hi', 'i', 'used', 'paypal', 'to', 'purchase'...</td>\n",
              "      <td>101</td>\n",
              "      <td>544</td>\n",
              "      <td>67</td>\n",
              "      <td>444</td>\n",
              "      <td>...</td>\n",
              "      <td>0</td>\n",
              "      <td>0</td>\n",
              "      <td>0.816176</td>\n",
              "      <td>0.0</td>\n",
              "      <td>0.183824</td>\n",
              "      <td>0.0</td>\n",
              "      <td>0.0</td>\n",
              "      <td>0.0</td>\n",
              "      <td>1</td>\n",
              "      <td>1</td>\n",
              "    </tr>\n",
              "  </tbody>\n",
              "</table>\n",
              "<p>5 rows × 23 columns</p>\n",
              "</div>\n",
              "      <button class=\"colab-df-convert\" onclick=\"convertToInteractive('df-fa7c7096-b3db-4e80-8765-daf1327ea89c')\"\n",
              "              title=\"Convert this dataframe to an interactive table.\"\n",
              "              style=\"display:none;\">\n",
              "        \n",
              "  <svg xmlns=\"http://www.w3.org/2000/svg\" height=\"24px\"viewBox=\"0 0 24 24\"\n",
              "       width=\"24px\">\n",
              "    <path d=\"M0 0h24v24H0V0z\" fill=\"none\"/>\n",
              "    <path d=\"M18.56 5.44l.94 2.06.94-2.06 2.06-.94-2.06-.94-.94-2.06-.94 2.06-2.06.94zm-11 1L8.5 8.5l.94-2.06 2.06-.94-2.06-.94L8.5 2.5l-.94 2.06-2.06.94zm10 10l.94 2.06.94-2.06 2.06-.94-2.06-.94-.94-2.06-.94 2.06-2.06.94z\"/><path d=\"M17.41 7.96l-1.37-1.37c-.4-.4-.92-.59-1.43-.59-.52 0-1.04.2-1.43.59L10.3 9.45l-7.72 7.72c-.78.78-.78 2.05 0 2.83L4 21.41c.39.39.9.59 1.41.59.51 0 1.02-.2 1.41-.59l7.78-7.78 2.81-2.81c.8-.78.8-2.07 0-2.86zM5.41 20L4 18.59l7.72-7.72 1.47 1.35L5.41 20z\"/>\n",
              "  </svg>\n",
              "      </button>\n",
              "      \n",
              "  <style>\n",
              "    .colab-df-container {\n",
              "      display:flex;\n",
              "      flex-wrap:wrap;\n",
              "      gap: 12px;\n",
              "    }\n",
              "\n",
              "    .colab-df-convert {\n",
              "      background-color: #E8F0FE;\n",
              "      border: none;\n",
              "      border-radius: 50%;\n",
              "      cursor: pointer;\n",
              "      display: none;\n",
              "      fill: #1967D2;\n",
              "      height: 32px;\n",
              "      padding: 0 0 0 0;\n",
              "      width: 32px;\n",
              "    }\n",
              "\n",
              "    .colab-df-convert:hover {\n",
              "      background-color: #E2EBFA;\n",
              "      box-shadow: 0px 1px 2px rgba(60, 64, 67, 0.3), 0px 1px 3px 1px rgba(60, 64, 67, 0.15);\n",
              "      fill: #174EA6;\n",
              "    }\n",
              "\n",
              "    [theme=dark] .colab-df-convert {\n",
              "      background-color: #3B4455;\n",
              "      fill: #D2E3FC;\n",
              "    }\n",
              "\n",
              "    [theme=dark] .colab-df-convert:hover {\n",
              "      background-color: #434B5C;\n",
              "      box-shadow: 0px 1px 3px 1px rgba(0, 0, 0, 0.15);\n",
              "      filter: drop-shadow(0px 1px 2px rgba(0, 0, 0, 0.3));\n",
              "      fill: #FFFFFF;\n",
              "    }\n",
              "  </style>\n",
              "\n",
              "      <script>\n",
              "        const buttonEl =\n",
              "          document.querySelector('#df-fa7c7096-b3db-4e80-8765-daf1327ea89c button.colab-df-convert');\n",
              "        buttonEl.style.display =\n",
              "          google.colab.kernel.accessAllowed ? 'block' : 'none';\n",
              "\n",
              "        async function convertToInteractive(key) {\n",
              "          const element = document.querySelector('#df-fa7c7096-b3db-4e80-8765-daf1327ea89c');\n",
              "          const dataTable =\n",
              "            await google.colab.kernel.invokeFunction('convertToInteractive',\n",
              "                                                     [key], {});\n",
              "          if (!dataTable) return;\n",
              "\n",
              "          const docLinkHtml = 'Like what you see? Visit the ' +\n",
              "            '<a target=\"_blank\" href=https://colab.research.google.com/notebooks/data_table.ipynb>data table notebook</a>'\n",
              "            + ' to learn more about interactive tables.';\n",
              "          element.innerHTML = '';\n",
              "          dataTable['output_type'] = 'display_data';\n",
              "          await google.colab.output.renderOutput(dataTable, element);\n",
              "          const docLink = document.createElement('div');\n",
              "          docLink.innerHTML = docLinkHtml;\n",
              "          element.appendChild(docLink);\n",
              "        }\n",
              "      </script>\n",
              "    </div>\n",
              "  </div>\n",
              "  "
            ]
          },
          "metadata": {},
          "execution_count": 10
        }
      ],
      "source": [
        "#Load the data\n",
        "import pandas as pd\n",
        "\n",
        "sample_df = pd.read_csv(sample_data_path)\n",
        "#Display the first five rows in sample_df\n",
        "sample_df.head()\n"
      ]
    },
    {
      "cell_type": "code",
      "execution_count": null,
      "metadata": {
        "colab": {
          "base_uri": "https://localhost:8080/"
        },
        "id": "2LH6N19EqhuW",
        "outputId": "c872013c-31f3-4231-9150-16ff622779b8"
      },
      "outputs": [
        {
          "output_type": "stream",
          "name": "stdout",
          "text": [
            "<class 'pandas.core.frame.DataFrame'>\n",
            "RangeIndex: 60000 entries, 0 to 59999\n",
            "Data columns (total 2 columns):\n",
            " #   Column    Non-Null Count  Dtype \n",
            "---  ------    --------------  ----- \n",
            " 0   sentence  60000 non-null  object\n",
            " 1   label     60000 non-null  object\n",
            "dtypes: object(2)\n",
            "memory usage: 937.6+ KB\n"
          ]
        }
      ],
      "source": [
        "#Create dataframe data with the columns 'preprocessed_text' and 'product' from sample_df\n",
        "data = sample_df[['preprocessed_text', 'product']].copy()\n",
        "#Rename the columns 'preprocessed_text' as 'setence' and 'product' as 'label'\n",
        "data.rename(columns = {'preprocessed_text':'sentence', 'product':'label'}, inplace = True)\n",
        "data.info()"
      ]
    },
    {
      "cell_type": "code",
      "execution_count": null,
      "metadata": {
        "colab": {
          "base_uri": "https://localhost:8080/"
        },
        "id": "yH0QhmSTPMj0",
        "outputId": "c70636de-71b0-49a5-ad97-5590ffaa60d1"
      },
      "outputs": [
        {
          "output_type": "execute_result",
          "data": {
            "text/plain": [
              "Banking Services    10000\n",
              "Card Services       10000\n",
              "Credit Reporting    10000\n",
              "Debt Collection     10000\n",
              "Loans               10000\n",
              "Mortgage            10000\n",
              "Name: label, dtype: int64"
            ]
          },
          "metadata": {},
          "execution_count": 12
        }
      ],
      "source": [
        "# Print the counts of unique values in 'label' in data\n",
        "data['label'].value_counts()"
      ]
    },
    {
      "cell_type": "code",
      "execution_count": null,
      "metadata": {
        "colab": {
          "base_uri": "https://localhost:8080/"
        },
        "id": "cHkxjJUqsjlV",
        "outputId": "7cda4cf0-ccd7-4c83-b6b9-d043ee64c535"
      },
      "outputs": [
        {
          "output_type": "execute_result",
          "data": {
            "text/plain": [
              "Dataset({\n",
              "    features: ['sentence', 'label'],\n",
              "    num_rows: 60000\n",
              "})"
            ]
          },
          "metadata": {},
          "execution_count": 13
        }
      ],
      "source": [
        "#Convert the Data into HuggingFace Dataset\n",
        "from datasets import Dataset\n",
        "dataset = Dataset.from_pandas(data)\n",
        "dataset\n"
      ]
    },
    {
      "cell_type": "markdown",
      "metadata": {
        "id": "4KoNgkasXvkF"
      },
      "source": [
        "The dataset has to be split into training, validation and test set. Let's check the first example of the dataset:\n",
        "\n"
      ]
    },
    {
      "cell_type": "code",
      "execution_count": null,
      "metadata": {
        "colab": {
          "base_uri": "https://localhost:8080/"
        },
        "id": "9mdy4kv_Xq7_",
        "outputId": "06e98a90-6f44-44f2-d4ec-d69825c42dce"
      },
      "outputs": [
        {
          "output_type": "execute_result",
          "data": {
            "text/plain": [
              "{'label': 'Banking Services',\n",
              " 'sentence': 'on i notified usbank fraud dept line of an unauthorized deposit to my acct from a fraudulent lender that had compromised my acct by taking over the mobile banking feature to make appear that a payday loan deposit was posted but in fact it was an insufficient fund personal check with no authorization or beforehand knowledge from me i was instructed to visit bank monday morning where i encounter whom proceeded to contact fraud dept and make the claim officially and close savings acct and checking and visa she let the rep know that a unauthorized fraudulent personal check from a fraudulent payday loan company had been deposited in my savings acct opened from a different branch following the end of the call i was given a new checking acct from the branch i now banked with making her office my new home branch on the unauthorized check had somehow jumped from another branch closed savings acct to my new checking acct and new home branch thus creating a overdraft fee of a week until closure because the fraud dept on came back with their investigation stating denied because of said check was my liability claiming bounce check was known and waited by me but in reality the fraud claim was solely about the unauthorized deposited fraudulent check i notified the fraud dept of their error in mislabeling check mine and not as an unauthorized deposit they then proceeded to open a second claim to address said error however on the fraud claim was denied for the reason stated failure to notify bank of said unauthorized transaction and under ucc the bank straight out and erroneously cited the first claim denial as first reported date not the or initial reported dates well inside the statue and law not only the protections my acct had against said transactions was willfully not instilled but also a inapplicable overdraft fee weekly was assessed on said check and demanded by bank or acct closure and reporting to check systems causing further credit and other institutions downgrading and ultimately closure of my two accts elsewhere and tanking of my credit worthiness causing financial ruin they claim i owe on a transaction i never approved or had knowledge to furthermore i am claiming that a policy of denial with assessed overdraft fees is a willful common occurrence at usbank regarding many fraud claims with same mo as mine being burden onto the unsuspecting customers already victim of a crime to also be victim to inapplicable overdraft fees in the hundreds the acct closures and ill regard to label such debit as fraud but cust irresponsibility is a red flag to have a total audit of all fraud claims with attached overdraft fees assessed and the accts closed due to non payment of said claim i have the official original documents showing my grievance and complaint merits a reviewdamage cause by fraud deposit the damage by filing claim with fraud dept of usbank ten fold and counting it did not benefit me to file claim however the bank benefited double the claimed amt plus it renounced on the afforded protections the bank advertised as having a zero fraud liability to customer with an open acct at usbank branches damaging the local economy with practices as the ones stated with responsibility falling solely on custs for bank robbery transactions and bank theft crimes as they really are because knowingly the criminals are going through bank cust acct to as always intended from the start to steal banks money through open unprotected windows called customers accts creating the allowed epidemic of fraud plaguing our nations acct holders to the tune of annually in loses i document proving time in accordance and coinciding with police report all within ucc statues and laws i provide this testament as proof of bank misconduct at your service'}"
            ]
          },
          "metadata": {},
          "execution_count": 14
        }
      ],
      "source": [
        "example = dataset[0]\n",
        "example"
      ]
    },
    {
      "cell_type": "code",
      "source": [
        "example['label']"
      ],
      "metadata": {
        "colab": {
          "base_uri": "https://localhost:8080/",
          "height": 36
        },
        "id": "RpO7-xvGqbjF",
        "outputId": "dcc8a497-49ba-4f47-a98c-f4af5a72432f"
      },
      "execution_count": null,
      "outputs": [
        {
          "output_type": "execute_result",
          "data": {
            "text/plain": [
              "'Banking Services'"
            ],
            "application/vnd.google.colaboratory.intrinsic+json": {
              "type": "string"
            }
          },
          "metadata": {},
          "execution_count": 15
        }
      ]
    },
    {
      "cell_type": "code",
      "source": [
        "example['sentence']"
      ],
      "metadata": {
        "colab": {
          "base_uri": "https://localhost:8080/",
          "height": 166
        },
        "id": "i62kF_u1qvDK",
        "outputId": "fe1bc50a-eab3-4c95-c347-decb85b40dd4"
      },
      "execution_count": null,
      "outputs": [
        {
          "output_type": "execute_result",
          "data": {
            "text/plain": [
              "'on i notified usbank fraud dept line of an unauthorized deposit to my acct from a fraudulent lender that had compromised my acct by taking over the mobile banking feature to make appear that a payday loan deposit was posted but in fact it was an insufficient fund personal check with no authorization or beforehand knowledge from me i was instructed to visit bank monday morning where i encounter whom proceeded to contact fraud dept and make the claim officially and close savings acct and checking and visa she let the rep know that a unauthorized fraudulent personal check from a fraudulent payday loan company had been deposited in my savings acct opened from a different branch following the end of the call i was given a new checking acct from the branch i now banked with making her office my new home branch on the unauthorized check had somehow jumped from another branch closed savings acct to my new checking acct and new home branch thus creating a overdraft fee of a week until closure because the fraud dept on came back with their investigation stating denied because of said check was my liability claiming bounce check was known and waited by me but in reality the fraud claim was solely about the unauthorized deposited fraudulent check i notified the fraud dept of their error in mislabeling check mine and not as an unauthorized deposit they then proceeded to open a second claim to address said error however on the fraud claim was denied for the reason stated failure to notify bank of said unauthorized transaction and under ucc the bank straight out and erroneously cited the first claim denial as first reported date not the or initial reported dates well inside the statue and law not only the protections my acct had against said transactions was willfully not instilled but also a inapplicable overdraft fee weekly was assessed on said check and demanded by bank or acct closure and reporting to check systems causing further credit and other institutions downgrading and ultimately closure of my two accts elsewhere and tanking of my credit worthiness causing financial ruin they claim i owe on a transaction i never approved or had knowledge to furthermore i am claiming that a policy of denial with assessed overdraft fees is a willful common occurrence at usbank regarding many fraud claims with same mo as mine being burden onto the unsuspecting customers already victim of a crime to also be victim to inapplicable overdraft fees in the hundreds the acct closures and ill regard to label such debit as fraud but cust irresponsibility is a red flag to have a total audit of all fraud claims with attached overdraft fees assessed and the accts closed due to non payment of said claim i have the official original documents showing my grievance and complaint merits a reviewdamage cause by fraud deposit the damage by filing claim with fraud dept of usbank ten fold and counting it did not benefit me to file claim however the bank benefited double the claimed amt plus it renounced on the afforded protections the bank advertised as having a zero fraud liability to customer with an open acct at usbank branches damaging the local economy with practices as the ones stated with responsibility falling solely on custs for bank robbery transactions and bank theft crimes as they really are because knowingly the criminals are going through bank cust acct to as always intended from the start to steal banks money through open unprotected windows called customers accts creating the allowed epidemic of fraud plaguing our nations acct holders to the tune of annually in loses i document proving time in accordance and coinciding with police report all within ucc statues and laws i provide this testament as proof of bank misconduct at your service'"
            ],
            "application/vnd.google.colaboratory.intrinsic+json": {
              "type": "string"
            }
          },
          "metadata": {},
          "execution_count": 16
        }
      ]
    },
    {
      "cell_type": "markdown",
      "metadata": {
        "id": "MUfKp87VVHI_"
      },
      "source": [
        "Let's look at the features of the dataset"
      ]
    },
    {
      "cell_type": "code",
      "execution_count": null,
      "metadata": {
        "colab": {
          "base_uri": "https://localhost:8080/"
        },
        "id": "OWINgHQnVJ5f",
        "outputId": "a4fcc864-ae00-4b86-e246-5a1124da811f"
      },
      "outputs": [
        {
          "output_type": "execute_result",
          "data": {
            "text/plain": [
              "{'label': Value(dtype='string', id=None),\n",
              " 'sentence': Value(dtype='string', id=None)}"
            ]
          },
          "metadata": {},
          "execution_count": 17
        }
      ],
      "source": [
        "dataset.features"
      ]
    },
    {
      "cell_type": "markdown",
      "metadata": {
        "id": "p9kyy8v_tjkY"
      },
      "source": [
        "Let's create a list that contains the labels, as well as 2 dictionaries that map labels to integers and back."
      ]
    },
    {
      "cell_type": "code",
      "execution_count": null,
      "metadata": {
        "colab": {
          "base_uri": "https://localhost:8080/"
        },
        "id": "ugIFhNg3trOP",
        "outputId": "9c70999c-099d-4a93-fe6d-29c0956c5f0f"
      },
      "outputs": [
        {
          "output_type": "execute_result",
          "data": {
            "text/plain": [
              "['Banking Services',\n",
              " 'Card Services',\n",
              " 'Credit Reporting',\n",
              " 'Debt Collection',\n",
              " 'Loans',\n",
              " 'Mortgage']"
            ]
          },
          "metadata": {},
          "execution_count": 18
        }
      ],
      "source": [
        "labels = sorted(list(set(dataset['label'])))\n",
        "id2label = {idx:label for idx, label in enumerate(labels)}\n",
        "label2id = {label:idx for idx, label in enumerate(labels)}\n",
        "labels"
      ]
    },
    {
      "cell_type": "code",
      "execution_count": null,
      "metadata": {
        "colab": {
          "base_uri": "https://localhost:8080/"
        },
        "id": "WMVEUptWjNaV",
        "outputId": "44269b45-2a4a-4cb6-8ba5-a1e744b1e760"
      },
      "outputs": [
        {
          "output_type": "execute_result",
          "data": {
            "text/plain": [
              "6"
            ]
          },
          "metadata": {},
          "execution_count": 19
        }
      ],
      "source": [
        "len(labels)"
      ]
    },
    {
      "cell_type": "markdown",
      "metadata": {
        "id": "VsvsAIRAMMVj"
      },
      "source": [
        "The dataset consists of 6 labels."
      ]
    },
    {
      "cell_type": "markdown",
      "metadata": {
        "id": "UKukAGDvp7cP"
      },
      "source": [
        "## Splitting the Data into Train, Validation and Test set\n",
        "\n",
        "\n",
        "\n",
        "\n"
      ]
    },
    {
      "cell_type": "code",
      "execution_count": null,
      "metadata": {
        "id": "ol_9v8qaqT7H"
      },
      "outputs": [],
      "source": [
        "fix_seed = 42\n",
        "from sklearn.model_selection import train_test_split"
      ]
    },
    {
      "cell_type": "code",
      "execution_count": null,
      "metadata": {
        "id": "pMKJRWshPTVE"
      },
      "outputs": [],
      "source": [
        "# Split data into train and val_test set with 80 percent of data in train and 20 perecent in val_test\n",
        "X= dataset['sentence']\n",
        "y= dataset['label']\n",
        "X_train, X_val_test, y_train, y_val_test = train_test_split(X, y, test_size=0.2,stratify=y ,random_state=fix_seed)"
      ]
    },
    {
      "cell_type": "code",
      "execution_count": null,
      "metadata": {
        "id": "c0FTvgIqPTlq"
      },
      "outputs": [],
      "source": [
        "# Split data into test and validation set with 10 percent data in val and 10 percent in test\n",
        "X_val, X_test,y_val, y_test = train_test_split(X_val_test, y_val_test,stratify = y_val_test, test_size = 0.5, random_state=fix_seed)"
      ]
    },
    {
      "cell_type": "code",
      "execution_count": null,
      "metadata": {
        "colab": {
          "base_uri": "https://localhost:8080/"
        },
        "id": "uqeaiHLFp3d1",
        "outputId": "ad784280-ff80-4ecd-d0d4-61c1111608a8"
      },
      "outputs": [
        {
          "output_type": "execute_result",
          "data": {
            "text/plain": [
              "Dataset({\n",
              "    features: ['sentence', 'label'],\n",
              "    num_rows: 48000\n",
              "})"
            ]
          },
          "metadata": {},
          "execution_count": 23
        }
      ],
      "source": [
        "# Create the HuggingFace Dataset train_data \n",
        "dict_train = {\"sentence\": X_train,\"label\":y_train}\n",
        "train_data = Dataset.from_dict(dict_train)\n",
        "train_data"
      ]
    },
    {
      "cell_type": "code",
      "execution_count": null,
      "metadata": {
        "colab": {
          "base_uri": "https://localhost:8080/"
        },
        "id": "UikJEfdoUS7w",
        "outputId": "2b6183e2-37bb-47b9-e36c-977e3234b007"
      },
      "outputs": [
        {
          "output_type": "execute_result",
          "data": {
            "text/plain": [
              "Dataset({\n",
              "    features: ['sentence', 'label'],\n",
              "    num_rows: 6000\n",
              "})"
            ]
          },
          "metadata": {},
          "execution_count": 24
        }
      ],
      "source": [
        "\n",
        "# Create the HuggingFace Dataset val_data\n",
        "dict_val = {\"sentence\": X_val,\"label\":y_val}\n",
        "val_data = Dataset.from_dict(dict_val)\n",
        "val_data"
      ]
    },
    {
      "cell_type": "code",
      "execution_count": null,
      "metadata": {
        "colab": {
          "base_uri": "https://localhost:8080/"
        },
        "id": "GIERzmqJUTEQ",
        "outputId": "bc485c2d-4826-4c74-928b-a2e14f0cc88f"
      },
      "outputs": [
        {
          "output_type": "execute_result",
          "data": {
            "text/plain": [
              "Dataset({\n",
              "    features: ['sentence', 'label'],\n",
              "    num_rows: 6000\n",
              "})"
            ]
          },
          "metadata": {},
          "execution_count": 25
        }
      ],
      "source": [
        "# Create the HuggingFace Dataset test_data\n",
        "dict_test = {\"sentence\": X_test,\"label\":y_test}\n",
        "test_data = Dataset.from_dict(dict_test)\n",
        "test_data"
      ]
    },
    {
      "cell_type": "markdown",
      "metadata": {
        "id": "tGbsKDXm4QsW"
      },
      "source": [
        "Let's Check the Frequency Count of Train, Validation and Test label data"
      ]
    },
    {
      "cell_type": "code",
      "source": [
        "import collections \n",
        "#Define the function to check the frequency count of elements in the list\n",
        "def frequency_count(mylist):\n",
        "  frequency = collections.Counter(mylist)\n",
        "  [print(key,':',value) for key, value in frequency.items()]"
      ],
      "metadata": {
        "id": "FTO-YsuIhpUI"
      },
      "execution_count": null,
      "outputs": []
    },
    {
      "cell_type": "code",
      "execution_count": null,
      "metadata": {
        "colab": {
          "base_uri": "https://localhost:8080/"
        },
        "id": "78X1pl5yVyU2",
        "outputId": "250b6598-b58d-4be9-d438-3aca468ce0ff"
      },
      "outputs": [
        {
          "output_type": "stream",
          "name": "stdout",
          "text": [
            "The Frequency of label in train_data : \n",
            "\n",
            "Loans : 8000\n",
            "Debt Collection : 8000\n",
            "Card Services : 8000\n",
            "Credit Reporting : 8000\n",
            "Banking Services : 8000\n",
            "Mortgage : 8000\n"
          ]
        }
      ],
      "source": [
        "#print the frequency count of label in train_data\n",
        "print(\"The Frequency of label in train_data : \\n\")\n",
        "frequency_count(train_data['label'])"
      ]
    },
    {
      "cell_type": "code",
      "execution_count": null,
      "metadata": {
        "colab": {
          "base_uri": "https://localhost:8080/"
        },
        "id": "_BdUm8uv4CuD",
        "outputId": "23c85815-fc8e-4fe9-da4b-b14ad0a18858"
      },
      "outputs": [
        {
          "output_type": "stream",
          "name": "stdout",
          "text": [
            "The Frequency of label in val_data : \n",
            "\n",
            "Loans : 1000\n",
            "Debt Collection : 1000\n",
            "Card Services : 1000\n",
            "Mortgage : 1000\n",
            "Banking Services : 1000\n",
            "Credit Reporting : 1000\n"
          ]
        }
      ],
      "source": [
        "#print the frequency count of label in val_data\n",
        "print(\"The Frequency of label in val_data : \\n\")\n",
        "frequency_count(val_data['label'])"
      ]
    },
    {
      "cell_type": "code",
      "execution_count": null,
      "metadata": {
        "colab": {
          "base_uri": "https://localhost:8080/"
        },
        "id": "zKNP7tWXV2_R",
        "outputId": "11b1f17c-438d-4827-9af8-f4cf928c486c"
      },
      "outputs": [
        {
          "output_type": "stream",
          "name": "stdout",
          "text": [
            "The Frequency of label in test_data : \n",
            "\n",
            "Credit Reporting : 1000\n",
            "Banking Services : 1000\n",
            "Loans : 1000\n",
            "Card Services : 1000\n",
            "Debt Collection : 1000\n",
            "Mortgage : 1000\n"
          ]
        }
      ],
      "source": [
        "#print the frequency count of label in test_data\n",
        "print(\"The Frequency of label in test_data : \\n\")\n",
        "frequency_count(test_data['label'])"
      ]
    },
    {
      "cell_type": "code",
      "execution_count": null,
      "metadata": {
        "colab": {
          "base_uri": "https://localhost:8080/"
        },
        "id": "xNZXfECRrzta",
        "outputId": "81649b33-99bf-4cb3-f3ea-41ee64f76329"
      },
      "outputs": [
        {
          "output_type": "execute_result",
          "data": {
            "text/plain": [
              "DatasetDict({\n",
              "    train: Dataset({\n",
              "        features: ['sentence', 'label'],\n",
              "        num_rows: 48000\n",
              "    })\n",
              "    validation: Dataset({\n",
              "        features: ['sentence', 'label'],\n",
              "        num_rows: 6000\n",
              "    })\n",
              "    test: Dataset({\n",
              "        features: ['sentence', 'label'],\n",
              "        num_rows: 6000\n",
              "    })\n",
              "})"
            ]
          },
          "metadata": {},
          "execution_count": 30
        }
      ],
      "source": [
        "#Create dataset_clean to store the train_data, val_data and test_data\n",
        "from datasets.dataset_dict import DatasetDict\n",
        "dataset_clean = DatasetDict({\n",
        "    'train': train_data,\n",
        "    'validation': val_data,\n",
        "    'test': test_data\n",
        "})\n",
        "dataset_clean"
      ]
    },
    {
      "cell_type": "markdown",
      "metadata": {
        "id": "vN3TNouDhh0r"
      },
      "source": [
        "## Preprocess data\n",
        "\n",
        "\n",
        "Since the model don't expect text as direct input, but rather `input_ids`, etc., we tokenize the text using the tokenizer. Here I'm using the `AutoTokenizer` API, which will automatically load the appropriate tokenizer based on the checkpoint on the hub."
      ]
    },
    {
      "cell_type": "code",
      "execution_count": null,
      "metadata": {
        "id": "ImOVtxX5jafN",
        "colab": {
          "base_uri": "https://localhost:8080/",
          "height": 145,
          "referenced_widgets": [
            "015c76924cd84608b7084761ad8a9493",
            "385dfe65625948a9ac2cd24777c4c1d2",
            "3272b460af234b15896b7223f056190d",
            "df53579bf9ff44eb81fdbc29bb852766",
            "c1a3132f65a34e2ebaa35506a620be80",
            "ceef1ff7a56645b09658c44be9921988",
            "b37fdff575ff4c8eabb410c26d4e3b73",
            "5904854dfacc4e6ba8ba3c9944c295f1",
            "21b414496c3d432eb70ee212e27cb427",
            "b250d5ab153d42968fac9db06f2894fb",
            "14921340192441aaaf777ba6bdfe09f9",
            "a87b5d7b637c46678c44dacf32d67aff",
            "4a1f93602af44b16a6fe6b70bbcb9631",
            "8b9e6a921e8e4da88a8a40663b09d54b",
            "a0db96f46a0a48e2a8970b89a798b99a",
            "396ec3c180d54511be0fa133b61f3737",
            "ce542bf8af8a4e57a12383467ce5252a",
            "22017205da9642c1aad4888f67e0a38a",
            "5e78f72d8cac431c85bfe6f201e8ec62",
            "55c3cfa780d14b5fa986e3656286c8e0",
            "f339257e661d4b6a920f8571cc078ede",
            "0e5b7035a1944a94a47b80bce9b2cdd9",
            "edb41a2f7ae04df0a46d36285d770814",
            "afa0bacb2f3d4fb19a1e0f6f076a9591",
            "c4a4682816f24006877df43c2d9555b5",
            "e2ee32f423f74ab884fc8b5ca2ae6045",
            "49c53a314a9a40698685c7c7c8445b31",
            "3a721b393a304c3b9244b0a215163a74",
            "a0d342d1648f471995534b46b22f83c9",
            "2aab4ac0ac8f47e98a9bcb2a982641d1",
            "99caac1db82b44ec9ce64ced5e3f0b5e",
            "55c54ad0ef5943d58175e3900b8dbfbb",
            "a0e7808fd0754ba8ad652d5c84867787",
            "7e4515ca43fa4d268879eea22b0b0bfd",
            "dca70d152d204a5086caa79e24440fd5",
            "0f1fcb321f444bb78115d986a8d47713",
            "087944a388f546069a6711291942a383",
            "3034814020b34436aab64fb159531a51",
            "4e5f6a9b9322450b962afc6ac8adf79f",
            "c9f6a22faa22413a81b3eb407ecaf8c9",
            "367916897e9e40399ecf83c5a4c3d077",
            "79d34194189c486c9df5a6abc7390737",
            "1b59a6bdf7f34815b12e0628d9d21e88",
            "155b17bbc2d340aa827cbb4ebb931bb9"
          ]
        },
        "outputId": "0b76baac-4ed4-42ba-b107-2c615aab5692"
      },
      "outputs": [
        {
          "output_type": "display_data",
          "data": {
            "text/plain": [
              "Downloading:   0%|          | 0.00/28.0 [00:00<?, ?B/s]"
            ],
            "application/vnd.jupyter.widget-view+json": {
              "version_major": 2,
              "version_minor": 0,
              "model_id": "015c76924cd84608b7084761ad8a9493"
            }
          },
          "metadata": {}
        },
        {
          "output_type": "display_data",
          "data": {
            "text/plain": [
              "Downloading:   0%|          | 0.00/483 [00:00<?, ?B/s]"
            ],
            "application/vnd.jupyter.widget-view+json": {
              "version_major": 2,
              "version_minor": 0,
              "model_id": "a87b5d7b637c46678c44dacf32d67aff"
            }
          },
          "metadata": {}
        },
        {
          "output_type": "display_data",
          "data": {
            "text/plain": [
              "Downloading:   0%|          | 0.00/226k [00:00<?, ?B/s]"
            ],
            "application/vnd.jupyter.widget-view+json": {
              "version_major": 2,
              "version_minor": 0,
              "model_id": "edb41a2f7ae04df0a46d36285d770814"
            }
          },
          "metadata": {}
        },
        {
          "output_type": "display_data",
          "data": {
            "text/plain": [
              "Downloading:   0%|          | 0.00/455k [00:00<?, ?B/s]"
            ],
            "application/vnd.jupyter.widget-view+json": {
              "version_major": 2,
              "version_minor": 0,
              "model_id": "7e4515ca43fa4d268879eea22b0b0bfd"
            }
          },
          "metadata": {}
        }
      ],
      "source": [
        "from transformers import AutoTokenizer\n",
        "\n",
        "tokenizer = AutoTokenizer.from_pretrained('distilbert-base-uncased',num_labels=len(labels))"
      ]
    },
    {
      "cell_type": "code",
      "execution_count": null,
      "metadata": {
        "id": "ceirRXfx2J8-"
      },
      "outputs": [],
      "source": [
        "import numpy as np\n",
        "def preprocess_data(examples):\n",
        "  # take a batch of texts\n",
        "  text = examples[\"sentence\"]\n",
        "  # encode them\n",
        "  encoding = tokenizer(text, padding=\"max_length\", truncation=True)\n",
        "  # add labels\n",
        "  encoding[\"labels\"] = [label2id[i] for i in examples[\"label\"]]\n",
        "  return encoding"
      ]
    },
    {
      "cell_type": "code",
      "execution_count": null,
      "metadata": {
        "colab": {
          "base_uri": "https://localhost:8080/",
          "height": 113,
          "referenced_widgets": [
            "aaa8e9300898432f81a6781b6a97de2a",
            "2f16e208282b4974bf7fdca3639db572",
            "9317f4fd52c1453681ecf9f78ea4683d",
            "e94c9a48f841409b997a4300036d2d53",
            "5907dcf00ca44e5db9a6a42affd25ba3",
            "6fb311a688e14570a0d5cebcc8aeccb8",
            "ef65c0a75125444ebd1195abd4f6ebbc",
            "56a39a18caa848cb91878c0507cc8882",
            "0ae3cd7475b44fb1bac98fd620087bc9",
            "5e799269b1a54d4b9717dd1ed457e252",
            "9f3d9c6f097e4807a9757f8376be9976",
            "8bb4c6b1ab8746f9a7658f38701c0003",
            "0f960aed93024bcdbbf63097a393dae3",
            "10d0d4e101eb40568bfca282f9cbbccb",
            "abe18ffe36174d8baf5885e596887301",
            "d0b703a753ea4aa893f4e9790ff97ce3",
            "b27a5c52d57741bd984684b33227e099",
            "dcf038c85c814386bf9698f521c34625",
            "3c43e86a0fdd4087b9a33f40dfbfdfac",
            "36890037dd544df08803b1dbe7fdd3a3",
            "434e2935070d42d89c3c068026da211b",
            "27114ce54e044e3dab4627cc20d5067d",
            "672c1948ca5d406dbca1e8f4a9a717f9",
            "69b3d4d5cf1044dbba581b387f82a8ec",
            "f8ae0fc8430f47e3bde339330eecf05b",
            "cea7a09dd9064bd68721e43c58b8bc85",
            "925baa92e6e44795a58397fe132273d9",
            "8b7973a683e341a892072cdd9c35ac67",
            "2c9dac9ff91f49328dea6f4ec05b5fef",
            "f7f7811a46b1440db6f1abeedafc15ef",
            "37ddee0ee56a4abc90a0b98b562e1e9e",
            "a67c3d6650484a5f86ea73916caf8edf",
            "cd9d6ea40c704b619e9e8a21908ef7b5"
          ]
        },
        "id": "h_UqiFYw4A7K",
        "outputId": "304c0e15-e048-4c33-f901-618ba55c9d99"
      },
      "outputs": [
        {
          "output_type": "display_data",
          "data": {
            "text/plain": [
              "  0%|          | 0/48 [00:00<?, ?ba/s]"
            ],
            "application/vnd.jupyter.widget-view+json": {
              "version_major": 2,
              "version_minor": 0,
              "model_id": "aaa8e9300898432f81a6781b6a97de2a"
            }
          },
          "metadata": {}
        },
        {
          "output_type": "display_data",
          "data": {
            "text/plain": [
              "  0%|          | 0/6 [00:00<?, ?ba/s]"
            ],
            "application/vnd.jupyter.widget-view+json": {
              "version_major": 2,
              "version_minor": 0,
              "model_id": "8bb4c6b1ab8746f9a7658f38701c0003"
            }
          },
          "metadata": {}
        },
        {
          "output_type": "display_data",
          "data": {
            "text/plain": [
              "  0%|          | 0/6 [00:00<?, ?ba/s]"
            ],
            "application/vnd.jupyter.widget-view+json": {
              "version_major": 2,
              "version_minor": 0,
              "model_id": "672c1948ca5d406dbca1e8f4a9a717f9"
            }
          },
          "metadata": {}
        }
      ],
      "source": [
        "encoded_dataset = dataset_clean.map(preprocess_data, batched=True, remove_columns = ['sentence', 'label'])"
      ]
    },
    {
      "cell_type": "code",
      "execution_count": null,
      "metadata": {
        "colab": {
          "base_uri": "https://localhost:8080/"
        },
        "id": "I0hzVIE4ieS6",
        "outputId": "3de3a129-4dc8-4c93-d0d2-8e18454334ae"
      },
      "outputs": [
        {
          "output_type": "stream",
          "name": "stdout",
          "text": [
            "dict_keys(['input_ids', 'attention_mask', 'labels'])\n"
          ]
        }
      ],
      "source": [
        "example = encoded_dataset['train'][0]\n",
        "print(example.keys())"
      ]
    },
    {
      "cell_type": "code",
      "execution_count": null,
      "metadata": {
        "colab": {
          "base_uri": "https://localhost:8080/",
          "height": 166
        },
        "id": "fDjhGfaGoOMi",
        "outputId": "319040d4-d7fd-4ab2-8baa-5b1faaa48835"
      },
      "outputs": [
        {
          "output_type": "execute_result",
          "data": {
            "text/plain": [
              "'[CLS] the lender or the lender s collection keeps calling my sister s phone number despite my request for them to stop my sister has noting at all to do with the loan she was never listed on any of the documents or anything else to do with the loan [SEP] [PAD] [PAD] [PAD] [PAD] [PAD] [PAD] [PAD] [PAD] [PAD] [PAD] [PAD] [PAD] [PAD] [PAD] [PAD] [PAD] [PAD] [PAD] [PAD] [PAD] [PAD] [PAD] [PAD] [PAD] [PAD] [PAD] [PAD] [PAD] [PAD] [PAD] [PAD] [PAD] [PAD] [PAD] [PAD] [PAD] [PAD] [PAD] [PAD] [PAD] [PAD] [PAD] [PAD] [PAD] [PAD] [PAD] [PAD] [PAD] [PAD] [PAD] [PAD] [PAD] [PAD] [PAD] [PAD] [PAD] [PAD] [PAD] [PAD] [PAD] [PAD] [PAD] [PAD] [PAD] [PAD] [PAD] [PAD] [PAD] [PAD] [PAD] [PAD] [PAD] [PAD] [PAD] [PAD] [PAD] [PAD] [PAD] [PAD] [PAD] [PAD] [PAD] [PAD] [PAD] [PAD] [PAD] [PAD] [PAD] [PAD] [PAD] [PAD] [PAD] [PAD] [PAD] [PAD] [PAD] [PAD] [PAD] [PAD] [PAD] [PAD] [PAD] [PAD] [PAD] [PAD] [PAD] [PAD] [PAD] [PAD] [PAD] [PAD] [PAD] [PAD] [PAD] [PAD] [PAD] [PAD] [PAD] [PAD] [PAD] [PAD] [PAD] [PAD] [PAD] [PAD] [PAD] [PAD] [PAD] [PAD] [PAD] [PAD] [PAD] [PAD] [PAD] [PAD] [PAD] [PAD] [PAD] [PAD] [PAD] [PAD] [PAD] [PAD] [PAD] [PAD] [PAD] [PAD] [PAD] [PAD] [PAD] [PAD] [PAD] [PAD] [PAD] [PAD] [PAD] [PAD] [PAD] [PAD] [PAD] [PAD] [PAD] [PAD] [PAD] [PAD] [PAD] [PAD] [PAD] [PAD] [PAD] [PAD] [PAD] [PAD] [PAD] [PAD] [PAD] [PAD] [PAD] [PAD] [PAD] [PAD] [PAD] [PAD] [PAD] [PAD] [PAD] [PAD] [PAD] [PAD] [PAD] [PAD] [PAD] [PAD] [PAD] [PAD] [PAD] [PAD] [PAD] [PAD] [PAD] [PAD] [PAD] [PAD] [PAD] [PAD] [PAD] [PAD] [PAD] [PAD] [PAD] [PAD] [PAD] [PAD] [PAD] [PAD] [PAD] [PAD] [PAD] [PAD] [PAD] [PAD] [PAD] [PAD] [PAD] [PAD] [PAD] [PAD] [PAD] [PAD] [PAD] [PAD] [PAD] [PAD] [PAD] [PAD] [PAD] [PAD] [PAD] [PAD] [PAD] [PAD] [PAD] [PAD] [PAD] [PAD] [PAD] [PAD] [PAD] [PAD] [PAD] [PAD] [PAD] [PAD] [PAD] [PAD] [PAD] [PAD] [PAD] [PAD] [PAD] [PAD] [PAD] [PAD] [PAD] [PAD] [PAD] [PAD] [PAD] [PAD] [PAD] [PAD] [PAD] [PAD] [PAD] [PAD] [PAD] [PAD] [PAD] [PAD] [PAD] [PAD] [PAD] [PAD] [PAD] [PAD] [PAD] [PAD] [PAD] [PAD] [PAD] [PAD] [PAD] [PAD] [PAD] [PAD] [PAD] [PAD] [PAD] [PAD] [PAD] [PAD] [PAD] [PAD] [PAD] [PAD] [PAD] [PAD] [PAD] [PAD] [PAD] [PAD] [PAD] [PAD] [PAD] [PAD] [PAD] [PAD] [PAD] [PAD] [PAD] [PAD] [PAD] [PAD] [PAD] [PAD] [PAD] [PAD] [PAD] [PAD] [PAD] [PAD] [PAD] [PAD] [PAD] [PAD] [PAD] [PAD] [PAD] [PAD] [PAD] [PAD] [PAD] [PAD] [PAD] [PAD] [PAD] [PAD] [PAD] [PAD] [PAD] [PAD] [PAD] [PAD] [PAD] [PAD] [PAD] [PAD] [PAD] [PAD] [PAD] [PAD] [PAD] [PAD] [PAD] [PAD] [PAD] [PAD] [PAD] [PAD] [PAD] [PAD] [PAD] [PAD] [PAD] [PAD] [PAD] [PAD] [PAD] [PAD] [PAD] [PAD] [PAD] [PAD] [PAD] [PAD] [PAD] [PAD] [PAD] [PAD] [PAD] [PAD] [PAD] [PAD] [PAD] [PAD] [PAD] [PAD] [PAD] [PAD] [PAD] [PAD] [PAD] [PAD] [PAD] [PAD] [PAD] [PAD] [PAD] [PAD] [PAD] [PAD] [PAD] [PAD] [PAD] [PAD] [PAD] [PAD] [PAD] [PAD] [PAD] [PAD] [PAD] [PAD] [PAD] [PAD] [PAD] [PAD] [PAD] [PAD] [PAD] [PAD] [PAD] [PAD] [PAD] [PAD] [PAD] [PAD] [PAD] [PAD] [PAD] [PAD] [PAD] [PAD] [PAD] [PAD] [PAD] [PAD] [PAD] [PAD] [PAD] [PAD] [PAD] [PAD] [PAD] [PAD] [PAD] [PAD] [PAD] [PAD]'"
            ],
            "application/vnd.google.colaboratory.intrinsic+json": {
              "type": "string"
            }
          },
          "metadata": {},
          "execution_count": 35
        }
      ],
      "source": [
        "tokenizer.decode(example['input_ids'])"
      ]
    },
    {
      "cell_type": "code",
      "execution_count": null,
      "metadata": {
        "colab": {
          "base_uri": "https://localhost:8080/"
        },
        "id": "ty4hTXCfoORS",
        "outputId": "bbd664e6-b138-4d32-e3e9-bca856f60d7a"
      },
      "outputs": [
        {
          "output_type": "execute_result",
          "data": {
            "text/plain": [
              "4"
            ]
          },
          "metadata": {},
          "execution_count": 36
        }
      ],
      "source": [
        "example['labels']"
      ]
    },
    {
      "cell_type": "code",
      "execution_count": null,
      "metadata": {
        "colab": {
          "base_uri": "https://localhost:8080/"
        },
        "id": "Z3DTGXxKpgrh",
        "outputId": "5d18ab1a-4028-483e-8cc7-8578cdd9c653"
      },
      "outputs": [
        {
          "output_type": "execute_result",
          "data": {
            "text/plain": [
              "DatasetDict({\n",
              "    train: Dataset({\n",
              "        features: ['input_ids', 'attention_mask', 'labels'],\n",
              "        num_rows: 48000\n",
              "    })\n",
              "    validation: Dataset({\n",
              "        features: ['input_ids', 'attention_mask', 'labels'],\n",
              "        num_rows: 6000\n",
              "    })\n",
              "    test: Dataset({\n",
              "        features: ['input_ids', 'attention_mask', 'labels'],\n",
              "        num_rows: 6000\n",
              "    })\n",
              "})"
            ]
          },
          "metadata": {},
          "execution_count": 37
        }
      ],
      "source": [
        "encoded_dataset"
      ]
    },
    {
      "cell_type": "markdown",
      "source": [
        "Set the format of encoded_dataset to PyTorch tensors. This will turn the training, validation and test sets into standard PyTorch [datasets]"
      ],
      "metadata": {
        "id": "9u9Q4vPoizkF"
      }
    },
    {
      "cell_type": "code",
      "execution_count": null,
      "metadata": {
        "id": "zouV0Nr9oOWN"
      },
      "outputs": [],
      "source": [
        "encoded_dataset.set_format(\"torch\")"
      ]
    },
    {
      "cell_type": "markdown",
      "metadata": {
        "id": "9n8yGtvdsckK"
      },
      "source": [
        "## Define model\n",
        "\n",
        "Define a model that includes a pre-trained base (i.e. the weights from the distilbert-base-uncased) which is loaded, with a random initialized classification head (linear layer) on top. Fine-tune this head, together with the pre-trained base on a labeled dataset. Set the id2label and label2id mappings to make sure the output layer has `len(labels)` output neurons."
      ]
    },
    {
      "cell_type": "code",
      "execution_count": null,
      "metadata": {
        "colab": {
          "base_uri": "https://localhost:8080/",
          "height": 162,
          "referenced_widgets": [
            "55a1f96fe28a4dc585bbc13ed78c18ca",
            "5c6738eb52434ef6b34634400c7ac1e3",
            "b8947932adba4d6e97d4ef528951075e",
            "7d852a384ca54646a0220e3830a844c0",
            "5e4c84c5138e4b909fedbb0e08d44020",
            "77c2f3659dd64e6ab16cb05fe8a97b97",
            "5425c9a72e4d43fe8dc985a66a00c002",
            "23b8f826ca00412c990612b9f0693798",
            "54a74d01240e41e6a34f803356875aa3",
            "9613cf5f7a4447bcabe68a0b3b40d0ed",
            "1639533bd55d4efda2425285dadd431f"
          ]
        },
        "id": "PA49REZ2srhp",
        "outputId": "69e4cef4-23ec-443b-a4ad-65dd88d0a11c"
      },
      "outputs": [
        {
          "output_type": "display_data",
          "data": {
            "text/plain": [
              "Downloading:   0%|          | 0.00/256M [00:00<?, ?B/s]"
            ],
            "application/vnd.jupyter.widget-view+json": {
              "version_major": 2,
              "version_minor": 0,
              "model_id": "55a1f96fe28a4dc585bbc13ed78c18ca"
            }
          },
          "metadata": {}
        },
        {
          "output_type": "stream",
          "name": "stderr",
          "text": [
            "Some weights of the model checkpoint at distilbert-base-uncased were not used when initializing DistilBertForSequenceClassification: ['vocab_projector.bias', 'vocab_projector.weight', 'vocab_transform.weight', 'vocab_transform.bias', 'vocab_layer_norm.bias', 'vocab_layer_norm.weight']\n",
            "- This IS expected if you are initializing DistilBertForSequenceClassification from the checkpoint of a model trained on another task or with another architecture (e.g. initializing a BertForSequenceClassification model from a BertForPreTraining model).\n",
            "- This IS NOT expected if you are initializing DistilBertForSequenceClassification from the checkpoint of a model that you expect to be exactly identical (initializing a BertForSequenceClassification model from a BertForSequenceClassification model).\n",
            "Some weights of DistilBertForSequenceClassification were not initialized from the model checkpoint at distilbert-base-uncased and are newly initialized: ['classifier.bias', 'pre_classifier.bias', 'classifier.weight', 'pre_classifier.weight']\n",
            "You should probably TRAIN this model on a down-stream task to be able to use it for predictions and inference.\n"
          ]
        }
      ],
      "source": [
        "from transformers import AutoModelForSequenceClassification\n",
        "\n",
        "model = AutoModelForSequenceClassification.from_pretrained(\"distilbert-base-uncased\",\n",
        "                                                           num_labels=len(labels),\n",
        "                                                           id2label=id2label,\n",
        "                                                           label2id=label2id)"
      ]
    },
    {
      "cell_type": "markdown",
      "metadata": {
        "id": "MvkxV0__tFmP"
      },
      "source": [
        "## Train the model!\n",
        "\n",
        "We are going to train the model using native Pytorch. This requires us to define 2 things: \n",
        "\n",
        "* `DataLoader`:Create a DataLoader for your training, validation and test datasets so you can iterate over batches of data.\n",
        "* `Optimizer`\n",
        "* `Learning rate scheduler`\n",
        "\n"
      ]
    },
    {
      "cell_type": "code",
      "execution_count": null,
      "metadata": {
        "id": "NWt_8vCltFII"
      },
      "outputs": [],
      "source": [
        "fixed_batch_size = 32\n",
        "fixed_learning_rate = 1e-5\n",
        "num_epochs = 5"
      ]
    },
    {
      "cell_type": "markdown",
      "metadata": {
        "id": "2pcGeLCYpJW2"
      },
      "source": [
        "Use the RandomSampler for feeding training data and SequentialSampler for feeding validation data."
      ]
    },
    {
      "cell_type": "code",
      "execution_count": null,
      "metadata": {
        "id": "fyRYkf1oppyk"
      },
      "outputs": [],
      "source": [
        "#DataLoader\n",
        "from torch.utils.data import  DataLoader, RandomSampler, SequentialSampler\n",
        "train_sampler = RandomSampler(encoded_dataset[\"train\"])\n",
        "train_dataloader = DataLoader(encoded_dataset[\"train\"], sampler=train_sampler, batch_size = fixed_batch_size)\n",
        "\n",
        "val_sampler = SequentialSampler(encoded_dataset[\"validation\"])\n",
        "eval_dataloader = DataLoader(encoded_dataset[\"validation\"],sampler=val_sampler, batch_size = fixed_batch_size)"
      ]
    },
    {
      "cell_type": "code",
      "execution_count": null,
      "metadata": {
        "id": "J7EIa4d2sao5"
      },
      "outputs": [],
      "source": [
        "#Optimizer\n",
        "from torch.optim import AdamW\n",
        "\n",
        "optimizer_learning_rate = 1e-5\n",
        "optimizer_adam_epsilon = 1e-8\n",
        "\n",
        "no_decay = ['bias', 'LayerNorm.weight']\n",
        "optimizer_grouped_parameters = [\n",
        "    {'params': [p for n, p in model.named_parameters() if not any(nd in n for nd in no_decay)],\n",
        "     'weight_decay_rate': 0.2},\n",
        "    {'params': [p for n, p in model.named_parameters() if any(nd in n for nd in no_decay)],\n",
        "     'weight_decay_rate': 0.0}\n",
        "]\n",
        "\n",
        "optimizer = AdamW(optimizer_grouped_parameters, lr = optimizer_learning_rate, eps=optimizer_adam_epsilon)\n"
      ]
    },
    {
      "cell_type": "code",
      "execution_count": null,
      "metadata": {
        "id": "rW_hl8-ps0JJ"
      },
      "outputs": [],
      "source": [
        "#Learning rate scheduler \n",
        "\n",
        "from transformers import get_scheduler\n",
        "\n",
        "num_training_steps = num_epochs * len(train_dataloader)\n",
        "\n",
        "lr_scheduler = get_scheduler(name=\"linear\", optimizer = optimizer, num_warmup_steps=0, num_training_steps=num_training_steps)"
      ]
    },
    {
      "cell_type": "markdown",
      "metadata": {
        "id": "M3WoGSMOuEqA"
      },
      "source": [
        "Compute accuracy, precision, recall, F-measure while training. For this, define the multi_class_metric function."
      ]
    },
    {
      "cell_type": "code",
      "execution_count": null,
      "metadata": {
        "id": "PNjiVr3wgMrF"
      },
      "outputs": [],
      "source": [
        "# Function to calculate the accuracy, precision, recall, F-measure of our predictions vs labels\n",
        "from sklearn.metrics import precision_recall_fscore_support\n",
        "\n",
        "def multi_class_metric(labels,preds):\n",
        "    pred_flat = preds.flatten()\n",
        "    labels_flat = labels.flatten()\n",
        "    accuracy = np.sum(pred_flat == labels_flat) / len(labels_flat)\n",
        "    precision_macro, recall_macro, f1_macro_average,_ = precision_recall_fscore_support(labels,preds,average='macro',zero_division = 0)\n",
        "    # return as dictionary\n",
        "    metrics = {\n",
        "               'f1': f1_macro_average,\n",
        "               'accuracy': accuracy,\n",
        "               'precision': precision_macro,\n",
        "               'recall': recall_macro\n",
        "               }\n",
        "    return metrics"
      ]
    },
    {
      "cell_type": "code",
      "execution_count": null,
      "metadata": {
        "colab": {
          "base_uri": "https://localhost:8080/"
        },
        "id": "TJ0sp06fDAX0",
        "outputId": "c252e835-22a4-4b98-b94b-3c162f823101"
      },
      "outputs": [
        {
          "output_type": "execute_result",
          "data": {
            "text/plain": [
              "DistilBertForSequenceClassification(\n",
              "  (distilbert): DistilBertModel(\n",
              "    (embeddings): Embeddings(\n",
              "      (word_embeddings): Embedding(30522, 768, padding_idx=0)\n",
              "      (position_embeddings): Embedding(512, 768)\n",
              "      (LayerNorm): LayerNorm((768,), eps=1e-12, elementwise_affine=True)\n",
              "      (dropout): Dropout(p=0.1, inplace=False)\n",
              "    )\n",
              "    (transformer): Transformer(\n",
              "      (layer): ModuleList(\n",
              "        (0): TransformerBlock(\n",
              "          (attention): MultiHeadSelfAttention(\n",
              "            (dropout): Dropout(p=0.1, inplace=False)\n",
              "            (q_lin): Linear(in_features=768, out_features=768, bias=True)\n",
              "            (k_lin): Linear(in_features=768, out_features=768, bias=True)\n",
              "            (v_lin): Linear(in_features=768, out_features=768, bias=True)\n",
              "            (out_lin): Linear(in_features=768, out_features=768, bias=True)\n",
              "          )\n",
              "          (sa_layer_norm): LayerNorm((768,), eps=1e-12, elementwise_affine=True)\n",
              "          (ffn): FFN(\n",
              "            (dropout): Dropout(p=0.1, inplace=False)\n",
              "            (lin1): Linear(in_features=768, out_features=3072, bias=True)\n",
              "            (lin2): Linear(in_features=3072, out_features=768, bias=True)\n",
              "            (activation): GELUActivation()\n",
              "          )\n",
              "          (output_layer_norm): LayerNorm((768,), eps=1e-12, elementwise_affine=True)\n",
              "        )\n",
              "        (1): TransformerBlock(\n",
              "          (attention): MultiHeadSelfAttention(\n",
              "            (dropout): Dropout(p=0.1, inplace=False)\n",
              "            (q_lin): Linear(in_features=768, out_features=768, bias=True)\n",
              "            (k_lin): Linear(in_features=768, out_features=768, bias=True)\n",
              "            (v_lin): Linear(in_features=768, out_features=768, bias=True)\n",
              "            (out_lin): Linear(in_features=768, out_features=768, bias=True)\n",
              "          )\n",
              "          (sa_layer_norm): LayerNorm((768,), eps=1e-12, elementwise_affine=True)\n",
              "          (ffn): FFN(\n",
              "            (dropout): Dropout(p=0.1, inplace=False)\n",
              "            (lin1): Linear(in_features=768, out_features=3072, bias=True)\n",
              "            (lin2): Linear(in_features=3072, out_features=768, bias=True)\n",
              "            (activation): GELUActivation()\n",
              "          )\n",
              "          (output_layer_norm): LayerNorm((768,), eps=1e-12, elementwise_affine=True)\n",
              "        )\n",
              "        (2): TransformerBlock(\n",
              "          (attention): MultiHeadSelfAttention(\n",
              "            (dropout): Dropout(p=0.1, inplace=False)\n",
              "            (q_lin): Linear(in_features=768, out_features=768, bias=True)\n",
              "            (k_lin): Linear(in_features=768, out_features=768, bias=True)\n",
              "            (v_lin): Linear(in_features=768, out_features=768, bias=True)\n",
              "            (out_lin): Linear(in_features=768, out_features=768, bias=True)\n",
              "          )\n",
              "          (sa_layer_norm): LayerNorm((768,), eps=1e-12, elementwise_affine=True)\n",
              "          (ffn): FFN(\n",
              "            (dropout): Dropout(p=0.1, inplace=False)\n",
              "            (lin1): Linear(in_features=768, out_features=3072, bias=True)\n",
              "            (lin2): Linear(in_features=3072, out_features=768, bias=True)\n",
              "            (activation): GELUActivation()\n",
              "          )\n",
              "          (output_layer_norm): LayerNorm((768,), eps=1e-12, elementwise_affine=True)\n",
              "        )\n",
              "        (3): TransformerBlock(\n",
              "          (attention): MultiHeadSelfAttention(\n",
              "            (dropout): Dropout(p=0.1, inplace=False)\n",
              "            (q_lin): Linear(in_features=768, out_features=768, bias=True)\n",
              "            (k_lin): Linear(in_features=768, out_features=768, bias=True)\n",
              "            (v_lin): Linear(in_features=768, out_features=768, bias=True)\n",
              "            (out_lin): Linear(in_features=768, out_features=768, bias=True)\n",
              "          )\n",
              "          (sa_layer_norm): LayerNorm((768,), eps=1e-12, elementwise_affine=True)\n",
              "          (ffn): FFN(\n",
              "            (dropout): Dropout(p=0.1, inplace=False)\n",
              "            (lin1): Linear(in_features=768, out_features=3072, bias=True)\n",
              "            (lin2): Linear(in_features=3072, out_features=768, bias=True)\n",
              "            (activation): GELUActivation()\n",
              "          )\n",
              "          (output_layer_norm): LayerNorm((768,), eps=1e-12, elementwise_affine=True)\n",
              "        )\n",
              "        (4): TransformerBlock(\n",
              "          (attention): MultiHeadSelfAttention(\n",
              "            (dropout): Dropout(p=0.1, inplace=False)\n",
              "            (q_lin): Linear(in_features=768, out_features=768, bias=True)\n",
              "            (k_lin): Linear(in_features=768, out_features=768, bias=True)\n",
              "            (v_lin): Linear(in_features=768, out_features=768, bias=True)\n",
              "            (out_lin): Linear(in_features=768, out_features=768, bias=True)\n",
              "          )\n",
              "          (sa_layer_norm): LayerNorm((768,), eps=1e-12, elementwise_affine=True)\n",
              "          (ffn): FFN(\n",
              "            (dropout): Dropout(p=0.1, inplace=False)\n",
              "            (lin1): Linear(in_features=768, out_features=3072, bias=True)\n",
              "            (lin2): Linear(in_features=3072, out_features=768, bias=True)\n",
              "            (activation): GELUActivation()\n",
              "          )\n",
              "          (output_layer_norm): LayerNorm((768,), eps=1e-12, elementwise_affine=True)\n",
              "        )\n",
              "        (5): TransformerBlock(\n",
              "          (attention): MultiHeadSelfAttention(\n",
              "            (dropout): Dropout(p=0.1, inplace=False)\n",
              "            (q_lin): Linear(in_features=768, out_features=768, bias=True)\n",
              "            (k_lin): Linear(in_features=768, out_features=768, bias=True)\n",
              "            (v_lin): Linear(in_features=768, out_features=768, bias=True)\n",
              "            (out_lin): Linear(in_features=768, out_features=768, bias=True)\n",
              "          )\n",
              "          (sa_layer_norm): LayerNorm((768,), eps=1e-12, elementwise_affine=True)\n",
              "          (ffn): FFN(\n",
              "            (dropout): Dropout(p=0.1, inplace=False)\n",
              "            (lin1): Linear(in_features=768, out_features=3072, bias=True)\n",
              "            (lin2): Linear(in_features=3072, out_features=768, bias=True)\n",
              "            (activation): GELUActivation()\n",
              "          )\n",
              "          (output_layer_norm): LayerNorm((768,), eps=1e-12, elementwise_affine=True)\n",
              "        )\n",
              "      )\n",
              "    )\n",
              "  )\n",
              "  (pre_classifier): Linear(in_features=768, out_features=768, bias=True)\n",
              "  (classifier): Linear(in_features=768, out_features=6, bias=True)\n",
              "  (dropout): Dropout(p=0.2, inplace=False)\n",
              ")"
            ]
          },
          "metadata": {},
          "execution_count": 45
        }
      ],
      "source": [
        "model.to(device)"
      ]
    },
    {
      "cell_type": "markdown",
      "metadata": {
        "id": "BFvKwsQxY8j5"
      },
      "source": [
        "Create a function for formatting elapsed times as hh:mm:ss"
      ]
    },
    {
      "cell_type": "code",
      "execution_count": null,
      "metadata": {
        "id": "MJl3_XGYmH_3"
      },
      "outputs": [],
      "source": [
        "import time\n",
        "import datetime\n",
        "\n",
        "def format_time(elapsed):\n",
        "    '''\n",
        "    Takes a time in seconds and returns a string hh:mm:ss\n",
        "    '''\n",
        "    # Round to the nearest second.\n",
        "    elapsed_rounded = int(round((elapsed)))\n",
        "    \n",
        "    # Format as hh:mm:ss\n",
        "    return str(datetime.timedelta(seconds=elapsed_rounded))\n"
      ]
    },
    {
      "cell_type": "markdown",
      "metadata": {
        "id": "ChQzme1oXkPk"
      },
      "source": [
        "Create two directories to store **checkpoint** and **best model**"
      ]
    },
    {
      "cell_type": "code",
      "execution_count": null,
      "metadata": {
        "id": "bcJJWtI0XCAn"
      },
      "outputs": [],
      "source": [
        "%mkdir checkpoint best_model"
      ]
    },
    {
      "cell_type": "markdown",
      "metadata": {
        "id": "NIMRwdAiXa8h"
      },
      "source": [
        "Saving function\n",
        "**save_ckp** is created to save checkpoint, the latest one and the best one. This creates flexibility: either you are interested in the state of the latest checkpoint or the best checkpoint."
      ]
    },
    {
      "cell_type": "code",
      "execution_count": null,
      "metadata": {
        "id": "KKL5-NO9XQ9S"
      },
      "outputs": [],
      "source": [
        "import shutil\n",
        "def save_ckp(state, is_best, checkpoint_path, best_model_path):\n",
        "    \"\"\"\n",
        "    state: checkpoint we want to save\n",
        "    is_best: is this the best checkpoint; min validation loss\n",
        "    checkpoint_path: path to save checkpoint\n",
        "    best_model_path: path to save best model\n",
        "    \"\"\"\n",
        "    f_path = checkpoint_path\n",
        "    # save checkpoint data to the path given, checkpoint_path\n",
        "    torch.save(state, f_path)\n",
        "    # if it is a best model, min validation loss\n",
        "    if is_best:\n",
        "        best_fpath = best_model_path\n",
        "        # copy that checkpoint file to best path given, best_model_path\n",
        "        shutil.copyfile(f_path, best_fpath)"
      ]
    },
    {
      "cell_type": "markdown",
      "metadata": {
        "id": "lidMA6MA0UJf"
      },
      "source": [
        "Loading Function.\n",
        "\n",
        "**load_chkp** is created for loading model. \n",
        "\n",
        "It takes:\n",
        "*   location of the saved checkpoint\n",
        "*   model instance that you want to load the state to\n",
        "*   the optimizer"
      ]
    },
    {
      "cell_type": "code",
      "execution_count": null,
      "metadata": {
        "id": "dIhiLbox0Y7V"
      },
      "outputs": [],
      "source": [
        "def load_ckp(checkpoint_fpath, model, optimizer):\n",
        "    \"\"\"\n",
        "    checkpoint_path: path to save checkpoint\n",
        "    model: model that we want to load checkpoint parameters into       \n",
        "    optimizer: optimizer we defined in previous training\n",
        "    \"\"\"\n",
        "    # load check point\n",
        "    checkpoint = torch.load(checkpoint_fpath)\n",
        "    # initialize state_dict from checkpoint to model\n",
        "    model.load_state_dict(checkpoint['state_dict'])\n",
        "    # initialize optimizer from checkpoint to optimizer\n",
        "    optimizer.load_state_dict(checkpoint['optimizer'])\n",
        "    # initialize valid_loss_min from checkpoint to valid_loss_min\n",
        "    valid_loss_min = checkpoint['valid_loss_min']\n",
        "    # return model, optimizer, epoch value, min validation loss \n",
        "    return model, optimizer, checkpoint['epoch'], valid_loss_min\n"
      ]
    },
    {
      "cell_type": "markdown",
      "metadata": {
        "id": "2jq2NwPW2u2-"
      },
      "source": [
        "Start Training "
      ]
    },
    {
      "cell_type": "code",
      "execution_count": null,
      "metadata": {
        "colab": {
          "base_uri": "https://localhost:8080/",
          "height": 1000,
          "referenced_widgets": [
            "d4627fe9e3ea47ca870aff4f6a235435",
            "eec702a980c64888911ae652ee5eb8e3",
            "daf6182e9a9f4837a0a043064ed0bfcd",
            "2e9e9b26bd9e4f2e9c881d4f4e7b1b20",
            "2a4e91b094844e1d9d6354b992b6240f",
            "5c7a17472b4c4779a1a2e1e2a984386b",
            "20dfc6fa5bfb4fe6ba70a41ad8ea8989",
            "a0280e8b35374e2ab616980b72c3ef6f",
            "3a6eafe3f30a48ba93e703684a6d9ee9",
            "b0370290bfb5418cae18cad86eee0237",
            "e0c11a8a438d40fbac4f934c5b6b877a"
          ]
        },
        "id": "OnGI2PHjyFtK",
        "outputId": "758bab6e-78b6-4204-ca1d-34ed27026d59"
      },
      "outputs": [
        {
          "output_type": "display_data",
          "data": {
            "text/plain": [
              "  0%|          | 0/5 [00:00<?, ?it/s]"
            ],
            "application/vnd.jupyter.widget-view+json": {
              "version_major": 2,
              "version_minor": 0,
              "model_id": "d4627fe9e3ea47ca870aff4f6a235435"
            }
          },
          "metadata": {}
        },
        {
          "output_type": "stream",
          "name": "stdout",
          "text": [
            "\n",
            "======== Epoch 1 / 5 ========\n",
            "Training...\n",
            " Training f1-score: 0.78\n",
            " Training Accuracy: 0.80\n",
            " Training Precision: 0.79\n",
            " Training Recall: 0.79\n",
            "  Average training loss: 0.65\n",
            "  Training epoch took: 0:36:59\n",
            "\n",
            "Running Validation...\n",
            " Validation f1-score: 0.83\n",
            " Validation Accuracy: 0.85\n",
            " Validation Precision: 0.85\n",
            " Validation Recall: 0.85\n",
            "  Validation Loss: 0.95\n",
            "  Validation took: 0:01:47\n",
            "Validation loss decreased (inf --> 0.945185).  Saving model ...\n",
            "\n",
            "======== Epoch 2 / 5 ========\n",
            "Training...\n",
            " Training f1-score: 0.85\n",
            " Training Accuracy: 0.86\n",
            " Training Precision: 0.86\n",
            " Training Recall: 0.86\n",
            "  Average training loss: 0.42\n",
            "  Training epoch took: 0:37:17\n",
            "\n",
            "Running Validation...\n",
            " Validation f1-score: 0.84\n",
            " Validation Accuracy: 0.86\n",
            " Validation Precision: 0.85\n",
            " Validation Recall: 0.85\n",
            "  Validation Loss: 0.89\n",
            "  Validation took: 0:01:48\n",
            "Validation loss decreased (0.945185 --> 0.888887).  Saving model ...\n",
            "\n",
            "======== Epoch 3 / 5 ========\n",
            "Training...\n",
            " Training f1-score: 0.87\n",
            " Training Accuracy: 0.88\n",
            " Training Precision: 0.88\n",
            " Training Recall: 0.88\n",
            "  Average training loss: 0.36\n",
            "  Training epoch took: 0:37:33\n",
            "\n",
            "Running Validation...\n",
            " Validation f1-score: 0.85\n",
            " Validation Accuracy: 0.86\n",
            " Validation Precision: 0.86\n",
            " Validation Recall: 0.86\n",
            "  Validation Loss: 0.87\n",
            "  Validation took: 0:01:48\n",
            "Validation loss decreased (0.888887 --> 0.872371).  Saving model ...\n",
            "\n",
            "======== Epoch 4 / 5 ========\n",
            "Training...\n",
            " Training f1-score: 0.89\n",
            " Training Accuracy: 0.90\n",
            " Training Precision: 0.90\n",
            " Training Recall: 0.90\n",
            "  Average training loss: 0.32\n",
            "  Training epoch took: 0:37:34\n",
            "\n",
            "Running Validation...\n",
            " Validation f1-score: 0.85\n",
            " Validation Accuracy: 0.86\n",
            " Validation Precision: 0.86\n",
            " Validation Recall: 0.86\n",
            "  Validation Loss: 0.87\n",
            "  Validation took: 0:01:48\n",
            "Validation loss decreased (0.872371 --> 0.871923).  Saving model ...\n",
            "\n",
            "======== Epoch 5 / 5 ========\n",
            "Training...\n",
            " Training f1-score: 0.90\n",
            " Training Accuracy: 0.91\n",
            " Training Precision: 0.91\n",
            " Training Recall: 0.91\n",
            "  Average training loss: 0.29\n",
            "  Training epoch took: 0:37:32\n",
            "\n",
            "Running Validation...\n",
            " Validation f1-score: 0.85\n",
            " Validation Accuracy: 0.87\n",
            " Validation Precision: 0.86\n",
            " Validation Recall: 0.86\n",
            "  Validation Loss: 0.88\n",
            "  Validation took: 0:01:48\n",
            "\n",
            "Training complete!\n",
            "\n",
            "Total time taken on the training data across all epochs: 3:06:55 (h:mm:ss)\n",
            "Average time take per epoch on training data: 0:37:23 (h:mm:ss)\n",
            "\n",
            "Total time taken on the validation data across all epochs: 0:08:59 (h:mm:ss)\n",
            "Average time take per epoch on validation data: 0:01:48 (h:mm:ss)\n",
            "\n",
            "Total training time taken across all epochs [Validation and model saving time included]: 3:16:30 (h:mm:ss)\n",
            "Average time take per epoch [Validation and model saving time included]: 0:39:18 (h:mm:ss)\n"
          ]
        }
      ],
      "source": [
        "import random\n",
        "from tqdm.auto import tqdm\n",
        "\n",
        "\n",
        "# This training code is based on the `run_glue.py` script here:\n",
        "# https://github.com/huggingface/transformers/blob/5bfcd0485ece086ebcbed2d008813037968a9e58/examples/run_glue.py#L128\n",
        "\n",
        "\n",
        "random.seed(fix_seed)\n",
        "np.random.seed(fix_seed)\n",
        "torch.manual_seed(fix_seed)\n",
        "torch.cuda.manual_seed_all(fix_seed)\n",
        "\n",
        "\n",
        "\n",
        "# We'll store a number of quantities such as training and validation loss, \n",
        "# validation accuracy, and timings.\n",
        "training_stats = []\n",
        "\n",
        "# Measure the total training time for the whole run.\n",
        "total_t0 = time.time()\n",
        "\n",
        "progress_bar = tqdm(range(num_epochs))\n",
        "\n",
        "\n",
        "valid_loss_min_input = np.Inf\n",
        "# Initialize tracker for minimum validation loss\n",
        "valid_loss_min = valid_loss_min_input \n",
        "# Create paths for storing the current checkpoint and best model checkpoint\n",
        "checkpoint_path = \"/content/checkpoint/current_checkpoint.pt\"\n",
        "best_model_path = \"/content/best_model/best_model.pt\"\n",
        "\n",
        "# Reset time taken for Training Data and Validation Data across all epochs\n",
        "training_time_only = 0\n",
        "validation_time_only = 0\n",
        "\n",
        "# For each epoch...\n",
        "for epoch_i in range(0, num_epochs):\n",
        "    \n",
        "    # ========================================\n",
        "    #               Training\n",
        "    # ========================================\n",
        "    \n",
        "    # Perform one full pass over the training set.\n",
        "\n",
        "    print(\"\")\n",
        "    print('======== Epoch {:} / {:} ========'.format(epoch_i + 1, num_epochs))\n",
        "    print('Training...')\n",
        "\n",
        "    \n",
        "\n",
        "    # Reset the total loss and other metrics for this epoch.\n",
        "    total_train_loss = 0\n",
        "    total_train_f1 = 0\n",
        "    total_train_accuracy = 0\n",
        "    total_train_precision = 0\n",
        "    total_train_recall = 0\n",
        "\n",
        "    # Reset the time taken on Training data and Validation data across this epoch\n",
        "    training_time_epoch = 0\n",
        "    validation_time_epoch = 0\n",
        "\n",
        "    # Measure how long the training epoch takes.\n",
        "    train_t0 = time.time()\n",
        "\n",
        "    # Put the model into training mode.\n",
        "    \n",
        "    model.train()\n",
        "    for batch in train_dataloader:\n",
        "      train_batch = {k: v.to(device) for k, v in batch.items()}\n",
        "      train_outputs = model(**train_batch)\n",
        "      train_loss = train_outputs.loss\n",
        "      train_logits = train_outputs.logits\n",
        "      train_predictions = torch.argmax(train_logits, dim=-1)\n",
        "      total_train_loss += train_loss.item()\n",
        "      train_metrics= multi_class_metric(train_predictions.detach().cpu().numpy(), train_batch[\"labels\"].to('cpu').numpy())\n",
        "      train_f1 = train_metrics['f1']\n",
        "      train_accuracy = train_metrics['accuracy']\n",
        "      train_precision =train_metrics['precision']\n",
        "      train_recall = train_metrics['recall']\n",
        "      \n",
        "      total_train_f1 += train_f1\n",
        "      total_train_accuracy += train_accuracy\n",
        "      total_train_precision += train_precision\n",
        "      total_train_recall += train_recall\n",
        "      train_loss.backward()\n",
        "\n",
        "      # Clip the norm of the gradients to 1.0.\n",
        "      #This is to help prevent the \"exploding gradients\" problem.\n",
        "      torch.nn.utils.clip_grad_norm_(model.parameters(), 1.0) \n",
        "\n",
        "      # Update parameters and take a step using the computed gradient.\n",
        "      # The optimizer dictates the \"update rule\"--how the parameters are\n",
        "      # modified based on their gradients, the learning rate, etc.\n",
        "      optimizer.step()\n",
        "      lr_scheduler.step()\n",
        "      optimizer.zero_grad() \n",
        "    \n",
        "    # Measure how long the Training run took.\n",
        "    training_time_epoch = time.time() - train_t0   \n",
        "      \n",
        "    # Calculate the average loss over all of the batches.\n",
        "    avg_train_loss = total_train_loss / len(train_dataloader)  \n",
        "\n",
        "    # Report the final f1-score for this training run.   \n",
        "    avg_train_f1 = total_train_f1 / len(train_dataloader)\n",
        "\n",
        "    # Report the final accuracy for this training run.   \n",
        "    avg_train_accuracy = total_train_accuracy / len(train_dataloader)\n",
        "\n",
        "    # Report the final precision for this training run.   \n",
        "    avg_train_precision = total_train_precision / len(train_dataloader)\n",
        "\n",
        "    # Report the final recall for this training run.   \n",
        "    avg_train_recall = total_train_recall / len(train_dataloader)\n",
        "\n",
        "              \n",
        "    #Accumulate the total time on trainind data across all epochs  \n",
        "    training_time_only +=  training_time_epoch   \n",
        "\n",
        "    print(\" Training f1-score: {0:.2f}\".format(avg_train_f1)) \n",
        "    print(\" Training Accuracy: {0:.2f}\".format(avg_train_accuracy)) \n",
        "    print(\" Training Precision: {0:.2f}\".format(avg_train_precision)) \n",
        "    print(\" Training Recall: {0:.2f}\".format(avg_train_recall))  \n",
        "    print(\"  Average training loss: {0:.2f}\".format(avg_train_loss))\n",
        "    print(\"  Training epoch took: {:}\".format(format_time(training_time_epoch)))\n",
        "    # ========================================\n",
        "    #               Validation\n",
        "    # ========================================\n",
        "    # After the completion of each training epoch, measure our performance on\n",
        "    # our validation set.\n",
        "\n",
        "    print(\"\")\n",
        "    print(\"Running Validation...\")\n",
        "\n",
        "    val_t0 = time.time()\n",
        "    # Put the model in evaluation mode--the dropout layers behave differently\n",
        "    # during evaluation.\n",
        "    model.eval()\n",
        "\n",
        "    # Tracking variables \n",
        "    total_eval_f1 = 0\n",
        "    total_eval_accuracy = 0\n",
        "    total_eval_precision = 0\n",
        "    total_eval_recall = 0\n",
        "    total_eval_loss = 0\n",
        "\n",
        "\n",
        "    # Evaluate data for one epoch\n",
        "    for batch in eval_dataloader:\n",
        "      val_batch = {k: v.to(device) for k, v in batch.items()}\n",
        "     \n",
        "      # Tell pytorch not to bother with constructing the compute graph during\n",
        "      # the forward pass, since this is only needed for backprop (training).\n",
        "      with torch.no_grad():\n",
        "        val_outputs = model(**val_batch)\n",
        "        \n",
        "      val_loss = val_outputs.loss\n",
        "      val_logits = val_outputs.logits\n",
        "      val_predictions = torch.argmax(val_logits, dim=-1)\n",
        "     \n",
        "      total_eval_loss += val_loss.item()\n",
        "\n",
        "      val_metrics = multi_class_metric(val_predictions.detach().cpu().numpy(), val_batch[\"labels\"].to('cpu').numpy())\n",
        "      val_f1 = val_metrics['f1']\n",
        "      val_accuracy = val_metrics['accuracy']\n",
        "      val_precision =val_metrics['precision']\n",
        "      val_recall = val_metrics['recall']\n",
        "\n",
        "      total_eval_f1 += val_f1\n",
        "      total_eval_accuracy += val_accuracy\n",
        "      total_eval_precision += val_precision\n",
        "      total_eval_recall += val_recall\n",
        "\n",
        "      # Accumulate the validation loss.\n",
        "      total_eval_loss += val_loss.item()\n",
        "        \n",
        "    # Measure how long the validation run took.\n",
        "    validation_time_epoch = time.time() - val_t0\n",
        "\n",
        "    # Report the final metrics for this validation run.   \n",
        "    avg_val_f1 = total_eval_f1 / len(eval_dataloader)\n",
        "    avg_val_accuracy = total_eval_accuracy / len(eval_dataloader)\n",
        "    avg_val_precision = total_eval_precision / len(eval_dataloader)\n",
        "    avg_val_recall = total_eval_recall / len(eval_dataloader)\n",
        "\n",
        "\n",
        "    print(\" Validation f1-score: {0:.2f}\".format(avg_val_f1)) \n",
        "    print(\" Validation Accuracy: {0:.2f}\".format(avg_val_accuracy))\n",
        "    print(\" Validation Precision: {0:.2f}\".format(avg_val_precision)) \n",
        "    print(\" Validation Recall: {0:.2f}\".format(avg_val_recall)) \n",
        "    \n",
        "\n",
        "    # Calculate the average loss over all of the batches.\n",
        "    avg_val_loss = total_eval_loss / len(eval_dataloader)\n",
        "    \n",
        "    \n",
        "    #Accumulate the the total validation time across all epochs \n",
        "    validation_time_only += validation_time_epoch\n",
        "    \n",
        "    print(\"  Validation Loss: {0:.2f}\".format(avg_val_loss))\n",
        "    print(\"  Validation took: {:}\".format(format_time(validation_time_epoch)))\n",
        "\n",
        "    # Record all statistics from this epoch.\n",
        "    training_stats.append(\n",
        "        {\n",
        "            'epoch': epoch_i + 1,\n",
        "            'Training Loss': avg_train_loss,\n",
        "            'Valid. Loss': avg_val_loss,\n",
        "            'Training f1': avg_train_f1,\n",
        "            'Valid. f1': avg_val_f1,\n",
        "            'Training Accur.': avg_train_accuracy,\n",
        "            'Valid. Accur.': avg_val_accuracy,\n",
        "            'Training Precision': avg_train_precision,\n",
        "            'Valid. Precision': avg_val_precision,\n",
        "            'Training Recall': avg_train_recall,\n",
        "            'Valid. Recall': avg_val_recall,\n",
        "            'Training Time': format_time(training_time_epoch),\n",
        "            'Validation Time': format_time(validation_time_epoch)\n",
        "        }\n",
        "    )\n",
        "    # Create checkpoint variable and add important data\n",
        "    checkpoint = {\n",
        "        'epoch': epoch_i + 1,\n",
        "        'valid_loss_min': avg_val_loss,\n",
        "        'state_dict': model.state_dict(),\n",
        "        'optimizer': optimizer.state_dict(),\n",
        "    }\n",
        "        \n",
        "    # Save checkpoint\n",
        "    save_ckp(checkpoint, False, checkpoint_path, best_model_path)\n",
        "    ## Save the model if validation loss has decreased\n",
        "    if avg_val_loss <= valid_loss_min:\n",
        "        print('Validation loss decreased ({:.6f} --> {:.6f}).  Saving model ...'.format(valid_loss_min,avg_val_loss))\n",
        "        # Save checkpoint as best model\n",
        "        save_ckp(checkpoint, True, checkpoint_path, best_model_path)\n",
        "        valid_loss_min = avg_val_loss\n",
        "    progress_bar.update(1)\n",
        "print(\"\")\n",
        "print(\"Training complete!\")\n",
        "total_training_time = time.time() - total_t0\n",
        "\n",
        "# Total Training time (without validation and model saving time)\n",
        "print(\"\\nTotal time taken on the training data across all epochs: {:} (h:mm:ss)\".format(format_time(training_time_only)))\n",
        "print(\"Average time take per epoch on training data: {:} (h:mm:ss)\".format(format_time(training_time_only/num_epochs)))\n",
        "\n",
        "# Total Validation time (without training and model saving time)\n",
        "print(\"\\nTotal time taken on the validation data across all epochs: {:} (h:mm:ss)\".format(format_time(validation_time_only)))\n",
        "print(\"Average time take per epoch on validation data: {:} (h:mm:ss)\".format(format_time(validation_time_only/num_epochs)))\n",
        "\n",
        "#Total time taken for training, Validation and model saving\n",
        "print(\"\\nTotal training time taken across all epochs [Validation and model saving time included]: {:} (h:mm:ss)\".format(format_time(total_training_time)))\n",
        "print(\"Average time take per epoch [Validation and model saving time included]: {:} (h:mm:ss)\".format(format_time(total_training_time/num_epochs)))\n",
        "\n",
        "\n"
      ]
    },
    {
      "cell_type": "markdown",
      "metadata": {
        "id": "KHusGHxBiSSz"
      },
      "source": [
        "**The best model is saved at epoch 4. The macro-averaged f1-score for training: 0.89 .The macro-averaged f1-score for validation: 0.85**"
      ]
    },
    {
      "cell_type": "code",
      "execution_count": null,
      "metadata": {
        "id": "CgOm-DMdx-7Z",
        "colab": {
          "base_uri": "https://localhost:8080/",
          "height": 255
        },
        "outputId": "520fd2b8-8007-4291-bb51-7a417058d56b"
      },
      "outputs": [
        {
          "output_type": "execute_result",
          "data": {
            "text/plain": [
              "<pandas.io.formats.style.Styler at 0x7f36f4c63e50>"
            ],
            "text/html": [
              "<style type=\"text/css\">\n",
              "#T_5dc2e_ th {\n",
              "  max-width: 70px;\n",
              "}\n",
              "</style>\n",
              "<table id=\"T_5dc2e_\" class=\"dataframe\">\n",
              "  <thead>\n",
              "    <tr>\n",
              "      <th class=\"blank level0\" >&nbsp;</th>\n",
              "      <th class=\"col_heading level0 col0\" >Training Loss</th>\n",
              "      <th class=\"col_heading level0 col1\" >Valid. Loss</th>\n",
              "      <th class=\"col_heading level0 col2\" >Training f1</th>\n",
              "      <th class=\"col_heading level0 col3\" >Valid. f1</th>\n",
              "      <th class=\"col_heading level0 col4\" >Training Accur.</th>\n",
              "      <th class=\"col_heading level0 col5\" >Valid. Accur.</th>\n",
              "      <th class=\"col_heading level0 col6\" >Training Precision</th>\n",
              "      <th class=\"col_heading level0 col7\" >Valid. Precision</th>\n",
              "      <th class=\"col_heading level0 col8\" >Training Recall</th>\n",
              "      <th class=\"col_heading level0 col9\" >Valid. Recall</th>\n",
              "      <th class=\"col_heading level0 col10\" >Training Time</th>\n",
              "      <th class=\"col_heading level0 col11\" >Validation Time</th>\n",
              "    </tr>\n",
              "    <tr>\n",
              "      <th class=\"index_name level0\" >epoch</th>\n",
              "      <th class=\"blank col0\" >&nbsp;</th>\n",
              "      <th class=\"blank col1\" >&nbsp;</th>\n",
              "      <th class=\"blank col2\" >&nbsp;</th>\n",
              "      <th class=\"blank col3\" >&nbsp;</th>\n",
              "      <th class=\"blank col4\" >&nbsp;</th>\n",
              "      <th class=\"blank col5\" >&nbsp;</th>\n",
              "      <th class=\"blank col6\" >&nbsp;</th>\n",
              "      <th class=\"blank col7\" >&nbsp;</th>\n",
              "      <th class=\"blank col8\" >&nbsp;</th>\n",
              "      <th class=\"blank col9\" >&nbsp;</th>\n",
              "      <th class=\"blank col10\" >&nbsp;</th>\n",
              "      <th class=\"blank col11\" >&nbsp;</th>\n",
              "    </tr>\n",
              "  </thead>\n",
              "  <tbody>\n",
              "    <tr>\n",
              "      <th id=\"T_5dc2e_level0_row0\" class=\"row_heading level0 row0\" >1</th>\n",
              "      <td id=\"T_5dc2e_row0_col0\" class=\"data row0 col0\" >0.65</td>\n",
              "      <td id=\"T_5dc2e_row0_col1\" class=\"data row0 col1\" >0.95</td>\n",
              "      <td id=\"T_5dc2e_row0_col2\" class=\"data row0 col2\" >0.78</td>\n",
              "      <td id=\"T_5dc2e_row0_col3\" class=\"data row0 col3\" >0.83</td>\n",
              "      <td id=\"T_5dc2e_row0_col4\" class=\"data row0 col4\" >0.80</td>\n",
              "      <td id=\"T_5dc2e_row0_col5\" class=\"data row0 col5\" >0.85</td>\n",
              "      <td id=\"T_5dc2e_row0_col6\" class=\"data row0 col6\" >0.79</td>\n",
              "      <td id=\"T_5dc2e_row0_col7\" class=\"data row0 col7\" >0.85</td>\n",
              "      <td id=\"T_5dc2e_row0_col8\" class=\"data row0 col8\" >0.79</td>\n",
              "      <td id=\"T_5dc2e_row0_col9\" class=\"data row0 col9\" >0.85</td>\n",
              "      <td id=\"T_5dc2e_row0_col10\" class=\"data row0 col10\" >0:36:59</td>\n",
              "      <td id=\"T_5dc2e_row0_col11\" class=\"data row0 col11\" >0:01:47</td>\n",
              "    </tr>\n",
              "    <tr>\n",
              "      <th id=\"T_5dc2e_level0_row1\" class=\"row_heading level0 row1\" >2</th>\n",
              "      <td id=\"T_5dc2e_row1_col0\" class=\"data row1 col0\" >0.42</td>\n",
              "      <td id=\"T_5dc2e_row1_col1\" class=\"data row1 col1\" >0.89</td>\n",
              "      <td id=\"T_5dc2e_row1_col2\" class=\"data row1 col2\" >0.85</td>\n",
              "      <td id=\"T_5dc2e_row1_col3\" class=\"data row1 col3\" >0.84</td>\n",
              "      <td id=\"T_5dc2e_row1_col4\" class=\"data row1 col4\" >0.86</td>\n",
              "      <td id=\"T_5dc2e_row1_col5\" class=\"data row1 col5\" >0.86</td>\n",
              "      <td id=\"T_5dc2e_row1_col6\" class=\"data row1 col6\" >0.86</td>\n",
              "      <td id=\"T_5dc2e_row1_col7\" class=\"data row1 col7\" >0.85</td>\n",
              "      <td id=\"T_5dc2e_row1_col8\" class=\"data row1 col8\" >0.86</td>\n",
              "      <td id=\"T_5dc2e_row1_col9\" class=\"data row1 col9\" >0.85</td>\n",
              "      <td id=\"T_5dc2e_row1_col10\" class=\"data row1 col10\" >0:37:17</td>\n",
              "      <td id=\"T_5dc2e_row1_col11\" class=\"data row1 col11\" >0:01:48</td>\n",
              "    </tr>\n",
              "    <tr>\n",
              "      <th id=\"T_5dc2e_level0_row2\" class=\"row_heading level0 row2\" >3</th>\n",
              "      <td id=\"T_5dc2e_row2_col0\" class=\"data row2 col0\" >0.36</td>\n",
              "      <td id=\"T_5dc2e_row2_col1\" class=\"data row2 col1\" >0.87</td>\n",
              "      <td id=\"T_5dc2e_row2_col2\" class=\"data row2 col2\" >0.87</td>\n",
              "      <td id=\"T_5dc2e_row2_col3\" class=\"data row2 col3\" >0.85</td>\n",
              "      <td id=\"T_5dc2e_row2_col4\" class=\"data row2 col4\" >0.88</td>\n",
              "      <td id=\"T_5dc2e_row2_col5\" class=\"data row2 col5\" >0.86</td>\n",
              "      <td id=\"T_5dc2e_row2_col6\" class=\"data row2 col6\" >0.88</td>\n",
              "      <td id=\"T_5dc2e_row2_col7\" class=\"data row2 col7\" >0.86</td>\n",
              "      <td id=\"T_5dc2e_row2_col8\" class=\"data row2 col8\" >0.88</td>\n",
              "      <td id=\"T_5dc2e_row2_col9\" class=\"data row2 col9\" >0.86</td>\n",
              "      <td id=\"T_5dc2e_row2_col10\" class=\"data row2 col10\" >0:37:33</td>\n",
              "      <td id=\"T_5dc2e_row2_col11\" class=\"data row2 col11\" >0:01:48</td>\n",
              "    </tr>\n",
              "    <tr>\n",
              "      <th id=\"T_5dc2e_level0_row3\" class=\"row_heading level0 row3\" >4</th>\n",
              "      <td id=\"T_5dc2e_row3_col0\" class=\"data row3 col0\" >0.32</td>\n",
              "      <td id=\"T_5dc2e_row3_col1\" class=\"data row3 col1\" >0.87</td>\n",
              "      <td id=\"T_5dc2e_row3_col2\" class=\"data row3 col2\" >0.89</td>\n",
              "      <td id=\"T_5dc2e_row3_col3\" class=\"data row3 col3\" >0.85</td>\n",
              "      <td id=\"T_5dc2e_row3_col4\" class=\"data row3 col4\" >0.90</td>\n",
              "      <td id=\"T_5dc2e_row3_col5\" class=\"data row3 col5\" >0.86</td>\n",
              "      <td id=\"T_5dc2e_row3_col6\" class=\"data row3 col6\" >0.90</td>\n",
              "      <td id=\"T_5dc2e_row3_col7\" class=\"data row3 col7\" >0.86</td>\n",
              "      <td id=\"T_5dc2e_row3_col8\" class=\"data row3 col8\" >0.90</td>\n",
              "      <td id=\"T_5dc2e_row3_col9\" class=\"data row3 col9\" >0.86</td>\n",
              "      <td id=\"T_5dc2e_row3_col10\" class=\"data row3 col10\" >0:37:34</td>\n",
              "      <td id=\"T_5dc2e_row3_col11\" class=\"data row3 col11\" >0:01:48</td>\n",
              "    </tr>\n",
              "    <tr>\n",
              "      <th id=\"T_5dc2e_level0_row4\" class=\"row_heading level0 row4\" >5</th>\n",
              "      <td id=\"T_5dc2e_row4_col0\" class=\"data row4 col0\" >0.29</td>\n",
              "      <td id=\"T_5dc2e_row4_col1\" class=\"data row4 col1\" >0.88</td>\n",
              "      <td id=\"T_5dc2e_row4_col2\" class=\"data row4 col2\" >0.90</td>\n",
              "      <td id=\"T_5dc2e_row4_col3\" class=\"data row4 col3\" >0.85</td>\n",
              "      <td id=\"T_5dc2e_row4_col4\" class=\"data row4 col4\" >0.91</td>\n",
              "      <td id=\"T_5dc2e_row4_col5\" class=\"data row4 col5\" >0.87</td>\n",
              "      <td id=\"T_5dc2e_row4_col6\" class=\"data row4 col6\" >0.91</td>\n",
              "      <td id=\"T_5dc2e_row4_col7\" class=\"data row4 col7\" >0.86</td>\n",
              "      <td id=\"T_5dc2e_row4_col8\" class=\"data row4 col8\" >0.91</td>\n",
              "      <td id=\"T_5dc2e_row4_col9\" class=\"data row4 col9\" >0.86</td>\n",
              "      <td id=\"T_5dc2e_row4_col10\" class=\"data row4 col10\" >0:37:32</td>\n",
              "      <td id=\"T_5dc2e_row4_col11\" class=\"data row4 col11\" >0:01:48</td>\n",
              "    </tr>\n",
              "  </tbody>\n",
              "</table>\n"
            ]
          },
          "metadata": {},
          "execution_count": 51
        }
      ],
      "source": [
        "# Display floats with two decimal places.\n",
        "pd.set_option('precision', 2)\n",
        "\n",
        "# Create a DataFrame from our training statistics.\n",
        "df_stats = pd.DataFrame(data=training_stats)\n",
        "\n",
        "# Use the 'epoch' as the row index.\n",
        "df_stats = df_stats.set_index('epoch')\n",
        "\n",
        "# Display the table.\n",
        "df_stats.style.set_table_styles([dict(selector=\"th\",props=[('max-width', '70px')])])"
      ]
    },
    {
      "cell_type": "markdown",
      "metadata": {
        "id": "Yvqs8ZqivUdr"
      },
      "source": [
        "Validation Loss is a more precise measure than accuracy. If we are predicting the correct answer, but with less confidence, then validation loss will catch this, while accuracy will not."
      ]
    },
    {
      "cell_type": "code",
      "execution_count": null,
      "metadata": {
        "id": "GBPWXFxX7414",
        "colab": {
          "base_uri": "https://localhost:8080/",
          "height": 427
        },
        "outputId": "ffc0980b-425f-4fd3-c8ce-a4116e2d6209"
      },
      "outputs": [
        {
          "output_type": "display_data",
          "data": {
            "text/plain": [
              "<Figure size 864x432 with 1 Axes>"
            ],
            "image/png": "[encoded data removed]"
          },
          "metadata": {}
        }
      ],
      "source": [
        "import matplotlib.pyplot as plt\n",
        "% matplotlib inline\n",
        "\n",
        "import seaborn as sns\n",
        "\n",
        "# Use plot styling from seaborn.\n",
        "sns.set(style='darkgrid')\n",
        "\n",
        "# Increase the plot size and font size.\n",
        "sns.set(font_scale=1.5)\n",
        "plt.rcParams[\"figure.figsize\"] = (12,6)\n",
        "\n",
        "# Plot the learning curve.\n",
        "plt.plot(df_stats['Training Loss'], 'b-o', label=\"Training\")\n",
        "plt.plot(df_stats['Valid. Loss'], 'g-o', label=\"Validation\")\n",
        "\n",
        "# Label the plot.\n",
        "plt.title(\"Training & Validation Loss\")\n",
        "plt.xlabel(\"Epoch\")\n",
        "plt.ylabel(\"Loss\")\n",
        "plt.legend()\n",
        "plt.show()"
      ]
    },
    {
      "cell_type": "markdown",
      "metadata": {
        "id": "LFcr-ozDmteM"
      },
      "source": [
        "## Download the Data"
      ]
    },
    {
      "cell_type": "code",
      "execution_count": null,
      "metadata": {
        "colab": {
          "base_uri": "https://localhost:8080/"
        },
        "id": "PBZrl1QRmvlT",
        "outputId": "0a5f5843-9dbd-4b90-f982-96ce3ddf9c2a"
      },
      "outputs": [
        {
          "output_type": "stream",
          "name": "stdout",
          "text": [
            "\n",
            "Saved Test Data\n"
          ]
        }
      ],
      "source": [
        "#Save the Test Data in drive\n",
        "used_test_df =pd.DataFrame(dataset_clean['test'])\n",
        "used_test_df.to_csv(used_test_data_path, encoding='utf-8', index=False)\n",
        "print(\"\\nSaved Test Data\")"
      ]
    },
    {
      "cell_type": "code",
      "execution_count": null,
      "metadata": {
        "colab": {
          "base_uri": "https://localhost:8080/"
        },
        "id": "sKMt-zkoBNnQ",
        "outputId": "85705d48-eda9-4c06-e866-5cce6a5106ae"
      },
      "outputs": [
        {
          "output_type": "stream",
          "name": "stdout",
          "text": [
            "\n",
            "Saved Encoded Test Data\n"
          ]
        }
      ],
      "source": [
        "#Save the Encoded Test Data in Drive \n",
        "encoded_test = pd.DataFrame(encoded_dataset['test'])\n",
        "encoded_test.to_csv(encoded_test_data_path , encoding='utf-8', index=False)\n",
        "print(\"\\nSaved Encoded Test Data\")"
      ]
    },
    {
      "cell_type": "code",
      "execution_count": null,
      "metadata": {
        "id": "fi7vxB8ZEhk0",
        "colab": {
          "base_uri": "https://localhost:8080/"
        },
        "outputId": "16e796a5-2e52-42e7-f2fa-7ff2d888a1b7"
      },
      "outputs": [
        {
          "output_type": "stream",
          "name": "stdout",
          "text": [
            "\n",
            "Saved label2id_df\n"
          ]
        }
      ],
      "source": [
        "#Save the label2id_df in Drive \n",
        "label2id_df = pd.DataFrame([label2id] )\n",
        "label2id_df.to_csv(label2id_df_path  , encoding='utf-8', index=False) \n",
        "print(\"\\nSaved label2id_df\")"
      ]
    },
    {
      "cell_type": "code",
      "execution_count": null,
      "metadata": {
        "id": "i9zr_C8cogEr",
        "colab": {
          "base_uri": "https://localhost:8080/"
        },
        "outputId": "a619c54e-d1ad-423a-e1f7-81c6fa80ea99"
      },
      "outputs": [
        {
          "output_type": "stream",
          "name": "stdout",
          "text": [
            "\n",
            "Saved Best Model\n"
          ]
        }
      ],
      "source": [
        "#Save the best model in Drive \n",
        "shutil.copy('/content/best_model/best_model.pt', saved_path + 'best_model.pt' )\n",
        "print(\"\\nSaved Best Model\")"
      ]
    },
    {
      "cell_type": "code",
      "source": [
        ""
      ],
      "metadata": {
        "id": "RhqEtUiIKBE-"
      },
      "execution_count": null,
      "outputs": []
    }
  ],
  "metadata": {
    "accelerator": "GPU",
    "colab": {
      "collapsed_sections": [
        "6GkxfuQ8ob0R"
      ],
      "name": "Part2_DistilBERT.ipynb",
      "provenance": [],
      "machine_shape": "hm"
    },
    "kernelspec": {
      "display_name": "Python 3",
      "name": "python3"
    },
    "language_info": {
      "name": "python"
    },
    "widgets": {
      "application/vnd.jupyter.widget-state+json": {
        "015c76924cd84608b7084761ad8a9493": {
          "model_module": "@jupyter-widgets/controls",
          "model_name": "HBoxModel",
          "model_module_version": "1.5.0",
          "state": {
            "_dom_classes": [],
            "_model_module": "@jupyter-widgets/controls",
            "_model_module_version": "1.5.0",
            "_model_name": "HBoxModel",
            "_view_count": null,
            "_view_module": "@jupyter-widgets/controls",
            "_view_module_version": "1.5.0",
            "_view_name": "HBoxView",
            "box_style": "",
            "children": [
              "IPY_MODEL_385dfe65625948a9ac2cd24777c4c1d2",
              "IPY_MODEL_3272b460af234b15896b7223f056190d",
              "IPY_MODEL_df53579bf9ff44eb81fdbc29bb852766"
            ],
            "layout": "IPY_MODEL_c1a3132f65a34e2ebaa35506a620be80"
          }
        },
        "385dfe65625948a9ac2cd24777c4c1d2": {
          "model_module": "@jupyter-widgets/controls",
          "model_name": "HTMLModel",
          "model_module_version": "1.5.0",
          "state": {
            "_dom_classes": [],
            "_model_module": "@jupyter-widgets/controls",
            "_model_module_version": "1.5.0",
            "_model_name": "HTMLModel",
            "_view_count": null,
            "_view_module": "@jupyter-widgets/controls",
            "_view_module_version": "1.5.0",
            "_view_name": "HTMLView",
            "description": "",
            "description_tooltip": null,
            "layout": "IPY_MODEL_ceef1ff7a56645b09658c44be9921988",
            "placeholder": "​",
            "style": "IPY_MODEL_b37fdff575ff4c8eabb410c26d4e3b73",
            "value": "Downloading: 100%"
          }
        },
        "3272b460af234b15896b7223f056190d": {
          "model_module": "@jupyter-widgets/controls",
          "model_name": "FloatProgressModel",
          "model_module_version": "1.5.0",
          "state": {
            "_dom_classes": [],
            "_model_module": "@jupyter-widgets/controls",
            "_model_module_version": "1.5.0",
            "_model_name": "FloatProgressModel",
            "_view_count": null,
            "_view_module": "@jupyter-widgets/controls",
            "_view_module_version": "1.5.0",
            "_view_name": "ProgressView",
            "bar_style": "success",
            "description": "",
            "description_tooltip": null,
            "layout": "IPY_MODEL_5904854dfacc4e6ba8ba3c9944c295f1",
            "max": 28,
            "min": 0,
            "orientation": "horizontal",
            "style": "IPY_MODEL_21b414496c3d432eb70ee212e27cb427",
            "value": 28
          }
        },
        "df53579bf9ff44eb81fdbc29bb852766": {
          "model_module": "@jupyter-widgets/controls",
          "model_name": "HTMLModel",
          "model_module_version": "1.5.0",
          "state": {
            "_dom_classes": [],
            "_model_module": "@jupyter-widgets/controls",
            "_model_module_version": "1.5.0",
            "_model_name": "HTMLModel",
            "_view_count": null,
            "_view_module": "@jupyter-widgets/controls",
            "_view_module_version": "1.5.0",
            "_view_name": "HTMLView",
            "description": "",
            "description_tooltip": null,
            "layout": "IPY_MODEL_b250d5ab153d42968fac9db06f2894fb",
            "placeholder": "​",
            "style": "IPY_MODEL_14921340192441aaaf777ba6bdfe09f9",
            "value": " 28.0/28.0 [00:00&lt;00:00, 994B/s]"
          }
        },
        "c1a3132f65a34e2ebaa35506a620be80": {
          "model_module": "@jupyter-widgets/base",
          "model_name": "LayoutModel",
          "model_module_version": "1.2.0",
          "state": {
            "_model_module": "@jupyter-widgets/base",
            "_model_module_version": "1.2.0",
            "_model_name": "LayoutModel",
            "_view_count": null,
            "_view_module": "@jupyter-widgets/base",
            "_view_module_version": "1.2.0",
            "_view_name": "LayoutView",
            "align_content": null,
            "align_items": null,
            "align_self": null,
            "border": null,
            "bottom": null,
            "display": null,
            "flex": null,
            "flex_flow": null,
            "grid_area": null,
            "grid_auto_columns": null,
            "grid_auto_flow": null,
            "grid_auto_rows": null,
            "grid_column": null,
            "grid_gap": null,
            "grid_row": null,
            "grid_template_areas": null,
            "grid_template_columns": null,
            "grid_template_rows": null,
            "height": null,
            "justify_content": null,
            "justify_items": null,
            "left": null,
            "margin": null,
            "max_height": null,
            "max_width": null,
            "min_height": null,
            "min_width": null,
            "object_fit": null,
            "object_position": null,
            "order": null,
            "overflow": null,
            "overflow_x": null,
            "overflow_y": null,
            "padding": null,
            "right": null,
            "top": null,
            "visibility": null,
            "width": null
          }
        },
        "ceef1ff7a56645b09658c44be9921988": {
          "model_module": "@jupyter-widgets/base",
          "model_name": "LayoutModel",
          "model_module_version": "1.2.0",
          "state": {
            "_model_module": "@jupyter-widgets/base",
            "_model_module_version": "1.2.0",
            "_model_name": "LayoutModel",
            "_view_count": null,
            "_view_module": "@jupyter-widgets/base",
            "_view_module_version": "1.2.0",
            "_view_name": "LayoutView",
            "align_content": null,
            "align_items": null,
            "align_self": null,
            "border": null,
            "bottom": null,
            "display": null,
            "flex": null,
            "flex_flow": null,
            "grid_area": null,
            "grid_auto_columns": null,
            "grid_auto_flow": null,
            "grid_auto_rows": null,
            "grid_column": null,
            "grid_gap": null,
            "grid_row": null,
            "grid_template_areas": null,
            "grid_template_columns": null,
            "grid_template_rows": null,
            "height": null,
            "justify_content": null,
            "justify_items": null,
            "left": null,
            "margin": null,
            "max_height": null,
            "max_width": null,
            "min_height": null,
            "min_width": null,
            "object_fit": null,
            "object_position": null,
            "order": null,
            "overflow": null,
            "overflow_x": null,
            "overflow_y": null,
            "padding": null,
            "right": null,
            "top": null,
            "visibility": null,
            "width": null
          }
        },
        "b37fdff575ff4c8eabb410c26d4e3b73": {
          "model_module": "@jupyter-widgets/controls",
          "model_name": "DescriptionStyleModel",
          "model_module_version": "1.5.0",
          "state": {
            "_model_module": "@jupyter-widgets/controls",
            "_model_module_version": "1.5.0",
            "_model_name": "DescriptionStyleModel",
            "_view_count": null,
            "_view_module": "@jupyter-widgets/base",
            "_view_module_version": "1.2.0",
            "_view_name": "StyleView",
            "description_width": ""
          }
        },
        "5904854dfacc4e6ba8ba3c9944c295f1": {
          "model_module": "@jupyter-widgets/base",
          "model_name": "LayoutModel",
          "model_module_version": "1.2.0",
          "state": {
            "_model_module": "@jupyter-widgets/base",
            "_model_module_version": "1.2.0",
            "_model_name": "LayoutModel",
            "_view_count": null,
            "_view_module": "@jupyter-widgets/base",
            "_view_module_version": "1.2.0",
            "_view_name": "LayoutView",
            "align_content": null,
            "align_items": null,
            "align_self": null,
            "border": null,
            "bottom": null,
            "display": null,
            "flex": null,
            "flex_flow": null,
            "grid_area": null,
            "grid_auto_columns": null,
            "grid_auto_flow": null,
            "grid_auto_rows": null,
            "grid_column": null,
            "grid_gap": null,
            "grid_row": null,
            "grid_template_areas": null,
            "grid_template_columns": null,
            "grid_template_rows": null,
            "height": null,
            "justify_content": null,
            "justify_items": null,
            "left": null,
            "margin": null,
            "max_height": null,
            "max_width": null,
            "min_height": null,
            "min_width": null,
            "object_fit": null,
            "object_position": null,
            "order": null,
            "overflow": null,
            "overflow_x": null,
            "overflow_y": null,
            "padding": null,
            "right": null,
            "top": null,
            "visibility": null,
            "width": null
          }
        },
        "21b414496c3d432eb70ee212e27cb427": {
          "model_module": "@jupyter-widgets/controls",
          "model_name": "ProgressStyleModel",
          "model_module_version": "1.5.0",
          "state": {
            "_model_module": "@jupyter-widgets/controls",
            "_model_module_version": "1.5.0",
            "_model_name": "ProgressStyleModel",
            "_view_count": null,
            "_view_module": "@jupyter-widgets/base",
            "_view_module_version": "1.2.0",
            "_view_name": "StyleView",
            "bar_color": null,
            "description_width": ""
          }
        },
        "b250d5ab153d42968fac9db06f2894fb": {
          "model_module": "@jupyter-widgets/base",
          "model_name": "LayoutModel",
          "model_module_version": "1.2.0",
          "state": {
            "_model_module": "@jupyter-widgets/base",
            "_model_module_version": "1.2.0",
            "_model_name": "LayoutModel",
            "_view_count": null,
            "_view_module": "@jupyter-widgets/base",
            "_view_module_version": "1.2.0",
            "_view_name": "LayoutView",
            "align_content": null,
            "align_items": null,
            "align_self": null,
            "border": null,
            "bottom": null,
            "display": null,
            "flex": null,
            "flex_flow": null,
            "grid_area": null,
            "grid_auto_columns": null,
            "grid_auto_flow": null,
            "grid_auto_rows": null,
            "grid_column": null,
            "grid_gap": null,
            "grid_row": null,
            "grid_template_areas": null,
            "grid_template_columns": null,
            "grid_template_rows": null,
            "height": null,
            "justify_content": null,
            "justify_items": null,
            "left": null,
            "margin": null,
            "max_height": null,
            "max_width": null,
            "min_height": null,
            "min_width": null,
            "object_fit": null,
            "object_position": null,
            "order": null,
            "overflow": null,
            "overflow_x": null,
            "overflow_y": null,
            "padding": null,
            "right": null,
            "top": null,
            "visibility": null,
            "width": null
          }
        },
        "14921340192441aaaf777ba6bdfe09f9": {
          "model_module": "@jupyter-widgets/controls",
          "model_name": "DescriptionStyleModel",
          "model_module_version": "1.5.0",
          "state": {
            "_model_module": "@jupyter-widgets/controls",
            "_model_module_version": "1.5.0",
            "_model_name": "DescriptionStyleModel",
            "_view_count": null,
            "_view_module": "@jupyter-widgets/base",
            "_view_module_version": "1.2.0",
            "_view_name": "StyleView",
            "description_width": ""
          }
        },
        "a87b5d7b637c46678c44dacf32d67aff": {
          "model_module": "@jupyter-widgets/controls",
          "model_name": "HBoxModel",
          "model_module_version": "1.5.0",
          "state": {
            "_dom_classes": [],
            "_model_module": "@jupyter-widgets/controls",
            "_model_module_version": "1.5.0",
            "_model_name": "HBoxModel",
            "_view_count": null,
            "_view_module": "@jupyter-widgets/controls",
            "_view_module_version": "1.5.0",
            "_view_name": "HBoxView",
            "box_style": "",
            "children": [
              "IPY_MODEL_4a1f93602af44b16a6fe6b70bbcb9631",
              "IPY_MODEL_8b9e6a921e8e4da88a8a40663b09d54b",
              "IPY_MODEL_a0db96f46a0a48e2a8970b89a798b99a"
            ],
            "layout": "IPY_MODEL_396ec3c180d54511be0fa133b61f3737"
          }
        },
        "4a1f93602af44b16a6fe6b70bbcb9631": {
          "model_module": "@jupyter-widgets/controls",
          "model_name": "HTMLModel",
          "model_module_version": "1.5.0",
          "state": {
            "_dom_classes": [],
            "_model_module": "@jupyter-widgets/controls",
            "_model_module_version": "1.5.0",
            "_model_name": "HTMLModel",
            "_view_count": null,
            "_view_module": "@jupyter-widgets/controls",
            "_view_module_version": "1.5.0",
            "_view_name": "HTMLView",
            "description": "",
            "description_tooltip": null,
            "layout": "IPY_MODEL_ce542bf8af8a4e57a12383467ce5252a",
            "placeholder": "​",
            "style": "IPY_MODEL_22017205da9642c1aad4888f67e0a38a",
            "value": "Downloading: 100%"
          }
        },
        "8b9e6a921e8e4da88a8a40663b09d54b": {
          "model_module": "@jupyter-widgets/controls",
          "model_name": "FloatProgressModel",
          "model_module_version": "1.5.0",
          "state": {
            "_dom_classes": [],
            "_model_module": "@jupyter-widgets/controls",
            "_model_module_version": "1.5.0",
            "_model_name": "FloatProgressModel",
            "_view_count": null,
            "_view_module": "@jupyter-widgets/controls",
            "_view_module_version": "1.5.0",
            "_view_name": "ProgressView",
            "bar_style": "success",
            "description": "",
            "description_tooltip": null,
            "layout": "IPY_MODEL_5e78f72d8cac431c85bfe6f201e8ec62",
            "max": 483,
            "min": 0,
            "orientation": "horizontal",
            "style": "IPY_MODEL_55c3cfa780d14b5fa986e3656286c8e0",
            "value": 483
          }
        },
        "a0db96f46a0a48e2a8970b89a798b99a": {
          "model_module": "@jupyter-widgets/controls",
          "model_name": "HTMLModel",
          "model_module_version": "1.5.0",
          "state": {
            "_dom_classes": [],
            "_model_module": "@jupyter-widgets/controls",
            "_model_module_version": "1.5.0",
            "_model_name": "HTMLModel",
            "_view_count": null,
            "_view_module": "@jupyter-widgets/controls",
            "_view_module_version": "1.5.0",
            "_view_name": "HTMLView",
            "description": "",
            "description_tooltip": null,
            "layout": "IPY_MODEL_f339257e661d4b6a920f8571cc078ede",
            "placeholder": "​",
            "style": "IPY_MODEL_0e5b7035a1944a94a47b80bce9b2cdd9",
            "value": " 483/483 [00:00&lt;00:00, 17.6kB/s]"
          }
        },
        "396ec3c180d54511be0fa133b61f3737": {
          "model_module": "@jupyter-widgets/base",
          "model_name": "LayoutModel",
          "model_module_version": "1.2.0",
          "state": {
            "_model_module": "@jupyter-widgets/base",
            "_model_module_version": "1.2.0",
            "_model_name": "LayoutModel",
            "_view_count": null,
            "_view_module": "@jupyter-widgets/base",
            "_view_module_version": "1.2.0",
            "_view_name": "LayoutView",
            "align_content": null,
            "align_items": null,
            "align_self": null,
            "border": null,
            "bottom": null,
            "display": null,
            "flex": null,
            "flex_flow": null,
            "grid_area": null,
            "grid_auto_columns": null,
            "grid_auto_flow": null,
            "grid_auto_rows": null,
            "grid_column": null,
            "grid_gap": null,
            "grid_row": null,
            "grid_template_areas": null,
            "grid_template_columns": null,
            "grid_template_rows": null,
            "height": null,
            "justify_content": null,
            "justify_items": null,
            "left": null,
            "margin": null,
            "max_height": null,
            "max_width": null,
            "min_height": null,
            "min_width": null,
            "object_fit": null,
            "object_position": null,
            "order": null,
            "overflow": null,
            "overflow_x": null,
            "overflow_y": null,
            "padding": null,
            "right": null,
            "top": null,
            "visibility": null,
            "width": null
          }
        },
        "ce542bf8af8a4e57a12383467ce5252a": {
          "model_module": "@jupyter-widgets/base",
          "model_name": "LayoutModel",
          "model_module_version": "1.2.0",
          "state": {
            "_model_module": "@jupyter-widgets/base",
            "_model_module_version": "1.2.0",
            "_model_name": "LayoutModel",
            "_view_count": null,
            "_view_module": "@jupyter-widgets/base",
            "_view_module_version": "1.2.0",
            "_view_name": "LayoutView",
            "align_content": null,
            "align_items": null,
            "align_self": null,
            "border": null,
            "bottom": null,
            "display": null,
            "flex": null,
            "flex_flow": null,
            "grid_area": null,
            "grid_auto_columns": null,
            "grid_auto_flow": null,
            "grid_auto_rows": null,
            "grid_column": null,
            "grid_gap": null,
            "grid_row": null,
            "grid_template_areas": null,
            "grid_template_columns": null,
            "grid_template_rows": null,
            "height": null,
            "justify_content": null,
            "justify_items": null,
            "left": null,
            "margin": null,
            "max_height": null,
            "max_width": null,
            "min_height": null,
            "min_width": null,
            "object_fit": null,
            "object_position": null,
            "order": null,
            "overflow": null,
            "overflow_x": null,
            "overflow_y": null,
            "padding": null,
            "right": null,
            "top": null,
            "visibility": null,
            "width": null
          }
        },
        "22017205da9642c1aad4888f67e0a38a": {
          "model_module": "@jupyter-widgets/controls",
          "model_name": "DescriptionStyleModel",
          "model_module_version": "1.5.0",
          "state": {
            "_model_module": "@jupyter-widgets/controls",
            "_model_module_version": "1.5.0",
            "_model_name": "DescriptionStyleModel",
            "_view_count": null,
            "_view_module": "@jupyter-widgets/base",
            "_view_module_version": "1.2.0",
            "_view_name": "StyleView",
            "description_width": ""
          }
        },
        "5e78f72d8cac431c85bfe6f201e8ec62": {
          "model_module": "@jupyter-widgets/base",
          "model_name": "LayoutModel",
          "model_module_version": "1.2.0",
          "state": {
            "_model_module": "@jupyter-widgets/base",
            "_model_module_version": "1.2.0",
            "_model_name": "LayoutModel",
            "_view_count": null,
            "_view_module": "@jupyter-widgets/base",
            "_view_module_version": "1.2.0",
            "_view_name": "LayoutView",
            "align_content": null,
            "align_items": null,
            "align_self": null,
            "border": null,
            "bottom": null,
            "display": null,
            "flex": null,
            "flex_flow": null,
            "grid_area": null,
            "grid_auto_columns": null,
            "grid_auto_flow": null,
            "grid_auto_rows": null,
            "grid_column": null,
            "grid_gap": null,
            "grid_row": null,
            "grid_template_areas": null,
            "grid_template_columns": null,
            "grid_template_rows": null,
            "height": null,
            "justify_content": null,
            "justify_items": null,
            "left": null,
            "margin": null,
            "max_height": null,
            "max_width": null,
            "min_height": null,
            "min_width": null,
            "object_fit": null,
            "object_position": null,
            "order": null,
            "overflow": null,
            "overflow_x": null,
            "overflow_y": null,
            "padding": null,
            "right": null,
            "top": null,
            "visibility": null,
            "width": null
          }
        },
        "55c3cfa780d14b5fa986e3656286c8e0": {
          "model_module": "@jupyter-widgets/controls",
          "model_name": "ProgressStyleModel",
          "model_module_version": "1.5.0",
          "state": {
            "_model_module": "@jupyter-widgets/controls",
            "_model_module_version": "1.5.0",
            "_model_name": "ProgressStyleModel",
            "_view_count": null,
            "_view_module": "@jupyter-widgets/base",
            "_view_module_version": "1.2.0",
            "_view_name": "StyleView",
            "bar_color": null,
            "description_width": ""
          }
        },
        "f339257e661d4b6a920f8571cc078ede": {
          "model_module": "@jupyter-widgets/base",
          "model_name": "LayoutModel",
          "model_module_version": "1.2.0",
          "state": {
            "_model_module": "@jupyter-widgets/base",
            "_model_module_version": "1.2.0",
            "_model_name": "LayoutModel",
            "_view_count": null,
            "_view_module": "@jupyter-widgets/base",
            "_view_module_version": "1.2.0",
            "_view_name": "LayoutView",
            "align_content": null,
            "align_items": null,
            "align_self": null,
            "border": null,
            "bottom": null,
            "display": null,
            "flex": null,
            "flex_flow": null,
            "grid_area": null,
            "grid_auto_columns": null,
            "grid_auto_flow": null,
            "grid_auto_rows": null,
            "grid_column": null,
            "grid_gap": null,
            "grid_row": null,
            "grid_template_areas": null,
            "grid_template_columns": null,
            "grid_template_rows": null,
            "height": null,
            "justify_content": null,
            "justify_items": null,
            "left": null,
            "margin": null,
            "max_height": null,
            "max_width": null,
            "min_height": null,
            "min_width": null,
            "object_fit": null,
            "object_position": null,
            "order": null,
            "overflow": null,
            "overflow_x": null,
            "overflow_y": null,
            "padding": null,
            "right": null,
            "top": null,
            "visibility": null,
            "width": null
          }
        },
        "0e5b7035a1944a94a47b80bce9b2cdd9": {
          "model_module": "@jupyter-widgets/controls",
          "model_name": "DescriptionStyleModel",
          "model_module_version": "1.5.0",
          "state": {
            "_model_module": "@jupyter-widgets/controls",
            "_model_module_version": "1.5.0",
            "_model_name": "DescriptionStyleModel",
            "_view_count": null,
            "_view_module": "@jupyter-widgets/base",
            "_view_module_version": "1.2.0",
            "_view_name": "StyleView",
            "description_width": ""
          }
        },
        "edb41a2f7ae04df0a46d36285d770814": {
          "model_module": "@jupyter-widgets/controls",
          "model_name": "HBoxModel",
          "model_module_version": "1.5.0",
          "state": {
            "_dom_classes": [],
            "_model_module": "@jupyter-widgets/controls",
            "_model_module_version": "1.5.0",
            "_model_name": "HBoxModel",
            "_view_count": null,
            "_view_module": "@jupyter-widgets/controls",
            "_view_module_version": "1.5.0",
            "_view_name": "HBoxView",
            "box_style": "",
            "children": [
              "IPY_MODEL_afa0bacb2f3d4fb19a1e0f6f076a9591",
              "IPY_MODEL_c4a4682816f24006877df43c2d9555b5",
              "IPY_MODEL_e2ee32f423f74ab884fc8b5ca2ae6045"
            ],
            "layout": "IPY_MODEL_49c53a314a9a40698685c7c7c8445b31"
          }
        },
        "afa0bacb2f3d4fb19a1e0f6f076a9591": {
          "model_module": "@jupyter-widgets/controls",
          "model_name": "HTMLModel",
          "model_module_version": "1.5.0",
          "state": {
            "_dom_classes": [],
            "_model_module": "@jupyter-widgets/controls",
            "_model_module_version": "1.5.0",
            "_model_name": "HTMLModel",
            "_view_count": null,
            "_view_module": "@jupyter-widgets/controls",
            "_view_module_version": "1.5.0",
            "_view_name": "HTMLView",
            "description": "",
            "description_tooltip": null,
            "layout": "IPY_MODEL_3a721b393a304c3b9244b0a215163a74",
            "placeholder": "​",
            "style": "IPY_MODEL_a0d342d1648f471995534b46b22f83c9",
            "value": "Downloading: 100%"
          }
        },
        "c4a4682816f24006877df43c2d9555b5": {
          "model_module": "@jupyter-widgets/controls",
          "model_name": "FloatProgressModel",
          "model_module_version": "1.5.0",
          "state": {
            "_dom_classes": [],
            "_model_module": "@jupyter-widgets/controls",
            "_model_module_version": "1.5.0",
            "_model_name": "FloatProgressModel",
            "_view_count": null,
            "_view_module": "@jupyter-widgets/controls",
            "_view_module_version": "1.5.0",
            "_view_name": "ProgressView",
            "bar_style": "success",
            "description": "",
            "description_tooltip": null,
            "layout": "IPY_MODEL_2aab4ac0ac8f47e98a9bcb2a982641d1",
            "max": 231508,
            "min": 0,
            "orientation": "horizontal",
            "style": "IPY_MODEL_99caac1db82b44ec9ce64ced5e3f0b5e",
            "value": 231508
          }
        },
        "e2ee32f423f74ab884fc8b5ca2ae6045": {
          "model_module": "@jupyter-widgets/controls",
          "model_name": "HTMLModel",
          "model_module_version": "1.5.0",
          "state": {
            "_dom_classes": [],
            "_model_module": "@jupyter-widgets/controls",
            "_model_module_version": "1.5.0",
            "_model_name": "HTMLModel",
            "_view_count": null,
            "_view_module": "@jupyter-widgets/controls",
            "_view_module_version": "1.5.0",
            "_view_name": "HTMLView",
            "description": "",
            "description_tooltip": null,
            "layout": "IPY_MODEL_55c54ad0ef5943d58175e3900b8dbfbb",
            "placeholder": "​",
            "style": "IPY_MODEL_a0e7808fd0754ba8ad652d5c84867787",
            "value": " 226k/226k [00:00&lt;00:00, 297kB/s]"
          }
        },
        "49c53a314a9a40698685c7c7c8445b31": {
          "model_module": "@jupyter-widgets/base",
          "model_name": "LayoutModel",
          "model_module_version": "1.2.0",
          "state": {
            "_model_module": "@jupyter-widgets/base",
            "_model_module_version": "1.2.0",
            "_model_name": "LayoutModel",
            "_view_count": null,
            "_view_module": "@jupyter-widgets/base",
            "_view_module_version": "1.2.0",
            "_view_name": "LayoutView",
            "align_content": null,
            "align_items": null,
            "align_self": null,
            "border": null,
            "bottom": null,
            "display": null,
            "flex": null,
            "flex_flow": null,
            "grid_area": null,
            "grid_auto_columns": null,
            "grid_auto_flow": null,
            "grid_auto_rows": null,
            "grid_column": null,
            "grid_gap": null,
            "grid_row": null,
            "grid_template_areas": null,
            "grid_template_columns": null,
            "grid_template_rows": null,
            "height": null,
            "justify_content": null,
            "justify_items": null,
            "left": null,
            "margin": null,
            "max_height": null,
            "max_width": null,
            "min_height": null,
            "min_width": null,
            "object_fit": null,
            "object_position": null,
            "order": null,
            "overflow": null,
            "overflow_x": null,
            "overflow_y": null,
            "padding": null,
            "right": null,
            "top": null,
            "visibility": null,
            "width": null
          }
        },
        "3a721b393a304c3b9244b0a215163a74": {
          "model_module": "@jupyter-widgets/base",
          "model_name": "LayoutModel",
          "model_module_version": "1.2.0",
          "state": {
            "_model_module": "@jupyter-widgets/base",
            "_model_module_version": "1.2.0",
            "_model_name": "LayoutModel",
            "_view_count": null,
            "_view_module": "@jupyter-widgets/base",
            "_view_module_version": "1.2.0",
            "_view_name": "LayoutView",
            "align_content": null,
            "align_items": null,
            "align_self": null,
            "border": null,
            "bottom": null,
            "display": null,
            "flex": null,
            "flex_flow": null,
            "grid_area": null,
            "grid_auto_columns": null,
            "grid_auto_flow": null,
            "grid_auto_rows": null,
            "grid_column": null,
            "grid_gap": null,
            "grid_row": null,
            "grid_template_areas": null,
            "grid_template_columns": null,
            "grid_template_rows": null,
            "height": null,
            "justify_content": null,
            "justify_items": null,
            "left": null,
            "margin": null,
            "max_height": null,
            "max_width": null,
            "min_height": null,
            "min_width": null,
            "object_fit": null,
            "object_position": null,
            "order": null,
            "overflow": null,
            "overflow_x": null,
            "overflow_y": null,
            "padding": null,
            "right": null,
            "top": null,
            "visibility": null,
            "width": null
          }
        },
        "a0d342d1648f471995534b46b22f83c9": {
          "model_module": "@jupyter-widgets/controls",
          "model_name": "DescriptionStyleModel",
          "model_module_version": "1.5.0",
          "state": {
            "_model_module": "@jupyter-widgets/controls",
            "_model_module_version": "1.5.0",
            "_model_name": "DescriptionStyleModel",
            "_view_count": null,
            "_view_module": "@jupyter-widgets/base",
            "_view_module_version": "1.2.0",
            "_view_name": "StyleView",
            "description_width": ""
          }
        },
        "2aab4ac0ac8f47e98a9bcb2a982641d1": {
          "model_module": "@jupyter-widgets/base",
          "model_name": "LayoutModel",
          "model_module_version": "1.2.0",
          "state": {
            "_model_module": "@jupyter-widgets/base",
            "_model_module_version": "1.2.0",
            "_model_name": "LayoutModel",
            "_view_count": null,
            "_view_module": "@jupyter-widgets/base",
            "_view_module_version": "1.2.0",
            "_view_name": "LayoutView",
            "align_content": null,
            "align_items": null,
            "align_self": null,
            "border": null,
            "bottom": null,
            "display": null,
            "flex": null,
            "flex_flow": null,
            "grid_area": null,
            "grid_auto_columns": null,
            "grid_auto_flow": null,
            "grid_auto_rows": null,
            "grid_column": null,
            "grid_gap": null,
            "grid_row": null,
            "grid_template_areas": null,
            "grid_template_columns": null,
            "grid_template_rows": null,
            "height": null,
            "justify_content": null,
            "justify_items": null,
            "left": null,
            "margin": null,
            "max_height": null,
            "max_width": null,
            "min_height": null,
            "min_width": null,
            "object_fit": null,
            "object_position": null,
            "order": null,
            "overflow": null,
            "overflow_x": null,
            "overflow_y": null,
            "padding": null,
            "right": null,
            "top": null,
            "visibility": null,
            "width": null
          }
        },
        "99caac1db82b44ec9ce64ced5e3f0b5e": {
          "model_module": "@jupyter-widgets/controls",
          "model_name": "ProgressStyleModel",
          "model_module_version": "1.5.0",
          "state": {
            "_model_module": "@jupyter-widgets/controls",
            "_model_module_version": "1.5.0",
            "_model_name": "ProgressStyleModel",
            "_view_count": null,
            "_view_module": "@jupyter-widgets/base",
            "_view_module_version": "1.2.0",
            "_view_name": "StyleView",
            "bar_color": null,
            "description_width": ""
          }
        },
        "55c54ad0ef5943d58175e3900b8dbfbb": {
          "model_module": "@jupyter-widgets/base",
          "model_name": "LayoutModel",
          "model_module_version": "1.2.0",
          "state": {
            "_model_module": "@jupyter-widgets/base",
            "_model_module_version": "1.2.0",
            "_model_name": "LayoutModel",
            "_view_count": null,
            "_view_module": "@jupyter-widgets/base",
            "_view_module_version": "1.2.0",
            "_view_name": "LayoutView",
            "align_content": null,
            "align_items": null,
            "align_self": null,
            "border": null,
            "bottom": null,
            "display": null,
            "flex": null,
            "flex_flow": null,
            "grid_area": null,
            "grid_auto_columns": null,
            "grid_auto_flow": null,
            "grid_auto_rows": null,
            "grid_column": null,
            "grid_gap": null,
            "grid_row": null,
            "grid_template_areas": null,
            "grid_template_columns": null,
            "grid_template_rows": null,
            "height": null,
            "justify_content": null,
            "justify_items": null,
            "left": null,
            "margin": null,
            "max_height": null,
            "max_width": null,
            "min_height": null,
            "min_width": null,
            "object_fit": null,
            "object_position": null,
            "order": null,
            "overflow": null,
            "overflow_x": null,
            "overflow_y": null,
            "padding": null,
            "right": null,
            "top": null,
            "visibility": null,
            "width": null
          }
        },
        "a0e7808fd0754ba8ad652d5c84867787": {
          "model_module": "@jupyter-widgets/controls",
          "model_name": "DescriptionStyleModel",
          "model_module_version": "1.5.0",
          "state": {
            "_model_module": "@jupyter-widgets/controls",
            "_model_module_version": "1.5.0",
            "_model_name": "DescriptionStyleModel",
            "_view_count": null,
            "_view_module": "@jupyter-widgets/base",
            "_view_module_version": "1.2.0",
            "_view_name": "StyleView",
            "description_width": ""
          }
        },
        "7e4515ca43fa4d268879eea22b0b0bfd": {
          "model_module": "@jupyter-widgets/controls",
          "model_name": "HBoxModel",
          "model_module_version": "1.5.0",
          "state": {
            "_dom_classes": [],
            "_model_module": "@jupyter-widgets/controls",
            "_model_module_version": "1.5.0",
            "_model_name": "HBoxModel",
            "_view_count": null,
            "_view_module": "@jupyter-widgets/controls",
            "_view_module_version": "1.5.0",
            "_view_name": "HBoxView",
            "box_style": "",
            "children": [
              "IPY_MODEL_dca70d152d204a5086caa79e24440fd5",
              "IPY_MODEL_0f1fcb321f444bb78115d986a8d47713",
              "IPY_MODEL_087944a388f546069a6711291942a383"
            ],
            "layout": "IPY_MODEL_3034814020b34436aab64fb159531a51"
          }
        },
        "dca70d152d204a5086caa79e24440fd5": {
          "model_module": "@jupyter-widgets/controls",
          "model_name": "HTMLModel",
          "model_module_version": "1.5.0",
          "state": {
            "_dom_classes": [],
            "_model_module": "@jupyter-widgets/controls",
            "_model_module_version": "1.5.0",
            "_model_name": "HTMLModel",
            "_view_count": null,
            "_view_module": "@jupyter-widgets/controls",
            "_view_module_version": "1.5.0",
            "_view_name": "HTMLView",
            "description": "",
            "description_tooltip": null,
            "layout": "IPY_MODEL_4e5f6a9b9322450b962afc6ac8adf79f",
            "placeholder": "​",
            "style": "IPY_MODEL_c9f6a22faa22413a81b3eb407ecaf8c9",
            "value": "Downloading: 100%"
          }
        },
        "0f1fcb321f444bb78115d986a8d47713": {
          "model_module": "@jupyter-widgets/controls",
          "model_name": "FloatProgressModel",
          "model_module_version": "1.5.0",
          "state": {
            "_dom_classes": [],
            "_model_module": "@jupyter-widgets/controls",
            "_model_module_version": "1.5.0",
            "_model_name": "FloatProgressModel",
            "_view_count": null,
            "_view_module": "@jupyter-widgets/controls",
            "_view_module_version": "1.5.0",
            "_view_name": "ProgressView",
            "bar_style": "success",
            "description": "",
            "description_tooltip": null,
            "layout": "IPY_MODEL_367916897e9e40399ecf83c5a4c3d077",
            "max": 466062,
            "min": 0,
            "orientation": "horizontal",
            "style": "IPY_MODEL_79d34194189c486c9df5a6abc7390737",
            "value": 466062
          }
        },
        "087944a388f546069a6711291942a383": {
          "model_module": "@jupyter-widgets/controls",
          "model_name": "HTMLModel",
          "model_module_version": "1.5.0",
          "state": {
            "_dom_classes": [],
            "_model_module": "@jupyter-widgets/controls",
            "_model_module_version": "1.5.0",
            "_model_name": "HTMLModel",
            "_view_count": null,
            "_view_module": "@jupyter-widgets/controls",
            "_view_module_version": "1.5.0",
            "_view_name": "HTMLView",
            "description": "",
            "description_tooltip": null,
            "layout": "IPY_MODEL_1b59a6bdf7f34815b12e0628d9d21e88",
            "placeholder": "​",
            "style": "IPY_MODEL_155b17bbc2d340aa827cbb4ebb931bb9",
            "value": " 455k/455k [00:00&lt;00:00, 545kB/s]"
          }
        },
        "3034814020b34436aab64fb159531a51": {
          "model_module": "@jupyter-widgets/base",
          "model_name": "LayoutModel",
          "model_module_version": "1.2.0",
          "state": {
            "_model_module": "@jupyter-widgets/base",
            "_model_module_version": "1.2.0",
            "_model_name": "LayoutModel",
            "_view_count": null,
            "_view_module": "@jupyter-widgets/base",
            "_view_module_version": "1.2.0",
            "_view_name": "LayoutView",
            "align_content": null,
            "align_items": null,
            "align_self": null,
            "border": null,
            "bottom": null,
            "display": null,
            "flex": null,
            "flex_flow": null,
            "grid_area": null,
            "grid_auto_columns": null,
            "grid_auto_flow": null,
            "grid_auto_rows": null,
            "grid_column": null,
            "grid_gap": null,
            "grid_row": null,
            "grid_template_areas": null,
            "grid_template_columns": null,
            "grid_template_rows": null,
            "height": null,
            "justify_content": null,
            "justify_items": null,
            "left": null,
            "margin": null,
            "max_height": null,
            "max_width": null,
            "min_height": null,
            "min_width": null,
            "object_fit": null,
            "object_position": null,
            "order": null,
            "overflow": null,
            "overflow_x": null,
            "overflow_y": null,
            "padding": null,
            "right": null,
            "top": null,
            "visibility": null,
            "width": null
          }
        },
        "4e5f6a9b9322450b962afc6ac8adf79f": {
          "model_module": "@jupyter-widgets/base",
          "model_name": "LayoutModel",
          "model_module_version": "1.2.0",
          "state": {
            "_model_module": "@jupyter-widgets/base",
            "_model_module_version": "1.2.0",
            "_model_name": "LayoutModel",
            "_view_count": null,
            "_view_module": "@jupyter-widgets/base",
            "_view_module_version": "1.2.0",
            "_view_name": "LayoutView",
            "align_content": null,
            "align_items": null,
            "align_self": null,
            "border": null,
            "bottom": null,
            "display": null,
            "flex": null,
            "flex_flow": null,
            "grid_area": null,
            "grid_auto_columns": null,
            "grid_auto_flow": null,
            "grid_auto_rows": null,
            "grid_column": null,
            "grid_gap": null,
            "grid_row": null,
            "grid_template_areas": null,
            "grid_template_columns": null,
            "grid_template_rows": null,
            "height": null,
            "justify_content": null,
            "justify_items": null,
            "left": null,
            "margin": null,
            "max_height": null,
            "max_width": null,
            "min_height": null,
            "min_width": null,
            "object_fit": null,
            "object_position": null,
            "order": null,
            "overflow": null,
            "overflow_x": null,
            "overflow_y": null,
            "padding": null,
            "right": null,
            "top": null,
            "visibility": null,
            "width": null
          }
        },
        "c9f6a22faa22413a81b3eb407ecaf8c9": {
          "model_module": "@jupyter-widgets/controls",
          "model_name": "DescriptionStyleModel",
          "model_module_version": "1.5.0",
          "state": {
            "_model_module": "@jupyter-widgets/controls",
            "_model_module_version": "1.5.0",
            "_model_name": "DescriptionStyleModel",
            "_view_count": null,
            "_view_module": "@jupyter-widgets/base",
            "_view_module_version": "1.2.0",
            "_view_name": "StyleView",
            "description_width": ""
          }
        },
        "367916897e9e40399ecf83c5a4c3d077": {
          "model_module": "@jupyter-widgets/base",
          "model_name": "LayoutModel",
          "model_module_version": "1.2.0",
          "state": {
            "_model_module": "@jupyter-widgets/base",
            "_model_module_version": "1.2.0",
            "_model_name": "LayoutModel",
            "_view_count": null,
            "_view_module": "@jupyter-widgets/base",
            "_view_module_version": "1.2.0",
            "_view_name": "LayoutView",
            "align_content": null,
            "align_items": null,
            "align_self": null,
            "border": null,
            "bottom": null,
            "display": null,
            "flex": null,
            "flex_flow": null,
            "grid_area": null,
            "grid_auto_columns": null,
            "grid_auto_flow": null,
            "grid_auto_rows": null,
            "grid_column": null,
            "grid_gap": null,
            "grid_row": null,
            "grid_template_areas": null,
            "grid_template_columns": null,
            "grid_template_rows": null,
            "height": null,
            "justify_content": null,
            "justify_items": null,
            "left": null,
            "margin": null,
            "max_height": null,
            "max_width": null,
            "min_height": null,
            "min_width": null,
            "object_fit": null,
            "object_position": null,
            "order": null,
            "overflow": null,
            "overflow_x": null,
            "overflow_y": null,
            "padding": null,
            "right": null,
            "top": null,
            "visibility": null,
            "width": null
          }
        },
        "79d34194189c486c9df5a6abc7390737": {
          "model_module": "@jupyter-widgets/controls",
          "model_name": "ProgressStyleModel",
          "model_module_version": "1.5.0",
          "state": {
            "_model_module": "@jupyter-widgets/controls",
            "_model_module_version": "1.5.0",
            "_model_name": "ProgressStyleModel",
            "_view_count": null,
            "_view_module": "@jupyter-widgets/base",
            "_view_module_version": "1.2.0",
            "_view_name": "StyleView",
            "bar_color": null,
            "description_width": ""
          }
        },
        "1b59a6bdf7f34815b12e0628d9d21e88": {
          "model_module": "@jupyter-widgets/base",
          "model_name": "LayoutModel",
          "model_module_version": "1.2.0",
          "state": {
            "_model_module": "@jupyter-widgets/base",
            "_model_module_version": "1.2.0",
            "_model_name": "LayoutModel",
            "_view_count": null,
            "_view_module": "@jupyter-widgets/base",
            "_view_module_version": "1.2.0",
            "_view_name": "LayoutView",
            "align_content": null,
            "align_items": null,
            "align_self": null,
            "border": null,
            "bottom": null,
            "display": null,
            "flex": null,
            "flex_flow": null,
            "grid_area": null,
            "grid_auto_columns": null,
            "grid_auto_flow": null,
            "grid_auto_rows": null,
            "grid_column": null,
            "grid_gap": null,
            "grid_row": null,
            "grid_template_areas": null,
            "grid_template_columns": null,
            "grid_template_rows": null,
            "height": null,
            "justify_content": null,
            "justify_items": null,
            "left": null,
            "margin": null,
            "max_height": null,
            "max_width": null,
            "min_height": null,
            "min_width": null,
            "object_fit": null,
            "object_position": null,
            "order": null,
            "overflow": null,
            "overflow_x": null,
            "overflow_y": null,
            "padding": null,
            "right": null,
            "top": null,
            "visibility": null,
            "width": null
          }
        },
        "155b17bbc2d340aa827cbb4ebb931bb9": {
          "model_module": "@jupyter-widgets/controls",
          "model_name": "DescriptionStyleModel",
          "model_module_version": "1.5.0",
          "state": {
            "_model_module": "@jupyter-widgets/controls",
            "_model_module_version": "1.5.0",
            "_model_name": "DescriptionStyleModel",
            "_view_count": null,
            "_view_module": "@jupyter-widgets/base",
            "_view_module_version": "1.2.0",
            "_view_name": "StyleView",
            "description_width": ""
          }
        },
        "aaa8e9300898432f81a6781b6a97de2a": {
          "model_module": "@jupyter-widgets/controls",
          "model_name": "HBoxModel",
          "model_module_version": "1.5.0",
          "state": {
            "_dom_classes": [],
            "_model_module": "@jupyter-widgets/controls",
            "_model_module_version": "1.5.0",
            "_model_name": "HBoxModel",
            "_view_count": null,
            "_view_module": "@jupyter-widgets/controls",
            "_view_module_version": "1.5.0",
            "_view_name": "HBoxView",
            "box_style": "",
            "children": [
              "IPY_MODEL_2f16e208282b4974bf7fdca3639db572",
              "IPY_MODEL_9317f4fd52c1453681ecf9f78ea4683d",
              "IPY_MODEL_e94c9a48f841409b997a4300036d2d53"
            ],
            "layout": "IPY_MODEL_5907dcf00ca44e5db9a6a42affd25ba3"
          }
        },
        "2f16e208282b4974bf7fdca3639db572": {
          "model_module": "@jupyter-widgets/controls",
          "model_name": "HTMLModel",
          "model_module_version": "1.5.0",
          "state": {
            "_dom_classes": [],
            "_model_module": "@jupyter-widgets/controls",
            "_model_module_version": "1.5.0",
            "_model_name": "HTMLModel",
            "_view_count": null,
            "_view_module": "@jupyter-widgets/controls",
            "_view_module_version": "1.5.0",
            "_view_name": "HTMLView",
            "description": "",
            "description_tooltip": null,
            "layout": "IPY_MODEL_6fb311a688e14570a0d5cebcc8aeccb8",
            "placeholder": "​",
            "style": "IPY_MODEL_ef65c0a75125444ebd1195abd4f6ebbc",
            "value": "100%"
          }
        },
        "9317f4fd52c1453681ecf9f78ea4683d": {
          "model_module": "@jupyter-widgets/controls",
          "model_name": "FloatProgressModel",
          "model_module_version": "1.5.0",
          "state": {
            "_dom_classes": [],
            "_model_module": "@jupyter-widgets/controls",
            "_model_module_version": "1.5.0",
            "_model_name": "FloatProgressModel",
            "_view_count": null,
            "_view_module": "@jupyter-widgets/controls",
            "_view_module_version": "1.5.0",
            "_view_name": "ProgressView",
            "bar_style": "success",
            "description": "",
            "description_tooltip": null,
            "layout": "IPY_MODEL_56a39a18caa848cb91878c0507cc8882",
            "max": 48,
            "min": 0,
            "orientation": "horizontal",
            "style": "IPY_MODEL_0ae3cd7475b44fb1bac98fd620087bc9",
            "value": 48
          }
        },
        "e94c9a48f841409b997a4300036d2d53": {
          "model_module": "@jupyter-widgets/controls",
          "model_name": "HTMLModel",
          "model_module_version": "1.5.0",
          "state": {
            "_dom_classes": [],
            "_model_module": "@jupyter-widgets/controls",
            "_model_module_version": "1.5.0",
            "_model_name": "HTMLModel",
            "_view_count": null,
            "_view_module": "@jupyter-widgets/controls",
            "_view_module_version": "1.5.0",
            "_view_name": "HTMLView",
            "description": "",
            "description_tooltip": null,
            "layout": "IPY_MODEL_5e799269b1a54d4b9717dd1ed457e252",
            "placeholder": "​",
            "style": "IPY_MODEL_9f3d9c6f097e4807a9757f8376be9976",
            "value": " 48/48 [00:18&lt;00:00,  2.64ba/s]"
          }
        },
        "5907dcf00ca44e5db9a6a42affd25ba3": {
          "model_module": "@jupyter-widgets/base",
          "model_name": "LayoutModel",
          "model_module_version": "1.2.0",
          "state": {
            "_model_module": "@jupyter-widgets/base",
            "_model_module_version": "1.2.0",
            "_model_name": "LayoutModel",
            "_view_count": null,
            "_view_module": "@jupyter-widgets/base",
            "_view_module_version": "1.2.0",
            "_view_name": "LayoutView",
            "align_content": null,
            "align_items": null,
            "align_self": null,
            "border": null,
            "bottom": null,
            "display": null,
            "flex": null,
            "flex_flow": null,
            "grid_area": null,
            "grid_auto_columns": null,
            "grid_auto_flow": null,
            "grid_auto_rows": null,
            "grid_column": null,
            "grid_gap": null,
            "grid_row": null,
            "grid_template_areas": null,
            "grid_template_columns": null,
            "grid_template_rows": null,
            "height": null,
            "justify_content": null,
            "justify_items": null,
            "left": null,
            "margin": null,
            "max_height": null,
            "max_width": null,
            "min_height": null,
            "min_width": null,
            "object_fit": null,
            "object_position": null,
            "order": null,
            "overflow": null,
            "overflow_x": null,
            "overflow_y": null,
            "padding": null,
            "right": null,
            "top": null,
            "visibility": null,
            "width": null
          }
        },
        "6fb311a688e14570a0d5cebcc8aeccb8": {
          "model_module": "@jupyter-widgets/base",
          "model_name": "LayoutModel",
          "model_module_version": "1.2.0",
          "state": {
            "_model_module": "@jupyter-widgets/base",
            "_model_module_version": "1.2.0",
            "_model_name": "LayoutModel",
            "_view_count": null,
            "_view_module": "@jupyter-widgets/base",
            "_view_module_version": "1.2.0",
            "_view_name": "LayoutView",
            "align_content": null,
            "align_items": null,
            "align_self": null,
            "border": null,
            "bottom": null,
            "display": null,
            "flex": null,
            "flex_flow": null,
            "grid_area": null,
            "grid_auto_columns": null,
            "grid_auto_flow": null,
            "grid_auto_rows": null,
            "grid_column": null,
            "grid_gap": null,
            "grid_row": null,
            "grid_template_areas": null,
            "grid_template_columns": null,
            "grid_template_rows": null,
            "height": null,
            "justify_content": null,
            "justify_items": null,
            "left": null,
            "margin": null,
            "max_height": null,
            "max_width": null,
            "min_height": null,
            "min_width": null,
            "object_fit": null,
            "object_position": null,
            "order": null,
            "overflow": null,
            "overflow_x": null,
            "overflow_y": null,
            "padding": null,
            "right": null,
            "top": null,
            "visibility": null,
            "width": null
          }
        },
        "ef65c0a75125444ebd1195abd4f6ebbc": {
          "model_module": "@jupyter-widgets/controls",
          "model_name": "DescriptionStyleModel",
          "model_module_version": "1.5.0",
          "state": {
            "_model_module": "@jupyter-widgets/controls",
            "_model_module_version": "1.5.0",
            "_model_name": "DescriptionStyleModel",
            "_view_count": null,
            "_view_module": "@jupyter-widgets/base",
            "_view_module_version": "1.2.0",
            "_view_name": "StyleView",
            "description_width": ""
          }
        },
        "56a39a18caa848cb91878c0507cc8882": {
          "model_module": "@jupyter-widgets/base",
          "model_name": "LayoutModel",
          "model_module_version": "1.2.0",
          "state": {
            "_model_module": "@jupyter-widgets/base",
            "_model_module_version": "1.2.0",
            "_model_name": "LayoutModel",
            "_view_count": null,
            "_view_module": "@jupyter-widgets/base",
            "_view_module_version": "1.2.0",
            "_view_name": "LayoutView",
            "align_content": null,
            "align_items": null,
            "align_self": null,
            "border": null,
            "bottom": null,
            "display": null,
            "flex": null,
            "flex_flow": null,
            "grid_area": null,
            "grid_auto_columns": null,
            "grid_auto_flow": null,
            "grid_auto_rows": null,
            "grid_column": null,
            "grid_gap": null,
            "grid_row": null,
            "grid_template_areas": null,
            "grid_template_columns": null,
            "grid_template_rows": null,
            "height": null,
            "justify_content": null,
            "justify_items": null,
            "left": null,
            "margin": null,
            "max_height": null,
            "max_width": null,
            "min_height": null,
            "min_width": null,
            "object_fit": null,
            "object_position": null,
            "order": null,
            "overflow": null,
            "overflow_x": null,
            "overflow_y": null,
            "padding": null,
            "right": null,
            "top": null,
            "visibility": null,
            "width": null
          }
        },
        "0ae3cd7475b44fb1bac98fd620087bc9": {
          "model_module": "@jupyter-widgets/controls",
          "model_name": "ProgressStyleModel",
          "model_module_version": "1.5.0",
          "state": {
            "_model_module": "@jupyter-widgets/controls",
            "_model_module_version": "1.5.0",
            "_model_name": "ProgressStyleModel",
            "_view_count": null,
            "_view_module": "@jupyter-widgets/base",
            "_view_module_version": "1.2.0",
            "_view_name": "StyleView",
            "bar_color": null,
            "description_width": ""
          }
        },
        "5e799269b1a54d4b9717dd1ed457e252": {
          "model_module": "@jupyter-widgets/base",
          "model_name": "LayoutModel",
          "model_module_version": "1.2.0",
          "state": {
            "_model_module": "@jupyter-widgets/base",
            "_model_module_version": "1.2.0",
            "_model_name": "LayoutModel",
            "_view_count": null,
            "_view_module": "@jupyter-widgets/base",
            "_view_module_version": "1.2.0",
            "_view_name": "LayoutView",
            "align_content": null,
            "align_items": null,
            "align_self": null,
            "border": null,
            "bottom": null,
            "display": null,
            "flex": null,
            "flex_flow": null,
            "grid_area": null,
            "grid_auto_columns": null,
            "grid_auto_flow": null,
            "grid_auto_rows": null,
            "grid_column": null,
            "grid_gap": null,
            "grid_row": null,
            "grid_template_areas": null,
            "grid_template_columns": null,
            "grid_template_rows": null,
            "height": null,
            "justify_content": null,
            "justify_items": null,
            "left": null,
            "margin": null,
            "max_height": null,
            "max_width": null,
            "min_height": null,
            "min_width": null,
            "object_fit": null,
            "object_position": null,
            "order": null,
            "overflow": null,
            "overflow_x": null,
            "overflow_y": null,
            "padding": null,
            "right": null,
            "top": null,
            "visibility": null,
            "width": null
          }
        },
        "9f3d9c6f097e4807a9757f8376be9976": {
          "model_module": "@jupyter-widgets/controls",
          "model_name": "DescriptionStyleModel",
          "model_module_version": "1.5.0",
          "state": {
            "_model_module": "@jupyter-widgets/controls",
            "_model_module_version": "1.5.0",
            "_model_name": "DescriptionStyleModel",
            "_view_count": null,
            "_view_module": "@jupyter-widgets/base",
            "_view_module_version": "1.2.0",
            "_view_name": "StyleView",
            "description_width": ""
          }
        },
        "8bb4c6b1ab8746f9a7658f38701c0003": {
          "model_module": "@jupyter-widgets/controls",
          "model_name": "HBoxModel",
          "model_module_version": "1.5.0",
          "state": {
            "_dom_classes": [],
            "_model_module": "@jupyter-widgets/controls",
            "_model_module_version": "1.5.0",
            "_model_name": "HBoxModel",
            "_view_count": null,
            "_view_module": "@jupyter-widgets/controls",
            "_view_module_version": "1.5.0",
            "_view_name": "HBoxView",
            "box_style": "",
            "children": [
              "IPY_MODEL_0f960aed93024bcdbbf63097a393dae3",
              "IPY_MODEL_10d0d4e101eb40568bfca282f9cbbccb",
              "IPY_MODEL_abe18ffe36174d8baf5885e596887301"
            ],
            "layout": "IPY_MODEL_d0b703a753ea4aa893f4e9790ff97ce3"
          }
        },
        "0f960aed93024bcdbbf63097a393dae3": {
          "model_module": "@jupyter-widgets/controls",
          "model_name": "HTMLModel",
          "model_module_version": "1.5.0",
          "state": {
            "_dom_classes": [],
            "_model_module": "@jupyter-widgets/controls",
            "_model_module_version": "1.5.0",
            "_model_name": "HTMLModel",
            "_view_count": null,
            "_view_module": "@jupyter-widgets/controls",
            "_view_module_version": "1.5.0",
            "_view_name": "HTMLView",
            "description": "",
            "description_tooltip": null,
            "layout": "IPY_MODEL_b27a5c52d57741bd984684b33227e099",
            "placeholder": "​",
            "style": "IPY_MODEL_dcf038c85c814386bf9698f521c34625",
            "value": "100%"
          }
        },
        "10d0d4e101eb40568bfca282f9cbbccb": {
          "model_module": "@jupyter-widgets/controls",
          "model_name": "FloatProgressModel",
          "model_module_version": "1.5.0",
          "state": {
            "_dom_classes": [],
            "_model_module": "@jupyter-widgets/controls",
            "_model_module_version": "1.5.0",
            "_model_name": "FloatProgressModel",
            "_view_count": null,
            "_view_module": "@jupyter-widgets/controls",
            "_view_module_version": "1.5.0",
            "_view_name": "ProgressView",
            "bar_style": "success",
            "description": "",
            "description_tooltip": null,
            "layout": "IPY_MODEL_3c43e86a0fdd4087b9a33f40dfbfdfac",
            "max": 6,
            "min": 0,
            "orientation": "horizontal",
            "style": "IPY_MODEL_36890037dd544df08803b1dbe7fdd3a3",
            "value": 6
          }
        },
        "abe18ffe36174d8baf5885e596887301": {
          "model_module": "@jupyter-widgets/controls",
          "model_name": "HTMLModel",
          "model_module_version": "1.5.0",
          "state": {
            "_dom_classes": [],
            "_model_module": "@jupyter-widgets/controls",
            "_model_module_version": "1.5.0",
            "_model_name": "HTMLModel",
            "_view_count": null,
            "_view_module": "@jupyter-widgets/controls",
            "_view_module_version": "1.5.0",
            "_view_name": "HTMLView",
            "description": "",
            "description_tooltip": null,
            "layout": "IPY_MODEL_434e2935070d42d89c3c068026da211b",
            "placeholder": "​",
            "style": "IPY_MODEL_27114ce54e044e3dab4627cc20d5067d",
            "value": " 6/6 [00:02&lt;00:00,  2.72ba/s]"
          }
        },
        "d0b703a753ea4aa893f4e9790ff97ce3": {
          "model_module": "@jupyter-widgets/base",
          "model_name": "LayoutModel",
          "model_module_version": "1.2.0",
          "state": {
            "_model_module": "@jupyter-widgets/base",
            "_model_module_version": "1.2.0",
            "_model_name": "LayoutModel",
            "_view_count": null,
            "_view_module": "@jupyter-widgets/base",
            "_view_module_version": "1.2.0",
            "_view_name": "LayoutView",
            "align_content": null,
            "align_items": null,
            "align_self": null,
            "border": null,
            "bottom": null,
            "display": null,
            "flex": null,
            "flex_flow": null,
            "grid_area": null,
            "grid_auto_columns": null,
            "grid_auto_flow": null,
            "grid_auto_rows": null,
            "grid_column": null,
            "grid_gap": null,
            "grid_row": null,
            "grid_template_areas": null,
            "grid_template_columns": null,
            "grid_template_rows": null,
            "height": null,
            "justify_content": null,
            "justify_items": null,
            "left": null,
            "margin": null,
            "max_height": null,
            "max_width": null,
            "min_height": null,
            "min_width": null,
            "object_fit": null,
            "object_position": null,
            "order": null,
            "overflow": null,
            "overflow_x": null,
            "overflow_y": null,
            "padding": null,
            "right": null,
            "top": null,
            "visibility": null,
            "width": null
          }
        },
        "b27a5c52d57741bd984684b33227e099": {
          "model_module": "@jupyter-widgets/base",
          "model_name": "LayoutModel",
          "model_module_version": "1.2.0",
          "state": {
            "_model_module": "@jupyter-widgets/base",
            "_model_module_version": "1.2.0",
            "_model_name": "LayoutModel",
            "_view_count": null,
            "_view_module": "@jupyter-widgets/base",
            "_view_module_version": "1.2.0",
            "_view_name": "LayoutView",
            "align_content": null,
            "align_items": null,
            "align_self": null,
            "border": null,
            "bottom": null,
            "display": null,
            "flex": null,
            "flex_flow": null,
            "grid_area": null,
            "grid_auto_columns": null,
            "grid_auto_flow": null,
            "grid_auto_rows": null,
            "grid_column": null,
            "grid_gap": null,
            "grid_row": null,
            "grid_template_areas": null,
            "grid_template_columns": null,
            "grid_template_rows": null,
            "height": null,
            "justify_content": null,
            "justify_items": null,
            "left": null,
            "margin": null,
            "max_height": null,
            "max_width": null,
            "min_height": null,
            "min_width": null,
            "object_fit": null,
            "object_position": null,
            "order": null,
            "overflow": null,
            "overflow_x": null,
            "overflow_y": null,
            "padding": null,
            "right": null,
            "top": null,
            "visibility": null,
            "width": null
          }
        },
        "dcf038c85c814386bf9698f521c34625": {
          "model_module": "@jupyter-widgets/controls",
          "model_name": "DescriptionStyleModel",
          "model_module_version": "1.5.0",
          "state": {
            "_model_module": "@jupyter-widgets/controls",
            "_model_module_version": "1.5.0",
            "_model_name": "DescriptionStyleModel",
            "_view_count": null,
            "_view_module": "@jupyter-widgets/base",
            "_view_module_version": "1.2.0",
            "_view_name": "StyleView",
            "description_width": ""
          }
        },
        "3c43e86a0fdd4087b9a33f40dfbfdfac": {
          "model_module": "@jupyter-widgets/base",
          "model_name": "LayoutModel",
          "model_module_version": "1.2.0",
          "state": {
            "_model_module": "@jupyter-widgets/base",
            "_model_module_version": "1.2.0",
            "_model_name": "LayoutModel",
            "_view_count": null,
            "_view_module": "@jupyter-widgets/base",
            "_view_module_version": "1.2.0",
            "_view_name": "LayoutView",
            "align_content": null,
            "align_items": null,
            "align_self": null,
            "border": null,
            "bottom": null,
            "display": null,
            "flex": null,
            "flex_flow": null,
            "grid_area": null,
            "grid_auto_columns": null,
            "grid_auto_flow": null,
            "grid_auto_rows": null,
            "grid_column": null,
            "grid_gap": null,
            "grid_row": null,
            "grid_template_areas": null,
            "grid_template_columns": null,
            "grid_template_rows": null,
            "height": null,
            "justify_content": null,
            "justify_items": null,
            "left": null,
            "margin": null,
            "max_height": null,
            "max_width": null,
            "min_height": null,
            "min_width": null,
            "object_fit": null,
            "object_position": null,
            "order": null,
            "overflow": null,
            "overflow_x": null,
            "overflow_y": null,
            "padding": null,
            "right": null,
            "top": null,
            "visibility": null,
            "width": null
          }
        },
        "36890037dd544df08803b1dbe7fdd3a3": {
          "model_module": "@jupyter-widgets/controls",
          "model_name": "ProgressStyleModel",
          "model_module_version": "1.5.0",
          "state": {
            "_model_module": "@jupyter-widgets/controls",
            "_model_module_version": "1.5.0",
            "_model_name": "ProgressStyleModel",
            "_view_count": null,
            "_view_module": "@jupyter-widgets/base",
            "_view_module_version": "1.2.0",
            "_view_name": "StyleView",
            "bar_color": null,
            "description_width": ""
          }
        },
        "434e2935070d42d89c3c068026da211b": {
          "model_module": "@jupyter-widgets/base",
          "model_name": "LayoutModel",
          "model_module_version": "1.2.0",
          "state": {
            "_model_module": "@jupyter-widgets/base",
            "_model_module_version": "1.2.0",
            "_model_name": "LayoutModel",
            "_view_count": null,
            "_view_module": "@jupyter-widgets/base",
            "_view_module_version": "1.2.0",
            "_view_name": "LayoutView",
            "align_content": null,
            "align_items": null,
            "align_self": null,
            "border": null,
            "bottom": null,
            "display": null,
            "flex": null,
            "flex_flow": null,
            "grid_area": null,
            "grid_auto_columns": null,
            "grid_auto_flow": null,
            "grid_auto_rows": null,
            "grid_column": null,
            "grid_gap": null,
            "grid_row": null,
            "grid_template_areas": null,
            "grid_template_columns": null,
            "grid_template_rows": null,
            "height": null,
            "justify_content": null,
            "justify_items": null,
            "left": null,
            "margin": null,
            "max_height": null,
            "max_width": null,
            "min_height": null,
            "min_width": null,
            "object_fit": null,
            "object_position": null,
            "order": null,
            "overflow": null,
            "overflow_x": null,
            "overflow_y": null,
            "padding": null,
            "right": null,
            "top": null,
            "visibility": null,
            "width": null
          }
        },
        "27114ce54e044e3dab4627cc20d5067d": {
          "model_module": "@jupyter-widgets/controls",
          "model_name": "DescriptionStyleModel",
          "model_module_version": "1.5.0",
          "state": {
            "_model_module": "@jupyter-widgets/controls",
            "_model_module_version": "1.5.0",
            "_model_name": "DescriptionStyleModel",
            "_view_count": null,
            "_view_module": "@jupyter-widgets/base",
            "_view_module_version": "1.2.0",
            "_view_name": "StyleView",
            "description_width": ""
          }
        },
        "672c1948ca5d406dbca1e8f4a9a717f9": {
          "model_module": "@jupyter-widgets/controls",
          "model_name": "HBoxModel",
          "model_module_version": "1.5.0",
          "state": {
            "_dom_classes": [],
            "_model_module": "@jupyter-widgets/controls",
            "_model_module_version": "1.5.0",
            "_model_name": "HBoxModel",
            "_view_count": null,
            "_view_module": "@jupyter-widgets/controls",
            "_view_module_version": "1.5.0",
            "_view_name": "HBoxView",
            "box_style": "",
            "children": [
              "IPY_MODEL_69b3d4d5cf1044dbba581b387f82a8ec",
              "IPY_MODEL_f8ae0fc8430f47e3bde339330eecf05b",
              "IPY_MODEL_cea7a09dd9064bd68721e43c58b8bc85"
            ],
            "layout": "IPY_MODEL_925baa92e6e44795a58397fe132273d9"
          }
        },
        "69b3d4d5cf1044dbba581b387f82a8ec": {
          "model_module": "@jupyter-widgets/controls",
          "model_name": "HTMLModel",
          "model_module_version": "1.5.0",
          "state": {
            "_dom_classes": [],
            "_model_module": "@jupyter-widgets/controls",
            "_model_module_version": "1.5.0",
            "_model_name": "HTMLModel",
            "_view_count": null,
            "_view_module": "@jupyter-widgets/controls",
            "_view_module_version": "1.5.0",
            "_view_name": "HTMLView",
            "description": "",
            "description_tooltip": null,
            "layout": "IPY_MODEL_8b7973a683e341a892072cdd9c35ac67",
            "placeholder": "​",
            "style": "IPY_MODEL_2c9dac9ff91f49328dea6f4ec05b5fef",
            "value": "100%"
          }
        },
        "f8ae0fc8430f47e3bde339330eecf05b": {
          "model_module": "@jupyter-widgets/controls",
          "model_name": "FloatProgressModel",
          "model_module_version": "1.5.0",
          "state": {
            "_dom_classes": [],
            "_model_module": "@jupyter-widgets/controls",
            "_model_module_version": "1.5.0",
            "_model_name": "FloatProgressModel",
            "_view_count": null,
            "_view_module": "@jupyter-widgets/controls",
            "_view_module_version": "1.5.0",
            "_view_name": "ProgressView",
            "bar_style": "success",
            "description": "",
            "description_tooltip": null,
            "layout": "IPY_MODEL_f7f7811a46b1440db6f1abeedafc15ef",
            "max": 6,
            "min": 0,
            "orientation": "horizontal",
            "style": "IPY_MODEL_37ddee0ee56a4abc90a0b98b562e1e9e",
            "value": 6
          }
        },
        "cea7a09dd9064bd68721e43c58b8bc85": {
          "model_module": "@jupyter-widgets/controls",
          "model_name": "HTMLModel",
          "model_module_version": "1.5.0",
          "state": {
            "_dom_classes": [],
            "_model_module": "@jupyter-widgets/controls",
            "_model_module_version": "1.5.0",
            "_model_name": "HTMLModel",
            "_view_count": null,
            "_view_module": "@jupyter-widgets/controls",
            "_view_module_version": "1.5.0",
            "_view_name": "HTMLView",
            "description": "",
            "description_tooltip": null,
            "layout": "IPY_MODEL_a67c3d6650484a5f86ea73916caf8edf",
            "placeholder": "​",
            "style": "IPY_MODEL_cd9d6ea40c704b619e9e8a21908ef7b5",
            "value": " 6/6 [00:02&lt;00:00,  2.81ba/s]"
          }
        },
        "925baa92e6e44795a58397fe132273d9": {
          "model_module": "@jupyter-widgets/base",
          "model_name": "LayoutModel",
          "model_module_version": "1.2.0",
          "state": {
            "_model_module": "@jupyter-widgets/base",
            "_model_module_version": "1.2.0",
            "_model_name": "LayoutModel",
            "_view_count": null,
            "_view_module": "@jupyter-widgets/base",
            "_view_module_version": "1.2.0",
            "_view_name": "LayoutView",
            "align_content": null,
            "align_items": null,
            "align_self": null,
            "border": null,
            "bottom": null,
            "display": null,
            "flex": null,
            "flex_flow": null,
            "grid_area": null,
            "grid_auto_columns": null,
            "grid_auto_flow": null,
            "grid_auto_rows": null,
            "grid_column": null,
            "grid_gap": null,
            "grid_row": null,
            "grid_template_areas": null,
            "grid_template_columns": null,
            "grid_template_rows": null,
            "height": null,
            "justify_content": null,
            "justify_items": null,
            "left": null,
            "margin": null,
            "max_height": null,
            "max_width": null,
            "min_height": null,
            "min_width": null,
            "object_fit": null,
            "object_position": null,
            "order": null,
            "overflow": null,
            "overflow_x": null,
            "overflow_y": null,
            "padding": null,
            "right": null,
            "top": null,
            "visibility": null,
            "width": null
          }
        },
        "8b7973a683e341a892072cdd9c35ac67": {
          "model_module": "@jupyter-widgets/base",
          "model_name": "LayoutModel",
          "model_module_version": "1.2.0",
          "state": {
            "_model_module": "@jupyter-widgets/base",
            "_model_module_version": "1.2.0",
            "_model_name": "LayoutModel",
            "_view_count": null,
            "_view_module": "@jupyter-widgets/base",
            "_view_module_version": "1.2.0",
            "_view_name": "LayoutView",
            "align_content": null,
            "align_items": null,
            "align_self": null,
            "border": null,
            "bottom": null,
            "display": null,
            "flex": null,
            "flex_flow": null,
            "grid_area": null,
            "grid_auto_columns": null,
            "grid_auto_flow": null,
            "grid_auto_rows": null,
            "grid_column": null,
            "grid_gap": null,
            "grid_row": null,
            "grid_template_areas": null,
            "grid_template_columns": null,
            "grid_template_rows": null,
            "height": null,
            "justify_content": null,
            "justify_items": null,
            "left": null,
            "margin": null,
            "max_height": null,
            "max_width": null,
            "min_height": null,
            "min_width": null,
            "object_fit": null,
            "object_position": null,
            "order": null,
            "overflow": null,
            "overflow_x": null,
            "overflow_y": null,
            "padding": null,
            "right": null,
            "top": null,
            "visibility": null,
            "width": null
          }
        },
        "2c9dac9ff91f49328dea6f4ec05b5fef": {
          "model_module": "@jupyter-widgets/controls",
          "model_name": "DescriptionStyleModel",
          "model_module_version": "1.5.0",
          "state": {
            "_model_module": "@jupyter-widgets/controls",
            "_model_module_version": "1.5.0",
            "_model_name": "DescriptionStyleModel",
            "_view_count": null,
            "_view_module": "@jupyter-widgets/base",
            "_view_module_version": "1.2.0",
            "_view_name": "StyleView",
            "description_width": ""
          }
        },
        "f7f7811a46b1440db6f1abeedafc15ef": {
          "model_module": "@jupyter-widgets/base",
          "model_name": "LayoutModel",
          "model_module_version": "1.2.0",
          "state": {
            "_model_module": "@jupyter-widgets/base",
            "_model_module_version": "1.2.0",
            "_model_name": "LayoutModel",
            "_view_count": null,
            "_view_module": "@jupyter-widgets/base",
            "_view_module_version": "1.2.0",
            "_view_name": "LayoutView",
            "align_content": null,
            "align_items": null,
            "align_self": null,
            "border": null,
            "bottom": null,
            "display": null,
            "flex": null,
            "flex_flow": null,
            "grid_area": null,
            "grid_auto_columns": null,
            "grid_auto_flow": null,
            "grid_auto_rows": null,
            "grid_column": null,
            "grid_gap": null,
            "grid_row": null,
            "grid_template_areas": null,
            "grid_template_columns": null,
            "grid_template_rows": null,
            "height": null,
            "justify_content": null,
            "justify_items": null,
            "left": null,
            "margin": null,
            "max_height": null,
            "max_width": null,
            "min_height": null,
            "min_width": null,
            "object_fit": null,
            "object_position": null,
            "order": null,
            "overflow": null,
            "overflow_x": null,
            "overflow_y": null,
            "padding": null,
            "right": null,
            "top": null,
            "visibility": null,
            "width": null
          }
        },
        "37ddee0ee56a4abc90a0b98b562e1e9e": {
          "model_module": "@jupyter-widgets/controls",
          "model_name": "ProgressStyleModel",
          "model_module_version": "1.5.0",
          "state": {
            "_model_module": "@jupyter-widgets/controls",
            "_model_module_version": "1.5.0",
            "_model_name": "ProgressStyleModel",
            "_view_count": null,
            "_view_module": "@jupyter-widgets/base",
            "_view_module_version": "1.2.0",
            "_view_name": "StyleView",
            "bar_color": null,
            "description_width": ""
          }
        },
        "a67c3d6650484a5f86ea73916caf8edf": {
          "model_module": "@jupyter-widgets/base",
          "model_name": "LayoutModel",
          "model_module_version": "1.2.0",
          "state": {
            "_model_module": "@jupyter-widgets/base",
            "_model_module_version": "1.2.0",
            "_model_name": "LayoutModel",
            "_view_count": null,
            "_view_module": "@jupyter-widgets/base",
            "_view_module_version": "1.2.0",
            "_view_name": "LayoutView",
            "align_content": null,
            "align_items": null,
            "align_self": null,
            "border": null,
            "bottom": null,
            "display": null,
            "flex": null,
            "flex_flow": null,
            "grid_area": null,
            "grid_auto_columns": null,
            "grid_auto_flow": null,
            "grid_auto_rows": null,
            "grid_column": null,
            "grid_gap": null,
            "grid_row": null,
            "grid_template_areas": null,
            "grid_template_columns": null,
            "grid_template_rows": null,
            "height": null,
            "justify_content": null,
            "justify_items": null,
            "left": null,
            "margin": null,
            "max_height": null,
            "max_width": null,
            "min_height": null,
            "min_width": null,
            "object_fit": null,
            "object_position": null,
            "order": null,
            "overflow": null,
            "overflow_x": null,
            "overflow_y": null,
            "padding": null,
            "right": null,
            "top": null,
            "visibility": null,
            "width": null
          }
        },
        "cd9d6ea40c704b619e9e8a21908ef7b5": {
          "model_module": "@jupyter-widgets/controls",
          "model_name": "DescriptionStyleModel",
          "model_module_version": "1.5.0",
          "state": {
            "_model_module": "@jupyter-widgets/controls",
            "_model_module_version": "1.5.0",
            "_model_name": "DescriptionStyleModel",
            "_view_count": null,
            "_view_module": "@jupyter-widgets/base",
            "_view_module_version": "1.2.0",
            "_view_name": "StyleView",
            "description_width": ""
          }
        },
        "55a1f96fe28a4dc585bbc13ed78c18ca": {
          "model_module": "@jupyter-widgets/controls",
          "model_name": "HBoxModel",
          "model_module_version": "1.5.0",
          "state": {
            "_dom_classes": [],
            "_model_module": "@jupyter-widgets/controls",
            "_model_module_version": "1.5.0",
            "_model_name": "HBoxModel",
            "_view_count": null,
            "_view_module": "@jupyter-widgets/controls",
            "_view_module_version": "1.5.0",
            "_view_name": "HBoxView",
            "box_style": "",
            "children": [
              "IPY_MODEL_5c6738eb52434ef6b34634400c7ac1e3",
              "IPY_MODEL_b8947932adba4d6e97d4ef528951075e",
              "IPY_MODEL_7d852a384ca54646a0220e3830a844c0"
            ],
            "layout": "IPY_MODEL_5e4c84c5138e4b909fedbb0e08d44020"
          }
        },
        "5c6738eb52434ef6b34634400c7ac1e3": {
          "model_module": "@jupyter-widgets/controls",
          "model_name": "HTMLModel",
          "model_module_version": "1.5.0",
          "state": {
            "_dom_classes": [],
            "_model_module": "@jupyter-widgets/controls",
            "_model_module_version": "1.5.0",
            "_model_name": "HTMLModel",
            "_view_count": null,
            "_view_module": "@jupyter-widgets/controls",
            "_view_module_version": "1.5.0",
            "_view_name": "HTMLView",
            "description": "",
            "description_tooltip": null,
            "layout": "IPY_MODEL_77c2f3659dd64e6ab16cb05fe8a97b97",
            "placeholder": "​",
            "style": "IPY_MODEL_5425c9a72e4d43fe8dc985a66a00c002",
            "value": "Downloading: 100%"
          }
        },
        "b8947932adba4d6e97d4ef528951075e": {
          "model_module": "@jupyter-widgets/controls",
          "model_name": "FloatProgressModel",
          "model_module_version": "1.5.0",
          "state": {
            "_dom_classes": [],
            "_model_module": "@jupyter-widgets/controls",
            "_model_module_version": "1.5.0",
            "_model_name": "FloatProgressModel",
            "_view_count": null,
            "_view_module": "@jupyter-widgets/controls",
            "_view_module_version": "1.5.0",
            "_view_name": "ProgressView",
            "bar_style": "success",
            "description": "",
            "description_tooltip": null,
            "layout": "IPY_MODEL_23b8f826ca00412c990612b9f0693798",
            "max": 267967963,
            "min": 0,
            "orientation": "horizontal",
            "style": "IPY_MODEL_54a74d01240e41e6a34f803356875aa3",
            "value": 267967963
          }
        },
        "7d852a384ca54646a0220e3830a844c0": {
          "model_module": "@jupyter-widgets/controls",
          "model_name": "HTMLModel",
          "model_module_version": "1.5.0",
          "state": {
            "_dom_classes": [],
            "_model_module": "@jupyter-widgets/controls",
            "_model_module_version": "1.5.0",
            "_model_name": "HTMLModel",
            "_view_count": null,
            "_view_module": "@jupyter-widgets/controls",
            "_view_module_version": "1.5.0",
            "_view_name": "HTMLView",
            "description": "",
            "description_tooltip": null,
            "layout": "IPY_MODEL_9613cf5f7a4447bcabe68a0b3b40d0ed",
            "placeholder": "​",
            "style": "IPY_MODEL_1639533bd55d4efda2425285dadd431f",
            "value": " 256M/256M [00:05&lt;00:00, 54.1MB/s]"
          }
        },
        "5e4c84c5138e4b909fedbb0e08d44020": {
          "model_module": "@jupyter-widgets/base",
          "model_name": "LayoutModel",
          "model_module_version": "1.2.0",
          "state": {
            "_model_module": "@jupyter-widgets/base",
            "_model_module_version": "1.2.0",
            "_model_name": "LayoutModel",
            "_view_count": null,
            "_view_module": "@jupyter-widgets/base",
            "_view_module_version": "1.2.0",
            "_view_name": "LayoutView",
            "align_content": null,
            "align_items": null,
            "align_self": null,
            "border": null,
            "bottom": null,
            "display": null,
            "flex": null,
            "flex_flow": null,
            "grid_area": null,
            "grid_auto_columns": null,
            "grid_auto_flow": null,
            "grid_auto_rows": null,
            "grid_column": null,
            "grid_gap": null,
            "grid_row": null,
            "grid_template_areas": null,
            "grid_template_columns": null,
            "grid_template_rows": null,
            "height": null,
            "justify_content": null,
            "justify_items": null,
            "left": null,
            "margin": null,
            "max_height": null,
            "max_width": null,
            "min_height": null,
            "min_width": null,
            "object_fit": null,
            "object_position": null,
            "order": null,
            "overflow": null,
            "overflow_x": null,
            "overflow_y": null,
            "padding": null,
            "right": null,
            "top": null,
            "visibility": null,
            "width": null
          }
        },
        "77c2f3659dd64e6ab16cb05fe8a97b97": {
          "model_module": "@jupyter-widgets/base",
          "model_name": "LayoutModel",
          "model_module_version": "1.2.0",
          "state": {
            "_model_module": "@jupyter-widgets/base",
            "_model_module_version": "1.2.0",
            "_model_name": "LayoutModel",
            "_view_count": null,
            "_view_module": "@jupyter-widgets/base",
            "_view_module_version": "1.2.0",
            "_view_name": "LayoutView",
            "align_content": null,
            "align_items": null,
            "align_self": null,
            "border": null,
            "bottom": null,
            "display": null,
            "flex": null,
            "flex_flow": null,
            "grid_area": null,
            "grid_auto_columns": null,
            "grid_auto_flow": null,
            "grid_auto_rows": null,
            "grid_column": null,
            "grid_gap": null,
            "grid_row": null,
            "grid_template_areas": null,
            "grid_template_columns": null,
            "grid_template_rows": null,
            "height": null,
            "justify_content": null,
            "justify_items": null,
            "left": null,
            "margin": null,
            "max_height": null,
            "max_width": null,
            "min_height": null,
            "min_width": null,
            "object_fit": null,
            "object_position": null,
            "order": null,
            "overflow": null,
            "overflow_x": null,
            "overflow_y": null,
            "padding": null,
            "right": null,
            "top": null,
            "visibility": null,
            "width": null
          }
        },
        "5425c9a72e4d43fe8dc985a66a00c002": {
          "model_module": "@jupyter-widgets/controls",
          "model_name": "DescriptionStyleModel",
          "model_module_version": "1.5.0",
          "state": {
            "_model_module": "@jupyter-widgets/controls",
            "_model_module_version": "1.5.0",
            "_model_name": "DescriptionStyleModel",
            "_view_count": null,
            "_view_module": "@jupyter-widgets/base",
            "_view_module_version": "1.2.0",
            "_view_name": "StyleView",
            "description_width": ""
          }
        },
        "23b8f826ca00412c990612b9f0693798": {
          "model_module": "@jupyter-widgets/base",
          "model_name": "LayoutModel",
          "model_module_version": "1.2.0",
          "state": {
            "_model_module": "@jupyter-widgets/base",
            "_model_module_version": "1.2.0",
            "_model_name": "LayoutModel",
            "_view_count": null,
            "_view_module": "@jupyter-widgets/base",
            "_view_module_version": "1.2.0",
            "_view_name": "LayoutView",
            "align_content": null,
            "align_items": null,
            "align_self": null,
            "border": null,
            "bottom": null,
            "display": null,
            "flex": null,
            "flex_flow": null,
            "grid_area": null,
            "grid_auto_columns": null,
            "grid_auto_flow": null,
            "grid_auto_rows": null,
            "grid_column": null,
            "grid_gap": null,
            "grid_row": null,
            "grid_template_areas": null,
            "grid_template_columns": null,
            "grid_template_rows": null,
            "height": null,
            "justify_content": null,
            "justify_items": null,
            "left": null,
            "margin": null,
            "max_height": null,
            "max_width": null,
            "min_height": null,
            "min_width": null,
            "object_fit": null,
            "object_position": null,
            "order": null,
            "overflow": null,
            "overflow_x": null,
            "overflow_y": null,
            "padding": null,
            "right": null,
            "top": null,
            "visibility": null,
            "width": null
          }
        },
        "54a74d01240e41e6a34f803356875aa3": {
          "model_module": "@jupyter-widgets/controls",
          "model_name": "ProgressStyleModel",
          "model_module_version": "1.5.0",
          "state": {
            "_model_module": "@jupyter-widgets/controls",
            "_model_module_version": "1.5.0",
            "_model_name": "ProgressStyleModel",
            "_view_count": null,
            "_view_module": "@jupyter-widgets/base",
            "_view_module_version": "1.2.0",
            "_view_name": "StyleView",
            "bar_color": null,
            "description_width": ""
          }
        },
        "9613cf5f7a4447bcabe68a0b3b40d0ed": {
          "model_module": "@jupyter-widgets/base",
          "model_name": "LayoutModel",
          "model_module_version": "1.2.0",
          "state": {
            "_model_module": "@jupyter-widgets/base",
            "_model_module_version": "1.2.0",
            "_model_name": "LayoutModel",
            "_view_count": null,
            "_view_module": "@jupyter-widgets/base",
            "_view_module_version": "1.2.0",
            "_view_name": "LayoutView",
            "align_content": null,
            "align_items": null,
            "align_self": null,
            "border": null,
            "bottom": null,
            "display": null,
            "flex": null,
            "flex_flow": null,
            "grid_area": null,
            "grid_auto_columns": null,
            "grid_auto_flow": null,
            "grid_auto_rows": null,
            "grid_column": null,
            "grid_gap": null,
            "grid_row": null,
            "grid_template_areas": null,
            "grid_template_columns": null,
            "grid_template_rows": null,
            "height": null,
            "justify_content": null,
            "justify_items": null,
            "left": null,
            "margin": null,
            "max_height": null,
            "max_width": null,
            "min_height": null,
            "min_width": null,
            "object_fit": null,
            "object_position": null,
            "order": null,
            "overflow": null,
            "overflow_x": null,
            "overflow_y": null,
            "padding": null,
            "right": null,
            "top": null,
            "visibility": null,
            "width": null
          }
        },
        "1639533bd55d4efda2425285dadd431f": {
          "model_module": "@jupyter-widgets/controls",
          "model_name": "DescriptionStyleModel",
          "model_module_version": "1.5.0",
          "state": {
            "_model_module": "@jupyter-widgets/controls",
            "_model_module_version": "1.5.0",
            "_model_name": "DescriptionStyleModel",
            "_view_count": null,
            "_view_module": "@jupyter-widgets/base",
            "_view_module_version": "1.2.0",
            "_view_name": "StyleView",
            "description_width": ""
          }
        },
        "d4627fe9e3ea47ca870aff4f6a235435": {
          "model_module": "@jupyter-widgets/controls",
          "model_name": "HBoxModel",
          "model_module_version": "1.5.0",
          "state": {
            "_dom_classes": [],
            "_model_module": "@jupyter-widgets/controls",
            "_model_module_version": "1.5.0",
            "_model_name": "HBoxModel",
            "_view_count": null,
            "_view_module": "@jupyter-widgets/controls",
            "_view_module_version": "1.5.0",
            "_view_name": "HBoxView",
            "box_style": "",
            "children": [
              "IPY_MODEL_eec702a980c64888911ae652ee5eb8e3",
              "IPY_MODEL_daf6182e9a9f4837a0a043064ed0bfcd",
              "IPY_MODEL_2e9e9b26bd9e4f2e9c881d4f4e7b1b20"
            ],
            "layout": "IPY_MODEL_2a4e91b094844e1d9d6354b992b6240f"
          }
        },
        "eec702a980c64888911ae652ee5eb8e3": {
          "model_module": "@jupyter-widgets/controls",
          "model_name": "HTMLModel",
          "model_module_version": "1.5.0",
          "state": {
            "_dom_classes": [],
            "_model_module": "@jupyter-widgets/controls",
            "_model_module_version": "1.5.0",
            "_model_name": "HTMLModel",
            "_view_count": null,
            "_view_module": "@jupyter-widgets/controls",
            "_view_module_version": "1.5.0",
            "_view_name": "HTMLView",
            "description": "",
            "description_tooltip": null,
            "layout": "IPY_MODEL_5c7a17472b4c4779a1a2e1e2a984386b",
            "placeholder": "​",
            "style": "IPY_MODEL_20dfc6fa5bfb4fe6ba70a41ad8ea8989",
            "value": "100%"
          }
        },
        "daf6182e9a9f4837a0a043064ed0bfcd": {
          "model_module": "@jupyter-widgets/controls",
          "model_name": "FloatProgressModel",
          "model_module_version": "1.5.0",
          "state": {
            "_dom_classes": [],
            "_model_module": "@jupyter-widgets/controls",
            "_model_module_version": "1.5.0",
            "_model_name": "FloatProgressModel",
            "_view_count": null,
            "_view_module": "@jupyter-widgets/controls",
            "_view_module_version": "1.5.0",
            "_view_name": "ProgressView",
            "bar_style": "",
            "description": "",
            "description_tooltip": null,
            "layout": "IPY_MODEL_a0280e8b35374e2ab616980b72c3ef6f",
            "max": 5,
            "min": 0,
            "orientation": "horizontal",
            "style": "IPY_MODEL_3a6eafe3f30a48ba93e703684a6d9ee9",
            "value": 5
          }
        },
        "2e9e9b26bd9e4f2e9c881d4f4e7b1b20": {
          "model_module": "@jupyter-widgets/controls",
          "model_name": "HTMLModel",
          "model_module_version": "1.5.0",
          "state": {
            "_dom_classes": [],
            "_model_module": "@jupyter-widgets/controls",
            "_model_module_version": "1.5.0",
            "_model_name": "HTMLModel",
            "_view_count": null,
            "_view_module": "@jupyter-widgets/controls",
            "_view_module_version": "1.5.0",
            "_view_name": "HTMLView",
            "description": "",
            "description_tooltip": null,
            "layout": "IPY_MODEL_b0370290bfb5418cae18cad86eee0237",
            "placeholder": "​",
            "style": "IPY_MODEL_e0c11a8a438d40fbac4f934c5b6b877a",
            "value": " 5/5 [3:16:29&lt;00:00, 2362.19s/it]"
          }
        },
        "2a4e91b094844e1d9d6354b992b6240f": {
          "model_module": "@jupyter-widgets/base",
          "model_name": "LayoutModel",
          "model_module_version": "1.2.0",
          "state": {
            "_model_module": "@jupyter-widgets/base",
            "_model_module_version": "1.2.0",
            "_model_name": "LayoutModel",
            "_view_count": null,
            "_view_module": "@jupyter-widgets/base",
            "_view_module_version": "1.2.0",
            "_view_name": "LayoutView",
            "align_content": null,
            "align_items": null,
            "align_self": null,
            "border": null,
            "bottom": null,
            "display": null,
            "flex": null,
            "flex_flow": null,
            "grid_area": null,
            "grid_auto_columns": null,
            "grid_auto_flow": null,
            "grid_auto_rows": null,
            "grid_column": null,
            "grid_gap": null,
            "grid_row": null,
            "grid_template_areas": null,
            "grid_template_columns": null,
            "grid_template_rows": null,
            "height": null,
            "justify_content": null,
            "justify_items": null,
            "left": null,
            "margin": null,
            "max_height": null,
            "max_width": null,
            "min_height": null,
            "min_width": null,
            "object_fit": null,
            "object_position": null,
            "order": null,
            "overflow": null,
            "overflow_x": null,
            "overflow_y": null,
            "padding": null,
            "right": null,
            "top": null,
            "visibility": null,
            "width": null
          }
        },
        "5c7a17472b4c4779a1a2e1e2a984386b": {
          "model_module": "@jupyter-widgets/base",
          "model_name": "LayoutModel",
          "model_module_version": "1.2.0",
          "state": {
            "_model_module": "@jupyter-widgets/base",
            "_model_module_version": "1.2.0",
            "_model_name": "LayoutModel",
            "_view_count": null,
            "_view_module": "@jupyter-widgets/base",
            "_view_module_version": "1.2.0",
            "_view_name": "LayoutView",
            "align_content": null,
            "align_items": null,
            "align_self": null,
            "border": null,
            "bottom": null,
            "display": null,
            "flex": null,
            "flex_flow": null,
            "grid_area": null,
            "grid_auto_columns": null,
            "grid_auto_flow": null,
            "grid_auto_rows": null,
            "grid_column": null,
            "grid_gap": null,
            "grid_row": null,
            "grid_template_areas": null,
            "grid_template_columns": null,
            "grid_template_rows": null,
            "height": null,
            "justify_content": null,
            "justify_items": null,
            "left": null,
            "margin": null,
            "max_height": null,
            "max_width": null,
            "min_height": null,
            "min_width": null,
            "object_fit": null,
            "object_position": null,
            "order": null,
            "overflow": null,
            "overflow_x": null,
            "overflow_y": null,
            "padding": null,
            "right": null,
            "top": null,
            "visibility": null,
            "width": null
          }
        },
        "20dfc6fa5bfb4fe6ba70a41ad8ea8989": {
          "model_module": "@jupyter-widgets/controls",
          "model_name": "DescriptionStyleModel",
          "model_module_version": "1.5.0",
          "state": {
            "_model_module": "@jupyter-widgets/controls",
            "_model_module_version": "1.5.0",
            "_model_name": "DescriptionStyleModel",
            "_view_count": null,
            "_view_module": "@jupyter-widgets/base",
            "_view_module_version": "1.2.0",
            "_view_name": "StyleView",
            "description_width": ""
          }
        },
        "a0280e8b35374e2ab616980b72c3ef6f": {
          "model_module": "@jupyter-widgets/base",
          "model_name": "LayoutModel",
          "model_module_version": "1.2.0",
          "state": {
            "_model_module": "@jupyter-widgets/base",
            "_model_module_version": "1.2.0",
            "_model_name": "LayoutModel",
            "_view_count": null,
            "_view_module": "@jupyter-widgets/base",
            "_view_module_version": "1.2.0",
            "_view_name": "LayoutView",
            "align_content": null,
            "align_items": null,
            "align_self": null,
            "border": null,
            "bottom": null,
            "display": null,
            "flex": null,
            "flex_flow": null,
            "grid_area": null,
            "grid_auto_columns": null,
            "grid_auto_flow": null,
            "grid_auto_rows": null,
            "grid_column": null,
            "grid_gap": null,
            "grid_row": null,
            "grid_template_areas": null,
            "grid_template_columns": null,
            "grid_template_rows": null,
            "height": null,
            "justify_content": null,
            "justify_items": null,
            "left": null,
            "margin": null,
            "max_height": null,
            "max_width": null,
            "min_height": null,
            "min_width": null,
            "object_fit": null,
            "object_position": null,
            "order": null,
            "overflow": null,
            "overflow_x": null,
            "overflow_y": null,
            "padding": null,
            "right": null,
            "top": null,
            "visibility": null,
            "width": null
          }
        },
        "3a6eafe3f30a48ba93e703684a6d9ee9": {
          "model_module": "@jupyter-widgets/controls",
          "model_name": "ProgressStyleModel",
          "model_module_version": "1.5.0",
          "state": {
            "_model_module": "@jupyter-widgets/controls",
            "_model_module_version": "1.5.0",
            "_model_name": "ProgressStyleModel",
            "_view_count": null,
            "_view_module": "@jupyter-widgets/base",
            "_view_module_version": "1.2.0",
            "_view_name": "StyleView",
            "bar_color": null,
            "description_width": ""
          }
        },
        "b0370290bfb5418cae18cad86eee0237": {
          "model_module": "@jupyter-widgets/base",
          "model_name": "LayoutModel",
          "model_module_version": "1.2.0",
          "state": {
            "_model_module": "@jupyter-widgets/base",
            "_model_module_version": "1.2.0",
            "_model_name": "LayoutModel",
            "_view_count": null,
            "_view_module": "@jupyter-widgets/base",
            "_view_module_version": "1.2.0",
            "_view_name": "LayoutView",
            "align_content": null,
            "align_items": null,
            "align_self": null,
            "border": null,
            "bottom": null,
            "display": null,
            "flex": null,
            "flex_flow": null,
            "grid_area": null,
            "grid_auto_columns": null,
            "grid_auto_flow": null,
            "grid_auto_rows": null,
            "grid_column": null,
            "grid_gap": null,
            "grid_row": null,
            "grid_template_areas": null,
            "grid_template_columns": null,
            "grid_template_rows": null,
            "height": null,
            "justify_content": null,
            "justify_items": null,
            "left": null,
            "margin": null,
            "max_height": null,
            "max_width": null,
            "min_height": null,
            "min_width": null,
            "object_fit": null,
            "object_position": null,
            "order": null,
            "overflow": null,
            "overflow_x": null,
            "overflow_y": null,
            "padding": null,
            "right": null,
            "top": null,
            "visibility": null,
            "width": null
          }
        },
        "e0c11a8a438d40fbac4f934c5b6b877a": {
          "model_module": "@jupyter-widgets/controls",
          "model_name": "DescriptionStyleModel",
          "model_module_version": "1.5.0",
          "state": {
            "_model_module": "@jupyter-widgets/controls",
            "_model_module_version": "1.5.0",
            "_model_name": "DescriptionStyleModel",
            "_view_count": null,
            "_view_module": "@jupyter-widgets/base",
            "_view_module_version": "1.2.0",
            "_view_name": "StyleView",
            "description_width": ""
          }
        }
      }
    }
  },
  "nbformat": 4,
  "nbformat_minor": 0
}