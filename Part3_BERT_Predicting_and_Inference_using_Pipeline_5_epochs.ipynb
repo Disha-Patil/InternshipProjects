{
  "cells": [
    {
      "cell_type": "markdown",
      "metadata": {
        "id": "6GkxfuQ8ob0R"
      },
      "source": [
        "#About the Data\n",
        "\n",
        "* The data was taken from https://www.finra.org/rules-guidance/key-topics \n",
        "\n",
        "* The Data consist of three columns: Rule, Text and Topic.\n",
        "  - Rule: FINRA Rule number. \n",
        "  - Text: List of rules.\n",
        "  - Topic: Category to which the rule belongs.\n",
        "\n",
        "* Each rule under the Key Topics:<br>\n",
        "\n",
        "  1. Anti-Money Laundering\n",
        "  2. Broker-Dealer Recruitment Disclosures: Complying with FINRA Rule 2273\n",
        "  3. Business Continuity Planning\n",
        "  4. Subordination Agreements \n",
        "\n",
        "are taken as a text.\n",
        "\n",
        "* Each new line of the Rule Book was converted into text.\n",
        "* Blank text is not considered.\n",
        "* Prefixes in the beginning of the rules are retained.\n",
        "* The word ‘and’ to indicate the last rule is removed.\n",
        "* No summarization was done.\n"
      ]
    },
    {
      "cell_type": "markdown",
      "source": [
        "# Text Preprocessing\n",
        "\n",
        "* Sentences containing more than 30 words are considered.\n",
        "* Duplicate ‘Text’ are removed.\n"
      ],
      "metadata": {
        "id": "J4warHrgNKP1"
      }
    },
    {
      "cell_type": "markdown",
      "metadata": {
        "id": "jhdSQHY_WYk8"
      },
      "source": [
        "#Fine Tuning BERT model for text classification\n",
        "\n",
        "* The model was trained on 5 epochs and the learning rate was set at 2e-5 and batch size 6\n",
        "\n",
        "* Total time taken to create the dataframe with top 3 rank of predictions in the test data is : 0:00:27 (h:mm:ss)\n",
        "\n",
        "* Data Split:<br>\n",
        "      -Training data: 18 (60 percent)\n",
        "      -Validation data: 6 (20 percent)\n",
        "      -Test Data : 6 (20 percent)\n",
        "\n",
        "* Macro-averaged f1-score<br>\n",
        "      -Training data: 0.65\n",
        "      -Validation data: 0.58\n",
        "      -Test data: 0.54    \n",
        "\n"
      ]
    },
    {
      "cell_type": "markdown",
      "source": [
        "##Memory Allocated"
      ],
      "metadata": {
        "id": "78W_jqfK0KKW"
      }
    },
    {
      "cell_type": "code",
      "execution_count": null,
      "metadata": {
        "colab": {
          "base_uri": "https://localhost:8080/"
        },
        "id": "YPfyym2ucFwG",
        "outputId": "3a4a44ee-01fc-4da5-f4fb-b65ca35b0e88"
      },
      "outputs": [
        {
          "output_type": "stream",
          "name": "stdout",
          "text": [
            "13G\n"
          ]
        }
      ],
      "source": [
        "!free -h --si | awk  '/Mem:/{print $2}'"
      ]
    },
    {
      "cell_type": "markdown",
      "metadata": {
        "id": "YL1zyJ4CfAY7"
      },
      "source": [
        "##Google Drive access"
      ]
    },
    {
      "cell_type": "code",
      "execution_count": null,
      "metadata": {
        "colab": {
          "base_uri": "https://localhost:8080/"
        },
        "id": "WHOpy9PhfA8w",
        "outputId": "650ce376-0c82-4bd1-9d80-7f5fb9453b9a"
      },
      "outputs": [
        {
          "output_type": "stream",
          "name": "stdout",
          "text": [
            "Mounted at /content/drive\n"
          ]
        }
      ],
      "source": [
        "from google.colab import drive\n",
        "drive.mount('/content/drive')"
      ]
    },
    {
      "cell_type": "markdown",
      "metadata": {
        "id": "udsgVUHAdWJ5"
      },
      "source": [
        "# Data Path"
      ]
    },
    {
      "cell_type": "code",
      "execution_count": null,
      "metadata": {
        "id": "Sh5OBPevdBRe"
      },
      "outputs": [],
      "source": [
        "# write the appropriate paths to retrieve the data and store results \n",
        "saved_path = '/content/drive/MyDrive/Full_Code/FINRA/Strategy1/BERT/Epochs_5/'\n",
        "used_test_data_path = saved_path  + \"Test_data_BERT.csv\""
      ]
    },
    {
      "cell_type": "markdown",
      "metadata": {
        "id": "hhdVBYIGW2mH"
      },
      "source": [
        "## Set-up environment\n",
        "\n",
        "Install the libraries folium version 0.2.1, HuggingFace Transformers and Datasets"
      ]
    },
    {
      "cell_type": "code",
      "execution_count": null,
      "metadata": {
        "id": "bs0-RE3D76PZ",
        "colab": {
          "base_uri": "https://localhost:8080/"
        },
        "outputId": "103af135-c04b-4d6e-f7f1-ae51e405ad0d"
      },
      "outputs": [
        {
          "output_type": "stream",
          "name": "stdout",
          "text": [
            "\u001b[K     |████████████████████████████████| 69 kB 3.5 MB/s \n",
            "\u001b[K     |████████████████████████████████| 4.2 MB 11.0 MB/s \n",
            "\u001b[K     |████████████████████████████████| 346 kB 72.4 MB/s \n",
            "\u001b[K     |████████████████████████████████| 596 kB 55.5 MB/s \n",
            "\u001b[K     |████████████████████████████████| 86 kB 3.8 MB/s \n",
            "\u001b[K     |████████████████████████████████| 6.6 MB 42.9 MB/s \n",
            "\u001b[K     |████████████████████████████████| 212 kB 68.2 MB/s \n",
            "\u001b[K     |████████████████████████████████| 86 kB 4.8 MB/s \n",
            "\u001b[K     |████████████████████████████████| 140 kB 39.7 MB/s \n",
            "\u001b[K     |████████████████████████████████| 1.1 MB 52.0 MB/s \n",
            "\u001b[K     |████████████████████████████████| 127 kB 57.3 MB/s \n",
            "\u001b[K     |████████████████████████████████| 144 kB 58.2 MB/s \n",
            "\u001b[K     |████████████████████████████████| 94 kB 3.3 MB/s \n",
            "\u001b[K     |████████████████████████████████| 271 kB 58.0 MB/s \n",
            "\u001b[?25h  Building wheel for folium (setup.py) ... \u001b[?25l\u001b[?25hdone\n"
          ]
        }
      ],
      "source": [
        "#Install the package folium version 0.2.1 and HuggingFace tranformer and datasets libraries  \n",
        "!pip install -q folium==0.2.1 transformers datasets "
      ]
    },
    {
      "cell_type": "code",
      "execution_count": null,
      "metadata": {
        "colab": {
          "base_uri": "https://localhost:8080/"
        },
        "id": "ohB0CZ-0ejcG",
        "outputId": "f3081f91-2282-4762-c2ff-851367bca687"
      },
      "outputs": [
        {
          "output_type": "stream",
          "name": "stdout",
          "text": [
            "cpu is available\n"
          ]
        }
      ],
      "source": [
        "#Check if GPU is available\n",
        "import torch\n",
        "device = \"cuda:0\" if torch.cuda.is_available() else \"cpu\"\n",
        "print(device, \"is available\")"
      ]
    },
    {
      "cell_type": "markdown",
      "metadata": {
        "id": "r962v9Yresgf"
      },
      "source": [
        "## Loading the Dataset"
      ]
    },
    {
      "cell_type": "code",
      "execution_count": null,
      "metadata": {
        "colab": {
          "base_uri": "https://localhost:8080/"
        },
        "id": "Fjhi7JI1erXN",
        "outputId": "23f01ccc-a04f-4303-f82a-24ed61c852dc"
      },
      "outputs": [
        {
          "output_type": "stream",
          "name": "stdout",
          "text": [
            "<class 'pandas.core.frame.DataFrame'>\n",
            "RangeIndex: 6 entries, 0 to 5\n",
            "Data columns (total 2 columns):\n",
            " #   Column    Non-Null Count  Dtype \n",
            "---  ------    --------------  ----- \n",
            " 0   sentence  6 non-null      object\n",
            " 1   label     6 non-null      object\n",
            "dtypes: object(2)\n",
            "memory usage: 224.0+ bytes\n"
          ]
        }
      ],
      "source": [
        "#Load the data\n",
        "import pandas as pd\n",
        "test_data_df = pd.read_csv(used_test_data_path)\n",
        "test_data_df.info()"
      ]
    },
    {
      "cell_type": "markdown",
      "metadata": {
        "id": "yttlPWjStb6K"
      },
      "source": [
        "Example"
      ]
    },
    {
      "cell_type": "code",
      "execution_count": null,
      "metadata": {
        "colab": {
          "base_uri": "https://localhost:8080/",
          "height": 110
        },
        "id": "RFYBVUTrp0Am",
        "outputId": "e72600a1-7ab2-4164-c581-b0b9fe5d070f"
      },
      "outputs": [
        {
          "output_type": "execute_result",
          "data": {
            "text/plain": [
              "'(c) Provide for annual (on a calendar-year basis) independent testing for compliance to be conducted by member personnel or by a qualified outside party, unless the member does not execute transactions for customers or otherwise hold customer accounts or act as an introducing broker with respect to customer accounts (e.g., engages solely in proprietary trading or conducts business only with other broker-dealers), in which case such \"independent testing\" is required every two years (on a calendar-year basis).'"
            ],
            "application/vnd.google.colaboratory.intrinsic+json": {
              "type": "string"
            }
          },
          "metadata": {},
          "execution_count": 7
        }
      ],
      "source": [
        "test_data_df.loc[0,'sentence']"
      ]
    },
    {
      "cell_type": "code",
      "execution_count": null,
      "metadata": {
        "colab": {
          "base_uri": "https://localhost:8080/",
          "height": 36
        },
        "id": "KDzSIjeyezwy",
        "outputId": "08bf61c9-c2ed-44cc-f9b0-4d0187a0a13e"
      },
      "outputs": [
        {
          "output_type": "execute_result",
          "data": {
            "text/plain": [
              "'Anti-Money Laundering'"
            ],
            "application/vnd.google.colaboratory.intrinsic+json": {
              "type": "string"
            }
          },
          "metadata": {},
          "execution_count": 8
        }
      ],
      "source": [
        "test_data_df.loc[0,'label']"
      ]
    },
    {
      "cell_type": "code",
      "execution_count": null,
      "metadata": {
        "id": "CC7siQgaibti"
      },
      "outputs": [],
      "source": [
        "#Import the librarires required for the function get_top3_rank\n",
        "import torch\n",
        "import transformers\n",
        "from datasets import load_dataset\n",
        "from transformers import AutoTokenizer\n",
        "from transformers import logging\n",
        "from transformers import AutoModelForSequenceClassification\n",
        "from torch.optim import AdamW \n",
        "from transformers import pipeline\n",
        "import numpy as np\n",
        "import time"
      ]
    },
    {
      "cell_type": "code",
      "execution_count": null,
      "metadata": {
        "id": "qVsE89ZP5EgN"
      },
      "outputs": [],
      "source": [
        "#Create a function for formatting elapsed times as hh:mm:ss\n",
        "import datetime\n",
        "\n",
        "def format_time(elapsed):\n",
        "    '''\n",
        "    Takes a time in seconds and returns a string hh:mm:ss\n",
        "    '''\n",
        "    # Round to the nearest second.\n",
        "    elapsed_rounded = int(round((elapsed)))\n",
        "    \n",
        "    # Format as hh:mm:ss\n",
        "    return str(datetime.timedelta(seconds=elapsed_rounded))"
      ]
    },
    {
      "cell_type": "code",
      "execution_count": null,
      "metadata": {
        "id": "J8qwYERud439"
      },
      "outputs": [],
      "source": [
        "def get_top3_rank(df,column_name):\n",
        "  \"\"\"\n",
        "  df: the input dataframe containg text\n",
        "  column_name : the text column containg the input text\n",
        "  the function get_top3_rank outputs rank_df the dataframe that contains the top 3 ranks\n",
        "  \"\"\"\n",
        "  ############################################################################################################\n",
        "  #Function to create BERT pipeline\n",
        "  ############################################################################################################\n",
        "  def get_rank_dataframe(df,column_name):\n",
        "    \"\"\"\n",
        "    df: the input dataframe containg text\n",
        "    column_name : the text column containg the input text\n",
        "    the function get_rank_dataframe returns the dataframe with top3 ranks\n",
        "    \"\"\"\n",
        "    ############################################################################################################\n",
        "    #Check if GPU is Available or not\n",
        "    ############################################################################################################\n",
        "    device = \"cuda:0\" if torch.cuda.is_available() else \"cpu\"\n",
        "    ############################################################################################################\n",
        "    #Write the appropriate paths to retrieve the data \n",
        "    ############################################################################################################\n",
        "    user_path = '/content/drive/MyDrive/Full_Code/FINRA/Strategy1/BERT/Epochs_5/'\n",
        "    best_model_path = user_path + \"best_model/best_model.pt\"\n",
        "    label2id_df_path = user_path + \"label2id_df.csv\"\n",
        "    ############################################################################################################\n",
        "    #Create a label2id dictionary to map label and index\n",
        "    ############################################################################################################\n",
        "    labels2id_df = pd.read_csv(label2id_df_path)\n",
        "    labels = labels2id_df.columns.to_list()\n",
        "    ids = [int(i) for i in labels2id_df.loc[0,:]]\n",
        "    id2label = {A: B for A, B in zip(ids, labels)} \n",
        "    label2id = {A: B for A, B in zip(labels,ids)} \n",
        "    labels = list(labels)\n",
        "    ############################################################################################################\n",
        "    #Load the tokenizer\n",
        "    ############################################################################################################\n",
        "    tokenizer = AutoTokenizer.from_pretrained('bert-base-cased',num_labels=len(labels))\n",
        "    logging.set_verbosity_error()\n",
        "    ############################################################################################################\n",
        "    #Load the best model\n",
        "    ############################################################################################################\n",
        "    model_best = AutoModelForSequenceClassification.from_pretrained(\"bert-base-cased\",\n",
        "                                                           num_labels=len(labels),\n",
        "                                                           id2label=id2label,\n",
        "                                                           label2id=label2id)\n",
        "\n",
        "\n",
        "    model_best.to(device)\n",
        "    ############################################################################################################\n",
        "    #SET THE PARAMETERS\n",
        "    fixed_learning_rate = 2e-5\n",
        "    fixed_batch_size = 6\n",
        "    ############################################################################################################\n",
        "    #LOAD THE OPTIMZER\n",
        "    #Optimizer\n",
        "    optimizer_best = AdamW(model_best.parameters(),lr = fixed_learning_rate)\n",
        "    ############################################################################################################\n",
        "    # The function load_chkp is created for loading model\n",
        "    def load_ckp(checkpoint_fpath, model, optimizer):\n",
        "      \"\"\"\n",
        "      checkpoint_path: path to save checkpoint\n",
        "      model: model that we want to load checkpoint parameters into       \n",
        "      optimizer: optimizer we defined in previous training\n",
        "      \"\"\"\n",
        "      # load check point\n",
        "      checkpoint = torch.load(checkpoint_fpath,map_location=torch.device('cpu'))\n",
        "      # initialize state_dict from checkpoint to model\n",
        "      model.load_state_dict(checkpoint['state_dict'])\n",
        "      # initialize optimizer from checkpoint to optimizer\n",
        "      optimizer.load_state_dict(checkpoint['optimizer'])\n",
        "      # initialize valid_loss_min from checkpoint to valid_loss_min\n",
        "      valid_loss_min = checkpoint['valid_loss_min']\n",
        "      # return model, optimizer, epoch value, min validation loss \n",
        "      return model, optimizer, checkpoint['epoch'], valid_loss_min\n",
        "\n",
        "    # load the saved checkpoint\n",
        "    model_best, optimizer_best, end_epoch, valid_loss_min = load_ckp(best_model_path, model_best, optimizer_best)\n",
        "    ############################################################################################################\n",
        "    #Get inference from the BERT pipline\n",
        "    ############################################################################################################  \n",
        "    #set the device_value\n",
        "    if device == 'cuda:0':\n",
        "        device_value = 0\n",
        "    else:\n",
        "        device_value =-1\n",
        "\n",
        "     #Create the BERT pipeline\n",
        "    MAX_LENGTH = model_best.config.max_position_embeddings\n",
        "  \n",
        "    bert_nlp = pipeline(task=\"sentiment-analysis\", return_all_scores = True, model=model_best, tokenizer=tokenizer,\n",
        "                              device= device_value, max_length = MAX_LENGTH , truncation=True)\n",
        "    ############################################################################################################\n",
        "    #Return the result in a data frame\n",
        "    ############################################################################################################\n",
        "    labels_rank_list=[]\n",
        "    labels_score_list=[]\n",
        "    def get_rank(example,fix_rank = 3):\n",
        "      result_value = bert_nlp(example)\n",
        "      sorted_value = sorted(result_value[0], key=lambda k: k['score'],reverse = True)\n",
        "      new_dictionary_label = {'predicted_label_' + str(i+1): sorted_value[i]['label'] for i in range(fix_rank)}\n",
        "      new_dictionary_score = {'predicted_percentage_' + str(i+1): 100 * sorted_value[i]['score'] for i in range(fix_rank)}\n",
        "      labels_rank_list.append(new_dictionary_label)\n",
        "      labels_score_list.append(new_dictionary_score)\n",
        "    df[column_name].map(lambda row : get_rank(row,fix_rank = 3))\n",
        "    list2d_rank = {key: [i[key] for i in labels_rank_list] for key in labels_rank_list[0]}\n",
        "    list2d_score = {key: [i[key] for i in labels_score_list] for key in labels_score_list[0]}\n",
        "    predicted_dataframe = pd.concat([df,pd.DataFrame(list2d_rank),pd.DataFrame(list2d_score)], axis=1)\n",
        "    predicted_dataframe.rename(columns = {'label':'true_label'}, inplace = True)\n",
        "    return predicted_dataframe\n",
        "  start_t0 = time.time()\n",
        "  rank_df = get_rank_dataframe(df,column_name)\n",
        "  print(\"\\nTotal time taken to create the dataframe: {:} (h:mm:ss)\".format(format_time(time.time() - start_t0)))\n",
        "  return rank_df"
      ]
    },
    {
      "cell_type": "code",
      "execution_count": null,
      "metadata": {
        "colab": {
          "base_uri": "https://localhost:8080/",
          "height": 214,
          "referenced_widgets": [
            "c830acd891134338844dcf938aa9ab4c",
            "5940fdfdf85048568052f3e2fe36134d",
            "8a11afa325c8460dba49cf725d4b01be",
            "b0bf13dbfd94482e9d23067151b1086f",
            "e08e11521c10476487f657c404ba1b46",
            "061b84df07124526ba9cba300ea29fcd",
            "775888e7e46e482384a2572f023d5d15",
            "cad4dc23300c46fa9005d6f3962fd12c",
            "b9c5ae61ed4648c1ba8d3ece5b405914",
            "f2d9d5e0517f4e07a3b03b4c2f65f6ad",
            "21d284e7a6534bd1b890d0d0cbe120e9",
            "10df869301ca45de96b4bdb97699dd83",
            "999a335b838a470983cedcc357baf7c8",
            "460348cd330746639562d2c4b584ae66",
            "49c6440519e64463b5506589634d21f9",
            "c75f110398f948f58e2956b79f3d929f",
            "377626bd83844d4cb494d15686c23c62",
            "b52c35d4cdb94fbcb4c0813fe11cbd60",
            "f5bb2e5c6bf74255af551a2846872f8a",
            "629eebe7f58648288c8484475cdd341a",
            "964bd4f23b784458b6cd636bfde28efd",
            "704b564d18b241e9b81f69fdf839fac8",
            "a565461cdb3d4d1c9a66d455ca42d330",
            "aaf7672466544a8cace78011db5237dc",
            "b886a9fc8aba45b3b6a06e4662499d10",
            "e20139a0fb30496e92b72cbe0600eddd",
            "39c4da3800414be783824598ea623d04",
            "01228b98f75d40a38177535e7963fb34",
            "59e167f101bf4b32881cf2e87e180030",
            "d1ba5bd5fded4ff680dfebe7cb833bfc",
            "03af9d114b44463eaac4b45ea89ec5ce",
            "3b157eeb42ca4cb48180da1f6b55d0d5",
            "94681daeded64c508699f6c8fd1f7cf0",
            "f354034ce34f45bb847623fca3bc71e2",
            "37f518dda5be40ef82eb04ef9d197359",
            "de71936e26dd445cade775c402233267",
            "6c7d7572429d403d8ac6c1ef1ea55aca",
            "b8d4c99517ad4240a5fa49a9f39e7977",
            "af08a33ec38b4d07a8d1433110b4b34d",
            "0e77d4fb667c46f18c3c8f5bf1df1928",
            "a54b34a465d54606a4205a006cb1615e",
            "08432b4f80624a9dba0d679c30d66ae4",
            "f61091f094774f3f9a5d7c11bfd00595",
            "4a5f70029a7c456da60f535b3e289d72",
            "2e45db37187f42578756f72772be94fc",
            "e435e4a54595487a97cd231d9a1d0f22",
            "3a8fa1a279ae4069a17b4b6efbec732d",
            "3099891a5caf49b8bf5f7a49c907808f",
            "7c37527907c047a8846ee6716cdffcc7",
            "33c7ab6f0c3240198be28fac8d5c6879",
            "dbadad032d20469c80e5c893e799907b",
            "2fc21862585c464f914f88af2033ff3e",
            "0bc6728c4aa145abbe64a6637b24661d",
            "64bd506d9a054f3cafb3e2f8575ee370",
            "d8cd6be3843b48939855fbf7cdb00a17"
          ]
        },
        "id": "XriWjHJAhFSS",
        "outputId": "7e572f35-5975-45b5-a97c-eb95d5c26c52"
      },
      "outputs": [
        {
          "output_type": "display_data",
          "data": {
            "text/plain": [
              "Downloading:   0%|          | 0.00/29.0 [00:00<?, ?B/s]"
            ],
            "application/vnd.jupyter.widget-view+json": {
              "version_major": 2,
              "version_minor": 0,
              "model_id": "c830acd891134338844dcf938aa9ab4c"
            }
          },
          "metadata": {}
        },
        {
          "output_type": "display_data",
          "data": {
            "text/plain": [
              "Downloading:   0%|          | 0.00/570 [00:00<?, ?B/s]"
            ],
            "application/vnd.jupyter.widget-view+json": {
              "version_major": 2,
              "version_minor": 0,
              "model_id": "10df869301ca45de96b4bdb97699dd83"
            }
          },
          "metadata": {}
        },
        {
          "output_type": "display_data",
          "data": {
            "text/plain": [
              "Downloading:   0%|          | 0.00/208k [00:00<?, ?B/s]"
            ],
            "application/vnd.jupyter.widget-view+json": {
              "version_major": 2,
              "version_minor": 0,
              "model_id": "a565461cdb3d4d1c9a66d455ca42d330"
            }
          },
          "metadata": {}
        },
        {
          "output_type": "display_data",
          "data": {
            "text/plain": [
              "Downloading:   0%|          | 0.00/426k [00:00<?, ?B/s]"
            ],
            "application/vnd.jupyter.widget-view+json": {
              "version_major": 2,
              "version_minor": 0,
              "model_id": "f354034ce34f45bb847623fca3bc71e2"
            }
          },
          "metadata": {}
        },
        {
          "output_type": "display_data",
          "data": {
            "text/plain": [
              "Downloading:   0%|          | 0.00/416M [00:00<?, ?B/s]"
            ],
            "application/vnd.jupyter.widget-view+json": {
              "version_major": 2,
              "version_minor": 0,
              "model_id": "2e45db37187f42578756f72772be94fc"
            }
          },
          "metadata": {}
        },
        {
          "output_type": "stream",
          "name": "stdout",
          "text": [
            "\n",
            "Total time taken to create the dataframe: 0:00:27 (h:mm:ss)\n"
          ]
        }
      ],
      "source": [
        "#Call the function get_top3_rank using the input test_data_df and 'sentence' column in test_data_df to return the dataframe with top 3 rank\n",
        "top3_df = get_top3_rank(test_data_df,'sentence')"
      ]
    },
    {
      "cell_type": "code",
      "execution_count": null,
      "metadata": {
        "id": "4d2Erai0-lK3",
        "colab": {
          "base_uri": "https://localhost:8080/",
          "height": 643
        },
        "outputId": "ed1db41c-6e19-4195-eb38-11bca9e2e93d"
      },
      "outputs": [
        {
          "output_type": "execute_result",
          "data": {
            "text/plain": [
              "                                            sentence  \\\n",
              "0  (c) Provide for annual (on a calendar-year bas...   \n",
              "1  (A) If the contact is in writing, the written ...   \n",
              "2  (a) Each member must create and maintain a wri...   \n",
              "3  (c)(1) No equity capital of a member may be wi...   \n",
              "4  (f)(1) Each member shall report to FINRA, via ...   \n",
              "\n",
              "                                          true_label  \\\n",
              "0                              Anti-Money Laundering   \n",
              "1  Broker-Dealer Recruitment Disclosures: Complyi...   \n",
              "2                       Business Continuity Planning   \n",
              "3                           Subordination Agreements   \n",
              "4                       Business Continuity Planning   \n",
              "\n",
              "                                   predicted_label_1  \\\n",
              "0                       Business Continuity Planning   \n",
              "1  Broker-Dealer Recruitment Disclosures: Complyi...   \n",
              "2                       Business Continuity Planning   \n",
              "3                           Subordination Agreements   \n",
              "4  Broker-Dealer Recruitment Disclosures: Complyi...   \n",
              "\n",
              "              predicted_label_2             predicted_label_3  \\\n",
              "0      Subordination Agreements         Anti-Money Laundering   \n",
              "1      Subordination Agreements  Business Continuity Planning   \n",
              "2      Subordination Agreements         Anti-Money Laundering   \n",
              "3  Business Continuity Planning         Anti-Money Laundering   \n",
              "4  Business Continuity Planning      Subordination Agreements   \n",
              "\n",
              "   predicted_percentage_1  predicted_percentage_2  predicted_percentage_3  \n",
              "0               30.247518               28.434667               24.667172  \n",
              "1               34.753349               28.058171               23.261118  \n",
              "2               30.149794               29.161474               23.799749  \n",
              "3               40.730813               25.500265               17.684050  \n",
              "4               29.967907               28.128904               26.825216  "
            ],
            "text/html": [
              "<div>\n",
              "<style scoped>\n",
              "    .dataframe tbody tr th:only-of-type {\n",
              "        vertical-align: middle;\n",
              "    }\n",
              "\n",
              "    .dataframe tbody tr th {\n",
              "        vertical-align: top;\n",
              "    }\n",
              "\n",
              "    .dataframe thead th {\n",
              "        text-align: right;\n",
              "    }\n",
              "</style>\n",
              "<table border=\"1\" class=\"dataframe\">\n",
              "  <thead>\n",
              "    <tr style=\"text-align: right;\">\n",
              "      <th></th>\n",
              "      <th>sentence</th>\n",
              "      <th>true_label</th>\n",
              "      <th>predicted_label_1</th>\n",
              "      <th>predicted_label_2</th>\n",
              "      <th>predicted_label_3</th>\n",
              "      <th>predicted_percentage_1</th>\n",
              "      <th>predicted_percentage_2</th>\n",
              "      <th>predicted_percentage_3</th>\n",
              "    </tr>\n",
              "  </thead>\n",
              "  <tbody>\n",
              "    <tr>\n",
              "      <th>0</th>\n",
              "      <td>(c) Provide for annual (on a calendar-year bas...</td>\n",
              "      <td>Anti-Money Laundering</td>\n",
              "      <td>Business Continuity Planning</td>\n",
              "      <td>Subordination Agreements</td>\n",
              "      <td>Anti-Money Laundering</td>\n",
              "      <td>30.247518</td>\n",
              "      <td>28.434667</td>\n",
              "      <td>24.667172</td>\n",
              "    </tr>\n",
              "    <tr>\n",
              "      <th>1</th>\n",
              "      <td>(A) If the contact is in writing, the written ...</td>\n",
              "      <td>Broker-Dealer Recruitment Disclosures: Complyi...</td>\n",
              "      <td>Broker-Dealer Recruitment Disclosures: Complyi...</td>\n",
              "      <td>Subordination Agreements</td>\n",
              "      <td>Business Continuity Planning</td>\n",
              "      <td>34.753349</td>\n",
              "      <td>28.058171</td>\n",
              "      <td>23.261118</td>\n",
              "    </tr>\n",
              "    <tr>\n",
              "      <th>2</th>\n",
              "      <td>(a) Each member must create and maintain a wri...</td>\n",
              "      <td>Business Continuity Planning</td>\n",
              "      <td>Business Continuity Planning</td>\n",
              "      <td>Subordination Agreements</td>\n",
              "      <td>Anti-Money Laundering</td>\n",
              "      <td>30.149794</td>\n",
              "      <td>29.161474</td>\n",
              "      <td>23.799749</td>\n",
              "    </tr>\n",
              "    <tr>\n",
              "      <th>3</th>\n",
              "      <td>(c)(1) No equity capital of a member may be wi...</td>\n",
              "      <td>Subordination Agreements</td>\n",
              "      <td>Subordination Agreements</td>\n",
              "      <td>Business Continuity Planning</td>\n",
              "      <td>Anti-Money Laundering</td>\n",
              "      <td>40.730813</td>\n",
              "      <td>25.500265</td>\n",
              "      <td>17.684050</td>\n",
              "    </tr>\n",
              "    <tr>\n",
              "      <th>4</th>\n",
              "      <td>(f)(1) Each member shall report to FINRA, via ...</td>\n",
              "      <td>Business Continuity Planning</td>\n",
              "      <td>Broker-Dealer Recruitment Disclosures: Complyi...</td>\n",
              "      <td>Business Continuity Planning</td>\n",
              "      <td>Subordination Agreements</td>\n",
              "      <td>29.967907</td>\n",
              "      <td>28.128904</td>\n",
              "      <td>26.825216</td>\n",
              "    </tr>\n",
              "  </tbody>\n",
              "</table>\n",
              "</div>"
            ]
          },
          "metadata": {},
          "execution_count": 13
        }
      ],
      "source": [
        "#Display the first five entries in the data frame top3_df\n",
        "top3_df.head()"
      ]
    },
    {
      "cell_type": "markdown",
      "metadata": {
        "id": "Ec8FxTqmhYc5"
      },
      "source": [
        "Let's create a list that contains the labels, as well as 2 dictionaries that map labels to integers and back."
      ]
    },
    {
      "cell_type": "code",
      "execution_count": null,
      "metadata": {
        "colab": {
          "base_uri": "https://localhost:8080/",
          "height": 98
        },
        "id": "oMCdQQZzhbEO",
        "outputId": "c09b7d8b-a540-4501-a630-bae3cdbcb690"
      },
      "outputs": [
        {
          "output_type": "execute_result",
          "data": {
            "text/plain": [
              "   Anti-Money Laundering  \\\n",
              "0                      0   \n",
              "\n",
              "   Broker-Dealer Recruitment Disclosures: Complying with FINRA Rule 2273  \\\n",
              "0                                                  1                       \n",
              "\n",
              "   Business Continuity Planning  Subordination Agreements  \n",
              "0                             2                         3  "
            ],
            "text/html": [
              "<div>\n",
              "<style scoped>\n",
              "    .dataframe tbody tr th:only-of-type {\n",
              "        vertical-align: middle;\n",
              "    }\n",
              "\n",
              "    .dataframe tbody tr th {\n",
              "        vertical-align: top;\n",
              "    }\n",
              "\n",
              "    .dataframe thead th {\n",
              "        text-align: right;\n",
              "    }\n",
              "</style>\n",
              "<table border=\"1\" class=\"dataframe\">\n",
              "  <thead>\n",
              "    <tr style=\"text-align: right;\">\n",
              "      <th></th>\n",
              "      <th>Anti-Money Laundering</th>\n",
              "      <th>Broker-Dealer Recruitment Disclosures: Complying with FINRA Rule 2273</th>\n",
              "      <th>Business Continuity Planning</th>\n",
              "      <th>Subordination Agreements</th>\n",
              "    </tr>\n",
              "  </thead>\n",
              "  <tbody>\n",
              "    <tr>\n",
              "      <th>0</th>\n",
              "      <td>0</td>\n",
              "      <td>1</td>\n",
              "      <td>2</td>\n",
              "      <td>3</td>\n",
              "    </tr>\n",
              "  </tbody>\n",
              "</table>\n",
              "</div>"
            ]
          },
          "metadata": {},
          "execution_count": 14
        }
      ],
      "source": [
        "label2id_df_path = '/content/drive/MyDrive/Full_Code/FINRA/Strategy1/BERT/Epochs_5/label2id_df.csv'\n",
        "labels2id_df = pd.read_csv(label2id_df_path)\n",
        "labels2id_df"
      ]
    },
    {
      "cell_type": "code",
      "execution_count": null,
      "metadata": {
        "id": "bLQPkvLhhd0d"
      },
      "outputs": [],
      "source": [
        "labels = labels2id_df.columns.to_list()\n",
        "ids = [int(i) for i in labels2id_df.loc[0,:]]\n",
        "id2label = {A: B for A, B in zip(ids, labels)} \n",
        "label2id = {A: B for A, B in zip(labels,ids)} \n",
        "labels = list(labels)"
      ]
    },
    {
      "cell_type": "markdown",
      "metadata": {
        "id": "R6NCl_g6hhXb"
      },
      "source": [
        "The dataset consists of 4 labels."
      ]
    },
    {
      "cell_type": "code",
      "source": [
        "from sklearn.metrics import confusion_matrix\n",
        "import matplotlib.pyplot as plt\n",
        "import seaborn as sns\n",
        "True_labels = top3_df[\"true_label\"].to_list() \n",
        "Predicted_labels = top3_df[\"predicted_label_1\"].to_list() \n",
        "cm = confusion_matrix(True_labels, Predicted_labels)\n",
        "#plot the confusion matrix\n",
        "print(\"The confusion matrix is : \\n\")\n",
        "plt.figure(figsize=(20,15))\n",
        "sns.set(font_scale=1.25)\n",
        "ax =sns.heatmap(cm, annot=True, fmt='d',cbar=False,xticklabels=labels, yticklabels=labels,cmap=\"YlOrBr\",annot_kws={\"size\": 18})\n",
        "ax.set(xlabel='Predicted Labels', ylabel='True Labels')\n",
        "plt.show()"
      ],
      "metadata": {
        "colab": {
          "base_uri": "https://localhost:8080/",
          "height": 933
        },
        "id": "jFuI4vYp_1mU",
        "outputId": "811b9eb5-cea4-4c7a-d498-20a010954cf2"
      },
      "execution_count": null,
      "outputs": [
        {
          "output_type": "stream",
          "name": "stdout",
          "text": [
            "The confusion matrix is : \n",
            "\n"
          ]
        },
        {
          "output_type": "display_data",
          "data": {
            "text/plain": [
              "<Figure size 1440x1080 with 1 Axes>"
            ],
            "image/png": "[encoded data removed]"
          },
          "metadata": {
            "needs_background": "light"
          }
        }
      ]
    },
    {
      "cell_type": "code",
      "source": [
        "#Display Classification Report\n",
        "from sklearn.metrics import classification_report\n",
        "print(classification_report(True_labels, Predicted_labels,zero_division=0))"
      ],
      "metadata": {
        "colab": {
          "base_uri": "https://localhost:8080/"
        },
        "id": "b3eqNAVHEQj6",
        "outputId": "a7245572-69c7-47b0-b6bb-9471a9e66cb2"
      },
      "execution_count": null,
      "outputs": [
        {
          "output_type": "stream",
          "name": "stdout",
          "text": [
            "                                                                       precision    recall  f1-score   support\n",
            "\n",
            "                                                Anti-Money Laundering       0.00      0.00      0.00         1\n",
            "Broker-Dealer Recruitment Disclosures: Complying with FINRA Rule 2273       0.50      1.00      0.67         1\n",
            "                                         Business Continuity Planning       0.50      0.50      0.50         2\n",
            "                                             Subordination Agreements       1.00      1.00      1.00         2\n",
            "\n",
            "                                                             accuracy                           0.67         6\n",
            "                                                            macro avg       0.50      0.62      0.54         6\n",
            "                                                         weighted avg       0.58      0.67      0.61         6\n",
            "\n"
          ]
        }
      ]
    },
    {
      "cell_type": "code",
      "source": [
        "# Calculate the First Prediction Percentages\n",
        "top3_df[\"First_Prediction_Percentage\"] = (top3_df[\"true_label\"]  == top3_df['predicted_label_1']) * 100\n",
        "# Calculate the First and Second Prediction Percentages\n",
        "top3_df[\"First_and_Second_Prediction_Percentage\"] = ((top3_df[\"true_label\"]  == top3_df['predicted_label_1']) |((top3_df[\"true_label\"]  == top3_df['predicted_label_2']))) * 100"
      ],
      "metadata": {
        "id": "QxKiuLfZCji1"
      },
      "execution_count": null,
      "outputs": []
    },
    {
      "cell_type": "code",
      "source": [
        "# Calculate the accuracy of First and Second Predictions\n",
        "accuracy_df = top3_df.loc[:,['true_label',\"First_Prediction_Percentage\", \"First_and_Second_Prediction_Percentage\"]].groupby('true_label').mean() \n",
        "accuracy_df "
      ],
      "metadata": {
        "colab": {
          "base_uri": "https://localhost:8080/",
          "height": 224
        },
        "id": "K7enUIhvFctw",
        "outputId": "77a7353c-6fbb-49e8-c108-f1b45471a309"
      },
      "execution_count": null,
      "outputs": [
        {
          "output_type": "execute_result",
          "data": {
            "text/plain": [
              "                                                    First_Prediction_Percentage  \\\n",
              "true_label                                                                        \n",
              "Anti-Money Laundering                                                       0.0   \n",
              "Broker-Dealer Recruitment Disclosures: Complyin...                        100.0   \n",
              "Business Continuity Planning                                               50.0   \n",
              "Subordination Agreements                                                  100.0   \n",
              "\n",
              "                                                    First_and_Second_Prediction_Percentage  \n",
              "true_label                                                                                  \n",
              "Anti-Money Laundering                                                                  0.0  \n",
              "Broker-Dealer Recruitment Disclosures: Complyin...                                   100.0  \n",
              "Business Continuity Planning                                                         100.0  \n",
              "Subordination Agreements                                                             100.0  "
            ],
            "text/html": [
              "<div>\n",
              "<style scoped>\n",
              "    .dataframe tbody tr th:only-of-type {\n",
              "        vertical-align: middle;\n",
              "    }\n",
              "\n",
              "    .dataframe tbody tr th {\n",
              "        vertical-align: top;\n",
              "    }\n",
              "\n",
              "    .dataframe thead th {\n",
              "        text-align: right;\n",
              "    }\n",
              "</style>\n",
              "<table border=\"1\" class=\"dataframe\">\n",
              "  <thead>\n",
              "    <tr style=\"text-align: right;\">\n",
              "      <th></th>\n",
              "      <th>First_Prediction_Percentage</th>\n",
              "      <th>First_and_Second_Prediction_Percentage</th>\n",
              "    </tr>\n",
              "    <tr>\n",
              "      <th>true_label</th>\n",
              "      <th></th>\n",
              "      <th></th>\n",
              "    </tr>\n",
              "  </thead>\n",
              "  <tbody>\n",
              "    <tr>\n",
              "      <th>Anti-Money Laundering</th>\n",
              "      <td>0.0</td>\n",
              "      <td>0.0</td>\n",
              "    </tr>\n",
              "    <tr>\n",
              "      <th>Broker-Dealer Recruitment Disclosures: Complying with FINRA Rule 2273</th>\n",
              "      <td>100.0</td>\n",
              "      <td>100.0</td>\n",
              "    </tr>\n",
              "    <tr>\n",
              "      <th>Business Continuity Planning</th>\n",
              "      <td>50.0</td>\n",
              "      <td>100.0</td>\n",
              "    </tr>\n",
              "    <tr>\n",
              "      <th>Subordination Agreements</th>\n",
              "      <td>100.0</td>\n",
              "      <td>100.0</td>\n",
              "    </tr>\n",
              "  </tbody>\n",
              "</table>\n",
              "</div>"
            ]
          },
          "metadata": {},
          "execution_count": 19
        }
      ]
    },
    {
      "cell_type": "code",
      "source": [
        ""
      ],
      "metadata": {
        "id": "UTyfFnd9iGql"
      },
      "execution_count": null,
      "outputs": []
    }
  ],
  "metadata": {
    "colab": {
      "collapsed_sections": [],
      "name": "Part3_BERT_Predicting_and_Inference_using_Pipeline_5_epochs.ipynb",
      "provenance": []
    },
    "kernelspec": {
      "display_name": "Python 3 (ipykernel)",
      "language": "python",
      "name": "python3"
    },
    "language_info": {
      "codemirror_mode": {
        "name": "ipython",
        "version": 3
      },
      "file_extension": ".py",
      "mimetype": "text/x-python",
      "name": "python",
      "nbconvert_exporter": "python",
      "pygments_lexer": "ipython3",
      "version": "3.9.7"
    },
    "widgets": {
      "application/vnd.jupyter.widget-state+json": {
        "c830acd891134338844dcf938aa9ab4c": {
          "model_module": "@jupyter-widgets/controls",
          "model_name": "HBoxModel",
          "model_module_version": "1.5.0",
          "state": {
            "_dom_classes": [],
            "_model_module": "@jupyter-widgets/controls",
            "_model_module_version": "1.5.0",
            "_model_name": "HBoxModel",
            "_view_count": null,
            "_view_module": "@jupyter-widgets/controls",
            "_view_module_version": "1.5.0",
            "_view_name": "HBoxView",
            "box_style": "",
            "children": [
              "IPY_MODEL_5940fdfdf85048568052f3e2fe36134d",
              "IPY_MODEL_8a11afa325c8460dba49cf725d4b01be",
              "IPY_MODEL_b0bf13dbfd94482e9d23067151b1086f"
            ],
            "layout": "IPY_MODEL_e08e11521c10476487f657c404ba1b46"
          }
        },
        "5940fdfdf85048568052f3e2fe36134d": {
          "model_module": "@jupyter-widgets/controls",
          "model_name": "HTMLModel",
          "model_module_version": "1.5.0",
          "state": {
            "_dom_classes": [],
            "_model_module": "@jupyter-widgets/controls",
            "_model_module_version": "1.5.0",
            "_model_name": "HTMLModel",
            "_view_count": null,
            "_view_module": "@jupyter-widgets/controls",
            "_view_module_version": "1.5.0",
            "_view_name": "HTMLView",
            "description": "",
            "description_tooltip": null,
            "layout": "IPY_MODEL_061b84df07124526ba9cba300ea29fcd",
            "placeholder": "​",
            "style": "IPY_MODEL_775888e7e46e482384a2572f023d5d15",
            "value": "Downloading: 100%"
          }
        },
        "8a11afa325c8460dba49cf725d4b01be": {
          "model_module": "@jupyter-widgets/controls",
          "model_name": "FloatProgressModel",
          "model_module_version": "1.5.0",
          "state": {
            "_dom_classes": [],
            "_model_module": "@jupyter-widgets/controls",
            "_model_module_version": "1.5.0",
            "_model_name": "FloatProgressModel",
            "_view_count": null,
            "_view_module": "@jupyter-widgets/controls",
            "_view_module_version": "1.5.0",
            "_view_name": "ProgressView",
            "bar_style": "success",
            "description": "",
            "description_tooltip": null,
            "layout": "IPY_MODEL_cad4dc23300c46fa9005d6f3962fd12c",
            "max": 29,
            "min": 0,
            "orientation": "horizontal",
            "style": "IPY_MODEL_b9c5ae61ed4648c1ba8d3ece5b405914",
            "value": 29
          }
        },
        "b0bf13dbfd94482e9d23067151b1086f": {
          "model_module": "@jupyter-widgets/controls",
          "model_name": "HTMLModel",
          "model_module_version": "1.5.0",
          "state": {
            "_dom_classes": [],
            "_model_module": "@jupyter-widgets/controls",
            "_model_module_version": "1.5.0",
            "_model_name": "HTMLModel",
            "_view_count": null,
            "_view_module": "@jupyter-widgets/controls",
            "_view_module_version": "1.5.0",
            "_view_name": "HTMLView",
            "description": "",
            "description_tooltip": null,
            "layout": "IPY_MODEL_f2d9d5e0517f4e07a3b03b4c2f65f6ad",
            "placeholder": "​",
            "style": "IPY_MODEL_21d284e7a6534bd1b890d0d0cbe120e9",
            "value": " 29.0/29.0 [00:00&lt;00:00, 902B/s]"
          }
        },
        "e08e11521c10476487f657c404ba1b46": {
          "model_module": "@jupyter-widgets/base",
          "model_name": "LayoutModel",
          "model_module_version": "1.2.0",
          "state": {
            "_model_module": "@jupyter-widgets/base",
            "_model_module_version": "1.2.0",
            "_model_name": "LayoutModel",
            "_view_count": null,
            "_view_module": "@jupyter-widgets/base",
            "_view_module_version": "1.2.0",
            "_view_name": "LayoutView",
            "align_content": null,
            "align_items": null,
            "align_self": null,
            "border": null,
            "bottom": null,
            "display": null,
            "flex": null,
            "flex_flow": null,
            "grid_area": null,
            "grid_auto_columns": null,
            "grid_auto_flow": null,
            "grid_auto_rows": null,
            "grid_column": null,
            "grid_gap": null,
            "grid_row": null,
            "grid_template_areas": null,
            "grid_template_columns": null,
            "grid_template_rows": null,
            "height": null,
            "justify_content": null,
            "justify_items": null,
            "left": null,
            "margin": null,
            "max_height": null,
            "max_width": null,
            "min_height": null,
            "min_width": null,
            "object_fit": null,
            "object_position": null,
            "order": null,
            "overflow": null,
            "overflow_x": null,
            "overflow_y": null,
            "padding": null,
            "right": null,
            "top": null,
            "visibility": null,
            "width": null
          }
        },
        "061b84df07124526ba9cba300ea29fcd": {
          "model_module": "@jupyter-widgets/base",
          "model_name": "LayoutModel",
          "model_module_version": "1.2.0",
          "state": {
            "_model_module": "@jupyter-widgets/base",
            "_model_module_version": "1.2.0",
            "_model_name": "LayoutModel",
            "_view_count": null,
            "_view_module": "@jupyter-widgets/base",
            "_view_module_version": "1.2.0",
            "_view_name": "LayoutView",
            "align_content": null,
            "align_items": null,
            "align_self": null,
            "border": null,
            "bottom": null,
            "display": null,
            "flex": null,
            "flex_flow": null,
            "grid_area": null,
            "grid_auto_columns": null,
            "grid_auto_flow": null,
            "grid_auto_rows": null,
            "grid_column": null,
            "grid_gap": null,
            "grid_row": null,
            "grid_template_areas": null,
            "grid_template_columns": null,
            "grid_template_rows": null,
            "height": null,
            "justify_content": null,
            "justify_items": null,
            "left": null,
            "margin": null,
            "max_height": null,
            "max_width": null,
            "min_height": null,
            "min_width": null,
            "object_fit": null,
            "object_position": null,
            "order": null,
            "overflow": null,
            "overflow_x": null,
            "overflow_y": null,
            "padding": null,
            "right": null,
            "top": null,
            "visibility": null,
            "width": null
          }
        },
        "775888e7e46e482384a2572f023d5d15": {
          "model_module": "@jupyter-widgets/controls",
          "model_name": "DescriptionStyleModel",
          "model_module_version": "1.5.0",
          "state": {
            "_model_module": "@jupyter-widgets/controls",
            "_model_module_version": "1.5.0",
            "_model_name": "DescriptionStyleModel",
            "_view_count": null,
            "_view_module": "@jupyter-widgets/base",
            "_view_module_version": "1.2.0",
            "_view_name": "StyleView",
            "description_width": ""
          }
        },
        "cad4dc23300c46fa9005d6f3962fd12c": {
          "model_module": "@jupyter-widgets/base",
          "model_name": "LayoutModel",
          "model_module_version": "1.2.0",
          "state": {
            "_model_module": "@jupyter-widgets/base",
            "_model_module_version": "1.2.0",
            "_model_name": "LayoutModel",
            "_view_count": null,
            "_view_module": "@jupyter-widgets/base",
            "_view_module_version": "1.2.0",
            "_view_name": "LayoutView",
            "align_content": null,
            "align_items": null,
            "align_self": null,
            "border": null,
            "bottom": null,
            "display": null,
            "flex": null,
            "flex_flow": null,
            "grid_area": null,
            "grid_auto_columns": null,
            "grid_auto_flow": null,
            "grid_auto_rows": null,
            "grid_column": null,
            "grid_gap": null,
            "grid_row": null,
            "grid_template_areas": null,
            "grid_template_columns": null,
            "grid_template_rows": null,
            "height": null,
            "justify_content": null,
            "justify_items": null,
            "left": null,
            "margin": null,
            "max_height": null,
            "max_width": null,
            "min_height": null,
            "min_width": null,
            "object_fit": null,
            "object_position": null,
            "order": null,
            "overflow": null,
            "overflow_x": null,
            "overflow_y": null,
            "padding": null,
            "right": null,
            "top": null,
            "visibility": null,
            "width": null
          }
        },
        "b9c5ae61ed4648c1ba8d3ece5b405914": {
          "model_module": "@jupyter-widgets/controls",
          "model_name": "ProgressStyleModel",
          "model_module_version": "1.5.0",
          "state": {
            "_model_module": "@jupyter-widgets/controls",
            "_model_module_version": "1.5.0",
            "_model_name": "ProgressStyleModel",
            "_view_count": null,
            "_view_module": "@jupyter-widgets/base",
            "_view_module_version": "1.2.0",
            "_view_name": "StyleView",
            "bar_color": null,
            "description_width": ""
          }
        },
        "f2d9d5e0517f4e07a3b03b4c2f65f6ad": {
          "model_module": "@jupyter-widgets/base",
          "model_name": "LayoutModel",
          "model_module_version": "1.2.0",
          "state": {
            "_model_module": "@jupyter-widgets/base",
            "_model_module_version": "1.2.0",
            "_model_name": "LayoutModel",
            "_view_count": null,
            "_view_module": "@jupyter-widgets/base",
            "_view_module_version": "1.2.0",
            "_view_name": "LayoutView",
            "align_content": null,
            "align_items": null,
            "align_self": null,
            "border": null,
            "bottom": null,
            "display": null,
            "flex": null,
            "flex_flow": null,
            "grid_area": null,
            "grid_auto_columns": null,
            "grid_auto_flow": null,
            "grid_auto_rows": null,
            "grid_column": null,
            "grid_gap": null,
            "grid_row": null,
            "grid_template_areas": null,
            "grid_template_columns": null,
            "grid_template_rows": null,
            "height": null,
            "justify_content": null,
            "justify_items": null,
            "left": null,
            "margin": null,
            "max_height": null,
            "max_width": null,
            "min_height": null,
            "min_width": null,
            "object_fit": null,
            "object_position": null,
            "order": null,
            "overflow": null,
            "overflow_x": null,
            "overflow_y": null,
            "padding": null,
            "right": null,
            "top": null,
            "visibility": null,
            "width": null
          }
        },
        "21d284e7a6534bd1b890d0d0cbe120e9": {
          "model_module": "@jupyter-widgets/controls",
          "model_name": "DescriptionStyleModel",
          "model_module_version": "1.5.0",
          "state": {
            "_model_module": "@jupyter-widgets/controls",
            "_model_module_version": "1.5.0",
            "_model_name": "DescriptionStyleModel",
            "_view_count": null,
            "_view_module": "@jupyter-widgets/base",
            "_view_module_version": "1.2.0",
            "_view_name": "StyleView",
            "description_width": ""
          }
        },
        "10df869301ca45de96b4bdb97699dd83": {
          "model_module": "@jupyter-widgets/controls",
          "model_name": "HBoxModel",
          "model_module_version": "1.5.0",
          "state": {
            "_dom_classes": [],
            "_model_module": "@jupyter-widgets/controls",
            "_model_module_version": "1.5.0",
            "_model_name": "HBoxModel",
            "_view_count": null,
            "_view_module": "@jupyter-widgets/controls",
            "_view_module_version": "1.5.0",
            "_view_name": "HBoxView",
            "box_style": "",
            "children": [
              "IPY_MODEL_999a335b838a470983cedcc357baf7c8",
              "IPY_MODEL_460348cd330746639562d2c4b584ae66",
              "IPY_MODEL_49c6440519e64463b5506589634d21f9"
            ],
            "layout": "IPY_MODEL_c75f110398f948f58e2956b79f3d929f"
          }
        },
        "999a335b838a470983cedcc357baf7c8": {
          "model_module": "@jupyter-widgets/controls",
          "model_name": "HTMLModel",
          "model_module_version": "1.5.0",
          "state": {
            "_dom_classes": [],
            "_model_module": "@jupyter-widgets/controls",
            "_model_module_version": "1.5.0",
            "_model_name": "HTMLModel",
            "_view_count": null,
            "_view_module": "@jupyter-widgets/controls",
            "_view_module_version": "1.5.0",
            "_view_name": "HTMLView",
            "description": "",
            "description_tooltip": null,
            "layout": "IPY_MODEL_377626bd83844d4cb494d15686c23c62",
            "placeholder": "​",
            "style": "IPY_MODEL_b52c35d4cdb94fbcb4c0813fe11cbd60",
            "value": "Downloading: 100%"
          }
        },
        "460348cd330746639562d2c4b584ae66": {
          "model_module": "@jupyter-widgets/controls",
          "model_name": "FloatProgressModel",
          "model_module_version": "1.5.0",
          "state": {
            "_dom_classes": [],
            "_model_module": "@jupyter-widgets/controls",
            "_model_module_version": "1.5.0",
            "_model_name": "FloatProgressModel",
            "_view_count": null,
            "_view_module": "@jupyter-widgets/controls",
            "_view_module_version": "1.5.0",
            "_view_name": "ProgressView",
            "bar_style": "success",
            "description": "",
            "description_tooltip": null,
            "layout": "IPY_MODEL_f5bb2e5c6bf74255af551a2846872f8a",
            "max": 570,
            "min": 0,
            "orientation": "horizontal",
            "style": "IPY_MODEL_629eebe7f58648288c8484475cdd341a",
            "value": 570
          }
        },
        "49c6440519e64463b5506589634d21f9": {
          "model_module": "@jupyter-widgets/controls",
          "model_name": "HTMLModel",
          "model_module_version": "1.5.0",
          "state": {
            "_dom_classes": [],
            "_model_module": "@jupyter-widgets/controls",
            "_model_module_version": "1.5.0",
            "_model_name": "HTMLModel",
            "_view_count": null,
            "_view_module": "@jupyter-widgets/controls",
            "_view_module_version": "1.5.0",
            "_view_name": "HTMLView",
            "description": "",
            "description_tooltip": null,
            "layout": "IPY_MODEL_964bd4f23b784458b6cd636bfde28efd",
            "placeholder": "​",
            "style": "IPY_MODEL_704b564d18b241e9b81f69fdf839fac8",
            "value": " 570/570 [00:00&lt;00:00, 15.0kB/s]"
          }
        },
        "c75f110398f948f58e2956b79f3d929f": {
          "model_module": "@jupyter-widgets/base",
          "model_name": "LayoutModel",
          "model_module_version": "1.2.0",
          "state": {
            "_model_module": "@jupyter-widgets/base",
            "_model_module_version": "1.2.0",
            "_model_name": "LayoutModel",
            "_view_count": null,
            "_view_module": "@jupyter-widgets/base",
            "_view_module_version": "1.2.0",
            "_view_name": "LayoutView",
            "align_content": null,
            "align_items": null,
            "align_self": null,
            "border": null,
            "bottom": null,
            "display": null,
            "flex": null,
            "flex_flow": null,
            "grid_area": null,
            "grid_auto_columns": null,
            "grid_auto_flow": null,
            "grid_auto_rows": null,
            "grid_column": null,
            "grid_gap": null,
            "grid_row": null,
            "grid_template_areas": null,
            "grid_template_columns": null,
            "grid_template_rows": null,
            "height": null,
            "justify_content": null,
            "justify_items": null,
            "left": null,
            "margin": null,
            "max_height": null,
            "max_width": null,
            "min_height": null,
            "min_width": null,
            "object_fit": null,
            "object_position": null,
            "order": null,
            "overflow": null,
            "overflow_x": null,
            "overflow_y": null,
            "padding": null,
            "right": null,
            "top": null,
            "visibility": null,
            "width": null
          }
        },
        "377626bd83844d4cb494d15686c23c62": {
          "model_module": "@jupyter-widgets/base",
          "model_name": "LayoutModel",
          "model_module_version": "1.2.0",
          "state": {
            "_model_module": "@jupyter-widgets/base",
            "_model_module_version": "1.2.0",
            "_model_name": "LayoutModel",
            "_view_count": null,
            "_view_module": "@jupyter-widgets/base",
            "_view_module_version": "1.2.0",
            "_view_name": "LayoutView",
            "align_content": null,
            "align_items": null,
            "align_self": null,
            "border": null,
            "bottom": null,
            "display": null,
            "flex": null,
            "flex_flow": null,
            "grid_area": null,
            "grid_auto_columns": null,
            "grid_auto_flow": null,
            "grid_auto_rows": null,
            "grid_column": null,
            "grid_gap": null,
            "grid_row": null,
            "grid_template_areas": null,
            "grid_template_columns": null,
            "grid_template_rows": null,
            "height": null,
            "justify_content": null,
            "justify_items": null,
            "left": null,
            "margin": null,
            "max_height": null,
            "max_width": null,
            "min_height": null,
            "min_width": null,
            "object_fit": null,
            "object_position": null,
            "order": null,
            "overflow": null,
            "overflow_x": null,
            "overflow_y": null,
            "padding": null,
            "right": null,
            "top": null,
            "visibility": null,
            "width": null
          }
        },
        "b52c35d4cdb94fbcb4c0813fe11cbd60": {
          "model_module": "@jupyter-widgets/controls",
          "model_name": "DescriptionStyleModel",
          "model_module_version": "1.5.0",
          "state": {
            "_model_module": "@jupyter-widgets/controls",
            "_model_module_version": "1.5.0",
            "_model_name": "DescriptionStyleModel",
            "_view_count": null,
            "_view_module": "@jupyter-widgets/base",
            "_view_module_version": "1.2.0",
            "_view_name": "StyleView",
            "description_width": ""
          }
        },
        "f5bb2e5c6bf74255af551a2846872f8a": {
          "model_module": "@jupyter-widgets/base",
          "model_name": "LayoutModel",
          "model_module_version": "1.2.0",
          "state": {
            "_model_module": "@jupyter-widgets/base",
            "_model_module_version": "1.2.0",
            "_model_name": "LayoutModel",
            "_view_count": null,
            "_view_module": "@jupyter-widgets/base",
            "_view_module_version": "1.2.0",
            "_view_name": "LayoutView",
            "align_content": null,
            "align_items": null,
            "align_self": null,
            "border": null,
            "bottom": null,
            "display": null,
            "flex": null,
            "flex_flow": null,
            "grid_area": null,
            "grid_auto_columns": null,
            "grid_auto_flow": null,
            "grid_auto_rows": null,
            "grid_column": null,
            "grid_gap": null,
            "grid_row": null,
            "grid_template_areas": null,
            "grid_template_columns": null,
            "grid_template_rows": null,
            "height": null,
            "justify_content": null,
            "justify_items": null,
            "left": null,
            "margin": null,
            "max_height": null,
            "max_width": null,
            "min_height": null,
            "min_width": null,
            "object_fit": null,
            "object_position": null,
            "order": null,
            "overflow": null,
            "overflow_x": null,
            "overflow_y": null,
            "padding": null,
            "right": null,
            "top": null,
            "visibility": null,
            "width": null
          }
        },
        "629eebe7f58648288c8484475cdd341a": {
          "model_module": "@jupyter-widgets/controls",
          "model_name": "ProgressStyleModel",
          "model_module_version": "1.5.0",
          "state": {
            "_model_module": "@jupyter-widgets/controls",
            "_model_module_version": "1.5.0",
            "_model_name": "ProgressStyleModel",
            "_view_count": null,
            "_view_module": "@jupyter-widgets/base",
            "_view_module_version": "1.2.0",
            "_view_name": "StyleView",
            "bar_color": null,
            "description_width": ""
          }
        },
        "964bd4f23b784458b6cd636bfde28efd": {
          "model_module": "@jupyter-widgets/base",
          "model_name": "LayoutModel",
          "model_module_version": "1.2.0",
          "state": {
            "_model_module": "@jupyter-widgets/base",
            "_model_module_version": "1.2.0",
            "_model_name": "LayoutModel",
            "_view_count": null,
            "_view_module": "@jupyter-widgets/base",
            "_view_module_version": "1.2.0",
            "_view_name": "LayoutView",
            "align_content": null,
            "align_items": null,
            "align_self": null,
            "border": null,
            "bottom": null,
            "display": null,
            "flex": null,
            "flex_flow": null,
            "grid_area": null,
            "grid_auto_columns": null,
            "grid_auto_flow": null,
            "grid_auto_rows": null,
            "grid_column": null,
            "grid_gap": null,
            "grid_row": null,
            "grid_template_areas": null,
            "grid_template_columns": null,
            "grid_template_rows": null,
            "height": null,
            "justify_content": null,
            "justify_items": null,
            "left": null,
            "margin": null,
            "max_height": null,
            "max_width": null,
            "min_height": null,
            "min_width": null,
            "object_fit": null,
            "object_position": null,
            "order": null,
            "overflow": null,
            "overflow_x": null,
            "overflow_y": null,
            "padding": null,
            "right": null,
            "top": null,
            "visibility": null,
            "width": null
          }
        },
        "704b564d18b241e9b81f69fdf839fac8": {
          "model_module": "@jupyter-widgets/controls",
          "model_name": "DescriptionStyleModel",
          "model_module_version": "1.5.0",
          "state": {
            "_model_module": "@jupyter-widgets/controls",
            "_model_module_version": "1.5.0",
            "_model_name": "DescriptionStyleModel",
            "_view_count": null,
            "_view_module": "@jupyter-widgets/base",
            "_view_module_version": "1.2.0",
            "_view_name": "StyleView",
            "description_width": ""
          }
        },
        "a565461cdb3d4d1c9a66d455ca42d330": {
          "model_module": "@jupyter-widgets/controls",
          "model_name": "HBoxModel",
          "model_module_version": "1.5.0",
          "state": {
            "_dom_classes": [],
            "_model_module": "@jupyter-widgets/controls",
            "_model_module_version": "1.5.0",
            "_model_name": "HBoxModel",
            "_view_count": null,
            "_view_module": "@jupyter-widgets/controls",
            "_view_module_version": "1.5.0",
            "_view_name": "HBoxView",
            "box_style": "",
            "children": [
              "IPY_MODEL_aaf7672466544a8cace78011db5237dc",
              "IPY_MODEL_b886a9fc8aba45b3b6a06e4662499d10",
              "IPY_MODEL_e20139a0fb30496e92b72cbe0600eddd"
            ],
            "layout": "IPY_MODEL_39c4da3800414be783824598ea623d04"
          }
        },
        "aaf7672466544a8cace78011db5237dc": {
          "model_module": "@jupyter-widgets/controls",
          "model_name": "HTMLModel",
          "model_module_version": "1.5.0",
          "state": {
            "_dom_classes": [],
            "_model_module": "@jupyter-widgets/controls",
            "_model_module_version": "1.5.0",
            "_model_name": "HTMLModel",
            "_view_count": null,
            "_view_module": "@jupyter-widgets/controls",
            "_view_module_version": "1.5.0",
            "_view_name": "HTMLView",
            "description": "",
            "description_tooltip": null,
            "layout": "IPY_MODEL_01228b98f75d40a38177535e7963fb34",
            "placeholder": "​",
            "style": "IPY_MODEL_59e167f101bf4b32881cf2e87e180030",
            "value": "Downloading: 100%"
          }
        },
        "b886a9fc8aba45b3b6a06e4662499d10": {
          "model_module": "@jupyter-widgets/controls",
          "model_name": "FloatProgressModel",
          "model_module_version": "1.5.0",
          "state": {
            "_dom_classes": [],
            "_model_module": "@jupyter-widgets/controls",
            "_model_module_version": "1.5.0",
            "_model_name": "FloatProgressModel",
            "_view_count": null,
            "_view_module": "@jupyter-widgets/controls",
            "_view_module_version": "1.5.0",
            "_view_name": "ProgressView",
            "bar_style": "success",
            "description": "",
            "description_tooltip": null,
            "layout": "IPY_MODEL_d1ba5bd5fded4ff680dfebe7cb833bfc",
            "max": 213450,
            "min": 0,
            "orientation": "horizontal",
            "style": "IPY_MODEL_03af9d114b44463eaac4b45ea89ec5ce",
            "value": 213450
          }
        },
        "e20139a0fb30496e92b72cbe0600eddd": {
          "model_module": "@jupyter-widgets/controls",
          "model_name": "HTMLModel",
          "model_module_version": "1.5.0",
          "state": {
            "_dom_classes": [],
            "_model_module": "@jupyter-widgets/controls",
            "_model_module_version": "1.5.0",
            "_model_name": "HTMLModel",
            "_view_count": null,
            "_view_module": "@jupyter-widgets/controls",
            "_view_module_version": "1.5.0",
            "_view_name": "HTMLView",
            "description": "",
            "description_tooltip": null,
            "layout": "IPY_MODEL_3b157eeb42ca4cb48180da1f6b55d0d5",
            "placeholder": "​",
            "style": "IPY_MODEL_94681daeded64c508699f6c8fd1f7cf0",
            "value": " 208k/208k [00:00&lt;00:00, 1.71MB/s]"
          }
        },
        "39c4da3800414be783824598ea623d04": {
          "model_module": "@jupyter-widgets/base",
          "model_name": "LayoutModel",
          "model_module_version": "1.2.0",
          "state": {
            "_model_module": "@jupyter-widgets/base",
            "_model_module_version": "1.2.0",
            "_model_name": "LayoutModel",
            "_view_count": null,
            "_view_module": "@jupyter-widgets/base",
            "_view_module_version": "1.2.0",
            "_view_name": "LayoutView",
            "align_content": null,
            "align_items": null,
            "align_self": null,
            "border": null,
            "bottom": null,
            "display": null,
            "flex": null,
            "flex_flow": null,
            "grid_area": null,
            "grid_auto_columns": null,
            "grid_auto_flow": null,
            "grid_auto_rows": null,
            "grid_column": null,
            "grid_gap": null,
            "grid_row": null,
            "grid_template_areas": null,
            "grid_template_columns": null,
            "grid_template_rows": null,
            "height": null,
            "justify_content": null,
            "justify_items": null,
            "left": null,
            "margin": null,
            "max_height": null,
            "max_width": null,
            "min_height": null,
            "min_width": null,
            "object_fit": null,
            "object_position": null,
            "order": null,
            "overflow": null,
            "overflow_x": null,
            "overflow_y": null,
            "padding": null,
            "right": null,
            "top": null,
            "visibility": null,
            "width": null
          }
        },
        "01228b98f75d40a38177535e7963fb34": {
          "model_module": "@jupyter-widgets/base",
          "model_name": "LayoutModel",
          "model_module_version": "1.2.0",
          "state": {
            "_model_module": "@jupyter-widgets/base",
            "_model_module_version": "1.2.0",
            "_model_name": "LayoutModel",
            "_view_count": null,
            "_view_module": "@jupyter-widgets/base",
            "_view_module_version": "1.2.0",
            "_view_name": "LayoutView",
            "align_content": null,
            "align_items": null,
            "align_self": null,
            "border": null,
            "bottom": null,
            "display": null,
            "flex": null,
            "flex_flow": null,
            "grid_area": null,
            "grid_auto_columns": null,
            "grid_auto_flow": null,
            "grid_auto_rows": null,
            "grid_column": null,
            "grid_gap": null,
            "grid_row": null,
            "grid_template_areas": null,
            "grid_template_columns": null,
            "grid_template_rows": null,
            "height": null,
            "justify_content": null,
            "justify_items": null,
            "left": null,
            "margin": null,
            "max_height": null,
            "max_width": null,
            "min_height": null,
            "min_width": null,
            "object_fit": null,
            "object_position": null,
            "order": null,
            "overflow": null,
            "overflow_x": null,
            "overflow_y": null,
            "padding": null,
            "right": null,
            "top": null,
            "visibility": null,
            "width": null
          }
        },
        "59e167f101bf4b32881cf2e87e180030": {
          "model_module": "@jupyter-widgets/controls",
          "model_name": "DescriptionStyleModel",
          "model_module_version": "1.5.0",
          "state": {
            "_model_module": "@jupyter-widgets/controls",
            "_model_module_version": "1.5.0",
            "_model_name": "DescriptionStyleModel",
            "_view_count": null,
            "_view_module": "@jupyter-widgets/base",
            "_view_module_version": "1.2.0",
            "_view_name": "StyleView",
            "description_width": ""
          }
        },
        "d1ba5bd5fded4ff680dfebe7cb833bfc": {
          "model_module": "@jupyter-widgets/base",
          "model_name": "LayoutModel",
          "model_module_version": "1.2.0",
          "state": {
            "_model_module": "@jupyter-widgets/base",
            "_model_module_version": "1.2.0",
            "_model_name": "LayoutModel",
            "_view_count": null,
            "_view_module": "@jupyter-widgets/base",
            "_view_module_version": "1.2.0",
            "_view_name": "LayoutView",
            "align_content": null,
            "align_items": null,
            "align_self": null,
            "border": null,
            "bottom": null,
            "display": null,
            "flex": null,
            "flex_flow": null,
            "grid_area": null,
            "grid_auto_columns": null,
            "grid_auto_flow": null,
            "grid_auto_rows": null,
            "grid_column": null,
            "grid_gap": null,
            "grid_row": null,
            "grid_template_areas": null,
            "grid_template_columns": null,
            "grid_template_rows": null,
            "height": null,
            "justify_content": null,
            "justify_items": null,
            "left": null,
            "margin": null,
            "max_height": null,
            "max_width": null,
            "min_height": null,
            "min_width": null,
            "object_fit": null,
            "object_position": null,
            "order": null,
            "overflow": null,
            "overflow_x": null,
            "overflow_y": null,
            "padding": null,
            "right": null,
            "top": null,
            "visibility": null,
            "width": null
          }
        },
        "03af9d114b44463eaac4b45ea89ec5ce": {
          "model_module": "@jupyter-widgets/controls",
          "model_name": "ProgressStyleModel",
          "model_module_version": "1.5.0",
          "state": {
            "_model_module": "@jupyter-widgets/controls",
            "_model_module_version": "1.5.0",
            "_model_name": "ProgressStyleModel",
            "_view_count": null,
            "_view_module": "@jupyter-widgets/base",
            "_view_module_version": "1.2.0",
            "_view_name": "StyleView",
            "bar_color": null,
            "description_width": ""
          }
        },
        "3b157eeb42ca4cb48180da1f6b55d0d5": {
          "model_module": "@jupyter-widgets/base",
          "model_name": "LayoutModel",
          "model_module_version": "1.2.0",
          "state": {
            "_model_module": "@jupyter-widgets/base",
            "_model_module_version": "1.2.0",
            "_model_name": "LayoutModel",
            "_view_count": null,
            "_view_module": "@jupyter-widgets/base",
            "_view_module_version": "1.2.0",
            "_view_name": "LayoutView",
            "align_content": null,
            "align_items": null,
            "align_self": null,
            "border": null,
            "bottom": null,
            "display": null,
            "flex": null,
            "flex_flow": null,
            "grid_area": null,
            "grid_auto_columns": null,
            "grid_auto_flow": null,
            "grid_auto_rows": null,
            "grid_column": null,
            "grid_gap": null,
            "grid_row": null,
            "grid_template_areas": null,
            "grid_template_columns": null,
            "grid_template_rows": null,
            "height": null,
            "justify_content": null,
            "justify_items": null,
            "left": null,
            "margin": null,
            "max_height": null,
            "max_width": null,
            "min_height": null,
            "min_width": null,
            "object_fit": null,
            "object_position": null,
            "order": null,
            "overflow": null,
            "overflow_x": null,
            "overflow_y": null,
            "padding": null,
            "right": null,
            "top": null,
            "visibility": null,
            "width": null
          }
        },
        "94681daeded64c508699f6c8fd1f7cf0": {
          "model_module": "@jupyter-widgets/controls",
          "model_name": "DescriptionStyleModel",
          "model_module_version": "1.5.0",
          "state": {
            "_model_module": "@jupyter-widgets/controls",
            "_model_module_version": "1.5.0",
            "_model_name": "DescriptionStyleModel",
            "_view_count": null,
            "_view_module": "@jupyter-widgets/base",
            "_view_module_version": "1.2.0",
            "_view_name": "StyleView",
            "description_width": ""
          }
        },
        "f354034ce34f45bb847623fca3bc71e2": {
          "model_module": "@jupyter-widgets/controls",
          "model_name": "HBoxModel",
          "model_module_version": "1.5.0",
          "state": {
            "_dom_classes": [],
            "_model_module": "@jupyter-widgets/controls",
            "_model_module_version": "1.5.0",
            "_model_name": "HBoxModel",
            "_view_count": null,
            "_view_module": "@jupyter-widgets/controls",
            "_view_module_version": "1.5.0",
            "_view_name": "HBoxView",
            "box_style": "",
            "children": [
              "IPY_MODEL_37f518dda5be40ef82eb04ef9d197359",
              "IPY_MODEL_de71936e26dd445cade775c402233267",
              "IPY_MODEL_6c7d7572429d403d8ac6c1ef1ea55aca"
            ],
            "layout": "IPY_MODEL_b8d4c99517ad4240a5fa49a9f39e7977"
          }
        },
        "37f518dda5be40ef82eb04ef9d197359": {
          "model_module": "@jupyter-widgets/controls",
          "model_name": "HTMLModel",
          "model_module_version": "1.5.0",
          "state": {
            "_dom_classes": [],
            "_model_module": "@jupyter-widgets/controls",
            "_model_module_version": "1.5.0",
            "_model_name": "HTMLModel",
            "_view_count": null,
            "_view_module": "@jupyter-widgets/controls",
            "_view_module_version": "1.5.0",
            "_view_name": "HTMLView",
            "description": "",
            "description_tooltip": null,
            "layout": "IPY_MODEL_af08a33ec38b4d07a8d1433110b4b34d",
            "placeholder": "​",
            "style": "IPY_MODEL_0e77d4fb667c46f18c3c8f5bf1df1928",
            "value": "Downloading: 100%"
          }
        },
        "de71936e26dd445cade775c402233267": {
          "model_module": "@jupyter-widgets/controls",
          "model_name": "FloatProgressModel",
          "model_module_version": "1.5.0",
          "state": {
            "_dom_classes": [],
            "_model_module": "@jupyter-widgets/controls",
            "_model_module_version": "1.5.0",
            "_model_name": "FloatProgressModel",
            "_view_count": null,
            "_view_module": "@jupyter-widgets/controls",
            "_view_module_version": "1.5.0",
            "_view_name": "ProgressView",
            "bar_style": "success",
            "description": "",
            "description_tooltip": null,
            "layout": "IPY_MODEL_a54b34a465d54606a4205a006cb1615e",
            "max": 435797,
            "min": 0,
            "orientation": "horizontal",
            "style": "IPY_MODEL_08432b4f80624a9dba0d679c30d66ae4",
            "value": 435797
          }
        },
        "6c7d7572429d403d8ac6c1ef1ea55aca": {
          "model_module": "@jupyter-widgets/controls",
          "model_name": "HTMLModel",
          "model_module_version": "1.5.0",
          "state": {
            "_dom_classes": [],
            "_model_module": "@jupyter-widgets/controls",
            "_model_module_version": "1.5.0",
            "_model_name": "HTMLModel",
            "_view_count": null,
            "_view_module": "@jupyter-widgets/controls",
            "_view_module_version": "1.5.0",
            "_view_name": "HTMLView",
            "description": "",
            "description_tooltip": null,
            "layout": "IPY_MODEL_f61091f094774f3f9a5d7c11bfd00595",
            "placeholder": "​",
            "style": "IPY_MODEL_4a5f70029a7c456da60f535b3e289d72",
            "value": " 426k/426k [00:00&lt;00:00, 1.34MB/s]"
          }
        },
        "b8d4c99517ad4240a5fa49a9f39e7977": {
          "model_module": "@jupyter-widgets/base",
          "model_name": "LayoutModel",
          "model_module_version": "1.2.0",
          "state": {
            "_model_module": "@jupyter-widgets/base",
            "_model_module_version": "1.2.0",
            "_model_name": "LayoutModel",
            "_view_count": null,
            "_view_module": "@jupyter-widgets/base",
            "_view_module_version": "1.2.0",
            "_view_name": "LayoutView",
            "align_content": null,
            "align_items": null,
            "align_self": null,
            "border": null,
            "bottom": null,
            "display": null,
            "flex": null,
            "flex_flow": null,
            "grid_area": null,
            "grid_auto_columns": null,
            "grid_auto_flow": null,
            "grid_auto_rows": null,
            "grid_column": null,
            "grid_gap": null,
            "grid_row": null,
            "grid_template_areas": null,
            "grid_template_columns": null,
            "grid_template_rows": null,
            "height": null,
            "justify_content": null,
            "justify_items": null,
            "left": null,
            "margin": null,
            "max_height": null,
            "max_width": null,
            "min_height": null,
            "min_width": null,
            "object_fit": null,
            "object_position": null,
            "order": null,
            "overflow": null,
            "overflow_x": null,
            "overflow_y": null,
            "padding": null,
            "right": null,
            "top": null,
            "visibility": null,
            "width": null
          }
        },
        "af08a33ec38b4d07a8d1433110b4b34d": {
          "model_module": "@jupyter-widgets/base",
          "model_name": "LayoutModel",
          "model_module_version": "1.2.0",
          "state": {
            "_model_module": "@jupyter-widgets/base",
            "_model_module_version": "1.2.0",
            "_model_name": "LayoutModel",
            "_view_count": null,
            "_view_module": "@jupyter-widgets/base",
            "_view_module_version": "1.2.0",
            "_view_name": "LayoutView",
            "align_content": null,
            "align_items": null,
            "align_self": null,
            "border": null,
            "bottom": null,
            "display": null,
            "flex": null,
            "flex_flow": null,
            "grid_area": null,
            "grid_auto_columns": null,
            "grid_auto_flow": null,
            "grid_auto_rows": null,
            "grid_column": null,
            "grid_gap": null,
            "grid_row": null,
            "grid_template_areas": null,
            "grid_template_columns": null,
            "grid_template_rows": null,
            "height": null,
            "justify_content": null,
            "justify_items": null,
            "left": null,
            "margin": null,
            "max_height": null,
            "max_width": null,
            "min_height": null,
            "min_width": null,
            "object_fit": null,
            "object_position": null,
            "order": null,
            "overflow": null,
            "overflow_x": null,
            "overflow_y": null,
            "padding": null,
            "right": null,
            "top": null,
            "visibility": null,
            "width": null
          }
        },
        "0e77d4fb667c46f18c3c8f5bf1df1928": {
          "model_module": "@jupyter-widgets/controls",
          "model_name": "DescriptionStyleModel",
          "model_module_version": "1.5.0",
          "state": {
            "_model_module": "@jupyter-widgets/controls",
            "_model_module_version": "1.5.0",
            "_model_name": "DescriptionStyleModel",
            "_view_count": null,
            "_view_module": "@jupyter-widgets/base",
            "_view_module_version": "1.2.0",
            "_view_name": "StyleView",
            "description_width": ""
          }
        },
        "a54b34a465d54606a4205a006cb1615e": {
          "model_module": "@jupyter-widgets/base",
          "model_name": "LayoutModel",
          "model_module_version": "1.2.0",
          "state": {
            "_model_module": "@jupyter-widgets/base",
            "_model_module_version": "1.2.0",
            "_model_name": "LayoutModel",
            "_view_count": null,
            "_view_module": "@jupyter-widgets/base",
            "_view_module_version": "1.2.0",
            "_view_name": "LayoutView",
            "align_content": null,
            "align_items": null,
            "align_self": null,
            "border": null,
            "bottom": null,
            "display": null,
            "flex": null,
            "flex_flow": null,
            "grid_area": null,
            "grid_auto_columns": null,
            "grid_auto_flow": null,
            "grid_auto_rows": null,
            "grid_column": null,
            "grid_gap": null,
            "grid_row": null,
            "grid_template_areas": null,
            "grid_template_columns": null,
            "grid_template_rows": null,
            "height": null,
            "justify_content": null,
            "justify_items": null,
            "left": null,
            "margin": null,
            "max_height": null,
            "max_width": null,
            "min_height": null,
            "min_width": null,
            "object_fit": null,
            "object_position": null,
            "order": null,
            "overflow": null,
            "overflow_x": null,
            "overflow_y": null,
            "padding": null,
            "right": null,
            "top": null,
            "visibility": null,
            "width": null
          }
        },
        "08432b4f80624a9dba0d679c30d66ae4": {
          "model_module": "@jupyter-widgets/controls",
          "model_name": "ProgressStyleModel",
          "model_module_version": "1.5.0",
          "state": {
            "_model_module": "@jupyter-widgets/controls",
            "_model_module_version": "1.5.0",
            "_model_name": "ProgressStyleModel",
            "_view_count": null,
            "_view_module": "@jupyter-widgets/base",
            "_view_module_version": "1.2.0",
            "_view_name": "StyleView",
            "bar_color": null,
            "description_width": ""
          }
        },
        "f61091f094774f3f9a5d7c11bfd00595": {
          "model_module": "@jupyter-widgets/base",
          "model_name": "LayoutModel",
          "model_module_version": "1.2.0",
          "state": {
            "_model_module": "@jupyter-widgets/base",
            "_model_module_version": "1.2.0",
            "_model_name": "LayoutModel",
            "_view_count": null,
            "_view_module": "@jupyter-widgets/base",
            "_view_module_version": "1.2.0",
            "_view_name": "LayoutView",
            "align_content": null,
            "align_items": null,
            "align_self": null,
            "border": null,
            "bottom": null,
            "display": null,
            "flex": null,
            "flex_flow": null,
            "grid_area": null,
            "grid_auto_columns": null,
            "grid_auto_flow": null,
            "grid_auto_rows": null,
            "grid_column": null,
            "grid_gap": null,
            "grid_row": null,
            "grid_template_areas": null,
            "grid_template_columns": null,
            "grid_template_rows": null,
            "height": null,
            "justify_content": null,
            "justify_items": null,
            "left": null,
            "margin": null,
            "max_height": null,
            "max_width": null,
            "min_height": null,
            "min_width": null,
            "object_fit": null,
            "object_position": null,
            "order": null,
            "overflow": null,
            "overflow_x": null,
            "overflow_y": null,
            "padding": null,
            "right": null,
            "top": null,
            "visibility": null,
            "width": null
          }
        },
        "4a5f70029a7c456da60f535b3e289d72": {
          "model_module": "@jupyter-widgets/controls",
          "model_name": "DescriptionStyleModel",
          "model_module_version": "1.5.0",
          "state": {
            "_model_module": "@jupyter-widgets/controls",
            "_model_module_version": "1.5.0",
            "_model_name": "DescriptionStyleModel",
            "_view_count": null,
            "_view_module": "@jupyter-widgets/base",
            "_view_module_version": "1.2.0",
            "_view_name": "StyleView",
            "description_width": ""
          }
        },
        "2e45db37187f42578756f72772be94fc": {
          "model_module": "@jupyter-widgets/controls",
          "model_name": "HBoxModel",
          "model_module_version": "1.5.0",
          "state": {
            "_dom_classes": [],
            "_model_module": "@jupyter-widgets/controls",
            "_model_module_version": "1.5.0",
            "_model_name": "HBoxModel",
            "_view_count": null,
            "_view_module": "@jupyter-widgets/controls",
            "_view_module_version": "1.5.0",
            "_view_name": "HBoxView",
            "box_style": "",
            "children": [
              "IPY_MODEL_e435e4a54595487a97cd231d9a1d0f22",
              "IPY_MODEL_3a8fa1a279ae4069a17b4b6efbec732d",
              "IPY_MODEL_3099891a5caf49b8bf5f7a49c907808f"
            ],
            "layout": "IPY_MODEL_7c37527907c047a8846ee6716cdffcc7"
          }
        },
        "e435e4a54595487a97cd231d9a1d0f22": {
          "model_module": "@jupyter-widgets/controls",
          "model_name": "HTMLModel",
          "model_module_version": "1.5.0",
          "state": {
            "_dom_classes": [],
            "_model_module": "@jupyter-widgets/controls",
            "_model_module_version": "1.5.0",
            "_model_name": "HTMLModel",
            "_view_count": null,
            "_view_module": "@jupyter-widgets/controls",
            "_view_module_version": "1.5.0",
            "_view_name": "HTMLView",
            "description": "",
            "description_tooltip": null,
            "layout": "IPY_MODEL_33c7ab6f0c3240198be28fac8d5c6879",
            "placeholder": "​",
            "style": "IPY_MODEL_dbadad032d20469c80e5c893e799907b",
            "value": "Downloading: 100%"
          }
        },
        "3a8fa1a279ae4069a17b4b6efbec732d": {
          "model_module": "@jupyter-widgets/controls",
          "model_name": "FloatProgressModel",
          "model_module_version": "1.5.0",
          "state": {
            "_dom_classes": [],
            "_model_module": "@jupyter-widgets/controls",
            "_model_module_version": "1.5.0",
            "_model_name": "FloatProgressModel",
            "_view_count": null,
            "_view_module": "@jupyter-widgets/controls",
            "_view_module_version": "1.5.0",
            "_view_name": "ProgressView",
            "bar_style": "success",
            "description": "",
            "description_tooltip": null,
            "layout": "IPY_MODEL_2fc21862585c464f914f88af2033ff3e",
            "max": 435779157,
            "min": 0,
            "orientation": "horizontal",
            "style": "IPY_MODEL_0bc6728c4aa145abbe64a6637b24661d",
            "value": 435779157
          }
        },
        "3099891a5caf49b8bf5f7a49c907808f": {
          "model_module": "@jupyter-widgets/controls",
          "model_name": "HTMLModel",
          "model_module_version": "1.5.0",
          "state": {
            "_dom_classes": [],
            "_model_module": "@jupyter-widgets/controls",
            "_model_module_version": "1.5.0",
            "_model_name": "HTMLModel",
            "_view_count": null,
            "_view_module": "@jupyter-widgets/controls",
            "_view_module_version": "1.5.0",
            "_view_name": "HTMLView",
            "description": "",
            "description_tooltip": null,
            "layout": "IPY_MODEL_64bd506d9a054f3cafb3e2f8575ee370",
            "placeholder": "​",
            "style": "IPY_MODEL_d8cd6be3843b48939855fbf7cdb00a17",
            "value": " 416M/416M [00:08&lt;00:00, 56.1MB/s]"
          }
        },
        "7c37527907c047a8846ee6716cdffcc7": {
          "model_module": "@jupyter-widgets/base",
          "model_name": "LayoutModel",
          "model_module_version": "1.2.0",
          "state": {
            "_model_module": "@jupyter-widgets/base",
            "_model_module_version": "1.2.0",
            "_model_name": "LayoutModel",
            "_view_count": null,
            "_view_module": "@jupyter-widgets/base",
            "_view_module_version": "1.2.0",
            "_view_name": "LayoutView",
            "align_content": null,
            "align_items": null,
            "align_self": null,
            "border": null,
            "bottom": null,
            "display": null,
            "flex": null,
            "flex_flow": null,
            "grid_area": null,
            "grid_auto_columns": null,
            "grid_auto_flow": null,
            "grid_auto_rows": null,
            "grid_column": null,
            "grid_gap": null,
            "grid_row": null,
            "grid_template_areas": null,
            "grid_template_columns": null,
            "grid_template_rows": null,
            "height": null,
            "justify_content": null,
            "justify_items": null,
            "left": null,
            "margin": null,
            "max_height": null,
            "max_width": null,
            "min_height": null,
            "min_width": null,
            "object_fit": null,
            "object_position": null,
            "order": null,
            "overflow": null,
            "overflow_x": null,
            "overflow_y": null,
            "padding": null,
            "right": null,
            "top": null,
            "visibility": null,
            "width": null
          }
        },
        "33c7ab6f0c3240198be28fac8d5c6879": {
          "model_module": "@jupyter-widgets/base",
          "model_name": "LayoutModel",
          "model_module_version": "1.2.0",
          "state": {
            "_model_module": "@jupyter-widgets/base",
            "_model_module_version": "1.2.0",
            "_model_name": "LayoutModel",
            "_view_count": null,
            "_view_module": "@jupyter-widgets/base",
            "_view_module_version": "1.2.0",
            "_view_name": "LayoutView",
            "align_content": null,
            "align_items": null,
            "align_self": null,
            "border": null,
            "bottom": null,
            "display": null,
            "flex": null,
            "flex_flow": null,
            "grid_area": null,
            "grid_auto_columns": null,
            "grid_auto_flow": null,
            "grid_auto_rows": null,
            "grid_column": null,
            "grid_gap": null,
            "grid_row": null,
            "grid_template_areas": null,
            "grid_template_columns": null,
            "grid_template_rows": null,
            "height": null,
            "justify_content": null,
            "justify_items": null,
            "left": null,
            "margin": null,
            "max_height": null,
            "max_width": null,
            "min_height": null,
            "min_width": null,
            "object_fit": null,
            "object_position": null,
            "order": null,
            "overflow": null,
            "overflow_x": null,
            "overflow_y": null,
            "padding": null,
            "right": null,
            "top": null,
            "visibility": null,
            "width": null
          }
        },
        "dbadad032d20469c80e5c893e799907b": {
          "model_module": "@jupyter-widgets/controls",
          "model_name": "DescriptionStyleModel",
          "model_module_version": "1.5.0",
          "state": {
            "_model_module": "@jupyter-widgets/controls",
            "_model_module_version": "1.5.0",
            "_model_name": "DescriptionStyleModel",
            "_view_count": null,
            "_view_module": "@jupyter-widgets/base",
            "_view_module_version": "1.2.0",
            "_view_name": "StyleView",
            "description_width": ""
          }
        },
        "2fc21862585c464f914f88af2033ff3e": {
          "model_module": "@jupyter-widgets/base",
          "model_name": "LayoutModel",
          "model_module_version": "1.2.0",
          "state": {
            "_model_module": "@jupyter-widgets/base",
            "_model_module_version": "1.2.0",
            "_model_name": "LayoutModel",
            "_view_count": null,
            "_view_module": "@jupyter-widgets/base",
            "_view_module_version": "1.2.0",
            "_view_name": "LayoutView",
            "align_content": null,
            "align_items": null,
            "align_self": null,
            "border": null,
            "bottom": null,
            "display": null,
            "flex": null,
            "flex_flow": null,
            "grid_area": null,
            "grid_auto_columns": null,
            "grid_auto_flow": null,
            "grid_auto_rows": null,
            "grid_column": null,
            "grid_gap": null,
            "grid_row": null,
            "grid_template_areas": null,
            "grid_template_columns": null,
            "grid_template_rows": null,
            "height": null,
            "justify_content": null,
            "justify_items": null,
            "left": null,
            "margin": null,
            "max_height": null,
            "max_width": null,
            "min_height": null,
            "min_width": null,
            "object_fit": null,
            "object_position": null,
            "order": null,
            "overflow": null,
            "overflow_x": null,
            "overflow_y": null,
            "padding": null,
            "right": null,
            "top": null,
            "visibility": null,
            "width": null
          }
        },
        "0bc6728c4aa145abbe64a6637b24661d": {
          "model_module": "@jupyter-widgets/controls",
          "model_name": "ProgressStyleModel",
          "model_module_version": "1.5.0",
          "state": {
            "_model_module": "@jupyter-widgets/controls",
            "_model_module_version": "1.5.0",
            "_model_name": "ProgressStyleModel",
            "_view_count": null,
            "_view_module": "@jupyter-widgets/base",
            "_view_module_version": "1.2.0",
            "_view_name": "StyleView",
            "bar_color": null,
            "description_width": ""
          }
        },
        "64bd506d9a054f3cafb3e2f8575ee370": {
          "model_module": "@jupyter-widgets/base",
          "model_name": "LayoutModel",
          "model_module_version": "1.2.0",
          "state": {
            "_model_module": "@jupyter-widgets/base",
            "_model_module_version": "1.2.0",
            "_model_name": "LayoutModel",
            "_view_count": null,
            "_view_module": "@jupyter-widgets/base",
            "_view_module_version": "1.2.0",
            "_view_name": "LayoutView",
            "align_content": null,
            "align_items": null,
            "align_self": null,
            "border": null,
            "bottom": null,
            "display": null,
            "flex": null,
            "flex_flow": null,
            "grid_area": null,
            "grid_auto_columns": null,
            "grid_auto_flow": null,
            "grid_auto_rows": null,
            "grid_column": null,
            "grid_gap": null,
            "grid_row": null,
            "grid_template_areas": null,
            "grid_template_columns": null,
            "grid_template_rows": null,
            "height": null,
            "justify_content": null,
            "justify_items": null,
            "left": null,
            "margin": null,
            "max_height": null,
            "max_width": null,
            "min_height": null,
            "min_width": null,
            "object_fit": null,
            "object_position": null,
            "order": null,
            "overflow": null,
            "overflow_x": null,
            "overflow_y": null,
            "padding": null,
            "right": null,
            "top": null,
            "visibility": null,
            "width": null
          }
        },
        "d8cd6be3843b48939855fbf7cdb00a17": {
          "model_module": "@jupyter-widgets/controls",
          "model_name": "DescriptionStyleModel",
          "model_module_version": "1.5.0",
          "state": {
            "_model_module": "@jupyter-widgets/controls",
            "_model_module_version": "1.5.0",
            "_model_name": "DescriptionStyleModel",
            "_view_count": null,
            "_view_module": "@jupyter-widgets/base",
            "_view_module_version": "1.2.0",
            "_view_name": "StyleView",
            "description_width": ""
          }
        }
      }
    }
  },
  "nbformat": 4,
  "nbformat_minor": 0
}