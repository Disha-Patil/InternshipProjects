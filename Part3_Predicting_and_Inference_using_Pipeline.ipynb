{
  "cells": [
    {
      "cell_type": "markdown",
      "metadata": {
        "id": "i2QZTFrideJt"
      },
      "source": [
        "# About the Data\n",
        "\n",
        "* The data was taken from \n",
        "the csv file complaints.csv\n",
        "\n",
        "* The complaints are for the products:<br>\n",
        "\n",
        "  1. Banking Services\n",
        "  2. Card Services\n",
        "  3. Credit Reporting\n",
        "  4. Debt Collection\n",
        "  5. Loans\n",
        "  6. Mortgage\n",
        "\n",
        "* The test data with 6000 entries was used to evaluate the model’s performance.\n",
        "\n",
        "* The macro-averaged f1-score on the test data is 0.87\n",
        "\n",
        "\n",
        "\n"
      ]
    },
    {
      "cell_type": "markdown",
      "metadata": {
        "id": "n32fAS-8dj8w"
      },
      "source": [
        "#Fine Tuning DistilBERT model for text classification\n",
        "\n",
        "* The model was trained on 5 epochs and the learning rate was set at 1e-5 and batch size 32\n",
        "\n",
        "* Total time taken to create the dataframe with top 3 rank of predictions in the test data is : 0:36:05 (h:mm:ss)\n",
        "\n",
        " Data Split:<br>\n",
        "      -Training data: 48000 (80 percent)\n",
        "      -Validation data: 6000 (10 percent)\n",
        "      -Test Data :  6000 (10 percent)\n",
        "\n",
        "\n",
        "* Macro-averaged f1-score<br>\n",
        "      -Training data: 0.89\n",
        "      -Validation data: 0.85\n",
        "      -Testing data: 0.87 \n",
        "\n",
        "* Fine-tuning was done on the sample data of 60000 entries\n"
      ]
    },
    {
      "cell_type": "markdown",
      "source": [
        "##Memory Allocated"
      ],
      "metadata": {
        "id": "78W_jqfK0KKW"
      }
    },
    {
      "cell_type": "code",
      "execution_count": null,
      "metadata": {
        "colab": {
          "base_uri": "https://localhost:8080/"
        },
        "id": "YPfyym2ucFwG",
        "outputId": "f8d4c4bf-0796-4395-8caa-6afa84adefef"
      },
      "outputs": [
        {
          "output_type": "stream",
          "name": "stdout",
          "text": [
            "13G\n"
          ]
        }
      ],
      "source": [
        "!free -h --si | awk  '/Mem:/{print $2}'"
      ]
    },
    {
      "cell_type": "markdown",
      "metadata": {
        "id": "YL1zyJ4CfAY7"
      },
      "source": [
        "##Google Drive access"
      ]
    },
    {
      "cell_type": "code",
      "execution_count": null,
      "metadata": {
        "colab": {
          "base_uri": "https://localhost:8080/"
        },
        "id": "WHOpy9PhfA8w",
        "outputId": "22a00ab6-9f81-4f2a-a73b-8631e611b537"
      },
      "outputs": [
        {
          "output_type": "stream",
          "name": "stdout",
          "text": [
            "Mounted at /content/drive\n"
          ]
        }
      ],
      "source": [
        "from google.colab import drive\n",
        "drive.mount('/content/drive')"
      ]
    },
    {
      "cell_type": "markdown",
      "metadata": {
        "id": "udsgVUHAdWJ5"
      },
      "source": [
        "# Data Path"
      ]
    },
    {
      "cell_type": "code",
      "execution_count": null,
      "metadata": {
        "id": "Sh5OBPevdBRe"
      },
      "outputs": [],
      "source": [
        "# write the appropriate paths to retrieve the data and store results \n",
        "saved_path = '/content/drive/MyDrive/EY_Internship/Consumer_Complaints/'\n",
        "used_test_data_path = saved_path  + \"Test_data_DistilBERT.csv\""
      ]
    },
    {
      "cell_type": "markdown",
      "metadata": {
        "id": "zP5826T8eAnH"
      },
      "source": [
        "## Set-up environment\n",
        "\n",
        "Install the libraries HuggingFace Transformers and Datasets"
      ]
    },
    {
      "cell_type": "code",
      "execution_count": null,
      "metadata": {
        "colab": {
          "base_uri": "https://localhost:8080/"
        },
        "id": "Cdlk74ZleAHB",
        "outputId": "fb0f46df-9f4c-422c-910e-0ce1033ee884"
      },
      "outputs": [
        {
          "output_type": "stream",
          "name": "stdout",
          "text": [
            "\u001b[?25l\r\u001b[K     |████▊                           | 10 kB 26.4 MB/s eta 0:00:01\r\u001b[K     |█████████▍                      | 20 kB 9.8 MB/s eta 0:00:01\r\u001b[K     |██████████████                  | 30 kB 7.7 MB/s eta 0:00:01\r\u001b[K     |██████████████████▊             | 40 kB 7.4 MB/s eta 0:00:01\r\u001b[K     |███████████████████████▍        | 51 kB 4.4 MB/s eta 0:00:01\r\u001b[K     |████████████████████████████    | 61 kB 5.2 MB/s eta 0:00:01\r\u001b[K     |████████████████████████████████| 69 kB 3.5 MB/s \n",
            "\u001b[?25h  Building wheel for folium (setup.py) ... \u001b[?25l\u001b[?25hdone\n",
            "\u001b[K     |████████████████████████████████| 4.2 MB 5.2 MB/s \n",
            "\u001b[K     |████████████████████████████████| 342 kB 41.6 MB/s \n",
            "\u001b[K     |████████████████████████████████| 596 kB 47.7 MB/s \n",
            "\u001b[K     |████████████████████████████████| 6.6 MB 52.3 MB/s \n",
            "\u001b[K     |████████████████████████████████| 84 kB 3.1 MB/s \n",
            "\u001b[K     |████████████████████████████████| 212 kB 69.9 MB/s \n",
            "\u001b[K     |████████████████████████████████| 1.1 MB 48.5 MB/s \n",
            "\u001b[K     |████████████████████████████████| 136 kB 61.2 MB/s \n",
            "\u001b[K     |████████████████████████████████| 127 kB 58.5 MB/s \n",
            "\u001b[K     |████████████████████████████████| 144 kB 58.9 MB/s \n",
            "\u001b[K     |████████████████████████████████| 94 kB 3.4 MB/s \n",
            "\u001b[K     |████████████████████████████████| 271 kB 60.5 MB/s \n",
            "\u001b[?25h"
          ]
        }
      ],
      "source": [
        "#Install HuggingFace tranformer and datasets libraries  \n",
        "!pip install folium==0.2.1 -q\n",
        "!pip install -q transformers datasets "
      ]
    },
    {
      "cell_type": "code",
      "execution_count": null,
      "metadata": {
        "colab": {
          "base_uri": "https://localhost:8080/"
        },
        "id": "ohB0CZ-0ejcG",
        "outputId": "2459c89c-ec6c-4f85-9457-7e40c322d7b3"
      },
      "outputs": [
        {
          "output_type": "stream",
          "name": "stdout",
          "text": [
            "cpu is available\n"
          ]
        }
      ],
      "source": [
        "#Check if GPU is available\n",
        "import torch\n",
        "device = \"cuda:0\" if torch.cuda.is_available() else \"cpu\"\n",
        "print(device, \"is available\")"
      ]
    },
    {
      "cell_type": "markdown",
      "metadata": {
        "id": "r962v9Yresgf"
      },
      "source": [
        "## Loading the Dataset"
      ]
    },
    {
      "cell_type": "code",
      "execution_count": null,
      "metadata": {
        "colab": {
          "base_uri": "https://localhost:8080/"
        },
        "id": "Fjhi7JI1erXN",
        "outputId": "8013e95b-bd0e-4d23-8515-18edc747b9b5"
      },
      "outputs": [
        {
          "output_type": "stream",
          "name": "stdout",
          "text": [
            "<class 'pandas.core.frame.DataFrame'>\n",
            "RangeIndex: 6000 entries, 0 to 5999\n",
            "Data columns (total 2 columns):\n",
            " #   Column    Non-Null Count  Dtype \n",
            "---  ------    --------------  ----- \n",
            " 0   sentence  6000 non-null   object\n",
            " 1   label     6000 non-null   object\n",
            "dtypes: object(2)\n",
            "memory usage: 93.9+ KB\n"
          ]
        }
      ],
      "source": [
        "#Load the data\n",
        "import pandas as pd\n",
        "test_data_df = pd.read_csv(used_test_data_path)\n",
        "test_data_df.info()"
      ]
    },
    {
      "cell_type": "markdown",
      "metadata": {
        "id": "yttlPWjStb6K"
      },
      "source": [
        "Example"
      ]
    },
    {
      "cell_type": "code",
      "execution_count": null,
      "metadata": {
        "colab": {
          "base_uri": "https://localhost:8080/",
          "height": 36
        },
        "id": "RFYBVUTrp0Am",
        "outputId": "afc0f283-a7d8-4638-d0d7-fa19531c8827"
      },
      "outputs": [
        {
          "output_type": "execute_result",
          "data": {
            "text/plain": [
              "'and experian have violated my rights by reporting this incorrect account that dont belong on my credit report i have written these companies times and i havent seen or received any updates this is unfair that i have to deal with this matter and they wont resolve this issue'"
            ],
            "application/vnd.google.colaboratory.intrinsic+json": {
              "type": "string"
            }
          },
          "metadata": {},
          "execution_count": 8
        }
      ],
      "source": [
        "test_data_df.loc[0,'sentence']"
      ]
    },
    {
      "cell_type": "code",
      "execution_count": null,
      "metadata": {
        "colab": {
          "base_uri": "https://localhost:8080/",
          "height": 36
        },
        "id": "KDzSIjeyezwy",
        "outputId": "86ae868a-8ae8-4364-8c9e-492931b78ee0"
      },
      "outputs": [
        {
          "output_type": "execute_result",
          "data": {
            "text/plain": [
              "'Credit Reporting'"
            ],
            "application/vnd.google.colaboratory.intrinsic+json": {
              "type": "string"
            }
          },
          "metadata": {},
          "execution_count": 9
        }
      ],
      "source": [
        "test_data_df.loc[0,'label']"
      ]
    },
    {
      "cell_type": "code",
      "execution_count": null,
      "metadata": {
        "id": "CC7siQgaibti"
      },
      "outputs": [],
      "source": [
        "#Import the librarires required for the function get_top3_rank\n",
        "import torch\n",
        "import transformers\n",
        "from datasets import load_dataset\n",
        "from transformers import AutoTokenizer\n",
        "from transformers import logging\n",
        "from transformers import AutoModelForSequenceClassification\n",
        "from torch.optim import AdamW \n",
        "from transformers import pipeline\n",
        "import numpy as np\n",
        "import time"
      ]
    },
    {
      "cell_type": "code",
      "execution_count": null,
      "metadata": {
        "id": "qVsE89ZP5EgN"
      },
      "outputs": [],
      "source": [
        "#Create a function for formatting elapsed times as hh:mm:ss\n",
        "import time\n",
        "import datetime\n",
        "\n",
        "def format_time(elapsed):\n",
        "    '''\n",
        "    Takes a time in seconds and returns a string hh:mm:ss\n",
        "    '''\n",
        "    # Round to the nearest second.\n",
        "    elapsed_rounded = int(round((elapsed)))\n",
        "    \n",
        "    # Format as hh:mm:ss\n",
        "    return str(datetime.timedelta(seconds=elapsed_rounded))"
      ]
    },
    {
      "cell_type": "code",
      "execution_count": null,
      "metadata": {
        "id": "J8qwYERud439"
      },
      "outputs": [],
      "source": [
        "def get_top3_rank(df,column_name):\n",
        "  \"\"\"\n",
        "  df: the input dataframe containg text\n",
        "  column_name : the text column containg the input text\n",
        "  the function get_top3_rank outputs rank_df the dataframe that contains the top 3 ranks\n",
        "  \"\"\"\n",
        "  ############################################################################################################\n",
        "  #Function to create DistilBERT pipeline\n",
        "  ############################################################################################################\n",
        "  def get_rank_dataframe(df,column_name):\n",
        "    \"\"\"\n",
        "    df: the input dataframe containg text\n",
        "    column_name : the text column containg the input text\n",
        "    the function get_rank_dataframe returns the dataframe with top3 ranks\n",
        "    \"\"\"\n",
        "    ############################################################################################################\n",
        "    #Check if GPU is Available or not\n",
        "    ############################################################################################################\n",
        "    device = \"cuda:0\" if torch.cuda.is_available() else \"cpu\"\n",
        "    ############################################################################################################\n",
        "    #Write the appropriate paths to retrieve the data \n",
        "    ############################################################################################################\n",
        "    user_path = '/content/drive/MyDrive/EY_Internship/Consumer_Complaints/'\n",
        "    best_model_path = user_path + \"best_model.pt\"\n",
        "    label2id_df_path = user_path + \"label2id_df.csv\"\n",
        "    ############################################################################################################\n",
        "    #Create a label2id dictionary to map label and index\n",
        "    ############################################################################################################\n",
        "    labels2id_df = pd.read_csv(label2id_df_path)\n",
        "    labels = labels2id_df.columns.to_list()\n",
        "    ids = [int(i) for i in labels2id_df.loc[0,:]]\n",
        "    id2label = {A: B for A, B in zip(ids, labels)} \n",
        "    label2id = {A: B for A, B in zip(labels,ids)} \n",
        "    labels = list(labels)\n",
        "    ############################################################################################################\n",
        "    #Load the tokenizer\n",
        "    ############################################################################################################\n",
        "    tokenizer = AutoTokenizer.from_pretrained('distilbert-base-uncased',num_labels=len(labels))\n",
        "    logging.set_verbosity_error()\n",
        "    ############################################################################################################\n",
        "    #Load the best model\n",
        "    ############################################################################################################\n",
        "    model_best = AutoModelForSequenceClassification.from_pretrained(\"distilbert-base-uncased\",\n",
        "                                                           num_labels=len(labels),\n",
        "                                                           id2label=id2label,\n",
        "                                                           label2id=label2id)\n",
        "\n",
        "\n",
        "    model_best.to(device)\n",
        "    ############################################################################################################\n",
        "    #SET THE PARAMETERS\n",
        "    fixed_learning_rate = 1e-5\n",
        "    fixed_batch_size = 32\n",
        "    ############################################################################################################\n",
        "    #LOAD THE OPTIMZER\n",
        "    #Optimizer\n",
        "    optimizer_learning_rate = 1e-5\n",
        "    optimizer_adam_epsilon = 1e-8\n",
        "\n",
        "    no_decay = ['bias', 'LayerNorm.weight']\n",
        "    optimizer_grouped_parameters = [\n",
        "        {'params': [p for n, p in model_best.named_parameters() if not any(nd in n for nd in no_decay)],\n",
        "        'weight_decay_rate': 0.2},\n",
        "        {'params': [p for n, p in model_best.named_parameters() if any(nd in n for nd in no_decay)],\n",
        "        'weight_decay_rate': 0.0}\n",
        "    ]\n",
        "\n",
        "    optimizer_best = AdamW(optimizer_grouped_parameters, lr = optimizer_learning_rate, eps=optimizer_adam_epsilon)\n",
        "    ############################################################################################################\n",
        "    # The function load_chkp is created for loading model\n",
        "    def load_ckp(checkpoint_fpath, model, optimizer):\n",
        "      \"\"\"\n",
        "      checkpoint_path: path to save checkpoint\n",
        "      model: model that we want to load checkpoint parameters into       \n",
        "      optimizer: optimizer we defined in previous training\n",
        "      \"\"\"\n",
        "      # load check point\n",
        "      checkpoint = torch.load(checkpoint_fpath,map_location=torch.device('cpu'))\n",
        "      # initialize state_dict from checkpoint to model\n",
        "      model.load_state_dict(checkpoint['state_dict'])\n",
        "      # initialize optimizer from checkpoint to optimizer\n",
        "      optimizer.load_state_dict(checkpoint['optimizer'])\n",
        "      # initialize valid_loss_min from checkpoint to valid_loss_min\n",
        "      valid_loss_min = checkpoint['valid_loss_min']\n",
        "      # return model, optimizer, epoch value, min validation loss \n",
        "      return model, optimizer, checkpoint['epoch'], valid_loss_min\n",
        "\n",
        "    # load the saved checkpoint\n",
        "    model_best, optimizer_best, end_epoch, valid_loss_min = load_ckp(best_model_path, model_best, optimizer_best)\n",
        "    ############################################################################################################\n",
        "    #Get inference from the DistilBERT pipline\n",
        "    ############################################################################################################  \n",
        "    #set the device_value\n",
        "    if device == 'cuda:0':\n",
        "        device_value = 0\n",
        "    else:\n",
        "        device_value =-1\n",
        "\n",
        "     #Create the DistilBERT pipeline\n",
        "    MAX_LENGTH = model_best.config.max_position_embeddings\n",
        "  \n",
        "    distilbert_nlp = pipeline(task=\"sentiment-analysis\", return_all_scores = True, model=model_best, tokenizer=tokenizer,\n",
        "                              device= device_value, max_length = MAX_LENGTH , truncation=True)\n",
        "    ############################################################################################################\n",
        "    #Return the result in a data frame\n",
        "    ############################################################################################################\n",
        "    labels_rank_list=[]\n",
        "    labels_score_list=[]\n",
        "    def get_rank(example,fix_rank = 3):\n",
        "      result_value = distilbert_nlp(example)\n",
        "      sorted_value = sorted(result_value[0], key=lambda k: k['score'],reverse = True)\n",
        "      new_dictionary_label = {'predicted_label_' + str(i+1): sorted_value[i]['label'] for i in range(fix_rank)}\n",
        "      new_dictionary_score = {'predicted_percentage_' + str(i+1): 100 * sorted_value[i]['score'] for i in range(fix_rank)}\n",
        "      labels_rank_list.append(new_dictionary_label)\n",
        "      labels_score_list.append(new_dictionary_score)\n",
        "    df[column_name].map(lambda row : get_rank(row,fix_rank = 3))\n",
        "    list2d_rank = {key: [i[key] for i in labels_rank_list] for key in labels_rank_list[0]}\n",
        "    list2d_score = {key: [i[key] for i in labels_score_list] for key in labels_score_list[0]}\n",
        "    predicted_dataframe = pd.concat([df,pd.DataFrame(list2d_rank),pd.DataFrame(list2d_score)], axis=1)\n",
        "    predicted_dataframe.rename(columns = {'label':'true_label'}, inplace = True)\n",
        "    return predicted_dataframe\n",
        "  start_t0 = time.time()\n",
        "  rank_df = get_rank_dataframe(df,column_name)\n",
        "  print(\"\\nTotal time taken to create the dataframe: {:} (h:mm:ss)\".format(format_time(time.time() - start_t0)))\n",
        "  return rank_df"
      ]
    },
    {
      "cell_type": "code",
      "execution_count": null,
      "metadata": {
        "colab": {
          "base_uri": "https://localhost:8080/"
        },
        "id": "XriWjHJAhFSS",
        "outputId": "6830904a-dd28-4535-d655-70326c8baa41"
      },
      "outputs": [
        {
          "output_type": "stream",
          "name": "stdout",
          "text": [
            "\n",
            "Total time taken to create the dataframe: 0:36:05 (h:mm:ss)\n"
          ]
        }
      ],
      "source": [
        "#Call the function get_top3_rank using the input test_data_df and 'sentence' column in test_data_df to return the dataframe with top 3 rank\n",
        "top3_df = get_top3_rank(test_data_df,'sentence')"
      ]
    },
    {
      "cell_type": "code",
      "execution_count": null,
      "metadata": {
        "id": "4d2Erai0-lK3",
        "colab": {
          "base_uri": "https://localhost:8080/",
          "height": 207
        },
        "outputId": "22ca3711-5d04-451e-a1e5-b2b54a1a0917"
      },
      "outputs": [
        {
          "output_type": "execute_result",
          "data": {
            "text/plain": [
              "                                            sentence        true_label  \\\n",
              "0  and experian have violated my rights by report...  Credit Reporting   \n",
              "1  on i received an email alert from bank of amer...  Banking Services   \n",
              "2  i took out some private student loans from cha...             Loans   \n",
              "3  i had my card data stolen and reported the fra...     Card Services   \n",
              "4  my car got repossessed on and ive bin having i...             Loans   \n",
              "\n",
              "  predicted_label_1 predicted_label_2 predicted_label_3  \\\n",
              "0  Credit Reporting   Debt Collection             Loans   \n",
              "1          Mortgage  Banking Services     Card Services   \n",
              "2             Loans   Debt Collection  Banking Services   \n",
              "3     Card Services  Banking Services   Debt Collection   \n",
              "4             Loans  Banking Services  Credit Reporting   \n",
              "\n",
              "   predicted_percentage_1  predicted_percentage_2  predicted_percentage_3  \n",
              "0               97.940391                1.448661                0.223262  \n",
              "1               49.463087               48.559922                0.569510  \n",
              "2               98.891115                0.613996                0.184167  \n",
              "3               97.770691                1.216126                0.535340  \n",
              "4               65.664756               18.247461                9.622851  "
            ],
            "text/html": [
              "\n",
              "  <div id=\"df-e557d897-1d29-4afd-b7d4-f194908c9abe\">\n",
              "    <div class=\"colab-df-container\">\n",
              "      <div>\n",
              "<style scoped>\n",
              "    .dataframe tbody tr th:only-of-type {\n",
              "        vertical-align: middle;\n",
              "    }\n",
              "\n",
              "    .dataframe tbody tr th {\n",
              "        vertical-align: top;\n",
              "    }\n",
              "\n",
              "    .dataframe thead th {\n",
              "        text-align: right;\n",
              "    }\n",
              "</style>\n",
              "<table border=\"1\" class=\"dataframe\">\n",
              "  <thead>\n",
              "    <tr style=\"text-align: right;\">\n",
              "      <th></th>\n",
              "      <th>sentence</th>\n",
              "      <th>true_label</th>\n",
              "      <th>predicted_label_1</th>\n",
              "      <th>predicted_label_2</th>\n",
              "      <th>predicted_label_3</th>\n",
              "      <th>predicted_percentage_1</th>\n",
              "      <th>predicted_percentage_2</th>\n",
              "      <th>predicted_percentage_3</th>\n",
              "    </tr>\n",
              "  </thead>\n",
              "  <tbody>\n",
              "    <tr>\n",
              "      <th>0</th>\n",
              "      <td>and experian have violated my rights by report...</td>\n",
              "      <td>Credit Reporting</td>\n",
              "      <td>Credit Reporting</td>\n",
              "      <td>Debt Collection</td>\n",
              "      <td>Loans</td>\n",
              "      <td>97.940391</td>\n",
              "      <td>1.448661</td>\n",
              "      <td>0.223262</td>\n",
              "    </tr>\n",
              "    <tr>\n",
              "      <th>1</th>\n",
              "      <td>on i received an email alert from bank of amer...</td>\n",
              "      <td>Banking Services</td>\n",
              "      <td>Mortgage</td>\n",
              "      <td>Banking Services</td>\n",
              "      <td>Card Services</td>\n",
              "      <td>49.463087</td>\n",
              "      <td>48.559922</td>\n",
              "      <td>0.569510</td>\n",
              "    </tr>\n",
              "    <tr>\n",
              "      <th>2</th>\n",
              "      <td>i took out some private student loans from cha...</td>\n",
              "      <td>Loans</td>\n",
              "      <td>Loans</td>\n",
              "      <td>Debt Collection</td>\n",
              "      <td>Banking Services</td>\n",
              "      <td>98.891115</td>\n",
              "      <td>0.613996</td>\n",
              "      <td>0.184167</td>\n",
              "    </tr>\n",
              "    <tr>\n",
              "      <th>3</th>\n",
              "      <td>i had my card data stolen and reported the fra...</td>\n",
              "      <td>Card Services</td>\n",
              "      <td>Card Services</td>\n",
              "      <td>Banking Services</td>\n",
              "      <td>Debt Collection</td>\n",
              "      <td>97.770691</td>\n",
              "      <td>1.216126</td>\n",
              "      <td>0.535340</td>\n",
              "    </tr>\n",
              "    <tr>\n",
              "      <th>4</th>\n",
              "      <td>my car got repossessed on and ive bin having i...</td>\n",
              "      <td>Loans</td>\n",
              "      <td>Loans</td>\n",
              "      <td>Banking Services</td>\n",
              "      <td>Credit Reporting</td>\n",
              "      <td>65.664756</td>\n",
              "      <td>18.247461</td>\n",
              "      <td>9.622851</td>\n",
              "    </tr>\n",
              "  </tbody>\n",
              "</table>\n",
              "</div>\n",
              "      <button class=\"colab-df-convert\" onclick=\"convertToInteractive('df-e557d897-1d29-4afd-b7d4-f194908c9abe')\"\n",
              "              title=\"Convert this dataframe to an interactive table.\"\n",
              "              style=\"display:none;\">\n",
              "        \n",
              "  <svg xmlns=\"http://www.w3.org/2000/svg\" height=\"24px\"viewBox=\"0 0 24 24\"\n",
              "       width=\"24px\">\n",
              "    <path d=\"M0 0h24v24H0V0z\" fill=\"none\"/>\n",
              "    <path d=\"M18.56 5.44l.94 2.06.94-2.06 2.06-.94-2.06-.94-.94-2.06-.94 2.06-2.06.94zm-11 1L8.5 8.5l.94-2.06 2.06-.94-2.06-.94L8.5 2.5l-.94 2.06-2.06.94zm10 10l.94 2.06.94-2.06 2.06-.94-2.06-.94-.94-2.06-.94 2.06-2.06.94z\"/><path d=\"M17.41 7.96l-1.37-1.37c-.4-.4-.92-.59-1.43-.59-.52 0-1.04.2-1.43.59L10.3 9.45l-7.72 7.72c-.78.78-.78 2.05 0 2.83L4 21.41c.39.39.9.59 1.41.59.51 0 1.02-.2 1.41-.59l7.78-7.78 2.81-2.81c.8-.78.8-2.07 0-2.86zM5.41 20L4 18.59l7.72-7.72 1.47 1.35L5.41 20z\"/>\n",
              "  </svg>\n",
              "      </button>\n",
              "      \n",
              "  <style>\n",
              "    .colab-df-container {\n",
              "      display:flex;\n",
              "      flex-wrap:wrap;\n",
              "      gap: 12px;\n",
              "    }\n",
              "\n",
              "    .colab-df-convert {\n",
              "      background-color: #E8F0FE;\n",
              "      border: none;\n",
              "      border-radius: 50%;\n",
              "      cursor: pointer;\n",
              "      display: none;\n",
              "      fill: #1967D2;\n",
              "      height: 32px;\n",
              "      padding: 0 0 0 0;\n",
              "      width: 32px;\n",
              "    }\n",
              "\n",
              "    .colab-df-convert:hover {\n",
              "      background-color: #E2EBFA;\n",
              "      box-shadow: 0px 1px 2px rgba(60, 64, 67, 0.3), 0px 1px 3px 1px rgba(60, 64, 67, 0.15);\n",
              "      fill: #174EA6;\n",
              "    }\n",
              "\n",
              "    [theme=dark] .colab-df-convert {\n",
              "      background-color: #3B4455;\n",
              "      fill: #D2E3FC;\n",
              "    }\n",
              "\n",
              "    [theme=dark] .colab-df-convert:hover {\n",
              "      background-color: #434B5C;\n",
              "      box-shadow: 0px 1px 3px 1px rgba(0, 0, 0, 0.15);\n",
              "      filter: drop-shadow(0px 1px 2px rgba(0, 0, 0, 0.3));\n",
              "      fill: #FFFFFF;\n",
              "    }\n",
              "  </style>\n",
              "\n",
              "      <script>\n",
              "        const buttonEl =\n",
              "          document.querySelector('#df-e557d897-1d29-4afd-b7d4-f194908c9abe button.colab-df-convert');\n",
              "        buttonEl.style.display =\n",
              "          google.colab.kernel.accessAllowed ? 'block' : 'none';\n",
              "\n",
              "        async function convertToInteractive(key) {\n",
              "          const element = document.querySelector('#df-e557d897-1d29-4afd-b7d4-f194908c9abe');\n",
              "          const dataTable =\n",
              "            await google.colab.kernel.invokeFunction('convertToInteractive',\n",
              "                                                     [key], {});\n",
              "          if (!dataTable) return;\n",
              "\n",
              "          const docLinkHtml = 'Like what you see? Visit the ' +\n",
              "            '<a target=\"_blank\" href=https://colab.research.google.com/notebooks/data_table.ipynb>data table notebook</a>'\n",
              "            + ' to learn more about interactive tables.';\n",
              "          element.innerHTML = '';\n",
              "          dataTable['output_type'] = 'display_data';\n",
              "          await google.colab.output.renderOutput(dataTable, element);\n",
              "          const docLink = document.createElement('div');\n",
              "          docLink.innerHTML = docLinkHtml;\n",
              "          element.appendChild(docLink);\n",
              "        }\n",
              "      </script>\n",
              "    </div>\n",
              "  </div>\n",
              "  "
            ]
          },
          "metadata": {},
          "execution_count": 20
        }
      ],
      "source": [
        "#Display the first five entries in the data frame top3_df\n",
        "top3_df.head()"
      ]
    },
    {
      "cell_type": "markdown",
      "metadata": {
        "id": "Ec8FxTqmhYc5"
      },
      "source": [
        "Let's create a list that contains the labels, as well as 2 dictionaries that map labels to integers and back."
      ]
    },
    {
      "cell_type": "code",
      "execution_count": null,
      "metadata": {
        "colab": {
          "base_uri": "https://localhost:8080/",
          "height": 82
        },
        "id": "oMCdQQZzhbEO",
        "outputId": "7fcf1ac8-c205-49c3-f6a7-0772b7db3b85"
      },
      "outputs": [
        {
          "output_type": "execute_result",
          "data": {
            "text/plain": [
              "   Banking Services  Card Services  Credit Reporting  Debt Collection  Loans  \\\n",
              "0                 0              1                 2                3      4   \n",
              "\n",
              "   Mortgage  \n",
              "0         5  "
            ],
            "text/html": [
              "\n",
              "  <div id=\"df-83281502-f831-4e9e-89aa-7bce765a303f\">\n",
              "    <div class=\"colab-df-container\">\n",
              "      <div>\n",
              "<style scoped>\n",
              "    .dataframe tbody tr th:only-of-type {\n",
              "        vertical-align: middle;\n",
              "    }\n",
              "\n",
              "    .dataframe tbody tr th {\n",
              "        vertical-align: top;\n",
              "    }\n",
              "\n",
              "    .dataframe thead th {\n",
              "        text-align: right;\n",
              "    }\n",
              "</style>\n",
              "<table border=\"1\" class=\"dataframe\">\n",
              "  <thead>\n",
              "    <tr style=\"text-align: right;\">\n",
              "      <th></th>\n",
              "      <th>Banking Services</th>\n",
              "      <th>Card Services</th>\n",
              "      <th>Credit Reporting</th>\n",
              "      <th>Debt Collection</th>\n",
              "      <th>Loans</th>\n",
              "      <th>Mortgage</th>\n",
              "    </tr>\n",
              "  </thead>\n",
              "  <tbody>\n",
              "    <tr>\n",
              "      <th>0</th>\n",
              "      <td>0</td>\n",
              "      <td>1</td>\n",
              "      <td>2</td>\n",
              "      <td>3</td>\n",
              "      <td>4</td>\n",
              "      <td>5</td>\n",
              "    </tr>\n",
              "  </tbody>\n",
              "</table>\n",
              "</div>\n",
              "      <button class=\"colab-df-convert\" onclick=\"convertToInteractive('df-83281502-f831-4e9e-89aa-7bce765a303f')\"\n",
              "              title=\"Convert this dataframe to an interactive table.\"\n",
              "              style=\"display:none;\">\n",
              "        \n",
              "  <svg xmlns=\"http://www.w3.org/2000/svg\" height=\"24px\"viewBox=\"0 0 24 24\"\n",
              "       width=\"24px\">\n",
              "    <path d=\"M0 0h24v24H0V0z\" fill=\"none\"/>\n",
              "    <path d=\"M18.56 5.44l.94 2.06.94-2.06 2.06-.94-2.06-.94-.94-2.06-.94 2.06-2.06.94zm-11 1L8.5 8.5l.94-2.06 2.06-.94-2.06-.94L8.5 2.5l-.94 2.06-2.06.94zm10 10l.94 2.06.94-2.06 2.06-.94-2.06-.94-.94-2.06-.94 2.06-2.06.94z\"/><path d=\"M17.41 7.96l-1.37-1.37c-.4-.4-.92-.59-1.43-.59-.52 0-1.04.2-1.43.59L10.3 9.45l-7.72 7.72c-.78.78-.78 2.05 0 2.83L4 21.41c.39.39.9.59 1.41.59.51 0 1.02-.2 1.41-.59l7.78-7.78 2.81-2.81c.8-.78.8-2.07 0-2.86zM5.41 20L4 18.59l7.72-7.72 1.47 1.35L5.41 20z\"/>\n",
              "  </svg>\n",
              "      </button>\n",
              "      \n",
              "  <style>\n",
              "    .colab-df-container {\n",
              "      display:flex;\n",
              "      flex-wrap:wrap;\n",
              "      gap: 12px;\n",
              "    }\n",
              "\n",
              "    .colab-df-convert {\n",
              "      background-color: #E8F0FE;\n",
              "      border: none;\n",
              "      border-radius: 50%;\n",
              "      cursor: pointer;\n",
              "      display: none;\n",
              "      fill: #1967D2;\n",
              "      height: 32px;\n",
              "      padding: 0 0 0 0;\n",
              "      width: 32px;\n",
              "    }\n",
              "\n",
              "    .colab-df-convert:hover {\n",
              "      background-color: #E2EBFA;\n",
              "      box-shadow: 0px 1px 2px rgba(60, 64, 67, 0.3), 0px 1px 3px 1px rgba(60, 64, 67, 0.15);\n",
              "      fill: #174EA6;\n",
              "    }\n",
              "\n",
              "    [theme=dark] .colab-df-convert {\n",
              "      background-color: #3B4455;\n",
              "      fill: #D2E3FC;\n",
              "    }\n",
              "\n",
              "    [theme=dark] .colab-df-convert:hover {\n",
              "      background-color: #434B5C;\n",
              "      box-shadow: 0px 1px 3px 1px rgba(0, 0, 0, 0.15);\n",
              "      filter: drop-shadow(0px 1px 2px rgba(0, 0, 0, 0.3));\n",
              "      fill: #FFFFFF;\n",
              "    }\n",
              "  </style>\n",
              "\n",
              "      <script>\n",
              "        const buttonEl =\n",
              "          document.querySelector('#df-83281502-f831-4e9e-89aa-7bce765a303f button.colab-df-convert');\n",
              "        buttonEl.style.display =\n",
              "          google.colab.kernel.accessAllowed ? 'block' : 'none';\n",
              "\n",
              "        async function convertToInteractive(key) {\n",
              "          const element = document.querySelector('#df-83281502-f831-4e9e-89aa-7bce765a303f');\n",
              "          const dataTable =\n",
              "            await google.colab.kernel.invokeFunction('convertToInteractive',\n",
              "                                                     [key], {});\n",
              "          if (!dataTable) return;\n",
              "\n",
              "          const docLinkHtml = 'Like what you see? Visit the ' +\n",
              "            '<a target=\"_blank\" href=https://colab.research.google.com/notebooks/data_table.ipynb>data table notebook</a>'\n",
              "            + ' to learn more about interactive tables.';\n",
              "          element.innerHTML = '';\n",
              "          dataTable['output_type'] = 'display_data';\n",
              "          await google.colab.output.renderOutput(dataTable, element);\n",
              "          const docLink = document.createElement('div');\n",
              "          docLink.innerHTML = docLinkHtml;\n",
              "          element.appendChild(docLink);\n",
              "        }\n",
              "      </script>\n",
              "    </div>\n",
              "  </div>\n",
              "  "
            ]
          },
          "metadata": {},
          "execution_count": 21
        }
      ],
      "source": [
        "labels2id_df = pd.read_csv(label2id_df_path)\n",
        "labels2id_df"
      ]
    },
    {
      "cell_type": "code",
      "execution_count": null,
      "metadata": {
        "id": "bLQPkvLhhd0d"
      },
      "outputs": [],
      "source": [
        "labels = labels2id_df.columns.to_list()\n",
        "ids = [int(i) for i in labels2id_df.loc[0,:]]\n",
        "id2label = {A: B for A, B in zip(ids, labels)} \n",
        "label2id = {A: B for A, B in zip(labels,ids)} \n",
        "labels = list(labels)"
      ]
    },
    {
      "cell_type": "markdown",
      "metadata": {
        "id": "R6NCl_g6hhXb"
      },
      "source": [
        "The dataset consists of 6 labels."
      ]
    },
    {
      "cell_type": "code",
      "source": [
        "from sklearn.metrics import confusion_matrix\n",
        "import matplotlib.pyplot as plt\n",
        "import seaborn as sns\n",
        "True_labels = top3_df[\"true_label\"].to_list() \n",
        "Predicted_labels = top3_df[\"predicted_label_1\"].to_list() \n",
        "cm = confusion_matrix(True_labels, Predicted_labels)\n",
        "#plot the confusion matrix\n",
        "print(\"The confusion matrix is : \\n\")\n",
        "plt.figure(figsize=(20,15))\n",
        "sns.set(font_scale=1.25)\n",
        "ax =sns.heatmap(cm, annot=True, fmt='d',cbar=False,xticklabels=labels, yticklabels=labels,cmap=\"YlOrBr\",annot_kws={\"size\": 18})\n",
        "ax.set(xlabel='Predicted Labels', ylabel='True Labels')\n",
        "plt.show()"
      ],
      "metadata": {
        "colab": {
          "base_uri": "https://localhost:8080/",
          "height": 926
        },
        "id": "jFuI4vYp_1mU",
        "outputId": "479c5bfd-c11f-4f7a-9bb0-b046e85ea24f"
      },
      "execution_count": null,
      "outputs": [
        {
          "output_type": "stream",
          "name": "stdout",
          "text": [
            "The confusion matrix is : \n",
            "\n"
          ]
        },
        {
          "output_type": "display_data",
          "data": {
            "text/plain": [
              "<Figure size 1440x1080 with 1 Axes>"
            ],
            "image/png": "[encoded data removed]"
          },
          "metadata": {}
        }
      ]
    },
    {
      "cell_type": "code",
      "source": [
        "#Display Classification Report\n",
        "from sklearn.metrics import classification_report\n",
        "print(classification_report(True_labels, Predicted_labels,zero_division=0))"
      ],
      "metadata": {
        "colab": {
          "base_uri": "https://localhost:8080/"
        },
        "id": "b3eqNAVHEQj6",
        "outputId": "0650344a-b325-4d15-a12c-72fbf1db845f"
      },
      "execution_count": null,
      "outputs": [
        {
          "output_type": "stream",
          "name": "stdout",
          "text": [
            "                  precision    recall  f1-score   support\n",
            "\n",
            "Banking Services       0.89      0.90      0.90      1000\n",
            "   Card Services       0.85      0.85      0.85      1000\n",
            "Credit Reporting       0.85      0.79      0.82      1000\n",
            " Debt Collection       0.82      0.86      0.84      1000\n",
            "           Loans       0.86      0.86      0.86      1000\n",
            "        Mortgage       0.93      0.93      0.93      1000\n",
            "\n",
            "        accuracy                           0.87      6000\n",
            "       macro avg       0.87      0.87      0.87      6000\n",
            "    weighted avg       0.87      0.87      0.87      6000\n",
            "\n"
          ]
        }
      ]
    },
    {
      "cell_type": "code",
      "source": [
        "# Calculate the First Prediction Percentages\n",
        "top3_df[\"First_Prediction_Percentage\"] = (top3_df[\"true_label\"]  == top3_df['predicted_label_1']) * 100\n",
        "# Calculate the First and Second Prediction Percentages\n",
        "top3_df[\"First_and_Second_Prediction_Percentage\"] = ((top3_df[\"true_label\"]  == top3_df['predicted_label_1']) |((top3_df[\"true_label\"]  == top3_df['predicted_label_2']))) * 100"
      ],
      "metadata": {
        "id": "QxKiuLfZCji1"
      },
      "execution_count": null,
      "outputs": []
    },
    {
      "cell_type": "code",
      "source": [
        "# Calculate the accuracy of First and Second Predictions\n",
        "accuracy_df = top3_df.loc[:,['true_label',\"First_Prediction_Percentage\", \"First_and_Second_Prediction_Percentage\"]].groupby('true_label').mean() \n",
        "accuracy_df "
      ],
      "metadata": {
        "colab": {
          "base_uri": "https://localhost:8080/",
          "height": 270
        },
        "id": "K7enUIhvFctw",
        "outputId": "2fdce3a8-4ac5-436d-fc1d-21a391099f8a"
      },
      "execution_count": null,
      "outputs": [
        {
          "output_type": "execute_result",
          "data": {
            "text/plain": [
              "                  First_Prediction_Percentage  \\\n",
              "true_label                                      \n",
              "Banking Services                         90.0   \n",
              "Card Services                            85.4   \n",
              "Credit Reporting                         79.4   \n",
              "Debt Collection                          86.0   \n",
              "Loans                                    86.2   \n",
              "Mortgage                                 92.9   \n",
              "\n",
              "                  First_and_Second_Prediction_Percentage  \n",
              "true_label                                                \n",
              "Banking Services                                    97.0  \n",
              "Card Services                                       95.9  \n",
              "Credit Reporting                                    95.2  \n",
              "Debt Collection                                     95.8  \n",
              "Loans                                               95.3  \n",
              "Mortgage                                            95.7  "
            ],
            "text/html": [
              "\n",
              "  <div id=\"df-b383d454-936b-4490-9074-c0052b4a40ec\">\n",
              "    <div class=\"colab-df-container\">\n",
              "      <div>\n",
              "<style scoped>\n",
              "    .dataframe tbody tr th:only-of-type {\n",
              "        vertical-align: middle;\n",
              "    }\n",
              "\n",
              "    .dataframe tbody tr th {\n",
              "        vertical-align: top;\n",
              "    }\n",
              "\n",
              "    .dataframe thead th {\n",
              "        text-align: right;\n",
              "    }\n",
              "</style>\n",
              "<table border=\"1\" class=\"dataframe\">\n",
              "  <thead>\n",
              "    <tr style=\"text-align: right;\">\n",
              "      <th></th>\n",
              "      <th>First_Prediction_Percentage</th>\n",
              "      <th>First_and_Second_Prediction_Percentage</th>\n",
              "    </tr>\n",
              "    <tr>\n",
              "      <th>true_label</th>\n",
              "      <th></th>\n",
              "      <th></th>\n",
              "    </tr>\n",
              "  </thead>\n",
              "  <tbody>\n",
              "    <tr>\n",
              "      <th>Banking Services</th>\n",
              "      <td>90.0</td>\n",
              "      <td>97.0</td>\n",
              "    </tr>\n",
              "    <tr>\n",
              "      <th>Card Services</th>\n",
              "      <td>85.4</td>\n",
              "      <td>95.9</td>\n",
              "    </tr>\n",
              "    <tr>\n",
              "      <th>Credit Reporting</th>\n",
              "      <td>79.4</td>\n",
              "      <td>95.2</td>\n",
              "    </tr>\n",
              "    <tr>\n",
              "      <th>Debt Collection</th>\n",
              "      <td>86.0</td>\n",
              "      <td>95.8</td>\n",
              "    </tr>\n",
              "    <tr>\n",
              "      <th>Loans</th>\n",
              "      <td>86.2</td>\n",
              "      <td>95.3</td>\n",
              "    </tr>\n",
              "    <tr>\n",
              "      <th>Mortgage</th>\n",
              "      <td>92.9</td>\n",
              "      <td>95.7</td>\n",
              "    </tr>\n",
              "  </tbody>\n",
              "</table>\n",
              "</div>\n",
              "      <button class=\"colab-df-convert\" onclick=\"convertToInteractive('df-b383d454-936b-4490-9074-c0052b4a40ec')\"\n",
              "              title=\"Convert this dataframe to an interactive table.\"\n",
              "              style=\"display:none;\">\n",
              "        \n",
              "  <svg xmlns=\"http://www.w3.org/2000/svg\" height=\"24px\"viewBox=\"0 0 24 24\"\n",
              "       width=\"24px\">\n",
              "    <path d=\"M0 0h24v24H0V0z\" fill=\"none\"/>\n",
              "    <path d=\"M18.56 5.44l.94 2.06.94-2.06 2.06-.94-2.06-.94-.94-2.06-.94 2.06-2.06.94zm-11 1L8.5 8.5l.94-2.06 2.06-.94-2.06-.94L8.5 2.5l-.94 2.06-2.06.94zm10 10l.94 2.06.94-2.06 2.06-.94-2.06-.94-.94-2.06-.94 2.06-2.06.94z\"/><path d=\"M17.41 7.96l-1.37-1.37c-.4-.4-.92-.59-1.43-.59-.52 0-1.04.2-1.43.59L10.3 9.45l-7.72 7.72c-.78.78-.78 2.05 0 2.83L4 21.41c.39.39.9.59 1.41.59.51 0 1.02-.2 1.41-.59l7.78-7.78 2.81-2.81c.8-.78.8-2.07 0-2.86zM5.41 20L4 18.59l7.72-7.72 1.47 1.35L5.41 20z\"/>\n",
              "  </svg>\n",
              "      </button>\n",
              "      \n",
              "  <style>\n",
              "    .colab-df-container {\n",
              "      display:flex;\n",
              "      flex-wrap:wrap;\n",
              "      gap: 12px;\n",
              "    }\n",
              "\n",
              "    .colab-df-convert {\n",
              "      background-color: #E8F0FE;\n",
              "      border: none;\n",
              "      border-radius: 50%;\n",
              "      cursor: pointer;\n",
              "      display: none;\n",
              "      fill: #1967D2;\n",
              "      height: 32px;\n",
              "      padding: 0 0 0 0;\n",
              "      width: 32px;\n",
              "    }\n",
              "\n",
              "    .colab-df-convert:hover {\n",
              "      background-color: #E2EBFA;\n",
              "      box-shadow: 0px 1px 2px rgba(60, 64, 67, 0.3), 0px 1px 3px 1px rgba(60, 64, 67, 0.15);\n",
              "      fill: #174EA6;\n",
              "    }\n",
              "\n",
              "    [theme=dark] .colab-df-convert {\n",
              "      background-color: #3B4455;\n",
              "      fill: #D2E3FC;\n",
              "    }\n",
              "\n",
              "    [theme=dark] .colab-df-convert:hover {\n",
              "      background-color: #434B5C;\n",
              "      box-shadow: 0px 1px 3px 1px rgba(0, 0, 0, 0.15);\n",
              "      filter: drop-shadow(0px 1px 2px rgba(0, 0, 0, 0.3));\n",
              "      fill: #FFFFFF;\n",
              "    }\n",
              "  </style>\n",
              "\n",
              "      <script>\n",
              "        const buttonEl =\n",
              "          document.querySelector('#df-b383d454-936b-4490-9074-c0052b4a40ec button.colab-df-convert');\n",
              "        buttonEl.style.display =\n",
              "          google.colab.kernel.accessAllowed ? 'block' : 'none';\n",
              "\n",
              "        async function convertToInteractive(key) {\n",
              "          const element = document.querySelector('#df-b383d454-936b-4490-9074-c0052b4a40ec');\n",
              "          const dataTable =\n",
              "            await google.colab.kernel.invokeFunction('convertToInteractive',\n",
              "                                                     [key], {});\n",
              "          if (!dataTable) return;\n",
              "\n",
              "          const docLinkHtml = 'Like what you see? Visit the ' +\n",
              "            '<a target=\"_blank\" href=https://colab.research.google.com/notebooks/data_table.ipynb>data table notebook</a>'\n",
              "            + ' to learn more about interactive tables.';\n",
              "          element.innerHTML = '';\n",
              "          dataTable['output_type'] = 'display_data';\n",
              "          await google.colab.output.renderOutput(dataTable, element);\n",
              "          const docLink = document.createElement('div');\n",
              "          docLink.innerHTML = docLinkHtml;\n",
              "          element.appendChild(docLink);\n",
              "        }\n",
              "      </script>\n",
              "    </div>\n",
              "  </div>\n",
              "  "
            ]
          },
          "metadata": {},
          "execution_count": 27
        }
      ]
    }
  ],
  "metadata": {
    "colab": {
      "collapsed_sections": [],
      "name": "Part3_Predicting_and_Inference_using_Pipeline.ipynb",
      "provenance": []
    },
    "kernelspec": {
      "display_name": "Python 3 (ipykernel)",
      "language": "python",
      "name": "python3"
    },
    "language_info": {
      "codemirror_mode": {
        "name": "ipython",
        "version": 3
      },
      "file_extension": ".py",
      "mimetype": "text/x-python",
      "name": "python",
      "nbconvert_exporter": "python",
      "pygments_lexer": "ipython3",
      "version": "3.9.7"
    }
  },
  "nbformat": 4,
  "nbformat_minor": 0
}